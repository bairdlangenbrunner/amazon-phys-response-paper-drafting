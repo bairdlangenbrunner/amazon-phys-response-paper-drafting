{
 "cells": [
  {
   "cell_type": "code",
   "execution_count": 2,
   "metadata": {
    "ExecuteTime": {
     "end_time": "2018-08-16T00:25:14.617158Z",
     "start_time": "2018-08-16T00:25:12.048605Z"
    }
   },
   "outputs": [],
   "source": [
    "import numpy\n",
    "import xarray\n",
    "import matplotlib\n",
    "import matplotlib.pyplot as mp\n",
    "import datetime\n",
    "import matplotlib.colors\n",
    "import scipy.stats\n",
    "import itertools\n",
    "import string\n",
    "import matplotlib.patches\n",
    "import pandas\n",
    "import glob\n",
    "import netCDF4\n",
    "import matplotlib.dates\n",
    "import matplotlib.gridspec\n",
    "\n",
    "import matplotlib.ticker\n",
    "import cartopy.mpl.gridliner #import LONGITUDE_FORMATTER, LATITUDE_FORMATTER\n",
    "\n",
    "import mpl_toolkits\n",
    "import cartopy\n",
    "\n",
    "DEGREE_SIGN = u'\\u00B0'\n",
    "mp.rcParams.update({'mathtext.default': 'regular'})\n",
    "\n",
    "% matplotlib inline"
   ]
  },
  {
   "cell_type": "code",
   "execution_count": 3,
   "metadata": {
    "ExecuteTime": {
     "end_time": "2018-08-16T00:25:14.631775Z",
     "start_time": "2018-08-16T00:25:14.625990Z"
    }
   },
   "outputs": [],
   "source": [
    "run_info = 'FMAASO'\n",
    "skip_time=0"
   ]
  },
  {
   "cell_type": "code",
   "execution_count": 4,
   "metadata": {
    "ExecuteTime": {
     "end_time": "2018-08-16T00:25:15.092987Z",
     "start_time": "2018-08-16T00:25:14.639728Z"
    }
   },
   "outputs": [],
   "source": [
    "geo_em_ncfile = xarray.open_dataset('/beegfs/DATA/pritchard/blangenb/WRF_ARCHIVE/CHEYENNE/FMAASO/geo_em.d01_amazon_50km.nc')\n",
    "HGT_M = geo_em_ncfile.variables['HGT_M'].data[0,:,:]"
   ]
  },
  {
   "cell_type": "markdown",
   "metadata": {},
   "source": [
    "# import FMAASO 400 data"
   ]
  },
  {
   "cell_type": "code",
   "execution_count": 5,
   "metadata": {
    "ExecuteTime": {
     "end_time": "2018-08-16T00:25:16.429280Z",
     "start_time": "2018-08-16T00:25:15.101405Z"
    }
   },
   "outputs": [],
   "source": [
    "root_dir = '/beegfs/DATA/pritchard/blangenb/WRF_ARCHIVE/CHEYENNE/FMAASO/400/ens_mean_wrfout_files'\n",
    "file_list = glob.glob(root_dir+'/'+'wrfout*.nc')\n",
    "ds_list = [netCDF4.Dataset(file) for file in file_list]"
   ]
  },
  {
   "cell_type": "code",
   "execution_count": 6,
   "metadata": {
    "ExecuteTime": {
     "end_time": "2018-08-16T00:25:24.138557Z",
     "start_time": "2018-08-16T00:25:16.437827Z"
    }
   },
   "outputs": [],
   "source": [
    "cont_mfds = xarray.open_mfdataset(root_dir + '/' + 'wrfout*.nc')"
   ]
  },
  {
   "cell_type": "code",
   "execution_count": 7,
   "metadata": {
    "ExecuteTime": {
     "end_time": "2018-08-16T00:28:10.181571Z",
     "start_time": "2018-08-16T00:25:24.147139Z"
    }
   },
   "outputs": [],
   "source": [
    "ptot_400 = numpy.load('DATA_ptot_400.npy')\n",
    "\n",
    "wa_400 = numpy.load('DATA_wa_400.npy')\n",
    "\n",
    "ua_400 = numpy.load('DATA_ua_400.npy')\n",
    "\n",
    "geopot_400 = numpy.load('DATA_geopot_400.npy')"
   ]
  },
  {
   "cell_type": "code",
   "execution_count": 8,
   "metadata": {
    "ExecuteTime": {
     "end_time": "2018-08-16T00:28:10.197787Z",
     "start_time": "2018-08-16T00:28:10.189899Z"
    }
   },
   "outputs": [],
   "source": [
    "rainc_400 = cont_mfds['RAINC']\n",
    "rainnc_400 = cont_mfds['RAINNC']\n",
    "qvapor_400 = cont_mfds['QVAPOR']"
   ]
  },
  {
   "cell_type": "code",
   "execution_count": 9,
   "metadata": {
    "ExecuteTime": {
     "end_time": "2018-08-16T00:28:48.589042Z",
     "start_time": "2018-08-16T00:28:10.207138Z"
    }
   },
   "outputs": [],
   "source": [
    "time = cont_mfds['Times'].values\n",
    "xlat = cont_mfds['XLAT'].values[0,:,:]\n",
    "xlong = cont_mfds['XLONG'].values[0,:,:]\n",
    "landmask = cont_mfds['LANDMASK'].values[0,:,:]\n",
    "landmask_midpoints = landmask[1:,1:]"
   ]
  },
  {
   "cell_type": "markdown",
   "metadata": {},
   "source": [
    "# import FMAASO 1000 data"
   ]
  },
  {
   "cell_type": "code",
   "execution_count": 10,
   "metadata": {
    "ExecuteTime": {
     "end_time": "2018-08-16T00:28:49.759686Z",
     "start_time": "2018-08-16T00:28:48.597384Z"
    }
   },
   "outputs": [],
   "source": [
    "root_dir = '/beegfs/DATA/pritchard/blangenb/WRF_ARCHIVE/CHEYENNE/FMAASO/1000/ens_mean_wrfout_files'\n",
    "file_list = glob.glob(root_dir+'/'+'wrfout*.nc')\n",
    "ds_list = [netCDF4.Dataset(file) for file in file_list]"
   ]
  },
  {
   "cell_type": "code",
   "execution_count": 11,
   "metadata": {
    "ExecuteTime": {
     "end_time": "2018-08-16T00:28:58.063693Z",
     "start_time": "2018-08-16T00:28:49.768132Z"
    }
   },
   "outputs": [],
   "source": [
    "phys_mfds = xarray.open_mfdataset(root_dir + '/' + 'wrfout*.nc')"
   ]
  },
  {
   "cell_type": "code",
   "execution_count": 12,
   "metadata": {
    "ExecuteTime": {
     "end_time": "2018-08-16T00:31:42.187274Z",
     "start_time": "2018-08-16T00:28:58.072282Z"
    }
   },
   "outputs": [],
   "source": [
    "ptot_400 = numpy.load('DATA_ptot_400.npy')\n",
    "\n",
    "wa_1000 = numpy.load('DATA_wa_1000.npy')\n",
    "\n",
    "ua_1000 = numpy.load('DATA_ua_1000.npy')\n",
    "\n",
    "geopot_1000 = numpy.load('DATA_geopot_1000.npy')"
   ]
  },
  {
   "cell_type": "code",
   "execution_count": 13,
   "metadata": {
    "ExecuteTime": {
     "end_time": "2018-08-16T00:31:42.195576Z",
     "start_time": "2018-08-16T00:31:42.189625Z"
    }
   },
   "outputs": [],
   "source": [
    "rainc_1000 = phys_mfds['RAINC']\n",
    "rainnc_1000 = phys_mfds['RAINNC']\n",
    "qvapor_1000 = phys_mfds['QVAPOR']"
   ]
  },
  {
   "cell_type": "markdown",
   "metadata": {},
   "source": [
    "# get time stamps"
   ]
  },
  {
   "cell_type": "code",
   "execution_count": 14,
   "metadata": {
    "ExecuteTime": {
     "end_time": "2018-08-16T00:31:42.325157Z",
     "start_time": "2018-08-16T00:31:42.209484Z"
    }
   },
   "outputs": [],
   "source": [
    "time_datetimes = pandas.to_datetime([i.decode('utf-8') for i in time], format = '%Y-%m-%d_%H:%M:%S')"
   ]
  },
  {
   "cell_type": "code",
   "execution_count": 15,
   "metadata": {
    "ExecuteTime": {
     "end_time": "2018-08-16T00:31:42.433225Z",
     "start_time": "2018-08-16T00:31:42.330316Z"
    }
   },
   "outputs": [],
   "source": [
    "lat_hi = 10.\n",
    "lat_lo = -10.\n",
    "# subset between lat_hi and lat_lo\n",
    "lat_indices = (xlat<=lat_hi)&(xlat>=lat_lo)"
   ]
  },
  {
   "cell_type": "markdown",
   "metadata": {},
   "source": [
    "# qvapor diffs"
   ]
  },
  {
   "cell_type": "code",
   "execution_count": 16,
   "metadata": {
    "ExecuteTime": {
     "end_time": "2018-08-16T00:32:35.160012Z",
     "start_time": "2018-08-16T00:31:42.435955Z"
    }
   },
   "outputs": [],
   "source": [
    "qvapor_diffs = qvapor_1000 - qvapor_400"
   ]
  },
  {
   "cell_type": "raw",
   "metadata": {},
   "source": [
    "qvapor_diffs_landmask = numpy.copy(qvapor_diffs)\n",
    "qvapor_diffs_landmask[:,:,landmask==0]=numpy.nan\n",
    "\n",
    "qvapor_400_landmask = numpy.copy(qvapor_400)\n",
    "qvapor_400_landmask[:,:,landmask==0]=numpy.nan"
   ]
  },
  {
   "cell_type": "code",
   "execution_count": 17,
   "metadata": {
    "ExecuteTime": {
     "end_time": "2018-08-16T00:32:35.191613Z",
     "start_time": "2018-08-16T00:32:35.162382Z"
    }
   },
   "outputs": [],
   "source": [
    "qvapor_diffs_lat_subset = qvapor_diffs[:,:,lat_indices[:,0],:]\n",
    "qvapor_400_lat_subset = qvapor_400[:,:,lat_indices[:,0],:]"
   ]
  },
  {
   "cell_type": "code",
   "execution_count": 18,
   "metadata": {
    "ExecuteTime": {
     "end_time": "2018-08-16T00:36:36.719190Z",
     "start_time": "2018-08-16T00:32:35.194028Z"
    }
   },
   "outputs": [],
   "source": [
    "qvapor_diffs_lat_mean = numpy.nanmean(qvapor_diffs_lat_subset, axis=2)\n",
    "qvapor_400_lat_mean = numpy.nanmean(qvapor_400_lat_subset, axis=2)"
   ]
  },
  {
   "cell_type": "markdown",
   "metadata": {},
   "source": [
    "# ptot diffs"
   ]
  },
  {
   "cell_type": "code",
   "execution_count": 19,
   "metadata": {
    "ExecuteTime": {
     "end_time": "2018-08-16T00:36:38.181031Z",
     "start_time": "2018-08-16T00:36:36.727655Z"
    }
   },
   "outputs": [],
   "source": [
    "ptot_400_lat_subset = ptot_400[:,:,lat_indices[:,0],:]\n",
    "ptot_400_lat_mean = numpy.nanmean(ptot_400_lat_subset, axis=2)\n",
    "ptot_400_lat_time_mean = numpy.nanmean(ptot_400_lat_mean, axis=0)"
   ]
  },
  {
   "cell_type": "markdown",
   "metadata": {},
   "source": [
    "# raintot diffs"
   ]
  },
  {
   "cell_type": "code",
   "execution_count": 20,
   "metadata": {
    "ExecuteTime": {
     "end_time": "2018-08-16T00:36:42.870085Z",
     "start_time": "2018-08-16T00:36:38.189400Z"
    }
   },
   "outputs": [],
   "source": [
    "raintot_400 = rainc_400+rainnc_400\n",
    "raintot_1000 = rainc_1000+rainnc_1000\n",
    "\n",
    "raintot_diffs = raintot_1000-raintot_400\n",
    "\n",
    "raintot_diffs_lat_subset = raintot_diffs[:,lat_indices[:,0],:]\n",
    "raintot_400_lat_subset = raintot_400[:,lat_indices[:,0],:]"
   ]
  },
  {
   "cell_type": "code",
   "execution_count": 21,
   "metadata": {
    "ExecuteTime": {
     "end_time": "2018-08-16T00:36:42.890538Z",
     "start_time": "2018-08-16T00:36:42.878645Z"
    }
   },
   "outputs": [
    {
     "data": {
      "text/plain": [
       "(241, 45, 289)"
      ]
     },
     "execution_count": 21,
     "metadata": {},
     "output_type": "execute_result"
    }
   ],
   "source": [
    "raintot_diffs_lat_subset.shape"
   ]
  },
  {
   "cell_type": "code",
   "execution_count": 22,
   "metadata": {
    "ExecuteTime": {
     "end_time": "2018-08-16T00:37:42.034533Z",
     "start_time": "2018-08-16T00:36:42.898680Z"
    }
   },
   "outputs": [
    {
     "name": "stderr",
     "output_type": "stream",
     "text": [
      "/export/home/blangenb/miniconda3/lib/python3.6/site-packages/ipykernel_launcher.py:3: RuntimeWarning: Mean of empty slice\n",
      "  This is separate from the ipykernel package so we can avoid doing imports until\n"
     ]
    }
   ],
   "source": [
    "raintot_hourly_diffs_lat_subset = numpy.zeros((raintot_diffs_lat_subset.shape))*numpy.nan\n",
    "raintot_hourly_diffs_lat_subset[1:,:,:] = numpy.diff(raintot_diffs_lat_subset, axis=0)\n",
    "raintot_hourly_diffs_lat_mean = numpy.nanmean(raintot_hourly_diffs_lat_subset, axis=1)"
   ]
  },
  {
   "cell_type": "markdown",
   "metadata": {},
   "source": [
    "# geopot 400"
   ]
  },
  {
   "cell_type": "code",
   "execution_count": 23,
   "metadata": {
    "ExecuteTime": {
     "end_time": "2018-08-16T00:37:42.356542Z",
     "start_time": "2018-08-16T00:37:42.042706Z"
    }
   },
   "outputs": [],
   "source": [
    "geopot_400_lat_subset = geopot_400[:,:,lat_indices[:,0],:]"
   ]
  },
  {
   "cell_type": "code",
   "execution_count": 24,
   "metadata": {
    "ExecuteTime": {
     "end_time": "2018-08-16T00:37:42.374549Z",
     "start_time": "2018-08-16T00:37:42.364884Z"
    }
   },
   "outputs": [
    {
     "data": {
      "text/plain": [
       "(241, 29, 45, 289)"
      ]
     },
     "execution_count": 24,
     "metadata": {},
     "output_type": "execute_result"
    }
   ],
   "source": [
    "geopot_400_lat_subset.shape"
   ]
  },
  {
   "cell_type": "code",
   "execution_count": 25,
   "metadata": {
    "ExecuteTime": {
     "end_time": "2018-08-16T00:37:43.612923Z",
     "start_time": "2018-08-16T00:37:42.382707Z"
    }
   },
   "outputs": [],
   "source": [
    "geopot_400_lat_mean = numpy.nanmean(geopot_400_lat_subset, axis=2)"
   ]
  },
  {
   "cell_type": "code",
   "execution_count": 26,
   "metadata": {
    "ExecuteTime": {
     "end_time": "2018-08-16T00:37:43.643666Z",
     "start_time": "2018-08-16T00:37:43.621265Z"
    }
   },
   "outputs": [],
   "source": [
    "geopot_400_lat_time_mean = numpy.nanmean(geopot_400_lat_mean, axis=0)"
   ]
  },
  {
   "cell_type": "markdown",
   "metadata": {},
   "source": [
    "# open mse from npy files"
   ]
  },
  {
   "cell_type": "raw",
   "metadata": {
    "ExecuteTime": {
     "end_time": "2018-03-15T21:05:20.825374Z",
     "start_time": "2018-03-15T21:05:18.725380Z"
    }
   },
   "source": [
    "mse_400 = numpy.load('./DATA_mse_400.npy')\n",
    "mse_1000 = numpy.load('./DATA_mse_1000.npy')"
   ]
  },
  {
   "cell_type": "raw",
   "metadata": {
    "ExecuteTime": {
     "end_time": "2018-03-15T21:05:21.871982Z",
     "start_time": "2018-03-15T21:05:21.023404Z"
    }
   },
   "source": [
    "mse_diffs = mse_1000 - mse_400"
   ]
  },
  {
   "cell_type": "raw",
   "metadata": {},
   "source": [
    "mse_diffs_landmask = numpy.copy(mse_diffs)\n",
    "mse_diffs_landmask[:,:,landmask==0]=numpy.nan\n",
    "\n",
    "mse_400_landmask = numpy.copy(mse_400)\n",
    "mse_400_landmask[:,:,landmask==0]=numpy.nan\n",
    "\n",
    "mse_1000_landmask = numpy.copy(mse_1000)\n",
    "mse_1000_landmask[:,:,landmask==0]=numpy.nan"
   ]
  },
  {
   "cell_type": "raw",
   "metadata": {
    "ExecuteTime": {
     "end_time": "2018-03-15T21:05:22.711254Z",
     "start_time": "2018-03-15T21:05:21.920598Z"
    }
   },
   "source": [
    "#mse_diffs_lat_subset = mse_diffs_landmask[:,:,lat_indices[:,0],:]\n",
    "#mse_400_lat_subset = mse_400_landmask[:,:,lat_indices[:,0],:]\n",
    "#mse_1000_lat_subset = mse_1000_landmask[:,:,lat_indices[:,0],:]\n",
    "\n",
    "mse_diffs_lat_subset = mse_diffs[:,:,lat_indices[:,0],:]\n",
    "mse_400_lat_subset = mse_400[:,:,lat_indices[:,0],:]\n",
    "mse_1000_lat_subset = mse_1000[:,:,lat_indices[:,0],:]"
   ]
  },
  {
   "cell_type": "raw",
   "metadata": {
    "ExecuteTime": {
     "end_time": "2018-03-15T21:05:23.991004Z",
     "start_time": "2018-03-15T21:05:22.713145Z"
    }
   },
   "source": [
    "mse_diffs_lat_mean = numpy.nanmean(mse_diffs_lat_subset, axis=2)\n",
    "mse_400_lat_mean = numpy.nanmean(mse_400_lat_subset, axis=2)"
   ]
  },
  {
   "cell_type": "markdown",
   "metadata": {},
   "source": [
    "# ua differences"
   ]
  },
  {
   "cell_type": "code",
   "execution_count": 27,
   "metadata": {
    "ExecuteTime": {
     "end_time": "2018-08-16T00:37:44.990826Z",
     "start_time": "2018-08-16T00:37:43.652237Z"
    }
   },
   "outputs": [],
   "source": [
    "ua_diffs = ua_1000-ua_400"
   ]
  },
  {
   "cell_type": "code",
   "execution_count": 28,
   "metadata": {
    "ExecuteTime": {
     "end_time": "2018-08-16T00:37:45.635988Z",
     "start_time": "2018-08-16T00:37:44.999378Z"
    }
   },
   "outputs": [],
   "source": [
    "ua_diffs_lat_subset = ua_diffs[:,:,lat_indices[:,0],:]\n",
    "ua_400_lat_subset = ua_400[:,:,lat_indices[:,0],:]"
   ]
  },
  {
   "cell_type": "code",
   "execution_count": 29,
   "metadata": {
    "ExecuteTime": {
     "end_time": "2018-08-16T00:37:47.882927Z",
     "start_time": "2018-08-16T00:37:45.644524Z"
    }
   },
   "outputs": [],
   "source": [
    "ua_diffs_lat_mean = numpy.nanmean(ua_diffs_lat_subset, axis=2)\n",
    "ua_400_lat_mean = numpy.nanmean(ua_400_lat_subset, axis=2)"
   ]
  },
  {
   "cell_type": "markdown",
   "metadata": {},
   "source": [
    "# wa differences"
   ]
  },
  {
   "cell_type": "code",
   "execution_count": 30,
   "metadata": {
    "ExecuteTime": {
     "end_time": "2018-08-16T00:37:48.898040Z",
     "start_time": "2018-08-16T00:37:47.891330Z"
    }
   },
   "outputs": [],
   "source": [
    "wa_diffs = wa_1000-wa_400"
   ]
  },
  {
   "cell_type": "code",
   "execution_count": 31,
   "metadata": {
    "ExecuteTime": {
     "end_time": "2018-08-16T00:37:49.545922Z",
     "start_time": "2018-08-16T00:37:48.906745Z"
    }
   },
   "outputs": [],
   "source": [
    "wa_diffs_lat_subset = wa_diffs[:,:,lat_indices[:,0],:]\n",
    "wa_400_lat_subset = wa_400[:,:,lat_indices[:,0],:]"
   ]
  },
  {
   "cell_type": "code",
   "execution_count": 32,
   "metadata": {
    "ExecuteTime": {
     "end_time": "2018-08-16T00:37:51.814449Z",
     "start_time": "2018-08-16T00:37:49.554465Z"
    }
   },
   "outputs": [],
   "source": [
    "wa_diffs_lat_mean = numpy.nanmean(wa_diffs_lat_subset, axis=2)\n",
    "wa_400_lat_mean = numpy.nanmean(wa_400_lat_subset, axis=2)"
   ]
  },
  {
   "cell_type": "markdown",
   "metadata": {},
   "source": [
    "# PBLH differences"
   ]
  },
  {
   "cell_type": "raw",
   "metadata": {
    "ExecuteTime": {
     "end_time": "2018-03-15T21:05:30.081930Z",
     "start_time": "2018-03-15T21:05:29.996894Z"
    }
   },
   "source": [
    "pblh_diffs = pblh_1000 - pblh_400"
   ]
  },
  {
   "cell_type": "raw",
   "metadata": {
    "ExecuteTime": {
     "end_time": "2018-03-15T21:05:30.824349Z",
     "start_time": "2018-03-15T21:05:30.083988Z"
    }
   },
   "source": [
    "pblh_diffs_landmask = numpy.copy(pblh_diffs)\n",
    "pblh_diffs_landmask[:,landmask==0]=numpy.nan\n",
    "pblh_diffs_landmask[pblh_diffs_landmask==9.96921e36]=numpy.nan"
   ]
  },
  {
   "cell_type": "raw",
   "metadata": {
    "ExecuteTime": {
     "end_time": "2018-03-15T21:05:31.121738Z",
     "start_time": "2018-03-15T21:05:30.826380Z"
    }
   },
   "source": [
    "pblh_400_landmask = numpy.copy(pblh_400)\n",
    "pblh_400_landmask[:,landmask==0]=numpy.nan\n",
    "#pblh_400_landmask[pblh_400_landmask==9.96921e36]=numpy.nan"
   ]
  },
  {
   "cell_type": "raw",
   "metadata": {
    "ExecuteTime": {
     "end_time": "2018-03-15T21:05:31.260173Z",
     "start_time": "2018-03-15T21:05:31.123600Z"
    }
   },
   "source": [
    "pblh_1000_landmask = numpy.copy(pblh_1000)\n",
    "pblh_1000_landmask[:,landmask==0]=numpy.nan\n",
    "#pblh_1000_landmask[pblh_1000_landmask==9.96921e36]=numpy.nan"
   ]
  },
  {
   "cell_type": "raw",
   "metadata": {
    "ExecuteTime": {
     "end_time": "2018-03-15T21:05:31.441694Z",
     "start_time": "2018-03-15T21:05:31.262038Z"
    }
   },
   "source": [
    "pblh_diffs_lat_subset = pblh_diffs_landmask[:,lat_indices[:,0],:]\n",
    "pblh_400_lat_subset = pblh_400_landmask[:,lat_indices[:,0],:]\n",
    "pblh_1000_lat_subset = pblh_1000_landmask[:,lat_indices[:,0],:]"
   ]
  },
  {
   "cell_type": "raw",
   "metadata": {
    "ExecuteTime": {
     "end_time": "2018-03-15T21:05:31.639845Z",
     "start_time": "2018-03-15T21:05:31.444275Z"
    }
   },
   "source": [
    "pblh_diffs_lat_mean = numpy.nanmean(pblh_diffs_lat_subset, axis=1)\n",
    "pblh_400_lat_mean = numpy.nanmean(pblh_400_lat_subset, axis=1)\n",
    "pblh_1000_lat_mean = numpy.nanmean(pblh_1000_lat_subset, axis=1)"
   ]
  },
  {
   "cell_type": "markdown",
   "metadata": {},
   "source": [
    "# Hövmoller"
   ]
  },
  {
   "cell_type": "markdown",
   "metadata": {},
   "source": [
    "# pick out based on geopotential height (1-3km)"
   ]
  },
  {
   "cell_type": "raw",
   "metadata": {
    "ExecuteTime": {
     "end_time": "2018-05-10T06:26:06.587198Z",
     "start_time": "2018-05-10T06:26:06.536254Z"
    }
   },
   "source": [
    "qvapor_diffs_lat_mean_1_3km = numpy.copy(qvapor_diffs_lat_mean)\n",
    "qvapor_diffs_lat_mean_1_3km[(geopot_400_lat_mean<10000.)|(geopot_400_lat_mean>30000.)] = numpy.nan\n",
    "qvapor_diffs_lat_mean_1_3km = numpy.nanmean(qvapor_diffs_lat_mean_1_3km, axis=1)"
   ]
  },
  {
   "cell_type": "raw",
   "metadata": {
    "ExecuteTime": {
     "end_time": "2018-05-10T06:11:09.706690Z",
     "start_time": "2018-05-10T06:11:09.657568Z"
    }
   },
   "source": [
    "qvapor_diffs_lat_mean_0_1km = numpy.copy(qvapor_diffs_lat_mean)\n",
    "qvapor_diffs_lat_mean_0_1km[(geopot_400_lat_mean>10000.)] = numpy.nan\n",
    "qvapor_diffs_lat_mean_0_1km = numpy.nanmean(qvapor_diffs_lat_mean_1_3km, axis=1)"
   ]
  },
  {
   "cell_type": "markdown",
   "metadata": {},
   "source": [
    "# pick out qvapor based on pressure"
   ]
  },
  {
   "cell_type": "code",
   "execution_count": 33,
   "metadata": {
    "ExecuteTime": {
     "end_time": "2018-08-16T00:37:51.865517Z",
     "start_time": "2018-08-16T00:37:51.822852Z"
    }
   },
   "outputs": [],
   "source": [
    "qvapor_diffs_lat_mean_850_700hPa = numpy.copy(qvapor_diffs_lat_mean)\n",
    "qvapor_diffs_lat_mean_850_700hPa[(ptot_400_lat_mean>90000.)|(ptot_400_lat_mean<70000.)] = numpy.nan\n",
    "qvapor_diffs_lat_mean_850_700hPa = numpy.nanmean(qvapor_diffs_lat_mean_850_700hPa, axis=1)"
   ]
  },
  {
   "cell_type": "raw",
   "metadata": {
    "ExecuteTime": {
     "end_time": "2018-05-10T06:11:09.706690Z",
     "start_time": "2018-05-10T06:11:09.657568Z"
    }
   },
   "source": [
    "qvapor_diffs_lat_mean_850_700hPa = numpy.copy(qvapor_diffs_lat_mean)\n",
    "qvapor_diffs_lat_mean_850_700hPa[(geopot_400_lat_mean>10000.)] = numpy.nan\n",
    "qvapor_diffs_lat_mean_850_700hPa = numpy.nanmean(qvapor_diffs_lat_mean_1_3km, axis=1)"
   ]
  },
  {
   "cell_type": "markdown",
   "metadata": {},
   "source": [
    "# pick out wa based on pressure"
   ]
  },
  {
   "cell_type": "code",
   "execution_count": 34,
   "metadata": {
    "ExecuteTime": {
     "end_time": "2018-08-16T00:37:51.989383Z",
     "start_time": "2018-08-16T00:37:51.874173Z"
    }
   },
   "outputs": [],
   "source": [
    "wa_diffs_lat_mean_700_200hPa = numpy.copy(wa_diffs_lat_mean)\n",
    "#wa_diffs_lat_mean_700_200hPa[(ptot_400_lat_mean>50000.)] = numpy.nan\n",
    "wa_diffs_lat_mean_700_200hPa = numpy.nanmean(wa_diffs_lat_mean_700_200hPa, axis=1)"
   ]
  },
  {
   "cell_type": "code",
   "execution_count": 35,
   "metadata": {
    "ExecuteTime": {
     "end_time": "2018-08-16T00:37:52.464078Z",
     "start_time": "2018-08-16T00:37:51.997936Z"
    }
   },
   "outputs": [
    {
     "data": {
      "text/plain": [
       "<matplotlib.colorbar.Colorbar at 0x2b8e06a81b70>"
      ]
     },
     "execution_count": 35,
     "metadata": {},
     "output_type": "execute_result"
    },
    {
     "data": {
      "image/png": "[encoded data removed]",
      "text/plain": [
       "<Figure size 432x288 with 2 Axes>"
      ]
     },
     "metadata": {},
     "output_type": "display_data"
    }
   ],
   "source": [
    "wa_diffs_lat_mean.shape\n",
    "mp.contourf(numpy.mean(wa_diffs_lat_mean[48:72,:,:],axis=0)*86400/1000, levels=numpy.arange(-.2,.21,.05), extend='both', cmap='RdBu')\n",
    "mp.colorbar()"
   ]
  },
  {
   "cell_type": "markdown",
   "metadata": {},
   "source": [
    "# calculate mean wind in the layers"
   ]
  },
  {
   "cell_type": "code",
   "execution_count": 36,
   "metadata": {
    "ExecuteTime": {
     "end_time": "2018-08-16T00:37:52.478475Z",
     "start_time": "2018-08-16T00:37:52.472425Z"
    }
   },
   "outputs": [],
   "source": [
    "lon_left = 285.\n",
    "lon_right = 315.\n",
    "xlong_indices_ua_calc = (xlong[0,:]+360. >= lon_left) & (xlong[0,:]+360 <= lon_right)"
   ]
  },
  {
   "cell_type": "code",
   "execution_count": 37,
   "metadata": {
    "ExecuteTime": {
     "end_time": "2018-08-16T00:37:52.651435Z",
     "start_time": "2018-08-16T00:37:52.486642Z"
    }
   },
   "outputs": [],
   "source": [
    "ua_400_lat_mean_850_700hPa = numpy.copy(ua_400_lat_mean)\n",
    "ua_400_lat_mean_850_700hPa[(ptot_400_lat_mean>90000.)|(ptot_400_lat_mean<70000.)] = numpy.nan\n",
    "ua_400_lat_mean_850_700hPa = numpy.nanmean(ua_400_lat_mean_850_700hPa, axis=1)"
   ]
  },
  {
   "cell_type": "code",
   "execution_count": 38,
   "metadata": {
    "ExecuteTime": {
     "end_time": "2018-08-16T00:37:52.748819Z",
     "start_time": "2018-08-16T00:37:52.660157Z"
    }
   },
   "outputs": [],
   "source": [
    "ua_400_mean = numpy.nanmean(ua_400_lat_mean_850_700hPa[:,xlong_indices_ua_calc])"
   ]
  },
  {
   "cell_type": "markdown",
   "metadata": {},
   "source": [
    "# format xticks"
   ]
  },
  {
   "cell_type": "code",
   "execution_count": 39,
   "metadata": {
    "ExecuteTime": {
     "end_time": "2018-08-16T00:37:52.868890Z",
     "start_time": "2018-08-16T00:37:52.757232Z"
    }
   },
   "outputs": [],
   "source": [
    "xticks_deg_E=numpy.array((280,300,320))\n",
    "xticks = -(360-xticks_deg_E)\n",
    "xticks_format=[str(tick)+DEGREE_SIGN+'E' for tick in xticks_deg_E]"
   ]
  },
  {
   "cell_type": "markdown",
   "metadata": {},
   "source": [
    "# calculate Andes height"
   ]
  },
  {
   "cell_type": "code",
   "execution_count": 40,
   "metadata": {
    "ExecuteTime": {
     "end_time": "2018-08-16T00:37:53.026946Z",
     "start_time": "2018-08-16T00:37:52.877403Z"
    }
   },
   "outputs": [],
   "source": [
    "HGT_M_lat_subset = HGT_M[lat_indices[:,0],:]\n",
    "HGT_M_lat_subset_maxvals = numpy.max(HGT_M_lat_subset, axis=0)\n",
    "HGT_M_lat_subset_equator = HGT_M[round(HGT_M_lat_subset.shape[0]/2),:]\n",
    "HGT_M_lat_subset_minvals = numpy.min(HGT_M_lat_subset, axis=0)\n",
    "HGT_M_lat_subset_mean = numpy.mean(HGT_M_lat_subset, axis=0)\n",
    "HGT_M_lat_subset_median = numpy.median(HGT_M_lat_subset, axis=0)"
   ]
  },
  {
   "cell_type": "markdown",
   "metadata": {},
   "source": [
    "# plot manuscript figure"
   ]
  },
  {
   "cell_type": "code",
   "execution_count": 51,
   "metadata": {
    "ExecuteTime": {
     "end_time": "2018-08-16T01:28:22.814649Z",
     "start_time": "2018-08-16T01:28:22.804913Z"
    }
   },
   "outputs": [
    {
     "data": {
      "text/plain": [
       "datetime.timedelta(0, 14400)"
      ]
     },
     "execution_count": 51,
     "metadata": {},
     "output_type": "execute_result"
    }
   ],
   "source": [
    "datetime.timedelta(hours=4)"
   ]
  },
  {
   "cell_type": "code",
   "execution_count": 56,
   "metadata": {
    "ExecuteTime": {
     "end_time": "2018-08-16T01:31:38.089980Z",
     "start_time": "2018-08-16T01:31:38.080092Z"
    }
   },
   "outputs": [
    {
     "data": {
      "text/plain": [
       "11"
      ]
     },
     "execution_count": 56,
     "metadata": {},
     "output_type": "execute_result"
    }
   ],
   "source": [
    "time_datetimes[-1].day"
   ]
  },
  {
   "cell_type": "code",
   "execution_count": null,
   "metadata": {
    "ExecuteTime": {
     "start_time": "2018-08-18T01:03:04.923Z"
    }
   },
   "outputs": [],
   "source": [
    "fontsize=12\n",
    "fig = mp.figure(figsize=(8.5,6))\n",
    "\n",
    "#ax1=fig.add_subplot(131)\n",
    "\n",
    "levels=numpy.arange(-0.3,0.310,0.05)\n",
    "levels_precip = numpy.arange(-0.125,0.1251,0.0125)\n",
    "\n",
    "ax2=fig.add_subplot(121)\n",
    "contour_plot = ax2.contourf(xlong[0,:]+360.,time_datetimes-datetime.timedelta(hours=4),\\\n",
    "                           #qvapor_diffs_lat_mean_1_3km*1000.,\\\n",
    "                           qvapor_diffs_lat_mean_850_700hPa*1000.,\\\n",
    "                           cmap='PuOr',\\\n",
    "                           levels=levels,\\\n",
    "                           extend='both')\n",
    "contour_line = ax2.contour(xlong[0,:]+360.,time_datetimes-datetime.timedelta(hours=4),\\\n",
    "                           #qvapor_diffs_lat_mean_1_3km*1000.,\\\n",
    "                           qvapor_diffs_lat_mean_850_700hPa*1000.,\\\n",
    "                           levels=[-0.1,0.1],\\\n",
    "                           colors='0.1',\\\n",
    "                           linestyles=['--'],\\\n",
    "                           linewidths=[0.5])\n",
    "\n",
    "ax2.text(s='(a) $\\Delta$ moisture (900–700 hPa layer)', x=0, y=1.02,\\\n",
    "         fontsize=fontsize, transform=ax2.transAxes)\n",
    "ax2.set_xticks([280,300,320])\n",
    "ax2.set_xticklabels(xticks_format)\n",
    "ax2.set_xlim(275.,325.)\n",
    "ax2.set_ylim(datetime.datetime(1979,1,1,4,0,0),datetime.datetime(1979,1,10))\n",
    "ax2.set_yticks(time_datetimes[[t.hour==0 and t.day<11 for t in time_datetimes]])\n",
    "ax2.yaxis.set_major_formatter(matplotlib.dates.DateFormatter('%d'))\n",
    "ax2.tick_params(labelsize=fontsize)\n",
    "\n",
    "ax3 = fig.add_subplot(122)\n",
    "contour_rain = ax3.contourf(xlong[0,:]+360.,time_datetimes-datetime.timedelta(hours=4),\\\n",
    "                           raintot_hourly_diffs_lat_mean,\\\n",
    "                           levels=levels_precip,\\\n",
    "                           cmap='BrBG', extend='both')\n",
    "ax3.text(s='(b) $\\Delta$ hourly precipitation', x=0, y=1.02,\\\n",
    "         fontsize=fontsize, transform=ax3.transAxes)\n",
    "ax3.set_xticks([280,300,320])\n",
    "ax3.set_xticklabels(xticks_format)\n",
    "ax3.set_xlim(275.,325.)\n",
    "ax3.set_ylim(datetime.datetime(1979,1,1,4,0,0),datetime.datetime(1979,1,10))\n",
    "ax3.set_yticks(time_datetimes[[t.hour==0 and t.day<11 for t in time_datetimes]])\n",
    "ax3.set_yticklabels([])\n",
    "ax3.yaxis.set_major_formatter(matplotlib.dates.DateFormatter('%d'))\n",
    "ax3.tick_params(labelsize=fontsize)\n",
    "\n",
    "fig.tight_layout()\n",
    "\n",
    "# ax1_pos = ax1.get_position()\n",
    "ax2_pos = ax2.get_position()\n",
    "ax3_pos = ax3.get_position()\n",
    "\n",
    "cbar1_ax = fig.add_axes([ax2_pos.x0,ax2_pos.y0-0.1,ax2_pos.width,0.03])\n",
    "cbar1 = mp.colorbar(contour_plot, cax=cbar1_ax, orientation='horizontal')\n",
    "cbar1_ax.tick_params(labelsize=fontsize)\n",
    "cbar1.set_ticks([-0.3,-0.15,0,0.15,0.3])\n",
    "#cbar1_ax.axvline(cbar1_ax.get_xticks()[2],lw=0.5,c='0.1',ls='--')\n",
    "#cbar1_ax.axvline(cbar1_ax.get_xticks()[4],lw=0.5,c='0.1',ls='--')\n",
    "cbar1.set_label('g kg$^{\\,-1}$', fontsize=fontsize)\n",
    "cbar1.add_lines(contour_line, ls=':')\n",
    "\n",
    "cbar2_ax = fig.add_axes([ax3_pos.x0,ax3_pos.y0-0.1,ax3_pos.width,0.03])\n",
    "cbar2 = mp.colorbar(contour_rain, cax=cbar2_ax, orientation='horizontal')\n",
    "cbar2_ax.tick_params(labelsize=fontsize)\n",
    "cbar2.set_ticks([-0.1,0,0.1])\n",
    "cbar2.set_label('mm hour$^{\\,-1}$', fontsize=fontsize)\n",
    "\n",
    "ax2_orog = fig.add_axes([ax2_pos.x0,ax2_pos.y0,ax2_pos.width,ax2_pos.height*0.2])\n",
    "ax2_orog.axis('off')\n",
    "ax2_orog.plot(xlong[0,:]+360., HGT_M_lat_subset_mean/1000., lw=1.5, ls='--', c='0.1')#, alpha=0.5)\n",
    "ax2_orog.set_xlim(ax2.get_xlim())#xlong.min()+55.+360.,xlong.max()+360.)\n",
    "\n",
    "ax3_orog = fig.add_axes([ax3_pos.x0,ax3_pos.y0,ax3_pos.width,ax3_pos.height*0.2])\n",
    "ax3_orog.axis('off')\n",
    "ax3_orog.plot(xlong[0,:]+360., HGT_M_lat_subset_mean/1000., lw=1.5, ls='--', c='0.1')#, alpha=0.5)\n",
    "ax3_orog.set_xlim(ax2.get_xlim())\n",
    "\n",
    "#ax1.yaxis.grid(True,linestyle='-',c='0.25',lw=0.5)\n",
    "ax2.yaxis.grid(True,linestyle='-',c='0.25',lw=0.5)\n",
    "ax3.yaxis.grid(True,linestyle='-',c='0.25',lw=0.5)\n",
    "#ax1.xaxis.grid(True,linestyle='-',c='0.25',lw=0.5)\n",
    "ax2.xaxis.grid(True,linestyle='-',c='0.25',lw=0.5)\n",
    "ax3.xaxis.grid(True,linestyle='-',c='0.25',lw=0.5)\n",
    "\n",
    "speed1 = 2.3 #6.3 # m/s\n",
    "dt = 86400. # seconds\n",
    "dx = dt*speed1\n",
    "slope1 = dt/-dx # sec/meter\n",
    "intercept1 = 10*dt\n",
    "xvals1 = numpy.linspace(ax2.get_xlim()[0],ax2.get_xlim()[1],100)\n",
    "xvals1_m = xvals1*50000.\n",
    "yvals1 = slope1*(xvals1_m-ax2.get_xlim()[0]*50000) + intercept1\n",
    "start_date = datetime.datetime(1979,1,1,0)\n",
    "yvals1_datetime = [start_date + datetime.timedelta(seconds=int(t)) for t in yvals1]\n",
    "\n",
    "speed2 = 6#-ua_400_mean #5.1 #6.3 # m/s\n",
    "dt = 86400. # seconds\n",
    "dx = dt*speed2\n",
    "slope2 = dt/-dx # sec/meter\n",
    "intercept2 = 7.*dt\n",
    "xvals2 = numpy.linspace(ax2.get_xlim()[0],ax2.get_xlim()[1],100)\n",
    "xvals2_m = xvals2*50000.\n",
    "yvals2 = slope2*(xvals2_m-ax2.get_xlim()[0]*50000) + intercept2\n",
    "start_date = datetime.datetime(1979,1,1,0)\n",
    "yvals2_datetime = [start_date + datetime.timedelta(seconds=int(t)) for t in yvals2]\n",
    "\n",
    "#ax2.plot(xvals1,yvals1_datetime,lw=0.75,ls='--',c='0.1')\n",
    "ax2.plot(xvals2,yvals2_datetime,lw=0.75,ls='--',c='0.1')\n",
    "\n",
    "plot_ratio = ax2.get_data_ratio()\n",
    "ax2.set_ylabel('simulation day', fontsize=fontsize)\n",
    "\n",
    "# slope_rotation1 = numpy.degrees(numpy.arctan(slope1/plot_ratio))\n",
    "# ax2.text(s='$-\\,$'+str(speed1)+' m s$^{\\,-1}$',x=0.69,y=0.2,transform=ax2.transAxes,\\\n",
    "#          ha='center',\\\n",
    "#          va='center',\\\n",
    "#          fontsize=fontsize,\\\n",
    "#          rotation=slope_rotation1+4)\n",
    "\n",
    "slope_rotation2 = numpy.degrees(numpy.arctan(slope2/plot_ratio))\n",
    "ax2.text(s='$-\\,$'+'{:.1f}'.format(speed2)+' m s$^{\\,-1}$',x=0.7,y=0.41,transform=ax2.transAxes,\\\n",
    "         ha='center',\\\n",
    "         va='center',\\\n",
    "         fontsize=fontsize,\\\n",
    "         rotation=slope_rotation2+4)\n",
    "\n",
    "fig.savefig('figures/manuscript_fig7_qvapor_hovmoller_with_rain_diffs.png',dpi=600,bbox_inches='tight',transparent=True)\n"
   ]
  },
  {
   "cell_type": "code",
   "execution_count": 232,
   "metadata": {
    "ExecuteTime": {
     "end_time": "2018-05-10T23:30:48.320269Z",
     "start_time": "2018-05-10T23:30:35.774988Z"
    }
   },
   "outputs": [
    {
     "data": {
      "image/png": "[encoded data removed]",
      "text/plain": [
       "<Figure size 540x360 with 8 Axes>"
      ]
     },
     "metadata": {},
     "output_type": "display_data"
    }
   ],
   "source": [
    "fontsize=12\n",
    "fig = mp.figure(figsize=(7.5,5))\n",
    "\n",
    "#ax1=fig.add_subplot(131)\n",
    "\n",
    "levels=numpy.arange(-0.3,0.310,0.05)\n",
    "levels_precip = numpy.arange(-3,3.1,0.5)\n",
    "levels_wa = numpy.arange(-.5,.51,0.1)\n",
    "\n",
    "ax1=fig.add_subplot(131)\n",
    "contour_plot = ax1.contourf(xlong[0,:]+360.,time_datetimes,\\\n",
    "                           #qvapor_diffs_lat_mean_1_3km*1000.,\\\n",
    "                           qvapor_diffs_lat_mean_850_700hPa*1000.,\\\n",
    "                           cmap='PuOr',\\\n",
    "                           levels=levels,\\\n",
    "                           extend='both')\n",
    "contour_line = ax1.contour(xlong[0,:]+360.,time_datetimes,\\\n",
    "                           #qvapor_diffs_lat_mean_1_3km*1000.,\\\n",
    "                           qvapor_diffs_lat_mean_850_700hPa*1000.,\\\n",
    "                           levels=[-0.1,0.1],\\\n",
    "                           colors='0.1',\\\n",
    "                           linestyles=['--'],\\\n",
    "                           linewidths=[0.5])\n",
    "\n",
    "ax1.text(s='(a) $\\Delta$ moist. (900–700 hPa)', x=0, y=1.02,\\\n",
    "         fontsize=fontsize, transform=ax1.transAxes)\n",
    "ax1.set_xticks([280,300,320])\n",
    "ax1.set_xticklabels(xticks_format)\n",
    "ax1.set_xlim(275.,325.)\n",
    "ax1.set_ylim(datetime.datetime(1979,1,1),datetime.datetime(1979,1,11))\n",
    "ax1.set_yticks(time_datetimes[[t.hour==0 for t in time_datetimes]])\n",
    "ax1.yaxis.set_major_formatter(matplotlib.dates.DateFormatter('%d'))\n",
    "ax1.tick_params(labelsize=fontsize)\n",
    "\n",
    "\n",
    "\n",
    "\n",
    "\n",
    "ax2 = fig.add_subplot(132)\n",
    "contour_rain = ax2.contourf(xlong[0,:]+360.,time_datetimes,\\\n",
    "                           raintot_hourly_diffs_lat_mean*24.,\\\n",
    "                           levels=levels_precip,\\\n",
    "                           cmap='BrBG', extend='both')\n",
    "ax2.text(s='(b) $\\Delta$ hourly precipitation', x=0, y=1.02,\\\n",
    "         fontsize=fontsize, transform=ax2.transAxes)\n",
    "ax2.set_xticks([280,300,320])\n",
    "ax2.set_xticklabels(xticks_format)\n",
    "ax2.set_xlim(275.,325.)\n",
    "ax2.set_ylim(datetime.datetime(1979,1,1),datetime.datetime(1979,1,11))\n",
    "ax2.set_yticks(time_datetimes[[t.hour==0 for t in time_datetimes]])\n",
    "ax2.yaxis.set_major_formatter(matplotlib.dates.DateFormatter('%d'))\n",
    "ax2.tick_params(labelsize=fontsize)\n",
    "\n",
    "\n",
    "\n",
    "\n",
    "\n",
    "\n",
    "ax3 = fig.add_subplot(133)\n",
    "contour_wa = ax3.contourf(xlong[0,:]+360.,time_datetimes,\\\n",
    "                           wa_diffs_lat_mean_700_200hPa*86400./1000.,\\\n",
    "                           levels=levels_wa,\\\n",
    "                           cmap='RdBu', extend='both')\n",
    "ax3.text(s='(c) $\\Delta$ w (700–200 hPa)', x=0, y=1.02,\\\n",
    "         fontsize=fontsize, transform=ax3.transAxes)\n",
    "ax3.set_xticks([280,300,320])\n",
    "ax3.set_xticklabels(xticks_format)\n",
    "ax3.set_xlim(275.,325.)\n",
    "ax3.set_ylim(datetime.datetime(1979,1,1),datetime.datetime(1979,1,11))\n",
    "ax3.set_yticks(time_datetimes[[t.hour==0 for t in time_datetimes]])\n",
    "ax3.yaxis.set_major_formatter(matplotlib.dates.DateFormatter('%d'))\n",
    "ax3.tick_params(labelsize=fontsize)\n",
    "\n",
    "\n",
    "\n",
    "\n",
    "\n",
    "fig.tight_layout()\n",
    "\n",
    "\n",
    "\n",
    "\n",
    "\n",
    "# ax1_pos = ax1.get_position()\n",
    "ax1_pos = ax1.get_position()\n",
    "ax2_pos = ax2.get_position()\n",
    "ax3_pos = ax3.get_position()\n",
    "\n",
    "cbar1_ax = fig.add_axes([ax1_pos.x0,ax1_pos.y0-0.12,ax1_pos.width,0.03])\n",
    "cbar1 = mp.colorbar(contour_plot, cax=cbar1_ax, orientation='horizontal')\n",
    "cbar1_ax.tick_params(labelsize=fontsize)\n",
    "cbar1.set_ticks([-0.3,-0.15,0,0.15,0.3])\n",
    "cbar1.set_label('g kg$^{\\,-1}$', fontsize=fontsize)\n",
    "\n",
    "cbar2_ax = fig.add_axes([ax2_pos.x0,ax2_pos.y0-0.12,ax2_pos.width,0.03])\n",
    "cbar2 = mp.colorbar(contour_rain, cax=cbar2_ax, orientation='horizontal')\n",
    "cbar2_ax.tick_params(labelsize=fontsize)\n",
    "cbar2.set_ticks([-3,-2,-1,0,1,2,3])\n",
    "cbar2.set_label('mm day$^{\\,-1}$', fontsize=fontsize)\n",
    "\n",
    "cbar3_ax = fig.add_axes([ax3_pos.x0,ax3_pos.y0-0.12,ax3_pos.width,0.03])\n",
    "cbar3 = mp.colorbar(contour_wa, cax=cbar3_ax, orientation='horizontal')\n",
    "cbar3_ax.tick_params(labelsize=fontsize)\n",
    "#cbar3.set_ticks([-3,-2,-1,0,1,2,3])\n",
    "cbar3.set_label('mm day$^{\\,-1}$', fontsize=fontsize)\n",
    "\n",
    "ax1_orog = fig.add_axes([ax1_pos.x0,ax1_pos.y0,ax1_pos.width,ax1_pos.height*0.2])\n",
    "ax1_orog.axis('off')\n",
    "ax1_orog.plot(xlong[0,:]+360., HGT_M_lat_subset_mean/1000., lw=1.5, ls='--', c='0.1')#, alpha=0.5)\n",
    "ax1_orog.set_xlim(ax1.get_xlim())#xlong.min()+55.+360.,xlong.max()+360.)\n",
    "\n",
    "ax2_orog = fig.add_axes([ax2_pos.x0,ax2_pos.y0,ax2_pos.width,ax2_pos.height*0.2])\n",
    "ax2_orog.axis('off')\n",
    "ax2_orog.plot(xlong[0,:]+360., HGT_M_lat_subset_mean/1000., lw=1.5, ls='--', c='0.1')#, alpha=0.5)\n",
    "ax2_orog.set_xlim(ax1.get_xlim())\n",
    "\n",
    "\n",
    "ax1.yaxis.grid(True,linestyle='-',c='0.25',lw=0.5)\n",
    "ax2.yaxis.grid(True,linestyle='-',c='0.25',lw=0.5)\n",
    "ax3.yaxis.grid(True,linestyle='-',c='0.25',lw=0.5)\n",
    "\n",
    "ax1.xaxis.grid(True,linestyle='-',c='0.25',lw=0.5)\n",
    "ax2.xaxis.grid(True,linestyle='-',c='0.25',lw=0.5)\n",
    "ax3.xaxis.grid(True,linestyle='-',c='0.25',lw=0.5)\n",
    "\n",
    "speed1 = 2.3 #6.3 # m/s\n",
    "dt = 86400. # seconds\n",
    "dx = dt*speed1\n",
    "slope1 = dt/-dx # sec/meter\n",
    "intercept1 = 10*dt\n",
    "xvals1 = numpy.linspace(ax1.get_xlim()[0],ax1.get_xlim()[1],100)\n",
    "xvals1_m = xvals1*50000.\n",
    "yvals1 = slope1*(xvals1_m-ax1.get_xlim()[0]*50000) + intercept1\n",
    "start_date = datetime.datetime(1979,1,1,0)\n",
    "yvals1_datetime = [start_date + datetime.timedelta(seconds=int(t)) for t in yvals1]\n",
    "\n",
    "speed2 = 6#-ua_400_mean #5.1 #6.3 # m/s\n",
    "dt = 86400. # seconds\n",
    "dx = dt*speed2\n",
    "slope2 = dt/-dx # sec/meter\n",
    "intercept2 = 7.*dt\n",
    "xvals2 = numpy.linspace(ax1.get_xlim()[0],ax1.get_xlim()[1],100)\n",
    "xvals2_m = xvals2*50000.\n",
    "yvals2 = slope2*(xvals2_m-ax1.get_xlim()[0]*50000) + intercept2\n",
    "start_date = datetime.datetime(1979,1,1,0)\n",
    "yvals2_datetime = [start_date + datetime.timedelta(seconds=int(t)) for t in yvals2]\n",
    "\n",
    "#ax1.plot(xvals1,yvals1_datetime,lw=0.75,ls='--',c='0.1')\n",
    "ax1.plot(xvals2,yvals2_datetime,lw=0.75,ls='--',c='0.1')\n",
    "\n",
    "plot_ratio = ax1.get_data_ratio()\n",
    "ax1.set_ylabel('simulation day', fontsize=fontsize)\n",
    "\n",
    "slope_rotation2 = numpy.degrees(numpy.arctan(slope2/plot_ratio))\n",
    "ax1.text(s='$-\\,$'+'{:.1f}'.format(speed2)+' m s$^{\\,-1}$',x=0.7,y=0.41,transform=ax1.transAxes,\\\n",
    "         ha='center',\\\n",
    "         va='center',\\\n",
    "         fontsize=fontsize,\\\n",
    "         rotation=slope_rotation2+4)\n",
    "\n",
    "fig.savefig('manuscript_fig7alt_qvapor_hovmoller_with_rain_AND_WA_diffs.png',dpi=600,bbox_inches='tight',transparent=True)"
   ]
  },
  {
   "cell_type": "code",
   "execution_count": 63,
   "metadata": {
    "ExecuteTime": {
     "end_time": "2018-08-16T05:22:08.522063Z",
     "start_time": "2018-08-16T05:22:08.349522Z"
    }
   },
   "outputs": [
    {
     "ename": "TypeError",
     "evalue": "add_lines() missing 1 required positional argument: 'CS'",
     "output_type": "error",
     "traceback": [
      "\u001b[0;31m---------------------------------------------------------------------------\u001b[0m",
      "\u001b[0;31mTypeError\u001b[0m                                 Traceback (most recent call last)",
      "\u001b[0;32m<ipython-input-63-aac8d4d2c6a4>\u001b[0m in \u001b[0;36m<module>\u001b[0;34m()\u001b[0m\n\u001b[0;32m----> 1\u001b[0;31m \u001b[0mcbar1\u001b[0m\u001b[0;34m.\u001b[0m\u001b[0madd_lines\u001b[0m\u001b[0;34m(\u001b[0m\u001b[0;34m)\u001b[0m\u001b[0;34m\u001b[0m\u001b[0m\n\u001b[0m",
      "\u001b[0;31mTypeError\u001b[0m: add_lines() missing 1 required positional argument: 'CS'"
     ]
    }
   ],
   "source": [
    "cbar1.add_lines()"
   ]
  },
  {
   "cell_type": "code",
   "execution_count": null,
   "metadata": {},
   "outputs": [],
   "source": []
  },
  {
   "cell_type": "code",
   "execution_count": null,
   "metadata": {},
   "outputs": [],
   "source": []
  },
  {
   "cell_type": "code",
   "execution_count": null,
   "metadata": {},
   "outputs": [],
   "source": []
  },
  {
   "cell_type": "code",
   "execution_count": null,
   "metadata": {},
   "outputs": [],
   "source": [
    "first5days_indices = [t.day in range(1,6) for t in time_datetimes]"
   ]
  },
  {
   "cell_type": "code",
   "execution_count": null,
   "metadata": {},
   "outputs": [],
   "source": [
    "fontsize=12\n",
    "fig = mp.figure(figsize=(7.5,4))\n",
    "\n",
    "ax1=fig.add_subplot(131)\n",
    "\n",
    "levels=numpy.arange(-1,1.1,0.125)\n",
    "levels_precip = numpy.arange(-3,3.1,0.5)\n",
    "\n",
    "contour_plot = ax1.contourf(xlong[0,:]+360.,time_datetimes,\\\n",
    "                           mse_diffs_lat_subset_0_1km_latmean/1000.,\\\n",
    "                           cmap='PuOr_r',\\\n",
    "                           levels=levels,\\\n",
    "                           extend='both')\n",
    "contour_line = ax1.contour(xlong[0,:]+360.,time_datetimes,\\\n",
    "                           mse_diffs_lat_subset_0_1km_latmean/1000.,\\\n",
    "                           levels=[-0.25,0.25],\\\n",
    "                           colors='0.1',\\\n",
    "                           linestyles=['--'],\\\n",
    "                           linewidths=[0.5])\n",
    "ax1.set_ylabel('day', fontsize=fontsize)\n",
    "ax1.text(s='(a) $\\Delta$ MSE in $0-1$ km', x=0, y=1.02,\\\n",
    "         fontsize=fontsize, transform=ax1.transAxes)\n",
    "\n",
    "ax1.set_xticks([280,300,320])\n",
    "ax1.set_xticklabels(xticks_format)\n",
    "ax1.set_xlim(275.,325.)\n",
    "ax1.set_ylim(datetime.datetime(1979,1,1),datetime.datetime(1979,1,6))\n",
    "ax1.set_yticks(time_datetimes[first5days_indices][[t.hour==0 for t in time_datetimes[first5days_indices]]])\n",
    "ax1.yaxis.set_major_formatter(matplotlib.dates.DateFormatter('%d'))\n",
    "ax1.tick_params(labelsize=fontsize)\n",
    "\n",
    "\n",
    "\n",
    "\n",
    "ax2=fig.add_subplot(132)\n",
    "contour_plot = ax2.contourf(xlong[0,:]+360.,time_datetimes,\\\n",
    "                           mse_diffs_lat_subset_1_3km_latmean/1000.,\\\n",
    "                           cmap='PuOr_r',\\\n",
    "                           levels=levels,\\\n",
    "                           extend='both')\n",
    "contour_line = ax2.contour(xlong[0,:]+360.,time_datetimes,\\\n",
    "                           mse_diffs_lat_subset_1_3km_latmean/1000.,\\\n",
    "                           levels=[-0.25,0.25],\\\n",
    "                           colors='0.1',\\\n",
    "                           linestyles=['--'],\\\n",
    "                           linewidths=[0.5])\n",
    "\n",
    "ax2.text(s='(b) $\\Delta$ MSE in $1-3$ km', x=0, y=1.02,\\\n",
    "         fontsize=fontsize, transform=ax2.transAxes)\n",
    "ax2.set_xticks([280,300,320])\n",
    "ax2.set_xticklabels(xticks_format)\n",
    "ax2.set_xlim(275.,325.)\n",
    "ax2.set_ylim(datetime.datetime(1979,1,1),datetime.datetime(1979,1,6))\n",
    "ax2.set_yticks(time_datetimes[first5days_indices][[t.hour==0 for t in time_datetimes[first5days_indices]]])\n",
    "ax2.yaxis.set_major_formatter(matplotlib.dates.DateFormatter('%d'))\n",
    "ax2.tick_params(labelsize=fontsize)\n",
    "\n",
    "ax3 = fig.add_subplot(133)\n",
    "contour_rain = ax3.contourf(xlong[0,:]+360.,time_datetimes,\\\n",
    "                           raintot_hourly_diffs_lat_subset_latmean*24.,\\\n",
    "                           levels=levels_precip,\\\n",
    "                           cmap='BrBG', extend='both')\n",
    "# contour_rain = ax3.pcolor(xlong[0,:]+360.,time_datetimes,\\\n",
    "#                            raintot_hourly_diffs_lat_subset_latmean*24.,\\\n",
    "#                            vmin=levels_precip.min(),vmax=levels_precip.max(),\\\n",
    "#                            cmap='BrBG',snap=True)\n",
    "ax3.text(s='(c) $\\Delta$ precipitation', x=0, y=1.02,\\\n",
    "         fontsize=fontsize, transform=ax3.transAxes)\n",
    "ax3.set_xticks([280,300,320])\n",
    "ax3.set_xticklabels(xticks_format)\n",
    "ax3.set_xlim(275.,325.)\n",
    "ax3.set_ylim(datetime.datetime(1979,1,1),datetime.datetime(1979,1,6))\n",
    "ax3.set_yticks(time_datetimes[first5days_indices][[t.hour==0 for t in time_datetimes[first5days_indices]]])\n",
    "ax3.yaxis.set_major_formatter(matplotlib.dates.DateFormatter('%d'))\n",
    "ax3.tick_params(labelsize=fontsize)\n",
    "\n",
    "fig.tight_layout()\n",
    "\n",
    "ax1_pos = ax1.get_position()\n",
    "ax2_pos = ax2.get_position()\n",
    "ax3_pos = ax3.get_position()\n",
    "\n",
    "cbar1_ax = fig.add_axes([ax1_pos.x0,ax1_pos.y0-0.12,ax2_pos.x1-ax1_pos.x0,0.03])\n",
    "cbar1 = mp.colorbar(contour_plot, cax=cbar1_ax, orientation='horizontal')\n",
    "cbar1_ax.tick_params(labelsize=fontsize)\n",
    "cbar1.set_ticks([-1.,-.5,-0.25,0,0.25,.5,1])\n",
    "cbar1_ax.axvline(cbar1_ax.get_xticks()[2],lw=0.5,c='0.1',ls='--')\n",
    "cbar1_ax.axvline(cbar1_ax.get_xticks()[4],lw=0.5,c='0.1',ls='--')\n",
    "cbar1.set_label('kJ kg$^{\\,-1}$', fontsize=fontsize)\n",
    "\n",
    "\n",
    "\n",
    "cbar2_ax = fig.add_axes([ax3_pos.x0,ax3_pos.y0-0.12,ax3_pos.width,0.03])\n",
    "cbar2 = mp.colorbar(contour_rain, cax=cbar2_ax, orientation='horizontal')\n",
    "cbar2_ax.tick_params(labelsize=fontsize)\n",
    "cbar2.set_ticks([-3,-2,-1,0,1,2,3])\n",
    "#cbar2_ax.axvline(cbar2_ax.get_xticks()[2],lw=0.5,c='0.1',ls='--')\n",
    "#cbar2_ax.axvline(cbar2_ax.get_xticks()[4],lw=0.5,c='0.1',ls='--')\n",
    "cbar2.set_label('mm day$^{\\,-1}$', fontsize=fontsize)\n",
    "\n",
    "\n",
    "\n",
    "ax1_orog = fig.add_axes([ax1_pos.x0,ax1_pos.y0,ax1_pos.width,ax1_pos.height*0.2])\n",
    "ax1_orog.axis('off')\n",
    "ax1_orog.plot(xlong[0,:]+360., HGT_M_lat_subset_mean/1000., lw=1.5, ls='--', c='0.1')#, alpha=0.5)\n",
    "ax1_orog.set_xlim(ax1.get_xlim())\n",
    "\n",
    "ax2_orog = fig.add_axes([ax2_pos.x0,ax2_pos.y0,ax2_pos.width,ax2_pos.height*0.2])\n",
    "ax2_orog.axis('off')\n",
    "ax2_orog.plot(xlong[0,:]+360., HGT_M_lat_subset_mean/1000., lw=1.5, ls='--', c='0.1')#, alpha=0.5)\n",
    "ax2_orog.set_xlim(ax2.get_xlim())#xlong.min()+55.+360.,xlong.max()+360.)\n",
    "\n",
    "ax3_orog = fig.add_axes([ax3_pos.x0,ax3_pos.y0,ax3_pos.width,ax3_pos.height*0.2])\n",
    "ax3_orog.axis('off')\n",
    "ax3_orog.plot(xlong[0,:]+360., HGT_M_lat_subset_mean/1000., lw=1.5, ls='--', c='0.1')#, alpha=0.5)\n",
    "ax3_orog.set_xlim(ax1.get_xlim())\n",
    "\n",
    "ax1.yaxis.grid(True,linestyle='-',c='0.25',lw=0.5)\n",
    "ax2.yaxis.grid(True,linestyle='-',c='0.25',lw=0.5)\n",
    "ax3.yaxis.grid(True,linestyle='-',c='0.25',lw=0.5)\n",
    "ax1.xaxis.grid(True,linestyle='-',c='0.25',lw=0.5)\n",
    "ax2.xaxis.grid(True,linestyle='-',c='0.25',lw=0.5)\n",
    "ax3.xaxis.grid(True,linestyle='-',c='0.25',lw=0.5)\n",
    "\n",
    "speed1 = 2.3 #6.3 # m/s\n",
    "dt = 86400. # seconds\n",
    "dx = dt*speed1\n",
    "slope1 = dt/-dx # sec/meter\n",
    "intercept1 = 10*dt\n",
    "xvals1 = numpy.linspace(ax1.get_xlim()[0],ax1.get_xlim()[1],100)\n",
    "xvals1_m = xvals1*50000.\n",
    "yvals1 = slope1*(xvals1_m-ax2.get_xlim()[0]*50000) + intercept1\n",
    "start_date = datetime.datetime(1979,1,1,0)\n",
    "yvals1_datetime = [start_date + datetime.timedelta(seconds=int(t)) for t in yvals1]\n",
    "\n",
    "speed2 = 5.1 #6.3 # m/s\n",
    "dt = 86400. # seconds\n",
    "dx = dt*speed2\n",
    "slope2 = dt/-dx # sec/meter\n",
    "intercept2 = 7.*dt\n",
    "xvals2 = numpy.linspace(ax2.get_xlim()[0],ax2.get_xlim()[1],100)\n",
    "xvals2_m = xvals2*50000.\n",
    "yvals2 = slope2*(xvals2_m-ax2.get_xlim()[0]*50000) + intercept2\n",
    "start_date = datetime.datetime(1979,1,1,0)\n",
    "yvals2_datetime = [start_date + datetime.timedelta(seconds=int(t)) for t in yvals2]\n",
    "\n",
    "\n",
    "# ax1.plot(xvals1,yvals1_datetime,lw=0.75,ls='--',c='0.1')\n",
    "# ax1.plot(xvals2,yvals2_datetime,lw=0.75,ls='--',c='0.1')\n",
    "\n",
    "# ax2.plot(xvals1,yvals1_datetime,lw=0.75,ls='--',c='0.1')\n",
    "# ax2.plot(xvals2,yvals2_datetime,lw=0.75,ls='--',c='0.1')\n",
    "\n",
    "# ax3.plot(xvals1,yvals1_datetime,lw=0.75,ls='--',c='0.1')\n",
    "# ax3.plot(xvals2,yvals2_datetime,lw=0.75,ls='--',c='0.1')\n",
    "\n",
    "# plot_ratio = ax2.get_data_ratio()\n",
    "\n",
    "# slope_rotation1 = numpy.degrees(numpy.arctan(slope1/plot_ratio))\n",
    "# ax2.text(s='$-\\,$'+str(speed1)+' m s$^{\\,-1}$',x=0.69,y=0.2,transform=ax2.transAxes,\\\n",
    "#          ha='center',\\\n",
    "#          va='center',\\\n",
    "#          fontsize=fontsize,\\\n",
    "#          rotation=slope_rotation1+4)\n",
    "\n",
    "# slope_rotation2 = numpy.degrees(numpy.arctan(slope2/plot_ratio))\n",
    "# ax2.text(s='$-\\,$'+str(speed2)+' m s$^{\\,-1}$',x=0.755,y=0.31,transform=ax2.transAxes,\\\n",
    "#          ha='center',\\\n",
    "#          va='center',\\\n",
    "#          fontsize=fontsize,\\\n",
    "#          rotation=slope_rotation2+4)\n",
    "\n",
    "fig.savefig('figureXX_hovmoller_with_rain_diffs_first5days.png',dpi=600,bbox_inches='tight',transparent=True)"
   ]
  },
  {
   "cell_type": "code",
   "execution_count": null,
   "metadata": {},
   "outputs": [],
   "source": [
    "fontsize=12\n",
    "fig = mp.figure(figsize=(7.5,4))\n",
    "\n",
    "ax1=fig.add_subplot(131)\n",
    "\n",
    "levels=numpy.arange(-1,1.1,0.125)\n",
    "levels_precip = numpy.arange(-5,5.1,0.5)\n",
    "\n",
    "contour_plot = ax1.contourf(xlong[0,:]+360.,time_datetimes,\\\n",
    "                           mse_diffs_lat_subset_0_1km_latmean/1000.,\\\n",
    "                           cmap='PuOr_r',\\\n",
    "                           levels=levels,\\\n",
    "                           extend='both')\n",
    "contour_line = ax1.contour(xlong[0,:]+360.,time_datetimes,\\\n",
    "                           mse_diffs_lat_subset_0_1km_latmean/1000.,\\\n",
    "                           levels=[-0.25,0.25],\\\n",
    "                           colors='0.1',\\\n",
    "                           linestyles=['--'],\\\n",
    "                           linewidths=[0.5])\n",
    "ax1.set_ylabel('day', fontsize=fontsize)\n",
    "ax1.text(s='(a) $\\Delta$ MSE in $0-1$ km', x=0, y=1.02,\\\n",
    "         fontsize=fontsize, transform=ax1.transAxes)\n",
    "\n",
    "ax1.set_xticks([280,300,320])\n",
    "ax1.set_xticklabels(xticks_format)\n",
    "ax1.set_xlim(275.,325.)\n",
    "ax1.set_ylim(datetime.datetime(1979,1,1),datetime.datetime(1979,1,11))\n",
    "ax1.set_yticks(time_datetimes[[t.hour==0 for t in time_datetimes]])\n",
    "ax1.yaxis.set_major_formatter(matplotlib.dates.DateFormatter('%d'))\n",
    "ax1.tick_params(labelsize=fontsize)\n",
    "\n",
    "\n",
    "\n",
    "\n",
    "ax2=fig.add_subplot(132)\n",
    "contour_plot = ax2.contourf(xlong[0,:]+360.,time_datetimes,\\\n",
    "                           mse_diffs_lat_subset_1_3km_latmean/1000.,\\\n",
    "                           cmap='PuOr_r',\\\n",
    "                           levels=levels,\\\n",
    "                           extend='both')\n",
    "contour_line = ax2.contour(xlong[0,:]+360.,time_datetimes,\\\n",
    "                           mse_diffs_lat_subset_1_3km_latmean/1000.,\\\n",
    "                           levels=[-0.25,0.25],\\\n",
    "                           colors='0.1',\\\n",
    "                           linestyles=['--'],\\\n",
    "                           linewidths=[0.5])\n",
    "\n",
    "ax2.text(s='(b) $\\Delta$ MSE in $1-3$ km', x=0, y=1.02,\\\n",
    "         fontsize=fontsize, transform=ax2.transAxes)\n",
    "ax2.set_xticks([280,300,320])\n",
    "ax2.set_xticklabels(xticks_format)\n",
    "ax2.set_xlim(275.,325.)\n",
    "ax2.set_ylim(datetime.datetime(1979,1,1),datetime.datetime(1979,1,11))\n",
    "ax2.set_yticks(time_datetimes[[t.hour==0 for t in time_datetimes]])\n",
    "ax2.yaxis.set_major_formatter(matplotlib.dates.DateFormatter('%d'))\n",
    "ax2.tick_params(labelsize=fontsize)\n",
    "\n",
    "ax3 = fig.add_subplot(133)\n",
    "contour_rain = ax3.contourf(xlong[0,:]+360.,time_datetimes,\\\n",
    "                           raintot_diffs_lat_subset_latmean,\\\n",
    "                           levels=levels_precip,\\\n",
    "                           cmap='BrBG', extend='both')\n",
    "# contour_rain = ax3.pcolor(xlong[0,:]+360.,time_datetimes,\\\n",
    "#                            raintot_hourly_diffs_lat_subset_latmean*24.,\\\n",
    "#                            vmin=levels_precip.min(),vmax=levels_precip.max(),\\\n",
    "#                            cmap='BrBG',snap=True)\n",
    "ax3.text(s='(c) $\\Delta$ accum. precip.', x=0, y=1.02,\\\n",
    "         fontsize=fontsize, transform=ax3.transAxes)\n",
    "ax3.set_xticks([280,300,320])\n",
    "ax3.set_xticklabels(xticks_format)\n",
    "ax3.set_xlim(275.,325.)\n",
    "ax3.set_ylim(datetime.datetime(1979,1,1),datetime.datetime(1979,1,11))\n",
    "ax3.set_yticks(time_datetimes[[t.hour==0 for t in time_datetimes]])\n",
    "ax3.yaxis.set_major_formatter(matplotlib.dates.DateFormatter('%d'))\n",
    "ax3.tick_params(labelsize=fontsize)\n",
    "\n",
    "fig.tight_layout()\n",
    "\n",
    "ax1_pos = ax1.get_position()\n",
    "ax2_pos = ax2.get_position()\n",
    "ax3_pos = ax3.get_position()\n",
    "\n",
    "cbar1_ax = fig.add_axes([ax1_pos.x0,ax1_pos.y0-0.12,ax2_pos.x1-ax1_pos.x0,0.03])\n",
    "cbar1 = mp.colorbar(contour_plot, cax=cbar1_ax, orientation='horizontal')\n",
    "cbar1_ax.tick_params(labelsize=fontsize)\n",
    "cbar1.set_ticks([-1.,-.5,-0.25,0,0.25,.5,1])\n",
    "cbar1_ax.axvline(cbar1_ax.get_xticks()[2],lw=0.5,c='0.1',ls='--')\n",
    "cbar1_ax.axvline(cbar1_ax.get_xticks()[4],lw=0.5,c='0.1',ls='--')\n",
    "cbar1.set_label('kJ kg$^{\\,-1}$', fontsize=fontsize)\n",
    "\n",
    "\n",
    "\n",
    "cbar2_ax = fig.add_axes([ax3_pos.x0,ax3_pos.y0-0.12,ax3_pos.width,0.03])\n",
    "cbar2 = mp.colorbar(contour_rain, cax=cbar2_ax, orientation='horizontal')\n",
    "cbar2_ax.tick_params(labelsize=fontsize)\n",
    "cbar2.set_ticks([-5,-2.5,0,2.5,5])\n",
    "#cbar2_ax.axvline(cbar2_ax.get_xticks()[2],lw=0.5,c='0.1',ls='--')\n",
    "#cbar2_ax.axvline(cbar2_ax.get_xticks()[4],lw=0.5,c='0.1',ls='--')\n",
    "cbar2.set_label('mm', fontsize=fontsize)\n",
    "\n",
    "\n",
    "\n",
    "ax1_orog = fig.add_axes([ax1_pos.x0,ax1_pos.y0,ax1_pos.width,ax1_pos.height*0.2])\n",
    "ax1_orog.axis('off')\n",
    "ax1_orog.plot(xlong[0,:]+360., HGT_M_lat_subset_mean/1000., lw=1.5, ls='--', c='0.1')#, alpha=0.5)\n",
    "ax1_orog.set_xlim(ax1.get_xlim())\n",
    "\n",
    "ax2_orog = fig.add_axes([ax2_pos.x0,ax2_pos.y0,ax2_pos.width,ax2_pos.height*0.2])\n",
    "ax2_orog.axis('off')\n",
    "ax2_orog.plot(xlong[0,:]+360., HGT_M_lat_subset_mean/1000., lw=1.5, ls='--', c='0.1')#, alpha=0.5)\n",
    "ax2_orog.set_xlim(ax2.get_xlim())#xlong.min()+55.+360.,xlong.max()+360.)\n",
    "\n",
    "ax3_orog = fig.add_axes([ax3_pos.x0,ax3_pos.y0,ax3_pos.width,ax3_pos.height*0.2])\n",
    "ax3_orog.axis('off')\n",
    "ax3_orog.plot(xlong[0,:]+360., HGT_M_lat_subset_mean/1000., lw=1.5, ls='--', c='0.1')#, alpha=0.5)\n",
    "ax3_orog.set_xlim(ax1.get_xlim())\n",
    "\n",
    "ax1.yaxis.grid(True,linestyle='-',c='0.25',lw=0.5)\n",
    "ax2.yaxis.grid(True,linestyle='-',c='0.25',lw=0.5)\n",
    "ax3.yaxis.grid(True,linestyle='-',c='0.25',lw=0.5)\n",
    "ax1.xaxis.grid(True,linestyle='-',c='0.25',lw=0.5)\n",
    "ax2.xaxis.grid(True,linestyle='-',c='0.25',lw=0.5)\n",
    "ax3.xaxis.grid(True,linestyle='-',c='0.25',lw=0.5)\n",
    "\n",
    "speed1 = 2.3 #6.3 # m/s\n",
    "dt = 86400. # seconds\n",
    "dx = dt*speed1\n",
    "slope1 = dt/-dx # sec/meter\n",
    "intercept1 = 10*dt\n",
    "xvals1 = numpy.linspace(ax1.get_xlim()[0],ax1.get_xlim()[1],100)\n",
    "xvals1_m = xvals1*50000.\n",
    "yvals1 = slope1*(xvals1_m-ax2.get_xlim()[0]*50000) + intercept1\n",
    "start_date = datetime.datetime(1979,1,1,0)\n",
    "yvals1_datetime = [start_date + datetime.timedelta(seconds=int(t)) for t in yvals1]\n",
    "\n",
    "speed2 = 5.1 #6.3 # m/s\n",
    "dt = 86400. # seconds\n",
    "dx = dt*speed2\n",
    "slope2 = dt/-dx # sec/meter\n",
    "intercept2 = 7.*dt\n",
    "xvals2 = numpy.linspace(ax2.get_xlim()[0],ax2.get_xlim()[1],100)\n",
    "xvals2_m = xvals2*50000.\n",
    "yvals2 = slope2*(xvals2_m-ax2.get_xlim()[0]*50000) + intercept2\n",
    "start_date = datetime.datetime(1979,1,1,0)\n",
    "yvals2_datetime = [start_date + datetime.timedelta(seconds=int(t)) for t in yvals2]\n",
    "\n",
    "\n",
    "ax1.plot(xvals1,yvals1_datetime,lw=0.75,ls='--',c='0.1')\n",
    "ax1.plot(xvals2,yvals2_datetime,lw=0.75,ls='--',c='0.1')\n",
    "\n",
    "ax2.plot(xvals1,yvals1_datetime,lw=0.75,ls='--',c='0.1')\n",
    "ax2.plot(xvals2,yvals2_datetime,lw=0.75,ls='--',c='0.1')\n",
    "\n",
    "ax3.plot(xvals1,yvals1_datetime,lw=0.75,ls='--',c='0.1')\n",
    "ax3.plot(xvals2,yvals2_datetime,lw=0.75,ls='--',c='0.1')\n",
    "\n",
    "plot_ratio = ax2.get_data_ratio()\n",
    "\n",
    "slope_rotation1 = numpy.degrees(numpy.arctan(slope1/plot_ratio))\n",
    "ax2.text(s='$-\\,$'+str(speed1)+' m s$^{\\,-1}$',x=0.69,y=0.2,transform=ax2.transAxes,\\\n",
    "         ha='center',\\\n",
    "         va='center',\\\n",
    "         fontsize=fontsize,\\\n",
    "         rotation=slope_rotation1+4)\n",
    "\n",
    "slope_rotation2 = numpy.degrees(numpy.arctan(slope2/plot_ratio))\n",
    "ax2.text(s='$-\\,$'+str(speed2)+' m s$^{\\,-1}$',x=0.755,y=0.31,transform=ax2.transAxes,\\\n",
    "         ha='center',\\\n",
    "         va='center',\\\n",
    "         fontsize=fontsize,\\\n",
    "         rotation=slope_rotation2+4)\n",
    "\n",
    "fig.savefig('figureXX_hovmoller_with_SUMMED_rain_diffs.png',dpi=600,bbox_inches='tight',transparent=True)"
   ]
  },
  {
   "cell_type": "code",
   "execution_count": null,
   "metadata": {},
   "outputs": [],
   "source": []
  },
  {
   "cell_type": "code",
   "execution_count": null,
   "metadata": {},
   "outputs": [],
   "source": []
  },
  {
   "cell_type": "code",
   "execution_count": null,
   "metadata": {},
   "outputs": [],
   "source": []
  },
  {
   "cell_type": "code",
   "execution_count": null,
   "metadata": {},
   "outputs": [],
   "source": [
    "xlong_indices_280_310 = (xlong[0,:]+360. >= 280.) & (xlong[0,:]+360 <= 310.)"
   ]
  },
  {
   "cell_type": "code",
   "execution_count": null,
   "metadata": {},
   "outputs": [],
   "source": [
    "uwind_mean = u_400_lat_mean[:,[0,1,2,3,4,5],:]\n",
    "uwind_mean = numpy.nanmean(uwind_mean[:,:,xlong_indices_280_310])\n",
    "print(uwind_mean)"
   ]
  },
  {
   "cell_type": "code",
   "execution_count": null,
   "metadata": {},
   "outputs": [],
   "source": [
    "uwind_mean = u_400_lat_mean[:,[7,8,9,10,11],:]\n",
    "uwind_mean = numpy.nanmean(uwind_mean[:,:,xlong_indices_280_310])\n",
    "print(uwind_mean)"
   ]
  },
  {
   "cell_type": "code",
   "execution_count": null,
   "metadata": {},
   "outputs": [],
   "source": []
  }
 ],
 "metadata": {
  "kernelspec": {
   "display_name": "Python 3",
   "language": "python",
   "name": "python3"
  },
  "language_info": {
   "codemirror_mode": {
    "name": "ipython",
    "version": 3
   },
   "file_extension": ".py",
   "mimetype": "text/x-python",
   "name": "python",
   "nbconvert_exporter": "python",
   "pygments_lexer": "ipython3",
   "version": "3.6.5"
  },
  "varInspector": {
   "cols": {
    "lenName": 16,
    "lenType": 16,
    "lenVar": 40
   },
   "kernels_config": {
    "python": {
     "delete_cmd_postfix": "",
     "delete_cmd_prefix": "del ",
     "library": "var_list.py",
     "varRefreshCmd": "print(var_dic_list())"
    },
    "r": {
     "delete_cmd_postfix": ") ",
     "delete_cmd_prefix": "rm(",
     "library": "var_list.r",
     "varRefreshCmd": "cat(var_dic_list()) "
    }
   },
   "types_to_exclude": [
    "module",
    "function",
    "builtin_function_or_method",
    "instance",
    "_Feature"
   ],
   "window_display": false
  }
 },
 "nbformat": 4,
 "nbformat_minor": 2
}
