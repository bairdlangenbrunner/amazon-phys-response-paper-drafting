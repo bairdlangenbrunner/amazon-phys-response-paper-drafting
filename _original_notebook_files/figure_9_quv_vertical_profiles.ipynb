{
 "cells": [
  {
   "cell_type": "code",
   "execution_count": 103,
   "metadata": {},
   "outputs": [],
   "source": [
    "import numpy\n",
    "import netCDF4\n",
    "import matplotlib\n",
    "import matplotlib.pyplot as mp\n",
    "import datetime\n",
    "import matplotlib.colors\n",
    "import scipy.stats\n",
    "import matplotlib.patches\n",
    "\n",
    "import matplotlib.ticker\n",
    "import cartopy.mpl.gridliner #import LONGITUDE_FORMATTER, LATITUDE_FORMATTER\n",
    "\n",
    "import mpl_toolkits\n",
    "import cartopy\n",
    "\n",
    "DEGREE_SIGN = u'\\u00B0'\n",
    "mp.rcParams.update({'mathtext.default': 'regular'})\n",
    "\n",
    "#% matplotlib inline\n",
    "#% matplotlib auto"
   ]
  },
  {
   "cell_type": "code",
   "execution_count": 104,
   "metadata": {},
   "outputs": [],
   "source": [
    "run_info = 'FMAASO'\n",
    "skip_time=0"
   ]
  },
  {
   "cell_type": "markdown",
   "metadata": {},
   "source": [
    "# GEO EM FILE"
   ]
  },
  {
   "cell_type": "code",
   "execution_count": 105,
   "metadata": {},
   "outputs": [],
   "source": [
    "geo_em_ncfile = netCDF4.Dataset('/Users/baird/Dropbox/_data_WRF/geo_em.d01_amazon_50km.nc')\n",
    "HGT_M = geo_em_ncfile.variables['HGT_M'][0,:,:]"
   ]
  },
  {
   "cell_type": "markdown",
   "metadata": {},
   "source": [
    "# time, LAT, LON ncfiles"
   ]
  },
  {
   "cell_type": "code",
   "execution_count": 106,
   "metadata": {},
   "outputs": [],
   "source": [
    "xlat_ncfile_name = '/Users/baird/Dropbox/_data_WRF/CHEYENNE/FMAASO/1000/concat_nc_files/wrfout_d01_1979-01-01_00:00:00_XLAT.nc'\n",
    "xlong_ncfile_name = '/Users/baird/Dropbox/_data_WRF/CHEYENNE/FMAASO/1000/concat_nc_files/wrfout_d01_1979-01-01_00:00:00_XLONG.nc'\n",
    "landmask_ncfile_name = '/Users/baird/Dropbox/_data_WRF/CHEYENNE/FMAASO/1000/concat_nc_files/wrfout_d01_1979-01-01_00:00:00_LANDMASK.nc'\n",
    "times_ncfile_name = '/Users/baird/Dropbox/_data_WRF/CHEYENNE/FMAASO/1000/concat_nc_files/wrfout_d01_1979-01-01_00:00:00_1979-01-11_00:00:00_Times_ens_mean.nc'"
   ]
  },
  {
   "cell_type": "markdown",
   "metadata": {},
   "source": [
    "# import FMAASO 400 data"
   ]
  },
  {
   "cell_type": "code",
   "execution_count": 107,
   "metadata": {},
   "outputs": [],
   "source": [
    "data_dir = '/Users/baird/Dropbox/_data_WRF/CHEYENNE/FMAASO/400/concat_nc_files/'\n",
    "filename_prefix = 'wrfout_d01_1979-01-01_00:00:00_1979-01-11_00:00:00_'\n",
    "filename_suffix = '_ens_mean.nc'\n",
    "\n",
    "time_ncfile = netCDF4.Dataset(times_ncfile_name)\n",
    "xlat_ncfile = netCDF4.Dataset(xlat_ncfile_name)\n",
    "xlong_ncfile = netCDF4.Dataset(xlong_ncfile_name)\n",
    "landmask_ncfile = netCDF4.Dataset(landmask_ncfile_name)\n",
    "\n",
    "qvapor_ncfile = netCDF4.Dataset(data_dir + filename_prefix + 'QVAPOR' + '_ens_mean_vinterp_zcoords.nc')\n",
    "u_ncfile = netCDF4.Dataset(data_dir + filename_prefix + 'U' + '_ens_mean_vinterp_zcoords.nc')\n",
    "v_ncfile = netCDF4.Dataset(data_dir + filename_prefix + 'V' + '_ens_mean_vinterp_zcoords.nc')\n",
    "w_ncfile = netCDF4.Dataset(data_dir + filename_prefix + 'W' + '_ens_mean_vinterp_zcoords.nc')"
   ]
  },
  {
   "cell_type": "code",
   "execution_count": 108,
   "metadata": {},
   "outputs": [
    {
     "name": "stderr",
     "output_type": "stream",
     "text": [
      "/Users/baird/anaconda/lib/python3.6/site-packages/numpy/ma/core.py:1016: RuntimeWarning: overflow encountered in multiply\n",
      "  result = self.f(da, db, *args, **kwargs)\n"
     ]
    }
   ],
   "source": [
    "time_var = time_ncfile.variables['Times']\n",
    "time = time_ncfile.variables['Times'][:]\n",
    "xlat = xlat_ncfile.variables['XLAT'][0,:,:]\n",
    "xlong = xlong_ncfile.variables['XLONG'][0,:,:]\n",
    "landmask = landmask_ncfile.variables['LANDMASK'][0,:,:]\n",
    "\n",
    "z = qvapor_ncfile.variables['z'][:]\n",
    "qvapor_400 = qvapor_ncfile.variables['QVAPOR'][:] * 1000.\n",
    "u_400 = u_ncfile.variables['U'][:]\n",
    "v_400 = v_ncfile.variables['V'][:]"
   ]
  },
  {
   "cell_type": "markdown",
   "metadata": {},
   "source": [
    "# import FMAASO 1000 data"
   ]
  },
  {
   "cell_type": "code",
   "execution_count": 109,
   "metadata": {},
   "outputs": [],
   "source": [
    "data_dir = '/Users/baird/Dropbox/_data_WRF/CHEYENNE/FMAASO/1000/concat_nc_files/'\n",
    "filename_prefix = 'wrfout_d01_1979-01-01_00:00:00_1979-01-11_00:00:00_'\n",
    "filename_suffix = '_ens_mean.nc'\n",
    "\n",
    "time_ncfile = netCDF4.Dataset(times_ncfile_name)\n",
    "xlat_ncfile = netCDF4.Dataset(xlat_ncfile_name)\n",
    "xlong_ncfile = netCDF4.Dataset(xlong_ncfile_name)\n",
    "landmask_ncfile = netCDF4.Dataset(landmask_ncfile_name)\n",
    "\n",
    "qvapor_ncfile = netCDF4.Dataset(data_dir + filename_prefix + 'QVAPOR' + '_ens_mean_vinterp_zcoords.nc')\n",
    "u_ncfile = netCDF4.Dataset(data_dir + filename_prefix + 'U' + '_ens_mean_vinterp_zcoords.nc')\n",
    "v_ncfile = netCDF4.Dataset(data_dir + filename_prefix + 'V' + '_ens_mean_vinterp_zcoords.nc')\n",
    "w_ncfile = netCDF4.Dataset(data_dir + filename_prefix + 'W' + '_ens_mean_vinterp_zcoords.nc')"
   ]
  },
  {
   "cell_type": "code",
   "execution_count": 110,
   "metadata": {},
   "outputs": [
    {
     "name": "stderr",
     "output_type": "stream",
     "text": [
      "/Users/baird/anaconda/lib/python3.6/site-packages/numpy/ma/core.py:1016: RuntimeWarning: overflow encountered in multiply\n",
      "  result = self.f(da, db, *args, **kwargs)\n"
     ]
    }
   ],
   "source": [
    "time_var_1000 = time_ncfile.variables['Times']\n",
    "time_1000 = time_ncfile.variables['Times'][:]\n",
    "xlat = xlat_ncfile.variables['XLAT'][0,:,:]\n",
    "xlong = xlong_ncfile.variables['XLONG'][0,:,:]\n",
    "landmask = landmask_ncfile.variables['LANDMASK'][0,:,:]\n",
    "\n",
    "qvapor_1000 = qvapor_ncfile.variables['QVAPOR'][:] * 1000.\n",
    "u_1000 = u_ncfile.variables['U'][:]\n",
    "v_1000 = v_ncfile.variables['V'][:]"
   ]
  },
  {
   "cell_type": "markdown",
   "metadata": {},
   "source": [
    "# get time stamps"
   ]
  },
  {
   "cell_type": "code",
   "execution_count": 111,
   "metadata": {},
   "outputs": [],
   "source": [
    "time_datetimes = numpy.zeros(time.shape[0], dtype=object)\n",
    "for t in range(time.shape[0]):\n",
    "    time_string = ''.join([i.decode('utf-8') for i in time[t,:]])\n",
    "    year,month,day = time_string.split('_')[0].split('-')\n",
    "    hour,minute,second = time_string.split('_')[1].split(':')\n",
    "    time_datetimes[t] = datetime.datetime(int(year),int(month),int(day),int(hour),int(second),int(minute))"
   ]
  },
  {
   "cell_type": "code",
   "execution_count": 112,
   "metadata": {},
   "outputs": [],
   "source": [
    "# SET ALL OCEAN GRID POINTS EQUAL TO NAN\n",
    "qvapor_400_landmask = numpy.copy(qvapor_400)\n",
    "qvapor_400_landmask[:,:,landmask==0] = numpy.nan\n",
    "\n",
    "qvapor_1000_landmask = numpy.copy(qvapor_1000)\n",
    "qvapor_1000_landmask[:,:,landmask==0] = numpy.nan\n",
    "\n",
    "u_400_landmask = numpy.copy(u_400)\n",
    "u_400_landmask[:,:,landmask==0] = numpy.nan\n",
    "\n",
    "u_1000_landmask = numpy.copy(u_1000)\n",
    "u_1000_landmask[:,:,landmask==0] = numpy.nan\n",
    "\n",
    "v_400_landmask = numpy.copy(v_400)\n",
    "v_400_landmask[:,:,landmask==0] = numpy.nan\n",
    "\n",
    "v_1000_landmask = numpy.copy(v_1000)\n",
    "v_1000_landmask[:,:,landmask==0] = numpy.nan\n",
    "\n",
    "threshold = 9.96921e+36\n",
    "\n",
    "u_400_landmask[u_400_landmask==threshold] = numpy.nan\n",
    "u_1000_landmask[u_1000_landmask==threshold] = numpy.nan\n",
    "v_400_landmask[v_400_landmask==threshold] = numpy.nan\n",
    "v_1000_landmask[v_1000_landmask==threshold] = numpy.nan\n",
    "qvapor_400_landmask[qvapor_400_landmask==threshold] = numpy.nan\n",
    "qvapor_1000_landmask[qvapor_1000_landmask==threshold] = numpy.nan\n"
   ]
  },
  {
   "cell_type": "markdown",
   "metadata": {},
   "source": [
    "# calculate uv magnitudes"
   ]
  },
  {
   "cell_type": "code",
   "execution_count": 113,
   "metadata": {},
   "outputs": [],
   "source": [
    "uv_400_landmask = numpy.sqrt(u_400_landmask**2. + v_400_landmask**2.)\n",
    "uv_1000_landmask = numpy.sqrt(u_1000_landmask**2. + v_1000_landmask**2.)"
   ]
  },
  {
   "cell_type": "markdown",
   "metadata": {},
   "source": [
    "# calculate uv differences"
   ]
  },
  {
   "cell_type": "code",
   "execution_count": 114,
   "metadata": {},
   "outputs": [],
   "source": [
    "u_diffs_landmask = u_1000_landmask-u_400_landmask\n",
    "v_diffs_landmask = v_1000_landmask-v_400_landmask"
   ]
  },
  {
   "cell_type": "code",
   "execution_count": 115,
   "metadata": {},
   "outputs": [],
   "source": [
    "# PULL OUT LONGITUDINAL AND LATITUDINAL RANGE\n",
    "lon_hi = -34.\n",
    "lon_lo = -70.\n",
    "lat_lo = -8.\n",
    "lat_hi = 12."
   ]
  },
  {
   "cell_type": "code",
   "execution_count": 116,
   "metadata": {},
   "outputs": [
    {
     "name": "stdout",
     "output_type": "stream",
     "text": [
      "differences\n",
      "latitude and longitude subset\n"
     ]
    }
   ],
   "source": [
    "################################################################################\n",
    "################################################################################\n",
    "# CALCULATE DIFFERENCES, FORCE TO BE LAND ONLY GRID POINTS\n",
    "\n",
    "xlat_indices = numpy.array((xlat>=lat_lo) & (xlat<=lat_hi), dtype=bool)\n",
    "xlong_indices = numpy.array((xlong>=lon_lo) & (xlong<=lon_hi), dtype=bool)\n",
    "xlat_subset = xlat[xlat_indices[:,0],:]\n",
    "xlat_subset = xlat_subset[:,xlong_indices[0,:]]\n",
    "xlong_subset = xlong[xlat_indices[:,0],:]\n",
    "xlong_subset = xlong_subset[:,xlong_indices[0,:]]\n",
    "\n",
    "# QVAPOR DIFFERENCES\n",
    "print(\"differences\")\n",
    "skip_time = 1\n",
    "qvapor_landmask_diffs = qvapor_1000_landmask[skip_time:,:,:,:] - qvapor_400_landmask[skip_time:,:,:,:]\n",
    "uv_landmask_diffs = uv_1000_landmask[skip_time:,:,:,:] - uv_400_landmask[skip_time:,:,:,:]\n",
    "time = time[skip_time:]\n",
    "\n",
    "# QVAPOR SUBSET LATITUDES\n",
    "print(\"latitude and longitude subset\")\n",
    "qvapor_landmask_diffs = qvapor_landmask_diffs[:,:,xlat_indices[:,0],:]\n",
    "qvapor_landmask_diffs = qvapor_landmask_diffs[:,:,:,xlong_indices[0,:]]\n",
    "\n",
    "uv_landmask_diffs = uv_landmask_diffs[:,:,xlat_indices[:,0],:]\n",
    "uv_landmask_diffs = uv_landmask_diffs[:,:,:,xlong_indices[0,:]]\n",
    "\n",
    "# TAKE REGIONAL SUBSETS\n",
    "uv_400_landmask_region = uv_400_landmask[skip_time:,:,xlat_indices[:,0],:]\n",
    "uv_400_landmask_region = uv_400_landmask_region[:,:,:,xlong_indices[0,:]]\n",
    "uv_1000_landmask_region = uv_1000_landmask[skip_time:,:,xlat_indices[:,0],:]\n",
    "uv_1000_landmask_region = uv_1000_landmask_region[:,:,:,xlong_indices[0,:]]\n",
    "qvapor_400_landmask_region = qvapor_400_landmask[skip_time:,:,xlat_indices[:,0],:]\n",
    "qvapor_400_landmask_region = qvapor_400_landmask_region[:,:,:,xlong_indices[0,:]]\n",
    "qvapor_1000_landmask_region = qvapor_1000_landmask[skip_time:,:,xlat_indices[:,0],:]\n",
    "qvapor_1000_landmask_region = qvapor_1000_landmask_region[:,:,:,xlong_indices[0,:]]"
   ]
  },
  {
   "cell_type": "markdown",
   "metadata": {},
   "source": [
    "# Plot the region where these anomalies are calculated"
   ]
  },
  {
   "cell_type": "code",
   "execution_count": 117,
   "metadata": {},
   "outputs": [
    {
     "data": {
      "text/plain": [
       "[<matplotlib.lines.Line2D at 0x1fda2d9550>]"
      ]
     },
     "execution_count": 117,
     "metadata": {},
     "output_type": "execute_result"
    },
    {
     "data": {
      "image/png": "[encoded data removed]",
      "text/plain": [
       "<matplotlib.figure.Figure at 0x1ab1194e80>"
      ]
     },
     "metadata": {},
     "output_type": "display_data"
    }
   ],
   "source": [
    "fig,ax = mp.subplots(nrows=1,ncols=1,subplot_kw={'projection':cartopy.crs.PlateCarree()})\n",
    "fig.set_size_inches(4.25,2.5)\n",
    "\n",
    "ax.coastlines(resolution='110m')\n",
    "ax.set_extent([xlong.min(), xlong.max(), xlat.min(), xlat.max()], crs=cartopy.crs.PlateCarree())\n",
    "\n",
    "lon0,lon1,lat0,lat1 = ax.get_extent()\n",
    "box_x = [lon_lo, lon_hi, lon_hi, lon_lo, lon_lo]\n",
    "box_y = [lat_lo, lat_lo, lat_hi, lat_hi, lat_lo]\n",
    "\n",
    "ax.plot(box_x, box_y, color='red',  transform=cartopy.crs.PlateCarree())\n",
    "#matplotlib.patches.Rectangle"
   ]
  },
  {
   "cell_type": "markdown",
   "metadata": {},
   "source": [
    "# regional subsets of u and v diffs (for angle caculations)"
   ]
  },
  {
   "cell_type": "code",
   "execution_count": 118,
   "metadata": {},
   "outputs": [],
   "source": [
    "u_diffs_landmask_region = u_diffs_landmask[:,:,xlat_indices[:,0],:]\n",
    "u_diffs_landmask_region = u_diffs_landmask_region[:,:,:,xlong_indices[0,:]]\n",
    "\n",
    "v_diffs_landmask_region = v_diffs_landmask[:,:,xlat_indices[:,0],:]\n",
    "v_diffs_landmask_region = v_diffs_landmask_region[:,:,:,xlong_indices[0,:]]"
   ]
  },
  {
   "cell_type": "code",
   "execution_count": 119,
   "metadata": {},
   "outputs": [],
   "source": [
    "u_400_landmask_region = u_400_landmask[:,:,xlat_indices[:,0],:]\n",
    "u_400_landmask_region = u_400_landmask_region[:,:,:,xlong_indices[0,:]]\n",
    "\n",
    "v_400_landmask_region = v_400_landmask[:,:,xlat_indices[:,0],:]\n",
    "v_400_landmask_region = v_400_landmask_region[:,:,:,xlong_indices[0,:]]"
   ]
  },
  {
   "cell_type": "code",
   "execution_count": 120,
   "metadata": {},
   "outputs": [
    {
     "name": "stderr",
     "output_type": "stream",
     "text": [
      "/Users/baird/anaconda/lib/python3.6/site-packages/ipykernel_launcher.py:1: RuntimeWarning: Mean of empty slice\n",
      "  \"\"\"Entry point for launching an IPython kernel.\n",
      "/Users/baird/anaconda/lib/python3.6/site-packages/ipykernel_launcher.py:2: RuntimeWarning: Mean of empty slice\n",
      "  \n",
      "/Users/baird/anaconda/lib/python3.6/site-packages/ipykernel_launcher.py:4: RuntimeWarning: Mean of empty slice\n",
      "  after removing the cwd from sys.path.\n",
      "/Users/baird/anaconda/lib/python3.6/site-packages/ipykernel_launcher.py:5: RuntimeWarning: Mean of empty slice\n",
      "  \"\"\"\n"
     ]
    }
   ],
   "source": [
    "u_400_time_mean = numpy.nanmean(u_400_landmask_region, axis=0)\n",
    "u_400_time_space_mean = numpy.nanmean(u_400_time_mean, axis=(1,2))\n",
    "\n",
    "v_400_time_mean = numpy.nanmean(v_400_landmask_region, axis=0)\n",
    "v_400_time_space_mean = numpy.nanmean(v_400_time_mean, axis=(1,2))"
   ]
  },
  {
   "cell_type": "code",
   "execution_count": 121,
   "metadata": {},
   "outputs": [
    {
     "name": "stderr",
     "output_type": "stream",
     "text": [
      "/Users/baird/anaconda/lib/python3.6/site-packages/ipykernel_launcher.py:1: RuntimeWarning: Mean of empty slice\n",
      "  \"\"\"Entry point for launching an IPython kernel.\n",
      "/Users/baird/anaconda/lib/python3.6/site-packages/ipykernel_launcher.py:2: RuntimeWarning: Mean of empty slice\n",
      "  \n",
      "/Users/baird/anaconda/lib/python3.6/site-packages/ipykernel_launcher.py:4: RuntimeWarning: Mean of empty slice\n",
      "  after removing the cwd from sys.path.\n",
      "/Users/baird/anaconda/lib/python3.6/site-packages/ipykernel_launcher.py:5: RuntimeWarning: Mean of empty slice\n",
      "  \"\"\"\n"
     ]
    }
   ],
   "source": [
    "u_diffs_time_mean = numpy.nanmean(u_diffs_landmask_region, axis=0)\n",
    "u_diffs_time_space_mean = numpy.nanmean(u_diffs_time_mean, axis=(1,2))\n",
    "\n",
    "v_diffs_time_mean = numpy.nanmean(v_diffs_landmask_region, axis=0)\n",
    "v_diffs_time_space_mean = numpy.nanmean(v_diffs_time_mean, axis=(1,2))"
   ]
  },
  {
   "cell_type": "code",
   "execution_count": 122,
   "metadata": {},
   "outputs": [
    {
     "name": "stderr",
     "output_type": "stream",
     "text": [
      "/Users/baird/anaconda/lib/python3.6/site-packages/ipykernel_launcher.py:8: RuntimeWarning: Mean of empty slice\n",
      "  \n",
      "/Users/baird/anaconda/lib/python3.6/site-packages/ipykernel_launcher.py:9: RuntimeWarning: Mean of empty slice\n",
      "  if __name__ == '__main__':\n",
      "/Users/baird/anaconda/lib/python3.6/site-packages/ipykernel_launcher.py:11: RuntimeWarning: Mean of empty slice\n",
      "  # This is added back by InteractiveShellApp.init_path()\n",
      "/Users/baird/anaconda/lib/python3.6/site-packages/ipykernel_launcher.py:12: RuntimeWarning: Mean of empty slice\n",
      "  if sys.path[0] == '':\n"
     ]
    }
   ],
   "source": [
    "# ============================================================================ #\n",
    "# overbar(quv) = overbar(overbar(q)*overbar(w)) + overbar(qprime*wprime)\n",
    "### overbar(quv)\n",
    "\n",
    "quv_400_landmask = uv_400_landmask_region*qvapor_400_landmask_region\n",
    "quv_1000_landmask = uv_1000_landmask_region*qvapor_1000_landmask_region\n",
    "\n",
    "quv_400_time_mean = numpy.nanmean(quv_400_landmask, axis=0)\n",
    "quv_1000_time_mean = numpy.nanmean(quv_1000_landmask, axis=0)\n",
    "\n",
    "quv_400_time_space_mean = numpy.nanmean(quv_400_time_mean, axis=(1,2))\n",
    "quv_1000_time_space_mean = numpy.nanmean(quv_1000_time_mean, axis=(1,2))\n",
    "\n",
    "quv_diffs_overbar = quv_1000_time_space_mean - quv_400_time_space_mean"
   ]
  },
  {
   "cell_type": "code",
   "execution_count": 123,
   "metadata": {},
   "outputs": [
    {
     "name": "stderr",
     "output_type": "stream",
     "text": [
      "/Users/baird/anaconda/lib/python3.6/site-packages/ipykernel_launcher.py:4: RuntimeWarning: Mean of empty slice\n",
      "  after removing the cwd from sys.path.\n",
      "/Users/baird/anaconda/lib/python3.6/site-packages/ipykernel_launcher.py:5: RuntimeWarning: Mean of empty slice\n",
      "  \"\"\"\n",
      "/Users/baird/anaconda/lib/python3.6/site-packages/ipykernel_launcher.py:7: RuntimeWarning: Mean of empty slice\n",
      "  import sys\n",
      "/Users/baird/anaconda/lib/python3.6/site-packages/ipykernel_launcher.py:8: RuntimeWarning: Mean of empty slice\n",
      "  \n",
      "/Users/baird/anaconda/lib/python3.6/site-packages/ipykernel_launcher.py:12: RuntimeWarning: Mean of empty slice\n",
      "  if sys.path[0] == '':\n",
      "/Users/baird/anaconda/lib/python3.6/site-packages/ipykernel_launcher.py:13: RuntimeWarning: Mean of empty slice\n",
      "  del sys.path[0]\n",
      "/Users/baird/anaconda/lib/python3.6/site-packages/ipykernel_launcher.py:16: RuntimeWarning: Mean of empty slice\n",
      "  app.launch_new_instance()\n"
     ]
    }
   ],
   "source": [
    "# ================================================================================\n",
    "### overbar(q)*overbar(w)\n",
    "\n",
    "qvapor_400_time_mean = numpy.nanmean(qvapor_400_landmask_region, axis=0)\n",
    "qvapor_1000_time_mean = numpy.nanmean(qvapor_1000_landmask_region, axis=0)\n",
    "\n",
    "uv_400_time_mean = numpy.nanmean(uv_400_landmask_region, axis=0)\n",
    "uv_1000_time_mean = numpy.nanmean(uv_1000_landmask_region, axis=0)\n",
    "\n",
    "qbar_uvbar_400 = qvapor_400_time_mean*uv_400_time_mean\n",
    "qbar_uvbar_1000 = qvapor_1000_time_mean*uv_1000_time_mean\n",
    "qbar_uvbar_400_space_mean = numpy.nanmean(qbar_uvbar_400, axis=(1,2))\n",
    "qbar_uvbar_1000_space_mean = numpy.nanmean(qbar_uvbar_1000, axis=(1,2))\n",
    "\n",
    "qbar_uvbar_diffs = qbar_uvbar_1000-qbar_uvbar_400\n",
    "qbar_uvbar_diffs_space_mean = numpy.nanmean(qbar_uvbar_diffs, axis=(1,2))"
   ]
  },
  {
   "cell_type": "code",
   "execution_count": 124,
   "metadata": {},
   "outputs": [
    {
     "name": "stderr",
     "output_type": "stream",
     "text": [
      "/Users/baird/anaconda/lib/python3.6/site-packages/ipykernel_launcher.py:13: RuntimeWarning: Mean of empty slice\n",
      "  del sys.path[0]\n",
      "/Users/baird/anaconda/lib/python3.6/site-packages/ipykernel_launcher.py:14: RuntimeWarning: Mean of empty slice\n",
      "  \n",
      "/Users/baird/anaconda/lib/python3.6/site-packages/ipykernel_launcher.py:15: RuntimeWarning: Mean of empty slice\n",
      "  from ipykernel import kernelapp as app\n",
      "/Users/baird/anaconda/lib/python3.6/site-packages/ipykernel_launcher.py:16: RuntimeWarning: Mean of empty slice\n",
      "  app.launch_new_instance()\n",
      "/Users/baird/anaconda/lib/python3.6/site-packages/ipykernel_launcher.py:19: RuntimeWarning: Mean of empty slice\n"
     ]
    }
   ],
   "source": [
    "# ================================================================================\n",
    "### overbar(qprime*uvprime)\n",
    "\n",
    "qprime_400 = qvapor_400_landmask_region - qvapor_400_time_mean\n",
    "qprime_1000 = qvapor_1000_landmask_region - qvapor_1000_time_mean\n",
    "\n",
    "uvprime_400 = uv_400_landmask_region - uv_400_time_mean\n",
    "uvprime_1000 = uv_1000_landmask_region - uv_1000_time_mean\n",
    "\n",
    "qprime_uvprime_400 = qprime_400*uvprime_400\n",
    "qprime_uvprime_1000 = qprime_1000*uvprime_1000\n",
    "\n",
    "qprime_uvprime_400_time_mean = numpy.nanmean(qprime_uvprime_400, axis=0)\n",
    "qprime_uvprime_1000_time_mean = numpy.nanmean(qprime_uvprime_1000, axis=0)\n",
    "qprime_uvprime_400_space_mean = numpy.nanmean(qprime_uvprime_400_time_mean, axis=(1,2))\n",
    "qprime_uvprime_1000_space_mean = numpy.nanmean(qprime_uvprime_1000_time_mean, axis=(1,2))\n",
    "\n",
    "qprime_uvprime_diffs = qprime_uvprime_1000_time_mean - qprime_uvprime_400_time_mean\n",
    "qprime_uvprime_diffs_space_mean = numpy.nanmean(qprime_uvprime_diffs, axis=(1,2))"
   ]
  },
  {
   "cell_type": "code",
   "execution_count": 135,
   "metadata": {},
   "outputs": [
    {
     "name": "stderr",
     "output_type": "stream",
     "text": [
      "/Users/baird/anaconda/lib/python3.6/site-packages/matplotlib/quiver.py:719: RuntimeWarning: invalid value encountered in less\n",
      "  short = np.repeat(length < minsh, 8, axis=1)\n",
      "/Users/baird/anaconda/lib/python3.6/site-packages/matplotlib/quiver.py:733: RuntimeWarning: invalid value encountered in less\n",
      "  tooshort = length < self.minlength\n"
     ]
    },
    {
     "data": {
      "image/png": "[encoded data removed]",
      "text/plain": [
       "<matplotlib.figure.Figure at 0x1a299c9b70>"
      ]
     },
     "metadata": {},
     "output_type": "display_data"
    }
   ],
   "source": [
    "fontsize=12\n",
    "fig,ax=mp.subplots(ncols=3,nrows=2)\n",
    "fig.set_size_inches(6.5,6)\n",
    "\n",
    "ax[0,0].plot(quv_400_time_space_mean, z, c='0.1', label='low CO$_2$')\n",
    "ax[0,0].plot(quv_1000_time_space_mean, z, c='firebrick', ls='--', label='high CO$_2$')\n",
    "ax[0,0].tick_params(labelsize=fontsize)\n",
    "#handles, labels = ax[0,0].get_legend_handles_labels()\n",
    "#ax[0,0].legend(handles, labels, fontsize=fontsize, scatterpoints=1, ncol=1, bbox_to_anchor=(0.99,0.99), bbox_transform=ax[0,0].transAxes, loc='upper right', borderaxespad=0, labelspacing=0.25, fancybox=False, edgecolor='0', framealpha=0, borderpad=0.25, columnspacing=0.5, handletextpad=0.25, markerscale=1)\n",
    "\n",
    "ax[1,0].axvline(x=0, c='0.1', ls='--')\n",
    "ax[1,0].plot(quv_diffs_overbar, z, c='firebrick', label='diffs')\n",
    "ax[1,0].tick_params(labelsize=fontsize)\n",
    "\n",
    "# =====\n",
    "ax[0,2].plot(qprime_uvprime_400_space_mean, z, c='0.1', label='low\\nCO$_2$')\n",
    "ax[0,2].plot(qprime_uvprime_1000_space_mean, z, c='firebrick', ls='--', label='high\\nCO$_2$')\n",
    "ax[0,2].tick_params(labelsize=fontsize)\n",
    "handles, labels = ax[0,2].get_legend_handles_labels()\n",
    "ax[0,2].legend(handles, labels, fontsize=fontsize, scatterpoints=1, ncol=1, bbox_to_anchor=(0.02,0.98), \\\n",
    "               bbox_transform=ax[0,2].transAxes, loc='upper left', borderaxespad=0, \\\n",
    "               labelspacing=1, fancybox=False, edgecolor='0', framealpha=0, handlelength=1.25, \\\n",
    "               borderpad=0.25, columnspacing=0.5, handletextpad=0.25, markerscale=1)\n",
    "\n",
    "ax[1,2].axvline(x=0, c='0.1', ls='--')\n",
    "ax[1,2].plot(qprime_uvprime_diffs_space_mean, z, c='firebrick', label='diffs')\n",
    "ax[1,2].tick_params(labelsize=fontsize)\n",
    "\n",
    "# =====\n",
    "ax[0,1].plot(qbar_uvbar_400_space_mean, z, c='0.1', label='low CO$_2$')\n",
    "ax[0,1].plot(qbar_uvbar_1000_space_mean, z, c='firebrick', ls='--', label='high CO$_2$')\n",
    "ax[0,1].tick_params(labelsize=fontsize)\n",
    "#handles, labels = ax[0,1].get_legend_handles_labels()\n",
    "#ax[0,1].legend(handles, labels, fontsize=fontsize, scatterpoints=2, ncol=1, bbox_to_anchor=(0.99,0.99), bbox_transform=ax[0,1].transAxes, loc='upper right', borderaxespad=0, labelspacing=0.25, fancybox=False, edgecolor='0', framealpha=0, borderpad=0.25, columnspacing=0.5, handletextpad=0.25, markerscale=1)\n",
    "\n",
    "\n",
    "ax[1,1].axvline(x=0, c='0.1', ls='--')\n",
    "ax[1,1].plot(qbar_uvbar_diffs_space_mean, z, c='firebrick', label='diffs')\n",
    "ax[1,1].tick_params(labelsize=fontsize)\n",
    "\n",
    "ax[0,0].text(s='(a) '+r\"$\\overline{q(uv)}$\", x=0, y=1.01, fontsize=fontsize, ha='left', va='bottom', transform=ax[0,0].transAxes)\n",
    "ax[0,1].text(s='(b) '+r\"$\\overline{q} \\,\\, \\overline{(uv)}$\", x=0, y=1.01, fontsize=fontsize, ha='left', va='bottom', transform=ax[0,1].transAxes)\n",
    "ax[0,2].text(s='(c) '+r\"$\\overline{q \\prime (uv) \\prime}$\", x=0, y=1.01, fontsize=fontsize, ha='left', va='bottom', transform=ax[0,2].transAxes)\n",
    "ax[1,0].text(s='(d) '+r\"$\\overline{q(uv)}$\"+' diff.', x=0, y=1.01, fontsize=fontsize, ha='left', va='bottom', transform=ax[1,0].transAxes)\n",
    "ax[1,1].text(s='(e) '+r\"$\\overline{q} \\,\\, \\overline{(uv)}$\"+' diff.', x=0, y=1.01, fontsize=fontsize, ha='left', va='bottom', transform=ax[1,1].transAxes)\n",
    "ax[1,2].text(s='(f) '+r\"$\\overline{q \\prime (uv) \\prime}$\"+' diff.', x=0, y=1.01, fontsize=fontsize, ha='left', va='bottom', transform=ax[1,2].transAxes)\n",
    "\n",
    "ax[0,0].set_xlim(-5,110)\n",
    "ax[0,1].set_xlim(-5,110)\n",
    "ax[0,2].set_xlim(-0.75,0.25)\n",
    "\n",
    "ax[1,0].set_xlim(-3,10)\n",
    "ax[1,1].set_xlim(-3,10)\n",
    "ax[1,2].set_xlim(-0.175,0.175)\n",
    "\n",
    "ax[1,0].set_xticks([0,5,10])\n",
    "ax[1,1].set_xticks([0,5,10])\n",
    "# ax[1,2].set_xticks([-0.00035,0,0.00035])\n",
    "\n",
    "# ax[1,0].set_xticklabels(['-0.0035','0','0.0035'])\n",
    "# ax[1,1].set_xticklabels(['-0.0035','0','0.0035'])\n",
    "# ax[1,2].set_xticklabels(['-0.00035','0','0.00035'])\n",
    "\n",
    "# ax[1,0].set_xlabel('diffs in '+r\"$\\overline{q w}$\", fontsize=fontsize)\n",
    "# ax[1,2].set_xlabel('diffs in '+r\"$\\overline{q \\prime w \\prime}$\", fontsize=fontsize)\n",
    "# ax[0,1].set_xlabel(r\"$\\overline{q \\prime w \\prime}$\", fontsize=fontsize)\n",
    "# ax[1,1].set_xlabel('diffs in '+r\"$\\overline{\\overline{q} \\, \\overline{w}}$\", fontsize=fontsize)\n",
    "# ax[0,0].set_xlabel(r\"$\\overline{q w}$\", fontsize=fontsize)\n",
    "# ax[0,2].set_xlabel(r\"$\\overline{q \\prime w \\prime}$\", fontsize=fontsize)\n",
    "\n",
    "ax[0,0].set_ylabel('km', fontsize=fontsize)\n",
    "ax[1,0].set_ylabel('km', fontsize=fontsize)\n",
    "ax[0,1].set_ylabel('km', fontsize=fontsize)\n",
    "ax[1,1].set_ylabel('km', fontsize=fontsize)\n",
    "ax[0,2].set_ylabel('km', fontsize=fontsize)\n",
    "ax[1,2].set_ylabel('km', fontsize=fontsize)\n",
    "\n",
    "ax[0,0].set_xlabel('g kg$^{\\,-1}$'+'$\\cdot$'+'m s$^{\\,-1}$', fontsize=fontsize)\n",
    "ax[1,0].set_xlabel('g kg$^{\\,-1}$'+'$\\cdot$'+'m s$^{\\,-1}$', fontsize=fontsize)\n",
    "ax[0,1].set_xlabel('g kg$^{\\,-1}$'+'$\\cdot$'+'m s$^{\\,-1}$', fontsize=fontsize)\n",
    "ax[1,1].set_xlabel('g kg$^{\\,-1}$'+'$\\cdot$'+'m s$^{\\,-1}$', fontsize=fontsize)\n",
    "ax[0,2].set_xlabel('g kg$^{\\,-1}$'+'$\\cdot$'+'m s$^{\\,-1}$', fontsize=fontsize)\n",
    "ax[1,2].set_xlabel('g kg$^{\\,-1}$'+'$\\cdot$'+'m s$^{\\,-1}$', fontsize=fontsize)\n",
    "\n",
    "fig.tight_layout(h_pad=2.5)#, w_pad=0)\n",
    "\n",
    "# ADD WIND DIRECTION CHANGES\n",
    "ax_pos = ax[0,0].get_position()\n",
    "ax_width=0.05\n",
    "ax00_quiver = fig.add_axes([ax_pos.x1-ax_width, ax_pos.y0,2*ax_width,ax_pos.height])\n",
    "Xloc = numpy.zeros(v_diffs_time_space_mean.size)\n",
    "Yloc = z\n",
    "lev_subset = [0,6]+list(range(7,26))\n",
    "uv_mag = numpy.sqrt(u_400_time_space_mean**2. + v_400_time_space_mean**2.)*1.75\n",
    "ax00_quiver.quiver(Xloc[lev_subset], \\\n",
    "                   Yloc[lev_subset], \\\n",
    "                   u_400_time_space_mean[lev_subset], \\\n",
    "                   v_400_time_space_mean[lev_subset], \\\n",
    "                   color='forestgreen', \\\n",
    "                   angles='uv', scale=uv_mag[lev_subset]*1.75, pivot='tail', width=0.03)#, \\\n",
    "                   #clip_on=False)\n",
    "ax00_quiver.axis('off')\n",
    "\n",
    "ax00_quiver.text(s='mean\\nwind\\ndirection\\n(low CO$_2$)', x=-0.1, y=0.97, ha='right', va='top', \\\n",
    "                transform=ax00_quiver.transAxes, \\\n",
    "                color='forestgreen', fontsize=fontsize)\n",
    "\n",
    "ax_pos = ax[1,0].get_position()\n",
    "ax_width=0.05\n",
    "ax10_quiver = fig.add_axes([ax_pos.x1-ax_width, ax_pos.y0,2*ax_width,ax_pos.height])\n",
    "Xloc = numpy.zeros(v_diffs_time_space_mean.size)\n",
    "Yloc = z\n",
    "lev_subset = [0,6]+list(range(7,26))\n",
    "uv_mag = numpy.sqrt(u_diffs_time_space_mean**2. + v_diffs_time_space_mean**2.)*1.75\n",
    "ax10_quiver.quiver(Xloc[lev_subset], \\\n",
    "                   Yloc[lev_subset], \\\n",
    "                   u_diffs_time_space_mean[lev_subset], \\\n",
    "                   v_diffs_time_space_mean[lev_subset], \\\n",
    "                   color='forestgreen', \\\n",
    "                   angles='uv', scale=uv_mag[lev_subset]*1.75, pivot='tail', width=0.03)#, \\\n",
    "                   #clip_on=False)\n",
    "ax10_quiver.axis('off')\n",
    "#ax00_quiver.set_xlim(-300,300)\n",
    "\n",
    "ax10_quiver.text(s='mean\\nwind\\ndirection\\nchange\\n(high minus\\nlow CO$_2$)', x=0.4, y=0.97, ha='right', va='top', \\\n",
    "                transform=ax10_quiver.transAxes, \\\n",
    "                color='forestgreen', fontsize=fontsize)\n",
    "\n",
    "mp.show()\n",
    "\n",
    "fig.savefig('figure9_quv_decomposition.png', dpi=600, bbox_inches='tight', transparent=True)"
   ]
  },
  {
   "cell_type": "code",
   "execution_count": null,
   "metadata": {},
   "outputs": [],
   "source": []
  }
 ],
 "metadata": {
  "kernelspec": {
   "display_name": "Python 3",
   "language": "python",
   "name": "python3"
  },
  "language_info": {
   "codemirror_mode": {
    "name": "ipython",
    "version": 3
   },
   "file_extension": ".py",
   "mimetype": "text/x-python",
   "name": "python",
   "nbconvert_exporter": "python",
   "pygments_lexer": "ipython3",
   "version": "3.6.4"
  }
 },
 "nbformat": 4,
 "nbformat_minor": 2
}
