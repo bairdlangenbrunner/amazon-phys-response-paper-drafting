{
 "cells": [
  {
   "cell_type": "code",
   "execution_count": 1,
   "metadata": {},
   "outputs": [],
   "source": [
    "import numpy\n",
    "import netCDF4\n",
    "import matplotlib\n",
    "import matplotlib.pyplot as mp\n",
    "import datetime\n",
    "import matplotlib.colors\n",
    "import scipy.stats\n",
    "import itertools\n",
    "import string\n",
    "\n",
    "import matplotlib.ticker\n",
    "import cartopy.mpl.gridliner #import LONGITUDE_FORMATTER, LATITUDE_FORMATTER\n",
    "\n",
    "import mpl_toolkits\n",
    "import cartopy\n",
    "\n",
    "DEGREE_SIGN = u'\\u00B0'\n",
    "mp.rcParams.update({'mathtext.default': 'regular'})\n",
    "\n",
    "% matplotlib inline"
   ]
  },
  {
   "cell_type": "code",
   "execution_count": 2,
   "metadata": {},
   "outputs": [],
   "source": [
    "run_info = 'FMAASO'\n",
    "skip_time=0"
   ]
  },
  {
   "cell_type": "markdown",
   "metadata": {},
   "source": [
    "# GEO EM FILE"
   ]
  },
  {
   "cell_type": "code",
   "execution_count": 3,
   "metadata": {},
   "outputs": [],
   "source": [
    "geo_em_ncfile = netCDF4.Dataset('/Users/baird/Dropbox/_data_WRF/geo_em.d01_amazon_50km.nc')\n",
    "HGT_M = geo_em_ncfile.variables['HGT_M'][0,:,:]"
   ]
  },
  {
   "cell_type": "markdown",
   "metadata": {},
   "source": [
    "# time, LAT, LON ncfiles"
   ]
  },
  {
   "cell_type": "code",
   "execution_count": 4,
   "metadata": {},
   "outputs": [],
   "source": [
    "xlat_ncfile_name = '/Users/baird/Dropbox/_data_WRF/CHEYENNE/FMAASO/1000/concat_nc_files/wrfout_d01_1979-01-01_00:00:00_XLAT.nc'\n",
    "xlong_ncfile_name = '/Users/baird/Dropbox/_data_WRF/CHEYENNE/FMAASO/1000/concat_nc_files/wrfout_d01_1979-01-01_00:00:00_XLONG.nc'\n",
    "landmask_ncfile_name = '/Users/baird/Dropbox/_data_WRF/CHEYENNE/FMAASO/1000/concat_nc_files/wrfout_d01_1979-01-01_00:00:00_LANDMASK.nc'\n",
    "times_ncfile_name = '/Users/baird/Dropbox/_data_WRF/CHEYENNE/FMAASO/1000/concat_nc_files/wrfout_d01_1979-01-01_00:00:00_1979-01-11_00:00:00_Times_ens_mean.nc'"
   ]
  },
  {
   "cell_type": "markdown",
   "metadata": {},
   "source": [
    "# import FMAASO 400 data"
   ]
  },
  {
   "cell_type": "code",
   "execution_count": 5,
   "metadata": {},
   "outputs": [],
   "source": [
    "data_dir = '/Users/baird/Dropbox/_data_WRF/CHEYENNE/FMAASO/400/concat_nc_files/'\n",
    "filename_prefix = 'wrfout_d01_1979-01-01_00:00:00_1979-01-11_00:00:00_'\n",
    "filename_suffix = '_ens_mean.nc'\n",
    "\n",
    "time_ncfile = netCDF4.Dataset(times_ncfile_name)\n",
    "xlat_ncfile = netCDF4.Dataset(xlat_ncfile_name)\n",
    "xlong_ncfile = netCDF4.Dataset(xlong_ncfile_name)\n",
    "landmask_ncfile = netCDF4.Dataset(landmask_ncfile_name)\n",
    "\n",
    "#qvapor_ncfile = netCDF4.Dataset(data_dir + filename_prefix + 'QVAPOR' + '_ens_mean_vinterp_zcoords.nc')\n",
    "\n",
    "#pblh_ncfile = netCDF4.Dataset(data_dir + filename_prefix + 'PBLH' + filename_suffix)\n",
    "# tk_ncfile = netCDF4.Dataset(data_dir + filename_prefix + 'TK' + '_ens_mean_vinterp_zcoords.nc')\n",
    "\n",
    "# ph_ncfile = netCDF4.Dataset(data_dir + filename_prefix + 'PH' + '_ens_mean_vinterp_zcoords.nc')\n",
    "# phb_ncfile = netCDF4.Dataset(data_dir + filename_prefix + 'PHB' + '_ens_mean_vinterp_zcoords.nc')\n",
    "\n",
    "u_ncfile = netCDF4.Dataset(data_dir + filename_prefix + 'U' + '_ens_mean_vinterp_zcoords.nc')\n",
    "v_ncfile = netCDF4.Dataset(data_dir + filename_prefix + 'V' + '_ens_mean_vinterp_zcoords.nc')\n",
    "#w_ncfile = netCDF4.Dataset(data_dir + filename_prefix + 'W' + '_ens_mean_vinterp_zcoords.nc')\n",
    "\n",
    "# qvapor_ncfile.set_auto_mask(False)\n",
    "# tk_ncfile.set_auto_mask(False)\n",
    "# ph_ncfile.set_auto_mask(False)\n",
    "# phb_ncfile.set_auto_mask(False)\n",
    "u_ncfile.set_auto_mask(False)\n",
    "v_ncfile.set_auto_mask(False)\n",
    "#w_ncfile.set_auto_mask(False)"
   ]
  },
  {
   "cell_type": "code",
   "execution_count": 6,
   "metadata": {},
   "outputs": [],
   "source": [
    "time_var = time_ncfile.variables['Times']\n",
    "time = time_ncfile.variables['Times'][:]\n",
    "xlat = xlat_ncfile.variables['XLAT'][0,:,:]\n",
    "xlong = xlong_ncfile.variables['XLONG'][0,:,:]\n",
    "landmask = landmask_ncfile.variables['LANDMASK'][0,:,:]\n",
    "\n",
    "z = u_ncfile.variables['z'][:]\n",
    "#qvapor_400 = qvapor_ncfile.variables['QVAPOR'][:]\n",
    "#tk_400 = tk_ncfile.variables['TK'][:]\n",
    "#ph_400 = ph_ncfile.variables['PH'][:]\n",
    "#phb_400 = phb_ncfile.variables['PHB'][:]\n",
    "\n",
    "#pblh_400 = pblh_ncfile.variables['PBLH'][:]\n",
    "u_400 = u_ncfile.variables['U'][:]\n",
    "v_400 = v_ncfile.variables['V'][:]\n",
    "#w_400 = w_ncfile.variables['W'][:]"
   ]
  },
  {
   "cell_type": "code",
   "execution_count": 7,
   "metadata": {},
   "outputs": [],
   "source": [
    "#qvapor_400[qvapor_400>1e10]=numpy.nan\n",
    "#tk_400[tk_400>1e10]=numpy.nan\n",
    "#ph_400[ph_400>1e10]=numpy.nan\n",
    "#phb_400[phb_400>1e10]=numpy.nan\n",
    "u_400[u_400>1e10]=numpy.nan\n",
    "v_400[v_400>1e10]=numpy.nan\n",
    "#w_400[w_400>1e10]=numpy.nan"
   ]
  },
  {
   "cell_type": "markdown",
   "metadata": {},
   "source": [
    "# import FMAASO 1000 data"
   ]
  },
  {
   "cell_type": "code",
   "execution_count": 8,
   "metadata": {},
   "outputs": [
    {
     "ename": "SyntaxError",
     "evalue": "invalid syntax (<ipython-input-8-8cb4ccef7f0e>, line 25)",
     "output_type": "error",
     "traceback": [
      "\u001b[0;36m  File \u001b[0;32m\"<ipython-input-8-8cb4ccef7f0e>\"\u001b[0;36m, line \u001b[0;32m25\u001b[0m\n\u001b[0;31m    u_ncfile.se`t_auto_mask(False)\u001b[0m\n\u001b[0m               ^\u001b[0m\n\u001b[0;31mSyntaxError\u001b[0m\u001b[0;31m:\u001b[0m invalid syntax\n"
     ]
    }
   ],
   "source": [
    "data_dir = '/Users/baird/Dropbox/_data_WRF/CHEYENNE/FMAASO/1000/concat_nc_files/'\n",
    "filename_prefix = 'wrfout_d01_1979-01-01_00:00:00_1979-01-11_00:00:00_'\n",
    "filename_suffix = '_ens_mean.nc'\n",
    "\n",
    "time_ncfile = netCDF4.Dataset(times_ncfile_name)\n",
    "xlat_ncfile = netCDF4.Dataset(xlat_ncfile_name)\n",
    "xlong_ncfile = netCDF4.Dataset(xlong_ncfile_name)\n",
    "landmask_ncfile = netCDF4.Dataset(landmask_ncfile_name)\n",
    "\n",
    "qvapor_ncfile = netCDF4.Dataset(data_dir + filename_prefix + 'QVAPOR' + '_ens_mean_vinterp_zcoords.nc')\n",
    "\n",
    "pblh_ncfile = netCDF4.Dataset(data_dir + filename_prefix + 'PBLH' + filename_suffix)\n",
    "# tk_ncfile = netCDF4.Dataset(data_dir + filename_prefix + 'TK' + '_ens_mean_vinterp_zcoords.nc')\n",
    "# ph_ncfile = netCDF4.Dataset(data_dir + filename_prefix + 'PH' + '_ens_mean_vinterp_zcoords.nc')\n",
    "# phb_ncfile = netCDF4.Dataset(data_dir + filename_prefix + 'PHB' + '_ens_mean_vinterp_zcoords.nc')\n",
    "\n",
    "u_ncfile = netCDF4.Dataset(data_dir + filename_prefix + 'U' + '_ens_mean_vinterp_zcoords.nc')\n",
    "v_ncfile = netCDF4.Dataset(data_dir + filename_prefix + 'V' + '_ens_mean_vinterp_zcoords.nc')\n",
    "# w_ncfile = netCDF4.Dataset(data_dir + filename_prefix + 'W' + '_ens_mean_vinterp_zcoords.nc')\n",
    "\n",
    "#qvapor_ncfile.set_auto_mask(False)\n",
    "#tk_ncfile.set_auto_mask(False)\n",
    "#ph_ncfile.set_auto_mask(False)\n",
    "#phb_ncfile.set_auto_mask(False)\n",
    "u_ncfile.se`t_auto_mask(False)\n",
    "v_ncfile.set_auto_mask(False)\n",
    "#w_ncfile.set_auto_mask(False)"
   ]
  },
  {
   "cell_type": "code",
   "execution_count": null,
   "metadata": {},
   "outputs": [],
   "source": [
    "time_var_1000 = time_ncfile.variables['Times']\n",
    "time_1000 = time_ncfile.variables['Times'][:]\n",
    "xlat = xlat_ncfile.variables['XLAT'][0,:,:]\n",
    "xlong = xlong_ncfile.variables['XLONG'][0,:,:]\n",
    "landmask = landmask_ncfile.variables['LANDMASK'][0,:,:]\n",
    "\n",
    "#qvapor_1000 = qvapor_ncfile.variables['QVAPOR'][:]\n",
    "# tk_1000 = tk_ncfile.variables['TK'][:]\n",
    "\n",
    "pblh_1000 = pblh_ncfile.variables['PBLH'][:]\n",
    "# ph_1000 = ph_ncfile.variables['PH'][:]\n",
    "# phb_1000 = phb_ncfile.variables['PHB'][:]\n",
    "\n",
    "u_1000 = u_ncfile.variables['U'][:]\n",
    "v_1000 = v_ncfile.variables['V'][:]\n",
    "#w_1000 = w_ncfile.variables['W'][:]"
   ]
  },
  {
   "cell_type": "code",
   "execution_count": null,
   "metadata": {},
   "outputs": [],
   "source": [
    "#qvapor_1000[qvapor_1000>1e10]=numpy.nan\n",
    "# tk_1000[tk_1000>1e10]=numpy.nan\n",
    "# ph_1000[ph_1000>1e10]=numpy.nan\n",
    "# phb_1000[phb_1000>1e10]=numpy.nan\n",
    "u_1000[u_1000>1e10] = numpy.nan\n",
    "v_1000[v_1000>1e10] = numpy.nan\n",
    "#w_1000[w_1000>1e10] = numpy.nan"
   ]
  },
  {
   "cell_type": "code",
   "execution_count": null,
   "metadata": {},
   "outputs": [],
   "source": [
    "#ph_tot_400 = ph_400+phb_400\n",
    "#ph_tot_1000 = ph_400+phb_1000"
   ]
  },
  {
   "cell_type": "markdown",
   "metadata": {},
   "source": [
    "# get time stamps"
   ]
  },
  {
   "cell_type": "code",
   "execution_count": null,
   "metadata": {},
   "outputs": [],
   "source": [
    "time_datetimes = numpy.zeros(time.shape[0], dtype=object)\n",
    "for t in range(time.shape[0]):\n",
    "    time_string = ''.join([i.decode('utf-8') for i in time[t,:]])\n",
    "    year,month,day = time_string.split('_')[0].split('-')\n",
    "    hour,minute,second = time_string.split('_')[1].split(':')\n",
    "    time_datetimes[t] = datetime.datetime(int(year),int(month),int(day),int(hour),int(second),int(minute))"
   ]
  },
  {
   "cell_type": "code",
   "execution_count": null,
   "metadata": {},
   "outputs": [],
   "source": [
    "skip_time = 24\n",
    "n_intervals = 8\n",
    "hour_strings = ['00','03','06','09','12','15','18','21']\n",
    "\n",
    "times_00 = [t.hour in [23,0,1] for t in time_datetimes[skip_time:]]\n",
    "times_03 = [t.hour in [2,3,4] for t in time_datetimes[skip_time:]]\n",
    "times_06 = [t.hour in [5,6,7] for t in time_datetimes[skip_time:]]\n",
    "times_09 = [t.hour in [8,9,10] for t in time_datetimes[skip_time:]]\n",
    "times_12 = [t.hour in [11,12,13] for t in time_datetimes[skip_time:]]\n",
    "times_15 = [t.hour in [14,15,16] for t in time_datetimes[skip_time:]]\n",
    "times_18 = [t.hour in [17,18,19] for t in time_datetimes[skip_time:]]\n",
    "times_21 = [t.hour in [20,21,22] for t in time_datetimes[skip_time:]]"
   ]
  },
  {
   "cell_type": "markdown",
   "metadata": {},
   "source": [
    "# constants"
   ]
  },
  {
   "cell_type": "code",
   "execution_count": null,
   "metadata": {},
   "outputs": [],
   "source": [
    "L_v = 2264705.0 # J/kg\n",
    "c_p = 1005.7 # J/kgK\n",
    "g = 9.80665 # m/s2"
   ]
  },
  {
   "cell_type": "markdown",
   "metadata": {},
   "source": [
    "# lat indices subset"
   ]
  },
  {
   "cell_type": "code",
   "execution_count": null,
   "metadata": {},
   "outputs": [],
   "source": [
    "lat_hi = 10.\n",
    "lat_lo = -10.\n",
    "# subset between lat_hi and lat_lo\n",
    "lat_indices = (xlat<=lat_hi)&(xlat>=lat_lo)"
   ]
  },
  {
   "cell_type": "markdown",
   "metadata": {},
   "source": [
    "# calculate MSE on pressure levels"
   ]
  },
  {
   "cell_type": "raw",
   "metadata": {},
   "source": [
    "mse_400 = c_p*tk_400 + ph_tot_400 + L_v*qvapor_400\n",
    "mse_1000 = c_p*tk_1000 + ph_tot_1000 + L_v*qvapor_1000"
   ]
  },
  {
   "cell_type": "markdown",
   "metadata": {},
   "source": [
    "# save mse as npy file"
   ]
  },
  {
   "cell_type": "raw",
   "metadata": {},
   "source": [
    "numpy.save('DATA_mse_400.npy', mse_400)\n",
    "numpy.save('DATA_mse_1000.npy', mse_1000)"
   ]
  },
  {
   "cell_type": "markdown",
   "metadata": {},
   "source": [
    "# open mse from npy files"
   ]
  },
  {
   "cell_type": "code",
   "execution_count": 16,
   "metadata": {},
   "outputs": [],
   "source": [
    "mse_400 = numpy.load('DATA_mse_400.npy')\n",
    "mse_1000 = numpy.load('DATA_mse_1000.npy')"
   ]
  },
  {
   "cell_type": "code",
   "execution_count": 16,
   "metadata": {},
   "outputs": [],
   "source": [
    "mse_diffs = mse_1000 - mse_400"
   ]
  },
  {
   "cell_type": "raw",
   "metadata": {},
   "source": [
    "mse_diffs_landmask = numpy.copy(mse_diffs)\n",
    "mse_diffs_landmask[:,:,landmask==0]=numpy.nan\n",
    "\n",
    "mse_400_landmask = numpy.copy(mse_400)\n",
    "mse_400_landmask[:,:,landmask==0]=numpy.nan\n",
    "\n",
    "mse_1000_landmask = numpy.copy(mse_1000)\n",
    "mse_1000_landmask[:,:,landmask==0]=numpy.nan"
   ]
  },
  {
   "cell_type": "code",
   "execution_count": 17,
   "metadata": {},
   "outputs": [],
   "source": [
    "#mse_diffs_lat_subset = mse_diffs_landmask[:,:,lat_indices[:,0],:]\n",
    "#mse_400_lat_subset = mse_400_landmask[:,:,lat_indices[:,0],:]\n",
    "#mse_1000_lat_subset = mse_1000_landmask[:,:,lat_indices[:,0],:]\n",
    "\n",
    "mse_diffs_lat_subset = mse_diffs[:,:,lat_indices[:,0],:]\n",
    "mse_400_lat_subset = mse_400[:,:,lat_indices[:,0],:]\n",
    "mse_1000_lat_subset = mse_1000[:,:,lat_indices[:,0],:]"
   ]
  },
  {
   "cell_type": "code",
   "execution_count": 18,
   "metadata": {},
   "outputs": [
    {
     "name": "stderr",
     "output_type": "stream",
     "text": [
      "/Users/baird/anaconda/lib/python3.6/site-packages/ipykernel_launcher.py:1: RuntimeWarning: Mean of empty slice\n",
      "  \"\"\"Entry point for launching an IPython kernel.\n",
      "/Users/baird/anaconda/lib/python3.6/site-packages/ipykernel_launcher.py:2: RuntimeWarning: Mean of empty slice\n",
      "  \n"
     ]
    }
   ],
   "source": [
    "mse_diffs_lat_mean = numpy.nanmean(mse_diffs_lat_subset, axis=2)\n",
    "mse_400_lat_mean = numpy.nanmean(mse_400_lat_subset, axis=2)"
   ]
  },
  {
   "cell_type": "markdown",
   "metadata": {},
   "source": [
    "# horizontal MSE advection"
   ]
  },
  {
   "cell_type": "code",
   "execution_count": 9,
   "metadata": {},
   "outputs": [],
   "source": [
    "u_400_midpoints = 0.5*(u_400[:,:,0:-1,0:-1] + u_400[:,:,1:,1:])"
   ]
  },
  {
   "cell_type": "code",
   "execution_count": 20,
   "metadata": {},
   "outputs": [],
   "source": [
    "u_1000_midpoints = 0.5*(u_1000[:,:,0:-1,0:-1] + u_1000[:,:,1:,1:])"
   ]
  },
  {
   "cell_type": "code",
   "execution_count": 21,
   "metadata": {},
   "outputs": [],
   "source": [
    "v_400_midpoints = 0.5*(v_400[:,:,0:-1,0:-1] + v_400[:,:,1:,1:])"
   ]
  },
  {
   "cell_type": "code",
   "execution_count": 22,
   "metadata": {},
   "outputs": [],
   "source": [
    "v_1000_midpoints = 0.5*(v_1000[:,:,0:-1,0:-1] + v_1000[:,:,1:,1:])"
   ]
  },
  {
   "cell_type": "code",
   "execution_count": null,
   "metadata": {},
   "outputs": [],
   "source": [
    "delta_mse_temporary = numpy.diff(mse_400, axis=3)\n",
    "delta_mse_400_xlong_vertices = 0.5*(delta_mse_temporary[:,:,0:-1,:]+delta_mse_temporary[:,:,1:,:])"
   ]
  },
  {
   "cell_type": "code",
   "execution_count": 24,
   "metadata": {},
   "outputs": [],
   "source": [
    "delta_mse_temporary = numpy.diff(mse_400, axis=2)\n",
    "delta_mse_400_xlat_vertices = 0.5*(delta_mse_temporary[:,:,:,0:-1]+delta_mse_temporary[:,:,:,1:])"
   ]
  },
  {
   "cell_type": "code",
   "execution_count": 25,
   "metadata": {},
   "outputs": [],
   "source": [
    "delta_mse_temporary = numpy.diff(mse_1000, axis=3)\n",
    "delta_mse_1000_xlong_vertices = 0.5*(delta_mse_temporary[:,:,0:-1,:]+delta_mse_temporary[:,:,1:,:])"
   ]
  },
  {
   "cell_type": "code",
   "execution_count": 26,
   "metadata": {},
   "outputs": [],
   "source": [
    "delta_mse_temporary = numpy.diff(mse_1000, axis=2)\n",
    "delta_mse_1000_xlat_vertices = 0.5*(delta_mse_temporary[:,:,:,0:-1]+delta_mse_temporary[:,:,:,1:])"
   ]
  },
  {
   "cell_type": "code",
   "execution_count": 27,
   "metadata": {},
   "outputs": [],
   "source": [
    "xlong_vertices = 0.5*(xlong[0:-1,0:-1]+xlong[1:,1:])\n",
    "xlat_vertices = 0.5*(xlat[0:-1,0:-1]+xlat[1:,1:])"
   ]
  },
  {
   "cell_type": "code",
   "execution_count": 28,
   "metadata": {},
   "outputs": [],
   "source": [
    "xlong_centered_edges = 0.5*(xlong[0:-1,:]+xlong[1:,:])\n",
    "xlat_for_xlong_centered_edges = 0.5*(xlat[0:-1,:]+xlat[1:,:])\n",
    "xlat_centered_edges = 0.5*(xlat[:,0:-1]+xlat[:,1:])\n",
    "xlong_for_xlat_centered_edges = 0.5*(xlong[:,0:-1]+xlong[:,1:])"
   ]
  },
  {
   "cell_type": "code",
   "execution_count": 30,
   "metadata": {},
   "outputs": [],
   "source": [
    "numpy.save('xlong_vertices.npy',xlong_vertices)\n",
    "numpy.save('xlat_vertices.npy',xlat_vertices)"
   ]
  },
  {
   "cell_type": "code",
   "execution_count": 31,
   "metadata": {},
   "outputs": [],
   "source": [
    "import geopy.distance\n",
    "\n",
    "distances_xlong = numpy.zeros((xlong.shape[0]-1,xlong.shape[1]-1))\n",
    "for i in range(distances_xlong.shape[0]):\n",
    "    for j in range(distances_xlong.shape[1]):\n",
    "        point1 = (xlat_for_xlong_centered_edges[i,j],xlong_centered_edges[i,j])\n",
    "        point2 = (xlat_for_xlong_centered_edges[i,j+1],xlong_centered_edges[i,j+1])\n",
    "        distances_xlong[i,j] = geopy.distance.vincenty(point1,point2).m\n",
    "\n",
    "distances_xlat = numpy.zeros((xlat.shape[0]-1,xlat.shape[1]-1))\n",
    "for i in range(distances_xlat.shape[0]):\n",
    "    for j in range(distances_xlat.shape[1]):\n",
    "        point1 = (xlat_centered_edges[i,j],xlong_for_xlat_centered_edges[i,j])\n",
    "        point2 = (xlat_centered_edges[i+1,j],xlong_for_xlat_centered_edges[i+1,j])\n",
    "        distances_xlat[i,j] = geopy.distance.vincenty(point1,point2).m"
   ]
  },
  {
   "cell_type": "code",
   "execution_count": 32,
   "metadata": {},
   "outputs": [],
   "source": [
    "mse_400_advection_u = u_400_midpoints*(delta_mse_400_xlong_vertices/distances_xlong)\n",
    "mse_400_advection_v = v_400_midpoints*(delta_mse_400_xlat_vertices/distances_xlat)\n",
    "mse_1000_advection_u = u_1000_midpoints*(delta_mse_1000_xlong_vertices/distances_xlong)\n",
    "mse_1000_advection_v = v_1000_midpoints*(delta_mse_1000_xlat_vertices/distances_xlat)"
   ]
  },
  {
   "cell_type": "raw",
   "metadata": {},
   "source": [
    "numpy.save('mse_400_advection_u.npy', mse_400_advection_u)\n",
    "numpy.save('mse_400_advection_v.npy', mse_400_advection_v)\n",
    "numpy.save('mse_1000_advection_u.npy', mse_1000_advection_u)\n",
    "numpy.save('mse_1000_advection_v.npy', mse_1000_advection_v)"
   ]
  },
  {
   "cell_type": "raw",
   "metadata": {},
   "source": [
    "mse_400_advection_u = numpy.load('mse_400_advection_u.npy')\n",
    "mse_400_advection_v = numpy.load('mse_400_advection_v.npy')"
   ]
  },
  {
   "cell_type": "raw",
   "metadata": {},
   "source": [
    "mse_1000_advection_u = numpy.load('mse_1000_advection_u.npy')\n",
    "mse_1000_advection_v = numpy.load('mse_1000_advection_v.npy')"
   ]
  },
  {
   "cell_type": "markdown",
   "metadata": {},
   "source": [
    "# calculate MSE advection terms"
   ]
  },
  {
   "cell_type": "raw",
   "metadata": {},
   "source": [
    "mse_400_adv_total = -mse_400_advection_u-mse_400_advection_v"
   ]
  },
  {
   "cell_type": "raw",
   "metadata": {},
   "source": [
    "mse_1000_adv_total = -mse_1000_advection_u-mse_1000_advection_v"
   ]
  },
  {
   "cell_type": "raw",
   "metadata": {},
   "source": [
    "numpy.save('mse_400_adv_total.npy',mse_400_adv_total)\n",
    "numpy.save('mse_1000_adv_total.npy',mse_1000_adv_total)"
   ]
  },
  {
   "cell_type": "code",
   "execution_count": 20,
   "metadata": {},
   "outputs": [],
   "source": [
    "mse_400_adv_total = numpy.load('mse_400_adv_total.npy')\n",
    "mse_1000_adv_total = numpy.load('mse_1000_adv_total.npy')"
   ]
  },
  {
   "cell_type": "raw",
   "metadata": {},
   "source": [
    "numpy.save('mse_400_adv_total.npy',mse_400_adv_total)\n",
    "numpy.save('mse_1000_adv_total.npy',mse_1000_adv_total)"
   ]
  },
  {
   "cell_type": "markdown",
   "metadata": {},
   "source": [
    "# qvapor diffs and lat means"
   ]
  },
  {
   "cell_type": "code",
   "execution_count": 47,
   "metadata": {},
   "outputs": [
    {
     "ename": "NameError",
     "evalue": "name 'qvapor_1000' is not defined",
     "output_type": "error",
     "traceback": [
      "\u001b[0;31m---------------------------------------------------------------------------\u001b[0m",
      "\u001b[0;31mNameError\u001b[0m                                 Traceback (most recent call last)",
      "\u001b[0;32m<ipython-input-47-54ee084d4525>\u001b[0m in \u001b[0;36m<module>\u001b[0;34m()\u001b[0m\n\u001b[0;32m----> 1\u001b[0;31m \u001b[0mqvapor_diffs\u001b[0m \u001b[0;34m=\u001b[0m \u001b[0mqvapor_1000\u001b[0m \u001b[0;34m-\u001b[0m \u001b[0mqvapor_400\u001b[0m\u001b[0;34m\u001b[0m\u001b[0m\n\u001b[0m",
      "\u001b[0;31mNameError\u001b[0m: name 'qvapor_1000' is not defined"
     ]
    }
   ],
   "source": [
    "qvapor_diffs = qvapor_1000 - qvapor_400"
   ]
  },
  {
   "cell_type": "code",
   "execution_count": 23,
   "metadata": {},
   "outputs": [],
   "source": [
    "qvapor_diffs_lat_subset = qvapor_diffs[:,:,lat_indices[:,0],:]\n",
    "qvapor_400_lat_subset = qvapor_400[:,:,lat_indices[:,0],:]"
   ]
  },
  {
   "cell_type": "code",
   "execution_count": 24,
   "metadata": {},
   "outputs": [
    {
     "name": "stderr",
     "output_type": "stream",
     "text": [
      "/Users/baird/anaconda/lib/python3.6/site-packages/ipykernel_launcher.py:1: RuntimeWarning: Mean of empty slice\n",
      "  \"\"\"Entry point for launching an IPython kernel.\n",
      "/Users/baird/anaconda/lib/python3.6/site-packages/ipykernel_launcher.py:2: RuntimeWarning: Mean of empty slice\n",
      "  \n"
     ]
    }
   ],
   "source": [
    "qvapor_diffs_lat_mean = numpy.nanmean(qvapor_diffs_lat_subset, axis=2)\n",
    "qvapor_400_lat_mean = numpy.nanmean(qvapor_400_lat_subset, axis=2)"
   ]
  },
  {
   "cell_type": "markdown",
   "metadata": {},
   "source": [
    "# mse advection diffs and lat means"
   ]
  },
  {
   "cell_type": "code",
   "execution_count": 39,
   "metadata": {},
   "outputs": [],
   "source": [
    "mse_adv_total_diffs = mse_1000_adv_total - mse_400_adv_total"
   ]
  },
  {
   "cell_type": "code",
   "execution_count": 41,
   "metadata": {},
   "outputs": [],
   "source": [
    "lat_indices_vertices = (xlat_midpoints<=lat_hi)&(xlat_midpoints>=lat_lo)"
   ]
  },
  {
   "cell_type": "code",
   "execution_count": 43,
   "metadata": {},
   "outputs": [],
   "source": [
    "mse_adv_total_diffs_lat_subset = mse_adv_total_diffs[:,:,lat_indices_vertices[:,0],:]\n",
    "mse_400_adv_total_lat_subset = mse_400_adv_total[:,:,lat_indices_vertices[:,0],:]"
   ]
  },
  {
   "cell_type": "code",
   "execution_count": 45,
   "metadata": {},
   "outputs": [
    {
     "name": "stderr",
     "output_type": "stream",
     "text": [
      "/Users/baird/anaconda/lib/python3.6/site-packages/ipykernel_launcher.py:1: RuntimeWarning: Mean of empty slice\n",
      "  \"\"\"Entry point for launching an IPython kernel.\n",
      "/Users/baird/anaconda/lib/python3.6/site-packages/ipykernel_launcher.py:2: RuntimeWarning: Mean of empty slice\n",
      "  \n"
     ]
    }
   ],
   "source": [
    "mse_adv_total_diffs_mean = numpy.nanmean(mse_adv_total_diffs_lat_subset, axis=2)\n",
    "mse_400_adv_total_mean = numpy.nanmean(mse_400_adv_total_lat_subset, axis=2)"
   ]
  },
  {
   "cell_type": "code",
   "execution_count": 54,
   "metadata": {},
   "outputs": [
    {
     "data": {
      "text/plain": [
       "(179, 289)"
      ]
     },
     "execution_count": 54,
     "metadata": {},
     "output_type": "execute_result"
    }
   ],
   "source": [
    "xlat.shape"
   ]
  },
  {
   "cell_type": "code",
   "execution_count": 90,
   "metadata": {},
   "outputs": [
    {
     "data": {
      "text/plain": [
       "<matplotlib.collections.QuadMesh at 0x1a2308b550>"
      ]
     },
     "execution_count": 90,
     "metadata": {},
     "output_type": "execute_result"
    },
    {
     "data": {
      "image/png": "[encoded data removed]",
      "text/plain": [
       "<matplotlib.figure.Figure at 0x1a22fb48d0>"
      ]
     },
     "metadata": {},
     "output_type": "display_data"
    }
   ],
   "source": [
    "mp.pcolormesh(mse_400_adv_total_mean[101,:,:],vmin=-0.01,vmax=0.01)"
   ]
  },
  {
   "cell_type": "markdown",
   "metadata": {},
   "source": [
    "# PBLH differences"
   ]
  },
  {
   "cell_type": "code",
   "execution_count": 28,
   "metadata": {},
   "outputs": [],
   "source": [
    "pblh_diffs = pblh_1000 - pblh_400"
   ]
  },
  {
   "cell_type": "markdown",
   "metadata": {},
   "source": [
    "# PBLH lat means"
   ]
  },
  {
   "cell_type": "code",
   "execution_count": 29,
   "metadata": {},
   "outputs": [],
   "source": [
    "pblh_diffs_landmask = numpy.copy(pblh_diffs)\n",
    "pblh_diffs_landmask[:,landmask==0]=numpy.nan\n",
    "pblh_diffs_landmask[pblh_diffs_landmask==9.96921e36]=numpy.nan"
   ]
  },
  {
   "cell_type": "code",
   "execution_count": 30,
   "metadata": {},
   "outputs": [],
   "source": [
    "pblh_400_landmask = numpy.copy(pblh_400)\n",
    "pblh_400_landmask[:,landmask==0]=numpy.nan\n",
    "#pblh_400_landmask[pblh_400_landmask==9.96921e36]=numpy.nan"
   ]
  },
  {
   "cell_type": "code",
   "execution_count": 31,
   "metadata": {},
   "outputs": [],
   "source": [
    "pblh_1000_landmask = numpy.copy(pblh_1000)\n",
    "pblh_1000_landmask[:,landmask==0]=numpy.nan\n",
    "#pblh_1000_landmask[pblh_1000_landmask==9.96921e36]=numpy.nan"
   ]
  },
  {
   "cell_type": "code",
   "execution_count": 32,
   "metadata": {},
   "outputs": [],
   "source": [
    "pblh_diffs_lat_subset = pblh_diffs_landmask[:,lat_indices[:,0],:]\n",
    "pblh_400_lat_subset = pblh_400_landmask[:,lat_indices[:,0],:]\n",
    "pblh_1000_lat_subset = pblh_1000_landmask[:,lat_indices[:,0],:]"
   ]
  },
  {
   "cell_type": "code",
   "execution_count": 33,
   "metadata": {},
   "outputs": [
    {
     "name": "stderr",
     "output_type": "stream",
     "text": [
      "/Users/baird/anaconda/lib/python3.6/site-packages/ipykernel_launcher.py:1: RuntimeWarning: Mean of empty slice\n",
      "  \"\"\"Entry point for launching an IPython kernel.\n",
      "/Users/baird/anaconda/lib/python3.6/site-packages/ipykernel_launcher.py:2: RuntimeWarning: Mean of empty slice\n",
      "  \n",
      "/Users/baird/anaconda/lib/python3.6/site-packages/ipykernel_launcher.py:3: RuntimeWarning: Mean of empty slice\n",
      "  This is separate from the ipykernel package so we can avoid doing imports until\n"
     ]
    }
   ],
   "source": [
    "pblh_diffs_lat_mean = numpy.nanmean(pblh_diffs_lat_subset, axis=1)\n",
    "pblh_400_lat_mean = numpy.nanmean(pblh_400_lat_subset, axis=1)\n",
    "pblh_1000_lat_mean = numpy.nanmean(pblh_1000_lat_subset, axis=1)"
   ]
  },
  {
   "cell_type": "markdown",
   "metadata": {},
   "source": [
    "# 3 hourly means of MSE and QVAPOR lat means"
   ]
  },
  {
   "cell_type": "raw",
   "metadata": {},
   "source": [
    "mse_400_t00mean = numpy.nanmean(mse_400_lat_mean[skip_time:,:,:][times_00,:,:], axis=0)\n",
    "mse_400_t03mean = numpy.nanmean(mse_400_lat_mean[skip_time:,:,:][times_03,:,:], axis=0)\n",
    "mse_400_t06mean = numpy.nanmean(mse_400_lat_mean[skip_time:,:,:][times_06,:,:], axis=0)\n",
    "mse_400_t09mean = numpy.nanmean(mse_400_lat_mean[skip_time:,:,:][times_09,:,:], axis=0)\n",
    "mse_400_t12mean = numpy.nanmean(mse_400_lat_mean[skip_time:,:,:][times_12,:,:], axis=0)\n",
    "mse_400_t15mean = numpy.nanmean(mse_400_lat_mean[skip_time:,:,:][times_15,:,:], axis=0)\n",
    "mse_400_t18mean = numpy.nanmean(mse_400_lat_mean[skip_time:,:,:][times_18,:,:], axis=0)\n",
    "mse_400_t21mean = numpy.nanmean(mse_400_lat_mean[skip_time:,:,:][times_21,:,:], axis=0)\n",
    "\n",
    "mse_400_array = numpy.array([mse_400_t00mean, mse_400_t03mean, mse_400_t06mean, mse_400_t09mean, mse_400_t12mean, mse_400_t15mean, mse_400_t18mean, mse_400_t21mean])\n"
   ]
  },
  {
   "cell_type": "raw",
   "metadata": {},
   "source": [
    "# calculate 3 hourly means for 400\n",
    "mse_diffs_t00mean = numpy.nanmean(mse_diffs_lat_mean[skip_time:,:,:][times_00,:,:], axis=0)\n",
    "mse_diffs_t03mean = numpy.nanmean(mse_diffs_lat_mean[skip_time:,:,:][times_03,:,:], axis=0)\n",
    "mse_diffs_t06mean = numpy.nanmean(mse_diffs_lat_mean[skip_time:,:,:][times_06,:,:], axis=0)\n",
    "mse_diffs_t09mean = numpy.nanmean(mse_diffs_lat_mean[skip_time:,:,:][times_09,:,:], axis=0)\n",
    "mse_diffs_t12mean = numpy.nanmean(mse_diffs_lat_mean[skip_time:,:,:][times_12,:,:], axis=0)\n",
    "mse_diffs_t15mean = numpy.nanmean(mse_diffs_lat_mean[skip_time:,:,:][times_15,:,:], axis=0)\n",
    "mse_diffs_t18mean = numpy.nanmean(mse_diffs_lat_mean[skip_time:,:,:][times_18,:,:], axis=0)\n",
    "mse_diffs_t21mean = numpy.nanmean(mse_diffs_lat_mean[skip_time:,:,:][times_21,:,:], axis=0)\n",
    "\n",
    "mse_diffs_array = numpy.array([mse_diffs_t00mean, mse_diffs_t03mean, mse_diffs_t06mean, mse_diffs_t09mean, mse_diffs_t12mean, mse_diffs_t15mean, mse_diffs_t18mean, mse_diffs_t21mean])\n",
    "\n",
    "# monthly mean\n",
    "#mse_diffs_time_mean = numpy.mean(mse_1000[skip_time:,:,:] - mse_diffs[skip_time:,:,:], axis=0)\n",
    "#mse_diffs_time_mean_landmask = numpy.copy(mse_diffs_time_mean)\n",
    "#mse_diffs_time_mean_landmask[landmask==0] = numpy.nan"
   ]
  },
  {
   "cell_type": "markdown",
   "metadata": {},
   "source": [
    "# qvapor"
   ]
  },
  {
   "cell_type": "code",
   "execution_count": 34,
   "metadata": {},
   "outputs": [
    {
     "name": "stderr",
     "output_type": "stream",
     "text": [
      "/Users/baird/anaconda/lib/python3.6/site-packages/ipykernel_launcher.py:1: RuntimeWarning: Mean of empty slice\n",
      "  \"\"\"Entry point for launching an IPython kernel.\n",
      "/Users/baird/anaconda/lib/python3.6/site-packages/ipykernel_launcher.py:2: RuntimeWarning: Mean of empty slice\n",
      "  \n",
      "/Users/baird/anaconda/lib/python3.6/site-packages/ipykernel_launcher.py:3: RuntimeWarning: Mean of empty slice\n",
      "  This is separate from the ipykernel package so we can avoid doing imports until\n",
      "/Users/baird/anaconda/lib/python3.6/site-packages/ipykernel_launcher.py:4: RuntimeWarning: Mean of empty slice\n",
      "  after removing the cwd from sys.path.\n",
      "/Users/baird/anaconda/lib/python3.6/site-packages/ipykernel_launcher.py:5: RuntimeWarning: Mean of empty slice\n",
      "  \"\"\"\n",
      "/Users/baird/anaconda/lib/python3.6/site-packages/ipykernel_launcher.py:6: RuntimeWarning: Mean of empty slice\n",
      "  \n",
      "/Users/baird/anaconda/lib/python3.6/site-packages/ipykernel_launcher.py:7: RuntimeWarning: Mean of empty slice\n",
      "  import sys\n",
      "/Users/baird/anaconda/lib/python3.6/site-packages/ipykernel_launcher.py:8: RuntimeWarning: Mean of empty slice\n",
      "  \n"
     ]
    }
   ],
   "source": [
    "qvapor_400_t00mean = numpy.nanmean(qvapor_400_lat_mean[skip_time:,:,:][times_00,:,:], axis=0)\n",
    "qvapor_400_t03mean = numpy.nanmean(qvapor_400_lat_mean[skip_time:,:,:][times_03,:,:], axis=0)\n",
    "qvapor_400_t06mean = numpy.nanmean(qvapor_400_lat_mean[skip_time:,:,:][times_06,:,:], axis=0)\n",
    "qvapor_400_t09mean = numpy.nanmean(qvapor_400_lat_mean[skip_time:,:,:][times_09,:,:], axis=0)\n",
    "qvapor_400_t12mean = numpy.nanmean(qvapor_400_lat_mean[skip_time:,:,:][times_12,:,:], axis=0)\n",
    "qvapor_400_t15mean = numpy.nanmean(qvapor_400_lat_mean[skip_time:,:,:][times_15,:,:], axis=0)\n",
    "qvapor_400_t18mean = numpy.nanmean(qvapor_400_lat_mean[skip_time:,:,:][times_18,:,:], axis=0)\n",
    "qvapor_400_t21mean = numpy.nanmean(qvapor_400_lat_mean[skip_time:,:,:][times_21,:,:], axis=0)\n",
    "\n",
    "qvapor_400_array = numpy.array([qvapor_400_t00mean, qvapor_400_t03mean, qvapor_400_t06mean, qvapor_400_t09mean, qvapor_400_t12mean, qvapor_400_t15mean, qvapor_400_t18mean, qvapor_400_t21mean])\n"
   ]
  },
  {
   "cell_type": "code",
   "execution_count": 35,
   "metadata": {},
   "outputs": [
    {
     "name": "stderr",
     "output_type": "stream",
     "text": [
      "/Users/baird/anaconda/lib/python3.6/site-packages/ipykernel_launcher.py:2: RuntimeWarning: Mean of empty slice\n",
      "  \n",
      "/Users/baird/anaconda/lib/python3.6/site-packages/ipykernel_launcher.py:3: RuntimeWarning: Mean of empty slice\n",
      "  This is separate from the ipykernel package so we can avoid doing imports until\n",
      "/Users/baird/anaconda/lib/python3.6/site-packages/ipykernel_launcher.py:4: RuntimeWarning: Mean of empty slice\n",
      "  after removing the cwd from sys.path.\n",
      "/Users/baird/anaconda/lib/python3.6/site-packages/ipykernel_launcher.py:5: RuntimeWarning: Mean of empty slice\n",
      "  \"\"\"\n",
      "/Users/baird/anaconda/lib/python3.6/site-packages/ipykernel_launcher.py:6: RuntimeWarning: Mean of empty slice\n",
      "  \n",
      "/Users/baird/anaconda/lib/python3.6/site-packages/ipykernel_launcher.py:7: RuntimeWarning: Mean of empty slice\n",
      "  import sys\n",
      "/Users/baird/anaconda/lib/python3.6/site-packages/ipykernel_launcher.py:8: RuntimeWarning: Mean of empty slice\n",
      "  \n",
      "/Users/baird/anaconda/lib/python3.6/site-packages/ipykernel_launcher.py:9: RuntimeWarning: Mean of empty slice\n",
      "  if __name__ == '__main__':\n"
     ]
    }
   ],
   "source": [
    "# calculate 3 hourly means for 400\n",
    "qvapor_diffs_t00mean = numpy.nanmean(qvapor_diffs_lat_mean[skip_time:,:,:][times_00,:,:], axis=0)\n",
    "qvapor_diffs_t03mean = numpy.nanmean(qvapor_diffs_lat_mean[skip_time:,:,:][times_03,:,:], axis=0)\n",
    "qvapor_diffs_t06mean = numpy.nanmean(qvapor_diffs_lat_mean[skip_time:,:,:][times_06,:,:], axis=0)\n",
    "qvapor_diffs_t09mean = numpy.nanmean(qvapor_diffs_lat_mean[skip_time:,:,:][times_09,:,:], axis=0)\n",
    "qvapor_diffs_t12mean = numpy.nanmean(qvapor_diffs_lat_mean[skip_time:,:,:][times_12,:,:], axis=0)\n",
    "qvapor_diffs_t15mean = numpy.nanmean(qvapor_diffs_lat_mean[skip_time:,:,:][times_15,:,:], axis=0)\n",
    "qvapor_diffs_t18mean = numpy.nanmean(qvapor_diffs_lat_mean[skip_time:,:,:][times_18,:,:], axis=0)\n",
    "qvapor_diffs_t21mean = numpy.nanmean(qvapor_diffs_lat_mean[skip_time:,:,:][times_21,:,:], axis=0)\n",
    "\n",
    "qvapor_diffs_array = numpy.array([qvapor_diffs_t00mean, qvapor_diffs_t03mean, qvapor_diffs_t06mean, qvapor_diffs_t09mean, qvapor_diffs_t12mean, qvapor_diffs_t15mean, qvapor_diffs_t18mean, qvapor_diffs_t21mean])\n",
    "\n",
    "# monthly mean\n",
    "#qvapor_diffs_time_mean = numpy.mean(qvapor_1000[skip_time:,:,:] - qvapor_diffs[skip_time:,:,:], axis=0)\n",
    "#qvapor_diffs_time_mean_landmask = numpy.copy(qvapor_diffs_time_mean)\n",
    "#qvapor_diffs_time_mean_landmask[landmask==0] = numpy.nan"
   ]
  },
  {
   "cell_type": "markdown",
   "metadata": {},
   "source": [
    "# PBLH means"
   ]
  },
  {
   "cell_type": "code",
   "execution_count": 36,
   "metadata": {},
   "outputs": [],
   "source": [
    "# calculate 3 hourly means for 400\n",
    "pblh_400_t00mean = numpy.mean(pblh_400_lat_mean[skip_time:][times_00,:], axis=0)\n",
    "pblh_400_t03mean = numpy.mean(pblh_400_lat_mean[skip_time:][times_03,:], axis=0)\n",
    "pblh_400_t06mean = numpy.mean(pblh_400_lat_mean[skip_time:][times_06,:], axis=0)\n",
    "pblh_400_t09mean = numpy.mean(pblh_400_lat_mean[skip_time:][times_09,:], axis=0)\n",
    "pblh_400_t12mean = numpy.mean(pblh_400_lat_mean[skip_time:][times_12,:], axis=0)\n",
    "pblh_400_t15mean = numpy.mean(pblh_400_lat_mean[skip_time:][times_15,:], axis=0)\n",
    "pblh_400_t18mean = numpy.mean(pblh_400_lat_mean[skip_time:][times_18,:], axis=0)\n",
    "pblh_400_t21mean = numpy.mean(pblh_400_lat_mean[skip_time:][times_21,:], axis=0)\n",
    "\n",
    "pblh_1000_t00mean = numpy.mean(pblh_1000_lat_mean[skip_time:][times_00,:], axis=0)\n",
    "pblh_1000_t03mean = numpy.mean(pblh_1000_lat_mean[skip_time:][times_03,:], axis=0)\n",
    "pblh_1000_t06mean = numpy.mean(pblh_1000_lat_mean[skip_time:][times_06,:], axis=0)\n",
    "pblh_1000_t09mean = numpy.mean(pblh_1000_lat_mean[skip_time:][times_09,:], axis=0)\n",
    "pblh_1000_t12mean = numpy.mean(pblh_1000_lat_mean[skip_time:][times_12,:], axis=0)\n",
    "pblh_1000_t15mean = numpy.mean(pblh_1000_lat_mean[skip_time:][times_15,:], axis=0)\n",
    "pblh_1000_t18mean = numpy.mean(pblh_1000_lat_mean[skip_time:][times_18,:], axis=0)\n",
    "pblh_1000_t21mean = numpy.mean(pblh_1000_lat_mean[skip_time:][times_21,:], axis=0)\n",
    "\n",
    "pblh_400_array = numpy.array([pblh_400_t00mean, pblh_400_t03mean, pblh_400_t06mean, pblh_400_t09mean, pblh_400_t12mean, pblh_400_t15mean, pblh_400_t18mean, pblh_400_t21mean])\n",
    "pblh_1000_array = numpy.array([pblh_1000_t00mean, pblh_1000_t03mean, pblh_1000_t06mean, pblh_1000_t09mean, pblh_1000_t12mean, pblh_1000_t15mean, pblh_1000_t18mean, pblh_1000_t21mean])\n",
    "\n",
    "# monthly mean\n",
    "#pblh_diffs_time_mean = numpy.mean(pblh_1000[skip_time:,:,:] - pblh_400[skip_time:,:,:], axis=0)\n",
    "#pblh_diffs_time_mean_landmask = numpy.copy(pblh_diffs_time_mean)\n",
    "#pblh_diffs_time_mean_landmask[landmask==0] = numpy.nan"
   ]
  },
  {
   "cell_type": "markdown",
   "metadata": {},
   "source": [
    "# HGT_M subset"
   ]
  },
  {
   "cell_type": "code",
   "execution_count": 37,
   "metadata": {},
   "outputs": [
    {
     "data": {
      "text/plain": [
       "90"
      ]
     },
     "execution_count": 37,
     "metadata": {},
     "output_type": "execute_result"
    }
   ],
   "source": [
    "round(HGT_M.shape[0]/2)"
   ]
  },
  {
   "cell_type": "code",
   "execution_count": 38,
   "metadata": {},
   "outputs": [],
   "source": [
    "HGT_M_lat_subset = HGT_M[lat_indices[:,0],:]\n",
    "HGT_M_lat_subset_maxvals = numpy.max(HGT_M_lat_subset, axis=0)\n",
    "HGT_M_lat_subset_equator = HGT_M[round(HGT_M_lat_subset.shape[0]/2),:]\n",
    "HGT_M_lat_subset_minvals = numpy.min(HGT_M_lat_subset, axis=0)\n",
    "HGT_M_lat_subset_mean = numpy.mean(HGT_M_lat_subset, axis=0)\n",
    "HGT_M_lat_subset_median = numpy.median(HGT_M_lat_subset, axis=0)"
   ]
  },
  {
   "cell_type": "markdown",
   "metadata": {},
   "source": [
    "# calculate mse advection lat means"
   ]
  },
  {
   "cell_type": "code",
   "execution_count": null,
   "metadata": {},
   "outputs": [],
   "source": []
  },
  {
   "cell_type": "code",
   "execution_count": null,
   "metadata": {},
   "outputs": [],
   "source": [
    "# calculate 3 hourly means for 400\n",
    "mse_adv_tot_400_t00mean = numpy.nanmean(mse_adv_tot_400_lat_mean[skip_time:,:,:][times_00,:,:], axis=0)\n",
    "mse_adv_tot_400_t03mean = numpy.nanmean(mse_adv_tot_400_lat_mean[skip_time:,:,:][times_03,:,:], axis=0)\n",
    "mse_adv_tot_400_t06mean = numpy.nanmean(mse_adv_tot_400_lat_mean[skip_time:,:,:][times_06,:,:], axis=0)\n",
    "mse_adv_tot_400_t09mean = numpy.nanmean(mse_adv_tot_400_lat_mean[skip_time:,:,:][times_09,:,:], axis=0)\n",
    "mse_adv_tot_400_t12mean = numpy.nanmean(mse_adv_tot_400_lat_mean[skip_time:,:,:][times_12,:,:], axis=0)\n",
    "mse_adv_tot_400_t15mean = numpy.nanmean(mse_adv_tot_400_lat_mean[skip_time:,:,:][times_15,:,:], axis=0)\n",
    "mse_adv_tot_400_t18mean = numpy.nanmean(mse_adv_tot_400_lat_mean[skip_time:,:,:][times_18,:,:], axis=0)\n",
    "mse_adv_tot_400_t21mean = numpy.nanmean(mse_adv_tot_400_lat_mean[skip_time:,:,:][times_21,:,:], axis=0)\n",
    "\n",
    "mse_adv_tot_400_array = numpy.array([mse_adv_tot_400_t00mean, mse_adv_tot_400_t03mean, mse_adv_tot_400_t06mean, mse_adv_tot_400_t09mean, mse_adv_tot_400_t12mean, mse_adv_tot_400_t15mean, mse_adv_tot_400_t18mean, mse_adv_tot_400_t21mean])\n",
    "\n",
    "# monthly mean\n",
    "#mse_adv_tot_400_time_mean = numpy.mean(qvapor_1000[skip_time:,:,:] - mse_adv_tot_400[skip_time:,:,:], axis=0)\n",
    "#mse_adv_tot_400_time_mean_landmask = numpy.copy(mse_adv_tot_400_time_mean)\n",
    "#mse_adv_tot_400_time_mean_landmask[landmask==0] = numpy.nan"
   ]
  },
  {
   "cell_type": "code",
   "execution_count": null,
   "metadata": {},
   "outputs": [],
   "source": []
  },
  {
   "cell_type": "code",
   "execution_count": null,
   "metadata": {},
   "outputs": [],
   "source": []
  },
  {
   "cell_type": "code",
   "execution_count": null,
   "metadata": {},
   "outputs": [],
   "source": []
  },
  {
   "cell_type": "markdown",
   "metadata": {},
   "source": [
    "# SET UP PLOT"
   ]
  },
  {
   "cell_type": "markdown",
   "metadata": {},
   "source": [
    "# background mse"
   ]
  },
  {
   "cell_type": "code",
   "execution_count": null,
   "metadata": {},
   "outputs": [],
   "source": [
    "minval=0.1 # for inferno:  0.18\n",
    "maxval=0.75 # for inferno: 1.0\n",
    "n=256\n",
    "full_cmap = mp.get_cmap('Blues_r')\n",
    "cmap_partial = matplotlib.colors.LinearSegmentedColormap.from_list('trunc({n},{a:.2f},{b:.2f})'.format(\\\n",
    "                                                                    n=full_cmap.name, \\\n",
    "                                                                    a=minval, b=maxval), \\\n",
    "                                                                    full_cmap(numpy.linspace(minval, maxval, n)))"
   ]
  },
  {
   "cell_type": "code",
   "execution_count": null,
   "metadata": {
    "scrolled": true
   },
   "outputs": [],
   "source": [
    "fontsize=12\n",
    "\n",
    "#nrows=4;ncols=2\n",
    "#fig,axes = mp.subplots(nrows=nrows,ncols=ncols,subplot_kw={'projection': cartopy.crs.PlateCarree()})\n",
    "#fig.set_size_inches(3.25,4)\n",
    "\n",
    "fig = mp.figure(figsize=(6.5,6))\n",
    "\n",
    "y_zero = numpy.zeros(xlong.shape[1])\n",
    "levels = numpy.arange(325,346,2.5)\n",
    "levels_qvapor = numpy.arange(7.5,17.6,2.5)\n",
    "\n",
    "xticks_deg_E=numpy.array((280,300,320))\n",
    "xticks = -(360-xticks_deg_E)\n",
    "xticks_format=[str(tick)+DEGREE_SIGN+'E' for tick in xticks_deg_E]\n",
    "\n",
    "nrows=4;ncols=2\n",
    "ax_list = []\n",
    "\n",
    "for t in range(8):\n",
    "    ax = fig.add_subplot(nrows,ncols,t+1)#, projection=cartopy.crs.PlateCarree())\n",
    "    \n",
    "    contour_plot = ax.contourf(xlong[0,:]+360.,z,mse_400_array[t]/1000.,\\\n",
    "                               levels=levels,\\\n",
    "                               cmap='Reds',extend='max')\n",
    "    #ax.plot(xlong[0,:]+360.,pblh_1000_array[t]/1000.,c='red',ls='--', label='ABLH high CO$_2$')\n",
    "    \n",
    "    contour_lines = ax.contour(xlong[0,:]+360.,z,qvapor_400_array[t]*1000.,\\\n",
    "                               levels=levels_qvapor,\\\n",
    "                               cmap=cmap_partial, extend='both')\n",
    "\n",
    "    ax.plot(xlong[0,:]+360.,pblh_400_array[t]/1000.,c='dodgerblue', label='control ABLH', lw=2)\n",
    "    \n",
    "    ax.tick_params(labelsize=fontsize)\n",
    "    ax.set_ylim(0,3)\n",
    "    ax.set_xlim(xlong.min()+55.+360.,xlong.max()+360.)\n",
    "    \n",
    "    ax.fill_between(xlong[0,:]+360., y_zero, HGT_M_lat_subset_mean/1000., facecolor='0.1', interpolate=True,zorder=2)\n",
    "    \n",
    "    ax.set_yticks([0,1,2,3])\n",
    "    ax.set_xticks([280,300,320])\n",
    "    ax.set_xticklabels(xticks_format)\n",
    "    ax.set_ylabel('km', fontsize=fontsize)\n",
    "    \n",
    "    ax.text(s='('+string.ascii_lowercase[t]+') hour '+hour_strings[t], x=0, y=1.02,\\\n",
    "            transform=ax.transAxes,fontsize=fontsize,ha='left',va='bottom')\n",
    "    \n",
    "    ax_list.append(ax)\n",
    "\n",
    "fig.tight_layout()\n",
    "\n",
    "top_pos = ax_list[1].get_position()\n",
    "bottom_pos = ax_list[7].get_position()\n",
    "\n",
    "ax_height = top_pos.y1-bottom_pos.y0\n",
    "\n",
    "cbar_axes = fig.add_axes([bottom_pos.x1+0.05, bottom_pos.y0, 0.03, ax_height*0.675])\n",
    "cbar = mp.colorbar(contour_plot, orientation='vertical', cax=cbar_axes)\n",
    "cbar_axes.tick_params(labelsize=fontsize)\n",
    "#cbar_axes.text(s='g kg$^{\\,-1}$', x=0.5, y=1.00666, transform=cbar_axes.transAxes, fontsize=fontsize, ha='center', va='bottom')\n",
    "cbar.set_label('moist static energy (kJ kg$^{\\,-1}$)', fontsize=fontsize)\n",
    "cbar.set_ticks(numpy.arange(325,346,5))\n",
    "\n",
    "cbar_lines_ax = fig.add_axes([bottom_pos.x1+0.05, bottom_pos.y0+ax_height*0.725, 0.03, ax_height*0.275])\n",
    "cbar_lines = fig.colorbar(contour_lines, cax=cbar_lines_ax)\n",
    "cbar_lines_ax.tick_params(labelsize=fontsize)#, length=0)\n",
    "cbar_lines.set_label('spec. hum. (g kg$^{\\,-1}$)', fontsize=fontsize)\n",
    "#cbar_lines_ax.get_children().set_linewidths([2]*7)\n",
    "#cbar_lines_ax.text(s='water\\nvapor', x=0, y=1.05, ha='left', va='bottom', \\\n",
    "#                  transform=cbar_lines_ax.transAxes, fontsize=fontsize)\n",
    "cbar_lines.outline.set_visible(False)\n",
    "cbar_lines_ax.tick_params(axis='y', which='both', right='off')\n",
    "cbar_lines_ax.get_children()[0].set_linewidths(2)\n",
    "cbar_lines_ax.get_children()[1].set_facecolor('None')\n",
    "cbar_lines_ax.get_children()[2].set_facecolor('None')\n",
    "\n",
    "\n",
    "#cbar_qvapor = mp.colorbar(contour_lines)\n",
    "\n",
    "handles, labels = ax_list[0].get_legend_handles_labels()\n",
    "legend = ax_list[0].legend(handles, labels, fontsize=fontsize, ncol=1, bbox_to_anchor=(1,0.99), \\\n",
    "                   edgecolor='None', facecolor='1', fancybox=False, bbox_transform=ax_list[0].transAxes, \\\n",
    "                   loc='upper right', labelspacing=0, \\\n",
    "                   borderaxespad=0, borderpad=0.25, handlelength=1.75, \\\n",
    "                   handletextpad=0.5, framealpha=0.666)\n",
    "\n",
    "fig.savefig('mse_400_cross_sections_zcoords.png', dpi=600, bbox_inches='tight', transparent=True)"
   ]
  },
  {
   "cell_type": "markdown",
   "metadata": {},
   "source": [
    "# background mse with q in energy units"
   ]
  },
  {
   "cell_type": "code",
   "execution_count": null,
   "metadata": {},
   "outputs": [],
   "source": [
    "fontsize=12\n",
    "\n",
    "#nrows=4;ncols=2\n",
    "#fig,axes = mp.subplots(nrows=nrows,ncols=ncols,subplot_kw={'projection': cartopy.crs.PlateCarree()})\n",
    "#fig.set_size_inches(3.25,4)\n",
    "\n",
    "fig = mp.figure(figsize=(6.5,6))\n",
    "\n",
    "y_zero = numpy.zeros(xlong.shape[1])\n",
    "levels = numpy.arange(325,346,2.5)\n",
    "levels_qvapor = numpy.arange(5,41,5) # kJ/kg\n",
    "\n",
    "xticks_deg_E=numpy.array((280,300,320))\n",
    "xticks = -(360-xticks_deg_E)\n",
    "xticks_format=[str(tick)+DEGREE_SIGN+'E' for tick in xticks_deg_E]\n",
    "\n",
    "nrows=4;ncols=2\n",
    "ax_list = []\n",
    "\n",
    "for t in range(8):\n",
    "    ax = fig.add_subplot(nrows,ncols,t+1)#, projection=cartopy.crs.PlateCarree())\n",
    "    \n",
    "    contour_plot = ax.contourf(xlong[0,:]+360.,z,mse_400_array[t]/1000.,\\\n",
    "                               levels=levels,\\\n",
    "                               cmap='Reds',extend='max')\n",
    "    #ax.plot(xlong[0,:]+360.,pblh_1000_array[t]/1000.,c='red',ls='--', label='ABLH high CO$_2$')\n",
    "    \n",
    "    contour_lines = ax.contour(xlong[0,:]+360.,z,qvapor_400_array[t]*L_v/1000.,\\\n",
    "                               levels=levels_qvapor,\\\n",
    "                               cmap=cmap_partial, extend='both')\n",
    "\n",
    "    ax.plot(xlong[0,:]+360.,pblh_400_array[t]/1000.,c='dodgerblue', label='control ABLH', lw=2)\n",
    "    \n",
    "    ax.tick_params(labelsize=fontsize)\n",
    "    ax.set_ylim(0,3)\n",
    "    ax.set_xlim(xlong.min()+55.+360.,xlong.max()+360.)\n",
    "    \n",
    "    ax.fill_between(xlong[0,:]+360., y_zero, HGT_M_lat_subset_mean/1000., facecolor='0.1', interpolate=True,zorder=2)\n",
    "    \n",
    "    ax.set_yticks([0,1,2,3])\n",
    "    ax.set_xticks([280,300,320])\n",
    "    ax.set_xticklabels(xticks_format)\n",
    "    ax.set_ylabel('km', fontsize=fontsize)\n",
    "    \n",
    "    ax.text(s='('+string.ascii_lowercase[t]+') hour '+hour_strings[t], x=0, y=1.02,\\\n",
    "            transform=ax.transAxes,fontsize=fontsize,ha='left',va='bottom')\n",
    "    \n",
    "    ax_list.append(ax)\n",
    "\n",
    "fig.tight_layout()\n",
    "\n",
    "top_pos = ax_list[1].get_position()\n",
    "bottom_pos = ax_list[7].get_position()\n",
    "\n",
    "ax_height = top_pos.y1-bottom_pos.y0\n",
    "\n",
    "cbar_axes = fig.add_axes([bottom_pos.x1+0.05, bottom_pos.y0, 0.03, ax_height*0.675])\n",
    "cbar = mp.colorbar(contour_plot, orientation='vertical', cax=cbar_axes)\n",
    "cbar_axes.tick_params(labelsize=fontsize)\n",
    "#cbar_axes.text(s='g kg$^{\\,-1}$', x=0.5, y=1.00666, transform=cbar_axes.transAxes, fontsize=fontsize, ha='center', va='bottom')\n",
    "cbar.set_label('moist static energy (kJ kg$^{\\,-1}$)', fontsize=fontsize)\n",
    "cbar.set_ticks(numpy.arange(325,346,5))\n",
    "\n",
    "cbar_lines_ax = fig.add_axes([bottom_pos.x1+0.05, bottom_pos.y0+ax_height*0.725, 0.03, ax_height*0.275])\n",
    "cbar_lines = fig.colorbar(contour_lines, cax=cbar_lines_ax)\n",
    "cbar_lines_ax.tick_params(labelsize=fontsize)#, length=0)\n",
    "cbar_lines.set_label('spec. hum. (kJ kg$^{\\,-1}$)', fontsize=fontsize)\n",
    "#cbar_lines_ax.get_children().set_linewidths([2]*7)\n",
    "#cbar_lines_ax.text(s='water\\nvapor', x=0, y=1.05, ha='left', va='bottom', \\\n",
    "#                  transform=cbar_lines_ax.transAxes, fontsize=fontsize)\n",
    "cbar_lines.outline.set_visible(False)\n",
    "cbar_lines_ax.tick_params(axis='y', which='both', right='off')\n",
    "cbar_lines_ax.get_children()[0].set_linewidths(2)\n",
    "cbar_lines_ax.get_children()[1].set_facecolor('None')\n",
    "cbar_lines_ax.get_children()[2].set_facecolor('None')\n",
    "\n",
    "\n",
    "#cbar_qvapor = mp.colorbar(contour_lines)\n",
    "\n",
    "handles, labels = ax_list[0].get_legend_handles_labels()\n",
    "legend = ax_list[0].legend(handles, labels, fontsize=fontsize, ncol=1, bbox_to_anchor=(1,0.99), \\\n",
    "                   edgecolor='None', facecolor='1', fancybox=False, bbox_transform=ax_list[0].transAxes, \\\n",
    "                   loc='upper right', labelspacing=0, \\\n",
    "                   borderaxespad=0, borderpad=0.25, handlelength=1.75, \\\n",
    "                   handletextpad=0.5, framealpha=0.666)\n",
    "\n",
    "fig.savefig('mse_400_cross_sections_zcoords_energy_units.png', dpi=600, bbox_inches='tight', transparent=True)"
   ]
  },
  {
   "cell_type": "code",
   "execution_count": null,
   "metadata": {},
   "outputs": [],
   "source": [
    "z[[2,6,7,8,9,10,11,12,13]]"
   ]
  },
  {
   "cell_type": "code",
   "execution_count": null,
   "metadata": {},
   "outputs": [],
   "source": [
    "fontsize=12\n",
    "\n",
    "fig = mp.figure(figsize=(6.5,6))\n",
    "\n",
    "y_zero = numpy.zeros(xlong.shape[1])\n",
    "levels = numpy.arange(-1.25,1.26,0.25)\n",
    "levels_qvapor = numpy.arange(-1,1.1,0.5)\n",
    "#colors_qvapor = ['coral']*2+['0.1']+['paleturquoise']*2\n",
    "colors_qvapor = ['orangered','coral','0.1','paleturquoise','deepskyblue']\n",
    "linestyles_qvapor = ['-']*2+[':']+['-']*2\n",
    "\n",
    "xticks_deg_E=numpy.array((280,300,320))\n",
    "xticks = -(360-xticks_deg_E)\n",
    "xticks_format=[str(tick)+DEGREE_SIGN+'E' for tick in xticks_deg_E]\n",
    "\n",
    "nrows=4;ncols=2\n",
    "ax_list = []\n",
    "\n",
    "#every_nth_z=3\n",
    "z_indices=[2,6,7,8,9,10,11,12,13]\n",
    "every_nth_lon=10\n",
    "quiver_scale = 0.2 # 0.05 for 850-600, 0.1 for below 850\n",
    "quiver_shaft_width = 1.#.75\n",
    "quiver_key_scale = 5\n",
    "quiver_color = '0.1'\n",
    "quiver_head_length = 3\n",
    "quiver_head_axis_length = quiver_head_length\n",
    "\n",
    "# quiver_plot1 = ax2.quiver(XLONG_M[::every_nth_lat,::every_nth_lon], \\\n",
    "#                         XLAT_M[::every_nth_lat,::every_nth_lon], \\\n",
    "#                         uu850_mean_FMAASO[::every_nth_lat,::every_nth_lon], \\\n",
    "#                         vv850_mean_FMAASO[::every_nth_lat,::every_nth_lon], \\\n",
    "#                         units='xy', scale=quiver_scale, width=quiver_shaft_width, \\\n",
    "#                         color=quiver_color, headlength=quiver_head_length, \\\n",
    "#                         headaxislength=quiver_head_axis_length, \\\n",
    "#                         zorder=2)\n",
    "# quiver_key = ax2.quiverkey(quiver_plot1, X=1.0, Y=1.06, labelpos='E', label='', \\\n",
    "#                                   U=quiver_key_scale, coordinates='axes')\n",
    "\n",
    "contour_lines_list = []\n",
    "\n",
    "for t in range(8):\n",
    "    ax = fig.add_subplot(nrows,ncols,t+1)#, projection=cartopy.crs.PlateCarree())\n",
    "    \n",
    "    contour_plot = ax.contourf(xlong[0,:]+360.,z,\\\n",
    "                               mse_diffs_array[t]/1000.,\\\n",
    "                               levels=levels,\\\n",
    "                               cmap='PuOr_r',extend='both')\n",
    "    ax.plot(xlong[0,:]+360.,pblh_400_array[t]/1000.,c='dodgerblue', label='control ABLH', lw=2)\n",
    "    ax.plot(xlong[0,:]+360.,pblh_1000_array[t]/1000.,c='darkturquoise',ls='--', label='high CO$_2$ ABLH', lw=2)\n",
    " \n",
    "    ax.quiver(xlong[0,:][::every_nth_lon]+360.,z[z_indices],\\\n",
    "              u_diffs_array[t][z_indices,::every_nth_lon],\\\n",
    "              w_diffs_array[t][z_indices,::every_nth_lon]*1000.,\\\n",
    "              units='xy', scale=quiver_scale, \\\n",
    "              color=quiver_color, zorder=3)\n",
    "    if t in [6,7]:\n",
    "        contour_lines = ax.contour(xlong[0,:]+360.,z,\\\n",
    "                                   qvapor_diffs_array[t]*L_v/1000.,\\\n",
    "                                   levels=levels_qvapor,\\\n",
    "                                   linewidths=1,\\\n",
    "                                   colors=colors_qvapor,\\\n",
    "                                   linestyles=linestyles_qvapor, extend='both')\n",
    "        contour_lines_list.append(contour_lines)\n",
    "\n",
    "    else:\n",
    "        for line in range(levels_qvapor.__len__()):        \n",
    "            ax.contour(xlong[0,:]+360.,z,\\\n",
    "                                       qvapor_diffs_array[t]*L_v/1000.,\\\n",
    "                                       levels=levels_qvapor[line],\\\n",
    "                                       linewidths=1,\\\n",
    "                                       colors=colors_qvapor[line],\\\n",
    "                                       linestyles=linestyles_qvapor[line], extend='both')\n",
    "    \n",
    "    ax.tick_params(labelsize=fontsize)\n",
    "    ax.set_ylim(0,3)\n",
    "    ax.set_xlim(xlong.min()+55.+360.,xlong.max()+360.)\n",
    "    \n",
    "    ax.fill_between(xlong[0,:]+360., y_zero, HGT_M_lat_subset_mean/1000., facecolor='0.1', interpolate=True, zorder=2)\n",
    "    \n",
    "    ax.set_yticks([0,1,2,3])\n",
    "    ax.set_xticks([280,300,320])\n",
    "    ax.set_xticklabels(xticks_format)\n",
    "    ax.set_ylabel('km', fontsize=fontsize)\n",
    "    \n",
    "    ax.text(s='('+string.ascii_lowercase[t]+') hour '+hour_strings[t], x=0, y=1.02,\\\n",
    "            transform=ax.transAxes,fontsize=fontsize,ha='left',va='bottom')\n",
    "    \n",
    "    ax_list.append(ax)\n",
    "\n",
    "fig.tight_layout()\n",
    "\n",
    "ax_height = top_pos.y1-bottom_pos.y0\n",
    "\n",
    "top_pos = ax_list[1].get_position()\n",
    "bottom_pos = ax_list[7].get_position()\n",
    "cbar_axes = fig.add_axes([bottom_pos.x1+0.05, bottom_pos.y0, 0.03, ax_height*0.675])\n",
    "cbar = mp.colorbar(contour_plot, orientation='vertical', cax=cbar_axes)\n",
    "cbar_axes.tick_params(labelsize=fontsize)\n",
    "#cbar_axes.text(s='g kg$^{\\,-1}$', x=0.5, y=1.00666, transform=cbar_axes.transAxes, fontsize=fontsize, ha='center', va='bottom')\n",
    "cbar.set_label('$\\Delta$ moist static energy (kJ kg$^{\\,-1}$)', fontsize=fontsize)\n",
    "#cbar.set_ticks(numpy.arange(-0.8,0.81,0.2))\n",
    "\n",
    "cbar_lines_ax = fig.add_axes([bottom_pos.x1+0.05, bottom_pos.y0+ax_height*0.725, 0.03, ax_height*0.275])\n",
    "cbar_lines = fig.colorbar(contour_lines_list[0], cax=cbar_lines_ax)\n",
    "cbar_lines_ax.tick_params(labelsize=fontsize)#, length=0)\n",
    "cbar_lines.set_label('$\\Delta$ spec. hum. (kJ kg$^{\\,-1}$)', fontsize=fontsize)\n",
    "cbar_lines.outline.set_visible(False)\n",
    "cbar_lines_ax.tick_params(axis='y', which='both', right='off')\n",
    "cbar_lines_ax.get_children()[0].set_linewidths(2)\n",
    "cbar_lines_ax.get_children()[0].set_linestyles(['-','-',':','-','-'])\n",
    "cbar_lines_ax.get_children()[1].set_facecolor('None')\n",
    "cbar_lines_ax.get_children()[2].set_facecolor('None')\n",
    "cbar_lines_ax.set_yticklabels(['$-1$','$-0.5$','0','0.5','1.0'])\n",
    "\n",
    "handles, labels = ax_list[0].get_legend_handles_labels()\n",
    "legend = ax_list[0].legend(handles, labels, fontsize=fontsize, ncol=1, bbox_to_anchor=(1,0.99), \\\n",
    "                   edgecolor='None', facecolor='1', fancybox=False, bbox_transform=ax_list[0].transAxes, \\\n",
    "                   loc='upper right', labelspacing=0, framealpha=0.666, \\\n",
    "                   borderaxespad=0, borderpad=0.25, handlelength=1.75, \\\n",
    "                   handletextpad=0.5)\n",
    "\n",
    "fig.savefig('mse_diffs_cross_sections.png', dpi=600, bbox_inches='tight', transparent=True)"
   ]
  },
  {
   "cell_type": "code",
   "execution_count": null,
   "metadata": {},
   "outputs": [],
   "source": []
  },
  {
   "cell_type": "code",
   "execution_count": null,
   "metadata": {},
   "outputs": [],
   "source": []
  },
  {
   "cell_type": "code",
   "execution_count": null,
   "metadata": {},
   "outputs": [],
   "source": []
  },
  {
   "cell_type": "code",
   "execution_count": null,
   "metadata": {},
   "outputs": [],
   "source": [
    "fontsize=12\n",
    "\n",
    "fig = mp.figure(figsize=(6.5,6))\n",
    "\n",
    "y_zero = numpy.zeros(xlong.shape[1])\n",
    "levels = numpy.arange(-1.5,1.51,0.25)\n",
    "levels_qvapor = numpy.arange(-1,1.1,0.5)\n",
    "#colors_qvapor = ['coral']*2+['0.1']+['paleturquoise']*2\n",
    "colors_qvapor = ['orangered','coral','0.1','paleturquoise','deepskyblue']\n",
    "linestyles_qvapor = ['-']*2+[':']+['-']*2\n",
    "\n",
    "xticks_deg_E=numpy.array((280,300,320))\n",
    "xticks = -(360-xticks_deg_E)\n",
    "xticks_format=[str(tick)+DEGREE_SIGN+'E' for tick in xticks_deg_E]\n",
    "\n",
    "nrows=4;ncols=2\n",
    "ax_list = []\n",
    "\n",
    "contour_lines_list = []\n",
    "\n",
    "for t in range(8):\n",
    "    ax = fig.add_subplot(nrows,ncols,t+1)#, projection=cartopy.crs.PlateCarree())\n",
    "    \n",
    "    contour_plot = ax.contourf(xlong[0,:]+360.,z,\\\n",
    "                               tk_diffs_array[t]*c_p/1000.,\\\n",
    "                               levels=levels,\\\n",
    "                               cmap='RdGy_r',extend='both')\n",
    "    ax.plot(xlong[0,:]+360.,pblh_400_array[t]/1000.,c='dodgerblue', label='control ABLH', lw=2)\n",
    "    ax.plot(xlong[0,:]+360.,pblh_1000_array[t]/1000.,c='darkturquoise',ls='--', label='high CO$_2$ ABLH', lw=2)\n",
    " \n",
    "#     if t in [6,7]:\n",
    "#         contour_lines = ax.contour(xlong[0,:]+360.,z,\\\n",
    "#                                    qvapor_diffs_array[t]*L_v/1000.,\\\n",
    "#                                    levels=levels_qvapor,\\\n",
    "#                                    linewidths=1,\\\n",
    "#                                    colors=colors_qvapor,\\\n",
    "#                                    linestyles=linestyles_qvapor, extend='both')\n",
    "#         contour_lines_list.append(contour_lines)\n",
    "\n",
    "#     else:\n",
    "#         for line in range(levels_qvapor.__len__()):        \n",
    "#             ax.contour(xlong[0,:]+360.,z,\\\n",
    "#                                        qvapor_diffs_array[t]*L_v/1000.,\\\n",
    "#                                        levels=levels_qvapor[line],\\\n",
    "#                                        linewidths=1,\\\n",
    "#                                        colors=colors_qvapor[line],\\\n",
    "#                                        linestyles=linestyles_qvapor[line], extend='both')\n",
    "    \n",
    "    ax.tick_params(labelsize=fontsize)\n",
    "    ax.set_ylim(0,3)\n",
    "    ax.set_xlim(xlong.min()+55.+360.,xlong.max()+360.)\n",
    "    \n",
    "    ax.fill_between(xlong[0,:]+360., y_zero, HGT_M_lat_subset_mean/1000., facecolor='0.1', interpolate=True, zorder=2)\n",
    "    \n",
    "    ax.set_yticks([0,1,2,3])\n",
    "    ax.set_xticks([280,300,320])\n",
    "    ax.set_xticklabels(xticks_format)\n",
    "    ax.set_ylabel('km', fontsize=fontsize)\n",
    "    \n",
    "    ax.text(s='('+string.ascii_lowercase[t]+') hour '+hour_strings[t], x=0, y=1.02,\\\n",
    "            transform=ax.transAxes,fontsize=fontsize,ha='left',va='bottom')\n",
    "    \n",
    "    ax_list.append(ax)\n",
    "\n",
    "fig.tight_layout()\n",
    "\n",
    "ax_height = top_pos.y1-bottom_pos.y0\n",
    "\n",
    "top_pos = ax_list[1].get_position()\n",
    "bottom_pos = ax_list[7].get_position()\n",
    "cbar_axes = fig.add_axes([bottom_pos.x1+0.05, bottom_pos.y0, 0.03, ax_height*0.675])\n",
    "cbar = mp.colorbar(contour_plot, orientation='vertical', cax=cbar_axes)\n",
    "cbar_axes.tick_params(labelsize=fontsize)\n",
    "#cbar_axes.text(s='g kg$^{\\,-1}$', x=0.5, y=1.00666, transform=cbar_axes.transAxes, fontsize=fontsize, ha='center', va='bottom')\n",
    "cbar.set_label('$\\Delta$ temperature (kJ kg$^{\\,-1}$)', fontsize=fontsize)\n",
    "#cbar.set_ticks(numpy.arange(-1,1.1,0.2))\n",
    "\n",
    "# cbar_lines_ax = fig.add_axes([bottom_pos.x1+0.05, bottom_pos.y0+ax_height*0.725, 0.03, ax_height*0.275])\n",
    "# cbar_lines = fig.colorbar(contour_lines_list[0], cax=cbar_lines_ax)\n",
    "# cbar_lines_ax.tick_params(labelsize=fontsize)#, length=0)\n",
    "# cbar_lines.set_label('$\\Delta$ spec. hum. (kJ kg$^{\\,-1}$)', fontsize=fontsize)\n",
    "# cbar_lines.outline.set_visible(False)\n",
    "# cbar_lines_ax.tick_params(axis='y', which='both', right='off')\n",
    "# cbar_lines_ax.get_children()[0].set_linewidths(2)\n",
    "# cbar_lines_ax.get_children()[0].set_linestyles(['-','-',':','-','-'])\n",
    "# cbar_lines_ax.get_children()[1].set_facecolor('None')\n",
    "# cbar_lines_ax.get_children()[2].set_facecolor('None')\n",
    "# cbar_lines_ax.set_yticklabels(['$-1$','$-0.5$','0','0.5','1.0'])\n",
    "\n",
    "handles, labels = ax_list[0].get_legend_handles_labels()\n",
    "legend = ax_list[0].legend(handles, labels, fontsize=fontsize, ncol=1, bbox_to_anchor=(1,0.99), \\\n",
    "                   edgecolor='None', facecolor='1', fancybox=False, bbox_transform=ax_list[0].transAxes, \\\n",
    "                   loc='upper right', labelspacing=0, framealpha=0.666, \\\n",
    "                   borderaxespad=0, borderpad=0.25, handlelength=1.75, \\\n",
    "                   handletextpad=0.5)\n",
    "\n",
    "fig.savefig('temp_diffs_cross_sections.png', dpi=600, bbox_inches='tight', transparent=True)"
   ]
  },
  {
   "cell_type": "code",
   "execution_count": null,
   "metadata": {},
   "outputs": [],
   "source": [
    "fontsize=12\n",
    "\n",
    "fig = mp.figure(figsize=(6.5,6))\n",
    "\n",
    "y_zero = numpy.zeros(xlong.shape[1])\n",
    "levels = numpy.arange(-1.5,1.51,0.25)\n",
    "levels_qvapor = numpy.arange(-1,1.1,0.5)\n",
    "#colors_qvapor = ['coral']*2+['0.1']+['paleturquoise']*2\n",
    "colors_qvapor = ['orangered','coral','0.1','paleturquoise','deepskyblue']\n",
    "linestyles_qvapor = ['-']*2+[':']+['-']*2\n",
    "\n",
    "xticks_deg_E=numpy.array((280,300,320))\n",
    "xticks = -(360-xticks_deg_E)\n",
    "xticks_format=[str(tick)+DEGREE_SIGN+'E' for tick in xticks_deg_E]\n",
    "\n",
    "nrows=4;ncols=2\n",
    "ax_list = []\n",
    "\n",
    "contour_lines_list = []\n",
    "\n",
    "for t in range(8):\n",
    "    ax = fig.add_subplot(nrows,ncols,t+1)#, projection=cartopy.crs.PlateCarree())\n",
    "    \n",
    "    contour_plot = ax.contourf(xlong[0,:]+360.,z,\\\n",
    "                               qvapor_diffs_array[t]*L_v/1000.,\\\n",
    "                               levels=levels,\\\n",
    "                               cmap='RdBu',extend='both')\n",
    "    ax.plot(xlong[0,:]+360.,pblh_400_array[t]/1000.,c='dodgerblue', label='control ABLH', lw=2)\n",
    "    ax.plot(xlong[0,:]+360.,pblh_1000_array[t]/1000.,c='darkturquoise',ls='--', label='high CO$_2$ ABLH', lw=2)\n",
    " \n",
    "#     if t in [6,7]:\n",
    "#         contour_lines = ax.contour(xlong[0,:]+360.,z,\\\n",
    "#                                    qvapor_diffs_array[t]*L_v/1000.,\\\n",
    "#                                    levels=levels_qvapor,\\\n",
    "#                                    linewidths=1,\\\n",
    "#                                    colors=colors_qvapor,\\\n",
    "#                                    linestyles=linestyles_qvapor, extend='both')\n",
    "#         contour_lines_list.append(contour_lines)\n",
    "\n",
    "#     else:\n",
    "#         for line in range(levels_qvapor.__len__()):        \n",
    "#             ax.contour(xlong[0,:]+360.,z,\\\n",
    "#                                        qvapor_diffs_array[t]*L_v/1000.,\\\n",
    "#                                        levels=levels_qvapor[line],\\\n",
    "#                                        linewidths=1,\\\n",
    "#                                        colors=colors_qvapor[line],\\\n",
    "#                                        linestyles=linestyles_qvapor[line], extend='both')\n",
    "    \n",
    "    ax.tick_params(labelsize=fontsize)\n",
    "    ax.set_ylim(0,3)\n",
    "    ax.set_xlim(xlong.min()+55.+360.,xlong.max()+360.)\n",
    "    \n",
    "    ax.fill_between(xlong[0,:]+360., y_zero, HGT_M_lat_subset_mean/1000., facecolor='0.1', interpolate=True, zorder=2)\n",
    "    \n",
    "    ax.set_yticks([0,1,2,3])\n",
    "    ax.set_xticks([280,300,320])\n",
    "    ax.set_xticklabels(xticks_format)\n",
    "    ax.set_ylabel('km', fontsize=fontsize)\n",
    "    \n",
    "    ax.text(s='('+string.ascii_lowercase[t]+') hour '+hour_strings[t], x=0, y=1.02,\\\n",
    "            transform=ax.transAxes,fontsize=fontsize,ha='left',va='bottom')\n",
    "    \n",
    "    ax_list.append(ax)\n",
    "\n",
    "fig.tight_layout()\n",
    "\n",
    "ax_height = top_pos.y1-bottom_pos.y0\n",
    "\n",
    "top_pos = ax_list[1].get_position()\n",
    "bottom_pos = ax_list[7].get_position()\n",
    "cbar_axes = fig.add_axes([bottom_pos.x1+0.05, bottom_pos.y0, 0.03, ax_height*0.675])\n",
    "cbar = mp.colorbar(contour_plot, orientation='vertical', cax=cbar_axes)\n",
    "cbar_axes.tick_params(labelsize=fontsize)\n",
    "#cbar_axes.text(s='g kg$^{\\,-1}$', x=0.5, y=1.00666, transform=cbar_axes.transAxes, fontsize=fontsize, ha='center', va='bottom')\n",
    "cbar.set_label('$\\Delta$ spec. humidity (kJ kg$^{\\,-1}$)', fontsize=fontsize)\n",
    "#cbar.set_ticks(numpy.arange(-1,1.1,0.2))\n",
    "\n",
    "# cbar_lines_ax = fig.add_axes([bottom_pos.x1+0.05, bottom_pos.y0+ax_height*0.725, 0.03, ax_height*0.275])\n",
    "# cbar_lines = fig.colorbar(contour_lines_list[0], cax=cbar_lines_ax)\n",
    "# cbar_lines_ax.tick_params(labelsize=fontsize)#, length=0)\n",
    "# cbar_lines.set_label('$\\Delta$ spec. hum. (kJ kg$^{\\,-1}$)', fontsize=fontsize)\n",
    "# cbar_lines.outline.set_visible(False)\n",
    "# cbar_lines_ax.tick_params(axis='y', which='both', right='off')\n",
    "# cbar_lines_ax.get_children()[0].set_linewidths(2)\n",
    "# cbar_lines_ax.get_children()[0].set_linestyles(['-','-',':','-','-'])\n",
    "# cbar_lines_ax.get_children()[1].set_facecolor('None')\n",
    "# cbar_lines_ax.get_children()[2].set_facecolor('None')\n",
    "# cbar_lines_ax.set_ytickllabels(['$-1$','$-0.5$','0','0.5','1.0'])\n",
    "\n",
    "handles, labels = ax_list[0].get_legend_handles_labels()\n",
    "legend = ax_list[0].legend(handles, labels, fontsize=fontsize, ncol=1, bbox_to_anchor=(1,0.99), \\\n",
    "                   edgecolor='None', facecolor='1', fancybox=False, bbox_transform=ax_list[0].transAxes, \\\n",
    "                   loc='upper right', labelspacing=0, framealpha=0.666, \\\n",
    "                   borderaxespad=0, borderpad=0.25, handlelength=1.75, \\\n",
    "                   handletextpad=0.5)\n",
    "\n",
    "fig.savefig('qvapor_diffs_cross_sections.png', dpi=600, bbox_inches='tight', transparent=True)"
   ]
  },
  {
   "cell_type": "code",
   "execution_count": null,
   "metadata": {},
   "outputs": [],
   "source": []
  },
  {
   "cell_type": "code",
   "execution_count": null,
   "metadata": {},
   "outputs": [],
   "source": []
  },
  {
   "cell_type": "code",
   "execution_count": null,
   "metadata": {},
   "outputs": [],
   "source": [
    "#cf=mp.contourf(ph_tot_diffs_array[-1,:,:]/1000.,levels=numpy.arange(-0.03,0.031,0.005), cmap='RdBu_r')\n",
    "cf=mp.contourf(xlong[0,:],z,ph_tot_diffs_array[-1,:,:]/9.81,levels=numpy.arange(-3,3.1,0.5), cmap='RdBu_r')\n",
    "mp.colorbar(cf)"
   ]
  },
  {
   "cell_type": "code",
   "execution_count": null,
   "metadata": {},
   "outputs": [],
   "source": [
    "fontsize=12\n",
    "\n",
    "fig = mp.figure(figsize=(6.5,6))\n",
    "\n",
    "y_zero = numpy.zeros(xlong.shape[1])\n",
    "levels = numpy.arange(-0.03,0.031,0.01)\n",
    "levels_qvapor = numpy.arange(-1,1.1,0.5)\n",
    "#colors_qvapor = ['coral']*2+['0.1']+['paleturquoise']*2\n",
    "colors_qvapor = ['orangered','coral','0.1','paleturquoise','deepskyblue']\n",
    "linestyles_qvapor = ['-']*2+[':']+['-']*2\n",
    "\n",
    "xticks_deg_E=numpy.array((280,300,320))\n",
    "xticks = -(360-xticks_deg_E)\n",
    "xticks_format=[str(tick)+DEGREE_SIGN+'E' for tick in xticks_deg_E]\n",
    "\n",
    "nrows=4;ncols=2\n",
    "ax_list = []\n",
    "\n",
    "contour_lines_list = []\n",
    "\n",
    "for t in range(8):\n",
    "    ax = fig.add_subplot(nrows,ncols,t+1)#, projection=cartopy.crs.PlateCarree())\n",
    "    \n",
    "    contour_plot = ax.contourf(xlong[0,:]+360.,z,\\\n",
    "                               ph_tot_diffs_array[t]/1000.,\\\n",
    "                               levels=levels,\\\n",
    "                               cmap='RdGy_r',extend='both')\n",
    "    ax.plot(xlong[0,:]+360.,pblh_400_array[t]/1000.,c='dodgerblue', label='control ABLH', lw=2)\n",
    "    ax.plot(xlong[0,:]+360.,pblh_1000_array[t]/1000.,c='darkturquoise',ls='--', label='high CO$_2$ ABLH', lw=2)\n",
    " \n",
    "    if t in [6,7]:\n",
    "        contour_lines = ax.contour(xlong[0,:]+360.,z,\\\n",
    "                                   qvapor_diffs_array[t]*L_v/1000.,\\\n",
    "                                   levels=levels_qvapor,\\\n",
    "                                   linewidths=1,\\\n",
    "                                   colors=colors_qvapor,\\\n",
    "                                   linestyles=linestyles_qvapor, extend='both')\n",
    "        contour_lines_list.append(contour_lines)\n",
    "\n",
    "    else:\n",
    "        for line in range(levels_qvapor.__len__()):        \n",
    "            ax.contour(xlong[0,:]+360.,z,\\\n",
    "                                       qvapor_diffs_array[t]*L_v/1000.,\\\n",
    "                                       levels=levels_qvapor[line],\\\n",
    "                                       linewidths=1,\\\n",
    "                                       colors=colors_qvapor[line],\\\n",
    "                                       linestyles=linestyles_qvapor[line], extend='both')\n",
    "    \n",
    "    ax.tick_params(labelsize=fontsize)\n",
    "    ax.set_ylim(0,3)\n",
    "    ax.set_xlim(xlong.min()+55.+360.,xlong.max()+360.)\n",
    "    \n",
    "    ax.fill_between(xlong[0,:]+360., y_zero, HGT_M_lat_subset_mean/1000., facecolor='0.1', interpolate=True, zorder=2)\n",
    "    \n",
    "    ax.set_yticks([0,1,2,3])\n",
    "    ax.set_xticks([280,300,320])\n",
    "    ax.set_xticklabels(xticks_format)\n",
    "    ax.set_ylabel('km', fontsize=fontsize)\n",
    "    \n",
    "    ax.text(s='('+string.ascii_lowercase[t]+') hour '+hour_strings[t], x=0, y=1.02,\\\n",
    "            transform=ax.transAxes,fontsize=fontsize,ha='left',va='bottom')\n",
    "    \n",
    "    ax_list.append(ax)\n",
    "\n",
    "fig.tight_layout()\n",
    "\n",
    "ax_height = top_pos.y1-bottom_pos.y0\n",
    "\n",
    "top_pos = ax_list[1].get_position()\n",
    "bottom_pos = ax_list[7].get_position()\n",
    "cbar_axes = fig.add_axes([bottom_pos.x1+0.05, bottom_pos.y0, 0.03, ax_height*0.675])\n",
    "cbar = mp.colorbar(contour_plot, orientation='vertical', cax=cbar_axes)\n",
    "cbar_axes.tick_params(labelsize=fontsize)\n",
    "#cbar_axes.text(s='g kg$^{\\,-1}$', x=0.5, y=1.00666, transform=cbar_axes.transAxes, fontsize=fontsize, ha='center', va='bottom')\n",
    "cbar.set_label('$\\Delta$ geopotential (kJ kg$^{\\,-1}$)', fontsize=fontsize)\n",
    "#cbar.set_ticks(numpy.arange(-1,1.1,0.2))\n",
    "\n",
    "cbar_lines_ax = fig.add_axes([bottom_pos.x1+0.05, bottom_pos.y0+ax_height*0.725, 0.03, ax_height*0.275])\n",
    "cbar_lines = fig.colorbar(contour_lines_list[0], cax=cbar_lines_ax)\n",
    "cbar_lines_ax.tick_params(labelsize=fontsize)#, length=0)\n",
    "cbar_lines.set_label('$\\Delta$ spec. hum. (kJ kg$^{\\,-1}$)', fontsize=fontsize)\n",
    "cbar_lines.outline.set_visible(False)\n",
    "cbar_lines_ax.tick_params(axis='y', which='both', right='off')\n",
    "cbar_lines_ax.get_children()[0].set_linewidths(2)\n",
    "cbar_lines_ax.get_children()[0].set_linestyles(['-','-',':','-','-'])\n",
    "cbar_lines_ax.get_children()[1].set_facecolor('None')\n",
    "cbar_lines_ax.get_children()[2].set_facecolor('None')\n",
    "cbar_lines_ax.set_yticklabels(['$-1$','$-0.5$','0','0.5','1.0'])\n",
    "\n",
    "handles, labels = ax_list[0].get_legend_handles_labels()\n",
    "legend = ax_list[0].legend(handles, labels, fontsize=fontsize, ncol=1, bbox_to_anchor=(1,0.99), \\\n",
    "                   edgecolor='None', facecolor='1', fancybox=False, bbox_transform=ax_list[0].transAxes, \\\n",
    "                   loc='upper right', labelspacing=0, framealpha=0.666, \\\n",
    "                   borderaxespad=0, borderpad=0.25, handlelength=1.75, \\\n",
    "                   handletextpad=0.5)\n",
    "\n",
    "fig.savefig('geopot_diffs_cross_sections.png', dpi=600, bbox_inches='tight', transparent=True)"
   ]
  },
  {
   "cell_type": "code",
   "execution_count": null,
   "metadata": {},
   "outputs": [],
   "source": []
  },
  {
   "cell_type": "code",
   "execution_count": null,
   "metadata": {},
   "outputs": [],
   "source": []
  },
  {
   "cell_type": "code",
   "execution_count": null,
   "metadata": {},
   "outputs": [],
   "source": []
  },
  {
   "cell_type": "markdown",
   "metadata": {},
   "source": [
    "# 1st day 3hr means"
   ]
  },
  {
   "cell_type": "code",
   "execution_count": null,
   "metadata": {},
   "outputs": [],
   "source": [
    "skip_time = 24\n",
    "n_intervals = 8\n",
    "hour_strings = ['00','03','06','09','12','15','18','21']\n",
    "\n",
    "times_day1_00 = [t.hour in [0,1] and t.day==1 for t in time_datetimes]\n",
    "times_day1_03 = [t.hour in [2,3,4] and t.day==1 for t in time_datetimes]\n",
    "times_day1_06 = [t.hour in [5,6,7] and t.day==1 for t in time_datetimes]\n",
    "times_day1_09 = [t.hour in [8,9,10] and t.day==1 for t in time_datetimes]\n",
    "times_day1_12 = [t.hour in [11,12,13] and t.day==1 for t in time_datetimes]\n",
    "times_day1_15 = [t.hour in [14,15,16] and t.day==1 for t in time_datetimes]\n",
    "times_day1_18 = [t.hour in [17,18,19] and t.day==1 for t in time_datetimes]\n",
    "times_day1_21 = [t.hour in [20,21,22] and t.day==1 for t in time_datetimes]"
   ]
  },
  {
   "cell_type": "code",
   "execution_count": null,
   "metadata": {},
   "outputs": [],
   "source": [
    "# calculate 3 hourly means for 400\n",
    "mse_diffs_t00mean = numpy.nanmean(mse_diffs_lat_mean[:,:,:][times_day1_00,:,:], axis=0)\n",
    "mse_diffs_t03mean = numpy.nanmean(mse_diffs_lat_mean[:,:,:][times_day1_03,:,:], axis=0)\n",
    "mse_diffs_t06mean = numpy.nanmean(mse_diffs_lat_mean[:,:,:][times_day1_06,:,:], axis=0)\n",
    "mse_diffs_t09mean = numpy.nanmean(mse_diffs_lat_mean[:,:,:][times_day1_09,:,:], axis=0)\n",
    "mse_diffs_t12mean = numpy.nanmean(mse_diffs_lat_mean[:,:,:][times_day1_12,:,:], axis=0)\n",
    "mse_diffs_t15mean = numpy.nanmean(mse_diffs_lat_mean[:,:,:][times_day1_15,:,:], axis=0)\n",
    "mse_diffs_t18mean = numpy.nanmean(mse_diffs_lat_mean[:,:,:][times_day1_18,:,:], axis=0)\n",
    "mse_diffs_t21mean = numpy.nanmean(mse_diffs_lat_mean[:,:,:][times_day1_21,:,:], axis=0)\n",
    "\n",
    "mse_diffs_array_day1 = numpy.array([mse_diffs_t00mean, mse_diffs_t03mean, mse_diffs_t06mean, mse_diffs_t09mean, mse_diffs_t12mean, mse_diffs_t15mean, mse_diffs_t18mean, mse_diffs_t21mean])\n",
    "\n",
    "# monthly mean\n",
    "#mse_diffs_time_mean = numpy.mean(mse_1000[skip_time:,:,:] - mse_diffs[skip_time:,:,:], axis=0)\n",
    "#mse_diffs_time_mean_landmask = numpy.copy(mse_diffs_time_mean)\n",
    "#mse_diffs_time_mean_landmask[landmask==0] = numpy.nan"
   ]
  },
  {
   "cell_type": "code",
   "execution_count": null,
   "metadata": {},
   "outputs": [],
   "source": [
    "# calculate 3 hourly means for 400\n",
    "qvapor_diffs_t00mean = numpy.nanmean(qvapor_diffs_lat_mean[:,:,:][times_day1_00,:,:], axis=0)\n",
    "qvapor_diffs_t03mean = numpy.nanmean(qvapor_diffs_lat_mean[:,:,:][times_day1_03,:,:], axis=0)\n",
    "qvapor_diffs_t06mean = numpy.nanmean(qvapor_diffs_lat_mean[:,:,:][times_day1_06,:,:], axis=0)\n",
    "qvapor_diffs_t09mean = numpy.nanmean(qvapor_diffs_lat_mean[:,:,:][times_day1_09,:,:], axis=0)\n",
    "qvapor_diffs_t12mean = numpy.nanmean(qvapor_diffs_lat_mean[:,:,:][times_day1_12,:,:], axis=0)\n",
    "qvapor_diffs_t15mean = numpy.nanmean(qvapor_diffs_lat_mean[:,:,:][times_day1_15,:,:], axis=0)\n",
    "qvapor_diffs_t18mean = numpy.nanmean(qvapor_diffs_lat_mean[:,:,:][times_day1_18,:,:], axis=0)\n",
    "qvapor_diffs_t21mean = numpy.nanmean(qvapor_diffs_lat_mean[:,:,:][times_day1_21,:,:], axis=0)\n",
    "\n",
    "qvapor_diffs_array_day1 = numpy.array([qvapor_diffs_t00mean, qvapor_diffs_t03mean, qvapor_diffs_t06mean, qvapor_diffs_t09mean, qvapor_diffs_t12mean, qvapor_diffs_t15mean, qvapor_diffs_t18mean, qvapor_diffs_t21mean])\n",
    "\n",
    "# monthly mean\n",
    "#qvapor_diffs_time_mean = numpy.mean(qvapor_1000[skip_time:,:,:] - qvapor_diffs[skip_time:,:,:], axis=0)\n",
    "#qvapor_diffs_time_mean_landmask = numpy.copy(qvapor_diffs_time_mean)\n",
    "#qvapor_diffs_time_mean_landmask[landmask==0] = numpy.nan"
   ]
  },
  {
   "cell_type": "code",
   "execution_count": null,
   "metadata": {},
   "outputs": [],
   "source": [
    "# calculate 3 hourly means for 400\n",
    "qvapor_400_t00mean = numpy.nanmean(qvapor_400_lat_mean[:,:,:][times_day1_00,:,:], axis=0)\n",
    "qvapor_400_t03mean = numpy.nanmean(qvapor_400_lat_mean[:,:,:][times_day1_03,:,:], axis=0)\n",
    "qvapor_400_t06mean = numpy.nanmean(qvapor_400_lat_mean[:,:,:][times_day1_06,:,:], axis=0)\n",
    "qvapor_400_t09mean = numpy.nanmean(qvapor_400_lat_mean[:,:,:][times_day1_09,:,:], axis=0)\n",
    "qvapor_400_t12mean = numpy.nanmean(qvapor_400_lat_mean[:,:,:][times_day1_12,:,:], axis=0)\n",
    "qvapor_400_t15mean = numpy.nanmean(qvapor_400_lat_mean[:,:,:][times_day1_15,:,:], axis=0)\n",
    "qvapor_400_t18mean = numpy.nanmean(qvapor_400_lat_mean[:,:,:][times_day1_18,:,:], axis=0)\n",
    "qvapor_400_t21mean = numpy.nanmean(qvapor_400_lat_mean[:,:,:][times_day1_21,:,:], axis=0)\n",
    "\n",
    "qvapor_400_array_day1 = numpy.array([qvapor_400_t00mean, qvapor_400_t03mean, qvapor_400_t06mean, qvapor_400_t09mean, qvapor_400_t12mean, qvapor_400_t15mean, qvapor_400_t18mean, qvapor_400_t21mean])\n",
    "\n",
    "# monthly mean\n",
    "#qvapor_400_time_mean = numpy.mean(qvapor_1000[skip_time:,:,:] - qvapor_400[skip_time:,:,:], axis=0)\n",
    "#qvapor_400_time_mean_landmask = numpy.copy(qvapor_400_time_mean)\n",
    "#qvapor_400_time_mean_landmask[landmask==0] = numpy.nan"
   ]
  },
  {
   "cell_type": "code",
   "execution_count": null,
   "metadata": {},
   "outputs": [],
   "source": [
    "# calculate 3 hourly means for 400\n",
    "tk_diffs_t00mean = numpy.nanmean(tk_diffs_lat_mean[:,:,:][times_day1_00,:,:], axis=0)\n",
    "tk_diffs_t03mean = numpy.nanmean(tk_diffs_lat_mean[:,:,:][times_day1_03,:,:], axis=0)\n",
    "tk_diffs_t06mean = numpy.nanmean(tk_diffs_lat_mean[:,:,:][times_day1_06,:,:], axis=0)\n",
    "tk_diffs_t09mean = numpy.nanmean(tk_diffs_lat_mean[:,:,:][times_day1_09,:,:], axis=0)\n",
    "tk_diffs_t12mean = numpy.nanmean(tk_diffs_lat_mean[:,:,:][times_day1_12,:,:], axis=0)\n",
    "tk_diffs_t15mean = numpy.nanmean(tk_diffs_lat_mean[:,:,:][times_day1_15,:,:], axis=0)\n",
    "tk_diffs_t18mean = numpy.nanmean(tk_diffs_lat_mean[:,:,:][times_day1_18,:,:], axis=0)\n",
    "tk_diffs_t21mean = numpy.nanmean(tk_diffs_lat_mean[:,:,:][times_day1_21,:,:], axis=0)\n",
    "\n",
    "tk_diffs_array_day1 = numpy.array([tk_diffs_t00mean, tk_diffs_t03mean, tk_diffs_t06mean, tk_diffs_t09mean, tk_diffs_t12mean, tk_diffs_t15mean, tk_diffs_t18mean, tk_diffs_t21mean])\n",
    "\n",
    "# monthly mean\n",
    "#tk_diffs_time_mean = numpy.mean(tk_1000[skip_time:,:,:] - tk_diffs[skip_time:,:,:], axis=0)\n",
    "#tk_diffs_time_mean_landmask = numpy.copy(tk_diffs_time_mean)\n",
    "#tk_diffs_time_mean_landmask[landmask==0] = numpy.nan"
   ]
  },
  {
   "cell_type": "code",
   "execution_count": null,
   "metadata": {},
   "outputs": [],
   "source": [
    "# calculate 3 hourly means for 400\n",
    "pblh_400_t00mean = numpy.mean(pblh_400_lat_mean[:][times_day1_00,:], axis=0)\n",
    "pblh_400_t03mean = numpy.mean(pblh_400_lat_mean[:][times_day1_03,:], axis=0)\n",
    "pblh_400_t06mean = numpy.mean(pblh_400_lat_mean[:][times_day1_06,:], axis=0)\n",
    "pblh_400_t09mean = numpy.mean(pblh_400_lat_mean[:][times_day1_09,:], axis=0)\n",
    "pblh_400_t12mean = numpy.mean(pblh_400_lat_mean[:][times_day1_12,:], axis=0)\n",
    "pblh_400_t15mean = numpy.mean(pblh_400_lat_mean[:][times_day1_15,:], axis=0)\n",
    "pblh_400_t18mean = numpy.mean(pblh_400_lat_mean[:][times_day1_18,:], axis=0)\n",
    "pblh_400_t21mean = numpy.mean(pblh_400_lat_mean[:][times_day1_21,:], axis=0)\n",
    "\n",
    "pblh_1000_t00mean = numpy.mean(pblh_1000_lat_mean[:][times_day1_00,:], axis=0)\n",
    "pblh_1000_t03mean = numpy.mean(pblh_1000_lat_mean[:][times_day1_03,:], axis=0)\n",
    "pblh_1000_t06mean = numpy.mean(pblh_1000_lat_mean[:][times_day1_06,:], axis=0)\n",
    "pblh_1000_t09mean = numpy.mean(pblh_1000_lat_mean[:][times_day1_09,:], axis=0)\n",
    "pblh_1000_t12mean = numpy.mean(pblh_1000_lat_mean[:][times_day1_12,:], axis=0)\n",
    "pblh_1000_t15mean = numpy.mean(pblh_1000_lat_mean[:][times_day1_15,:], axis=0)\n",
    "pblh_1000_t18mean = numpy.mean(pblh_1000_lat_mean[:][times_day1_18,:], axis=0)\n",
    "pblh_1000_t21mean = numpy.mean(pblh_1000_lat_mean[:][times_day1_21,:], axis=0)\n",
    "\n",
    "pblh_400_array_day1 = numpy.array([pblh_400_t00mean, pblh_400_t03mean, pblh_400_t06mean, pblh_400_t09mean, pblh_400_t12mean, pblh_400_t15mean, pblh_400_t18mean, pblh_400_t21mean])\n",
    "pblh_1000_array_day1 = numpy.array([pblh_1000_t00mean, pblh_1000_t03mean, pblh_1000_t06mean, pblh_1000_t09mean, pblh_1000_t12mean, pblh_1000_t15mean, pblh_1000_t18mean, pblh_1000_t21mean])\n",
    "\n",
    "# monthly mean\n",
    "#pblh_diffs_time_mean = numpy.mean(pblh_1000[skip_time:,:,:] - pblh_400[skip_time:,:,:], axis=0)\n",
    "#pblh_diffs_time_mean_landmask = numpy.copy(pblh_diffs_time_mean)\n",
    "#pblh_diffs_time_mean_landmask[landmask==0] = numpy.nan"
   ]
  },
  {
   "cell_type": "code",
   "execution_count": null,
   "metadata": {},
   "outputs": [],
   "source": [
    "mse_400_lat_mean.shape"
   ]
  },
  {
   "cell_type": "code",
   "execution_count": null,
   "metadata": {},
   "outputs": [],
   "source": [
    "# calculate 3 hourly means for 400\n",
    "mse_400_t00mean = numpy.mean(mse_400_lat_mean[:][times_day1_00,:,:], axis=0)\n",
    "mse_400_t03mean = numpy.mean(mse_400_lat_mean[:][times_day1_03,:,:], axis=0)\n",
    "mse_400_t06mean = numpy.mean(mse_400_lat_mean[:][times_day1_06,:,:], axis=0)\n",
    "mse_400_t09mean = numpy.mean(mse_400_lat_mean[:][times_day1_09,:,:], axis=0)\n",
    "mse_400_t12mean = numpy.mean(mse_400_lat_mean[:][times_day1_12,:,:], axis=0)\n",
    "mse_400_t15mean = numpy.mean(mse_400_lat_mean[:][times_day1_15,:,:], axis=0)\n",
    "mse_400_t18mean = numpy.mean(mse_400_lat_mean[:][times_day1_18,:,:], axis=0)\n",
    "mse_400_t21mean = numpy.mean(mse_400_lat_mean[:][times_day1_21,:,:], axis=0)\n",
    "\n",
    "mse_400_array_day1 = numpy.array([mse_400_t00mean, mse_400_t03mean, mse_400_t06mean, mse_400_t09mean, mse_400_t12mean, mse_400_t15mean, mse_400_t18mean, mse_400_t21mean])\n",
    "\n",
    "# monthly mean\n",
    "#mse_diffs_time_mean = numpy.mean(mse_1000[skip_time:,:,:] - mse_400[skip_time:,:,:], axis=0)\n",
    "#mse_diffs_time_mean_landmask = numpy.copy(mse_diffs_time_mean)\n",
    "#mse_diffs_time_mean_landmask[landmask==0] = numpy.nan"
   ]
  },
  {
   "cell_type": "code",
   "execution_count": null,
   "metadata": {},
   "outputs": [],
   "source": [
    "fontsize=12\n",
    "\n",
    "fig = mp.figure(figsize=(6.5,6))\n",
    "\n",
    "y_zero = numpy.zeros(xlong.shape[1])\n",
    "levels = numpy.arange(-1.25,1.26,0.25)\n",
    "levels_qvapor = numpy.arange(-0.5,0.6,0.25)\n",
    "colors_qvapor = ['coral']*2+['0.1']+['paleturquoise']*2\n",
    "linestyles_qvapor = ['-']*2+[':']+['-']*2\n",
    "\n",
    "xticks_deg_E=numpy.array((280,300,320))\n",
    "xticks = -(360-xticks_deg_E)\n",
    "xticks_format=[str(tick)+DEGREE_SIGN+'E' for tick in xticks_deg_E]\n",
    "\n",
    "nrows=4;ncols=2\n",
    "ax_list = []\n",
    "\n",
    "contour_lines_list = []\n",
    "\n",
    "for t in range(8):\n",
    "    ax = fig.add_subplot(nrows,ncols,t+1)#, projection=cartopy.crs.PlateCarree())\n",
    "    \n",
    "    contour_plot = ax.contourf(xlong[0,:]+360.,z,\\\n",
    "                               mse_diffs_array_day1[t]/1000.,\\\n",
    "                               levels=levels,\\\n",
    "                               cmap='PuOr_r',extend='both')\n",
    "    ax.plot(xlong[0,:]+360.,pblh_400_array_day1[t]/1000.,c='dodgerblue', label='control ABLH', lw=2)\n",
    "    ax.plot(xlong[0,:]+360.,pblh_1000_array_day1[t]/1000.,c='darkturquoise',ls='--', label='high CO$_2$ ABLH', lw=2)\n",
    " \n",
    "    if t in [6,7]:\n",
    "        contour_lines = ax.contour(xlong[0,:]+360.,z,\\\n",
    "                                   qvapor_diffs_array_day1[t]*1000.,\\\n",
    "                                   levels=levels_qvapor,\\\n",
    "                                   linewidths=1,\\\n",
    "                                   colors=colors_qvapor,\\\n",
    "                                   linestyles=linestyles_qvapor, extend='both')\n",
    "        contour_lines_list.append(contour_lines)\n",
    "\n",
    "    else:\n",
    "        for line in range(levels_qvapor.__len__()):        \n",
    "            ax.contour(xlong[0,:]+360.,z,\\\n",
    "                                       qvapor_diffs_array_day1[t]*1000.,\\\n",
    "                                       levels=levels_qvapor[line],\\\n",
    "                                       linewidths=1,\\\n",
    "                                       colors=colors_qvapor[line],\\\n",
    "                                       linestyles=linestyles_qvapor[line], extend='both')\n",
    "    \n",
    "    ax.tick_params(labelsize=fontsize)\n",
    "    ax.set_ylim(0,3)\n",
    "    ax.set_xlim(xlong.min()+55.+360.,xlong.max()+360.)\n",
    "    \n",
    "    ax.fill_between(xlong[0,:]+360., y_zero, HGT_M_lat_subset_mean/1000., facecolor='0.1', interpolate=True, zorder=2)\n",
    "    \n",
    "    ax.set_yticks([0,1,2,3])\n",
    "    ax.set_xticks([280,300,320])\n",
    "    ax.set_xticklabels(xticks_format)\n",
    "    ax.set_ylabel('km', fontsize=fontsize)\n",
    "    \n",
    "    ax.text(s='('+string.ascii_lowercase[t]+') hour '+hour_strings[t], x=0, y=1.02,\\\n",
    "            transform=ax.transAxes,fontsize=fontsize,ha='left',va='bottom')\n",
    "    \n",
    "    ax_list.append(ax)\n",
    "\n",
    "fig.tight_layout()\n",
    "\n",
    "ax_height = top_pos.y1-bottom_pos.y0\n",
    "\n",
    "top_pos = ax_list[1].get_position()\n",
    "bottom_pos = ax_list[7].get_position()\n",
    "cbar_axes = fig.add_axes([bottom_pos.x1+0.05, bottom_pos.y0, 0.03, ax_height*0.675])\n",
    "cbar = mp.colorbar(contour_plot, orientation='vertical', cax=cbar_axes)\n",
    "cbar_axes.tick_params(labelsize=fontsize)\n",
    "#cbar_axes.text(s='g kg$^{\\,-1}$', x=0.5, y=1.00666, transform=cbar_axes.transAxes, fontsize=fontsize, ha='center', va='bottom')\n",
    "cbar.set_label('$\\Delta$ moist static energy (kJ kg$^{\\,-1}$)', fontsize=fontsize)\n",
    "#cbar.set_ticks(numpy.arange(-0.8,0.81,0.2))\n",
    "\n",
    "cbar_lines_ax = fig.add_axes([bottom_pos.x1+0.05, bottom_pos.y0+ax_height*0.725, 0.03, ax_height*0.275])\n",
    "cbar_lines = fig.colorbar(contour_lines_list[0], cax=cbar_lines_ax)\n",
    "cbar_lines_ax.tick_params(labelsize=fontsize)#, length=0)\n",
    "cbar_lines.set_label('$\\Delta$ spec. hum. (g kg$^{\\,-1}$)', fontsize=fontsize)\n",
    "cbar_lines.outline.set_visible(False)\n",
    "cbar_lines_ax.tick_params(axis='y', which='both', right='off')\n",
    "cbar_lines_ax.get_children()[0].set_linewidths(2)\n",
    "cbar_lines_ax.get_children()[0].set_linestyles(['-','-',':','-','-'])\n",
    "cbar_lines_ax.get_children()[1].set_facecolor('None')\n",
    "cbar_lines_ax.get_children()[2].set_facecolor('None')\n",
    "cbar_lines_ax.set_yticklabels(['$-0.5$','$-0.25$','0','0.25','0.5'])\n",
    "\n",
    "# handles, labels = ax_list[0].get_legend_handles_labels()\n",
    "# legend = ax_list[0].legend(handles, labels, fontsize=fontsize, ncol=1, bbox_to_anchor=(1,0.99), \\\n",
    "#                    edgecolor='None', facecolor='1', fancybox=False, bbox_transform=ax_list[0].transAxes, \\\n",
    "#                    loc='upper right', labelspacing=0, framealpha=0.666, \\\n",
    "#                    borderaxespad=0, borderpad=0.25, handlelength=1.75, \\\n",
    "#                    handletextpad=0.5)\n",
    "\n",
    "fig.savefig('mse_diffs_cross_sections_day1.png', dpi=600, bbox_inches='tight', transparent=True)"
   ]
  },
  {
   "cell_type": "code",
   "execution_count": null,
   "metadata": {},
   "outputs": [],
   "source": [
    "fontsize=12\n",
    "\n",
    "fig = mp.figure(figsize=(6.5,6))\n",
    "\n",
    "y_zero = numpy.zeros(xlong.shape[1])\n",
    "levels = numpy.arange(-1,1.1,0.2)\n",
    "levels_qvapor = numpy.arange(-0.5,0.6,0.25)\n",
    "colors_qvapor = ['coral']*2+['0.1']+['paleturquoise']*2\n",
    "linestyles_qvapor = ['-']*2+[':']+['-']*2\n",
    "\n",
    "xticks_deg_E=numpy.array((280,300,320))\n",
    "xticks = -(360-xticks_deg_E)\n",
    "xticks_format=[str(tick)+DEGREE_SIGN+'E' for tick in xticks_deg_E]\n",
    "\n",
    "nrows=4;ncols=2\n",
    "ax_list = []\n",
    "\n",
    "contour_lines_list = []\n",
    "\n",
    "for t in range(8):\n",
    "    ax = fig.add_subplot(nrows,ncols,t+1)#, projection=cartopy.crs.PlateCarree())\n",
    "    \n",
    "    contour_plot = ax.contourf(xlong[0,:]+360.,z,\\\n",
    "                               tk_diffs_array_day1[t],\\\n",
    "                               levels=levels,\\\n",
    "                               cmap='RdGy_r',extend='both')\n",
    "    ax.plot(xlong[0,:]+360.,pblh_400_array_day1[t]/1000.,c='dodgerblue', label='control ABLH', lw=2)\n",
    "    ax.plot(xlong[0,:]+360.,pblh_1000_array_day1[t]/1000.,c='darkturquoise',ls='--', label='high CO$_2$ ABLH', lw=2)\n",
    " \n",
    "    if t in [6,7]:\n",
    "        contour_lines = ax.contour(xlong[0,:]+360.,z,\\\n",
    "                                   qvapor_diffs_array_day1[t]*1000.,\\\n",
    "                                   levels=levels_qvapor,\\\n",
    "                                   linewidths=1,\\\n",
    "                                   colors=colors_qvapor,\\\n",
    "                                   linestyles=linestyles_qvapor, extend='both')\n",
    "        contour_lines_list.append(contour_lines)\n",
    "\n",
    "    else:\n",
    "        for line in range(levels_qvapor.__len__()):        \n",
    "            ax.contour(xlong[0,:]+360.,z,\\\n",
    "                                       qvapor_diffs_array_day1[t]*1000.,\\\n",
    "                                       levels=levels_qvapor[line],\\\n",
    "                                       linewidths=1,\\\n",
    "                                       colors=colors_qvapor[line],\\\n",
    "                                       linestyles=linestyles_qvapor[line], extend='both')\n",
    "    \n",
    "    ax.tick_params(labelsize=fontsize)\n",
    "    ax.set_ylim(0,3)\n",
    "    ax.set_xlim(xlong.min()+55.+360.,xlong.max()+360.)\n",
    "    \n",
    "    ax.fill_between(xlong[0,:]+360., y_zero, HGT_M_lat_subset_mean/1000., facecolor='0.1', interpolate=True, zorder=2)\n",
    "    \n",
    "    ax.set_yticks([0,1,2,3])\n",
    "    ax.set_xticks([280,300,320])\n",
    "    ax.set_xticklabels(xticks_format)\n",
    "    ax.set_ylabel('km', fontsize=fontsize)\n",
    "    \n",
    "    ax.text(s='('+string.ascii_lowercase[t]+') hour '+hour_strings[t], x=0, y=1.02,\\\n",
    "            transform=ax.transAxes,fontsize=fontsize,ha='left',va='bottom')\n",
    "    \n",
    "    ax_list.append(ax)\n",
    "\n",
    "fig.tight_layout()\n",
    "\n",
    "ax_height = top_pos.y1-bottom_pos.y0\n",
    "\n",
    "top_pos = ax_list[1].get_position()\n",
    "bottom_pos = ax_list[7].get_position()\n",
    "cbar_axes = fig.add_axes([bottom_pos.x1+0.05, bottom_pos.y0, 0.03, ax_height*0.675])\n",
    "cbar = mp.colorbar(contour_plot, orientation='vertical', cax=cbar_axes)\n",
    "cbar_axes.tick_params(labelsize=fontsize)\n",
    "#cbar_axes.text(s='g kg$^{\\,-1}$', x=0.5, y=1.00666, transform=cbar_axes.transAxes, fontsize=fontsize, ha='center', va='bottom')\n",
    "cbar.set_label('$\\Delta$ temperature ('+DEGREE_SIGN+'C)', fontsize=fontsize)\n",
    "cbar.set_ticks(numpy.arange(-1,1.1,0.2))\n",
    "\n",
    "cbar_lines_ax = fig.add_axes([bottom_pos.x1+0.05, bottom_pos.y0+ax_height*0.725, 0.03, ax_height*0.275])\n",
    "cbar_lines = fig.colorbar(contour_lines_list[0], cax=cbar_lines_ax)\n",
    "cbar_lines_ax.tick_params(labelsize=fontsize)#, length=0)\n",
    "cbar_lines.set_label('$\\Delta$ spec. hum. (g kg$^{\\,-1}$)', fontsize=fontsize)\n",
    "cbar_lines.outline.set_visible(False)\n",
    "cbar_lines_ax.tick_params(axis='y', which='both', right='off')\n",
    "cbar_lines_ax.get_children()[0].set_linewidths(2)\n",
    "cbar_lines_ax.get_children()[0].set_linestyles(['-','-',':','-','-'])\n",
    "cbar_lines_ax.get_children()[1].set_facecolor('None')\n",
    "cbar_lines_ax.get_children()[2].set_facecolor('None')\n",
    "cbar_lines_ax.set_yticklabels(['$-0.5$','$-0.25$','0','0.25','0.5'])\n",
    "\n",
    "handles, labels = ax_list[0].get_legend_handles_labels()\n",
    "legend = ax_list[0].legend(handles, labels, fontsize=fontsize, ncol=1, bbox_to_anchor=(1,0.99), \\\n",
    "                   edgecolor='None', facecolor='1', fancybox=False, bbox_transform=ax_list[0].transAxes, \\\n",
    "                   loc='upper right', labelspacing=0, framealpha=0.666, \\\n",
    "                   borderaxespad=0, borderpad=0.25, handlelength=1.75, \\\n",
    "                   handletextpad=0.5)\n",
    "\n",
    "fig.savefig('temp_diffs_cross_sections_day1.png', dpi=600, bbox_inches='tight', transparent=True)"
   ]
  },
  {
   "cell_type": "code",
   "execution_count": null,
   "metadata": {},
   "outputs": [],
   "source": [
    "fontsize=12\n",
    "\n",
    "#nrows=4;ncols=2\n",
    "#fig,axes = mp.subplots(nrows=nrows,ncols=ncols,subplot_kw={'projection': cartopy.crs.PlateCarree()})\n",
    "#fig.set_size_inches(3.25,4)\n",
    "\n",
    "fig = mp.figure(figsize=(6.5,6))\n",
    "\n",
    "y_zero = numpy.zeros(xlong.shape[1])\n",
    "levels = numpy.arange(325,346,2.5)\n",
    "levels_qvapor = numpy.arange(7.5,17.6,2.5)\n",
    "\n",
    "xticks_deg_E=numpy.array((280,300,320))\n",
    "xticks = -(360-xticks_deg_E)\n",
    "xticks_format=[str(tick)+DEGREE_SIGN+'E' for tick in xticks_deg_E]\n",
    "\n",
    "nrows=4;ncols=2\n",
    "ax_list = []\n",
    "\n",
    "for t in range(8):\n",
    "    ax = fig.add_subplot(nrows,ncols,t+1)#, projection=cartopy.crs.PlateCarree())\n",
    "    \n",
    "    contour_plot = ax.contourf(xlong[0,:]+360.,z,mse_400_array_day1[t]/1000.,\\\n",
    "                               levels=levels,\\\n",
    "                               cmap='Reds',extend='max')\n",
    "    #ax.plot(xlong[0,:]+360.,pblh_1000_array[t]/1000.,c='red',ls='--', label='ABLH high CO$_2$')\n",
    "    \n",
    "    contour_lines = ax.contour(xlong[0,:]+360.,z,qvapor_400_array_day1[t]*1000.,\\\n",
    "                               levels=levels_qvapor,\\\n",
    "                               cmap=cmap_partial, extend='both')\n",
    "\n",
    "    ax.plot(xlong[0,:]+360.,pblh_400_array_day1[t]/1000.,c='dodgerblue', label='control ABLH', lw=2)\n",
    "    \n",
    "    ax.tick_params(labelsize=fontsize)\n",
    "    ax.set_ylim(0,3)\n",
    "    ax.set_xlim(xlong.min()+55.+360.,xlong.max()+360.)\n",
    "    \n",
    "    ax.fill_between(xlong[0,:]+360., y_zero, HGT_M_lat_subset_mean/1000., facecolor='0.1', interpolate=True,zorder=2)\n",
    "    \n",
    "    ax.set_yticks([0,1,2,3])\n",
    "    ax.set_xticks([280,300,320])\n",
    "    ax.set_xticklabels(xticks_format)\n",
    "    ax.set_ylabel('km', fontsize=fontsize)\n",
    "    \n",
    "    ax.text(s='('+string.ascii_lowercase[t]+') hour '+hour_strings[t], x=0, y=1.02,\\\n",
    "            transform=ax.transAxes,fontsize=fontsize,ha='left',va='bottom')\n",
    "    \n",
    "    ax_list.append(ax)\n",
    "\n",
    "fig.tight_layout()\n",
    "\n",
    "top_pos = ax_list[1].get_position()\n",
    "bottom_pos = ax_list[7].get_position()\n",
    "\n",
    "ax_height = top_pos.y1-bottom_pos.y0\n",
    "\n",
    "cbar_axes = fig.add_axes([bottom_pos.x1+0.05, bottom_pos.y0, 0.03, ax_height*0.675])\n",
    "cbar = mp.colorbar(contour_plot, orientation='vertical', cax=cbar_axes)\n",
    "cbar_axes.tick_params(labelsize=fontsize)\n",
    "#cbar_axes.text(s='g kg$^{\\,-1}$', x=0.5, y=1.00666, transform=cbar_axes.transAxes, fontsize=fontsize, ha='center', va='bottom')\n",
    "cbar.set_label('moist static energy (kJ kg$^{\\,-1}$)', fontsize=fontsize)\n",
    "cbar.set_ticks(numpy.arange(325,346,5))\n",
    "\n",
    "cbar_lines_ax = fig.add_axes([bottom_pos.x1+0.05, bottom_pos.y0+ax_height*0.725, 0.03, ax_height*0.275])\n",
    "cbar_lines = fig.colorbar(contour_lines, cax=cbar_lines_ax)\n",
    "cbar_lines_ax.tick_params(labelsize=fontsize)#, length=0)\n",
    "cbar_lines.set_label('spec. hum. (g kg$^{\\,-1}$)', fontsize=fontsize)\n",
    "#cbar_lines_ax.get_children().set_linewidths([2]*7)\n",
    "#cbar_lines_ax.text(s='water\\nvapor', x=0, y=1.05, ha='left', va='bottom', \\\n",
    "#                  transform=cbar_lines_ax.transAxes, fontsize=fontsize)\n",
    "cbar_lines.outline.set_visible(False)\n",
    "cbar_lines_ax.tick_params(axis='y', which='both', right='off')\n",
    "cbar_lines_ax.get_children()[0].set_linewidths(2)\n",
    "cbar_lines_ax.get_children()[1].set_facecolor('None')\n",
    "cbar_lines_ax.get_children()[2].set_facecolor('None')\n",
    "\n",
    "\n",
    "#cbar_qvapor = mp.colorbar(contour_lines)\n",
    "\n",
    "handles, labels = ax_list[0].get_legend_handles_labels()\n",
    "legend = ax_list[0].legend(handles, labels, fontsize=fontsize, ncol=1, bbox_to_anchor=(1,0.99), \\\n",
    "                   edgecolor='None', facecolor='1', fancybox=False, bbox_transform=ax_list[0].transAxes, \\\n",
    "                   loc='upper right', labelspacing=0, \\\n",
    "                   borderaxespad=0, borderpad=0.25, handlelength=1.75, \\\n",
    "                   handletextpad=0.5, framealpha=0.666)\n",
    "\n",
    "fig.savefig('mse_400_cross_sections_zcoords_day1.png', dpi=600, bbox_inches='tight', transparent=True)"
   ]
  },
  {
   "cell_type": "markdown",
   "metadata": {},
   "source": [
    "# 10th day 3hr means"
   ]
  },
  {
   "cell_type": "code",
   "execution_count": null,
   "metadata": {},
   "outputs": [],
   "source": []
  },
  {
   "cell_type": "code",
   "execution_count": null,
   "metadata": {},
   "outputs": [],
   "source": []
  },
  {
   "cell_type": "code",
   "execution_count": null,
   "metadata": {},
   "outputs": [],
   "source": []
  }
 ],
 "metadata": {
  "kernelspec": {
   "display_name": "Python 3",
   "language": "python",
   "name": "python3"
  },
  "language_info": {
   "codemirror_mode": {
    "name": "ipython",
    "version": 3
   },
   "file_extension": ".py",
   "mimetype": "text/x-python",
   "name": "python",
   "nbconvert_exporter": "python",
   "pygments_lexer": "ipython3",
   "version": "3.6.3"
  }
 },
 "nbformat": 4,
 "nbformat_minor": 2
}
