{
 "cells": [
  {
   "cell_type": "code",
   "execution_count": 1,
   "metadata": {},
   "outputs": [],
   "source": [
    "import numpy\n",
    "import netCDF4\n",
    "import matplotlib\n",
    "import matplotlib.pyplot as mp\n",
    "import datetime\n",
    "import matplotlib.colors\n",
    "\n",
    "import mpl_toolkits\n",
    "import cartopy\n",
    "\n",
    "DEGREE_SIGN = u'\\u00B0'\n",
    "mp.rcParams.update({'mathtext.default': 'regular'})\n",
    "\n",
    "% matplotlib inline"
   ]
  },
  {
   "cell_type": "code",
   "execution_count": 2,
   "metadata": {},
   "outputs": [],
   "source": [
    "run_info = 'FMAASO'"
   ]
  },
  {
   "cell_type": "code",
   "execution_count": 3,
   "metadata": {},
   "outputs": [],
   "source": [
    "xlat_ncfile_name = '/Users/baird/Dropbox/_data_WRF/CHEYENNE/FMAASO/1000/concat_nc_files/wrfout_d01_1979-01-01_00:00:00_XLAT.nc'\n",
    "xlong_ncfile_name = '/Users/baird/Dropbox/_data_WRF/CHEYENNE/FMAASO/1000/concat_nc_files/wrfout_d01_1979-01-01_00:00:00_XLONG.nc'\n",
    "landmask_ncfile_name = '/Users/baird/Dropbox/_data_WRF/CHEYENNE/FMAASO/1000/concat_nc_files/wrfout_d01_1979-01-01_00:00:00_LANDMASK.nc'\n",
    "times_ncfile_name = '/Users/baird/Dropbox/_data_WRF/CHEYENNE/FMAASO/1000/concat_nc_files/wrfout_d01_1979-01-01_00:00:00_1979-01-11_00:00:00_Times_ens_mean.nc'"
   ]
  },
  {
   "cell_type": "markdown",
   "metadata": {},
   "source": [
    "# 400 files"
   ]
  },
  {
   "cell_type": "code",
   "execution_count": 7,
   "metadata": {},
   "outputs": [],
   "source": [
    "data_dir = '/Users/baird/Dropbox/_data_WRF/CHEYENNE/FMAASO/400/concat_nc_files/'\n",
    "filename_prefix = 'wrfout_d01_1979-01-01_00:00:00_1979-01-11_00:00:00_'\n",
    "filename_suffix = '_ens_mean.nc'\n",
    "\n",
    "time_ncfile = netCDF4.Dataset(times_ncfile_name)\n",
    "xlat_ncfile = netCDF4.Dataset(xlat_ncfile_name)\n",
    "xlong_ncfile = netCDF4.Dataset(xlong_ncfile_name)\n",
    "landmask_ncfile = netCDF4.Dataset(landmask_ncfile_name)\n",
    "\n",
    "lh_ncfile = netCDF4.Dataset(data_dir + filename_prefix + 'LH' + filename_suffix)\n",
    "rainc_ncfile = netCDF4.Dataset(data_dir + filename_prefix + 'RAINC' + filename_suffix)\n",
    "rainnc_ncfile = netCDF4.Dataset(data_dir + filename_prefix + 'RAINNC' + filename_suffix)\n",
    "t2_ncfile = netCDF4.Dataset(data_dir + filename_prefix + 'T2' + filename_suffix)\n",
    "qfx_ncfile = netCDF4.Dataset(data_dir + filename_prefix + 'QFX' + filename_suffix)\n",
    "\n",
    "ecan_ncfile = netCDF4.Dataset(data_dir + filename_prefix + 'ECAN' + filename_suffix)\n",
    "edir_ncfile = netCDF4.Dataset(data_dir + filename_prefix + 'EDIR' + filename_suffix)\n",
    "etran_ncfile = netCDF4.Dataset(data_dir + filename_prefix + 'ETRAN' + filename_suffix)"
   ]
  },
  {
   "cell_type": "code",
   "execution_count": null,
   "metadata": {},
   "outputs": [],
   "source": [
    "#qvapor_ncfile = netCDF4.Dataset(data_dir + filename_prefix + 'QVAPOR' + filename_suffix)\n",
    "v_ncfile = netCDF4.Dataset(data_dir + filename_prefix + 'V' + filename_suffix)\n",
    "u_ncfile = netCDF4.Dataset(data_dir + filename_prefix + 'U' + filename_suffix)\n",
    "w_ncfile = netCDF4.Dataset(data_dir + filename_prefix + 'W' + filename_suffix)\n",
    "plev = qvapor_ncfile.variables['plev'][:]"
   ]
  },
  {
   "cell_type": "code",
   "execution_count": 8,
   "metadata": {},
   "outputs": [],
   "source": [
    "time_var = time_ncfile.variables['Times']\n",
    "time = time_ncfile.variables['Times'][:]\n",
    "xlat = xlat_ncfile.variables['XLAT'][0,:,:]\n",
    "xlong = xlong_ncfile.variables['XLONG'][0,:,:]\n",
    "landmask = landmask_ncfile.variables['LANDMASK'][0,:,:]\n",
    "\n",
    "# lh_400 = lh_ncfile.variables['LH'][:]\n",
    "# rainc_400 = rainc_ncfile.variables['RAINC'][:]\n",
    "# rainnc_400 = rainnc_ncfile.variables['RAINNC'][:]\n",
    "# qfx_400 = qfx_ncfile.variables['QFX'][:]*86400.\n",
    "# t2_400 = t2_ncfile.variables['T2'][:]\n",
    "\n",
    "# ecan_400 = ecan_ncfile.variables['ECAN'][:]*86400.\n",
    "# edir_400 = edir_ncfile.variables['EDIR'][:]*86400.\n",
    "# etran_400 = etran_ncfile.variables['ETRAN'][:]*86400.\n",
    "\n",
    "u_400 = u_ncfile.variables['U'][0,:,:,:]\n",
    "v_400 = v_ncfile.variables['V'][0,:,:,:]\n",
    "w_400 = w_ncfile.variables['W'][0,:,:,:]\n",
    "qvapor_400 = qvapor_ncfile.variables['QVAPOR'][0,:,:,:]"
   ]
  },
  {
   "cell_type": "markdown",
   "metadata": {},
   "source": [
    "# 1000 files"
   ]
  },
  {
   "cell_type": "code",
   "execution_count": null,
   "metadata": {},
   "outputs": [],
   "source": [
    "data_dir = '/Users/baird/Dropbox/_data_WRF/CHEYENNE/FMAASO/1000/concat_nc_files/'\n",
    "filename_prefix = 'wrfout_d01_1979-01-01_00:00:00_1979-01-11_00:00:00_'\n",
    "filename_suffix = '_ens_mean.nc'\n",
    "\n",
    "time_ncfile = netCDF4.Dataset(times_ncfile_name)\n",
    "xlat_ncfile = netCDF4.Dataset(xlat_ncfile_name)\n",
    "xlong_ncfile = netCDF4.Dataset(xlong_ncfile_name)\n",
    "landmask_ncfile = netCDF4.Dataset(landmask_ncfile_name)\n",
    "\n",
    "lh_ncfile = netCDF4.Dataset(data_dir + filename_prefix + 'LH' + filename_suffix)\n",
    "rainc_ncfile = netCDF4.Dataset(data_dir + filename_prefix + 'RAINC' + filename_suffix)\n",
    "rainnc_ncfile = netCDF4.Dataset(data_dir + filename_prefix + 'RAINNC' + filename_suffix)\n",
    "t2_ncfile = netCDF4.Dataset(data_dir + filename_prefix + 'T2' + filename_suffix)\n",
    "qfx_ncfile = netCDF4.Dataset(data_dir + filename_prefix + 'QFX' + filename_suffix)\n",
    "\n",
    "ecan_ncfile = netCDF4.Dataset(data_dir + filename_prefix + 'ECAN' + filename_suffix)\n",
    "edir_ncfile = netCDF4.Dataset(data_dir + filename_prefix + 'EDIR' + filename_suffix)\n",
    "etran_ncfile = netCDF4.Dataset(data_dir + filename_prefix + 'ETRAN' + filename_suffix)"
   ]
  },
  {
   "cell_type": "code",
   "execution_count": null,
   "metadata": {},
   "outputs": [],
   "source": [
    "#qvapor_ncfile = netCDF4.Dataset(data_dir + filename_prefix + 'QVAPOR' + filename_suffix)\n",
    "v_ncfile = netCDF4.Dataset(data_dir + filename_prefix + 'V' + filename_suffix)\n",
    "u_ncfile = netCDF4.Dataset(data_dir + filename_prefix + 'U' + filename_suffix)\n",
    "w_ncfile = netCDF4.Dataset(data_dir + filename_prefix + 'W' + filename_suffix)\n",
    "plev = qvapor_ncfile.variables['plev'][:]"
   ]
  },
  {
   "cell_type": "code",
   "execution_count": null,
   "metadata": {},
   "outputs": [],
   "source": [
    "time_var_1000 = time_ncfile.variables['Times']\n",
    "time_1000 = time_ncfile.variables['Times'][:]\n",
    "xlat = xlat_ncfile.variables['XLAT'][0,:,:]\n",
    "xlong = xlong_ncfile.variables['XLONG'][0,:,:]\n",
    "landmask = landmask_ncfile.variables['LANDMASK'][0,:,:]\n",
    "\n",
    "# lh_1000 = lh_ncfile.variables['LH'][:]\n",
    "# rainc_1000 = rainc_ncfile.variables['RAINC'][:]\n",
    "# rainnc_1000 = rainnc_ncfile.variables['RAINNC'][:]\n",
    "# qfx_1000 = qfx_ncfile.variables['QFX'][:]*86400.\n",
    "# t2_1000 = t2_ncfile.variables['T2'][:]\n",
    "\n",
    "# ecan_1000 = ecan_ncfile.variables['ECAN'][:]*86400.\n",
    "# edir_1000 = edir_ncfile.variables['EDIR'][:]*86400.\n",
    "# etran_1000 = etran_ncfile.variables['ETRAN'][:]*86400.\n",
    "\n",
    "u_1000 = u_ncfile.variables['U'][0,:,:,:]\n",
    "v_1000 = v_ncfile.variables['V'][0,:,:,:]\n",
    "w_1000 = w_ncfile.variables['W'][0,:,:,:]\n",
    "qvapor_1000 = qvapor_ncfile.variables['QVAPOR'][0,:,:,:]"
   ]
  },
  {
   "cell_type": "code",
   "execution_count": 13,
   "metadata": {},
   "outputs": [
    {
     "ename": "FileNotFoundError",
     "evalue": "[Errno 2] No such file or directory: b'/beegfs/DATA/pritchard/blangenb/WRF_ARCHIVE/030.co2_400.idealized.50km.noahmp.1hr.stoch.ensemble/001/XLAT/wrfout_d01_2010-01-01_00:00:00_XLAT.nc'",
     "output_type": "error",
     "traceback": [
      "\u001b[0;31m---------------------------------------------------------------------------\u001b[0m",
      "\u001b[0;31mFileNotFoundError\u001b[0m                         Traceback (most recent call last)",
      "\u001b[0;32m<ipython-input-13-d5f8ce4b33f6>\u001b[0m in \u001b[0;36m<module>\u001b[0;34m()\u001b[0m\n\u001b[1;32m     10\u001b[0m \u001b[0;31m# FOR ORIGINAL LAT LON LANDMASK DATA\u001b[0m\u001b[0;34m\u001b[0m\u001b[0;34m\u001b[0m\u001b[0m\n\u001b[1;32m     11\u001b[0m \u001b[0mdata_dir\u001b[0m \u001b[0;34m=\u001b[0m \u001b[0;34m'/beegfs/DATA/pritchard/blangenb/WRF_ARCHIVE/030.co2_400.idealized.50km.noahmp.1hr.stoch.ensemble/001/'\u001b[0m\u001b[0;34m\u001b[0m\u001b[0m\n\u001b[0;32m---> 12\u001b[0;31m \u001b[0mxlat_ncfile\u001b[0m \u001b[0;34m=\u001b[0m \u001b[0mnetCDF4\u001b[0m\u001b[0;34m.\u001b[0m\u001b[0mDataset\u001b[0m\u001b[0;34m(\u001b[0m\u001b[0mdata_dir\u001b[0m \u001b[0;34m+\u001b[0m \u001b[0;34m'XLAT/wrfout_d01_2010-01-01_00:00:00'\u001b[0m \u001b[0;34m+\u001b[0m \u001b[0;34m'_'\u001b[0m \u001b[0;34m+\u001b[0m \u001b[0;34m'XLAT'\u001b[0m \u001b[0;34m+\u001b[0m \u001b[0;34m'.nc'\u001b[0m\u001b[0;34m)\u001b[0m\u001b[0;34m\u001b[0m\u001b[0m\n\u001b[0m\u001b[1;32m     13\u001b[0m \u001b[0mxlong_ncfile\u001b[0m \u001b[0;34m=\u001b[0m \u001b[0mnetCDF4\u001b[0m\u001b[0;34m.\u001b[0m\u001b[0mDataset\u001b[0m\u001b[0;34m(\u001b[0m\u001b[0mdata_dir\u001b[0m \u001b[0;34m+\u001b[0m \u001b[0;34m'XLONG/wrfout_d01_2010-01-01_00:00:00'\u001b[0m \u001b[0;34m+\u001b[0m \u001b[0;34m'_'\u001b[0m \u001b[0;34m+\u001b[0m \u001b[0;34m'XLONG'\u001b[0m \u001b[0;34m+\u001b[0m \u001b[0;34m'.nc'\u001b[0m\u001b[0;34m)\u001b[0m\u001b[0;34m\u001b[0m\u001b[0m\n\u001b[1;32m     14\u001b[0m \u001b[0mlandmask_ncfile\u001b[0m \u001b[0;34m=\u001b[0m \u001b[0mnetCDF4\u001b[0m\u001b[0;34m.\u001b[0m\u001b[0mDataset\u001b[0m\u001b[0;34m(\u001b[0m\u001b[0mdata_dir\u001b[0m \u001b[0;34m+\u001b[0m \u001b[0;34m'LANDMASK/wrfout_d01_2010-01-01_00:00:00'\u001b[0m \u001b[0;34m+\u001b[0m \u001b[0;34m'_'\u001b[0m \u001b[0;34m+\u001b[0m \u001b[0;34m'LANDMASK'\u001b[0m \u001b[0;34m+\u001b[0m \u001b[0;34m'.nc'\u001b[0m\u001b[0;34m)\u001b[0m\u001b[0;34m\u001b[0m\u001b[0m\n",
      "\u001b[0;32mnetCDF4/_netCDF4.pyx\u001b[0m in \u001b[0;36mnetCDF4._netCDF4.Dataset.__init__\u001b[0;34m()\u001b[0m\n",
      "\u001b[0;32mnetCDF4/_netCDF4.pyx\u001b[0m in \u001b[0;36mnetCDF4._netCDF4._ensure_nc_success\u001b[0;34m()\u001b[0m\n",
      "\u001b[0;31mFileNotFoundError\u001b[0m: [Errno 2] No such file or directory: b'/beegfs/DATA/pritchard/blangenb/WRF_ARCHIVE/030.co2_400.idealized.50km.noahmp.1hr.stoch.ensemble/001/XLAT/wrfout_d01_2010-01-01_00:00:00_XLAT.nc'"
     ]
    }
   ],
   "source": [
    "run_info = '50km_idealized_noahmp_ens_mean'\n",
    "\n",
    "def format_lon(lon):\n",
    "    return '%3d' % lon + '\\N{DEGREE SIGN}E' #r'${%3d\\/^{\\circ}\\/E}$'%lon\n",
    "\n",
    "################################################################################\n",
    "################################################################################\n",
    "# IMPORT DATA FOR 030 RUN\n",
    "\n",
    "# FOR ORIGINAL LAT LON LANDMASK DATA\n",
    "data_dir = '/beegfs/DATA/pritchard/blangenb/WRF_ARCHIVE/030.co2_400.idealized.50km.noahmp.1hr.stoch.ensemble/001/'\n",
    "xlat_ncfile = netCDF4.Dataset(data_dir + 'XLAT/wrfout_d01_2010-01-01_00:00:00' + '_' + 'XLAT' + '.nc')\n",
    "xlong_ncfile = netCDF4.Dataset(data_dir + 'XLONG/wrfout_d01_2010-01-01_00:00:00' + '_' + 'XLONG' + '.nc')\n",
    "landmask_ncfile = netCDF4.Dataset(data_dir + 'LANDMASK/wrfout_d01_2010-01-01_00:00:00' + '_' + 'LANDMASK' + '.nc')\n",
    "\n",
    "# FOR 2D DATA\n",
    "data_dir = '/beegfs/DATA/pritchard/blangenb/WRF_ARCHIVE/030.co2_400.idealized.50km.noahmp.1hr.stoch.ensemble/concat_nc_files/2d_fields/'\n",
    "filename_prefix = 'wrfout_d01_ens_mean_001_010'\n",
    "time_ncfile = netCDF4.Dataset(data_dir + 'wrfout_d01_2010-01-01_00:00:00_2010-01-11_00:00:00_Times_001.nc')\n",
    "lh_ncfile = netCDF4.Dataset(data_dir + filename_prefix + '_' + 'LH' + '.nc')\n",
    "rainc_ncfile = netCDF4.Dataset(data_dir + filename_prefix + '_' + 'RAINC' + '.nc')\n",
    "rainnc_ncfile = netCDF4.Dataset(data_dir + filename_prefix + '_' + 'RAINNC' + '.nc')\n",
    "t2_ncfile = netCDF4.Dataset(data_dir + filename_prefix + '_' + 'T2' + '.nc')\n",
    "qfx_ncfile = netCDF4.Dataset(data_dir + filename_prefix + '_' + 'QFX' + '.nc')\n",
    "ecan_ncfile = netCDF4.Dataset(data_dir + filename_prefix + '_' + 'ECAN' + '.nc')\n",
    "edir_ncfile = netCDF4.Dataset(data_dir + filename_prefix + '_' + 'EDIR' + '.nc')\n",
    "etran_ncfile = netCDF4.Dataset(data_dir + filename_prefix + '_' + 'ETRAN' + '.nc')\n",
    "\n",
    "# FOR 3D DATA\n",
    "data_dir = '/beegfs/DATA/pritchard/blangenb/WRF_ARCHIVE/030.co2_400.idealized.50km.noahmp.1hr.stoch.ensemble/concat_nc_files/3d_fields/'\n",
    "filename_prefix = 'wrfout_d01_ens_mean_001_010'\n",
    "qvapor_ncfile = netCDF4.Dataset(data_dir + filename_prefix + '_' + 'QVAPOR' + '.nc')\n",
    "v_ncfile = netCDF4.Dataset(data_dir + filename_prefix + '_' + 'V' + '.nc')\n",
    "u_ncfile = netCDF4.Dataset(data_dir + filename_prefix + '_' + 'U' + '.nc')\n",
    "w_ncfile = netCDF4.Dataset(data_dir + filename_prefix + '_' + 'W' + '.nc')\n",
    "plev = qvapor_ncfile.variables['plev'][:]\n",
    "\n",
    "time_var = time_ncfile.variables['Times']\n",
    "time = time_ncfile.variables['Times'][:]\n",
    "xlat = xlat_ncfile.variables['XLAT'][0,:,:]\n",
    "xlong = xlong_ncfile.variables['XLONG'][0,:,:]\n",
    "landmask = landmask_ncfile.variables['LANDMASK'][0,:,:]\n",
    "\n",
    "\n",
    "# lh_400 = lh_ncfile.variables['LH'][:]\n",
    "# rainc_400 = rainc_ncfile.variables['RAINC'][:]\n",
    "# rainnc_400 = rainnc_ncfile.variables['RAINNC'][:]\n",
    "# qfx_400 = qfx_ncfile.variables['QFX'][:]*86400.\n",
    "# t2_400 = t2_ncfile.variables['T2'][:]\n",
    "# \n",
    "# ecan_400 = ecan_ncfile.variables['ECAN'][:]*86400.\n",
    "# edir_400 = edir_ncfile.variables['EDIR'][:]*86400.\n",
    "# etran_400 = etran_ncfile.variables['ETRAN'][:]*86400.\n",
    "\n",
    "qvapor_400 = qvapor_ncfile.variables['QVAPOR'][:] * 1000. # convert to g/kg not kg/kg\n",
    "u_400 = u_ncfile.variables['U'][:]\n",
    "v_400 = v_ncfile.variables['V'][:]\n",
    "w_400 = w_ncfile.variables['W'][:]\n",
    "\n",
    "rainc_400 = rainc_ncfile.variables['RAINC'][:]\n",
    "rainnc_400 = rainnc_ncfile.variables['RAINNC'][:]\n",
    "raintot_400 = rainc_400+rainnc_400\n",
    "\n",
    "u_400 = u_ncfile.variables['U'][:]\n",
    "w_400 = w_ncfile.variables['W'][:]\n",
    "\n",
    "################################################################################\n",
    "################################################################################\n",
    "# IMPORT DATA FOR 031 RUN\n",
    "\n",
    "# FOR ORIGINAL LAT LON LANDMASK DATA\n",
    "data_dir = '/beegfs/DATA/pritchard/blangenb/WRF_ARCHIVE/031.co2_1000.idealized.50km.noahmp.1hr.stoch.ensemble/001/'\n",
    "xlat_ncfile = netCDF4.Dataset(data_dir + 'XLAT/wrfout_d01_2010-01-01_00:00:00' + '_' + 'XLAT' + '.nc')\n",
    "xlong_ncfile = netCDF4.Dataset(data_dir + 'XLONG/wrfout_d01_2010-01-01_00:00:00' + '_' + 'XLONG' + '.nc')\n",
    "landmask_ncfile = netCDF4.Dataset(data_dir + 'LANDMASK/wrfout_d01_2010-01-01_00:00:00' + '_' + 'LANDMASK' + '.nc')\n",
    "\n",
    "# FOR 2D DATA\n",
    "data_dir = '/beegfs/DATA/pritchard/blangenb/WRF_ARCHIVE/031.co2_1000.idealized.50km.noahmp.1hr.stoch.ensemble/concat_nc_files/2d_fields/'\n",
    "filename_prefix = 'wrfout_d01_ens_mean_001_010'\n",
    "time_ncfile = netCDF4.Dataset(data_dir + 'wrfout_d01_2010-01-01_00:00:00_2010-01-11_00:00:00_Times_001.nc')\n",
    "lh_ncfile = netCDF4.Dataset(data_dir + filename_prefix + '_' + 'LH' + '.nc')\n",
    "rainc_ncfile = netCDF4.Dataset(data_dir + filename_prefix + '_' + 'RAINC' + '.nc')\n",
    "rainnc_ncfile = netCDF4.Dataset(data_dir + filename_prefix + '_' + 'RAINNC' + '.nc')\n",
    "t2_ncfile = netCDF4.Dataset(data_dir + filename_prefix + '_' + 'T2' + '.nc')\n",
    "qfx_ncfile = netCDF4.Dataset(data_dir + filename_prefix + '_' + 'QFX' + '.nc')\n",
    "ecan_ncfile = netCDF4.Dataset(data_dir + filename_prefix + '_' + 'ECAN' + '.nc')\n",
    "edir_ncfile = netCDF4.Dataset(data_dir + filename_prefix + '_' + 'EDIR' + '.nc')\n",
    "etran_ncfile = netCDF4.Dataset(data_dir + filename_prefix + '_' + 'ETRAN' + '.nc')\n",
    "\n",
    "# FOR 3D DATA\n",
    "data_dir = '/beegfs/DATA/pritchard/blangenb/WRF_ARCHIVE/031.co2_1000.idealized.50km.noahmp.1hr.stoch.ensemble/concat_nc_files/3d_fields/'\n",
    "filename_prefix = 'wrfout_d01_ens_mean_001_010'\n",
    "qvapor_ncfile = netCDF4.Dataset(data_dir + filename_prefix + '_' + 'QVAPOR' + '.nc')\n",
    "v_ncfile = netCDF4.Dataset(data_dir + filename_prefix + '_' + 'V' + '.nc')\n",
    "u_ncfile = netCDF4.Dataset(data_dir + filename_prefix + '_' + 'U' + '.nc')\n",
    "w_ncfile = netCDF4.Dataset(data_dir + filename_prefix + '_' + 'W' + '.nc')\n",
    "\n",
    "qvapor_1000 = qvapor_ncfile.variables['QVAPOR'][:] * 1000. # convert to g/kg, not kg/kg\n",
    "u_1000 = u_ncfile.variables['U'][:]\n",
    "v_1000 = v_ncfile.variables['V'][:]\n",
    "w_1000 = w_ncfile.variables['W'][:]\n",
    "\n",
    "rainc_1000 = rainc_ncfile.variables['RAINC'][:]\n",
    "rainnc_1000 = rainnc_ncfile.variables['RAINNC'][:]\n",
    "raintot_1000 = rainc_1000+rainnc_1000\n",
    "\n",
    "u_1000 = u_ncfile.variables['U'][:]\n",
    "w_1000 = w_ncfile.variables['W'][:]"
   ]
  },
  {
   "cell_type": "code",
   "execution_count": null,
   "metadata": {},
   "outputs": [],
   "source": []
  },
  {
   "cell_type": "code",
   "execution_count": null,
   "metadata": {},
   "outputs": [],
   "source": []
  },
  {
   "cell_type": "code",
   "execution_count": null,
   "metadata": {},
   "outputs": [],
   "source": []
  },
  {
   "cell_type": "code",
   "execution_count": null,
   "metadata": {},
   "outputs": [],
   "source": []
  }
 ],
 "metadata": {
  "kernelspec": {
   "display_name": "Python 3",
   "language": "python",
   "name": "python3"
  },
  "language_info": {
   "codemirror_mode": {
    "name": "ipython",
    "version": 3
   },
   "file_extension": ".py",
   "mimetype": "text/x-python",
   "name": "python",
   "nbconvert_exporter": "python",
   "pygments_lexer": "ipython3",
   "version": "3.6.3"
  }
 },
 "nbformat": 4,
 "nbformat_minor": 2
}
