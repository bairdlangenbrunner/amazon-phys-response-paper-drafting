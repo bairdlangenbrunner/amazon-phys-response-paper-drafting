{
 "cells": [
  {
   "cell_type": "code",
   "execution_count": 1,
   "metadata": {},
   "outputs": [],
   "source": [
    "import numpy\n",
    "import netCDF4\n",
    "import matplotlib\n",
    "import matplotlib.pyplot as mp\n",
    "import datetime\n",
    "import matplotlib.colors\n",
    "\n",
    "import mpl_toolkits\n",
    "import cartopy\n",
    "\n",
    "DEGREE_SIGN = u'\\u00B0'\n",
    "mp.rcParams.update({'mathtext.default': 'regular'})\n",
    "\n",
    "% matplotlib inline"
   ]
  },
  {
   "cell_type": "code",
   "execution_count": 2,
   "metadata": {},
   "outputs": [],
   "source": [
    "run_info = 'FMAASO'\n",
    "skip_time=0"
   ]
  },
  {
   "cell_type": "markdown",
   "metadata": {},
   "source": [
    "# time, LAT, LON ncfiles"
   ]
  },
  {
   "cell_type": "code",
   "execution_count": 3,
   "metadata": {},
   "outputs": [],
   "source": [
    "xlat_ncfile_name = '/Users/baird/Dropbox/_data_WRF/CHEYENNE/FMAASO/1000/concat_nc_files/wrfout_d01_1979-01-01_00:00:00_XLAT.nc'\n",
    "xlong_ncfile_name = '/Users/baird/Dropbox/_data_WRF/CHEYENNE/FMAASO/1000/concat_nc_files/wrfout_d01_1979-01-01_00:00:00_XLONG.nc'\n",
    "landmask_ncfile_name = '/Users/baird/Dropbox/_data_WRF/CHEYENNE/FMAASO/1000/concat_nc_files/wrfout_d01_1979-01-01_00:00:00_LANDMASK.nc'\n",
    "times_ncfile_name = '/Users/baird/Dropbox/_data_WRF/CHEYENNE/FMAASO/1000/concat_nc_files/wrfout_d01_1979-01-01_00:00:00_1979-01-11_00:00:00_Times_ens_mean.nc'"
   ]
  },
  {
   "cell_type": "markdown",
   "metadata": {},
   "source": [
    "# import FMAASO 400 data"
   ]
  },
  {
   "cell_type": "code",
   "execution_count": 4,
   "metadata": {},
   "outputs": [],
   "source": [
    "data_dir = '/Users/baird/Dropbox/_data_WRF/CHEYENNE/FMAASO/400/concat_nc_files/'\n",
    "filename_prefix = 'wrfout_d01_1979-01-01_00:00:00_1979-01-11_00:00:00_'\n",
    "filename_suffix = '_ens_mean.nc'\n",
    "\n",
    "time_ncfile = netCDF4.Dataset(times_ncfile_name)\n",
    "xlat_ncfile = netCDF4.Dataset(xlat_ncfile_name)\n",
    "xlong_ncfile = netCDF4.Dataset(xlong_ncfile_name)\n",
    "landmask_ncfile = netCDF4.Dataset(landmask_ncfile_name)\n",
    "\n",
    "lh_ncfile = netCDF4.Dataset(data_dir + filename_prefix + 'LH' + filename_suffix)\n",
    "rainc_ncfile = netCDF4.Dataset(data_dir + filename_prefix + 'RAINC' + filename_suffix)\n",
    "rainnc_ncfile = netCDF4.Dataset(data_dir + filename_prefix + 'RAINNC' + filename_suffix)\n",
    "t2_ncfile = netCDF4.Dataset(data_dir + filename_prefix + 'T2' + filename_suffix)\n",
    "qfx_ncfile = netCDF4.Dataset(data_dir + filename_prefix + 'QFX' + filename_suffix)\n",
    "\n",
    "ecan_ncfile = netCDF4.Dataset(data_dir + filename_prefix + 'ECAN' + filename_suffix)\n",
    "edir_ncfile = netCDF4.Dataset(data_dir + filename_prefix + 'EDIR' + filename_suffix)\n",
    "etran_ncfile = netCDF4.Dataset(data_dir + filename_prefix + 'ETRAN' + filename_suffix)"
   ]
  },
  {
   "cell_type": "code",
   "execution_count": null,
   "metadata": {},
   "outputs": [],
   "source": []
  },
  {
   "cell_type": "code",
   "execution_count": 5,
   "metadata": {},
   "outputs": [],
   "source": [
    "time_var = time_ncfile.variables['Times']\n",
    "time = time_ncfile.variables['Times'][:]\n",
    "xlat = xlat_ncfile.variables['XLAT'][0,:,:]\n",
    "xlong = xlong_ncfile.variables['XLONG'][0,:,:]\n",
    "landmask = landmask_ncfile.variables['LANDMASK'][0,:,:]\n",
    "\n",
    "lh_400 = lh_ncfile.variables['LH'][:]\n",
    "rainc_400 = rainc_ncfile.variables['RAINC'][:]\n",
    "rainnc_400 = rainnc_ncfile.variables['RAINNC'][:]\n",
    "qfx_400 = qfx_ncfile.variables['QFX'][:]*86400.\n",
    "t2_400 = t2_ncfile.variables['T2'][:]\n",
    "\n",
    "ecan_400 = ecan_ncfile.variables['ECAN'][:]*86400.\n",
    "edir_400 = edir_ncfile.variables['EDIR'][:]*86400.\n",
    "etran_400 = etran_ncfile.variables['ETRAN'][:]*86400."
   ]
  },
  {
   "cell_type": "markdown",
   "metadata": {},
   "source": [
    "# import FMAASO 1000 data"
   ]
  },
  {
   "cell_type": "code",
   "execution_count": 6,
   "metadata": {},
   "outputs": [],
   "source": [
    "data_dir = '/Users/baird/Dropbox/_data_WRF/CHEYENNE/FMAASO/1000/concat_nc_files/'\n",
    "filename_prefix = 'wrfout_d01_1979-01-01_00:00:00_1979-01-11_00:00:00_'\n",
    "filename_suffix = '_ens_mean.nc'\n",
    "\n",
    "time_ncfile = netCDF4.Dataset(times_ncfile_name)\n",
    "xlat_ncfile = netCDF4.Dataset(xlat_ncfile_name)\n",
    "xlong_ncfile = netCDF4.Dataset(xlong_ncfile_name)\n",
    "landmask_ncfile = netCDF4.Dataset(landmask_ncfile_name)\n",
    "\n",
    "lh_ncfile = netCDF4.Dataset(data_dir + filename_prefix + 'LH' + filename_suffix)\n",
    "rainc_ncfile = netCDF4.Dataset(data_dir + filename_prefix + 'RAINC' + filename_suffix)\n",
    "rainnc_ncfile = netCDF4.Dataset(data_dir + filename_prefix + 'RAINNC' + filename_suffix)\n",
    "t2_ncfile = netCDF4.Dataset(data_dir + filename_prefix + 'T2' + filename_suffix)\n",
    "qfx_ncfile = netCDF4.Dataset(data_dir + filename_prefix + 'QFX' + filename_suffix)\n",
    "\n",
    "ecan_ncfile = netCDF4.Dataset(data_dir + filename_prefix + 'ECAN' + filename_suffix)\n",
    "edir_ncfile = netCDF4.Dataset(data_dir + filename_prefix + 'EDIR' + filename_suffix)\n",
    "etran_ncfile = netCDF4.Dataset(data_dir + filename_prefix + 'ETRAN' + filename_suffix)"
   ]
  },
  {
   "cell_type": "code",
   "execution_count": 7,
   "metadata": {},
   "outputs": [],
   "source": [
    "time_var_1000 = time_ncfile.variables['Times']\n",
    "time_1000 = time_ncfile.variables['Times'][:]\n",
    "xlat = xlat_ncfile.variables['XLAT'][0,:,:]\n",
    "xlong = xlong_ncfile.variables['XLONG'][0,:,:]\n",
    "landmask = landmask_ncfile.variables['LANDMASK'][0,:,:]\n",
    "\n",
    "lh_1000 = lh_ncfile.variables['LH'][:]\n",
    "rainc_1000 = rainc_ncfile.variables['RAINC'][:]\n",
    "rainnc_1000 = rainnc_ncfile.variables['RAINNC'][:]\n",
    "qfx_1000 = qfx_ncfile.variables['QFX'][:]*86400.\n",
    "t2_1000 = t2_ncfile.variables['T2'][:]\n",
    "\n",
    "ecan_1000 = ecan_ncfile.variables['ECAN'][:]*86400.\n",
    "edir_1000 = edir_ncfile.variables['EDIR'][:]*86400.\n",
    "etran_1000 = etran_ncfile.variables['ETRAN'][:]*86400."
   ]
  },
  {
   "cell_type": "markdown",
   "metadata": {},
   "source": [
    "# get time stamps"
   ]
  },
  {
   "cell_type": "code",
   "execution_count": 8,
   "metadata": {},
   "outputs": [],
   "source": [
    "time_datetimes = numpy.zeros(time.shape[0], dtype=object)\n",
    "for t in range(time.shape[0]):\n",
    "    time_string = ''.join([i.decode('utf-8') for i in time[t,:]])\n",
    "    year,month,day = time_string.split('_')[0].split('-')\n",
    "    hour,minute,second = time_string.split('_')[1].split(':')\n",
    "    time_datetimes[t] = datetime.datetime(int(year),int(month),int(day),int(hour),int(second),int(minute))"
   ]
  },
  {
   "cell_type": "markdown",
   "metadata": {},
   "source": [
    "# RAINC differences"
   ]
  },
  {
   "cell_type": "code",
   "execution_count": 9,
   "metadata": {},
   "outputs": [],
   "source": [
    "rainc_400_diff = numpy.zeros((rainc_400.shape))*numpy.nan\n",
    "rainc_400_diff[:-1,:,:] = numpy.diff(rainc_400, axis=0)#*(24./3) # convert to mm/day\n",
    "\n",
    "rainc_1000_diff = numpy.zeros((rainc_1000.shape))*numpy.nan\n",
    "rainc_1000_diff[:-1,:,:] = numpy.diff(rainc_1000, axis=0)#*(24./3) # convert to mm/day\n",
    "\n",
    "# # calculate 3 hourly means for 400\n",
    "# rainc_400_t00mean = numpy.nanmean(rainc_400_diff[skip_time:,:,:][times_00,:,:], axis=0)\n",
    "# rainc_400_t03mean = numpy.nanmean(rainc_400_diff[skip_time:,:,:][times_03,:,:], axis=0)\n",
    "# rainc_400_t06mean = numpy.nanmean(rainc_400_diff[skip_time:,:,:][times_06,:,:], axis=0)\n",
    "# rainc_400_t09mean = numpy.nanmean(rainc_400_diff[skip_time:,:,:][times_09,:,:], axis=0)\n",
    "# rainc_400_t12mean = numpy.nanmean(rainc_400_diff[skip_time:,:,:][times_12,:,:], axis=0)\n",
    "# rainc_400_t15mean = numpy.nanmean(rainc_400_diff[skip_time:,:,:][times_15,:,:], axis=0)\n",
    "# rainc_400_t18mean = numpy.nanmean(rainc_400_diff[skip_time:,:,:][times_18,:,:], axis=0)\n",
    "# rainc_400_t21mean = numpy.nanmean(rainc_400_diff[skip_time:,:,:][times_21,:,:], axis=0)\n",
    "\n",
    "# rainc_1000_t00mean = numpy.nanmean(rainc_1000_diff[skip_time:,:,:][times_00,:,:], axis=0)\n",
    "# rainc_1000_t03mean = numpy.nanmean(rainc_1000_diff[skip_time:,:,:][times_03,:,:], axis=0)\n",
    "# rainc_1000_t06mean = numpy.nanmean(rainc_1000_diff[skip_time:,:,:][times_06,:,:], axis=0)\n",
    "# rainc_1000_t09mean = numpy.nanmean(rainc_1000_diff[skip_time:,:,:][times_09,:,:], axis=0)\n",
    "# rainc_1000_t12mean = numpy.nanmean(rainc_1000_diff[skip_time:,:,:][times_12,:,:], axis=0)\n",
    "# rainc_1000_t15mean = numpy.nanmean(rainc_1000_diff[skip_time:,:,:][times_15,:,:], axis=0)\n",
    "# rainc_1000_t18mean = numpy.nanmean(rainc_1000_diff[skip_time:,:,:][times_18,:,:], axis=0)\n",
    "# rainc_1000_t21mean = numpy.nanmean(rainc_1000_diff[skip_time:,:,:][times_21,:,:], axis=0)\n",
    "\n",
    "# rainc_400_array = numpy.array([rainc_400_t00mean, rainc_400_t03mean, rainc_400_t06mean, rainc_400_t09mean, rainc_400_t12mean, rainc_400_t15mean, rainc_400_t18mean, rainc_400_t21mean])\n",
    "# rainc_1000_array = numpy.array([rainc_1000_t00mean, rainc_1000_t03mean, rainc_1000_t06mean, rainc_1000_t09mean, rainc_1000_t12mean, rainc_1000_t15mean, rainc_1000_t18mean, rainc_1000_t21mean])\n",
    "\n",
    "#rainc_diffs = rainc_1000_array - rainc_400_array\n",
    "#rainc_diffs_landmask = numpy.copy(rainc_diffs)\n",
    "#rainc_diffs_landmask[:,landmask==0] = numpy.nan"
   ]
  },
  {
   "cell_type": "markdown",
   "metadata": {},
   "source": [
    "# RAINNC differences"
   ]
  },
  {
   "cell_type": "code",
   "execution_count": 10,
   "metadata": {},
   "outputs": [],
   "source": [
    "rainnc_400_diff = numpy.zeros((rainnc_400.shape))*numpy.nan\n",
    "rainnc_400_diff[:-1,:,:] = numpy.diff(rainnc_400, axis=0)#*(24.) # convert to mm/day\n",
    "\n",
    "rainnc_1000_diff = numpy.zeros((rainnc_1000.shape))*numpy.nan\n",
    "rainnc_1000_diff[:-1,:,:] = numpy.diff(rainnc_1000, axis=0)#*(24.) # convert to mm/day"
   ]
  },
  {
   "cell_type": "markdown",
   "metadata": {},
   "source": [
    "# RAINTOT differences"
   ]
  },
  {
   "cell_type": "code",
   "execution_count": 11,
   "metadata": {},
   "outputs": [],
   "source": [
    "raintot_400 = rainc_400+rainnc_400\n",
    "raintot_1000 = rainc_1000+rainnc_1000"
   ]
  },
  {
   "cell_type": "code",
   "execution_count": 15,
   "metadata": {},
   "outputs": [],
   "source": [
    "raintot_400_diff = numpy.zeros((raintot_400.shape))*numpy.nan\n",
    "raintot_400_diff[:-1,:,:] = numpy.diff(raintot_400, axis=0)\n",
    "\n",
    "raintot_1000_diff = numpy.zeros((raintot_1000.shape))*numpy.nan\n",
    "raintot_1000_diff[:-1,:,:] = numpy.diff(raintot_1000, axis=0)\n",
    "\n",
    "raintot_hourly_diffs = raintot_1000_diff - raintot_400_diff"
   ]
  },
  {
   "cell_type": "code",
   "execution_count": 16,
   "metadata": {},
   "outputs": [],
   "source": [
    "day00hour12 = [t.day==1 and t.hour==12 for t in time_datetimes]\n",
    "day00hour13 = [t.day==1 and t.hour==13 for t in time_datetimes]\n",
    "day00hour18 = [t.day==1 and t.hour==18 for t in time_datetimes]\n",
    "day00hour20 = [t.day==1 and t.hour==20 for t in time_datetimes]"
   ]
  },
  {
   "cell_type": "code",
   "execution_count": 17,
   "metadata": {},
   "outputs": [],
   "source": [
    "raintot_hourly_diffs_d00h12 = raintot_hourly_diffs[day00hour12,:,:].squeeze()\n",
    "raintot_hourly_diffs_d00h13 = raintot_hourly_diffs[day00hour13,:,:].squeeze()\n",
    "raintot_hourly_diffs_d00h18 = raintot_hourly_diffs[day00hour18,:,:].squeeze()\n",
    "raintot_hourly_diffs_d00h20 = raintot_hourly_diffs[day00hour20,:,:].squeeze()"
   ]
  },
  {
   "cell_type": "code",
   "execution_count": 37,
   "metadata": {},
   "outputs": [
    {
     "data": {
      "text/plain": [
       "'1979-05-01 hour 04'"
      ]
     },
     "execution_count": 37,
     "metadata": {},
     "output_type": "execute_result"
    }
   ],
   "source": [
    "time_datetimes[100].strftime('%Y-%d-%m hour %H')"
   ]
  },
  {
   "cell_type": "code",
   "execution_count": 40,
   "metadata": {},
   "outputs": [],
   "source": [
    "levels = numpy.arange(-1,1.1,0.25)\n",
    "\n",
    "for i in range(100):\n",
    "    fig = mp.figure(figsize=(6,3))\n",
    "    ax = fig.add_subplot(111, projection=cartopy.crs.PlateCarree())\n",
    "    ax.coastlines()\n",
    "    ax.text(s=time_datetimes[i].strftime('%Y-%d-%m hour %H'), x=0, y=1.02, ha='left', va='bottom', fontsize=12, transform=ax.transAxes)\n",
    "    contour_plot = ax.contourf(xlong, xlat, raintot_hourly_diffs[i,:,:], levels=levels, cmap='RdBu', extend='both')\n",
    "    mp.colorbar(contour_plot)\n",
    "    fig.savefig('precip_diff_'+'{:03}'.format(i+1)+'.png', dpi=300, transparent=True, bbox_inches='tight')\n",
    "    mp.close()"
   ]
  }
 ],
 "metadata": {
  "kernelspec": {
   "display_name": "Python 3",
   "language": "python",
   "name": "python3"
  },
  "language_info": {
   "codemirror_mode": {
    "name": "ipython",
    "version": 3
   },
   "file_extension": ".py",
   "mimetype": "text/x-python",
   "name": "python",
   "nbconvert_exporter": "python",
   "pygments_lexer": "ipython3",
   "version": "3.6.3"
  }
 },
 "nbformat": 4,
 "nbformat_minor": 2
}
