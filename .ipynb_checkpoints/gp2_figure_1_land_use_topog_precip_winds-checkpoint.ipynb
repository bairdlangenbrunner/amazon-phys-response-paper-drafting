{
 "cells": [
  {
   "cell_type": "code",
   "execution_count": 1,
   "metadata": {
    "ExecuteTime": {
     "end_time": "2018-08-15T23:24:16.514212Z",
     "start_time": "2018-08-15T23:24:13.385668Z"
    }
   },
   "outputs": [],
   "source": [
    "import numpy\n",
    "import xarray\n",
    "import matplotlib\n",
    "import matplotlib.pyplot as mp\n",
    "import datetime\n",
    "import scipy\n",
    "import scipy.ndimage\n",
    "import pandas\n",
    "import matplotlib.cm as mcm\n",
    "\n",
    "mp.rcParams.update({'mathtext.default': 'regular'})\n",
    "\n",
    "import matplotlib.patches\n",
    "import matplotlib.ticker\n",
    "\n",
    "import mpl_toolkits.axes_grid1\n",
    "import cartopy\n",
    "\n",
    "DEGREE_SIGN = u'\\u00B0'\n",
    "\n",
    "% matplotlib inline"
   ]
  },
  {
   "cell_type": "code",
   "execution_count": 2,
   "metadata": {
    "ExecuteTime": {
     "end_time": "2018-08-15T23:24:16.528720Z",
     "start_time": "2018-08-15T23:24:16.523077Z"
    }
   },
   "outputs": [],
   "source": [
    "run_info = '50km_idealized_noahmp_ens_mean'"
   ]
  },
  {
   "cell_type": "code",
   "execution_count": 3,
   "metadata": {
    "ExecuteTime": {
     "end_time": "2018-08-15T23:24:17.317560Z",
     "start_time": "2018-08-15T23:24:16.536878Z"
    }
   },
   "outputs": [],
   "source": [
    "geo_em_ncfile = xarray.open_dataset('/beegfs/DATA/pritchard/blangenb/WRF_ARCHIVE/CHEYENNE/geo_em.d01_amazon_50km.nc')\n",
    "lu_index = geo_em_ncfile['LU_INDEX'].values[0,:,:]\n",
    "XLONG_M = geo_em_ncfile['XLONG_M'].values[0,:,:]\n",
    "XLAT_M = geo_em_ncfile['XLAT_M'].values[0,:,:]\n",
    "HGT_M = geo_em_ncfile['HGT_M'].values[0,:,:]"
   ]
  },
  {
   "cell_type": "code",
   "execution_count": 4,
   "metadata": {
    "ExecuteTime": {
     "end_time": "2018-08-15T23:24:17.338419Z",
     "start_time": "2018-08-15T23:24:17.326208Z"
    }
   },
   "outputs": [
    {
     "data": {
      "text/plain": [
       "-37.11884"
      ]
     },
     "execution_count": 4,
     "metadata": {},
     "output_type": "execute_result"
    }
   ],
   "source": [
    "XLAT_M.min()"
   ]
  },
  {
   "cell_type": "markdown",
   "metadata": {},
   "source": [
    "# LAND USE DATA"
   ]
  },
  {
   "cell_type": "code",
   "execution_count": 5,
   "metadata": {
    "ExecuteTime": {
     "end_time": "2018-08-15T23:24:52.892101Z",
     "start_time": "2018-08-15T23:24:52.880050Z"
    }
   },
   "outputs": [],
   "source": [
    "modis_type_dict = {}\n",
    "#modis_type_dict['0'] = 'water'\n",
    "modis_type_dict['1'] = 'evergreen needleleaf forest'\n",
    "modis_type_dict['2'] = 'evergreen broadleaf forest'\n",
    "modis_type_dict['3'] = 'deciduous needleleaf forest'\n",
    "modis_type_dict['4'] = 'deciduous broadleaf forest'\n",
    "modis_type_dict['5'] = 'mixed forest'\n",
    "modis_type_dict['6'] = 'closed shrublands'\n",
    "modis_type_dict['7'] = 'open shrublands'\n",
    "modis_type_dict['8'] = 'woody savannas'\n",
    "modis_type_dict['9'] = 'savannas'\n",
    "modis_type_dict['10'] = 'grasslands'\n",
    "modis_type_dict['11'] = 'permanent wetlands'\n",
    "modis_type_dict['12'] = 'croplands'\n",
    "modis_type_dict['13'] = 'urban and built-up'\n",
    "modis_type_dict['14'] = 'cropland/natural veg. mosaic'\n",
    "modis_type_dict['15'] = 'snow and ice'\n",
    "modis_type_dict['16'] = 'barren or sparsely vegetated'\n",
    "#modis_type_dict['254'] = 'unclassified'\n",
    "#modis_type_dict['255'] = 'fill value'"
   ]
  },
  {
   "cell_type": "code",
   "execution_count": 6,
   "metadata": {
    "ExecuteTime": {
     "end_time": "2018-08-15T23:24:53.744530Z",
     "start_time": "2018-08-15T23:24:53.735966Z"
    }
   },
   "outputs": [],
   "source": [
    "type_numbers = numpy.arange(1,17,dtype=numpy.int)\n",
    "type_name = [modis_type_dict[str(i)] for i in type_numbers]"
   ]
  },
  {
   "cell_type": "code",
   "execution_count": 7,
   "metadata": {
    "ExecuteTime": {
     "end_time": "2018-08-15T23:24:54.263881Z",
     "start_time": "2018-08-15T23:24:54.242785Z"
    }
   },
   "outputs": [],
   "source": [
    "human_cmap = mcm.YlOrRd_r #Purples\n",
    "water_cmap = mcm.Blues\n",
    "veg_cmap = mcm.Greens_r\n",
    "shrub_cmap = mcm.pink #YlOrBr\n",
    "\n",
    "svals = numpy.linspace(0.2,0.85,5)\n",
    "vvals = numpy.linspace(0.2,0.85,5)\n",
    "hvals = [0.25,0.5,0.75]\n",
    "\n",
    "# colors_list = [water_cmap(0.75),\\\n",
    "#                veg_cmap(vvals[0]),veg_cmap(vvals[1]),veg_cmap(vvals[2]),veg_cmap(vvals[3]),veg_cmap(vvals[4]),\\\n",
    "#                shrub_cmap(svals[0]),shrub_cmap(svals[1]),shrub_cmap(svals[2]),shrub_cmap(svals[3]),shrub_cmap(svals[4]),\\\n",
    "#                water_cmap(0.5),\\\n",
    "#                human_cmap(hvals[0]),human_cmap(hvals[1]),human_cmap(hvals[2]),\\\n",
    "#                '0.7','0.9']\n",
    "\n",
    "colors_list = [veg_cmap(vvals[0]),veg_cmap(vvals[1]),veg_cmap(vvals[2]),veg_cmap(vvals[3]),veg_cmap(vvals[4]),\\\n",
    "               shrub_cmap(svals[0]),shrub_cmap(svals[1]),shrub_cmap(svals[2]),shrub_cmap(svals[3]),shrub_cmap(svals[4]),\\\n",
    "               water_cmap(0.5),\\\n",
    "               human_cmap(hvals[0]),human_cmap(hvals[1]),human_cmap(hvals[2]),\\\n",
    "               '0.6','0.8']\n",
    "\n",
    "categorical_cmap = matplotlib.colors.ListedColormap(colors_list, name='None')\n",
    "\n",
    "norm = matplotlib.colors.BoundaryNorm(numpy.arange(type_numbers.min()-0.5,type_numbers.max()+0.5+1,1),\\\n",
    "                                                   categorical_cmap.N)\n",
    "n_categories = len(colors_list)"
   ]
  },
  {
   "cell_type": "raw",
   "metadata": {
    "ExecuteTime": {
     "end_time": "2018-05-16T16:19:33.064575Z",
     "start_time": "2018-05-16T16:19:33.055919Z"
    }
   },
   "source": [
    "# colors_list = ['darkgreen','forestgreen','darkolivegreen','olivedrab','yellowgreen',\\\n",
    "#               'saddlebrown','sienna','peru','burlywood','wheat',\n",
    "#               'darkturquoise','gold',\\\n",
    "#               'red','firebrick',\\\n",
    "#               'lightcyan','None']\n",
    "# colors_list = ['darkgreen','forestgreen','darkolivegreen','olivedrab','yellowgreen',\\\n",
    "#               'darkred','sienna','peru','burlywood','wheat',\n",
    "#               'gold','orange',\\\n",
    "#               'red','palegreen',\\\n",
    "#               'lightcyan','None']\n",
    "colors_list = ['darkgreen','forestgreen','darkolivegreen','olivedrab','yellowgreen',\\\n",
    "              'darkred','sienna','peru','burlywood','wheat',\n",
    "              'gold','orange',\\\n",
    "              'red','palegreen',\\\n",
    "              'lightcyan','0.9']\n",
    "categorical_cmap = matplotlib.colors.ListedColormap(colors_list, name='baird')\n",
    "n_categories = len(colors_list)"
   ]
  },
  {
   "cell_type": "code",
   "execution_count": 8,
   "metadata": {
    "ExecuteTime": {
     "end_time": "2018-08-15T23:24:56.612339Z",
     "start_time": "2018-08-15T23:24:55.805258Z"
    }
   },
   "outputs": [],
   "source": [
    "season='FMAASO'\n",
    "\n",
    "data_dir = '/beegfs/DATA/pritchard/blangenb/WRF_ARCHIVE/CHEYENNE/METGRID_FILES_RAW_OUTPUT/'+season+'/'\n",
    "filename00 = data_dir+'met_em.d01.1979-01-01_00:00:00.nc'\n",
    "filename06 = data_dir+'met_em.d01.1979-01-01_06:00:00.nc'\n",
    "filename12 = data_dir+'met_em.d01.1979-01-01_12:00:00.nc'\n",
    "filename18 = data_dir+'met_em.d01.1979-01-01_18:00:00.nc'\n",
    "ncfile00 = xarray.open_dataset(filename00)\n",
    "ncfile06 = xarray.open_dataset(filename06)\n",
    "ncfile12 = xarray.open_dataset(filename12)\n",
    "ncfile18 = xarray.open_dataset(filename18)\n",
    "ncfile_list = [ncfile00,ncfile06,ncfile12,ncfile18]\n",
    "\n",
    "XLAT_M = ncfile00['XLAT_M'].values[0,:,:]\n",
    "XLONG_M = ncfile00['XLONG_M'].values[0,:,:]\n",
    "XLAT_U = ncfile00['XLAT_U'].values[0,:,:]\n",
    "XLONG_U = ncfile00['XLONG_U'].values[0,:,:]\n",
    "XLAT_V = ncfile00['XLAT_V'].values[0,:,:]\n",
    "XLONG_V = ncfile00['XLONG_V'].values[0,:,:]\n",
    "LANDMASK = ncfile00['LANDMASK'].values[0,:,:]"
   ]
  },
  {
   "cell_type": "markdown",
   "metadata": {},
   "source": [
    "# IMPORT SKINTEMP"
   ]
  },
  {
   "cell_type": "code",
   "execution_count": 9,
   "metadata": {
    "ExecuteTime": {
     "end_time": "2018-08-15T23:24:57.086312Z",
     "start_time": "2018-08-15T23:24:56.620947Z"
    }
   },
   "outputs": [],
   "source": [
    "skintemp_list = [file['SKINTEMP'].values[0,:,:]-273.15 for file in ncfile_list]\n",
    "skintemp_mean = numpy.mean(numpy.array(skintemp_list), axis=0)"
   ]
  },
  {
   "cell_type": "markdown",
   "metadata": {},
   "source": [
    "# IMPORT UU,VV FOR THIS SEASON"
   ]
  },
  {
   "cell_type": "code",
   "execution_count": 10,
   "metadata": {
    "ExecuteTime": {
     "end_time": "2018-08-15T23:25:00.391030Z",
     "start_time": "2018-08-15T23:24:57.094899Z"
    }
   },
   "outputs": [],
   "source": [
    "uu850_list = [file['UU'].values[0,3,:,:] for file in ncfile_list]\n",
    "uu850_mean_FMAASO = numpy.mean(numpy.array(uu850_list), axis=0)\n",
    "\n",
    "vv850_list = [file['VV'].values[0,3,:,:] for file in ncfile_list]\n",
    "vv850_mean_FMAASO = numpy.mean(numpy.array(vv850_list), axis=0)"
   ]
  },
  {
   "cell_type": "markdown",
   "metadata": {},
   "source": [
    "# NDJ"
   ]
  },
  {
   "cell_type": "code",
   "execution_count": 11,
   "metadata": {
    "ExecuteTime": {
     "end_time": "2018-08-15T23:25:00.983345Z",
     "start_time": "2018-08-15T23:25:00.399425Z"
    }
   },
   "outputs": [],
   "source": [
    "season='NDJ'\n",
    "\n",
    "data_dir = '/beegfs/DATA/pritchard/blangenb/WRF_ARCHIVE/CHEYENNE/METGRID_FILES_RAW_OUTPUT/'+season+'/'\n",
    "filename00 = data_dir+'met_em.d01.1979-01-01_00:00:00.nc'\n",
    "filename06 = data_dir+'met_em.d01.1979-01-01_06:00:00.nc'\n",
    "filename12 = data_dir+'met_em.d01.1979-01-01_12:00:00.nc'\n",
    "filename18 = data_dir+'met_em.d01.1979-01-01_18:00:00.nc'\n",
    "ncfile00 = xarray.open_dataset(filename00)\n",
    "ncfile06 = xarray.open_dataset(filename06)\n",
    "ncfile12 = xarray.open_dataset(filename12)\n",
    "ncfile18 = xarray.open_dataset(filename18)\n",
    "ncfile_list = [ncfile00,ncfile06,ncfile12,ncfile18]\n",
    "\n",
    "# XLAT_M = ncfile00['XLAT_M'][0,:,:]\n",
    "# XLONG_M = ncfile00['XLONG_M'][0,:,:]\n",
    "# XLAT_U = ncfile00['XLAT_U'][0,:,:]\n",
    "# XLONG_U = ncfile00['XLONG_U'][0,:,:]\n",
    "# XLAT_V = ncfile00['XLAT_V'][0,:,:]\n",
    "# XLONG_V = ncfile00['XLONG_V'][0,:,:]\n",
    "# LANDMASK = ncfile00['LANDMASK'][0,:,:]"
   ]
  },
  {
   "cell_type": "code",
   "execution_count": 12,
   "metadata": {
    "ExecuteTime": {
     "end_time": "2018-08-15T23:25:05.156929Z",
     "start_time": "2018-08-15T23:25:00.991801Z"
    }
   },
   "outputs": [],
   "source": [
    "uu850_list = [file['UU'].values[0,3,:,:] for file in ncfile_list]\n",
    "uu850_mean_NDJ = numpy.mean(numpy.array(uu850_list), axis=0)\n",
    "\n",
    "vv850_list = [file['VV'].values[0,3,:,:] for file in ncfile_list]\n",
    "vv850_mean_NDJ = numpy.mean(numpy.array(vv850_list), axis=0)"
   ]
  },
  {
   "cell_type": "markdown",
   "metadata": {},
   "source": [
    "# MJJ"
   ]
  },
  {
   "cell_type": "code",
   "execution_count": 13,
   "metadata": {
    "ExecuteTime": {
     "end_time": "2018-08-15T23:25:05.713725Z",
     "start_time": "2018-08-15T23:25:05.165521Z"
    }
   },
   "outputs": [],
   "source": [
    "season='MJJ'\n",
    "\n",
    "data_dir = '/beegfs/DATA/pritchard/blangenb/WRF_ARCHIVE/CHEYENNE/METGRID_FILES_RAW_OUTPUT/'+season+'/'\n",
    "filename00 = data_dir+'met_em.d01.1979-01-01_00:00:00.nc'\n",
    "filename06 = data_dir+'met_em.d01.1979-01-01_06:00:00.nc'\n",
    "filename12 = data_dir+'met_em.d01.1979-01-01_12:00:00.nc'\n",
    "filename18 = data_dir+'met_em.d01.1979-01-01_18:00:00.nc'\n",
    "ncfile00 = xarray.open_dataset(filename00)\n",
    "ncfile06 = xarray.open_dataset(filename06)\n",
    "ncfile12 = xarray.open_dataset(filename12)\n",
    "ncfile18 = xarray.open_dataset(filename18)\n",
    "ncfile_list = [ncfile00,ncfile06,ncfile12,ncfile18]\n",
    "\n",
    "# XLAT_M = ncfile00['XLAT_M'][0,:,:]\n",
    "# XLONG_M = ncfile00['XLONG_M'][0,:,:]\n",
    "# XLAT_U = ncfile00['XLAT_U'][0,:,:]\n",
    "# XLONG_U = ncfile00['XLONG_U'][0,:,:]\n",
    "# XLAT_V = ncfile00['XLAT_V'][0,:,:]\n",
    "# XLONG_V = ncfile00['XLONG_V'][0,:,:]\n",
    "# LANDMASK = ncfile00['LANDMASK'][0,:,:]"
   ]
  },
  {
   "cell_type": "code",
   "execution_count": null,
   "metadata": {
    "ExecuteTime": {
     "start_time": "2018-08-15T23:24:59.018Z"
    }
   },
   "outputs": [],
   "source": [
    "uu850_list = [file['UU'].values[0,3,:,:] for file in ncfile_list]\n",
    "uu850_mean_MJJ = numpy.mean(numpy.array(uu850_list), axis=0)\n",
    "\n",
    "vv850_list = [file['VV'].values[0,3,:,:] for file in ncfile_list]\n",
    "vv850_mean_MJJ = numpy.mean(numpy.array(vv850_list), axis=0)"
   ]
  },
  {
   "cell_type": "markdown",
   "metadata": {},
   "source": [
    "# OBS PRECIP DATA"
   ]
  },
  {
   "cell_type": "code",
   "execution_count": null,
   "metadata": {
    "ExecuteTime": {
     "start_time": "2018-08-15T23:24:59.696Z"
    }
   },
   "outputs": [],
   "source": [
    "precip_ncfile_name = '/beegfs/DATA/pritchard/blangenb/_data_observations/GPCP/precip.mon.mean.nc'\n",
    "ncfile_gpcp = xarray.open_dataset(precip_ncfile_name)\n",
    "data_gpcp = ncfile_gpcp['precip'].values\n",
    "time_data_gpcp = ncfile_gpcp['time'].values\n",
    "time_var_gpcp = ncfile_gpcp['time']\n",
    "lat_gpcp = ncfile_gpcp['lat'].values\n",
    "lon_gpcp = ncfile_gpcp['lon'].values"
   ]
  },
  {
   "cell_type": "code",
   "execution_count": null,
   "metadata": {
    "ExecuteTime": {
     "start_time": "2018-08-15T23:25:00.029Z"
    }
   },
   "outputs": [],
   "source": [
    "time_gpcp_datetime = pandas.to_datetime(time_data_gpcp)\n",
    "#netCDF4.num2date(time_data_gpcp, time_var_gpcp.units, calendar='standard')\n",
    "FMAASO_indices = [t.month in [2,3,4,8,9,10] for t in time_gpcp_datetime]\n",
    "NDJ_indices = [t.month in [11,12,1] for t in time_gpcp_datetime]\n",
    "MJJ_indices = [t.month in [5,6,7] for t in time_gpcp_datetime]"
   ]
  },
  {
   "cell_type": "code",
   "execution_count": null,
   "metadata": {
    "ExecuteTime": {
     "start_time": "2018-08-15T23:25:00.386Z"
    }
   },
   "outputs": [],
   "source": [
    "print(time_gpcp_datetime[0], time_gpcp_datetime[-1])"
   ]
  },
  {
   "cell_type": "code",
   "execution_count": null,
   "metadata": {
    "ExecuteTime": {
     "start_time": "2018-08-15T23:25:00.735Z"
    }
   },
   "outputs": [],
   "source": [
    "gpcp_FMAASO_mean = data_gpcp[FMAASO_indices,:,:].mean(axis=0)\n",
    "gpcp_NDJ_mean = data_gpcp[NDJ_indices,:,:].mean(axis=0)\n",
    "gpcp_MJJ_mean = data_gpcp[MJJ_indices,:,:].mean(axis=0)"
   ]
  },
  {
   "cell_type": "markdown",
   "metadata": {},
   "source": [
    "# WRF PRECIP DATA AND WINDS DATA"
   ]
  },
  {
   "cell_type": "code",
   "execution_count": null,
   "metadata": {
    "ExecuteTime": {
     "start_time": "2018-08-15T23:25:01.420Z"
    }
   },
   "outputs": [],
   "source": [
    "xlat_ncfile_name = '/beegfs/DATA/pritchard/blangenb/WRF_ARCHIVE/CHEYENNE/FMAASO/1000/concat_nc_files/wrfout_d01_1979-01-01_00:00:00_XLAT.nc'\n",
    "xlong_ncfile_name = '/beegfs/DATA/pritchard/blangenb/WRF_ARCHIVE/CHEYENNE/FMAASO/1000/concat_nc_files/wrfout_d01_1979-01-01_00:00:00_XLONG.nc'\n",
    "landmask_ncfile_name = '/beegfs/DATA/pritchard/blangenb/WRF_ARCHIVE/CHEYENNE/FMAASO/1000/concat_nc_files/wrfout_d01_1979-01-01_00:00:00_LANDMASK.nc'\n",
    "times_ncfile_name = '/beegfs/DATA/pritchard/blangenb/WRF_ARCHIVE/CHEYENNE/FMAASO/1000/concat_nc_files/wrfout_d01_1979-01-01_00:00:00_1979-01-11_00:00:00_Times_ens_mean.nc'\n",
    "\n",
    "data_dir = '/beegfs/DATA/pritchard/blangenb/WRF_ARCHIVE/CHEYENNE/FMAASO/400/concat_nc_files/'\n",
    "filename_prefix = 'wrfout_d01_1979-01-01_00:00:00_1979-01-11_00:00:00_'\n",
    "filename_suffix = '_ens_mean.nc'\n",
    "\n",
    "time_ncfile = xarray.open_dataset(times_ncfile_name)\n",
    "xlat_ncfile = xarray.open_dataset(xlat_ncfile_name)\n",
    "xlong_ncfile = xarray.open_dataset(xlong_ncfile_name)\n",
    "landmask_ncfile = xarray.open_dataset(landmask_ncfile_name)\n",
    "\n",
    "rainc_ncfile = xarray.open_dataset(data_dir + filename_prefix + 'RAINC' + filename_suffix)\n",
    "rainnc_ncfile = xarray.open_dataset(data_dir + filename_prefix + 'RAINNC' + filename_suffix)\n",
    "u_ncfile = xarray.open_dataset(data_dir + filename_prefix + 'U' + '_ens_mean_vinterp.nc')\n",
    "v_ncfile = xarray.open_dataset(data_dir + filename_prefix + 'V' + '_ens_mean_vinterp.nc')\n",
    "\n",
    "time_var = time_ncfile['Times']\n",
    "time = time_ncfile['Times'].values[:]\n",
    "xlat = xlat_ncfile['XLAT'].values[0,:,:]\n",
    "xlong = xlong_ncfile['XLONG'].values[0,:,:]\n",
    "landmask = landmask_ncfile['LANDMASK'].values[0,:,:]\n",
    "\n",
    "rainc_400_FMAASO = rainc_ncfile['RAINC'].values[:]\n",
    "rainnc_400_FMAASO = rainnc_ncfile['RAINNC'].values[:]\n",
    "\n",
    "u_400_FMAASO = u_ncfile['U'].values[:]\n",
    "v_400_FMAASO = v_ncfile['V'].values[:]\n",
    "\n",
    "\n",
    "\n",
    "\n",
    "u_400_FMAASO_850mb = u_400_FMAASO[:,3,:,:]\n",
    "v_400_FMAASO_850mb = v_400_FMAASO[:,3,:,:]\n",
    "\n",
    "skip_time=24\n",
    "raintot_400_FMAASO = rainc_400_FMAASO+rainnc_400_FMAASO\n",
    "raintot_400_FMAASO = raintot_400_FMAASO[skip_time:,:,:]\n",
    "raintot_400_FMAASO_diff = numpy.zeros((raintot_400_FMAASO.shape))*numpy.nan\n",
    "raintot_400_FMAASO_diff[:-1,:,:] = numpy.diff(raintot_400_FMAASO, axis=0) * 24.\n",
    "\n",
    "raintot_400_FMAASO_clim = numpy.nanmean(raintot_400_FMAASO_diff, axis=0)\n",
    "\n",
    "u_400_FMAASO_850mb_clim = numpy.nanmean(u_400_FMAASO_850mb[skip_time:,:,:], axis=0)\n",
    "v_400_FMAASO_850mb_clim = numpy.nanmean(v_400_FMAASO_850mb[skip_time:,:,:], axis=0)\n",
    "\n",
    "xgrid,ygrid=numpy.meshgrid(lon_gpcp,lat_gpcp)\n",
    "\n",
    "raintot_400_FMAASO_clim_interp = scipy.interpolate.griddata(points=(XLONG_M.ravel()+180., XLAT_M.ravel()), \\\n",
    "                                                     values=raintot_400_FMAASO_clim.ravel(), \\\n",
    "                                                     xi=(xgrid,ygrid), method='cubic')"
   ]
  },
  {
   "cell_type": "markdown",
   "metadata": {},
   "source": [
    "# MJJ"
   ]
  },
  {
   "cell_type": "code",
   "execution_count": null,
   "metadata": {
    "ExecuteTime": {
     "start_time": "2018-08-15T23:25:02.056Z"
    }
   },
   "outputs": [],
   "source": [
    "xlat_ncfile_name = '/beegfs/DATA/pritchard/blangenb/WRF_ARCHIVE/CHEYENNE/MJJ/1000/concat_nc_files/wrfout_d01_1979-01-01_00:00:00_XLAT.nc'\n",
    "xlong_ncfile_name = '/beegfs/DATA/pritchard/blangenb/WRF_ARCHIVE/CHEYENNE/MJJ/1000/concat_nc_files/wrfout_d01_1979-01-01_00:00:00_XLONG.nc'\n",
    "landmask_ncfile_name = '/beegfs/DATA/pritchard/blangenb/WRF_ARCHIVE/CHEYENNE/MJJ/1000/concat_nc_files/wrfout_d01_1979-01-01_00:00:00_LANDMASK.nc'\n",
    "times_ncfile_name = '/beegfs/DATA/pritchard/blangenb/WRF_ARCHIVE/CHEYENNE/MJJ/1000/concat_nc_files/wrfout_d01_1979-01-01_00:00:00_1979-01-11_00:00:00_Times_ens_mean.nc'\n",
    "\n",
    "data_dir = '/beegfs/DATA/pritchard/blangenb/WRF_ARCHIVE/CHEYENNE/MJJ/400/concat_nc_files/'\n",
    "filename_prefix = 'wrfout_d01_1979-01-01_00:00:00_1979-01-11_00:00:00_'\n",
    "filename_suffix = '_ens_mean.nc'\n",
    "\n",
    "#time_ncfile = xarray.open_dataset(times_ncfile_name)\n",
    "#xlat_ncfile = xarray.open_dataset(xlat_ncfile_name)\n",
    "#xlong_ncfile = xarray.open_dataset(xlong_ncfile_name)\n",
    "#landmask_ncfile = xarray.open_dataset(landmask_ncfile_name)\n",
    "\n",
    "rainc_ncfile = xarray.open_dataset(data_dir + filename_prefix + 'RAINC' + filename_suffix)\n",
    "rainnc_ncfile = xarray.open_dataset(data_dir + filename_prefix + 'RAINNC' + filename_suffix)\n",
    "u_ncfile = xarray.open_dataset(data_dir + filename_prefix + 'U' + '_ens_mean_vinterp.nc')\n",
    "v_ncfile = xarray.open_dataset(data_dir + filename_prefix + 'V' + '_ens_mean_vinterp.nc')\n",
    "\n",
    "time_var = time_ncfile['Times']\n",
    "time = time_ncfile['Times'].values[:]\n",
    "xlat = xlat_ncfile['XLAT'].values[0,:,:]\n",
    "xlong = xlong_ncfile['XLONG'].values[0,:,:]\n",
    "landmask = landmask_ncfile['LANDMASK'].values[0,:,:]\n",
    "\n",
    "rainc_400_MJJ = rainc_ncfile['RAINC'].values[:]\n",
    "rainnc_400_MJJ = rainnc_ncfile['RAINNC'].values[:]\n",
    "\n",
    "u_400_MJJ = u_ncfile['U'][:]\n",
    "v_400_MJJ = v_ncfile['V'][:]\n",
    "\n",
    "u_400_MJJ_850mb = u_400_MJJ[:,3,:,:]\n",
    "v_400_MJJ_850mb = v_400_MJJ[:,3,:,:]\n",
    "\n",
    "skip_time=24\n",
    "raintot_400_MJJ = rainc_400_MJJ+rainnc_400_MJJ\n",
    "raintot_400_MJJ = raintot_400_MJJ[skip_time:,:,:]\n",
    "raintot_400_MJJ_diff = numpy.zeros((raintot_400_MJJ.shape))*numpy.nan\n",
    "raintot_400_MJJ_diff[:-1,:,:] = numpy.diff(raintot_400_MJJ, axis=0) * 24.\n",
    "\n",
    "raintot_400_MJJ_clim = numpy.nanmean(raintot_400_MJJ_diff, axis=0)\n",
    "\n",
    "u_400_MJJ_850mb_clim = numpy.nanmean(u_400_MJJ_850mb[skip_time:,:,:], axis=0)\n",
    "v_400_MJJ_850mb_clim = numpy.nanmean(v_400_MJJ_850mb[skip_time:,:,:], axis=0)\n",
    "\n",
    "xgrid,ygrid=numpy.meshgrid(lon_gpcp,lat_gpcp)\n",
    "\n",
    "raintot_400_MJJ_clim_interp = scipy.interpolate.griddata(points=(XLONG_M.ravel()+180., XLAT_M.ravel()), \\\n",
    "                                                     values=raintot_400_MJJ_clim.ravel(), \\\n",
    "                                                     xi=(xgrid,ygrid), method='cubic')"
   ]
  },
  {
   "cell_type": "markdown",
   "metadata": {},
   "source": [
    "# NDJ"
   ]
  },
  {
   "cell_type": "code",
   "execution_count": null,
   "metadata": {
    "ExecuteTime": {
     "start_time": "2018-08-15T23:25:02.693Z"
    }
   },
   "outputs": [],
   "source": [
    "xlat_ncfile_name = '/beegfs/DATA/pritchard/blangenb/WRF_ARCHIVE/CHEYENNE/NDJ/1000/concat_nc_files/wrfout_d01_1979-01-01_00:00:00_XLAT.nc'\n",
    "xlong_ncfile_name = '/beegfs/DATA/pritchard/blangenb/WRF_ARCHIVE/CHEYENNE/NDJ/1000/concat_nc_files/wrfout_d01_1979-01-01_00:00:00_XLONG.nc'\n",
    "landmask_ncfile_name = '/beegfs/DATA/pritchard/blangenb/WRF_ARCHIVE/CHEYENNE/NDJ/1000/concat_nc_files/wrfout_d01_1979-01-01_00:00:00_LANDMASK.nc'\n",
    "times_ncfile_name = '/beegfs/DATA/pritchard/blangenb/WRF_ARCHIVE/CHEYENNE/NDJ/1000/concat_nc_files/wrfout_d01_1979-01-01_00:00:00_1979-01-11_00:00:00_Times_ens_mean.nc'\n",
    "\n",
    "data_dir = '/beegfs/DATA/pritchard/blangenb/WRF_ARCHIVE/CHEYENNE/NDJ/400/concat_nc_files/'\n",
    "filename_prefix = 'wrfout_d01_1979-01-01_00:00:00_1979-01-11_00:00:00_'\n",
    "filename_suffix = '_ens_mean.nc'\n",
    "\n",
    "#time_ncfile = xarray.open_dataset(times_ncfile_name)\n",
    "#xlat_ncfile = xarray.open_dataset(xlat_ncfile_name)\n",
    "#xlong_ncfile = xarray.open_dataset(xlong_ncfile_name)\n",
    "#landmask_ncfile = xarray.open_dataset(landmask_ncfile_name)\n",
    "\n",
    "rainc_ncfile = xarray.open_dataset(data_dir + filename_prefix + 'RAINC' + filename_suffix)\n",
    "rainnc_ncfile = xarray.open_dataset(data_dir + filename_prefix + 'RAINNC' + filename_suffix)\n",
    "u_ncfile = xarray.open_dataset(data_dir + filename_prefix + 'U' + '_ens_mean_vinterp.nc')\n",
    "v_ncfile = xarray.open_dataset(data_dir + filename_prefix + 'V' + '_ens_mean_vinterp.nc')\n",
    "\n",
    "time_var = time_ncfile['Times']\n",
    "time = time_ncfile['Times'].values[:]\n",
    "xlat = xlat_ncfile['XLAT'].values[0,:,:]\n",
    "xlong = xlong_ncfile['XLONG'].values[0,:,:]\n",
    "landmask = landmask_ncfile['LANDMASK'].values[0,:,:]\n",
    "\n",
    "rainc_400_NDJ = rainc_ncfile['RAINC'].values[:]\n",
    "rainnc_400_NDJ = rainnc_ncfile['RAINNC'].values[:]\n",
    "\n",
    "skip_time=24\n",
    "raintot_400_NDJ = rainc_400_NDJ+rainnc_400_NDJ\n",
    "raintot_400_NDJ = raintot_400_NDJ[skip_time:,:,:]\n",
    "raintot_400_NDJ_diff = numpy.zeros((raintot_400_NDJ.shape))*numpy.nan\n",
    "raintot_400_NDJ_diff[:-1,:,:] = numpy.diff(raintot_400_NDJ, axis=0) * 24.\n",
    "\n",
    "raintot_400_NDJ_clim = numpy.nanmean(raintot_400_NDJ_diff, axis=0)\n",
    "\n",
    "u_400_NDJ = u_ncfile['U'][:]\n",
    "v_400_NDJ = v_ncfile['V'][:]\n",
    "\n",
    "u_400_NDJ_850mb = u_400_NDJ[:,3,:,:]\n",
    "v_400_NDJ_850mb = v_400_NDJ[:,3,:,:]\n",
    "\n",
    "u_400_NDJ_850mb_clim = numpy.nanmean(u_400_MJJ_850mb[skip_time:,:,:], axis=0)\n",
    "v_400_NDJ_850mb_clim = numpy.nanmean(v_400_MJJ_850mb[skip_time:,:,:], axis=0)\n",
    "\n",
    "xgrid,ygrid=numpy.meshgrid(lon_gpcp,lat_gpcp)\n",
    "\n",
    "raintot_400_NDJ_clim_interp = scipy.interpolate.griddata(points=(XLONG_M.ravel()+180., XLAT_M.ravel()), \\\n",
    "                                                     values=raintot_400_NDJ_clim.ravel(), \\\n",
    "                                                     xi=(xgrid,ygrid), method='cubic')"
   ]
  },
  {
   "cell_type": "code",
   "execution_count": null,
   "metadata": {
    "ExecuteTime": {
     "start_time": "2018-08-15T23:25:03.001Z"
    }
   },
   "outputs": [],
   "source": [
    "# make color map\n",
    "minval=0.15 # for inferno:  0.18\n",
    "maxval=0.85 # for inferno: 1.0\n",
    "n=256\n",
    "full_cmap = mp.get_cmap('magma')\n",
    "cmap_orog = matplotlib.colors.LinearSegmentedColormap.from_list('trunc({n},{a:.2f},{b:.2f})'.format(n=full_cmap.name, a=minval, b=maxval), full_cmap(numpy.linspace(minval, maxval, n)))"
   ]
  },
  {
   "cell_type": "code",
   "execution_count": null,
   "metadata": {
    "ExecuteTime": {
     "start_time": "2018-08-15T23:25:03.312Z"
    }
   },
   "outputs": [],
   "source": [
    "# make color map\n",
    "minval=0. # for inferno:  0.18\n",
    "maxval=0.9 # for inferno: 1.0\n",
    "n=256\n",
    "full_cmap = mp.get_cmap('gist_earth_r')\n",
    "cmap_precip = matplotlib.colors.LinearSegmentedColormap.from_list('trunc({n},{a:.2f},{b:.2f})'.format(n=full_cmap.name, a=minval, b=maxval), full_cmap(numpy.linspace(minval, maxval, n)))"
   ]
  },
  {
   "cell_type": "markdown",
   "metadata": {},
   "source": [
    "# IMPORT SKINTEMP"
   ]
  },
  {
   "cell_type": "code",
   "execution_count": null,
   "metadata": {
    "ExecuteTime": {
     "start_time": "2018-08-15T23:25:03.801Z"
    }
   },
   "outputs": [],
   "source": [
    "skintemp_list = [file['SKINTEMP'].values[0,:,:]-273.15 for file in ncfile_list]\n",
    "skintemp_mean = numpy.mean(numpy.array(skintemp_list), axis=0)"
   ]
  },
  {
   "cell_type": "code",
   "execution_count": null,
   "metadata": {},
   "outputs": [],
   "source": []
  },
  {
   "cell_type": "code",
   "execution_count": null,
   "metadata": {
    "ExecuteTime": {
     "start_time": "2018-08-15T23:25:04.140Z"
    }
   },
   "outputs": [],
   "source": [
    "c=mp.contourf(HGT_M); mp.colorbar(c)"
   ]
  },
  {
   "cell_type": "code",
   "execution_count": null,
   "metadata": {
    "ExecuteTime": {
     "start_time": "2018-08-15T23:25:04.356Z"
    }
   },
   "outputs": [],
   "source": [
    "fontsize = 12\n",
    "\n",
    "fig = mp.figure(figsize=(7.5,10))\n",
    "\n",
    "gs1 = matplotlib.gridspec.GridSpec(1,7)\n",
    "ax1 = mp.subplot(gs1[0:5], projection=cartopy.crs.PlateCarree())\n",
    "gs1.update(bottom=0.63)\n",
    "\n",
    "levels = numpy.arange(-20,21,5)\n",
    "ax1.gridlines(ylocs=[0], color='0.25')\n",
    "ax1.coastlines(resolution='110m')\n",
    "ax1.set_extent([XLONG_M.min()+23., XLONG_M.max()-2, XLAT_M.min(), XLAT_M.max()], crs=cartopy.crs.PlateCarree())\n",
    "\n",
    "land_use_map = ax1.pcolormesh(XLONG_M,XLAT_M,lu_index,cmap=categorical_cmap,vmin=1,vmax=17)\n",
    "levels_orog=numpy.arange(1500,4501,500) # max is about 4800\n",
    "contour_orog = ax1.contour(XLONG_M,XLAT_M,HGT_M,\\\n",
    "                           levels=levels_orog,\\\n",
    "                           cmap=cmap_orog,linewidths=1,extend='both')#,alpha=0.75)\n",
    "\n",
    "bbox_ax = ax1.get_position()\n",
    "\n",
    "ax1.text(s='(a) land use categories and elevation', x=0, y=1.02, \\\n",
    "         fontsize=fontsize, ha='left', va='bottom', transform=ax1.transAxes)\n",
    "\n",
    "every_nth_lat=20\n",
    "every_nth_lon=20\n",
    "quiver_scale = 0.75 # 0.05 for 850-600, 0.1 for below 850\n",
    "quiver_shaft_width = 1.#.75\n",
    "quiver_key_scale = 5\n",
    "quiver_color = 'firebrick'\n",
    "quiver_head_length = 3\n",
    "quiver_head_axis_length = quiver_head_length\n",
    "\n",
    "#line_colors = ['firebrick','orange']\n",
    "line_colors = ['aquamarine','aqua']\n",
    "\n",
    "gs2 = matplotlib.gridspec.GridSpec(3,9)\n",
    "gs2.update(top=0.6)\n",
    "\n",
    "levels=numpy.arange(0,11,1)\n",
    "\n",
    "ax2 = mp.subplot(gs2[0,0:4], projection=cartopy.crs.PlateCarree())\n",
    "ax2.gridlines(ylocs=[0], color='0.25')\n",
    "ax2.coastlines(resolution='110m', lw=1)\n",
    "ax2.set_extent([XLONG_M.min(), XLONG_M.max(), XLAT_M.min(), XLAT_M.max()], crs=cartopy.crs.PlateCarree())\n",
    "contour_plot1 = ax2.contourf(lon_gpcp, lat_gpcp, gpcp_FMAASO_mean, levels=levels, cmap=cmap_precip, extend='max')\n",
    "contour_lines1 = ax2.contour(lon_gpcp, lat_gpcp, gpcp_FMAASO_mean, levels=[4,8], colors=line_colors, linewidths=[1])\n",
    "ax2.text(s='(b) obs. equinox', x=0, y=1.02, transform=ax2.transAxes, ha='left', va='bottom', fontsize=fontsize)\n",
    "quiver_plot1 = ax2.quiver(XLONG_M[::every_nth_lat,::every_nth_lon], \\\n",
    "                        XLAT_M[::every_nth_lat,::every_nth_lon], \\\n",
    "                        uu850_mean_FMAASO[::every_nth_lat,::every_nth_lon], \\\n",
    "                        vv850_mean_FMAASO[::every_nth_lat,::every_nth_lon], \\\n",
    "                        units='xy', scale=quiver_scale, width=quiver_shaft_width, \\\n",
    "                        color=quiver_color, headlength=quiver_head_length, \\\n",
    "                        headaxislength=quiver_head_axis_length, \\\n",
    "                        zorder=2)    \n",
    "\n",
    "ax4 = mp.subplot(gs2[1,0:4], projection=cartopy.crs.PlateCarree())\n",
    "ax4.gridlines(ylocs=[0], color='0.25')\n",
    "ax4.coastlines(resolution='110m')\n",
    "ax4.set_extent([XLONG_M.min(), XLONG_M.max(), XLAT_M.min(), XLAT_M.max()], crs=cartopy.crs.PlateCarree())\n",
    "contour_plot2 = ax4.contourf(lon_gpcp, lat_gpcp, gpcp_MJJ_mean, levels=levels, cmap=cmap_precip, extend='max')\n",
    "contour_lines2 = ax4.contour(lon_gpcp, lat_gpcp, gpcp_MJJ_mean, levels=[4,8], colors=line_colors, linewidths=[1])\n",
    "ax4.text(s='(c) obs. summer solstice', x=0, y=1.02, transform=ax4.transAxes, ha='left', va='bottom', fontsize=fontsize)\n",
    "quiver_plot2 = ax4.quiver(XLONG_M[::every_nth_lat,::every_nth_lon], \\\n",
    "                        XLAT_M[::every_nth_lat,::every_nth_lon], \\\n",
    "                        uu850_mean_MJJ[::every_nth_lat,::every_nth_lon], \\\n",
    "                        vv850_mean_MJJ[::every_nth_lat,::every_nth_lon], \\\n",
    "                        units='xy', scale=quiver_scale, width=quiver_shaft_width, \\\n",
    "                        color=quiver_color, headlength=quiver_head_length, \\\n",
    "                        headaxislength=quiver_head_axis_length, \\\n",
    "                        zorder=2) \n",
    "\n",
    "ax6 = mp.subplot(gs2[2,0:4], projection=cartopy.crs.PlateCarree())\n",
    "ax6.gridlines(ylocs=[0], color='0.25')\n",
    "ax6.coastlines(resolution='110m')\n",
    "ax6.set_extent([XLONG_M.min(), XLONG_M.max(), XLAT_M.min(), XLAT_M.max()], crs=cartopy.crs.PlateCarree())\n",
    "contour_plot3 = ax6.contourf(lon_gpcp, lat_gpcp, gpcp_NDJ_mean, levels=levels, cmap=cmap_precip, extend='max')\n",
    "contour_lines3 = ax6.contour(lon_gpcp, lat_gpcp, gpcp_NDJ_mean, levels=[4,8], colors=line_colors, linewidths=[1])\n",
    "ax6.text(s='(d) obs. winter solstice', x=0, y=1.02, transform=ax6.transAxes, ha='left', va='bottom', fontsize=fontsize)\n",
    "quiver_plot3 = ax6.quiver(XLONG_M[::every_nth_lat,::every_nth_lon], \\\n",
    "                        XLAT_M[::every_nth_lat,::every_nth_lon], \\\n",
    "                        uu850_mean_NDJ[::every_nth_lat,::every_nth_lon], \\\n",
    "                        vv850_mean_NDJ[::every_nth_lat,::every_nth_lon], \\\n",
    "                        units='xy', scale=quiver_scale, width=quiver_shaft_width, \\\n",
    "                        color=quiver_color, headlength=quiver_head_length, \\\n",
    "                        headaxislength=quiver_head_axis_length, \\\n",
    "                        zorder=2) \n",
    "\n",
    "# # ==================================================\n",
    "# lons,lats = numpy.meshgrid(XLONG_M[0,:],XLAT_M[:,0])\n",
    "# field = raintot_400_clim\n",
    "# xi_smooth = scipy.ndimage.zoom(lons,0.5)\n",
    "# yi_smooth = scipy.ndimage.zoom(lats,0.5)\n",
    "# field_smooth = scipy.ndimage.zoom(field,0.5)\n",
    "# # ==================================================\n",
    "\n",
    "ax3 = mp.subplot(gs2[0,4:8], projection=cartopy.crs.PlateCarree())\n",
    "ax3.gridlines(ylocs=[0], color='0.25')\n",
    "ax3.coastlines(resolution='110m', lw=1)\n",
    "ax3.set_extent([XLONG_M.min(), XLONG_M.max(), XLAT_M.min(), XLAT_M.max()], crs=cartopy.crs.PlateCarree())\n",
    "#contour_plot4 = ax3.contourf(XLONG_M, XLAT_M, raintot_400_clim, levels=levels, cmap=cmap_precip, extend='max')\n",
    "contour_plot4 = ax3.contourf(lon_gpcp-180., lat_gpcp, raintot_400_FMAASO_clim_interp, levels=levels, cmap=cmap_precip, extend='max')\n",
    "contour_lines4 = ax3.contour(lon_gpcp-180., lat_gpcp, raintot_400_FMAASO_clim_interp, levels=[4,8], colors=line_colors, linewidths=[1])\n",
    "ax3.text(s='(e) WRF equinox', x=0, y=1.02, transform=ax3.transAxes, ha='left', va='bottom', fontsize=fontsize)\n",
    "quiver_plot4 = ax3.quiver(XLONG_M[::every_nth_lat,::every_nth_lon], \\\n",
    "                        XLAT_M[::every_nth_lat,::every_nth_lon], \\\n",
    "                        u_400_FMAASO_850mb_clim[::every_nth_lat,::every_nth_lon], \\\n",
    "                        v_400_FMAASO_850mb_clim[::every_nth_lat,::every_nth_lon], \\\n",
    "                        units='xy', scale=quiver_scale, width=quiver_shaft_width, \\\n",
    "                        color=quiver_color, headlength=quiver_head_length, \\\n",
    "                        headaxislength=quiver_head_axis_length, \\\n",
    "                        zorder=2)\n",
    "# contour_lines4 = ax3.contour(xi_smooth, yi_smooth, field_smooth, \\\n",
    "#                              levels=[4], colors=['orange'], linewidths=[1])\n",
    "\n",
    "ax5 = mp.subplot(gs2[1,4:8], projection=cartopy.crs.PlateCarree())\n",
    "ax5.gridlines(ylocs=[0], color='0.25')\n",
    "ax5.coastlines(resolution='110m')\n",
    "ax5.set_extent([XLONG_M.min(), XLONG_M.max(), XLAT_M.min(), XLAT_M.max()], crs=cartopy.crs.PlateCarree())\n",
    "contour_plot5 = ax5.contourf(lon_gpcp-180., lat_gpcp, raintot_400_MJJ_clim_interp, levels=levels, cmap=cmap_precip, extend='max')\n",
    "contour_lines5 = ax5.contour(lon_gpcp-180., lat_gpcp, raintot_400_MJJ_clim_interp, levels=[4,8], colors=line_colors, linewidths=[1])\n",
    "#contour_plot5 = ax5.contourf(lon_gpcp, lat_gpcp, gpcp_MJJ_mean, levels=levels, cmap=cmap_precip, extend='max')\n",
    "#contour_lines2 = ax5.contour(lon_gpcp, lat_gpcp, gpcp_MJJ_mean, levels=[4,8], colors=['firebrick'], linewidths=[2])\n",
    "ax5.text(s='(f) WRF summer solstice', x=0, y=1.02, transform=ax5.transAxes, ha='left', va='bottom', fontsize=fontsize)\n",
    "quiver_plot5 = ax5.quiver(XLONG_M[::every_nth_lat,::every_nth_lon], \\\n",
    "                        XLAT_M[::every_nth_lat,::every_nth_lon], \\\n",
    "                        u_400_MJJ_850mb_clim[::every_nth_lat,::every_nth_lon], \\\n",
    "                        v_400_MJJ_850mb_clim[::every_nth_lat,::every_nth_lon], \\\n",
    "                        units='xy', scale=quiver_scale, width=quiver_shaft_width, \\\n",
    "                        color=quiver_color, headlength=quiver_head_length, \\\n",
    "                        headaxislength=quiver_head_axis_length, \\\n",
    "                        zorder=2)\n",
    "\n",
    "ax7 = mp.subplot(gs2[2,4:8], projection=cartopy.crs.PlateCarree())\n",
    "ax7.gridlines(ylocs=[0], color='0.25')\n",
    "ax7.coastlines(resolution='110m')\n",
    "ax7.set_extent([XLONG_M.min(), XLONG_M.max(), XLAT_M.min(), XLAT_M.max()], crs=cartopy.crs.PlateCarree())\n",
    "contour_plot7 = ax7.contourf(lon_gpcp-180., lat_gpcp, raintot_400_NDJ_clim_interp, levels=levels, cmap=cmap_precip, extend='max')\n",
    "contour_lines7 = ax7.contour(lon_gpcp-180., lat_gpcp, raintot_400_NDJ_clim_interp, levels=[4,8], colors=line_colors, linewidths=[1])\n",
    "#contour_plot6 = ax7.contourf(lon_gpcp, lat_gpcp, gpcp_NDJ_mean, levels=levels, cmap=cmap_precip, extend='max')\n",
    "#contour_lines3 = ax7.contour(lon_gpcp, lat_gpcp, gpcp_NDJ_mean, levels=[4,8], colors=['firebrick'], linewidths=[2])\n",
    "ax7.text(s='(g) WRF winter solstice', x=0, y=1.02, transform=ax7.transAxes, ha='left', va='bottom', fontsize=fontsize)\n",
    "quiver_plot7 = ax7.quiver(XLONG_M[::every_nth_lat,::every_nth_lon], \\\n",
    "                        XLAT_M[::every_nth_lat,::every_nth_lon], \\\n",
    "                        u_400_NDJ_850mb_clim[::every_nth_lat,::every_nth_lon], \\\n",
    "                        v_400_NDJ_850mb_clim[::every_nth_lat,::every_nth_lon], \\\n",
    "                        units='xy', scale=quiver_scale, width=quiver_shaft_width, \\\n",
    "                        color=quiver_color, headlength=quiver_head_length, \\\n",
    "                        headaxislength=quiver_head_axis_length, \\\n",
    "                        zorder=2)\n",
    "\n",
    "ax_pos = ax1.get_position()\n",
    "cbar_ax = fig.add_axes([ax_pos.x1-0.05,ax_pos.y0,0.03,ax_pos.height])\n",
    "cbar = fig.colorbar(land_use_map, cax=cbar_ax, drawedges=True)\n",
    "cbar.dividers.set_color('0')\n",
    "cbar.dividers.set_linewidth(1)\n",
    "cbar.set_ticks(numpy.arange(1.5,16.6,1))\n",
    "cbar.set_ticklabels(type_name)\n",
    "cbar.ax.tick_params(labelsize=fontsize, length=0)\n",
    "\n",
    "cbar_orog_ax = fig.add_axes([ax_pos.x0+0.025,ax_pos.y0+0.015,0.02,ax_pos.height*0.5])\n",
    "cbar_orog = fig.colorbar(contour_orog, cax=cbar_orog_ax)\n",
    "cbar_orog_ax.tick_params(labelsize=fontsize)#, length=0)\n",
    "cbar_orog.set_label('m', fontsize=fontsize)\n",
    "#cbar_orog.set_ticks(levels_orog)\n",
    "#cbar_orog_ax.get_children().set_linewidths([2]*7)\n",
    "cbar_orog_ax.text(s='elevation', x=0, y=1.05, ha='left', va='bottom', \\\n",
    "                  transform=cbar_orog_ax.transAxes, fontsize=fontsize)\n",
    "cbar_orog.outline.set_visible(False)\n",
    "cbar_orog_ax.tick_params(axis='y', which='both', right='off')\n",
    "cbar_orog_ax.get_children()[0].set_linewidths(3)\n",
    "cbar_orog_ax.get_children()[3].set_facecolor('None')#('None')\n",
    "\n",
    "ax_top = ax3.get_position()\n",
    "ax_bottom = ax7.get_position()\n",
    "cbar_ax = fig.add_axes([ax_top.x1+0.02,ax_bottom.y0,0.03,ax_top.y1-ax_bottom.y0])\n",
    "cbar = mp.colorbar(contour_plot1, cax=cbar_ax, orientation='vertical')\n",
    "cbar.ax.tick_params(labelsize=fontsize)\n",
    "cbar.set_label('mm day$^{\\,-1}$', fontsize=fontsize)\n",
    "cbar.add_lines(contour_lines3)\n",
    "\n",
    "gs1.update(left=ax1.get_position().x0-0.05225)\n",
    "\n",
    "quiver_key = ax2.quiverkey(quiver_plot1, X=1.0, Y=1.06, labelpos='E', label='', \\\n",
    "                                  U=quiver_key_scale, coordinates='axes')\n",
    "quiver_key = ax3.quiverkey(quiver_plot4, X=1.0, Y=1.06, labelpos='E', label='', \\\n",
    "                                  U=quiver_key_scale, coordinates='axes')\n",
    "quiver_key_text = ax2.text(s=str(quiver_key_scale)+' m s$^{\\,-1}$', x=0.94, y=1.006, \\\n",
    "                                  transform=ax2.transAxes, fontsize=fontsize, ha='right', va='bottom')\n",
    "quiver_key_text = ax3.text(s=str(quiver_key_scale)+' m s$^{\\,-1}$', x=0.94, y=1.006, \\\n",
    "                                  transform=ax3.transAxes, fontsize=fontsize, ha='right', va='bottom')\n",
    "\n",
    "mp.savefig('figures/figure1_land_use_precipitation_winds.png', dpi=300, bbox_inches='tight', transparent=True)"
   ]
  },
  {
   "cell_type": "markdown",
   "metadata": {},
   "source": [
    "# just top 3 plots"
   ]
  },
  {
   "cell_type": "raw",
   "metadata": {
    "ExecuteTime": {
     "end_time": "2018-05-16T17:24:47.450685Z",
     "start_time": "2018-05-16T17:24:47.079322Z"
    }
   },
   "source": [
    "fontsize = 12\n",
    "\n",
    "fig = mp.figure(figsize=(7.5,10))\n",
    "\n",
    "#gs0 = matplotlib.gridspec.GridSpec()\n",
    "gs1 = matplotlib.gridspec.GridSpec(1,7)\n",
    "ax1 = mp.subplot(gs1[0:5], projection=cartopy.crs.PlateCarree())\n",
    "\n",
    "ax1.gridlines(ylocs=[0], color='0.25')\n",
    "ax1.coastlines(resolution='110m')\n",
    "ax1.set_extent([XLONG_M.min()+23., XLONG_M.max()-2, XLAT_M.min(), XLAT_M.max()], crs=cartopy.crs.PlateCarree())\n",
    "\n",
    "gs1.update(bottom=0.63)\n",
    "\n",
    "gs2 = matplotlib.gridspec.GridSpec(2,10)\n",
    "gs2.update(top=0.6)\n",
    "ax2 = mp.subplot(gs2[0,0:5], projection=cartopy.crs.PlateCarree())\n",
    "ax2.gridlines(ylocs=[0], color='0.25')\n",
    "ax2.coastlines(resolution='110m', lw=1)\n",
    "ax2.set_extent([XLONG_M.min(), XLONG_M.max(), XLAT_M.min(), XLAT_M.max()], crs=cartopy.crs.PlateCarree())\n",
    "\n",
    "ax3 = mp.subplot(gs2[0,5:10], projection=cartopy.crs.PlateCarree())\n",
    "ax3.gridlines(ylocs=[0], color='0.25')\n",
    "ax3.coastlines(resolution='110m', lw=1)\n",
    "ax3.set_extent([XLONG_M.min(), XLONG_M.max(), XLAT_M.min(), XLAT_M.max()], crs=cartopy.crs.PlateCarree())\n",
    "\n",
    "ax_l = ax2.get_position()\n",
    "ax_r = ax3.get_position()\n",
    "cbar_ax = fig.add_axes([ax_l.x0+0.0075,ax_l.y0-0.04,(ax_r.x1-ax_l.x0)*.99,0.015])\n",
    "cbar = mp.colorbar(contour_plot1, cax=cbar_ax, orientation='horizontal')\n",
    "cbar.ax.tick_params(labelsize=fontsize)\n",
    "cbar.set_label('mm day$^{\\,-1}$', fontsize=fontsize)\n",
    "cbar.add_lines(contour_lines3)\n",
    "\n",
    "gs1.update(left=ax1.get_position().x0-0.05225)"
   ]
  },
  {
   "cell_type": "raw",
   "metadata": {
    "ExecuteTime": {
     "end_time": "2018-05-16T17:34:08.791349Z",
     "start_time": "2018-05-16T17:34:08.549775Z"
    }
   },
   "source": [
    "fig = mp.figure(figsize=(6.5,6))\n",
    "\n",
    "gs = matplotlib.gridspec.GridSpec(2,4,\\\n",
    "                                 width_ratios = [1,1,1,1], \n",
    "                                 height_ratios = [2,1])\n",
    "ax1 = mp.subplot(gs[0,0:3], projection=cartopy.crs.PlateCarree())\n",
    "ax2 = mp.subplot(gs[1,0:2], projection=cartopy.crs.PlateCarree())\n",
    "ax3 = mp.subplot(gs[1,2:4], projection=cartopy.crs.PlateCarree())\n",
    "\n",
    "ax1.gridlines(ylocs=[0], color='0.25')\n",
    "ax1.coastlines(resolution='110m')\n",
    "ax1.set_extent([XLONG_M.min()+23., XLONG_M.max()-2, XLAT_M.min(), XLAT_M.max()], crs=cartopy.crs.PlateCarree())\n",
    "\n",
    "ax2.gridlines(ylocs=[0], color='0.25')\n",
    "ax2.coastlines(resolution='110m', lw=1)\n",
    "ax2.set_extent([XLONG_M.min(), XLONG_M.max(), XLAT_M.min(), XLAT_M.max()], crs=cartopy.crs.PlateCarree())\n",
    "\n",
    "ax3.gridlines(ylocs=[0], color='0.25')\n",
    "ax3.coastlines(resolution='110m', lw=1)\n",
    "ax3.set_extent([XLONG_M.min(), XLONG_M.max(), XLAT_M.min(), XLAT_M.max()], crs=cartopy.crs.PlateCarree())\n",
    "\n",
    "fig.tight_layout()"
   ]
  },
  {
   "cell_type": "code",
   "execution_count": null,
   "metadata": {
    "ExecuteTime": {
     "start_time": "2018-08-15T23:25:05.013Z"
    }
   },
   "outputs": [],
   "source": [
    "fontsize = 12\n",
    "\n",
    "fig = mp.figure(figsize=(8.5,6.75))\n",
    "\n",
    "gs = matplotlib.gridspec.GridSpec(2,8,\\\n",
    "                                 width_ratios = [1]*8, \n",
    "                                 height_ratios = [1.75,1])\n",
    "ax1 = mp.subplot(gs[0,0:5], projection=cartopy.crs.PlateCarree())\n",
    "ax2 = mp.subplot(gs[1,0:4], projection=cartopy.crs.PlateCarree())\n",
    "ax3 = mp.subplot(gs[1,4:8], projection=cartopy.crs.PlateCarree())\n",
    "\n",
    "levels = numpy.arange(-20,21,5)\n",
    "ax1.gridlines(ylocs=[0], color='0.25')\n",
    "ax1.coastlines(resolution='110m')\n",
    "ax1.set_extent([XLONG_M.min()+23., XLONG_M.max()-2, XLAT_M.min(), XLAT_M.max()], crs=cartopy.crs.PlateCarree())\n",
    "\n",
    "land_use_map = ax1.pcolormesh(XLONG_M,XLAT_M,lu_index,cmap=categorical_cmap,norm=norm)\n",
    "levels_orog=numpy.arange(1500,4501,500) # max is about 4800\n",
    "contour_orog = ax1.contour(XLONG_M,XLAT_M,HGT_M,\\\n",
    "                           levels=levels_orog,\\\n",
    "                           cmap=cmap_orog,linewidths=1,extend='both')#,alpha=0.75)\n",
    "\n",
    "bbox_ax = ax1.get_position()\n",
    "\n",
    "ax1.text(s='(a) land use categories and elevation', x=0, y=1.02, \\\n",
    "         fontsize=fontsize, ha='left', va='bottom', transform=ax1.transAxes)\n",
    "\n",
    "every_nth_lat=22\n",
    "every_nth_lon=22\n",
    "quiver_scale = 0.75 # 0.05 for 850-600, 0.1 for below 850\n",
    "quiver_shaft_width = 1.#.75\n",
    "quiver_key_scale = 5\n",
    "quiver_color = 'firebrick'\n",
    "quiver_head_length = 3\n",
    "quiver_head_axis_length = quiver_head_length\n",
    "\n",
    "line_colors = ['aquamarine','aqua']\n",
    "levels=numpy.arange(0,11,1)\n",
    "ax2.gridlines(ylocs=[0], color='0.25')\n",
    "ax2.coastlines(resolution='110m', lw=1)\n",
    "ax2.set_extent([XLONG_M.min(), XLONG_M.max(), XLAT_M.min(), XLAT_M.max()], crs=cartopy.crs.PlateCarree())\n",
    "contour_plot1 = ax2.contourf(lon_gpcp, lat_gpcp, gpcp_FMAASO_mean, levels=levels, cmap=cmap_precip, extend='max')\n",
    "contour_lines1 = ax2.contour(lon_gpcp, lat_gpcp, gpcp_FMAASO_mean, levels=[4,8], colors=line_colors, linewidths=[1])\n",
    "ax2.text(s='(b) obs. precip. and 850 hPa wind', x=0, y=1.02, transform=ax2.transAxes, ha='left', va='bottom', fontsize=fontsize)\n",
    "quiver_plot1 = ax2.quiver(XLONG_M[::every_nth_lat,::every_nth_lon], \\\n",
    "                        XLAT_M[::every_nth_lat,::every_nth_lon], \\\n",
    "                        uu850_mean_FMAASO[::every_nth_lat,::every_nth_lon], \\\n",
    "                        vv850_mean_FMAASO[::every_nth_lat,::every_nth_lon], \\\n",
    "                        units='xy', scale=quiver_scale, width=quiver_shaft_width, \\\n",
    "                        color=quiver_color, headlength=quiver_head_length, \\\n",
    "                        headaxislength=quiver_head_axis_length, \\\n",
    "                        zorder=3)    \n",
    "\n",
    "ax3.gridlines(ylocs=[0], color='0.25')\n",
    "ax3.coastlines(resolution='110m', lw=1)\n",
    "ax3.set_extent([XLONG_M.min(), XLONG_M.max(), XLAT_M.min(), XLAT_M.max()], crs=cartopy.crs.PlateCarree())\n",
    "#contour_plot4 = ax3.contourf(XLONG_M, XLAT_M, raintot_400_clim, levels=levels, cmap=cmap_precip, extend='max')\n",
    "contour_plot4 = ax3.contourf(lon_gpcp-180., lat_gpcp, raintot_400_FMAASO_clim_interp, levels=levels, cmap=cmap_precip, extend='max')\n",
    "contour_lines4 = ax3.contour(lon_gpcp-180., lat_gpcp, raintot_400_FMAASO_clim_interp, levels=[4,8], colors=line_colors, linewidths=[1])\n",
    "ax3.text(s='(c) WRF precip. and 850 hPa wind', x=0, y=1.02, transform=ax3.transAxes, ha='left', va='bottom', fontsize=fontsize)\n",
    "quiver_plot4 = ax3.quiver(XLONG_M[::every_nth_lat,::every_nth_lon], \\\n",
    "                        XLAT_M[::every_nth_lat,::every_nth_lon], \\\n",
    "                        u_400_FMAASO_850mb_clim[::every_nth_lat,::every_nth_lon], \\\n",
    "                        v_400_FMAASO_850mb_clim[::every_nth_lat,::every_nth_lon], \\\n",
    "                        units='xy', scale=quiver_scale, width=quiver_shaft_width, \\\n",
    "                        color=quiver_color, headlength=quiver_head_length, \\\n",
    "                        headaxislength=quiver_head_axis_length, \\\n",
    "                        zorder=3)\n",
    "\n",
    "fig.tight_layout()#h_pad=-5)\n",
    "\n",
    "fraction = 0.96\n",
    "ax_pos = ax1.get_position()\n",
    "cbar_ax = fig.add_axes([ax_pos.x1+0.02,ax_pos.y0+(1-fraction)/2*ax_pos.height,0.0325,ax_pos.height*fraction])\n",
    "cbar = fig.colorbar(land_use_map, cax=cbar_ax, drawedges=True)\n",
    "cbar.dividers.set_color('0')\n",
    "cbar.dividers.set_linewidth(1)\n",
    "cbar.set_ticks(type_numbers)\n",
    "cbar.set_ticklabels(type_name)\n",
    "cbar.ax.tick_params(labelsize=fontsize, length=0)\n",
    "\n",
    "cbar_orog_ax = fig.add_axes([ax_pos.x0+0.057,ax_pos.y0+0.08,0.04,ax_pos.height*0.4])\n",
    "cbar_orog = fig.colorbar(contour_orog, cax=cbar_orog_ax)\n",
    "cbar_orog_ax.tick_params(labelsize=fontsize)#, length=0)\n",
    "cbar_orog.set_label('m', fontsize=fontsize)\n",
    "cbar_orog_ax.text(s='elevation', x=0, y=1.05, ha='left', va='bottom', \\\n",
    "                  transform=cbar_orog_ax.transAxes, fontsize=fontsize)\n",
    "cbar_orog.outline.set_visible(False)\n",
    "cbar_orog_ax.tick_params(axis='y', which='both', right='off')\n",
    "cbar_orog_ax.get_children()[0].set_linewidths(3)\n",
    "cbar_orog_ax.get_children()[3].set_facecolor('None')#('None')\n",
    "\n",
    "ax_l = ax2.get_position()\n",
    "ax_r = ax3.get_position()\n",
    "cbar_ax = fig.add_axes([ax_l.x0,ax_l.y0-0.05,(ax_r.x1-ax_l.x0),0.03])\n",
    "cbar = mp.colorbar(contour_plot1, cax=cbar_ax, orientation='horizontal')\n",
    "cbar.ax.tick_params(labelsize=fontsize)\n",
    "cbar.set_label('mm day$^{\\,-1}$', fontsize=fontsize)\n",
    "cbar.add_lines(contour_lines3)\n",
    "\n",
    "quiver_key = ax2.quiverkey(quiver_plot1, X=1.0, Y=1.06, labelpos='E', label='', \\\n",
    "                                  U=quiver_key_scale, coordinates='axes')\n",
    "quiver_key = ax3.quiverkey(quiver_plot4, X=1.0, Y=1.06, labelpos='E', label='', \\\n",
    "                                  U=quiver_key_scale, coordinates='axes')\n",
    "quiver_key_text = ax2.text(s=str(quiver_key_scale)+' m s$^{\\,-1}$', x=0.94, y=1.006, \\\n",
    "                                  transform=ax2.transAxes, fontsize=fontsize, ha='right', va='bottom')\n",
    "quiver_key_text = ax3.text(s=str(quiver_key_scale)+' m s$^{\\,-1}$', x=0.94, y=1.006, \\\n",
    "                                  transform=ax3.transAxes, fontsize=fontsize, ha='right', va='bottom')\n",
    "\n",
    "mp.savefig('figures/manuscript_figure1_land_use_precipitation_winds.png', dpi=300, bbox_inches='tight', transparent=True)"
   ]
  }
 ],
 "metadata": {
  "kernelspec": {
   "display_name": "Python 3",
   "language": "python",
   "name": "python3"
  },
  "language_info": {
   "codemirror_mode": {
    "name": "ipython",
    "version": 3
   },
   "file_extension": ".py",
   "mimetype": "text/x-python",
   "name": "python",
   "nbconvert_exporter": "python",
   "pygments_lexer": "ipython3",
   "version": "3.6.5"
  },
  "varInspector": {
   "cols": {
    "lenName": 16,
    "lenType": 16,
    "lenVar": 40
   },
   "kernels_config": {
    "python": {
     "delete_cmd_postfix": "",
     "delete_cmd_prefix": "del ",
     "library": "var_list.py",
     "varRefreshCmd": "print(var_dic_list())"
    },
    "r": {
     "delete_cmd_postfix": ") ",
     "delete_cmd_prefix": "rm(",
     "library": "var_list.r",
     "varRefreshCmd": "cat(var_dic_list()) "
    }
   },
   "types_to_exclude": [
    "module",
    "function",
    "builtin_function_or_method",
    "instance",
    "_Feature"
   ],
   "window_display": false
  }
 },
 "nbformat": 4,
 "nbformat_minor": 2
}
