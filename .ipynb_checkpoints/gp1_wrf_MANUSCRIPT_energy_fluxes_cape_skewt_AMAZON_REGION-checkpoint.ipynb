{
 "cells": [
  {
   "cell_type": "markdown",
   "metadata": {},
   "source": [
    "# import stuff"
   ]
  },
  {
   "cell_type": "code",
   "execution_count": 2,
   "metadata": {
    "ExecuteTime": {
     "end_time": "2018-06-29T23:42:47.271953Z",
     "start_time": "2018-06-29T23:42:43.880994Z"
    }
   },
   "outputs": [],
   "source": [
    "import numpy\n",
    "import xarray\n",
    "import matplotlib\n",
    "import matplotlib.pyplot as mp\n",
    "import datetime\n",
    "import glob\n",
    "import netCDF4\n",
    "import pandas\n",
    "import wrf\n",
    "import string\n",
    "import seaborn\n",
    "import matplotlib.colors\n",
    "import cmocean\n",
    "import matplotlib.cm\n",
    "\n",
    "import metpy\n",
    "import metpy.plots\n",
    "import metpy.calc\n",
    "import metpy.units\n",
    "\n",
    "import cartopy\n",
    "\n",
    "DEGREE_SIGN = u'\\u00B0'\n",
    "mp.rcParams.update({'mathtext.default': 'regular'})\n",
    "\n",
    "% matplotlib inline"
   ]
  },
  {
   "cell_type": "markdown",
   "metadata": {},
   "source": [
    "# set up wet and dry regions"
   ]
  },
  {
   "cell_type": "code",
   "execution_count": 3,
   "metadata": {
    "ExecuteTime": {
     "end_time": "2018-06-29T23:43:00.967867Z",
     "start_time": "2018-06-29T23:43:00.958378Z"
    }
   },
   "outputs": [],
   "source": [
    "dry_lon_lo, dry_lon_hi, dry_lat_lo, dry_lat_hi = -60,-50,-10,10\n",
    "wet_lon_lo, wet_lon_hi, wet_lat_lo, wet_lat_hi = -80,-75,-10,10\n",
    "\n",
    "dry_lon_lo_degE = 360+dry_lon_lo\n",
    "dry_lon_hi_degE = 360+dry_lon_hi\n",
    "\n",
    "wet_lon_lo_degE = 360+wet_lon_lo\n",
    "wet_lon_hi_degE = 360+wet_lon_hi"
   ]
  },
  {
   "cell_type": "code",
   "execution_count": 4,
   "metadata": {
    "ExecuteTime": {
     "end_time": "2018-07-01T05:54:53.039819Z",
     "start_time": "2018-07-01T05:54:53.035730Z"
    }
   },
   "outputs": [],
   "source": [
    "# lon_lo = dry_lon_lo\n",
    "# lon_hi = dry_lon_hi\n",
    "# lat_lo = dry_lat_lo\n",
    "# lat_hi = dry_lat_hi\n",
    "\n",
    "lon_lo = wet_lon_lo\n",
    "lon_hi = wet_lon_hi\n",
    "lat_lo = wet_lat_lo\n",
    "lat_hi = wet_lat_hi"
   ]
  },
  {
   "cell_type": "markdown",
   "metadata": {},
   "source": [
    "# open control data"
   ]
  },
  {
   "cell_type": "code",
   "execution_count": 5,
   "metadata": {
    "ExecuteTime": {
     "end_time": "2018-06-29T23:43:02.923012Z",
     "start_time": "2018-06-29T23:43:02.627732Z"
    }
   },
   "outputs": [],
   "source": [
    "root_dir = '/beegfs/DATA/pritchard/blangenb/WRF_ARCHIVE/CHEYENNE/FMAASO/400/ens_mean_wrfout_files'\n",
    "file_list = sorted(glob.glob(root_dir+'/'+'wrfout*.nc'))\n",
    "ds_list = [netCDF4.Dataset(file) for file in file_list]"
   ]
  },
  {
   "cell_type": "raw",
   "metadata": {
    "ExecuteTime": {
     "end_time": "2018-06-27T20:25:50.798686Z",
     "start_time": "2018-06-27T20:16:43.318449Z"
    }
   },
   "source": [
    "td_400 = wrf.getvar(ds_list, 'td', units='K', timeidx=wrf.ALL_TIMES).values\n",
    "numpy.save('DATA_td_400.npy', td_400)\n",
    "\n",
    "cape3d_400 = wrf.getvar(ds_list, 'cape_3d', timeidx=wrf.ALL_TIMES).values\n",
    "numpy.save('DATA_cape3d_400.npy', cape3d_400)\n",
    "\n",
    "cape2d_400 = wrf.getvar(ds_list, 'cape_2d', timeidx=wrf.ALL_TIMES).values\n",
    "numpy.save('DATA_cape2d_400.npy', cape2d_400)"
   ]
  },
  {
   "cell_type": "code",
   "execution_count": 6,
   "metadata": {
    "ExecuteTime": {
     "end_time": "2018-06-29T23:43:12.911049Z",
     "start_time": "2018-06-29T23:43:03.566152Z"
    }
   },
   "outputs": [],
   "source": [
    "cont_mfds = xarray.open_mfdataset(root_dir + '/' + 'wrfout*.nc')"
   ]
  },
  {
   "cell_type": "code",
   "execution_count": 7,
   "metadata": {
    "ExecuteTime": {
     "end_time": "2018-06-29T23:47:44.776196Z",
     "start_time": "2018-06-29T23:43:12.919618Z"
    }
   },
   "outputs": [],
   "source": [
    "ptot_400 = numpy.load('DATA_ptot_400.npy')\n",
    "geopot_400 = numpy.load('DATA_geopot_400.npy')\n",
    "#cape3d_400 = numpy.load('DATA_cape3d_400.npy')\n",
    "#cape2d_400 = numpy.load('DATA_cape2d_400.npy')\n",
    "td_400 = numpy.load('DATA_td_400.npy')\n",
    "tk_400 = numpy.load('DATA_tk_400.npy')"
   ]
  },
  {
   "cell_type": "raw",
   "metadata": {
    "ExecuteTime": {
     "end_time": "2018-06-29T23:47:44.809283Z",
     "start_time": "2018-06-29T23:47:44.784593Z"
    }
   },
   "source": [
    "cldfra_400 = cont_mfds['CLDFRA']\n",
    "\n",
    "fira_400 = cont_mfds['FIRA']\n",
    "fsa_400 = cont_mfds['FSA']\n",
    "glw_400 = cont_mfds['GLW']\n",
    "swdown_400 = cont_mfds['SWDOWN']\n",
    "\n",
    "alwdnb_400 = cont_mfds['ACLWDNB']\n",
    "aswdnb_400 = cont_mfds['ACSWDNB']\n",
    "alwupb_400 = cont_mfds['ACLWUPB']\n",
    "aswupb_400 = cont_mfds['ACSWUPB']\n",
    "\n",
    "alwdnbc_400 = cont_mfds['ACLWDNBC']\n",
    "aswdnbc_400 = cont_mfds['ACSWDNBC']\n",
    "alwupbc_400 = cont_mfds['ACLWUPBC']\n",
    "aswupbc_400 = cont_mfds['ACSWUPBC']\n",
    "\n",
    "alwdnt_400 = cont_mfds['ACLWDNT']\n",
    "aswdnt_400 = cont_mfds['ACSWDNT']\n",
    "alwupt_400 = cont_mfds['ACLWUPT']\n",
    "aswupt_400 = cont_mfds['ACSWUPT']\n",
    "\n",
    "alwdntc_400 = cont_mfds['ACLWDNTC']\n",
    "aswdntc_400 = cont_mfds['ACSWDNTC']\n",
    "alwuptc_400 = cont_mfds['ACLWUPTC']\n",
    "aswuptc_400 = cont_mfds['ACSWUPTC']"
   ]
  },
  {
   "cell_type": "raw",
   "metadata": {
    "ExecuteTime": {
     "end_time": "2018-06-29T23:47:45.139322Z",
     "start_time": "2018-06-29T23:47:44.817437Z"
    }
   },
   "source": [
    "qvapor_400 = cont_mfds['QVAPOR']"
   ]
  },
  {
   "cell_type": "raw",
   "metadata": {
    "ExecuteTime": {
     "end_time": "2018-06-29T23:47:53.150529Z",
     "start_time": "2018-06-29T23:47:45.147773Z"
    }
   },
   "source": [
    "net_atm_400_sw = (aswupb_400-aswupt_400)+(aswdnt_400-aswdnb_400)\n",
    "net_atm_400_lw = (alwupb_400-alwupt_400)+(alwdnt_400-alwdnb_400)"
   ]
  },
  {
   "cell_type": "raw",
   "metadata": {
    "ExecuteTime": {
     "end_time": "2018-06-29T23:48:02.910898Z",
     "start_time": "2018-06-29T23:47:55.383388Z"
    }
   },
   "source": [
    "net_atm_400_swc = (aswupbc_400-aswuptc_400)+(aswdntc_400-aswdnbc_400)\n",
    "net_atm_400_lwc = (alwupbc_400-alwuptc_400)+(alwdntc_400-alwdnbc_400)"
   ]
  },
  {
   "cell_type": "code",
   "execution_count": 8,
   "metadata": {
    "ExecuteTime": {
     "end_time": "2018-07-01T05:54:34.168830Z",
     "start_time": "2018-07-01T05:54:34.152161Z"
    }
   },
   "outputs": [],
   "source": [
    "hgt = cont_mfds['HGT'].sel(Time=0).values"
   ]
  },
  {
   "cell_type": "code",
   "execution_count": 9,
   "metadata": {
    "ExecuteTime": {
     "end_time": "2018-06-29T23:48:04.451249Z",
     "start_time": "2018-06-29T23:48:02.919472Z"
    }
   },
   "outputs": [],
   "source": [
    "time = cont_mfds['Times'].values\n",
    "xlat = cont_mfds['XLAT'].values[0,:,:]\n",
    "xlong = cont_mfds['XLONG'].values[0,:,:]\n",
    "landmask = cont_mfds['LANDMASK'].values[0,:,:]\n",
    "landmask_midpoints = landmask[1:,1:]"
   ]
  },
  {
   "cell_type": "code",
   "execution_count": 10,
   "metadata": {
    "ExecuteTime": {
     "end_time": "2018-06-29T23:48:05.591448Z",
     "start_time": "2018-06-29T23:48:05.584363Z"
    }
   },
   "outputs": [],
   "source": [
    "landmask_indices = numpy.copy(landmask)\n",
    "landmask_indices[landmask==1]=1\n",
    "landmask_indices[landmask!=1]=0\n",
    "landmask_indices = numpy.array(landmask_indices, dtype=bool)"
   ]
  },
  {
   "cell_type": "code",
   "execution_count": 11,
   "metadata": {
    "ExecuteTime": {
     "end_time": "2018-07-01T05:55:30.185146Z",
     "start_time": "2018-07-01T05:55:30.175684Z"
    }
   },
   "outputs": [],
   "source": [
    "lon_indices = (xlong>=lon_lo)&(xlong<=lon_hi)\n",
    "lat_indices = (xlat>=lat_lo)&(xlat<=lat_hi)\n",
    "latlon_indices = (lon_indices)&(lat_indices)&(landmask_indices)\n",
    "latlon_indices_high_andes = (lon_indices)&(lat_indices)&(landmask_indices)&(hgt>1500.)"
   ]
  },
  {
   "cell_type": "code",
   "execution_count": 12,
   "metadata": {
    "ExecuteTime": {
     "end_time": "2018-07-01T05:55:35.824667Z",
     "start_time": "2018-07-01T05:55:35.512713Z"
    }
   },
   "outputs": [
    {
     "data": {
      "text/plain": [
       "<matplotlib.colorbar.Colorbar at 0x2b9bdc192e48>"
      ]
     },
     "execution_count": 12,
     "metadata": {},
     "output_type": "execute_result"
    },
    {
     "data": {
      "image/png": "[encoded data removed]",
      "text/plain": [
       "<Figure size 432x288 with 2 Axes>"
      ]
     },
     "metadata": {},
     "output_type": "display_data"
    }
   ],
   "source": [
    "mp.contourf(latlon_indices_high_andes);mp.colorbar()"
   ]
  },
  {
   "cell_type": "markdown",
   "metadata": {},
   "source": [
    "# open phys data"
   ]
  },
  {
   "cell_type": "code",
   "execution_count": 13,
   "metadata": {
    "ExecuteTime": {
     "end_time": "2018-07-01T05:55:49.044483Z",
     "start_time": "2018-07-01T05:55:48.914452Z"
    }
   },
   "outputs": [],
   "source": [
    "root_dir = '/beegfs/DATA/pritchard/blangenb/WRF_ARCHIVE/CHEYENNE/FMAASO/1000/ens_mean_wrfout_files'\n",
    "file_list = sorted(glob.glob(root_dir+'/'+'wrfout*.nc'))\n",
    "ds_list = [netCDF4.Dataset(file) for file in file_list]"
   ]
  },
  {
   "cell_type": "raw",
   "metadata": {
    "ExecuteTime": {
     "end_time": "2018-06-27T20:36:34.057718Z",
     "start_time": "2018-06-27T20:25:57.865123Z"
    }
   },
   "source": [
    "td_1000 = wrf.getvar(ds_list, 'td', units='K', timeidx=wrf.ALL_TIMES).values\n",
    "numpy.save('DATA_td_1000.npy', td_1000)\n",
    "\n",
    "cape3d_1000 = wrf.getvar(ds_list, 'cape_3d', timeidx=wrf.ALL_TIMES).values\n",
    "numpy.save('DATA_cape3d_1000.npy', cape3d_1000)\n",
    "\n",
    "cape2d_1000 = wrf.getvar(ds_list, 'cape_2d', timeidx=wrf.ALL_TIMES).values\n",
    "numpy.save('DATA_cape2d_1000.npy', cape2d_1000)"
   ]
  },
  {
   "cell_type": "code",
   "execution_count": 14,
   "metadata": {
    "ExecuteTime": {
     "end_time": "2018-07-01T05:57:09.013494Z",
     "start_time": "2018-07-01T05:57:04.784340Z"
    }
   },
   "outputs": [],
   "source": [
    "phys_mfds = xarray.open_mfdataset(root_dir + '/' + 'wrfout*.nc')"
   ]
  },
  {
   "cell_type": "code",
   "execution_count": 15,
   "metadata": {
    "ExecuteTime": {
     "end_time": "2018-07-01T05:59:22.334295Z",
     "start_time": "2018-07-01T05:57:10.555265Z"
    }
   },
   "outputs": [],
   "source": [
    "ptot_1000 = numpy.load('DATA_ptot_1000.npy')\n",
    "#cape3d_1000 = numpy.load('DATA_cape3d_1000.npy')\n",
    "#cape2d_1000 = numpy.load('DATA_cape2d_1000.npy')\n",
    "td_1000 = numpy.load('DATA_td_1000.npy')"
   ]
  },
  {
   "cell_type": "code",
   "execution_count": 16,
   "metadata": {
    "ExecuteTime": {
     "end_time": "2018-07-01T05:59:46.568470Z",
     "start_time": "2018-07-01T05:59:24.243254Z"
    }
   },
   "outputs": [],
   "source": [
    "tk_1000 = numpy.load('DATA_tk_1000.npy')"
   ]
  },
  {
   "cell_type": "raw",
   "metadata": {
    "ExecuteTime": {
     "end_time": "2018-07-01T05:59:48.565539Z",
     "start_time": "2018-07-01T05:59:48.541320Z"
    }
   },
   "source": [
    "cldfra_1000 = phys_mfds['CLDFRA']\n",
    "\n",
    "fira_1000 = phys_mfds['FIRA']\n",
    "fsa_1000 = phys_mfds['FSA']\n",
    "glw_1000 = phys_mfds['GLW']\n",
    "swdown_1000 = phys_mfds['SWDOWN']\n",
    "\n",
    "alwdnb_1000 = phys_mfds['ACLWDNB']\n",
    "aswdnb_1000 = phys_mfds['ACSWDNB']\n",
    "alwupb_1000 = phys_mfds['ACLWUPB']\n",
    "aswupb_1000 = phys_mfds['ACSWUPB']\n",
    "\n",
    "alwdnbc_1000 = phys_mfds['ACLWDNBC']\n",
    "aswdnbc_1000 = phys_mfds['ACSWDNBC']\n",
    "alwupbc_1000 = phys_mfds['ACLWUPBC']\n",
    "aswupbc_1000 = phys_mfds['ACSWUPBC']\n",
    "\n",
    "alwdnt_1000 = phys_mfds['ACLWDNT']\n",
    "aswdnt_1000 = phys_mfds['ACSWDNT']\n",
    "alwupt_1000 = phys_mfds['ACLWUPT']\n",
    "aswupt_1000 = phys_mfds['ACSWUPT']\n",
    "\n",
    "alwdntc_1000 = phys_mfds['ACLWDNTC']\n",
    "aswdntc_1000 = phys_mfds['ACSWDNTC']\n",
    "alwuptc_1000 = phys_mfds['ACLWUPTC']\n",
    "aswuptc_1000 = phys_mfds['ACSWUPTC']"
   ]
  },
  {
   "cell_type": "raw",
   "metadata": {
    "ExecuteTime": {
     "end_time": "2018-07-01T05:59:50.581848Z",
     "start_time": "2018-07-01T05:59:50.575783Z"
    }
   },
   "source": [
    "qvapor_1000 = phys_mfds['QVAPOR']"
   ]
  },
  {
   "cell_type": "markdown",
   "metadata": {},
   "source": [
    "## calculate from perspective of atmosphere"
   ]
  },
  {
   "cell_type": "raw",
   "metadata": {
    "ExecuteTime": {
     "end_time": "2018-06-27T02:03:21.743237Z",
     "start_time": "2018-06-27T02:03:03.566249Z"
    }
   },
   "source": [
    "net_atm_1000_sw = (aswupb_1000-aswupt_1000)+(aswdnt_1000-aswdnb_1000)\n",
    "net_atm_1000_lw = (alwupb_1000-alwupt_1000)+(alwdnt_1000-alwdnb_1000)"
   ]
  },
  {
   "cell_type": "raw",
   "metadata": {
    "ExecuteTime": {
     "end_time": "2018-06-27T02:03:30.849201Z",
     "start_time": "2018-06-27T02:03:21.748664Z"
    }
   },
   "source": [
    "net_atm_1000_swc = (aswupbc_1000-aswuptc_1000)+(aswdntc_1000-aswdnbc_1000)\n",
    "net_atm_1000_lwc = (alwupbc_1000-alwuptc_1000)+(alwdntc_1000-alwdnbc_1000)"
   ]
  },
  {
   "cell_type": "markdown",
   "metadata": {},
   "source": [
    "# calculate area mean net bottom and top diffs"
   ]
  },
  {
   "cell_type": "raw",
   "metadata": {
    "ExecuteTime": {
     "end_time": "2018-06-27T02:07:54.965118Z",
     "start_time": "2018-06-27T02:03:37.800079Z"
    }
   },
   "source": [
    "net_atm_diffs_1000_sw = numpy.zeros((net_atm_1000_sw.shape))*numpy.nan\n",
    "net_atm_diffs_1000_sw[:-1,:,:] = numpy.diff(net_atm_1000_sw, axis=0)\n",
    "\n",
    "net_atm_diffs_1000_lw = numpy.zeros((net_atm_1000_lw.shape))*numpy.nan\n",
    "net_atm_diffs_1000_lw[:-1,:,:] = numpy.diff(net_atm_1000_lw, axis=0)\n",
    "\n",
    "net_atm_diffs_400_sw = numpy.zeros((net_atm_400_sw.shape))*numpy.nan\n",
    "net_atm_diffs_400_sw[:-1,:,:] = numpy.diff(net_atm_400_sw, axis=0)\n",
    "\n",
    "net_atm_diffs_400_lw = numpy.zeros((net_atm_400_lw.shape))*numpy.nan\n",
    "net_atm_diffs_400_lw[:-1,:,:] = numpy.diff(net_atm_400_lw, axis=0)"
   ]
  },
  {
   "cell_type": "raw",
   "metadata": {
    "ExecuteTime": {
     "end_time": "2018-06-27T02:09:42.990640Z",
     "start_time": "2018-06-27T02:07:56.717945Z"
    }
   },
   "source": [
    "net_atm_diffs_1000_swc = numpy.zeros((net_atm_1000_swc.shape))*numpy.nan\n",
    "net_atm_diffs_1000_swc[:-1,:,:] = numpy.diff(net_atm_1000_swc, axis=0)\n",
    "\n",
    "net_atm_diffs_1000_lwc = numpy.zeros((net_atm_1000_lwc.shape))*numpy.nan\n",
    "net_atm_diffs_1000_lwc[:-1,:,:] = numpy.diff(net_atm_1000_lwc, axis=0)\n",
    "\n",
    "net_atm_diffs_400_swc = numpy.zeros((net_atm_400_swc.shape))*numpy.nan\n",
    "net_atm_diffs_400_swc[:-1,:,:] = numpy.diff(net_atm_400_swc, axis=0)\n",
    "\n",
    "net_atm_diffs_400_lwc = numpy.zeros((net_atm_400_lwc.shape))*numpy.nan\n",
    "net_atm_diffs_400_lwc[:-1,:,:] = numpy.diff(net_atm_400_lwc, axis=0)"
   ]
  },
  {
   "cell_type": "markdown",
   "metadata": {},
   "source": [
    "# pressure averages"
   ]
  },
  {
   "cell_type": "code",
   "execution_count": 17,
   "metadata": {
    "ExecuteTime": {
     "end_time": "2018-07-01T05:59:52.602978Z",
     "start_time": "2018-07-01T05:59:52.587661Z"
    }
   },
   "outputs": [],
   "source": [
    "#ptot_latlon_subset_timemean = numpy.mean(ptot_400[:,:,latlon_indices], axis=2).mean(axis=0)\n",
    "ptot_latlon_subset_timemean = numpy.mean(ptot_400[:,:,latlon_indices_high_andes], axis=2).mean(axis=0)"
   ]
  },
  {
   "cell_type": "markdown",
   "metadata": {},
   "source": [
    "# td diffs"
   ]
  },
  {
   "cell_type": "raw",
   "metadata": {
    "ExecuteTime": {
     "end_time": "2018-06-29T06:14:29.036936Z",
     "start_time": "2018-06-29T06:12:25.002153Z"
    }
   },
   "source": [
    "td_400_latlon_subset = td_400[:,:,latlon_indices]\n",
    "td_1000_latlon_subset = td_1000[:,:,latlon_indices]\n",
    "\n",
    "td_400_latlon_mean = numpy.nanmean(td_400_latlon_subset, axis=2)\n",
    "td_1000_latlon_mean = numpy.nanmean(td_1000_latlon_subset, axis=2)"
   ]
  },
  {
   "cell_type": "code",
   "execution_count": 18,
   "metadata": {
    "ExecuteTime": {
     "end_time": "2018-07-01T05:59:54.646483Z",
     "start_time": "2018-07-01T05:59:54.606321Z"
    }
   },
   "outputs": [],
   "source": [
    "td_400_latlon_subset = td_400[:,:,latlon_indices_high_andes]\n",
    "td_1000_latlon_subset = td_1000[:,:,latlon_indices_high_andes]\n",
    "\n",
    "td_400_latlon_mean = numpy.nanmean(td_400_latlon_subset, axis=2)\n",
    "td_1000_latlon_mean = numpy.nanmean(td_1000_latlon_subset, axis=2)"
   ]
  },
  {
   "cell_type": "code",
   "execution_count": 19,
   "metadata": {
    "ExecuteTime": {
     "end_time": "2018-07-01T06:00:47.363573Z",
     "start_time": "2018-07-01T06:00:47.337437Z"
    }
   },
   "outputs": [],
   "source": [
    "td_400_latlon_alltime = numpy.nanmean(td_400_latlon_subset, axis=(0,2))\n",
    "td_1000_latlon_alltime = numpy.nanmean(td_400_latlon_subset, axis=(0,2))"
   ]
  },
  {
   "cell_type": "markdown",
   "metadata": {},
   "source": [
    "# tk diffs"
   ]
  },
  {
   "cell_type": "raw",
   "metadata": {
    "ExecuteTime": {
     "end_time": "2018-06-29T06:15:57.941316Z",
     "start_time": "2018-06-29T06:14:41.695003Z"
    }
   },
   "source": [
    "tk_400_latlon_subset = tk_400[:,:,latlon_indices]\n",
    "tk_1000_latlon_subset = tk_1000[:,:,latlon_indices]\n",
    "\n",
    "tk_400_latlon_mean = numpy.nanmean(tk_400_latlon_subset, axis=2)\n",
    "tk_1000_latlon_mean = numpy.nanmean(tk_1000_latlon_subset, axis=2)"
   ]
  },
  {
   "cell_type": "code",
   "execution_count": 20,
   "metadata": {
    "ExecuteTime": {
     "end_time": "2018-07-01T06:01:03.456236Z",
     "start_time": "2018-07-01T06:01:03.415043Z"
    }
   },
   "outputs": [],
   "source": [
    "tk_400_latlon_subset = tk_400[:,:,latlon_indices_high_andes]\n",
    "tk_1000_latlon_subset = tk_1000[:,:,latlon_indices_high_andes]\n",
    "\n",
    "tk_400_latlon_mean = numpy.nanmean(tk_400_latlon_subset, axis=2)\n",
    "tk_1000_latlon_mean = numpy.nanmean(tk_1000_latlon_subset, axis=2)"
   ]
  },
  {
   "cell_type": "code",
   "execution_count": 21,
   "metadata": {
    "ExecuteTime": {
     "end_time": "2018-07-01T06:01:10.038630Z",
     "start_time": "2018-07-01T06:01:10.015002Z"
    }
   },
   "outputs": [],
   "source": [
    "tk_400_latlon_alltime = numpy.nanmean(tk_400_latlon_subset, axis=(0,2))\n",
    "tk_1000_latlon_alltime = numpy.nanmean(tk_1000_latlon_subset, axis=(0,2))"
   ]
  },
  {
   "cell_type": "markdown",
   "metadata": {},
   "source": [
    "# qvapor diffs"
   ]
  },
  {
   "cell_type": "raw",
   "metadata": {
    "ExecuteTime": {
     "end_time": "2018-06-29T06:19:58.070992Z",
     "start_time": "2018-06-29T06:16:10.604997Z"
    }
   },
   "source": [
    "qvapor_400_latlon_subset = qvapor_400.values[:,:,latlon_indices]\n",
    "qvapor_1000_latlon_subset = qvapor_1000.values[:,:,latlon_indices]\n",
    "\n",
    "qvapor_400_latlon_mean = numpy.nanmean(qvapor_400_latlon_subset, axis=(2))\n",
    "qvapor_1000_latlon_mean = numpy.nanmean(qvapor_1000_latlon_subset, axis=(2))\n",
    "\n",
    "qvapor_diffs_latlon_mean = qvapor_1000_latlon_mean-qvapor_400_latlon_mean"
   ]
  },
  {
   "cell_type": "raw",
   "metadata": {
    "ExecuteTime": {
     "end_time": "2018-07-01T06:01:54.808524Z",
     "start_time": "2018-07-01T06:01:24.443012Z"
    }
   },
   "source": [
    "qvapor_400_latlon_subset = qvapor_400.values[:,:,latlon_indices_high_andes]\n",
    "qvapor_1000_latlon_subset = qvapor_1000.values[:,:,latlon_indices_high_andes]\n",
    "\n",
    "qvapor_400_latlon_mean = numpy.nanmean(qvapor_400_latlon_subset, axis=(2))\n",
    "qvapor_1000_latlon_mean = numpy.nanmean(qvapor_1000_latlon_subset, axis=(2))\n",
    "\n",
    "qvapor_diffs_latlon_mean = qvapor_1000_latlon_mean-qvapor_400_latlon_mean"
   ]
  },
  {
   "cell_type": "markdown",
   "metadata": {},
   "source": [
    "# cape diffs"
   ]
  },
  {
   "cell_type": "raw",
   "metadata": {
    "ExecuteTime": {
     "end_time": "2018-07-01T06:05:18.824065Z",
     "start_time": "2018-07-01T06:05:18.743317Z"
    }
   },
   "source": [
    "cape3d_cape_400_latlon_subset = cape3d_400[0,:,:,:,:][:,:,latlon_indices_high_andes]\n",
    "cape3d_cape_1000_latlon_subset = cape3d_1000[0,:,:,:,:][:,:,latlon_indices_high_andes]\n",
    "\n",
    "cape3d_cape_diffs_latlon_mean = numpy.nanmean((cape3d_cape_1000_latlon_subset-cape3d_cape_400_latlon_subset), axis=2)"
   ]
  },
  {
   "cell_type": "raw",
   "metadata": {
    "ExecuteTime": {
     "end_time": "2018-06-28T01:51:35.833827Z",
     "start_time": "2018-06-28T01:51:35.639060Z"
    }
   },
   "source": [
    "cape2d_diffs = cape2d_1000-cape2d_400\n",
    "\n",
    "cape2d_mcape_diffs = cape2d_diffs[0,:,:,:]\n",
    "cape2d_mcin_diffs = cape2d_diffs[1,:,:,:]\n",
    "cape2d_lcl_diffs = cape2d_diffs[2,:,:,:]\n",
    "cape2d_lfc_diffs = cape2d_diffs[3,:,:,:]"
   ]
  },
  {
   "cell_type": "markdown",
   "metadata": {},
   "source": [
    "# plot skew T"
   ]
  },
  {
   "cell_type": "code",
   "execution_count": 24,
   "metadata": {
    "ExecuteTime": {
     "end_time": "2018-07-01T06:05:30.375890Z",
     "start_time": "2018-07-01T06:05:30.350092Z"
    }
   },
   "outputs": [
    {
     "data": {
      "text/plain": [
       "(<Quantity(184.75765048671235, 'joule / kilogram')>,\n",
       " <Quantity(-4.730256710574907, 'joule / kilogram')>)"
      ]
     },
     "execution_count": 24,
     "metadata": {},
     "output_type": "execute_result"
    }
   ],
   "source": [
    "metpy.calc.surface_based_cape_cin(ptot_latlon_subset_timemean/100.*metpy.units.units.hPa, \\\n",
    "                                  (tk_400_latlon_alltime[:]-273.15)*metpy.units.units.degC, \\\n",
    "                                  (td_400_latlon_alltime[:]-273.15)*metpy.units.units.degC)"
   ]
  },
  {
   "cell_type": "markdown",
   "metadata": {},
   "source": [
    "# cape calculations"
   ]
  },
  {
   "cell_type": "code",
   "execution_count": 25,
   "metadata": {
    "ExecuteTime": {
     "end_time": "2018-07-01T06:05:42.649434Z",
     "start_time": "2018-07-01T06:05:41.979556Z"
    }
   },
   "outputs": [
    {
     "name": "stdout",
     "output_type": "stream",
     "text": [
      "(<Quantity(603.7628252154021, 'joule / kilogram')>, <Quantity(0.8418014298477846, 'joule / kilogram')>)\n",
      "(<Quantity(531.9287088912644, 'joule / kilogram')>, <Quantity(1.2607577286802822, 'joule / kilogram')>)\n"
     ]
    }
   ],
   "source": [
    "ptot_lo = 100\n",
    "ptot_hi = 1013.25\n",
    "hour = 19\n",
    "\n",
    "ptot_indices = (ptot_latlon_subset_timemean/100.<=ptot_hi)&(ptot_latlon_subset_timemean/100.>=ptot_lo)\n",
    "\n",
    "cape_400 = metpy.calc.surface_based_cape_cin(ptot_latlon_subset_timemean[ptot_indices]/100.*metpy.units.units.hPa, \\\n",
    "                                  (tk_400_latlon_mean[hour,ptot_indices]-273.15)*metpy.units.units.degC, \\\n",
    "                                  (td_400_latlon_mean[hour,ptot_indices]-273.15)*metpy.units.units.degC)\n",
    "\n",
    "cape_1000 = metpy.calc.surface_based_cape_cin(ptot_latlon_subset_timemean[ptot_indices]/100.*metpy.units.units.hPa, \\\n",
    "                                  (tk_1000_latlon_mean[hour,ptot_indices]-273.15)*metpy.units.units.degC, \\\n",
    "                                  (td_1000_latlon_mean[hour,ptot_indices]-273.15)*metpy.units.units.degC)\n",
    "\n",
    "print(cape_400)\n",
    "print(cape_1000)"
   ]
  },
  {
   "cell_type": "markdown",
   "metadata": {},
   "source": [
    "3-hour afternoon mean"
   ]
  },
  {
   "cell_type": "raw",
   "metadata": {
    "ExecuteTime": {
     "end_time": "2018-06-28T22:48:05.917221Z",
     "start_time": "2018-06-28T22:48:05.471278Z"
    }
   },
   "source": [
    "ptot_lo = 300\n",
    "ptot_hi = 1013.25\n",
    "hour = 19\n",
    "\n",
    "tk_400_afternoon = numpy.nanmean(tk_400_latlon_mean[(hour-1):(hour+2),:], axis=0)\n",
    "td_400_afternoon = numpy.nanmean(td_400_latlon_mean[(hour-1):(hour+2),:], axis=0)\n",
    "\n",
    "ptot_indices = (ptot_latlon_subset_timemean/100.<=ptot_hi)&(ptot_latlon_subset_timemean/100.>=ptot_lo)\n",
    "\n",
    "cape_400 = metpy.calc.surface_based_cape_cin(ptot_latlon_subset_timemean[ptot_indices]/100.*metpy.units.units.hPa, \\\n",
    "                                  (tk_400_afternoon[ptot_indices]-273.15)*metpy.units.units.degC, \\\n",
    "                                  (td_400_afternoon[ptot_indices]-273.15)*metpy.units.units.degC)\n",
    "\n",
    "cape_1000 = metpy.calc.surface_based_cape_cin(ptot_latlon_subset_timemean[ptot_indices]/100.*metpy.units.units.hPa, \\\n",
    "                                  (tk_1000_latlon_mean[hour,ptot_indices]-273.15)*metpy.units.units.degC, \\\n",
    "                                  (td_1000_latlon_mean[hour,ptot_indices]-273.15)*metpy.units.units.degC)\n",
    "\n",
    "print(cape_400)\n",
    "print(cape_1000)"
   ]
  },
  {
   "cell_type": "raw",
   "metadata": {
    "ExecuteTime": {
     "end_time": "2018-06-28T03:25:25.377744Z",
     "start_time": "2018-06-28T03:25:23.942102Z"
    }
   },
   "source": [
    "ptot_lo = 300\n",
    "ptot_hi = 1013.25\n",
    "\n",
    "ptot_indices = (ptot_latlon_subset_timemean/100.<=ptot_hi)&(ptot_latlon_subset_timemean/100.>=ptot_lo)\n",
    "\n",
    "cape_400 = metpy.calc.surface_based_cape_cin(ptot_latlon_subset_timemean[ptot_indices]/100.*metpy.units.units.hPa, \\\n",
    "                                  (tk_400_latlon_alltime[ptot_indices]-273.15)*metpy.units.units.degC, \\\n",
    "                                  (td_400_latlon_alltime[ptot_indices]-273.15)*metpy.units.units.degC)\n",
    "\n",
    "cape_1000 = metpy.calc.surface_based_cape_cin(ptot_latlon_subset_timemean[ptot_indices]/100.*metpy.units.units.hPa, \\\n",
    "                                  (tk_1000_latlon_alltime[ptot_indices]-273.15)*metpy.units.units.degC, \\\n",
    "                                  (td_1000_latlon_alltime[ptot_indices]-273.15)*metpy.units.units.degC)\n",
    "\n",
    "print(cape_400)\n",
    "print(cape_1000)"
   ]
  },
  {
   "cell_type": "code",
   "execution_count": 26,
   "metadata": {
    "ExecuteTime": {
     "end_time": "2018-07-01T06:05:48.109921Z",
     "start_time": "2018-07-01T06:05:48.101292Z"
    }
   },
   "outputs": [],
   "source": [
    "color_list = [\\\n",
    "matplotlib.cm.tab20c(4/20), \\\n",
    "matplotlib.cm.tab20c(5.5/20), \\\n",
    "matplotlib.cm.tab20c(0/20), \\\n",
    "matplotlib.cm.tab20c(1.5/20) ]"
   ]
  },
  {
   "cell_type": "code",
   "execution_count": null,
   "metadata": {
    "ExecuteTime": {
     "end_time": "2018-06-29T06:09:30.105315Z",
     "start_time": "2018-06-29T06:09:25.552079Z"
    }
   },
   "outputs": [],
   "source": [
    "fontsize=12\n",
    "hour = 19\n",
    "\n",
    "skewt_plot = metpy.plots.SkewT()\n",
    "\n",
    "skewt_plot.plot(ptot_latlon_subset_timemean/100., tk_1000_latlon_mean[hour,:]-273.15, lw=3, label='phys. T$_{env}$', c=color_list[0])\n",
    "skewt_plot.plot(ptot_latlon_subset_timemean/100., tk_400_latlon_mean[hour,:]-273.15, lw=3, label='cont. T$_{env}$', ls='--', c=color_list[1])\n",
    "skewt_plot.plot(ptot_latlon_subset_timemean/100., td_1000_latlon_mean[hour,:]-273.15, lw=3, label='phys. T$_d$', c=color_list[2])\n",
    "skewt_plot.plot(ptot_latlon_subset_timemean/100., td_400_latlon_mean[hour,:]-273.15, lw=3, label='cont. T$_d$', ls='--', c=color_list[3])\n",
    "\n",
    "pprofile_400 = metpy.calc.parcel_profile(ptot_latlon_subset_timemean/100.*metpy.units.units.hPa, \\\n",
    "                                         (tk_400_latlon_mean[hour,:][0]-273.15)*metpy.units.units.degC, \\\n",
    "                                         (td_400_latlon_mean[hour,:][0]-273.15)*metpy.units.units.degC).to('degC')\n",
    "pprofile_1000 = metpy.calc.parcel_profile(ptot_latlon_subset_timemean/100.*metpy.units.units.hPa, \\\n",
    "                                         (tk_1000_latlon_mean[hour,:][0]-273.15)*metpy.units.units.degC, \\\n",
    "                                         (td_1000_latlon_mean[hour,:][0]-273.15)*metpy.units.units.degC).to('degC')\n",
    "\n",
    "skewt_plot.plot(ptot_latlon_subset_timemean/100., pprofile_1000, label='phys. profile', c='0.1', lw=3, ls='-')\n",
    "skewt_plot.plot(ptot_latlon_subset_timemean/100., pprofile_400, label='cont. profile', c='0.5', lw=3, ls='--')\n",
    "\n",
    "\n",
    "# fill in control and phys CAPE\n",
    "skewt_plot.shade_cape(ptot_latlon_subset_timemean/100.,\\\n",
    "                      tk_1000_latlon_mean[hour,:]-273.15,\\\n",
    "                      numpy.array(pprofile_1000),\\\n",
    "                      edgecolor='None',facecolor=matplotlib.cm.tab20c(8/20),alpha=0.666,\\\n",
    "                      label='phys. CAPE')\n",
    "\n",
    "skewt_plot.shade_cape(ptot_latlon_subset_timemean/100.,\\\n",
    "                      tk_400_latlon_mean[hour,:]-273.15,\\\n",
    "                      numpy.array(pprofile_400),\\\n",
    "                      edgecolor='None',facecolor=matplotlib.cm.tab20c(8/20),alpha=0.333,\\\n",
    "                      label='cont. CAPE')\n",
    "\n",
    "skewt_plot.ax.set_ylim(1013.25,600)\n",
    "skewt_plot.ax.set_xlim(10,30)\n",
    "\n",
    "fig = mp.gcf()\n",
    "fig.set_size_inches(4.45,4.25)\n",
    "fig.tight_layout()\n",
    "\n",
    "skewt_plot.ax.tick_params(labelsize=fontsize)\n",
    "skewt_plot.ax.set_ylabel('hPa', fontsize=fontsize)\n",
    "skewt_plot.ax.set_xlabel('$\\degree$C', fontsize=fontsize)\n",
    "\n",
    "skewt_plot.plot_dry_adiabats(color='0.5',linewidth=1,linestyle='-')\n",
    "skewt_plot.plot_moist_adiabats(color='0.5',linestyle=':')\n",
    "skewt_plot.plot_mixing_lines(color='0.5',linestyle='--',lw=1)\n",
    "\n",
    "handles, labels = skewt_plot.ax.get_legend_handles_labels()\n",
    "skewt_plot.ax.legend(handles, labels, fontsize=fontsize, scatterpoints=1, \\\n",
    "                     bbox_to_anchor=(1.03,1.0), \\\n",
    "                     bbox_transform=skewt_plot.ax.transAxes, loc='upper left', \\\n",
    "                     borderaxespad=0, labelspacing=0.25, fancybox=False, \\\n",
    "                     edgecolor='0', framealpha=0, borderpad=0.25, \\\n",
    "                     columnspacing=0.5, handletextpad=0.5, markerscale=1)\n",
    "\n",
    "skewt_plot.ax.text(s='skew-T diagram at 15:00 on day 1',\\\n",
    "                  x=0,y=1.02,\\\n",
    "                  transform=skewt_plot.ax.transAxes,\\\n",
    "                  ha='left',va='bottom', fontsize=fontsize)\n",
    "\n",
    "skewt_plot.ax.annotate(\"\",xy=(11.6,700), \\\n",
    "                       xycoords='data',\\\n",
    "                       xytext=(13.6, 700), \\\n",
    "                       textcoords='data',\\\n",
    "                       arrowprops=dict(facecolor='0.1',ec='None',width=2,headwidth=6,headlength=10))\n",
    "\n",
    "skewt_plot.ax.annotate(\"\",xy=(10.9,700), \\\n",
    "                       xycoords='data',\\\n",
    "                       xytext=(8.9, 700), \\\n",
    "                       textcoords='data',\\\n",
    "                       arrowprops=dict(facecolor='0.1',ec='None',width=2,headwidth=6,headlength=10))\n",
    "\n",
    "CAPE_CIN_text = 'CAPE$_{\\,cont}$ = '+'{:.0f}'.format(numpy.array(cape_400[0]))+' J kg$^{\\,-1}$\\n'\\\n",
    "                'CAPE$_{\\,phys}$ = '+'{:.0f}'.format(numpy.array(cape_1000[0]))+' J kg$^{\\,-1}$\\n'\\\n",
    "                'CIN$_{\\,cont}$ = '+'{:.0f}'.format(numpy.array(cape_400[1]))+' J kg$^{\\,-1}$\\n'\\\n",
    "                'CIN$_{\\,phys}$ = '+'{:.0f}'.format(numpy.array(cape_1000[1]))+' J kg$^{\\,-1}$'\n",
    "skewt_plot.ax.text(s=CAPE_CIN_text,x=1.02,y=0,ha='left',va='bottom',transform=skewt_plot.ax.transAxes,fontsize=fontsize)\n",
    "\n",
    "fig.savefig('figures/manuscript_both_cape_skewT_hour'+str(hour-4)+'_zoom_amazon_region.png', dpi=600, bbox_inches='tight', transparent=True)"
   ]
  },
  {
   "cell_type": "code",
   "execution_count": null,
   "metadata": {},
   "outputs": [],
   "source": [
    "fontsize=12\n",
    "hour = 19\n",
    "\n",
    "skewt_plot = metpy.plots.SkewT()\n",
    "\n",
    "skewt_plot.plot(ptot_latlon_subset_timemean/100., tk_1000_latlon_mean[hour,:]-273.15, lw=3, label='phys. T$_{env}$', c=color_list[0])\n",
    "skewt_plot.plot(ptot_latlon_subset_timemean/100., tk_400_latlon_mean[hour,:]-273.15, lw=3, label='cont. T$_{env}$', ls='--', c=color_list[1])\n",
    "skewt_plot.plot(ptot_latlon_subset_timemean/100., td_1000_latlon_mean[hour,:]-273.15, lw=3, label='phys. T$_d$', c=color_list[2])\n",
    "skewt_plot.plot(ptot_latlon_subset_timemean/100., td_400_latlon_mean[hour,:]-273.15, lw=3, label='cont. T$_d$', ls='--', c=color_list[3])\n",
    "\n",
    "pprofile_400 = metpy.calc.parcel_profile(ptot_latlon_subset_timemean/100.*metpy.units.units.hPa, \\\n",
    "                                         (tk_400_latlon_mean[hour,:][0]-273.15)*metpy.units.units.degC, \\\n",
    "                                         (td_400_latlon_mean[hour,:][0]-273.15)*metpy.units.units.degC).to('degC')\n",
    "pprofile_1000 = metpy.calc.parcel_profile(ptot_latlon_subset_timemean/100.*metpy.units.units.hPa, \\\n",
    "                                         (tk_1000_latlon_mean[hour,:][0]-273.15)*metpy.units.units.degC, \\\n",
    "                                         (td_1000_latlon_mean[hour,:][0]-273.15)*metpy.units.units.degC).to('degC')\n",
    "\n",
    "skewt_plot.plot(ptot_latlon_subset_timemean/100., pprofile_1000, label='phys. profile', c='0.1', lw=3, ls='-')\n",
    "skewt_plot.plot(ptot_latlon_subset_timemean/100., pprofile_400, label='cont. profile', c='0.5', lw=3, ls='--')\n",
    "\n",
    "\n",
    "# fill in control and phys CAPE\n",
    "skewt_plot.shade_cape(ptot_latlon_subset_timemean/100.,\\\n",
    "                      tk_1000_latlon_mean[hour,:]-273.15,\\\n",
    "                      numpy.array(pprofile_1000),\\\n",
    "                      edgecolor='None',facecolor=matplotlib.cm.tab20c(8/20),alpha=0.666,\\\n",
    "                      label='phys. CAPE')\n",
    "\n",
    "skewt_plot.shade_cape(ptot_latlon_subset_timemean/100.,\\\n",
    "                      tk_400_latlon_mean[hour,:]-273.15,\\\n",
    "                      numpy.array(pprofile_400),\\\n",
    "                      edgecolor='None',facecolor=matplotlib.cm.tab20c(8/20),alpha=0.333,\\\n",
    "                      label='cont. CAPE')\n",
    "\n",
    "skewt_plot.ax.set_ylim(1013.25,600)\n",
    "skewt_plot.ax.set_xlim(10,25)\n",
    "\n",
    "fig = mp.gcf()\n",
    "fig.set_size_inches(4.45,4.25)\n",
    "fig.tight_layout()\n",
    "\n",
    "skewt_plot.ax.tick_params(labelsize=fontsize)\n",
    "skewt_plot.ax.set_ylabel('hPa', fontsize=fontsize)\n",
    "skewt_plot.ax.set_xlabel('$\\degree$C', fontsize=fontsize)\n",
    "\n",
    "skewt_plot.plot_dry_adiabats(color='0.5',linewidth=1,linestyle='-')\n",
    "skewt_plot.plot_moist_adiabats(color='0.5',linestyle=':')\n",
    "skewt_plot.plot_mixing_lines(color='0.5',linestyle='--',lw=1)\n",
    "\n",
    "handles, labels = skewt_plot.ax.get_legend_handles_labels()\n",
    "skewt_plot.ax.legend(handles, labels, fontsize=fontsize, scatterpoints=1, \\\n",
    "                     bbox_to_anchor=(1.03,1.0), \\\n",
    "                     bbox_transform=skewt_plot.ax.transAxes, loc='upper left', \\\n",
    "                     borderaxespad=0, labelspacing=0.25, fancybox=False, \\\n",
    "                     edgecolor='0', framealpha=0, borderpad=0.25, \\\n",
    "                     columnspacing=0.5, handletextpad=0.5, markerscale=1)\n",
    "\n",
    "skewt_plot.ax.text(s='skew-T diagram at 15:00 on day 1',\\\n",
    "                  x=0,y=1.02,\\\n",
    "                  transform=skewt_plot.ax.transAxes,\\\n",
    "                  ha='left',va='bottom', fontsize=fontsize)\n",
    "\n",
    "skewt_plot.ax.annotate(\"\",xy=(11.6,700), \\\n",
    "                       xycoords='data',\\\n",
    "                       xytext=(13.6, 700), \\\n",
    "                       textcoords='data',\\\n",
    "                       arrowprops=dict(facecolor='0.1',ec='None',width=2,headwidth=6,headlength=10))\n",
    "\n",
    "skewt_plot.ax.annotate(\"\",xy=(10.9,700), \\\n",
    "                       xycoords='data',\\\n",
    "                       xytext=(8.9, 700), \\\n",
    "                       textcoords='data',\\\n",
    "                       arrowprops=dict(facecolor='0.1',ec='None',width=2,headwidth=6,headlength=10))\n",
    "\n",
    "CAPE_CIN_text = 'CAPE$_{\\,cont}$ = '+'{:.0f}'.format(numpy.array(cape_400[0]))+' J kg$^{\\,-1}$\\n'\\\n",
    "                'CAPE$_{\\,phys}$ = '+'{:.0f}'.format(numpy.array(cape_1000[0]))+' J kg$^{\\,-1}$\\n'\\\n",
    "                'CIN$_{\\,cont}$ = '+'{:.0f}'.format(numpy.array(cape_400[1]))+' J kg$^{\\,-1}$\\n'\\\n",
    "                'CIN$_{\\,phys}$ = '+'{:.0f}'.format(numpy.array(cape_1000[1]))+' J kg$^{\\,-1}$'\n",
    "skewt_plot.ax.text(s=CAPE_CIN_text,x=1.02,y=0,ha='left',va='bottom',transform=skewt_plot.ax.transAxes,fontsize=fontsize)\n",
    "\n",
    "fig.savefig('figures/manuscript_both_cape_skewT_hour'+str(hour-4)+'_zoom_andes_region.png', dpi=600, bbox_inches='tight', transparent=True)"
   ]
  },
  {
   "cell_type": "code",
   "execution_count": 27,
   "metadata": {
    "ExecuteTime": {
     "end_time": "2018-07-01T06:08:17.018831Z",
     "start_time": "2018-07-01T06:08:12.458567Z"
    }
   },
   "outputs": [
    {
     "data": {
      "image/png": "[encoded data removed]",
      "text/plain": [
       "<Figure size 320.4x306 with 1 Axes>"
      ]
     },
     "metadata": {},
     "output_type": "display_data"
    }
   ],
   "source": [
    "fontsize=12\n",
    "hour = 19\n",
    "\n",
    "skewt_plot = metpy.plots.SkewT()\n",
    "\n",
    "skewt_plot.plot(ptot_latlon_subset_timemean/100., tk_1000_latlon_mean[hour,:]-273.15, lw=3, label='phys. T$_{env}$', c=color_list[0])\n",
    "skewt_plot.plot(ptot_latlon_subset_timemean/100., tk_400_latlon_mean[hour,:]-273.15, lw=3, label='cont. T$_{env}$', ls='--', c=color_list[1])\n",
    "skewt_plot.plot(ptot_latlon_subset_timemean/100., td_1000_latlon_mean[hour,:]-273.15, lw=3, label='phys. T$_d$', c=color_list[2])\n",
    "skewt_plot.plot(ptot_latlon_subset_timemean/100., td_400_latlon_mean[hour,:]-273.15, lw=3, label='cont. T$_d$', ls='--', c=color_list[3])\n",
    "\n",
    "pprofile_400 = metpy.calc.parcel_profile(ptot_latlon_subset_timemean/100.*metpy.units.units.hPa, \\\n",
    "                                         (tk_400_latlon_mean[hour,:][0]-273.15)*metpy.units.units.degC, \\\n",
    "                                         (td_400_latlon_mean[hour,:][0]-273.15)*metpy.units.units.degC).to('degC')\n",
    "pprofile_1000 = metpy.calc.parcel_profile(ptot_latlon_subset_timemean/100.*metpy.units.units.hPa, \\\n",
    "                                         (tk_1000_latlon_mean[hour,:][0]-273.15)*metpy.units.units.degC, \\\n",
    "                                         (td_1000_latlon_mean[hour,:][0]-273.15)*metpy.units.units.degC).to('degC')\n",
    "\n",
    "skewt_plot.plot(ptot_latlon_subset_timemean/100., pprofile_1000, label='phys. profile', c='0.1', lw=3, ls='-')\n",
    "skewt_plot.plot(ptot_latlon_subset_timemean/100., pprofile_400, label='cont. profile', c='0.5', lw=3, ls='--')\n",
    "\n",
    "\n",
    "# fill in control and phys CAPE\n",
    "skewt_plot.shade_cape(ptot_latlon_subset_timemean/100.,\\\n",
    "                      tk_1000_latlon_mean[hour,:]-273.15,\\\n",
    "                      numpy.array(pprofile_1000),\\\n",
    "                      edgecolor='None',facecolor=matplotlib.cm.tab20c(8/20),alpha=0.666,\\\n",
    "                      label='phys. CAPE')\n",
    "\n",
    "skewt_plot.shade_cape(ptot_latlon_subset_timemean/100.,\\\n",
    "                      tk_400_latlon_mean[hour,:]-273.15,\\\n",
    "                      numpy.array(pprofile_400),\\\n",
    "                      edgecolor='None',facecolor=matplotlib.cm.tab20c(8/20),alpha=0.333,\\\n",
    "                      label='cont. CAPE')\n",
    "\n",
    "skewt_plot.ax.set_ylim(1013.25,600)\n",
    "skewt_plot.ax.set_xlim(10,25)\n",
    "\n",
    "fig = mp.gcf()\n",
    "fig.set_size_inches(4.45,4.25)\n",
    "fig.tight_layout()\n",
    "\n",
    "skewt_plot.ax.tick_params(labelsize=fontsize)\n",
    "skewt_plot.ax.set_ylabel('hPa', fontsize=fontsize)\n",
    "skewt_plot.ax.set_xlabel('$\\degree$C', fontsize=fontsize)\n",
    "\n",
    "skewt_plot.plot_dry_adiabats(color='0.5',linewidth=1,linestyle='-')\n",
    "skewt_plot.plot_moist_adiabats(color='0.5',linestyle=':')\n",
    "skewt_plot.plot_mixing_lines(color='0.5',linestyle='--',lw=1)\n",
    "\n",
    "handles, labels = skewt_plot.ax.get_legend_handles_labels()\n",
    "skewt_plot.ax.legend(handles, labels, fontsize=fontsize, scatterpoints=1, \\\n",
    "                     bbox_to_anchor=(1.03,1.0), \\\n",
    "                     bbox_transform=skewt_plot.ax.transAxes, loc='upper left', \\\n",
    "                     borderaxespad=0, labelspacing=0.25, fancybox=False, \\\n",
    "                     edgecolor='0', framealpha=0, borderpad=0.25, \\\n",
    "                     columnspacing=0.5, handletextpad=0.5, markerscale=1)\n",
    "\n",
    "skewt_plot.ax.text(s='skew-T diagram at 15:00 on day 1',\\\n",
    "                  x=0,y=1.02,\\\n",
    "                  transform=skewt_plot.ax.transAxes,\\\n",
    "                  ha='left',va='bottom', fontsize=fontsize)\n",
    "\n",
    "skewt_plot.ax.annotate(\"\",xy=(11.6,700), \\\n",
    "                       xycoords='data',\\\n",
    "                       xytext=(13.6, 700), \\\n",
    "                       textcoords='data',\\\n",
    "                       arrowprops=dict(facecolor='0.1',ec='None',width=2,headwidth=6,headlength=10))\n",
    "\n",
    "skewt_plot.ax.annotate(\"\",xy=(10.9,700), \\\n",
    "                       xycoords='data',\\\n",
    "                       xytext=(8.9, 700), \\\n",
    "                       textcoords='data',\\\n",
    "                       arrowprops=dict(facecolor='0.1',ec='None',width=2,headwidth=6,headlength=10))\n",
    "\n",
    "CAPE_CIN_text = 'CAPE$_{\\,cont}$ = '+'{:.0f}'.format(numpy.array(cape_400[0]))+' J kg$^{\\,-1}$\\n'\\\n",
    "                'CAPE$_{\\,phys}$ = '+'{:.0f}'.format(numpy.array(cape_1000[0]))+' J kg$^{\\,-1}$\\n'\\\n",
    "                'CIN$_{\\,cont}$ = '+'{:.0f}'.format(numpy.array(cape_400[1]))+' J kg$^{\\,-1}$\\n'\\\n",
    "                'CIN$_{\\,phys}$ = '+'{:.0f}'.format(numpy.array(cape_1000[1]))+' J kg$^{\\,-1}$'\n",
    "skewt_plot.ax.text(s=CAPE_CIN_text,x=1.02,y=0,ha='left',va='bottom',transform=skewt_plot.ax.transAxes,fontsize=fontsize)\n",
    "\n",
    "fig.savefig('figures/manuscript_both_cape_skewT_hour'+str(hour-4)+'_zoom_andes_region.png', dpi=600, bbox_inches='tight', transparent=True)"
   ]
  },
  {
   "cell_type": "raw",
   "metadata": {
    "ExecuteTime": {
     "end_time": "2018-06-29T06:09:05.806762Z",
     "start_time": "2018-06-29T06:08:59.252380Z"
    }
   },
   "source": [
    "fontsize=12\n",
    "hour = 18\n",
    "\n",
    "skewt_plot = metpy.plots.SkewT()\n",
    "\n",
    "skewt_plot.plot(ptot_latlon_subset_timemean/100., tk_1000_latlon_mean[hour,:]-273.15, lw=3, label='phys. Tenv', c='firebrick')\n",
    "skewt_plot.plot(ptot_latlon_subset_timemean/100., tk_400_latlon_mean[hour,:]-273.15, lw=3, label='cont. Tenv', c='coral', ls='--')\n",
    "\n",
    "skewt_plot.plot(ptot_latlon_subset_timemean/100., td_1000_latlon_mean[hour,:]-273.15, lw=3, label='phys. Td', c='dodgerblue')\n",
    "skewt_plot.plot(ptot_latlon_subset_timemean/100., td_400_latlon_mean[hour,:]-273.15, lw=3, label='cont. Td', c='skyblue', ls='--')\n",
    "\n",
    "pprofile_400 = metpy.calc.parcel_profile(ptot_latlon_subset_timemean/100.*metpy.units.units.hPa, \\\n",
    "                                         (tk_400_latlon_mean[hour,:][0]-273.15)*metpy.units.units.degC, \\\n",
    "                                         (td_400_latlon_mean[hour,:][0]-273.15)*metpy.units.units.degC).to('degC')\n",
    "pprofile_1000 = metpy.calc.parcel_profile(ptot_latlon_subset_timemean/100.*metpy.units.units.hPa, \\\n",
    "                                         (tk_1000_latlon_mean[hour,:][0]-273.15)*metpy.units.units.degC, \\\n",
    "                                         (td_1000_latlon_mean[hour,:][0]-273.15)*metpy.units.units.degC).to('degC')\n",
    "\n",
    "skewt_plot.plot(ptot_latlon_subset_timemean/100., pprofile_1000, label='phys. profile', c='0.1', lw=3, ls='-')\n",
    "skewt_plot.plot(ptot_latlon_subset_timemean/100., pprofile_400, label='cont. profile', c='0.5', lw=3, ls='--')\n",
    "\n",
    "skewt_plot.ax.set_ylim(1013.25,100)\n",
    "skewt_plot.ax.set_xlim(-45,35)\n",
    "\n",
    "fig = mp.gcf()\n",
    "fig.set_size_inches(6.5,6.5)\n",
    "fig.tight_layout()\n",
    "\n",
    "skewt_plot.ax.tick_params(labelsize=fontsize)\n",
    "skewt_plot.ax.set_ylabel('hPa', fontsize=fontsize)\n",
    "skewt_plot.ax.set_xlabel('$\\degree$C', fontsize=fontsize)\n",
    "\n",
    "skewt_plot.plot_dry_adiabats(color='0.1',linewidth=1,linestyle='-')\n",
    "skewt_plot.plot_moist_adiabats(color='0.1',linestyle=':')\n",
    "skewt_plot.plot_mixing_lines(color='0.1',linestyle='--')\n",
    "\n",
    "handles, labels = skewt_plot.ax.get_legend_handles_labels()\n",
    "skewt_plot.ax.legend(handles, labels, fontsize=fontsize, scatterpoints=1, \\\n",
    "                     bbox_to_anchor=(1.03,1.0), \\\n",
    "                     bbox_transform=skewt_plot.ax.transAxes, loc='upper left', \\\n",
    "                     borderaxespad=0, labelspacing=0.25, fancybox=False, \\\n",
    "                     edgecolor='0', framealpha=0, borderpad=0.25, \\\n",
    "                     columnspacing=0.5, handletextpad=0.5, markerscale=1)\n",
    "\n",
    "fig.savefig('both_cape_skewT_hour'+str(hour-4)+'_amazon_region.png', dpi=600, bbox_inches='tight', transparent=True)"
   ]
  },
  {
   "cell_type": "code",
   "execution_count": null,
   "metadata": {
    "ExecuteTime": {
     "end_time": "2018-07-01T06:09:48.273083Z",
     "start_time": "2018-07-01T06:09:41.888743Z"
    }
   },
   "outputs": [],
   "source": [
    "fontsize=12\n",
    "hour = 20 # 20 for 3pm over Andes\n",
    "\n",
    "skewt_plot = metpy.plots.SkewT()\n",
    "\n",
    "skewt_plot.plot(ptot_latlon_subset_timemean/100., tk_1000_latlon_mean[hour,:]-273.15, lw=3, label='phys. Tenv', c='firebrick')\n",
    "skewt_plot.plot(ptot_latlon_subset_timemean/100., tk_400_latlon_mean[hour,:]-273.15, lw=3, label='cont. Tenv', c='coral', ls='--')\n",
    "\n",
    "skewt_plot.plot(ptot_latlon_subset_timemean/100., td_1000_latlon_mean[hour,:]-273.15, lw=3, label='phys. Td', c='dodgerblue')\n",
    "skewt_plot.plot(ptot_latlon_subset_timemean/100., td_400_latlon_mean[hour,:]-273.15, lw=3, label='cont. Td', c='skyblue', ls='--')\n",
    "\n",
    "pprofile_400 = metpy.calc.parcel_profile(ptot_latlon_subset_timemean/100.*metpy.units.units.hPa, \\\n",
    "                                         (tk_400_latlon_mean[hour,:][0]-273.15)*metpy.units.units.degC, \\\n",
    "                                         (td_400_latlon_mean[hour,:][0]-273.15)*metpy.units.units.degC).to('degC')\n",
    "pprofile_1000 = metpy.calc.parcel_profile(ptot_latlon_subset_timemean/100.*metpy.units.units.hPa, \\\n",
    "                                         (tk_1000_latlon_mean[hour,:][0]-273.15)*metpy.units.units.degC, \\\n",
    "                                         (td_1000_latlon_mean[hour,:][0]-273.15)*metpy.units.units.degC).to('degC')\n",
    "\n",
    "skewt_plot.plot(ptot_latlon_subset_timemean/100., pprofile_1000, label='phys. profile', c='0.1', lw=3, ls='-')\n",
    "skewt_plot.plot(ptot_latlon_subset_timemean/100., pprofile_400, label='cont. profile', c='0.5', lw=3, ls='--')\n",
    "\n",
    "skewt_plot.ax.set_ylim(1013.25,100)\n",
    "skewt_plot.ax.set_xlim(-45,35)\n",
    "\n",
    "fig = mp.gcf()\n",
    "fig.set_size_inches(6.5,6.5)\n",
    "fig.tight_layout()\n",
    "\n",
    "skewt_plot.ax.tick_params(labelsize=fontsize)\n",
    "skewt_plot.ax.set_ylabel('hPa', fontsize=fontsize)\n",
    "skewt_plot.ax.set_xlabel('$\\degree$C', fontsize=fontsize)\n",
    "\n",
    "skewt_plot.plot_dry_adiabats(color='0.1',linewidth=1,linestyle='-')\n",
    "skewt_plot.plot_moist_adiabats(color='0.1',linestyle=':')\n",
    "skewt_plot.plot_mixing_lines(color='0.1',linestyle='--')\n",
    "\n",
    "handles, labels = skewt_plot.ax.get_legend_handles_labels()\n",
    "skewt_plot.ax.legend(handles, labels, fontsize=fontsize, scatterpoints=1, \\\n",
    "                     bbox_to_anchor=(1.03,1.0), \\\n",
    "                     bbox_transform=skewt_plot.ax.transAxes, loc='upper left', \\\n",
    "                     borderaxespad=0, labelspacing=0.25, fancybox=False, \\\n",
    "                     edgecolor='0', framealpha=0, borderpad=0.25, \\\n",
    "                     columnspacing=0.5, handletextpad=0.5, markerscale=1)\n",
    "\n",
    "fig.savefig('both_cape_skewT_hour'+str(hour-5)+'_andes_region.png', dpi=600, bbox_inches='tight', transparent=True)"
   ]
  },
  {
   "cell_type": "markdown",
   "metadata": {},
   "source": [
    "# 10 day mean skewT diagrams"
   ]
  },
  {
   "cell_type": "code",
   "execution_count": null,
   "metadata": {
    "ExecuteTime": {
     "end_time": "2018-07-01T06:10:25.144833Z",
     "start_time": "2018-07-01T06:10:25.131940Z"
    }
   },
   "outputs": [],
   "source": [
    "time_datetimes = pandas.to_datetime([i.decode('utf-8') for i in time], format = '%Y-%m-%d_%H:%M:%S')\n",
    "time_datetimes_andes = time_datetimes+datetime.timedelta(hours=-5)"
   ]
  },
  {
   "cell_type": "code",
   "execution_count": null,
   "metadata": {
    "ExecuteTime": {
     "end_time": "2018-07-01T06:16:20.912877Z",
     "start_time": "2018-07-01T06:16:20.904062Z"
    }
   },
   "outputs": [],
   "source": [
    "hour_indices = [t.hour in [2,3,4] and t.day in range(2,11) for t in time_datetimes_andes]"
   ]
  },
  {
   "cell_type": "code",
   "execution_count": null,
   "metadata": {
    "ExecuteTime": {
     "end_time": "2018-07-01T06:16:24.188851Z",
     "start_time": "2018-07-01T06:16:23.614791Z"
    }
   },
   "outputs": [],
   "source": [
    "ptot_lo = 100\n",
    "ptot_hi = 1013.25\n",
    "\n",
    "tk_400_latlon_afternoon = numpy.nanmean(tk_400_latlon_mean[hour_indices,:], axis=0)\n",
    "td_400_latlon_afternoon = numpy.nanmean(td_400_latlon_mean[hour_indices,:], axis=0)\n",
    "\n",
    "tk_1000_latlon_afternoon = numpy.nanmean(tk_1000_latlon_mean[hour_indices,:], axis=0)\n",
    "td_1000_latlon_afternoon = numpy.nanmean(td_1000_latlon_mean[hour_indices,:], axis=0)\n",
    "\n",
    "ptot_indices = (ptot_latlon_subset_timemean/100.<=ptot_hi)&(ptot_latlon_subset_timemean/100.>=ptot_lo)\n",
    "\n",
    "cape_400 = metpy.calc.surface_based_cape_cin(ptot_latlon_subset_timemean[ptot_indices]/100.*metpy.units.units.hPa, \\\n",
    "                                  (tk_400_latlon_afternoon[ptot_indices]-273.15)*metpy.units.units.degC, \\\n",
    "                                  (td_400_latlon_afternoon[ptot_indices]-273.15)*metpy.units.units.degC)\n",
    "\n",
    "cape_1000 = metpy.calc.surface_based_cape_cin(ptot_latlon_subset_timemean[ptot_indices]/100.*metpy.units.units.hPa, \\\n",
    "                                  (tk_1000_latlon_afternoon[ptot_indices]-273.15)*metpy.units.units.degC, \\\n",
    "                                  (td_1000_latlon_afternoon[ptot_indices]-273.15)*metpy.units.units.degC)\n",
    "\n",
    "print(cape_400)\n",
    "print(cape_1000)"
   ]
  },
  {
   "cell_type": "raw",
   "metadata": {
    "ExecuteTime": {
     "end_time": "2018-06-29T06:08:48.681527Z",
     "start_time": "2018-06-29T06:08:44.084183Z"
    }
   },
   "source": [
    "fontsize=12\n",
    "hour = 19\n",
    "\n",
    "skewt_plot = metpy.plots.SkewT()\n",
    "\n",
    "skewt_plot.plot(ptot_latlon_subset_timemean/100., tk_1000_latlon_afternoon-273.15, lw=3, label='phys. T$_{env}$', c=color_list[0])\n",
    "skewt_plot.plot(ptot_latlon_subset_timemean/100., tk_400_latlon_afternoon-273.15, lw=3, label='cont. T$_{env}$', ls='--', c=color_list[1])\n",
    "skewt_plot.plot(ptot_latlon_subset_timemean/100., td_1000_latlon_afternoon-273.15, lw=3, label='phys. T$_d$', c=color_list[2])\n",
    "skewt_plot.plot(ptot_latlon_subset_timemean/100., td_400_latlon_afternoon-273.15, lw=3, label='cont. T$_d$', ls='--', c=color_list[3])\n",
    "\n",
    "pprofile_400 = metpy.calc.parcel_profile(ptot_latlon_subset_timemean/100.*metpy.units.units.hPa, \\\n",
    "                                         (tk_400_latlon_afternoon[0]-273.15)*metpy.units.units.degC, \\\n",
    "                                         (td_400_latlon_afternoon[0]-273.15)*metpy.units.units.degC).to('degC')\n",
    "pprofile_1000 = metpy.calc.parcel_profile(ptot_latlon_subset_timemean/100.*metpy.units.units.hPa, \\\n",
    "                                         (tk_1000_latlon_afternoon[0]-273.15)*metpy.units.units.degC, \\\n",
    "                                         (td_1000_latlon_afternoon[0]-273.15)*metpy.units.units.degC).to('degC')\n",
    "\n",
    "skewt_plot.plot(ptot_latlon_subset_timemean/100., pprofile_1000, label='phys. profile', c='0.1', lw=3, ls='-')\n",
    "skewt_plot.plot(ptot_latlon_subset_timemean/100., pprofile_400, label='cont. profile', c='0.5', lw=3, ls='--')\n",
    "\n",
    "\n",
    "# fill in control and phys CAPE\n",
    "skewt_plot.shade_cape(ptot_latlon_subset_timemean/100.,\\\n",
    "                      tk_1000_latlon_afternoon-273.15,\\\n",
    "                      numpy.array(pprofile_1000),\\\n",
    "                      edgecolor='None',facecolor=matplotlib.cm.tab20c(8/20),alpha=0.666,\\\n",
    "                      label='phys. CAPE')\n",
    "\n",
    "skewt_plot.shade_cape(ptot_latlon_subset_timemean/100.,\\\n",
    "                      tk_400_latlon_afternoon-273.15,\\\n",
    "                      numpy.array(pprofile_400),\\\n",
    "                      edgecolor='None',facecolor=matplotlib.cm.tab20c(8/20),alpha=0.333,\\\n",
    "                      label='cont. CAPE')\n",
    "\n",
    "skewt_plot.ax.set_ylim(1013.25,600)\n",
    "skewt_plot.ax.set_xlim(10,30)\n",
    "\n",
    "fig = mp.gcf()\n",
    "fig.set_size_inches(4.45,4.25)\n",
    "fig.tight_layout()\n",
    "\n",
    "skewt_plot.ax.tick_params(labelsize=fontsize)\n",
    "skewt_plot.ax.set_ylabel('hPa', fontsize=fontsize)\n",
    "skewt_plot.ax.set_xlabel('$\\degree$C', fontsize=fontsize)\n",
    "\n",
    "skewt_plot.plot_dry_adiabats(color='0.5',linewidth=1,linestyle='-')\n",
    "skewt_plot.plot_moist_adiabats(color='0.5',linestyle=':')\n",
    "skewt_plot.plot_mixing_lines(color='0.5',linestyle='--',lw=1)\n",
    "\n",
    "handles, labels = skewt_plot.ax.get_legend_handles_labels()\n",
    "skewt_plot.ax.legend(handles, labels, fontsize=fontsize, scatterpoints=1, \\\n",
    "                     bbox_to_anchor=(1.03,1.0), \\\n",
    "                     bbox_transform=skewt_plot.ax.transAxes, loc='upper left', \\\n",
    "                     borderaxespad=0, labelspacing=0.25, fancybox=False, \\\n",
    "                     edgecolor='0', framealpha=0, borderpad=0.25, \\\n",
    "                     columnspacing=0.5, handletextpad=0.5, markerscale=1)\n",
    "\n",
    "skewt_plot.ax.text(s='skew-T diagram at 15:00 on days 2–10',\\\n",
    "                  x=0,y=1.02,\\\n",
    "                  transform=skewt_plot.ax.transAxes,\\\n",
    "                  ha='left',va='bottom', fontsize=fontsize)\n",
    "\n",
    "skewt_plot.ax.annotate(\"\",xy=(11.6,700), \\\n",
    "                       xycoords='data',\\\n",
    "                       xytext=(13.6, 700), \\\n",
    "                       textcoords='data',\\\n",
    "                       arrowprops=dict(facecolor='0.1',ec='None',width=2,headwidth=6,headlength=10))\n",
    "\n",
    "skewt_plot.ax.annotate(\"\",xy=(10.9,700), \\\n",
    "                       xycoords='data',\\\n",
    "                       xytext=(8.9, 700), \\\n",
    "                       textcoords='data',\\\n",
    "                       arrowprops=dict(facecolor='0.1',ec='None',width=2,headwidth=6,headlength=10))\n",
    "\n",
    "CAPE_CIN_text = 'CAPE$_{\\,cont}$ = '+'{:.0f}'.format(numpy.array(cape_400[0]))+' J kg$^{\\,-1}$\\n'\\\n",
    "                'CAPE$_{\\,phys}$ = '+'{:.0f}'.format(numpy.array(cape_1000[0]))+' J kg$^{\\,-1}$\\n'\\\n",
    "                'CIN$_{\\,cont}$ = '+'{:.0f}'.format(numpy.array(cape_400[1]))+' J kg$^{\\,-1}$\\n'\\\n",
    "                'CIN$_{\\,phys}$ = '+'{:.0f}'.format(numpy.array(cape_1000[1]))+' J kg$^{\\,-1}$'\n",
    "skewt_plot.ax.text(s=CAPE_CIN_text,x=1.02,y=0,ha='left',va='bottom',transform=skewt_plot.ax.transAxes,fontsize=fontsize)\n",
    "\n",
    "fig.savefig('manuscript_both_cape_skewT_hour'+str(hour-4)+'_zoom_ALL_DAYS_amazon_region.png', dpi=600, bbox_inches='tight', transparent=True)"
   ]
  },
  {
   "cell_type": "code",
   "execution_count": null,
   "metadata": {
    "ExecuteTime": {
     "end_time": "2018-07-01T06:16:33.854303Z",
     "start_time": "2018-07-01T06:16:29.760498Z"
    }
   },
   "outputs": [],
   "source": [
    "fontsize=12\n",
    "\n",
    "skewt_plot = metpy.plots.SkewT()\n",
    "\n",
    "skewt_plot.plot(ptot_latlon_subset_timemean/100., tk_1000_latlon_afternoon-273.15, lw=3, label='phys. T$_{env}$', c=color_list[0])\n",
    "skewt_plot.plot(ptot_latlon_subset_timemean/100., tk_400_latlon_afternoon-273.15, lw=3, label='cont. T$_{env}$', ls='--', c=color_list[1])\n",
    "skewt_plot.plot(ptot_latlon_subset_timemean/100., td_1000_latlon_afternoon-273.15, lw=3, label='phys. T$_d$', c=color_list[2])\n",
    "skewt_plot.plot(ptot_latlon_subset_timemean/100., td_400_latlon_afternoon-273.15, lw=3, label='cont. T$_d$', ls='--', c=color_list[3])\n",
    "\n",
    "pprofile_400 = metpy.calc.parcel_profile(ptot_latlon_subset_timemean/100.*metpy.units.units.hPa, \\\n",
    "                                         (tk_400_latlon_afternoon[0]-273.15)*metpy.units.units.degC, \\\n",
    "                                         (td_400_latlon_afternoon[0]-273.15)*metpy.units.units.degC).to('degC')\n",
    "pprofile_1000 = metpy.calc.parcel_profile(ptot_latlon_subset_timemean/100.*metpy.units.units.hPa, \\\n",
    "                                         (tk_1000_latlon_afternoon[0]-273.15)*metpy.units.units.degC, \\\n",
    "                                         (td_1000_latlon_afternoon[0]-273.15)*metpy.units.units.degC).to('degC')\n",
    "\n",
    "skewt_plot.plot(ptot_latlon_subset_timemean/100., pprofile_1000, label='phys. profile', c='0.1', lw=3, ls='-')\n",
    "skewt_plot.plot(ptot_latlon_subset_timemean/100., pprofile_400, label='cont. profile', c='0.5', lw=3, ls='--')\n",
    "\n",
    "\n",
    "# fill in control and phys CAPE\n",
    "skewt_plot.shade_cape(ptot_latlon_subset_timemean/100.,\\\n",
    "                      tk_1000_latlon_afternoon-273.15,\\\n",
    "                      numpy.array(pprofile_1000),\\\n",
    "                      edgecolor='None',facecolor=matplotlib.cm.tab20c(8/20),alpha=0.666,\\\n",
    "                      label='phys. CAPE')\n",
    "\n",
    "skewt_plot.shade_cape(ptot_latlon_subset_timemean/100.,\\\n",
    "                      tk_400_latlon_afternoon-273.15,\\\n",
    "                      numpy.array(pprofile_400),\\\n",
    "                      edgecolor='None',facecolor=matplotlib.cm.tab20c(8/20),alpha=0.333,\\\n",
    "                      label='cont. CAPE')\n",
    "\n",
    "skewt_plot.ax.set_ylim(800.,500.)\n",
    "skewt_plot.ax.set_xlim(0,17)\n",
    "\n",
    "fig = mp.gcf()\n",
    "fig.set_size_inches(4.45,4.25)\n",
    "fig.tight_layout()\n",
    "\n",
    "skewt_plot.ax.tick_params(labelsize=fontsize)\n",
    "skewt_plot.ax.set_ylabel('hPa', fontsize=fontsize)\n",
    "skewt_plot.ax.set_xlabel('$\\degree$C', fontsize=fontsize)\n",
    "\n",
    "skewt_plot.plot_dry_adiabats(color='0.5',linewidth=1,linestyle='-')\n",
    "skewt_plot.plot_moist_adiabats(color='0.5',linestyle=':')\n",
    "skewt_plot.plot_mixing_lines(color='0.5',linestyle='--',lw=1)\n",
    "\n",
    "handles, labels = skewt_plot.ax.get_legend_handles_labels()\n",
    "skewt_plot.ax.legend(handles, labels, fontsize=fontsize, scatterpoints=1, \\\n",
    "                     bbox_to_anchor=(1.03,1.0), \\\n",
    "                     bbox_transform=skewt_plot.ax.transAxes, loc='upper left', \\\n",
    "                     borderaxespad=0, labelspacing=0.25, fancybox=False, \\\n",
    "                     edgecolor='0', framealpha=0, borderpad=0.25, \\\n",
    "                     columnspacing=0.5, handletextpad=0.5, markerscale=1)\n",
    "\n",
    "skewt_plot.ax.text(s='skew-T diagram at 15:00 on days 2–10',\\\n",
    "                  x=0,y=1.02,\\\n",
    "                  transform=skewt_plot.ax.transAxes,\\\n",
    "                  ha='left',va='bottom', fontsize=fontsize)\n",
    "\n",
    "# skewt_plot.ax.annotate(\"\",xy=(11.6,700), \\\n",
    "#                        xycoords='data',\\\n",
    "#                        xytext=(13.6, 700), \\\n",
    "#                        textcoords='data',\\\n",
    "#                        arrowprops=dict(facecolor='0.1',ec='None',width=2,headwidth=6,headlength=10))\n",
    "\n",
    "# skewt_plot.ax.annotate(\"\",xy=(10.9,700), \\\n",
    "#                        xycoords='data',\\\n",
    "#                        xytext=(8.9, 700), \\\n",
    "#                        textcoords='data',\\\n",
    "#                        arrowprops=dict(facecolor='0.1',ec='None',width=2,headwidth=6,headlength=10))\n",
    "\n",
    "CAPE_CIN_text = 'CAPE$_{\\,cont}$ = '+'{:.0f}'.format(numpy.array(cape_400[0]))+' J kg$^{\\,-1}$\\n'\\\n",
    "                'CAPE$_{\\,phys}$ = '+'{:.0f}'.format(numpy.array(cape_1000[0]))+' J kg$^{\\,-1}$\\n'\\\n",
    "                'CIN$_{\\,cont}$ = '+'{:.0f}'.format(numpy.array(cape_400[1]))+' J kg$^{\\,-1}$\\n'\\\n",
    "                'CIN$_{\\,phys}$ = '+'{:.0f}'.format(numpy.array(cape_1000[1]))+' J kg$^{\\,-1}$'\n",
    "skewt_plot.ax.text(s=CAPE_CIN_text,x=1.02,y=0,ha='left',va='bottom',transform=skewt_plot.ax.transAxes,fontsize=fontsize)\n",
    "\n",
    "fig.savefig('manuscript_both_cape_skewT_hour'+str(hour)+'_zoom_ALL_DAYS_andes_region.png', dpi=600, bbox_inches='tight', transparent=True)"
   ]
  },
  {
   "cell_type": "code",
   "execution_count": null,
   "metadata": {},
   "outputs": [],
   "source": []
  },
  {
   "cell_type": "code",
   "execution_count": null,
   "metadata": {},
   "outputs": [],
   "source": []
  },
  {
   "cell_type": "code",
   "execution_count": null,
   "metadata": {},
   "outputs": [],
   "source": []
  },
  {
   "cell_type": "code",
   "execution_count": null,
   "metadata": {},
   "outputs": [],
   "source": []
  },
  {
   "cell_type": "code",
   "execution_count": null,
   "metadata": {},
   "outputs": [],
   "source": []
  },
  {
   "cell_type": "markdown",
   "metadata": {},
   "source": [
    "# plot cape variables in 4x4 plot for first day and 2-10 days"
   ]
  },
  {
   "cell_type": "code",
   "execution_count": null,
   "metadata": {
    "ExecuteTime": {
     "end_time": "2018-06-27T02:09:56.378600Z",
     "start_time": "2018-06-27T02:09:50.833702Z"
    }
   },
   "outputs": [],
   "source": [
    "fig = mp.figure(figsize=(5.333,5.666))\n",
    "\n",
    "fontsize=12\n",
    "lon_offset=25.\n",
    "\n",
    "map_proj = cartopy.crs.PlateCarree()\n",
    "\n",
    "ax1 = fig.add_subplot(221, projection=map_proj)\n",
    "ax2 = fig.add_subplot(222, projection=map_proj)\n",
    "ax3 = fig.add_subplot(223, projection=map_proj)\n",
    "ax4 = fig.add_subplot(224, projection=map_proj)\n",
    "\n",
    "cp1 = ax1.pcolormesh(xlong,xlat,\\\n",
    "                     cape2d_mcape_diffs[:24,:,:].mean(axis=0),\\\n",
    "                     cmap='PuOr_r', vmin=-150,vmax=150)\n",
    "\n",
    "cp2 = ax2.pcolormesh(xlong,xlat,\\\n",
    "                     cape2d_mcin_diffs[:24,:,:].mean(axis=0),\\\n",
    "                     cmap='PuOr', vmin=-5,vmax=5)\n",
    "\n",
    "cp3 = ax3.pcolormesh(xlong,xlat,\\\n",
    "                     cape2d_lcl_diffs[:24,:,:].mean(axis=0),\\\n",
    "                     cmap=cmocean.cm.amp, vmin=0,vmax=150)\n",
    "\n",
    "cp4 = ax4.pcolormesh(xlong,xlat,\\\n",
    "                     cape2d_lfc_diffs[:24,:,:].mean(axis=0),\\\n",
    "                     cmap=cmocean.cm.amp, vmin=0,vmax=150)\n",
    "\n",
    "ax1.coastlines()\n",
    "ax2.coastlines()\n",
    "ax3.coastlines()\n",
    "ax4.coastlines()\n",
    "\n",
    "ax1.set_extent([273,329,-30,15], crs=map_proj)\n",
    "ax2.set_extent([273,329,-30,15], crs=map_proj)\n",
    "ax3.set_extent([273,329,-30,15], crs=map_proj)\n",
    "ax4.set_extent([273,329,-30,15], crs=map_proj)\n",
    "\n",
    "ax1.set_xticks([-360+280,-360+300,-360+320])\n",
    "ax1.set_yticks([-20,-10,0,10])\n",
    "ax1.tick_params(labelsize=fontsize)\n",
    "ax1.set_xticklabels(['$280$'+DEGREE_SIGN,'$300$'+DEGREE_SIGN,'$320$'+DEGREE_SIGN])\n",
    "ax1.set_yticklabels(['$-20$'+DEGREE_SIGN,'$-10$'+DEGREE_SIGN,'$0$'+DEGREE_SIGN,'$10$'+DEGREE_SIGN])\n",
    "\n",
    "ax2.set_xticks([-360+280,-360+300,-360+320])\n",
    "ax2.set_yticks([-20,-10,0,10])\n",
    "ax2.tick_params(labelsize=fontsize)\n",
    "ax2.set_xticklabels(['$280$'+DEGREE_SIGN,'$300$'+DEGREE_SIGN,'$320$'+DEGREE_SIGN])\n",
    "ax2.set_yticklabels(['$-20$'+DEGREE_SIGN,'$-10$'+DEGREE_SIGN,'$0$'+DEGREE_SIGN,'$10$'+DEGREE_SIGN])\n",
    "\n",
    "ax3.set_xticks([-360+280,-360+300,-360+320])\n",
    "ax3.set_yticks([-20,-10,0,10])\n",
    "ax3.tick_params(labelsize=fontsize)\n",
    "ax3.set_xticklabels(['$280$'+DEGREE_SIGN,'$300$'+DEGREE_SIGN,'$320$'+DEGREE_SIGN])\n",
    "ax3.set_yticklabels(['$-20$'+DEGREE_SIGN,'$-10$'+DEGREE_SIGN,'$0$'+DEGREE_SIGN,'$10$'+DEGREE_SIGN])\n",
    "\n",
    "ax4.set_xticks([-360+280,-360+300,-360+320])\n",
    "ax4.set_yticks([-20,-10,0,10])\n",
    "ax4.tick_params(labelsize=fontsize)\n",
    "ax4.set_xticklabels(['$280$'+DEGREE_SIGN,'$300$'+DEGREE_SIGN,'$320$'+DEGREE_SIGN])\n",
    "ax4.set_yticklabels(['$-20$'+DEGREE_SIGN,'$-10$'+DEGREE_SIGN,'$0$'+DEGREE_SIGN,'$10$'+DEGREE_SIGN])\n",
    "\n",
    "title = ax1.text(s='(a) $\\Delta$ CAPE', x=0, y=1.02, ha='left', va='bottom', fontsize=fontsize, transform=ax1.transAxes)\n",
    "title = ax2.text(s='(b) $\\Delta$ CIN', x=0, y=1.02, ha='left', va='bottom', fontsize=fontsize, transform=ax2.transAxes)\n",
    "title = ax3.text(s='(c) $\\Delta$ LCL', x=0, y=1.02, ha='left', va='bottom', fontsize=fontsize, transform=ax3.transAxes)\n",
    "title = ax4.text(s='(d) $\\Delta$ LFC', x=0, y=1.02, ha='left', va='bottom', fontsize=fontsize, transform=ax4.transAxes)\n",
    "\n",
    "fig.tight_layout()\n",
    "\n",
    "cbar_thickness=0.025\n",
    "cbar_yshift=0#-0.08\n",
    "\n",
    "bbox_position = ax1.get_position()\n",
    "cbar_axes = fig.add_axes([bbox_position.x0, bbox_position.y0+cbar_yshift, bbox_position.width, cbar_thickness])\n",
    "cbar = mp.colorbar(cp1, orientation='horizontal', cax=cbar_axes)\n",
    "#cbar.set_label(label='mm day$^{-1}$', fontsize=fontsize)\n",
    "cbar_axes.tick_params(labelsize=fontsize)\n",
    "cbar.set_ticks([-150,0,150])\n",
    "\n",
    "bbox_position = ax2.get_position()\n",
    "cbar_axes = fig.add_axes([bbox_position.x0, bbox_position.y0+cbar_yshift, bbox_position.width, cbar_thickness])\n",
    "cbar = mp.colorbar(cp2, orientation='horizontal', cax=cbar_axes)\n",
    "#cbar.set_label(label='mm day$^{-1}$', fontsize=fontsize)\n",
    "cbar_axes.tick_params(labelsize=fontsize)\n",
    "cbar.set_ticks([-5,-2.5,0,2.5,5])\n",
    "\n",
    "bbox_position = ax3.get_position()\n",
    "cbar_axes = fig.add_axes([bbox_position.x0, bbox_position.y0+cbar_yshift, bbox_position.width, cbar_thickness])\n",
    "cbar = mp.colorbar(cp3, orientation='horizontal', cax=cbar_axes)\n",
    "#cbar.set_label(label='W m$^{-2}$', fontsize=fontsize)\n",
    "cbar_axes.tick_params(labelsize=fontsize)\n",
    "cbar.set_ticks([0,50,100,150])\n",
    "\n",
    "bbox_position = ax4.get_position()\n",
    "cbar_axes = fig.add_axes([bbox_position.x0, bbox_position.y0+cbar_yshift, bbox_position.width, cbar_thickness])\n",
    "cbar = mp.colorbar(cp4, orientation='horizontal', cax=cbar_axes)\n",
    "#cbar.set_label(label=degree_sign+'C', fontsize=fontsize)\n",
    "cbar_axes.tick_params(labelsize=fontsize)\n",
    "cbar.set_ticks([0,50,100,150])\n",
    "\n",
    "ax1.text(s='J kg$^{\\,-1}$', x=0.95, y=0.95, \\\n",
    "        ha='right', va='top', \\\n",
    "        fontsize=fontsize, \\\n",
    "        transform=ax1.transAxes)\n",
    "ax2.text(s='J kg$^{\\,-1}$', x=0.95, y=0.95, \\\n",
    "        ha='right', va='top', \\\n",
    "        fontsize=fontsize, \\\n",
    "        transform=ax2.transAxes)\n",
    "ax3.text(s='m', x=0.95, y=0.95, \\\n",
    "        ha='right', va='top', \\\n",
    "        fontsize=fontsize, \\\n",
    "        transform=ax3.transAxes)\n",
    "ax4.text(s='m', x=0.95, y=0.93, \\\n",
    "        ha='right', va='top', \\\n",
    "        fontsize=fontsize, \\\n",
    "        transform=ax4.transAxes)\n",
    "\n",
    "#fig.savefig('cape_cin_lcl_lfc_days2to10.png', bbox_inches='tight', dpi=600, )\n",
    "fig.savefig('cape_cin_lcl_lfc_day1.png', bbox_inches='tight', dpi=600, )"
   ]
  },
  {
   "cell_type": "code",
   "execution_count": null,
   "metadata": {
    "ExecuteTime": {
     "end_time": "2018-06-27T02:09:56.415037Z",
     "start_time": "2018-06-27T02:09:56.386936Z"
    }
   },
   "outputs": [],
   "source": [
    "net_atm_diffs_1000_sw_latlon_subset = numpy.nanmean(net_atm_diffs_1000_sw[:,latlon_indices], axis=1)\n",
    "net_atm_diffs_400_sw_latlon_subset = numpy.nanmean(net_atm_diffs_400_sw[:,latlon_indices], axis=1)\n",
    "\n",
    "net_atm_diffs_1000_lw_latlon_subset = numpy.nanmean(net_atm_diffs_1000_lw[:,latlon_indices], axis=1)\n",
    "net_atm_diffs_400_lw_latlon_subset = numpy.nanmean(net_atm_diffs_400_lw[:,latlon_indices], axis=1)"
   ]
  },
  {
   "cell_type": "code",
   "execution_count": null,
   "metadata": {
    "ExecuteTime": {
     "end_time": "2018-06-27T02:10:00.416223Z",
     "start_time": "2018-06-27T02:10:00.392164Z"
    }
   },
   "outputs": [],
   "source": [
    "net_atm_diffs_1000_swc_latlon_subset = numpy.nanmean(net_atm_diffs_1000_swc[:,latlon_indices], axis=1)\n",
    "net_atm_diffs_400_swc_latlon_subset = numpy.nanmean(net_atm_diffs_400_swc[:,latlon_indices], axis=1)\n",
    "\n",
    "net_atm_diffs_1000_lwc_latlon_subset = numpy.nanmean(net_atm_diffs_1000_lwc[:,latlon_indices], axis=1)\n",
    "net_atm_diffs_400_lwc_latlon_subset = numpy.nanmean(net_atm_diffs_400_lwc[:,latlon_indices], axis=1)"
   ]
  },
  {
   "cell_type": "code",
   "execution_count": null,
   "metadata": {
    "ExecuteTime": {
     "end_time": "2018-06-27T02:10:02.462579Z",
     "start_time": "2018-06-27T02:10:02.458023Z"
    }
   },
   "outputs": [],
   "source": [
    "xvals = numpy.arange(net_atm_diffs_400_sw_latlon_subset.size)"
   ]
  },
  {
   "cell_type": "code",
   "execution_count": null,
   "metadata": {
    "ExecuteTime": {
     "end_time": "2018-06-27T18:47:06.591858Z",
     "start_time": "2018-06-27T18:47:01.822942Z"
    }
   },
   "outputs": [],
   "source": [
    "fontsize = 12\n",
    "\n",
    "fig,axl = mp.subplots(3,2)\n",
    "fig.set_size_inches(8.5,5)\n",
    "\n",
    "axl[0,0].plot(xvals-4,net_atm_diffs_400_sw_latlon_subset/(60*60),c='firebrick')\n",
    "axl[1,0].plot(xvals-4,net_atm_diffs_400_lw_latlon_subset/(60*60),c='firebrick')\n",
    "#axl[1,0].plot(xvals-4,net_atm_diffs_1000_lw_latlon_subset/(60*60),c='coral')\n",
    "\n",
    "axl[2,0].plot(xvals-4,(net_atm_diffs_400_sw_latlon_subset+net_atm_diffs_400_lw_latlon_subset)/(60*60),c='firebrick')\n",
    "\n",
    "axl[0,1].plot(xvals-4,(net_atm_diffs_1000_sw_latlon_subset-net_atm_diffs_400_sw_latlon_subset)/(60*60),c='firebrick')\n",
    "axl[1,1].plot(xvals-4,(net_atm_diffs_1000_lw_latlon_subset-net_atm_diffs_400_lw_latlon_subset)/(60*60),c='firebrick')\n",
    "axl[2,1].plot(xvals-4,\\\n",
    "              ((net_atm_diffs_1000_sw_latlon_subset+net_atm_diffs_1000_lw_latlon_subset)-\\\n",
    "               (net_atm_diffs_400_sw_latlon_subset+net_atm_diffs_400_lw_latlon_subset))/(60*60),c='firebrick')\n",
    "\n",
    "axl[0,0].axhline(0, lw=1, c='0.1', ls='--',zorder=0)\n",
    "#axl[1,0].axhline(0, lw=1, c='0.1', ls='--')\n",
    "axl[2,0].axhline(0, lw=1, c='0.1', ls='--',zorder=0)\n",
    "axl[0,1].axhline(0, lw=1, c='0.1', ls='--',zorder=0)\n",
    "axl[1,1].axhline(0, lw=1, c='0.1', ls='--',zorder=0)\n",
    "axl[2,1].axhline(0, lw=1, c='0.1', ls='--',zorder=0)\n",
    "\n",
    "axl[0,0].set_ylim(0,400)\n",
    "axl[1,0].set_ylim(-300,-150)\n",
    "axl[2,0].set_ylim(-400,200)\n",
    "axl[0,1].set_ylim(-20,10)\n",
    "axl[1,1].set_ylim(-10,10)\n",
    "axl[2,1].set_ylim(-5,5)\n",
    "\n",
    "[ax.tick_params(labelsize=fontsize) for ax in axl.flatten()]\n",
    "[ax.set_xlim(0,240) for ax in axl.flatten()]\n",
    "[ax.set_ylabel('W m$^{\\,-2}$', fontsize=fontsize) for ax in axl.flatten()[0::2]]\n",
    "[ax.set_xlabel('hour', fontsize=fontsize) for ax in axl.flatten()[-2:]]\n",
    "[ax.get_yaxis().set_label_coords(-0.15,0.5) for ax in axl.flatten()]\n",
    "[ax.set_xticks(numpy.arange(0,241,24)) for ax in axl.flatten()]\n",
    "[ax.xaxis.grid() for ax in axl.flatten()]\n",
    "# [ax.set_axisbelow(True) for ax in axl.flatten()]\n",
    "\n",
    "plot_labels = [\\\n",
    "'net atmos. shortwave (control)',\\\n",
    "'phys.– cont. net atmos. shortwave',\\\n",
    "'net atmos. longwave (control)',\\\n",
    "'phys.– cont. net atmos. longwave',\\\n",
    "'net atmos. rad. (control)',\\\n",
    "'phys.– cont. net atmos. rad.']\n",
    "\n",
    "[axl.flatten()[i].text(s=plot_labels[i], ha='left',\\\n",
    "        va='bottom',\\\n",
    "        x=0,y=1.03,\\\n",
    "        transform=axl.flatten()[i].transAxes,\\\n",
    "        fontsize=fontsize)\\\n",
    "for i in range(axl.flatten().size)]\n",
    "\n",
    "fig.tight_layout(h_pad=2)\n",
    "\n",
    "fig.savefig('radiation_changes_with_control.png',\\\n",
    "           dpi=600, bbox_inches='tight', transparent=True)"
   ]
  },
  {
   "cell_type": "code",
   "execution_count": null,
   "metadata": {
    "ExecuteTime": {
     "end_time": "2018-06-27T18:47:14.461318Z",
     "start_time": "2018-06-27T18:47:09.696742Z"
    }
   },
   "outputs": [],
   "source": [
    "fontsize = 12\n",
    "\n",
    "fig,axl = mp.subplots(3,2)\n",
    "fig.set_size_inches(8.5,5)\n",
    "\n",
    "axl[0,0].plot(xvals-4,net_atm_diffs_400_sw_latlon_subset/(60*60),c='firebrick')\n",
    "axl[1,0].plot(xvals-4,net_atm_diffs_400_lw_latlon_subset/(60*60),c='firebrick')\n",
    "#axl[1,0].plot(xvals-4,net_atm_diffs_1000_lw_latlon_subset/(60*60),c='coral')\n",
    "\n",
    "axl[2,0].plot(xvals-4,(net_atm_diffs_400_sw_latlon_subset+net_atm_diffs_400_lw_latlon_subset)/(60*60),c='firebrick')\n",
    "\n",
    "axl[0,1].plot(xvals-4,(net_atm_diffs_1000_sw_latlon_subset-net_atm_diffs_400_sw_latlon_subset)/(60*60),c='firebrick')\n",
    "axl[1,1].plot(xvals-4,(net_atm_diffs_1000_lw_latlon_subset-net_atm_diffs_400_lw_latlon_subset)/(60*60),c='firebrick')\n",
    "axl[2,1].plot(xvals-4,((net_atm_diffs_1000_sw_latlon_subset+net_atm_diffs_1000_lw_latlon_subset)-(net_atm_diffs_400_sw_latlon_subset+net_atm_diffs_400_lw_latlon_subset))/(60*60),c='firebrick')\n",
    "\n",
    "axl[0,0].axhline(0, lw=1, c='0.1', ls='--',zorder=0)\n",
    "#axl[1,0].axhline(0, lw=1, c='0.1', ls='--')\n",
    "axl[2,0].axhline(0, lw=1, c='0.1', ls='--',zorder=0)\n",
    "axl[0,1].axhline(0, lw=1, c='0.1', ls='--',zorder=0)\n",
    "axl[1,1].axhline(0, lw=1, c='0.1', ls='--',zorder=0)\n",
    "axl[2,1].axhline(0, lw=1, c='0.1', ls='--',zorder=0)\n",
    "\n",
    "axl[0,0].set_ylim(0,400)\n",
    "axl[1,0].set_ylim(-300,-150)\n",
    "axl[2,0].set_ylim(-400,200)\n",
    "axl[0,1].set_ylim(-20,10)\n",
    "axl[1,1].set_ylim(-10,10)\n",
    "axl[2,1].set_ylim(-5,5)\n",
    "\n",
    "[ax.tick_params(labelsize=fontsize) for ax in axl.flatten()]\n",
    "[ax.set_xlim(0,240) for ax in axl.flatten()]\n",
    "[ax.set_ylabel('W m$^{\\,-2}$', fontsize=fontsize) for ax in axl.flatten()[0::2]]\n",
    "[ax.set_xlabel('hour', fontsize=fontsize) for ax in axl.flatten()[-2:]]\n",
    "[ax.get_yaxis().set_label_coords(-0.15,0.5) for ax in axl.flatten()]\n",
    "[ax.set_xticks(numpy.arange(0,241,24)) for ax in axl.flatten()]\n",
    "[ax.xaxis.grid() for ax in axl.flatten()]\n",
    "# [ax.set_axisbelow(True) for ax in axl.flatten()]\n",
    "\n",
    "plot_labels = [\\\n",
    "'net atmos. shortwave (control)',\\\n",
    "'phys.– cont. net atmos. shortwave',\\\n",
    "'net atmos. longwave (control)',\\\n",
    "'phys.– cont. net atmos. longwave',\\\n",
    "'phys.– cont. net atmos. rad.',\\\n",
    "'net atmos. rad. (control)' ]\n",
    "\n",
    "[axl.flatten()[i].text(s=plot_labels[i], ha='left',\\\n",
    "        va='bottom',\\\n",
    "        x=0,y=1.03,\\\n",
    "        transform=axl.flatten()[i].transAxes,\\\n",
    "        fontsize=fontsize)\\\n",
    "for i in range(axl.flatten().size)]\n",
    "\n",
    "fig.tight_layout(h_pad=2)\n",
    "\n",
    "fig.savefig('radiation_changes_with_control.png',\\\n",
    "           dpi=600, bbox_inches='tight', transparent=True)"
   ]
  },
  {
   "cell_type": "markdown",
   "metadata": {},
   "source": [
    "# calculate cloud fraction changes"
   ]
  },
  {
   "cell_type": "code",
   "execution_count": null,
   "metadata": {
    "ExecuteTime": {
     "end_time": "2018-06-27T18:53:11.109677Z",
     "start_time": "2018-06-27T18:47:20.673241Z"
    }
   },
   "outputs": [],
   "source": [
    "cldfra_diffs = cldfra_1000-cldfra_400\n",
    "cldfra_diffs_latlon_subset = numpy.mean(cldfra_diffs.values[:,:,latlon_indices], axis=2)"
   ]
  },
  {
   "cell_type": "code",
   "execution_count": null,
   "metadata": {
    "ExecuteTime": {
     "end_time": "2018-06-27T18:54:22.436508Z",
     "start_time": "2018-06-27T18:54:22.416940Z"
    }
   },
   "outputs": [],
   "source": [
    "cape2d_diffs_latlon_mean = numpy.nanmean(cape2d_diffs[:,:,latlon_indices], axis=2)"
   ]
  },
  {
   "cell_type": "code",
   "execution_count": null,
   "metadata": {
    "ExecuteTime": {
     "end_time": "2018-06-27T19:07:40.729908Z",
     "start_time": "2018-06-27T19:07:40.287937Z"
    }
   },
   "outputs": [],
   "source": [
    "cape3d_400_latlon_mean = numpy.nanmean(cape3d_400[:,:,:,latlon_indices], axis=3)\n",
    "cape3d_1000_latlon_mean = numpy.nanmean(cape3d_1000[:,:,:,latlon_indices], axis=3)\n",
    "\n",
    "cape3d_diffs_latlon_mean = cape3d_1000_latlon_mean - cape3d_400_latlon_mean"
   ]
  },
  {
   "cell_type": "markdown",
   "metadata": {},
   "source": [
    "# plot cloud changes and radiative changes"
   ]
  },
  {
   "cell_type": "code",
   "execution_count": null,
   "metadata": {
    "ExecuteTime": {
     "end_time": "2018-06-27T18:53:18.953639Z",
     "start_time": "2018-06-27T18:53:14.413810Z"
    }
   },
   "outputs": [],
   "source": [
    "fontsize = 12\n",
    "\n",
    "fig,axes = mp.subplots(5,1)\n",
    "fig.set_size_inches(4.25,8)\n",
    "\n",
    "axes[0].plot(xvals-4,(net_atm_diffs_1000_sw_latlon_subset-net_atm_diffs_400_sw_latlon_subset)/(60*60),c='firebrick')\n",
    "axes[1].plot(xvals-4,(net_atm_diffs_1000_lw_latlon_subset-net_atm_diffs_400_lw_latlon_subset)/(60*60),c='firebrick')\n",
    "axes[2].plot(xvals-4,\\\n",
    "            ((net_atm_diffs_1000_sw_latlon_subset+net_atm_diffs_1000_lw_latlon_subset)-\\\n",
    "             (net_atm_diffs_400_sw_latlon_subset+net_atm_diffs_400_lw_latlon_subset))/(60*60),c='firebrick')\n",
    "\n",
    "levels = numpy.arange(-.1,.11,0.02)*100.\n",
    "contour_plot = axes[3].contourf(numpy.arange(241)-4,\\\n",
    "                                ptot_latlon_subset_timemean/100.,\\\n",
    "                                cldfra_diffs_latlon_subset.T*100.,\\\n",
    "                                levels=levels, extend='both',\\\n",
    "                                cmap=cmocean.cm.balance_r)\n",
    "\n",
    "levels = numpy.arange(-.25,.251,0.05)\n",
    "contour_plot2 = axes[4].pcolormesh(numpy.arange(241)-4,\\\n",
    "                                ptot_latlon_subset_timemean/100.,\\\n",
    "                                cape3d_cape_diffs_latlon_mean.T,\\\n",
    "                                vmin=-200,vmax=200,\\\n",
    "                                #levels=levels, extend='both',\\\n",
    "                                cmap='PuOr')\n",
    "axes[3].set_ylim(1013.25,700)\n",
    "axes[4].set_ylim(1013.25,700)\n",
    "\n",
    "axes[0].axhline(0, lw=1, c='0.1', ls='--',zorder=0)\n",
    "axes[1].axhline(0, lw=1, c='0.1', ls='--',zorder=0)\n",
    "axes[2].axhline(0, lw=1, c='0.1', ls='--',zorder=0)\n",
    "\n",
    "axes[1].set_ylim(-10,10)\n",
    "axes[2].set_ylim(-5,5)\n",
    "\n",
    "[ax.tick_params(labelsize=fontsize) for ax in axes.flatten()]\n",
    "[ax.set_xlim(0,240) for ax in axes.flatten()]\n",
    "[ax.set_ylabel('W m$^{\\,-2}$', fontsize=fontsize) for ax in axes.flatten()[0:3]]\n",
    "[ax.set_xlabel('hour', fontsize=fontsize) for ax in [axes[-1]]]\n",
    "[ax.get_yaxis().set_label_coords(-0.15,0.5) for ax in axes.flatten()]\n",
    "[ax.xaxis.grid() for ax in axes.flatten()]\n",
    "\n",
    "axes[3].set_ylabel('hPa', fontsize=fontsize)\n",
    "axes[3].set_yticks([700,800,900,1000])\n",
    "\n",
    "axes[4].set_ylabel('hPa', fontsize=fontsize)\n",
    "axes[4].set_yticks([700,800,900,1000])\n",
    "\n",
    "[ax.set_xticks(numpy.arange(0,241,24)) for ax in axes.flatten()]\n",
    "[ax.set_xticklabels([]) for ax in axes[0:4]]\n",
    "# [ax.set_axisbelow(True) for ax in axes.flatten()]\n",
    "\n",
    "plot_labels = [\\\n",
    "'(a) $\\Delta$ net atmos. shortwave',\\\n",
    "'(b) $\\Delta$ net atmos. longwave',\\\n",
    "'(c) $\\Delta$ net atmos. rad.',\\\n",
    "'(d) $\\Delta$ cloud fraction', \\\n",
    "'(e) $\\Delta$ CAPE']\n",
    "\n",
    "[axes.flatten()[i].text(s=plot_labels[i], ha='left',\\\n",
    "        va='bottom',\\\n",
    "        x=0,y=1.03,\\\n",
    "        transform=axes.flatten()[i].transAxes,\\\n",
    "        fontsize=fontsize)\\\n",
    "for i in range(axes.flatten().size)]\n",
    "\n",
    "fig.tight_layout(h_pad=1.5)\n",
    "\n",
    "ax4pos = axes[3].get_position()\n",
    "cbar_ax = fig.add_axes([ax4pos.x1+0.025,ax4pos.y0,0.025,ax4pos.height])\n",
    "cbar = fig.colorbar(contour_plot, cax=cbar_ax)\n",
    "cbar_ax.tick_params(labelsize=fontsize)\n",
    "cbar.set_ticks([-10,-5,0,5,10])\n",
    "cbar.set_label('%', fontsize=fontsize)\n",
    "\n",
    "ax5pos = axes[4].get_position()\n",
    "cbar_ax = fig.add_axes([ax5pos.x1+0.025,ax5pos.y0,0.025,ax5pos.height])\n",
    "cbar = fig.colorbar(contour_plot2, cax=cbar_ax)\n",
    "cbar_ax.tick_params(labelsize=fontsize)\n",
    "cbar.set_ticks([-200,-100,0,100,200])\n",
    "cbar.set_label('kJ kg$^{\\,-1}$', fontsize=fontsize)\n",
    "\n",
    "fig.savefig('radiation_cloud_cape_changes.png',\\\n",
    "           dpi=600, bbox_inches='tight', transparent=True)"
   ]
  },
  {
   "cell_type": "markdown",
   "metadata": {
    "ExecuteTime": {
     "end_time": "2018-06-27T00:46:57.411845Z",
     "start_time": "2018-06-27T00:46:57.391487Z"
    }
   },
   "source": [
    "# plot cape and cin background"
   ]
  },
  {
   "cell_type": "code",
   "execution_count": null,
   "metadata": {
    "ExecuteTime": {
     "end_time": "2018-06-27T19:28:45.799792Z",
     "start_time": "2018-06-27T19:28:40.980482Z"
    }
   },
   "outputs": [],
   "source": [
    "fontsize = 12\n",
    "\n",
    "fig,axes = mp.subplots(2,2)\n",
    "fig.set_size_inches(8.5,4)\n",
    "\n",
    "cp1 = axes[0,0].pcolormesh(numpy.arange(241)-4,\\\n",
    "                         ptot_latlon_subset_timemean/100.,\\\n",
    "                         cape3d_400_latlon_mean[0,:].T,\\\n",
    "                         vmin=0,vmax=1500,\\\n",
    "                         #levels=levels, extend='both',\\\n",
    "                         cmap=cmocean.cm.amp)\n",
    "axes[0,0].set_ylim(1013.25,700)\n",
    "\n",
    "cp2 = axes[0,1].pcolormesh(numpy.arange(241)-4,\\\n",
    "                         ptot_latlon_subset_timemean/100.,\\\n",
    "                         cape3d_diffs_latlon_mean[0,:].T,\\\n",
    "                         vmin=-200,vmax=200,\\\n",
    "                         cmap=cmocean.cm.balance)\n",
    "axes[0,1].set_ylim(1013.25,700)\n",
    "\n",
    "\n",
    "cp3 = axes[1,0].pcolormesh(numpy.arange(241)-4,\\\n",
    "                         ptot_latlon_subset_timemean/100.,\\\n",
    "                         cape3d_400_latlon_mean[1,:].T,\\\n",
    "                         vmin=0,vmax=20,\\\n",
    "                         #levels=levels, extend='both',\\\n",
    "                         cmap=cmocean.cm.deep)\n",
    "axes[1,0].set_ylim(1013.25,700)\n",
    "\n",
    "\n",
    "\n",
    "cp4 = axes[1,1].pcolormesh(numpy.arange(241)-4,\\\n",
    "                         ptot_latlon_subset_timemean/100.,\\\n",
    "                         cape3d_diffs_latlon_mean[1,:].T,\\\n",
    "                         vmin=-10,vmax=10,\\\n",
    "                         cmap=cmocean.cm.balance_r)\n",
    "axes[1,1].set_ylim(1013.25,700)\n",
    "\n",
    "[ax.tick_params(labelsize=fontsize) for ax in axes.flatten()]\n",
    "[ax.set_xlim(0,240) for ax in axes.flatten()]\n",
    "[ax.set_xlabel('hour', fontsize=fontsize) for ax in [axes[1,0],axes[1,1]]]\n",
    "#[ax.get_yaxis().set_label_coords(-0.15,0.5) for ax in axes.flatten()]\n",
    "[ax.xaxis.grid() for ax in axes.flatten()]\n",
    "[ax.set_xticks(numpy.arange(0,241,24)) for ax in axes.flatten()]\n",
    "[ax.set_xticklabels([]) for ax in axes.flatten()[0:2]]\n",
    "[ax.set_ylabel('hPa', fontsize=fontsize) for ax in axes.flatten()[0::2]]\n",
    "[ax.set_yticks([700,800,900,1000]) for ax in axes.flatten()]\n",
    "\n",
    "fig.tight_layout(h_pad=3,w_pad=5)\n",
    "\n",
    "plot_labels = [\\\n",
    "'(a) background CAPE (J kg$^{\\,-1}$)',\\\n",
    "'(b) phys.– cont. CAPE (J kg$^{\\,-1}$)',\\\n",
    "'(c) background CIN (J kg$^{\\,-1}$)',\\\n",
    "'(d) phys.– cont. CIN (J kg$^{\\,-1}$)']\n",
    "\n",
    "[axes.flatten()[i].text(s=plot_labels[i], ha='left',\\\n",
    "        va='bottom',\\\n",
    "        x=0,y=1.02,\\\n",
    "        transform=axes.flatten()[i].transAxes,\\\n",
    "        fontsize=fontsize)\\\n",
    "for i in range(axes.flatten().size)]\n",
    "\n",
    "cbar_list = [cp1,cp2,cp3,cp4]\n",
    "pos_list = [ax.get_position() for ax in axes.flatten()]\n",
    "cbar_ax_list = [fig.add_axes([axpos.x1+0.02,axpos.y0,0.02,axpos.height]) for axpos in pos_list]\n",
    "#cbar_ax_list += [fig.add_axes([axpos.x0,axpos.y0-.1,axpos.width,0.025]) for axpos in pos_list[2:4]]\n",
    "\n",
    "cbar_list = [fig.colorbar(cbar_list[i], cax=cbar_ax_list[i], orientation='vertical') for i in range(4)]\n",
    "[cax.tick_params(labelsize=fontsize) for cax in cbar_ax_list]\n",
    "\n",
    "fig.savefig('background_and_change_CAPE_CIN.png', dpi=600, bbox_inches='tight', transparent=True)"
   ]
  },
  {
   "cell_type": "code",
   "execution_count": null,
   "metadata": {
    "ExecuteTime": {
     "end_time": "2018-06-27T19:20:34.509275Z",
     "start_time": "2018-06-27T19:20:34.499228Z"
    }
   },
   "outputs": [],
   "source": [
    "pos_list[0::2]"
   ]
  },
  {
   "cell_type": "code",
   "execution_count": null,
   "metadata": {},
   "outputs": [],
   "source": []
  },
  {
   "cell_type": "code",
   "execution_count": null,
   "metadata": {},
   "outputs": [],
   "source": []
  },
  {
   "cell_type": "code",
   "execution_count": null,
   "metadata": {},
   "outputs": [],
   "source": []
  },
  {
   "cell_type": "code",
   "execution_count": null,
   "metadata": {
    "ExecuteTime": {
     "end_time": "2018-06-27T00:53:16.852206Z",
     "start_time": "2018-06-27T00:53:14.099018Z"
    }
   },
   "outputs": [],
   "source": [
    "fontsize = 12\n",
    "\n",
    "fig,axes = mp.subplots(3,1)\n",
    "fig.set_size_inches(4.25,5)\n",
    "\n",
    "levels = numpy.arange(-.1,.11,0.02)*100.\n",
    "contour_plot = axes[0].contourf(numpy.arange(241)-4,\\\n",
    "                                ptot_latlon_subset_timemean/100.,\\\n",
    "                                cldfra_diffs_latlon_subset.T*100.,\\\n",
    "                                levels=levels, extend='both',\\\n",
    "                                cmap=cmocean.cm.balance_r)\n",
    "\n",
    "axes[1].plot(numpy.arange(241)-4,\\\n",
    "             cape2d_diffs_latlon_mean[0,:], c='firebrick')\n",
    "\n",
    "axes[2].plot(numpy.arange(241)-4,\\\n",
    "             cape2d_diffs_latlon_mean[1,:], c='firebrick')\n",
    "# levels = numpy.arange(-.25,.251,0.05)\n",
    "# contour_plot2 = axes[1].pcolormesh(numpy.arange(241)-4,\\\n",
    "#                                 ptot_latlon_subset_timemean/100.,\\\n",
    "#                                 cape3d_cape_diffs_latlon_mean.T,\\\n",
    "#                                 vmin=-200,vmax=200,\\\n",
    "#                                 #levels=levels, extend='both',\\\n",
    "#                                 cmap='PuOr')\n",
    "axes[0].set_ylim(1013.25,700)\n",
    "\n",
    "axes[0].set_ylabel('W m$^{\\,-2}$', fontsize=fontsize)\n",
    "axes[1].set_ylabel('J kg$^{\\,-1}$', fontsize=fontsize)\n",
    "axes[2].set_ylabel('J kg$^{\\,-1}$', fontsize=fontsize)\n",
    "\n",
    "axes[1].axhline(0, lw='1', c='0.1', ls='--')\n",
    "axes[2].axhline(0, lw='1', c='0.1', ls='--')\n",
    "\n",
    "[ax.tick_params(labelsize=fontsize) for ax in axes.flatten()]\n",
    "[ax.set_xlim(0,240) for ax in axes.flatten()]\n",
    "[ax.set_xlabel('hour', fontsize=fontsize) for ax in [axes[-1]]]\n",
    "[ax.get_yaxis().set_label_coords(-0.15,0.5) for ax in axes.flatten()]\n",
    "[ax.xaxis.grid() for ax in axes.flatten()]\n",
    "\n",
    "axes[0].set_ylabel('hPa', fontsize=fontsize)\n",
    "axes[0].set_yticks([700,800,900,1000])\n",
    "\n",
    "# axes[1].set_ylabel('hPa', fontsize=fontsize)\n",
    "# axes[1].set_yticks([700,800,900,1000])\n",
    "\n",
    "[ax.set_xticks(numpy.arange(0,241,24)) for ax in axes.flatten()]\n",
    "[ax.set_xticklabels([]) for ax in axes[0:2]]\n",
    "# [ax.set_axisbelow(True) for ax in axes.flatten()]\n",
    "\n",
    "plot_labels = [\\\n",
    "'(a) $\\Delta$ cloud fraction', \\\n",
    "'(b) $\\Delta$ CAPE', \\\n",
    "'(c) $\\Delta$ CIN']\n",
    "\n",
    "[axes.flatten()[i].text(s=plot_labels[i], ha='left',\\\n",
    "        va='bottom',\\\n",
    "        x=0,y=1.03,\\\n",
    "        transform=axes.flatten()[i].transAxes,\\\n",
    "        fontsize=fontsize)\\\n",
    "for i in range(axes.flatten().size)]\n",
    "\n",
    "fig.tight_layout(h_pad=2)\n",
    "\n",
    "ax1pos = axes[0].get_position()\n",
    "cbar_ax = fig.add_axes([ax1pos.x1+0.025,ax1pos.y0,0.025,ax1pos.height])\n",
    "cbar = fig.colorbar(contour_plot, cax=cbar_ax)\n",
    "cbar_ax.tick_params(labelsize=fontsize)\n",
    "cbar.set_ticks([-10,-5,0,5,10])\n",
    "cbar.set_label('%', fontsize=fontsize)\n",
    "\n",
    "# ax2pos = axes[1].get_position()\n",
    "# cbar_ax = fig.add_axes([ax2pos.x1+0.025,ax2pos.y0,0.025,ax2pos.height])\n",
    "# cbar = fig.colorbar(contour_plot2, cax=cbar_ax)\n",
    "# cbar_ax.tick_params(labelsize=fontsize)\n",
    "# cbar.set_ticks([-200,-100,0,100,200])\n",
    "# cbar.set_label('kJ kg$^{\\,-1}$', fontsize=fontsize)\n",
    "\n",
    "fig.savefig('cloud_cape_cin_timeseries_changes.png',\\\n",
    "           dpi=600, bbox_inches='tight', transparent=True)"
   ]
  },
  {
   "cell_type": "code",
   "execution_count": null,
   "metadata": {
    "ExecuteTime": {
     "end_time": "2018-06-25T06:05:03.117364Z",
     "start_time": "2018-06-25T06:04:59.675547Z"
    }
   },
   "outputs": [],
   "source": [
    "fontsize = 12\n",
    "\n",
    "fig,axes = mp.subplots(4,1)\n",
    "fig.set_size_inches(4.25,6)\n",
    "\n",
    "axes[0].plot(xvals-4,(net_atm_diffs_1000_sw_latlon_subset-net_atm_diffs_400_sw_latlon_subset)/(60*60),c='firebrick',label='full')\n",
    "axes[1].plot(xvals-4,(net_atm_diffs_1000_lw_latlon_subset-net_atm_diffs_400_lw_latlon_subset)/(60*60),c='firebrick')\n",
    "axes[2].plot(xvals-4,\\\n",
    "            ((net_atm_diffs_1000_sw_latlon_subset+net_atm_diffs_1000_lw_latlon_subset)-\\\n",
    "             (net_atm_diffs_400_sw_latlon_subset+net_atm_diffs_400_lw_latlon_subset))/(60*60),c='firebrick')\n",
    "\n",
    "\n",
    "axes[0].plot(xvals-4,(net_atm_diffs_1000_swc_latlon_subset-net_atm_diffs_400_swc_latlon_subset)/(60*60),c='coral',label='clear sky')\n",
    "axes[1].plot(xvals-4,(net_atm_diffs_1000_lwc_latlon_subset-net_atm_diffs_400_lwc_latlon_subset)/(60*60),c='coral')\n",
    "axes[2].plot(xvals-4,\\\n",
    "            ((net_atm_diffs_1000_swc_latlon_subset+net_atm_diffs_1000_lwc_latlon_subset)-\\\n",
    "             (net_atm_diffs_400_swc_latlon_subset+net_atm_diffs_400_lwc_latlon_subset))/(60*60),c='coral')\n",
    "\n",
    "contour_plot = axes[3].contourf(numpy.arange(241)-4,\\\n",
    "                                ptot_latlon_subset_timemean/100.,\\\n",
    "                                cldfra_diffs_latlon_subset.T,\\\n",
    "                                levels=levels, extend='both',\\\n",
    "                                cmap=cmocean.cm.balance_r)\n",
    "\n",
    "axes[3].set_ylim(1013.25,700)\n",
    "\n",
    "axes[0].axhline(0, lw=1, c='0.1', ls='--',zorder=0)\n",
    "axes[1].axhline(0, lw=1, c='0.1', ls='--',zorder=0)\n",
    "axes[2].axhline(0, lw=1, c='0.1', ls='--',zorder=0)\n",
    "\n",
    "axes[1].set_ylim(-10,10)\n",
    "axes[2].set_ylim(-5,5)\n",
    "\n",
    "[ax.tick_params(labelsize=fontsize) for ax in axes.flatten()]\n",
    "[ax.set_xlim(0,240) for ax in axes.flatten()]\n",
    "[ax.set_ylabel('W m$^{\\,-2}$', fontsize=fontsize) for ax in axes.flatten()[0:3]]\n",
    "[ax.set_xlabel('hour', fontsize=fontsize) for ax in [axes[-1]]]\n",
    "[ax.get_yaxis().set_label_coords(-0.15,0.5) for ax in axes.flatten()]\n",
    "[ax.xaxis.grid() for ax in axes.flatten()]\n",
    "\n",
    "axes[3].set_ylabel('hPa', fontsize=fontsize)\n",
    "axes[3].set_yticks([700,800,900,1000])\n",
    "\n",
    "[ax.set_xticks(numpy.arange(0,241,24)) for ax in axes.flatten()]\n",
    "[ax.set_xticklabels([]) for ax in axes[0:3]]\n",
    "# [ax.set_axisbelow(True) for ax in axes.flatten()]\n",
    "\n",
    "plot_labels = [\\\n",
    "'phys.– cont. net atmos. shortwave',\\\n",
    "'phys.– cont. net atmos. longwave',\\\n",
    "'phys.– cont. net atmos. rad.',\\\n",
    "'phys.– cont. cloud fraction change' ]\n",
    "\n",
    "[axes.flatten()[i].text(s=plot_labels[i], ha='left',\\\n",
    "        va='bottom',\\\n",
    "        x=0,y=1.03,\\\n",
    "        transform=axes.flatten()[i].transAxes,\\\n",
    "        fontsize=fontsize)\\\n",
    "for i in range(axes.flatten().size)]\n",
    "\n",
    "fig.tight_layout(h_pad=2)\n",
    "\n",
    "ax4pos = axes[3].get_position()\n",
    "cbar_ax = fig.add_axes([ax4pos.x1+0.025,ax4pos.y0,0.025,ax4pos.height])\n",
    "cbar = fig.colorbar(contour_plot, cax=cbar_ax)\n",
    "cbar_ax.tick_params(labelsize=fontsize)\n",
    "cbar.set_ticks([-.1,-0.05,0,0.05,0.1])\n",
    "cbar.set_label('%', fontsize=fontsize)\n",
    "\n",
    "handles,labels=axes[0].get_legend_handles_labels()\n",
    "axes[0].legend(handles, labels, fontsize=fontsize, scatterpoints=1, ncol=1, \\\n",
    "               bbox_to_anchor=(1.03,1.0), bbox_transform=axes[0].transAxes, \\\n",
    "               loc='upper left', borderaxespad=0,\\\n",
    "               fancybox=False, edgecolor='0', framealpha=0, borderpad=0., \\\n",
    "               handletextpad=0.5)\n",
    "\n",
    "fig.savefig('radiation_AND_CLOUD_changes_with_control_full_and_clearsky.png',\\\n",
    "           dpi=600, bbox_inches='tight', transparent=True)"
   ]
  },
  {
   "cell_type": "code",
   "execution_count": null,
   "metadata": {},
   "outputs": [],
   "source": []
  },
  {
   "cell_type": "code",
   "execution_count": null,
   "metadata": {},
   "outputs": [],
   "source": []
  },
  {
   "cell_type": "code",
   "execution_count": null,
   "metadata": {},
   "outputs": [],
   "source": []
  },
  {
   "cell_type": "code",
   "execution_count": null,
   "metadata": {},
   "outputs": [],
   "source": []
  },
  {
   "cell_type": "code",
   "execution_count": null,
   "metadata": {},
   "outputs": [],
   "source": []
  },
  {
   "cell_type": "code",
   "execution_count": null,
   "metadata": {},
   "outputs": [],
   "source": []
  },
  {
   "cell_type": "code",
   "execution_count": null,
   "metadata": {},
   "outputs": [],
   "source": []
  },
  {
   "cell_type": "markdown",
   "metadata": {},
   "source": [
    "# get time data"
   ]
  },
  {
   "cell_type": "code",
   "execution_count": null,
   "metadata": {
    "ExecuteTime": {
     "end_time": "2018-06-24T02:10:17.561197Z",
     "start_time": "2018-06-24T02:10:17.546577Z"
    }
   },
   "outputs": [],
   "source": [
    "time_datetimes = pandas.to_datetime([i.decode('utf-8') for i in time], format = '%Y-%m-%d_%H:%M:%S')"
   ]
  },
  {
   "cell_type": "code",
   "execution_count": null,
   "metadata": {
    "ExecuteTime": {
     "end_time": "2018-06-24T02:10:19.750505Z",
     "start_time": "2018-06-24T02:10:19.735549Z"
    }
   },
   "outputs": [],
   "source": [
    "skip_time = 24\n",
    "n_intervals = 8\n",
    "hour_strings = ['06','09','12','15','18','21','00','03']\n",
    "hour_strings_local = ['02', '05', '08', '11', '14', '17','20', '23']\n",
    "\n",
    "times_00 = [t.hour in [23,0,1] for t in time_datetimes[skip_time:]]\n",
    "times_03 = [t.hour in [2,3,4] for t in time_datetimes[skip_time:]]\n",
    "times_06 = [t.hour in [5,6,7] for t in time_datetimes[skip_time:]]\n",
    "times_09 = [t.hour in [8,9,10] for t in time_datetimes[skip_time:]]\n",
    "times_12 = [t.hour in [11,12,13] for t in time_datetimes[skip_time:]]\n",
    "times_15 = [t.hour in [14,15,16] for t in time_datetimes[skip_time:]]\n",
    "times_18 = [t.hour in [17,18,19] for t in time_datetimes[skip_time:]]\n",
    "times_21 = [t.hour in [20,21,22] for t in time_datetimes[skip_time:]]"
   ]
  },
  {
   "cell_type": "markdown",
   "metadata": {},
   "source": [
    "# lat indices"
   ]
  },
  {
   "cell_type": "code",
   "execution_count": null,
   "metadata": {
    "ExecuteTime": {
     "end_time": "2018-06-17T04:02:32.365226Z",
     "start_time": "2018-06-17T04:02:32.359084Z"
    }
   },
   "outputs": [],
   "source": [
    "lat_hi = 10.\n",
    "lat_lo = -10.\n",
    "\n",
    "# subset between lat_hi and lat_lo\n",
    "lat_indices = (xlat<=lat_hi)&(xlat>=lat_lo)"
   ]
  },
  {
   "cell_type": "code",
   "execution_count": null,
   "metadata": {
    "ExecuteTime": {
     "end_time": "2018-06-17T04:05:31.608852Z",
     "start_time": "2018-06-17T04:05:31.600230Z"
    }
   },
   "outputs": [],
   "source": [
    "lon_lo = 290-360\n",
    "lon_hi = 320-360\n",
    "lon_indices = (xlong[0,:]<lon_lo)|(xlong[0,:]>lon_hi)"
   ]
  },
  {
   "cell_type": "markdown",
   "metadata": {},
   "source": [
    "# cldfra"
   ]
  },
  {
   "cell_type": "raw",
   "metadata": {
    "ExecuteTime": {
     "end_time": "2018-06-14T06:19:13.611597Z",
     "start_time": "2018-06-14T06:08:31.797511Z"
    }
   },
   "source": [
    "cldfra_diffs = cldfra_1000.values-cldfra_400.values\n",
    "\n",
    "cldfra_diffs_landmask = numpy.copy(cldfra_diffs)\n",
    "cldfra_diffs_landmask[:,:,landmask==1]=numpy.nan\n",
    "\n",
    "cldfra_diffs_lat_subset = cldfra_diffs[:,:,lat_indices[:,0],:]\n",
    "\n",
    "cldfra_400_landmask = numpy.copy(cldfra_400)\n",
    "cldfra_400_landmask[:,:,landmask==1]=numpy.nan"
   ]
  },
  {
   "cell_type": "raw",
   "metadata": {
    "ExecuteTime": {
     "end_time": "2018-06-14T06:20:20.509608Z",
     "start_time": "2018-06-14T06:19:14.812532Z"
    }
   },
   "source": [
    "cldfra_400_lat_subset = cldfra_400[:,:,lat_indices[:,0],:]\n",
    "cldfra_diffs_lat_mean = numpy.nanmean(cldfra_diffs_lat_subset, axis=2)\n",
    "cldfra_400_lat_mean = numpy.nanmean(cldfra_400_lat_subset, axis=2)"
   ]
  },
  {
   "cell_type": "markdown",
   "metadata": {},
   "source": [
    "# geopotential"
   ]
  },
  {
   "cell_type": "code",
   "execution_count": null,
   "metadata": {
    "ExecuteTime": {
     "end_time": "2018-06-17T04:07:57.679876Z",
     "start_time": "2018-06-17T04:07:42.668321Z"
    }
   },
   "outputs": [],
   "source": [
    "geopot_400_landmask = numpy.copy(geopot_400)\n",
    "geopot_400_landmask[:,:,landmask==1]=numpy.nan"
   ]
  },
  {
   "cell_type": "code",
   "execution_count": null,
   "metadata": {
    "ExecuteTime": {
     "end_time": "2018-06-17T04:08:07.257499Z",
     "start_time": "2018-06-17T04:07:58.613026Z"
    }
   },
   "outputs": [],
   "source": [
    "geopot_400_lat_subset = geopot_400[:,:,lat_indices[:,0],:]\n",
    "geopot_400_lat_mean = numpy.nanmean(geopot_400_lat_subset, axis=2)"
   ]
  },
  {
   "cell_type": "markdown",
   "metadata": {},
   "source": [
    "# net_bottom"
   ]
  },
  {
   "cell_type": "code",
   "execution_count": null,
   "metadata": {
    "ExecuteTime": {
     "end_time": "2018-06-17T04:50:44.980744Z",
     "start_time": "2018-06-17T04:50:43.631144Z"
    }
   },
   "outputs": [],
   "source": [
    "net_bottom_diffs = net_bottom_diffs_1000-net_bottom_diffs_400"
   ]
  },
  {
   "cell_type": "code",
   "execution_count": null,
   "metadata": {
    "ExecuteTime": {
     "end_time": "2018-06-17T04:50:52.750576Z",
     "start_time": "2018-06-17T04:50:44.989419Z"
    }
   },
   "outputs": [],
   "source": [
    "net_bottom_diffs_landmask = numpy.copy(net_bottom_diffs)\n",
    "net_bottom_diffs_landmask[:,landmask==0]=numpy.nan\n",
    "\n",
    "net_bottom_400_landmask = numpy.copy(net_bottom_400)\n",
    "net_bottom_400_landmask[:,landmask==0]=numpy.nan\n",
    "\n",
    "net_bottom_1000_landmask = numpy.copy(net_bottom_1000)\n",
    "net_bottom_1000_landmask[:,landmask==0]=numpy.nan"
   ]
  },
  {
   "cell_type": "code",
   "execution_count": null,
   "metadata": {
    "ExecuteTime": {
     "end_time": "2018-06-17T04:50:57.308961Z",
     "start_time": "2018-06-17T04:50:57.223712Z"
    }
   },
   "outputs": [],
   "source": [
    "net_bottom_diffs_lat_subset = net_bottom_diffs_landmask[:,lat_indices[:,0],:]\n",
    "net_bottom_400_lat_subset = net_bottom_400_landmask[:,lat_indices[:,0],:]\n",
    "net_bottom_1000_lat_subset = net_bottom_1000_landmask[:,lat_indices[:,0],:]\n",
    "\n",
    "net_bottom_400_lat_subset[:,:,lon_indices]=numpy.nan\n",
    "net_bottom_1000_lat_subset[:,:,lon_indices]=numpy.nan"
   ]
  },
  {
   "cell_type": "code",
   "execution_count": null,
   "metadata": {
    "ExecuteTime": {
     "end_time": "2018-06-17T04:50:59.683003Z",
     "start_time": "2018-06-17T04:50:59.473753Z"
    }
   },
   "outputs": [],
   "source": [
    "net_bottom_diffs_lat_mean = numpy.nanmean(net_bottom_diffs_lat_subset, axis=1)\n",
    "net_bottom_400_lat_mean = numpy.nanmean(net_bottom_400_lat_subset, axis=1)\n",
    "net_bottom_1000_lat_mean = numpy.nanmean(net_bottom_1000_lat_subset, axis=1)"
   ]
  },
  {
   "cell_type": "markdown",
   "metadata": {},
   "source": [
    "# fira"
   ]
  },
  {
   "cell_type": "code",
   "execution_count": null,
   "metadata": {
    "ExecuteTime": {
     "end_time": "2018-06-17T04:04:32.767647Z",
     "start_time": "2018-06-17T04:04:07.332756Z"
    }
   },
   "outputs": [],
   "source": [
    "fira_diffs = fira_1000.values-fira_400.values"
   ]
  },
  {
   "cell_type": "code",
   "execution_count": null,
   "metadata": {
    "ExecuteTime": {
     "end_time": "2018-06-17T04:04:33.528212Z",
     "start_time": "2018-06-17T04:04:33.398230Z"
    }
   },
   "outputs": [],
   "source": [
    "fira_diffs_landmask = numpy.copy(fira_diffs)\n",
    "fira_diffs_landmask[:,landmask==0]=numpy.nan\n",
    "\n",
    "fira_400_landmask = numpy.copy(fira_400)\n",
    "fira_400_landmask[:,landmask==0]=numpy.nan\n",
    "\n",
    "fira_1000_landmask = numpy.copy(fira_1000)\n",
    "fira_1000_landmask[:,landmask==0]=numpy.nan"
   ]
  },
  {
   "cell_type": "code",
   "execution_count": null,
   "metadata": {
    "ExecuteTime": {
     "end_time": "2018-06-17T04:13:19.234532Z",
     "start_time": "2018-06-17T04:13:15.257165Z"
    }
   },
   "outputs": [],
   "source": [
    "fira_diffs_lat_subset = fira_diffs_landmask[:,lat_indices[:,0],:]\n",
    "fira_400_lat_subset = fira_400_landmask[:,lat_indices[:,0],:]\n",
    "fira_1000_lat_subset = fira_1000_landmask[:,lat_indices[:,0],:]\n",
    "\n",
    "fira_400_lat_subset[:,:,lon_indices]=numpy.nan\n",
    "fira_1000_lat_subset[:,:,lon_indices]=numpy.nan"
   ]
  },
  {
   "cell_type": "code",
   "execution_count": null,
   "metadata": {
    "ExecuteTime": {
     "end_time": "2018-06-17T04:13:21.582302Z",
     "start_time": "2018-06-17T04:13:20.257743Z"
    }
   },
   "outputs": [],
   "source": [
    "fira_diffs_lat_mean = numpy.nanmean(fira_diffs_lat_subset, axis=1)\n",
    "fira_400_lat_mean = numpy.nanmean(fira_400_lat_subset, axis=1)\n",
    "fira_1000_lat_mean = numpy.nanmean(fira_1000_lat_subset, axis=1)"
   ]
  },
  {
   "cell_type": "markdown",
   "metadata": {},
   "source": [
    "# fsa"
   ]
  },
  {
   "cell_type": "code",
   "execution_count": null,
   "metadata": {
    "ExecuteTime": {
     "end_time": "2018-06-17T04:04:53.875147Z",
     "start_time": "2018-06-17T04:04:40.844402Z"
    }
   },
   "outputs": [],
   "source": [
    "fsa_diffs = fsa_1000.values-fsa_400.values"
   ]
  },
  {
   "cell_type": "code",
   "execution_count": null,
   "metadata": {
    "ExecuteTime": {
     "end_time": "2018-06-17T04:04:54.669112Z",
     "start_time": "2018-06-17T04:04:54.539566Z"
    }
   },
   "outputs": [],
   "source": [
    "fsa_diffs_landmask = numpy.copy(fsa_diffs)\n",
    "fsa_diffs_landmask[:,landmask==0]=numpy.nan\n",
    "\n",
    "fsa_400_landmask = numpy.copy(fsa_400)\n",
    "fsa_400_landmask[:,landmask==0]=numpy.nan\n",
    "\n",
    "fsa_1000_landmask = numpy.copy(fsa_1000)\n",
    "fsa_1000_landmask[:,landmask==0]=numpy.nan"
   ]
  },
  {
   "cell_type": "code",
   "execution_count": null,
   "metadata": {
    "ExecuteTime": {
     "end_time": "2018-06-17T04:13:19.234532Z",
     "start_time": "2018-06-17T04:13:15.257165Z"
    }
   },
   "outputs": [],
   "source": [
    "fsa_diffs_lat_subset = fsa_diffs_landmask[:,lat_indices[:,0],:]\n",
    "fsa_400_lat_subset = fsa_400_landmask[:,lat_indices[:,0],:]\n",
    "fsa_1000_lat_subset = fsa_1000_landmask[:,lat_indices[:,0],:]\n",
    "\n",
    "fsa_400_lat_subset[:,:,lon_indices]=numpy.nan\n",
    "fsa_1000_lat_subset[:,:,lon_indices]=numpy.nan"
   ]
  },
  {
   "cell_type": "code",
   "execution_count": null,
   "metadata": {
    "ExecuteTime": {
     "end_time": "2018-06-17T04:13:21.582302Z",
     "start_time": "2018-06-17T04:13:20.257743Z"
    }
   },
   "outputs": [],
   "source": [
    "fsa_diffs_lat_mean = numpy.nanmean(fsa_diffs_lat_subset, axis=1)\n",
    "fsa_400_lat_mean = numpy.nanmean(fsa_400_lat_subset, axis=1)\n",
    "fsa_1000_lat_mean = numpy.nanmean(fsa_1000_lat_subset, axis=1)"
   ]
  },
  {
   "cell_type": "markdown",
   "metadata": {},
   "source": [
    "# glw"
   ]
  },
  {
   "cell_type": "code",
   "execution_count": null,
   "metadata": {
    "ExecuteTime": {
     "end_time": "2018-06-17T04:35:13.048463Z",
     "start_time": "2018-06-17T04:35:01.271278Z"
    }
   },
   "outputs": [],
   "source": [
    "glw_diffs = glw_1000.values-glw_400.values"
   ]
  },
  {
   "cell_type": "code",
   "execution_count": null,
   "metadata": {
    "ExecuteTime": {
     "end_time": "2018-06-17T04:35:17.243103Z",
     "start_time": "2018-06-17T04:35:14.428058Z"
    }
   },
   "outputs": [],
   "source": [
    "glw_diffs_landmask = numpy.copy(glw_diffs)\n",
    "glw_diffs_landmask[:,landmask==0]=numpy.nan\n",
    "\n",
    "glw_400_landmask = numpy.copy(glw_400)\n",
    "glw_400_landmask[:,landmask==0]=numpy.nan\n",
    "\n",
    "glw_1000_landmask = numpy.copy(glw_1000)\n",
    "glw_1000_landmask[:,landmask==0]=numpy.nan"
   ]
  },
  {
   "cell_type": "code",
   "execution_count": null,
   "metadata": {
    "ExecuteTime": {
     "end_time": "2018-06-17T04:35:19.784794Z",
     "start_time": "2018-06-17T04:35:18.652049Z"
    }
   },
   "outputs": [],
   "source": [
    "glw_diffs_lat_subset = glw_diffs_landmask[:,lat_indices[:,0],:]\n",
    "glw_400_lat_subset = glw_400_landmask[:,lat_indices[:,0],:]\n",
    "glw_1000_lat_subset = glw_1000_landmask[:,lat_indices[:,0],:]\n",
    "\n",
    "glw_400_lat_subset[:,:,lon_indices]=numpy.nan\n",
    "glw_1000_lat_subset[:,:,lon_indices]=numpy.nan"
   ]
  },
  {
   "cell_type": "code",
   "execution_count": null,
   "metadata": {
    "ExecuteTime": {
     "end_time": "2018-06-17T04:35:21.412573Z",
     "start_time": "2018-06-17T04:35:21.232332Z"
    }
   },
   "outputs": [],
   "source": [
    "glw_diffs_lat_mean = numpy.nanmean(glw_diffs_lat_subset, axis=1)\n",
    "glw_400_lat_mean = numpy.nanmean(glw_400_lat_subset, axis=1)\n",
    "glw_1000_lat_mean = numpy.nanmean(glw_1000_lat_subset, axis=1)"
   ]
  },
  {
   "cell_type": "markdown",
   "metadata": {},
   "source": [
    "# swdown"
   ]
  },
  {
   "cell_type": "code",
   "execution_count": null,
   "metadata": {
    "ExecuteTime": {
     "end_time": "2018-06-17T04:35:13.048463Z",
     "start_time": "2018-06-17T04:35:01.271278Z"
    }
   },
   "outputs": [],
   "source": [
    "swdown_diffs = swdown_1000.values-swdown_400.values"
   ]
  },
  {
   "cell_type": "code",
   "execution_count": null,
   "metadata": {
    "ExecuteTime": {
     "end_time": "2018-06-17T04:35:17.243103Z",
     "start_time": "2018-06-17T04:35:14.428058Z"
    }
   },
   "outputs": [],
   "source": [
    "swdown_diffs_landmask = numpy.copy(swdown_diffs)\n",
    "swdown_diffs_landmask[:,landmask==0]=numpy.nan\n",
    "\n",
    "swdown_400_landmask = numpy.copy(swdown_400)\n",
    "swdown_400_landmask[:,landmask==0]=numpy.nan\n",
    "\n",
    "swdown_1000_landmask = numpy.copy(swdown_1000)\n",
    "swdown_1000_landmask[:,landmask==0]=numpy.nan"
   ]
  },
  {
   "cell_type": "code",
   "execution_count": null,
   "metadata": {
    "ExecuteTime": {
     "end_time": "2018-06-17T04:35:19.784794Z",
     "start_time": "2018-06-17T04:35:18.652049Z"
    }
   },
   "outputs": [],
   "source": [
    "swdown_diffs_lat_subset = swdown_diffs_landmask[:,lat_indices[:,0],:]\n",
    "swdown_400_lat_subset = swdown_400_landmask[:,lat_indices[:,0],:]\n",
    "swdown_1000_lat_subset = swdown_1000_landmask[:,lat_indices[:,0],:]\n",
    "\n",
    "swdown_400_lat_subset[:,:,lon_indices]=numpy.nan\n",
    "swdown_1000_lat_subset[:,:,lon_indices]=numpy.nan"
   ]
  },
  {
   "cell_type": "code",
   "execution_count": null,
   "metadata": {
    "ExecuteTime": {
     "end_time": "2018-06-17T04:35:21.412573Z",
     "start_time": "2018-06-17T04:35:21.232332Z"
    }
   },
   "outputs": [],
   "source": [
    "swdown_diffs_lat_mean = numpy.nanmean(swdown_diffs_lat_subset, axis=1)\n",
    "swdown_400_lat_mean = numpy.nanmean(swdown_400_lat_subset, axis=1)\n",
    "swdown_1000_lat_mean = numpy.nanmean(swdown_1000_lat_subset, axis=1)"
   ]
  },
  {
   "cell_type": "markdown",
   "metadata": {},
   "source": [
    "# 3 hourly means of net_bottom"
   ]
  },
  {
   "cell_type": "code",
   "execution_count": null,
   "metadata": {
    "ExecuteTime": {
     "end_time": "2018-06-17T04:51:11.475177Z",
     "start_time": "2018-06-17T04:51:11.447771Z"
    }
   },
   "outputs": [],
   "source": [
    "# calculate 3 hourly means for 400\n",
    "net_bottom_400_t00mean = numpy.mean(net_bottom_400_lat_mean[skip_time:][times_00,:], axis=0)\n",
    "net_bottom_400_t03mean = numpy.mean(net_bottom_400_lat_mean[skip_time:][times_03,:], axis=0)\n",
    "net_bottom_400_t06mean = numpy.mean(net_bottom_400_lat_mean[skip_time:][times_06,:], axis=0)\n",
    "net_bottom_400_t09mean = numpy.mean(net_bottom_400_lat_mean[skip_time:][times_09,:], axis=0)\n",
    "net_bottom_400_t12mean = numpy.mean(net_bottom_400_lat_mean[skip_time:][times_12,:], axis=0)\n",
    "net_bottom_400_t15mean = numpy.mean(net_bottom_400_lat_mean[skip_time:][times_15,:], axis=0)\n",
    "net_bottom_400_t18mean = numpy.mean(net_bottom_400_lat_mean[skip_time:][times_18,:], axis=0)\n",
    "net_bottom_400_t21mean = numpy.mean(net_bottom_400_lat_mean[skip_time:][times_21,:], axis=0)\n",
    "\n",
    "net_bottom_1000_t00mean = numpy.nanmean(net_bottom_1000_lat_mean[skip_time:][times_00,:], axis=0)\n",
    "net_bottom_1000_t03mean = numpy.nanmean(net_bottom_1000_lat_mean[skip_time:][times_03,:], axis=0)\n",
    "net_bottom_1000_t06mean = numpy.nanmean(net_bottom_1000_lat_mean[skip_time:][times_06,:], axis=0)\n",
    "net_bottom_1000_t09mean = numpy.nanmean(net_bottom_1000_lat_mean[skip_time:][times_09,:], axis=0)\n",
    "net_bottom_1000_t12mean = numpy.nanmean(net_bottom_1000_lat_mean[skip_time:][times_12,:], axis=0)\n",
    "net_bottom_1000_t15mean = numpy.nanmean(net_bottom_1000_lat_mean[skip_time:][times_15,:], axis=0)\n",
    "net_bottom_1000_t18mean = numpy.nanmean(net_bottom_1000_lat_mean[skip_time:][times_18,:], axis=0)\n",
    "net_bottom_1000_t21mean = numpy.nanmean(net_bottom_1000_lat_mean[skip_time:][times_21,:], axis=0)\n",
    "\n",
    "net_bottom_400_array = numpy.array([net_bottom_400_t06mean, net_bottom_400_t09mean, net_bottom_400_t12mean, net_bottom_400_t15mean, net_bottom_400_t18mean, net_bottom_400_t21mean, net_bottom_400_t00mean, net_bottom_400_t03mean])\n",
    "net_bottom_1000_array = numpy.array([net_bottom_1000_t06mean, net_bottom_1000_t09mean, net_bottom_1000_t12mean, net_bottom_1000_t15mean, net_bottom_1000_t18mean, net_bottom_1000_t21mean, net_bottom_1000_t00mean, net_bottom_1000_t03mean])\n"
   ]
  },
  {
   "cell_type": "code",
   "execution_count": null,
   "metadata": {
    "ExecuteTime": {
     "end_time": "2018-06-17T04:51:14.396961Z",
     "start_time": "2018-06-17T04:51:14.377935Z"
    }
   },
   "outputs": [],
   "source": [
    "# calculate 3 hourly means for 400\n",
    "net_bottom_diffs_t00mean = numpy.nanmean(net_bottom_diffs_lat_mean[skip_time:,:][times_00,:], axis=0)\n",
    "net_bottom_diffs_t03mean = numpy.nanmean(net_bottom_diffs_lat_mean[skip_time:,:][times_03,:], axis=0)\n",
    "net_bottom_diffs_t06mean = numpy.nanmean(net_bottom_diffs_lat_mean[skip_time:,:][times_06,:], axis=0)\n",
    "net_bottom_diffs_t09mean = numpy.nanmean(net_bottom_diffs_lat_mean[skip_time:,:][times_09,:], axis=0)\n",
    "net_bottom_diffs_t12mean = numpy.nanmean(net_bottom_diffs_lat_mean[skip_time:,:][times_12,:], axis=0)\n",
    "net_bottom_diffs_t15mean = numpy.nanmean(net_bottom_diffs_lat_mean[skip_time:,:][times_15,:], axis=0)\n",
    "net_bottom_diffs_t18mean = numpy.nanmean(net_bottom_diffs_lat_mean[skip_time:,:][times_18,:], axis=0)\n",
    "net_bottom_diffs_t21mean = numpy.nanmean(net_bottom_diffs_lat_mean[skip_time:,:][times_21,:], axis=0)\n",
    "\n",
    "net_bottom_diffs_array = numpy.array([net_bottom_diffs_t06mean, net_bottom_diffs_t09mean, net_bottom_diffs_t12mean, net_bottom_diffs_t15mean, net_bottom_diffs_t18mean, net_bottom_diffs_t21mean, net_bottom_diffs_t00mean, net_bottom_diffs_t03mean])\n"
   ]
  },
  {
   "cell_type": "markdown",
   "metadata": {},
   "source": [
    "# 3 hourly means of fira"
   ]
  },
  {
   "cell_type": "code",
   "execution_count": null,
   "metadata": {
    "ExecuteTime": {
     "end_time": "2018-06-17T04:13:25.550317Z",
     "start_time": "2018-06-17T04:13:25.532569Z"
    }
   },
   "outputs": [],
   "source": [
    "# calculate 3 hourly means for 400\n",
    "fira_400_t00mean = numpy.mean(fira_400_lat_mean[skip_time:][times_00,:], axis=0)\n",
    "fira_400_t03mean = numpy.mean(fira_400_lat_mean[skip_time:][times_03,:], axis=0)\n",
    "fira_400_t06mean = numpy.mean(fira_400_lat_mean[skip_time:][times_06,:], axis=0)\n",
    "fira_400_t09mean = numpy.mean(fira_400_lat_mean[skip_time:][times_09,:], axis=0)\n",
    "fira_400_t12mean = numpy.mean(fira_400_lat_mean[skip_time:][times_12,:], axis=0)\n",
    "fira_400_t15mean = numpy.mean(fira_400_lat_mean[skip_time:][times_15,:], axis=0)\n",
    "fira_400_t18mean = numpy.mean(fira_400_lat_mean[skip_time:][times_18,:], axis=0)\n",
    "fira_400_t21mean = numpy.mean(fira_400_lat_mean[skip_time:][times_21,:], axis=0)\n",
    "\n",
    "fira_1000_t00mean = numpy.mean(fira_1000_lat_mean[skip_time:][times_00,:], axis=0)\n",
    "fira_1000_t03mean = numpy.mean(fira_1000_lat_mean[skip_time:][times_03,:], axis=0)\n",
    "fira_1000_t06mean = numpy.mean(fira_1000_lat_mean[skip_time:][times_06,:], axis=0)\n",
    "fira_1000_t09mean = numpy.mean(fira_1000_lat_mean[skip_time:][times_09,:], axis=0)\n",
    "fira_1000_t12mean = numpy.mean(fira_1000_lat_mean[skip_time:][times_12,:], axis=0)\n",
    "fira_1000_t15mean = numpy.mean(fira_1000_lat_mean[skip_time:][times_15,:], axis=0)\n",
    "fira_1000_t18mean = numpy.mean(fira_1000_lat_mean[skip_time:][times_18,:], axis=0)\n",
    "fira_1000_t21mean = numpy.mean(fira_1000_lat_mean[skip_time:][times_21,:], axis=0)\n",
    "\n",
    "fira_400_array = numpy.array([fira_400_t06mean, fira_400_t09mean, fira_400_t12mean, fira_400_t15mean, fira_400_t18mean, fira_400_t21mean, fira_400_t00mean, fira_400_t03mean])\n",
    "fira_1000_array = numpy.array([fira_1000_t06mean, fira_1000_t09mean, fira_1000_t12mean, fira_1000_t15mean, fira_1000_t18mean, fira_1000_t21mean, fira_1000_t00mean, fira_1000_t03mean])\n"
   ]
  },
  {
   "cell_type": "code",
   "execution_count": null,
   "metadata": {
    "ExecuteTime": {
     "end_time": "2018-06-17T04:24:07.089984Z",
     "start_time": "2018-06-17T04:24:07.075151Z"
    }
   },
   "outputs": [],
   "source": [
    "# calculate 3 hourly means for 400\n",
    "fira_diffs_t00mean = numpy.mean(fira_diffs_lat_mean[skip_time:,:][times_00,:], axis=0)\n",
    "fira_diffs_t03mean = numpy.mean(fira_diffs_lat_mean[skip_time:,:][times_03,:], axis=0)\n",
    "fira_diffs_t06mean = numpy.mean(fira_diffs_lat_mean[skip_time:,:][times_06,:], axis=0)\n",
    "fira_diffs_t09mean = numpy.mean(fira_diffs_lat_mean[skip_time:,:][times_09,:], axis=0)\n",
    "fira_diffs_t12mean = numpy.mean(fira_diffs_lat_mean[skip_time:,:][times_12,:], axis=0)\n",
    "fira_diffs_t15mean = numpy.mean(fira_diffs_lat_mean[skip_time:,:][times_15,:], axis=0)\n",
    "fira_diffs_t18mean = numpy.mean(fira_diffs_lat_mean[skip_time:,:][times_18,:], axis=0)\n",
    "fira_diffs_t21mean = numpy.mean(fira_diffs_lat_mean[skip_time:,:][times_21,:], axis=0)\n",
    "\n",
    "fira_diffs_array = numpy.array([fira_diffs_t06mean, fira_diffs_t09mean, fira_diffs_t12mean, fira_diffs_t15mean, fira_diffs_t18mean, fira_diffs_t21mean, fira_diffs_t00mean, fira_diffs_t03mean])\n"
   ]
  },
  {
   "cell_type": "markdown",
   "metadata": {},
   "source": [
    "# 3 hourly means of fsa"
   ]
  },
  {
   "cell_type": "code",
   "execution_count": null,
   "metadata": {
    "ExecuteTime": {
     "end_time": "2018-06-17T04:17:28.167904Z",
     "start_time": "2018-06-17T04:17:28.149999Z"
    }
   },
   "outputs": [],
   "source": [
    "# calculate 3 hourly means for 400\n",
    "fsa_400_t00mean = numpy.mean(fsa_400_lat_mean[skip_time:][times_00,:], axis=0)\n",
    "fsa_400_t03mean = numpy.mean(fsa_400_lat_mean[skip_time:][times_03,:], axis=0)\n",
    "fsa_400_t06mean = numpy.mean(fsa_400_lat_mean[skip_time:][times_06,:], axis=0)\n",
    "fsa_400_t09mean = numpy.mean(fsa_400_lat_mean[skip_time:][times_09,:], axis=0)\n",
    "fsa_400_t12mean = numpy.mean(fsa_400_lat_mean[skip_time:][times_12,:], axis=0)\n",
    "fsa_400_t15mean = numpy.mean(fsa_400_lat_mean[skip_time:][times_15,:], axis=0)\n",
    "fsa_400_t18mean = numpy.mean(fsa_400_lat_mean[skip_time:][times_18,:], axis=0)\n",
    "fsa_400_t21mean = numpy.mean(fsa_400_lat_mean[skip_time:][times_21,:], axis=0)\n",
    "\n",
    "fsa_1000_t00mean = numpy.mean(fsa_1000_lat_mean[skip_time:][times_00,:], axis=0)\n",
    "fsa_1000_t03mean = numpy.mean(fsa_1000_lat_mean[skip_time:][times_03,:], axis=0)\n",
    "fsa_1000_t06mean = numpy.mean(fsa_1000_lat_mean[skip_time:][times_06,:], axis=0)\n",
    "fsa_1000_t09mean = numpy.mean(fsa_1000_lat_mean[skip_time:][times_09,:], axis=0)\n",
    "fsa_1000_t12mean = numpy.mean(fsa_1000_lat_mean[skip_time:][times_12,:], axis=0)\n",
    "fsa_1000_t15mean = numpy.mean(fsa_1000_lat_mean[skip_time:][times_15,:], axis=0)\n",
    "fsa_1000_t18mean = numpy.mean(fsa_1000_lat_mean[skip_time:][times_18,:], axis=0)\n",
    "fsa_1000_t21mean = numpy.mean(fsa_1000_lat_mean[skip_time:][times_21,:], axis=0)\n",
    "\n",
    "fsa_400_array = numpy.array([fsa_400_t06mean, fsa_400_t09mean, fsa_400_t12mean, fsa_400_t15mean, fsa_400_t18mean, fsa_400_t21mean, fsa_400_t00mean, fsa_400_t03mean])\n",
    "fsa_1000_array = numpy.array([fsa_1000_t06mean, fsa_1000_t09mean, fsa_1000_t12mean, fsa_1000_t15mean, fsa_1000_t18mean, fsa_1000_t21mean, fsa_1000_t00mean, fsa_1000_t03mean])"
   ]
  },
  {
   "cell_type": "code",
   "execution_count": null,
   "metadata": {
    "ExecuteTime": {
     "end_time": "2018-06-17T04:23:53.603889Z",
     "start_time": "2018-06-17T04:23:53.589110Z"
    }
   },
   "outputs": [],
   "source": [
    "# calculate 3 hourly means for 400\n",
    "fsa_diffs_t00mean = numpy.mean(fsa_diffs_lat_mean[skip_time:,:][times_00,:], axis=0)\n",
    "fsa_diffs_t03mean = numpy.mean(fsa_diffs_lat_mean[skip_time:,:][times_03,:], axis=0)\n",
    "fsa_diffs_t06mean = numpy.mean(fsa_diffs_lat_mean[skip_time:,:][times_06,:], axis=0)\n",
    "fsa_diffs_t09mean = numpy.mean(fsa_diffs_lat_mean[skip_time:,:][times_09,:], axis=0)\n",
    "fsa_diffs_t12mean = numpy.mean(fsa_diffs_lat_mean[skip_time:,:][times_12,:], axis=0)\n",
    "fsa_diffs_t15mean = numpy.mean(fsa_diffs_lat_mean[skip_time:,:][times_15,:], axis=0)\n",
    "fsa_diffs_t18mean = numpy.mean(fsa_diffs_lat_mean[skip_time:,:][times_18,:], axis=0)\n",
    "fsa_diffs_t21mean = numpy.mean(fsa_diffs_lat_mean[skip_time:,:][times_21,:], axis=0)\n",
    "\n",
    "fsa_diffs_array = numpy.array([fsa_diffs_t06mean, fsa_diffs_t09mean, fsa_diffs_t12mean, fsa_diffs_t15mean, fsa_diffs_t18mean, fsa_diffs_t21mean, fsa_diffs_t00mean, fsa_diffs_t03mean])\n"
   ]
  },
  {
   "cell_type": "markdown",
   "metadata": {},
   "source": [
    "# 3 hourly means of glw"
   ]
  },
  {
   "cell_type": "code",
   "execution_count": null,
   "metadata": {
    "ExecuteTime": {
     "end_time": "2018-06-17T04:35:34.295636Z",
     "start_time": "2018-06-17T04:35:34.274525Z"
    }
   },
   "outputs": [],
   "source": [
    "# calculate 3 hourly means for 400\n",
    "glw_400_t00mean = numpy.mean(glw_400_lat_mean[skip_time:][times_00,:], axis=0)\n",
    "glw_400_t03mean = numpy.mean(glw_400_lat_mean[skip_time:][times_03,:], axis=0)\n",
    "glw_400_t06mean = numpy.mean(glw_400_lat_mean[skip_time:][times_06,:], axis=0)\n",
    "glw_400_t09mean = numpy.mean(glw_400_lat_mean[skip_time:][times_09,:], axis=0)\n",
    "glw_400_t12mean = numpy.mean(glw_400_lat_mean[skip_time:][times_12,:], axis=0)\n",
    "glw_400_t15mean = numpy.mean(glw_400_lat_mean[skip_time:][times_15,:], axis=0)\n",
    "glw_400_t18mean = numpy.mean(glw_400_lat_mean[skip_time:][times_18,:], axis=0)\n",
    "glw_400_t21mean = numpy.mean(glw_400_lat_mean[skip_time:][times_21,:], axis=0)\n",
    "\n",
    "glw_1000_t00mean = numpy.mean(glw_1000_lat_mean[skip_time:][times_00,:], axis=0)\n",
    "glw_1000_t03mean = numpy.mean(glw_1000_lat_mean[skip_time:][times_03,:], axis=0)\n",
    "glw_1000_t06mean = numpy.mean(glw_1000_lat_mean[skip_time:][times_06,:], axis=0)\n",
    "glw_1000_t09mean = numpy.mean(glw_1000_lat_mean[skip_time:][times_09,:], axis=0)\n",
    "glw_1000_t12mean = numpy.mean(glw_1000_lat_mean[skip_time:][times_12,:], axis=0)\n",
    "glw_1000_t15mean = numpy.mean(glw_1000_lat_mean[skip_time:][times_15,:], axis=0)\n",
    "glw_1000_t18mean = numpy.mean(glw_1000_lat_mean[skip_time:][times_18,:], axis=0)\n",
    "glw_1000_t21mean = numpy.mean(glw_1000_lat_mean[skip_time:][times_21,:], axis=0)\n",
    "\n",
    "glw_400_array = numpy.array([glw_400_t06mean, glw_400_t09mean, glw_400_t12mean, glw_400_t15mean, glw_400_t18mean, glw_400_t21mean, glw_400_t00mean, glw_400_t03mean])\n",
    "glw_1000_array = numpy.array([glw_1000_t06mean, glw_1000_t09mean, glw_1000_t12mean, glw_1000_t15mean, glw_1000_t18mean, glw_1000_t21mean, glw_1000_t00mean, glw_1000_t03mean])\n"
   ]
  },
  {
   "cell_type": "code",
   "execution_count": null,
   "metadata": {
    "ExecuteTime": {
     "end_time": "2018-06-17T04:35:36.465829Z",
     "start_time": "2018-06-17T04:35:36.453249Z"
    }
   },
   "outputs": [],
   "source": [
    "# calculate 3 hourly means for 400\n",
    "glw_diffs_t00mean = numpy.mean(glw_diffs_lat_mean[skip_time:,:][times_00,:], axis=0)\n",
    "glw_diffs_t03mean = numpy.mean(glw_diffs_lat_mean[skip_time:,:][times_03,:], axis=0)\n",
    "glw_diffs_t06mean = numpy.mean(glw_diffs_lat_mean[skip_time:,:][times_06,:], axis=0)\n",
    "glw_diffs_t09mean = numpy.mean(glw_diffs_lat_mean[skip_time:,:][times_09,:], axis=0)\n",
    "glw_diffs_t12mean = numpy.mean(glw_diffs_lat_mean[skip_time:,:][times_12,:], axis=0)\n",
    "glw_diffs_t15mean = numpy.mean(glw_diffs_lat_mean[skip_time:,:][times_15,:], axis=0)\n",
    "glw_diffs_t18mean = numpy.mean(glw_diffs_lat_mean[skip_time:,:][times_18,:], axis=0)\n",
    "glw_diffs_t21mean = numpy.mean(glw_diffs_lat_mean[skip_time:,:][times_21,:], axis=0)\n",
    "\n",
    "glw_diffs_array = numpy.array([glw_diffs_t06mean, glw_diffs_t09mean, glw_diffs_t12mean, glw_diffs_t15mean, glw_diffs_t18mean, glw_diffs_t21mean, glw_diffs_t00mean, glw_diffs_t03mean])\n"
   ]
  },
  {
   "cell_type": "markdown",
   "metadata": {},
   "source": [
    "# 3 hourly means of swdown"
   ]
  },
  {
   "cell_type": "code",
   "execution_count": null,
   "metadata": {
    "ExecuteTime": {
     "end_time": "2018-06-17T04:35:34.295636Z",
     "start_time": "2018-06-17T04:35:34.274525Z"
    }
   },
   "outputs": [],
   "source": [
    "# calculate 3 hourly means for 400\n",
    "swdown_400_t00mean = numpy.mean(swdown_400_lat_mean[skip_time:][times_00,:], axis=0)\n",
    "swdown_400_t03mean = numpy.mean(swdown_400_lat_mean[skip_time:][times_03,:], axis=0)\n",
    "swdown_400_t06mean = numpy.mean(swdown_400_lat_mean[skip_time:][times_06,:], axis=0)\n",
    "swdown_400_t09mean = numpy.mean(swdown_400_lat_mean[skip_time:][times_09,:], axis=0)\n",
    "swdown_400_t12mean = numpy.mean(swdown_400_lat_mean[skip_time:][times_12,:], axis=0)\n",
    "swdown_400_t15mean = numpy.mean(swdown_400_lat_mean[skip_time:][times_15,:], axis=0)\n",
    "swdown_400_t18mean = numpy.mean(swdown_400_lat_mean[skip_time:][times_18,:], axis=0)\n",
    "swdown_400_t21mean = numpy.mean(swdown_400_lat_mean[skip_time:][times_21,:], axis=0)\n",
    "\n",
    "swdown_1000_t00mean = numpy.mean(swdown_1000_lat_mean[skip_time:][times_00,:], axis=0)\n",
    "swdown_1000_t03mean = numpy.mean(swdown_1000_lat_mean[skip_time:][times_03,:], axis=0)\n",
    "swdown_1000_t06mean = numpy.mean(swdown_1000_lat_mean[skip_time:][times_06,:], axis=0)\n",
    "swdown_1000_t09mean = numpy.mean(swdown_1000_lat_mean[skip_time:][times_09,:], axis=0)\n",
    "swdown_1000_t12mean = numpy.mean(swdown_1000_lat_mean[skip_time:][times_12,:], axis=0)\n",
    "swdown_1000_t15mean = numpy.mean(swdown_1000_lat_mean[skip_time:][times_15,:], axis=0)\n",
    "swdown_1000_t18mean = numpy.mean(swdown_1000_lat_mean[skip_time:][times_18,:], axis=0)\n",
    "swdown_1000_t21mean = numpy.mean(swdown_1000_lat_mean[skip_time:][times_21,:], axis=0)\n",
    "\n",
    "swdown_400_array = numpy.array([swdown_400_t06mean, swdown_400_t09mean, swdown_400_t12mean, swdown_400_t15mean, swdown_400_t18mean, swdown_400_t21mean, swdown_400_t00mean, swdown_400_t03mean])\n",
    "swdown_1000_array = numpy.array([swdown_1000_t06mean, swdown_1000_t09mean, swdown_1000_t12mean, swdown_1000_t15mean, swdown_1000_t18mean, swdown_1000_t21mean, swdown_1000_t00mean, swdown_1000_t03mean])\n"
   ]
  },
  {
   "cell_type": "code",
   "execution_count": null,
   "metadata": {
    "ExecuteTime": {
     "end_time": "2018-06-17T04:35:36.465829Z",
     "start_time": "2018-06-17T04:35:36.453249Z"
    }
   },
   "outputs": [],
   "source": [
    "# calculate 3 hourly means for 400\n",
    "swdown_diffs_t00mean = numpy.mean(swdown_diffs_lat_mean[skip_time:,:][times_00,:], axis=0)\n",
    "swdown_diffs_t03mean = numpy.mean(swdown_diffs_lat_mean[skip_time:,:][times_03,:], axis=0)\n",
    "swdown_diffs_t06mean = numpy.mean(swdown_diffs_lat_mean[skip_time:,:][times_06,:], axis=0)\n",
    "swdown_diffs_t09mean = numpy.mean(swdown_diffs_lat_mean[skip_time:,:][times_09,:], axis=0)\n",
    "swdown_diffs_t12mean = numpy.mean(swdown_diffs_lat_mean[skip_time:,:][times_12,:], axis=0)\n",
    "swdown_diffs_t15mean = numpy.mean(swdown_diffs_lat_mean[skip_time:,:][times_15,:], axis=0)\n",
    "swdown_diffs_t18mean = numpy.mean(swdown_diffs_lat_mean[skip_time:,:][times_18,:], axis=0)\n",
    "swdown_diffs_t21mean = numpy.mean(swdown_diffs_lat_mean[skip_time:,:][times_21,:], axis=0)\n",
    "\n",
    "swdown_diffs_array = numpy.array([swdown_diffs_t06mean, swdown_diffs_t09mean, swdown_diffs_t12mean, swdown_diffs_t15mean, swdown_diffs_t18mean, swdown_diffs_t21mean, swdown_diffs_t00mean, swdown_diffs_t03mean])\n"
   ]
  },
  {
   "cell_type": "markdown",
   "metadata": {},
   "source": [
    "## create grid"
   ]
  },
  {
   "cell_type": "code",
   "execution_count": null,
   "metadata": {
    "ExecuteTime": {
     "end_time": "2018-06-17T04:15:03.622146Z",
     "start_time": "2018-06-17T04:15:03.613490Z"
    }
   },
   "outputs": [],
   "source": [
    "xx,zz=numpy.meshgrid(xlong[0,:],geopot_400_lat_mean[0,:,:].mean(axis=1)/10000.)"
   ]
  },
  {
   "cell_type": "markdown",
   "metadata": {},
   "source": [
    "# plot fira minus fsa"
   ]
  },
  {
   "cell_type": "code",
   "execution_count": null,
   "metadata": {
    "ExecuteTime": {
     "end_time": "2018-06-21T15:18:07.619869Z",
     "start_time": "2018-06-21T15:18:01.283623Z"
    }
   },
   "outputs": [],
   "source": [
    "#fig,ax_array = mp.subplots(4,2)\n",
    "#fig.set_size_inches(7.5,6)\n",
    "fontsize=12\n",
    "\n",
    "fig = mp.figure(figsize=(7.5,6))\n",
    "\n",
    "ax_list = []\n",
    "for t in range(8):\n",
    "    ax=fig.add_subplot(4,2,t+1)\n",
    "    radiation_smoothed = pandas.Series(fira_diffs_array[t]-fsa_diffs_array[t]).rolling(window=3, center=True, min_periods=1).mean()\n",
    "    ax.plot(xx[0,:]+360., radiation_smoothed, c='firebrick')\n",
    "    ax.text(s='('+string.ascii_lowercase[t]+') hour '+hour_strings_local[t], x=0, y=1.02,\\\n",
    "            transform=ax.transAxes,fontsize=fontsize,ha='left',va='bottom')\n",
    "    ax.tick_params(labelsize=fontsize)\n",
    "    ax_list.append(ax)\n",
    "    ax.axhline(0, lw=1, c='0.1', ls='--', zorder=0)\n",
    "fig.tight_layout()\n",
    "\n",
    "fig.savefig('net_radiation_atmosphere_3hour.png', dpi=600, bbox_inches='tight', transparent=True)"
   ]
  },
  {
   "cell_type": "markdown",
   "metadata": {},
   "source": [
    "# plot swdown minus glw"
   ]
  },
  {
   "cell_type": "code",
   "execution_count": null,
   "metadata": {},
   "outputs": [],
   "source": []
  },
  {
   "cell_type": "markdown",
   "metadata": {},
   "source": [
    "# plot net bottom"
   ]
  },
  {
   "cell_type": "code",
   "execution_count": null,
   "metadata": {
    "ExecuteTime": {
     "end_time": "2018-06-21T15:17:03.323651Z",
     "start_time": "2018-06-21T15:16:56.787093Z"
    }
   },
   "outputs": [],
   "source": [
    "#fig,ax_array = mp.subplots(4,2)\n",
    "#fig.set_size_inches(7.5,6)\n",
    "fontsize=12\n",
    "\n",
    "fig = mp.figure(figsize=(7.5,6))\n",
    "\n",
    "ax_list = []\n",
    "for t in range(8):\n",
    "    ax=fig.add_subplot(4,2,t+1)\n",
    "    radiation_smoothed = pandas.Series(net_bottom_diffs_array[t]).rolling(window=3, center=True, min_periods=1).mean()\n",
    "    ax.plot(xx[0,:]+360., radiation_smoothed/3600., c='firebrick')\n",
    "    ax.text(s='('+string.ascii_lowercase[t]+') hour '+hour_strings_local[t], x=0, y=1.02,\\\n",
    "            transform=ax.transAxes,fontsize=fontsize,ha='left',va='bottom')\n",
    "    ax.tick_params(labelsize=fontsize)\n",
    "    ax_list.append(ax)\n",
    "    ax.axhline(0, lw=1, c='0.1', ls='--', zorder=0)\n",
    "    if t in [0,2,4,6]:\n",
    "        ax.set_ylabel('W m$^{\\,-2}$', fontsize=fontsize)\n",
    "fig.tight_layout()\n",
    "\n",
    "fig.savefig('net_radiation_bottom_3hour.png', dpi=600, bbox_inches='tight', transparent=True)"
   ]
  }
 ],
 "metadata": {
  "kernelspec": {
   "display_name": "Python 3",
   "language": "python",
   "name": "python3"
  },
  "language_info": {
   "codemirror_mode": {
    "name": "ipython",
    "version": 3
   },
   "file_extension": ".py",
   "mimetype": "text/x-python",
   "name": "python",
   "nbconvert_exporter": "python",
   "pygments_lexer": "ipython3",
   "version": "3.6.5"
  },
  "varInspector": {
   "cols": {
    "lenName": 16,
    "lenType": 16,
    "lenVar": 40
   },
   "kernels_config": {
    "python": {
     "delete_cmd_postfix": "",
     "delete_cmd_prefix": "del ",
     "library": "var_list.py",
     "varRefreshCmd": "print(var_dic_list())"
    },
    "r": {
     "delete_cmd_postfix": ") ",
     "delete_cmd_prefix": "rm(",
     "library": "var_list.r",
     "varRefreshCmd": "cat(var_dic_list()) "
    }
   },
   "types_to_exclude": [
    "module",
    "function",
    "builtin_function_or_method",
    "instance",
    "_Feature"
   ],
   "window_display": false
  }
 },
 "nbformat": 4,
 "nbformat_minor": 2
}
