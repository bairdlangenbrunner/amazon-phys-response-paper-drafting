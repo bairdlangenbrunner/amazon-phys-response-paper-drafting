{
 "cells": [
  {
   "cell_type": "code",
   "execution_count": 160,
   "metadata": {
    "ExecuteTime": {
     "end_time": "2018-06-08T19:09:13.027811Z",
     "start_time": "2018-06-08T19:09:12.967970Z"
    }
   },
   "outputs": [],
   "source": [
    "import numpy\n",
    "import xarray\n",
    "import matplotlib\n",
    "import matplotlib.pyplot as mp\n",
    "import datetime\n",
    "import matplotlib.colors\n",
    "import matplotlib.cm\n",
    "import scipy.stats\n",
    "import itertools\n",
    "import string\n",
    "import matplotlib.patches\n",
    "import astropy.convolution\n",
    "import scipy.ndimage\n",
    "\n",
    "import pandas\n",
    "\n",
    "import matplotlib.ticker\n",
    "import cartopy.mpl.gridliner #import LONGITUDE_FORMATTER, LATITUDE_FORMATTER\n",
    "\n",
    "import mpl_toolkits\n",
    "import cartopy\n",
    "\n",
    "DEGREE_SIGN = u'\\u00B0'\n",
    "mp.rcParams.update({'mathtext.default': 'regular'})\n",
    "\n",
    "% matplotlib inline"
   ]
  },
  {
   "cell_type": "code",
   "execution_count": 2,
   "metadata": {
    "ExecuteTime": {
     "end_time": "2018-06-08T18:02:05.108347Z",
     "start_time": "2018-06-08T18:02:05.105050Z"
    }
   },
   "outputs": [],
   "source": [
    "run_info = 'FMAASO'\n",
    "skip_time=0"
   ]
  },
  {
   "cell_type": "code",
   "execution_count": 3,
   "metadata": {
    "ExecuteTime": {
     "end_time": "2018-06-08T18:02:05.438251Z",
     "start_time": "2018-06-08T18:02:05.435170Z"
    }
   },
   "outputs": [],
   "source": [
    "ens = '001'"
   ]
  },
  {
   "cell_type": "code",
   "execution_count": 4,
   "metadata": {
    "ExecuteTime": {
     "end_time": "2018-06-08T18:02:12.710054Z",
     "start_time": "2018-06-08T18:02:05.777932Z"
    }
   },
   "outputs": [],
   "source": [
    "data_dir = '/beegfs/DATA/pritchard/blangenb/WRF_ARCHIVE/CHEYENNE/nested_FMAASO_10days/400/'+ens+'/'\n",
    "cont_mfds = xarray.open_mfdataset(data_dir + 'wrfout_d03_1979-01-0[2,3,4,5,6,7,8,9]*')"
   ]
  },
  {
   "cell_type": "code",
   "execution_count": 5,
   "metadata": {
    "ExecuteTime": {
     "end_time": "2018-06-08T18:02:22.865635Z",
     "start_time": "2018-06-08T18:02:13.660272Z"
    }
   },
   "outputs": [],
   "source": [
    "data_dir = '/beegfs/DATA/pritchard/blangenb/WRF_ARCHIVE/CHEYENNE/nested_FMAASO_10days/1000/'+ens+'/'\n",
    "phys_mfds = xarray.open_mfdataset(data_dir + 'wrfout_d03_1979-01-0[2,3,4,5,6,7,8,9]*')"
   ]
  },
  {
   "cell_type": "code",
   "execution_count": 172,
   "metadata": {
    "ExecuteTime": {
     "end_time": "2018-06-08T19:46:54.718251Z",
     "start_time": "2018-06-08T19:46:52.430480Z"
    }
   },
   "outputs": [],
   "source": [
    "data_dir = '/beegfs/DATA/pritchard/blangenb/WRF_ARCHIVE/CHEYENNE/nested_FMAASO_10days/400/'+ens+'/'\n",
    "cont_mfds_day1 = xarray.open_mfdataset(data_dir + 'wrfout_d03_1979-01-01*')"
   ]
  },
  {
   "cell_type": "code",
   "execution_count": 173,
   "metadata": {
    "ExecuteTime": {
     "end_time": "2018-06-08T19:46:59.811794Z",
     "start_time": "2018-06-08T19:46:57.502925Z"
    }
   },
   "outputs": [],
   "source": [
    "data_dir = '/beegfs/DATA/pritchard/blangenb/WRF_ARCHIVE/CHEYENNE/nested_FMAASO_10days/1000/'+ens+'/'\n",
    "phys_mfds_day1 = xarray.open_mfdataset(data_dir + 'wrfout_d03_1979-01-01*')"
   ]
  },
  {
   "cell_type": "code",
   "execution_count": 6,
   "metadata": {
    "ExecuteTime": {
     "end_time": "2018-06-08T18:02:24.683850Z",
     "start_time": "2018-06-08T18:02:24.677980Z"
    }
   },
   "outputs": [],
   "source": [
    "cont_time = cont_mfds['Times']"
   ]
  },
  {
   "cell_type": "code",
   "execution_count": 7,
   "metadata": {
    "ExecuteTime": {
     "end_time": "2018-06-08T18:02:26.505518Z",
     "start_time": "2018-06-08T18:02:26.498617Z"
    }
   },
   "outputs": [],
   "source": [
    "cont_qfx = cont_mfds['QFX']\n",
    "phys_qfx = phys_mfds['QFX']"
   ]
  },
  {
   "cell_type": "code",
   "execution_count": 8,
   "metadata": {
    "ExecuteTime": {
     "end_time": "2018-06-08T18:02:28.327387Z",
     "start_time": "2018-06-08T18:02:28.320291Z"
    }
   },
   "outputs": [],
   "source": [
    "cont_rainnc = cont_mfds['RAINNC']\n",
    "phys_rainnc = phys_mfds['RAINNC']"
   ]
  },
  {
   "cell_type": "code",
   "execution_count": 175,
   "metadata": {
    "ExecuteTime": {
     "end_time": "2018-06-08T19:47:18.749376Z",
     "start_time": "2018-06-08T19:47:18.742241Z"
    }
   },
   "outputs": [],
   "source": [
    "cont_rainnc_day1 = cont_mfds_day1['RAINNC']\n",
    "phys_rainnc_day1 = phys_mfds_day1['RAINNC']"
   ]
  },
  {
   "cell_type": "code",
   "execution_count": 9,
   "metadata": {
    "ExecuteTime": {
     "end_time": "2018-06-08T18:02:30.182003Z",
     "start_time": "2018-06-08T18:02:30.171990Z"
    }
   },
   "outputs": [],
   "source": [
    "cont_qfx_time_mean = cont_qfx.mean(dim='Time')\n",
    "phys_qfx_time_mean = phys_qfx.mean(dim='Time')"
   ]
  },
  {
   "cell_type": "code",
   "execution_count": 10,
   "metadata": {
    "ExecuteTime": {
     "end_time": "2018-06-08T18:02:32.020860Z",
     "start_time": "2018-06-08T18:02:31.992610Z"
    }
   },
   "outputs": [],
   "source": [
    "cont_rain_diffs = cont_rainnc.diff(dim='Time')#.values\n",
    "phys_rain_diffs = phys_rainnc.diff(dim='Time')#.values"
   ]
  },
  {
   "cell_type": "code",
   "execution_count": 176,
   "metadata": {
    "ExecuteTime": {
     "end_time": "2018-06-08T19:47:31.433383Z",
     "start_time": "2018-06-08T19:47:31.412213Z"
    }
   },
   "outputs": [],
   "source": [
    "cont_rain_diffs_day1 = cont_rainnc_day1.diff(dim='Time')#.values\n",
    "phys_rain_diffs_day1 = phys_rainnc_day1.diff(dim='Time')#.values"
   ]
  },
  {
   "cell_type": "code",
   "execution_count": 11,
   "metadata": {
    "ExecuteTime": {
     "end_time": "2018-06-08T18:02:33.855480Z",
     "start_time": "2018-06-08T18:02:33.843657Z"
    }
   },
   "outputs": [],
   "source": [
    "cont_rain_time_mean = cont_rain_diffs.mean(dim='Time')\n",
    "phys_rain_time_mean = phys_rain_diffs.mean(dim='Time')#numpy.mean(phys_rain_diffs, axis=0)"
   ]
  },
  {
   "cell_type": "code",
   "execution_count": 177,
   "metadata": {
    "ExecuteTime": {
     "end_time": "2018-06-08T19:47:47.492537Z",
     "start_time": "2018-06-08T19:47:47.480716Z"
    }
   },
   "outputs": [],
   "source": [
    "cont_rain_time_mean_day1 = cont_rain_diffs_day1.mean(dim='Time')\n",
    "phys_rain_time_mean_day1 = phys_rain_diffs_day1.mean(dim='Time')"
   ]
  },
  {
   "cell_type": "code",
   "execution_count": 12,
   "metadata": {
    "ExecuteTime": {
     "end_time": "2018-06-08T18:02:50.006724Z",
     "start_time": "2018-06-08T18:02:35.678783Z"
    }
   },
   "outputs": [],
   "source": [
    "rain_diffs_time_mean = phys_rain_time_mean.values-cont_rain_time_mean.values"
   ]
  },
  {
   "cell_type": "code",
   "execution_count": 178,
   "metadata": {
    "ExecuteTime": {
     "end_time": "2018-06-08T19:48:18.089413Z",
     "start_time": "2018-06-08T19:48:00.444086Z"
    }
   },
   "outputs": [],
   "source": [
    "rain_diffs_time_mean_day1 = phys_rain_time_mean_day1.values-cont_rain_time_mean_day1.values"
   ]
  },
  {
   "cell_type": "raw",
   "metadata": {
    "ExecuteTime": {
     "end_time": "2018-06-08T16:46:56.037326Z",
     "start_time": "2018-06-08T16:46:56.033962Z"
    }
   },
   "source": [
    "kernel_std = 100\n",
    "\n",
    "# replace nans with gaussian weights using astropy\n",
    "kernel = astropy.convolution.Gaussian2DKernel(x_stddev=kernel_std, y_stddev=kernel_std)\n",
    "\n",
    "# for day1\n",
    "field = rain_diffs_time_mean\n",
    "field_convolved_rain_diffs = astropy.convolution.convolve(field, kernel)"
   ]
  },
  {
   "cell_type": "markdown",
   "metadata": {},
   "source": [
    "# landmask"
   ]
  },
  {
   "cell_type": "code",
   "execution_count": 14,
   "metadata": {
    "ExecuteTime": {
     "end_time": "2018-06-08T18:04:52.469573Z",
     "start_time": "2018-06-08T18:04:17.031945Z"
    }
   },
   "outputs": [],
   "source": [
    "landmask = cont_mfds['LANDMASK'].values[0,:,:]"
   ]
  },
  {
   "cell_type": "markdown",
   "metadata": {},
   "source": [
    "# lat,lon values"
   ]
  },
  {
   "cell_type": "code",
   "execution_count": 15,
   "metadata": {
    "ExecuteTime": {
     "end_time": "2018-06-08T18:05:09.582197Z",
     "start_time": "2018-06-08T18:04:54.309098Z"
    }
   },
   "outputs": [],
   "source": [
    "XLAT = cont_mfds['XLAT'].values[0,:,:]\n",
    "XLONG = cont_mfds['XLONG'].values[0,:,:]"
   ]
  },
  {
   "cell_type": "code",
   "execution_count": 16,
   "metadata": {
    "ExecuteTime": {
     "end_time": "2018-06-08T18:05:11.443703Z",
     "start_time": "2018-06-08T18:05:11.427790Z"
    }
   },
   "outputs": [],
   "source": [
    "#cont_rain_time_mean_landmask = numpy.copy(cont_rain_time_mean.values)\n",
    "#cont_rain_time_mean_landmask[landmask==0] = numpy.nan\n",
    "#\n",
    "#phys_rain_time_mean_landmask = numpy.copy(phys_rain_time_mean.values)\n",
    "#phys_rain_time_mean_landmask[landmask==0] = numpy.nan\n",
    "\n",
    "rain_diffs_time_mean_landmask = numpy.copy(rain_diffs_time_mean)\n",
    "rain_diffs_time_mean_landmask[landmask==0] = numpy.nan"
   ]
  },
  {
   "cell_type": "code",
   "execution_count": 179,
   "metadata": {
    "ExecuteTime": {
     "end_time": "2018-06-08T19:48:21.796024Z",
     "start_time": "2018-06-08T19:48:21.784346Z"
    }
   },
   "outputs": [],
   "source": [
    "rain_diffs_time_mean_day1_landmask = numpy.copy(rain_diffs_time_mean_day1)\n",
    "rain_diffs_time_mean_day1_landmask[landmask==0] = numpy.nan"
   ]
  },
  {
   "cell_type": "code",
   "execution_count": 18,
   "metadata": {
    "ExecuteTime": {
     "end_time": "2018-06-08T18:07:18.706738Z",
     "start_time": "2018-06-08T18:07:18.682406Z"
    }
   },
   "outputs": [],
   "source": [
    "rain_diffs_time_latmean = numpy.nanmean(rain_diffs_time_mean_landmask, axis=0)"
   ]
  },
  {
   "cell_type": "code",
   "execution_count": 180,
   "metadata": {
    "ExecuteTime": {
     "end_time": "2018-06-08T19:48:45.287844Z",
     "start_time": "2018-06-08T19:48:45.266482Z"
    }
   },
   "outputs": [],
   "source": [
    "rain_diffs_time_latmean_day1 = numpy.nanmean(rain_diffs_time_mean_day1_landmask, axis=0)"
   ]
  },
  {
   "cell_type": "code",
   "execution_count": 142,
   "metadata": {
    "ExecuteTime": {
     "end_time": "2018-06-08T19:02:07.051636Z",
     "start_time": "2018-06-08T19:02:07.041261Z"
    }
   },
   "outputs": [],
   "source": [
    "cmap_custom = matplotlib.colors.ListedColormap([matplotlib.cm.RdBu(0.1), \\\n",
    "                                                matplotlib.cm.RdBu(0.25), \\\n",
    "                                                #matplotlib.cm.RdBu(0.3), \\\n",
    "                                                #matplotlib.cm.RdBu(0.6), \\\n",
    "                                                matplotlib.cm.RdBu(0.6), \\\n",
    "                                                matplotlib.cm.RdBu(0.7)])\n",
    "                                                \n",
    "cmap_custom.set_over(matplotlib.cm.RdBu(.8))\n",
    "cmap_custom.set_under(matplotlib.cm.RdBu(0))\n",
    "\n",
    "bounds = numpy.array([-10,-5,0,5,10])\n",
    "norm = matplotlib.colors.BoundaryNorm(bounds, cmap_custom.N)"
   ]
  },
  {
   "cell_type": "code",
   "execution_count": 143,
   "metadata": {
    "ExecuteTime": {
     "end_time": "2018-06-08T19:02:12.055539Z",
     "start_time": "2018-06-08T19:02:09.029874Z"
    }
   },
   "outputs": [
    {
     "name": "stderr",
     "output_type": "stream",
     "text": [
      "/export/home/blangenb/anaconda3/lib/python3.6/site-packages/matplotlib/cbook/deprecation.py:107: MatplotlibDeprecationWarning: Adding an axes using the same arguments as a previous axes currently reuses the earlier instance.  In a future version, a new instance will always be created and returned.  Meanwhile, this warning can be suppressed, and the future behavior ensured, by passing a unique label to each axes instance.\n",
      "  warnings.warn(message, mplDeprecation, stacklevel=1)\n"
     ]
    },
    {
     "data": {
      "image/png": "[encoded data removed]",
      "text/plain": [
       "<Figure size 432x288 with 2 Axes>"
      ]
     },
     "metadata": {},
     "output_type": "display_data"
    }
   ],
   "source": [
    "mp.contourf(XLONG,\\\n",
    "            XLAT,\\\n",
    "            rain_diffs_time_mean_landmask*24.,\\\n",
    "            levels=bounds,\\\n",
    "            cmap=cmap_custom,\\\n",
    "            extend='both',\\\n",
    "            norm=norm)\n",
    "mp.colorbar()\n",
    "ax = mp.axes()\n",
    "ax.set_aspect('equal')"
   ]
  },
  {
   "cell_type": "markdown",
   "metadata": {},
   "source": [
    "take rolling mean of longitudinally-averaged precip change"
   ]
  },
  {
   "cell_type": "code",
   "execution_count": 148,
   "metadata": {
    "ExecuteTime": {
     "end_time": "2018-06-08T19:03:58.625908Z",
     "start_time": "2018-06-08T19:03:58.609970Z"
    }
   },
   "outputs": [],
   "source": [
    "window=75\n",
    "\n",
    "rain_diffs_time_latmean_rolling_mean = pandas.Series(rain_diffs_time_latmean*24.).rolling(window=75, \\\n",
    "                                                                                      center=True, \\\n",
    "                                                                                      min_periods=1).mean()\n",
    "rain_diffs_time_latmean_rolling_std = pandas.Series(rain_diffs_time_latmean*24.).rolling(window=75, \\\n",
    "                                                                                     center=True, \\\n",
    "                                                                                     min_periods=1).std(ddof=1)\n"
   ]
  },
  {
   "cell_type": "code",
   "execution_count": 181,
   "metadata": {
    "ExecuteTime": {
     "end_time": "2018-06-08T19:49:12.216068Z",
     "start_time": "2018-06-08T19:49:12.203156Z"
    }
   },
   "outputs": [],
   "source": [
    "window=75\n",
    "\n",
    "rain_diffs_time_latmean_day1_rolling_mean = pandas.Series(rain_diffs_time_latmean_day1*24.).rolling(window=75, \\\n",
    "                                                                                      center=True, \\\n",
    "                                                                                      min_periods=1).mean()\n",
    "rain_diffs_time_latmean_day1_rolling_std = pandas.Series(rain_diffs_time_latmean_day1*24.).rolling(window=75, \\\n",
    "                                                                                     center=True, \\\n",
    "                                                                                     min_periods=1).std(ddof=1)\n"
   ]
  },
  {
   "cell_type": "markdown",
   "metadata": {},
   "source": [
    "create custom colormap"
   ]
  },
  {
   "cell_type": "code",
   "execution_count": 154,
   "metadata": {
    "ExecuteTime": {
     "end_time": "2018-06-08T19:05:31.042515Z",
     "start_time": "2018-06-08T19:05:31.029687Z"
    }
   },
   "outputs": [],
   "source": [
    "cmap_custom = matplotlib.colors.ListedColormap([matplotlib.cm.BrBG(0.1), \\\n",
    "                                                matplotlib.cm.BrBG(0.25), \\\n",
    "                                                #matplotlib.cm.BrBG(0.3), \\\n",
    "                                                #matplotlib.cm.BrBG(0.6), \\\n",
    "                                                matplotlib.cm.BrBG(0.6), \\\n",
    "                                                matplotlib.cm.BrBG(0.7)])                      \n",
    "cmap_custom.set_over(matplotlib.cm.BrBG(.8))\n",
    "cmap_custom.set_under(matplotlib.cm.BrBG(0))\n",
    "bounds = numpy.array([-10,-5,0,5,10])\n",
    "norm = matplotlib.colors.BoundaryNorm(bounds, cmap_custom.N)"
   ]
  },
  {
   "cell_type": "code",
   "execution_count": null,
   "metadata": {
    "ExecuteTime": {
     "start_time": "2018-06-08T19:56:35.154Z"
    }
   },
   "outputs": [],
   "source": [
    "# fontsize = 12\n",
    "\n",
    "map_proj = cartopy.crs.PlateCarree()\n",
    "\n",
    "fig = mp.figure(figsize=(4.25,5))\n",
    "\n",
    "ax1 = fig.add_subplot(211, projection=map_proj)\n",
    "\n",
    "contour_plot = ax1.contourf(XLONG+360.,\\\n",
    "                XLAT,\\\n",
    "                rain_diffs_time_mean_landmask*24.,\\\n",
    "                levels=bounds,\\\n",
    "                cmap=cmap_custom,\\\n",
    "                extend='both',\\\n",
    "                norm=norm)\n",
    "\n",
    "ax1.text(s='(a) precip. change (2km run, days 2–10)', x=0, y=1.02,\\\n",
    "       transform=ax1.transAxes, ha='left', va='bottom', \\\n",
    "       fontsize=fontsize)\n",
    "ax1.set_extent([XLONG.min(),XLONG.max(),XLAT.min(),XLAT.max()])\n",
    "ax1.coastlines(resolution='50m', color='0.1')\n",
    "\n",
    "ax1.set_xticks([-360+280,-360+290,-360+300,-360+310])\n",
    "ax1.set_xticklabels(['','',''])\n",
    "ax1.set_yticks([0,5,10])\n",
    "ax1.set_yticklabels(['$0$'+DEGREE_SIGN+'N','$5$'+DEGREE_SIGN+'N','$10$'+DEGREE_SIGN+'N'])\n",
    "ax1.tick_params(labelsize=fontsize)\n",
    "\n",
    "\n",
    "ax2 = fig.add_subplot(212)\n",
    "\n",
    "ax2.axhline(0, c='0.1', lw=1)\n",
    "ax2.set_xlim(XLONG.min()+360.,XLONG.max()+360.)\n",
    "\n",
    "ax2.plot(XLONG[0,:]+360.,\\\n",
    "        rain_diffs_time_latmean_day1_rolling_mean, \\\n",
    "        c='coral', label='day 1')\n",
    "ax2.fill_between(XLONG[0,:]+360., \\\n",
    "                rain_diffs_time_latmean_day1_rolling_mean-rain_diffs_time_latmean_day1_rolling_std,\\\n",
    "                rain_diffs_time_latmean_day1_rolling_mean+rain_diffs_time_latmean_day1_rolling_std,\\\n",
    "                facecolor='coral', alpha=0.333)\n",
    "\n",
    "ax2.plot(XLONG[0,:]+360.,\\\n",
    "        rain_diffs_time_latmean_rolling_mean, \\\n",
    "        c='firebrick', label='days 2–10')\n",
    "ax2.fill_between(XLONG[0,:]+360., \\\n",
    "                rain_diffs_time_latmean_rolling_mean-rain_diffs_time_latmean_rolling_std,\\\n",
    "                rain_diffs_time_latmean_rolling_mean+rain_diffs_time_latmean_rolling_std,\\\n",
    "                facecolor='firebrick', alpha=0.333)\n",
    "\n",
    "ax2.text(s='(b) meridional mean precip. change', x=0, y=1.02,\\\n",
    "       transform=ax2.transAxes, ha='left', va='bottom', \\\n",
    "       fontsize=fontsize)\n",
    "ax2.tick_params(labelsize=fontsize)\n",
    "\n",
    "ax2.set_xticks([280,290,300,310])\n",
    "ax2.set_xticklabels(['$280$'+DEGREE_SIGN+'E','$290$'+DEGREE_SIGN+'E','$300$'+DEGREE_SIGN+'E','$310$'+DEGREE_SIGN+'E'])\n",
    "\n",
    "ax2.set_xlabel('longitude', fontsize=fontsize)\n",
    "ax2.set_ylabel('mm day$^{\\,-1}$', fontsize=fontsize)\n",
    "\n",
    "ax2.set_ylim(-2.5,2.5)\n",
    "\n",
    "fig.tight_layout(h_pad=7.5)\n",
    "\n",
    "axpos = ax1.get_position()\n",
    "cbar_ax = fig.add_axes([axpos.x0, axpos.y0-0.03, axpos.width, 0.025])\n",
    "#cbar_ax = fig.add_axes([axpos.x1+0.05, axpos.y0, 0.05, axpos.height])\n",
    "cbar = fig.colorbar(contour_plot, cax=cbar_ax, orientation='horizontal')\n",
    "cbar_ax.tick_params(labelsize=fontsize)\n",
    "cbar.set_label('mm day$^{\\,-1}$', fontsize=fontsize)\n",
    "\n",
    "h, l=ax2.get_legend_handles_labels()\n",
    "ax_d.legend(h, l, fontsize=fontsize, scatterpoints=1, bbox_to_anchor=(1.025,1.), \\\n",
    "            bbox_transform=ax2.transAxes, loc='upper left', borderaxespad=0, labelspacing=0.25, \\\n",
    "            fancybox=False, edgecolor='0', framealpha=0, borderpad=0.25, \\\n",
    "            handletextpad=0.5, markerscale=1, handlelength=1.25)\n",
    "\n",
    "mp.savefig('manuscript_fig10_WRF_2km_precip_change.png', dpi=600, bbox_inches='tight')"
   ]
  },
  {
   "cell_type": "code",
   "execution_count": null,
   "metadata": {},
   "outputs": [],
   "source": []
  }
 ],
 "metadata": {
  "kernelspec": {
   "display_name": "Python 3",
   "language": "python",
   "name": "python3"
  },
  "language_info": {
   "codemirror_mode": {
    "name": "ipython",
    "version": 3
   },
   "file_extension": ".py",
   "mimetype": "text/x-python",
   "name": "python",
   "nbconvert_exporter": "python",
   "pygments_lexer": "ipython3",
   "version": "3.6.5"
  },
  "varInspector": {
   "cols": {
    "lenName": 16,
    "lenType": 16,
    "lenVar": 40
   },
   "kernels_config": {
    "python": {
     "delete_cmd_postfix": "",
     "delete_cmd_prefix": "del ",
     "library": "var_list.py",
     "varRefreshCmd": "print(var_dic_list())"
    },
    "r": {
     "delete_cmd_postfix": ") ",
     "delete_cmd_prefix": "rm(",
     "library": "var_list.r",
     "varRefreshCmd": "cat(var_dic_list()) "
    }
   },
   "types_to_exclude": [
    "module",
    "function",
    "builtin_function_or_method",
    "instance",
    "_Feature"
   ],
   "window_display": false
  }
 },
 "nbformat": 4,
 "nbformat_minor": 2
}
