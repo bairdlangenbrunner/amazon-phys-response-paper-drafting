{
 "cells": [
  {
   "cell_type": "markdown",
   "metadata": {},
   "source": [
    "# import libraries"
   ]
  },
  {
   "cell_type": "code",
   "execution_count": 173,
   "metadata": {
    "ExecuteTime": {
     "end_time": "2018-06-21T22:17:55.332117Z",
     "start_time": "2018-06-21T22:17:54.879889Z"
    }
   },
   "outputs": [],
   "source": [
    "import numpy\n",
    "import xarray\n",
    "import matplotlib\n",
    "import matplotlib.pyplot as mp\n",
    "import datetime\n",
    "import matplotlib.colors\n",
    "import scipy.stats\n",
    "import itertools\n",
    "import string\n",
    "import matplotlib.patches\n",
    "import glob\n",
    "import matplotlib.gridspec\n",
    "import scipy.ndimage\n",
    "\n",
    "import wrf\n",
    "import netCDF4\n",
    "import cmocean\n",
    "\n",
    "import pandas\n",
    "\n",
    "import matplotlib.ticker\n",
    "import cartopy.mpl.gridliner #import LONGITUDE_FORMATTER, LATITUDE_FORMATTER\n",
    "\n",
    "import mpl_toolkits\n",
    "import cartopy\n",
    "import cartopy.io.shapereader\n",
    "\n",
    "DEGREE_SIGN = u'\\u00B0'\n",
    "mp.rcParams.update({'mathtext.default': 'regular'})\n",
    "\n",
    "% matplotlib inline"
   ]
  },
  {
   "cell_type": "code",
   "execution_count": 2,
   "metadata": {
    "ExecuteTime": {
     "end_time": "2018-06-16T03:15:33.299839Z",
     "start_time": "2018-06-16T03:15:33.284549Z"
    }
   },
   "outputs": [],
   "source": [
    "run_info = 'FMAASO'\n",
    "skip_time=0"
   ]
  },
  {
   "cell_type": "markdown",
   "metadata": {},
   "source": [
    "# opening mean fields"
   ]
  },
  {
   "cell_type": "markdown",
   "metadata": {},
   "source": [
    "## control data"
   ]
  },
  {
   "cell_type": "code",
   "execution_count": 3,
   "metadata": {
    "ExecuteTime": {
     "end_time": "2018-06-16T03:15:35.461639Z",
     "start_time": "2018-06-16T03:15:33.496680Z"
    }
   },
   "outputs": [],
   "source": [
    "root_dir = '/beegfs/DATA/pritchard/blangenb/WRF_ARCHIVE/CHEYENNE/FMAASO/400/ens_mean_wrfout_files'\n",
    "file_list = sorted(glob.glob(root_dir+'/'+'wrfout*.nc'))\n",
    "ds_list = [netCDF4.Dataset(file) for file in file_list]"
   ]
  },
  {
   "cell_type": "raw",
   "metadata": {
    "ExecuteTime": {
     "end_time": "2018-05-29T22:57:04.205195Z",
     "start_time": "2018-05-29T22:53:48.268834Z"
    }
   },
   "source": [
    "geopot_stag_400 = wrf.getvar(ds_list, 'geopt_stag', timeidx=wrf.ALL_TIMES).values\n",
    "numpy.save('DATA_geopot_stag_400.npy', geopot_stag_400)"
   ]
  },
  {
   "cell_type": "raw",
   "metadata": {
    "ExecuteTime": {
     "end_time": "2018-04-20T20:37:06.170072Z",
     "start_time": "2018-04-20T20:36:46.200664Z"
    }
   },
   "source": [
    "ptot_400 = wrf.getvar(ds_list, 'p', timeidx=wrf.ALL_TIMES).values\n",
    "wa_400 = wrf.getvar(ds_list, 'wa', timeidx=wrf.ALL_TIMES).values\n",
    "ua_400 = wrf.getvar(ds_list, 'ua', timeidx=wrf.ALL_TIMES).values\n",
    "va_400 = wrf.getvar(ds_list, 'va', timeidx=wrf.ALL_TIMES).values\n",
    "tk_400 = wrf.getvar(ds_list, 'tk', timeidx=wrf.ALL_TIMES).values\n",
    "prw_400 = wrf.getvar(ds_list, 'prw', timeidx=wrf.ALL_TIMES).values\n",
    "\n",
    "geopot_400 = wrf.getvar(ds_list, 'geopotential', timeidx=wrf.ALL_TIMES).values\n",
    "\n",
    "numpy.save('DATA_ptot_400.npy', ptot_400)\n",
    "numpy.save('DATA_wa_400.npy', wa_400)\n",
    "numpy.save('DATA_ua_400.npy', ua_400)\n",
    "numpy.save('DATA_va_400.npy', va_400)\n",
    "numpy.save('DATA_tk_400.npy', tk_400)\n",
    "numpy.save('DATA_prw_400.npy', prw_400)\n"
   ]
  },
  {
   "cell_type": "code",
   "execution_count": 4,
   "metadata": {
    "ExecuteTime": {
     "end_time": "2018-06-16T03:18:10.623312Z",
     "start_time": "2018-06-16T03:15:36.786789Z"
    }
   },
   "outputs": [],
   "source": [
    "ptot_400 = numpy.load('DATA_ptot_400.npy')\n",
    "wa_400 = numpy.load('DATA_wa_400.npy')\n",
    "#ua_400 = numpy.load('DATA_ua_400.npy')\n",
    "#va_400 = numpy.load('DATA_va_400.npy')\n",
    "#tk_400 = numpy.load('DATA_tk_400.npy')\n",
    "#prw_400 = numpy.load('DATA_prw_400.npy')\n",
    "\n",
    "geopot_400 = numpy.load('DATA_geopot_400.npy')\n",
    "geopot_stag_400 = numpy.load('DATA_geopot_stag_400.npy')\n",
    "tk_400 = numpy.load('DATA_tk_400.npy')"
   ]
  },
  {
   "cell_type": "code",
   "execution_count": 5,
   "metadata": {
    "ExecuteTime": {
     "end_time": "2018-06-16T03:18:35.180347Z",
     "start_time": "2018-06-16T03:18:10.660845Z"
    }
   },
   "outputs": [],
   "source": [
    "cont_mfds = xarray.open_mfdataset(root_dir + '/' + 'wrfout*.nc')"
   ]
  },
  {
   "cell_type": "code",
   "execution_count": 6,
   "metadata": {
    "ExecuteTime": {
     "end_time": "2018-06-16T03:19:12.059617Z",
     "start_time": "2018-06-16T03:18:35.213587Z"
    }
   },
   "outputs": [],
   "source": [
    "time = cont_mfds['Times'].values\n",
    "xlat = cont_mfds['XLAT'].values[0,:,:]\n",
    "xlong = cont_mfds['XLONG'].values[0,:,:]\n",
    "landmask = cont_mfds['LANDMASK'].values[0,:,:]\n",
    "landmask_midpoints = landmask[1:,1:]"
   ]
  },
  {
   "cell_type": "code",
   "execution_count": 7,
   "metadata": {
    "ExecuteTime": {
     "end_time": "2018-06-16T03:19:12.148913Z",
     "start_time": "2018-06-16T03:19:12.099425Z"
    }
   },
   "outputs": [],
   "source": [
    "qvapor_400 = cont_mfds['QVAPOR']\n",
    "u_400 = cont_mfds['U']\n",
    "v_400 = cont_mfds['V']\n",
    "w_400 = cont_mfds['W']"
   ]
  },
  {
   "cell_type": "code",
   "execution_count": 8,
   "metadata": {
    "ExecuteTime": {
     "end_time": "2018-06-16T03:19:12.299918Z",
     "start_time": "2018-06-16T03:19:12.185447Z"
    }
   },
   "outputs": [],
   "source": [
    "rainc_400 = cont_mfds['RAINC']\n",
    "rainnc_400 = cont_mfds['RAINNC']"
   ]
  },
  {
   "cell_type": "markdown",
   "metadata": {},
   "source": [
    "## phys data"
   ]
  },
  {
   "cell_type": "code",
   "execution_count": 9,
   "metadata": {
    "ExecuteTime": {
     "end_time": "2018-06-16T03:19:21.347077Z",
     "start_time": "2018-06-16T03:19:19.704449Z"
    }
   },
   "outputs": [],
   "source": [
    "root_dir = '/beegfs/DATA/pritchard/blangenb/WRF_ARCHIVE/CHEYENNE/FMAASO/1000/ens_mean_wrfout_files'\n",
    "file_list = sorted(glob.glob(root_dir+'/'+'wrfout*.nc'))\n",
    "ds_list = [netCDF4.Dataset(file) for file in file_list]"
   ]
  },
  {
   "cell_type": "raw",
   "metadata": {
    "ExecuteTime": {
     "end_time": "2018-05-29T23:00:32.501004Z",
     "start_time": "2018-05-29T22:57:19.578559Z"
    }
   },
   "source": [
    "geopot_stag_1000 = wrf.getvar(ds_list, 'geopt_stag', timeidx=wrf.ALL_TIMES).values\n",
    "numpy.save('DATA_geopot_stag_1000.npy', geopot_stag_400)\n",
    "\n",
    "geopot_1000 = wrf.getvar(ds_list, 'geopotential', timeidx=wrf.ALL_TIMES).values\n",
    "numpy.save('DATA_geopot_1000.npy', geopot_1000)\n",
    "\n",
    "ptot_1000 = wrf.getvar(ds_list, 'p', timeidx=wrf.ALL_TIMES).values\n",
    "wa_1000 = wrf.getvar(ds_list, 'wa', timeidx=wrf.ALL_TIMES).values\n",
    "ua_1000 = wrf.getvar(ds_list, 'ua', timeidx=wrf.ALL_TIMES).values\n",
    "va_1000 = wrf.getvar(ds_list, 'va', timeidx=wrf.ALL_TIMES).values\n",
    "tk_1000 = wrf.getvar(ds_list, 'tk', timeidx=wrf.ALL_TIMES).values\n",
    "prw_1000 = wrf.getvar(ds_list, 'prw', timeidx=wrf.ALL_TIMES).values\n",
    "geopot_1000 = wrf.getvar(ds_list, 'geopotential', timeidx=wrf.ALL_TIMES).values\n",
    "\n",
    "numpy.save('DATA_ptot_1000.npy', ptot_1000)\n",
    "numpy.save('DATA_wa_1000.npy', wa_1000)\n",
    "numpy.save('DATA_ua_1000.npy', ua_1000)\n",
    "numpy.save('DATA_va_1000.npy', va_1000)\n",
    "numpy.save('DATA_tk_1000.npy', tk_1000)\n",
    "numpy.save('DATA_prw_1000.npy', prw_1000)\n",
    "numpy.save('DATA_geopot_1000.npy', geopot_1000)"
   ]
  },
  {
   "cell_type": "code",
   "execution_count": 10,
   "metadata": {
    "ExecuteTime": {
     "end_time": "2018-06-16T03:21:53.924436Z",
     "start_time": "2018-06-16T03:19:21.378586Z"
    }
   },
   "outputs": [],
   "source": [
    "ptot_1000 = numpy.load('DATA_ptot_1000.npy')\n",
    "wa_1000 = numpy.load('DATA_wa_1000.npy')\n",
    "#ua_1000 = numpy.load('DATA_ua_1000.npy')\n",
    "#va_1000 = numpy.load('DATA_va_1000.npy')\n",
    "#tk_1000 = numpy.load('DATA_tk_1000.npy')\n",
    "#prw_1000 = numpy.load('DATA_prw_1000.npy')\n",
    "\n",
    "geopot_1000 = numpy.load('DATA_geopot_1000.npy')\n",
    "geopot_stag_1000 = numpy.load('DATA_geopot_stag_1000.npy')\n",
    "tk_1000 = numpy.load('DATA_tk_1000.npy')"
   ]
  },
  {
   "cell_type": "code",
   "execution_count": 11,
   "metadata": {
    "ExecuteTime": {
     "end_time": "2018-06-16T03:22:19.230326Z",
     "start_time": "2018-06-16T03:21:53.942468Z"
    }
   },
   "outputs": [],
   "source": [
    "phys_mfds = xarray.open_mfdataset(root_dir + '/' + 'wrfout*.nc')"
   ]
  },
  {
   "cell_type": "code",
   "execution_count": 12,
   "metadata": {
    "ExecuteTime": {
     "end_time": "2018-06-16T03:22:19.319747Z",
     "start_time": "2018-06-16T03:22:19.266572Z"
    }
   },
   "outputs": [],
   "source": [
    "qvapor_1000 = phys_mfds['QVAPOR']\n",
    "u_1000 = phys_mfds['U']\n",
    "v_1000 = phys_mfds['V']\n",
    "w_1000 = phys_mfds['W']"
   ]
  },
  {
   "cell_type": "code",
   "execution_count": 13,
   "metadata": {
    "ExecuteTime": {
     "end_time": "2018-06-16T03:22:19.411160Z",
     "start_time": "2018-06-16T03:22:19.349894Z"
    }
   },
   "outputs": [],
   "source": [
    "rainc_1000 = phys_mfds['RAINC']\n",
    "rainnc_1000 = phys_mfds['RAINNC']"
   ]
  },
  {
   "cell_type": "markdown",
   "metadata": {},
   "source": [
    "## define dx, dy"
   ]
  },
  {
   "cell_type": "code",
   "execution_count": 14,
   "metadata": {
    "ExecuteTime": {
     "end_time": "2018-06-16T03:23:13.554547Z",
     "start_time": "2018-06-16T03:23:13.529452Z"
    }
   },
   "outputs": [],
   "source": [
    "dx = 50000. # 50,000 m or 50 km\n",
    "dy = 50000."
   ]
  },
  {
   "cell_type": "markdown",
   "metadata": {},
   "source": [
    "# constants"
   ]
  },
  {
   "cell_type": "code",
   "execution_count": 15,
   "metadata": {
    "ExecuteTime": {
     "end_time": "2018-06-16T03:23:26.955194Z",
     "start_time": "2018-06-16T03:23:26.933513Z"
    }
   },
   "outputs": [],
   "source": [
    "L_v = 2264705.0 # J/kg\n",
    "c_p = 1005.7 # J/kgK\n",
    "g = 9.80665 # m/s2"
   ]
  },
  {
   "cell_type": "markdown",
   "metadata": {},
   "source": [
    "## get landmask"
   ]
  },
  {
   "cell_type": "code",
   "execution_count": 16,
   "metadata": {
    "ExecuteTime": {
     "end_time": "2018-06-16T03:24:49.211727Z",
     "start_time": "2018-06-16T03:24:49.079457Z"
    }
   },
   "outputs": [],
   "source": [
    "landmask = cont_mfds['LANDMASK'].sel(Time=0).values"
   ]
  },
  {
   "cell_type": "code",
   "execution_count": 17,
   "metadata": {
    "ExecuteTime": {
     "end_time": "2018-06-16T03:24:49.272794Z",
     "start_time": "2018-06-16T03:24:49.236852Z"
    }
   },
   "outputs": [],
   "source": [
    "lat_indices = ((xlat<=10)&(xlat>=-5))"
   ]
  },
  {
   "cell_type": "markdown",
   "metadata": {},
   "source": [
    "# calculate raintot and rain diffs"
   ]
  },
  {
   "cell_type": "code",
   "execution_count": 18,
   "metadata": {
    "ExecuteTime": {
     "end_time": "2018-06-16T03:26:28.467018Z",
     "start_time": "2018-06-16T03:25:16.077455Z"
    }
   },
   "outputs": [],
   "source": [
    "raintot_accum_1000 = rainnc_1000+rainc_1000\n",
    "\n",
    "raintot_accum_400 = rainnc_400+rainc_400\n",
    "\n",
    "raintot_1000 = numpy.diff(raintot_accum_1000, axis=0)\n",
    "raintot_400 = numpy.diff(raintot_accum_400, axis=0)"
   ]
  },
  {
   "cell_type": "code",
   "execution_count": 19,
   "metadata": {
    "ExecuteTime": {
     "end_time": "2018-06-16T03:26:29.366427Z",
     "start_time": "2018-06-16T03:26:28.501109Z"
    }
   },
   "outputs": [
    {
     "name": "stderr",
     "output_type": "stream",
     "text": [
      "/export/home/blangenb/anaconda3/lib/python3.6/site-packages/ipykernel_launcher.py:6: RuntimeWarning: Mean of empty slice\n",
      "  \n"
     ]
    }
   ],
   "source": [
    "raintot_diffs = raintot_1000-raintot_400\n",
    "\n",
    "raintot_diffs_landmask = numpy.copy(raintot_diffs)\n",
    "raintot_diffs_landmask[:,landmask==0]=numpy.nan\n",
    "raintot_diffs_lat_subset = raintot_diffs_landmask[:,lat_indices[:,0],:]\n",
    "raintot_diffs_latmean = numpy.nanmean(raintot_diffs_lat_subset, axis=1)"
   ]
  },
  {
   "cell_type": "code",
   "execution_count": 20,
   "metadata": {
    "ExecuteTime": {
     "end_time": "2018-06-16T03:26:43.523702Z",
     "start_time": "2018-06-16T03:26:43.475446Z"
    }
   },
   "outputs": [
    {
     "name": "stderr",
     "output_type": "stream",
     "text": [
      "/export/home/blangenb/anaconda3/lib/python3.6/site-packages/ipykernel_launcher.py:1: RuntimeWarning: Mean of empty slice\n",
      "  \"\"\"Entry point for launching an IPython kernel.\n",
      "/export/home/blangenb/anaconda3/lib/python3.6/site-packages/ipykernel_launcher.py:2: RuntimeWarning: Mean of empty slice\n",
      "  \n"
     ]
    }
   ],
   "source": [
    "raintot_diffs_latmean_day1 = numpy.nanmean(raintot_diffs_latmean[:24,:], axis=0)\n",
    "raintot_diffs_latmean_day2_10 = numpy.nanmean(raintot_diffs_latmean[24:,:], axis=0)"
   ]
  },
  {
   "cell_type": "markdown",
   "metadata": {},
   "source": [
    "# calculate w diffs for height-longitude plot"
   ]
  },
  {
   "cell_type": "code",
   "execution_count": 21,
   "metadata": {
    "ExecuteTime": {
     "end_time": "2018-06-16T03:27:26.828983Z",
     "start_time": "2018-06-16T03:27:12.250320Z"
    }
   },
   "outputs": [],
   "source": [
    "wa_diffs = wa_1000-wa_400\n",
    "\n",
    "wa_diffs_landmask = numpy.copy(wa_diffs)\n",
    "wa_diffs_landmask[:,:,landmask==0]=numpy.nan"
   ]
  },
  {
   "cell_type": "code",
   "execution_count": 22,
   "metadata": {
    "ExecuteTime": {
     "end_time": "2018-06-16T03:27:27.613126Z",
     "start_time": "2018-06-16T03:27:26.865457Z"
    }
   },
   "outputs": [
    {
     "data": {
      "image/png": "[encoded data removed]",
      "text/plain": [
       "<Figure size 432x288 with 1 Axes>"
      ]
     },
     "metadata": {},
     "output_type": "display_data"
    }
   ],
   "source": [
    "fig, ax = mp.subplots(1,1,subplot_kw={'projection':cartopy.crs.PlateCarree()})\n",
    "ax.set_extent([270,330,-30,20])\n",
    "ax.coastlines()\n",
    "fig.tight_layout()"
   ]
  },
  {
   "cell_type": "markdown",
   "metadata": {},
   "source": [
    "# calculate MSE"
   ]
  },
  {
   "cell_type": "raw",
   "metadata": {
    "ExecuteTime": {
     "end_time": "2018-05-30T21:19:37.736845Z",
     "start_time": "2018-05-30T21:19:08.895863Z"
    }
   },
   "source": [
    "mse_400 = geopot_400 + L_v*qvapor_400 + c_p*tk_400\n",
    "mse_1000 = geopot_1000 + L_v*qvapor_1000 + c_p*tk_1000\n",
    "\n",
    "numpy.save('DATA_mse_400.npy', mse_400)\n",
    "numpy.save('DATA_mse_1000.npy', mse_1000)"
   ]
  },
  {
   "cell_type": "code",
   "execution_count": 23,
   "metadata": {
    "ExecuteTime": {
     "end_time": "2018-06-16T03:28:12.919623Z",
     "start_time": "2018-06-16T03:28:01.010452Z"
    }
   },
   "outputs": [],
   "source": [
    "mse_400 = numpy.load('DATA_mse_400.npy')\n",
    "mse_1000 = numpy.load('DATA_mse_1000.npy')"
   ]
  },
  {
   "cell_type": "markdown",
   "metadata": {},
   "source": [
    "# calculate midpoints so that fields are 28x178x288"
   ]
  },
  {
   "cell_type": "code",
   "execution_count": 24,
   "metadata": {
    "ExecuteTime": {
     "end_time": "2018-06-16T03:29:18.719162Z",
     "start_time": "2018-06-16T03:28:12.956468Z"
    }
   },
   "outputs": [],
   "source": [
    "u_400_midpoints = 0.5*(u_400[:,:,:,1:]+u_400[:,:,:,:-1])\n",
    "u_400_midpoints = 0.5*(u_400_midpoints[:,1:,1:,1:]+u_400_midpoints[:,:-1,:-1,:-1]).values"
   ]
  },
  {
   "cell_type": "code",
   "execution_count": 25,
   "metadata": {
    "ExecuteTime": {
     "end_time": "2018-06-16T03:32:06.337464Z",
     "start_time": "2018-06-16T03:29:18.758441Z"
    }
   },
   "outputs": [],
   "source": [
    "u_1000_midpoints = 0.5*(u_1000[:,:,:,1:]+u_1000[:,:,:,:-1])\n",
    "u_1000_midpoints = 0.5*(u_1000_midpoints[:,1:,1:,1:]+u_1000_midpoints[:,:-1,:-1,:-1]).values"
   ]
  },
  {
   "cell_type": "code",
   "execution_count": 26,
   "metadata": {
    "ExecuteTime": {
     "end_time": "2018-06-16T03:33:04.537457Z",
     "start_time": "2018-06-16T03:32:06.369370Z"
    }
   },
   "outputs": [],
   "source": [
    "v_400_midpoints = 0.5*(v_400[:,:,1:,:]+v_400[:,:,:-1,:])\n",
    "v_400_midpoints = 0.5*(v_400_midpoints[:,1:,1:,1:]+v_400_midpoints[:,:-1,:-1,:-1]).values"
   ]
  },
  {
   "cell_type": "code",
   "execution_count": 27,
   "metadata": {
    "ExecuteTime": {
     "end_time": "2018-06-16T03:36:07.270937Z",
     "start_time": "2018-06-16T03:33:22.829448Z"
    }
   },
   "outputs": [],
   "source": [
    "v_1000_midpoints = 0.5*(v_1000[:,:,1:,:]+v_1000[:,:,:-1,:])\n",
    "v_1000_midpoints = 0.5*(v_1000_midpoints[:,1:,1:,1:]+v_1000_midpoints[:,:-1,:-1,:-1]).values"
   ]
  },
  {
   "cell_type": "raw",
   "metadata": {
    "ExecuteTime": {
     "end_time": "2018-05-29T19:22:56.540160Z",
     "start_time": "2018-05-29T19:22:56.513713Z"
    }
   },
   "source": [
    "omega_400_midpoints = (0.5*(omega_400[:,1:,1:,1:]+omega_400[:,:-1,:-1,:-1]))\n",
    "omega_1000_midpoints = (0.5*(omega_1000[:,1:,1:,1:]+omega_1000[:,:-1,:-1,:-1]))"
   ]
  },
  {
   "cell_type": "code",
   "execution_count": 28,
   "metadata": {
    "ExecuteTime": {
     "end_time": "2018-06-16T03:37:38.679614Z",
     "start_time": "2018-06-16T03:37:22.970487Z"
    }
   },
   "outputs": [],
   "source": [
    "wa_400_midpoints = (0.5*(wa_400[:,1:,1:,1:]+wa_400[:,:-1,:-1,:-1]))\n",
    "wa_1000_midpoints = (0.5*(wa_1000[:,1:,1:,1:]+wa_1000[:,:-1,:-1,:-1]))"
   ]
  },
  {
   "cell_type": "code",
   "execution_count": 29,
   "metadata": {
    "ExecuteTime": {
     "end_time": "2018-06-16T03:37:52.807597Z",
     "start_time": "2018-06-16T03:37:38.715305Z"
    }
   },
   "outputs": [],
   "source": [
    "ptot_400_midpoints = 0.5*(ptot_400[:,1:,1:,1:]+ptot_400[:,:-1,:-1,:-1])\n",
    "ptot_1000_midpoints = 0.5*(ptot_1000[:,1:,1:,1:]+ptot_1000[:,:-1,:-1,:-1])"
   ]
  },
  {
   "cell_type": "code",
   "execution_count": 30,
   "metadata": {
    "ExecuteTime": {
     "end_time": "2018-06-16T03:38:07.051846Z",
     "start_time": "2018-06-16T03:37:52.845447Z"
    }
   },
   "outputs": [],
   "source": [
    "geopot_400_midpoints = 0.5*(geopot_400[:,1:,1:,1:]+geopot_400[:,:-1,:-1,:-1])\n",
    "geopot_1000_midpoints = 0.5*(geopot_1000[:,1:,1:,1:]+geopot_1000[:,:-1,:-1,:-1])"
   ]
  },
  {
   "cell_type": "raw",
   "metadata": {
    "ExecuteTime": {
     "end_time": "2018-05-14T18:54:06.624284Z",
     "start_time": "2018-05-14T18:54:05.364040Z"
    }
   },
   "source": [
    "geopot_400_midpoints = 0.5*(geopot_400[:,1:,1:,1:]+geopot_400[:,:-1,:-1,:-1])\n",
    "geopot_1000_midpoints = 0.5*(geopot_1000[:,1:,1:,1:]+geopot_1000[:,:-1,:-1,:-1])"
   ]
  },
  {
   "cell_type": "code",
   "execution_count": 31,
   "metadata": {
    "ExecuteTime": {
     "end_time": "2018-06-16T03:38:21.516731Z",
     "start_time": "2018-06-16T03:38:07.088446Z"
    }
   },
   "outputs": [],
   "source": [
    "mse_400_midpoints = 0.5*(mse_400[:,1:,1:,1:]+mse_400[:,:-1,:-1,:-1])\n",
    "mse_1000_midpoints = 0.5*(mse_1000[:,1:,1:,1:]+mse_1000[:,:-1,:-1,:-1])"
   ]
  },
  {
   "cell_type": "code",
   "execution_count": 32,
   "metadata": {
    "ExecuteTime": {
     "end_time": "2018-06-16T03:38:35.772188Z",
     "start_time": "2018-06-16T03:38:21.550102Z"
    }
   },
   "outputs": [],
   "source": [
    "ptot_1000_midpoints = 0.5*(ptot_1000[:,1:,1:,1:]+ptot_1000[:,:-1,:-1,:-1])\n",
    "ptot_400_midpoints = 0.5*(ptot_400[:,1:,1:,1:]+ptot_400[:,:-1,:-1,:-1])"
   ]
  },
  {
   "cell_type": "markdown",
   "metadata": {},
   "source": [
    "# calculate dmsedt terms"
   ]
  },
  {
   "cell_type": "code",
   "execution_count": 33,
   "metadata": {
    "ExecuteTime": {
     "end_time": "2018-06-16T03:38:35.833220Z",
     "start_time": "2018-06-16T03:38:35.808450Z"
    }
   },
   "outputs": [],
   "source": [
    "ntime = 241\n",
    "nlev = 28"
   ]
  },
  {
   "cell_type": "markdown",
   "metadata": {},
   "source": [
    "dmsedt will be automatically placed on midpoints"
   ]
  },
  {
   "cell_type": "code",
   "execution_count": 34,
   "metadata": {
    "ExecuteTime": {
     "end_time": "2018-06-16T03:39:39.285415Z",
     "start_time": "2018-06-16T03:39:31.016560Z"
    }
   },
   "outputs": [],
   "source": [
    "dmsedt_400 = numpy.zeros((ntime,nlev,xlat.shape[0]-1,xlat.shape[1]-1))*numpy.nan\n",
    "dmsedt_1000 = numpy.zeros((ntime,nlev,xlat.shape[0]-1,xlat.shape[1]-1))*numpy.nan"
   ]
  },
  {
   "cell_type": "code",
   "execution_count": 35,
   "metadata": {
    "ExecuteTime": {
     "end_time": "2018-06-16T03:40:20.536847Z",
     "start_time": "2018-06-16T03:39:55.666539Z"
    }
   },
   "outputs": [],
   "source": [
    "for t in range(1,ntime-1):\n",
    "    dmsedt_400[t,:,:,:] = (mse_400_midpoints[t+1,:,:,:]-mse_400_midpoints[t-1,:,:,:])/7200.\n",
    "for t in range(1,ntime-1):\n",
    "    dmsedt_1000[t,:,:,:] = (mse_1000_midpoints[t+1,:,:,:]-mse_1000_midpoints[t-1,:,:,:])/7200."
   ]
  },
  {
   "cell_type": "markdown",
   "metadata": {},
   "source": [
    "# calculate convergence terms"
   ]
  },
  {
   "cell_type": "code",
   "execution_count": 36,
   "metadata": {
    "ExecuteTime": {
     "end_time": "2018-06-16T03:42:35.401813Z",
     "start_time": "2018-06-16T03:41:59.525659Z"
    }
   },
   "outputs": [],
   "source": [
    "dudx_400 = numpy.diff(u_400.values, axis=3)/dx\n",
    "dudx_400 = 0.5*(dudx_400[:,1:,1:,1:]+dudx_400[:,:-1,:-1,:-1])"
   ]
  },
  {
   "cell_type": "code",
   "execution_count": 37,
   "metadata": {
    "ExecuteTime": {
     "end_time": "2018-06-16T03:43:58.495758Z",
     "start_time": "2018-06-16T03:43:00.597585Z"
    }
   },
   "outputs": [],
   "source": [
    "dudx_1000 = numpy.diff(u_1000.values, axis=3)/dx\n",
    "dudx_1000 = 0.5*(dudx_1000[:,1:,1:,1:]+dudx_1000[:,:-1,:-1,:-1])"
   ]
  },
  {
   "cell_type": "code",
   "execution_count": 38,
   "metadata": {
    "ExecuteTime": {
     "end_time": "2018-06-16T03:44:31.448257Z",
     "start_time": "2018-06-16T03:43:58.531481Z"
    }
   },
   "outputs": [],
   "source": [
    "dvdy_400 = numpy.diff(v_400.values, axis=2)/dy\n",
    "dvdy_400 = 0.5*(dvdy_400[:,1:,1:,1:]+dvdy_400[:,:-1,:-1,:-1])"
   ]
  },
  {
   "cell_type": "code",
   "execution_count": 39,
   "metadata": {
    "ExecuteTime": {
     "end_time": "2018-06-16T03:46:09.317734Z",
     "start_time": "2018-06-16T03:45:14.290449Z"
    }
   },
   "outputs": [],
   "source": [
    "dvdy_1000 = numpy.diff(v_1000.values, axis=2)/dy\n",
    "dvdy_1000 = 0.5*(dvdy_1000[:,1:,1:,1:]+dvdy_1000[:,:-1,:-1,:-1])"
   ]
  },
  {
   "cell_type": "code",
   "execution_count": 40,
   "metadata": {
    "ExecuteTime": {
     "end_time": "2018-06-16T03:46:24.946844Z",
     "start_time": "2018-06-16T03:46:18.494460Z"
    }
   },
   "outputs": [],
   "source": [
    "ptot_400_diff = numpy.diff(ptot_400, axis=1)\n",
    "ptot_1000_diff = numpy.diff(ptot_1000, axis=1)"
   ]
  },
  {
   "cell_type": "code",
   "execution_count": 41,
   "metadata": {
    "ExecuteTime": {
     "end_time": "2018-06-16T03:47:16.539263Z",
     "start_time": "2018-06-16T03:47:10.333473Z"
    }
   },
   "outputs": [],
   "source": [
    "geopot_400_diff = numpy.diff(geopot_400, axis=1) # needed for convergence calculation\n",
    "geopot_1000_diff = numpy.diff(geopot_1000, axis=1)"
   ]
  },
  {
   "cell_type": "code",
   "execution_count": 42,
   "metadata": {
    "ExecuteTime": {
     "end_time": "2018-06-16T03:47:34.540701Z",
     "start_time": "2018-06-16T03:47:26.377157Z"
    }
   },
   "outputs": [],
   "source": [
    "geopot_stag_400_diff = numpy.diff(geopot_stag_400, axis=1) # needed for advection calculation\n",
    "geopot_stag_1000_diff = numpy.diff(geopot_stag_1000, axis=1)"
   ]
  },
  {
   "cell_type": "code",
   "execution_count": 43,
   "metadata": {
    "ExecuteTime": {
     "end_time": "2018-06-16T03:52:22.288004Z",
     "start_time": "2018-06-16T03:48:33.806474Z"
    }
   },
   "outputs": [],
   "source": [
    "dwdz_400 = numpy.diff(w_400, axis=1)/(geopot_stag_400_diff/g)\n",
    "dwdz_400 = 0.5*(dwdz_400[:,1:,1:,1:]+dwdz_400[:,:-1,:-1,:-1])\n",
    "\n",
    "dwdz_1000 = numpy.diff(w_1000, axis=1)/(geopot_stag_1000_diff/g)\n",
    "dwdz_1000 = 0.5*(dwdz_1000[:,1:,1:,1:]+dwdz_1000[:,:-1,:-1,:-1])"
   ]
  },
  {
   "cell_type": "markdown",
   "metadata": {},
   "source": [
    "pressure coords"
   ]
  },
  {
   "cell_type": "raw",
   "metadata": {
    "ExecuteTime": {
     "end_time": "2018-05-11T17:03:52.126315Z",
     "start_time": "2018-05-11T17:01:32.598242Z"
    }
   },
   "source": [
    "cont_domegadp = numpy.diff(omega_400, axis=1)/ptot_400_diff\n",
    "cont_domegadp = 0.5*(cont_domegadp[:,:,1:,1:]+cont_domegadp[:,:,:-1,:-1])\n",
    "\n",
    "phys_domegadp = numpy.diff(omega_1000, axis=1)/ptot_1000_diff\n",
    "phys_domegadp = 0.5*(phys_domegadp[:,:,1:,1:]+phys_domegadp[:,:,:-1,:-1])\n",
    "\n",
    "convergence_400 = -qvapor_400_midpoints*(dudx_400 + dvdy_400 + cont_domegadp)\n",
    "convergence_1000 = -qvapor_1000_midpoints*(dudx_1000 + dvdy_1000 + phys_domegadp)"
   ]
  },
  {
   "cell_type": "code",
   "execution_count": 44,
   "metadata": {
    "ExecuteTime": {
     "end_time": "2018-06-16T03:53:45.564614Z",
     "start_time": "2018-06-16T03:53:23.497471Z"
    }
   },
   "outputs": [],
   "source": [
    "convergence_400 = -mse_400_midpoints*(dudx_400 + dvdy_400 + dwdz_400)\n",
    "convergence_1000 = -mse_1000_midpoints*(dudx_1000 + dvdy_1000 + dwdz_1000)"
   ]
  },
  {
   "cell_type": "markdown",
   "metadata": {},
   "source": [
    "calculate vertical and horizontal terms separately"
   ]
  },
  {
   "cell_type": "code",
   "execution_count": 45,
   "metadata": {
    "ExecuteTime": {
     "end_time": "2018-06-16T03:54:12.037182Z",
     "start_time": "2018-06-16T03:53:45.603446Z"
    }
   },
   "outputs": [],
   "source": [
    "convergence_400_vert = -mse_400_midpoints*dwdz_400 #cont_domegadp\n",
    "convergence_400_horiz = -mse_400_midpoints*(dudx_400 + dvdy_400)\n",
    "\n",
    "convergence_1000_vert = -mse_1000_midpoints*dwdz_1000 #phys_domegadp\n",
    "convergence_1000_horiz = -mse_1000_midpoints*(dudx_1000 + dvdy_1000)"
   ]
  },
  {
   "cell_type": "markdown",
   "metadata": {},
   "source": [
    "# calculate advection terms"
   ]
  },
  {
   "cell_type": "code",
   "execution_count": 48,
   "metadata": {
    "ExecuteTime": {
     "end_time": "2018-06-17T03:33:27.915840Z",
     "start_time": "2018-06-17T03:33:09.760342Z"
    }
   },
   "outputs": [],
   "source": [
    "cont_dmsedx = numpy.diff(mse_400, axis=3)/dx # diff in y, then take mean \n",
    "cont_dmsedx = 0.5*(cont_dmsedx[:,1:,1:,:]+cont_dmsedx[:,:-1,:-1,:])"
   ]
  },
  {
   "cell_type": "code",
   "execution_count": 49,
   "metadata": {
    "ExecuteTime": {
     "end_time": "2018-06-17T03:34:33.609817Z",
     "start_time": "2018-06-17T03:34:15.753117Z"
    }
   },
   "outputs": [],
   "source": [
    "phys_dmsedx = numpy.diff(mse_1000, axis=3)/dx # diff in y, then take mean \n",
    "phys_dmsedx = 0.5*(phys_dmsedx[:,1:,1:,:]+phys_dmsedx[:,:-1,:-1,:])"
   ]
  },
  {
   "cell_type": "code",
   "execution_count": 50,
   "metadata": {
    "ExecuteTime": {
     "end_time": "2018-06-17T03:35:37.757650Z",
     "start_time": "2018-06-17T03:35:20.162368Z"
    }
   },
   "outputs": [],
   "source": [
    "cont_dmsedy = numpy.diff(mse_400, axis=2)/dy # diff in y, then take mean \n",
    "cont_dmsedy = 0.5*(cont_dmsedy[:,1:,:,1:]+cont_dmsedy[:,:-1,:,:-1])"
   ]
  },
  {
   "cell_type": "code",
   "execution_count": 51,
   "metadata": {
    "ExecuteTime": {
     "end_time": "2018-06-17T03:36:43.508413Z",
     "start_time": "2018-06-17T03:36:25.880618Z"
    }
   },
   "outputs": [],
   "source": [
    "phys_dmsedy = numpy.diff(mse_1000, axis=2)/dy # diff in y, then take mean \n",
    "phys_dmsedy = 0.5*(phys_dmsedy[:,1:,:,1:]+phys_dmsedy[:,:-1,:,:-1])"
   ]
  },
  {
   "cell_type": "code",
   "execution_count": 52,
   "metadata": {
    "ExecuteTime": {
     "end_time": "2018-06-17T03:37:52.684155Z",
     "start_time": "2018-06-17T03:37:31.110885Z"
    }
   },
   "outputs": [],
   "source": [
    "cont_dmsedz = numpy.diff(mse_400, axis=1)/(geopot_400_diff/g)\n",
    "cont_dmsedz = 0.5*(cont_dmsedz[:,:,1:,1:]+cont_dmsedz[:,:,:-1,:-1])"
   ]
  },
  {
   "cell_type": "code",
   "execution_count": 53,
   "metadata": {
    "ExecuteTime": {
     "end_time": "2018-06-17T03:39:03.095841Z",
     "start_time": "2018-06-17T03:38:42.360447Z"
    }
   },
   "outputs": [],
   "source": [
    "phys_dmsedz = numpy.diff(mse_1000, axis=1)/(geopot_1000_diff/g)\n",
    "phys_dmsedz = 0.5*(phys_dmsedz[:,:,1:,1:]+phys_dmsedz[:,:,:-1,:-1])"
   ]
  },
  {
   "cell_type": "code",
   "execution_count": 54,
   "metadata": {
    "ExecuteTime": {
     "end_time": "2018-06-17T03:40:38.354179Z",
     "start_time": "2018-06-17T03:39:51.831471Z"
    }
   },
   "outputs": [],
   "source": [
    "advection_400 = -(u_400_midpoints*cont_dmsedx + v_400_midpoints*cont_dmsedy + wa_400_midpoints*cont_dmsedz)\n",
    "advection_1000 = -(u_1000_midpoints*phys_dmsedx + v_1000_midpoints*phys_dmsedy + wa_1000_midpoints*phys_dmsedz)"
   ]
  },
  {
   "cell_type": "markdown",
   "metadata": {},
   "source": [
    "for pressure terms"
   ]
  },
  {
   "cell_type": "raw",
   "metadata": {
    "ExecuteTime": {
     "end_time": "2018-05-11T17:19:30.735177Z",
     "start_time": "2018-05-11T17:18:16.668679Z"
    }
   },
   "source": [
    "advection_400 = -(u_400_midpoints*cont_dqdx + v_400_midpoints*cont_dqdy + omega_400_midpoints*cont_dqdp)\n",
    "advection_1000 = -(u_1000_midpoints*phys_dqdx + v_1000_midpoints*phys_dqdy + omega_1000_midpoints*phys_dqdp)"
   ]
  },
  {
   "cell_type": "markdown",
   "metadata": {},
   "source": [
    "calculate vertical and horizontal terms separately"
   ]
  },
  {
   "cell_type": "raw",
   "metadata": {
    "ExecuteTime": {
     "end_time": "2018-05-11T17:21:45.917603Z",
     "start_time": "2018-05-11T17:19:30.743351Z"
    }
   },
   "source": [
    "advection_400_vert = -w_400_midpoints*cont_dqdp\n",
    "advection_400_horiz = -(u_400_midpoints*cont_dqdx + v_400_midpoints*cont_dqdy)\n",
    "\n",
    "advection_1000_vert = -omega_1000_midpoints*phys_dqdp\n",
    "advection_1000_horiz = -(u_1000_midpoints*phys_dqdx + v_1000_midpoints*phys_dqdy)"
   ]
  },
  {
   "cell_type": "code",
   "execution_count": 55,
   "metadata": {
    "ExecuteTime": {
     "end_time": "2018-06-17T03:46:29.049385Z",
     "start_time": "2018-06-17T03:41:28.331467Z"
    }
   },
   "outputs": [],
   "source": [
    "advection_400_vert = -wa_400_midpoints*cont_dmsedz\n",
    "advection_400_horiz = -(u_400_midpoints*cont_dmsedx + v_400_midpoints*cont_dmsedy)\n",
    "\n",
    "advection_1000_vert = -wa_1000_midpoints*phys_dmsedz\n",
    "advection_1000_horiz = -(u_1000_midpoints*phys_dmsedx + v_1000_midpoints*phys_dmsedy)"
   ]
  },
  {
   "cell_type": "markdown",
   "metadata": {},
   "source": [
    "# calculate time means"
   ]
  },
  {
   "cell_type": "markdown",
   "metadata": {},
   "source": [
    "Only time mean for qcloud, qrain, ptot\n",
    "\n",
    "Rest have day1 mean as well"
   ]
  },
  {
   "cell_type": "code",
   "execution_count": 56,
   "metadata": {
    "ExecuteTime": {
     "end_time": "2018-06-17T03:48:56.378144Z",
     "start_time": "2018-06-17T03:46:29.079857Z"
    }
   },
   "outputs": [],
   "source": [
    "ptot_400_tm = numpy.nanmean(ptot_400[24:,:,:,:], axis=0)\n",
    "ptot_1000_tm = numpy.nanmean(ptot_1000[24:,:,:,:], axis=0)"
   ]
  },
  {
   "cell_type": "code",
   "execution_count": 57,
   "metadata": {
    "ExecuteTime": {
     "end_time": "2018-06-17T03:52:13.047211Z",
     "start_time": "2018-06-17T03:48:56.408543Z"
    }
   },
   "outputs": [],
   "source": [
    "dmsedt_400_tm = numpy.nanmean(dmsedt_400[24:,:,:,:], axis=0)\n",
    "dmsedt_1000_tm = numpy.nanmean(dmsedt_1000[24:,:,:,:], axis=0)\n",
    "\n",
    "dmsedt_400_tm_day1 = numpy.nanmean(dmsedt_400[:24,:,:,:], axis=0)\n",
    "dmsedt_1000_tm_day1 = numpy.nanmean(dmsedt_1000[:24,:,:,:], axis=0)"
   ]
  },
  {
   "cell_type": "code",
   "execution_count": 58,
   "metadata": {
    "ExecuteTime": {
     "end_time": "2018-06-17T03:52:42.252435Z",
     "start_time": "2018-06-17T03:52:13.080865Z"
    }
   },
   "outputs": [],
   "source": [
    "advection_400_tm = numpy.nanmean(advection_400[24:,:,:,:], axis=0)\n",
    "advection_1000_tm = numpy.nanmean(advection_1000[24:,:,:,:], axis=0)\n",
    "\n",
    "advection_400_tm_day1 = numpy.nanmean(advection_400[:24,:,:,:], axis=0)\n",
    "advection_1000_tm_day1 = numpy.nanmean(advection_1000[:24,:,:,:], axis=0)"
   ]
  },
  {
   "cell_type": "code",
   "execution_count": 59,
   "metadata": {
    "ExecuteTime": {
     "end_time": "2018-06-17T03:53:11.364331Z",
     "start_time": "2018-06-17T03:52:42.282382Z"
    }
   },
   "outputs": [],
   "source": [
    "convergence_400_tm = numpy.nanmean(convergence_400[24:,:,:,:], axis=0)\n",
    "convergence_1000_tm = numpy.nanmean(convergence_1000[24:,:,:,:], axis=0)\n",
    "\n",
    "convergence_400_tm_day1 = numpy.nanmean(convergence_400[:24,:,:,:], axis=0)\n",
    "convergence_1000_tm_day1 = numpy.nanmean(convergence_1000[:24,:,:,:], axis=0)"
   ]
  },
  {
   "cell_type": "code",
   "execution_count": 60,
   "metadata": {
    "ExecuteTime": {
     "end_time": "2018-06-17T03:53:40.473728Z",
     "start_time": "2018-06-17T03:53:11.394160Z"
    }
   },
   "outputs": [],
   "source": [
    "convergence_400_tm = numpy.nanmean(convergence_400[24:,:,:,:], axis=0)\n",
    "convergence_1000_tm = numpy.nanmean(convergence_1000[24:,:,:,:], axis=0)\n",
    "\n",
    "convergence_400_tm_day1 = numpy.nanmean(convergence_400[:24,:,:,:], axis=0)\n",
    "convergence_1000_tm_day1 = numpy.nanmean(convergence_1000[:24,:,:,:], axis=0)"
   ]
  },
  {
   "cell_type": "markdown",
   "metadata": {},
   "source": [
    "calculate vertical and horizontal advection terms"
   ]
  },
  {
   "cell_type": "code",
   "execution_count": 61,
   "metadata": {
    "ExecuteTime": {
     "end_time": "2018-06-17T03:54:40.646295Z",
     "start_time": "2018-06-17T03:53:40.509460Z"
    }
   },
   "outputs": [],
   "source": [
    "advection_400_vert_tm = numpy.nanmean(advection_400_vert[24:,:,:,:], axis=0)\n",
    "advection_1000_vert_tm = numpy.nanmean(advection_1000_vert[24:,:,:,:], axis=0)\n",
    "advection_400_vert_tm_day1 = numpy.nanmean(advection_400_vert[:24,:,:,:], axis=0)\n",
    "advection_1000_vert_tm_day1 = numpy.nanmean(advection_1000_vert[:24,:,:,:], axis=0)\n",
    "\n",
    "advection_400_horiz_tm = numpy.nanmean(advection_400_horiz[24:,:,:,:], axis=0)\n",
    "advection_1000_horiz_tm = numpy.nanmean(advection_1000_horiz[24:,:,:,:], axis=0)\n",
    "advection_400_horiz_tm_day1 = numpy.nanmean(advection_400_horiz[:24,:,:,:], axis=0)\n",
    "advection_1000_horiz_tm_day1 = numpy.nanmean(advection_1000_horiz[:24,:,:,:], axis=0)"
   ]
  },
  {
   "cell_type": "code",
   "execution_count": 62,
   "metadata": {
    "ExecuteTime": {
     "end_time": "2018-06-17T03:56:36.471936Z",
     "start_time": "2018-06-17T03:55:36.730281Z"
    }
   },
   "outputs": [],
   "source": [
    "convergence_400_vert_tm = numpy.nanmean(convergence_400_vert[24:,:,:,:], axis=0)\n",
    "convergence_1000_vert_tm = numpy.nanmean(convergence_1000_vert[24:,:,:,:], axis=0)\n",
    "convergence_400_vert_tm_day1 = numpy.nanmean(convergence_400_vert[:24,:,:,:], axis=0)\n",
    "convergence_1000_vert_tm_day1 = numpy.nanmean(convergence_1000_vert[:24,:,:,:], axis=0)\n",
    "\n",
    "convergence_400_horiz_tm = numpy.nanmean(convergence_400_horiz[24:,:,:,:], axis=0)\n",
    "convergence_1000_horiz_tm = numpy.nanmean(convergence_1000_horiz[24:,:,:,:], axis=0)\n",
    "convergence_400_horiz_tm_day1 = numpy.nanmean(convergence_400_horiz[:24,:,:,:], axis=0)\n",
    "convergence_1000_horiz_tm_day1 = numpy.nanmean(convergence_1000_horiz[:24,:,:,:], axis=0)"
   ]
  },
  {
   "cell_type": "code",
   "execution_count": 63,
   "metadata": {
    "ExecuteTime": {
     "end_time": "2018-06-17T03:56:36.549796Z",
     "start_time": "2018-06-17T03:56:36.507438Z"
    }
   },
   "outputs": [],
   "source": [
    "#dry_lon_lo, dry_lon_hi, dry_lat_lo, dry_lat_hi = -60,-50,-10,10\n",
    "#wet_lon_lo, wet_lon_hi, wet_lat_lo, wet_lat_hi = -80,-75,-10,10\n",
    "\n",
    "dry_lon_lo, dry_lon_hi, dry_lat_lo, dry_lat_hi = -60,-50,-5,10\n",
    "wet_lon_lo, wet_lon_hi, wet_lat_lo, wet_lat_hi = -80,-70,-5,10\n",
    "\n",
    "#dry_lon_lo, dry_lon_hi, dry_lat_lo, dry_lat_hi = -65,-50,-10,10\n",
    "#wet_lon_lo, wet_lon_hi, wet_lat_lo, wet_lat_hi = -80,-75,-10,10\n",
    "\n",
    "dry_lon_lo_degE = 360+dry_lon_lo\n",
    "dry_lon_hi_degE = 360+dry_lon_hi\n",
    "\n",
    "wet_lon_lo_degE = 360+wet_lon_lo\n",
    "wet_lon_hi_degE = 360+wet_lon_hi"
   ]
  },
  {
   "cell_type": "code",
   "execution_count": 64,
   "metadata": {
    "ExecuteTime": {
     "end_time": "2018-06-17T03:56:36.731148Z",
     "start_time": "2018-06-17T03:56:36.573265Z"
    }
   },
   "outputs": [],
   "source": [
    "xlat_midpoints = 0.5*(xlat[1:,1:]+xlat[:-1,:-1])\n",
    "xlong_midpoints = 0.5*(xlong[1:,1:]+xlong[:-1,:-1])"
   ]
  },
  {
   "cell_type": "code",
   "execution_count": 65,
   "metadata": {
    "ExecuteTime": {
     "end_time": "2018-06-17T04:01:21.584763Z",
     "start_time": "2018-06-17T04:01:21.531473Z"
    }
   },
   "outputs": [],
   "source": [
    "wet_latlon_subset_midpoints = ((xlat_midpoints<=wet_lat_hi) & (xlat_midpoints>=wet_lat_lo) \\\n",
    "                               & (xlong_midpoints<=wet_lon_hi) & (xlong_midpoints>=wet_lon_lo))\n",
    "\n",
    "dry_latlon_subset_midpoints = ((xlat_midpoints<=dry_lat_hi) & (xlat_midpoints>=dry_lat_lo) \\\n",
    "                               & (xlong_midpoints<=dry_lon_hi) & (xlong_midpoints>=dry_lon_lo))\n",
    "\n",
    "lat_indices_midpoints = ((xlat_midpoints<=10)&(xlat_midpoints>=-10))"
   ]
  },
  {
   "cell_type": "code",
   "execution_count": 66,
   "metadata": {
    "ExecuteTime": {
     "end_time": "2018-06-17T04:01:21.704156Z",
     "start_time": "2018-06-17T04:01:21.597992Z"
    }
   },
   "outputs": [],
   "source": [
    "wet_latlon_subset = ((xlat<=wet_lat_hi) & (xlat>=wet_lat_lo) \\\n",
    "                               & (xlong<=wet_lon_hi) & (xlong>=wet_lon_lo))\n",
    "\n",
    "dry_latlon_subset = ((xlat<=dry_lat_hi) & (xlat>=dry_lat_lo) \\\n",
    "                               & (xlong<=dry_lon_hi) & (xlong>=dry_lon_lo))\n",
    "\n",
    "lat_indices = ((xlat<=10)&(xlat>=-10))"
   ]
  },
  {
   "cell_type": "markdown",
   "metadata": {},
   "source": [
    "# pulling out wet and dry regions"
   ]
  },
  {
   "cell_type": "code",
   "execution_count": 67,
   "metadata": {
    "ExecuteTime": {
     "end_time": "2018-06-17T04:04:13.445508Z",
     "start_time": "2018-06-17T04:04:13.326974Z"
    }
   },
   "outputs": [],
   "source": [
    "dmsedt_400_wet_region = numpy.nanmean(dmsedt_400_tm[:,wet_latlon_subset_midpoints], axis=1)\n",
    "dmsedt_400_dry_region = numpy.nanmean(dmsedt_400_tm[:,dry_latlon_subset_midpoints], axis=1)\n",
    "\n",
    "dmsedt_1000_wet_region = numpy.nanmean(dmsedt_1000_tm[:,wet_latlon_subset_midpoints], axis=1)\n",
    "dmsedt_1000_dry_region = numpy.nanmean(dmsedt_1000_tm[:,dry_latlon_subset_midpoints], axis=1)\n",
    "\n",
    "dmsedt_400_wet_region_day1 = numpy.nanmean(dmsedt_400_tm_day1[:,wet_latlon_subset_midpoints], axis=1)\n",
    "dmsedt_400_dry_region_day1 = numpy.nanmean(dmsedt_400_tm_day1[:,dry_latlon_subset_midpoints], axis=1)\n",
    "\n",
    "dmsedt_1000_wet_region_day1 = numpy.nanmean(dmsedt_1000_tm_day1[:,wet_latlon_subset_midpoints], axis=1)\n",
    "dmsedt_1000_dry_region_day1 = numpy.nanmean(dmsedt_1000_tm_day1[:,dry_latlon_subset_midpoints], axis=1)"
   ]
  },
  {
   "cell_type": "code",
   "execution_count": 68,
   "metadata": {
    "ExecuteTime": {
     "end_time": "2018-06-17T04:04:13.567835Z",
     "start_time": "2018-06-17T04:04:13.480686Z"
    }
   },
   "outputs": [],
   "source": [
    "convergence_400_wet_region = numpy.nanmean(convergence_400_tm[:,wet_latlon_subset_midpoints], axis=1)\n",
    "convergence_400_dry_region = numpy.nanmean(convergence_400_tm[:,dry_latlon_subset_midpoints], axis=1)\n",
    "\n",
    "convergence_1000_wet_region = numpy.nanmean(convergence_1000_tm[:,wet_latlon_subset_midpoints], axis=1)\n",
    "convergence_1000_dry_region = numpy.nanmean(convergence_1000_tm[:,dry_latlon_subset_midpoints], axis=1)\n",
    "\n",
    "convergence_400_wet_region_day1 = numpy.nanmean(convergence_400_tm_day1[:,wet_latlon_subset_midpoints], axis=1)\n",
    "convergence_400_dry_region_day1 = numpy.nanmean(convergence_400_tm_day1[:,dry_latlon_subset_midpoints], axis=1)\n",
    "\n",
    "convergence_1000_wet_region_day1 = numpy.nanmean(convergence_1000_tm_day1[:,wet_latlon_subset_midpoints], axis=1)\n",
    "convergence_1000_dry_region_day1 = numpy.nanmean(convergence_1000_tm_day1[:,dry_latlon_subset_midpoints], axis=1)"
   ]
  },
  {
   "cell_type": "code",
   "execution_count": null,
   "metadata": {
    "collapsed": true
   },
   "outputs": [],
   "source": []
  },
  {
   "cell_type": "code",
   "execution_count": 181,
   "metadata": {
    "ExecuteTime": {
     "end_time": "2018-06-26T00:09:35.999818Z",
     "start_time": "2018-06-26T00:09:35.951712Z"
    }
   },
   "outputs": [
    {
     "data": {
      "text/plain": [
       "(241, 28, 178, 288)"
      ]
     },
     "execution_count": 181,
     "metadata": {},
     "output_type": "execute_result"
    }
   ],
   "source": [
    "convergence_400.shape"
   ]
  },
  {
   "cell_type": "code",
   "execution_count": 69,
   "metadata": {
    "ExecuteTime": {
     "end_time": "2018-06-17T04:06:09.227222Z",
     "start_time": "2018-06-17T04:06:09.112287Z"
    }
   },
   "outputs": [],
   "source": [
    "advection_400_wet_region = numpy.nanmean(advection_400_tm[:,wet_latlon_subset_midpoints], axis=1)\n",
    "advection_400_dry_region = numpy.nanmean(advection_400_tm[:,dry_latlon_subset_midpoints], axis=1)\n",
    "\n",
    "advection_1000_wet_region = numpy.nanmean(advection_1000_tm[:,wet_latlon_subset_midpoints], axis=1)\n",
    "advection_1000_dry_region = numpy.nanmean(advection_1000_tm[:,dry_latlon_subset_midpoints], axis=1)\n",
    "\n",
    "advection_400_wet_region_day1 = numpy.nanmean(advection_400_tm_day1[:,wet_latlon_subset_midpoints], axis=1)\n",
    "advection_400_dry_region_day1 = numpy.nanmean(advection_400_tm_day1[:,dry_latlon_subset_midpoints], axis=1)\n",
    "\n",
    "advection_1000_wet_region_day1 = numpy.nanmean(advection_1000_tm_day1[:,wet_latlon_subset_midpoints], axis=1)\n",
    "advection_1000_dry_region_day1 = numpy.nanmean(advection_1000_tm_day1[:,dry_latlon_subset_midpoints], axis=1)"
   ]
  },
  {
   "cell_type": "code",
   "execution_count": 70,
   "metadata": {
    "ExecuteTime": {
     "end_time": "2018-06-17T04:07:36.333326Z",
     "start_time": "2018-06-17T04:07:06.236773Z"
    }
   },
   "outputs": [],
   "source": [
    "wa_400_tm = numpy.nanmean(wa_400[24:,:,:,:], axis=0)\n",
    "wa_1000_tm = numpy.nanmean(wa_1000[24:,:,:,:], axis=0)\n",
    "\n",
    "wa_400_tm_day1 = numpy.nanmean(wa_400[:24,:,:,:], axis=0)\n",
    "wa_1000_tm_day1 = numpy.nanmean(wa_1000[:24,:,:,:], axis=0)"
   ]
  },
  {
   "cell_type": "code",
   "execution_count": 71,
   "metadata": {
    "ExecuteTime": {
     "end_time": "2018-06-17T04:07:36.449547Z",
     "start_time": "2018-06-17T04:07:36.363328Z"
    }
   },
   "outputs": [],
   "source": [
    "wa_400_wet = numpy.nanmean(wa_400_tm[:,wet_latlon_subset],axis=1)\n",
    "wa_400_dry = numpy.nanmean(wa_400_tm[:,dry_latlon_subset],axis=1)\n",
    "\n",
    "wa_1000_wet = numpy.nanmean(wa_1000_tm[:,wet_latlon_subset],axis=1)\n",
    "wa_1000_dry = numpy.nanmean(wa_1000_tm[:,dry_latlon_subset],axis=1)\n",
    "\n",
    "wa_400_wet_day1 = numpy.nanmean(wa_400_tm_day1[:,wet_latlon_subset],axis=1)\n",
    "wa_400_dry_day1 = numpy.nanmean(wa_400_tm_day1[:,dry_latlon_subset],axis=1)\n",
    "\n",
    "wa_1000_wet_day1 = numpy.nanmean(wa_1000_tm_day1[:,wet_latlon_subset],axis=1)\n",
    "wa_1000_dry_day1 = numpy.nanmean(wa_1000_tm_day1[:,dry_latlon_subset],axis=1)"
   ]
  },
  {
   "cell_type": "code",
   "execution_count": 72,
   "metadata": {
    "ExecuteTime": {
     "end_time": "2018-06-17T04:08:50.366675Z",
     "start_time": "2018-06-17T04:08:50.226813Z"
    }
   },
   "outputs": [],
   "source": [
    "convergence_400_vert_wet_region = numpy.nanmean(convergence_400_vert_tm[:,wet_latlon_subset_midpoints], axis=1)\n",
    "convergence_400_vert_dry_region = numpy.nanmean(convergence_400_vert_tm[:,dry_latlon_subset_midpoints], axis=1)\n",
    "\n",
    "convergence_1000_vert_wet_region = numpy.nanmean(convergence_1000_vert_tm[:,wet_latlon_subset_midpoints], axis=1)\n",
    "convergence_1000_vert_dry_region = numpy.nanmean(convergence_1000_vert_tm[:,dry_latlon_subset_midpoints], axis=1)\n",
    "\n",
    "convergence_400_vert_wet_region_day1 = numpy.nanmean(convergence_400_vert_tm_day1[:,wet_latlon_subset_midpoints], axis=1)\n",
    "convergence_400_vert_dry_region_day1 = numpy.nanmean(convergence_400_vert_tm_day1[:,dry_latlon_subset_midpoints], axis=1)\n",
    "\n",
    "convergence_1000_vert_wet_region_day1 = numpy.nanmean(convergence_1000_vert_tm_day1[:,wet_latlon_subset_midpoints], axis=1)\n",
    "convergence_1000_vert_dry_region_day1 = numpy.nanmean(convergence_1000_vert_tm_day1[:,dry_latlon_subset_midpoints], axis=1)\n",
    "\n"
   ]
  },
  {
   "cell_type": "code",
   "execution_count": 73,
   "metadata": {
    "ExecuteTime": {
     "end_time": "2018-06-17T04:10:33.223947Z",
     "start_time": "2018-06-17T04:10:33.100871Z"
    }
   },
   "outputs": [],
   "source": [
    "convergence_400_horiz_wet_region = numpy.nanmean(convergence_400_horiz_tm[:,wet_latlon_subset_midpoints], axis=1)\n",
    "convergence_400_horiz_dry_region = numpy.nanmean(convergence_400_horiz_tm[:,dry_latlon_subset_midpoints], axis=1)\n",
    "\n",
    "convergence_1000_horiz_wet_region = numpy.nanmean(convergence_1000_horiz_tm[:,wet_latlon_subset_midpoints], axis=1)\n",
    "convergence_1000_horiz_dry_region = numpy.nanmean(convergence_1000_horiz_tm[:,dry_latlon_subset_midpoints], axis=1)\n",
    "\n",
    "convergence_400_horiz_wet_region_day1 = numpy.nanmean(convergence_400_horiz_tm_day1[:,wet_latlon_subset_midpoints], axis=1)\n",
    "convergence_400_horiz_dry_region_day1 = numpy.nanmean(convergence_400_horiz_tm_day1[:,dry_latlon_subset_midpoints], axis=1)\n",
    "\n",
    "convergence_1000_horiz_wet_region_day1 = numpy.nanmean(convergence_1000_horiz_tm_day1[:,wet_latlon_subset_midpoints], axis=1)\n",
    "convergence_1000_horiz_dry_region_day1 = numpy.nanmean(convergence_1000_horiz_tm_day1[:,dry_latlon_subset_midpoints], axis=1)\n",
    "\n"
   ]
  },
  {
   "cell_type": "code",
   "execution_count": 74,
   "metadata": {
    "ExecuteTime": {
     "end_time": "2018-06-17T04:14:27.682975Z",
     "start_time": "2018-06-17T04:14:27.559326Z"
    }
   },
   "outputs": [],
   "source": [
    "advection_400_vert_wet_region = numpy.nanmean(advection_400_vert_tm[:,wet_latlon_subset_midpoints], axis=1)\n",
    "advection_400_vert_dry_region = numpy.nanmean(advection_400_vert_tm[:,dry_latlon_subset_midpoints], axis=1)\n",
    "\n",
    "advection_1000_vert_wet_region = numpy.nanmean(advection_1000_vert_tm[:,wet_latlon_subset_midpoints], axis=1)\n",
    "advection_1000_vert_dry_region = numpy.nanmean(advection_1000_vert_tm[:,dry_latlon_subset_midpoints], axis=1)\n",
    "\n",
    "advection_400_vert_wet_region_day1 = numpy.nanmean(advection_400_vert_tm_day1[:,wet_latlon_subset_midpoints], axis=1)\n",
    "advection_400_vert_dry_region_day1 = numpy.nanmean(advection_400_vert_tm_day1[:,dry_latlon_subset_midpoints], axis=1)\n",
    "\n",
    "advection_1000_vert_wet_region_day1 = numpy.nanmean(advection_1000_vert_tm_day1[:,wet_latlon_subset_midpoints], axis=1)\n",
    "advection_1000_vert_dry_region_day1 = numpy.nanmean(advection_1000_vert_tm_day1[:,dry_latlon_subset_midpoints], axis=1)"
   ]
  },
  {
   "cell_type": "code",
   "execution_count": 75,
   "metadata": {
    "ExecuteTime": {
     "end_time": "2018-06-17T04:15:25.746223Z",
     "start_time": "2018-06-17T04:15:25.619925Z"
    }
   },
   "outputs": [],
   "source": [
    "advection_400_horiz_wet_region = numpy.nanmean(advection_400_horiz_tm[:,wet_latlon_subset_midpoints], axis=1)\n",
    "advection_400_horiz_dry_region = numpy.nanmean(advection_400_horiz_tm[:,dry_latlon_subset_midpoints], axis=1)\n",
    "\n",
    "advection_1000_horiz_wet_region = numpy.nanmean(advection_1000_horiz_tm[:,wet_latlon_subset_midpoints], axis=1)\n",
    "advection_1000_horiz_dry_region = numpy.nanmean(advection_1000_horiz_tm[:,dry_latlon_subset_midpoints], axis=1)\n",
    "\n",
    "advection_400_horiz_wet_region_day1 = numpy.nanmean(advection_400_horiz_tm_day1[:,wet_latlon_subset_midpoints], axis=1)\n",
    "advection_400_horiz_dry_region_day1 = numpy.nanmean(advection_400_horiz_tm_day1[:,dry_latlon_subset_midpoints], axis=1)\n",
    "\n",
    "advection_1000_horiz_wet_region_day1 = numpy.nanmean(advection_1000_horiz_tm_day1[:,wet_latlon_subset_midpoints], axis=1)\n",
    "advection_1000_horiz_dry_region_day1 = numpy.nanmean(advection_1000_horiz_tm_day1[:,dry_latlon_subset_midpoints], axis=1)"
   ]
  },
  {
   "cell_type": "markdown",
   "metadata": {},
   "source": [
    "# plot vertical changes using ptot change"
   ]
  },
  {
   "cell_type": "code",
   "execution_count": 76,
   "metadata": {
    "ExecuteTime": {
     "end_time": "2018-06-17T04:16:26.626889Z",
     "start_time": "2018-06-17T04:16:25.858431Z"
    }
   },
   "outputs": [],
   "source": [
    "ptot_400_dry_region_midpoints = numpy.nanmean(ptot_400_midpoints[:,:,dry_latlon_subset_midpoints], axis=(0,2))\n",
    "ptot_400_wet_region_midpoints = numpy.nanmean(ptot_400_midpoints[:,:,wet_latlon_subset_midpoints], axis=(0,2))"
   ]
  },
  {
   "cell_type": "code",
   "execution_count": 77,
   "metadata": {
    "ExecuteTime": {
     "end_time": "2018-06-17T04:17:26.241002Z",
     "start_time": "2018-06-17T04:17:25.410812Z"
    }
   },
   "outputs": [],
   "source": [
    "ptot_400_dry_region = numpy.nanmean(ptot_400[:,:,dry_latlon_subset], axis=(0,2))\n",
    "ptot_400_wet_region = numpy.nanmean(ptot_400[:,:,wet_latlon_subset], axis=(0,2))"
   ]
  },
  {
   "cell_type": "code",
   "execution_count": 78,
   "metadata": {
    "ExecuteTime": {
     "end_time": "2018-06-17T04:18:26.081559Z",
     "start_time": "2018-06-17T04:18:26.040625Z"
    }
   },
   "outputs": [],
   "source": [
    "diff_wet_region_dmsedt = dmsedt_1000_wet_region-dmsedt_400_wet_region\n",
    "diff_dry_region_dmsedt = dmsedt_1000_dry_region-dmsedt_400_dry_region\n",
    "\n",
    "diff_wet_region_dmsedt_day1 = dmsedt_1000_wet_region_day1-dmsedt_400_wet_region_day1\n",
    "diff_dry_region_dmsedt_day1 = dmsedt_1000_dry_region_day1-dmsedt_400_dry_region_day1"
   ]
  },
  {
   "cell_type": "code",
   "execution_count": 79,
   "metadata": {
    "ExecuteTime": {
     "end_time": "2018-06-17T04:19:24.645553Z",
     "start_time": "2018-06-17T04:19:24.602709Z"
    }
   },
   "outputs": [],
   "source": [
    "diff_wet_region_conv = convergence_1000_wet_region-convergence_400_wet_region\n",
    "diff_dry_region_conv = convergence_1000_dry_region-convergence_400_dry_region\n",
    "\n",
    "diff_wet_region_conv_day1 = convergence_1000_wet_region_day1-convergence_400_wet_region_day1\n",
    "diff_dry_region_conv_day1 = convergence_1000_dry_region_day1-convergence_400_dry_region_day1"
   ]
  },
  {
   "cell_type": "code",
   "execution_count": 80,
   "metadata": {
    "ExecuteTime": {
     "end_time": "2018-06-17T04:20:25.276515Z",
     "start_time": "2018-06-17T04:20:25.235799Z"
    }
   },
   "outputs": [],
   "source": [
    "diff_wet_region_adv = advection_1000_wet_region-advection_400_wet_region\n",
    "diff_dry_region_adv = advection_1000_dry_region-advection_400_dry_region\n",
    "\n",
    "diff_wet_region_adv_day1 = advection_1000_wet_region_day1-advection_400_wet_region_day1\n",
    "diff_dry_region_adv_day1 = advection_1000_dry_region_day1-advection_400_dry_region_day1"
   ]
  },
  {
   "cell_type": "code",
   "execution_count": 81,
   "metadata": {
    "ExecuteTime": {
     "end_time": "2018-06-17T04:21:24.324864Z",
     "start_time": "2018-06-17T04:21:24.284012Z"
    }
   },
   "outputs": [],
   "source": [
    "wa_diff_wet_region = wa_1000_wet-wa_400_wet\n",
    "wa_diff_dry_region = wa_1000_dry-wa_400_dry\n",
    "\n",
    "wa_diff_wet_region_day1 = wa_1000_wet_day1-wa_400_wet_day1\n",
    "wa_diff_dry_region_day1 = wa_1000_dry_day1-wa_400_dry_day1"
   ]
  },
  {
   "cell_type": "markdown",
   "metadata": {},
   "source": [
    "same but for vert and horiz split up"
   ]
  },
  {
   "cell_type": "code",
   "execution_count": 82,
   "metadata": {
    "ExecuteTime": {
     "end_time": "2018-06-17T04:22:24.893651Z",
     "start_time": "2018-06-17T04:22:24.821451Z"
    }
   },
   "outputs": [],
   "source": [
    "diff_wet_region_vert_conv = convergence_1000_vert_wet_region-convergence_400_vert_wet_region\n",
    "diff_dry_region_vert_conv = convergence_1000_vert_dry_region-convergence_400_vert_dry_region\n",
    "\n",
    "diff_wet_region_vert_conv_day1 = convergence_1000_vert_wet_region_day1-convergence_400_vert_wet_region_day1\n",
    "diff_dry_region_vert_conv_day1 = convergence_1000_vert_dry_region_day1-convergence_400_vert_dry_region_day1\n",
    "\n",
    "diff_wet_region_vert_adv = advection_1000_vert_wet_region-advection_400_vert_wet_region\n",
    "diff_dry_region_vert_adv = advection_1000_vert_dry_region-advection_400_vert_dry_region\n",
    "\n",
    "diff_wet_region_vert_adv_day1 = advection_1000_vert_wet_region_day1-advection_400_vert_wet_region_day1\n",
    "diff_dry_region_vert_adv_day1 = advection_1000_vert_dry_region_day1-advection_400_vert_dry_region_day1"
   ]
  },
  {
   "cell_type": "code",
   "execution_count": 83,
   "metadata": {
    "ExecuteTime": {
     "end_time": "2018-06-17T04:23:24.398189Z",
     "start_time": "2018-06-17T04:23:24.338300Z"
    }
   },
   "outputs": [],
   "source": [
    "diff_wet_region_horiz_conv = convergence_1000_horiz_wet_region-convergence_400_horiz_wet_region\n",
    "diff_dry_region_horiz_conv = convergence_1000_horiz_dry_region-convergence_400_horiz_dry_region\n",
    "\n",
    "diff_wet_region_horiz_conv_day1 = convergence_1000_horiz_wet_region_day1-convergence_400_horiz_wet_region_day1\n",
    "diff_dry_region_horiz_conv_day1 = convergence_1000_horiz_dry_region_day1-convergence_400_horiz_dry_region_day1\n",
    "\n",
    "diff_wet_region_horiz_adv = advection_1000_horiz_wet_region-advection_400_horiz_wet_region\n",
    "diff_dry_region_horiz_adv = advection_1000_horiz_dry_region-advection_400_horiz_dry_region\n",
    "\n",
    "diff_wet_region_horiz_adv_day1 = advection_1000_horiz_wet_region_day1-advection_400_horiz_wet_region_day1\n",
    "diff_dry_region_horiz_adv_day1 = advection_1000_horiz_dry_region_day1-advection_400_horiz_dry_region_day1"
   ]
  },
  {
   "cell_type": "markdown",
   "metadata": {},
   "source": [
    "# dmsedt time series"
   ]
  },
  {
   "cell_type": "code",
   "execution_count": 95,
   "metadata": {
    "ExecuteTime": {
     "end_time": "2018-06-19T22:02:50.947617Z",
     "start_time": "2018-06-19T22:02:50.780354Z"
    }
   },
   "outputs": [],
   "source": [
    "ptot_400_dry_latlon = ptot_400_midpoints[:,:,dry_latlon_subset_midpoints]\n",
    "\n",
    "dmsedt_400_dry_latlon = dmsedt_400[:,:,dry_latlon_subset_midpoints]\n",
    "dmsedt_1000_dry_latlon = dmsedt_1000[:,:,dry_latlon_subset_midpoints]\n",
    "dmsedt_diff_dry_latlon = dmsedt_1000_dry_latlon-dmsedt_400_dry_latlon\n",
    "\n",
    "dmsedt_400_dry_latlon_areamean = numpy.nanmean(dmsedt_400_dry_latlon, axis=2)\n",
    "dmsedt_diff_dry_latlon_areamean = numpy.nanmean(dmsedt_diff_dry_latlon, axis=2)\n",
    "ptot_400_dry_latlon_areamean = numpy.nanmean(ptot_400_dry_latlon, axis=2)"
   ]
  },
  {
   "cell_type": "code",
   "execution_count": 186,
   "metadata": {
    "ExecuteTime": {
     "end_time": "2018-06-26T00:28:20.136590Z",
     "start_time": "2018-06-26T00:28:18.930926Z"
    }
   },
   "outputs": [],
   "source": [
    "convergence_400_dry_latlon = convergence_400[:,:,dry_latlon_subset_midpoints]\n",
    "convergence_1000_dry_latlon = convergence_1000[:,:,dry_latlon_subset_midpoints]\n",
    "\n",
    "advection_400_dry_latlon = advection_400[:,:,dry_latlon_subset_midpoints]\n",
    "advection_1000_dry_latlon = advection_1000[:,:,dry_latlon_subset_midpoints]\n",
    "\n",
    "advection_diff_dry_latlon = advection_1000_dry_latlon-advection_400_dry_latlon\n",
    "convergence_diff_dry_latlon = convergence_1000_dry_latlon-convergence_400_dry_latlon\n",
    "\n",
    "advection_400_dry_latlon_areamean = numpy.nanmean(advection_400_dry_latlon, axis=2)\n",
    "convergence_400_dry_latlon_areamean = numpy.nanmean(convergence_400_dry_latlon, axis=2)\n",
    "advection_diff_dry_latlon_areamean = numpy.nanmean(advection_diff_dry_latlon, axis=2)\n",
    "convergence_diff_dry_latlon_areamean = numpy.nanmean(convergence_diff_dry_latlon, axis=2)"
   ]
  },
  {
   "cell_type": "code",
   "execution_count": 108,
   "metadata": {
    "ExecuteTime": {
     "end_time": "2018-06-19T22:35:33.471860Z",
     "start_time": "2018-06-19T22:35:33.432388Z"
    }
   },
   "outputs": [],
   "source": [
    "xx_dmsedt, pp_dmsedt = numpy.meshgrid(numpy.arange(241), ptot_400_dry_latlon_areamean[0,:])"
   ]
  },
  {
   "cell_type": "code",
   "execution_count": 129,
   "metadata": {
    "ExecuteTime": {
     "end_time": "2018-06-20T16:56:21.019765Z",
     "start_time": "2018-06-20T16:56:19.460712Z"
    }
   },
   "outputs": [
    {
     "data": {
      "text/plain": [
       "<matplotlib.colorbar.Colorbar at 0x2aae29839080>"
      ]
     },
     "execution_count": 129,
     "metadata": {},
     "output_type": "execute_result"
    },
    {
     "data": {
      "image/png": "[encoded data removed]",
      "text/plain": [
       "<Figure size 468x144 with 2 Axes>"
      ]
     },
     "metadata": {},
     "output_type": "display_data"
    }
   ],
   "source": [
    "fontsize = 12\n",
    "\n",
    "fig = mp.figure(figsize=(6.5,2))\n",
    "\n",
    "ax = fig.add_subplot(111)\n",
    "ax.tick_params(labelsize=fontsize)\n",
    "contour_plot = ax.pcolormesh(xx_dmsedt, ptot_400_dry_latlon_areamean.T/100., \\\n",
    "                             dmsedt_diff_dry_latlon_areamean.T, \\\n",
    "                             cmap=cmocean.cm.balance_r, vmin=-.05, vmax=.05)\n",
    "\n",
    "ax.set_ylim(1000,300)\n",
    "#ax.set_xlim(0,240)\n",
    "ax.set_xlim(0,84)\n",
    "\n",
    "ax.set_xlabel('hour', fontsize=fontsize)\n",
    "ax.set_ylabel('hPa', fontsize=fontsize)\n",
    "\n",
    "fig.colorbar(contour_plot)"
   ]
  },
  {
   "cell_type": "code",
   "execution_count": 130,
   "metadata": {
    "ExecuteTime": {
     "end_time": "2018-06-20T16:58:24.768605Z",
     "start_time": "2018-06-20T16:58:23.229485Z"
    }
   },
   "outputs": [
    {
     "data": {
      "text/plain": [
       "<matplotlib.colorbar.Colorbar at 0x2aae299f6a58>"
      ]
     },
     "execution_count": 130,
     "metadata": {},
     "output_type": "execute_result"
    },
    {
     "data": {
      "image/png": "[encoded data removed]",
      "text/plain": [
       "<Figure size 468x144 with 2 Axes>"
      ]
     },
     "metadata": {},
     "output_type": "display_data"
    }
   ],
   "source": [
    "fontsize = 12\n",
    "\n",
    "fig = mp.figure(figsize=(6.5,2))\n",
    "\n",
    "ax = fig.add_subplot(111)\n",
    "ax.tick_params(labelsize=fontsize)\n",
    "contour_plot = ax.pcolormesh(xx_dmsedt, ptot_400_dry_latlon_areamean.T/100., \\\n",
    "                             dmsedt_400_dry_latlon_areamean.T, \\\n",
    "                             cmap=cmocean.cm.balance_r, vmin=-.25, vmax=.25)\n",
    "\n",
    "contour_line = ax.contour(xx_dmsedt, ptot_400_dry_latlon_areamean.T/100., \\\n",
    "                          dmsedt_400_dry_latlon_areamean.T, \\\n",
    "                          levels=[0], linewidths=[1], colors='0.1')\n",
    "ax.set_ylim(1000,300)\n",
    "ax.set_xlim(0,84)\n",
    "\n",
    "ax.set_xlabel('hour', fontsize=fontsize)\n",
    "ax.set_ylabel('hPa', fontsize=fontsize)\n",
    "\n",
    "fig.colorbar(contour_plot)\n",
    "\n"
   ]
  },
  {
   "cell_type": "code",
   "execution_count": 177,
   "metadata": {
    "ExecuteTime": {
     "end_time": "2018-06-25T23:44:38.269502Z",
     "start_time": "2018-06-25T23:44:17.837898Z"
    }
   },
   "outputs": [
    {
     "data": {
      "image/png": "[encoded data removed]",
      "text/plain": [
       "<Figure size 306x432 with 6 Axes>"
      ]
     },
     "metadata": {},
     "output_type": "display_data"
    }
   ],
   "source": [
    "fontsize = 12\n",
    "\n",
    "fig = mp.figure(figsize=(4.25,6))\n",
    "\n",
    "\n",
    "ax1 = fig.add_subplot(311)\n",
    "ax1.tick_params(labelsize=fontsize)\n",
    "# contour_plot1 = ax1.pcolormesh(xx_dmsedt-4, ptot_400_dry_latlon_areamean.T/100., \\\n",
    "#                              dmsedt_400_dry_latlon_areamean.T, \\\n",
    "#                              cmap=cmocean.cm.balance_r, vmin=-.2, vmax=.2)\n",
    "\n",
    "levels = numpy.arange(-.15,.151,0.0125)\n",
    "contour_plot1 = ax1.contourf(xx_dmsedt-4, ptot_400_dry_latlon_areamean.T/100., \\\n",
    "                             dmsedt_400_dry_latlon_areamean.T, \\\n",
    "                             cmap=cmocean.cm.balance_r, extend='both', levels=levels)\n",
    "\n",
    "contour_line1 = ax1.contour(xx_dmsedt-4, ptot_400_dry_latlon_areamean.T/100., \\\n",
    "                          dmsedt_400_dry_latlon_areamean.T, \\\n",
    "                          levels=[0], linewidths=[1], colors='0.1')\n",
    "ax1.set_ylim(1000,300)\n",
    "ax1.set_xlim(0,24)\n",
    "ax1.set_xticks([i for i in range(0,25,6)])\n",
    "ax1.set_yticks([400,600,800,1000])\n",
    "#ax1.set_xlabel('hour', fontsize=fontsize)\n",
    "ax1.set_ylabel('hPa', fontsize=fontsize)\n",
    "\n",
    "\n",
    "\n",
    "ax2 = fig.add_subplot(312)\n",
    "ax2.tick_params(labelsize=fontsize)\n",
    "# contour_plot2 = ax2.pcolormesh(xx_dmsedt-4, ptot_400_dry_latlon_areamean.T/100., \\\n",
    "#                              dmsedt_diff_dry_latlon_areamean.T, \\\n",
    "#                              cmap=cmocean.cm.balance_r, vmin=-.05, vmax=.05)\n",
    "\n",
    "levels = numpy.arange(-0.05,0.051,0.01)\n",
    "\n",
    "contour_plot2 = ax2.contourf(xx_dmsedt-4, ptot_400_dry_latlon_areamean.T/100., \\\n",
    "                             dmsedt_diff_dry_latlon_areamean.T, \\\n",
    "                             cmap=cmocean.cm.balance_r, extend='both', levels=levels)\n",
    "\n",
    "contour_line2 = ax2.contour(xx_dmsedt-4, ptot_400_dry_latlon_areamean.T/100., \\\n",
    "                          dmsedt_400_dry_latlon_areamean.T, \\\n",
    "                          levels=[0], linewidths=[1], colors='0.1')\n",
    "ax2.set_ylim(1000,300)\n",
    "#ax.set_xlim(0,240)\n",
    "ax2.set_xlim(0,24)\n",
    "#ax2.set_xlabel('hour', fontsize=fontsize)\n",
    "ax2.set_ylabel('hPa', fontsize=fontsize)\n",
    "ax2.set_xticks([i for i in range(0,25,6)])\n",
    "ax2.set_yticks([400,600,800,1000])\n",
    "\n",
    "ax2.add_patch(matplotlib.patches.Rectangle((12,700),8,-400, \\\n",
    "                                           fill=False, \\\n",
    "                                           edgecolor='0.1', lw=2, clip_on=False))\n",
    "\n",
    "\n",
    "\n",
    "ax3 = fig.add_subplot(313)\n",
    "ax3.tick_params(labelsize=fontsize)\n",
    "\n",
    "levels = numpy.arange(-0.015,0.0151,0.0025)\n",
    "contour_plot3 = ax3.contourf(xx_dmsedt-4, ptot_400_dry_latlon_areamean.T/100., \\\n",
    "                             dmsedt_diff_dry_latlon_areamean.T, \\\n",
    "                             cmap=cmocean.cm.balance_r, levels=levels, extend='both')\n",
    "contour_line3 = ax3.contour(xx_dmsedt-4, ptot_400_dry_latlon_areamean.T/100., \\\n",
    "                          dmsedt_400_dry_latlon_areamean.T, \\\n",
    "                          levels=[0], linewidths=[1], colors='0.1')\n",
    "ax3.set_ylim(700,300)\n",
    "#ax.set_xlim(0,240)\n",
    "ax3.set_xlim(12,20)\n",
    "ax3.set_xlabel('hour', fontsize=fontsize)\n",
    "ax3.set_ylabel('hPa', fontsize=fontsize)\n",
    "ax3.set_xticks([i for i in range(12,21,2)])\n",
    "ax3.set_yticks([300,400,500,600,700])\n",
    "\n",
    "ax1.text(s='(a) control dMSE/dt', x=0, y=1.02, ha='left', va='bottom', fontsize=fontsize, transform=ax1.transAxes)\n",
    "ax2.text(s='(b) $\\Delta$ dMSE/dt', x=0, y=1.02, ha='left', va='bottom', fontsize=fontsize, transform=ax2.transAxes)\n",
    "ax3.text(s='(c) $\\Delta$ dMSE/dt zoom', x=0, y=1.02, ha='left', va='bottom', fontsize=fontsize, transform=ax3.transAxes)\n",
    "\n",
    "fig.tight_layout(h_pad=2)\n",
    "\n",
    "ax1pos = ax1.get_position()\n",
    "cbar_ax1 = fig.add_axes([ax1pos.x1+0.05, ax1pos.y0, 0.03, ax1pos.height])\n",
    "cbar1 = fig.colorbar(contour_plot1, cax=cbar_ax1)\n",
    "cbar_ax1.tick_params(labelsize=fontsize)\n",
    "cbar1.add_lines(contour_line1)\n",
    "cbar1.set_label('J kg$^{\\,-1}$s$^{\\,-1}$', fontsize=fontsize)\n",
    "cbar1.set_ticks([-.1,0,.1])\n",
    "\n",
    "ax2pos = ax2.get_position()\n",
    "cbar_ax2 = fig.add_axes([ax2pos.x1+0.05, ax2pos.y0, 0.03, ax2pos.height])\n",
    "cbar2 = fig.colorbar(contour_plot2, cax=cbar_ax2)\n",
    "cbar_ax2.tick_params(labelsize=fontsize)\n",
    "cbar2.set_label('J kg$^{\\,-1}$s$^{\\,-1}$', fontsize=fontsize)\n",
    "cbar2.add_lines(contour_line2)\n",
    "\n",
    "ax3pos = ax3.get_position()\n",
    "cbar_ax3 = fig.add_axes([ax3pos.x1+0.05, ax3pos.y0, 0.03, ax3pos.height])\n",
    "cbar3 = fig.colorbar(contour_plot3, cax=cbar_ax3)\n",
    "cbar_ax3.tick_params(labelsize=fontsize)\n",
    "cbar3.add_lines(contour_line3)\n",
    "cbar3.set_label('J kg$^{\\,-1}$s$^{\\,-1}$', fontsize=fontsize)\n",
    "cbar3.set_ticks([-.01,0,.01])\n",
    "\n",
    "conpatch = matplotlib.patches.ConnectionPatch(xyA=(12,300), \\\n",
    "                                              xyB=(12,700), \\\n",
    "                                              coordsA='data', \\\n",
    "                                              coordsB='data', \\\n",
    "                                              axesA=ax3, \\\n",
    "                                              axesB=ax2, \\\n",
    "                                              color='0.1')\n",
    "ax3.add_artist(conpatch)\n",
    "\n",
    "conpatch = matplotlib.patches.ConnectionPatch(xyA=(20,300), \\\n",
    "                                              xyB=(20,700), \\\n",
    "                                              coordsA='data', \\\n",
    "                                              coordsB='data', \\\n",
    "                                              axesA=ax3, \\\n",
    "                                              axesB=ax2, \\\n",
    "                                              color='0.1')\n",
    "\n",
    "ax3.add_artist(conpatch)\n",
    "\n",
    "fig.savefig('manuscript_fig9_dmsedt_profile_first_1days.png', dpi=600, bbox_inches='tight', transparent=True)"
   ]
  },
  {
   "cell_type": "code",
   "execution_count": null,
   "metadata": {},
   "outputs": [],
   "source": [
    "#mean_dmsedt_24h = \n",
    "\n",
    "ptot_400_dry_latlon_areamean.shape"
   ]
  },
  {
   "cell_type": "code",
   "execution_count": null,
   "metadata": {
    "ExecuteTime": {
     "start_time": "2018-06-29T18:13:05.927Z"
    }
   },
   "outputs": [],
   "source": [
    "fontsize = 12\n",
    "\n",
    "fig = mp.figure(figsize=(8.5,6))\n",
    "\n",
    "\n",
    "ax1 = fig.add_subplot(311)\n",
    "ax1.tick_params(labelsize=fontsize)\n",
    "# contour_plot1 = ax1.pcolormesh(xx_dmsedt-4, ptot_400_dry_latlon_areamean.T/100., \\\n",
    "#                              dmsedt_400_dry_latlon_areamean.T, \\\n",
    "#                              cmap=cmocean.cm.balance_r, vmin=-.2, vmax=.2)\n",
    "\n",
    "levels = numpy.arange(-.15,.151,0.0125)\n",
    "contour_plot1 = ax1.contourf(xx_dmsedt-4, ptot_400_dry_latlon_areamean.T/100., \\\n",
    "                             dmsedt_400_dry_latlon_areamean.T, \\\n",
    "                             cmap=cmocean.cm.balance_r, extend='both', levels=levels)\n",
    "\n",
    "contour_line1 = ax1.contour(xx_dmsedt-4, ptot_400_dry_latlon_areamean.T/100., \\\n",
    "                          dmsedt_400_dry_latlon_areamean.T, \\\n",
    "                          levels=[0], linewidths=[1], colors='0.1')\n",
    "ax1.set_ylim(1000,300)\n",
    "ax1.set_xlim(0,240)\n",
    "ax1.set_xticks([i for i in range(0,241,24)])\n",
    "ax1.set_yticks([400,600,800,1000])\n",
    "#ax1.set_xlabel('hour', fontsize=fontsize)\n",
    "ax1.set_ylabel('hPa', fontsize=fontsize)\n",
    "\n",
    "\n",
    "\n",
    "ax2 = fig.add_subplot(312)\n",
    "ax2.tick_params(labelsize=fontsize)\n",
    "# contour_plot2 = ax2.pcolormesh(xx_dmsedt-4, ptot_400_dry_latlon_areamean.T/100., \\\n",
    "#                              dmsedt_diff_dry_latlon_areamean.T, \\\n",
    "#                              cmap=cmocean.cm.balance_r, vmin=-.05, vmax=.05)\n",
    "\n",
    "levels = numpy.arange(-0.05,0.051,0.01)\n",
    "\n",
    "contour_plot2 = ax2.contourf(xx_dmsedt-4, ptot_400_dry_latlon_areamean.T/100., \\\n",
    "                             dmsedt_diff_dry_latlon_areamean.T, \\\n",
    "                             cmap=cmocean.cm.balance_r, extend='both', levels=levels)\n",
    "\n",
    "contour_line2 = ax2.contour(xx_dmsedt-4, ptot_400_dry_latlon_areamean.T/100., \\\n",
    "                          dmsedt_400_dry_latlon_areamean.T, \\\n",
    "                          levels=[0], linewidths=[1], colors='0.1')\n",
    "ax2.set_ylim(1000,300)\n",
    "#ax.set_xlim(0,240)\n",
    "ax2.set_xlim(0,240)\n",
    "#ax2.set_xlabel('hour', fontsize=fontsize)\n",
    "ax2.set_ylabel('hPa', fontsize=fontsize)\n",
    "ax2.set_xticks([i for i in range(0,241,24)])\n",
    "ax2.set_yticks([400,600,800,1000])\n",
    "\n",
    "# ax2.add_patch(matplotlib.patches.Rectangle((12,600),8,-300, \\\n",
    "#                                            fill=False, \\\n",
    "#                                            edgecolor='0.1', lw=2, clip_on=False))\n",
    "\n",
    "\n",
    "\n",
    "ax3 = fig.add_subplot(313)\n",
    "ax3.tick_params(labelsize=fontsize)\n",
    "# contour_plot3 = ax3.pcolormesh(xx_dmsedt-4, ptot_400_dry_latlon_areamean.T/100., \\\n",
    "#                              dmsedt_diff_dry_latlon_areamean.T, \\\n",
    "#                              cmap=cmocean.cm.balance_r, vmin=-.05, vmax=.05)\n",
    "\n",
    "levels = numpy.arange(-0.015,0.0151,0.0025)\n",
    "\n",
    "contour_plot3 = ax3.contourf(xx_dmsedt-4, ptot_400_dry_latlon_areamean.T/100., \\\n",
    "                             dmsedt_diff_dry_latlon_areamean.T, \\\n",
    "                             cmap=cmocean.cm.balance_r, levels=levels, extend='both')\n",
    "\n",
    "contour_line3 = ax3.contour(xx_dmsedt-4, ptot_400_dry_latlon_areamean.T/100., \\\n",
    "                          dmsedt_400_dry_latlon_areamean.T, \\\n",
    "                          levels=[0], linewidths=[1], colors='0.1')\n",
    "ax3.set_ylim(700,300)\n",
    "#ax.set_xlim(0,240)\n",
    "ax3.set_xlim(0,240)\n",
    "ax3.set_xlabel('hour', fontsize=fontsize)\n",
    "ax3.set_ylabel('hPa', fontsize=fontsize)\n",
    "ax3.set_xticks([i for i in range(0,241,24)])\n",
    "ax3.set_yticks([300,400,500,600,700])\n",
    "\n",
    "\n",
    "ax1.text(s='(a) control dMSE/dt', x=0, y=1.02, ha='left', va='bottom', fontsize=fontsize, transform=ax1.transAxes)\n",
    "ax2.text(s='(b) $\\Delta$ dMSE/dt', x=0, y=1.02, ha='left', va='bottom', fontsize=fontsize, transform=ax2.transAxes)\n",
    "ax3.text(s='(c) $\\Delta$ dMSE/dt zoom', x=0, y=1.02, ha='left', va='bottom', fontsize=fontsize, transform=ax3.transAxes)\n",
    "\n",
    "fig.tight_layout(h_pad=2)\n",
    "\n",
    "ax1pos = ax1.get_position()\n",
    "cbar_ax1 = fig.add_axes([ax1pos.x1+0.02, ax1pos.y0, 0.02, ax1pos.height])\n",
    "cbar1 = fig.colorbar(contour_plot1, cax=cbar_ax1)\n",
    "cbar_ax1.tick_params(labelsize=fontsize)\n",
    "cbar1.add_lines(contour_line1)\n",
    "cbar1.set_label('J kg$^{\\,-1}$s$^{\\,-1}$', fontsize=fontsize)\n",
    "cbar1.set_ticks([-.1,0,.1])\n",
    "\n",
    "ax2pos = ax2.get_position()\n",
    "cbar_ax2 = fig.add_axes([ax2pos.x1+0.02, ax2pos.y0, 0.02, ax2pos.height])\n",
    "cbar2 = fig.colorbar(contour_plot2, cax=cbar_ax2)\n",
    "cbar_ax2.tick_params(labelsize=fontsize)\n",
    "cbar2.set_label('J kg$^{\\,-1}$s$^{\\,-1}$', fontsize=fontsize)\n",
    "cbar2.add_lines(contour_line2)\n",
    "\n",
    "ax3pos = ax3.get_position()\n",
    "cbar_ax3 = fig.add_axes([ax3pos.x1+0.02, ax3pos.y0, 0.02, ax3pos.height])\n",
    "cbar3 = fig.colorbar(contour_plot3, cax=cbar_ax3)\n",
    "cbar_ax3.tick_params(labelsize=fontsize)\n",
    "cbar3.add_lines(contour_line3)\n",
    "cbar3.set_label('J kg$^{\\,-1}$s$^{\\,-1}$', fontsize=fontsize)\n",
    "cbar3.set_ticks([-.01,0,.01])\n",
    "\n",
    "# conpatch = matplotlib.patches.ConnectionPatch(xyA=(0,300), \\\n",
    "#                                               xyB=(0,600), \\\n",
    "#                                               coordsA='data', \\\n",
    "#                                               coordsB='data', \\\n",
    "#                                               axesA=ax3, \\\n",
    "#                                               axesB=ax2, \\\n",
    "#                                               color='0.1')\n",
    "# ax3.add_artist(conpatch)\n",
    "\n",
    "# conpatch = matplotlib.patches.ConnectionPatch(xyA=(120,300), \\\n",
    "#                                               xyB=(120,600), \\\n",
    "#                                               coordsA='data', \\\n",
    "#                                               coordsB='data', \\\n",
    "#                                               axesA=ax3, \\\n",
    "#                                               axesB=ax2, \\\n",
    "#                                               color='0.1')\n",
    "\n",
    "# ax3.add_artist(conpatch)\n",
    "\n",
    "fig.savefig('dmsedt_profile_first_10days.png', dpi=600, bbox_inches='tight', transparent=True)"
   ]
  },
  {
   "cell_type": "code",
   "execution_count": null,
   "metadata": {
    "ExecuteTime": {
     "start_time": "2018-06-29T18:12:55.296Z"
    }
   },
   "outputs": [],
   "source": [
    "fontsize = 12\n",
    "\n",
    "fig = mp.figure(figsize=(8.5,10))\n",
    "\n",
    "##################################################\n",
    "ax1 = fig.add_subplot(511)\n",
    "ax1.tick_params(labelsize=fontsize)\n",
    "levels = numpy.arange(-.15,.151,0.0125)\n",
    "contour_plot1 = ax1.contourf(xx_dmsedt-4, ptot_400_dry_latlon_areamean.T/100., \\\n",
    "                             dmsedt_400_dry_latlon_areamean.T, \\\n",
    "                             cmap=cmocean.cm.balance_r, extend='both', levels=levels)\n",
    "contour_line1 = ax1.contour(xx_dmsedt-4, ptot_400_dry_latlon_areamean.T/100., \\\n",
    "                            dmsedt_400_dry_latlon_areamean.T, \\\n",
    "                            levels=[0], linewidths=[1], colors='0.1')\n",
    "ax1.set_ylim(1000,300)\n",
    "ax1.set_xlim(0,240)\n",
    "ax1.set_xticks([i for i in range(0,241,24)])\n",
    "ax1.set_yticks([400,600,800,1000])\n",
    "ax1.set_ylabel('hPa', fontsize=fontsize)\n",
    "\n",
    "\n",
    "##################################################\n",
    "ax2 = fig.add_subplot(512)\n",
    "ax2.tick_params(labelsize=fontsize)\n",
    "levels = numpy.arange(-0.05,0.051,0.01)\n",
    "contour_plot2 = ax2.contourf(xx_dmsedt-4, ptot_400_dry_latlon_areamean.T/100., \\\n",
    "                             dmsedt_diff_dry_latlon_areamean.T, \\\n",
    "                             cmap=cmocean.cm.balance_r, extend='both', levels=levels)\n",
    "contour_line2 = ax2.contour(xx_dmsedt-4, ptot_400_dry_latlon_areamean.T/100., \\\n",
    "                          dmsedt_400_dry_latlon_areamean.T, \\\n",
    "                          levels=[0], linewidths=[1], colors='0.1')\n",
    "ax2.set_ylim(1000,300)\n",
    "ax2.set_xlim(0,240)\n",
    "ax2.set_ylabel('hPa', fontsize=fontsize)\n",
    "ax2.set_xticks([i for i in range(0,241,24)])\n",
    "ax2.set_yticks([400,600,800,1000])\n",
    "\n",
    "\n",
    "##################################################\n",
    "ax3 = fig.add_subplot(513)\n",
    "ax3.tick_params(labelsize=fontsize)\n",
    "levels = numpy.arange(-0.015,0.0151,0.0025)\n",
    "contour_plot3 = ax3.contourf(xx_dmsedt-4, ptot_400_dry_latlon_areamean.T/100., \\\n",
    "                             dmsedt_diff_dry_latlon_areamean.T, \\\n",
    "                             cmap=cmocean.cm.balance_r, levels=levels, extend='both')\n",
    "contour_line3 = ax3.contour(xx_dmsedt-4, ptot_400_dry_latlon_areamean.T/100., \\\n",
    "                          dmsedt_400_dry_latlon_areamean.T, \\\n",
    "                          levels=[0], linewidths=[1], colors='0.1')\n",
    "ax3.set_ylim(700,300)\n",
    "ax3.set_xlim(0,240)\n",
    "#ax3.set_xlabel('hour', fontsize=fontsize)\n",
    "ax3.set_ylabel('hPa', fontsize=fontsize)\n",
    "ax3.set_xticks([i for i in range(0,241,24)])\n",
    "ax3.set_yticks([300,400,500,600,700])\n",
    "\n",
    "\n",
    "##################################################\n",
    "ax4 = fig.add_subplot(514)\n",
    "ax4.tick_params(labelsize=fontsize)\n",
    "levels = numpy.arange(-.15,.151,0.0125)\n",
    "contour_plot4 = ax4.contourf(xx_dmsedt-4, ptot_400_dry_latlon_areamean.T/100., \\\n",
    "                             advection_400_dry_latlon_areamean.T, \\\n",
    "                             #levels=levels, \\\n",
    "                             cmap=cmocean.cm.balance_r, extend='both')\n",
    "contour_line4 = ax4.contour(xx_dmsedt-4, ptot_400_dry_latlon_areamean.T/100., \\\n",
    "                          dmsedt_400_dry_latlon_areamean.T, \\\n",
    "                          levels=[0], linewidths=[1], colors='0.1')\n",
    "ax4.set_ylim(1000,300)\n",
    "ax4.set_xlim(0,240)\n",
    "#ax4.set_xlabel('hour', fontsize=fontsize)\n",
    "ax4.set_ylabel('hPa', fontsize=fontsize)\n",
    "ax4.set_xticks([i for i in range(0,241,24)])\n",
    "ax4.set_yticks([400,600,800,1000])\n",
    "\n",
    "\n",
    "##################################################\n",
    "ax5 = fig.add_subplot(515)\n",
    "ax5.tick_params(labelsize=fontsize)\n",
    "levels = numpy.arange(-.15,.151,0.0125)\n",
    "contour_plot5 = ax5.contourf(xx_dmsedt-4, ptot_400_dry_latlon_areamean.T/100., \\\n",
    "                             convergence_400_dry_latlon_areamean.T, \\\n",
    "                             #levels=levels, \\\n",
    "                             cmap=cmocean.cm.balance_r, extend='both')\n",
    "contour_line5 = ax5.contour(xx_dmsedt-4, ptot_400_dry_latlon_areamean.T/100., \\\n",
    "                          dmsedt_400_dry_latlon_areamean.T, \\\n",
    "                          levels=[0], linewidths=[1], colors='0.1')\n",
    "ax5.set_ylim(1000,300)\n",
    "ax5.set_xlim(0,240)\n",
    "ax5.set_xlabel('hour', fontsize=fontsize)\n",
    "ax5.set_ylabel('hPa', fontsize=fontsize)\n",
    "ax5.set_xticks([i for i in range(0,241,24)])\n",
    "ax5.set_yticks([400,600,800,1000])\n",
    "\n",
    "\n",
    "\n",
    "\n",
    "\n",
    "\n",
    "\n",
    "ax1.text(s='(a) control dMSE/dt', x=0, y=1.02, ha='left', va='bottom', fontsize=fontsize, transform=ax1.transAxes)\n",
    "ax2.text(s='(b) $\\Delta$ dMSE/dt', x=0, y=1.02, ha='left', va='bottom', fontsize=fontsize, transform=ax2.transAxes)\n",
    "ax3.text(s='(c) $\\Delta$ dMSE/dt zoom', x=0, y=1.02, ha='left', va='bottom', fontsize=fontsize, transform=ax3.transAxes)\n",
    "\n",
    "fig.tight_layout(h_pad=2)\n",
    "\n",
    "ax1pos = ax1.get_position()\n",
    "cbar_ax1 = fig.add_axes([ax1pos.x1+0.02, ax1pos.y0, 0.02, ax1pos.height])\n",
    "cbar1 = fig.colorbar(contour_plot1, cax=cbar_ax1)\n",
    "cbar_ax1.tick_params(labelsize=fontsize)\n",
    "cbar1.add_lines(contour_line1)\n",
    "cbar1.set_label('J kg$^{\\,-1}$s$^{\\,-1}$', fontsize=fontsize)\n",
    "cbar1.set_ticks([-.1,0,.1])\n",
    "\n",
    "ax2pos = ax2.get_position()\n",
    "cbar_ax2 = fig.add_axes([ax2pos.x1+0.02, ax2pos.y0, 0.02, ax2pos.height])\n",
    "cbar2 = fig.colorbar(contour_plot2, cax=cbar_ax2)\n",
    "cbar_ax2.tick_params(labelsize=fontsize)\n",
    "cbar2.set_label('J kg$^{\\,-1}$s$^{\\,-1}$', fontsize=fontsize)\n",
    "cbar2.add_lines(contour_line2)\n",
    "\n",
    "ax3pos = ax3.get_position()\n",
    "cbar_ax3 = fig.add_axes([ax3pos.x1+0.02, ax3pos.y0, 0.02, ax3pos.height])\n",
    "cbar3 = fig.colorbar(contour_plot3, cax=cbar_ax3)\n",
    "cbar_ax3.tick_params(labelsize=fontsize)\n",
    "cbar3.add_lines(contour_line3)\n",
    "cbar3.set_label('J kg$^{\\,-1}$s$^{\\,-1}$', fontsize=fontsize)\n",
    "cbar3.set_ticks([-.01,0,.01])\n",
    "\n",
    "ax4pos = ax4.get_position()\n",
    "cbar_ax4 = fig.add_axes([ax4pos.x1+0.02, ax4pos.y0, 0.02, ax4pos.height])\n",
    "cbar4 = fig.colorbar(contour_plot4, cax=cbar_ax4)\n",
    "cbar_ax4.tick_params(labelsize=fontsize)\n",
    "cbar4.add_lines(contour_line4)\n",
    "cbar4.set_label('J kg$^{\\,-1}$s$^{\\,-1}$', fontsize=fontsize)\n",
    "#cbar4.set_ticks([-.01,0,.01])\n",
    "\n",
    "ax5pos = ax5.get_position()\n",
    "cbar_ax5 = fig.add_axes([ax5pos.x1+0.02, ax5pos.y0, 0.02, ax5pos.height])\n",
    "cbar5 = fig.colorbar(contour_plot5, cax=cbar_ax5)\n",
    "cbar_ax5.tick_params(labelsize=fontsize)\n",
    "cbar5.add_lines(contour_line5)\n",
    "cbar5.set_label('J kg$^{\\,-1}$s$^{\\,-1}$', fontsize=fontsize)\n",
    "#cbar5.set_ticks([-.01,0,.01])\n",
    "\n",
    "fig.savefig('dmsedt_profile_first_10days.png', dpi=600, bbox_inches='tight', transparent=True)"
   ]
  },
  {
   "cell_type": "code",
   "execution_count": null,
   "metadata": {},
   "outputs": [],
   "source": []
  },
  {
   "cell_type": "code",
   "execution_count": null,
   "metadata": {},
   "outputs": [],
   "source": []
  },
  {
   "cell_type": "code",
   "execution_count": null,
   "metadata": {},
   "outputs": [],
   "source": []
  },
  {
   "cell_type": "code",
   "execution_count": null,
   "metadata": {},
   "outputs": [],
   "source": []
  },
  {
   "cell_type": "markdown",
   "metadata": {},
   "source": [
    "# plot climatological moisture advection/convergence"
   ]
  },
  {
   "cell_type": "code",
   "execution_count": 178,
   "metadata": {
    "ExecuteTime": {
     "end_time": "2018-06-25T23:46:06.245740Z",
     "start_time": "2018-06-25T23:45:49.151224Z"
    }
   },
   "outputs": [
    {
     "data": {
      "image/png": "[encoded data removed]",
      "text/plain": [
       "<Figure size 324x432 with 4 Axes>"
      ]
     },
     "metadata": {},
     "output_type": "display_data"
    }
   ],
   "source": [
    "fontsize=12\n",
    "\n",
    "fig = mp.figure(figsize=(4.5,6))\n",
    "\n",
    "ax_list = []\n",
    "\n",
    "#####\n",
    "ax = fig.add_subplot(221)\n",
    "\n",
    "ax.plot(advection_400_wet_region_day1*1000.*86400.,ptot_400_wet_region_midpoints/100., c='green', label='moist. adv.')\n",
    "ax.plot(convergence_400_wet_region_day1*1000.*86400.,ptot_400_wet_region_midpoints/100., c='dodgerblue', label='moist. conv.')\n",
    "ax.axvline(0, ls='--', c='0.1', zorder=1)\n",
    "ax.set_ylim(1000,200)\n",
    "#ax.set_xlim(-10,10)\n",
    "ax.tick_params(labelsize=fontsize)\n",
    "ax.set_xlabel('g kg$^{\\,-1}$ day$^{\\,-1}$', fontsize=fontsize)\n",
    "ax.set_ylabel('hPa', fontsize=fontsize)\n",
    "ax.text(s='Andes\\nday 1', x=0.05, y=0.95, ha='left', va='top', transform=ax.transAxes, fontsize=fontsize)\n",
    "ax.text(s='(a)', x=0, y=1.02, ha='left', va='bottom', transform=ax.transAxes, fontsize=fontsize)\n",
    "ax.yaxis.grid()\n",
    "ax_list.append(ax)\n",
    "\n",
    "#####\n",
    "ax = fig.add_subplot(222)\n",
    "\n",
    "ax.plot(advection_400_dry_region_day1*1000.*86400.,ptot_400_wet_region_midpoints/100., c='green', label='mse\\nadvection')\n",
    "ax.plot(convergence_400_dry_region_day1*1000.*86400.,ptot_400_wet_region_midpoints/100., c='dodgerblue', label='mse\\nconvergence')\n",
    "ax.axvline(0, ls='--', c='0.1', zorder=1)\n",
    "ax.set_ylim(1000,200)\n",
    "#ax.set_xlim(-5,5)\n",
    "ax.tick_params(labelsize=fontsize)\n",
    "ax.set_xlabel('g kg$^{\\,-1}$ day$^{\\,-1}$', fontsize=fontsize)\n",
    "ax.set_yticklabels([])\n",
    "ax_list.append(ax)\n",
    "ax.text(s='Amazon\\nday 1', x=0.05, y=0.95, ha='left', va='top', transform=ax.transAxes, fontsize=fontsize)\n",
    "ax.text(s='(b)', x=0, y=1.02, ha='left', va='bottom', transform=ax.transAxes, fontsize=fontsize)\n",
    "ax.yaxis.grid()\n",
    "\n",
    "#####\n",
    "ax = fig.add_subplot(223)\n",
    "\n",
    "ax.plot(advection_400_wet_region*1000.*86400.,ptot_400_wet_region_midpoints/100., c='green', label='mse\\nadvection')\n",
    "ax.plot(convergence_400_wet_region*1000.*86400.,ptot_400_wet_region_midpoints/100.,c='dodgerblue', label='mse\\nconvergence')\n",
    "ax.axvline(0, ls='--', c='0.1', zorder=1)\n",
    "ax.set_ylim(1000,200)\n",
    "#ax.set_xlim(-10,10)\n",
    "ax.tick_params(labelsize=fontsize)\n",
    "ax.set_xlabel('g kg$^{\\,-1}$ day$^{\\,-1}$', fontsize=fontsize)\n",
    "ax.set_ylabel('hPa', fontsize=fontsize)\n",
    "ax.text(s='Andes\\ndays 2–10', x=0.05, y=0.95, ha='left', va='top', transform=ax.transAxes, fontsize=fontsize)\n",
    "ax.text(s='(c)', x=0, y=1.02, ha='left', va='bottom', transform=ax.transAxes, fontsize=fontsize)\n",
    "ax.yaxis.grid()\n",
    "ax_list.append(ax)\n",
    "\n",
    "#####\n",
    "ax = fig.add_subplot(224)\n",
    "\n",
    "ax.plot(advection_400_dry_region*1000.*86400.,ptot_400_dry_region_midpoints/100., c='green', label='mse\\nadvection')\n",
    "ax.plot(convergence_400_dry_region*1000.*86400.,ptot_400_dry_region_midpoints/100.,c='dodgerblue', label='mse\\nconvergence')\n",
    "ax.axvline(0, ls='--', c='0.1', zorder=1)\n",
    "ax.set_ylim(1000,200)\n",
    "#ax.set_xlim(-5,5)\n",
    "ax.tick_params(labelsize=fontsize)\n",
    "ax.set_xlabel('g kg$^{\\,-1}$ day$^{\\,-1}$', fontsize=fontsize)\n",
    "ax.set_yticklabels([])\n",
    "ax.text(s='Amazon\\ndays 2–10', x=0.05, y=0.95, ha='left', va='top', transform=ax.transAxes, fontsize=fontsize)\n",
    "ax.text(s='(d)', x=0, y=1.02, ha='left', va='bottom', transform=ax.transAxes, fontsize=fontsize)\n",
    "ax.yaxis.grid()\n",
    "ax_list.append(ax)\n",
    "\n",
    "fig.tight_layout(h_pad=1)\n",
    "\n",
    "handles, labels = ax_list[1].get_legend_handles_labels()\n",
    "legend = ax_list[1].legend(handles, labels, fontsize=fontsize, bbox_to_anchor=(1.05,1), edgecolor='None', \\\n",
    "                   facecolor='None', fancybox=False, bbox_transform=ax_list[1].transAxes, loc='upper left', \\\n",
    "                   borderaxespad=0., borderpad=0.25, handlelength=1.0, handletextpad=0.5, \\\n",
    "                   columnspacing=0.5, markerscale=1)\n",
    "\n",
    "fig.savefig('manuscript_figXX_climatological_mse_budget_TOTAL_10d_and_day1.png', dpi=600, \\\n",
    "            transparent=True, bbox_inches='tight')\n"
   ]
  },
  {
   "cell_type": "markdown",
   "metadata": {},
   "source": [
    "# plot individual conv, div, dmsedt terms"
   ]
  },
  {
   "cell_type": "code",
   "execution_count": 85,
   "metadata": {
    "ExecuteTime": {
     "end_time": "2018-06-17T04:26:02.610731Z",
     "start_time": "2018-06-17T04:25:43.565001Z"
    }
   },
   "outputs": [
    {
     "data": {
      "image/png": "[encoded data removed]",
      "text/plain": [
       "<Figure size 324x432 with 4 Axes>"
      ]
     },
     "metadata": {},
     "output_type": "display_data"
    }
   ],
   "source": [
    "fontsize=12\n",
    "\n",
    "fig = mp.figure(figsize=(4.5,6))\n",
    "\n",
    "ax_list = []\n",
    "\n",
    "#####\n",
    "ax = fig.add_subplot(221)\n",
    "\n",
    "ax.plot(diff_wet_region_adv_day1*86400./1000.,ptot_400_wet_region_midpoints/100., c='green', label='moist. adv.')\n",
    "ax.plot(diff_wet_region_conv_day1*86400./1000.,ptot_400_wet_region_midpoints/100., c='dodgerblue', label='moist. conv.')\n",
    "ax.plot(diff_wet_region_dmsedt_day1*86400./1000.,ptot_400_wet_region_midpoints/100., c='0.5', label='dmse/dt')\n",
    "ax.axvline(0, ls='--', c='0.1', zorder=1)\n",
    "ax.set_ylim(1000,200)\n",
    "#ax.set_xlim(-1.5,1)\n",
    "ax.tick_params(labelsize=fontsize)\n",
    "ax.set_xlabel('kJ kg$^{\\,-1}$ day$^{\\,-1}$', fontsize=fontsize)\n",
    "ax.set_ylabel('hPa', fontsize=fontsize)\n",
    "ax.text(s='Andes\\nday 1', x=0.05, y=0.95, ha='left', va='top', transform=ax.transAxes, fontsize=fontsize)\n",
    "ax.text(s='(a)', x=0, y=1.02, ha='left', va='bottom', transform=ax.transAxes, fontsize=fontsize)\n",
    "ax.yaxis.grid()\n",
    "ax_list.append(ax)\n",
    "\n",
    "#####\n",
    "ax = fig.add_subplot(222)\n",
    "\n",
    "ax.plot(diff_dry_region_adv_day1*86400./1000.,ptot_400_wet_region_midpoints/100., c='green', label='mse\\nadvection')\n",
    "ax.plot(diff_dry_region_conv_day1*86400./1000.,ptot_400_wet_region_midpoints/100., c='dodgerblue', label='mse\\nconvergence')\n",
    "ax.plot(diff_dry_region_dmsedt_day1*86400./1000.,ptot_400_wet_region_midpoints/100., c='0.5', label='dmse/dt')\n",
    "ax.axvline(0, ls='--', c='0.1', zorder=1)\n",
    "ax.set_ylim(1000,200)\n",
    "#ax.set_xlim(-0.75,0.5)\n",
    "ax.tick_params(labelsize=fontsize)\n",
    "ax.set_xlabel('kJ kg$^{\\,-1}$ day$^{\\,-1}$', fontsize=fontsize)\n",
    "ax.set_yticklabels([])\n",
    "ax_list.append(ax)\n",
    "ax.text(s='Amazon\\nday 1', x=0.05, y=0.95, ha='left', va='top', transform=ax.transAxes, fontsize=fontsize)\n",
    "ax.text(s='(b)', x=0, y=1.02, ha='left', va='bottom', transform=ax.transAxes, fontsize=fontsize)\n",
    "ax.yaxis.grid()\n",
    "\n",
    "#####\n",
    "ax = fig.add_subplot(223)\n",
    "\n",
    "ax.plot(diff_wet_region_adv*86400./1000.,ptot_400_wet_region_midpoints/100., c='green', label='mse\\nadvection')\n",
    "ax.plot(diff_wet_region_conv*86400./1000.,ptot_400_wet_region_midpoints/100.,c='dodgerblue', label='mse\\nconvergence')\n",
    "ax.plot(diff_wet_region_dmsedt*86400./1000.,ptot_400_wet_region_midpoints/100.,c='0.5', label='dmse/dt')\n",
    "ax.axvline(0, ls='--', c='0.1', zorder=1)\n",
    "ax.set_ylim(1000,200)\n",
    "#ax.set_xlim(-1.5,1)\n",
    "ax.tick_params(labelsize=fontsize)\n",
    "ax.set_xlabel('kJ kg$^{\\,-1}$ day$^{\\,-1}$', fontsize=fontsize)\n",
    "ax.set_ylabel('hPa', fontsize=fontsize)\n",
    "ax.text(s='Andes\\ndays 2–10', x=0.05, y=0.95, ha='left', va='top', transform=ax.transAxes, fontsize=fontsize)\n",
    "ax.text(s='(c)', x=0, y=1.02, ha='left', va='bottom', transform=ax.transAxes, fontsize=fontsize)\n",
    "ax.yaxis.grid()\n",
    "ax_list.append(ax)\n",
    "\n",
    "#####\n",
    "ax = fig.add_subplot(224)\n",
    "\n",
    "ax.plot(diff_dry_region_adv*86400./1000.,ptot_400_dry_region_midpoints/100., c='green', label='mse\\nadvection')\n",
    "ax.plot(diff_dry_region_conv*86400./1000.,ptot_400_dry_region_midpoints/100.,c='dodgerblue', label='mse\\nconvergence')\n",
    "ax.plot(diff_dry_region_dmsedt*86400./1000.,ptot_400_dry_region_midpoints/100.,c='0.5',label='dmse/dt')\n",
    "ax.axvline(0, ls='--', c='0.1', zorder=1)\n",
    "ax.set_ylim(1000,200)\n",
    "#ax.set_xlim(-0.75,0.5)\n",
    "ax.tick_params(labelsize=fontsize)\n",
    "ax.set_xlabel('kJ kg$^{\\,-1}$ day$^{\\,-1}$', fontsize=fontsize)\n",
    "ax.set_yticklabels([])\n",
    "ax.text(s='Amazon\\ndays 2–10', x=0.05, y=0.95, ha='left', va='top', transform=ax.transAxes, fontsize=fontsize)\n",
    "ax.text(s='(d)', x=0, y=1.02, ha='left', va='bottom', transform=ax.transAxes, fontsize=fontsize)\n",
    "ax.yaxis.grid()\n",
    "ax_list.append(ax)\n",
    "\n",
    "fig.tight_layout(h_pad=1)\n",
    "\n",
    "handles, labels = ax_list[1].get_legend_handles_labels()\n",
    "legend = ax_list[1].legend(handles, labels, fontsize=fontsize, bbox_to_anchor=(1.05,1), edgecolor='None', \\\n",
    "                   facecolor='None', fancybox=False, bbox_transform=ax_list[1].transAxes, loc='upper left', \\\n",
    "                   borderaxespad=0., borderpad=0.25, handlelength=1.0, handletextpad=0.5, \\\n",
    "                   columnspacing=0.5, markerscale=1)\n",
    "\n",
    "fig.savefig('manuscript_figXX_mean_mse_budget_TOTAL_10d_and_day1.png', dpi=600, \\\n",
    "            transparent=True, bbox_inches='tight')"
   ]
  },
  {
   "cell_type": "code",
   "execution_count": 86,
   "metadata": {
    "ExecuteTime": {
     "end_time": "2018-06-17T04:26:11.992475Z",
     "start_time": "2018-06-17T04:26:02.634271Z"
    }
   },
   "outputs": [
    {
     "data": {
      "image/png": "[encoded data removed]",
      "text/plain": [
       "<Figure size 324x216 with 2 Axes>"
      ]
     },
     "metadata": {},
     "output_type": "display_data"
    }
   ],
   "source": [
    "fontsize=12\n",
    "\n",
    "fig = mp.figure(figsize=(4.5,3))\n",
    "\n",
    "ax_list = []\n",
    "\n",
    "#####\n",
    "ax = fig.add_subplot(121)\n",
    "\n",
    "ax.plot(diff_wet_region_adv*86400./1000.,ptot_400_wet_region_midpoints/100., c='green', label='moisture\\nadvection')\n",
    "ax.plot(diff_wet_region_conv*86400./1000.,ptot_400_wet_region_midpoints/100.,c='dodgerblue', label='moisture\\nconvergence')\n",
    "ax.plot(diff_wet_region_dmsedt*86400./1000.,ptot_400_wet_region_midpoints/100.,c='0.5', label='dq/dt')\n",
    "ax.axvline(0, ls='--', c='0.1', zorder=1)\n",
    "ax.set_ylim(1000,200)\n",
    "#ax.set_xlim(-1.5,1)\n",
    "ax.tick_params(labelsize=fontsize)\n",
    "ax.set_xlabel('kJ kg$^{\\,-1}$ day$^{\\,-1}$', fontsize=fontsize)\n",
    "ax.set_ylabel('hPa', fontsize=fontsize)\n",
    "ax.text(s='Andes\\ndays 2–10', x=0.05, y=0.95, ha='left', va='top', transform=ax.transAxes, fontsize=fontsize)\n",
    "ax.text(s='(a)', x=0, y=1.02, ha='left', va='bottom', transform=ax.transAxes, fontsize=fontsize)\n",
    "ax.yaxis.grid()\n",
    "ax_list.append(ax)\n",
    "\n",
    "#####\n",
    "ax = fig.add_subplot(122)\n",
    "\n",
    "ax.plot(diff_dry_region_adv*86400./1000.,ptot_400_dry_region_midpoints/100., c='green', label='moisture\\nadvection')\n",
    "ax.plot(diff_dry_region_conv*86400./1000.,ptot_400_dry_region_midpoints/100.,c='dodgerblue', label='moisture\\nconvergence')\n",
    "ax.plot(diff_dry_region_dmsedt*86400./1000.,ptot_400_dry_region_midpoints/100.,c='0.5',label='dq/dt')\n",
    "ax.axvline(0, ls='--', c='0.1', zorder=1)\n",
    "ax.set_ylim(1000,200)\n",
    "#ax.set_xlim(-0.75,0.5)\n",
    "ax.tick_params(labelsize=fontsize)\n",
    "ax.set_xlabel('kJ kg$^{\\,-1}$ day$^{\\,-1}$', fontsize=fontsize)\n",
    "ax.set_yticklabels([])\n",
    "ax.text(s='Amazon\\ndays 2–10', x=0.05, y=0.95, ha='left', va='top', transform=ax.transAxes, fontsize=fontsize)\n",
    "ax.text(s='(b)', x=0, y=1.02, ha='left', va='bottom', transform=ax.transAxes, fontsize=fontsize)\n",
    "ax.yaxis.grid()\n",
    "ax_list.append(ax)\n",
    "\n",
    "fig.tight_layout(h_pad=1)\n",
    "\n",
    "handles, labels = ax_list[1].get_legend_handles_labels()\n",
    "legend = ax_list[1].legend(handles, labels, fontsize=fontsize, bbox_to_anchor=(1.05,1), edgecolor='None', \\\n",
    "                   facecolor='None', fancybox=False, bbox_transform=ax_list[1].transAxes, loc='upper left', \\\n",
    "                   borderaxespad=0., borderpad=0.25, handlelength=1.0, handletextpad=0.5, \\\n",
    "                   columnspacing=0.5, markerscale=1)\n",
    "\n",
    "fig.savefig('manuscript_figXX_mean_mse_budget_TOTAL_10d_ONLY.png', dpi=600, \\\n",
    "            transparent=True, bbox_inches='tight')"
   ]
  },
  {
   "cell_type": "markdown",
   "metadata": {},
   "source": [
    "# Do same for vertical terms"
   ]
  },
  {
   "cell_type": "code",
   "execution_count": 87,
   "metadata": {
    "ExecuteTime": {
     "end_time": "2018-06-17T04:28:30.712447Z",
     "start_time": "2018-06-17T04:28:12.945972Z"
    }
   },
   "outputs": [
    {
     "data": {
      "image/png": "[encoded data removed]",
      "text/plain": [
       "<Figure size 324x432 with 4 Axes>"
      ]
     },
     "metadata": {},
     "output_type": "display_data"
    }
   ],
   "source": [
    "fontsize=12\n",
    "\n",
    "fig = mp.figure(figsize=(4.5,6))\n",
    "\n",
    "ax_list = []\n",
    "\n",
    "#####\n",
    "ax = fig.add_subplot(221)\n",
    "\n",
    "ax.plot(diff_wet_region_vert_adv_day1*86400./1000.,ptot_400_wet_region_midpoints/100., c='green', label='moist. adv.')\n",
    "ax.plot(diff_wet_region_vert_conv_day1*86400./1000.,ptot_400_wet_region_midpoints/100., c='dodgerblue', label='moist. conv.')\n",
    "ax.plot(diff_wet_region_dmsedt_day1*86400./1000.,ptot_400_wet_region_midpoints/100., c='0.5', label='dq/dt')\n",
    "ax.axvline(0, ls='--', c='0.1', zorder=1)\n",
    "ax.set_ylim(1000,200)\n",
    "#ax.set_xlim(-1.5,1)\n",
    "ax.tick_params(labelsize=fontsize)\n",
    "ax.set_xlabel('kJ kg$^{\\,-1}$ day$^{\\,-1}$', fontsize=fontsize)\n",
    "ax.set_ylabel('hPa', fontsize=fontsize)\n",
    "ax.text(s='Andes\\nday 1', x=0.05, y=0.95, ha='left', va='top', transform=ax.transAxes, fontsize=fontsize)\n",
    "ax.text(s='(a)', x=0, y=1.02, ha='left', va='bottom', transform=ax.transAxes, fontsize=fontsize)\n",
    "ax.yaxis.grid()\n",
    "ax_list.append(ax)\n",
    "\n",
    "#####\n",
    "ax = fig.add_subplot(222)\n",
    "\n",
    "ax.plot(diff_dry_region_vert_adv_day1*86400./1000.,ptot_400_wet_region_midpoints/100., c='green', label='moisture\\nadvection')\n",
    "ax.plot(diff_dry_region_vert_conv_day1*86400./1000.,ptot_400_wet_region_midpoints/100., c='dodgerblue', label='moisture\\nconvergence')\n",
    "ax.plot(diff_dry_region_dmsedt_day1*86400./1000.,ptot_400_wet_region_midpoints/100., c='0.5', label='dq/dt')\n",
    "ax.axvline(0, ls='--', c='0.1', zorder=1)\n",
    "ax.set_ylim(1000,200)\n",
    "#ax.set_xlim(-0.75,0.5)\n",
    "ax.tick_params(labelsize=fontsize)\n",
    "ax.set_xlabel('kJ kg$^{\\,-1}$ day$^{\\,-1}$', fontsize=fontsize)\n",
    "ax.set_yticklabels([])\n",
    "ax_list.append(ax)\n",
    "ax.text(s='Amazon\\nday 1', x=0.05, y=0.95, ha='left', va='top', transform=ax.transAxes, fontsize=fontsize)\n",
    "ax.text(s='(b)', x=0, y=1.02, ha='left', va='bottom', transform=ax.transAxes, fontsize=fontsize)\n",
    "ax.yaxis.grid()\n",
    "\n",
    "#####\n",
    "ax = fig.add_subplot(223)\n",
    "\n",
    "ax.plot(diff_wet_region_vert_adv*86400./1000.,ptot_400_wet_region_midpoints/100., c='green', label='moisture\\nadvection')\n",
    "ax.plot(diff_wet_region_vert_conv*86400./1000.,ptot_400_wet_region_midpoints/100.,c='dodgerblue', label='moisture\\nconvergence')\n",
    "ax.plot(diff_wet_region_dmsedt*86400./1000.,ptot_400_wet_region_midpoints/100.,c='0.5', label='dq/dt')\n",
    "ax.axvline(0, ls='--', c='0.1', zorder=1)\n",
    "ax.set_ylim(1000,200)\n",
    "#ax.set_xlim(-1.5,1)\n",
    "ax.tick_params(labelsize=fontsize)\n",
    "ax.set_xlabel('kJ kg$^{\\,-1}$ day$^{\\,-1}$', fontsize=fontsize)\n",
    "ax.set_ylabel('hPa', fontsize=fontsize)\n",
    "ax.text(s='Andes\\ndays 2–10', x=0.05, y=0.95, ha='left', va='top', transform=ax.transAxes, fontsize=fontsize)\n",
    "ax.text(s='(c)', x=0, y=1.02, ha='left', va='bottom', transform=ax.transAxes, fontsize=fontsize)\n",
    "ax.yaxis.grid()\n",
    "ax_list.append(ax)\n",
    "\n",
    "#####\n",
    "ax = fig.add_subplot(224)\n",
    "\n",
    "ax.plot(diff_dry_region_vert_adv*86400./1000.,ptot_400_dry_region_midpoints/100., c='green', label='moisture\\nadvection')\n",
    "ax.plot(diff_dry_region_vert_conv*86400./1000.,ptot_400_dry_region_midpoints/100.,c='dodgerblue', label='moisture\\nconvergence')\n",
    "ax.plot(diff_dry_region_dmsedt*86400./1000.,ptot_400_dry_region_midpoints/100.,c='0.5',label='dq/dt')\n",
    "ax.axvline(0, ls='--', c='0.1', zorder=1)\n",
    "ax.set_ylim(1000,200)\n",
    "#ax.set_xlim(-0.75,0.5)\n",
    "ax.tick_params(labelsize=fontsize)\n",
    "ax.set_xlabel('kJ kg$^{\\,-1}$ day$^{\\,-1}$', fontsize=fontsize)\n",
    "ax.set_yticklabels([])\n",
    "ax.text(s='Amazon\\ndays 2–10', x=0.05, y=0.95, ha='left', va='top', transform=ax.transAxes, fontsize=fontsize)\n",
    "ax.text(s='(d)', x=0, y=1.02, ha='left', va='bottom', transform=ax.transAxes, fontsize=fontsize)\n",
    "ax.yaxis.grid()\n",
    "ax_list.append(ax)\n",
    "\n",
    "fig.tight_layout(h_pad=1)\n",
    "\n",
    "handles, labels = ax_list[1].get_legend_handles_labels()\n",
    "legend = ax_list[1].legend(handles, labels, fontsize=fontsize, bbox_to_anchor=(1.05,1), edgecolor='None', \\\n",
    "                   facecolor='None', fancybox=False, bbox_transform=ax_list[1].transAxes, loc='upper left', \\\n",
    "                   borderaxespad=0., borderpad=0.25, handlelength=1.0, handletextpad=0.5, \\\n",
    "                   columnspacing=0.5, markerscale=1)\n",
    "\n",
    "axpos1 = ax_list[0].get_position()\n",
    "axpos2 = ax_list[1].get_position()\n",
    "\n",
    "fig.text(s='vertical terms', x=0.5*(axpos1.x0+axpos2.x1), y=1.02, transform=fig.transFigure, ha='center', va='bottom', fontsize=fontsize)\n",
    "\n",
    "fig.savefig('manuscript_figXX_mean_mse_budget_VERTICAL_10d_and_day1.png', dpi=600, \\\n",
    "            transparent=True, bbox_inches='tight')"
   ]
  },
  {
   "cell_type": "markdown",
   "metadata": {},
   "source": [
    "# horizontal terms"
   ]
  },
  {
   "cell_type": "code",
   "execution_count": 123,
   "metadata": {
    "ExecuteTime": {
     "end_time": "2018-05-30T22:35:56.630925Z",
     "start_time": "2018-05-30T22:35:53.086002Z"
    }
   },
   "outputs": [
    {
     "data": {
      "image/png": "[encoded data removed]",
      "text/plain": [
       "<Figure size 324x432 with 4 Axes>"
      ]
     },
     "metadata": {},
     "output_type": "display_data"
    }
   ],
   "source": [
    "fontsize=12\n",
    "\n",
    "fig = mp.figure(figsize=(4.5,6))\n",
    "\n",
    "ax_list = []\n",
    "\n",
    "#####\n",
    "ax = fig.add_subplot(221)\n",
    "\n",
    "ax.plot(diff_wet_region_horiz_adv_day1*86400./1000.,ptot_400_wet_region_midpoints/100., c='green', label='moist. adv.')\n",
    "ax.plot(diff_wet_region_horiz_conv_day1*86400./1000.,ptot_400_wet_region_midpoints/100., c='dodgerblue', label='moist. conv.')\n",
    "ax.plot(diff_wet_region_dmsedt_day1*86400./1000.,ptot_400_wet_region_midpoints/100., c='0.5', label='dq/dt')\n",
    "ax.axvline(0, ls='--', c='0.1', zorder=1)\n",
    "ax.set_ylim(1000,200)\n",
    "#ax.set_xlim(-1.5,1)\n",
    "ax.tick_params(labelsize=fontsize)\n",
    "ax.set_xlabel('kJ kg$^{\\,-1}$ day$^{\\,-1}$', fontsize=fontsize)\n",
    "ax.set_ylabel('hPa', fontsize=fontsize)\n",
    "ax.text(s='Andes\\nday 1', x=0.05, y=0.95, ha='left', va='top', transform=ax.transAxes, fontsize=fontsize)\n",
    "ax.text(s='(a)', x=0, y=1.02, ha='left', va='bottom', transform=ax.transAxes, fontsize=fontsize)\n",
    "ax.yaxis.grid()\n",
    "ax_list.append(ax)\n",
    "\n",
    "#####\n",
    "ax = fig.add_subplot(222)\n",
    "\n",
    "ax.plot(diff_dry_region_horiz_adv_day1*86400./1000.,ptot_400_wet_region_midpoints/100., c='green', label='moisture\\nadvection')\n",
    "ax.plot(diff_dry_region_horiz_conv_day1*86400./1000.,ptot_400_wet_region_midpoints/100., c='dodgerblue', label='moisture\\nconvergence')\n",
    "ax.plot(diff_dry_region_dmsedt_day1*86400./1000.,ptot_400_wet_region_midpoints/100., c='0.5', label='dq/dt')\n",
    "ax.axvline(0, ls='--', c='0.1', zorder=1)\n",
    "ax.set_ylim(1000,200)\n",
    "#ax.set_xlim(-0.75,0.5)\n",
    "ax.tick_params(labelsize=fontsize)\n",
    "ax.set_xlabel('kJ kg$^{\\,-1}$ day$^{\\,-1}$', fontsize=fontsize)\n",
    "ax.set_yticklabels([])\n",
    "ax_list.append(ax)\n",
    "ax.text(s='Amazon\\nday 1', x=0.05, y=0.95, ha='left', va='top', transform=ax.transAxes, fontsize=fontsize)\n",
    "ax.text(s='(b)', x=0, y=1.02, ha='left', va='bottom', transform=ax.transAxes, fontsize=fontsize)\n",
    "ax.yaxis.grid()\n",
    "\n",
    "#####\n",
    "ax = fig.add_subplot(223)\n",
    "\n",
    "ax.plot(diff_wet_region_horiz_adv*86400./1000.,ptot_400_wet_region_midpoints/100., c='green', label='moisture\\nadvection')\n",
    "ax.plot(diff_wet_region_horiz_conv*86400./1000.,ptot_400_wet_region_midpoints/100.,c='dodgerblue', label='moisture\\nconvergence')\n",
    "ax.plot(diff_wet_region_dmsedt*86400./1000.,ptot_400_wet_region_midpoints/100.,c='0.5', label='dq/dt')\n",
    "ax.axvline(0, ls='--', c='0.1', zorder=1)\n",
    "ax.set_ylim(1000,200)\n",
    "#ax.set_xlim(-1.5,1)\n",
    "ax.tick_params(labelsize=fontsize)\n",
    "ax.set_xlabel('kJ kg$^{\\,-1}$ day$^{\\,-1}$', fontsize=fontsize)\n",
    "ax.set_ylabel('hPa', fontsize=fontsize)\n",
    "ax.text(s='Andes\\ndays 2–10', x=0.05, y=0.95, ha='left', va='top', transform=ax.transAxes, fontsize=fontsize)\n",
    "ax.text(s='(c)', x=0, y=1.02, ha='left', va='bottom', transform=ax.transAxes, fontsize=fontsize)\n",
    "ax.yaxis.grid()\n",
    "ax_list.append(ax)\n",
    "\n",
    "#####\n",
    "ax = fig.add_subplot(224)\n",
    "\n",
    "ax.plot(diff_dry_region_horiz_adv*86400./1000.,ptot_400_dry_region_midpoints/100., c='green', label='moisture\\nadvection')\n",
    "ax.plot(diff_dry_region_horiz_conv*86400./1000.,ptot_400_dry_region_midpoints/100.,c='dodgerblue', label='moisture\\nconvergence')\n",
    "ax.plot(diff_dry_region_dmsedt*86400./1000.,ptot_400_dry_region_midpoints/100.,c='0.5',label='dq/dt')\n",
    "ax.axvline(0, ls='--', c='0.1', zorder=1)\n",
    "ax.set_ylim(1000,200)\n",
    "#ax.set_xlim(-0.75,0.5)\n",
    "ax.tick_params(labelsize=fontsize)\n",
    "ax.set_xlabel('kJ kg$^{\\,-1}$ day$^{\\,-1}$', fontsize=fontsize)\n",
    "ax.set_yticklabels([])\n",
    "ax.text(s='Amazon\\ndays 2–10', x=0.05, y=0.95, ha='left', va='top', transform=ax.transAxes, fontsize=fontsize)\n",
    "ax.text(s='(d)', x=0, y=1.02, ha='left', va='bottom', transform=ax.transAxes, fontsize=fontsize)\n",
    "ax.yaxis.grid()\n",
    "ax_list.append(ax)\n",
    "\n",
    "fig.tight_layout(h_pad=1)\n",
    "\n",
    "handles, labels = ax_list[1].get_legend_handles_labels()\n",
    "legend = ax_list[1].legend(handles, labels, fontsize=fontsize, bbox_to_anchor=(1.05,1), edgecolor='None', \\\n",
    "                   facecolor='None', fancybox=False, bbox_transform=ax_list[1].transAxes, loc='upper left', \\\n",
    "                   borderaxespad=0., borderpad=0.25, handlelength=1.0, handletextpad=0.5, \\\n",
    "                   columnspacing=0.5, markerscale=1)\n",
    "\n",
    "axpos1 = ax_list[0].get_position()\n",
    "axpos2 = ax_list[1].get_position()\n",
    "\n",
    "fig.text(s='horizontal terms', x=0.5*(axpos1.x0+axpos2.x1), y=1.02, transform=fig.transFigure, ha='center', va='bottom', fontsize=fontsize)\n",
    "\n",
    "fig.savefig('manuscript_figXX_mean_mse_budget_HORIZONTAL_10d_and_day1.png', dpi=600, \\\n",
    "            transparent=True, bbox_inches='tight')"
   ]
  },
  {
   "cell_type": "markdown",
   "metadata": {},
   "source": [
    "# lat subsets and latmeans"
   ]
  },
  {
   "cell_type": "code",
   "execution_count": 125,
   "metadata": {
    "ExecuteTime": {
     "end_time": "2018-05-30T22:36:56.740597Z",
     "start_time": "2018-05-30T22:36:56.050145Z"
    }
   },
   "outputs": [],
   "source": [
    "ptot_400_midpoints_lat_subset = ptot_400_midpoints[:,:,lat_indices_midpoints[:,0],:]\n",
    "ptot_1000_midpoints_lat_subset = ptot_1000_midpoints[:,:,lat_indices_midpoints[:,0],:]"
   ]
  },
  {
   "cell_type": "code",
   "execution_count": 126,
   "metadata": {
    "ExecuteTime": {
     "end_time": "2018-05-30T22:37:05.799133Z",
     "start_time": "2018-05-30T22:37:04.841477Z"
    }
   },
   "outputs": [],
   "source": [
    "ptot_400_lat_subset = ptot_400[:,:,lat_indices[:,0],:]\n",
    "ptot_1000_lat_subset = ptot_1000[:,:,lat_indices[:,0],:]"
   ]
  },
  {
   "cell_type": "code",
   "execution_count": 127,
   "metadata": {
    "ExecuteTime": {
     "end_time": "2018-05-30T22:37:15.025900Z",
     "start_time": "2018-05-30T22:37:14.249742Z"
    }
   },
   "outputs": [],
   "source": [
    "advection_400_lat_subset = advection_400[:,:,lat_indices_midpoints[:,0],:]\n",
    "advection_1000_lat_subset = advection_1000[:,:,lat_indices_midpoints[:,0],:]\n",
    "\n",
    "convergence_400_lat_subset = convergence_400[:,:,lat_indices_midpoints[:,0],:]\n",
    "convergence_1000_lat_subset = convergence_1000[:,:,lat_indices_midpoints[:,0],:]"
   ]
  },
  {
   "cell_type": "code",
   "execution_count": 128,
   "metadata": {
    "ExecuteTime": {
     "end_time": "2018-05-30T22:38:06.444073Z",
     "start_time": "2018-05-30T22:37:23.641082Z"
    }
   },
   "outputs": [],
   "source": [
    "cont_adv_latmean = numpy.nanmean(advection_400_lat_subset, axis=2)\n",
    "phys_adv_latmean = numpy.nanmean(advection_1000_lat_subset, axis=2)\n",
    "\n",
    "cont_conv_latmean = numpy.nanmean(convergence_400_lat_subset, axis=2)\n",
    "phys_conv_latmean = numpy.nanmean(convergence_1000_lat_subset, axis=2)"
   ]
  },
  {
   "cell_type": "code",
   "execution_count": 129,
   "metadata": {
    "ExecuteTime": {
     "end_time": "2018-05-30T22:38:16.648532Z",
     "start_time": "2018-05-30T22:38:15.116364Z"
    }
   },
   "outputs": [],
   "source": [
    "dmsedt_400_lat_subset = dmsedt_400[:,:,lat_indices_midpoints[:,0],:]\n",
    "dmsedt_1000_lat_subset = dmsedt_1000[:,:,lat_indices_midpoints[:,0],:]"
   ]
  },
  {
   "cell_type": "code",
   "execution_count": 132,
   "metadata": {
    "ExecuteTime": {
     "end_time": "2018-05-30T22:38:48.150834Z",
     "start_time": "2018-05-30T22:38:44.658106Z"
    }
   },
   "outputs": [],
   "source": [
    "ptot_400_latmean = numpy.nanmean(ptot_400_lat_subset, axis=2)\n",
    "ptot_1000_latmean = numpy.nanmean(ptot_1000_lat_subset, axis=2)"
   ]
  },
  {
   "cell_type": "code",
   "execution_count": 133,
   "metadata": {
    "ExecuteTime": {
     "end_time": "2018-05-30T22:39:00.635622Z",
     "start_time": "2018-05-30T22:38:57.360855Z"
    }
   },
   "outputs": [],
   "source": [
    "ptot_400_midpoints_latmean = numpy.nanmean(ptot_400_midpoints_lat_subset, axis=2)\n",
    "ptot_1000_midpoints_latmean = numpy.nanmean(ptot_1000_midpoints_lat_subset, axis=2)"
   ]
  },
  {
   "cell_type": "code",
   "execution_count": 134,
   "metadata": {
    "ExecuteTime": {
     "end_time": "2018-05-30T22:39:14.660202Z",
     "start_time": "2018-05-30T22:39:09.573412Z"
    }
   },
   "outputs": [
    {
     "name": "stderr",
     "output_type": "stream",
     "text": [
      "/export/home/blangenb/anaconda3/lib/python3.6/site-packages/ipykernel_launcher.py:1: RuntimeWarning: Mean of empty slice\n",
      "  \"\"\"Entry point for launching an IPython kernel.\n",
      "/export/home/blangenb/anaconda3/lib/python3.6/site-packages/ipykernel_launcher.py:2: RuntimeWarning: Mean of empty slice\n",
      "  \n"
     ]
    }
   ],
   "source": [
    "dmsedt_400_latmean = numpy.nanmean(dmsedt_400_lat_subset, axis=2)\n",
    "dmsedt_1000_latmean = numpy.nanmean(dmsedt_1000_lat_subset, axis=2)"
   ]
  },
  {
   "cell_type": "code",
   "execution_count": 135,
   "metadata": {
    "ExecuteTime": {
     "end_time": "2018-05-30T22:39:25.402176Z",
     "start_time": "2018-05-30T22:39:23.445710Z"
    }
   },
   "outputs": [],
   "source": [
    "ptot_400_midpoints_lat_subset = ptot_400_midpoints[:,:,lat_indices_midpoints[:,0],:]\n",
    "ptot_400_midpoints_latmean = numpy.nanmean(ptot_400_midpoints_lat_subset, axis=2)"
   ]
  },
  {
   "cell_type": "code",
   "execution_count": 136,
   "metadata": {
    "ExecuteTime": {
     "end_time": "2018-05-30T22:39:34.377567Z",
     "start_time": "2018-05-30T22:39:34.371094Z"
    }
   },
   "outputs": [],
   "source": [
    "xx,zz=numpy.meshgrid(xlong[0,:],ptot_400[0,:,:,0].mean(axis=1))"
   ]
  },
  {
   "cell_type": "code",
   "execution_count": 137,
   "metadata": {
    "ExecuteTime": {
     "end_time": "2018-05-30T22:39:43.406345Z",
     "start_time": "2018-05-30T22:39:43.356529Z"
    }
   },
   "outputs": [],
   "source": [
    "diff_adv_latmean = phys_adv_latmean-cont_adv_latmean\n",
    "diff_conv_latmean = phys_conv_latmean-cont_conv_latmean\n",
    "diff_dmsedt_latmean = dmsedt_1000_latmean-dmsedt_400_latmean"
   ]
  },
  {
   "cell_type": "code",
   "execution_count": 138,
   "metadata": {
    "ExecuteTime": {
     "end_time": "2018-05-30T22:39:55.275169Z",
     "start_time": "2018-05-30T22:39:52.420913Z"
    }
   },
   "outputs": [
    {
     "name": "stderr",
     "output_type": "stream",
     "text": [
      "/export/home/blangenb/anaconda3/lib/python3.6/site-packages/ipykernel_launcher.py:2: RuntimeWarning: Mean of empty slice\n",
      "  \n",
      "/export/home/blangenb/anaconda3/lib/python3.6/site-packages/ipykernel_launcher.py:3: RuntimeWarning: Mean of empty slice\n",
      "  This is separate from the ipykernel package so we can avoid doing imports until\n"
     ]
    }
   ],
   "source": [
    "wa_diffs_lat_subset = wa_diffs_landmask[:,:,lat_indices[:,0],:]\n",
    "wa_diffs_latmean = numpy.nanmean(wa_diffs_lat_subset, axis=2)\n",
    "wa_diffs_time_latmean = numpy.nanmean(wa_diffs_latmean[24:,:,:], axis=0)"
   ]
  },
  {
   "cell_type": "code",
   "execution_count": 139,
   "metadata": {
    "ExecuteTime": {
     "end_time": "2018-05-30T22:40:04.492103Z",
     "start_time": "2018-05-30T22:40:04.463861Z"
    }
   },
   "outputs": [],
   "source": [
    "ptot_400_time_latmean = numpy.nanmean(ptot_400_latmean, axis=0)"
   ]
  },
  {
   "cell_type": "markdown",
   "metadata": {},
   "source": [
    "# gridspec version of plot"
   ]
  },
  {
   "cell_type": "raw",
   "metadata": {
    "ExecuteTime": {
     "end_time": "2018-05-30T22:38:27.719763Z",
     "start_time": "2018-05-30T22:38:27.135202Z"
    }
   },
   "source": [
    "fontsize=12\n",
    "\n",
    "fig = mp.figure(figsize=(6.5,7))\n",
    "gs = matplotlib.gridspec.GridSpec(3,2,height_ratios=[2,1,3])\n",
    "\n",
    "xticks_deg_E=numpy.array((280,290,300,310,320))\n",
    "xticks = -(360-xticks_deg_E)\n",
    "xticks_format=[str(tick)+DEGREE_SIGN+'E' for tick in xticks_deg_E]\n",
    "\n",
    "ax_a = mp.subplot(gs[0,:])\n",
    "ax_b = mp.subplot(gs[1,:])\n",
    "ax_c = mp.subplot(gs[2,0])\n",
    "ax_d = mp.subplot(gs[2,1])\n",
    "#ax_e = mp.subplot(gs[3,0])\n",
    "#ax_f = mp.subplot(gs[3,1])\n",
    "\n",
    "ax_list = [ax_a,ax_b,ax_c,ax_d]#,ax_e,ax_f]\n",
    "\n",
    "\n",
    "levels = numpy.arange(-.2,.21,0.025)\n",
    "contour_plot = ax_a.contourf(xx+360., ptot_400_time_latmean/100., \\\n",
    "                           wa_diffs_time_latmean*86400./1000., \\\n",
    "                           levels=levels, \\\n",
    "                           cmap='RdBu', \\\n",
    "                           extend='both')\n",
    "ax_a.tick_params(labelsize=fontsize)\n",
    "ax_a.set_ylim(1013.25,100)\n",
    "ax_a.set_xlim(279,321)\n",
    "ax_a.text(s='(a) Mean $\\Delta w$ (days 2–10)',\\\n",
    "       x=0, y=1.01, \\\n",
    "       ha='left', va='bottom', \\\n",
    "       fontsize=fontsize, \\\n",
    "       transform=ax_a.transAxes)\n",
    "ax_a.set_xticks(xticks_deg_E)\n",
    "ax_a.set_xticklabels(xticks_format)\n",
    "ax_a.set_ylabel('hPa', fontsize=fontsize)\n",
    "ax_a.set_facecolor('0.1')\n",
    "ax_a.fill_between(x=[wet_lon_lo_degE,wet_lon_hi_degE], y1=ax_a.get_ylim()[0], y2=ax_a.get_ylim()[1],\\\n",
    "                  facecolor='None', edgecolor='0.1',\n",
    "                  hatch='/', alpha=0.5)\n",
    "ax_a.fill_between(x=[dry_lon_lo_degE,dry_lon_hi_degE], y1=ax_a.get_ylim()[0], y2=ax_a.get_ylim()[1],\\\n",
    "                  facecolor='None', edgecolor='0.1',\n",
    "                  hatch='\\\\', alpha=0.5)\n",
    "ax_a.text(s='Andes\\nregion',x=wet_lon_hi_degE+0.5, y=600, ha='left',va='top',fontsize=fontsize,color='0.1')\n",
    "ax_a.text(s='Amazon\\nregion',x=dry_lon_hi_degE+0.5, y=400, ha='left',va='top',fontsize=fontsize,color='0.1')\n",
    "\n",
    "\n",
    "ax_b.plot(360+xlong[0,:],pandas.Series(raintot_diffs_latmean_day1*24).rolling(window=3, center=True).mean().values, c='coral', label='day 1')\n",
    "ax_b.plot(360+xlong[0,:],pandas.Series(raintot_diffs_latmean_day2_10*24).rolling(window=3, center=True).mean().values, c='firebrick', label='days 2–10')\n",
    "ax_b.axhline(0, c='0.1', ls='--')\n",
    "ax_b.set_xlim(279,321)\n",
    "ax_b.set_ylim(-1.6,1.1)\n",
    "ax_b.set_yticks([-1,0,1])\n",
    "ax_b.set_xticks(xticks_deg_E)\n",
    "ax_b.set_xticklabels(xticks_format)\n",
    "ax_b.tick_params(labelsize=fontsize)\n",
    "ax_b.text(s='(b) $\\Delta$ precipitation',\\\n",
    "       x=0, y=1.01, \\\n",
    "       ha='left', va='bottom', \\\n",
    "       fontsize=fontsize, \\\n",
    "       transform=ax_b.transAxes)\n",
    "ax_b.set_ylabel('mm day$^{\\,-1}$', fontsize=fontsize)\n",
    "\n",
    "ax=ax_c\n",
    "ax.plot(wa_diff_wet_region*86400./1000.,ptot_400_wet_region/100., c='firebrick')\n",
    "ax.plot(wa_diff_wet_region_day1*86400./1000.,ptot_400_wet_region/100., c='coral')\n",
    "ax.axvline(0, ls='--', c='0.1')\n",
    "ax.set_ylim(1000,100)\n",
    "ax.set_xlim(-.25,.15)\n",
    "ax.tick_params(labelsize=fontsize)\n",
    "ax.set_xlabel('km day$^{\\,-1}$', fontsize=fontsize)\n",
    "ax.set_ylabel('hPa', fontsize=fontsize)\n",
    "ax.text(s='(c) Andes region', x=0., y=1.01, ha='left', va='bottom', transform=ax.transAxes, fontsize=fontsize)\n",
    "#ax.text(s='Andes', x=0.97, y=0.97, ha='right', va='top', transform=ax.transAxes, fontsize=fontsize)\n",
    "ax.set_yticks(numpy.arange(1000,99,-200))\n",
    "ax.set_xticks([-.1,0,.1])\n",
    "\n",
    "ax=ax_d\n",
    "ax.plot(wa_diff_dry_region_day1*86400/1000.,ptot_400_dry_region/100., c='coral', label='$\\Delta w$ (day 1)')\n",
    "ax.plot(wa_diff_dry_region*86400/1000.,ptot_400_dry_region/100., c='firebrick', label='$\\Delta w$ (days 2–10)')\n",
    "ax.axvline(0, ls='--', c='0.1')\n",
    "#ax.axhline(860, ls='--', c='0.1')\n",
    "ax.set_ylim(1000,100)\n",
    "ax.set_xlim(-.15,.25)\n",
    "ax.tick_params(labelsize=fontsize)\n",
    "ax.set_xlabel('km day$^{\\,-1}$', fontsize=fontsize)\n",
    "#ax.set_ylabel('hPa', fontsize=fontsize)\n",
    "ax.text(s='(d) Amazon region', x=0., y=1.01, ha='left', va='bottom', transform=ax.transAxes, fontsize=fontsize)\n",
    "#ax.text(s='Amazon', x=0.97, y=0.97, ha='right', va='top', transform=ax.transAxes, fontsize=fontsize)\n",
    "ax.set_yticks(numpy.arange(1000,99,-200))\n",
    "ax.set_xticks([-.1,0,.1])\n",
    "\n",
    "fig.tight_layout(h_pad=2)\n",
    "\n",
    "ax_pos = ax_a.get_position()\n",
    "cbar_ax = fig.add_axes([ax_pos.x1+0.025, ax_pos.y0, 0.02, ax_pos.height])\n",
    "cbar = fig.colorbar(contour_plot, cax=cbar_ax)\n",
    "cbar_ax.tick_params(labelsize=fontsize)\n",
    "cbar.set_label('km day$^{\\,-1}$', fontsize=fontsize)\n",
    "cbar.set_ticks(levels[0::4])\n",
    "\n",
    "handles, labels = ax_b.get_legend_handles_labels()\n",
    "ax_b.legend(handles, labels, fontsize=fontsize, scatterpoints=1, bbox_to_anchor=(1.025,1.), \\\n",
    "            bbox_transform=ax_b.transAxes, loc='upper left', borderaxespad=0, labelspacing=0.25, \\\n",
    "            fancybox=False, edgecolor='0', framealpha=0, borderpad=0.25, \\\n",
    "            handletextpad=0.5, markerscale=1, handlelength=1.25)\n",
    "\n",
    "ax_pos = ax_c.get_position()\n",
    "ax_c_in = fig.add_axes([ax_pos.x0,ax_pos.y0+0.2*ax_pos.height,0.35*ax_pos.width,0.7*ax_pos.height])#, frameon=False)\n",
    "ax_c_in.plot(wa_400_dry*86400./1000.,ptot_400_wet_region/100., c='0.25', label='10d mean')\n",
    "ax_c_in.tick_params(labelsize=fontsize)\n",
    "ax_c_in.tick_params(axis='x', pad=0)\n",
    "ax_c_in.set_ylim(1000,100)\n",
    "ax_c_in.yaxis.tick_right()\n",
    "ax_c_in.axvline(0, lw=0.5, color='0.25', ls='-')\n",
    "ax_c_in.set_xticks([0.,.2])\n",
    "ax_c_in.set_xticklabels(['0','0.2'])\n",
    "#ax_c_in.set_xlabel('mm day$^{\\,-1}$', fontsize=fontsize)\n",
    "#ax_c_in.text(s='$w$ clim.', x=1., y=1.02, ha='right', va='bottom', transform=ax_c_in.transAxes, fontsize=fontsize)\n",
    "\n",
    "ax_pos = ax_d.get_position()\n",
    "ax_d_in = fig.add_axes([ax_pos.x0+ax_pos.width*0.65,ax_pos.y0+0.2*ax_pos.height,0.35*ax_pos.width,0.7*ax_pos.height])#, frameon=False)\n",
    "ax_d_in.plot(wa_400_wet*86400./1000.,ptot_400_wet_region/100., c='0.25', label='$w$ climatology')\n",
    "ax_d_in.tick_params(labelsize=fontsize)\n",
    "ax_d_in.tick_params(axis='x', pad=0)\n",
    "ax_d_in.set_ylim(1000,100)\n",
    "#ax_d_in.set_xlabel('mm day$^{\\,-1}$', fontsize=fontsize)\n",
    "#ax_d_in.text(s='$w$ clim.', x=0, y=1.02, ha='left', va='bottom', transform=ax_d_in.transAxes, fontsize=fontsize, label='$w$ clim.\\n(days 2–10)')\n",
    "ax_d_in.axvline(0, lw=0.5, color='0.25', ls='-')\n",
    "\n",
    "\n",
    "h_out, l_out=ax_d.get_legend_handles_labels()\n",
    "h_in, l_in = ax_d_in.get_legend_handles_labels()\n",
    "ax_d.legend(h_out+h_in, l_out+l_in, fontsize=fontsize, scatterpoints=1, bbox_to_anchor=(1.05,1.), \\\n",
    "            bbox_transform=ax_d.transAxes, loc='upper left', borderaxespad=0, labelspacing=0.25, \\\n",
    "            fancybox=False, edgecolor='0', framealpha=0, borderpad=0.25, \\\n",
    "            handletextpad=0.5, markerscale=1, handlelength=1.25)\n",
    "\n",
    "fig.savefig('manuscript_fig4_winds_precip.png', dpi=600, bbox_inches='tight')\n"
   ]
  },
  {
   "cell_type": "markdown",
   "metadata": {},
   "source": [
    "# Plot dmsedt and moisture convergence in lat means"
   ]
  },
  {
   "cell_type": "code",
   "execution_count": 140,
   "metadata": {
    "ExecuteTime": {
     "end_time": "2018-05-30T22:46:33.738939Z",
     "start_time": "2018-05-30T22:46:33.707410Z"
    }
   },
   "outputs": [],
   "source": [
    "dmsedt_diff_latmean = dmsedt_1000_latmean - dmsedt_400_latmean"
   ]
  },
  {
   "cell_type": "code",
   "execution_count": 141,
   "metadata": {
    "ExecuteTime": {
     "end_time": "2018-05-30T22:46:43.178764Z",
     "start_time": "2018-05-30T22:46:43.171944Z"
    }
   },
   "outputs": [],
   "source": [
    "xx_midpoints = 0.5*(xx[1:,1:]+xx[:-1,:-1])\n",
    "\n",
    "ptot_400_time_latmean_midpoints = 0.5*(ptot_400_time_latmean[1:,1:]+\\\n",
    "                                       ptot_400_time_latmean[:-1,:-1])"
   ]
  },
  {
   "cell_type": "markdown",
   "metadata": {},
   "source": [
    "# dmsedt and convergence terms on day 1"
   ]
  },
  {
   "cell_type": "code",
   "execution_count": 143,
   "metadata": {
    "ExecuteTime": {
     "end_time": "2018-05-30T22:48:13.302340Z",
     "start_time": "2018-05-30T22:48:08.445616Z"
    }
   },
   "outputs": [
    {
     "data": {
      "image/png": "[encoded data removed]",
      "text/plain": [
       "<Figure size 468x252 with 5 Axes>"
      ]
     },
     "metadata": {},
     "output_type": "display_data"
    }
   ],
   "source": [
    "fontsize=12\n",
    "\n",
    "xlong_min = -154.76123\n",
    "xlong_max = -25.238678\n",
    "\n",
    "levels = numpy.arange(-3,3.1,0.5)\n",
    "\n",
    "fig = mp.figure(figsize=(6.5,3.5))\n",
    "\n",
    "xticks_deg_E=numpy.array((280,300,320))\n",
    "xticks = -(360-xticks_deg_E)\n",
    "xticks_format=[str(tick)+DEGREE_SIGN+'E' for tick in xticks_deg_E]\n",
    "\n",
    "ax_list = []\n",
    "\n",
    "hour1 = 13\n",
    "hour1_string = hour1-4+1\n",
    "\n",
    "hour2 = 14\n",
    "hour2_string = hour2-4+1\n",
    "\n",
    "ax = fig.add_subplot(221)\n",
    "contour_plot = ax.contourf(xx_midpoints+360., \\\n",
    "                           ptot_400_time_latmean_midpoints/100., \\\n",
    "                           dmsedt_diff_latmean[hour1,:,:]*86400./1000., cmap='RdBu',\\\n",
    "                           levels=levels, extend='both')\n",
    "\n",
    "ax.set_ylim(1013.25,700)\n",
    "ax.set_xticks([280,300,320])\n",
    "ax.set_xlim(xlong_min+67.+360.,xlong_max+360.-7)\n",
    "ax.set_xticklabels(xticks_format)\n",
    "ax.set_facecolor('0.1')\n",
    "ax.tick_params(labelsize=fontsize)\n",
    "ax.set_yticks([700,800,900,1000])\n",
    "ax.text(s='(a) dq/dt for hour '+'{:02d}'.format(hour1_string), x=0, y=1.02, \\\n",
    "        ha='left', va='bottom', \\\n",
    "        transform=ax.transAxes, fontsize=fontsize)\n",
    "ax_list.append(ax)\n",
    "\n",
    "ax = fig.add_subplot(222)\n",
    "contour_plot = ax.contourf(xx_midpoints+360., \\\n",
    "                           ptot_400_time_latmean_midpoints/100., \\\n",
    "                           diff_conv_latmean[hour1,:,:]*86400./1000., cmap='RdBu', \\\n",
    "                           levels=levels, extend='both')\n",
    "\n",
    "ax.set_ylim(1013.25,700)\n",
    "ax.set_xticks([280,300,320])\n",
    "ax.set_xlim(xlong_min+67.+360.,xlong_max+360.-7)\n",
    "ax.set_xticklabels(xticks_format)\n",
    "ax.set_facecolor('0.1')\n",
    "ax.tick_params(labelsize=fontsize)\n",
    "ax.set_yticks([700,800,900,1000])\n",
    "ax.text(s='(b) moist. converg. for hour '+'{:02d}'.format(hour1_string), x=0, y=1.02, \\\n",
    "        ha='left', va='bottom', \\\n",
    "        transform=ax.transAxes, fontsize=fontsize)\n",
    "ax_list.append(ax)\n",
    "\n",
    "ax = fig.add_subplot(223)\n",
    "contour_plot = ax.contourf(xx_midpoints+360., \\\n",
    "                           ptot_400_time_latmean_midpoints/100., \\\n",
    "                           dmsedt_diff_latmean[hour2,:,:]*86400./1000., cmap='RdBu', \\\n",
    "                           levels=levels, extend='both')\n",
    "\n",
    "ax.set_ylim(1013.25,700)\n",
    "ax.set_xticks([280,300,320])\n",
    "ax.set_xlim(xlong_min+67.+360.,xlong_max+360.-7)\n",
    "ax.set_xticklabels(xticks_format)\n",
    "ax.set_facecolor('0.1')\n",
    "ax.tick_params(labelsize=fontsize)\n",
    "ax.set_yticks([700,800,900,1000])\n",
    "ax.text(s='(c) dq/dt for hour '+'{:02d}'.format(hour2_string), x=0, y=1.02, \\\n",
    "        ha='left', va='bottom', \\\n",
    "        transform=ax.transAxes, fontsize=fontsize)\n",
    "ax_list.append(ax)\n",
    "\n",
    "ax = fig.add_subplot(224)\n",
    "contour_plot = ax.contourf(xx_midpoints+360., \\\n",
    "                           ptot_400_time_latmean_midpoints/100., \\\n",
    "                           diff_conv_latmean[hour2,:,:]*86400./1000., cmap='RdBu', \\\n",
    "                           levels=levels, extend='both')\n",
    "\n",
    "ax.set_ylim(1013.25,700)\n",
    "ax.set_xticks([280,300,320])\n",
    "ax.set_xlim(xlong_min+67.+360.,xlong_max+360.-7)\n",
    "ax.set_xticklabels(xticks_format)\n",
    "ax.set_facecolor('0.1')\n",
    "ax.tick_params(labelsize=fontsize)\n",
    "ax.set_yticks([700,800,900,1000])\n",
    "ax.text(s='(d) moist. converg. for hour '+'{:02d}'.format(hour2_string), x=0, y=1.02, \\\n",
    "        ha='left', va='bottom', \\\n",
    "        transform=ax.transAxes, fontsize=fontsize)\n",
    "ax_list.append(ax)\n",
    "\n",
    "fig.tight_layout(h_pad=2)\n",
    "\n",
    "axpos_bl = ax_list[2].get_position()\n",
    "axpos_br = ax_list[3].get_position()\n",
    "\n",
    "cbar_ax = fig.add_axes([axpos_bl.x0, axpos_bl.y0-0.175, axpos_br.x1-axpos_bl.x0, 0.045])\n",
    "cbar = fig.colorbar(contour_plot, cax=cbar_ax, orientation='horizontal')\n",
    "cbar_ax.tick_params(labelsize=fontsize)\n",
    "cbar.set_label('kJ kg$^{\\,-1}$ day$^{\\,-1}$', fontsize=fontsize)\n",
    "\n",
    "fig.savefig('dmsedt_and_mse_convergence_hours_'+\\\n",
    "            '{:02d}'.format(hour1_string)+\\\n",
    "            'and'+'{:02d}'.format(hour2_string)+'.png',\\\n",
    "            dpi=600, bbox_inches='tight')"
   ]
  },
  {
   "cell_type": "code",
   "execution_count": 144,
   "metadata": {
    "ExecuteTime": {
     "end_time": "2018-05-30T22:48:28.906857Z",
     "start_time": "2018-05-30T22:48:25.726023Z"
    }
   },
   "outputs": [
    {
     "data": {
      "image/png": "[encoded data removed]",
      "text/plain": [
       "<Figure size 468x252 with 5 Axes>"
      ]
     },
     "metadata": {},
     "output_type": "display_data"
    }
   ],
   "source": [
    "fontsize=12\n",
    "\n",
    "xlong_min = -154.76123\n",
    "xlong_max = -25.238678\n",
    "\n",
    "levels = numpy.arange(-3,3.1,0.5)\n",
    "\n",
    "fig = mp.figure(figsize=(6.5,3.5))\n",
    "\n",
    "xticks_deg_E=numpy.array((280,300,320))\n",
    "xticks = -(360-xticks_deg_E)\n",
    "xticks_format=[str(tick)+DEGREE_SIGN+'E' for tick in xticks_deg_E]\n",
    "\n",
    "ax_list = []\n",
    "\n",
    "hour1 = 13\n",
    "hour1_string = hour1-4+1\n",
    "\n",
    "hour2 = 14\n",
    "hour2_string = hour2-4+1\n",
    "\n",
    "ax = fig.add_subplot(221)\n",
    "contour_plot = ax.contourf(xx_midpoints+360., \\\n",
    "                           ptot_400_time_latmean_midpoints/100., \\\n",
    "                           dmsedt_diff_latmean[hour1,:,:]*86400./1000., cmap='RdBu',\\\n",
    "                           levels=levels, extend='both')\n",
    "\n",
    "ax.set_ylim(1013.25,700)\n",
    "ax.set_xticks([280,300,320])\n",
    "ax.set_xlim(xlong_min+67.+360.,xlong_max+360.-7)\n",
    "ax.set_xticklabels(xticks_format)\n",
    "ax.set_facecolor('0.1')\n",
    "ax.tick_params(labelsize=fontsize)\n",
    "ax.set_yticks([700,800,900,1000])\n",
    "ax.text(s='(a) dq/dt for hour '+'{:02d}'.format(hour1_string), x=0, y=1.02, \\\n",
    "        ha='left', va='bottom', \\\n",
    "        transform=ax.transAxes, fontsize=fontsize)\n",
    "ax_list.append(ax)\n",
    "\n",
    "ax = fig.add_subplot(222)\n",
    "contour_plot = ax.contourf(xx_midpoints+360., \\\n",
    "                           ptot_400_time_latmean_midpoints/100., \\\n",
    "                           diff_adv_latmean[hour1,:,:]*86400./1000., cmap='RdBu', \\\n",
    "                           levels=levels, extend='both')\n",
    "\n",
    "ax.set_ylim(1013.25,700)\n",
    "ax.set_xticks([280,300,320])\n",
    "ax.set_xlim(xlong_min+67.+360.,xlong_max+360.-7)\n",
    "ax.set_xticklabels(xticks_format)\n",
    "ax.set_facecolor('0.1')\n",
    "ax.tick_params(labelsize=fontsize)\n",
    "ax.set_yticks([700,800,900,1000])\n",
    "ax.text(s='(b) moist. converg. for hour '+'{:02d}'.format(hour1_string), x=0, y=1.02, \\\n",
    "        ha='left', va='bottom', \\\n",
    "        transform=ax.transAxes, fontsize=fontsize)\n",
    "ax_list.append(ax)\n",
    "\n",
    "ax = fig.add_subplot(223)\n",
    "contour_plot = ax.contourf(xx_midpoints+360., \\\n",
    "                           ptot_400_time_latmean_midpoints/100., \\\n",
    "                           dmsedt_diff_latmean[hour2,:,:]*86400./1000., cmap='RdBu', \\\n",
    "                           levels=levels, extend='both')\n",
    "\n",
    "ax.set_ylim(1013.25,700)\n",
    "ax.set_xticks([280,300,320])\n",
    "ax.set_xlim(xlong_min+67.+360.,xlong_max+360.-7)\n",
    "ax.set_xticklabels(xticks_format)\n",
    "ax.set_facecolor('0.1')\n",
    "ax.tick_params(labelsize=fontsize)\n",
    "ax.set_yticks([700,800,900,1000])\n",
    "ax.text(s='(c) dq/dt for hour '+'{:02d}'.format(hour2_string), x=0, y=1.02, \\\n",
    "        ha='left', va='bottom', \\\n",
    "        transform=ax.transAxes, fontsize=fontsize)\n",
    "ax_list.append(ax)\n",
    "\n",
    "ax = fig.add_subplot(224)\n",
    "contour_plot = ax.contourf(xx_midpoints+360., \\\n",
    "                           ptot_400_time_latmean_midpoints/100., \\\n",
    "                           diff_adv_latmean[hour2,:,:]*86400./1000., cmap='RdBu', \\\n",
    "                           levels=levels, extend='both')\n",
    "\n",
    "ax.set_ylim(1013.25,700)\n",
    "ax.set_xticks([280,300,320])\n",
    "ax.set_xlim(xlong_min+67.+360.,xlong_max+360.-7)\n",
    "ax.set_xticklabels(xticks_format)\n",
    "ax.set_facecolor('0.1')\n",
    "ax.tick_params(labelsize=fontsize)\n",
    "ax.set_yticks([700,800,900,1000])\n",
    "ax.text(s='(d) moist. converg. for hour '+'{:02d}'.format(hour2_string), x=0, y=1.02, \\\n",
    "        ha='left', va='bottom', \\\n",
    "        transform=ax.transAxes, fontsize=fontsize)\n",
    "ax_list.append(ax)\n",
    "\n",
    "fig.tight_layout(h_pad=2)\n",
    "\n",
    "axpos_bl = ax_list[2].get_position()\n",
    "axpos_br = ax_list[3].get_position()\n",
    "\n",
    "cbar_ax = fig.add_axes([axpos_bl.x0, axpos_bl.y0-0.175, axpos_br.x1-axpos_bl.x0, 0.045])\n",
    "cbar = fig.colorbar(contour_plot, cax=cbar_ax, orientation='horizontal')\n",
    "cbar_ax.tick_params(labelsize=fontsize)\n",
    "cbar.set_label('g kg$^{\\,-1}$ day$^{\\,-1}$', fontsize=fontsize)\n",
    "\n",
    "fig.savefig('dmsedt_and_mse_advection_hours_'+\\\n",
    "            '{:02d}'.format(hour1_string)+\\\n",
    "            'and'+'{:02d}'.format(hour2_string)+'.png',\\\n",
    "            dpi=600, bbox_inches='tight')"
   ]
  },
  {
   "cell_type": "code",
   "execution_count": 1,
   "metadata": {
    "ExecuteTime": {
     "end_time": "2018-05-30T22:49:26.357631Z",
     "start_time": "2018-05-30T22:49:26.099040Z"
    }
   },
   "outputs": [
    {
     "ename": "NameError",
     "evalue": "name 'numpy' is not defined",
     "output_type": "error",
     "traceback": [
      "\u001b[0;31m---------------------------------------------------------------------------\u001b[0m",
      "\u001b[0;31mNameError\u001b[0m                                 Traceback (most recent call last)",
      "\u001b[0;32m<ipython-input-1-c9234ab0197d>\u001b[0m in \u001b[0;36m<module>\u001b[0;34m()\u001b[0m\n\u001b[1;32m      4\u001b[0m \u001b[0mxlong_max\u001b[0m \u001b[0;34m=\u001b[0m \u001b[0;34m-\u001b[0m\u001b[0;36m25.238678\u001b[0m\u001b[0;34m\u001b[0m\u001b[0m\n\u001b[1;32m      5\u001b[0m \u001b[0;34m\u001b[0m\u001b[0m\n\u001b[0;32m----> 6\u001b[0;31m \u001b[0mlevels\u001b[0m \u001b[0;34m=\u001b[0m \u001b[0mnumpy\u001b[0m\u001b[0;34m.\u001b[0m\u001b[0marange\u001b[0m\u001b[0;34m(\u001b[0m\u001b[0;34m-\u001b[0m\u001b[0;36m10\u001b[0m\u001b[0;34m,\u001b[0m\u001b[0;36m10.1\u001b[0m\u001b[0;34m,\u001b[0m\u001b[0;36m2\u001b[0m\u001b[0;34m)\u001b[0m\u001b[0;34m\u001b[0m\u001b[0m\n\u001b[0m\u001b[1;32m      7\u001b[0m \u001b[0;34m\u001b[0m\u001b[0m\n\u001b[1;32m      8\u001b[0m \u001b[0mfig\u001b[0m \u001b[0;34m=\u001b[0m \u001b[0mmp\u001b[0m\u001b[0;34m.\u001b[0m\u001b[0mfigure\u001b[0m\u001b[0;34m(\u001b[0m\u001b[0mfigsize\u001b[0m\u001b[0;34m=\u001b[0m\u001b[0;34m(\u001b[0m\u001b[0;36m8\u001b[0m\u001b[0;34m,\u001b[0m\u001b[0;36m3.5\u001b[0m\u001b[0;34m)\u001b[0m\u001b[0;34m)\u001b[0m\u001b[0;34m\u001b[0m\u001b[0m\n",
      "\u001b[0;31mNameError\u001b[0m: name 'numpy' is not defined"
     ]
    }
   ],
   "source": [
    "fontsize=12\n",
    "\n",
    "xlong_min = -154.76123\n",
    "xlong_max = -25.238678\n",
    "\n",
    "levels = numpy.arange(-10,10.1,2)\n",
    "\n",
    "fig = mp.figure(figsize=(8,3.5))\n",
    "\n",
    "xticks_deg_E=numpy.array((280,300,320))\n",
    "xticks = -(360-xticks_deg_E)\n",
    "xticks_format=[str(tick)+DEGREE_SIGN+'E' for tick in xticks_deg_E]\n",
    "\n",
    "ax_list = []\n",
    "\n",
    "hour1 = 13\n",
    "hour1_string = hour1-4+1\n",
    "\n",
    "hour2 = 14\n",
    "hour2_string = hour2-4+1\n",
    "\n",
    "ax = fig.add_subplot(231)\n",
    "contour_plot = ax.contourf(xx_midpoints+360., \\\n",
    "                           ptot_400_time_latmean_midpoints/100., \\\n",
    "                           dmsedt_diff_latmean[hour1,:,:]*86400./1000., cmap='RdBu',\\\n",
    "                           levels=levels, extend='both')\n",
    "\n",
    "ax.set_ylim(1013.25,700)\n",
    "ax.set_xticks([280,300,320])\n",
    "ax.set_xlim(xlong_min+67.+360.,xlong_max+360.-7)\n",
    "ax.set_xticklabels(xticks_format)\n",
    "ax.set_facecolor('0.1')\n",
    "ax.tick_params(labelsize=fontsize)\n",
    "ax.set_yticks([700,800,900,1000])\n",
    "ax.text(s='(a) dq/dt', x=0, y=1.02, \\\n",
    "        ha='left', va='bottom', \\\n",
    "        transform=ax.transAxes, fontsize=fontsize)\n",
    "ax.text(s='hour '+'{:02d}'.format(hour1_string), x=0.95, y=0.91, \\\n",
    "        ha='right', va='top', \\\n",
    "        transform=ax.transAxes, fontsize=fontsize)\n",
    "ax_list.append(ax)\n",
    "\n",
    "ax = fig.add_subplot(232)\n",
    "contour_plot = ax.contourf(xx_midpoints+360., \\\n",
    "                           ptot_400_time_latmean_midpoints/100., \\\n",
    "                           diff_conv_latmean[hour1,:,:]*86400./1000., cmap='RdBu', \\\n",
    "                           levels=levels, extend='both')\n",
    "\n",
    "ax.set_ylim(1013.25,700)\n",
    "ax.set_xticks([280,300,320])\n",
    "ax.set_xlim(xlong_min+67.+360.,xlong_max+360.-7)\n",
    "ax.set_xticklabels(xticks_format)\n",
    "ax.set_facecolor('0.1')\n",
    "ax.tick_params(labelsize=fontsize)\n",
    "ax.set_yticks([700,800,900,1000])\n",
    "ax.text(s='(b) moisture convergence', x=0, y=1.02, \\\n",
    "        ha='left', va='bottom', \\\n",
    "        transform=ax.transAxes, fontsize=fontsize)\n",
    "ax.text(s='hour '+'{:02d}'.format(hour1_string), x=0.95, y=0.91, \\\n",
    "        ha='right', va='top', \\\n",
    "        transform=ax.transAxes, fontsize=fontsize)\n",
    "ax_list.append(ax)\n",
    "\n",
    "\n",
    "\n",
    "ax = fig.add_subplot(233)\n",
    "contour_plot = ax.contourf(xx_midpoints+360., \\\n",
    "                           ptot_400_time_latmean_midpoints/100., \\\n",
    "                           diff_adv_latmean[hour1,:,:]*86400./1000., cmap='RdBu', \\\n",
    "                           levels=levels, extend='both')\n",
    "\n",
    "ax.set_ylim(1013.25,700)\n",
    "ax.set_xticks([280,300,320])\n",
    "ax.set_xlim(xlong_min+67.+360.,xlong_max+360.-7)\n",
    "ax.set_xticklabels(xticks_format)\n",
    "ax.set_facecolor('0.1')\n",
    "ax.tick_params(labelsize=fontsize)\n",
    "ax.set_yticks([700,800,900,1000])\n",
    "ax.text(s='(c) moisture advection', x=0, y=1.02, \\\n",
    "        ha='left', va='bottom', \\\n",
    "        transform=ax.transAxes, fontsize=fontsize)\n",
    "ax.text(s='hour '+'{:02d}'.format(hour1_string), x=0.95, y=0.91, \\\n",
    "        ha='right', va='top', \\\n",
    "        transform=ax.transAxes, fontsize=fontsize)\n",
    "ax_list.append(ax)\n",
    "\n",
    "\n",
    "\n",
    "\n",
    "\n",
    "ax = fig.add_subplot(234)\n",
    "contour_plot = ax.contourf(xx_midpoints+360., \\\n",
    "                           ptot_400_time_latmean_midpoints/100., \\\n",
    "                           dmsedt_diff_latmean[hour2,:,:]*86400./1000., cmap='RdBu', \\\n",
    "                           levels=levels, extend='both')\n",
    "\n",
    "ax.set_ylim(1013.25,700)\n",
    "ax.set_xticks([280,300,320])\n",
    "ax.set_xlim(xlong_min+67.+360.,xlong_max+360.-7)\n",
    "ax.set_xticklabels(xticks_format)\n",
    "ax.set_facecolor('0.1')\n",
    "ax.tick_params(labelsize=fontsize)\n",
    "ax.set_yticks([700,800,900,1000])\n",
    "ax.text(s='(d) dq/dt', x=0, y=1.02, \\\n",
    "        ha='left', va='bottom', \\\n",
    "        transform=ax.transAxes, fontsize=fontsize)\n",
    "ax.text(s='hour '+'{:02d}'.format(hour2_string), x=0.95, y=0.91, \\\n",
    "        ha='right', va='top', \\\n",
    "        transform=ax.transAxes, fontsize=fontsize)\n",
    "ax_list.append(ax)\n",
    "\n",
    "\n",
    "ax = fig.add_subplot(235)\n",
    "contour_plot = ax.contourf(xx_midpoints+360., \\\n",
    "                           ptot_400_time_latmean_midpoints/100., \\\n",
    "                           diff_conv_latmean[hour2,:,:]*86400./1000., cmap='RdBu', \\\n",
    "                           levels=levels, extend='both')\n",
    "\n",
    "ax.set_ylim(1013.25,700)\n",
    "ax.set_xticks([280,300,320])\n",
    "ax.set_xlim(xlong_min+67.+360.,xlong_max+360.-7)\n",
    "ax.set_xticklabels(xticks_format)\n",
    "ax.set_facecolor('0.1')\n",
    "ax.tick_params(labelsize=fontsize)\n",
    "ax.set_yticks([700,800,900,1000])\n",
    "ax.text(s='(e) moisture convergence', x=0, y=1.02, \\\n",
    "        ha='left', va='bottom', \\\n",
    "        transform=ax.transAxes, fontsize=fontsize)\n",
    "ax.text(s='hour '+'{:02d}'.format(hour2_string), x=0.95, y=0.91, \\\n",
    "        ha='right', va='top', \\\n",
    "        transform=ax.transAxes, fontsize=fontsize)\n",
    "ax_list.append(ax)\n",
    "\n",
    "\n",
    "ax = fig.add_subplot(236)\n",
    "contour_plot = ax.contourf(xx_midpoints+360., \\\n",
    "                           ptot_400_time_latmean_midpoints/100., \\\n",
    "                           diff_adv_latmean[hour2,:,:]*86400./1000., cmap='RdBu', \\\n",
    "                           levels=levels, extend='both')\n",
    "\n",
    "ax.set_ylim(1013.25,700)\n",
    "ax.set_xticks([280,300,320])\n",
    "ax.set_xlim(xlong_min+67.+360.,xlong_max+360.-7)\n",
    "ax.set_xticklabels(xticks_format)\n",
    "ax.set_facecolor('0.1')\n",
    "ax.tick_params(labelsize=fontsize)\n",
    "ax.set_yticks([700,800,900,1000])\n",
    "ax.text(s='(f) moisture advection', x=0, y=1.02, \\\n",
    "        ha='left', va='bottom', \\\n",
    "        transform=ax.transAxes, fontsize=fontsize)\n",
    "ax.text(s='hour '+'{:02d}'.format(hour2_string), x=0.95, y=0.91, \\\n",
    "        ha='right', va='top', \\\n",
    "        transform=ax.transAxes, fontsize=fontsize)\n",
    "ax_list.append(ax)\n",
    "\n",
    "\n",
    "fig.tight_layout(h_pad=2)\n",
    "\n",
    "axpos_bl = ax_list[3].get_position()\n",
    "axpos_br = ax_list[5].get_position()\n",
    "\n",
    "cbar_ax = fig.add_axes([axpos_bl.x0, axpos_bl.y0-0.175, axpos_br.x1-axpos_bl.x0, 0.045])\n",
    "cbar = fig.colorbar(contour_plot, cax=cbar_ax, orientation='horizontal')\n",
    "cbar_ax.tick_params(labelsize=fontsize)\n",
    "cbar.set_label('g kg$^{\\,-1}$ day$^{\\,-1}$', fontsize=fontsize)\n",
    "\n",
    "fig.savefig('dmsedt_and_mse_convergence_and_advection_hours_'+\\\n",
    "            '{:02d}'.format(hour1_string)+\\\n",
    "            'and'+'{:02d}'.format(hour2_string)+'.png',\\\n",
    "            dpi=600, bbox_inches='tight')"
   ]
  },
  {
   "cell_type": "code",
   "execution_count": null,
   "metadata": {},
   "outputs": [],
   "source": []
  }
 ],
 "metadata": {
  "kernelspec": {
   "display_name": "Python 3",
   "language": "python",
   "name": "python3"
  },
  "language_info": {
   "codemirror_mode": {
    "name": "ipython",
    "version": 3
   },
   "file_extension": ".py",
   "mimetype": "text/x-python",
   "name": "python",
   "nbconvert_exporter": "python",
   "pygments_lexer": "ipython3",
   "version": "3.6.4"
  },
  "varInspector": {
   "cols": {
    "lenName": 16,
    "lenType": 16,
    "lenVar": 40
   },
   "kernels_config": {
    "python": {
     "delete_cmd_postfix": "",
     "delete_cmd_prefix": "del ",
     "library": "var_list.py",
     "varRefreshCmd": "print(var_dic_list())"
    },
    "r": {
     "delete_cmd_postfix": ") ",
     "delete_cmd_prefix": "rm(",
     "library": "var_list.r",
     "varRefreshCmd": "cat(var_dic_list()) "
    }
   },
   "types_to_exclude": [
    "module",
    "function",
    "builtin_function_or_method",
    "instance",
    "_Feature"
   ],
   "window_display": false
  }
 },
 "nbformat": 4,
 "nbformat_minor": 2
}
