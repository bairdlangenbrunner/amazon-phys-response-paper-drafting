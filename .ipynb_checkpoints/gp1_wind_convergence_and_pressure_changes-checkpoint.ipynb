{
 "cells": [
  {
   "cell_type": "code",
   "execution_count": 1,
   "metadata": {
    "ExecuteTime": {
     "end_time": "2018-05-11T02:08:55.112931Z",
     "start_time": "2018-05-11T02:08:51.155492Z"
    }
   },
   "outputs": [],
   "source": [
    "import numpy\n",
    "import xarray\n",
    "import matplotlib\n",
    "import matplotlib.pyplot as mp\n",
    "import datetime\n",
    "import matplotlib.colors\n",
    "import scipy.stats\n",
    "import scipy.ndimage\n",
    "import itertools\n",
    "import string\n",
    "import matplotlib.patches\n",
    "import glob\n",
    "import astropy.convolution\n",
    "\n",
    "import wrf\n",
    "import netCDF4\n",
    "\n",
    "import pandas\n",
    "\n",
    "import matplotlib.ticker\n",
    "import cartopy.mpl.gridliner #import LONGITUDE_FORMATTER, LATITUDE_FORMATTER\n",
    "\n",
    "import mpl_toolkits\n",
    "import cartopy\n",
    "\n",
    "DEGREE_SIGN = u'\\u00B0'\n",
    "mp.rcParams.update({'mathtext.default': 'regular'})\n",
    "\n",
    "% matplotlib inline"
   ]
  },
  {
   "cell_type": "code",
   "execution_count": 2,
   "metadata": {
    "ExecuteTime": {
     "end_time": "2018-05-11T02:08:55.145093Z",
     "start_time": "2018-05-11T02:08:55.139847Z"
    }
   },
   "outputs": [],
   "source": [
    "run_info = 'FMAASO'\n",
    "skip_time=0"
   ]
  },
  {
   "cell_type": "markdown",
   "metadata": {},
   "source": [
    "# opening mean fields"
   ]
  },
  {
   "cell_type": "markdown",
   "metadata": {},
   "source": [
    "## control data"
   ]
  },
  {
   "cell_type": "code",
   "execution_count": 3,
   "metadata": {
    "ExecuteTime": {
     "end_time": "2018-05-11T02:08:55.376435Z",
     "start_time": "2018-05-11T02:08:55.161535Z"
    }
   },
   "outputs": [],
   "source": [
    "root_dir = '/beegfs/DATA/pritchard/blangenb/WRF_ARCHIVE/CHEYENNE/FMAASO/400/ens_mean_wrfout_files'\n",
    "file_list = glob.glob(root_dir+'/'+'wrfout*.nc')\n",
    "ds_list = [netCDF4.Dataset(file) for file in file_list]"
   ]
  },
  {
   "cell_type": "raw",
   "metadata": {
    "ExecuteTime": {
     "end_time": "2018-04-20T20:37:06.170072Z",
     "start_time": "2018-04-20T20:36:46.200664Z"
    }
   },
   "source": [
    "ptot_400 = wrf.getvar(ds_list, 'p', timeidx=wrf.ALL_TIMES).values\n",
    "wa_400 = wrf.getvar(ds_list, 'wa', timeidx=wrf.ALL_TIMES).values\n",
    "ua_400 = wrf.getvar(ds_list, 'ua', timeidx=wrf.ALL_TIMES).values\n",
    "va_400 = wrf.getvar(ds_list, 'va', timeidx=wrf.ALL_TIMES).values\n",
    "tk_400 = wrf.getvar(ds_list, 'tk', timeidx=wrf.ALL_TIMES).values\n",
    "prw_400 = wrf.getvar(ds_list, 'prw', timeidx=wrf.ALL_TIMES).values\n",
    "\n",
    "numpy.save('DATA_ptot_400.npy', ptot_400)\n",
    "numpy.save('DATA_wa_400.npy', wa_400)\n",
    "numpy.save('DATA_ua_400.npy', ua_400)\n",
    "numpy.save('DATA_va_400.npy', va_400)\n",
    "numpy.save('DATA_tk_400.npy', tk_400)\n",
    "numpy.save('DATA_prw_400.npy', prw_400)"
   ]
  },
  {
   "cell_type": "code",
   "execution_count": 4,
   "metadata": {
    "ExecuteTime": {
     "end_time": "2018-05-11T02:09:35.725681Z",
     "start_time": "2018-05-11T02:08:55.465339Z"
    }
   },
   "outputs": [],
   "source": [
    "ptot_400 = numpy.load('DATA_ptot_400.npy')\n",
    "#wa_400 = numpy.load('DATA_wa_400.npy')\n",
    "ua_400 = numpy.load('DATA_ua_400.npy')\n",
    "va_400 = numpy.load('DATA_va_400.npy')\n",
    "#tk_400 = numpy.load('DATA_tk_400.npy')\n",
    "#prw_400 = numpy.load('DATA_prw_400.npy')"
   ]
  },
  {
   "cell_type": "code",
   "execution_count": 5,
   "metadata": {
    "ExecuteTime": {
     "end_time": "2018-05-11T02:09:40.015498Z",
     "start_time": "2018-05-11T02:09:35.906766Z"
    }
   },
   "outputs": [],
   "source": [
    "cont_mfds = xarray.open_mfdataset(root_dir + '/' + 'wrfout*.nc')"
   ]
  },
  {
   "cell_type": "code",
   "execution_count": 6,
   "metadata": {
    "ExecuteTime": {
     "end_time": "2018-05-11T02:09:42.159399Z",
     "start_time": "2018-05-11T02:09:40.412553Z"
    }
   },
   "outputs": [],
   "source": [
    "time = cont_mfds['Times'].values\n",
    "xlat = cont_mfds['XLAT'].values[0,:,:]\n",
    "xlong = cont_mfds['XLONG'].values[0,:,:]\n",
    "landmask = cont_mfds['LANDMASK'].values[0,:,:]\n",
    "landmask_midpoints = landmask[1:,1:]"
   ]
  },
  {
   "cell_type": "code",
   "execution_count": 7,
   "metadata": {
    "ExecuteTime": {
     "end_time": "2018-05-11T02:09:42.581901Z",
     "start_time": "2018-05-11T02:09:42.570485Z"
    }
   },
   "outputs": [],
   "source": [
    "qvapor_400 = cont_mfds['QVAPOR']\n",
    "u_400 = cont_mfds['U']\n",
    "v_400 = cont_mfds['V']\n",
    "w_400 = cont_mfds['W']\n",
    "qcloud_400 = cont_mfds['QCLOUD']\n",
    "qrain_400 = cont_mfds['QRAIN']\n",
    "psfc_400 = cont_mfds['PSFC']"
   ]
  },
  {
   "cell_type": "code",
   "execution_count": 8,
   "metadata": {
    "ExecuteTime": {
     "end_time": "2018-05-11T02:10:21.406547Z",
     "start_time": "2018-05-11T02:09:42.988755Z"
    }
   },
   "outputs": [],
   "source": [
    "ua_400_700mb = wrf.interplevel(ua_400, ptot_400/100., 700.)\n",
    "ua_400_800mb = wrf.interplevel(ua_400, ptot_400/100., 800.)\n",
    "ua_400_860mb = wrf.interplevel(ua_400, ptot_400/100., 860.)\n",
    "ua_400_900mb = wrf.interplevel(ua_400, ptot_400/100., 900.)\n",
    "ua_400_1000mb = wrf.interplevel(ua_400, ptot_400/100., 1000.)"
   ]
  },
  {
   "cell_type": "code",
   "execution_count": 146,
   "metadata": {
    "ExecuteTime": {
     "end_time": "2018-05-11T21:14:49.632903Z",
     "start_time": "2018-05-11T21:14:37.979622Z"
    }
   },
   "outputs": [],
   "source": [
    "ua_400_200mb = wrf.interplevel(ua_400, ptot_400/100., 200.)\n",
    "ua_400_500mb = wrf.interplevel(ua_400, ptot_400/100., 500.)"
   ]
  },
  {
   "cell_type": "code",
   "execution_count": 9,
   "metadata": {
    "ExecuteTime": {
     "end_time": "2018-05-11T02:11:00.585315Z",
     "start_time": "2018-05-11T02:10:21.822311Z"
    }
   },
   "outputs": [],
   "source": [
    "va_400_700mb = wrf.interplevel(va_400, ptot_400/100., 700.)\n",
    "va_400_800mb = wrf.interplevel(va_400, ptot_400/100., 800.)\n",
    "va_400_860mb = wrf.interplevel(va_400, ptot_400/100., 860.)\n",
    "va_400_900mb = wrf.interplevel(va_400, ptot_400/100., 900.)\n",
    "va_400_1000mb = wrf.interplevel(va_400, ptot_400/100., 1000.)"
   ]
  },
  {
   "cell_type": "code",
   "execution_count": 147,
   "metadata": {
    "ExecuteTime": {
     "end_time": "2018-05-11T21:15:03.794573Z",
     "start_time": "2018-05-11T21:14:51.627519Z"
    }
   },
   "outputs": [],
   "source": [
    "va_400_200mb = wrf.interplevel(va_400, ptot_400/100., 200.)\n",
    "va_400_500mb = wrf.interplevel(va_400, ptot_400/100., 500.)"
   ]
  },
  {
   "cell_type": "markdown",
   "metadata": {},
   "source": [
    "## phys data"
   ]
  },
  {
   "cell_type": "code",
   "execution_count": 10,
   "metadata": {
    "ExecuteTime": {
     "end_time": "2018-05-11T02:11:01.139301Z",
     "start_time": "2018-05-11T02:11:01.015664Z"
    }
   },
   "outputs": [],
   "source": [
    "root_dir = '/beegfs/DATA/pritchard/blangenb/WRF_ARCHIVE/CHEYENNE/FMAASO/1000/ens_mean_wrfout_files'\n",
    "file_list = glob.glob(root_dir+'/'+'wrfout*.nc')\n",
    "ds_list = [netCDF4.Dataset(file) for file in file_list]"
   ]
  },
  {
   "cell_type": "raw",
   "metadata": {
    "ExecuteTime": {
     "end_time": "2018-04-19T00:43:37.640789Z",
     "start_time": "2018-04-19T00:43:15.810474Z"
    }
   },
   "source": [
    "ptot_1000 = wrf.getvar(ds_list, 'p', timeidx=wrf.ALL_TIMES).values\n",
    "wa_1000 = wrf.getvar(ds_list, 'wa', timeidx=wrf.ALL_TIMES).values\n",
    "ua_1000 = wrf.getvar(ds_list, 'ua', timeidx=wrf.ALL_TIMES).values\n",
    "va_1000 = wrf.getvar(ds_list, 'va', timeidx=wrf.ALL_TIMES).values\n",
    "tk_1000 = wrf.getvar(ds_list, 'tk', timeidx=wrf.ALL_TIMES).values\n",
    "prw_1000 = wrf.getvar(ds_list, 'prw', timeidx=wrf.ALL_TIMES).values\n",
    "\n",
    "numpy.save('DATA_ptot_1000.npy', ptot_1000)\n",
    "numpy.save('DATA_wa_1000.npy', wa_1000)\n",
    "numpy.save('DATA_ua_1000.npy', ua_1000)\n",
    "numpy.save('DATA_va_1000.npy', va_1000)\n",
    "numpy.save('DATA_tk_1000.npy', tk_1000)\n",
    "numpy.save('DATA_prw_1000.npy', prw_1000)"
   ]
  },
  {
   "cell_type": "code",
   "execution_count": 11,
   "metadata": {
    "ExecuteTime": {
     "end_time": "2018-05-11T02:11:40.947914Z",
     "start_time": "2018-05-11T02:11:01.570387Z"
    }
   },
   "outputs": [],
   "source": [
    "ptot_1000 = numpy.load('DATA_ptot_1000.npy')\n",
    "#wa_1000 = numpy.load('DATA_wa_1000.npy')\n",
    "ua_1000 = numpy.load('DATA_ua_1000.npy')\n",
    "va_1000 = numpy.load('DATA_va_1000.npy')\n",
    "#tk_1000 = numpy.load('DATA_tk_1000.npy')\n",
    "#prw_1000 = numpy.load('DATA_prw_1000.npy')"
   ]
  },
  {
   "cell_type": "code",
   "execution_count": 12,
   "metadata": {
    "ExecuteTime": {
     "end_time": "2018-05-11T02:11:45.623597Z",
     "start_time": "2018-05-11T02:11:41.580948Z"
    }
   },
   "outputs": [],
   "source": [
    "phys_mfds = xarray.open_mfdataset(root_dir + '/' + 'wrfout*.nc')"
   ]
  },
  {
   "cell_type": "code",
   "execution_count": 13,
   "metadata": {
    "ExecuteTime": {
     "end_time": "2018-05-11T02:11:46.363772Z",
     "start_time": "2018-05-11T02:11:46.352155Z"
    }
   },
   "outputs": [],
   "source": [
    "qvapor_1000 = phys_mfds['QVAPOR']\n",
    "u_1000 = phys_mfds['U']\n",
    "v_1000 = phys_mfds['V']\n",
    "w_1000 = phys_mfds['W']\n",
    "qcloud_1000 = phys_mfds['QCLOUD']\n",
    "qrain_1000 = phys_mfds['QRAIN']\n",
    "psfc_1000 = phys_mfds['PSFC']"
   ]
  },
  {
   "cell_type": "code",
   "execution_count": null,
   "metadata": {
    "ExecuteTime": {
     "end_time": "2018-05-11T21:04:47.822198Z",
     "start_time": "2018-05-11T21:04:09.133058Z"
    }
   },
   "outputs": [],
   "source": [
    "ua_1000_700mb = wrf.interplevel(ua_1000, ptot_1000/100., 700.)\n",
    "ua_1000_800mb = wrf.interplevel(ua_1000, ptot_1000/100., 800.)\n",
    "ua_1000_860mb = wrf.interplevel(ua_1000, ptot_1000/100., 860.)\n",
    "ua_1000_900mb = wrf.interplevel(ua_1000, ptot_1000/100., 900.)\n",
    "ua_1000_1000mb = wrf.interplevel(ua_1000, ptot_1000/100., 1000.)"
   ]
  },
  {
   "cell_type": "code",
   "execution_count": 140,
   "metadata": {
    "ExecuteTime": {
     "end_time": "2018-05-11T21:07:03.328286Z",
     "start_time": "2018-05-11T21:06:51.745860Z"
    }
   },
   "outputs": [],
   "source": [
    "ua_1000_200mb = wrf.interplevel(ua_1000, ptot_1000/100., 200.)\n",
    "ua_1000_500mb = wrf.interplevel(ua_1000, ptot_1000/100., 500.)"
   ]
  },
  {
   "cell_type": "code",
   "execution_count": 15,
   "metadata": {
    "ExecuteTime": {
     "end_time": "2018-05-11T02:13:10.133554Z",
     "start_time": "2018-05-11T02:12:28.969317Z"
    }
   },
   "outputs": [],
   "source": [
    "va_1000_700mb = wrf.interplevel(va_1000, ptot_1000/100., 700.)\n",
    "va_1000_800mb = wrf.interplevel(va_1000, ptot_1000/100., 800.)\n",
    "va_1000_860mb = wrf.interplevel(va_1000, ptot_1000/100., 860.)\n",
    "va_1000_900mb = wrf.interplevel(va_1000, ptot_1000/100., 900.)\n",
    "va_1000_1000mb = wrf.interplevel(va_1000, ptot_1000/100., 1000.)"
   ]
  },
  {
   "cell_type": "code",
   "execution_count": 142,
   "metadata": {
    "ExecuteTime": {
     "end_time": "2018-05-11T21:07:42.601168Z",
     "start_time": "2018-05-11T21:07:31.111366Z"
    }
   },
   "outputs": [],
   "source": [
    "va_1000_200mb = wrf.interplevel(va_1000, ptot_1000/100., 200.)\n",
    "va_1000_500mb = wrf.interplevel(va_1000, ptot_1000/100., 500.)"
   ]
  },
  {
   "cell_type": "markdown",
   "metadata": {},
   "source": [
    "## calculate omega at midpoints"
   ]
  },
  {
   "cell_type": "raw",
   "metadata": {
    "ExecuteTime": {
     "end_time": "2018-04-16T21:12:38.822097Z",
     "start_time": "2018-04-16T21:12:37.718783Z"
    }
   },
   "source": [
    "root_dir = '/beegfs/DATA/pritchard/blangenb/WRF_ARCHIVE/CHEYENNE/FMAASO/400/ens_mean_wrfout_files'\n",
    "file_list = [root_dir+'/wrfout_d01_1979-01-'+'{:02d}'.format(day)+'_00:00:00_ens_mean.nc' for day in range(1,12)]\n",
    "dataset_list = [netCDF4.Dataset(file) for file in file_list]"
   ]
  },
  {
   "cell_type": "raw",
   "metadata": {
    "ExecuteTime": {
     "end_time": "2018-04-16T21:17:44.369972Z",
     "start_time": "2018-04-16T21:13:06.767301Z"
    }
   },
   "source": [
    "omega_400 = wrf.getvar(dataset_list, 'omega', timeidx=wrf.ALL_TIMES)"
   ]
  },
  {
   "cell_type": "raw",
   "metadata": {
    "ExecuteTime": {
     "end_time": "2018-04-16T21:18:29.729907Z",
     "start_time": "2018-04-16T21:18:28.834486Z"
    }
   },
   "source": [
    "root_dir = '/beegfs/DATA/pritchard/blangenb/WRF_ARCHIVE/CHEYENNE/FMAASO/1000/ens_mean_wrfout_files'\n",
    "file_list = [root_dir+'/wrfout_d01_1979-01-'+'{:02d}'.format(day)+'_00:00:00_ens_mean.nc' for day in range(1,12)]\n",
    "dataset_list = [netCDF4.Dataset(file) for file in file_list]"
   ]
  },
  {
   "cell_type": "raw",
   "metadata": {
    "ExecuteTime": {
     "end_time": "2018-04-16T21:23:22.307982Z",
     "start_time": "2018-04-16T21:18:45.834677Z"
    }
   },
   "source": [
    "omega_1000 = wrf.getvar(dataset_list, 'omega', timeidx=wrf.ALL_TIMES)"
   ]
  },
  {
   "cell_type": "raw",
   "metadata": {
    "ExecuteTime": {
     "end_time": "2018-04-16T21:25:15.545224Z",
     "start_time": "2018-04-16T21:25:09.744320Z"
    }
   },
   "source": [
    "numpy.save('DATA_omega_400.npy', omega_400)\n",
    "numpy.save('DATA_omega_1000.npy', omega_1000)"
   ]
  },
  {
   "cell_type": "code",
   "execution_count": 16,
   "metadata": {
    "ExecuteTime": {
     "end_time": "2018-05-11T02:14:26.941792Z",
     "start_time": "2018-05-11T02:13:10.893078Z"
    }
   },
   "outputs": [],
   "source": [
    "omega_400 = numpy.load('DATA_omega_400.npy')\n",
    "omega_1000 = numpy.load('DATA_omega_1000.npy')"
   ]
  },
  {
   "cell_type": "code",
   "execution_count": 17,
   "metadata": {
    "ExecuteTime": {
     "end_time": "2018-05-11T02:14:32.200322Z",
     "start_time": "2018-05-11T02:14:27.764144Z"
    }
   },
   "outputs": [],
   "source": [
    "ptot_400 = numpy.load('DATA_ptot_400.npy')\n",
    "ptot_1000 = numpy.load('DATA_ptot_1000.npy')"
   ]
  },
  {
   "cell_type": "markdown",
   "metadata": {},
   "source": [
    "# calculate surface pressure changes"
   ]
  },
  {
   "cell_type": "code",
   "execution_count": null,
   "metadata": {
    "ExecuteTime": {
     "start_time": "2018-05-11T02:35:14.403Z"
    }
   },
   "outputs": [],
   "source": [
    "psfc_diffs = psfc_1000.values - psfc_400.values"
   ]
  },
  {
   "cell_type": "code",
   "execution_count": 40,
   "metadata": {
    "ExecuteTime": {
     "end_time": "2018-05-11T02:26:59.775833Z",
     "start_time": "2018-05-11T02:26:59.747069Z"
    }
   },
   "outputs": [],
   "source": [
    "psfc_diffs_tm_day1 = numpy.mean(psfc_diffs[:24,:,:], axis=0)\n",
    "psfc_diffs_tm_2to10 = numpy.mean(psfc_diffs[24:,:,:], axis=0)"
   ]
  },
  {
   "cell_type": "code",
   "execution_count": 41,
   "metadata": {
    "ExecuteTime": {
     "end_time": "2018-05-11T02:27:00.917903Z",
     "start_time": "2018-05-11T02:27:00.858537Z"
    }
   },
   "outputs": [],
   "source": [
    "# replace nans with gaussian weights using astropy\n",
    "kernel_std = 1\n",
    "kernel = astropy.convolution.Gaussian2DKernel(x_stddev=kernel_std, y_stddev=kernel_std)\n",
    "\n",
    "field = psfc_diffs_tm_2to10\n",
    "field_convolved_psfc_2to10 = astropy.convolution.convolve(field, kernel)"
   ]
  },
  {
   "cell_type": "markdown",
   "metadata": {},
   "source": [
    "# plots of low-level wind changes\n",
    "\n",
    "* Use wrf to pull out specific pressure level"
   ]
  },
  {
   "cell_type": "code",
   "execution_count": 18,
   "metadata": {
    "ExecuteTime": {
     "end_time": "2018-05-11T02:14:33.223115Z",
     "start_time": "2018-05-11T02:14:33.025959Z"
    }
   },
   "outputs": [],
   "source": [
    "diff_ua_700mb = ua_1000_700mb - ua_400_700mb\n",
    "diff_ua_800mb = ua_1000_800mb - ua_400_800mb\n",
    "diff_ua_860mb = ua_1000_860mb - ua_400_860mb\n",
    "diff_ua_900mb = ua_1000_900mb - ua_400_900mb"
   ]
  },
  {
   "cell_type": "code",
   "execution_count": 148,
   "metadata": {
    "ExecuteTime": {
     "end_time": "2018-05-11T21:15:05.905248Z",
     "start_time": "2018-05-11T21:15:05.791062Z"
    }
   },
   "outputs": [],
   "source": [
    "diff_ua_200mb = ua_1000_200mb - ua_400_200mb\n",
    "diff_ua_500mb = ua_1000_500mb - ua_400_500mb"
   ]
  },
  {
   "cell_type": "code",
   "execution_count": 19,
   "metadata": {
    "ExecuteTime": {
     "end_time": "2018-05-11T02:14:34.258893Z",
     "start_time": "2018-05-11T02:14:34.066327Z"
    }
   },
   "outputs": [],
   "source": [
    "diff_va_700mb = va_1000_700mb - va_400_700mb\n",
    "diff_va_800mb = va_1000_800mb - va_400_800mb\n",
    "diff_va_860mb = va_1000_860mb - va_400_860mb\n",
    "diff_va_900mb = va_1000_900mb - va_400_900mb"
   ]
  },
  {
   "cell_type": "code",
   "execution_count": 149,
   "metadata": {
    "ExecuteTime": {
     "end_time": "2018-05-11T21:15:48.282975Z",
     "start_time": "2018-05-11T21:15:48.168053Z"
    }
   },
   "outputs": [],
   "source": [
    "diff_va_200mb = va_1000_200mb - va_400_200mb\n",
    "diff_va_500mb = va_1000_500mb - va_400_500mb"
   ]
  },
  {
   "cell_type": "code",
   "execution_count": 20,
   "metadata": {
    "ExecuteTime": {
     "end_time": "2018-05-11T02:14:35.202161Z",
     "start_time": "2018-05-11T02:14:35.097599Z"
    }
   },
   "outputs": [],
   "source": [
    "diff_ua_1000mb = ua_1000_1000mb - ua_400_1000mb\n",
    "diff_va_1000mb = va_1000_1000mb - va_400_1000mb"
   ]
  },
  {
   "cell_type": "code",
   "execution_count": 150,
   "metadata": {
    "ExecuteTime": {
     "end_time": "2018-05-11T21:15:54.757539Z",
     "start_time": "2018-05-11T21:15:54.245726Z"
    }
   },
   "outputs": [],
   "source": [
    "diff_ua_500mb_tm_day1 = numpy.nanmean(diff_ua_500mb[:24,:,:], axis=0)\n",
    "diff_va_500mb_tm_day1 = numpy.nanmean(diff_va_500mb[:24,:,:], axis=0)\n",
    "diff_ua_500mb_tm_2to10 = numpy.nanmean(diff_ua_500mb[24:,:,:], axis=0)\n",
    "diff_va_500mb_tm_2to10 = numpy.nanmean(diff_va_500mb[24:,:,:], axis=0)\n",
    "\n",
    "diff_ua_200mb_tm_day1 = numpy.nanmean(diff_ua_200mb[:24,:,:], axis=0)\n",
    "diff_va_200mb_tm_day1 = numpy.nanmean(diff_va_200mb[:24,:,:], axis=0)\n",
    "diff_ua_200mb_tm_2to10 = numpy.nanmean(diff_ua_200mb[24:,:,:], axis=0)\n",
    "diff_va_200mb_tm_2to10 = numpy.nanmean(diff_va_200mb[24:,:,:], axis=0)"
   ]
  },
  {
   "cell_type": "code",
   "execution_count": 31,
   "metadata": {
    "ExecuteTime": {
     "end_time": "2018-05-11T02:25:03.287786Z",
     "start_time": "2018-05-11T02:25:02.015461Z"
    }
   },
   "outputs": [
    {
     "name": "stderr",
     "output_type": "stream",
     "text": [
      "/export/home/blangenb/anaconda3/lib/python3.6/site-packages/ipykernel_launcher.py:1: RuntimeWarning: Mean of empty slice\n",
      "  \"\"\"Entry point for launching an IPython kernel.\n",
      "/export/home/blangenb/anaconda3/lib/python3.6/site-packages/ipykernel_launcher.py:2: RuntimeWarning: Mean of empty slice\n",
      "  \n",
      "/export/home/blangenb/anaconda3/lib/python3.6/site-packages/ipykernel_launcher.py:3: RuntimeWarning: Mean of empty slice\n",
      "  This is separate from the ipykernel package so we can avoid doing imports until\n",
      "/export/home/blangenb/anaconda3/lib/python3.6/site-packages/ipykernel_launcher.py:4: RuntimeWarning: Mean of empty slice\n",
      "  after removing the cwd from sys.path.\n",
      "/export/home/blangenb/anaconda3/lib/python3.6/site-packages/ipykernel_launcher.py:6: RuntimeWarning: Mean of empty slice\n",
      "  \n",
      "/export/home/blangenb/anaconda3/lib/python3.6/site-packages/ipykernel_launcher.py:7: RuntimeWarning: Mean of empty slice\n",
      "  import sys\n",
      "/export/home/blangenb/anaconda3/lib/python3.6/site-packages/ipykernel_launcher.py:8: RuntimeWarning: Mean of empty slice\n",
      "  \n",
      "/export/home/blangenb/anaconda3/lib/python3.6/site-packages/ipykernel_launcher.py:9: RuntimeWarning: Mean of empty slice\n",
      "  if __name__ == '__main__':\n",
      "/export/home/blangenb/anaconda3/lib/python3.6/site-packages/ipykernel_launcher.py:11: RuntimeWarning: Mean of empty slice\n",
      "  # This is added back by InteractiveShellApp.init_path()\n",
      "/export/home/blangenb/anaconda3/lib/python3.6/site-packages/ipykernel_launcher.py:12: RuntimeWarning: Mean of empty slice\n",
      "  if sys.path[0] == '':\n",
      "/export/home/blangenb/anaconda3/lib/python3.6/site-packages/ipykernel_launcher.py:13: RuntimeWarning: Mean of empty slice\n",
      "  del sys.path[0]\n",
      "/export/home/blangenb/anaconda3/lib/python3.6/site-packages/ipykernel_launcher.py:14: RuntimeWarning: Mean of empty slice\n",
      "  \n",
      "/export/home/blangenb/anaconda3/lib/python3.6/site-packages/ipykernel_launcher.py:16: RuntimeWarning: Mean of empty slice\n",
      "  app.launch_new_instance()\n",
      "/export/home/blangenb/anaconda3/lib/python3.6/site-packages/ipykernel_launcher.py:17: RuntimeWarning: Mean of empty slice\n",
      "/export/home/blangenb/anaconda3/lib/python3.6/site-packages/ipykernel_launcher.py:18: RuntimeWarning: Mean of empty slice\n",
      "/export/home/blangenb/anaconda3/lib/python3.6/site-packages/ipykernel_launcher.py:19: RuntimeWarning: Mean of empty slice\n",
      "/export/home/blangenb/anaconda3/lib/python3.6/site-packages/ipykernel_launcher.py:21: RuntimeWarning: Mean of empty slice\n",
      "/export/home/blangenb/anaconda3/lib/python3.6/site-packages/ipykernel_launcher.py:22: RuntimeWarning: Mean of empty slice\n",
      "/export/home/blangenb/anaconda3/lib/python3.6/site-packages/ipykernel_launcher.py:23: RuntimeWarning: Mean of empty slice\n",
      "/export/home/blangenb/anaconda3/lib/python3.6/site-packages/ipykernel_launcher.py:24: RuntimeWarning: Mean of empty slice\n"
     ]
    }
   ],
   "source": [
    "diff_ua_700mb_tm_day1 = numpy.nanmean(diff_ua_700mb[:24,:,:], axis=0)\n",
    "diff_va_700mb_tm_day1 = numpy.nanmean(diff_va_700mb[:24,:,:], axis=0)\n",
    "diff_ua_700mb_tm_2to10 = numpy.nanmean(diff_ua_700mb[24:,:,:], axis=0)\n",
    "diff_va_700mb_tm_2to10 = numpy.nanmean(diff_va_700mb[24:,:,:], axis=0)\n",
    "\n",
    "diff_ua_800mb_tm_day1 = numpy.nanmean(diff_ua_800mb[:24,:,:], axis=0)\n",
    "diff_va_800mb_tm_day1 = numpy.nanmean(diff_va_800mb[:24,:,:], axis=0)\n",
    "diff_ua_800mb_tm_2to10 = numpy.nanmean(diff_ua_800mb[24:,:,:], axis=0)\n",
    "diff_va_800mb_tm_2to10 = numpy.nanmean(diff_va_800mb[24:,:,:], axis=0)\n",
    "\n",
    "diff_ua_860mb_tm_day1 = numpy.nanmean(diff_ua_860mb[:24,:,:], axis=0)\n",
    "diff_va_860mb_tm_day1 = numpy.nanmean(diff_va_860mb[:24,:,:], axis=0)\n",
    "diff_ua_860mb_tm_2to10 = numpy.nanmean(diff_ua_860mb[24:,:,:], axis=0)\n",
    "diff_va_860mb_tm_2to10 = numpy.nanmean(diff_va_860mb[24:,:,:], axis=0)\n",
    "\n",
    "diff_ua_900mb_tm_day1 = numpy.nanmean(diff_ua_900mb[:24,:,:], axis=0)\n",
    "diff_va_900mb_tm_day1 = numpy.nanmean(diff_va_900mb[:24,:,:], axis=0)\n",
    "diff_ua_900mb_tm_2to10 = numpy.nanmean(diff_ua_900mb[24:,:,:], axis=0)\n",
    "diff_va_900mb_tm_2to10 = numpy.nanmean(diff_va_900mb[24:,:,:], axis=0)\n",
    "\n",
    "diff_ua_1000mb_tm_day1 = numpy.nanmean(diff_ua_1000mb[:24,:,:], axis=0)\n",
    "diff_va_1000mb_tm_day1 = numpy.nanmean(diff_va_1000mb[:24,:,:], axis=0)\n",
    "diff_ua_1000mb_tm_2to10 = numpy.nanmean(diff_ua_1000mb[24:,:,:], axis=0)\n",
    "diff_va_1000mb_tm_2to10 = numpy.nanmean(diff_va_1000mb[24:,:,:], axis=0)"
   ]
  },
  {
   "cell_type": "markdown",
   "metadata": {},
   "source": [
    "# Define standard kernel"
   ]
  },
  {
   "cell_type": "code",
   "execution_count": 109,
   "metadata": {
    "ExecuteTime": {
     "end_time": "2018-05-11T02:43:59.478111Z",
     "start_time": "2018-05-11T02:43:59.472921Z"
    }
   },
   "outputs": [],
   "source": [
    "kernel_std=5"
   ]
  },
  {
   "cell_type": "code",
   "execution_count": 110,
   "metadata": {
    "ExecuteTime": {
     "end_time": "2018-05-11T02:44:04.148186Z",
     "start_time": "2018-05-11T02:44:00.416159Z"
    }
   },
   "outputs": [],
   "source": [
    "# replace nans with gaussian weights using astropy\n",
    "kernel = astropy.convolution.Gaussian2DKernel(x_stddev=kernel_std, y_stddev=kernel_std)\n",
    "\n",
    "# for day1\n",
    "field = diff_ua_700mb_tm_day1\n",
    "field_convolved_ua_day1_700 = astropy.convolution.convolve(field, kernel)\n",
    "\n",
    "field = diff_va_700mb_tm_day1\n",
    "field_convolved_va_day1_700 = astropy.convolution.convolve(field, kernel)\n",
    "\n",
    "# for days 2-10\n",
    "field = diff_ua_700mb_tm_2to10\n",
    "field_convolved_ua_2to10_700 = astropy.convolution.convolve(field, kernel)\n",
    "\n",
    "field = diff_va_700mb_tm_2to10\n",
    "field_convolved_va_2to10_700 = astropy.convolution.convolve(field, kernel)"
   ]
  },
  {
   "cell_type": "code",
   "execution_count": 111,
   "metadata": {
    "ExecuteTime": {
     "end_time": "2018-05-11T02:44:08.818118Z",
     "start_time": "2018-05-11T02:44:05.091345Z"
    }
   },
   "outputs": [],
   "source": [
    "# replace nans with gaussian weights using astropy\n",
    "kernel = astropy.convolution.Gaussian2DKernel(x_stddev=kernel_std, y_stddev=kernel_std)\n",
    "\n",
    "# for day1\n",
    "field = diff_ua_800mb_tm_day1\n",
    "field_convolved_ua_day1_800 = astropy.convolution.convolve(field, kernel)\n",
    "\n",
    "field = diff_va_800mb_tm_day1\n",
    "field_convolved_va_day1_800 = astropy.convolution.convolve(field, kernel)\n",
    "\n",
    "# for days 2-10\n",
    "field = diff_ua_800mb_tm_2to10\n",
    "field_convolved_ua_2to10_800 = astropy.convolution.convolve(field, kernel)\n",
    "\n",
    "field = diff_va_800mb_tm_2to10\n",
    "field_convolved_va_2to10_800 = astropy.convolution.convolve(field, kernel)"
   ]
  },
  {
   "cell_type": "code",
   "execution_count": 112,
   "metadata": {
    "ExecuteTime": {
     "end_time": "2018-05-11T02:44:13.476422Z",
     "start_time": "2018-05-11T02:44:09.746702Z"
    }
   },
   "outputs": [],
   "source": [
    "# replace nans with gaussian weights using astropy\n",
    "kernel = astropy.convolution.Gaussian2DKernel(x_stddev=kernel_std, y_stddev=kernel_std)\n",
    "\n",
    "# for day1\n",
    "field = diff_ua_860mb_tm_day1\n",
    "field_convolved_ua_day1_860 = astropy.convolution.convolve(field, kernel)\n",
    "\n",
    "field = diff_va_860mb_tm_day1\n",
    "field_convolved_va_day1_860 = astropy.convolution.convolve(field, kernel)\n",
    "\n",
    "# for days 2-10\n",
    "field = diff_ua_860mb_tm_2to10\n",
    "field_convolved_ua_2to10_860 = astropy.convolution.convolve(field, kernel)\n",
    "\n",
    "field = diff_va_860mb_tm_2to10\n",
    "field_convolved_va_2to10_860 = astropy.convolution.convolve(field, kernel)"
   ]
  },
  {
   "cell_type": "code",
   "execution_count": 114,
   "metadata": {
    "ExecuteTime": {
     "end_time": "2018-05-11T02:44:18.300643Z",
     "start_time": "2018-05-11T02:44:14.571822Z"
    }
   },
   "outputs": [],
   "source": [
    "# replace nans with gaussian weights using astropy\n",
    "kernel = astropy.convolution.Gaussian2DKernel(x_stddev=kernel_std, y_stddev=kernel_std)\n",
    "\n",
    "# for day1\n",
    "field = diff_ua_900mb_tm_day1\n",
    "field_convolved_ua_day1_900 = astropy.convolution.convolve(field, kernel)\n",
    "\n",
    "field = diff_va_900mb_tm_day1\n",
    "field_convolved_va_day1_900 = astropy.convolution.convolve(field, kernel)\n",
    "\n",
    "# for days 2-10\n",
    "field = diff_ua_900mb_tm_2to10\n",
    "field_convolved_ua_2to10_900 = astropy.convolution.convolve(field, kernel)\n",
    "\n",
    "field = diff_va_900mb_tm_2to10\n",
    "field_convolved_va_2to10_900 = astropy.convolution.convolve(field, kernel)"
   ]
  },
  {
   "cell_type": "code",
   "execution_count": 115,
   "metadata": {
    "ExecuteTime": {
     "end_time": "2018-05-11T02:44:24.019697Z",
     "start_time": "2018-05-11T02:44:20.361184Z"
    }
   },
   "outputs": [],
   "source": [
    "# replace nans with gaussian weights using astropy\n",
    "kernel = astropy.convolution.Gaussian2DKernel(x_stddev=kernel_std, y_stddev=kernel_std)\n",
    "\n",
    "# for day1\n",
    "field = diff_ua_1000mb_tm_day1\n",
    "field_convolved_ua_day1_1000 = astropy.convolution.convolve(field, kernel)\n",
    "\n",
    "field = diff_va_1000mb_tm_day1\n",
    "field_convolved_va_day1_1000 = astropy.convolution.convolve(field, kernel)\n",
    "\n",
    "# for days 2-10\n",
    "field = diff_ua_1000mb_tm_2to10\n",
    "field_convolved_ua_2to10_1000 = astropy.convolution.convolve(field, kernel)\n",
    "\n",
    "field = diff_va_1000mb_tm_2to10\n",
    "field_convolved_va_2to10_1000 = astropy.convolution.convolve(field, kernel)"
   ]
  },
  {
   "cell_type": "code",
   "execution_count": 152,
   "metadata": {
    "ExecuteTime": {
     "end_time": "2018-05-11T21:16:10.760438Z",
     "start_time": "2018-05-11T21:16:07.029052Z"
    }
   },
   "outputs": [],
   "source": [
    "# replace nans with gaussian weights using astropy\n",
    "kernel = astropy.convolution.Gaussian2DKernel(x_stddev=kernel_std, y_stddev=kernel_std)\n",
    "\n",
    "# for day1\n",
    "field = diff_ua_200mb_tm_day1\n",
    "field_convolved_ua_day1_200 = astropy.convolution.convolve(field, kernel)\n",
    "\n",
    "field = diff_va_200mb_tm_day1\n",
    "field_convolved_va_day1_200 = astropy.convolution.convolve(field, kernel)\n",
    "\n",
    "# for days 2-10\n",
    "field = diff_ua_200mb_tm_2to10\n",
    "field_convolved_ua_2to10_200 = astropy.convolution.convolve(field, kernel)\n",
    "\n",
    "field = diff_va_200mb_tm_2to10\n",
    "field_convolved_va_2to10_200 = astropy.convolution.convolve(field, kernel)"
   ]
  },
  {
   "cell_type": "code",
   "execution_count": 151,
   "metadata": {
    "ExecuteTime": {
     "end_time": "2018-05-11T21:16:04.975674Z",
     "start_time": "2018-05-11T21:16:01.240375Z"
    }
   },
   "outputs": [],
   "source": [
    "# replace nans with gaussian weights using astropy\n",
    "kernel = astropy.convolution.Gaussian2DKernel(x_stddev=kernel_std, y_stddev=kernel_std)\n",
    "\n",
    "# for day1\n",
    "field = diff_ua_500mb_tm_day1\n",
    "field_convolved_ua_day1_500 = astropy.convolution.convolve(field, kernel)\n",
    "\n",
    "field = diff_va_500mb_tm_day1\n",
    "field_convolved_va_day1_500 = astropy.convolution.convolve(field, kernel)\n",
    "\n",
    "# for days 2-10\n",
    "field = diff_ua_500mb_tm_2to10\n",
    "field_convolved_ua_2to10_500 = astropy.convolution.convolve(field, kernel)\n",
    "\n",
    "field = diff_va_500mb_tm_2to10\n",
    "field_convolved_va_2to10_500 = astropy.convolution.convolve(field, kernel)"
   ]
  },
  {
   "cell_type": "raw",
   "metadata": {
    "ExecuteTime": {
     "end_time": "2018-05-01T23:01:53.112753Z",
     "start_time": "2018-05-01T23:01:53.034682Z"
    }
   },
   "source": [
    "kernel_std=0.00001\n",
    "kernel = astropy.convolution.Gaussian2DKernel(x_stddev=kernel_std, y_stddev=kernel_std)\n",
    "\n",
    "field = diff_ua_900mb_tm_2to10\n",
    "field_convolved_ua_orig = astropy.convolution.convolve(field, kernel)\n",
    "\n",
    "field = diff_va_900mb_tm_2to10\n",
    "field_convolved_va_orig = astropy.convolution.convolve(field, kernel)"
   ]
  },
  {
   "cell_type": "markdown",
   "metadata": {},
   "source": [
    "# plot"
   ]
  },
  {
   "cell_type": "markdown",
   "metadata": {},
   "source": [
    "# panel plot with all"
   ]
  },
  {
   "cell_type": "code",
   "execution_count": 154,
   "metadata": {
    "ExecuteTime": {
     "end_time": "2018-05-11T21:17:05.205153Z",
     "start_time": "2018-05-11T21:16:59.002341Z"
    }
   },
   "outputs": [
    {
     "data": {
      "image/png": "[encoded data removed]",
      "text/plain": [
       "<Figure size 468x378 with 5 Axes>"
      ]
     },
     "metadata": {},
     "output_type": "display_data"
    }
   ],
   "source": [
    "map_crs = cartopy.crs.PlateCarree()\n",
    "\n",
    "fontsize=12\n",
    "lon_offset = 25.\n",
    "\n",
    "diff_levels = numpy.arange(-.65,.651,0.05)\n",
    "\n",
    "every_nth_lat=7\n",
    "every_nth_lon=7\n",
    "quiver_scale = 0.25 # 0.05 for 850-600, 0.1 for below 850\n",
    "quiver_shaft_width = 0.25\n",
    "quiver_key_scale = 1\n",
    "quiver_color = '0.1'\n",
    "quiver_head_width = quiver_shaft_width*13\n",
    "quiver_head_length = quiver_shaft_width*13\n",
    "\n",
    "fig = mp.figure(figsize=(6.5,5.25))\n",
    "\n",
    "plot_list_u = [field_convolved_ua_2to10_1000, \\\n",
    "               field_convolved_ua_2to10_900, \\\n",
    "               field_convolved_ua_2to10_800, \\\n",
    "               field_convolved_ua_2to10_700]\n",
    "               \n",
    "plot_list_v = [field_convolved_va_2to10_1000, \\\n",
    "               field_convolved_va_2to10_900, \\\n",
    "               field_convolved_va_2to10_800, \\\n",
    "               field_convolved_va_2to10_700]\n",
    "\n",
    "plot_label = ['1000','900','800','700']\n",
    "\n",
    "ax_list = []\n",
    "for i in range(4):\n",
    "    ax = fig.add_subplot(2,2,i+1, projection=map_crs)\n",
    "    ax.set_extent([273,329,-30,15], crs=cartopy.crs.PlateCarree())\n",
    "    ax.coastlines(color='0.1')\n",
    "    contour_plot = ax.contourf(xlong,xlat,field_convolved_psfc_2to10/100., \\\n",
    "                                 levels=diff_levels, extend='both', \\\n",
    "                                 #vmin=diff_levels.min(),vmax=diff_levels.max(),\\\n",
    "                                 cmap='RdBu')\n",
    "\n",
    "    quiver_plot = ax.quiver(xlong[::every_nth_lat,::every_nth_lon], \\\n",
    "                            xlat[::every_nth_lat,::every_nth_lon], \\\n",
    "                            plot_list_u[i][::every_nth_lat,::every_nth_lon], \\\n",
    "                            plot_list_v[i][::every_nth_lat,::every_nth_lon], \\\n",
    "                            units='xy', scale=quiver_scale, \\\n",
    "                            color=quiver_color,\\\n",
    "                            #headaxislength=quiver_head_axis_length, \\\n",
    "                            zorder=2, transform=map_crs, \\\n",
    "                            width=quiver_shaft_width, \\\n",
    "                            headwidth=quiver_head_width, \\\n",
    "                            headlength=quiver_head_length)\n",
    "    \n",
    "    if i==1:\n",
    "        quiver_plot_for_key = quiver_plot\n",
    "\n",
    "    ax.text(s='('+string.ascii_lowercase[i]+') $\\Delta$ '+plot_label[i]+'hPa winds', x=0, y=1.01,\\\n",
    "             ha='left', va='bottom', \\\n",
    "             transform=ax.transAxes, fontsize=fontsize)\n",
    "\n",
    "    ax.set_xticks([-360+280,-360+300,-360+320])\n",
    "    ax.set_yticks([-20,-10,0,10])\n",
    "    ax.tick_params(labelsize=fontsize)\n",
    "    ax.set_xticklabels(['$280$'+DEGREE_SIGN,'$300$'+DEGREE_SIGN,'$320$'+DEGREE_SIGN])\n",
    "    ax.set_yticklabels(['$-20$'+DEGREE_SIGN,'$-10$'+DEGREE_SIGN,'$0$'+DEGREE_SIGN,'$10$'+DEGREE_SIGN])\n",
    "\n",
    "    ax.gridlines(ylocs=[0], color='0.25')\n",
    "    \n",
    "    ax_list.append(ax)\n",
    "               \n",
    "fig.tight_layout(h_pad=2, w_pad=-1)\n",
    "\n",
    "\n",
    "\n",
    "quiver_key = ax_list[1].quiverkey(quiver_plot_for_key, \\\n",
    "                                  coordinates='axes', \\\n",
    "                                  X=1, Y=1.05, labelpos='E', \\\n",
    "                                  label='', \\\n",
    "                                  U=quiver_key_scale)\n",
    "quiver_key_text = ax_list[1].text(s=str(quiver_key_scale)+' m s$^{\\,-1}$',\\\n",
    "                                  x=0.9, y=1.02,\\\n",
    "                                  ha='right', va='bottom',\\\n",
    "                                  transform=ax_list[1].transAxes, \\\n",
    "                                  fontsize=fontsize)\n",
    "\n",
    "\n",
    "\n",
    "axpos1 = ax_list[1].get_position()\n",
    "axpos2 = ax_list[-1].get_position()\n",
    "\n",
    "cbar_ax = fig.add_axes([axpos2.x1+0.025,axpos2.y0,0.025,axpos1.y1-axpos2.y0])\n",
    "cbar = mp.colorbar(contour_plot, cax=cbar_ax)\n",
    "cbar_ax.tick_params(labelsize=fontsize)\n",
    "cbar.set_label('$\\Delta$ surface pressure (hPa)', fontsize=fontsize)\n",
    "\n",
    "fig.savefig('manuscript_figXX_supp_winds_at_pressure_levels.png', dpi=600, bbox_inches='tight', transparent=True)"
   ]
  },
  {
   "cell_type": "markdown",
   "metadata": {},
   "source": [
    "# for 500 and 200 hpa winds"
   ]
  },
  {
   "cell_type": "code",
   "execution_count": 157,
   "metadata": {
    "ExecuteTime": {
     "end_time": "2018-05-11T21:18:42.607339Z",
     "start_time": "2018-05-11T21:18:39.361233Z"
    }
   },
   "outputs": [
    {
     "data": {
      "image/png": "[encoded data removed]",
      "text/plain": [
       "<Figure size 468x180 with 3 Axes>"
      ]
     },
     "metadata": {},
     "output_type": "display_data"
    }
   ],
   "source": [
    "map_crs = cartopy.crs.PlateCarree()\n",
    "\n",
    "fontsize=12\n",
    "lon_offset = 25.\n",
    "\n",
    "diff_levels = numpy.arange(-.65,.651,0.05)\n",
    "\n",
    "every_nth_lat=7\n",
    "every_nth_lon=7\n",
    "quiver_scale = 0.2 # 0.05 for 850-600, 0.1 for below 850\n",
    "quiver_shaft_width = 0.25\n",
    "quiver_key_scale = 1\n",
    "quiver_color = '0.1'\n",
    "quiver_head_width = quiver_shaft_width*13\n",
    "quiver_head_length = quiver_shaft_width*13\n",
    "\n",
    "fig = mp.figure(figsize=(6.5,2.5))\n",
    "\n",
    "plot_list_u = [field_convolved_ua_2to10_500, \\\n",
    "               field_convolved_ua_2to10_200]\n",
    "               \n",
    "plot_list_v = [field_convolved_va_2to10_500, \\\n",
    "               field_convolved_va_2to10_200]\n",
    "\n",
    "plot_label = ['500','200']\n",
    "\n",
    "ax_list = []\n",
    "for i in range(2):\n",
    "    ax = fig.add_subplot(1,2,i+1, projection=map_crs)\n",
    "    ax.set_extent([273,329,-30,15], crs=cartopy.crs.PlateCarree())\n",
    "    ax.coastlines(color='0.1')\n",
    "    contour_plot = ax.contourf(xlong,xlat,field_convolved_psfc_2to10/100., \\\n",
    "                                 levels=diff_levels, extend='both', \\\n",
    "                                 #vmin=diff_levels.min(),vmax=diff_levels.max(),\\\n",
    "                                 cmap='RdBu')\n",
    "\n",
    "    quiver_plot = ax.quiver(xlong[::every_nth_lat,::every_nth_lon], \\\n",
    "                            xlat[::every_nth_lat,::every_nth_lon], \\\n",
    "                            plot_list_u[i][::every_nth_lat,::every_nth_lon], \\\n",
    "                            plot_list_v[i][::every_nth_lat,::every_nth_lon], \\\n",
    "                            units='xy', scale=quiver_scale, \\\n",
    "                            color=quiver_color,\\\n",
    "                            #headaxislength=quiver_head_axis_length, \\\n",
    "                            zorder=2, transform=map_crs, \\\n",
    "                            width=quiver_shaft_width, \\\n",
    "                            headwidth=quiver_head_width, \\\n",
    "                            headlength=quiver_head_length)\n",
    "    \n",
    "    if i==1:\n",
    "        quiver_plot_for_key = quiver_plot\n",
    "\n",
    "    ax.text(s='('+string.ascii_lowercase[i]+') $\\Delta$ '+plot_label[i]+'hPa winds', x=0, y=1.01,\\\n",
    "             ha='left', va='bottom', \\\n",
    "             transform=ax.transAxes, fontsize=fontsize)\n",
    "\n",
    "    ax.set_xticks([-360+280,-360+300,-360+320])\n",
    "    ax.set_yticks([-20,-10,0,10])\n",
    "    ax.tick_params(labelsize=fontsize)\n",
    "    ax.set_xticklabels(['$280$'+DEGREE_SIGN,'$300$'+DEGREE_SIGN,'$320$'+DEGREE_SIGN])\n",
    "    ax.set_yticklabels(['$-20$'+DEGREE_SIGN,'$-10$'+DEGREE_SIGN,'$0$'+DEGREE_SIGN,'$10$'+DEGREE_SIGN])\n",
    "\n",
    "    ax.gridlines(ylocs=[0], color='0.25')\n",
    "    \n",
    "    ax_list.append(ax)\n",
    "               \n",
    "fig.tight_layout(h_pad=2, w_pad=-1)\n",
    "\n",
    "\n",
    "\n",
    "quiver_key = ax_list[1].quiverkey(quiver_plot_for_key, \\\n",
    "                                  coordinates='axes', \\\n",
    "                                  X=1, Y=1.05, labelpos='E', \\\n",
    "                                  label='', \\\n",
    "                                  U=quiver_key_scale)\n",
    "quiver_key_text = ax_list[1].text(s=str(quiver_key_scale)+' m s$^{\\,-1}$',\\\n",
    "                                  x=0.9, y=1.02,\\\n",
    "                                  ha='right', va='bottom',\\\n",
    "                                  transform=ax_list[1].transAxes, \\\n",
    "                                  fontsize=fontsize)\n",
    "\n",
    "\n",
    "\n",
    "axpos1 = ax_list[1].get_position()\n",
    "axpos2 = ax_list[-1].get_position()\n",
    "\n",
    "cbar_ax = fig.add_axes([axpos2.x1+0.025,axpos2.y0,0.025,axpos1.y1-axpos2.y0])\n",
    "cbar = mp.colorbar(contour_plot, cax=cbar_ax)\n",
    "cbar_ax.tick_params(labelsize=fontsize)\n",
    "cbar.set_label('$\\Delta$ surface pressure (hPa)', fontsize=fontsize)\n",
    "\n",
    "fig.savefig('manuscript_figXX_supp_winds_at_pressure_levels_500_200.png', dpi=600, bbox_inches='tight', transparent=True)"
   ]
  },
  {
   "cell_type": "raw",
   "metadata": {
    "ExecuteTime": {
     "end_time": "2018-05-11T02:39:27.924409Z",
     "start_time": "2018-05-11T02:39:27.672227Z"
    }
   },
   "source": [
    "map_crs = cartopy.crs.PlateCarree()\n",
    "\n",
    "fontsize=12\n",
    "lon_offset = 25.\n",
    "\n",
    "diff_levels = numpy.arange(-.65,.651,0.05)\n",
    "\n",
    "every_nth_lat=7\n",
    "every_nth_lon=7\n",
    "quiver_scale = 0.25 # 0.05 for 850-600, 0.1 for below 850\n",
    "quiver_shaft_width = 0.25\n",
    "quiver_key_scale = 3\n",
    "quiver_color = '0.1'\n",
    "quiver_head_length = 3\n",
    "quiver_head_axis_length = quiver_head_length\n",
    "    \n",
    "fig = mp.figure(figsize=(4,3))\n",
    "ax = fig.add_subplot(111, projection=map_crs)\n",
    "ax.set_extent([273,329,-30,15], crs=cartopy.crs.PlateCarree())\n",
    "ax.coastlines(color='0.1')\n",
    "contour_plot = ax.contourf(xlong,xlat,field_convolved_psfc_2to10/100., \\\n",
    "                             levels=diff_levels, extend='both', \\\n",
    "                             #vmin=diff_levels.min(),vmax=diff_levels.max(),\\\n",
    "                             cmap='RdBu')\n",
    "\n",
    "quiver_plot = ax.quiver(xlong[::every_nth_lat,::every_nth_lon], \\\n",
    "                        xlat[::every_nth_lat,::every_nth_lon], \\\n",
    "                        field_convolved_ua_2to10[::every_nth_lat,::every_nth_lon], \\\n",
    "                        field_convolved_va_2to10[::every_nth_lat,::every_nth_lon], \\\n",
    "                        #diff_u_below900_vertmean[t,::every_nth_lat,::every_nth_lon], \\\n",
    "                        #diff_v_below900_vertmean[t,::every_nth_lat,::every_nth_lon], \\\n",
    "                        units='xy', scale=quiver_scale, width=quiver_shaft_width, \\\n",
    "                        color=quiver_color,\\\n",
    "                        headlength=quiver_head_length, \\\n",
    "                        headaxislength=quiver_head_axis_length, \\\n",
    "                        zorder=2, transform=map_crs)    \n",
    "\n",
    "ax.text(s=\"$\\Delta$ 900 hPa winds and surf. pressure\", x=0, y=1.01,\\\n",
    "         ha='left', va='bottom', \\\n",
    "         transform=ax.transAxes, fontsize=fontsize)\n",
    "\n",
    "fig.tight_layout()\n",
    "\n",
    "ax_pos = ax.get_position()\n",
    "\n",
    "cbar_ax = fig.add_axes([ax_pos.x1,ax_pos.y0,0.04,ax_pos.height])\n",
    "cbar = mp.colorbar(contour_plot, cax=cbar_ax)\n",
    "cbar_ax.tick_params(labelsize=fontsize)\n",
    "cbar.set_label('hPa', fontsize=fontsize)"
   ]
  },
  {
   "cell_type": "raw",
   "metadata": {
    "ExecuteTime": {
     "end_time": "2018-05-11T02:39:27.933706Z",
     "start_time": "2018-05-11T02:39:25.588Z"
    }
   },
   "source": [
    "map_crs = cartopy.crs.PlateCarree()\n",
    "\n",
    "fontsize=12\n",
    "lon_offset = 25.\n",
    "\n",
    "diff_levels = numpy.arange(-.65,.651,0.05)\n",
    "\n",
    "every_nth_lat=7\n",
    "every_nth_lon=7\n",
    "quiver_scale = 0.35 # 0.05 for 850-600, 0.1 for below 850\n",
    "quiver_shaft_width = 0.25\n",
    "quiver_key_scale = 3\n",
    "quiver_color = '0.1'\n",
    "quiver_head_length = 3\n",
    "quiver_head_axis_length = quiver_head_length\n",
    "    \n",
    "fig = mp.figure(figsize=(4,3))\n",
    "ax = fig.add_subplot(111, projection=map_crs)\n",
    "ax.set_extent([273,329,-30,15], crs=cartopy.crs.PlateCarree())\n",
    "ax.coastlines(color='0.1')\n",
    "contour_plot = ax.contourf(xlong,xlat,field_convolved_psfc_2to10/100., \\\n",
    "                             levels=diff_levels, extend='both', \\\n",
    "                             #vmin=diff_levels.min(),vmax=diff_levels.max(),\\\n",
    "                             cmap='RdBu')\n",
    "\n",
    "quiver_plot = ax.quiver(xlong[::every_nth_lat,::every_nth_lon], \\\n",
    "                        xlat[::every_nth_lat,::every_nth_lon], \\\n",
    "                        field_convolved_ua_day1[::every_nth_lat,::every_nth_lon], \\\n",
    "                        field_convolved_va_day1[::every_nth_lat,::every_nth_lon], \\\n",
    "                        #diff_u_below900_vertmean[t,::every_nth_lat,::every_nth_lon], \\\n",
    "                        #diff_v_below900_vertmean[t,::every_nth_lat,::every_nth_lon], \\\n",
    "                        units='xy', scale=quiver_scale, width=quiver_shaft_width, \\\n",
    "                        color=quiver_color,\\\n",
    "                        headlength=quiver_head_length, \\\n",
    "                        headaxislength=quiver_head_axis_length, \\\n",
    "                        zorder=2, transform=map_crs)    \n",
    "\n",
    "ax.text(s=\"$\\Delta$ 900 hPa winds and surf. pressure (DAY 1)\", x=0, y=1.01,\\\n",
    "         ha='left', va='bottom', \\\n",
    "         transform=ax.transAxes, fontsize=fontsize)\n",
    "\n",
    "fig.tight_layout()\n",
    "\n",
    "ax_pos = ax.get_position()\n",
    "\n",
    "cbar_ax = fig.add_axes([ax_pos.x1,ax_pos.y0,0.04,ax_pos.height])\n",
    "cbar = mp.colorbar(contour_plot, cax=cbar_ax)\n",
    "cbar_ax.tick_params(labelsize=fontsize)\n",
    "cbar.set_label('hPa', fontsize=fontsize)"
   ]
  },
  {
   "cell_type": "markdown",
   "metadata": {},
   "source": [
    "# calculate wind divergence"
   ]
  },
  {
   "cell_type": "code",
   "execution_count": 117,
   "metadata": {
    "ExecuteTime": {
     "end_time": "2018-05-11T02:46:14.904195Z",
     "start_time": "2018-05-11T02:46:14.701866Z"
    }
   },
   "outputs": [],
   "source": [
    "dudx_400_900mb = numpy.diff(ua_400_900mb, axis=2)/50000.\n",
    "dvdy_400_900mb = numpy.diff(va_400_900mb, axis=1)/50000."
   ]
  },
  {
   "cell_type": "code",
   "execution_count": 118,
   "metadata": {
    "ExecuteTime": {
     "end_time": "2018-05-11T02:46:16.433511Z",
     "start_time": "2018-05-11T02:46:16.234328Z"
    }
   },
   "outputs": [],
   "source": [
    "dudx_1000_900mb = numpy.diff(ua_1000_900mb, axis=2)/50000.\n",
    "dvdy_1000_900mb = numpy.diff(va_1000_900mb, axis=1)/50000."
   ]
  },
  {
   "cell_type": "code",
   "execution_count": 119,
   "metadata": {
    "ExecuteTime": {
     "end_time": "2018-05-11T02:46:17.942643Z",
     "start_time": "2018-05-11T02:46:17.827334Z"
    }
   },
   "outputs": [],
   "source": [
    "diff_dudx_900mb = dudx_1000_900mb - dudx_400_900mb\n",
    "diff_dvdy_900mb = dvdy_1000_900mb - dvdy_400_900mb"
   ]
  },
  {
   "cell_type": "code",
   "execution_count": 120,
   "metadata": {
    "ExecuteTime": {
     "end_time": "2018-05-11T02:46:19.180252Z",
     "start_time": "2018-05-11T02:46:19.170843Z"
    }
   },
   "outputs": [
    {
     "data": {
      "text/plain": [
       "(241, 179, 288)"
      ]
     },
     "execution_count": 120,
     "metadata": {},
     "output_type": "execute_result"
    }
   ],
   "source": [
    "diff_dudx_900mb.shape"
   ]
  },
  {
   "cell_type": "code",
   "execution_count": 121,
   "metadata": {
    "ExecuteTime": {
     "end_time": "2018-05-11T02:46:20.302395Z",
     "start_time": "2018-05-11T02:46:20.292363Z"
    }
   },
   "outputs": [
    {
     "data": {
      "text/plain": [
       "(241, 178, 289)"
      ]
     },
     "execution_count": 121,
     "metadata": {},
     "output_type": "execute_result"
    }
   ],
   "source": [
    "diff_dvdy_900mb.shape"
   ]
  },
  {
   "cell_type": "code",
   "execution_count": 122,
   "metadata": {
    "ExecuteTime": {
     "end_time": "2018-05-11T02:46:21.412024Z",
     "start_time": "2018-05-11T02:46:21.270581Z"
    }
   },
   "outputs": [],
   "source": [
    "diff_dudx_900mb_midpoints = 0.5*(diff_dudx_900mb[:,1:,:]+diff_dudx_900mb[:,:-1,:])\n",
    "diff_dvdy_900mb_midpoints = 0.5*(diff_dvdy_900mb[:,:,1:]+diff_dvdy_900mb[:,:,:-1])"
   ]
  },
  {
   "cell_type": "code",
   "execution_count": 123,
   "metadata": {
    "ExecuteTime": {
     "end_time": "2018-05-11T02:46:23.749080Z",
     "start_time": "2018-05-11T02:46:23.691133Z"
    }
   },
   "outputs": [],
   "source": [
    "diff_div_900mb = (diff_dudx_900mb_midpoints + diff_dvdy_900mb_midpoints)"
   ]
  },
  {
   "cell_type": "code",
   "execution_count": 132,
   "metadata": {
    "ExecuteTime": {
     "end_time": "2018-05-11T02:48:38.772007Z",
     "start_time": "2018-05-11T02:48:38.634619Z"
    }
   },
   "outputs": [
    {
     "name": "stderr",
     "output_type": "stream",
     "text": [
      "/export/home/blangenb/anaconda3/lib/python3.6/site-packages/ipykernel_launcher.py:1: RuntimeWarning: Mean of empty slice\n",
      "  \"\"\"Entry point for launching an IPython kernel.\n",
      "/export/home/blangenb/anaconda3/lib/python3.6/site-packages/ipykernel_launcher.py:2: RuntimeWarning: Mean of empty slice\n",
      "  \n"
     ]
    }
   ],
   "source": [
    "diff_div_900mb_tm_2to10 = numpy.nanmean(diff_div_900mb[24:,:,:], axis=0)\n",
    "diff_div_900mb_tm_day1 = numpy.nanmean(diff_div_900mb[:24,:,:], axis=0)"
   ]
  },
  {
   "cell_type": "code",
   "execution_count": 133,
   "metadata": {
    "ExecuteTime": {
     "end_time": "2018-05-11T02:49:05.889293Z",
     "start_time": "2018-05-11T02:49:04.027828Z"
    }
   },
   "outputs": [],
   "source": [
    "# replace nans with gaussian weights using astropy\n",
    "kernel_std = 5\n",
    "kernel = astropy.convolution.Gaussian2DKernel(x_stddev=kernel_std, y_stddev=kernel_std)\n",
    "\n",
    "field = diff_div_900mb_tm_2to10\n",
    "field_convolved_div_2to10 = astropy.convolution.convolve(field, kernel)\n",
    "\n",
    "field = diff_div_900mb_tm_day1\n",
    "field_convolved_div_day1 = astropy.convolution.convolve(field, kernel)"
   ]
  },
  {
   "cell_type": "code",
   "execution_count": 126,
   "metadata": {
    "ExecuteTime": {
     "end_time": "2018-05-11T02:46:33.823500Z",
     "start_time": "2018-05-11T02:46:33.816510Z"
    }
   },
   "outputs": [],
   "source": [
    "xlat_midpoints = 0.5*(xlat[1:,1:]+xlat[:-1,:-1])\n",
    "xlong_midpoints = 0.5*(xlong[1:,1:]+xlong[:-1,:-1])"
   ]
  },
  {
   "cell_type": "code",
   "execution_count": 138,
   "metadata": {
    "ExecuteTime": {
     "end_time": "2018-05-11T02:51:12.910442Z",
     "start_time": "2018-05-11T02:51:12.324610Z"
    }
   },
   "outputs": [
    {
     "data": {
      "image/png": "[encoded data removed]",
      "text/plain": [
       "<Figure size 288x216 with 2 Axes>"
      ]
     },
     "metadata": {},
     "output_type": "display_data"
    }
   ],
   "source": [
    "map_crs = cartopy.crs.PlateCarree()\n",
    "\n",
    "fontsize=12\n",
    "lon_offset = 25.\n",
    "\n",
    "diff_levels = numpy.arange(-.15,.151,0.025)\n",
    "\n",
    "every_nth_lat=7\n",
    "every_nth_lon=7\n",
    "quiver_scale = 0.25 # 0.05 for 850-600, 0.1 for below 850\n",
    "quiver_shaft_width = 0.25\n",
    "quiver_key_scale = 3\n",
    "quiver_color = '0.1'\n",
    "quiver_head_length = 3\n",
    "quiver_head_axis_length = quiver_head_length\n",
    "    \n",
    "fig = mp.figure(figsize=(4,3))\n",
    "ax = fig.add_subplot(111, projection=map_crs)\n",
    "ax.set_extent([273,329,-30,15], crs=cartopy.crs.PlateCarree())\n",
    "ax.coastlines(color='0.1')\n",
    "contour_plot = ax.contourf(xlong_midpoints,xlat_midpoints,field_convolved_div_2to10*86400., \\\n",
    "                             levels=diff_levels, extend='both', \\\n",
    "                             #vmin=diff_levels.min(),vmax=diff_levels.max(),\\\n",
    "                             cmap='RdBu')\n",
    "\n",
    "quiver_plot = ax.quiver(xlong[::every_nth_lat,::every_nth_lon], \\\n",
    "                        xlat[::every_nth_lat,::every_nth_lon], \\\n",
    "                        field_convolved_ua_2to10_900[::every_nth_lat,::every_nth_lon], \\\n",
    "                        field_convolved_va_2to10_900[::every_nth_lat,::every_nth_lon], \\\n",
    "                        units='xy', scale=quiver_scale, width=quiver_shaft_width, \\\n",
    "                        color=quiver_color,\\\n",
    "                        headlength=quiver_head_length, \\\n",
    "                        headaxislength=quiver_head_axis_length, \\\n",
    "                        zorder=2, transform=map_crs)    \n",
    "\n",
    "ax.text(s=\"$\\Delta$ 900 hPa winds and convergence\", x=0, y=1.01,\\\n",
    "         ha='left', va='bottom', \\\n",
    "         transform=ax.transAxes, fontsize=fontsize)\n",
    "\n",
    "ax.set_xticks([-360+280,-360+300,-360+320])\n",
    "ax.set_yticks([-20,-10,0,10])\n",
    "ax.tick_params(labelsize=fontsize)\n",
    "ax.set_xticklabels(['$280$'+DEGREE_SIGN,'$300$'+DEGREE_SIGN,'$320$'+DEGREE_SIGN])\n",
    "ax.set_yticklabels(['$-20$'+DEGREE_SIGN,'$-10$'+DEGREE_SIGN,'$0$'+DEGREE_SIGN,'$10$'+DEGREE_SIGN])\n",
    "\n",
    "ax.gridlines(ylocs=[0], color='0.25')\n",
    "\n",
    "fig.tight_layout()\n",
    "\n",
    "ax_pos = ax.get_position()\n",
    "\n",
    "cbar_ax = fig.add_axes([ax_pos.x1,ax_pos.y0,0.04,ax_pos.height])\n",
    "cbar = mp.colorbar(contour_plot, cax=cbar_ax)\n",
    "cbar_ax.tick_params(labelsize=fontsize)\n",
    "cbar.set_label('hPa', fontsize=fontsize)"
   ]
  },
  {
   "cell_type": "code",
   "execution_count": null,
   "metadata": {},
   "outputs": [],
   "source": []
  },
  {
   "cell_type": "code",
   "execution_count": null,
   "metadata": {},
   "outputs": [],
   "source": []
  },
  {
   "cell_type": "code",
   "execution_count": null,
   "metadata": {},
   "outputs": [],
   "source": []
  },
  {
   "cell_type": "code",
   "execution_count": null,
   "metadata": {},
   "outputs": [],
   "source": []
  },
  {
   "cell_type": "code",
   "execution_count": null,
   "metadata": {},
   "outputs": [],
   "source": []
  },
  {
   "cell_type": "code",
   "execution_count": null,
   "metadata": {},
   "outputs": [],
   "source": []
  },
  {
   "cell_type": "code",
   "execution_count": 136,
   "metadata": {
    "ExecuteTime": {
     "end_time": "2018-05-02T00:07:44.933846Z",
     "start_time": "2018-05-02T00:03:06.743370Z"
    }
   },
   "outputs": [],
   "source": [
    "dudx_400 = numpy.diff(u_400, axis=3)/50000.\n",
    "dvdy_400 = numpy.diff(v_400, axis=2)/50000."
   ]
  },
  {
   "cell_type": "code",
   "execution_count": 137,
   "metadata": {
    "ExecuteTime": {
     "end_time": "2018-05-02T00:12:07.918181Z",
     "start_time": "2018-05-02T00:07:44.969440Z"
    }
   },
   "outputs": [],
   "source": [
    "dudx_1000 = numpy.diff(u_1000, axis=3)/50000.\n",
    "dvdy_1000 = numpy.diff(v_1000, axis=2)/50000."
   ]
  },
  {
   "cell_type": "code",
   "execution_count": 138,
   "metadata": {
    "ExecuteTime": {
     "end_time": "2018-05-02T00:12:15.440512Z",
     "start_time": "2018-05-02T00:12:07.955417Z"
    }
   },
   "outputs": [],
   "source": [
    "diff_dudx = dudx_1000-dudx_400\n",
    "diff_dvdy = dvdy_1000-dvdy_400"
   ]
  },
  {
   "cell_type": "code",
   "execution_count": 139,
   "metadata": {
    "ExecuteTime": {
     "end_time": "2018-05-02T00:12:21.429890Z",
     "start_time": "2018-05-02T00:12:15.471766Z"
    }
   },
   "outputs": [],
   "source": [
    "diff_dudx_below860 = numpy.copy(diff_dudx)\n",
    "diff_dvdy_below860 = numpy.copy(diff_dvdy)"
   ]
  },
  {
   "cell_type": "code",
   "execution_count": 140,
   "metadata": {
    "ExecuteTime": {
     "end_time": "2018-05-02T00:12:31.554279Z",
     "start_time": "2018-05-02T00:12:21.465448Z"
    }
   },
   "outputs": [],
   "source": [
    "diff_dudx_below860[ptot_400<86000.] = numpy.nan\n",
    "diff_dvdy_below860[ptot_400<86000.] = numpy.nan"
   ]
  },
  {
   "cell_type": "code",
   "execution_count": 142,
   "metadata": {
    "ExecuteTime": {
     "end_time": "2018-05-02T00:13:14.843287Z",
     "start_time": "2018-05-02T00:12:38.776807Z"
    }
   },
   "outputs": [
    {
     "name": "stderr",
     "output_type": "stream",
     "text": [
      "/export/home/blangenb/anaconda3/lib/python3.6/site-packages/ipykernel_launcher.py:1: RuntimeWarning: Mean of empty slice\n",
      "  \"\"\"Entry point for launching an IPython kernel.\n",
      "/export/home/blangenb/anaconda3/lib/python3.6/site-packages/ipykernel_launcher.py:2: RuntimeWarning: Mean of empty slice\n",
      "  \n"
     ]
    }
   ],
   "source": [
    "diff_dudx_below860_vertmean = numpy.nanmean(diff_dudx_below860, axis=1)\n",
    "diff_dvdy_below860_vertmean = numpy.nanmean(diff_dvdy_below860, axis=1)"
   ]
  },
  {
   "cell_type": "code",
   "execution_count": 143,
   "metadata": {
    "ExecuteTime": {
     "end_time": "2018-05-02T00:13:15.095056Z",
     "start_time": "2018-05-02T00:13:14.869412Z"
    }
   },
   "outputs": [],
   "source": [
    "diff_conv_below860_vertmean = -(diff_dudx_below860_vertmean+diff_dvdy_below860_vertmean)"
   ]
  },
  {
   "cell_type": "code",
   "execution_count": 147,
   "metadata": {
    "ExecuteTime": {
     "end_time": "2018-05-02T00:15:07.733533Z",
     "start_time": "2018-05-02T00:15:07.185905Z"
    }
   },
   "outputs": [
    {
     "name": "stderr",
     "output_type": "stream",
     "text": [
      "/export/home/blangenb/anaconda3/lib/python3.6/site-packages/ipykernel_launcher.py:1: RuntimeWarning: Mean of empty slice\n",
      "  \"\"\"Entry point for launching an IPython kernel.\n",
      "/export/home/blangenb/anaconda3/lib/python3.6/site-packages/ipykernel_launcher.py:2: RuntimeWarning: Mean of empty slice\n",
      "  \n"
     ]
    }
   ],
   "source": [
    "diff_conv_below860_tm_day1 = numpy.nanmean(diff_conv_below860_vertmean[:24,:,:], axis=0)\n",
    "diff_conv_below860_tm_2to10 = numpy.nanmean(diff_conv_below860_vertmean[24:,:,:], axis=0)"
   ]
  },
  {
   "cell_type": "code",
   "execution_count": 148,
   "metadata": {
    "ExecuteTime": {
     "end_time": "2018-05-02T00:15:12.920843Z",
     "start_time": "2018-05-02T00:15:08.042945Z"
    }
   },
   "outputs": [
    {
     "data": {
      "image/png": "[encoded data removed]",
      "text/plain": [
       "<Figure size 360x216 with 2 Axes>"
      ]
     },
     "metadata": {},
     "output_type": "display_data"
    }
   ],
   "source": [
    "fontsize=12\n",
    "lon_offset = 25.\n",
    "\n",
    "diff_levels = numpy.arange(-.15,.151,0.025)\n",
    "\n",
    "every_nth_lat=3\n",
    "every_nth_lon=3\n",
    "quiver_scale = 0.5 # 0.05 for 850-600, 0.1 for below 850\n",
    "quiver_shaft_width = 0.2\n",
    "quiver_key_scale = 3\n",
    "quiver_color = '0.1'\n",
    "quiver_head_length = 3\n",
    "quiver_head_axis_length = quiver_head_length\n",
    "\n",
    "fig = mp.figure(figsize=(5,3))\n",
    "ax = fig.add_subplot(111, projection=cartopy.crs.PlateCarree())\n",
    "ax.set_extent([273,329,-30,15], crs=cartopy.crs.PlateCarree())\n",
    "ax.coastlines(color='0.1')\n",
    "contour_plot = ax.contourf(xlong,xlat,diff_conv_below860_tm_2to10, \\\n",
    "                             #levels=diff_levels, extend='both', \\\n",
    "                             #vmin=diff_levels.min(),vmax=diff_levels.max(),\\\n",
    "                             cmap='RdBu')\n",
    "\n",
    "ax.text(s=\"$\\Delta$ pressure below 860 hPa\", x=0, y=1.01,\\\n",
    "         ha='left', va='bottom', \\\n",
    "         transform=ax.transAxes, fontsize=fontsize)\n",
    "ax.text(s='hour '+'{:02d}'.format(t), x=1, y=1.01, \\\n",
    "         ha='right', va='bottom', transform=ax.transAxes, \\\n",
    "         fontsize=fontsize)\n",
    "\n",
    "fig.tight_layout()\n",
    "\n",
    "#ax.background_patch.set_facecolor('0.5')\n",
    "\n",
    "ax_pos = ax.get_position()\n",
    "cbar = mp.colorbar(contour_plot)\n",
    "cbar.ax.tick_params(labelsize=fontsize)\n",
    "cbar.set_label('hPa', fontsize=fontsize)\n",
    "\n",
    "#fig.savefig('hourly_ptot_below860_change_hour'+ '{:02d}'.format(t)+'.png', dpi=600, bbox_inches='tight', transparent=True)\n",
    "#mp.close()"
   ]
  }
 ],
 "metadata": {
  "kernelspec": {
   "display_name": "Python 3",
   "language": "python",
   "name": "python3"
  },
  "language_info": {
   "codemirror_mode": {
    "name": "ipython",
    "version": 3
   },
   "file_extension": ".py",
   "mimetype": "text/x-python",
   "name": "python",
   "nbconvert_exporter": "python",
   "pygments_lexer": "ipython3",
   "version": "3.6.5"
  },
  "varInspector": {
   "cols": {
    "lenName": 16,
    "lenType": 16,
    "lenVar": 40
   },
   "kernels_config": {
    "python": {
     "delete_cmd_postfix": "",
     "delete_cmd_prefix": "del ",
     "library": "var_list.py",
     "varRefreshCmd": "print(var_dic_list())"
    },
    "r": {
     "delete_cmd_postfix": ") ",
     "delete_cmd_prefix": "rm(",
     "library": "var_list.r",
     "varRefreshCmd": "cat(var_dic_list()) "
    }
   },
   "types_to_exclude": [
    "module",
    "function",
    "builtin_function_or_method",
    "instance",
    "_Feature"
   ],
   "window_display": false
  }
 },
 "nbformat": 4,
 "nbformat_minor": 2
}
