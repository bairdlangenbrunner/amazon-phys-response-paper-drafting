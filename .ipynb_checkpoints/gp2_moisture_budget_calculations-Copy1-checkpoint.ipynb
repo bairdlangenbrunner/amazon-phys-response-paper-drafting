{
 "cells": [
  {
   "cell_type": "code",
   "execution_count": 1,
   "metadata": {
    "ExecuteTime": {
     "end_time": "2018-05-04T15:28:08.490190Z",
     "start_time": "2018-05-04T15:28:05.864460Z"
    }
   },
   "outputs": [],
   "source": [
    "import numpy\n",
    "import xarray\n",
    "import matplotlib\n",
    "import matplotlib.pyplot as mp\n",
    "import datetime\n",
    "import matplotlib.colors\n",
    "import scipy.stats\n",
    "import itertools\n",
    "import string\n",
    "import matplotlib.patches\n",
    "import glob\n",
    "\n",
    "import wrf\n",
    "import netCDF4\n",
    "\n",
    "import pandas\n",
    "\n",
    "import matplotlib.ticker\n",
    "import cartopy.mpl.gridliner #import LONGITUDE_FORMATTER, LATITUDE_FORMATTER\n",
    "\n",
    "import mpl_toolkits\n",
    "import cartopy\n",
    "\n",
    "DEGREE_SIGN = u'\\u00B0'\n",
    "mp.rcParams.update({'mathtext.default': 'regular'})\n",
    "\n",
    "% matplotlib inline"
   ]
  },
  {
   "cell_type": "code",
   "execution_count": 2,
   "metadata": {
    "ExecuteTime": {
     "end_time": "2018-05-04T15:28:09.637913Z",
     "start_time": "2018-05-04T15:28:09.632537Z"
    }
   },
   "outputs": [],
   "source": [
    "run_info = 'FMAASO'\n",
    "skip_time=0"
   ]
  },
  {
   "cell_type": "markdown",
   "metadata": {},
   "source": [
    "# opening mean fields"
   ]
  },
  {
   "cell_type": "markdown",
   "metadata": {},
   "source": [
    "## control data"
   ]
  },
  {
   "cell_type": "code",
   "execution_count": 3,
   "metadata": {
    "ExecuteTime": {
     "end_time": "2018-05-04T15:28:11.814426Z",
     "start_time": "2018-05-04T15:28:11.612532Z"
    }
   },
   "outputs": [],
   "source": [
    "root_dir = '/beegfs/DATA/pritchard/blangenb/WRF_ARCHIVE/CHEYENNE/FMAASO/400/ens_mean_wrfout_files'\n",
    "file_list = glob.glob(root_dir+'/'+'wrfout*.nc')\n",
    "ds_list = [netCDF4.Dataset(file) for file in file_list]"
   ]
  },
  {
   "cell_type": "raw",
   "metadata": {
    "ExecuteTime": {
     "end_time": "2018-04-20T20:37:06.170072Z",
     "start_time": "2018-04-20T20:36:46.200664Z"
    }
   },
   "source": [
    "ptot_400 = wrf.getvar(ds_list, 'p', timeidx=wrf.ALL_TIMES).values\n",
    "wa_400 = wrf.getvar(ds_list, 'wa', timeidx=wrf.ALL_TIMES).values\n",
    "ua_400 = wrf.getvar(ds_list, 'ua', timeidx=wrf.ALL_TIMES).values\n",
    "va_400 = wrf.getvar(ds_list, 'va', timeidx=wrf.ALL_TIMES).values\n",
    "tk_400 = wrf.getvar(ds_list, 'tk', timeidx=wrf.ALL_TIMES).values\n",
    "prw_400 = wrf.getvar(ds_list, 'prw', timeidx=wrf.ALL_TIMES).values\n",
    "\n",
    "numpy.save('DATA_ptot_400.npy', ptot_400)\n",
    "numpy.save('DATA_wa_400.npy', wa_400)\n",
    "numpy.save('DATA_ua_400.npy', ua_400)\n",
    "numpy.save('DATA_va_400.npy', va_400)\n",
    "numpy.save('DATA_tk_400.npy', tk_400)\n",
    "numpy.save('DATA_prw_400.npy', prw_400)"
   ]
  },
  {
   "cell_type": "code",
   "execution_count": null,
   "metadata": {
    "ExecuteTime": {
     "end_time": "2018-05-04T15:31:46.193998Z",
     "start_time": "2018-05-04T15:28:35.864798Z"
    }
   },
   "outputs": [],
   "source": [
    "ptot_400 = numpy.load('DATA_ptot_400.npy')\n",
    "#wa_400 = numpy.load('DATA_wa_400.npy')\n",
    "#ua_400 = numpy.load('DATA_ua_400.npy')\n",
    "#va_400 = numpy.load('DATA_va_400.npy')\n",
    "#tk_400 = numpy.load('DATA_tk_400.npy')\n",
    "#prw_400 = numpy.load('DATA_prw_400.npy')"
   ]
  },
  {
   "cell_type": "code",
   "execution_count": 5,
   "metadata": {
    "ExecuteTime": {
     "end_time": "2018-05-04T15:31:50.762247Z",
     "start_time": "2018-05-04T15:31:46.196483Z"
    }
   },
   "outputs": [],
   "source": [
    "cont_mfds = xarray.open_mfdataset(root_dir + '/' + 'wrfout*.nc')"
   ]
  },
  {
   "cell_type": "code",
   "execution_count": 6,
   "metadata": {
    "ExecuteTime": {
     "end_time": "2018-05-04T15:32:01.432229Z",
     "start_time": "2018-05-04T15:31:50.771839Z"
    }
   },
   "outputs": [],
   "source": [
    "time = cont_mfds['Times'].values\n",
    "xlat = cont_mfds['XLAT'].values[0,:,:]\n",
    "xlong = cont_mfds['XLONG'].values[0,:,:]\n",
    "landmask = cont_mfds['LANDMASK'].values[0,:,:]\n",
    "landmask_midpoints = landmask[1:,1:]"
   ]
  },
  {
   "cell_type": "code",
   "execution_count": 7,
   "metadata": {
    "ExecuteTime": {
     "end_time": "2018-05-04T15:32:01.452358Z",
     "start_time": "2018-05-04T15:32:01.440646Z"
    }
   },
   "outputs": [],
   "source": [
    "qvapor_400 = cont_mfds['QVAPOR']\n",
    "u_400 = cont_mfds['U']\n",
    "v_400 = cont_mfds['V']\n",
    "w_400 = cont_mfds['W']\n",
    "qcloud_400 = cont_mfds['QCLOUD']\n",
    "qrain_400 = cont_mfds['QRAIN']"
   ]
  },
  {
   "cell_type": "markdown",
   "metadata": {},
   "source": [
    "## phys data"
   ]
  },
  {
   "cell_type": "code",
   "execution_count": 8,
   "metadata": {
    "ExecuteTime": {
     "end_time": "2018-05-04T15:32:02.675280Z",
     "start_time": "2018-05-04T15:32:01.460433Z"
    }
   },
   "outputs": [],
   "source": [
    "root_dir = '/beegfs/DATA/pritchard/blangenb/WRF_ARCHIVE/CHEYENNE/FMAASO/1000/ens_mean_wrfout_files'\n",
    "file_list = glob.glob(root_dir+'/'+'wrfout*.nc')\n",
    "ds_list = [netCDF4.Dataset(file) for file in file_list]"
   ]
  },
  {
   "cell_type": "raw",
   "metadata": {
    "ExecuteTime": {
     "end_time": "2018-04-19T00:43:37.640789Z",
     "start_time": "2018-04-19T00:43:15.810474Z"
    }
   },
   "source": [
    "ptot_1000 = wrf.getvar(ds_list, 'p', timeidx=wrf.ALL_TIMES).values\n",
    "wa_1000 = wrf.getvar(ds_list, 'wa', timeidx=wrf.ALL_TIMES).values\n",
    "ua_1000 = wrf.getvar(ds_list, 'ua', timeidx=wrf.ALL_TIMES).values\n",
    "va_1000 = wrf.getvar(ds_list, 'va', timeidx=wrf.ALL_TIMES).values\n",
    "tk_1000 = wrf.getvar(ds_list, 'tk', timeidx=wrf.ALL_TIMES).values\n",
    "prw_1000 = wrf.getvar(ds_list, 'prw', timeidx=wrf.ALL_TIMES).values\n",
    "\n",
    "numpy.save('DATA_ptot_1000.npy', ptot_1000)\n",
    "numpy.save('DATA_wa_1000.npy', wa_1000)\n",
    "numpy.save('DATA_ua_1000.npy', ua_1000)\n",
    "numpy.save('DATA_va_1000.npy', va_1000)\n",
    "numpy.save('DATA_tk_1000.npy', tk_1000)\n",
    "numpy.save('DATA_prw_1000.npy', prw_1000)"
   ]
  },
  {
   "cell_type": "code",
   "execution_count": 9,
   "metadata": {
    "ExecuteTime": {
     "end_time": "2018-05-04T15:34:11.308525Z",
     "start_time": "2018-05-04T15:32:02.684180Z"
    }
   },
   "outputs": [],
   "source": [
    "ptot_1000 = numpy.load('DATA_ptot_1000.npy')\n",
    "#wa_1000 = numpy.load('DATA_wa_1000.npy')\n",
    "#ua_1000 = numpy.load('DATA_ua_1000.npy')\n",
    "#va_1000 = numpy.load('DATA_va_1000.npy')\n",
    "#tk_1000 = numpy.load('DATA_tk_1000.npy')\n",
    "#prw_1000 = numpy.load('DATA_prw_1000.npy')"
   ]
  },
  {
   "cell_type": "code",
   "execution_count": 10,
   "metadata": {
    "ExecuteTime": {
     "end_time": "2018-05-04T15:34:19.837641Z",
     "start_time": "2018-05-04T15:34:11.310909Z"
    }
   },
   "outputs": [],
   "source": [
    "cont_mfds = xarray.open_mfdataset(root_dir + '/' + 'wrfout*.nc')"
   ]
  },
  {
   "cell_type": "code",
   "execution_count": 11,
   "metadata": {
    "ExecuteTime": {
     "end_time": "2018-05-04T15:34:19.858385Z",
     "start_time": "2018-05-04T15:34:19.846269Z"
    }
   },
   "outputs": [],
   "source": [
    "qvapor_1000 = cont_mfds['QVAPOR']\n",
    "u_1000 = cont_mfds['U']\n",
    "v_1000 = cont_mfds['V']\n",
    "w_1000 = cont_mfds['W']\n",
    "qcloud_1000 = cont_mfds['QCLOUD']\n",
    "qrain_1000 = cont_mfds['QRAIN']"
   ]
  },
  {
   "cell_type": "markdown",
   "metadata": {},
   "source": [
    "## calculate omega at midpoints"
   ]
  },
  {
   "cell_type": "raw",
   "metadata": {
    "ExecuteTime": {
     "end_time": "2018-04-16T21:12:38.822097Z",
     "start_time": "2018-04-16T21:12:37.718783Z"
    }
   },
   "source": [
    "root_dir = '/beegfs/DATA/pritchard/blangenb/WRF_ARCHIVE/CHEYENNE/FMAASO/400/ens_mean_wrfout_files'\n",
    "file_list = [root_dir+'/wrfout_d01_1979-01-'+'{:02d}'.format(day)+'_00:00:00_ens_mean.nc' for day in range(1,12)]\n",
    "dataset_list = [netCDF4.Dataset(file) for file in file_list]"
   ]
  },
  {
   "cell_type": "raw",
   "metadata": {
    "ExecuteTime": {
     "end_time": "2018-04-16T21:17:44.369972Z",
     "start_time": "2018-04-16T21:13:06.767301Z"
    }
   },
   "source": [
    "omega_400 = wrf.getvar(dataset_list, 'omega', timeidx=wrf.ALL_TIMES)"
   ]
  },
  {
   "cell_type": "raw",
   "metadata": {
    "ExecuteTime": {
     "end_time": "2018-04-16T21:18:29.729907Z",
     "start_time": "2018-04-16T21:18:28.834486Z"
    }
   },
   "source": [
    "root_dir = '/beegfs/DATA/pritchard/blangenb/WRF_ARCHIVE/CHEYENNE/FMAASO/1000/ens_mean_wrfout_files'\n",
    "file_list = [root_dir+'/wrfout_d01_1979-01-'+'{:02d}'.format(day)+'_00:00:00_ens_mean.nc' for day in range(1,12)]\n",
    "dataset_list = [netCDF4.Dataset(file) for file in file_list]"
   ]
  },
  {
   "cell_type": "raw",
   "metadata": {
    "ExecuteTime": {
     "end_time": "2018-04-16T21:23:22.307982Z",
     "start_time": "2018-04-16T21:18:45.834677Z"
    }
   },
   "source": [
    "omega_1000 = wrf.getvar(dataset_list, 'omega', timeidx=wrf.ALL_TIMES)"
   ]
  },
  {
   "cell_type": "raw",
   "metadata": {
    "ExecuteTime": {
     "end_time": "2018-04-16T21:25:15.545224Z",
     "start_time": "2018-04-16T21:25:09.744320Z"
    }
   },
   "source": [
    "numpy.save('DATA_omega_400.npy', omega_400)\n",
    "numpy.save('DATA_omega_1000.npy', omega_1000)"
   ]
  },
  {
   "cell_type": "markdown",
   "metadata": {},
   "source": [
    "## define dx, dy"
   ]
  },
  {
   "cell_type": "code",
   "execution_count": 40,
   "metadata": {
    "ExecuteTime": {
     "end_time": "2018-05-04T22:11:20.157883Z",
     "start_time": "2018-05-04T22:11:20.147546Z"
    }
   },
   "outputs": [],
   "source": [
    "dx = 50000. # 50,000 m or 50 km\n",
    "dy = 50000."
   ]
  },
  {
   "cell_type": "markdown",
   "metadata": {},
   "source": [
    "# calculate wind divergence"
   ]
  },
  {
   "cell_type": "code",
   "execution_count": 18,
   "metadata": {
    "ExecuteTime": {
     "end_time": "2018-05-04T19:32:19.840156Z",
     "start_time": "2018-05-04T19:29:07.196734Z"
    }
   },
   "outputs": [],
   "source": [
    "dudx_400 = numpy.diff(u_400, axis=3)/dx\n",
    "dvdy_400 = numpy.diff(v_400, axis=2)/dy"
   ]
  },
  {
   "cell_type": "code",
   "execution_count": 19,
   "metadata": {
    "ExecuteTime": {
     "end_time": "2018-05-04T19:35:42.102279Z",
     "start_time": "2018-05-04T19:32:19.848311Z"
    }
   },
   "outputs": [],
   "source": [
    "dudx_1000 = numpy.diff(u_1000, axis=3)/dx\n",
    "dvdy_1000 = numpy.diff(v_1000, axis=2)/dy"
   ]
  },
  {
   "cell_type": "code",
   "execution_count": 20,
   "metadata": {
    "ExecuteTime": {
     "end_time": "2018-05-04T19:35:44.537119Z",
     "start_time": "2018-05-04T19:35:42.111029Z"
    }
   },
   "outputs": [],
   "source": [
    "diff_dudx = dudx_1000-dudx_400\n",
    "diff_dvdy = dvdy_1000-dvdy_400"
   ]
  },
  {
   "cell_type": "code",
   "execution_count": 21,
   "metadata": {
    "ExecuteTime": {
     "end_time": "2018-05-04T19:35:46.275135Z",
     "start_time": "2018-05-04T19:35:44.545327Z"
    }
   },
   "outputs": [],
   "source": [
    "diff_dudx_below860 = numpy.copy(diff_dudx)\n",
    "diff_dvdy_below860 = numpy.copy(diff_dvdy)"
   ]
  },
  {
   "cell_type": "code",
   "execution_count": 22,
   "metadata": {
    "ExecuteTime": {
     "end_time": "2018-05-04T19:35:48.853630Z",
     "start_time": "2018-05-04T19:35:46.283356Z"
    }
   },
   "outputs": [],
   "source": [
    "diff_dudx_below860[ptot_400<86000.] = numpy.nan\n",
    "diff_dvdy_below860[ptot_400<86000.] = numpy.nan"
   ]
  },
  {
   "cell_type": "code",
   "execution_count": 23,
   "metadata": {
    "ExecuteTime": {
     "end_time": "2018-05-04T19:35:48.874824Z",
     "start_time": "2018-05-04T19:35:48.862369Z"
    }
   },
   "outputs": [
    {
     "data": {
      "text/plain": [
       "(241, 29, 179, 289)"
      ]
     },
     "execution_count": 23,
     "metadata": {},
     "output_type": "execute_result"
    }
   ],
   "source": [
    "diff_dudx_below860.shape"
   ]
  },
  {
   "cell_type": "code",
   "execution_count": 24,
   "metadata": {
    "ExecuteTime": {
     "end_time": "2018-05-04T19:35:59.087689Z",
     "start_time": "2018-05-04T19:35:48.883104Z"
    }
   },
   "outputs": [
    {
     "name": "stderr",
     "output_type": "stream",
     "text": [
      "/export/home/blangenb/anaconda3/lib/python3.6/site-packages/ipykernel_launcher.py:1: RuntimeWarning: Mean of empty slice\n",
      "  \"\"\"Entry point for launching an IPython kernel.\n",
      "/export/home/blangenb/anaconda3/lib/python3.6/site-packages/ipykernel_launcher.py:2: RuntimeWarning: Mean of empty slice\n",
      "  \n"
     ]
    }
   ],
   "source": [
    "diff_dudx_below860_vertmean = numpy.nanmean(diff_dudx_below860, axis=1)\n",
    "diff_dvdy_below860_vertmean = numpy.nanmean(diff_dvdy_below860, axis=1)"
   ]
  },
  {
   "cell_type": "code",
   "execution_count": 25,
   "metadata": {
    "ExecuteTime": {
     "end_time": "2018-05-04T19:35:59.181665Z",
     "start_time": "2018-05-04T19:35:59.096202Z"
    }
   },
   "outputs": [],
   "source": [
    "diff_conv_below860_vertmean = -(diff_dudx_below860_vertmean+diff_dvdy_below860_vertmean)"
   ]
  },
  {
   "cell_type": "code",
   "execution_count": 27,
   "metadata": {
    "ExecuteTime": {
     "end_time": "2018-05-04T20:09:45.287349Z",
     "start_time": "2018-05-04T20:09:44.256271Z"
    }
   },
   "outputs": [
    {
     "data": {
      "image/png": "[encoded data removed]",
      "text/plain": [
       "<Figure size 360x216 with 2 Axes>"
      ]
     },
     "metadata": {},
     "output_type": "display_data"
    }
   ],
   "source": [
    "fontsize=12\n",
    "lon_offset = 25.\n",
    "\n",
    "diff_levels = numpy.arange(-.15,.151,0.025)\n",
    "\n",
    "every_nth_lat=3\n",
    "every_nth_lon=3\n",
    "quiver_scale = 0.5 # 0.05 for 850-600, 0.1 for below 850\n",
    "quiver_shaft_width = 0.2\n",
    "quiver_key_scale = 3\n",
    "quiver_color = '0.1'\n",
    "quiver_head_length = 3\n",
    "quiver_head_axis_length = quiver_head_length\n",
    "\n",
    "for t in [18]:#range(48):#\n",
    "    \n",
    "    fig = mp.figure(figsize=(5,3))\n",
    "    ax = fig.add_subplot(111, projection=cartopy.crs.PlateCarree())\n",
    "    ax.set_extent([273,329,-30,15], crs=cartopy.crs.PlateCarree())\n",
    "    ax.coastlines(color='0.1')\n",
    "    contour_plot = ax.contourf(xlong,xlat,diff_conv_below860_vertmean[t,:,:], \\\n",
    "                                 #levels=diff_levels, extend='both', \\\n",
    "                                 #vmin=diff_levels.min(),vmax=diff_levels.max(),\\\n",
    "                                 cmap='RdBu')\n",
    "\n",
    "    ax.text(s=\"$\\Delta$ pressure below 860 hPa\", x=0, y=1.01,\\\n",
    "             ha='left', va='bottom', \\\n",
    "             transform=ax.transAxes, fontsize=fontsize)\n",
    "    ax.text(s='hour '+'{:02d}'.format(t), x=1, y=1.01, \\\n",
    "             ha='right', va='bottom', transform=ax.transAxes, \\\n",
    "             fontsize=fontsize)\n",
    "    \n",
    "    fig.tight_layout()\n",
    "    \n",
    "    #ax.background_patch.set_facecolor('0.5')\n",
    "    \n",
    "    ax_pos = ax.get_position()\n",
    "    cbar = mp.colorbar(contour_plot)\n",
    "    cbar.ax.tick_params(labelsize=fontsize)\n",
    "    cbar.set_label('hPa', fontsize=fontsize)\n",
    "\n",
    "    #fig.savefig('hourly_ptot_below860_change_hour'+ '{:02d}'.format(t)+'.png', dpi=600, bbox_inches='tight', transparent=True)\n",
    "    #mp.close()"
   ]
  },
  {
   "cell_type": "markdown",
   "metadata": {},
   "source": [
    "## open omega (calculated from wrf-python)"
   ]
  },
  {
   "cell_type": "code",
   "execution_count": 28,
   "metadata": {
    "ExecuteTime": {
     "end_time": "2018-05-04T20:11:16.231319Z",
     "start_time": "2018-05-04T20:09:52.002720Z"
    }
   },
   "outputs": [],
   "source": [
    "omega_400 = numpy.load('DATA_omega_400.npy')\n",
    "omega_1000 = numpy.load('DATA_omega_1000.npy')"
   ]
  },
  {
   "cell_type": "markdown",
   "metadata": {},
   "source": [
    "# get landmask"
   ]
  },
  {
   "cell_type": "code",
   "execution_count": 29,
   "metadata": {
    "ExecuteTime": {
     "end_time": "2018-05-04T20:11:16.291477Z",
     "start_time": "2018-05-04T20:11:16.239516Z"
    }
   },
   "outputs": [],
   "source": [
    "landmask = cont_mfds['LANDMASK'].sel(Time=0).values"
   ]
  },
  {
   "cell_type": "markdown",
   "metadata": {},
   "source": [
    "# calculate midpoints so that fields are 28x178x288"
   ]
  },
  {
   "cell_type": "raw",
   "metadata": {
    "ExecuteTime": {
     "end_time": "2018-04-09T05:50:59.787386Z",
     "start_time": "2018-04-09T05:50:53.813681Z"
    }
   },
   "source": [
    "dqdt_400 = numpy.diff(qvapor_400.values, axis=0)/3600.\n",
    "dqdt_400 = 0.5*(dqdt_400[:,:,1:,1:]+dqdt_400[:,:,:-1,:-1])"
   ]
  },
  {
   "cell_type": "raw",
   "metadata": {
    "ExecuteTime": {
     "end_time": "2018-04-09T05:52:33.144309Z",
     "start_time": "2018-04-09T05:51:05.449120Z"
    }
   },
   "source": [
    "dqdt_1000 = numpy.diff(qvapor_1000.values, axis=0)/3600.\n",
    "dqdt_1000 = 0.5*(dqdt_1000[:,:,1:,1:]+dqdt_1000[:,:,:-1,:-1])"
   ]
  },
  {
   "cell_type": "code",
   "execution_count": 78,
   "metadata": {
    "ExecuteTime": {
     "end_time": "2018-05-04T22:32:09.087813Z",
     "start_time": "2018-05-04T22:31:48.056537Z"
    }
   },
   "outputs": [],
   "source": [
    "u_400_midpoints = 0.5*(u_400[:,:,:,1:]+u_400[:,:,:,:-1])\n",
    "u_400_midpoints = 0.5*(u_400_midpoints[:,1:,1:,1:]+u_400_midpoints[:,:-1,:-1,:-1]).values"
   ]
  },
  {
   "cell_type": "code",
   "execution_count": 79,
   "metadata": {
    "ExecuteTime": {
     "end_time": "2018-05-04T22:32:52.086209Z",
     "start_time": "2018-05-04T22:32:09.095983Z"
    }
   },
   "outputs": [],
   "source": [
    "u_1000_midpoints = 0.5*(u_1000[:,:,:,1:]+u_1000[:,:,:,:-1])\n",
    "u_1000_midpoints = 0.5*(u_1000_midpoints[:,1:,1:,1:]+u_1000_midpoints[:,:-1,:-1,:-1]).values"
   ]
  },
  {
   "cell_type": "code",
   "execution_count": 80,
   "metadata": {
    "ExecuteTime": {
     "end_time": "2018-05-04T22:33:25.867977Z",
     "start_time": "2018-05-04T22:32:52.094377Z"
    }
   },
   "outputs": [],
   "source": [
    "v_400_midpoints = 0.5*(v_400[:,:,1:,:]+v_400[:,:,:-1,:])\n",
    "v_400_midpoints = 0.5*(v_400_midpoints[:,1:,1:,1:]+v_400_midpoints[:,:-1,:-1,:-1]).values"
   ]
  },
  {
   "cell_type": "code",
   "execution_count": 81,
   "metadata": {
    "ExecuteTime": {
     "end_time": "2018-05-04T22:34:09.402666Z",
     "start_time": "2018-05-04T22:33:25.876336Z"
    }
   },
   "outputs": [],
   "source": [
    "v_1000_midpoints = 0.5*(v_1000[:,:,1:,:]+v_1000[:,:,:-1,:])\n",
    "v_1000_midpoints = 0.5*(v_1000_midpoints[:,1:,1:,1:]+v_1000_midpoints[:,:-1,:-1,:-1]).values"
   ]
  },
  {
   "cell_type": "code",
   "execution_count": null,
   "metadata": {},
   "outputs": [],
   "source": [
    "omega_400_midpoints = (0.5*(omega_400[:,1:,1:,1:]+omega_400[:,:-1,:-1,:-1]))\n",
    "omega_1000_midpoints = (0.5*(omega_1000[:,1:,1:,1:]+omega_1000[:,:-1,:-1,:-1]))"
   ]
  },
  {
   "cell_type": "code",
   "execution_count": null,
   "metadata": {
    "ExecuteTime": {
     "end_time": "2018-04-19T15:06:07.066327Z",
     "start_time": "2018-04-19T15:05:47.701985Z"
    }
   },
   "outputs": [],
   "source": [
    "ptot_400_midpoints = 0.5*(ptot_400[:,1:,1:,1:]+ptot_400[:,:-1,:-1,:-1])\n",
    "ptot_1000_midpoints = 0.5*(ptot_1000[:,1:,1:,1:]+ptot_1000[:,:-1,:-1,:-1])"
   ]
  },
  {
   "cell_type": "code",
   "execution_count": 31,
   "metadata": {
    "ExecuteTime": {
     "end_time": "2018-05-04T20:13:22.181623Z",
     "start_time": "2018-05-04T20:11:17.404922Z"
    }
   },
   "outputs": [],
   "source": [
    "qvapor_400_midpoints = 0.5*(qvapor_400[:,1:,1:,1:]+qvapor_400[:,:-1,:-1,:-1]).values\n",
    "qvapor_1000_midpoints = 0.5*(qvapor_1000[:,1:,1:,1:]+qvapor_1000[:,:-1,:-1,:-1]).values"
   ]
  },
  {
   "cell_type": "code",
   "execution_count": 32,
   "metadata": {
    "ExecuteTime": {
     "end_time": "2018-05-04T20:15:46.409552Z",
     "start_time": "2018-05-04T20:13:22.189812Z"
    }
   },
   "outputs": [],
   "source": [
    "qcloud_400_midpoints = 0.5*(qcloud_400[:,1:,1:,1:]+qcloud_400[:,:-1,:-1,:-1]).values\n",
    "qcloud_1000_midpoints = 0.5*(qcloud_1000[:,1:,1:,1:]+qcloud_1000[:,:-1,:-1,:-1]).values"
   ]
  },
  {
   "cell_type": "code",
   "execution_count": 34,
   "metadata": {
    "ExecuteTime": {
     "end_time": "2018-05-04T22:03:39.201944Z",
     "start_time": "2018-05-04T22:00:58.587780Z"
    }
   },
   "outputs": [],
   "source": [
    "qrain_400_midpoints = 0.5*(qrain_400[:,1:,1:,1:]+qrain_400[:,:-1,:-1,:-1]).values\n",
    "qrain_1000_midpoints = 0.5*(qrain_1000[:,1:,1:,1:]+qrain_1000[:,:-1,:-1,:-1]).values"
   ]
  },
  {
   "cell_type": "code",
   "execution_count": 36,
   "metadata": {
    "ExecuteTime": {
     "end_time": "2018-05-04T22:10:53.612559Z",
     "start_time": "2018-05-04T22:10:48.931085Z"
    }
   },
   "outputs": [],
   "source": [
    "ptot_1000_midpoints = 0.5*(ptot_1000[:,1:,1:,1:]+ptot_1000[:,:-1,:-1,:-1])\n",
    "ptot_400_midpoints = 0.5*(ptot_400[:,1:,1:,1:]+ptot_400[:,:-1,:-1,:-1])"
   ]
  },
  {
   "cell_type": "code",
   "execution_count": 38,
   "metadata": {
    "ExecuteTime": {
     "end_time": "2018-05-04T22:11:03.095571Z",
     "start_time": "2018-05-04T22:11:00.751005Z"
    }
   },
   "outputs": [],
   "source": [
    "ptot_1000_diff = numpy.diff(ptot_1000, axis=1)\n",
    "ptot_400_diff = numpy.diff(ptot_400, axis=1)"
   ]
  },
  {
   "cell_type": "code",
   "execution_count": 39,
   "metadata": {
    "ExecuteTime": {
     "end_time": "2018-05-04T22:11:08.459467Z",
     "start_time": "2018-05-04T22:11:03.104374Z"
    }
   },
   "outputs": [],
   "source": []
  },
  {
   "cell_type": "markdown",
   "metadata": {},
   "source": [
    "# calculate dqdt"
   ]
  },
  {
   "cell_type": "code",
   "execution_count": 41,
   "metadata": {
    "ExecuteTime": {
     "end_time": "2018-05-04T22:11:37.953073Z",
     "start_time": "2018-05-04T22:11:37.945258Z"
    }
   },
   "outputs": [],
   "source": [
    "ntime = 241\n",
    "nlev = 28"
   ]
  },
  {
   "cell_type": "code",
   "execution_count": 42,
   "metadata": {
    "ExecuteTime": {
     "end_time": "2018-05-04T22:11:45.919882Z",
     "start_time": "2018-05-04T22:11:39.084339Z"
    }
   },
   "outputs": [],
   "source": [
    "dqdt_400 = numpy.zeros((ntime,nlev,xlat.shape[0]-1,xlat.shape[1]-1))*numpy.nan\n",
    "dqdt_1000 = numpy.zeros((ntime,nlev,xlat.shape[0]-1,xlat.shape[1]-1))*numpy.nan"
   ]
  },
  {
   "cell_type": "code",
   "execution_count": 43,
   "metadata": {
    "ExecuteTime": {
     "end_time": "2018-05-04T22:11:52.491567Z",
     "start_time": "2018-05-04T22:11:45.928224Z"
    }
   },
   "outputs": [],
   "source": [
    "for t in range(1,ntime-1):\n",
    "    dqdt_400[t,:,:,:] = (qvapor_400_midpoints[t+1,:,:,:]-qvapor_400_midpoints[t-1,:,:,:])/7200.\n",
    "for t in range(1,ntime-1):\n",
    "    dqdt_1000[t,:,:,:] = (qvapor_1000_midpoints[t+1,:,:,:]-qvapor_1000_midpoints[t-1,:,:,:])/7200."
   ]
  },
  {
   "cell_type": "markdown",
   "metadata": {},
   "source": [
    "# calculate dqcloud dt"
   ]
  },
  {
   "cell_type": "code",
   "execution_count": 44,
   "metadata": {
    "ExecuteTime": {
     "end_time": "2018-05-04T22:12:08.559377Z",
     "start_time": "2018-05-04T22:11:52.499732Z"
    }
   },
   "outputs": [],
   "source": [
    "dqclouddt_400 = numpy.zeros((ntime,nlev,xlat.shape[0]-1,xlat.shape[1]-1))*numpy.nan\n",
    "dqclouddt_1000 = numpy.zeros((ntime,nlev,xlat.shape[0]-1,xlat.shape[1]-1))*numpy.nan"
   ]
  },
  {
   "cell_type": "code",
   "execution_count": 45,
   "metadata": {
    "ExecuteTime": {
     "end_time": "2018-05-04T22:12:14.801745Z",
     "start_time": "2018-05-04T22:12:08.562442Z"
    }
   },
   "outputs": [],
   "source": [
    "for t in range(1,ntime-1):\n",
    "    dqclouddt_400[t,:,:,:] = (qcloud_400_midpoints[t+1,:,:,:]-qcloud_400_midpoints[t-1,:,:,:])/7200.\n",
    "for t in range(1,ntime-1):\n",
    "    dqclouddt_1000[t,:,:,:] = (qcloud_1000_midpoints[t+1,:,:,:]-qcloud_1000_midpoints[t-1,:,:,:])/7200."
   ]
  },
  {
   "cell_type": "markdown",
   "metadata": {},
   "source": [
    "# calculate dqraindt"
   ]
  },
  {
   "cell_type": "code",
   "execution_count": 46,
   "metadata": {
    "ExecuteTime": {
     "end_time": "2018-05-04T22:12:17.029737Z",
     "start_time": "2018-05-04T22:12:14.809926Z"
    }
   },
   "outputs": [],
   "source": [
    "dqraindt_400 = numpy.zeros((ntime,nlev,xlat.shape[0]-1,xlat.shape[1]-1))*numpy.nan\n",
    "dqraindt_1000 = numpy.zeros((ntime,nlev,xlat.shape[0]-1,xlat.shape[1]-1))*numpy.nan"
   ]
  },
  {
   "cell_type": "code",
   "execution_count": 47,
   "metadata": {
    "ExecuteTime": {
     "end_time": "2018-05-04T22:12:55.275741Z",
     "start_time": "2018-05-04T22:12:17.037929Z"
    }
   },
   "outputs": [],
   "source": [
    "for t in range(1,ntime-1):\n",
    "    dqraindt_400[t,:,:,:] = (qrain_400_midpoints[t+1,:,:,:]-qrain_400_midpoints[t-1,:,:,:])/7200.\n",
    "for t in range(1,ntime-1):\n",
    "    dqraindt_1000[t,:,:,:] = (qrain_1000_midpoints[t+1,:,:,:]-qrain_1000_midpoints[t-1,:,:,:])/7200."
   ]
  },
  {
   "cell_type": "markdown",
   "metadata": {},
   "source": [
    "# calculate convergence"
   ]
  },
  {
   "cell_type": "code",
   "execution_count": 48,
   "metadata": {
    "ExecuteTime": {
     "end_time": "2018-05-04T22:13:47.061688Z",
     "start_time": "2018-05-04T22:12:55.283901Z"
    }
   },
   "outputs": [],
   "source": [
    "dudx_400 = numpy.diff(u_400.values, axis=3)/dx\n",
    "dudx_400 = 0.5*(dudx_400[:,1:,1:,1:]+dudx_400[:,:-1,:-1,:-1])"
   ]
  },
  {
   "cell_type": "code",
   "execution_count": 49,
   "metadata": {
    "ExecuteTime": {
     "end_time": "2018-05-04T22:15:15.500274Z",
     "start_time": "2018-05-04T22:13:47.069885Z"
    }
   },
   "outputs": [],
   "source": [
    "dudx_1000 = numpy.diff(u_1000.values, axis=3)/dx\n",
    "dudx_1000 = 0.5*(dudx_1000[:,1:,1:,1:]+dudx_1000[:,:-1,:-1,:-1])"
   ]
  },
  {
   "cell_type": "code",
   "execution_count": 50,
   "metadata": {
    "ExecuteTime": {
     "end_time": "2018-05-04T22:16:02.864688Z",
     "start_time": "2018-05-04T22:15:15.508747Z"
    }
   },
   "outputs": [],
   "source": [
    "dvdy_400 = numpy.diff(v_400.values, axis=2)/dy\n",
    "dvdy_400 = 0.5*(dvdy_400[:,1:,1:,1:]+dvdy_400[:,:-1,:-1,:-1])"
   ]
  },
  {
   "cell_type": "code",
   "execution_count": 51,
   "metadata": {
    "ExecuteTime": {
     "end_time": "2018-05-04T22:17:33.156354Z",
     "start_time": "2018-05-04T22:16:02.872833Z"
    }
   },
   "outputs": [],
   "source": [
    "dvdy_1000 = numpy.diff(v_1000.values, axis=2)/dy\n",
    "dvdy_1000 = 0.5*(dvdy_1000[:,1:,1:,1:]+dvdy_1000[:,:-1,:-1,:-1])"
   ]
  },
  {
   "cell_type": "code",
   "execution_count": 52,
   "metadata": {
    "ExecuteTime": {
     "end_time": "2018-05-04T22:17:37.935743Z",
     "start_time": "2018-05-04T22:17:33.164541Z"
    }
   },
   "outputs": [],
   "source": [
    "cont_domegadp = numpy.diff(omega_400, axis=1)/ptot_400_diff\n",
    "cont_domegadp = 0.5*(cont_domegadp[:,:,1:,1:]+cont_domegadp[:,:,:-1,:-1])"
   ]
  },
  {
   "cell_type": "code",
   "execution_count": 53,
   "metadata": {
    "ExecuteTime": {
     "end_time": "2018-05-04T22:17:42.711247Z",
     "start_time": "2018-05-04T22:17:37.943936Z"
    }
   },
   "outputs": [],
   "source": [
    "phys_domegadp = numpy.diff(omega_1000, axis=1)/ptot_1000_diff\n",
    "phys_domegadp = 0.5*(phys_domegadp[:,:,1:,1:]+phys_domegadp[:,:,:-1,:-1])"
   ]
  },
  {
   "cell_type": "code",
   "execution_count": 54,
   "metadata": {
    "ExecuteTime": {
     "end_time": "2018-05-04T22:17:46.850532Z",
     "start_time": "2018-05-04T22:17:42.719431Z"
    }
   },
   "outputs": [],
   "source": [
    "convergence_400 = -qvapor_400_midpoints*(dudx_400 + dvdy_400 + cont_domegadp)"
   ]
  },
  {
   "cell_type": "code",
   "execution_count": 55,
   "metadata": {
    "ExecuteTime": {
     "end_time": "2018-05-04T22:17:50.743580Z",
     "start_time": "2018-05-04T22:17:46.858722Z"
    }
   },
   "outputs": [],
   "source": [
    "convergence_1000 = -qvapor_1000_midpoints*(dudx_1000 + dvdy_1000 + phys_domegadp)"
   ]
  },
  {
   "cell_type": "markdown",
   "metadata": {},
   "source": [
    "# calculate advection"
   ]
  },
  {
   "cell_type": "code",
   "execution_count": 58,
   "metadata": {
    "ExecuteTime": {
     "end_time": "2018-05-04T22:23:19.334345Z",
     "start_time": "2018-05-04T22:23:06.267157Z"
    }
   },
   "outputs": [],
   "source": [
    "cont_dqdx = numpy.diff(qvapor_400.values, axis=3)/dx # diff in y, then take mean \n",
    "cont_dqdx = 0.5*(cont_dqdx[:,1:,1:,:]+cont_dqdx[:,:-1,:-1,:])"
   ]
  },
  {
   "cell_type": "code",
   "execution_count": 59,
   "metadata": {
    "ExecuteTime": {
     "end_time": "2018-05-04T22:23:38.426157Z",
     "start_time": "2018-05-04T22:23:19.342571Z"
    }
   },
   "outputs": [],
   "source": [
    "phys_dqdx = numpy.diff(qvapor_1000.values, axis=3)/dx # diff in y, then take mean \n",
    "phys_dqdx = 0.5*(phys_dqdx[:,1:,1:,:]+phys_dqdx[:,:-1,:-1,:])"
   ]
  },
  {
   "cell_type": "code",
   "execution_count": 60,
   "metadata": {
    "ExecuteTime": {
     "end_time": "2018-05-04T22:23:47.219997Z",
     "start_time": "2018-05-04T22:23:38.434312Z"
    }
   },
   "outputs": [],
   "source": [
    "cont_dqdy = numpy.diff(qvapor_400.values, axis=2)/dy # diff in y, then take mean \n",
    "cont_dqdy = 0.5*(cont_dqdy[:,1:,:,1:]+cont_dqdy[:,:-1,:,:-1])"
   ]
  },
  {
   "cell_type": "code",
   "execution_count": 61,
   "metadata": {
    "ExecuteTime": {
     "end_time": "2018-05-04T22:24:06.957149Z",
     "start_time": "2018-05-04T22:23:47.228332Z"
    }
   },
   "outputs": [],
   "source": [
    "phys_dqdy = numpy.diff(qvapor_1000.values, axis=2)/dy # diff in y, then take mean \n",
    "phys_dqdy = 0.5*(phys_dqdy[:,1:,:,1:]+phys_dqdy[:,:-1,:,:-1])"
   ]
  },
  {
   "cell_type": "code",
   "execution_count": 62,
   "metadata": {
    "ExecuteTime": {
     "end_time": "2018-05-04T22:24:16.814684Z",
     "start_time": "2018-05-04T22:24:06.965298Z"
    }
   },
   "outputs": [],
   "source": [
    "cont_dqdp = numpy.diff(qvapor_400.values, axis=1)/ptot_400_diff\n",
    "cont_dqdp = 0.5*(cont_dqdp[:,:,1:,1:]+cont_dqdp[:,:,:-1,:-1])"
   ]
  },
  {
   "cell_type": "code",
   "execution_count": 63,
   "metadata": {
    "ExecuteTime": {
     "end_time": "2018-05-04T22:24:38.717977Z",
     "start_time": "2018-05-04T22:24:16.823206Z"
    }
   },
   "outputs": [],
   "source": [
    "phys_dqdp = numpy.diff(qvapor_1000.values, axis=1)/ptot_1000_diff\n",
    "phys_dqdp = 0.5*(phys_dqdp[:,:,1:,1:]+phys_dqdp[:,:,:-1,:-1])"
   ]
  },
  {
   "cell_type": "code",
   "execution_count": 83,
   "metadata": {
    "ExecuteTime": {
     "end_time": "2018-05-04T22:36:40.467156Z",
     "start_time": "2018-05-04T22:36:10.873067Z"
    }
   },
   "outputs": [],
   "source": [
    "advection_400 = -(u_400_midpoints*cont_dqdx + v_400_midpoints*cont_dqdy + omega_400_midpoints*cont_dqdp)\n",
    "advection_1000 = -(u_1000_midpoints*phys_dqdx + v_1000_midpoints*phys_dqdy + omega_1000_midpoints*phys_dqdp)"
   ]
  },
  {
   "cell_type": "markdown",
   "metadata": {
    "heading_collapsed": true
   },
   "source": [
    "# set ocean points to nan"
   ]
  },
  {
   "cell_type": "raw",
   "metadata": {
    "ExecuteTime": {
     "end_time": "2018-04-16T21:39:39.064002Z",
     "start_time": "2018-04-16T21:27:22.948Z"
    },
    "hidden": true
   },
   "source": [
    "convergence_400[:,:,landmask_midpoints==0]=numpy.nan\n",
    "convergence_1000[:,:,landmask_midpoints==0]=numpy.nan"
   ]
  },
  {
   "cell_type": "raw",
   "metadata": {
    "ExecuteTime": {
     "end_time": "2018-04-16T21:39:39.066424Z",
     "start_time": "2018-04-16T21:27:23.340Z"
    },
    "hidden": true
   },
   "source": [
    "advection_400[:,:,landmask_midpoints==0]=numpy.nan\n",
    "advection_1000[:,:,landmask_midpoints==0]=numpy.nan"
   ]
  },
  {
   "cell_type": "raw",
   "metadata": {
    "ExecuteTime": {
     "end_time": "2018-04-16T21:39:39.068866Z",
     "start_time": "2018-04-16T21:27:23.668Z"
    },
    "hidden": true
   },
   "source": [
    "omega_400_midpoints[:,:,landmask_midpoints==0]=numpy.nan\n",
    "omega_1000_midpoints[:,:,landmask_midpoints==0]=numpy.nan"
   ]
  },
  {
   "cell_type": "raw",
   "metadata": {
    "ExecuteTime": {
     "end_time": "2018-04-16T21:39:39.070183Z",
     "start_time": "2018-04-16T21:27:23.838Z"
    },
    "hidden": true
   },
   "source": [
    "dqdt_400[:,:,landmask_midpoints==0]=numpy.nan\n",
    "dqdt_1000[:,:,landmask_midpoints==0]=numpy.nan"
   ]
  },
  {
   "cell_type": "raw",
   "metadata": {
    "ExecuteTime": {
     "end_time": "2018-04-16T21:39:39.071377Z",
     "start_time": "2018-04-16T21:27:24.006Z"
    },
    "hidden": true
   },
   "source": [
    "dqclouddt_400[:,:,landmask_midpoints==0]=numpy.nan\n",
    "dqclouddt_1000[:,:,landmask_midpoints==0]=numpy.nan"
   ]
  },
  {
   "cell_type": "raw",
   "metadata": {
    "ExecuteTime": {
     "end_time": "2018-04-16T21:39:39.072567Z",
     "start_time": "2018-04-16T21:27:25.139Z"
    },
    "hidden": true
   },
   "source": [
    "dqraindt_400[:,:,landmask_midpoints==0]=numpy.nan\n",
    "dqraindt_1000[:,:,landmask_midpoints==0]=numpy.nan"
   ]
  },
  {
   "cell_type": "raw",
   "metadata": {
    "ExecuteTime": {
     "end_time": "2018-04-16T21:39:39.073880Z",
     "start_time": "2018-04-16T21:27:25.421Z"
    },
    "hidden": true
   },
   "source": [
    "ptot_400[:,:,landmask==0]=numpy.nan\n",
    "ptot_1000[:,:,landmask==0]=numpy.nan"
   ]
  },
  {
   "cell_type": "markdown",
   "metadata": {},
   "source": [
    "# calculate time means"
   ]
  },
  {
   "cell_type": "markdown",
   "metadata": {},
   "source": [
    "Only time mean for qcloud, qrain, ptot"
   ]
  },
  {
   "cell_type": "code",
   "execution_count": 132,
   "metadata": {
    "ExecuteTime": {
     "end_time": "2018-05-05T00:18:12.595920Z",
     "start_time": "2018-05-05T00:17:58.942382Z"
    }
   },
   "outputs": [],
   "source": [
    "dqclouddt_400_tm = numpy.nanmean(dqclouddt_400[24:,:,:,:], axis=0)\n",
    "dqclouddt_1000_tm = numpy.nanmean(dqclouddt_1000[24:,:,:,:], axis=0)\n",
    "\n",
    "dqraindt_400_tm = numpy.nanmean(dqraindt_400[24:,:,:,:], axis=0)\n",
    "dqraindt_1000_tm = numpy.nanmean(dqraindt_1000[24:,:,:,:], axis=0)"
   ]
  },
  {
   "cell_type": "code",
   "execution_count": 128,
   "metadata": {
    "ExecuteTime": {
     "end_time": "2018-05-05T00:17:26.480518Z",
     "start_time": "2018-05-05T00:17:16.650034Z"
    }
   },
   "outputs": [],
   "source": [
    "ptot_400_tm = numpy.nanmean(ptot_400[24:,:,:,:], axis=0)\n",
    "ptot_1000_tm = numpy.nanmean(ptot_1000[24:,:,:,:], axis=0)"
   ]
  },
  {
   "cell_type": "code",
   "execution_count": 130,
   "metadata": {
    "ExecuteTime": {
     "end_time": "2018-05-05T00:17:57.459574Z",
     "start_time": "2018-05-05T00:17:35.417776Z"
    }
   },
   "outputs": [],
   "source": [
    "dqdt_400_tm = numpy.nanmean(dqdt_400[24:,:,:,:], axis=0)\n",
    "dqdt_1000_tm = numpy.nanmean(dqdt_1000[24:,:,:,:], axis=0)\n",
    "\n",
    "dqdt_400_tm_day1 = numpy.nanmean(dqdt_400[:24,:,:,:], axis=0)\n",
    "dqdt_1000_tm_day1 = numpy.nanmean(dqdt_1000[:24,:,:,:], axis=0)"
   ]
  },
  {
   "cell_type": "code",
   "execution_count": 134,
   "metadata": {
    "ExecuteTime": {
     "end_time": "2018-05-05T00:18:35.632225Z",
     "start_time": "2018-05-05T00:18:26.426591Z"
    }
   },
   "outputs": [],
   "source": [
    "advection_400_tm = numpy.nanmean(advection_400[24:,:,:,:], axis=0)\n",
    "advection_1000_tm = numpy.nanmean(advection_1000[24:,:,:,:], axis=0)\n",
    "\n",
    "advection_400_tm_day1 = numpy.nanmean(advection_400[:24,:,:,:], axis=0)\n",
    "advection_1000_tm_day1 = numpy.nanmean(advection_1000[:24,:,:,:], axis=0)"
   ]
  },
  {
   "cell_type": "code",
   "execution_count": 147,
   "metadata": {
    "ExecuteTime": {
     "end_time": "2018-05-05T00:50:52.356612Z",
     "start_time": "2018-05-05T00:50:42.762959Z"
    }
   },
   "outputs": [],
   "source": [
    "convergence_400_tm = numpy.nanmean(convergence_400[24:,:,:,:], axis=0)\n",
    "convergence_1000_tm = numpy.nanmean(convergence_1000[24:,:,:,:], axis=0)\n",
    "\n",
    "convergence_400_tm_day1 = numpy.nanmean(convergence_400[:24,:,:,:], axis=0)\n",
    "convergence_1000_tm_day1 = numpy.nanmean(convergence_1000[:24,:,:,:], axis=0)"
   ]
  },
  {
   "cell_type": "code",
   "execution_count": 136,
   "metadata": {
    "ExecuteTime": {
     "end_time": "2018-05-05T00:18:54.735165Z",
     "start_time": "2018-05-05T00:18:44.461851Z"
    }
   },
   "outputs": [],
   "source": [
    "omega_400_tm = numpy.nanmean(omega_400_midpoints[24:,:,:,:], axis=0)\n",
    "omega_1000_tm = numpy.nanmean(omega_1000_midpoints[24:,:,:,:], axis=0)\n",
    "\n",
    "omega_400_tm_day1 = numpy.nanmean(omega_400_midpoints[:24,:,:,:], axis=0)\n",
    "omega_1000_tm_day1 = numpy.nanmean(omega_1000_midpoints[:24,:,:,:], axis=0)"
   ]
  },
  {
   "cell_type": "markdown",
   "metadata": {
    "heading_collapsed": true
   },
   "source": [
    "## selecting dry area lat/lon"
   ]
  },
  {
   "cell_type": "code",
   "execution_count": 148,
   "metadata": {
    "ExecuteTime": {
     "end_time": "2018-05-05T00:52:04.367095Z",
     "start_time": "2018-05-05T00:52:04.280554Z"
    },
    "hidden": true
   },
   "outputs": [
    {
     "data": {
      "text/plain": [
       "<cartopy.mpl.feature_artist.FeatureArtist at 0x2b1d5d7a3f98>"
      ]
     },
     "execution_count": 148,
     "metadata": {},
     "output_type": "execute_result"
    },
    {
     "data": {
      "image/png": "[encoded data removed]",
      "text/plain": [
       "<Figure size 432x288 with 1 Axes>"
      ]
     },
     "metadata": {},
     "output_type": "display_data"
    }
   ],
   "source": [
    "fig, ax = mp.subplots(1,1,subplot_kw={'projection':cartopy.crs.PlateCarree()})\n",
    "\n",
    "ax.set_extent([xlong.min(),xlong.max(),xlat.min(),xlat.max()], crs=cartopy.crs.PlateCarree())\n",
    "ax.set_extent([-70,-40,-10,10], crs=cartopy.crs.PlateCarree())\n",
    "ax.coastlines()"
   ]
  },
  {
   "cell_type": "markdown",
   "metadata": {
    "heading_collapsed": true
   },
   "source": [
    "## selecting wet area lat/lon"
   ]
  },
  {
   "cell_type": "code",
   "execution_count": 95,
   "metadata": {
    "ExecuteTime": {
     "end_time": "2018-05-04T22:39:47.758305Z",
     "start_time": "2018-05-04T22:39:47.674820Z"
    },
    "hidden": true
   },
   "outputs": [
    {
     "data": {
      "text/plain": [
       "<cartopy.mpl.feature_artist.FeatureArtist at 0x2b1d5d7d14a8>"
      ]
     },
     "execution_count": 95,
     "metadata": {},
     "output_type": "execute_result"
    },
    {
     "data": {
      "image/png": "[encoded data removed]",
      "text/plain": [
       "<Figure size 432x288 with 1 Axes>"
      ]
     },
     "metadata": {},
     "output_type": "display_data"
    }
   ],
   "source": [
    "fig, ax = mp.subplots(1,1,subplot_kw={'projection':cartopy.crs.PlateCarree()})\n",
    "\n",
    "ax.set_extent([xlong.min(),xlong.max(),xlat.min(),xlat.max()], crs=cartopy.crs.PlateCarree())\n",
    "ax.set_extent([-82,-70,-10,10], crs=cartopy.crs.PlateCarree())\n",
    "ax.coastlines()"
   ]
  },
  {
   "cell_type": "code",
   "execution_count": 96,
   "metadata": {
    "ExecuteTime": {
     "end_time": "2018-05-04T22:39:52.903426Z",
     "start_time": "2018-05-04T22:39:52.894969Z"
    },
    "hidden": true
   },
   "outputs": [],
   "source": [
    "dry_lon_lo, dry_lon_hi, dry_lat_lo, dry_lat_hi = -70,-40,-10,10\n",
    "wet_lon_lo, wet_lon_hi, wet_lat_lo, wet_lat_hi = -82,-70,-10,10"
   ]
  },
  {
   "cell_type": "code",
   "execution_count": 97,
   "metadata": {
    "ExecuteTime": {
     "end_time": "2018-05-04T22:39:53.472570Z",
     "start_time": "2018-05-04T22:39:53.463496Z"
    },
    "hidden": true
   },
   "outputs": [],
   "source": [
    "xlat_midpoints = 0.5*(xlat[1:,1:]+xlat[:-1,:-1])\n",
    "xlong_midpoints = 0.5*(xlong[1:,1:]+xlong[:-1,:-1])"
   ]
  },
  {
   "cell_type": "code",
   "execution_count": 98,
   "metadata": {
    "ExecuteTime": {
     "end_time": "2018-05-04T22:39:54.044235Z",
     "start_time": "2018-05-04T22:39:54.033945Z"
    },
    "hidden": true
   },
   "outputs": [],
   "source": [
    "wet_latlon_subset = ((xlat_midpoints<=wet_lat_hi) & (xlat_midpoints>=wet_lat_lo) \\\n",
    "                  & (xlong_midpoints<=wet_lon_hi) & (xlong_midpoints>=wet_lon_lo))\n",
    "\n",
    "dry_latlon_subset = ((xlat_midpoints<=dry_lat_hi) & (xlat_midpoints>=dry_lat_lo) \\\n",
    "                  & (xlong_midpoints<=dry_lon_hi) & (xlong_midpoints>=dry_lon_lo))\n",
    "\n",
    "lat_indices = ((xlat_midpoints<=10)&(xlat_midpoints>=-10))"
   ]
  },
  {
   "cell_type": "markdown",
   "metadata": {},
   "source": [
    "## pulling out wet and dry regions"
   ]
  },
  {
   "cell_type": "code",
   "execution_count": 99,
   "metadata": {
    "ExecuteTime": {
     "end_time": "2018-05-04T22:39:54.722219Z",
     "start_time": "2018-05-04T22:39:54.706588Z"
    }
   },
   "outputs": [],
   "source": [
    "dqdt_400_wet_region = numpy.nanmean(dqdt_400_tm[:,wet_latlon_subset], axis=1)\n",
    "dqdt_400_dry_region = numpy.nanmean(dqdt_400_tm[:,dry_latlon_subset], axis=1)\n",
    "\n",
    "dqdt_1000_wet_region = numpy.nanmean(dqdt_1000_tm[:,wet_latlon_subset], axis=1)\n",
    "dqdt_1000_dry_region = numpy.nanmean(dqdt_1000_tm[:,dry_latlon_subset], axis=1)\n",
    "\n",
    "dqdt_400_wet_region_day1 = numpy.nanmean(dqdt_400_tm_day1[:,wet_latlon_subset], axis=1)\n",
    "dqdt_400_dry_region_day1 = numpy.nanmean(dqdt_400_tm_day1[:,dry_latlon_subset], axis=1)\n",
    "\n",
    "dqdt_1000_wet_region_day1 = numpy.nanmean(dqdt_1000_tm_day1[:,wet_latlon_subset], axis=1)\n",
    "dqdt_1000_dry_region_day1 = numpy.nanmean(dqdt_1000_tm_day1[:,dry_latlon_subset], axis=1)"
   ]
  },
  {
   "cell_type": "code",
   "execution_count": 102,
   "metadata": {
    "ExecuteTime": {
     "end_time": "2018-05-04T22:40:06.486553Z",
     "start_time": "2018-05-04T22:40:06.472104Z"
    }
   },
   "outputs": [],
   "source": [
    "convergence_400_wet_region = numpy.nanmean(convergence_400_tm[:,wet_latlon_subset], axis=1)\n",
    "convergence_400_dry_region = numpy.nanmean(convergence_400_tm[:,dry_latlon_subset], axis=1)\n",
    "\n",
    "convergence_1000_wet_region = numpy.nanmean(convergence_1000_tm[:,wet_latlon_subset], axis=1)\n",
    "convergence_1000_dry_region = numpy.nanmean(convergence_1000_tm[:,dry_latlon_subset], axis=1)\n",
    "\n",
    "convergence_400_wet_region_day1 = numpy.nanmean(convergence_400_tm_day1[:,wet_latlon_subset], axis=1)\n",
    "convergence_400_dry_region_day1 = numpy.nanmean(convergence_400_tm_day1[:,dry_latlon_subset], axis=1)\n",
    "\n",
    "convergence_1000_wet_region_day1 = numpy.nanmean(convergence_1000_tm_day1[:,wet_latlon_subset], axis=1)\n",
    "convergence_1000_dry_region_day1 = numpy.nanmean(convergence_1000_tm_day1[:,dry_latlon_subset], axis=1)"
   ]
  },
  {
   "cell_type": "code",
   "execution_count": 103,
   "metadata": {
    "ExecuteTime": {
     "end_time": "2018-05-04T22:41:04.617137Z",
     "start_time": "2018-05-04T22:41:04.602659Z"
    }
   },
   "outputs": [],
   "source": [
    "advection_400_wet_region = numpy.nanmean(advection_400_tm[:,wet_latlon_subset], axis=1)\n",
    "advection_400_dry_region = numpy.nanmean(advection_400_tm[:,dry_latlon_subset], axis=1)\n",
    "\n",
    "advection_1000_wet_region = numpy.nanmean(advection_1000_tm[:,wet_latlon_subset], axis=1)\n",
    "advection_1000_dry_region = numpy.nanmean(advection_1000_tm[:,dry_latlon_subset], axis=1)\n",
    "\n",
    "advection_400_wet_region_day1 = numpy.nanmean(advection_400_tm_day1[:,wet_latlon_subset], axis=1)\n",
    "advection_400_dry_region_day1 = numpy.nanmean(advection_400_tm_day1[:,dry_latlon_subset], axis=1)\n",
    "\n",
    "advection_1000_wet_region_day1 = numpy.nanmean(advection_1000_tm_day1[:,wet_latlon_subset], axis=1)\n",
    "advection_1000_dry_region_day1 = numpy.nanmean(advection_1000_tm_day1[:,dry_latlon_subset], axis=1)"
   ]
  },
  {
   "cell_type": "code",
   "execution_count": 106,
   "metadata": {
    "ExecuteTime": {
     "end_time": "2018-05-04T22:41:18.904119Z",
     "start_time": "2018-05-04T22:41:18.889803Z"
    }
   },
   "outputs": [],
   "source": [
    "omega_400_wet = numpy.nanmean(omega_400_tm[:,wet_latlon_subset],axis=1)\n",
    "omega_400_dry = numpy.nanmean(omega_400_tm[:,dry_latlon_subset],axis=1)\n",
    "\n",
    "omega_1000_wet = numpy.nanmean(omega_1000_tm[:,wet_latlon_subset],axis=1)\n",
    "omega_1000_dry = numpy.nanmean(omega_1000_tm[:,dry_latlon_subset],axis=1)\n",
    "\n",
    "omega_400_wet_day1 = numpy.nanmean(omega_400_tm_day1[:,wet_latlon_subset],axis=1)\n",
    "omega_400_dry_day1 = numpy.nanmean(omega_400_tm_day1[:,dry_latlon_subset],axis=1)\n",
    "\n",
    "omega_1000_wet_day1 = numpy.nanmean(omega_1000_tm_day1[:,wet_latlon_subset],axis=1)\n",
    "omega_1000_dry_day1 = numpy.nanmean(omega_1000_tm_day1[:,dry_latlon_subset],axis=1)"
   ]
  },
  {
   "cell_type": "markdown",
   "metadata": {},
   "source": [
    "# plot vertical changes using ptot change"
   ]
  },
  {
   "cell_type": "code",
   "execution_count": 108,
   "metadata": {
    "ExecuteTime": {
     "end_time": "2018-05-04T22:41:22.186441Z",
     "start_time": "2018-05-04T22:41:21.606543Z"
    }
   },
   "outputs": [],
   "source": [
    "ptot_400_dry_region = numpy.nanmean(ptot_400_midpoints[:,:,dry_latlon_subset], axis=(0,2))\n",
    "ptot_400_wet_region = numpy.nanmean(ptot_400_midpoints[:,:,wet_latlon_subset], axis=(0,2))"
   ]
  },
  {
   "cell_type": "code",
   "execution_count": 143,
   "metadata": {
    "ExecuteTime": {
     "end_time": "2018-05-05T00:47:41.046809Z",
     "start_time": "2018-05-05T00:47:41.038287Z"
    }
   },
   "outputs": [],
   "source": [
    "diff_wet_region_dqdt = dqdt_1000_wet_region-dqdt_400_wet_region\n",
    "diff_dry_region_dqdt = dqdt_1000_dry_region-dqdt_400_dry_region\n",
    "\n",
    "diff_wet_region_dqdt_day1 = dqdt_1000_wet_region_day1-dqdt_400_wet_region_day1\n",
    "diff_dry_region_dqdt_day1 = dqdt_1000_dry_region_day1-dqdt_400_dry_region_day1"
   ]
  },
  {
   "cell_type": "code",
   "execution_count": 151,
   "metadata": {
    "ExecuteTime": {
     "end_time": "2018-05-05T00:55:42.877857Z",
     "start_time": "2018-05-05T00:55:42.869215Z"
    }
   },
   "outputs": [],
   "source": [
    "diff_wet_region_conv = convergence_1000_wet_region-convergence_400_wet_region\n",
    "diff_dry_region_conv = convergence_1000_dry_region-convergence_400_dry_region\n",
    "\n",
    "diff_wet_region_conv_day1 = convergence_1000_wet_region_day1-convergence_400_wet_region_day1\n",
    "diff_dry_region_conv_day1 = convergence_1000_dry_region_day1-convergence_400_dry_region_day1"
   ]
  },
  {
   "cell_type": "code",
   "execution_count": 156,
   "metadata": {
    "ExecuteTime": {
     "end_time": "2018-05-05T00:56:24.737988Z",
     "start_time": "2018-05-05T00:56:24.729364Z"
    }
   },
   "outputs": [],
   "source": [
    "diff_wet_region_adv = advection_1000_wet_region-advection_400_wet_region\n",
    "diff_dry_region_adv = advection_1000_dry_region-advection_400_dry_region\n",
    "\n",
    "diff_wet_region_adv_day1 = advection_1000_wet_region_day1-advection_400_wet_region_day1\n",
    "diff_dry_region_adv_day1 = advection_1000_dry_region_day1-advection_400_dry_region_day1"
   ]
  },
  {
   "cell_type": "code",
   "execution_count": 139,
   "metadata": {
    "ExecuteTime": {
     "end_time": "2018-05-05T00:46:04.046328Z",
     "start_time": "2018-05-05T00:46:04.038485Z"
    }
   },
   "outputs": [],
   "source": [
    "diff_dry_region_day1 = advection_1000_dry_day1-advection_400_dry_day1\n",
    "diff_wet_region_day1 = advection_1000_wet_day1-advection_400_wet_day1"
   ]
  },
  {
   "cell_type": "code",
   "execution_count": 140,
   "metadata": {
    "ExecuteTime": {
     "end_time": "2018-05-05T00:46:04.380587Z",
     "start_time": "2018-05-05T00:46:04.376297Z"
    }
   },
   "outputs": [],
   "source": [
    "omega_diff_wet_region = omega_1000_wet-omega_400_wet\n",
    "omega_diff_dry_region = omega_1000_dry-omega_400_dry\n",
    "\n",
    "omega_diff_wet_region_day1 = omega_1000_wet_day1-omega_400_wet_day1\n",
    "omega_diff_dry_region_day1 = omega_1000_dry_day1-omega_400_dry_day1"
   ]
  },
  {
   "cell_type": "markdown",
   "metadata": {},
   "source": [
    "## climatology"
   ]
  },
  {
   "cell_type": "code",
   "execution_count": 157,
   "metadata": {
    "ExecuteTime": {
     "end_time": "2018-05-05T00:56:31.268873Z",
     "start_time": "2018-05-05T00:56:27.806102Z"
    }
   },
   "outputs": [
    {
     "data": {
      "image/png": "[encoded data removed]",
      "text/plain": [
       "<Figure size 432x288 with 2 Axes>"
      ]
     },
     "metadata": {},
     "output_type": "display_data"
    }
   ],
   "source": [
    "fontsize=12\n",
    "\n",
    "fig = mp.figure(figsize=(6,4))\n",
    "\n",
    "ax = fig.add_subplot(121)\n",
    "\n",
    "ax.plot(advection_400_wet_region*1000.*86400.,ptot_400_wet_region/100., c='firebrick')\n",
    "ax.axvline(0, ls='--', c='0.1')\n",
    "ax.axhline(860, ls='--', c='0.1')\n",
    "ax.set_ylim(1000,50)\n",
    "\n",
    "ax.tick_params(labelsize=fontsize)\n",
    "ax.set_xlabel('g kg$^{\\,-1}$ day$^{\\,-1}$', fontsize=fontsize)\n",
    "ax.set_ylabel('hPa', fontsize=fontsize)\n",
    "\n",
    "ax.text(s='Andes (10d mean)', x=0, y=1.02, ha='left', va='bottom', transform=ax.transAxes, fontsize=fontsize)\n",
    "\n",
    "\n",
    "\n",
    "\n",
    "\n",
    "\n",
    "ax = fig.add_subplot(122)\n",
    "\n",
    "ax.plot(advection_400_dry_region*1000.*86400.,ptot_400_dry_region/100., c='firebrick')\n",
    "ax.axvline(0, ls='--', c='0.1')\n",
    "ax.axhline(860, ls='--', c='0.1')\n",
    "ax.set_ylim(1000,50)\n",
    "\n",
    "ax.tick_params(labelsize=fontsize)\n",
    "ax.set_xlabel('g kg$^{\\,-1}$ day$^{\\,-1}$', fontsize=fontsize)\n",
    "ax.set_ylabel('hPa', fontsize=fontsize)\n",
    "\n",
    "ax.text(s='Amazon (10d mean)', x=0, y=1.0, ha='left', va='bottom', transform=ax.transAxes, fontsize=fontsize)\n",
    "\n",
    "#ax.text(s='860\\nhPa', x=0.0175, y=860, ha='left', va='center', fontsize=fontsize)\n",
    "\n",
    "ax.text(s='MOISTURE\\nADVECTION', x=1.25,y=1., ha='left', va='top', rotation=-90, transform=ax.transAxes,  fontsize=60)\n",
    "fig.tight_layout()\n",
    "\n",
    "fig.savefig('climatological_moisture_advection.png', dpi=600, transparent=True, bbox_inches='tight')"
   ]
  },
  {
   "cell_type": "markdown",
   "metadata": {},
   "source": [
    "## add vertical advection only"
   ]
  },
  {
   "cell_type": "code",
   "execution_count": 159,
   "metadata": {
    "ExecuteTime": {
     "end_time": "2018-05-05T00:58:30.094084Z",
     "start_time": "2018-05-05T00:58:25.267714Z"
    }
   },
   "outputs": [
    {
     "data": {
      "image/png": "[encoded data removed]",
      "text/plain": [
       "<Figure size 432x576 with 4 Axes>"
      ]
     },
     "metadata": {},
     "output_type": "display_data"
    }
   ],
   "source": [
    "fontsize=12\n",
    "\n",
    "fig = mp.figure(figsize=(6,8))\n",
    "\n",
    "#####\n",
    "ax = fig.add_subplot(221)\n",
    "\n",
    "ax.plot(diff_wet_region_adv*1000.*86400.,ptot_400_wet_region/100., c='firebrick', label='full adv.')\n",
    "ax.plot(diff_wet_region_conv*1000.*86400.,ptot_400_wet_region/100.,c='firebrick',ls='--')\n",
    "ax.plot(diff_wet_region_dqdt*1000.*86400.,ptot_400_wet_region/100.,c='0.5', label='dqdt')\n",
    "\n",
    "ax.axvline(0, ls='--', c='0.1')\n",
    "ax.axhline(860, ls='--', c='0.1')\n",
    "ax.set_ylim(1000,50)\n",
    "\n",
    "ax.tick_params(labelsize=fontsize)\n",
    "ax.set_xlabel('g kg$^{\\,-1}$ day$^{\\,-1}$', fontsize=fontsize)\n",
    "ax.set_ylabel('hPa', fontsize=fontsize)\n",
    "\n",
    "ax.text(s='Andes (10d mean)', x=0, y=1.02, ha='left', va='bottom', transform=ax.transAxes, fontsize=fontsize)\n",
    "\n",
    "handles, labels = ax.get_legend_handles_labels()\n",
    "legend = ax.legend(handles, labels, fontsize=fontsize, bbox_to_anchor=(0.99,0.99), edgecolor='None', \\\n",
    "                   facecolor='None', fancybox=False, bbox_transform=ax.transAxes, loc='upper right', \\\n",
    "                   borderaxespad=0, borderpad=0.25, handlelength=1.0, handletextpad=0.5, \\\n",
    "                   columnspacing=0.5, markerscale=1)\n",
    "\n",
    "\n",
    "#####\n",
    "ax = fig.add_subplot(222)\n",
    "\n",
    "ax.plot(diff_dry_region_adv*1000.*86400.,ptot_400_dry_region/100., c='firebrick', label='moist. adv.')\n",
    "ax.plot(diff_dry_region_conv*1000.*86400.,ptot_400_dry_region/100.,c='firebrick',ls='--', label='moist. conv.')\n",
    "ax.plot(diff_dry_region_dqdt*1000.*86400.,ptot_400_dry_region/100.,c='0.5',label='dqdt')\n",
    "\n",
    "ax.axvline(0, ls='--', c='0.1')\n",
    "ax.axhline(860, ls='--', c='0.1')\n",
    "ax.set_ylim(1000,50)\n",
    "\n",
    "ax.tick_params(labelsize=fontsize)\n",
    "ax.set_xlabel('g kg$^{\\,-1}$ day$^{\\,-1}$', fontsize=fontsize)\n",
    "ax.set_ylabel('hPa', fontsize=fontsize)\n",
    "\n",
    "ax.text(s='Amazon (10d mean)', x=0, y=1.02, ha='left', va='bottom', transform=ax.transAxes, fontsize=fontsize)\n",
    "ax.text(s='860\\nhPa', x=0.023, y=860, ha='left', va='center', fontsize=fontsize)\n",
    "\n",
    "handles, labels = ax.get_legend_handles_labels()\n",
    "legend = ax.legend(handles, labels, fontsize=fontsize, bbox_to_anchor=(0.01,0.99), edgecolor='None', \\\n",
    "                   facecolor='None', fancybox=False, bbox_transform=ax.transAxes, loc='upper left', \\\n",
    "                   borderaxespad=0, borderpad=0.25, handlelength=1.0, handletextpad=0.5, \\\n",
    "                   columnspacing=0.5, markerscale=1)\n",
    "\n",
    "\n",
    "#####\n",
    "ax = fig.add_subplot(223)\n",
    "\n",
    "ax.plot(diff_wet_region_adv_day1*1000.*86400.,ptot_400_wet_region/100., c='firebrick', label='moist. adv.')\n",
    "ax.plot(diff_wet_region_conv_day1*1000.*86400.,ptot_400_wet_region/100., c='firebrick', label='moist. conv.')\n",
    "ax.plot(diff_wet_region_day1*1000.*86400.,ptot_400_wet_region/100., c='firebrick', label='dqdt')\n",
    "\n",
    "ax.axvline(0, ls='--', c='0.1')\n",
    "ax.axhline(860, ls='--', c='0.1')\n",
    "ax.set_ylim(1000,50)\n",
    "\n",
    "ax.tick_params(labelsize=fontsize)\n",
    "ax.set_xlabel('g kg$^{\\,-1}$ day$^{\\,-1}$', fontsize=fontsize)\n",
    "ax.set_ylabel('hPa', fontsize=fontsize)\n",
    "\n",
    "ax.text(s='Andes (day 1)', x=0, y=1.02, ha='left', va='bottom', transform=ax.transAxes, fontsize=fontsize)\n",
    "\n",
    "#####\n",
    "ax = fig.add_subplot(224)\n",
    "\n",
    "ax.plot(diff_dry_region_adv_day1*1000.*86400.,ptot_400_wet_region/100., c='firebrick', label='moist. adv.')\n",
    "ax.plot(diff_dry_region_conv_day1*1000.*86400.,ptot_400_wet_region/100., c='firebrick', label='moist. conv.')\n",
    "ax.plot(diff_dry_region_day1*1000.*86400.,ptot_400_wet_region/100., c='firebrick', label='dqdt')\n",
    "\n",
    "ax.axvline(0, ls='--', c='0.1')\n",
    "ax.axhline(860, ls='--', c='0.1')\n",
    "ax.set_ylim(1000,50)\n",
    "\n",
    "ax.tick_params(labelsize=fontsize)\n",
    "ax.set_xlabel('g kg$^{\\,-1}$ day$^{\\,-1}$', fontsize=fontsize)\n",
    "ax.set_ylabel('hPa', fontsize=fontsize)\n",
    "\n",
    "ax.text(s='Amazon (day 1)', x=0, y=1.02, ha='left', va='bottom', transform=ax.transAxes, fontsize=fontsize)\n",
    "\n",
    "\n",
    "fig.tight_layout()\n",
    "\n",
    "fig.savefig('mean_moisture_advection_10d_and_day1.png', dpi=600, transparent=True, bbox_inches='tight')"
   ]
  },
  {
   "cell_type": "markdown",
   "metadata": {},
   "source": [
    "## plot omega vertical structure change"
   ]
  },
  {
   "cell_type": "code",
   "execution_count": 117,
   "metadata": {
    "ExecuteTime": {
     "end_time": "2018-05-04T22:47:54.630678Z",
     "start_time": "2018-05-04T22:47:49.887322Z"
    }
   },
   "outputs": [
    {
     "data": {
      "image/png": "[encoded data removed]",
      "text/plain": [
       "<Figure size 432x576 with 4 Axes>"
      ]
     },
     "metadata": {},
     "output_type": "display_data"
    }
   ],
   "source": [
    "fontsize=12\n",
    "\n",
    "fig = mp.figure(figsize=(6,8))\n",
    "\n",
    "ax = fig.add_subplot(221)\n",
    "\n",
    "ax.plot(omega_diff_wet_region*86400./100.,ptot_400_wet_region/100., c='firebrick', label='10d mean')\n",
    "ax.plot(omega_diff_wet_region_day1*86400./100.,ptot_400_wet_region/100., c='dodgerblue', label='day 1')\n",
    "ax.axvline(0, ls='--', c='0.1')\n",
    "ax.axhline(860, ls='--', c='0.1')\n",
    "ax.set_ylim(1000,50)\n",
    "\n",
    "ax.tick_params(labelsize=fontsize)\n",
    "ax.set_xlabel('$\\Delta\\omega$ (hPa day$^{\\,-1}$)', fontsize=fontsize)\n",
    "ax.set_ylabel('hPa', fontsize=fontsize)\n",
    "\n",
    "ax.text(s='Andes', x=0, y=1.02, ha='left', va='bottom', transform=ax.transAxes, fontsize=fontsize)\n",
    "\n",
    "handles, labels = ax.get_legend_handles_labels()\n",
    "handles = handles[::-1]; labels=labels[::-1] # to reverse\n",
    "legend = ax.legend(handles, labels, fontsize=fontsize, bbox_to_anchor=(0.03,0.99), edgecolor='None', \\\n",
    "                   facecolor='None', fancybox=False, bbox_transform=ax.transAxes, loc='upper left', \\\n",
    "                   borderaxespad=0, borderpad=0.25, handlelength=1.0, handletextpad=0.5, \\\n",
    "                   columnspacing=0.5, markerscale=1)\n",
    "\n",
    "\n",
    "\n",
    "\n",
    "\n",
    "\n",
    "ax = fig.add_subplot(222)\n",
    "\n",
    "ax.plot(omega_diff_dry_region*86400./100.,ptot_400_dry_region/100., c='firebrick')\n",
    "ax.plot(omega_diff_dry_region_day1*86400./100.,ptot_400_dry_region/100., c='dodgerblue')\n",
    "ax.axvline(0, ls='--', c='0.1')\n",
    "ax.axhline(860, ls='--', c='0.1')\n",
    "ax.set_ylim(1000,50)\n",
    "\n",
    "ax.tick_params(labelsize=fontsize)\n",
    "ax.set_xlabel('$\\Delta\\omega$ (hPa day$^{\\,-1}$)', fontsize=fontsize)\n",
    "ax.set_ylabel('hPa', fontsize=fontsize)\n",
    "\n",
    "ax.text(s='Amazon', x=0, y=1.02, ha='left', va='bottom', transform=ax.transAxes, fontsize=fontsize)\n",
    "\n",
    "\n",
    "\n",
    "\n",
    "\n",
    "ax = fig.add_subplot(223)\n",
    "\n",
    "ax.plot(omega_400_wet*86400./100.,ptot_400_wet_region/100., c='firebrick', label='10d mean')\n",
    "ax.axvline(0, ls='--', c='0.1')\n",
    "ax.axhline(860, ls='--', c='0.1')\n",
    "ax.set_ylim(1000,50)\n",
    "\n",
    "ax.tick_params(labelsize=fontsize)\n",
    "ax.set_xlabel('$\\omega$ (hPa day$^{\\,-1}$)', fontsize=fontsize)\n",
    "ax.set_ylabel('hPa', fontsize=fontsize)\n",
    "\n",
    "ax.text(s='Andes', x=0, y=1.02, ha='left', va='bottom', transform=ax.transAxes, fontsize=fontsize)\n",
    "\n",
    "handles, labels = ax.get_legend_handles_labels()\n",
    "handles = handles[::-1]; labels=labels[::-1] # to reverse\n",
    "legend = ax.legend(handles, labels, fontsize=fontsize, bbox_to_anchor=(0.03,0.99), edgecolor='None', \\\n",
    "                   facecolor='None', fancybox=False, bbox_transform=ax.transAxes, loc='upper left', \\\n",
    "                   borderaxespad=0, borderpad=0.25, handlelength=1.0, handletextpad=0.5, \\\n",
    "                   columnspacing=0.5, markerscale=1)\n",
    "\n",
    "\n",
    "\n",
    "\n",
    "\n",
    "\n",
    "ax = fig.add_subplot(224)\n",
    "\n",
    "ax.plot(omega_400_dry*86400./100.,ptot_400_dry_region/100., c='firebrick')\n",
    "ax.axvline(0, ls='--', c='0.1')\n",
    "ax.axhline(860, ls='--', c='0.1')\n",
    "ax.set_ylim(1000,50)\n",
    "\n",
    "ax.tick_params(labelsize=fontsize)\n",
    "ax.set_xlabel('$\\omega$ (hPa day$^{\\,-1}$)', fontsize=fontsize)\n",
    "ax.set_ylabel('hPa', fontsize=fontsize)\n",
    "\n",
    "ax.text(s='Amazon', x=0, y=1.02, ha='left', va='bottom', transform=ax.transAxes, fontsize=fontsize)\n",
    "\n",
    "\n",
    "fig.tight_layout()\n",
    "\n",
    "fig.savefig('vertical_velocity_andes_amazon.png', dpi=600, transparent=True, bbox_inches='tight')"
   ]
  },
  {
   "cell_type": "code",
   "execution_count": null,
   "metadata": {},
   "outputs": [],
   "source": []
  },
  {
   "cell_type": "code",
   "execution_count": null,
   "metadata": {},
   "outputs": [],
   "source": []
  },
  {
   "cell_type": "markdown",
   "metadata": {},
   "source": [
    "# hourly vertical profile plots"
   ]
  },
  {
   "cell_type": "code",
   "execution_count": 118,
   "metadata": {
    "ExecuteTime": {
     "end_time": "2018-05-04T22:48:08.366306Z",
     "start_time": "2018-05-04T22:48:07.617758Z"
    }
   },
   "outputs": [],
   "source": [
    "ptot_400_lat_subset = ptot_400_midpoints[:,:,lat_indices[:,0],:]\n",
    "ptot_1000_lat_subset = ptot_1000_midpoints[:,:,lat_indices[:,0],:]"
   ]
  },
  {
   "cell_type": "code",
   "execution_count": 119,
   "metadata": {
    "ExecuteTime": {
     "end_time": "2018-05-04T22:48:09.852426Z",
     "start_time": "2018-05-04T22:48:08.474195Z"
    }
   },
   "outputs": [],
   "source": [
    "advection_400_lat_subset = advection_400[:,:,lat_indices[:,0],:]\n",
    "advection_1000_lat_subset = advection_1000[:,:,lat_indices[:,0],:]\n",
    "\n",
    "convergence_400_lat_subset = convergence_400[:,:,lat_indices[:,0],:]\n",
    "convergence_1000_lat_subset = convergence_1000[:,:,lat_indices[:,0],:]"
   ]
  },
  {
   "cell_type": "code",
   "execution_count": 120,
   "metadata": {
    "ExecuteTime": {
     "end_time": "2018-05-04T22:48:17.409234Z",
     "start_time": "2018-05-04T22:48:11.950418Z"
    }
   },
   "outputs": [],
   "source": [
    "cont_adv_latmean = numpy.nanmean(advection_400_lat_subset, axis=2)\n",
    "phys_adv_latmean = numpy.nanmean(advection_1000_lat_subset, axis=2)\n",
    "\n",
    "cont_conv_latmean = numpy.nanmean(convergence_400_lat_subset, axis=2)\n",
    "phys_conv_latmean = numpy.nanmean(convergence_1000_lat_subset, axis=2)"
   ]
  },
  {
   "cell_type": "code",
   "execution_count": 121,
   "metadata": {
    "ExecuteTime": {
     "end_time": "2018-05-04T22:48:26.985073Z",
     "start_time": "2018-05-04T22:48:25.782388Z"
    }
   },
   "outputs": [],
   "source": [
    "dqdt_400_lat_subset = dqdt_400[:,:,lat_indices[:,0],:]\n",
    "dqdt_1000_lat_subset = dqdt_1000[:,:,lat_indices[:,0],:]"
   ]
  },
  {
   "cell_type": "code",
   "execution_count": 122,
   "metadata": {
    "ExecuteTime": {
     "end_time": "2018-05-04T22:51:35.085870Z",
     "start_time": "2018-05-04T22:51:29.657346Z"
    }
   },
   "outputs": [],
   "source": [
    "dqclouddt_400_lat_subset = dqclouddt_400[:,:,lat_indices[:,0],:]\n",
    "dqclouddt_1000_lat_subset = dqclouddt_1000[:,:,lat_indices[:,0],:]"
   ]
  },
  {
   "cell_type": "code",
   "execution_count": 123,
   "metadata": {
    "ExecuteTime": {
     "end_time": "2018-05-04T22:51:46.040769Z",
     "start_time": "2018-05-04T22:51:35.094140Z"
    }
   },
   "outputs": [],
   "source": [
    "dqraindt_400_lat_subset = dqraindt_400[:,:,lat_indices[:,0],:]\n",
    "dqraindt_1000_lat_subset = dqraindt_1000[:,:,lat_indices[:,0],:]"
   ]
  },
  {
   "cell_type": "markdown",
   "metadata": {},
   "source": [
    "# lat means"
   ]
  },
  {
   "cell_type": "code",
   "execution_count": null,
   "metadata": {
    "ExecuteTime": {
     "end_time": "2018-04-16T23:35:34.479995Z",
     "start_time": "2018-04-16T23:35:33.361079Z"
    }
   },
   "outputs": [],
   "source": [
    "ptot_400_latmean = numpy.nanmean(ptot_400_lat_subset, axis=2)\n",
    "ptot_1000_latmean = numpy.nanmean(ptot_1000_lat_subset, axis=2)"
   ]
  },
  {
   "cell_type": "code",
   "execution_count": null,
   "metadata": {
    "ExecuteTime": {
     "end_time": "2018-04-16T23:35:36.297770Z",
     "start_time": "2018-04-16T23:35:34.482195Z"
    }
   },
   "outputs": [],
   "source": [
    "dqdt_400_latmean = numpy.nanmean(dqdt_400_lat_subset, axis=2)\n",
    "dqdt_1000_latmean = numpy.nanmean(dqdt_1000_lat_subset, axis=2)"
   ]
  },
  {
   "cell_type": "code",
   "execution_count": null,
   "metadata": {
    "ExecuteTime": {
     "end_time": "2018-04-16T23:35:38.122411Z",
     "start_time": "2018-04-16T23:35:36.300243Z"
    }
   },
   "outputs": [],
   "source": [
    "dqclouddt_400_latmean = numpy.nanmean(dqclouddt_400_lat_subset, axis=2)\n",
    "dqclouddt_1000_latmean = numpy.nanmean(dqclouddt_1000_lat_subset, axis=2)"
   ]
  },
  {
   "cell_type": "code",
   "execution_count": null,
   "metadata": {
    "ExecuteTime": {
     "end_time": "2018-04-16T23:35:39.922155Z",
     "start_time": "2018-04-16T23:35:38.124635Z"
    }
   },
   "outputs": [],
   "source": [
    "dqraindt_400_latmean = numpy.nanmean(dqraindt_400_lat_subset, axis=2)\n",
    "dqraindt_1000_latmean = numpy.nanmean(dqraindt_1000_lat_subset, axis=2)"
   ]
  },
  {
   "cell_type": "code",
   "execution_count": null,
   "metadata": {
    "ExecuteTime": {
     "end_time": "2018-04-16T23:35:40.763776Z",
     "start_time": "2018-04-16T23:35:39.924240Z"
    }
   },
   "outputs": [],
   "source": [
    "ptot_400_midpoints_lat_subset = ptot_400_midpoints[:,:,lat_indices[:,0],:]\n",
    "ptot_400_midpoints_latmean = numpy.nanmean(ptot_400_midpoints_lat_subset, axis=2)"
   ]
  },
  {
   "cell_type": "code",
   "execution_count": null,
   "metadata": {
    "ExecuteTime": {
     "end_time": "2018-04-16T23:35:40.770165Z",
     "start_time": "2018-04-16T23:35:40.765966Z"
    }
   },
   "outputs": [],
   "source": [
    "xx,zz=numpy.meshgrid(xlong_midpoints[0,:],ptot_400_midpoints[0,:,:,0].mean(axis=1))"
   ]
  },
  {
   "cell_type": "code",
   "execution_count": null,
   "metadata": {
    "ExecuteTime": {
     "end_time": "2018-04-16T23:35:41.636787Z",
     "start_time": "2018-04-16T23:35:40.772089Z"
    }
   },
   "outputs": [],
   "source": [
    "diff_adv_latmean = phys_adv_latmean-cont_adv_latmean\n",
    "diff_conv_latmean = phys_conv_latmean-cont_conv_latmean\n",
    "diff_dqdt_latmean = dqdt_1000_latmean-dqdt_400_latmean\n",
    "diff_dqclouddt_latmean = dqclouddt_1000_latmean-dqclouddt_400_latmean\n",
    "diff_dqraindt_latmean = dqraindt_1000_latmean-dqraindt_400_latmean"
   ]
  },
  {
   "cell_type": "markdown",
   "metadata": {},
   "source": [
    "## with residuals and qcloud and qrain"
   ]
  },
  {
   "cell_type": "code",
   "execution_count": null,
   "metadata": {
    "ExecuteTime": {
     "end_time": "2018-04-17T00:31:12.715256Z",
     "start_time": "2018-04-17T00:28:10.190398Z"
    }
   },
   "outputs": [],
   "source": [
    "#cf=mp.contourf(xx+360.,ptot_400_midpoints_latmean[10,:,:]/100.,cont_adv_latmean[10,:,:]*86400.*1000., cmap='RdBu', levels=numpy.arange(-10,11,2));mp.colorbar(cf)\n",
    "\n",
    "fontsize = 12\n",
    "\n",
    "xticks_deg_E=numpy.array((280,300,320))\n",
    "xticks = -(360-xticks_deg_E)\n",
    "xticks_format=[str(tick)+DEGREE_SIGN+'E' for tick in xticks_deg_E]\n",
    "\n",
    "t = 24\n",
    "\n",
    "for t in range(48):\n",
    "    \n",
    "    fig = mp.figure(figsize=(8.5,7.5))\n",
    "    \n",
    "    ax = fig.add_subplot(321)\n",
    "    ax.set_ylim(1000,700)\n",
    "\n",
    "    ax.set_facecolor('0.1')\n",
    "    contour1 = ax.contourf(xx+360.,ptot_400_midpoints_latmean[t,:,:]/100.,\\\n",
    "                diff_dqdt_latmean[t,:,:]*86400.*1000., \\\n",
    "                levels=numpy.arange(-3,3.1,0.5), \\\n",
    "                cmap='RdBu', \\\n",
    "                extend='both')\n",
    "    ax.tick_params(labelsize=fontsize)\n",
    "    ax.set_ylim(1000,700)\n",
    "    ax.set_yticks([700,800,900,1000])\n",
    "    ax.set_xlim(xlong.min()+55.+360.,xlong.max()+360.)\n",
    "    ax.set_xticks([280,300,320])\n",
    "    ax.set_xticklabels(xticks_format)\n",
    "    ax.set_ylabel('hPa', fontsize=fontsize)\n",
    "    cbar = mp.colorbar(contour1)\n",
    "    cbar.ax.tick_params(labelsize=fontsize)\n",
    "    cbar.set_label('g $kg^{\\,-1}$ day$^{\\,-1}$', fontsize=fontsize)\n",
    "    ax.set_title('dqdt', fontsize=fontsize)\n",
    "    \n",
    "    \n",
    "    ax = fig.add_subplot(322)\n",
    "    ax.set_ylim(1000,700)\n",
    "    ax.set_facecolor('0.1')\n",
    "\n",
    "    contour2 = ax.contourf(xx+360.,ptot_400_midpoints_latmean[t,:,:]/100.,\\\n",
    "                diff_conv_latmean[t,:,:]*86400.*1000., \\\n",
    "                levels=numpy.arange(-3,4,0.5),\\\n",
    "                cmap='RdBu', \\\n",
    "                extend='both')\n",
    "    ax.tick_params(labelsize=fontsize)\n",
    "    ax.set_ylim(1000,700)\n",
    "    ax.set_yticks([700,800,900,1000])\n",
    "    ax.set_xlim(xlong.min()+55.+360.,xlong.max()+360.)\n",
    "    cbar = mp.colorbar(contour2)\n",
    "    cbar.ax.tick_params(labelsize=fontsize)\n",
    "    cbar.set_label('g $kg^{\\,-1}$ day$^{\\,-1}$', fontsize=fontsize)\n",
    "    ax.set_xticks([280,300,320])\n",
    "    ax.set_xticklabels(xticks_format)\n",
    "    ax.set_ylabel('hPa', fontsize=fontsize)\n",
    "    ax.set_title('convergence', fontsize=fontsize)\n",
    "\n",
    "\n",
    "\n",
    "    ax = fig.add_subplot(323)\n",
    "    ax.set_ylim(1000,700)\n",
    "    ax.set_facecolor('0.1')\n",
    "\n",
    "    contour3 = ax.contourf(xx+360.,ptot_400_midpoints_latmean[t,:,:]/100.,\\\n",
    "                diff_adv_latmean[t,:,:]*86400.*1000., \\\n",
    "                levels=numpy.arange(-3,3.1,0.5), \\\n",
    "                cmap='RdBu', \\\n",
    "                extend='both')\n",
    "    ax.tick_params(labelsize=fontsize)\n",
    "    ax.set_ylim(1000,700)\n",
    "    ax.set_yticks([700,800,900,1000])\n",
    "    ax.set_xlim(xlong.min()+55.+360.,xlong.max()+360.)\n",
    "    cbar = mp.colorbar(contour3)\n",
    "    cbar.ax.tick_params(labelsize=fontsize)\n",
    "    cbar.set_label('g $kg^{\\,-1}$ day$^{\\,-1}$', fontsize=fontsize)\n",
    "    ax.set_xticks([280,300,320])\n",
    "    ax.set_xticklabels(xticks_format)\n",
    "    ax.set_ylabel('hPa', fontsize=fontsize)\n",
    "    ax.set_title('advection', fontsize=fontsize)\n",
    "\n",
    "\n",
    "\n",
    "    ax = fig.add_subplot(324)\n",
    "    ax.set_ylim(1000,700)\n",
    "    ax.set_facecolor('0.1')\n",
    "\n",
    "    contour4 = ax.contourf(xx+360.,ptot_400_midpoints_latmean[t,:,:]/100.,\\\n",
    "                diff_dqclouddt_latmean[t,:,:]*86400.*1000., \\\n",
    "                levels=numpy.arange(-3,3.1,0.5), \\\n",
    "                cmap='RdBu', \\\n",
    "                extend='both')\n",
    "    ax.tick_params(labelsize=fontsize)\n",
    "    ax.set_ylim(1000,700)\n",
    "    ax.set_yticks([700,800,900,1000])\n",
    "    ax.set_xlim(xlong.min()+55.+360.,xlong.max()+360.)\n",
    "    cbar = mp.colorbar(contour4)\n",
    "    cbar.ax.tick_params(labelsize=fontsize)\n",
    "    cbar.set_label('g $kg^{\\,-1}$ day$^{\\,-1}$', fontsize=fontsize)\n",
    "    ax.set_xticks([280,300,320])\n",
    "    ax.set_xticklabels(xticks_format)\n",
    "    ax.set_ylabel('hPa', fontsize=fontsize)\n",
    "    ax.set_title('dqdt for clouds', fontsize=fontsize)\n",
    "\n",
    "\n",
    "    ax = fig.add_subplot(325)\n",
    "    ax.set_ylim(1000,700)\n",
    "    ax.set_facecolor('0.1')\n",
    "\n",
    "    contour5 = ax.contourf(xx+360.,ptot_400_midpoints_latmean[t,:,:]/100.,\\\n",
    "                diff_dqraindt_latmean[t,:,:]*86400.*1000., \\\n",
    "                levels=numpy.arange(-3,3.1,0.5), \\\n",
    "                cmap='RdBu', \\\n",
    "                extend='both')\n",
    "    ax.tick_params(labelsize=fontsize)\n",
    "    ax.set_ylim(1000,700)\n",
    "    ax.set_yticks([700,800,900,1000])\n",
    "    ax.set_xlim(xlong.min()+55.+360.,xlong.max()+360.)\n",
    "    cbar = mp.colorbar(contour5)\n",
    "    cbar.ax.tick_params(labelsize=fontsize)\n",
    "    cbar.set_label('g $kg^{\\,-1}$ day$^{\\,-1}$', fontsize=fontsize)\n",
    "    ax.set_xticks([280,300,320])\n",
    "    ax.set_xticklabels(xticks_format)\n",
    "    ax.set_ylabel('hPa', fontsize=fontsize)\n",
    "    ax.set_title('dqdt for rain', fontsize=fontsize)\n",
    "    \n",
    "    ax = fig.add_subplot(326)\n",
    "    ax.set_ylim(1000,700)\n",
    "    ax.set_facecolor('0.1')\n",
    "\n",
    "    contour6 = ax.contourf(xx+360.,ptot_400_midpoints_latmean[t,:,:]/100.,\\\n",
    "                (diff_dqdt_latmean[t,:,:]-(diff_adv_latmean[t,:,:]+\\\n",
    "                                           diff_conv_latmean[t,:,:]+\\\n",
    "                                           diff_dqclouddt_latmean[t,:,:]+\\\n",
    "                                           diff_dqraindt_latmean[t,:,:]))*86400.*1000., \\\n",
    "                levels=numpy.arange(-3,3.1,0.5), \\\n",
    "                cmap='RdBu', \\\n",
    "                extend='both')\n",
    "    ax.tick_params(labelsize=fontsize)\n",
    "    ax.set_ylim(1000,700)\n",
    "    ax.set_yticks([700,800,900,1000])\n",
    "    ax.set_xlim(xlong.min()+55.+360.,xlong.max()+360.)\n",
    "    cbar = mp.colorbar(contour4)\n",
    "    cbar.ax.tick_params(labelsize=fontsize)\n",
    "    cbar.set_label('g $kg^{\\,-1}$ day$^{\\,-1}$', fontsize=fontsize)\n",
    "    ax.set_xticks([280,300,320])\n",
    "    ax.set_xticklabels(xticks_format)\n",
    "    ax.set_ylabel('hPa', fontsize=fontsize)\n",
    "    ax.set_title('residual', fontsize=fontsize)\n",
    "\n",
    "    \n",
    "    \n",
    "    fig.text(s='hour '+'{:02d}'.format(t+1), x=0.5, y=1., weight='bold', ha='center', transform=fig.transFigure, fontsize=fontsize)\n",
    "    \n",
    "    fig.tight_layout()\n",
    "    fig.savefig('dqdt_convergence_advection_hour'+'{:03d}'.format(t+1)+'.png', dpi=600, bbox_inches='tight')\n",
    "    \n",
    "    mp.close()\n",
    "    \n",
    "    "
   ]
  },
  {
   "cell_type": "markdown",
   "metadata": {},
   "source": [
    "# what about perturbation pressure?"
   ]
  },
  {
   "cell_type": "code",
   "execution_count": null,
   "metadata": {
    "ExecuteTime": {
     "end_time": "2018-04-16T23:17:07.747331Z",
     "start_time": "2018-04-16T23:16:57.836Z"
    }
   },
   "outputs": [],
   "source": [
    "diff_p_latmean = ptot_1000_latmean - ptot_400_latmean"
   ]
  },
  {
   "cell_type": "code",
   "execution_count": null,
   "metadata": {
    "ExecuteTime": {
     "end_time": "2018-04-16T23:17:07.748380Z",
     "start_time": "2018-04-16T23:16:57.840Z"
    }
   },
   "outputs": [],
   "source": [
    "fontsize = 12\n",
    "\n",
    "xticks_deg_E=numpy.array((280,300,320))\n",
    "xticks = -(360-xticks_deg_E)\n",
    "xticks_format=[str(tick)+DEGREE_SIGN+'E' for tick in xticks_deg_E]\n",
    "\n",
    "for t in range(48):\n",
    "    \n",
    "    fig = mp.figure(figsize=(4.25,2.5))\n",
    "    \n",
    "    ax = fig.add_subplot(111)\n",
    "    ax.set_ylim(1000,500)\n",
    "\n",
    "    ax.set_facecolor('0.1')\n",
    "    contour1 = ax.contourf(xx+360.,ptot_400_midpoints_latmean[t,:,:]/100.,\\\n",
    "                diff_p_latmean[t,:,:]/100., \\\n",
    "                levels=numpy.arange(-0.4,0.41,0.05), \\\n",
    "                cmap='RdBu', \\\n",
    "                extend='both')\n",
    "    ax.tick_params(labelsize=fontsize)\n",
    "    ax.set_ylim(1000,700)\n",
    "    ax.set_yticks([500,600,700,800,900,1000])\n",
    "    ax.set_xlim(xlong.min()+55.+360.,xlong.max()+360.)\n",
    "    ax.set_xticks([280,300,320])\n",
    "    ax.set_xticklabels(xticks_format)\n",
    "    ax.set_ylabel('hPa', fontsize=fontsize)\n",
    "    cbar = mp.colorbar(contour1)\n",
    "    cbar.ax.tick_params(labelsize=fontsize)\n",
    "    cbar.set_label('hPa', fontsize=fontsize)\n",
    "    ax.set_title('pert. pressure', fontsize=fontsize)\n",
    "    \n",
    "    fig.text(s='hour '+'{:02d}'.format(t+1), x=0.5, y=1., weight='bold', ha='center', transform=fig.transFigure, fontsize=fontsize)\n",
    "    \n",
    "    fig.tight_layout()\n",
    "    fig.savefig('p_pert_hour'+'{:03d}'.format(t+1)+'.png', dpi=600, bbox_inches='tight')\n",
    "    \n",
    "    mp.close()"
   ]
  },
  {
   "cell_type": "code",
   "execution_count": null,
   "metadata": {},
   "outputs": [],
   "source": []
  }
 ],
 "metadata": {
  "kernelspec": {
   "display_name": "Python 3",
   "language": "python",
   "name": "python3"
  },
  "language_info": {
   "codemirror_mode": {
    "name": "ipython",
    "version": 3
   },
   "file_extension": ".py",
   "mimetype": "text/x-python",
   "name": "python",
   "nbconvert_exporter": "python",
   "pygments_lexer": "ipython3",
   "version": "3.6.5"
  }
 },
 "nbformat": 4,
 "nbformat_minor": 2
}
