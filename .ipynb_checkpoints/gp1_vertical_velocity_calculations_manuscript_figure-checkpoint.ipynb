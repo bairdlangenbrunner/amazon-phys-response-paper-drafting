{
 "cells": [
  {
   "cell_type": "markdown",
   "metadata": {},
   "source": [
    "# import libraries"
   ]
  },
  {
   "cell_type": "code",
   "execution_count": 1,
   "metadata": {
    "ExecuteTime": {
     "end_time": "2018-06-29T23:43:44.594497Z",
     "start_time": "2018-06-29T23:43:42.003331Z"
    }
   },
   "outputs": [
    {
     "name": "stderr",
     "output_type": "stream",
     "text": [
      "/export/home/blangenb/anaconda3/lib/python3.6/site-packages/cmocean/tools.py:76: MatplotlibDeprecationWarning: The is_string_like function was deprecated in version 2.1.\n",
      "  if not mpl.cbook.is_string_like(rgbin[0]):\n"
     ]
    }
   ],
   "source": [
    "import numpy\n",
    "import xarray\n",
    "import matplotlib\n",
    "import matplotlib.pyplot as mp\n",
    "import datetime\n",
    "import matplotlib.colors\n",
    "import scipy.stats\n",
    "import itertools\n",
    "import string\n",
    "import matplotlib.patches\n",
    "import glob\n",
    "import matplotlib.gridspec\n",
    "import cmocean\n",
    "\n",
    "import wrf\n",
    "import netCDF4\n",
    "\n",
    "import pandas\n",
    "\n",
    "import matplotlib.ticker\n",
    "import cartopy.mpl.gridliner #import LONGITUDE_FORMATTER, LATITUDE_FORMATTER\n",
    "\n",
    "import mpl_toolkits\n",
    "import cartopy\n",
    "import cartopy.io.shapereader\n",
    "\n",
    "DEGREE_SIGN = u'\\u00B0'\n",
    "mp.rcParams.update({'mathtext.default': 'regular'})\n",
    "\n",
    "% matplotlib inline"
   ]
  },
  {
   "cell_type": "code",
   "execution_count": 2,
   "metadata": {
    "ExecuteTime": {
     "end_time": "2018-06-29T23:43:44.627900Z",
     "start_time": "2018-06-29T23:43:44.620665Z"
    }
   },
   "outputs": [],
   "source": [
    "run_info = 'FMAASO'\n",
    "skip_time=0"
   ]
  },
  {
   "cell_type": "markdown",
   "metadata": {},
   "source": [
    "# opening mean fields"
   ]
  },
  {
   "cell_type": "markdown",
   "metadata": {},
   "source": [
    "## control data"
   ]
  },
  {
   "cell_type": "code",
   "execution_count": 3,
   "metadata": {
    "ExecuteTime": {
     "end_time": "2018-06-29T23:43:45.179608Z",
     "start_time": "2018-06-29T23:43:44.938076Z"
    }
   },
   "outputs": [],
   "source": [
    "root_dir = '/beegfs/DATA/pritchard/blangenb/WRF_ARCHIVE/CHEYENNE/FMAASO/400/ens_mean_wrfout_files'\n",
    "file_list = sorted(glob.glob(root_dir+'/'+'wrfout*.nc'))\n",
    "ds_list = [netCDF4.Dataset(file) for file in file_list]\n",
    "cont_mfds = xarray.open_mfdataset(root_dir + '/' + 'wrfout*.nc')"
   ]
  },
  {
   "cell_type": "code",
   "execution_count": 4,
   "metadata": {
    "ExecuteTime": {
     "end_time": "2018-06-29T23:45:33.154002Z",
     "start_time": "2018-06-29T23:44:06.872598Z"
    }
   },
   "outputs": [],
   "source": [
    "ptot_400 = numpy.load('DATA_ptot_400.npy')\n",
    "geopot_400 = numpy.load('DATA_geopot_400.npy')\n",
    "wa_400 = numpy.load('DATA_wa_400.npy')"
   ]
  },
  {
   "cell_type": "code",
   "execution_count": 6,
   "metadata": {
    "ExecuteTime": {
     "end_time": "2018-06-29T23:46:09.786270Z",
     "start_time": "2018-06-29T23:45:38.223469Z"
    }
   },
   "outputs": [],
   "source": [
    "time = cont_mfds['Times'].values\n",
    "xlat = cont_mfds['XLAT'].values[0,:,:]\n",
    "xlong = cont_mfds['XLONG'].values[0,:,:]\n",
    "landmask = cont_mfds['LANDMASK'].values[0,:,:]\n",
    "landmask_midpoints = landmask[1:,1:]"
   ]
  },
  {
   "cell_type": "code",
   "execution_count": 7,
   "metadata": {
    "ExecuteTime": {
     "end_time": "2018-06-29T23:46:10.207245Z",
     "start_time": "2018-06-29T23:46:10.198931Z"
    }
   },
   "outputs": [],
   "source": [
    "#qvapor_400 = cont_mfds['QVAPOR']\n",
    "#u_400 = cont_mfds['U']\n",
    "#v_400 = cont_mfds['V']\n",
    "#w_400 = cont_mfds['W']\n",
    "#qcloud_400 = cont_mfds['QCLOUD']\n",
    "#qrain_400 = cont_mfds['QRAIN']"
   ]
  },
  {
   "cell_type": "code",
   "execution_count": 8,
   "metadata": {
    "ExecuteTime": {
     "end_time": "2018-06-29T23:46:10.618750Z",
     "start_time": "2018-06-29T23:46:10.611186Z"
    }
   },
   "outputs": [],
   "source": [
    "rainc_400 = cont_mfds['RAINC']\n",
    "rainnc_400 = cont_mfds['RAINNC']"
   ]
  },
  {
   "cell_type": "markdown",
   "metadata": {},
   "source": [
    "## phys data"
   ]
  },
  {
   "cell_type": "code",
   "execution_count": 13,
   "metadata": {
    "ExecuteTime": {
     "end_time": "2018-06-30T00:00:10.966221Z",
     "start_time": "2018-06-29T23:59:59.717319Z"
    }
   },
   "outputs": [],
   "source": [
    "root_dir = '/beegfs/DATA/pritchard/blangenb/WRF_ARCHIVE/CHEYENNE/FMAASO/1000/ens_mean_wrfout_files'\n",
    "file_list = sorted(glob.glob(root_dir+'/'+'wrfout*.nc'))\n",
    "ds_list = [netCDF4.Dataset(file) for file in file_list]\n",
    "phys_mfds = xarray.open_mfdataset(root_dir + '/' + 'wrfout*.nc')"
   ]
  },
  {
   "cell_type": "code",
   "execution_count": 14,
   "metadata": {
    "ExecuteTime": {
     "end_time": "2018-06-30T00:00:43.956287Z",
     "start_time": "2018-06-30T00:00:14.070183Z"
    }
   },
   "outputs": [],
   "source": [
    "#ptot_1000 = numpy.load('DATA_ptot_1000.npy')\n",
    "wa_1000 = numpy.load('DATA_wa_1000.npy')\n",
    "#geopot_1000 = numpy.load('DATA_geopot_1000.npy')"
   ]
  },
  {
   "cell_type": "raw",
   "metadata": {
    "ExecuteTime": {
     "end_time": "2018-05-29T19:15:49.684136Z",
     "start_time": "2018-05-29T19:15:49.673673Z"
    }
   },
   "source": [
    "qvapor_1000 = phys_mfds['QVAPOR']\n",
    "u_1000 = phys_mfds['U']\n",
    "v_1000 = phys_mfds['V']\n",
    "w_1000 = phys_mfds['W']\n",
    "qcloud_1000 = phys_mfds['QCLOUD']\n",
    "qrain_1000 = phys_mfds['QRAIN']"
   ]
  },
  {
   "cell_type": "code",
   "execution_count": 15,
   "metadata": {
    "ExecuteTime": {
     "end_time": "2018-06-30T00:00:44.628245Z",
     "start_time": "2018-06-30T00:00:44.621197Z"
    }
   },
   "outputs": [],
   "source": [
    "rainc_1000 = phys_mfds['RAINC']\n",
    "rainnc_1000 = phys_mfds['RAINNC']"
   ]
  },
  {
   "cell_type": "markdown",
   "metadata": {},
   "source": [
    "# gravitational constant for geopotential height calculations"
   ]
  },
  {
   "cell_type": "code",
   "execution_count": 20,
   "metadata": {
    "ExecuteTime": {
     "end_time": "2018-05-29T19:16:08.041379Z",
     "start_time": "2018-05-29T19:16:08.036243Z"
    }
   },
   "outputs": [],
   "source": [
    "g = 9.80665"
   ]
  },
  {
   "cell_type": "markdown",
   "metadata": {},
   "source": [
    "## get landmask"
   ]
  },
  {
   "cell_type": "code",
   "execution_count": 16,
   "metadata": {
    "ExecuteTime": {
     "end_time": "2018-06-30T00:00:53.901334Z",
     "start_time": "2018-06-30T00:00:53.884958Z"
    }
   },
   "outputs": [],
   "source": [
    "landmask = cont_mfds['LANDMASK'].sel(Time=0).values"
   ]
  },
  {
   "cell_type": "code",
   "execution_count": 17,
   "metadata": {
    "ExecuteTime": {
     "end_time": "2018-06-30T00:01:20.133050Z",
     "start_time": "2018-06-30T00:01:20.119155Z"
    }
   },
   "outputs": [],
   "source": [
    "landmask_indices = numpy.copy(landmask)\n",
    "landmask_indices[landmask==1]=1\n",
    "landmask_indices[landmask!=1]=0\n",
    "landmask_indices = numpy.array(landmask_indices, dtype=bool)"
   ]
  },
  {
   "cell_type": "code",
   "execution_count": 79,
   "metadata": {
    "ExecuteTime": {
     "end_time": "2018-06-30T00:49:22.861174Z",
     "start_time": "2018-06-30T00:49:22.851478Z"
    }
   },
   "outputs": [],
   "source": [
    "dry_lon_lo, dry_lon_hi, dry_lat_lo, dry_lat_hi = -60,-50,-10,10\n",
    "wet_lon_lo, wet_lon_hi, wet_lat_lo, wet_lat_hi = -80,-75,-10,10\n",
    "\n",
    "dry_lon_lo_degE = 360+dry_lon_lo\n",
    "dry_lon_hi_degE = 360+dry_lon_hi\n",
    "\n",
    "wet_lon_lo_degE = 360+wet_lon_lo\n",
    "wet_lon_hi_degE = 360+wet_lon_hi"
   ]
  },
  {
   "cell_type": "code",
   "execution_count": 36,
   "metadata": {
    "ExecuteTime": {
     "end_time": "2018-06-30T00:31:47.043901Z",
     "start_time": "2018-06-30T00:31:47.035643Z"
    }
   },
   "outputs": [],
   "source": [
    "#lon_lo = dry_lon_lo\n",
    "#lon_hi = dry_lon_hi\n",
    "lat_lo = -10.\n",
    "lat_hi = 10.\n",
    "\n",
    "# lon_lo = wet_lon_lo\n",
    "# lon_hi = wet_lon_hi\n",
    "# lat_lo = wet_lat_lo\n",
    "# lat_hi = wet_lat_hi"
   ]
  },
  {
   "cell_type": "code",
   "execution_count": 37,
   "metadata": {
    "ExecuteTime": {
     "end_time": "2018-06-30T00:31:48.040106Z",
     "start_time": "2018-06-30T00:31:48.033729Z"
    }
   },
   "outputs": [],
   "source": [
    "#lon_indices = (xlong>=lon_lo)&(xlong<=lon_hi)\n",
    "lat_indices = (xlat>=lat_lo)&(xlat<=lat_hi)\n",
    "latlon_indices = (lat_indices)&(landmask_indices)"
   ]
  },
  {
   "cell_type": "code",
   "execution_count": 80,
   "metadata": {
    "ExecuteTime": {
     "end_time": "2018-06-30T00:49:43.119633Z",
     "start_time": "2018-06-30T00:49:43.110003Z"
    }
   },
   "outputs": [],
   "source": [
    "latlon_indices_wet_region = (xlong>=wet_lon_lo)&(xlong<=wet_lon_hi)&(xlat>=wet_lat_lo)&(xlat<=wet_lat_hi)&(landmask_indices)\n",
    "latlon_indices_dry_region = (xlong>=dry_lon_lo)&(xlong<=dry_lon_hi)&(xlat>=dry_lat_lo)&(xlat<=dry_lat_hi)&(landmask_indices)"
   ]
  },
  {
   "cell_type": "markdown",
   "metadata": {},
   "source": [
    "# calculate raintot and rain diffs"
   ]
  },
  {
   "cell_type": "code",
   "execution_count": 23,
   "metadata": {
    "ExecuteTime": {
     "end_time": "2018-06-30T00:18:24.268926Z",
     "start_time": "2018-06-30T00:17:27.002144Z"
    }
   },
   "outputs": [],
   "source": [
    "raintot_accum_1000 = rainnc_1000.values+rainc_1000.values\n",
    "raintot_accum_400 = rainnc_400.values+rainc_400.values\n",
    "\n",
    "raintot_1000 = numpy.zeros((raintot_accum_1000.shape))*numpy.nan\n",
    "raintot_400 = numpy.zeros((raintot_accum_400.shape))*numpy.nan\n",
    "\n",
    "raintot_1000[:-1,:,:] = numpy.diff(raintot_accum_1000, axis=0)\n",
    "raintot_400[:-1,:,:] = numpy.diff(raintot_accum_400, axis=0)"
   ]
  },
  {
   "cell_type": "code",
   "execution_count": 38,
   "metadata": {
    "ExecuteTime": {
     "end_time": "2018-06-30T00:31:53.483597Z",
     "start_time": "2018-06-30T00:31:52.994649Z"
    }
   },
   "outputs": [
    {
     "name": "stderr",
     "output_type": "stream",
     "text": [
      "/export/home/blangenb/anaconda3/lib/python3.6/site-packages/ipykernel_launcher.py:5: RuntimeWarning: Mean of empty slice\n",
      "  \"\"\"\n"
     ]
    }
   ],
   "source": [
    "raintot_diffs = raintot_1000-raintot_400\n",
    "\n",
    "raintot_diffs_latlon_nan = numpy.copy(raintot_diffs)\n",
    "raintot_diffs_latlon_nan[:,~latlon_indices]=numpy.nan\n",
    "raintot_diffs_latmean = numpy.nanmean(raintot_diffs_latlon_nan, axis=1)\n",
    "#raintot_diffs_latlon_nan = raintot_diffs[:,latlon_indices]\n",
    "#raintot_diffs_latmean = numpy.nanmean(raintot_diffs_latlon_subset, axis=1)"
   ]
  },
  {
   "cell_type": "code",
   "execution_count": 39,
   "metadata": {
    "ExecuteTime": {
     "end_time": "2018-06-30T00:31:55.605900Z",
     "start_time": "2018-06-30T00:31:55.594534Z"
    }
   },
   "outputs": [
    {
     "name": "stderr",
     "output_type": "stream",
     "text": [
      "/export/home/blangenb/anaconda3/lib/python3.6/site-packages/ipykernel_launcher.py:1: RuntimeWarning: Mean of empty slice\n",
      "  \"\"\"Entry point for launching an IPython kernel.\n",
      "/export/home/blangenb/anaconda3/lib/python3.6/site-packages/ipykernel_launcher.py:2: RuntimeWarning: Mean of empty slice\n",
      "  \n"
     ]
    }
   ],
   "source": [
    "raintot_diffs_latmean_day1 = numpy.nanmean(raintot_diffs_latmean[:24,:], axis=0)\n",
    "raintot_diffs_latmean_day2_10 = numpy.nanmean(raintot_diffs_latmean[24:,:], axis=0)"
   ]
  },
  {
   "cell_type": "code",
   "execution_count": null,
   "metadata": {},
   "outputs": [],
   "source": []
  },
  {
   "cell_type": "markdown",
   "metadata": {},
   "source": [
    "# calculate w diffs for height-longitude plot"
   ]
  },
  {
   "cell_type": "code",
   "execution_count": 46,
   "metadata": {
    "ExecuteTime": {
     "end_time": "2018-06-30T00:39:08.223381Z",
     "start_time": "2018-06-30T00:38:58.969995Z"
    }
   },
   "outputs": [
    {
     "name": "stderr",
     "output_type": "stream",
     "text": [
      "/export/home/blangenb/anaconda3/lib/python3.6/site-packages/ipykernel_launcher.py:5: RuntimeWarning: Mean of empty slice\n",
      "  \"\"\"\n",
      "/export/home/blangenb/anaconda3/lib/python3.6/site-packages/ipykernel_launcher.py:6: RuntimeWarning: Mean of empty slice\n",
      "  \n"
     ]
    }
   ],
   "source": [
    "wa_diffs = wa_1000-wa_400\n",
    "\n",
    "wa_diffs_latlon_nan = numpy.copy(wa_diffs)\n",
    "wa_diffs_latlon_nan[:,:,~latlon_indices]=numpy.nan\n",
    "wa_diffs_latmean = numpy.nanmean(wa_diffs_latlon_nan, axis=2)\n",
    "wa_diffs_latmean_timemean = numpy.nanmean(wa_diffs_latmean[24:,:,:], axis=0)"
   ]
  },
  {
   "cell_type": "markdown",
   "metadata": {},
   "source": [
    "# lat subsets and latmeans"
   ]
  },
  {
   "cell_type": "code",
   "execution_count": 42,
   "metadata": {
    "ExecuteTime": {
     "end_time": "2018-06-30T00:36:59.313490Z",
     "start_time": "2018-06-30T00:36:56.574032Z"
    }
   },
   "outputs": [],
   "source": [
    "ptot_400_latlon_nan = numpy.copy(ptot_400)\n",
    "ptot_400_latlon_nan[:,:,~latlon_indices] = numpy.nan"
   ]
  },
  {
   "cell_type": "code",
   "execution_count": 47,
   "metadata": {
    "ExecuteTime": {
     "end_time": "2018-06-30T00:39:40.765340Z",
     "start_time": "2018-06-30T00:39:35.643900Z"
    }
   },
   "outputs": [
    {
     "name": "stderr",
     "output_type": "stream",
     "text": [
      "/export/home/blangenb/anaconda3/lib/python3.6/site-packages/ipykernel_launcher.py:1: RuntimeWarning: Mean of empty slice\n",
      "  \"\"\"Entry point for launching an IPython kernel.\n",
      "/export/home/blangenb/anaconda3/lib/python3.6/site-packages/ipykernel_launcher.py:2: RuntimeWarning: Mean of empty slice\n",
      "  \n"
     ]
    }
   ],
   "source": [
    "ptot_400_latmean = numpy.nanmean(ptot_400_latlon_nan, axis=2)\n",
    "ptot_400_latmean_timemean = numpy.nanmean(ptot_400_latmean, axis=0)"
   ]
  },
  {
   "cell_type": "markdown",
   "metadata": {},
   "source": [
    "# separate calculations for wet and dry regions"
   ]
  },
  {
   "cell_type": "code",
   "execution_count": 97,
   "metadata": {
    "ExecuteTime": {
     "end_time": "2018-06-30T00:55:55.369950Z",
     "start_time": "2018-06-30T00:55:48.828543Z"
    }
   },
   "outputs": [],
   "source": [
    "wa_400_latlon_nan_wetregion = numpy.copy(wa_400)\n",
    "wa_400_latlon_nan_wetregion[:,:,~latlon_indices_wet_region]=numpy.nan\n",
    "wa_400_wet_region = numpy.nanmean(wa_400_latlon_nan_wetregion[24:,:,:], axis=(0,2,3))"
   ]
  },
  {
   "cell_type": "code",
   "execution_count": 98,
   "metadata": {
    "ExecuteTime": {
     "end_time": "2018-06-30T00:56:05.209010Z",
     "start_time": "2018-06-30T00:55:58.218541Z"
    }
   },
   "outputs": [],
   "source": [
    "wa_400_latlon_nan_dryregion = numpy.copy(wa_400)\n",
    "wa_400_latlon_nan_dryregion[:,:,~latlon_indices_dry_region]=numpy.nan\n",
    "wa_400_dry_region = numpy.nanmean(wa_400_latlon_nan_dryregion[24:,:,:], axis=(0,2,3))"
   ]
  },
  {
   "cell_type": "code",
   "execution_count": 102,
   "metadata": {
    "ExecuteTime": {
     "end_time": "2018-06-30T00:56:58.116809Z",
     "start_time": "2018-06-30T00:56:50.643823Z"
    }
   },
   "outputs": [],
   "source": [
    "wa_diffs_latlon_nan_wetregion = numpy.copy(wa_diffs)\n",
    "wa_diffs_latlon_nan_wetregion[:,:,~latlon_indices_wet_region]=numpy.nan\n",
    "wa_diffs_wet_region = numpy.nanmean(wa_diffs_latlon_nan_wetregion[24:,:,:], axis=(0,2,3))\n",
    "wa_diffs_wet_region_day1 = numpy.nanmean(wa_diffs_latlon_nan_wetregion[:24,:,:], axis=(0,2,3))"
   ]
  },
  {
   "cell_type": "code",
   "execution_count": 101,
   "metadata": {
    "ExecuteTime": {
     "end_time": "2018-06-30T00:56:48.271870Z",
     "start_time": "2018-06-30T00:56:40.588542Z"
    }
   },
   "outputs": [],
   "source": [
    "wa_diffs_latlon_nan_dryregion = numpy.copy(wa_diffs)\n",
    "wa_diffs_latlon_nan_dryregion[:,:,~latlon_indices_dry_region]=numpy.nan\n",
    "wa_diffs_dry_region = numpy.nanmean(wa_diffs_latlon_nan_dryregion[24:,:,:], axis=(0,2,3))\n",
    "wa_diffs_dry_region_day1 = numpy.nanmean(wa_diffs_latlon_nan_dryregion[:24,:,:], axis=(0,2,3))"
   ]
  },
  {
   "cell_type": "code",
   "execution_count": 87,
   "metadata": {
    "ExecuteTime": {
     "end_time": "2018-06-30T00:52:09.246448Z",
     "start_time": "2018-06-30T00:52:02.274657Z"
    }
   },
   "outputs": [],
   "source": [
    "ptot_400_latlon_nan_wetregion = numpy.copy(ptot_400)\n",
    "ptot_400_latlon_nan_wetregion[:,:,~latlon_indices_wet_region] = numpy.nan\n",
    "ptot_400_wet_region = numpy.nanmean(ptot_400_latlon_nan_wetregion, axis=(0,2,3))"
   ]
  },
  {
   "cell_type": "code",
   "execution_count": 88,
   "metadata": {
    "ExecuteTime": {
     "end_time": "2018-06-30T00:52:25.500786Z",
     "start_time": "2018-06-30T00:52:18.571197Z"
    }
   },
   "outputs": [],
   "source": [
    "ptot_400_latlon_nan_dryregion = numpy.copy(ptot_400)\n",
    "ptot_400_latlon_nan_dryregion[:,:,~latlon_indices_dry_region] = numpy.nan\n",
    "ptot_400_dry_region = numpy.nanmean(ptot_400_latlon_nan_dryregion, axis=(0,2,3))"
   ]
  },
  {
   "cell_type": "code",
   "execution_count": 45,
   "metadata": {
    "ExecuteTime": {
     "end_time": "2018-06-30T00:37:59.088161Z",
     "start_time": "2018-06-30T00:37:59.079341Z"
    }
   },
   "outputs": [],
   "source": [
    "xx,zz=numpy.meshgrid(xlong[0,:],numpy.nanmean(ptot_400[0,:,:,0],axis=1))"
   ]
  },
  {
   "cell_type": "markdown",
   "metadata": {},
   "source": [
    "# gridspec version of plot (remove mean vertical velocity info)"
   ]
  },
  {
   "cell_type": "code",
   "execution_count": 117,
   "metadata": {
    "ExecuteTime": {
     "end_time": "2018-06-30T01:03:51.863270Z",
     "start_time": "2018-06-30T01:03:49.252253Z"
    }
   },
   "outputs": [
    {
     "data": {
      "image/png": "[encoded data removed]",
      "text/plain": [
       "<Figure size 306x306 with 3 Axes>"
      ]
     },
     "metadata": {},
     "output_type": "display_data"
    }
   ],
   "source": [
    "fontsize=12\n",
    "\n",
    "fig = mp.figure(figsize=(4.25,4.25))\n",
    "gs = matplotlib.gridspec.GridSpec(2,2,height_ratios=[2,1.25])\n",
    "\n",
    "xticks_deg_E=numpy.array((280,290,300,310,320))\n",
    "xticks = -(360-xticks_deg_E)\n",
    "xticks_format=[str(tick)+DEGREE_SIGN+'E' for tick in xticks_deg_E]\n",
    "\n",
    "ax_a = mp.subplot(gs[0,:])\n",
    "ax_b = mp.subplot(gs[1,:])\n",
    "\n",
    "ax_list = [ax_a,ax_b]\n",
    "\n",
    "\n",
    "levels = numpy.arange(-.2,.21,0.025)\n",
    "contour_plot = ax_a.contourf(xx+360., ptot_400_latmean_timemean/100., \\\n",
    "                           wa_diffs_latmean_timemean*86400./1000., \\\n",
    "                           levels=levels, \\\n",
    "                           cmap=cmocean.cm.balance_r, \\\n",
    "                           extend='both')\n",
    "ax_a.tick_params(labelsize=fontsize)\n",
    "ax_a.set_ylim(1013.25,100)\n",
    "ax_a.set_xlim(279,321)\n",
    "ax_a.text(s='(a) Mean $\\Delta w$ (days 2–10)',\\\n",
    "       x=0, y=1.01, \\\n",
    "       ha='left', va='bottom', \\\n",
    "       fontsize=fontsize, \\\n",
    "       transform=ax_a.transAxes)\n",
    "ax_a.set_xticks(xticks_deg_E)\n",
    "ax_a.set_xticklabels(xticks_format)\n",
    "ax_a.set_ylabel('hPa', fontsize=fontsize)\n",
    "ax_a.set_facecolor('0.1')\n",
    "ax_a.fill_between(x=[wet_lon_lo_degE,wet_lon_hi_degE], y1=ax_a.get_ylim()[0], y2=ax_a.get_ylim()[1],\\\n",
    "                  facecolor='None', edgecolor='0.1',\n",
    "                  hatch='/', alpha=0.5)\n",
    "ax_a.fill_between(x=[dry_lon_lo_degE,dry_lon_hi_degE], y1=ax_a.get_ylim()[0], y2=ax_a.get_ylim()[1],\\\n",
    "                  facecolor='None', edgecolor='0.1',\n",
    "                  hatch='\\\\', alpha=0.5)\n",
    "ax_a.text(s='Andes\\nregion',x=wet_lon_hi_degE+0.5, y=600, ha='left',va='top',fontsize=fontsize,color='0.1')\n",
    "ax_a.text(s='Amazon\\nregion',x=dry_lon_hi_degE+0.5, y=400, ha='left',va='top',fontsize=fontsize,color='0.1')\n",
    "\n",
    "\n",
    "ax_b.plot(360+xlong[0,:],pandas.Series(raintot_diffs_latmean_day1*24).rolling(window=3, center=True).mean().values, c='coral', label='day 1')\n",
    "ax_b.plot(360+xlong[0,:],pandas.Series(raintot_diffs_latmean_day2_10*24).rolling(window=3, center=True).mean().values, c='firebrick', label='days 2–10')\n",
    "ax_b.axhline(0, c='0.1', ls='--')\n",
    "ax_b.set_xlim(279,321)\n",
    "ax_b.set_ylim(-1.6,1.1)\n",
    "ax_b.set_yticks([-1,0,1])\n",
    "ax_b.set_xticks(xticks_deg_E)\n",
    "ax_b.set_xticklabels(xticks_format)\n",
    "ax_b.tick_params(labelsize=fontsize)\n",
    "ax_b.text(s='(b) $\\Delta$ precipitation',\\\n",
    "       x=0, y=1.01, \\\n",
    "       ha='left', va='bottom', \\\n",
    "       fontsize=fontsize, \\\n",
    "       transform=ax_b.transAxes)\n",
    "ax_b.set_ylabel('mm day$^{\\,-1}$', fontsize=fontsize)\n",
    "\n",
    "# ax=ax_c\n",
    "# ax.plot(wa_diff_wet_region*86400./1000.,ptot_400_wet_region/100., c='firebrick')\n",
    "# ax.plot(wa_diff_wet_region_day1*86400./1000.,ptot_400_wet_region/100., c='coral')\n",
    "# ax.axvline(0, ls='--', c='0.1')\n",
    "# ax.set_ylim(1000,100)\n",
    "# ax.set_xlim(-.25,.15)\n",
    "# ax.tick_params(labelsize=fontsize)\n",
    "# ax.set_xlabel('km day$^{\\,-1}$', fontsize=fontsize)\n",
    "# ax.set_ylabel('hPa', fontsize=fontsize)\n",
    "# ax.text(s='(c) Andes region', x=0., y=1.01, ha='left', va='bottom', transform=ax.transAxes, fontsize=fontsize)\n",
    "# #ax.text(s='Andes', x=0.97, y=0.97, ha='right', va='top', transform=ax.transAxes, fontsize=fontsize)\n",
    "# ax.set_yticks(numpy.arange(1000,99,-200))\n",
    "# ax.set_xticks([-.1,0,.1])\n",
    "\n",
    "# ax=ax_d\n",
    "# ax.plot(wa_diff_dry_region_day1*86400/1000.,ptot_400_dry_region/100., c='coral', label='$\\Delta w$ (day 1)')\n",
    "# ax.plot(wa_diff_dry_region*86400/1000.,ptot_400_dry_region/100., c='firebrick', label='$\\Delta w$ (days 2–10)')\n",
    "# ax.axvline(0, ls='--', c='0.1')\n",
    "# #ax.axhline(860, ls='--', c='0.1')\n",
    "# ax.set_ylim(1000,100)\n",
    "# ax.set_xlim(-.15,.25)\n",
    "# ax.tick_params(labelsize=fontsize)\n",
    "# ax.set_xlabel('km day$^{\\,-1}$', fontsize=fontsize)\n",
    "# #ax.set_ylabel('hPa', fontsize=fontsize)\n",
    "# ax.text(s='(d) Amazon region', x=0., y=1.01, ha='left', va='bottom', transform=ax.transAxes, fontsize=fontsize)\n",
    "# #ax.text(s='Amazon', x=0.97, y=0.97, ha='right', va='top', transform=ax.transAxes, fontsize=fontsize)\n",
    "# ax.set_yticks(numpy.arange(1000,99,-200))\n",
    "# ax.set_xticks([-.1,0,.1])\n",
    "\n",
    "fig.tight_layout(h_pad=2)\n",
    "\n",
    "ax_pos = ax_a.get_position()\n",
    "cbar_ax = fig.add_axes([ax_pos.x1+0.0333, ax_pos.y0, 0.025, ax_pos.height])\n",
    "cbar = fig.colorbar(contour_plot, cax=cbar_ax)\n",
    "cbar_ax.tick_params(labelsize=fontsize)\n",
    "cbar.set_label('km day$^{\\,-1}$', fontsize=fontsize)\n",
    "cbar.set_ticks(levels[0::4])\n",
    "\n",
    "handles, labels = ax_b.get_legend_handles_labels()\n",
    "ax_b.legend(handles, labels, fontsize=fontsize, scatterpoints=1, bbox_to_anchor=(1.025,1.), \\\n",
    "            bbox_transform=ax_b.transAxes, loc='upper left', borderaxespad=0, labelspacing=0.25, \\\n",
    "            fancybox=False, edgecolor='0', framealpha=0, borderpad=0.25, \\\n",
    "            handletextpad=0.5, markerscale=1, handlelength=1.25)\n",
    "\n",
    "# ax_pos = ax_c.get_position()\n",
    "# ax_c_in = fig.add_axes([ax_pos.x0,ax_pos.y0+0.2*ax_pos.height,0.35*ax_pos.width,0.7*ax_pos.height])#, frameon=False)\n",
    "# ax_c_in.plot(wa_400_dry*86400./1000.,ptot_400_wet_region/100., c='0.25', label='10d mean')\n",
    "# ax_c_in.tick_params(labelsize=fontsize)\n",
    "# ax_c_in.tick_params(axis='x', pad=0)\n",
    "# ax_c_in.set_ylim(1000,100)\n",
    "# ax_c_in.yaxis.tick_right()\n",
    "# ax_c_in.axvline(0, lw=0.5, color='0.25', ls='-')\n",
    "# ax_c_in.set_xticks([0.,.2])\n",
    "# ax_c_in.set_xticklabels(['0','0.2'])\n",
    "# #ax_c_in.set_xlabel('mm day$^{\\,-1}$', fontsize=fontsize)\n",
    "# #ax_c_in.text(s='$w$ clim.', x=1., y=1.02, ha='right', va='bottom', transform=ax_c_in.transAxes, fontsize=fontsize)\n",
    "\n",
    "# ax_pos = ax_d.get_position()\n",
    "# ax_d_in = fig.add_axes([ax_pos.x0+ax_pos.width*0.65,ax_pos.y0+0.2*ax_pos.height,0.35*ax_pos.width,0.7*ax_pos.height])#, frameon=False)\n",
    "# ax_d_in.plot(wa_400_wet*86400./1000.,ptot_400_wet_region/100., c='0.25', label='$w$ climatology')\n",
    "# ax_d_in.tick_params(labelsize=fontsize)\n",
    "# ax_d_in.tick_params(axis='x', pad=0)\n",
    "# ax_d_in.set_ylim(1000,100)\n",
    "# #ax_d_in.set_xlabel('mm day$^{\\,-1}$', fontsize=fontsize)\n",
    "# #ax_d_in.text(s='$w$ clim.', x=0, y=1.02, ha='left', va='bottom', transform=ax_d_in.transAxes, fontsize=fontsize, label='$w$ clim.\\n(days 2–10)')\n",
    "# ax_d_in.axvline(0, lw=0.5, color='0.25', ls='-')\n",
    "\n",
    "\n",
    "# h_out, l_out=ax_d.get_legend_handles_labels()\n",
    "# h_in, l_in = ax_d_in.get_legend_handles_labels()\n",
    "# ax_d.legend(h_out+h_in, l_out+l_in, fontsize=fontsize, scatterpoints=1, bbox_to_anchor=(1.05,1.), \\\n",
    "#             bbox_transform=ax_d.transAxes, loc='upper left', borderaxespad=0, labelspacing=0.25, \\\n",
    "#             fancybox=False, edgecolor='0', framealpha=0, borderpad=0.25, \\\n",
    "#             handletextpad=0.5, markerscale=1, handlelength=1.25)\n",
    "\n",
    "fig.savefig('manuscript_winds_precip_cropped_version.png', dpi=600, bbox_inches='tight')\n"
   ]
  },
  {
   "cell_type": "markdown",
   "metadata": {},
   "source": [
    "# larger version"
   ]
  },
  {
   "cell_type": "code",
   "execution_count": 128,
   "metadata": {
    "ExecuteTime": {
     "end_time": "2018-06-30T01:16:40.477254Z",
     "start_time": "2018-06-30T01:16:35.981785Z"
    }
   },
   "outputs": [
    {
     "data": {
      "image/png": "[encoded data removed]",
      "text/plain": [
       "<Figure size 306x504 with 7 Axes>"
      ]
     },
     "metadata": {},
     "output_type": "display_data"
    }
   ],
   "source": [
    "fontsize=12\n",
    "\n",
    "fig = mp.figure(figsize=(4.25,7))\n",
    "gs = matplotlib.gridspec.GridSpec(3,2,height_ratios=[2,1,3])\n",
    "\n",
    "xticks_deg_E=numpy.array((280,290,300,310,320))\n",
    "xticks = -(360-xticks_deg_E)\n",
    "xticks_format=[str(tick)+DEGREE_SIGN+'E' for tick in xticks_deg_E]\n",
    "\n",
    "ax_a = mp.subplot(gs[0,:])\n",
    "ax_b = mp.subplot(gs[1,:])\n",
    "ax_c = mp.subplot(gs[2,0])\n",
    "ax_d = mp.subplot(gs[2,1])\n",
    "\n",
    "ax_list = [ax_a,ax_b,ax_c,ax_d]\n",
    "\n",
    "levels = numpy.arange(-.2,.21,0.025)\n",
    "contour_plot = ax_a.contourf(xx+360., ptot_400_latmean_timemean/100., \\\n",
    "                           wa_diffs_latmean_timemean*86400./1000., \\\n",
    "                           levels=levels, \\\n",
    "                           cmap=cmocean.cm.balance_r, \\\n",
    "                           extend='both')\n",
    "ax_a.tick_params(labelsize=fontsize)\n",
    "ax_a.set_ylim(1013.25,100)\n",
    "ax_a.set_xlim(279,321)\n",
    "ax_a.text(s='(a) Mean $\\Delta w$ (days 2–10)',\\\n",
    "       x=0, y=1.01, \\\n",
    "       ha='left', va='bottom', \\\n",
    "       fontsize=fontsize, \\\n",
    "       transform=ax_a.transAxes)\n",
    "ax_a.set_xticks(xticks_deg_E)\n",
    "ax_a.set_xticklabels(xticks_format)\n",
    "ax_a.set_ylabel('hPa', fontsize=fontsize)\n",
    "ax_a.set_facecolor('0.1')\n",
    "ax_a.fill_between(x=[wet_lon_lo_degE,wet_lon_hi_degE], y1=ax_a.get_ylim()[0], y2=ax_a.get_ylim()[1],\\\n",
    "                  facecolor='None', edgecolor='0.1',\n",
    "                  hatch='/', alpha=0.5)\n",
    "ax_a.fill_between(x=[dry_lon_lo_degE,dry_lon_hi_degE], y1=ax_a.get_ylim()[0], y2=ax_a.get_ylim()[1],\\\n",
    "                  facecolor='None', edgecolor='0.1',\n",
    "                  hatch='\\\\', alpha=0.5)\n",
    "ax_a.text(s='Andes\\nregion',x=wet_lon_hi_degE+0.5, y=600, ha='left',va='top',fontsize=fontsize,color='0.1')\n",
    "ax_a.text(s='Amazon\\nregion',x=dry_lon_hi_degE+0.5, y=400, ha='left',va='top',fontsize=fontsize,color='0.1')\n",
    "\n",
    "\n",
    "ax_b.plot(360+xlong[0,:],pandas.Series(raintot_diffs_latmean_day1*24).rolling(window=3, center=True).mean().values, c='coral', label='day 1')\n",
    "ax_b.plot(360+xlong[0,:],pandas.Series(raintot_diffs_latmean_day2_10*24).rolling(window=3, center=True).mean().values, c='firebrick', label='days 2–10')\n",
    "ax_b.axhline(0, c='0.1', ls='--')\n",
    "ax_b.set_xlim(279,321)\n",
    "ax_b.set_ylim(-1.6,1.1)\n",
    "ax_b.set_yticks([-1,0,1])\n",
    "ax_b.set_xticks(xticks_deg_E)\n",
    "ax_b.set_xticklabels(xticks_format)\n",
    "ax_b.tick_params(labelsize=fontsize)\n",
    "ax_b.text(s='(b) $\\Delta$ precipitation',\\\n",
    "       x=0, y=1.01, \\\n",
    "       ha='left', va='bottom', \\\n",
    "       fontsize=fontsize, \\\n",
    "       transform=ax_b.transAxes)\n",
    "ax_b.set_ylabel('mm day$^{\\,-1}$', fontsize=fontsize)\n",
    "\n",
    "ax=ax_c\n",
    "ax.plot(wa_diffs_wet_region*86400./1000.,ptot_400_wet_region/100., c='firebrick')\n",
    "ax.plot(wa_diffs_wet_region_day1*86400./1000.,ptot_400_wet_region/100., c='coral')\n",
    "ax.axvline(0, ls='--', c='0.1')\n",
    "ax.set_ylim(1000,100)\n",
    "ax.set_xlim(-.45,.2)\n",
    "ax.tick_params(labelsize=fontsize)\n",
    "ax.set_xlabel('km day$^{\\,-1}$', fontsize=fontsize)\n",
    "ax.set_ylabel('hPa', fontsize=fontsize)\n",
    "ax.text(s='(c) Andes region', x=0., y=1.01, ha='left', va='bottom', transform=ax.transAxes, fontsize=fontsize)\n",
    "ax.set_yticks(numpy.arange(1000,99,-200))\n",
    "ax.set_xticks([-.2,0,.2])\n",
    "\n",
    "ax=ax_d\n",
    "ax.plot(wa_diffs_dry_region_day1*86400/1000.,ptot_400_dry_region/100., c='coral', label='$\\Delta w$ (day 1)')\n",
    "ax.plot(wa_diffs_dry_region*86400/1000.,ptot_400_dry_region/100., c='firebrick', label='$\\Delta w$ (days 2–10)')\n",
    "ax.axvline(0, ls='--', c='0.1')\n",
    "ax.set_ylim(1000,100)\n",
    "ax.set_xlim(-.1,.3)\n",
    "ax.tick_params(labelsize=fontsize)\n",
    "ax.set_xlabel('km day$^{\\,-1}$', fontsize=fontsize)\n",
    "ax.text(s='(d) Amazon region', x=0., y=1.01, ha='left', va='bottom', transform=ax.transAxes, fontsize=fontsize)\n",
    "ax.set_yticks(numpy.arange(1000,99,-200))\n",
    "ax.set_yticklabels([])\n",
    "ax.set_xticks([-.1,0,.1])\n",
    "\n",
    "fig.tight_layout(h_pad=2, w_pad=0)\n",
    "\n",
    "ax_pos = ax_a.get_position()\n",
    "cbar_ax = fig.add_axes([ax_pos.x1+0.025, ax_pos.y0, 0.02, ax_pos.height])\n",
    "cbar = fig.colorbar(contour_plot, cax=cbar_ax)\n",
    "cbar_ax.tick_params(labelsize=fontsize)\n",
    "cbar.set_label('km day$^{\\,-1}$', fontsize=fontsize)\n",
    "cbar.set_ticks(levels[0::4])\n",
    "\n",
    "handles, labels = ax_b.get_legend_handles_labels()\n",
    "ax_b.legend(handles, labels, fontsize=fontsize, scatterpoints=1, bbox_to_anchor=(1.025,1.), \\\n",
    "            bbox_transform=ax_b.transAxes, loc='upper left', borderaxespad=0, labelspacing=0.25, \\\n",
    "            fancybox=False, edgecolor='0', framealpha=0, borderpad=0.25, \\\n",
    "            handletextpad=0.5, markerscale=1, handlelength=1.25)\n",
    "\n",
    "ax_pos = ax_c.get_position()\n",
    "ax_c_in = fig.add_axes([ax_pos.x0,ax_pos.y0+0.2*ax_pos.height,0.35*ax_pos.width,0.7*ax_pos.height])#, frameon=False)\n",
    "ax_c_in.plot(wa_400_dry_region*86400./1000.,ptot_400_wet_region/100., c='0.25', label='10d mean')\n",
    "ax_c_in.tick_params(labelsize=fontsize)\n",
    "ax_c_in.tick_params(axis='x', pad=0)\n",
    "ax_c_in.set_ylim(1000,100)\n",
    "ax_c_in.yaxis.tick_right()\n",
    "ax_c_in.axvline(0, lw=0.5, color='0.25', ls='-')\n",
    "ax_c_in.set_xticks([0.,.2])\n",
    "ax_c_in.set_xticklabels(['0','0.2'])\n",
    "\n",
    "ax_pos = ax_d.get_position()\n",
    "ax_d_in = fig.add_axes([ax_pos.x0+ax_pos.width*0.65,ax_pos.y0+0.2*ax_pos.height,0.35*ax_pos.width,0.7*ax_pos.height])#, frameon=False)\n",
    "ax_d_in.plot(wa_400_wet_region*86400./1000.,ptot_400_wet_region/100., c='0.25', label='$w$ climatology')\n",
    "ax_d_in.tick_params(labelsize=fontsize)\n",
    "ax_d_in.tick_params(axis='x', pad=0)\n",
    "ax_d_in.set_ylim(1000,100)\n",
    "ax_d_in.axvline(0, lw=0.5, color='0.25', ls='-')\n",
    "\n",
    "h_out, l_out=ax_d.get_legend_handles_labels()\n",
    "h_in, l_in = ax_d_in.get_legend_handles_labels()\n",
    "ax_d.legend(h_out+h_in, l_out+l_in, fontsize=fontsize, scatterpoints=1, bbox_to_anchor=(1.05,1.), \\\n",
    "            bbox_transform=ax_d.transAxes, loc='upper left', borderaxespad=0, labelspacing=0.25, \\\n",
    "            fancybox=False, edgecolor='0', framealpha=0, borderpad=0.25, \\\n",
    "            handletextpad=0.5, markerscale=1, handlelength=1.25)\n",
    "\n",
    "fig.savefig('manuscript_winds_precip_large_figure.png', dpi=600, bbox_inches='tight')"
   ]
  }
 ],
 "metadata": {
  "kernelspec": {
   "display_name": "Python 3",
   "language": "python",
   "name": "python3"
  },
  "language_info": {
   "codemirror_mode": {
    "name": "ipython",
    "version": 3
   },
   "file_extension": ".py",
   "mimetype": "text/x-python",
   "name": "python",
   "nbconvert_exporter": "python",
   "pygments_lexer": "ipython3",
   "version": "3.6.4"
  },
  "varInspector": {
   "cols": {
    "lenName": 16,
    "lenType": 16,
    "lenVar": 40
   },
   "kernels_config": {
    "python": {
     "delete_cmd_postfix": "",
     "delete_cmd_prefix": "del ",
     "library": "var_list.py",
     "varRefreshCmd": "print(var_dic_list())"
    },
    "r": {
     "delete_cmd_postfix": ") ",
     "delete_cmd_prefix": "rm(",
     "library": "var_list.r",
     "varRefreshCmd": "cat(var_dic_list()) "
    }
   },
   "types_to_exclude": [
    "module",
    "function",
    "builtin_function_or_method",
    "instance",
    "_Feature"
   ],
   "window_display": false
  }
 },
 "nbformat": 4,
 "nbformat_minor": 2
}
