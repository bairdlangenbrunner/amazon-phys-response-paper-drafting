{
 "cells": [
  {
   "cell_type": "markdown",
   "metadata": {},
   "source": [
    "# import libraries"
   ]
  },
  {
   "cell_type": "code",
   "execution_count": 109,
   "metadata": {
    "ExecuteTime": {
     "end_time": "2018-08-18T01:01:45.675285Z",
     "start_time": "2018-08-18T01:01:45.650786Z"
    }
   },
   "outputs": [],
   "source": [
    "import numpy\n",
    "import xarray\n",
    "import matplotlib\n",
    "import matplotlib.pyplot as mp\n",
    "import datetime\n",
    "import matplotlib.colors\n",
    "import scipy.stats\n",
    "import itertools\n",
    "import string\n",
    "import matplotlib.patches\n",
    "import glob\n",
    "import matplotlib.gridspec\n",
    "import scipy.ndimage\n",
    "\n",
    "import wrf\n",
    "import netCDF4\n",
    "import cmocean\n",
    "\n",
    "import pandas\n",
    "\n",
    "import matplotlib.ticker\n",
    "import cartopy.mpl.gridliner #import LONGITUDE_FORMATTER, LATITUDE_FORMATTER\n",
    "\n",
    "import mpl_toolkits\n",
    "import cartopy\n",
    "import cartopy.io.shapereader\n",
    "\n",
    "DEGREE_SIGN = u'\\u00B0'\n",
    "mp.rcParams.update({'mathtext.default': 'regular'})\n",
    "\n",
    "% matplotlib inline"
   ]
  },
  {
   "cell_type": "code",
   "execution_count": 2,
   "metadata": {
    "ExecuteTime": {
     "end_time": "2018-08-17T19:10:15.984186Z",
     "start_time": "2018-08-17T19:10:15.978551Z"
    }
   },
   "outputs": [],
   "source": [
    "run_info = 'FMAASO'\n",
    "skip_time=0"
   ]
  },
  {
   "cell_type": "markdown",
   "metadata": {},
   "source": [
    "# opening mean fields"
   ]
  },
  {
   "cell_type": "markdown",
   "metadata": {},
   "source": [
    "## control data"
   ]
  },
  {
   "cell_type": "code",
   "execution_count": 3,
   "metadata": {
    "ExecuteTime": {
     "end_time": "2018-08-17T19:10:16.192078Z",
     "start_time": "2018-08-17T19:10:15.992560Z"
    }
   },
   "outputs": [
    {
     "name": "stdout",
     "output_type": "stream",
     "text": [
      "001\t\t\t001_MYNN25_scheme\t  001_UW_scheme\r\n",
      "001_ACM2_scheme\t\t001_MYNN30_scheme\t  001_UW_scheme_10days\r\n",
      "001_ACM2_scheme_10days\t001_MYNN30_scheme_10days  001_with_extras\r\n",
      "001_MYJ_scheme\t\t001_TEMF_scheme\t\t  001_with_xkzs\r\n",
      "001_MYJ_scheme_10days\t001_TEMF_scheme_10days\t  001_with_xkzs_and_fxpbls\r\n"
     ]
    }
   ],
   "source": [
    "!ls /beegfs/DATA/pritchard/blangenb/WRF_ARCHIVE/CHEYENNE/FMAASO/400_sensitivity/"
   ]
  },
  {
   "cell_type": "markdown",
   "metadata": {},
   "source": [
    "YSU, ACM2, MYJ, and UW"
   ]
  },
  {
   "cell_type": "code",
   "execution_count": 4,
   "metadata": {
    "ExecuteTime": {
     "end_time": "2018-08-17T19:11:15.906414Z",
     "start_time": "2018-08-17T19:10:16.194981Z"
    }
   },
   "outputs": [],
   "source": [
    "ysu_root_dir = '/beegfs/DATA/pritchard/blangenb/WRF_ARCHIVE/CHEYENNE/FMAASO/400_sensitivity/001_with_extras'\n",
    "ysu_file_list = sorted(glob.glob(ysu_root_dir+'/'+'wrfout*'))\n",
    "ysu_ds_list = [netCDF4.Dataset(file) for file in ysu_file_list]\n",
    "\n",
    "ysu_ptot_400 = numpy.load('DATA_ptot_400_sensitivity.npy')\n",
    "ysu_geopot_400 = numpy.load('DATA_geopot_400_sensitivity.npy')\n",
    "ysu_tk_400 = numpy.load('DATA_tk_400_sensitivity.npy')\n",
    "\n",
    "ysu_cont_mfds = xarray.open_mfdataset(ysu_root_dir + '/' + 'wrfout*')\n",
    "\n",
    "ysu_time = ysu_cont_mfds['Times'].values\n",
    "ysu_xlat = ysu_cont_mfds['XLAT'].values[0,:,:]\n",
    "ysu_xlong = ysu_cont_mfds['XLONG'].values[0,:,:]\n",
    "ysu_landmask = ysu_cont_mfds['LANDMASK'].values[0,:,:]\n",
    "\n",
    "ysu_qvapor_400 = ysu_cont_mfds['QVAPOR'].values\n",
    "ysu_t_400 = ysu_cont_mfds['T'].values\n",
    "ysu_pblh_400 = ysu_cont_mfds['PBLH'].values"
   ]
  },
  {
   "cell_type": "code",
   "execution_count": 5,
   "metadata": {
    "ExecuteTime": {
     "end_time": "2018-08-17T19:11:20.791533Z",
     "start_time": "2018-08-17T19:11:15.914849Z"
    }
   },
   "outputs": [],
   "source": [
    "ysu_cldfra_400 = ysu_cont_mfds['CLDFRA'].values"
   ]
  },
  {
   "cell_type": "code",
   "execution_count": 65,
   "metadata": {
    "ExecuteTime": {
     "end_time": "2018-08-17T19:41:25.746894Z",
     "start_time": "2018-08-17T19:41:23.001210Z"
    }
   },
   "outputs": [],
   "source": [
    "ysu_rainc_400 = ysu_cont_mfds['RAINC'].values\n",
    "ysu_rainnc_400 = ysu_cont_mfds['RAINNC'].values"
   ]
  },
  {
   "cell_type": "code",
   "execution_count": 6,
   "metadata": {
    "ExecuteTime": {
     "end_time": "2018-08-17T19:12:15.136514Z",
     "start_time": "2018-08-17T19:11:20.800069Z"
    }
   },
   "outputs": [],
   "source": [
    "acm2_root_dir = '/beegfs/DATA/pritchard/blangenb/WRF_ARCHIVE/CHEYENNE/FMAASO/400_sensitivity/001_ACM2_scheme'\n",
    "acm2_file_list = sorted(glob.glob(acm2_root_dir+'/'+'wrfout*'))\n",
    "acm2_ds_list = [netCDF4.Dataset(file) for file in acm2_file_list]\n",
    "\n",
    "acm2_ptot_400 = wrf.getvar(acm2_ds_list, 'p', timeidx=wrf.ALL_TIMES).values\n",
    "acm2_geopot_400 = wrf.getvar(acm2_ds_list, 'geopotential', timeidx=wrf.ALL_TIMES).values\n",
    "acm2_tk_400 = wrf.getvar(acm2_ds_list, 'tk', timeidx=wrf.ALL_TIMES).values"
   ]
  },
  {
   "cell_type": "code",
   "execution_count": 7,
   "metadata": {
    "ExecuteTime": {
     "end_time": "2018-08-17T19:12:47.388002Z",
     "start_time": "2018-08-17T19:12:15.145019Z"
    }
   },
   "outputs": [],
   "source": [
    "acm2_cont_mfds = xarray.open_mfdataset(acm2_root_dir + '/' + 'wrfout*')\n",
    "acm2_qvapor_400 = acm2_cont_mfds['QVAPOR'].values\n",
    "acm2_t_400 = acm2_cont_mfds['T'].values\n",
    "acm2_pblh_400 = acm2_cont_mfds['PBLH'].values\n",
    "acm2_cldfra_400 = acm2_cont_mfds['CLDFRA'].values"
   ]
  },
  {
   "cell_type": "code",
   "execution_count": 64,
   "metadata": {
    "ExecuteTime": {
     "end_time": "2018-08-17T19:41:09.803888Z",
     "start_time": "2018-08-17T19:41:08.793095Z"
    }
   },
   "outputs": [],
   "source": [
    "acm2_rainc_400 = acm2_cont_mfds['RAINC'].values\n",
    "acm2_rainnc_400 = acm2_cont_mfds['RAINNC'].values"
   ]
  },
  {
   "cell_type": "code",
   "execution_count": 8,
   "metadata": {
    "ExecuteTime": {
     "end_time": "2018-08-17T19:13:46.005173Z",
     "start_time": "2018-08-17T19:12:47.396472Z"
    }
   },
   "outputs": [],
   "source": [
    "myj_root_dir = '/beegfs/DATA/pritchard/blangenb/WRF_ARCHIVE/CHEYENNE/FMAASO/400_sensitivity/001_MYJ_scheme'\n",
    "myj_file_list = sorted(glob.glob(myj_root_dir+'/'+'wrfout*'))\n",
    "myj_ds_list = [netCDF4.Dataset(file) for file in myj_file_list]\n",
    "\n",
    "myj_ptot_400 = wrf.getvar(myj_ds_list, 'p', timeidx=wrf.ALL_TIMES).values\n",
    "myj_geopot_400 = wrf.getvar(myj_ds_list, 'geopotential', timeidx=wrf.ALL_TIMES).values\n",
    "myj_tk_400 = wrf.getvar(myj_ds_list, 'tk', timeidx=wrf.ALL_TIMES).values"
   ]
  },
  {
   "cell_type": "code",
   "execution_count": 9,
   "metadata": {
    "ExecuteTime": {
     "end_time": "2018-08-17T19:14:15.535103Z",
     "start_time": "2018-08-17T19:13:46.013849Z"
    }
   },
   "outputs": [],
   "source": [
    "myj_cont_mfds = xarray.open_mfdataset(myj_root_dir + '/' + 'wrfout*')\n",
    "myj_qvapor_400 = myj_cont_mfds['QVAPOR'].values\n",
    "myj_t_400 = myj_cont_mfds['T'].values\n",
    "myj_pblh_400 = myj_cont_mfds['PBLH'].values\n",
    "myj_cldfra_400 = myj_cont_mfds['CLDFRA'].values"
   ]
  },
  {
   "cell_type": "code",
   "execution_count": 66,
   "metadata": {
    "ExecuteTime": {
     "end_time": "2018-08-17T19:41:38.633748Z",
     "start_time": "2018-08-17T19:41:35.107537Z"
    }
   },
   "outputs": [],
   "source": [
    "myj_rainc_400 = myj_cont_mfds['RAINC'].values\n",
    "myj_rainnc_400 = myj_cont_mfds['RAINNC'].values"
   ]
  },
  {
   "cell_type": "code",
   "execution_count": 10,
   "metadata": {
    "ExecuteTime": {
     "end_time": "2018-08-17T19:15:10.107807Z",
     "start_time": "2018-08-17T19:14:15.543598Z"
    }
   },
   "outputs": [],
   "source": [
    "uw_root_dir = '/beegfs/DATA/pritchard/blangenb/WRF_ARCHIVE/CHEYENNE/FMAASO/400_sensitivity/001_UW_scheme'\n",
    "uw_file_list = sorted(glob.glob(uw_root_dir+'/'+'wrfout*'))\n",
    "uw_ds_list = [netCDF4.Dataset(file) for file in uw_file_list]\n",
    "\n",
    "uw_ptot_400 = wrf.getvar(uw_ds_list, 'p', timeidx=wrf.ALL_TIMES).values\n",
    "uw_geopot_400 = wrf.getvar(uw_ds_list, 'geopotential', timeidx=wrf.ALL_TIMES).values\n",
    "uw_tk_400 = wrf.getvar(uw_ds_list, 'tk', timeidx=wrf.ALL_TIMES).values"
   ]
  },
  {
   "cell_type": "code",
   "execution_count": 11,
   "metadata": {
    "ExecuteTime": {
     "end_time": "2018-08-17T19:15:36.823470Z",
     "start_time": "2018-08-17T19:15:10.119894Z"
    }
   },
   "outputs": [],
   "source": [
    "uw_cont_mfds = xarray.open_mfdataset(uw_root_dir + '/' + 'wrfout*')\n",
    "uw_qvapor_400 = uw_cont_mfds['QVAPOR'].values\n",
    "uw_t_400 = uw_cont_mfds['T'].values\n",
    "uw_pblh_400 = uw_cont_mfds['PBLH'].values\n",
    "uw_cldfra_400 = uw_cont_mfds['CLDFRA'].values"
   ]
  },
  {
   "cell_type": "code",
   "execution_count": 67,
   "metadata": {
    "ExecuteTime": {
     "end_time": "2018-08-17T19:41:46.072890Z",
     "start_time": "2018-08-17T19:41:43.863885Z"
    }
   },
   "outputs": [],
   "source": [
    "uw_rainc_400 = uw_cont_mfds['RAINC'].values\n",
    "uw_rainnc_400 = uw_cont_mfds['RAINNC'].values"
   ]
  },
  {
   "cell_type": "code",
   "execution_count": 12,
   "metadata": {
    "ExecuteTime": {
     "end_time": "2018-08-17T19:16:33.491358Z",
     "start_time": "2018-08-17T19:15:36.832078Z"
    }
   },
   "outputs": [],
   "source": [
    "mynn25_root_dir = '/beegfs/DATA/pritchard/blangenb/WRF_ARCHIVE/CHEYENNE/FMAASO/400_sensitivity/001_MYNN25_scheme'\n",
    "mynn25_file_list = sorted(glob.glob(mynn25_root_dir+'/'+'wrfout*'))\n",
    "mynn25_ds_list = [netCDF4.Dataset(file) for file in mynn25_file_list]\n",
    "\n",
    "mynn25_ptot_400 = wrf.getvar(mynn25_ds_list, 'p', timeidx=wrf.ALL_TIMES).values\n",
    "mynn25_geopot_400 = wrf.getvar(mynn25_ds_list, 'geopotential', timeidx=wrf.ALL_TIMES).values\n",
    "mynn25_tk_400 = wrf.getvar(mynn25_ds_list, 'tk', timeidx=wrf.ALL_TIMES).values"
   ]
  },
  {
   "cell_type": "code",
   "execution_count": 13,
   "metadata": {
    "ExecuteTime": {
     "end_time": "2018-08-17T19:17:07.468872Z",
     "start_time": "2018-08-17T19:16:33.499787Z"
    }
   },
   "outputs": [],
   "source": [
    "mynn25_cont_mfds = xarray.open_mfdataset(mynn25_root_dir + '/' + 'wrfout*')\n",
    "mynn25_qvapor_400 = mynn25_cont_mfds['QVAPOR'].values\n",
    "mynn25_t_400 = mynn25_cont_mfds['T'].values\n",
    "mynn25_pblh_400 = mynn25_cont_mfds['PBLH'].values\n",
    "mynn25_cldfra_400 = mynn25_cont_mfds['CLDFRA'].values"
   ]
  },
  {
   "cell_type": "code",
   "execution_count": 68,
   "metadata": {
    "ExecuteTime": {
     "end_time": "2018-08-17T19:41:56.845815Z",
     "start_time": "2018-08-17T19:41:53.555411Z"
    }
   },
   "outputs": [],
   "source": [
    "mynn25_rainc_400 = mynn25_cont_mfds['RAINC'].values\n",
    "mynn25_rainnc_400 = mynn25_cont_mfds['RAINNC'].values"
   ]
  },
  {
   "cell_type": "code",
   "execution_count": 14,
   "metadata": {
    "ExecuteTime": {
     "end_time": "2018-08-17T19:18:10.563876Z",
     "start_time": "2018-08-17T19:17:07.477311Z"
    }
   },
   "outputs": [],
   "source": [
    "mynn30_root_dir = '/beegfs/DATA/pritchard/blangenb/WRF_ARCHIVE/CHEYENNE/FMAASO/400_sensitivity/001_MYNN30_scheme'\n",
    "mynn30_file_list = sorted(glob.glob(mynn30_root_dir+'/'+'wrfout*'))\n",
    "mynn30_ds_list = [netCDF4.Dataset(file) for file in mynn30_file_list]\n",
    "\n",
    "mynn30_ptot_400 = wrf.getvar(mynn30_ds_list, 'p', timeidx=wrf.ALL_TIMES).values\n",
    "mynn30_geopot_400 = wrf.getvar(mynn30_ds_list, 'geopotential', timeidx=wrf.ALL_TIMES).values\n",
    "mynn30_tk_400 = wrf.getvar(mynn30_ds_list, 'tk', timeidx=wrf.ALL_TIMES).values"
   ]
  },
  {
   "cell_type": "code",
   "execution_count": 15,
   "metadata": {
    "ExecuteTime": {
     "end_time": "2018-08-17T19:18:45.695946Z",
     "start_time": "2018-08-17T19:18:10.572324Z"
    }
   },
   "outputs": [],
   "source": [
    "mynn30_cont_mfds = xarray.open_mfdataset(mynn30_root_dir + '/' + 'wrfout*')\n",
    "mynn30_qvapor_400 = mynn30_cont_mfds['QVAPOR'].values\n",
    "mynn30_t_400 = mynn30_cont_mfds['T'].values\n",
    "mynn30_pblh_400 = mynn30_cont_mfds['PBLH'].values\n",
    "mynn30_cldfra_400 = mynn30_cont_mfds['CLDFRA'].values"
   ]
  },
  {
   "cell_type": "code",
   "execution_count": 69,
   "metadata": {
    "ExecuteTime": {
     "end_time": "2018-08-17T19:42:06.324141Z",
     "start_time": "2018-08-17T19:42:02.532756Z"
    }
   },
   "outputs": [],
   "source": [
    "mynn30_rainc_400 = mynn30_cont_mfds['RAINC'].values\n",
    "mynn30_rainnc_400 = mynn30_cont_mfds['RAINNC'].values"
   ]
  },
  {
   "cell_type": "code",
   "execution_count": 16,
   "metadata": {
    "ExecuteTime": {
     "end_time": "2018-08-17T19:19:52.886283Z",
     "start_time": "2018-08-17T19:18:45.704686Z"
    }
   },
   "outputs": [],
   "source": [
    "temf_root_dir = '/beegfs/DATA/pritchard/blangenb/WRF_ARCHIVE/CHEYENNE/FMAASO/400_sensitivity/001_TEMF_scheme'\n",
    "temf_file_list = sorted(glob.glob(temf_root_dir+'/'+'wrfout*'))\n",
    "temf_ds_list = [netCDF4.Dataset(file) for file in temf_file_list]\n",
    "\n",
    "temf_ptot_400 = wrf.getvar(temf_ds_list, 'p', timeidx=wrf.ALL_TIMES).values\n",
    "temf_geopot_400 = wrf.getvar(temf_ds_list, 'geopotential', timeidx=wrf.ALL_TIMES).values\n",
    "temf_tk_400 = wrf.getvar(temf_ds_list, 'tk', timeidx=wrf.ALL_TIMES).values"
   ]
  },
  {
   "cell_type": "code",
   "execution_count": 17,
   "metadata": {
    "ExecuteTime": {
     "end_time": "2018-08-17T19:20:25.632254Z",
     "start_time": "2018-08-17T19:19:52.894625Z"
    }
   },
   "outputs": [],
   "source": [
    "temf_cont_mfds = xarray.open_mfdataset(temf_root_dir + '/' + 'wrfout*')\n",
    "temf_qvapor_400 = temf_cont_mfds['QVAPOR'].values\n",
    "temf_t_400 = temf_cont_mfds['T'].values\n",
    "temf_pblh_400 = temf_cont_mfds['PBLH'].values\n",
    "temf_cldfra_400 = temf_cont_mfds['CLDFRA'].values"
   ]
  },
  {
   "cell_type": "code",
   "execution_count": 70,
   "metadata": {
    "ExecuteTime": {
     "end_time": "2018-08-17T19:42:13.179566Z",
     "start_time": "2018-08-17T19:42:10.587780Z"
    }
   },
   "outputs": [],
   "source": [
    "temf_rainc_400 = temf_cont_mfds['RAINC'].values\n",
    "temf_rainnc_400 = temf_cont_mfds['RAINNC'].values"
   ]
  },
  {
   "cell_type": "markdown",
   "metadata": {},
   "source": [
    "## phys data"
   ]
  },
  {
   "cell_type": "code",
   "execution_count": 18,
   "metadata": {
    "ExecuteTime": {
     "end_time": "2018-08-17T19:21:31.674018Z",
     "start_time": "2018-08-17T19:20:25.640902Z"
    }
   },
   "outputs": [],
   "source": [
    "ysu_root_dir = '/beegfs/DATA/pritchard/blangenb/WRF_ARCHIVE/CHEYENNE/FMAASO/1000_sensitivity/001_with_extras'\n",
    "ysu_file_list = sorted(glob.glob(ysu_root_dir+'/'+'wrfout*'))\n",
    "ysu_ds_list = [netCDF4.Dataset(file) for file in ysu_file_list]\n",
    "\n",
    "ysu_ptot_1000 = numpy.load('DATA_ptot_1000_sensitivity.npy')\n",
    "ysu_geopot_1000 = numpy.load('DATA_geopot_1000_sensitivity.npy')\n",
    "ysu_tk_1000 = numpy.load('DATA_tk_1000_sensitivity.npy')\n",
    "\n",
    "ysu_phys_mfds = xarray.open_mfdataset(ysu_root_dir + '/' + 'wrfout*')\n",
    "ysu_qvapor_1000 = ysu_phys_mfds['QVAPOR'].values\n",
    "ysu_t_1000 = ysu_phys_mfds['T'].values\n",
    "ysu_pblh_1000 = ysu_phys_mfds['PBLH'].values"
   ]
  },
  {
   "cell_type": "code",
   "execution_count": 19,
   "metadata": {
    "ExecuteTime": {
     "end_time": "2018-08-17T19:21:36.524994Z",
     "start_time": "2018-08-17T19:21:31.682784Z"
    }
   },
   "outputs": [],
   "source": [
    "ysu_cldfra_1000 = ysu_phys_mfds['CLDFRA'].values"
   ]
  },
  {
   "cell_type": "code",
   "execution_count": 71,
   "metadata": {
    "ExecuteTime": {
     "end_time": "2018-08-17T19:42:34.950754Z",
     "start_time": "2018-08-17T19:42:32.356341Z"
    }
   },
   "outputs": [],
   "source": [
    "ysu_rainc_1000 = ysu_phys_mfds['RAINC'].values\n",
    "ysu_rainnc_1000 = ysu_phys_mfds['RAINNC'].values"
   ]
  },
  {
   "cell_type": "code",
   "execution_count": 20,
   "metadata": {
    "ExecuteTime": {
     "end_time": "2018-08-17T19:22:42.180675Z",
     "start_time": "2018-08-17T19:21:36.533580Z"
    }
   },
   "outputs": [],
   "source": [
    "acm2_root_dir = '/beegfs/DATA/pritchard/blangenb/WRF_ARCHIVE/CHEYENNE/FMAASO/1000_sensitivity/001_ACM2_scheme'\n",
    "acm2_file_list = sorted(glob.glob(acm2_root_dir+'/'+'wrfout*'))\n",
    "acm2_ds_list = [netCDF4.Dataset(file) for file in acm2_file_list]\n",
    "\n",
    "acm2_ptot_1000 = wrf.getvar(acm2_ds_list, 'p', timeidx=wrf.ALL_TIMES).values\n",
    "acm2_geopot_1000 = wrf.getvar(acm2_ds_list, 'geopotential', timeidx=wrf.ALL_TIMES).values\n",
    "acm2_tk_1000 = wrf.getvar(acm2_ds_list, 'tk', timeidx=wrf.ALL_TIMES).values"
   ]
  },
  {
   "cell_type": "code",
   "execution_count": 21,
   "metadata": {
    "ExecuteTime": {
     "end_time": "2018-08-17T19:23:10.856730Z",
     "start_time": "2018-08-17T19:22:42.189179Z"
    }
   },
   "outputs": [],
   "source": [
    "acm2_phys_mfds = xarray.open_mfdataset(acm2_root_dir + '/' + 'wrfout*')\n",
    "acm2_qvapor_1000 = acm2_phys_mfds['QVAPOR'].values\n",
    "acm2_t_1000 = acm2_phys_mfds['T'].values\n",
    "acm2_pblh_1000 = acm2_phys_mfds['PBLH'].values\n",
    "acm2_cldfra_1000 = acm2_phys_mfds['CLDFRA'].values"
   ]
  },
  {
   "cell_type": "code",
   "execution_count": 72,
   "metadata": {
    "ExecuteTime": {
     "end_time": "2018-08-17T19:42:45.055219Z",
     "start_time": "2018-08-17T19:42:42.537082Z"
    }
   },
   "outputs": [],
   "source": [
    "acm2_rainc_1000 = acm2_phys_mfds['RAINC'].values\n",
    "acm2_rainnc_1000 = acm2_phys_mfds['RAINNC'].values"
   ]
  },
  {
   "cell_type": "code",
   "execution_count": 22,
   "metadata": {
    "ExecuteTime": {
     "end_time": "2018-08-17T19:24:10.957543Z",
     "start_time": "2018-08-17T19:23:10.865149Z"
    }
   },
   "outputs": [],
   "source": [
    "myj_root_dir = '/beegfs/DATA/pritchard/blangenb/WRF_ARCHIVE/CHEYENNE/FMAASO/1000_sensitivity/001_MYJ_scheme'\n",
    "myj_file_list = sorted(glob.glob(myj_root_dir+'/'+'wrfout*'))\n",
    "myj_ds_list = [netCDF4.Dataset(file) for file in myj_file_list]\n",
    "\n",
    "myj_ptot_1000 = wrf.getvar(myj_ds_list, 'p', timeidx=wrf.ALL_TIMES).values\n",
    "myj_geopot_1000 = wrf.getvar(myj_ds_list, 'geopotential', timeidx=wrf.ALL_TIMES).values\n",
    "myj_tk_1000 = wrf.getvar(myj_ds_list, 'tk', timeidx=wrf.ALL_TIMES).values"
   ]
  },
  {
   "cell_type": "code",
   "execution_count": 23,
   "metadata": {
    "ExecuteTime": {
     "end_time": "2018-08-17T19:24:40.989267Z",
     "start_time": "2018-08-17T19:24:10.966202Z"
    }
   },
   "outputs": [],
   "source": [
    "myj_phys_mfds = xarray.open_mfdataset(myj_root_dir + '/' + 'wrfout*')\n",
    "myj_qvapor_1000 = myj_phys_mfds['QVAPOR'].values\n",
    "myj_t_1000 = myj_phys_mfds['T'].values\n",
    "myj_pblh_1000 = myj_phys_mfds['PBLH'].values\n",
    "myj_cldfra_1000 = myj_phys_mfds['CLDFRA'].values"
   ]
  },
  {
   "cell_type": "code",
   "execution_count": 73,
   "metadata": {
    "ExecuteTime": {
     "end_time": "2018-08-17T19:42:53.615548Z",
     "start_time": "2018-08-17T19:42:51.022196Z"
    }
   },
   "outputs": [],
   "source": [
    "myj_rainc_1000 = myj_phys_mfds['RAINC'].values\n",
    "myj_rainnc_1000 = myj_phys_mfds['RAINNC'].values"
   ]
  },
  {
   "cell_type": "code",
   "execution_count": 24,
   "metadata": {
    "ExecuteTime": {
     "end_time": "2018-08-17T19:25:37.402088Z",
     "start_time": "2018-08-17T19:24:40.997842Z"
    }
   },
   "outputs": [],
   "source": [
    "uw_root_dir = '/beegfs/DATA/pritchard/blangenb/WRF_ARCHIVE/CHEYENNE/FMAASO/1000_sensitivity/001_UW_scheme'\n",
    "uw_file_list = sorted(glob.glob(uw_root_dir+'/'+'wrfout*'))\n",
    "uw_ds_list = [netCDF4.Dataset(file) for file in uw_file_list]\n",
    "\n",
    "uw_ptot_1000 = wrf.getvar(uw_ds_list, 'p', timeidx=wrf.ALL_TIMES).values\n",
    "uw_geopot_1000 = wrf.getvar(uw_ds_list, 'geopotential', timeidx=wrf.ALL_TIMES).values\n",
    "uw_tk_1000 = wrf.getvar(uw_ds_list, 'tk', timeidx=wrf.ALL_TIMES).values"
   ]
  },
  {
   "cell_type": "code",
   "execution_count": 25,
   "metadata": {
    "ExecuteTime": {
     "end_time": "2018-08-17T19:26:04.454229Z",
     "start_time": "2018-08-17T19:25:37.410683Z"
    }
   },
   "outputs": [],
   "source": [
    "uw_phys_mfds = xarray.open_mfdataset(uw_root_dir + '/' + 'wrfout*')\n",
    "uw_qvapor_1000 = uw_phys_mfds['QVAPOR'].values\n",
    "uw_t_1000 = uw_phys_mfds['T'].values\n",
    "uw_pblh_1000 = uw_phys_mfds['PBLH'].values\n",
    "uw_cldfra_1000 = uw_phys_mfds['CLDFRA'].values"
   ]
  },
  {
   "cell_type": "code",
   "execution_count": 74,
   "metadata": {
    "ExecuteTime": {
     "end_time": "2018-08-17T19:43:02.578229Z",
     "start_time": "2018-08-17T19:42:59.717851Z"
    }
   },
   "outputs": [],
   "source": [
    "uw_rainc_1000 = uw_phys_mfds['RAINC'].values\n",
    "uw_rainnc_1000 = uw_phys_mfds['RAINNC'].values"
   ]
  },
  {
   "cell_type": "code",
   "execution_count": 26,
   "metadata": {
    "ExecuteTime": {
     "end_time": "2018-08-17T19:27:11.236615Z",
     "start_time": "2018-08-17T19:26:04.462715Z"
    }
   },
   "outputs": [],
   "source": [
    "mynn25_root_dir = '/beegfs/DATA/pritchard/blangenb/WRF_ARCHIVE/CHEYENNE/FMAASO/1000_sensitivity/001_MYNN25_scheme'\n",
    "mynn25_file_list = sorted(glob.glob(mynn25_root_dir+'/'+'wrfout*'))\n",
    "mynn25_ds_list = [netCDF4.Dataset(file) for file in mynn25_file_list]\n",
    "\n",
    "mynn25_ptot_1000 = wrf.getvar(mynn25_ds_list, 'p', timeidx=wrf.ALL_TIMES).values\n",
    "mynn25_geopot_1000 = wrf.getvar(mynn25_ds_list, 'geopotential', timeidx=wrf.ALL_TIMES).values\n",
    "mynn25_tk_1000 = wrf.getvar(mynn25_ds_list, 'tk', timeidx=wrf.ALL_TIMES).values"
   ]
  },
  {
   "cell_type": "code",
   "execution_count": 27,
   "metadata": {
    "ExecuteTime": {
     "end_time": "2018-08-17T19:27:44.839035Z",
     "start_time": "2018-08-17T19:27:11.245067Z"
    }
   },
   "outputs": [],
   "source": [
    "mynn25_phys_mfds = xarray.open_mfdataset(mynn25_root_dir + '/' + 'wrfout*')\n",
    "mynn25_qvapor_1000 = mynn25_phys_mfds['QVAPOR'].values\n",
    "mynn25_t_1000 = mynn25_phys_mfds['T'].values\n",
    "mynn25_pblh_1000 = mynn25_phys_mfds['PBLH'].values\n",
    "mynn25_cldfra_1000 = mynn25_phys_mfds['CLDFRA'].values"
   ]
  },
  {
   "cell_type": "code",
   "execution_count": 75,
   "metadata": {
    "ExecuteTime": {
     "end_time": "2018-08-17T19:43:12.753610Z",
     "start_time": "2018-08-17T19:43:09.379735Z"
    }
   },
   "outputs": [],
   "source": [
    "mynn25_rainc_1000 = mynn25_phys_mfds['RAINC'].values\n",
    "mynn25_rainnc_1000 = mynn25_phys_mfds['RAINNC'].values"
   ]
  },
  {
   "cell_type": "code",
   "execution_count": 28,
   "metadata": {
    "ExecuteTime": {
     "end_time": "2018-08-17T19:29:16.311496Z",
     "start_time": "2018-08-17T19:27:44.847468Z"
    }
   },
   "outputs": [],
   "source": [
    "mynn30_root_dir = '/beegfs/DATA/pritchard/blangenb/WRF_ARCHIVE/CHEYENNE/FMAASO/1000_sensitivity/001_MYNN30_scheme'\n",
    "mynn30_file_list = sorted(glob.glob(mynn30_root_dir+'/'+'wrfout*'))\n",
    "mynn30_ds_list = [netCDF4.Dataset(file) for file in mynn30_file_list]\n",
    "\n",
    "mynn30_ptot_1000 = wrf.getvar(mynn30_ds_list, 'p', timeidx=wrf.ALL_TIMES).values\n",
    "mynn30_geopot_1000 = wrf.getvar(mynn30_ds_list, 'geopotential', timeidx=wrf.ALL_TIMES).values\n",
    "mynn30_tk_1000 = wrf.getvar(mynn30_ds_list, 'tk', timeidx=wrf.ALL_TIMES).values"
   ]
  },
  {
   "cell_type": "code",
   "execution_count": 29,
   "metadata": {
    "ExecuteTime": {
     "end_time": "2018-08-17T19:30:07.638195Z",
     "start_time": "2018-08-17T19:29:16.320168Z"
    }
   },
   "outputs": [],
   "source": [
    "mynn30_phys_mfds = xarray.open_mfdataset(mynn30_root_dir + '/' + 'wrfout*')\n",
    "mynn30_qvapor_1000 = mynn30_phys_mfds['QVAPOR'].values\n",
    "mynn30_t_1000 = mynn30_phys_mfds['T'].values\n",
    "mynn30_pblh_1000 = mynn30_phys_mfds['PBLH'].values\n",
    "mynn30_cldfra_1000 = mynn30_phys_mfds['CLDFRA'].values"
   ]
  },
  {
   "cell_type": "code",
   "execution_count": 76,
   "metadata": {
    "ExecuteTime": {
     "end_time": "2018-08-17T19:43:28.185925Z",
     "start_time": "2018-08-17T19:43:25.053454Z"
    }
   },
   "outputs": [],
   "source": [
    "mynn30_rainc_1000 = mynn30_phys_mfds['RAINC'].values\n",
    "mynn30_rainnc_1000 = mynn30_phys_mfds['RAINNC'].values"
   ]
  },
  {
   "cell_type": "code",
   "execution_count": 30,
   "metadata": {
    "ExecuteTime": {
     "end_time": "2018-08-17T19:31:36.570309Z",
     "start_time": "2018-08-17T19:30:07.646876Z"
    }
   },
   "outputs": [],
   "source": [
    "temf_root_dir = '/beegfs/DATA/pritchard/blangenb/WRF_ARCHIVE/CHEYENNE/FMAASO/1000_sensitivity/001_TEMF_scheme'\n",
    "temf_file_list = sorted(glob.glob(temf_root_dir+'/'+'wrfout*'))\n",
    "temf_ds_list = [netCDF4.Dataset(file) for file in temf_file_list]\n",
    "\n",
    "temf_ptot_1000 = wrf.getvar(temf_ds_list, 'p', timeidx=wrf.ALL_TIMES).values\n",
    "temf_geopot_1000 = wrf.getvar(temf_ds_list, 'geopotential', timeidx=wrf.ALL_TIMES).values\n",
    "temf_tk_1000 = wrf.getvar(temf_ds_list, 'tk', timeidx=wrf.ALL_TIMES).values"
   ]
  },
  {
   "cell_type": "code",
   "execution_count": 31,
   "metadata": {
    "ExecuteTime": {
     "end_time": "2018-08-17T19:32:11.942605Z",
     "start_time": "2018-08-17T19:31:36.578977Z"
    }
   },
   "outputs": [],
   "source": [
    "temf_phys_mfds = xarray.open_mfdataset(temf_root_dir + '/' + 'wrfout*')\n",
    "temf_qvapor_1000 = temf_phys_mfds['QVAPOR'].values\n",
    "temf_t_1000 = temf_phys_mfds['T'].values\n",
    "temf_pblh_1000 = temf_phys_mfds['PBLH'].values\n",
    "temf_cldfra_1000 = temf_phys_mfds['CLDFRA'].values"
   ]
  },
  {
   "cell_type": "code",
   "execution_count": 77,
   "metadata": {
    "ExecuteTime": {
     "end_time": "2018-08-17T19:43:35.669772Z",
     "start_time": "2018-08-17T19:43:32.168747Z"
    }
   },
   "outputs": [],
   "source": [
    "temf_rainc_1000 = temf_phys_mfds['RAINC'].values\n",
    "temf_rainnc_1000 = temf_phys_mfds['RAINNC'].values"
   ]
  },
  {
   "cell_type": "markdown",
   "metadata": {},
   "source": [
    "## define dx, dy"
   ]
  },
  {
   "cell_type": "code",
   "execution_count": 32,
   "metadata": {
    "ExecuteTime": {
     "end_time": "2018-08-17T19:32:11.956567Z",
     "start_time": "2018-08-17T19:32:11.951287Z"
    }
   },
   "outputs": [],
   "source": [
    "dx = 50000. # 50,000 m or 50 km\n",
    "dy = 50000."
   ]
  },
  {
   "cell_type": "markdown",
   "metadata": {},
   "source": [
    "# constants"
   ]
  },
  {
   "cell_type": "code",
   "execution_count": 33,
   "metadata": {
    "ExecuteTime": {
     "end_time": "2018-08-17T19:32:12.043841Z",
     "start_time": "2018-08-17T19:32:11.965027Z"
    }
   },
   "outputs": [],
   "source": [
    "L_v = 2264705.0 # J/kg\n",
    "c_p = 1005.7 # J/kgK\n",
    "g = 9.80665 # m/s2"
   ]
  },
  {
   "cell_type": "markdown",
   "metadata": {},
   "source": [
    "## get landmask"
   ]
  },
  {
   "cell_type": "code",
   "execution_count": 34,
   "metadata": {
    "ExecuteTime": {
     "end_time": "2018-08-17T19:32:12.184083Z",
     "start_time": "2018-08-17T19:32:12.052633Z"
    }
   },
   "outputs": [],
   "source": [
    "landmask = ysu_cont_mfds['LANDMASK'].sel(Time=0).values"
   ]
  },
  {
   "cell_type": "code",
   "execution_count": 35,
   "metadata": {
    "ExecuteTime": {
     "end_time": "2018-08-17T19:32:12.548727Z",
     "start_time": "2018-08-17T19:32:12.192542Z"
    }
   },
   "outputs": [
    {
     "data": {
      "text/plain": [
       "<matplotlib.colorbar.Colorbar at 0x2b6204bcf668>"
      ]
     },
     "execution_count": 35,
     "metadata": {},
     "output_type": "execute_result"
    },
    {
     "data": {
      "image/png": "[encoded data removed]",
      "text/plain": [
       "<Figure size 432x288 with 2 Axes>"
      ]
     },
     "metadata": {},
     "output_type": "display_data"
    }
   ],
   "source": [
    "mp.contourf(landmask);mp.colorbar()"
   ]
  },
  {
   "cell_type": "markdown",
   "metadata": {},
   "source": [
    "# calculate MSE"
   ]
  },
  {
   "cell_type": "code",
   "execution_count": 36,
   "metadata": {
    "ExecuteTime": {
     "end_time": "2018-08-17T19:32:13.150045Z",
     "start_time": "2018-08-17T19:32:12.557075Z"
    }
   },
   "outputs": [],
   "source": [
    "ysu_mse_400 = ysu_geopot_400 + L_v*ysu_qvapor_400 + c_p*ysu_tk_400\n",
    "ysu_mse_1000 = ysu_geopot_1000 + L_v*ysu_qvapor_1000 + c_p*ysu_tk_1000"
   ]
  },
  {
   "cell_type": "markdown",
   "metadata": {},
   "source": [
    "set up time/lev numbers"
   ]
  },
  {
   "cell_type": "code",
   "execution_count": 37,
   "metadata": {
    "ExecuteTime": {
     "end_time": "2018-08-17T19:32:13.163908Z",
     "start_time": "2018-08-17T19:32:13.158476Z"
    }
   },
   "outputs": [],
   "source": [
    "ntime = 25\n",
    "nlev = 29"
   ]
  },
  {
   "cell_type": "markdown",
   "metadata": {},
   "source": [
    "calculate lat lon stuff"
   ]
  },
  {
   "cell_type": "code",
   "execution_count": 38,
   "metadata": {
    "ExecuteTime": {
     "end_time": "2018-08-17T19:32:13.228876Z",
     "start_time": "2018-08-17T19:32:13.172248Z"
    }
   },
   "outputs": [],
   "source": [
    "dry_lon_lo, dry_lon_hi, dry_lat_lo, dry_lat_hi = -60,-50,-10,10\n",
    "wet_lon_lo, wet_lon_hi, wet_lat_lo, wet_lat_hi = -80,-75,-10,10\n",
    "\n",
    "dry_lon_lo_degE = 360+dry_lon_lo\n",
    "dry_lon_hi_degE = 360+dry_lon_hi\n",
    "\n",
    "wet_lon_lo_degE = 360+wet_lon_lo\n",
    "wet_lon_hi_degE = 360+wet_lon_hi"
   ]
  },
  {
   "cell_type": "code",
   "execution_count": 39,
   "metadata": {
    "ExecuteTime": {
     "end_time": "2018-08-17T19:32:13.295137Z",
     "start_time": "2018-08-17T19:32:13.237641Z"
    }
   },
   "outputs": [],
   "source": [
    "lon_lo = dry_lon_lo\n",
    "lon_hi = dry_lon_hi\n",
    "lat_lo = dry_lat_lo\n",
    "lat_hi = dry_lat_hi\n",
    "\n",
    "# lon_lo = wet_lon_lo\n",
    "# lon_hi = wet_lon_hi\n",
    "# lat_lo = wet_lat_lo\n",
    "# lat_hi = wet_lat_hi"
   ]
  },
  {
   "cell_type": "code",
   "execution_count": 40,
   "metadata": {
    "ExecuteTime": {
     "end_time": "2018-08-17T19:32:13.354450Z",
     "start_time": "2018-08-17T19:32:13.303865Z"
    }
   },
   "outputs": [],
   "source": [
    "landmask_indices = numpy.copy(landmask)\n",
    "landmask_indices[landmask==1]=1\n",
    "landmask_indices[landmask!=1]=0\n",
    "landmask_indices = numpy.array(landmask_indices, dtype=bool)"
   ]
  },
  {
   "cell_type": "code",
   "execution_count": 41,
   "metadata": {
    "ExecuteTime": {
     "end_time": "2018-08-17T19:32:13.416069Z",
     "start_time": "2018-08-17T19:32:13.362816Z"
    }
   },
   "outputs": [],
   "source": [
    "lon_indices = (ysu_xlong>=lon_lo)&(ysu_xlong<=lon_hi)\n",
    "lat_indices = (ysu_xlat>=lat_lo)&(ysu_xlat<=lat_hi)\n",
    "latlon_indices = (lon_indices)&(lat_indices)&(landmask_indices)"
   ]
  },
  {
   "cell_type": "markdown",
   "metadata": {},
   "source": [
    "# take latlon means"
   ]
  },
  {
   "cell_type": "markdown",
   "metadata": {},
   "source": [
    "pblh, deltaysu"
   ]
  },
  {
   "cell_type": "code",
   "execution_count": 42,
   "metadata": {
    "ExecuteTime": {
     "end_time": "2018-08-17T19:32:13.656637Z",
     "start_time": "2018-08-17T19:32:13.418865Z"
    }
   },
   "outputs": [],
   "source": [
    "ysu_pblh_400_latlon_mean = numpy.nanmean(ysu_pblh_400[:,latlon_indices], axis=1)\n",
    "ysu_pblh_1000_latlon_mean = numpy.nanmean(ysu_pblh_1000[:,latlon_indices], axis=1)\n",
    "\n",
    "ysu_qvapor_400_latlon_mean = numpy.nanmean(ysu_qvapor_400[:,:,latlon_indices], axis=2)\n",
    "ysu_qvapor_1000_latlon_mean = numpy.nanmean(ysu_qvapor_1000[:,:,latlon_indices], axis=2)\n",
    "\n",
    "ysu_tk_400_latlon_mean = numpy.nanmean(ysu_tk_400[:,:,latlon_indices], axis=2)\n",
    "ysu_tk_1000_latlon_mean = numpy.nanmean(ysu_tk_1000[:,:,latlon_indices], axis=2)\n",
    "\n",
    "ysu_cldfra_400_latlon_mean = numpy.nanmean(ysu_cldfra_400[:,:,latlon_indices], axis=2)\n",
    "ysu_cldfra_1000_latlon_mean = numpy.nanmean(ysu_cldfra_1000[:,:,latlon_indices], axis=2)"
   ]
  },
  {
   "cell_type": "code",
   "execution_count": 82,
   "metadata": {
    "ExecuteTime": {
     "end_time": "2018-08-17T19:45:02.575358Z",
     "start_time": "2018-08-17T19:45:02.559639Z"
    }
   },
   "outputs": [],
   "source": [
    "ysu_raintot_400 = ysu_rainc_400 + ysu_rainnc_400\n",
    "ysu_raintot_1000 = ysu_rainc_1000 + ysu_rainnc_1000"
   ]
  },
  {
   "cell_type": "code",
   "execution_count": 43,
   "metadata": {
    "ExecuteTime": {
     "end_time": "2018-08-17T19:32:13.723894Z",
     "start_time": "2018-08-17T19:32:13.665094Z"
    }
   },
   "outputs": [],
   "source": [
    "myj_pblh_400_latlon_mean = numpy.nanmean(myj_pblh_400[:,latlon_indices], axis=1)\n",
    "myj_pblh_1000_latlon_mean = numpy.nanmean(myj_pblh_1000[:,latlon_indices], axis=1)\n",
    "\n",
    "myj_qvapor_400_latlon_mean = numpy.nanmean(myj_qvapor_400[:,:,latlon_indices], axis=2)\n",
    "myj_qvapor_1000_latlon_mean = numpy.nanmean(myj_qvapor_1000[:,:,latlon_indices], axis=2)\n",
    "\n",
    "myj_tk_400_latlon_mean = numpy.nanmean(myj_tk_400[:,:,latlon_indices], axis=2)\n",
    "myj_tk_1000_latlon_mean = numpy.nanmean(myj_tk_1000[:,:,latlon_indices], axis=2)\n",
    "\n",
    "myj_cldfra_400_latlon_mean = numpy.nanmean(myj_cldfra_400[:,:,latlon_indices], axis=2)\n",
    "myj_cldfra_1000_latlon_mean = numpy.nanmean(myj_cldfra_1000[:,:,latlon_indices], axis=2)"
   ]
  },
  {
   "cell_type": "code",
   "execution_count": 83,
   "metadata": {
    "ExecuteTime": {
     "end_time": "2018-08-17T19:45:10.068178Z",
     "start_time": "2018-08-17T19:45:10.049592Z"
    }
   },
   "outputs": [],
   "source": [
    "myj_raintot_400 = myj_rainc_400 + myj_rainnc_400\n",
    "myj_raintot_1000 = myj_rainc_1000 + myj_rainnc_1000"
   ]
  },
  {
   "cell_type": "code",
   "execution_count": 44,
   "metadata": {
    "ExecuteTime": {
     "end_time": "2018-08-17T19:32:13.809174Z",
     "start_time": "2018-08-17T19:32:13.732447Z"
    }
   },
   "outputs": [],
   "source": [
    "acm2_pblh_400_latlon_mean = numpy.nanmean(acm2_pblh_400[:,latlon_indices], axis=1)\n",
    "acm2_pblh_1000_latlon_mean = numpy.nanmean(acm2_pblh_1000[:,latlon_indices], axis=1)\n",
    "\n",
    "acm2_qvapor_400_latlon_mean = numpy.nanmean(acm2_qvapor_400[:,:,latlon_indices], axis=2)\n",
    "acm2_qvapor_1000_latlon_mean = numpy.nanmean(acm2_qvapor_1000[:,:,latlon_indices], axis=2)\n",
    "\n",
    "acm2_tk_400_latlon_mean = numpy.nanmean(acm2_tk_400[:,:,latlon_indices], axis=2)\n",
    "acm2_tk_1000_latlon_mean = numpy.nanmean(acm2_tk_1000[:,:,latlon_indices], axis=2)\n",
    "\n",
    "acm2_cldfra_400_latlon_mean = numpy.nanmean(acm2_cldfra_400[:,:,latlon_indices], axis=2)\n",
    "acm2_cldfra_1000_latlon_mean = numpy.nanmean(acm2_cldfra_1000[:,:,latlon_indices], axis=2)"
   ]
  },
  {
   "cell_type": "code",
   "execution_count": 84,
   "metadata": {
    "ExecuteTime": {
     "end_time": "2018-08-17T19:45:16.662517Z",
     "start_time": "2018-08-17T19:45:16.644812Z"
    }
   },
   "outputs": [],
   "source": [
    "acm2_raintot_400 = acm2_rainc_400 + acm2_rainnc_400\n",
    "acm2_raintot_1000 = acm2_rainc_1000 + acm2_rainnc_1000"
   ]
  },
  {
   "cell_type": "code",
   "execution_count": 45,
   "metadata": {
    "ExecuteTime": {
     "end_time": "2018-08-17T19:32:13.892024Z",
     "start_time": "2018-08-17T19:32:13.817970Z"
    }
   },
   "outputs": [],
   "source": [
    "uw_pblh_400_latlon_mean = numpy.nanmean(uw_pblh_400[:,latlon_indices], axis=1)\n",
    "uw_pblh_1000_latlon_mean = numpy.nanmean(uw_pblh_1000[:,latlon_indices], axis=1)\n",
    "\n",
    "uw_qvapor_400_latlon_mean = numpy.nanmean(uw_qvapor_400[:,:,latlon_indices], axis=2)\n",
    "uw_qvapor_1000_latlon_mean = numpy.nanmean(uw_qvapor_1000[:,:,latlon_indices], axis=2)\n",
    "\n",
    "uw_tk_400_latlon_mean = numpy.nanmean(uw_tk_400[:,:,latlon_indices], axis=2)\n",
    "uw_tk_1000_latlon_mean = numpy.nanmean(uw_tk_1000[:,:,latlon_indices], axis=2)\n",
    "\n",
    "uw_cldfra_400_latlon_mean = numpy.nanmean(uw_cldfra_400[:,:,latlon_indices], axis=2)\n",
    "uw_cldfra_1000_latlon_mean = numpy.nanmean(uw_cldfra_1000[:,:,latlon_indices], axis=2)"
   ]
  },
  {
   "cell_type": "code",
   "execution_count": 85,
   "metadata": {
    "ExecuteTime": {
     "end_time": "2018-08-17T19:45:23.419095Z",
     "start_time": "2018-08-17T19:45:23.400626Z"
    }
   },
   "outputs": [],
   "source": [
    "uw_raintot_400 = uw_rainc_400 + uw_rainnc_400\n",
    "uw_raintot_1000 = uw_rainc_1000 + uw_rainnc_1000"
   ]
  },
  {
   "cell_type": "code",
   "execution_count": 46,
   "metadata": {
    "ExecuteTime": {
     "end_time": "2018-08-17T19:32:13.968030Z",
     "start_time": "2018-08-17T19:32:13.900619Z"
    }
   },
   "outputs": [],
   "source": [
    "mynn25_pblh_400_latlon_mean = numpy.nanmean(mynn25_pblh_400[:,latlon_indices], axis=1)\n",
    "mynn25_pblh_1000_latlon_mean = numpy.nanmean(mynn25_pblh_1000[:,latlon_indices], axis=1)\n",
    "\n",
    "mynn25_qvapor_400_latlon_mean = numpy.nanmean(mynn25_qvapor_400[:,:,latlon_indices], axis=2)\n",
    "mynn25_qvapor_1000_latlon_mean = numpy.nanmean(mynn25_qvapor_1000[:,:,latlon_indices], axis=2)\n",
    "\n",
    "mynn25_tk_400_latlon_mean = numpy.nanmean(mynn25_tk_400[:,:,latlon_indices], axis=2)\n",
    "mynn25_tk_1000_latlon_mean = numpy.nanmean(mynn25_tk_1000[:,:,latlon_indices], axis=2)\n",
    "\n",
    "mynn25_cldfra_400_latlon_mean = numpy.nanmean(mynn25_cldfra_400[:,:,latlon_indices], axis=2)\n",
    "mynn25_cldfra_1000_latlon_mean = numpy.nanmean(mynn25_cldfra_1000[:,:,latlon_indices], axis=2)"
   ]
  },
  {
   "cell_type": "code",
   "execution_count": 86,
   "metadata": {
    "ExecuteTime": {
     "end_time": "2018-08-17T19:45:30.759565Z",
     "start_time": "2018-08-17T19:45:30.742249Z"
    }
   },
   "outputs": [],
   "source": [
    "mynn25_raintot_400 = mynn25_rainc_400 + mynn25_rainnc_400\n",
    "mynn25_raintot_1000 = mynn25_rainc_1000 + mynn25_rainnc_1000"
   ]
  },
  {
   "cell_type": "code",
   "execution_count": 47,
   "metadata": {
    "ExecuteTime": {
     "end_time": "2018-08-17T19:32:14.043458Z",
     "start_time": "2018-08-17T19:32:13.976670Z"
    }
   },
   "outputs": [],
   "source": [
    "mynn30_pblh_400_latlon_mean = numpy.nanmean(mynn30_pblh_400[:,latlon_indices], axis=1)\n",
    "mynn30_pblh_1000_latlon_mean = numpy.nanmean(mynn30_pblh_1000[:,latlon_indices], axis=1)\n",
    "\n",
    "mynn30_qvapor_400_latlon_mean = numpy.nanmean(mynn30_qvapor_400[:,:,latlon_indices], axis=2)\n",
    "mynn30_qvapor_1000_latlon_mean = numpy.nanmean(mynn30_qvapor_1000[:,:,latlon_indices], axis=2)\n",
    "\n",
    "mynn30_tk_400_latlon_mean = numpy.nanmean(mynn30_tk_400[:,:,latlon_indices], axis=2)\n",
    "mynn30_tk_1000_latlon_mean = numpy.nanmean(mynn30_tk_1000[:,:,latlon_indices], axis=2)\n",
    "\n",
    "mynn30_cldfra_400_latlon_mean = numpy.nanmean(mynn30_cldfra_400[:,:,latlon_indices], axis=2)\n",
    "mynn30_cldfra_1000_latlon_mean = numpy.nanmean(mynn30_cldfra_1000[:,:,latlon_indices], axis=2)"
   ]
  },
  {
   "cell_type": "code",
   "execution_count": 87,
   "metadata": {
    "ExecuteTime": {
     "end_time": "2018-08-17T19:45:39.318839Z",
     "start_time": "2018-08-17T19:45:39.301336Z"
    }
   },
   "outputs": [],
   "source": [
    "mynn30_raintot_400 = mynn30_rainc_400 + mynn30_rainnc_400\n",
    "mynn30_raintot_1000 = mynn30_rainc_1000 + mynn30_rainnc_1000"
   ]
  },
  {
   "cell_type": "code",
   "execution_count": 48,
   "metadata": {
    "ExecuteTime": {
     "end_time": "2018-08-17T19:32:14.160572Z",
     "start_time": "2018-08-17T19:32:14.051881Z"
    }
   },
   "outputs": [],
   "source": [
    "temf_pblh_400_latlon_mean = numpy.nanmean(temf_pblh_400[:,latlon_indices], axis=1)\n",
    "temf_pblh_1000_latlon_mean = numpy.nanmean(temf_pblh_1000[:,latlon_indices], axis=1)\n",
    "\n",
    "temf_qvapor_400_latlon_mean = numpy.nanmean(temf_qvapor_400[:,:,latlon_indices], axis=2)\n",
    "temf_qvapor_1000_latlon_mean = numpy.nanmean(temf_qvapor_1000[:,:,latlon_indices], axis=2)\n",
    "\n",
    "temf_tk_400_latlon_mean = numpy.nanmean(temf_tk_400[:,:,latlon_indices], axis=2)\n",
    "temf_tk_1000_latlon_mean = numpy.nanmean(temf_tk_1000[:,:,latlon_indices], axis=2)\n",
    "\n",
    "temf_cldfra_400_latlon_mean = numpy.nanmean(temf_cldfra_400[:,:,latlon_indices], axis=2)\n",
    "temf_cldfra_1000_latlon_mean = numpy.nanmean(temf_cldfra_1000[:,:,latlon_indices], axis=2)"
   ]
  },
  {
   "cell_type": "code",
   "execution_count": 88,
   "metadata": {
    "ExecuteTime": {
     "end_time": "2018-08-17T19:45:54.768328Z",
     "start_time": "2018-08-17T19:45:54.750137Z"
    }
   },
   "outputs": [],
   "source": [
    "temf_raintot_400 = temf_rainc_400 + temf_rainnc_400\n",
    "temf_raintot_1000 = temf_rainc_1000 + temf_rainnc_1000"
   ]
  },
  {
   "cell_type": "markdown",
   "metadata": {},
   "source": [
    "raintot time means"
   ]
  },
  {
   "cell_type": "code",
   "execution_count": 110,
   "metadata": {
    "ExecuteTime": {
     "end_time": "2018-08-18T01:12:05.022120Z",
     "start_time": "2018-08-18T01:12:04.992288Z"
    }
   },
   "outputs": [],
   "source": [
    "ysu_raintot_400_hourly = numpy.diff(ysu_raintot_400, axis=0)\n",
    "ysu_raintot_1000_hourly = numpy.diff(ysu_raintot_1000, axis=0)"
   ]
  },
  {
   "cell_type": "code",
   "execution_count": 111,
   "metadata": {
    "ExecuteTime": {
     "end_time": "2018-08-18T01:12:17.845578Z",
     "start_time": "2018-08-18T01:12:17.822531Z"
    }
   },
   "outputs": [],
   "source": [
    "ysu_raintot_hourly_diffs = ysu_raintot_1000_hourly-ysu_raintot_400_hourly"
   ]
  },
  {
   "cell_type": "code",
   "execution_count": 112,
   "metadata": {
    "ExecuteTime": {
     "end_time": "2018-08-18T01:12:36.010558Z",
     "start_time": "2018-08-18T01:12:35.971496Z"
    }
   },
   "outputs": [],
   "source": [
    "ysu_raintot_hourly_diffs_timemean = numpy.nanmean(ysu_raintot_hourly_diffs, axis=0)"
   ]
  },
  {
   "cell_type": "code",
   "execution_count": 123,
   "metadata": {
    "ExecuteTime": {
     "end_time": "2018-08-18T01:14:07.775354Z",
     "start_time": "2018-08-18T01:14:07.360424Z"
    }
   },
   "outputs": [
    {
     "data": {
      "text/plain": [
       "<matplotlib.colorbar.Colorbar at 0x2b629ebe4860>"
      ]
     },
     "execution_count": 123,
     "metadata": {},
     "output_type": "execute_result"
    },
    {
     "data": {
      "image/png": "[encoded data removed]",
      "text/plain": [
       "<Figure size 432x288 with 2 Axes>"
      ]
     },
     "metadata": {},
     "output_type": "display_data"
    }
   ],
   "source": [
    "mp.contourf(ysu_raintot_hourly_diffs_timemean*24., cmap=cmocean.cm.balance);mp.colorbar()"
   ]
  },
  {
   "cell_type": "code",
   "execution_count": 102,
   "metadata": {
    "ExecuteTime": {
     "end_time": "2018-08-17T19:51:11.490456Z",
     "start_time": "2018-08-17T19:51:11.482363Z"
    }
   },
   "outputs": [],
   "source": [
    "ysu_raintot_diffs = ysu_raintot_1000[-1,:,:]-ysu_raintot_400[-1,:,:]"
   ]
  },
  {
   "cell_type": "code",
   "execution_count": 108,
   "metadata": {
    "ExecuteTime": {
     "end_time": "2018-08-17T19:51:52.464217Z",
     "start_time": "2018-08-17T19:51:51.982637Z"
    }
   },
   "outputs": [
    {
     "data": {
      "text/plain": [
       "<matplotlib.colorbar.Colorbar at 0x2b62bd364278>"
      ]
     },
     "execution_count": 108,
     "metadata": {},
     "output_type": "execute_result"
    },
    {
     "data": {
      "image/png": "[encoded data removed]",
      "text/plain": [
       "<Figure size 432x288 with 2 Axes>"
      ]
     },
     "metadata": {},
     "output_type": "display_data"
    }
   ],
   "source": [
    "mp.pcolormesh(ysu_raintot_diffs, vmin=-.001,vmax=.001);mp.colorbar()"
   ]
  },
  {
   "cell_type": "code",
   "execution_count": 98,
   "metadata": {
    "ExecuteTime": {
     "end_time": "2018-08-17T19:49:24.865741Z",
     "start_time": "2018-08-17T19:49:24.835180Z"
    }
   },
   "outputs": [],
   "source": [
    "ysu_raintot_400_time_mean = numpy.nanmean(ysu_raintot_400, axis=0)\n",
    "ysu_raintot_1000_time_mean = numpy.nanmean(ysu_raintot_1000, axis=0)"
   ]
  },
  {
   "cell_type": "code",
   "execution_count": 100,
   "metadata": {
    "ExecuteTime": {
     "end_time": "2018-08-17T19:49:45.603914Z",
     "start_time": "2018-08-17T19:49:45.141989Z"
    }
   },
   "outputs": [
    {
     "data": {
      "text/plain": [
       "<matplotlib.colorbar.Colorbar at 0x2b62bc2327f0>"
      ]
     },
     "execution_count": 100,
     "metadata": {},
     "output_type": "execute_result"
    },
    {
     "data": {
      "image/png": "[encoded data removed]",
      "text/plain": [
       "<Figure size 432x288 with 2 Axes>"
      ]
     },
     "metadata": {},
     "output_type": "display_data"
    }
   ],
   "source": [
    "mp.pcolormesh((ysu_raintot_1000_time_mean-ysu_raintot_400_time_mean), vmin=-.01,vmax=.01)\n",
    "mp.colorbar()"
   ]
  },
  {
   "cell_type": "markdown",
   "metadata": {},
   "source": [
    "# calculate diffs"
   ]
  },
  {
   "cell_type": "code",
   "execution_count": 49,
   "metadata": {
    "ExecuteTime": {
     "end_time": "2018-08-17T19:32:14.296274Z",
     "start_time": "2018-08-17T19:32:14.169083Z"
    }
   },
   "outputs": [],
   "source": [
    "ysu_tk_diffs_latlon_mean = ysu_tk_1000_latlon_mean - ysu_tk_400_latlon_mean\n",
    "ysu_qvapor_diffs_latlon_mean = ysu_qvapor_1000_latlon_mean - ysu_qvapor_400_latlon_mean\n",
    "ysu_cldfra_diffs_latlon_mean = ysu_cldfra_1000_latlon_mean - ysu_cldfra_400_latlon_mean"
   ]
  },
  {
   "cell_type": "code",
   "execution_count": null,
   "metadata": {},
   "outputs": [],
   "source": [
    "ysu"
   ]
  },
  {
   "cell_type": "code",
   "execution_count": 50,
   "metadata": {
    "ExecuteTime": {
     "end_time": "2018-08-17T19:32:14.390167Z",
     "start_time": "2018-08-17T19:32:14.304915Z"
    }
   },
   "outputs": [],
   "source": [
    "myj_tk_diffs_latlon_mean = myj_tk_1000_latlon_mean - myj_tk_400_latlon_mean\n",
    "myj_qvapor_diffs_latlon_mean = myj_qvapor_1000_latlon_mean - myj_qvapor_400_latlon_mean\n",
    "myj_cldfra_diffs_latlon_mean = myj_cldfra_1000_latlon_mean - myj_cldfra_400_latlon_mean"
   ]
  },
  {
   "cell_type": "code",
   "execution_count": 51,
   "metadata": {
    "ExecuteTime": {
     "end_time": "2018-08-17T19:32:14.489734Z",
     "start_time": "2018-08-17T19:32:14.399081Z"
    }
   },
   "outputs": [],
   "source": [
    "acm2_tk_diffs_latlon_mean = acm2_tk_1000_latlon_mean - acm2_tk_400_latlon_mean\n",
    "acm2_qvapor_diffs_latlon_mean = acm2_qvapor_1000_latlon_mean - acm2_qvapor_400_latlon_mean\n",
    "acm2_cldfra_diffs_latlon_mean = acm2_cldfra_1000_latlon_mean - acm2_cldfra_400_latlon_mean"
   ]
  },
  {
   "cell_type": "code",
   "execution_count": 52,
   "metadata": {
    "ExecuteTime": {
     "end_time": "2018-08-17T19:32:14.589877Z",
     "start_time": "2018-08-17T19:32:14.498530Z"
    }
   },
   "outputs": [],
   "source": [
    "uw_tk_diffs_latlon_mean = uw_tk_1000_latlon_mean - uw_tk_400_latlon_mean\n",
    "uw_qvapor_diffs_latlon_mean = uw_qvapor_1000_latlon_mean - uw_qvapor_400_latlon_mean\n",
    "uw_cldfra_diffs_latlon_mean = uw_cldfra_1000_latlon_mean - uw_cldfra_400_latlon_mean"
   ]
  },
  {
   "cell_type": "code",
   "execution_count": 53,
   "metadata": {
    "ExecuteTime": {
     "end_time": "2018-08-17T19:32:14.689750Z",
     "start_time": "2018-08-17T19:32:14.595221Z"
    }
   },
   "outputs": [],
   "source": [
    "mynn25_tk_diffs_latlon_mean = mynn25_tk_1000_latlon_mean - mynn25_tk_400_latlon_mean\n",
    "mynn25_qvapor_diffs_latlon_mean = mynn25_qvapor_1000_latlon_mean - mynn25_qvapor_400_latlon_mean\n",
    "mynn25_cldfra_diffs_latlon_mean = mynn25_cldfra_1000_latlon_mean - mynn25_cldfra_400_latlon_mean"
   ]
  },
  {
   "cell_type": "code",
   "execution_count": 54,
   "metadata": {
    "ExecuteTime": {
     "end_time": "2018-08-17T19:32:14.795825Z",
     "start_time": "2018-08-17T19:32:14.692617Z"
    }
   },
   "outputs": [],
   "source": [
    "mynn30_tk_diffs_latlon_mean = mynn30_tk_1000_latlon_mean - mynn30_tk_400_latlon_mean\n",
    "mynn30_qvapor_diffs_latlon_mean = mynn30_qvapor_1000_latlon_mean - mynn30_qvapor_400_latlon_mean\n",
    "mynn30_cldfra_diffs_latlon_mean = mynn30_cldfra_1000_latlon_mean - mynn30_cldfra_400_latlon_mean"
   ]
  },
  {
   "cell_type": "code",
   "execution_count": 55,
   "metadata": {
    "ExecuteTime": {
     "end_time": "2018-08-17T19:32:15.004530Z",
     "start_time": "2018-08-17T19:32:14.798242Z"
    }
   },
   "outputs": [],
   "source": [
    "temf_tk_diffs_latlon_mean = temf_tk_1000_latlon_mean - temf_tk_400_latlon_mean\n",
    "temf_qvapor_diffs_latlon_mean = temf_qvapor_1000_latlon_mean - temf_qvapor_400_latlon_mean\n",
    "temf_cldfra_diffs_latlon_mean = temf_cldfra_1000_latlon_mean - temf_cldfra_400_latlon_mean"
   ]
  },
  {
   "cell_type": "markdown",
   "metadata": {},
   "source": [
    "# plots"
   ]
  },
  {
   "cell_type": "code",
   "execution_count": 56,
   "metadata": {
    "ExecuteTime": {
     "end_time": "2018-08-17T19:32:15.198223Z",
     "start_time": "2018-08-17T19:32:15.007022Z"
    }
   },
   "outputs": [],
   "source": [
    "ysu_ptot_400_latlon_time_mean = numpy.nanmean(ysu_ptot_400[:,:,latlon_indices], axis=(0,2))\n",
    "ysu_geopot_400_latlon_time_mean = numpy.nanmean(ysu_geopot_400[:,:,latlon_indices], axis=(0,2))\n",
    "\n",
    "myj_ptot_400_latlon_time_mean = numpy.nanmean(myj_ptot_400[:,:,latlon_indices], axis=(0,2))\n",
    "myj_geopot_400_latlon_time_mean = numpy.nanmean(myj_geopot_400[:,:,latlon_indices], axis=(0,2))\n",
    "\n",
    "acm2_ptot_400_latlon_time_mean = numpy.nanmean(acm2_ptot_400[:,:,latlon_indices], axis=(0,2))\n",
    "acm2_geopot_400_latlon_time_mean = numpy.nanmean(acm2_geopot_400[:,:,latlon_indices], axis=(0,2))\n",
    "\n",
    "uw_ptot_400_latlon_time_mean = numpy.nanmean(uw_ptot_400[:,:,latlon_indices], axis=(0,2))\n",
    "uw_geopot_400_latlon_time_mean = numpy.nanmean(uw_geopot_400[:,:,latlon_indices], axis=(0,2))\n",
    "\n",
    "mynn25_ptot_400_latlon_time_mean = numpy.nanmean(mynn25_ptot_400[:,:,latlon_indices], axis=(0,2))\n",
    "mynn25_geopot_400_latlon_time_mean = numpy.nanmean(mynn25_geopot_400[:,:,latlon_indices], axis=(0,2))\n",
    "\n",
    "mynn30_ptot_400_latlon_time_mean = numpy.nanmean(mynn30_ptot_400[:,:,latlon_indices], axis=(0,2))\n",
    "mynn30_geopot_400_latlon_time_mean = numpy.nanmean(mynn30_geopot_400[:,:,latlon_indices], axis=(0,2))\n",
    "\n",
    "temf_ptot_400_latlon_time_mean = numpy.nanmean(temf_ptot_400[:,:,latlon_indices], axis=(0,2))\n",
    "temf_geopot_400_latlon_time_mean = numpy.nanmean(temf_geopot_400[:,:,latlon_indices], axis=(0,2))"
   ]
  },
  {
   "cell_type": "code",
   "execution_count": 57,
   "metadata": {
    "ExecuteTime": {
     "end_time": "2018-08-17T19:32:15.221854Z",
     "start_time": "2018-08-17T19:32:15.206843Z"
    }
   },
   "outputs": [],
   "source": [
    "ysu_xx, ysu_pp = numpy.meshgrid(numpy.arange(ntime), ysu_ptot_400_latlon_time_mean)\n",
    "ysu_xx_geopot, ysu_gg = numpy.meshgrid(numpy.arange(ntime), ysu_geopot_400_latlon_time_mean)\n",
    "\n",
    "myj_xx, myj_pp = numpy.meshgrid(numpy.arange(ntime), myj_ptot_400_latlon_time_mean)\n",
    "myj_xx_geopot, myj_gg = numpy.meshgrid(numpy.arange(ntime), myj_geopot_400_latlon_time_mean)\n",
    "\n",
    "acm2_xx, acm2_pp = numpy.meshgrid(numpy.arange(ntime), acm2_ptot_400_latlon_time_mean)\n",
    "acm2_xx_geopot, acm2_gg = numpy.meshgrid(numpy.arange(ntime), acm2_geopot_400_latlon_time_mean)\n",
    "\n",
    "uw_xx, uw_pp = numpy.meshgrid(numpy.arange(ntime), uw_ptot_400_latlon_time_mean)\n",
    "uw_xx_geopot, uw_gg = numpy.meshgrid(numpy.arange(ntime), uw_geopot_400_latlon_time_mean)\n",
    "\n",
    "mynn25_xx, mynn25_pp = numpy.meshgrid(numpy.arange(ntime), mynn25_ptot_400_latlon_time_mean)\n",
    "mynn25_xx_geopot, mynn25_gg = numpy.meshgrid(numpy.arange(ntime), mynn25_geopot_400_latlon_time_mean)\n",
    "\n",
    "mynn30_xx, mynn30_pp = numpy.meshgrid(numpy.arange(ntime), mynn30_ptot_400_latlon_time_mean)\n",
    "mynn30_xx_geopot, mynn30_gg = numpy.meshgrid(numpy.arange(ntime), mynn30_geopot_400_latlon_time_mean)\n",
    "\n",
    "temf_xx, temf_pp = numpy.meshgrid(numpy.arange(ntime), temf_ptot_400_latlon_time_mean)\n",
    "temf_xx_geopot, temf_gg = numpy.meshgrid(numpy.arange(ntime), temf_geopot_400_latlon_time_mean)"
   ]
  },
  {
   "cell_type": "markdown",
   "metadata": {},
   "source": [
    "for qvapor"
   ]
  },
  {
   "cell_type": "code",
   "execution_count": 58,
   "metadata": {
    "ExecuteTime": {
     "end_time": "2018-08-17T19:32:20.970002Z",
     "start_time": "2018-08-17T19:32:15.230320Z"
    }
   },
   "outputs": [
    {
     "data": {
      "image/png": "[encoded data removed]",
      "text/plain": [
       "<Figure size 306x720 with 6 Axes>"
      ]
     },
     "metadata": {},
     "output_type": "display_data"
    }
   ],
   "source": [
    "fontsize = 12\n",
    "\n",
    "fig = mp.figure(figsize=(4.25,10))\n",
    "levels = numpy.arange(-0.5,0.51,0.05)\n",
    "\n",
    "\n",
    "ax1 = fig.add_subplot(511)\n",
    "ax1.tick_params(labelsize=fontsize)\n",
    "contour_plot1 = ax1.contourf(ysu_xx_geopot-4, ysu_gg/9.81/1000., \\\n",
    "                             ysu_qvapor_diffs_latlon_mean.T*1000., \\\n",
    "                             cmap=cmocean.cm.balance_r, extend='both', levels=levels)\n",
    "\n",
    "ax1.plot(ysu_xx_geopot[0,:]-4, ysu_pblh_400_latlon_mean/1000., c='0.5')\n",
    "ax1.plot(ysu_xx_geopot[0,:]-4, ysu_pblh_1000_latlon_mean/1000., c='0.5', ls='--')\n",
    "ax1.set_ylim(0,3.25)\n",
    "ax1.set_xlim(6,18)\n",
    "ax1.set_xticks([i for i in range(6,19,2)])\n",
    "ax1.set_ylabel('km', fontsize=fontsize)\n",
    "\n",
    "ax2 = fig.add_subplot(512)\n",
    "ax2.tick_params(labelsize=fontsize)\n",
    "contour_plot2 = ax2.contourf(temf_xx_geopot-4, temf_gg/9.81/1000., \\\n",
    "                             temf_qvapor_diffs_latlon_mean.T*1000., \\\n",
    "                             cmap=cmocean.cm.balance_r, extend='both', levels=levels)\n",
    "ax2.set_ylim(0,3.25)\n",
    "ax2.set_xlim(6,18)\n",
    "ax2.set_ylabel('km', fontsize=fontsize)\n",
    "ax2.set_xticks([i for i in range(6,19,2)])\n",
    "ax2.plot(temf_xx_geopot[0,:]-4, temf_pblh_400_latlon_mean/1000., c='0.5')\n",
    "ax2.plot(temf_xx_geopot[0,:]-4, temf_pblh_1000_latlon_mean/1000., c='0.5', ls='--')\n",
    "\n",
    "\n",
    "ax3 = fig.add_subplot(513)\n",
    "ax3.tick_params(labelsize=fontsize)\n",
    "contour_plot2 = ax3.contourf(acm2_xx_geopot-4, acm2_gg/9.81/1000., \\\n",
    "                             acm2_qvapor_diffs_latlon_mean.T*1000., \\\n",
    "                             cmap=cmocean.cm.balance_r, extend='both', levels=levels)\n",
    "ax3.set_ylim(0,3.25)\n",
    "ax3.set_xlim(6,18)\n",
    "ax3.set_ylabel('km', fontsize=fontsize)\n",
    "ax3.set_xticks([i for i in range(6,19,2)])\n",
    "ax3.plot(acm2_xx_geopot[0,:]-4, acm2_pblh_400_latlon_mean/1000., c='0.5')\n",
    "ax3.plot(acm2_xx_geopot[0,:]-4, acm2_pblh_1000_latlon_mean/1000., c='0.5', ls='--')\n",
    "\n",
    "\n",
    "ax4 = fig.add_subplot(514)\n",
    "ax4.tick_params(labelsize=fontsize)\n",
    "contour_plot2 = ax4.contourf(uw_xx_geopot-4, uw_gg/9.81/1000., \\\n",
    "                             uw_qvapor_diffs_latlon_mean.T*1000., \\\n",
    "                             cmap=cmocean.cm.balance_r, extend='both', levels=levels)\n",
    "ax4.set_ylim(0,3.25)\n",
    "ax4.set_xlim(6,18)\n",
    "ax4.set_ylabel('km', fontsize=fontsize)\n",
    "ax4.set_xticks([i for i in range(6,19,2)])\n",
    "ax4.plot(uw_xx_geopot[0,:]-4, uw_pblh_400_latlon_mean/1000., c='0.5')\n",
    "ax4.plot(uw_xx_geopot[0,:]-4, uw_pblh_1000_latlon_mean/1000., c='0.5', ls='--')\n",
    "\n",
    "ax5 = fig.add_subplot(515)\n",
    "ax5.tick_params(labelsize=fontsize)\n",
    "contour_plot5 = ax5.contourf(mynn30_xx_geopot-4, uw_gg/9.81/1000., \\\n",
    "                             mynn30_qvapor_diffs_latlon_mean.T*1000., \\\n",
    "                             cmap=cmocean.cm.balance_r, extend='both', levels=levels)\n",
    "ax5.set_ylim(0,3.25)\n",
    "ax5.set_xlim(6,18)\n",
    "ax5.set_ylabel('km', fontsize=fontsize)\n",
    "ax5.set_xticks([i for i in range(6,19,2)])\n",
    "ax5.plot(uw_xx_geopot[0,:]-4, mynn30_pblh_400_latlon_mean/1000., c='0.5')\n",
    "ax5.plot(uw_xx_geopot[0,:]-4, mynn30_pblh_1000_latlon_mean/1000., c='0.5', ls='--')\n",
    "\n",
    "ax1.text(s='(a) $\\Delta$ moisture (YSU)', x=0, y=1.02, ha='left', va='bottom', fontsize=fontsize, transform=ax1.transAxes)\n",
    "ax2.text(s='(b) $\\Delta$ moisture (TEMF)', x=0, y=1.02, ha='left', va='bottom', fontsize=fontsize, transform=ax2.transAxes)\n",
    "ax3.text(s='(c) $\\Delta$ moisture (ACM2)', x=0, y=1.02, ha='left', va='bottom', fontsize=fontsize, transform=ax3.transAxes)\n",
    "ax4.text(s='(d) $\\Delta$ moisture (UW)', x=0, y=1.02, ha='left', va='bottom', fontsize=fontsize, transform=ax4.transAxes)\n",
    "ax5.text(s='(e) $\\Delta$ moisture (MYNN)', x=0, y=1.02, ha='left', va='bottom', fontsize=fontsize, transform=ax5.transAxes)\n",
    "\n",
    "fig.tight_layout(h_pad=2)\n",
    "\n",
    "ax1pos = ax1.get_position()\n",
    "ax2pos = ax5.get_position()\n",
    "cbar_ax = fig.add_axes([ax2pos.x1+0.05, ax2pos.y0, 0.045, ax1pos.y1-ax2pos.y0])\n",
    "cbar = fig.colorbar(contour_plot1, cax=cbar_ax)\n",
    "cbar_ax.tick_params(labelsize=fontsize)\n",
    "cbar.set_label('g kg$^{\\,-1}$', fontsize=fontsize)\n",
    "\n",
    "fig.savefig('figures/qvapor_diffs_PBL_schemes.png', dpi=600, bbox_inches='tight', transparent=True)"
   ]
  },
  {
   "cell_type": "code",
   "execution_count": 59,
   "metadata": {
    "ExecuteTime": {
     "end_time": "2018-08-17T19:32:26.552419Z",
     "start_time": "2018-08-17T19:32:20.979579Z"
    }
   },
   "outputs": [
    {
     "data": {
      "image/png": "[encoded data removed]",
      "text/plain": [
       "<Figure size 306x720 with 6 Axes>"
      ]
     },
     "metadata": {},
     "output_type": "display_data"
    }
   ],
   "source": [
    "fontsize = 12\n",
    "\n",
    "fig = mp.figure(figsize=(4.25,10))\n",
    "levels = numpy.arange(-1,1.1,0.1)\n",
    "\n",
    "\n",
    "ax1 = fig.add_subplot(511)\n",
    "ax1.tick_params(labelsize=fontsize)\n",
    "contour_plot1 = ax1.contourf(ysu_xx_geopot-4, ysu_gg/9.81/1000., \\\n",
    "                             ysu_tk_diffs_latlon_mean.T, \\\n",
    "                             cmap='PuOr_r', extend='both', levels=levels)\n",
    "\n",
    "ax1.plot(ysu_xx_geopot[0,:]-4, ysu_pblh_400_latlon_mean/1000., c='0.5')\n",
    "ax1.plot(ysu_xx_geopot[0,:]-4, ysu_pblh_1000_latlon_mean/1000., c='0.5', ls='--')\n",
    "ax1.set_ylim(0,3.25)\n",
    "ax1.set_xlim(6,18)\n",
    "ax1.set_xticks([i for i in range(6,19,2)])\n",
    "ax1.set_ylabel('km', fontsize=fontsize)\n",
    "\n",
    "ax2 = fig.add_subplot(512)\n",
    "ax2.tick_params(labelsize=fontsize)\n",
    "contour_plot2 = ax2.contourf(temf_xx_geopot-4, temf_gg/9.81/1000., \\\n",
    "                             temf_tk_diffs_latlon_mean.T, \\\n",
    "                             cmap='PuOr_r', extend='both', levels=levels)\n",
    "ax2.set_ylim(0,3.25)\n",
    "ax2.set_xlim(6,18)\n",
    "ax2.set_ylabel('km', fontsize=fontsize)\n",
    "ax2.set_xticks([i for i in range(6,19,2)])\n",
    "ax2.plot(temf_xx_geopot[0,:]-4, temf_pblh_400_latlon_mean/1000., c='0.5')\n",
    "ax2.plot(temf_xx_geopot[0,:]-4, temf_pblh_1000_latlon_mean/1000., c='0.5', ls='--')\n",
    "\n",
    "\n",
    "ax3 = fig.add_subplot(513)\n",
    "ax3.tick_params(labelsize=fontsize)\n",
    "contour_plot2 = ax3.contourf(acm2_xx_geopot-4, acm2_gg/9.81/1000., \\\n",
    "                             acm2_tk_diffs_latlon_mean.T, \\\n",
    "                             cmap='PuOr_r', extend='both', levels=levels)\n",
    "ax3.set_ylim(0,3.25)\n",
    "ax3.set_xlim(6,18)\n",
    "ax3.set_ylabel('km', fontsize=fontsize)\n",
    "ax3.set_xticks([i for i in range(6,19,2)])\n",
    "ax3.plot(acm2_xx_geopot[0,:]-4, acm2_pblh_400_latlon_mean/1000., c='0.5')\n",
    "ax3.plot(acm2_xx_geopot[0,:]-4, acm2_pblh_1000_latlon_mean/1000., c='0.5', ls='--')\n",
    "\n",
    "\n",
    "ax4 = fig.add_subplot(514)\n",
    "ax4.tick_params(labelsize=fontsize)\n",
    "contour_plot2 = ax4.contourf(uw_xx_geopot-4, uw_gg/9.81/1000., \\\n",
    "                             uw_tk_diffs_latlon_mean.T, \\\n",
    "                             cmap='PuOr_r', extend='both', levels=levels)\n",
    "ax4.set_ylim(0,3.25)\n",
    "ax4.set_xlim(6,18)\n",
    "ax4.set_ylabel('km', fontsize=fontsize)\n",
    "ax4.set_xticks([i for i in range(6,19,2)])\n",
    "ax4.plot(uw_xx_geopot[0,:]-4, uw_pblh_400_latlon_mean/1000., c='0.5')\n",
    "ax4.plot(uw_xx_geopot[0,:]-4, uw_pblh_1000_latlon_mean/1000., c='0.5', ls='--')\n",
    "\n",
    "ax5 = fig.add_subplot(515)\n",
    "ax5.tick_params(labelsize=fontsize)\n",
    "contour_plot5 = ax5.contourf(mynn30_xx_geopot-4, uw_gg/9.81/1000., \\\n",
    "                             mynn30_tk_diffs_latlon_mean.T, \\\n",
    "                             cmap='PuOr_r', extend='both', levels=levels)\n",
    "ax5.set_ylim(0,3.25)\n",
    "ax5.set_xlim(6,18)\n",
    "ax5.set_ylabel('km', fontsize=fontsize)\n",
    "ax5.set_xticks([i for i in range(6,19,2)])\n",
    "ax5.plot(uw_xx_geopot[0,:]-4, mynn30_pblh_400_latlon_mean/1000., c='0.5')\n",
    "ax5.plot(uw_xx_geopot[0,:]-4, mynn30_pblh_1000_latlon_mean/1000., c='0.5', ls='--')\n",
    "\n",
    "ax1.text(s='(a) $\\Delta$ temperature (YSU)', x=0, y=1.02, ha='left', va='bottom', fontsize=fontsize, transform=ax1.transAxes)\n",
    "ax2.text(s='(b) $\\Delta$ temperature (TEMF)', x=0, y=1.02, ha='left', va='bottom', fontsize=fontsize, transform=ax2.transAxes)\n",
    "ax3.text(s='(c) $\\Delta$ temperature (ACM2)', x=0, y=1.02, ha='left', va='bottom', fontsize=fontsize, transform=ax3.transAxes)\n",
    "ax4.text(s='(d) $\\Delta$ temperature (UW)', x=0, y=1.02, ha='left', va='bottom', fontsize=fontsize, transform=ax4.transAxes)\n",
    "ax5.text(s='(e) $\\Delta$ temperature (MYNN)', x=0, y=1.02, ha='left', va='bottom', fontsize=fontsize, transform=ax5.transAxes)\n",
    "\n",
    "fig.tight_layout(h_pad=2)\n",
    "\n",
    "ax1pos = ax1.get_position()\n",
    "ax2pos = ax5.get_position()\n",
    "cbar_ax = fig.add_axes([ax2pos.x1+0.05, ax2pos.y0, 0.045, ax1pos.y1-ax2pos.y0])\n",
    "cbar = fig.colorbar(contour_plot1, cax=cbar_ax)\n",
    "cbar_ax.tick_params(labelsize=fontsize)\n",
    "cbar.set_label('$\\degree$C', fontsize=fontsize)\n",
    "\n",
    "fig.savefig('figures/tk_diffs_PBL_schemes.png', dpi=600, bbox_inches='tight', transparent=True)"
   ]
  },
  {
   "cell_type": "code",
   "execution_count": 62,
   "metadata": {
    "ExecuteTime": {
     "end_time": "2018-08-17T19:38:28.150474Z",
     "start_time": "2018-08-17T19:38:20.800412Z"
    }
   },
   "outputs": [
    {
     "data": {
      "image/png": "[encoded data removed]",
      "text/plain": [
       "<Figure size 612x720 with 14 Axes>"
      ]
     },
     "metadata": {},
     "output_type": "display_data"
    }
   ],
   "source": [
    "fontsize = 12\n",
    "\n",
    "fig = mp.figure(figsize=(8.5,10))\n",
    "levels = numpy.arange(-1,1.1,0.1)\n",
    "\n",
    "\n",
    "ax1 = fig.add_subplot(6,2,1)\n",
    "ax1.tick_params(labelsize=fontsize)\n",
    "contour_plot1 = ax1.contourf(ysu_xx_geopot-4, ysu_gg/9.81/1000., \\\n",
    "                             ysu_tk_diffs_latlon_mean.T, \\\n",
    "                             cmap='PuOr_r', extend='both', levels=levels)\n",
    "\n",
    "ax1.plot(ysu_xx_geopot[0,:]-4, ysu_pblh_400_latlon_mean/1000., c='0.5')\n",
    "ax1.plot(ysu_xx_geopot[0,:]-4, ysu_pblh_1000_latlon_mean/1000., c='0.5', ls='--')\n",
    "ax1.set_ylim(0,3.25)\n",
    "ax1.set_xlim(6,18)\n",
    "ax1.set_xticks([i for i in range(6,19,2)])\n",
    "\n",
    "ax2 = fig.add_subplot(6,2,3)\n",
    "ax2.tick_params(labelsize=fontsize)\n",
    "contour_plot2 = ax2.contourf(temf_xx_geopot-4, temf_gg/9.81/1000., \\\n",
    "                             temf_tk_diffs_latlon_mean.T, \\\n",
    "                             cmap='PuOr_r', extend='both', levels=levels)\n",
    "ax2.set_ylim(0,3.25)\n",
    "ax2.set_xlim(6,18)\n",
    "\n",
    "ax2.set_xticks([i for i in range(6,19,2)])\n",
    "ax2.plot(temf_xx_geopot[0,:]-4, temf_pblh_400_latlon_mean/1000., c='0.5')\n",
    "ax2.plot(temf_xx_geopot[0,:]-4, temf_pblh_1000_latlon_mean/1000., c='0.5', ls='--')\n",
    "\n",
    "\n",
    "ax3 = fig.add_subplot(6,2,5)\n",
    "ax3.tick_params(labelsize=fontsize)\n",
    "contour_plot2 = ax3.contourf(acm2_xx_geopot-4, acm2_gg/9.81/1000., \\\n",
    "                             acm2_tk_diffs_latlon_mean.T, \\\n",
    "                             cmap='PuOr_r', extend='both', levels=levels)\n",
    "ax3.set_ylim(0,3.25)\n",
    "ax3.set_xlim(6,18)\n",
    "\n",
    "ax3.set_xticks([i for i in range(6,19,2)])\n",
    "ax3.plot(acm2_xx_geopot[0,:]-4, acm2_pblh_400_latlon_mean/1000., c='0.5')\n",
    "ax3.plot(acm2_xx_geopot[0,:]-4, acm2_pblh_1000_latlon_mean/1000., c='0.5', ls='--')\n",
    "\n",
    "\n",
    "ax4 = fig.add_subplot(6,2,7)\n",
    "ax4.tick_params(labelsize=fontsize)\n",
    "contour_plot2 = ax4.contourf(uw_xx_geopot-4, uw_gg/9.81/1000., \\\n",
    "                             uw_tk_diffs_latlon_mean.T, \\\n",
    "                             cmap='PuOr_r', extend='both', levels=levels)\n",
    "ax4.set_ylim(0,3.25)\n",
    "ax4.set_xlim(6,18)\n",
    "\n",
    "ax4.set_xticks([i for i in range(6,19,2)])\n",
    "ax4.plot(uw_xx_geopot[0,:]-4, uw_pblh_400_latlon_mean/1000., c='0.5')\n",
    "ax4.plot(uw_xx_geopot[0,:]-4, uw_pblh_1000_latlon_mean/1000., c='0.5', ls='--')\n",
    "\n",
    "ax5 = fig.add_subplot(6,2,9)\n",
    "ax5.tick_params(labelsize=fontsize)\n",
    "contour_plot5 = ax5.contourf(mynn30_xx_geopot-4, uw_gg/9.81/1000., \\\n",
    "                             mynn30_tk_diffs_latlon_mean.T, \\\n",
    "                             cmap='PuOr_r', extend='both', levels=levels)\n",
    "ax5.set_ylim(0,3.25)\n",
    "ax5.set_xlim(6,18)\n",
    "\n",
    "ax5.set_xticks([i for i in range(6,19,2)])\n",
    "ax5.plot(uw_xx_geopot[0,:]-4, mynn30_pblh_400_latlon_mean/1000., c='0.5')\n",
    "ax5.plot(uw_xx_geopot[0,:]-4, mynn30_pblh_1000_latlon_mean/1000., c='0.5', ls='--')\n",
    "\n",
    "ax6 = fig.add_subplot(6,2,11)\n",
    "ax6.tick_params(labelsize=fontsize)\n",
    "contour_plot6 = ax6.contourf(myj_xx_geopot-4, uw_gg/9.81/1000., \\\n",
    "                             myj_tk_diffs_latlon_mean.T, \\\n",
    "                             cmap='PuOr_r', extend='both', levels=levels)\n",
    "ax6.set_ylim(0,3.25)\n",
    "ax6.set_xlim(6,18)\n",
    "ax6.set_xticks([i for i in range(6,19,2)])\n",
    "ax6.plot(uw_xx_geopot[0,:]-4, myj_pblh_400_latlon_mean/1000., c='0.5')\n",
    "ax6.plot(uw_xx_geopot[0,:]-4, myj_pblh_1000_latlon_mean/1000., c='0.5', ls='--')\n",
    "\n",
    "ax1.text(s='(a) $\\Delta$ temperature (YSU)', x=0, y=1.02, ha='left', va='bottom', fontsize=fontsize, transform=ax1.transAxes)\n",
    "ax2.text(s='(b) $\\Delta$ temperature (TEMF)', x=0, y=1.02, ha='left', va='bottom', fontsize=fontsize, transform=ax2.transAxes)\n",
    "ax3.text(s='(c) $\\Delta$ temperature (ACM2)', x=0, y=1.02, ha='left', va='bottom', fontsize=fontsize, transform=ax3.transAxes)\n",
    "ax4.text(s='(d) $\\Delta$ temperature (UW)', x=0, y=1.02, ha='left', va='bottom', fontsize=fontsize, transform=ax4.transAxes)\n",
    "ax5.text(s='(e) $\\Delta$ temperature (MYNN3)', x=0, y=1.02, ha='left', va='bottom', fontsize=fontsize, transform=ax5.transAxes)\n",
    "ax5.text(s='(f) $\\Delta$ temperature (MYJ)', x=0, y=1.02, ha='left', va='bottom', fontsize=fontsize, transform=ax6.transAxes)\n",
    "\n",
    "ax1.set_ylabel('km', fontsize=fontsize)\n",
    "ax2.set_ylabel('km', fontsize=fontsize)\n",
    "ax3.set_ylabel('km', fontsize=fontsize)\n",
    "ax4.set_ylabel('km', fontsize=fontsize)\n",
    "ax5.set_ylabel('km', fontsize=fontsize)\n",
    "#fig.tight_layout(h_pad=2)\n",
    "\n",
    "#=================================================================\n",
    "\n",
    "levels = numpy.arange(-0.5,0.51,0.05)\n",
    "\n",
    "ax12 = fig.add_subplot(6,2,2)\n",
    "ax12.tick_params(labelsize=fontsize)\n",
    "contour_plot12 = ax12.contourf(ysu_xx_geopot-4, ysu_gg/9.81/1000., \\\n",
    "                             ysu_qvapor_diffs_latlon_mean.T*1000., \\\n",
    "                             cmap=cmocean.cm.balance_r, extend='both', levels=levels)\n",
    "\n",
    "ax12.plot(ysu_xx_geopot[0,:]-4, ysu_pblh_400_latlon_mean/1000., c='0.5')\n",
    "ax12.plot(ysu_xx_geopot[0,:]-4, ysu_pblh_1000_latlon_mean/1000., c='0.5', ls='--')\n",
    "ax12.set_ylim(0,3.25)\n",
    "ax12.set_xlim(6,18)\n",
    "ax12.set_xticks([i for i in range(6,19,2)])\n",
    "\n",
    "\n",
    "ax22 = fig.add_subplot(6,2,4)\n",
    "ax22.tick_params(labelsize=fontsize)\n",
    "contour_plot22 = ax22.contourf(temf_xx_geopot-4, temf_gg/9.81/1000., \\\n",
    "                             temf_qvapor_diffs_latlon_mean.T*1000., \\\n",
    "                             cmap=cmocean.cm.balance_r, extend='both', levels=levels)\n",
    "ax22.set_ylim(0,3.25)\n",
    "ax22.set_xlim(6,18)\n",
    "\n",
    "ax22.set_xticks([i for i in range(6,19,2)])\n",
    "ax22.plot(temf_xx_geopot[0,:]-4, temf_pblh_400_latlon_mean/1000., c='0.5')\n",
    "ax22.plot(temf_xx_geopot[0,:]-4, temf_pblh_1000_latlon_mean/1000., c='0.5', ls='--')\n",
    "\n",
    "\n",
    "ax32 = fig.add_subplot(6,2,6)\n",
    "ax32.tick_params(labelsize=fontsize)\n",
    "contour_plot32 = ax32.contourf(acm2_xx_geopot-4, acm2_gg/9.81/1000., \\\n",
    "                             acm2_qvapor_diffs_latlon_mean.T*1000., \\\n",
    "                             cmap=cmocean.cm.balance_r, extend='both', levels=levels)\n",
    "ax32.set_ylim(0,3.25)\n",
    "ax32.set_xlim(6,18)\n",
    "\n",
    "ax32.set_xticks([i for i in range(6,19,2)])\n",
    "ax32.plot(acm2_xx_geopot[0,:]-4, acm2_pblh_400_latlon_mean/1000., c='0.5')\n",
    "ax32.plot(acm2_xx_geopot[0,:]-4, acm2_pblh_1000_latlon_mean/1000., c='0.5', ls='--')\n",
    "\n",
    "\n",
    "ax42 = fig.add_subplot(6,2,8)\n",
    "ax42.tick_params(labelsize=fontsize)\n",
    "contour_plot42 = ax42.contourf(uw_xx_geopot-4, uw_gg/9.81/1000., \\\n",
    "                             uw_qvapor_diffs_latlon_mean.T*1000., \\\n",
    "                             cmap=cmocean.cm.balance_r, extend='both', levels=levels)\n",
    "ax42.set_ylim(0,3.25)\n",
    "ax42.set_xlim(6,18)\n",
    "\n",
    "ax42.set_xticks([i for i in range(6,19,2)])\n",
    "ax42.plot(uw_xx_geopot[0,:]-4, uw_pblh_400_latlon_mean/1000., c='0.5')\n",
    "ax42.plot(uw_xx_geopot[0,:]-4, uw_pblh_1000_latlon_mean/1000., c='0.5', ls='--')\n",
    "\n",
    "ax52 = fig.add_subplot(6,2,10)\n",
    "ax52.tick_params(labelsize=fontsize)\n",
    "contour_plot52 = ax52.contourf(mynn30_xx_geopot-4, uw_gg/9.81/1000., \\\n",
    "                             mynn30_qvapor_diffs_latlon_mean.T*1000., \\\n",
    "                             cmap=cmocean.cm.balance_r, extend='both', levels=levels)\n",
    "ax52.set_ylim(0,3.25)\n",
    "ax52.set_xlim(6,18)\n",
    "ax52.set_xticks([i for i in range(6,19,2)])\n",
    "ax52.plot(uw_xx_geopot[0,:]-4, mynn30_pblh_400_latlon_mean/1000., c='0.5')\n",
    "ax52.plot(uw_xx_geopot[0,:]-4, mynn30_pblh_1000_latlon_mean/1000., c='0.5', ls='--')\n",
    "\n",
    "ax62 = fig.add_subplot(6,2,12)\n",
    "ax62.tick_params(labelsize=fontsize)\n",
    "contour_plot62 = ax62.contourf(myj_xx_geopot-4, uw_gg/9.81/1000., \\\n",
    "                             myj_qvapor_diffs_latlon_mean.T*1000., \\\n",
    "                             cmap=cmocean.cm.balance_r, extend='both', levels=levels)\n",
    "ax62.set_ylim(0,3.25)\n",
    "ax62.set_xlim(6,18)\n",
    "ax62.set_xticks([i for i in range(6,19,2)])\n",
    "ax62.plot(uw_xx_geopot[0,:]-4, myj_pblh_400_latlon_mean/1000., c='0.5')\n",
    "ax62.plot(uw_xx_geopot[0,:]-4, myj_pblh_1000_latlon_mean/1000., c='0.5', ls='--')\n",
    "\n",
    "ax6.set_xlabel('hour', fontsize=fontsize)\n",
    "ax62.set_xlabel('hour', fontsize=fontsize)\n",
    "\n",
    "ax12.text(s='(g) $\\Delta$ moisture (YSU)', x=0, y=1.02, ha='left', va='bottom', fontsize=fontsize, transform=ax12.transAxes)\n",
    "ax22.text(s='(h) $\\Delta$ moisture (TEMF)', x=0, y=1.02, ha='left', va='bottom', fontsize=fontsize, transform=ax22.transAxes)\n",
    "ax32.text(s='(i) $\\Delta$ moisture (ACM2)', x=0, y=1.02, ha='left', va='bottom', fontsize=fontsize, transform=ax32.transAxes)\n",
    "ax42.text(s='(j) $\\Delta$ moisture (UW)', x=0, y=1.02, ha='left', va='bottom', fontsize=fontsize, transform=ax42.transAxes)\n",
    "ax52.text(s='(k) $\\Delta$ moisture (MYNN3)', x=0, y=1.02, ha='left', va='bottom', fontsize=fontsize, transform=ax52.transAxes)\n",
    "ax52.text(s='(l) $\\Delta$ moisture (MYJ)', x=0, y=1.02, ha='left', va='bottom', fontsize=fontsize, transform=ax62.transAxes)\n",
    "\n",
    "fig.tight_layout(h_pad=2, w_pad=8)\n",
    "\n",
    "ax1pos = ax12.get_position()\n",
    "ax2pos = ax62.get_position()\n",
    "cbar_ax = fig.add_axes([ax2pos.x1+0.025, ax2pos.y0, 0.025, ax1pos.y1-ax2pos.y0])\n",
    "cbar = fig.colorbar(contour_plot52, cax=cbar_ax)\n",
    "cbar_ax.tick_params(labelsize=fontsize)\n",
    "cbar.set_label('g kg$^{\\,-1}$', fontsize=fontsize)\n",
    "\n",
    "ax1pos = ax1.get_position()\n",
    "ax2pos = ax6.get_position()\n",
    "cbar_ax = fig.add_axes([ax2pos.x1+0.025, ax2pos.y0, 0.025, ax1pos.y1-ax2pos.y0])\n",
    "cbar = fig.colorbar(contour_plot1, cax=cbar_ax)\n",
    "cbar_ax.tick_params(labelsize=fontsize)\n",
    "cbar.set_label('$\\degree$C', fontsize=fontsize)\n",
    "\n",
    "fig.savefig('figures/tk_AND_qvapor_diffs_PBL_schemes.png', dpi=400, bbox_inches='tight', transparent=True)"
   ]
  },
  {
   "cell_type": "code",
   "execution_count": 61,
   "metadata": {
    "ExecuteTime": {
     "end_time": "2018-08-17T19:32:38.948341Z",
     "start_time": "2018-08-17T19:32:33.709303Z"
    }
   },
   "outputs": [
    {
     "data": {
      "image/png": "[encoded data removed]",
      "text/plain": [
       "<Figure size 306x720 with 6 Axes>"
      ]
     },
     "metadata": {},
     "output_type": "display_data"
    }
   ],
   "source": [
    "fontsize = 12\n",
    "\n",
    "fig = mp.figure(figsize=(4.25,10))\n",
    "levels = numpy.arange(-1,1.1,0.1)\n",
    "\n",
    "\n",
    "ax1 = fig.add_subplot(511)\n",
    "ax1.tick_params(labelsize=fontsize)\n",
    "contour_plot1 = ax1.contourf(ysu_xx_geopot-4, ysu_gg/9.81/1000., \\\n",
    "                             ysu_cldfra_diffs_latlon_mean.T*100., \\\n",
    "                             cmap=cmocean.cm.balance, extend='both', levels=levels)\n",
    "\n",
    "ax1.plot(ysu_xx_geopot[0,:]-4, ysu_pblh_400_latlon_mean/1000., c='0.5')\n",
    "ax1.plot(ysu_xx_geopot[0,:]-4, ysu_pblh_1000_latlon_mean/1000., c='0.5', ls='--')\n",
    "ax1.set_ylim(0,3.25)\n",
    "ax1.set_xlim(6,18)\n",
    "ax1.set_xticks([i for i in range(6,19,2)])\n",
    "ax1.set_ylabel('km', fontsize=fontsize)\n",
    "\n",
    "ax2 = fig.add_subplot(512)\n",
    "ax2.tick_params(labelsize=fontsize)\n",
    "contour_plot2 = ax2.contourf(temf_xx_geopot-4, temf_gg/9.81/1000., \\\n",
    "                             temf_cldfra_diffs_latlon_mean.T*100., \\\n",
    "                             cmap=cmocean.cm.balance, extend='both', levels=levels)\n",
    "ax2.set_ylim(0,3.25)\n",
    "ax2.set_xlim(6,18)\n",
    "ax2.set_ylabel('km', fontsize=fontsize)\n",
    "ax2.set_xticks([i for i in range(6,19,2)])\n",
    "ax2.plot(temf_xx_geopot[0,:]-4, temf_pblh_400_latlon_mean/1000., c='0.5')\n",
    "ax2.plot(temf_xx_geopot[0,:]-4, temf_pblh_1000_latlon_mean/1000., c='0.5', ls='--')\n",
    "\n",
    "\n",
    "ax3 = fig.add_subplot(513)\n",
    "ax3.tick_params(labelsize=fontsize)\n",
    "contour_plot2 = ax3.contourf(acm2_xx_geopot-4, acm2_gg/9.81/1000., \\\n",
    "                             acm2_cldfra_diffs_latlon_mean.T*100., \\\n",
    "                             cmap=cmocean.cm.balance, extend='both', levels=levels)\n",
    "ax3.set_ylim(0,3.25)\n",
    "ax3.set_xlim(6,18)\n",
    "ax3.set_ylabel('km', fontsize=fontsize)\n",
    "ax3.set_xticks([i for i in range(6,19,2)])\n",
    "ax3.plot(acm2_xx_geopot[0,:]-4, acm2_pblh_400_latlon_mean/1000., c='0.5')\n",
    "ax3.plot(acm2_xx_geopot[0,:]-4, acm2_pblh_1000_latlon_mean/1000., c='0.5', ls='--')\n",
    "\n",
    "\n",
    "ax4 = fig.add_subplot(514)\n",
    "ax4.tick_params(labelsize=fontsize)\n",
    "contour_plot2 = ax4.contourf(uw_xx_geopot-4, uw_gg/9.81/1000., \\\n",
    "                             uw_cldfra_diffs_latlon_mean.T*100., \\\n",
    "                             cmap=cmocean.cm.balance, extend='both', levels=levels)\n",
    "ax4.set_ylim(0,3.25)\n",
    "ax4.set_xlim(6,18)\n",
    "ax4.set_ylabel('km', fontsize=fontsize)\n",
    "ax4.set_xticks([i for i in range(6,19,2)])\n",
    "ax4.plot(uw_xx_geopot[0,:]-4, uw_pblh_400_latlon_mean/1000., c='0.5')\n",
    "ax4.plot(uw_xx_geopot[0,:]-4, uw_pblh_1000_latlon_mean/1000., c='0.5', ls='--')\n",
    "\n",
    "ax5 = fig.add_subplot(515)\n",
    "ax5.tick_params(labelsize=fontsize)\n",
    "contour_plot5 = ax5.contourf(mynn30_xx_geopot-4, uw_gg/9.81/1000., \\\n",
    "                             mynn30_cldfra_diffs_latlon_mean.T*100., \\\n",
    "                             cmap=cmocean.cm.balance, extend='both', levels=levels)\n",
    "ax5.set_ylim(0,3.25)\n",
    "ax5.set_xlim(6,18)\n",
    "ax5.set_ylabel('km', fontsize=fontsize)\n",
    "ax5.set_xticks([i for i in range(6,19,2)])\n",
    "ax5.plot(uw_xx_geopot[0,:]-4, mynn30_pblh_400_latlon_mean/1000., c='0.5')\n",
    "ax5.plot(uw_xx_geopot[0,:]-4, mynn30_pblh_1000_latlon_mean/1000., c='0.5', ls='--')\n",
    "\n",
    "ax1.text(s='(a) $\\Delta$ cloud fraction (YSU)', x=0, y=1.02, ha='left', va='bottom', fontsize=fontsize, transform=ax1.transAxes)\n",
    "ax2.text(s='(b) $\\Delta$ cloud fraction (TEMF)', x=0, y=1.02, ha='left', va='bottom', fontsize=fontsize, transform=ax2.transAxes)\n",
    "ax3.text(s='(c) $\\Delta$ cloud fraction (ACM2)', x=0, y=1.02, ha='left', va='bottom', fontsize=fontsize, transform=ax3.transAxes)\n",
    "ax4.text(s='(d) $\\Delta$ cloud fraction (UW)', x=0, y=1.02, ha='left', va='bottom', fontsize=fontsize, transform=ax4.transAxes)\n",
    "ax5.text(s='(e) $\\Delta$ cloud fraction (MYNN)', x=0, y=1.02, ha='left', va='bottom', fontsize=fontsize, transform=ax5.transAxes)\n",
    "\n",
    "fig.tight_layout(h_pad=2)\n",
    "\n",
    "ax1pos = ax1.get_position()\n",
    "ax2pos = ax5.get_position()\n",
    "cbar_ax = fig.add_axes([ax2pos.x1+0.05, ax2pos.y0, 0.045, ax1pos.y1-ax2pos.y0])\n",
    "cbar = fig.colorbar(contour_plot1, cax=cbar_ax)\n",
    "cbar_ax.tick_params(labelsize=fontsize)\n",
    "cbar.set_label('%', fontsize=fontsize)\n",
    "\n",
    "fig.savefig('figures/cldfra_diffs_PBL_schemes.png', dpi=600, bbox_inches='tight', transparent=True)"
   ]
  },
  {
   "cell_type": "code",
   "execution_count": null,
   "metadata": {},
   "outputs": [],
   "source": []
  },
  {
   "cell_type": "code",
   "execution_count": null,
   "metadata": {},
   "outputs": [],
   "source": []
  }
 ],
 "metadata": {
  "kernelspec": {
   "display_name": "Python 3",
   "language": "python",
   "name": "python3"
  },
  "language_info": {
   "codemirror_mode": {
    "name": "ipython",
    "version": 3
   },
   "file_extension": ".py",
   "mimetype": "text/x-python",
   "name": "python",
   "nbconvert_exporter": "python",
   "pygments_lexer": "ipython3",
   "version": "3.6.5"
  },
  "varInspector": {
   "cols": {
    "lenName": 16,
    "lenType": 16,
    "lenVar": 40
   },
   "kernels_config": {
    "python": {
     "delete_cmd_postfix": "",
     "delete_cmd_prefix": "del ",
     "library": "var_list.py",
     "varRefreshCmd": "print(var_dic_list())"
    },
    "r": {
     "delete_cmd_postfix": ") ",
     "delete_cmd_prefix": "rm(",
     "library": "var_list.r",
     "varRefreshCmd": "cat(var_dic_list()) "
    }
   },
   "types_to_exclude": [
    "module",
    "function",
    "builtin_function_or_method",
    "instance",
    "_Feature"
   ],
   "window_display": false
  }
 },
 "nbformat": 4,
 "nbformat_minor": 2
}
