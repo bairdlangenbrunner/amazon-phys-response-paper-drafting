{
 "cells": [
  {
   "cell_type": "code",
   "execution_count": 1,
   "metadata": {
    "ExecuteTime": {
     "end_time": "2018-04-18T18:52:29.517355Z",
     "start_time": "2018-04-18T18:52:06.392844Z"
    }
   },
   "outputs": [],
   "source": [
    "import numpy\n",
    "import xarray\n",
    "import matplotlib\n",
    "import matplotlib.pyplot as mp\n",
    "import datetime\n",
    "import matplotlib.colors\n",
    "import scipy.stats\n",
    "import itertools\n",
    "import string\n",
    "import matplotlib.patches\n",
    "\n",
    "import glob\n",
    "import pandas\n",
    "\n",
    "import mpl_toolkits\n",
    "import cartopy\n",
    "\n",
    "DEGREE_SIGN = u'\\u00B0'\n",
    "mp.rcParams.update({'mathtext.default': 'regular'})\n",
    "\n",
    "% matplotlib inline"
   ]
  },
  {
   "cell_type": "markdown",
   "metadata": {},
   "source": [
    "# import mar16 cam400, clm400 data"
   ]
  },
  {
   "cell_type": "code",
   "execution_count": null,
   "metadata": {
    "ExecuteTime": {
     "end_time": "2018-04-18T17:45:14.763637Z",
     "start_time": "2018-04-18T17:44:44.034Z"
    }
   },
   "outputs": [],
   "source": [
    "data_dir = '/beegfs/DATA/pritchard/blangenb/CESM_ARCHIVE/B_1850_CAM5.cam0400.clm0400_mar16_10ens'\n",
    "\n",
    "cont_cam"
   ]
  },
  {
   "cell_type": "code",
   "execution_count": 6,
   "metadata": {
    "ExecuteTime": {
     "end_time": "2018-04-16T21:19:02.384805Z",
     "start_time": "2018-04-16T21:19:01.647243Z"
    }
   },
   "outputs": [],
   "source": [
    "time_var = time_ncfile['Times']\n",
    "time = time_ncfile['Times'].data\n",
    "xlat = xlat_ncfile['XLAT'].data[0,:,:]\n",
    "xlong = xlong_ncfile['XLONG'].data[0,:,:]\n",
    "landmask = landmask_ncfile['LANDMASK'].data[0,:,:]"
   ]
  },
  {
   "cell_type": "code",
   "execution_count": 7,
   "metadata": {
    "ExecuteTime": {
     "end_time": "2018-04-16T21:19:03.408736Z",
     "start_time": "2018-04-16T21:19:03.405379Z"
    }
   },
   "outputs": [],
   "source": [
    "qvapor_400 = qvapor_ncfile['QVAPOR']\n",
    "p_400 = p_ncfile['P']\n",
    "pb_400 = pb_ncfile['PB']"
   ]
  },
  {
   "cell_type": "code",
   "execution_count": 35,
   "metadata": {
    "ExecuteTime": {
     "end_time": "2018-04-18T17:30:07.852870Z",
     "start_time": "2018-04-18T17:28:04.499797Z"
    }
   },
   "outputs": [],
   "source": [
    "ptot_400 = p_400+pb_400"
   ]
  },
  {
   "cell_type": "code",
   "execution_count": 59,
   "metadata": {
    "ExecuteTime": {
     "end_time": "2018-04-18T17:48:29.823993Z",
     "start_time": "2018-04-18T17:48:29.180100Z"
    }
   },
   "outputs": [],
   "source": [
    "root_dir = '/beegfs/DATA/pritchard/blangenb/WRF_ARCHIVE/CHEYENNE/FMAASO/400/ens_mean_wrfout_files'\n",
    "file_list = glob.glob(root_dir+'/'+'wrfout*.nc')\n",
    "ds_list = [netCDF4.Dataset(file) for file in file_list]"
   ]
  },
  {
   "cell_type": "code",
   "execution_count": 60,
   "metadata": {
    "ExecuteTime": {
     "end_time": "2018-04-18T17:52:25.055474Z",
     "start_time": "2018-04-18T17:48:29.827068Z"
    }
   },
   "outputs": [],
   "source": [
    "wa_400 = wrf.getvar(ds_list, 'wa', timeidx=wrf.ALL_TIMES).values"
   ]
  },
  {
   "cell_type": "raw",
   "metadata": {
    "ExecuteTime": {
     "end_time": "2018-04-16T21:19:07.715589Z",
     "start_time": "2018-04-16T21:19:07.712203Z"
    }
   },
   "source": [
    "w_400 = w_ncfile['W']"
   ]
  },
  {
   "cell_type": "markdown",
   "metadata": {},
   "source": [
    "# import FMAASO 1000 data"
   ]
  },
  {
   "cell_type": "code",
   "execution_count": 52,
   "metadata": {
    "ExecuteTime": {
     "end_time": "2018-04-18T17:43:49.811499Z",
     "start_time": "2018-04-18T17:43:49.473175Z"
    }
   },
   "outputs": [],
   "source": [
    "data_dir = '/beegfs/DATA/pritchard/blangenb/WRF_ARCHIVE/CHEYENNE/FMAASO/1000/concat_nc_files/'\n",
    "filename_prefix = 'wrfout_d01_1979-01-01_00:00:00_1979-01-11_00:00:00_'\n",
    "filename_suffix = '_ens_mean.nc'\n",
    "\n",
    "time_ncfile = xarray.open_dataset(times_ncfile_name)\n",
    "xlat_ncfile = xarray.open_dataset(xlat_ncfile_name)\n",
    "xlong_ncfile = xarray.open_dataset(xlong_ncfile_name)\n",
    "landmask_ncfile = xarray.open_dataset(landmask_ncfile_name)\n",
    "\n",
    "qvapor_ncfile = xarray.open_dataset(data_dir + filename_prefix + 'QVAPOR' + '_ens_mean.nc')\n",
    "\n",
    "p_ncfile = xarray.open_dataset(data_dir + filename_prefix + 'P' + '_ens_mean.nc')\n",
    "pb_ncfile = xarray.open_dataset(data_dir + filename_prefix + 'PB' + '_ens_mean.nc')\n",
    "\n",
    "w_ncfile = xarray.open_dataset(data_dir + filename_prefix + 'W' + '_ens_mean.nc')"
   ]
  },
  {
   "cell_type": "code",
   "execution_count": 10,
   "metadata": {
    "ExecuteTime": {
     "end_time": "2018-04-16T21:19:09.156952Z",
     "start_time": "2018-04-16T21:19:09.025409Z"
    }
   },
   "outputs": [],
   "source": [
    "time_var_1000 = time_ncfile['Times']\n",
    "time_1000 = time_ncfile['Times'].data\n",
    "xlat = xlat_ncfile['XLAT'].data[0,:,:]\n",
    "xlong = xlong_ncfile['XLONG'].data[0,:,:]\n",
    "landmask = landmask_ncfile['LANDMASK'].data[0,:,:]"
   ]
  },
  {
   "cell_type": "code",
   "execution_count": 11,
   "metadata": {
    "ExecuteTime": {
     "end_time": "2018-04-16T21:19:09.604438Z",
     "start_time": "2018-04-16T21:19:09.599287Z"
    }
   },
   "outputs": [],
   "source": [
    "qvapor_1000 = qvapor_ncfile['QVAPOR']\n",
    "p_1000 = p_ncfile['P']\n",
    "pb_1000 = pb_ncfile['PB']"
   ]
  },
  {
   "cell_type": "code",
   "execution_count": 34,
   "metadata": {
    "ExecuteTime": {
     "end_time": "2018-04-18T17:28:04.493139Z",
     "start_time": "2018-04-18T17:26:00.120882Z"
    }
   },
   "outputs": [],
   "source": [
    "ptot_1000 = p_1000+pb_1000"
   ]
  },
  {
   "cell_type": "code",
   "execution_count": 57,
   "metadata": {
    "ExecuteTime": {
     "end_time": "2018-04-18T17:45:16.264189Z",
     "start_time": "2018-04-18T17:45:16.174814Z"
    }
   },
   "outputs": [],
   "source": [
    "root_dir = '/beegfs/DATA/pritchard/blangenb/WRF_ARCHIVE/CHEYENNE/FMAASO/1000/ens_mean_wrfout_files'\n",
    "file_list = glob.glob(root_dir+'/'+'wrfout*.nc')\n",
    "ds_list = [netCDF4.Dataset(file) for file in file_list]"
   ]
  },
  {
   "cell_type": "code",
   "execution_count": 58,
   "metadata": {
    "ExecuteTime": {
     "end_time": "2018-04-18T17:48:29.176987Z",
     "start_time": "2018-04-18T17:45:16.959233Z"
    }
   },
   "outputs": [],
   "source": [
    "wa_1000 = wrf.getvar(ds_list, 'wa', timeidx=wrf.ALL_TIMES).values"
   ]
  },
  {
   "cell_type": "raw",
   "metadata": {
    "ExecuteTime": {
     "end_time": "2018-04-16T21:19:11.791005Z",
     "start_time": "2018-04-16T21:19:11.787199Z"
    }
   },
   "source": [
    "w_1000 = w_ncfile['W']"
   ]
  },
  {
   "cell_type": "markdown",
   "metadata": {},
   "source": [
    "# calculate precipitable water and save"
   ]
  },
  {
   "cell_type": "raw",
   "metadata": {
    "ExecuteTime": {
     "end_time": "2018-04-16T21:22:11.678235Z",
     "start_time": "2018-04-16T21:22:11.597602Z"
    }
   },
   "source": [
    "root_dir = '/beegfs/DATA/pritchard/blangenb/WRF_ARCHIVE/CHEYENNE/FMAASO/400/ens_mean_wrfout_files'\n",
    "file_list = [root_dir+'/wrfout_d01_1979-01-'+'{:02d}'.format(day)+'_00:00:00_ens_mean.nc' for day in range(1,12)]\n",
    "dataset_list = [netCDF4.Dataset(file) for file in file_list]"
   ]
  },
  {
   "cell_type": "raw",
   "metadata": {
    "ExecuteTime": {
     "end_time": "2018-04-16T21:26:31.853045Z",
     "start_time": "2018-04-16T21:22:38.818879Z"
    }
   },
   "source": [
    "cont_prw = wrf.getvar(dataset_list, 'pw', timeidx=wrf.ALL_TIMES)"
   ]
  },
  {
   "cell_type": "raw",
   "metadata": {
    "ExecuteTime": {
     "end_time": "2018-04-16T21:26:31.914028Z",
     "start_time": "2018-04-16T21:26:31.855423Z"
    }
   },
   "source": [
    "root_dir = '/beegfs/DATA/pritchard/blangenb/WRF_ARCHIVE/CHEYENNE/FMAASO/1000/ens_mean_wrfout_files'\n",
    "file_list = [root_dir+'/wrfout_d01_1979-01-'+'{:02d}'.format(day)+'_00:00:00_ens_mean.nc' for day in range(1,12)]\n",
    "dataset_list = [netCDF4.Dataset(file) for file in file_list]"
   ]
  },
  {
   "cell_type": "raw",
   "metadata": {
    "ExecuteTime": {
     "end_time": "2018-04-16T21:30:38.874748Z",
     "start_time": "2018-04-16T21:26:31.915665Z"
    }
   },
   "source": [
    "phys_prw = wrf.getvar(dataset_list, 'pw', timeidx=wrf.ALL_TIMES)"
   ]
  },
  {
   "cell_type": "raw",
   "metadata": {
    "ExecuteTime": {
     "end_time": "2018-04-16T21:30:44.828906Z",
     "start_time": "2018-04-16T21:30:44.746250Z"
    }
   },
   "source": [
    "numpy.save('DATA_prw_400.npy', cont_prw)\n",
    "numpy.save('DATA_prw_1000.npy', phys_prw)"
   ]
  },
  {
   "cell_type": "code",
   "execution_count": 20,
   "metadata": {
    "ExecuteTime": {
     "end_time": "2018-04-16T21:30:47.830093Z",
     "start_time": "2018-04-16T21:30:47.736552Z"
    }
   },
   "outputs": [],
   "source": [
    "cont_prw = numpy.load('DATA_prw_400.npy')\n",
    "phys_prw = numpy.load('DATA_prw_1000.npy')"
   ]
  },
  {
   "cell_type": "markdown",
   "metadata": {},
   "source": [
    "# get time stamps"
   ]
  },
  {
   "cell_type": "code",
   "execution_count": 22,
   "metadata": {
    "ExecuteTime": {
     "end_time": "2018-04-16T21:46:33.651543Z",
     "start_time": "2018-04-16T21:46:33.644286Z"
    }
   },
   "outputs": [],
   "source": [
    "time_datetimes = pandas.to_datetime([i.decode('utf-8') for i in time], format = '%Y-%m-%d_%H:%M:%S')"
   ]
  },
  {
   "cell_type": "code",
   "execution_count": 23,
   "metadata": {
    "ExecuteTime": {
     "end_time": "2018-04-16T21:46:34.206567Z",
     "start_time": "2018-04-16T21:46:34.176109Z"
    }
   },
   "outputs": [],
   "source": [
    "skip_time = 24\n",
    "n_intervals = 8\n",
    "hour_strings = ['00','03','06','09','12','15','18','21']\n",
    "\n",
    "times_00 = [t.hour in [23,0,1] for t in time_datetimes[skip_time:]]\n",
    "times_03 = [t.hour in [2,3,4] for t in time_datetimes[skip_time:]]\n",
    "times_06 = [t.hour in [5,6,7] for t in time_datetimes[skip_time:]]\n",
    "times_09 = [t.hour in [8,9,10] for t in time_datetimes[skip_time:]]\n",
    "times_12 = [t.hour in [11,12,13] for t in time_datetimes[skip_time:]]\n",
    "times_15 = [t.hour in [14,15,16] for t in time_datetimes[skip_time:]]\n",
    "times_18 = [t.hour in [17,18,19] for t in time_datetimes[skip_time:]]\n",
    "times_21 = [t.hour in [20,21,22] for t in time_datetimes[skip_time:]]"
   ]
  },
  {
   "cell_type": "markdown",
   "metadata": {},
   "source": [
    "# lat indices subset"
   ]
  },
  {
   "cell_type": "code",
   "execution_count": 24,
   "metadata": {
    "ExecuteTime": {
     "end_time": "2018-04-16T21:46:35.618045Z",
     "start_time": "2018-04-16T21:46:35.612489Z"
    }
   },
   "outputs": [],
   "source": [
    "lat_hi = 10.\n",
    "lat_lo = -10.\n",
    "# subset between lat_hi and lat_lo\n",
    "lat_indices = (xlat<=lat_hi)&(xlat>=lat_lo)"
   ]
  },
  {
   "cell_type": "markdown",
   "metadata": {},
   "source": [
    " # calculate prw diffs"
   ]
  },
  {
   "cell_type": "code",
   "execution_count": 26,
   "metadata": {
    "ExecuteTime": {
     "end_time": "2018-04-16T21:58:29.976101Z",
     "start_time": "2018-04-16T21:58:29.784038Z"
    }
   },
   "outputs": [],
   "source": [
    "qvapor_vint_diffs = phys_prw_array - cont_prw_array\n",
    "#qvapor_vint_diffs_landmask = numpy.copy(qvapor_vint_diffs)\n",
    "#qvapor_vint_diffs_landmask[:,landmask==0] = numpy.nan\n",
    "\n",
    "qvapor_vint_diffs_time_mean = numpy.mean(phys_prw[skip_time:,:,:] - cont_prw[skip_time:,:,:], axis=0)\n",
    "#qvapor_vint_diffs_time_mean_landmask = numpy.copy(qvapor_vint_diffs_time_mean)\n",
    "#qvapor_vint_diffs_time_mean_landmask[landmask==0] = numpy.nan\n",
    "\n",
    "cont_prw_time_mean = numpy.mean(cont_prw[skip_time:,:,:], axis=0)\n",
    "#cont_prw_time_mean_landmask = numpy.copy(cont_prw_time_mean)\n",
    "#cont_prw_time_mean_landmask[landmask==0] = numpy.nan"
   ]
  },
  {
   "cell_type": "code",
   "execution_count": 27,
   "metadata": {
    "ExecuteTime": {
     "end_time": "2018-04-16T21:58:31.038465Z",
     "start_time": "2018-04-16T21:58:30.973523Z"
    }
   },
   "outputs": [],
   "source": [
    "qvapor_diffs_vint_alltime = phys_prw-cont_prw"
   ]
  },
  {
   "cell_type": "markdown",
   "metadata": {},
   "source": [
    "# apply landmask"
   ]
  },
  {
   "cell_type": "code",
   "execution_count": 117,
   "metadata": {
    "ExecuteTime": {
     "end_time": "2018-04-18T18:11:59.909359Z",
     "start_time": "2018-04-18T18:11:51.233065Z"
    }
   },
   "outputs": [],
   "source": [
    "wa_400[:,:,landmask==0] = numpy.nan\n",
    "wa_1000[:,:,landmask==0] = numpy.nan"
   ]
  },
  {
   "cell_type": "code",
   "execution_count": 118,
   "metadata": {
    "ExecuteTime": {
     "end_time": "2018-04-18T18:12:02.273651Z",
     "start_time": "2018-04-18T18:12:01.309163Z"
    }
   },
   "outputs": [],
   "source": [
    "wa_400_lat_subset = wa_400[:,:,lat_indices[:,0],:]\n",
    "wa_1000_lat_subset = wa_1000[:,:,lat_indices[:,0],:]\n",
    "wa_diffs_lat_subset = wa_1000_lat_subset-wa_400_lat_subset"
   ]
  },
  {
   "cell_type": "code",
   "execution_count": 119,
   "metadata": {
    "ExecuteTime": {
     "end_time": "2018-04-18T18:12:15.323077Z",
     "start_time": "2018-04-18T18:12:12.738803Z"
    }
   },
   "outputs": [
    {
     "name": "stderr",
     "output_type": "stream",
     "text": [
      "/export/home/blangenb/anaconda3/lib/python3.6/site-packages/ipykernel_launcher.py:1: RuntimeWarning: Mean of empty slice\n",
      "  \"\"\"Entry point for launching an IPython kernel.\n",
      "/export/home/blangenb/anaconda3/lib/python3.6/site-packages/ipykernel_launcher.py:2: RuntimeWarning: Mean of empty slice\n",
      "  \n",
      "/export/home/blangenb/anaconda3/lib/python3.6/site-packages/ipykernel_launcher.py:3: RuntimeWarning: Mean of empty slice\n",
      "  This is separate from the ipykernel package so we can avoid doing imports until\n",
      "/export/home/blangenb/anaconda3/lib/python3.6/site-packages/ipykernel_launcher.py:5: RuntimeWarning: Mean of empty slice\n",
      "  \"\"\"\n",
      "/export/home/blangenb/anaconda3/lib/python3.6/site-packages/ipykernel_launcher.py:6: RuntimeWarning: Mean of empty slice\n",
      "  \n",
      "/export/home/blangenb/anaconda3/lib/python3.6/site-packages/ipykernel_launcher.py:7: RuntimeWarning: Mean of empty slice\n",
      "  import sys\n"
     ]
    }
   ],
   "source": [
    "wa_diffs_time_mean = numpy.nanmean(wa_diffs_lat_subset[skip_time:,:,:], axis=0)\n",
    "wa_diffs_time_lat_mean = numpy.nanmean(wa_diffs_time_mean, axis=1)\n",
    "wa_diffs_lat_mean = numpy.nanmean(wa_diffs_lat_subset, axis=2)\n",
    "\n",
    "wa_400_time_mean = numpy.nanmean(wa_400_lat_subset[skip_time:,:,:], axis=0)\n",
    "wa_400_time_lat_mean = numpy.nanmean(wa_400_time_mean, axis=1)\n",
    "wa_400_lat_mean = numpy.nanmean(wa_400_lat_subset, axis=2)"
   ]
  },
  {
   "cell_type": "code",
   "execution_count": 36,
   "metadata": {
    "ExecuteTime": {
     "end_time": "2018-04-18T17:30:08.686411Z",
     "start_time": "2018-04-18T17:30:07.855462Z"
    }
   },
   "outputs": [],
   "source": [
    "ptot_400_lat_subset = ptot_400.values[:,:,lat_indices[:,0],:]\n",
    "ptot_1000_lat_subset = ptot_1000.values[:,:,lat_indices[:,0],:]"
   ]
  },
  {
   "cell_type": "code",
   "execution_count": 37,
   "metadata": {
    "ExecuteTime": {
     "end_time": "2018-04-18T17:35:07.879754Z",
     "start_time": "2018-04-18T17:35:07.025659Z"
    }
   },
   "outputs": [],
   "source": [
    "ptot_400_time_mean = numpy.mean(ptot_400_lat_subset[skip_time:,:,:], axis=0)\n",
    "ptot_400_time_lat_mean = numpy.mean(ptot_400_time_mean, axis=1)\n",
    "ptot_400_lat_mean = numpy.mean(ptot_400_lat_subset, axis=2)"
   ]
  },
  {
   "cell_type": "code",
   "execution_count": 38,
   "metadata": {
    "ExecuteTime": {
     "end_time": "2018-04-18T17:35:11.316025Z",
     "start_time": "2018-04-18T17:35:11.312318Z"
    }
   },
   "outputs": [],
   "source": [
    "xx,zz=numpy.meshgrid(xlong[0,:],ptot_400_time_lat_mean[:,:].mean(axis=1))"
   ]
  },
  {
   "cell_type": "code",
   "execution_count": 133,
   "metadata": {
    "ExecuteTime": {
     "end_time": "2018-04-18T18:45:56.761467Z",
     "start_time": "2018-04-18T18:45:56.755051Z"
    }
   },
   "outputs": [
    {
     "data": {
      "text/plain": [
       "270.2386779785156"
      ]
     },
     "execution_count": 133,
     "metadata": {},
     "output_type": "execute_result"
    }
   ],
   "source": [
    "xlong.min()+360+65"
   ]
  },
  {
   "cell_type": "code",
   "execution_count": 139,
   "metadata": {
    "ExecuteTime": {
     "end_time": "2018-04-18T18:47:31.720120Z",
     "start_time": "2018-04-18T18:47:30.617315Z"
    }
   },
   "outputs": [
    {
     "data": {
      "image/png": "[encoded data removed]",
      "text/plain": [
       "<Figure size 288x180 with 2 Axes>"
      ]
     },
     "metadata": {},
     "output_type": "display_data"
    }
   ],
   "source": [
    "fontsize = 12\n",
    "\n",
    "fig = mp.figure(figsize=(4,2.5))\n",
    "\n",
    "xticks_deg_E=numpy.array((280,300,320))\n",
    "xticks = -(360-xticks_deg_E)\n",
    "xticks_format=[str(tick)+DEGREE_SIGN+'E' for tick in xticks_deg_E]\n",
    "\n",
    "ax = fig.add_subplot(111)\n",
    "\n",
    "levels = numpy.arange(-1.25,1.26,0.25)\n",
    "\n",
    "contour_plot = ax.contourf(xx+360., ptot_400_time_lat_mean/100., wa_diffs_time_lat_mean*1000., \\\n",
    "                           levels=levels, \\\n",
    "                           cmap='RdBu', \\\n",
    "                           extend='both')\n",
    "ax.tick_params(labelsize=fontsize)\n",
    "ax.set_ylim(1000,100)\n",
    "#ax.set_xlim(xlong.min()+65.+360.,xlong.max()-2+360.)\n",
    "ax.set_xlim(274.5,325.)\n",
    "#ax.set_xlim(280,320)\n",
    "\n",
    "ax.text(s='Mean $\\Delta$ vertical velocity',\\\n",
    "       x=0, y=1.02, \\\n",
    "       ha='left', va='bottom', \\\n",
    "       fontsize=fontsize, \\\n",
    "       transform=ax.transAxes)\n",
    "\n",
    "ax.set_xticks([280,300,320])\n",
    "ax.set_xticklabels(xticks_format)\n",
    "ax.set_ylabel('hPa', fontsize=fontsize)\n",
    "ax.set_facecolor('0.1')\n",
    "ax.axhline(y=860.,lw=1,ls='--',c='0.1')\n",
    "\n",
    "fig.tight_layout()\n",
    "\n",
    "ax_pos = ax.get_position()\n",
    "cbar_ax = fig.add_axes([ax_pos.x1+0.05, ax_pos.y0, 0.03, ax_pos.height])\n",
    "cbar = fig.colorbar(contour_plot, cax=cbar_ax)\n",
    "cbar_ax.tick_params(labelsize=fontsize)\n",
    "cbar.set_ticks(levels[1::2])\n",
    "cbar.set_label('mm s$^{\\,-1}$', fontsize=fontsize)\n",
    "\n",
    "fig.savefig('mean_vertical_velocity_change.png', dpi=600, bbox_inches='tight')"
   ]
  },
  {
   "cell_type": "markdown",
   "metadata": {},
   "source": [
    "# pull out w for p at 700hPa and below"
   ]
  },
  {
   "cell_type": "code",
   "execution_count": 61,
   "metadata": {
    "ExecuteTime": {
     "end_time": "2018-04-18T17:52:27.139320Z",
     "start_time": "2018-04-18T17:52:25.057931Z"
    }
   },
   "outputs": [],
   "source": [
    "wa_diffs_alltime = wa_1000-wa_400"
   ]
  },
  {
   "cell_type": "code",
   "execution_count": 65,
   "metadata": {
    "ExecuteTime": {
     "end_time": "2018-04-18T17:54:01.662783Z",
     "start_time": "2018-04-18T17:54:01.657550Z"
    }
   },
   "outputs": [
    {
     "data": {
      "text/plain": [
       "(241, 29, 179, 289)"
      ]
     },
     "execution_count": 65,
     "metadata": {},
     "output_type": "execute_result"
    }
   ],
   "source": [
    "ptot_400.shape"
   ]
  },
  {
   "cell_type": "code",
   "execution_count": 70,
   "metadata": {
    "ExecuteTime": {
     "end_time": "2018-04-18T17:56:18.327341Z",
     "start_time": "2018-04-18T17:56:16.588718Z"
    }
   },
   "outputs": [],
   "source": [
    "wa_diffs_surf_to_700 = numpy.copy(wa_diffs_alltime)\n",
    "wa_diffs_surf_to_700[ptot_400<70000.] = numpy.nan"
   ]
  },
  {
   "cell_type": "code",
   "execution_count": 74,
   "metadata": {
    "ExecuteTime": {
     "end_time": "2018-04-18T17:57:05.863759Z",
     "start_time": "2018-04-18T17:57:04.243858Z"
    }
   },
   "outputs": [],
   "source": [
    "wa_diffs_700_to_top = numpy.copy(wa_diffs_alltime)\n",
    "wa_diffs_700_to_top[ptot_400>70000.] = numpy.nan"
   ]
  },
  {
   "cell_type": "code",
   "execution_count": 75,
   "metadata": {
    "ExecuteTime": {
     "end_time": "2018-04-18T17:57:10.426283Z",
     "start_time": "2018-04-18T17:57:06.938436Z"
    }
   },
   "outputs": [
    {
     "name": "stderr",
     "output_type": "stream",
     "text": [
      "/export/home/blangenb/anaconda3/lib/python3.6/site-packages/ipykernel_launcher.py:1: RuntimeWarning: Mean of empty slice\n",
      "  \"\"\"Entry point for launching an IPython kernel.\n"
     ]
    }
   ],
   "source": [
    "wa_diffs_surf_to_700_map = numpy.nanmean(wa_diffs_surf_to_700, axis=(0,1))"
   ]
  },
  {
   "cell_type": "code",
   "execution_count": 76,
   "metadata": {
    "ExecuteTime": {
     "end_time": "2018-04-18T17:57:17.604334Z",
     "start_time": "2018-04-18T17:57:14.410450Z"
    }
   },
   "outputs": [],
   "source": [
    "wa_diffs_700_to_top_map = numpy.nanmean(wa_diffs_700_to_top, axis=(0,1))"
   ]
  },
  {
   "cell_type": "markdown",
   "metadata": {},
   "source": [
    "# plot changes in vertical velocity at different levels in atmosphere"
   ]
  },
  {
   "cell_type": "code",
   "execution_count": 131,
   "metadata": {
    "ExecuteTime": {
     "end_time": "2018-04-18T18:44:53.186459Z",
     "start_time": "2018-04-18T18:44:51.277490Z"
    }
   },
   "outputs": [
    {
     "data": {
      "text/plain": [
       "[Text(0,0,'$-20$°'), Text(0,0,'$-10$°'), Text(0,0,'$0$°'), Text(0,0,'$10$°')]"
      ]
     },
     "execution_count": 131,
     "metadata": {},
     "output_type": "execute_result"
    },
    {
     "data": {
      "image/png": "[encoded data removed]",
      "text/plain": [
       "<Figure size 360x216 with 2 Axes>"
      ]
     },
     "metadata": {},
     "output_type": "display_data"
    }
   ],
   "source": [
    "fontsize=12\n",
    "lon_offset = 25.\n",
    "\n",
    "diff_levels = numpy.arange(-1.25,1.26,0.125)\n",
    "\n",
    "fig = mp.figure(figsize=(5,3))\n",
    "ax = fig.add_subplot(111, projection=cartopy.crs.PlateCarree())\n",
    "ax.set_extent([273,329,-30,15], crs=cartopy.crs.PlateCarree())\n",
    "ax.coastlines(color='0.1')\n",
    "contour_plot = ax.contourf(xlong,xlat,wa_diffs_700_to_top_map*1000., \\\n",
    "                             levels=diff_levels, extend='both', \\\n",
    "                             #vmin=diff_levels.min(),vmax=diff_levels.max(),\\\n",
    "                             cmap='RdBu')\n",
    "\n",
    "ax.text(s=\"$\\Delta$ w 700-200 hPa layer\", x=0, y=1.01,\\\n",
    "         ha='left', va='bottom', \\\n",
    "         transform=ax.transAxes, fontsize=fontsize)\n",
    "\n",
    "fig.tight_layout()\n",
    "\n",
    "#ax.background_patch.set_facecolor('0.5')\n",
    "\n",
    "ax_pos = ax.get_position()\n",
    "cbar = mp.colorbar(contour_plot)\n",
    "cbar.ax.tick_params(labelsize=fontsize)\n",
    "cbar.set_label('mm s$^{\\,-1}$', fontsize=fontsize)\n",
    "cbar.set_ticks([-1.5,-1,-0.5,0,0.5,1.,1.5])\n",
    "\n",
    "ax.set_yticks([-20,-10,0,10])\n",
    "ax.set_xticks([-360+280,-360+300,-360+320])\n",
    "ax.tick_params(labelsize=fontsize)\n",
    "ax.set_xticklabels(['$280$'+DEGREE_SIGN,'$300$'+DEGREE_SIGN,'$320$'+DEGREE_SIGN])\n",
    "ax.set_yticklabels(['$-20$'+DEGREE_SIGN,'$-10$'+DEGREE_SIGN,'$0$'+DEGREE_SIGN,'$10$'+DEGREE_SIGN])\n",
    "\n",
    "#fig.savefig('hourly_ptot_below860_change_hour'+ '{:02d}'.format(t)+'.png', dpi=600, bbox_inches='tight', transparent=True)\n",
    "#mp.close()"
   ]
  },
  {
   "cell_type": "code",
   "execution_count": 132,
   "metadata": {
    "ExecuteTime": {
     "end_time": "2018-04-18T18:45:22.876044Z",
     "start_time": "2018-04-18T18:45:20.565282Z"
    }
   },
   "outputs": [
    {
     "data": {
      "text/plain": [
       "[Text(0,0,'$-20$°'), Text(0,0,'$-10$°'), Text(0,0,'$0$°'), Text(0,0,'$10$°')]"
      ]
     },
     "execution_count": 132,
     "metadata": {},
     "output_type": "execute_result"
    },
    {
     "data": {
      "image/png": "[encoded data removed]",
      "text/plain": [
       "<Figure size 360x216 with 2 Axes>"
      ]
     },
     "metadata": {},
     "output_type": "display_data"
    }
   ],
   "source": [
    "fontsize=12\n",
    "lon_offset = 25.\n",
    "\n",
    "diff_levels = numpy.arange(-1.25,1.26,0.125)\n",
    "\n",
    "fig = mp.figure(figsize=(5,3))\n",
    "ax = fig.add_subplot(111, projection=cartopy.crs.PlateCarree())\n",
    "ax.set_extent([273,329,-30,15], crs=cartopy.crs.PlateCarree())\n",
    "ax.coastlines(color='0.1')\n",
    "contour_plot = ax.contourf(xlong,xlat,wa_diffs_surf_to_700_map*1000., \\\n",
    "                             levels=diff_levels, extend='both', \\\n",
    "                             #vmin=diff_levels.min(),vmax=diff_levels.max(),\\\n",
    "                             cmap='RdBu')\n",
    "\n",
    "ax.text(s=\"$\\Delta$ w 1000-700 hPa layer\", x=0, y=1.01,\\\n",
    "         ha='left', va='bottom', \\\n",
    "         transform=ax.transAxes, fontsize=fontsize)\n",
    "\n",
    "fig.tight_layout()\n",
    "\n",
    "ax_pos = ax.get_position()\n",
    "cbar = mp.colorbar(contour_plot)\n",
    "cbar.ax.tick_params(labelsize=fontsize)\n",
    "cbar.set_label('mm s$^{\\,-1}$', fontsize=fontsize)\n",
    "cbar.set_ticks([-1.5,-1,-0.5,0,0.5,1.,1.5])\n",
    "\n",
    "ax.set_yticks([-20,-10,0,10])\n",
    "ax.set_xticks([-360+280,-360+300,-360+320])\n",
    "ax.tick_params(labelsize=fontsize)\n",
    "ax.set_xticklabels(['$280$'+DEGREE_SIGN,'$300$'+DEGREE_SIGN,'$320$'+DEGREE_SIGN])\n",
    "ax.set_yticklabels(['$-20$'+DEGREE_SIGN,'$-10$'+DEGREE_SIGN,'$0$'+DEGREE_SIGN,'$10$'+DEGREE_SIGN])\n"
   ]
  },
  {
   "cell_type": "code",
   "execution_count": null,
   "metadata": {},
   "outputs": [],
   "source": []
  },
  {
   "cell_type": "code",
   "execution_count": null,
   "metadata": {},
   "outputs": [],
   "source": []
  },
  {
   "cell_type": "code",
   "execution_count": null,
   "metadata": {},
   "outputs": [],
   "source": []
  },
  {
   "cell_type": "code",
   "execution_count": null,
   "metadata": {},
   "outputs": [],
   "source": []
  },
  {
   "cell_type": "code",
   "execution_count": null,
   "metadata": {
    "ExecuteTime": {
     "end_time": "2018-04-16T21:59:59.286169Z",
     "start_time": "2018-04-16T21:58:41.267Z"
    }
   },
   "outputs": [],
   "source": [
    "ptot_400_time_mean_h12to18 = numpy.mean(ptot_400_lat_subset[12:18,:,:], axis=0)\n",
    "ptot_400_time_lat_mean_h12to18 = numpy.mean(ptot_400_time_mean_h12to18, axis=1)\n",
    "\n",
    "w_diffs_time_mean_h12to18 = numpy.mean(w_diffs_lat_subset[12:18,:,:], axis=0)\n",
    "w_diffs_time_lat_mean_h12to18 = numpy.mean(w_diffs_time_mean_h12to18, axis=1)\n",
    "w_diffs_time_lat_mean_h12to18_destagger = 0.5*(w_diffs_time_lat_mean_h12to18[:-1,:]+w_diffs_time_lat_mean_h12to18[1:,:])"
   ]
  },
  {
   "cell_type": "code",
   "execution_count": null,
   "metadata": {
    "ExecuteTime": {
     "end_time": "2018-04-16T21:59:59.287546Z",
     "start_time": "2018-04-16T21:58:41.516Z"
    }
   },
   "outputs": [],
   "source": [
    "ptot_400_time_mean_h18to24 = numpy.mean(ptot_400_lat_subset[24:30,:,:], axis=0)\n",
    "ptot_400_time_lat_mean_h18to24 = numpy.mean(ptot_400_time_mean_h18to24, axis=1)\n",
    "\n",
    "w_diffs_time_mean_h18to24 = numpy.mean(w_diffs_lat_subset[24:30,:,:], axis=0)\n",
    "w_diffs_time_lat_mean_h18to24 = numpy.mean(w_diffs_time_mean_h18to24, axis=1)\n",
    "w_diffs_time_lat_mean_h18to24_destagger = 0.5*(w_diffs_time_lat_mean_h18to24[:-1,:]+w_diffs_time_lat_mean_h18to24[1:,:])"
   ]
  },
  {
   "cell_type": "code",
   "execution_count": null,
   "metadata": {
    "ExecuteTime": {
     "end_time": "2018-04-16T21:59:59.288978Z",
     "start_time": "2018-04-16T21:58:42.899Z"
    }
   },
   "outputs": [],
   "source": [
    "fig = mp.figure(figsize=(4,2.5))\n",
    "\n",
    "xticks_deg_E=numpy.array((280,300,320))\n",
    "xticks = -(360-xticks_deg_E)\n",
    "xticks_format=[str(tick)+DEGREE_SIGN+'E' for tick in xticks_deg_E]\n",
    "\n",
    "ax = fig.add_subplot(111)\n",
    "\n",
    "levels = numpy.arange(-1.25,1.26,0.25)\n",
    "\n",
    "contour_plot = ax.contourf(xx+360., ptot_400_time_lat_mean_h12to18/100., w_diffs_time_lat_mean_h12to18_destagger*1000., \\\n",
    "                           levels=levels, \\\n",
    "                           cmap='RdBu', \\\n",
    "                           extend='both')\n",
    "ax.tick_params(labelsize=fontsize)\n",
    "ax.set_ylim(1000,100)\n",
    "ax.set_xlim(xlong.min()+65.+360.,xlong.max()-2+360.)\n",
    "\n",
    "ax.text(s='Mean $\\Delta$ vertical velocity (hours 12-18)',\\\n",
    "       x=0, y=1.02, \\\n",
    "       ha='left', va='bottom', \\\n",
    "       fontsize=fontsize, \\\n",
    "       transform=ax.transAxes)\n",
    "\n",
    "ax.set_xticks([280,300,320])\n",
    "ax.set_xticklabels(xticks_format)\n",
    "ax.set_ylabel('hPa', fontsize=fontsize)\n",
    "ax.set_facecolor('0.1')\n",
    "ax.axhline(y=860.,lw=1,ls='--',c='0.1')\n",
    "\n",
    "fig.tight_layout()\n",
    "\n",
    "ax_pos = ax.get_position()\n",
    "cbar_ax = fig.add_axes([ax_pos.x1+0.05, ax_pos.y0, 0.03, ax_pos.height])\n",
    "cbar = fig.colorbar(contour_plot, cax=cbar_ax)\n",
    "cbar_ax.tick_params(labelsize=fontsize)\n",
    "cbar.set_ticks(levels[1::2])\n",
    "cbar.set_label('mm s$^{\\,-1}$', fontsize=fontsize)\n",
    "\n",
    "fig.savefig('mean_vertical_velocity_change_hours12to18.png', dpi=600, bbox_inches='tight')"
   ]
  },
  {
   "cell_type": "code",
   "execution_count": null,
   "metadata": {
    "ExecuteTime": {
     "end_time": "2018-04-16T21:59:59.290463Z",
     "start_time": "2018-04-16T21:58:44.531Z"
    }
   },
   "outputs": [],
   "source": [
    "fig = mp.figure(figsize=(4,2.5))\n",
    "\n",
    "xticks_deg_E=numpy.array((280,300,320))\n",
    "xticks = -(360-xticks_deg_E)\n",
    "xticks_format=[str(tick)+DEGREE_SIGN+'E' for tick in xticks_deg_E]\n",
    "\n",
    "ax = fig.add_subplot(111)\n",
    "\n",
    "levels = numpy.arange(-1.25,1.26,0.25)\n",
    "\n",
    "contour_plot = ax.contourf(xx+360., ptot_400_time_lat_mean_h18to24/100., w_diffs_time_lat_mean_h18to24_destagger*1000., \\\n",
    "                           levels=levels, \\\n",
    "                           cmap='RdBu', \\\n",
    "                           extend='both')\n",
    "ax.tick_params(labelsize=fontsize)\n",
    "ax.set_ylim(1000,100)\n",
    "ax.set_xlim(xlong.min()+65.+360.,xlong.max()-2+360.)\n",
    "\n",
    "ax.text(s='Mean $\\Delta$ vertical velocity (hours 18-24)',\\\n",
    "       x=0, y=1.02, \\\n",
    "       ha='left', va='bottom', \\\n",
    "       fontsize=fontsize, \\\n",
    "       transform=ax.transAxes)\n",
    "\n",
    "ax.set_xticks([280,300,320])\n",
    "ax.set_xticklabels(xticks_format)\n",
    "ax.set_ylabel('hPa', fontsize=fontsize)\n",
    "ax.set_facecolor('0.1')\n",
    "ax.axhline(y=860.,lw=1,ls='--',c='0.1')\n",
    "\n",
    "fig.tight_layout()\n",
    "\n",
    "ax_pos = ax.get_position()\n",
    "cbar_ax = fig.add_axes([ax_pos.x1+0.05, ax_pos.y0, 0.03, ax_pos.height])\n",
    "cbar = fig.colorbar(contour_plot, cax=cbar_ax)\n",
    "cbar_ax.tick_params(labelsize=fontsize)\n",
    "cbar.set_ticks(levels[1::2])\n",
    "cbar.set_label('mm s$^{\\,-1}$', fontsize=fontsize)\n",
    "\n",
    "fig.savefig('mean_vertical_velocity_change_hours18to24.png', dpi=600, bbox_inches='tight')"
   ]
  },
  {
   "cell_type": "markdown",
   "metadata": {},
   "source": [
    "# movie of w velocity"
   ]
  },
  {
   "cell_type": "code",
   "execution_count": 40,
   "metadata": {
    "ExecuteTime": {
     "end_time": "2018-04-11T21:36:19.922275Z",
     "start_time": "2018-04-11T21:36:19.647834Z"
    }
   },
   "outputs": [
    {
     "data": {
      "image/png": "[encoded data removed]",
      "text/plain": [
       "<Figure size 288x180 with 2 Axes>"
      ]
     },
     "metadata": {},
     "output_type": "display_data"
    }
   ],
   "source": [
    "xticks_deg_E=numpy.array((280,300,320))\n",
    "xticks = -(360-xticks_deg_E)\n",
    "xticks_format=[str(tick)+DEGREE_SIGN+'E' for tick in xticks_deg_E]\n",
    "\n",
    "\n",
    "\n",
    "levels = numpy.arange(-1.25,1.26,0.25)\n",
    "\n",
    "for t in [8]:#18range(72):\n",
    "    \n",
    "    fig = mp.figure(figsize=(4,2.5))\n",
    "    ax = fig.add_subplot(111)\n",
    "\n",
    "    contour_plot = ax.contourf(xx+360., ptot_400_lat_mean[t,:,:]/100., w_diffs_lat_mean_destagger[t,:,:]*1000., \\\n",
    "                               levels=levels, \\\n",
    "                               cmap='RdBu', \\\n",
    "                               extend='both')\n",
    "    ax.tick_params(labelsize=fontsize)\n",
    "    ax.set_ylim(1000,100)\n",
    "    ax.set_xlim(xlong.min()+65.+360.,xlong.max()-2+360.)\n",
    "\n",
    "    ax.text(s='$\\Delta$ vertical velocity (hour '+'{:02d}'.format(t+1)+')',\\\n",
    "           x=0, y=1.02, \\\n",
    "           ha='left', va='bottom', \\\n",
    "           fontsize=fontsize, \\\n",
    "           transform=ax.transAxes)\n",
    "\n",
    "    ax.set_xticks([280,300,320])\n",
    "    ax.set_xticklabels(xticks_format)\n",
    "    ax.set_ylabel('hPa', fontsize=fontsize)\n",
    "    ax.set_facecolor('0.1')\n",
    "    ax.axhline(y=860.,lw=1,ls='--',c='0.1')\n",
    "\n",
    "    fig.tight_layout()\n",
    "\n",
    "    ax_pos = ax.get_position()\n",
    "    cbar_ax = fig.add_axes([ax_pos.x1+0.05, ax_pos.y0, 0.03, ax_pos.height])\n",
    "    cbar = fig.colorbar(contour_plot, cax=cbar_ax)\n",
    "    cbar_ax.tick_params(labelsize=fontsize)\n",
    "    cbar.set_ticks(levels[1::2])\n",
    "    cbar.set_label('mm s$^{\\,-1}$', fontsize=fontsize)\n",
    "\n",
    "    #fig.savefig('mean_vertical_velocity_change_hours18to24.png', dpi=600, bbox_inches='tight')"
   ]
  },
  {
   "cell_type": "markdown",
   "metadata": {},
   "source": [
    "# time mean climatology and differences"
   ]
  },
  {
   "cell_type": "code",
   "execution_count": null,
   "metadata": {
    "ExecuteTime": {
     "end_time": "2018-04-16T21:59:59.291739Z",
     "start_time": "2018-04-16T21:58:48.570Z"
    }
   },
   "outputs": [],
   "source": [
    "fontsize = 12\n",
    "lon_offset = 25.\n",
    "\n",
    "# RAINTOT\n",
    "\n",
    "levels = numpy.arange(-1,1.1,0.25)\n",
    "ax1 = fig.add_subplot(231, projection=cartopy.crs.PlateCarree())\n",
    "ax1.gridlines(ylocs=[0], color='0.25')\n",
    "ax1.coastlines(resolution='110m')\n",
    "ax1.set_extent([xlong.min()+lon_offset, xlong.max(), xlat.min(), xlat.max()], crs=cartopy.crs.PlateCarree())"
   ]
  },
  {
   "cell_type": "code",
   "execution_count": 67,
   "metadata": {
    "ExecuteTime": {
     "end_time": "2018-04-11T21:47:20.683505Z",
     "start_time": "2018-04-11T21:46:21.769871Z"
    }
   },
   "outputs": [],
   "source": [
    "fontsize=12\n",
    "lon_offset = 25.\n",
    "\n",
    "diff_levels = numpy.arange(-1,1.1,0.2)\n",
    "\n",
    "t = 10\n",
    "for t in range(48):#\n",
    "    \n",
    "    fig = mp.figure(figsize=(5,3))\n",
    "    ax1 = fig.add_subplot(111, projection=cartopy.crs.PlateCarree())\n",
    "    ax1.set_extent([xlong.min()+lon_offset, xlong.max(), xlat.min(), xlat.max()], crs=cartopy.crs.PlateCarree())\n",
    "    ax1.coastlines(color='0.1')\n",
    "    contour_plot1 = ax1.contourf(xlong,xlat,qvapor_diffs_vint_alltime[t,:,:], \\\n",
    "                                 levels=diff_levels, \\\n",
    "                                 cmap='RdBu',extend='both')\n",
    "    \n",
    "    ax1.text(s=\"$\\Delta$ column-int. water vapor\", x=0, y=1.01,\\\n",
    "             ha='left', va='bottom', \\\n",
    "             transform=ax1.transAxes, fontsize=fontsize)\n",
    "    ax1.text(s='hour '+'{:02d}'.format(t), x=1, y=1.01, \\\n",
    "             ha='right', va='bottom', transform=ax1.transAxes, \\\n",
    "             fontsize=fontsize)\n",
    "    #ax1.contour(xlong,xlat,qvapor_diffs_vint_alltime[t,:,:],levels=[10,20,30,40,50],colors='1',linewidths=0.25)\n",
    "    \n",
    "    fig.tight_layout()\n",
    "\n",
    "    ax1_pos = ax1.get_position()\n",
    "    cbar1 = mp.colorbar(contour_plot1)\n",
    "    cbar1.ax.tick_params(labelsize=fontsize)\n",
    "    cbar1.set_label('mm', fontsize=fontsize)\n",
    "\n",
    "    fig.savefig('hourly_vint_cwv_change_hour'+ '{:02d}'.format(t)+'.png', dpi=600, bbox_inches='tight', transparent=True)\n",
    "    mp.close()"
   ]
  },
  {
   "cell_type": "code",
   "execution_count": null,
   "metadata": {},
   "outputs": [],
   "source": []
  },
  {
   "cell_type": "code",
   "execution_count": null,
   "metadata": {
    "ExecuteTime": {
     "end_time": "2018-04-16T21:59:59.294367Z",
     "start_time": "2018-04-16T21:59:01.924Z"
    }
   },
   "outputs": [],
   "source": [
    "fontsize=12\n",
    "lon_offset = 25.\n",
    "\n",
    "fig = mp.figure(figsize=(3.25,4.5))\n",
    "\n",
    "clim_levels = numpy.arange(0,56,5)\n",
    "diff_levels = numpy.arange(-1,1.1,0.2)\n",
    "\n",
    "ax1 = fig.add_subplot(211, projection=cartopy.crs.PlateCarree())\n",
    "ax1.set_extent([xlong.min()+lon_offset, xlong.max(), xlat.min(), xlat.max()], crs=cartopy.crs.PlateCarree())\n",
    "ax1.coastlines(color='0.1')\n",
    "contour_plot1 = ax1.contourf(xlong,xlat,cont_prw_time_mean, levels=clim_levels, cmap='YlGnBu',extend='max')\n",
    "ax1.text(s='Climatological column water vapor', x=0, y=1.02,\\\n",
    "         ha='left', va='bottom', \\\n",
    "         transform=ax1.transAxes, fontsize=fontsize)\n",
    "ax1.contour(xlong,xlat,cont_prw_time_mean,levels=[10,20,30,40,50],colors='1',linewidths=0.25)\n",
    "         \n",
    "ax2 = fig.add_subplot(212, projection=cartopy.crs.PlateCarree())\n",
    "ax2.set_extent([xlong.min()+lon_offset, xlong.max(), xlat.min(), xlat.max()], crs=cartopy.crs.PlateCarree())\n",
    "ax2.coastlines(color='0.1')\n",
    "contour_plot2 = ax2.contourf(xlong,xlat,qvapor_vint_diffs_time_mean,levels=diff_levels, cmap='RdBu',extend='both')\n",
    "ax2.text(s='Column water vapor anomalies', x=0, y=1.02,\\\n",
    "         ha='left', va='bottom', \\\n",
    "         transform=ax2.transAxes, fontsize=fontsize)\n",
    "\n",
    "\n",
    "fig.tight_layout(h_pad=2)\n",
    "\n",
    "ax1_pos = ax1.get_position()\n",
    "cbar1_ax = fig.add_axes([ax1_pos.x1+0.01,ax1_pos.y0,0.05,ax1_pos.height])\n",
    "cbar1 = mp.colorbar(contour_plot1, cax=cbar1_ax)\n",
    "cbar1.ax.tick_params(labelsize=fontsize)\n",
    "cbar1.set_label('mm', fontsize=fontsize)\n",
    "\n",
    "ax2_pos = ax2.get_position()\n",
    "cbar2_ax = fig.add_axes([ax2_pos.x1+0.01,ax2_pos.y0,0.05,ax2_pos.height])\n",
    "cbar2 = mp.colorbar(contour_plot2, cax=cbar2_ax)\n",
    "cbar2.ax.tick_params(labelsize=fontsize)\n",
    "cbar2.set_label('mm', fontsize=fontsize)\n",
    "\n",
    "fig.savefig('vint_cwv_clim_and_anomalies_time_mean.png', dpi=600, bbox_inches='tight', transparent=True)"
   ]
  },
  {
   "cell_type": "code",
   "execution_count": 45,
   "metadata": {
    "ExecuteTime": {
     "end_time": "2018-04-11T21:36:47.147096Z",
     "start_time": "2018-04-11T21:36:45.448843Z"
    }
   },
   "outputs": [
    {
     "data": {
      "image/png": "[encoded data removed]",
      "text/plain": [
       "<Figure size 234x324 with 4 Axes>"
      ]
     },
     "metadata": {},
     "output_type": "display_data"
    }
   ],
   "source": [
    "fontsize=12\n",
    "lon_offset = 25.\n",
    "\n",
    "fig = mp.figure(figsize=(3.25,4.5))\n",
    "\n",
    "clim_levels = numpy.arange(0,56,5)\n",
    "diff_levels = numpy.arange(-2,2.1,0.25)\n",
    "\n",
    "ax1 = fig.add_subplot(211, projection=cartopy.crs.PlateCarree())\n",
    "ax1.set_extent([xlong.min()+lon_offset, xlong.max(), xlat.min(), xlat.max()], crs=cartopy.crs.PlateCarree())\n",
    "ax1.coastlines(color='0.1')\n",
    "contour_plot1 = ax1.contourf(xlong,xlat,cont_prw_time_mean, levels=clim_levels, cmap='YlGnBu',extend='max')\n",
    "ax1.text(s='Climatological column water vapor', x=0, y=1.02,\\\n",
    "         ha='left', va='bottom', \\\n",
    "         transform=ax1.transAxes, fontsize=fontsize)\n",
    "ax1.contour(xlong,xlat,cont_prw_time_mean,levels=[10,20,30,40,50],colors='1',linewidths=0.25)\n",
    "         \n",
    "ax2 = fig.add_subplot(212, projection=cartopy.crs.PlateCarree())\n",
    "ax2.set_extent([xlong.min()+lon_offset, xlong.max(), xlat.min(), xlat.max()], crs=cartopy.crs.PlateCarree())\n",
    "ax2.coastlines(color='0.1')\n",
    "contour_plot2 = ax2.contourf(xlong,xlat,(qvapor_vint_diffs_time_mean/cont_prw_time_mean)*100.,\\\n",
    "                             levels=diff_levels, \\\n",
    "                             cmap='RdBu',extend='both')\n",
    "ax2.text(s='Column water vapor anomalies', x=0, y=1.02,\\\n",
    "         ha='left', va='bottom', \\\n",
    "         transform=ax2.transAxes, fontsize=fontsize)\n",
    "\n",
    "\n",
    "fig.tight_layout(h_pad=2)\n",
    "\n",
    "ax1_pos = ax1.get_position()\n",
    "cbar1_ax = fig.add_axes([ax1_pos.x1+0.01,ax1_pos.y0,0.05,ax1_pos.height])\n",
    "cbar1 = mp.colorbar(contour_plot1, cax=cbar1_ax)\n",
    "cbar1.ax.tick_params(labelsize=fontsize)\n",
    "cbar1.set_label('mm', fontsize=fontsize)\n",
    "\n",
    "ax2_pos = ax2.get_position()\n",
    "cbar2_ax = fig.add_axes([ax2_pos.x1+0.01,ax2_pos.y0,0.05,ax2_pos.height])\n",
    "cbar2 = mp.colorbar(contour_plot2, cax=cbar2_ax)\n",
    "cbar2.ax.tick_params(labelsize=fontsize)\n",
    "cbar2.set_label('% change', fontsize=fontsize)\n",
    "cbar2.set_ticks([-2,-1,0,1,2])\n",
    "\n",
    "fig.savefig('vint_cwv_clim_and_anomalies_PERCENT_CHANGE_time_mean.png', dpi=600, bbox_inches='tight', transparent=True)"
   ]
  },
  {
   "cell_type": "markdown",
   "metadata": {},
   "source": [
    "# plot water vapor climatology and differences"
   ]
  },
  {
   "cell_type": "code",
   "execution_count": 46,
   "metadata": {
    "ExecuteTime": {
     "end_time": "2018-04-11T21:36:50.402928Z",
     "start_time": "2018-04-11T21:36:50.372256Z"
    }
   },
   "outputs": [
    {
     "ename": "SyntaxError",
     "evalue": "invalid syntax (<ipython-input-46-23931549a86b>, line 5)",
     "output_type": "error",
     "traceback": [
      "\u001b[0;36m  File \u001b[0;32m\"<ipython-input-46-23931549a86b>\"\u001b[0;36m, line \u001b[0;32m5\u001b[0m\n\u001b[0;31m    levels=\u001b[0m\n\u001b[0m           ^\u001b[0m\n\u001b[0;31mSyntaxError\u001b[0m\u001b[0;31m:\u001b[0m invalid syntax\n"
     ]
    }
   ],
   "source": [
    "fontsize=12\n",
    "\n",
    "fig = mp.figure(figsize=(3,4))\n",
    "\n",
    "levels=\n",
    "contour_levels_left = numpy.arange(-50,51,10)\n",
    "plot_locations = [1,2,6,7,11,12,16,17]\n",
    "ax_list_left = []\n",
    "for i in range(plot_locations.__len__()):\n",
    "    ax = fig.add_subplot(4,5,plot_locations[i], projection=cartopy.crs.PlateCarree())\n",
    "    contour_plot_left = ax.contourf(xlong,xlat,lh_diffs_landmask[i,:,:], levels=contour_levels_left, \\\n",
    "                                    cmap='RdBu', extend='both')\n",
    "    ax.text(s='h '+hour_strings[i], x=0.05, y=0.05, transform=ax.transAxes, ha='left', va='bottom', fontsize=fontsize)\n",
    "    ax.tick_params(labelsize=fontsize)\n",
    "    ax.coastlines(resolution='110m')\n",
    "    ax_list_left.append(ax)\n",
    "ax_list_left[0].text(s='(a) $\\Delta$ latent cooling (3-hr means)', x=0, y=1.02, ha='left', va='bottom', fontsize=fontsize, transform=ax_list_left[0].transAxes)\n",
    "\n"
   ]
  },
  {
   "cell_type": "code",
   "execution_count": null,
   "metadata": {},
   "outputs": [],
   "source": []
  }
 ],
 "metadata": {
  "kernelspec": {
   "display_name": "Python 3",
   "language": "python",
   "name": "python3"
  },
  "language_info": {
   "codemirror_mode": {
    "name": "ipython",
    "version": 3
   },
   "file_extension": ".py",
   "mimetype": "text/x-python",
   "name": "python",
   "nbconvert_exporter": "python",
   "pygments_lexer": "ipython3",
   "version": "3.6.4"
  }
 },
 "nbformat": 4,
 "nbformat_minor": 2
}
