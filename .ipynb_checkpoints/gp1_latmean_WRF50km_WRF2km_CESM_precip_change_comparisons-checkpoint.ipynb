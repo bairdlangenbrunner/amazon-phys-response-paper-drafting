{
 "cells": [
  {
   "cell_type": "code",
   "execution_count": 1,
   "metadata": {
    "ExecuteTime": {
     "end_time": "2018-07-03T02:07:02.901904Z",
     "start_time": "2018-07-03T02:06:41.464857Z"
    }
   },
   "outputs": [],
   "source": [
    "import numpy\n",
    "import xarray\n",
    "import matplotlib\n",
    "import matplotlib.pyplot as mp\n",
    "import datetime\n",
    "import matplotlib.colors\n",
    "import scipy.stats\n",
    "import itertools\n",
    "import string\n",
    "import matplotlib.patches\n",
    "import netCDF4\n",
    "import cftime\n",
    "import seaborn\n",
    "import cmocean\n",
    "import matplotlib.gridspec\n",
    "import scipy.interpolate\n",
    "\n",
    "import glob\n",
    "import pandas\n",
    "\n",
    "import mpl_toolkits\n",
    "import cartopy\n",
    "\n",
    "DEGREE_SIGN = u'\\u00B0'\n",
    "mp.rcParams.update({'mathtext.default': 'regular'})\n",
    "\n",
    "% matplotlib inline"
   ]
  },
  {
   "cell_type": "raw",
   "metadata": {
    "ExecuteTime": {
     "end_time": "2018-06-18T20:10:54.341537Z",
     "start_time": "2018-06-18T20:10:54.029323Z"
    }
   },
   "source": [
    "geo_em_ncfile = xarray.open_dataset('/beegfs/DATA/pritchard/blangenb/WRF_ARCHIVE/CHEYENNE/FMAASO/geo_em.d01_amazon_50km.nc')\n",
    "hgt = geo_em_ncfile.variables['HGT'].data[0,:,:]"
   ]
  },
  {
   "cell_type": "markdown",
   "metadata": {},
   "source": [
    "# 30day runs"
   ]
  },
  {
   "cell_type": "markdown",
   "metadata": {},
   "source": [
    "import cam 400 data"
   ]
  },
  {
   "cell_type": "code",
   "execution_count": 2,
   "metadata": {
    "ExecuteTime": {
     "end_time": "2018-07-03T02:07:03.846572Z",
     "start_time": "2018-07-03T02:07:02.992323Z"
    }
   },
   "outputs": [],
   "source": [
    "cont_fileroot = '/beegfs/DATA/pritchard/blangenb/CESM_ARCHIVE/B_1850_CAM5.30days.cam0400.clm0400.ens_10members/ens_mean_cesm_files/'\n",
    "cont_filename = 'B_1850_CAM5.30days.cam0400.clm0400.ens.cam.h0.0011-03-20-0000_0011-04-20-0000_ens_mean.nc'\n",
    "cont_cam_ds = xarray.open_dataset(cont_fileroot+cont_filename, decode_times=False)"
   ]
  },
  {
   "cell_type": "code",
   "execution_count": 3,
   "metadata": {
    "ExecuteTime": {
     "end_time": "2018-07-03T02:07:04.903517Z",
     "start_time": "2018-07-03T02:07:03.881423Z"
    }
   },
   "outputs": [],
   "source": [
    "topo_filename = 'USGS-gtopo30_1.9x2.5_remap_c050602.nc'\n",
    "topo_fileroot = '/beegfs/DATA/pritchard/blangenb/CESM_ARCHIVE/B_1850_CAM5.30days.cam0400.clm0400.ens_10members/'\n",
    "topo_ds = xarray.open_dataset(topo_fileroot+topo_filename, decode_times=False)"
   ]
  },
  {
   "cell_type": "markdown",
   "metadata": {},
   "source": [
    "calculate latitude information"
   ]
  },
  {
   "cell_type": "code",
   "execution_count": 4,
   "metadata": {
    "ExecuteTime": {
     "end_time": "2018-07-03T02:07:05.530121Z",
     "start_time": "2018-07-03T02:07:04.934373Z"
    }
   },
   "outputs": [],
   "source": [
    "lat_lo = -10.\n",
    "lat_hi = 10.\n",
    "lon_lo = 270.\n",
    "lon_hi = 330."
   ]
  },
  {
   "cell_type": "code",
   "execution_count": 5,
   "metadata": {
    "ExecuteTime": {
     "end_time": "2018-07-03T02:07:12.062871Z",
     "start_time": "2018-07-03T02:07:05.556487Z"
    }
   },
   "outputs": [],
   "source": [
    "lat = cont_cam_ds['lat'].values\n",
    "lon = cont_cam_ds['lon'].values\n",
    "\n",
    "lat_indices = (lat>=lat_lo)&(lat<=lat_hi)\n",
    "lon_indices = (lon>=lon_lo)&(lon<=lon_hi)\n",
    "\n",
    "lat_subset = lat[lat_indices]\n",
    "lon_subset = lon[lon_indices]"
   ]
  },
  {
   "cell_type": "markdown",
   "metadata": {},
   "source": [
    "get land fraction info"
   ]
  },
  {
   "cell_type": "code",
   "execution_count": 7,
   "metadata": {
    "ExecuteTime": {
     "end_time": "2018-07-03T02:07:32.925556Z",
     "start_time": "2018-07-03T02:07:12.098419Z"
    }
   },
   "outputs": [],
   "source": [
    "LANDFRAC = cont_cam_ds['LANDFRAC'].sel(lat=slice(lat_lo,lat_hi),lon=slice(lon_lo,lon_hi)).values[0,:,:]"
   ]
  },
  {
   "cell_type": "markdown",
   "metadata": {},
   "source": [
    "get 400 fields for cam"
   ]
  },
  {
   "cell_type": "code",
   "execution_count": 8,
   "metadata": {
    "ExecuteTime": {
     "end_time": "2018-07-03T02:07:33.470784Z",
     "start_time": "2018-07-03T02:07:32.960424Z"
    }
   },
   "outputs": [],
   "source": [
    "PRECC_400_30d = cont_cam_ds['PRECC'].sel(lat=slice(lat_lo,lat_hi),lon=slice(lon_lo,lon_hi)).values\n",
    "PRECL_400_30d = cont_cam_ds['PRECL'].sel(lat=slice(lat_lo,lat_hi),lon=slice(lon_lo,lon_hi)).values"
   ]
  },
  {
   "cell_type": "markdown",
   "metadata": {},
   "source": [
    "import cam 1000 data"
   ]
  },
  {
   "cell_type": "code",
   "execution_count": 9,
   "metadata": {
    "ExecuteTime": {
     "end_time": "2018-07-03T02:07:34.215703Z",
     "start_time": "2018-07-03T02:07:33.506422Z"
    }
   },
   "outputs": [],
   "source": [
    "phys_fileroot = '/beegfs/DATA/pritchard/blangenb/CESM_ARCHIVE/B_1850_CAM5.30days.cam0400.clm1000.ens_10members/ens_mean_cesm_files/'\n",
    "phys_filename = 'B_1850_CAM5.30days.cam0400.clm1000.ens.cam.h0.0011-03-20-0000_0011-04-20-0000_ens_mean.nc'\n",
    "phys_cam_ds = xarray.open_dataset(phys_fileroot+phys_filename, decode_times=False)"
   ]
  },
  {
   "cell_type": "markdown",
   "metadata": {},
   "source": [
    "get 1000 fields for cam"
   ]
  },
  {
   "cell_type": "code",
   "execution_count": 10,
   "metadata": {
    "ExecuteTime": {
     "end_time": "2018-07-03T02:07:34.755951Z",
     "start_time": "2018-07-03T02:07:34.251422Z"
    }
   },
   "outputs": [],
   "source": [
    "PRECC_1000_30d = phys_cam_ds['PRECC'].sel(lat=slice(lat_lo,lat_hi),lon=slice(lon_lo,lon_hi)).values\n",
    "PRECL_1000_30d = phys_cam_ds['PRECL'].sel(lat=slice(lat_lo,lat_hi),lon=slice(lon_lo,lon_hi)).values"
   ]
  },
  {
   "cell_type": "markdown",
   "metadata": {},
   "source": [
    "convert time information"
   ]
  },
  {
   "cell_type": "code",
   "execution_count": 11,
   "metadata": {
    "ExecuteTime": {
     "end_time": "2018-07-03T02:07:34.907103Z",
     "start_time": "2018-07-03T02:07:34.791426Z"
    }
   },
   "outputs": [],
   "source": [
    "time_400 = cont_cam_ds['time']\n",
    "time_converted = netCDF4.num2date(time_400.values, time_400.units, time_400.calendar)\n",
    "\n",
    "time_manual = []\n",
    "for t_idx in range(time_converted.size):\n",
    "    year=time_converted[t_idx].year\n",
    "    month=time_converted[t_idx].month\n",
    "    day=time_converted[t_idx].day\n",
    "    hour=time_converted[t_idx].hour\n",
    "    minute=time_converted[t_idx].minute\n",
    "    hour_round = round(hour+minute/60)\n",
    "    time_manual.append(cftime.DatetimeNoLeap(year,month,day,hour_round))"
   ]
  },
  {
   "cell_type": "markdown",
   "metadata": {},
   "source": [
    "specify timing"
   ]
  },
  {
   "cell_type": "code",
   "execution_count": 12,
   "metadata": {
    "ExecuteTime": {
     "end_time": "2018-07-03T02:07:35.247601Z",
     "start_time": "2018-07-03T02:07:34.942420Z"
    }
   },
   "outputs": [],
   "source": [
    "skip_time = 24\n",
    "#end_time = 745"
   ]
  },
  {
   "cell_type": "markdown",
   "metadata": {},
   "source": [
    "calculate PRECT diffs"
   ]
  },
  {
   "cell_type": "code",
   "execution_count": 13,
   "metadata": {
    "ExecuteTime": {
     "end_time": "2018-07-03T02:07:35.866786Z",
     "start_time": "2018-07-03T02:07:35.274419Z"
    }
   },
   "outputs": [],
   "source": [
    "PRECT_400_30d = PRECC_400_30d+PRECL_400_30d\n",
    "PRECT_1000_30d = PRECC_1000_30d+PRECL_1000_30d"
   ]
  },
  {
   "cell_type": "code",
   "execution_count": 14,
   "metadata": {
    "ExecuteTime": {
     "end_time": "2018-07-03T02:07:36.293586Z",
     "start_time": "2018-07-03T02:07:35.902428Z"
    }
   },
   "outputs": [],
   "source": [
    "PRECT_1000_timemean_10day = numpy.mean(PRECT_1000_30d[skip_time:240,:,:], axis=0)\n",
    "PRECT_1000_timemean_10day_landmask = numpy.copy(PRECT_1000_timemean_10day)\n",
    "PRECT_1000_timemean_10day_landmask[LANDFRAC==0] = numpy.nan\n",
    "\n",
    "PRECT_400_timemean_10day = numpy.nanmean(PRECT_400_30d[skip_time:240,:,:], axis=0)\n",
    "PRECT_400_timemean_10day_landmask = numpy.copy(PRECT_400_timemean_10day)\n",
    "PRECT_400_timemean_10day_landmask[LANDFRAC==0] = numpy.nan"
   ]
  },
  {
   "cell_type": "code",
   "execution_count": 15,
   "metadata": {
    "ExecuteTime": {
     "end_time": "2018-07-03T02:07:36.506551Z",
     "start_time": "2018-07-03T02:07:36.331464Z"
    }
   },
   "outputs": [],
   "source": [
    "PRECT_1000_timemean_30day = numpy.mean(PRECT_1000_30d[skip_time:,:,:], axis=0)\n",
    "PRECT_1000_timemean_30day_landmask = numpy.copy(PRECT_1000_timemean_30day)\n",
    "PRECT_1000_timemean_30day_landmask[LANDFRAC==0] = numpy.nan\n",
    "\n",
    "PRECT_400_timemean_30day = numpy.nanmean(PRECT_400_30d[skip_time:,:,:], axis=0)\n",
    "PRECT_400_timemean_30day_landmask = numpy.copy(PRECT_400_timemean_30day)\n",
    "PRECT_400_timemean_30day_landmask[LANDFRAC==0] = numpy.nan"
   ]
  },
  {
   "cell_type": "markdown",
   "metadata": {},
   "source": [
    "get topography info"
   ]
  },
  {
   "cell_type": "code",
   "execution_count": 16,
   "metadata": {
    "ExecuteTime": {
     "end_time": "2018-07-03T02:07:36.752286Z",
     "start_time": "2018-07-03T02:07:36.538187Z"
    }
   },
   "outputs": [],
   "source": [
    "topo_data = topo_ds['PHIS'].sel(lat=slice(lat_lo,lat_hi),lon=slice(lon_lo,lon_hi)).values/9.80665"
   ]
  },
  {
   "cell_type": "code",
   "execution_count": 17,
   "metadata": {
    "ExecuteTime": {
     "end_time": "2018-07-03T02:07:37.003644Z",
     "start_time": "2018-07-03T02:07:36.788423Z"
    }
   },
   "outputs": [
    {
     "name": "stderr",
     "output_type": "stream",
     "text": [
      "/export/home/blangenb/miniconda3/lib/python3.6/site-packages/ipykernel_launcher.py:3: RuntimeWarning: Mean of empty slice\n",
      "  This is separate from the ipykernel package so we can avoid doing imports until\n"
     ]
    }
   ],
   "source": [
    "topo_data_landmask = numpy.copy(topo_data)\n",
    "topo_data_landmask[LANDFRAC==0] = numpy.nan\n",
    "topo_data_latmean = numpy.nanmean(topo_data_landmask, axis=0)"
   ]
  },
  {
   "cell_type": "markdown",
   "metadata": {},
   "source": [
    "# 10year simulations"
   ]
  },
  {
   "cell_type": "markdown",
   "metadata": {},
   "source": [
    "400 clm runs"
   ]
  },
  {
   "cell_type": "code",
   "execution_count": 18,
   "metadata": {
    "ExecuteTime": {
     "end_time": "2018-07-03T02:11:56.361385Z",
     "start_time": "2018-07-03T02:07:37.033425Z"
    }
   },
   "outputs": [],
   "source": [
    "data_dir = '/beegfs/DATA/pritchard/blangenb/CESM_ARCHIVE/B_1850_CAM5.10years.cam0400.clm0400/'\n",
    "cont_cam_mfds = xarray.open_mfdataset(data_dir + 'atm/hist/*.nc', decode_times=False)"
   ]
  },
  {
   "cell_type": "code",
   "execution_count": 19,
   "metadata": {
    "ExecuteTime": {
     "end_time": "2018-07-03T02:14:07.698257Z",
     "start_time": "2018-07-03T02:11:56.392624Z"
    }
   },
   "outputs": [],
   "source": [
    "PRECC_400_10y = cont_cam_mfds['PRECC'].sel(lat=slice(lat_lo,lat_hi),lon=slice(lon_lo,lon_hi)).values\n",
    "PRECL_400_10y = cont_cam_mfds['PRECL'].sel(lat=slice(lat_lo,lat_hi),lon=slice(lon_lo,lon_hi)).values\n",
    "PRECT_400_10y = PRECC_400_10y+PRECL_400_10y"
   ]
  },
  {
   "cell_type": "markdown",
   "metadata": {},
   "source": [
    "1000 clm runs"
   ]
  },
  {
   "cell_type": "code",
   "execution_count": 20,
   "metadata": {
    "ExecuteTime": {
     "end_time": "2018-07-03T02:18:49.596191Z",
     "start_time": "2018-07-03T02:14:07.734426Z"
    }
   },
   "outputs": [
    {
     "name": "stderr",
     "output_type": "stream",
     "text": [
      "/export/home/blangenb/miniconda3/lib/python3.6/site-packages/xarray/coding/times.py:132: SerializationWarning: Unable to decode time axis into full numpy.datetime64 objects, continuing using dummy cftime.datetime objects instead, reason: dates out of range\n",
      "  enable_cftimeindex)\n",
      "/export/home/blangenb/miniconda3/lib/python3.6/site-packages/xarray/coding/variables.py:66: SerializationWarning: Unable to decode time axis into full numpy.datetime64 objects, continuing using dummy cftime.datetime objects instead, reason: dates out of range\n",
      "  return self.func(self.array[key])\n"
     ]
    }
   ],
   "source": [
    "data_dir = '/beegfs/DATA/pritchard/blangenb/CESM_ARCHIVE/B_1850_CAM5.10years.cam0400.clm1000/'\n",
    "phys_cam_mfds = xarray.open_mfdataset(data_dir + 'atm/hist/*.nc')#, decode_times=False)"
   ]
  },
  {
   "cell_type": "code",
   "execution_count": 21,
   "metadata": {
    "ExecuteTime": {
     "end_time": "2018-07-03T02:21:03.567533Z",
     "start_time": "2018-07-03T02:18:49.638427Z"
    }
   },
   "outputs": [],
   "source": [
    "PRECC_1000_10y = phys_cam_mfds['PRECC'].sel(lat=slice(lat_lo,lat_hi),lon=slice(lon_lo,lon_hi)).values\n",
    "PRECL_1000_10y = phys_cam_mfds['PRECL'].sel(lat=slice(lat_lo,lat_hi),lon=slice(lon_lo,lon_hi)).values\n",
    "PRECT_1000_10y = PRECC_1000_10y+PRECL_1000_10y"
   ]
  },
  {
   "cell_type": "markdown",
   "metadata": {},
   "source": [
    "take time averages"
   ]
  },
  {
   "cell_type": "code",
   "execution_count": 22,
   "metadata": {
    "ExecuteTime": {
     "end_time": "2018-07-03T02:21:03.655129Z",
     "start_time": "2018-07-03T02:21:03.598627Z"
    }
   },
   "outputs": [],
   "source": [
    "PRECT_400_timemean_10year = numpy.mean(PRECT_400_10y, axis=0)\n",
    "PRECT_1000_timemean_10year = numpy.mean(PRECT_1000_10y, axis=0)"
   ]
  },
  {
   "cell_type": "code",
   "execution_count": 23,
   "metadata": {
    "ExecuteTime": {
     "end_time": "2018-07-03T02:21:04.044364Z",
     "start_time": "2018-07-03T02:21:03.690462Z"
    }
   },
   "outputs": [],
   "source": [
    "PRECT_400_timemean_10year_landmask = numpy.copy(PRECT_400_timemean_10year)\n",
    "PRECT_1000_timemean_10year_landmask = numpy.copy(PRECT_1000_timemean_10year)\n",
    "\n",
    "PRECT_400_timemean_10year_landmask[LANDFRAC==0] = numpy.nan\n",
    "PRECT_1000_timemean_10year_landmask[LANDFRAC==0] = numpy.nan"
   ]
  },
  {
   "cell_type": "markdown",
   "metadata": {},
   "source": [
    "# calculate all differences"
   ]
  },
  {
   "cell_type": "code",
   "execution_count": 24,
   "metadata": {
    "ExecuteTime": {
     "end_time": "2018-07-03T02:21:04.203192Z",
     "start_time": "2018-07-03T02:21:04.065738Z"
    }
   },
   "outputs": [],
   "source": [
    "PRECT_diffs_10day = PRECT_1000_timemean_10day_landmask-PRECT_400_timemean_10day_landmask\n",
    "PRECT_diffs_30day = PRECT_1000_timemean_30day_landmask-PRECT_400_timemean_30day_landmask\n",
    "PRECT_diffs_10year = PRECT_1000_timemean_10year_landmask-PRECT_400_timemean_10year_landmask"
   ]
  },
  {
   "cell_type": "markdown",
   "metadata": {},
   "source": [
    "# wrf 50km runs"
   ]
  },
  {
   "cell_type": "markdown",
   "metadata": {},
   "source": [
    "## 400 data"
   ]
  },
  {
   "cell_type": "code",
   "execution_count": 25,
   "metadata": {
    "ExecuteTime": {
     "end_time": "2018-07-03T02:21:05.314911Z",
     "start_time": "2018-07-03T02:21:04.235421Z"
    }
   },
   "outputs": [],
   "source": [
    "root_dir = '/beegfs/DATA/pritchard/blangenb/WRF_ARCHIVE/CHEYENNE/FMAASO/400/ens_mean_wrfout_files'\n",
    "file_list = glob.glob(root_dir+'/'+'wrfout*.nc')\n",
    "ds_list = [netCDF4.Dataset(file) for file in file_list]"
   ]
  },
  {
   "cell_type": "code",
   "execution_count": 26,
   "metadata": {
    "ExecuteTime": {
     "end_time": "2018-07-03T02:21:28.085745Z",
     "start_time": "2018-07-03T02:21:05.350425Z"
    }
   },
   "outputs": [],
   "source": [
    "cont_mfds = xarray.open_mfdataset(root_dir + '/' + 'wrfout*.nc')"
   ]
  },
  {
   "cell_type": "code",
   "execution_count": 27,
   "metadata": {
    "ExecuteTime": {
     "end_time": "2018-07-03T02:21:31.401290Z",
     "start_time": "2018-07-03T02:21:28.121421Z"
    }
   },
   "outputs": [],
   "source": [
    "rainc_400 = cont_mfds['RAINC'].values\n",
    "rainnc_400 = cont_mfds['RAINNC'].values"
   ]
  },
  {
   "cell_type": "code",
   "execution_count": 28,
   "metadata": {
    "ExecuteTime": {
     "end_time": "2018-07-03T02:21:35.955455Z",
     "start_time": "2018-07-03T02:21:31.433844Z"
    }
   },
   "outputs": [],
   "source": [
    "xlat = cont_mfds['XLAT'].values[0,:,:]\n",
    "xlong = cont_mfds['XLONG'].values[0,:,:]\n",
    "landmask = cont_mfds['LANDMASK'].values[0,:,:]\n",
    "landmask_midpoints = landmask[1:,1:]"
   ]
  },
  {
   "cell_type": "code",
   "execution_count": 29,
   "metadata": {
    "ExecuteTime": {
     "end_time": "2018-07-03T02:21:36.023748Z",
     "start_time": "2018-07-03T02:21:35.987005Z"
    }
   },
   "outputs": [],
   "source": [
    "xlat_indices = (xlat>=-10)&(xlat<=10.)"
   ]
  },
  {
   "cell_type": "code",
   "execution_count": 30,
   "metadata": {
    "ExecuteTime": {
     "end_time": "2018-07-03T02:21:39.284687Z",
     "start_time": "2018-07-03T02:07:03.800Z"
    }
   },
   "outputs": [],
   "source": [
    "hgt_50km = cont_mfds['HGT'].sel(Time=0).values"
   ]
  },
  {
   "cell_type": "code",
   "execution_count": 31,
   "metadata": {
    "ExecuteTime": {
     "end_time": "2018-07-03T02:21:39.324340Z",
     "start_time": "2018-07-03T02:07:03.933Z"
    }
   },
   "outputs": [
    {
     "ename": "IndexError",
     "evalue": "too many indices for array",
     "output_type": "error",
     "traceback": [
      "\u001b[0;31m------------------------------------------------\u001b[0m",
      "\u001b[0;31mIndexError\u001b[0m     Traceback (most recent call last)",
      "\u001b[0;32m<ipython-input-31-848ad1725988>\u001b[0m in \u001b[0;36m<module>\u001b[0;34m()\u001b[0m\n\u001b[1;32m      2\u001b[0m \u001b[0mhgt_50km_landmask\u001b[0m\u001b[0;34m[\u001b[0m\u001b[0mlandmask\u001b[0m\u001b[0;34m==\u001b[0m\u001b[0;36m0\u001b[0m\u001b[0;34m]\u001b[0m \u001b[0;34m=\u001b[0m \u001b[0mnumpy\u001b[0m\u001b[0;34m.\u001b[0m\u001b[0mnan\u001b[0m\u001b[0;34m\u001b[0m\u001b[0m\n\u001b[1;32m      3\u001b[0m \u001b[0;34m\u001b[0m\u001b[0m\n\u001b[0;32m----> 4\u001b[0;31m \u001b[0mhgt_50km_landmask_lat_subset\u001b[0m \u001b[0;34m=\u001b[0m \u001b[0mhgt_50km_landmask\u001b[0m\u001b[0;34m[\u001b[0m\u001b[0mxlat_indices\u001b[0m\u001b[0;34m,\u001b[0m\u001b[0;34m:\u001b[0m\u001b[0;34m]\u001b[0m\u001b[0;34m\u001b[0m\u001b[0m\n\u001b[0m\u001b[1;32m      5\u001b[0m \u001b[0mhgt_50km_latmean\u001b[0m \u001b[0;34m=\u001b[0m \u001b[0mnumpy\u001b[0m\u001b[0;34m.\u001b[0m\u001b[0mnanmean\u001b[0m\u001b[0;34m(\u001b[0m\u001b[0mhgt_50km_landmask_lat_subset\u001b[0m\u001b[0;34m,\u001b[0m \u001b[0maxis\u001b[0m\u001b[0;34m=\u001b[0m\u001b[0;36m0\u001b[0m\u001b[0;34m)\u001b[0m\u001b[0;34m\u001b[0m\u001b[0m\n",
      "\u001b[0;31mIndexError\u001b[0m: too many indices for array"
     ]
    }
   ],
   "source": [
    "hgt_50km_landmask = numpy.copy(hgt_50km)\n",
    "hgt_50km_landmask[landmask==0] = numpy.nan\n",
    "\n",
    "hgt_50km_landmask_lat_subset = hgt_50km_landmask[xlat_indices,:]\n",
    "hgt_50km_latmean = numpy.nanmean(hgt_50km_landmask_lat_subset, axis=0)"
   ]
  },
  {
   "cell_type": "markdown",
   "metadata": {},
   "source": [
    "## 1000 data"
   ]
  },
  {
   "cell_type": "code",
   "execution_count": null,
   "metadata": {
    "ExecuteTime": {
     "end_time": "2018-07-03T02:21:39.370572Z",
     "start_time": "2018-07-03T02:07:04.501Z"
    }
   },
   "outputs": [],
   "source": [
    "root_dir = '/beegfs/DATA/pritchard/blangenb/WRF_ARCHIVE/CHEYENNE/FMAASO/1000/ens_mean_wrfout_files'\n",
    "file_list = glob.glob(root_dir+'/'+'wrfout*.nc')\n",
    "ds_list = [netCDF4.Dataset(file) for file in file_list]"
   ]
  },
  {
   "cell_type": "code",
   "execution_count": null,
   "metadata": {
    "ExecuteTime": {
     "end_time": "2018-07-03T02:21:39.389118Z",
     "start_time": "2018-07-03T02:07:04.832Z"
    }
   },
   "outputs": [],
   "source": [
    "phys_mfds = xarray.open_mfdataset(root_dir + '/' + 'wrfout*.nc')"
   ]
  },
  {
   "cell_type": "code",
   "execution_count": null,
   "metadata": {
    "ExecuteTime": {
     "end_time": "2018-07-03T02:21:39.439341Z",
     "start_time": "2018-07-03T02:07:05.060Z"
    }
   },
   "outputs": [],
   "source": [
    "rainc_1000 = phys_mfds['RAINC'].values\n",
    "rainnc_1000 = phys_mfds['RAINNC'].values"
   ]
  },
  {
   "cell_type": "markdown",
   "metadata": {},
   "source": [
    "## calculate WRF differences"
   ]
  },
  {
   "cell_type": "code",
   "execution_count": null,
   "metadata": {
    "ExecuteTime": {
     "end_time": "2018-07-03T02:21:39.469345Z",
     "start_time": "2018-07-03T02:07:05.444Z"
    }
   },
   "outputs": [],
   "source": [
    "raintot_400 = rainc_400+rainnc_400\n",
    "raintot_1000 = rainc_1000+rainnc_1000\n",
    "\n",
    "raintot_400_diff = numpy.zeros((raintot_400.shape))*numpy.nan\n",
    "raintot_400_diff[:-1,:,:] = numpy.diff(raintot_400, axis=0)#*(24./3) # convert to mm/day\n",
    "\n",
    "raintot_1000_diff = numpy.zeros((raintot_1000.shape))*numpy.nan\n",
    "raintot_1000_diff[:-1,:,:] = numpy.diff(raintot_1000, axis=0)#*(24./3) # convert to mm/day\n",
    "\n",
    "# monthly mean\n",
    "raintot_diffs_time_mean = numpy.nanmean(raintot_1000_diff[skip_time:,:,:] - raintot_400_diff[skip_time:,:,:], axis=0)\n",
    "raintot_diffs_time_mean_landmask = numpy.copy(raintot_diffs_time_mean)\n",
    "raintot_diffs_time_mean_landmask[landmask==0] = numpy.nan\n",
    "\n",
    "raintot_400_time_mean = numpy.nanmean(raintot_400_diff[skip_time:,:,:], axis=0)\n",
    "raintot_400_time_mean_landmask = numpy.copy(raintot_400_time_mean)\n",
    "raintot_400_time_mean_landmask[landmask==0] = numpy.nan\n"
   ]
  },
  {
   "cell_type": "markdown",
   "metadata": {},
   "source": [
    "# import WRF 2km days 2-10"
   ]
  },
  {
   "cell_type": "code",
   "execution_count": null,
   "metadata": {
    "ExecuteTime": {
     "end_time": "2018-07-03T04:13:11.606454Z",
     "start_time": "2018-07-03T04:12:37.649850Z"
    }
   },
   "outputs": [],
   "source": [
    "data_dir = '/beegfs/DATA/pritchard/blangenb/WRF_ARCHIVE/CHEYENNE/nested_FMAASO_10days/400/001/'\n",
    "cont_mfds_2km = xarray.open_mfdataset(data_dir + 'wrfout_d03_1979-01-0[2,3,4,5,6,7,8,9]*')"
   ]
  },
  {
   "cell_type": "code",
   "execution_count": null,
   "metadata": {
    "ExecuteTime": {
     "end_time": "2018-07-03T04:13:59.539246Z",
     "start_time": "2018-07-03T04:13:23.201435Z"
    }
   },
   "outputs": [],
   "source": [
    "data_dir = '/beegfs/DATA/pritchard/blangenb/WRF_ARCHIVE/CHEYENNE/nested_FMAASO_10days/1000/001/'\n",
    "phys_mfds_2km = xarray.open_mfdataset(data_dir + 'wrfout_d03_1979-01-0[2,3,4,5,6,7,8,9]*')"
   ]
  },
  {
   "cell_type": "code",
   "execution_count": null,
   "metadata": {
    "ExecuteTime": {
     "end_time": "2018-07-03T04:14:13.590447Z",
     "start_time": "2018-07-03T04:14:13.546453Z"
    }
   },
   "outputs": [],
   "source": [
    "raintot_400_2km = cont_mfds_2km['RAINNC']\n",
    "raintot_1000_2km = phys_mfds_2km['RAINNC']"
   ]
  },
  {
   "cell_type": "code",
   "execution_count": null,
   "metadata": {
    "ExecuteTime": {
     "end_time": "2018-07-03T04:16:30.230990Z",
     "start_time": "2018-07-03T04:14:27.466443Z"
    }
   },
   "outputs": [],
   "source": [
    "raintot_400_2km_diffs = raintot_400_2km.diff(dim='Time').values\n",
    "raintot_1000_2km_diffs = raintot_1000_2km.diff(dim='Time').values"
   ]
  },
  {
   "cell_type": "code",
   "execution_count": null,
   "metadata": {
    "ExecuteTime": {
     "end_time": "2018-07-03T04:17:07.700095Z",
     "start_time": "2018-07-03T04:16:45.418440Z"
    }
   },
   "outputs": [],
   "source": [
    "raintot_400_2km_time_mean = numpy.nanmean(raintot_400_2km_diffs[skip_time:,:,:], axis=0)\n",
    "raintot_1000_2km_time_mean = numpy.nanmean(raintot_1000_2km_diffs[skip_time:,:,:], axis=0)\n",
    "\n",
    "raintot_diffs_2km_time_mean = raintot_1000_2km_time_mean-raintot_400_2km_time_mean"
   ]
  },
  {
   "cell_type": "code",
   "execution_count": null,
   "metadata": {
    "ExecuteTime": {
     "end_time": "2018-07-03T04:18:49.264458Z",
     "start_time": "2018-07-03T04:17:21.772438Z"
    }
   },
   "outputs": [],
   "source": [
    "landmask_2km = cont_mfds_2km['LANDMASK'].values[0,:,:]"
   ]
  },
  {
   "cell_type": "code",
   "execution_count": null,
   "metadata": {
    "ExecuteTime": {
     "end_time": "2018-06-18T20:31:40.117649Z",
     "start_time": "2018-06-18T20:31:40.101081Z"
    }
   },
   "outputs": [],
   "source": [
    "raintot_diffs_2km_time_mean_landmask = numpy.copy(raintot_diffs_2km_time_mean)\n",
    "raintot_diffs_2km_time_mean_landmask[landmask_2km==0] = numpy.nan"
   ]
  },
  {
   "cell_type": "code",
   "execution_count": null,
   "metadata": {
    "ExecuteTime": {
     "end_time": "2018-06-19T06:08:42.413185Z",
     "start_time": "2018-06-19T06:07:42.797464Z"
    }
   },
   "outputs": [],
   "source": [
    "xlat_2km = cont_mfds_2km['XLAT'].values[0,:,:]\n",
    "xlong_2km = cont_mfds_2km['XLONG'].values[0,:,:]"
   ]
  },
  {
   "cell_type": "code",
   "execution_count": null,
   "metadata": {
    "ExecuteTime": {
     "end_time": "2018-06-21T15:32:11.690769Z",
     "start_time": "2018-06-21T15:32:11.271385Z"
    }
   },
   "outputs": [],
   "source": [
    "hgt_2km = cont_mfds_2km['HGT'].sel(Time=0).values"
   ]
  },
  {
   "cell_type": "code",
   "execution_count": null,
   "metadata": {
    "ExecuteTime": {
     "end_time": "2018-06-21T15:33:05.055949Z",
     "start_time": "2018-06-21T15:33:05.024929Z"
    }
   },
   "outputs": [],
   "source": [
    "hgt_2km_landmask = numpy.copy(hgt_2km)\n",
    "hgt_2km_landmask[landmask_2km==0] = numpy.nan\n",
    "hgt_2km_latmean = numpy.nanmean(hgt_2km_landmask, axis=0)"
   ]
  },
  {
   "cell_type": "markdown",
   "metadata": {},
   "source": [
    "# import WRF 2km day 1"
   ]
  },
  {
   "cell_type": "raw",
   "metadata": {
    "ExecuteTime": {
     "end_time": "2018-06-12T17:13:30.990430Z",
     "start_time": "2018-06-12T17:13:23.169426Z"
    }
   },
   "source": [
    "data_dir = '/beegfs/DATA/pritchard/blangenb/WRF_ARCHIVE/CHEYENNE/nested_FMAASO_10days/400/001/'\n",
    "cont_mfds_2km_day1 = xarray.open_mfdataset(data_dir + 'wrfout_d03_1979-01-01*')"
   ]
  },
  {
   "cell_type": "raw",
   "metadata": {
    "ExecuteTime": {
     "end_time": "2018-06-12T17:14:01.431700Z",
     "start_time": "2018-06-12T17:13:53.705612Z"
    }
   },
   "source": [
    "data_dir = '/beegfs/DATA/pritchard/blangenb/WRF_ARCHIVE/CHEYENNE/nested_FMAASO_10days/1000/001/'\n",
    "phys_mfds_2km_day1 = xarray.open_mfdataset(data_dir + 'wrfout_d03_1979-01-01*')"
   ]
  },
  {
   "cell_type": "raw",
   "metadata": {
    "ExecuteTime": {
     "end_time": "2018-06-12T17:14:26.476781Z",
     "start_time": "2018-06-12T17:14:26.434436Z"
    }
   },
   "source": [
    "raintot_400_2km_day1 = cont_mfds_2km_day1['RAINNC']\n",
    "raintot_1000_2km_day1 = phys_mfds_2km_day1['RAINNC']"
   ]
  },
  {
   "cell_type": "raw",
   "metadata": {
    "ExecuteTime": {
     "end_time": "2018-06-12T17:14:52.558781Z",
     "start_time": "2018-06-12T17:14:52.439418Z"
    }
   },
   "source": [
    "raintot_400_2km_day1_diffs = raintot_400_2km_day1.diff(dim='Time')#.values\n",
    "raintot_1000_2km_day1_diffs = raintot_400_2km_day1.diff(dim='Time')#.values"
   ]
  },
  {
   "cell_type": "raw",
   "metadata": {
    "ExecuteTime": {
     "end_time": "2018-06-12T17:20:51.926434Z",
     "start_time": "2018-06-12T17:20:51.868990Z"
    }
   },
   "source": [
    "raintot_400_2km_day1_diffs_time_mean = raintot_400_2km_day1_diffs.mean(dim='Time')\n",
    "raintot_1000_2km_day1_diffs_time_mean = raintot_400_2km_day1_diffs.mean(dim='Time')"
   ]
  },
  {
   "cell_type": "markdown",
   "metadata": {},
   "source": [
    "# create plots"
   ]
  },
  {
   "cell_type": "markdown",
   "metadata": {},
   "source": [
    "# calculate lat means"
   ]
  },
  {
   "cell_type": "code",
   "execution_count": null,
   "metadata": {
    "ExecuteTime": {
     "end_time": "2018-06-19T06:18:23.195860Z",
     "start_time": "2018-06-19T06:18:23.170484Z"
    }
   },
   "outputs": [],
   "source": [
    "raintot_diffs_2km_latmean = numpy.nanmean(raintot_diffs_2km_time_mean, axis=0)"
   ]
  },
  {
   "cell_type": "code",
   "execution_count": null,
   "metadata": {
    "ExecuteTime": {
     "end_time": "2018-06-21T15:22:54.976644Z",
     "start_time": "2018-06-21T15:22:54.966691Z"
    }
   },
   "outputs": [],
   "source": [
    "raintot_diffs_time_mean_landmask.shape"
   ]
  },
  {
   "cell_type": "code",
   "execution_count": null,
   "metadata": {
    "ExecuteTime": {
     "end_time": "2018-06-21T15:23:10.782364Z",
     "start_time": "2018-06-21T15:23:10.748995Z"
    }
   },
   "outputs": [],
   "source": [
    "raintot_diffs_latmean = numpy.nanmean(raintot_diffs_time_mean_landmask[(xlat[:,0]>=-10)&(xlat[:,0]<=10),:], axis=0)\n",
    "raintot_diffs_2km_latmean = numpy.nanmean(raintot_diffs_2km_time_mean, axis=0)\n",
    "PRECT_diffs_10day_latmean = numpy.nanmean(PRECT_diffs_10day[(lat_subset>=-10)&(lat_subset<=10),:], axis=0)\n",
    "PRECT_diffs_30day_latmean = numpy.nanmean(PRECT_diffs_30day[(lat_subset>=-10)&(lat_subset<=10),:], axis=0)\n",
    "PRECT_diffs_10year_latmean = numpy.nanmean(PRECT_diffs_10year[(lat_subset>=-10)&(lat_subset<=10),:], axis=0)"
   ]
  },
  {
   "cell_type": "code",
   "execution_count": null,
   "metadata": {
    "ExecuteTime": {
     "end_time": "2018-06-19T06:18:27.313316Z",
     "start_time": "2018-06-19T06:18:27.227292Z"
    }
   },
   "outputs": [],
   "source": [
    "raintot_diffs_latstd = numpy.nanstd(raintot_diffs_time_mean_landmask[(xlat[:,0]>=-10)&(xlat[:,0]<=10),:], axis=0, ddof=1)\n",
    "raintot_diffs_2km_latstd = numpy.nanstd(raintot_diffs_2km_time_mean, axis=0, ddof=1)\n",
    "PRECT_diffs_10day_latstd = numpy.nanstd(PRECT_diffs_10day[(lat_subset>=-10)&(lat_subset<=10),:], axis=0, ddof=1)\n",
    "PRECT_diffs_30day_latstd = numpy.nanstd(PRECT_diffs_30day[(lat_subset>=-10)&(lat_subset<=10),:], axis=0, ddof=1)\n",
    "PRECT_diffs_10year_latstd = numpy.nanstd(PRECT_diffs_10year[(lat_subset>=-10)&(lat_subset<=10),:], axis=0, ddof=1)\n",
    "\n"
   ]
  },
  {
   "cell_type": "code",
   "execution_count": null,
   "metadata": {
    "ExecuteTime": {
     "end_time": "2018-06-19T06:18:33.207432Z",
     "start_time": "2018-06-19T06:18:33.199373Z"
    }
   },
   "outputs": [],
   "source": [
    "raintot_diffs_latstderr = raintot_diffs_latstd/numpy.sqrt(xlat[:,0].size)\n",
    "raintot_diffs_2km_latstderr = raintot_diffs_2km_latstd/numpy.sqrt(xlat_2km[:,0].size)\n",
    "PRECT_diffs_10day_latstderr = PRECT_diffs_10day_latstd/numpy.sqrt(lat_subset.size)\n",
    "PRECT_diffs_30day_latstderr = PRECT_diffs_30day_latstd/numpy.sqrt(lat_subset.size)\n",
    "PRECT_diffs_10year_latstderr = PRECT_diffs_10year_latstd/numpy.sqrt(lat_subset.size)\n",
    "\n"
   ]
  },
  {
   "cell_type": "code",
   "execution_count": null,
   "metadata": {
    "ExecuteTime": {
     "end_time": "2018-06-19T06:18:35.128726Z",
     "start_time": "2018-06-19T06:18:35.115315Z"
    }
   },
   "outputs": [],
   "source": [
    "raintot_diffs_latmean_smooth = pandas.Series(raintot_diffs_latmean).rolling(window=3, center=True, min_periods=0).mean()\n",
    "raintot_diffs_2km_latmean_smooth = pandas.Series(raintot_diffs_2km_latmean).rolling(window=75, center=True, min_periods=0).mean()\n",
    "PRECT_diffs_10day_latmean_smooth = pandas.Series(PRECT_diffs_10day_latmean).rolling(window=3, center=True, min_periods=0).mean()\n",
    "\n"
   ]
  },
  {
   "cell_type": "code",
   "execution_count": null,
   "metadata": {
    "ExecuteTime": {
     "end_time": "2018-06-19T06:18:37.047500Z",
     "start_time": "2018-06-19T06:18:37.038338Z"
    }
   },
   "outputs": [],
   "source": [
    "raintot_diffs_latstd_smooth = pandas.Series(raintot_diffs_latstd).rolling(window=3, center=True, min_periods=0).std(ddof=1)\n",
    "raintot_diffs_2km_latstd_smooth = pandas.Series(raintot_diffs_2km_latstd).rolling(window=75, center=True, min_periods=0).std(ddof=1)\n",
    "\n"
   ]
  },
  {
   "cell_type": "code",
   "execution_count": null,
   "metadata": {
    "ExecuteTime": {
     "end_time": "2018-06-21T22:14:14.440850Z",
     "start_time": "2018-06-21T22:14:11.129378Z"
    }
   },
   "outputs": [],
   "source": [
    "colors = [cmocean.cm.thermal(0.3),\\\n",
    "          cmocean.cm.thermal(0.4),\\\n",
    "          cmocean.cm.thermal(0.5),\\\n",
    "          cmocean.cm.thermal(0.6),\\\n",
    "          cmocean.cm.thermal(0.7)]\n",
    "\n",
    "fontsize = 12\n",
    "\n",
    "fig = mp.figure(figsize=(4.25,5.5))\n",
    "\n",
    "ymax = 1920.6472595214843\n",
    "#ax2topo.get_ylim()\n",
    "##################################################\n",
    "# xvals = xlong[0,:]+360.\n",
    "# yvals = raintot_diffs_latmean_smooth*24.\n",
    "# f = scipy.interpolate.interp1d(xvals, pandas.Series(yvals).interpolate().values, kind='cubic')\n",
    "# xvals_interp = numpy.linspace(277.5, xvals.max(), 1000)\n",
    "# yvals_interp = f(xvals_interp)\n",
    "ax1 = fig.add_subplot(511)\n",
    "ax1.plot(xlong[0,:]+360.,\\\n",
    "         raintot_diffs_latmean_smooth*24., \\\n",
    "         color=colors[0],\\\n",
    "         label='WRF 50-km 10d')\n",
    "\n",
    "ax1topo = ax1.twinx()\n",
    "ax1topo.fill_between(xlong[0,:]+360., \\\n",
    "                     numpy.zeros(hgt_50km_latmean.size), \\\n",
    "                     hgt_50km_latmean, \\\n",
    "                     facecolor='0', alpha=0.25)\n",
    "y0,y1 = ax1topo.get_ylim()\n",
    "ax1topo.set_ylim(0,ymax)\n",
    "ax1topo.axis('off')\n",
    "\n",
    "# ax1.fill_between(xlong[0,:]+360., \\\n",
    "#                 (raintot_diffs_latmean_smooth-raintot_diffs_latstd_smooth)*24.,\\\n",
    "#                 (raintot_diffs_latmean_smooth+raintot_diffs_latstd_smooth)*24.,\\\n",
    "#                 facecolor=colors[0], alpha=0.333)\n",
    "\n",
    "\n",
    "##################################################\n",
    "xvals = xlong_2km[0,:]+360.\n",
    "yvals = raintot_diffs_2km_latmean_smooth*24.\n",
    "f = scipy.interpolate.interp1d(xvals, yvals, kind='cubic')\n",
    "xvals_interp = numpy.linspace(xvals.min(), xvals.max(), 1000)\n",
    "yvals_interp = f(xvals_interp)\n",
    "ax2 = fig.add_subplot(512)\n",
    "ax2.plot(xvals_interp,\\\n",
    "        yvals_interp, \\\n",
    "        color=colors[1],\\\n",
    "        label='WRF 2-km 10d')\n",
    "\n",
    "ax2topo = ax2.twinx()\n",
    "ax2topo.fill_between(xlong_2km[0,:]+360., \\\n",
    "                     numpy.zeros(hgt_2km_latmean.size), \\\n",
    "                     hgt_2km_latmean, \\\n",
    "                     facecolor='0', alpha=0.25)\n",
    "ax2topo.set_ylim(0,ymax)\n",
    "ax2topo.axis('off')\n",
    "\n",
    "# yvals = PRECT_diffs_10day_latstderr\n",
    "# yvals_interp_error = f(xvals_interp)\n",
    "# f = scipy.interpolate.interp1d(xvals, pandas.Series(yvals).interpolate().values, kind='cubic')\n",
    "# ax2.fill_between(xlong_2km[0,:]+360., \\\n",
    "#                 (raintot_diffs_2km_latmean_smooth-raintot_diffs_2km_latstd_smooth)*24.,\\\n",
    "#                 (raintot_diffs_2km_latmean_smooth+raintot_diffs_2km_latstd_smooth)*24.,\\\n",
    "#                 facecolor=colors[1], alpha=0.333)\n",
    "\n",
    "##################################################\n",
    "xvals = lon_subset\n",
    "yvals = PRECT_diffs_10day_latmean\n",
    "f = scipy.interpolate.interp1d(xvals, pandas.Series(yvals).interpolate().values, kind='cubic')\n",
    "xvals_interp = numpy.linspace(277.5, 325., 100)\n",
    "yvals_interp = f(xvals_interp)\n",
    "ax3 = fig.add_subplot(513)\n",
    "ax3.plot(xvals_interp,\\\n",
    "        yvals_interp*86400.*1000., \\\n",
    "        color=colors[2],\\\n",
    "        label='CESM 2$\\degree$ 10d')\n",
    "\n",
    "ax3topo = ax3.twinx()\n",
    "yvals = topo_data_latmean\n",
    "f = scipy.interpolate.interp1d(xvals, pandas.Series(yvals).interpolate().values, kind='cubic')\n",
    "yvals_interp = f(xvals_interp)\n",
    "ax3topo.fill_between(xvals_interp, \\\n",
    "                     numpy.zeros(yvals_interp.size), \\\n",
    "                     yvals_interp, \\\n",
    "                     facecolor='0', alpha=0.25)\n",
    "ax3topo.set_ylim(0,ymax)\n",
    "ax3topo.axis('off')\n",
    "\n",
    "# ax3topo.fill_between(lon_subset, \\\n",
    "#                      numpy.zeros(topo_data_latmean.size), \\\n",
    "#                      topo_data_latmean, \\\n",
    "#                      facecolor='0', alpha=0.25)\n",
    "\n",
    "# yvals = PRECT_diffs_10day_latstderr\n",
    "# f = scipy.interpolate.interp1d(xvals, yvals, kind='cubic')\n",
    "# yvals_interp_error = f(xvals_interp)\n",
    "# ax3.fill_between(xvals_interp, \\\n",
    "#                 (yvals_interp+yvals_interp_error)*86400.*1000.,\\\n",
    "#                 (yvals_interp-yvals_interp_error)*86400.*1000.,\\\n",
    "#                 facecolor=colors[1], alpha=0.333)\n",
    "\n",
    "\n",
    "##################################################\n",
    "xvals = lon_subset\n",
    "yvals = PRECT_diffs_30day_latmean\n",
    "f = scipy.interpolate.interp1d(xvals, pandas.Series(yvals).interpolate().values, kind='cubic')\n",
    "xvals_interp = numpy.linspace(277.5, 325., 100)\n",
    "yvals_interp = f(xvals_interp)\n",
    "ax4 = fig.add_subplot(514)\n",
    "ax4.plot(xvals_interp,\\\n",
    "        yvals_interp*86400.*1000., \\\n",
    "        color=colors[3],\\\n",
    "        label='CESM 2$\\degree$ 30d')\n",
    "\n",
    "ax4topo = ax4.twinx()\n",
    "yvals = topo_data_latmean\n",
    "f = scipy.interpolate.interp1d(xvals, pandas.Series(yvals).interpolate().values, kind='cubic')\n",
    "yvals_interp = f(xvals_interp)\n",
    "ax4topo.fill_between(xvals_interp, \\\n",
    "                     numpy.zeros(yvals_interp.size), \\\n",
    "                     yvals_interp, \\\n",
    "                     facecolor='0', alpha=0.25)\n",
    "ax4topo.set_ylim(0,ymax)\n",
    "ax4topo.axis('off')\n",
    "\n",
    "##################################################\n",
    "xvals = lon_subset\n",
    "yvals = PRECT_diffs_10year_latmean\n",
    "f = scipy.interpolate.interp1d(xvals, pandas.Series(yvals).interpolate().values, kind='cubic')\n",
    "xvals_interp = numpy.linspace(277.5, 325., 100)\n",
    "yvals_interp = f(xvals_interp)\n",
    "ax5 = fig.add_subplot(515)\n",
    "ax5.plot(xvals_interp,\\\n",
    "       yvals_interp*86400.*1000., \\\n",
    "       color=colors[4],\\\n",
    "       label='CESM 2$\\degree$ 10yr')\n",
    "\n",
    "ax5topo = ax5.twinx()\n",
    "yvals = topo_data_latmean\n",
    "f = scipy.interpolate.interp1d(xvals, pandas.Series(yvals).interpolate().values, kind='cubic')\n",
    "yvals_interp = f(xvals_interp)\n",
    "ax5topo.fill_between(xvals_interp, \\\n",
    "                     numpy.zeros(yvals_interp.size), \\\n",
    "                     yvals_interp, \\\n",
    "                     facecolor='0', alpha=0.25)\n",
    "ax5topo.set_ylim(0,ymax)\n",
    "ax5topo.axis('off')\n",
    "\n",
    "##################################################\n",
    "\n",
    "ax_list = [ax1,ax2,ax3,ax4,ax5]\n",
    "label_list = ['(a) WRF 50-km 10d',\\\n",
    "              '(b) WRF 2-km 10d', \\\n",
    "              '(c) CESM 2$\\degree$ 10d', \\\n",
    "              '(d) CESM 2$\\degree$ 30d', \\\n",
    "              '(e) CESM 2$\\degree$ 10y']\n",
    "\n",
    "fig.tight_layout()#h_pad=0)\n",
    "fig.subplots_adjust(wspace=0, hspace=0)\n",
    "\n",
    "map_lat_lo = -10.\n",
    "map_lat_hi = 10.\n",
    "map_lon_lo = 278\n",
    "map_lon_hi = 325.5\n",
    "\n",
    "ax1.zorder=1\n",
    "ax2.zorder=1\n",
    "ax3.zorder=1\n",
    "ax4.zorder=1\n",
    "ax5.zorder=1\n",
    "\n",
    "ax1.set_facecolor('None')\n",
    "ax2.set_facecolor('None')\n",
    "ax3.set_facecolor('None')\n",
    "ax4.set_facecolor('None')\n",
    "ax5.set_facecolor('None')\n",
    "\n",
    "[ax.tick_params(labelsize=fontsize) for ax in ax_list]\n",
    "[ax.set_xticklabels(['','','']) for ax in ax_list]\n",
    "[ax.axhline(0, lw=1, ls='--', c='0.1') for ax in ax_list]\n",
    "#[ax.set_ylim(-1.8,1.8) for ax in ax_list]\n",
    "[ax.set_yticks([-1.,0,1.]) for ax in ax_list]\n",
    "[ax_list[i].yaxis.tick_right() for i in [1,3]]\n",
    "[ax.set_xlim(map_lon_lo, map_lon_hi) for ax in ax_list]\n",
    "[ax.xaxis.grid() for ax in ax_list]\n",
    "[ax.set_xticks([280,290,300.,310,320.]) for ax in ax_list]\n",
    "\n",
    "[ax_list[i].text(s=label_list[i], x=0.98, y=0.87,\\\n",
    "                 ha='right', va='top', \\\n",
    "                 fontsize=fontsize, \\\n",
    "                 color=colors[i], \\\n",
    "                 transform=ax_list[i].transAxes) for i in range(5)]\n",
    "\n",
    "ax1pos = ax1.get_position()\n",
    "ax4pos = ax4.get_position()\n",
    "ax5pos = ax5.get_position()\n",
    "fig.text(s='mm day$^{\\,-1}$', \\\n",
    "         x=0, y=ax5pos.y0+0.5*(ax1pos.y1-ax5pos.y0), \\\n",
    "         rotation=90, \\\n",
    "         transform=fig.transFigure, \\\n",
    "         va='center', \\\n",
    "         ha='right', \\\n",
    "         fontsize=fontsize)\n",
    "\n",
    "ax5.set_xlabel('longitude', fontsize=fontsize)\n",
    "ax5.set_xticklabels(['280$\\degree$E','','300$\\degree$E','','320$\\degree$E'])\n",
    "\n",
    "# ax_orog = fig.add_axes([ax1pos.x0,ax1pos.y1,ax1pos.width,ax1pos.height])\n",
    "# ax_orog.axis('off')\n",
    "# ax_orog.plot(xlong[0,:]+360., HGT_M_lat_subset_mean, \\\n",
    "#              ls='--', \\\n",
    "#              c=cmocean.cm.thermal(0.2))\n",
    "# ax_orog.set_xlim(ax1.get_xlim())\n",
    "\n",
    "# width_to_height = (map_lon_hi-map_lon_lo)/(map_lat_hi-map_lat_lo)\n",
    "# map_height = ax5pos.width/width_to_height\n",
    "\n",
    "# ax_map = fig.add_axes([ax5pos.x0, 0.5*((ax1pos.y1-ax5pos.y0)-map_height), ax5pos.width, map_height], projection=map_proj)\n",
    "# ax_map.set_extent([map_lon_lo,map_lon_hi,map_lat_lo,map_lat_hi], crs=map_proj)\n",
    "# ax_map.background_patch.set_facecolor('None')\n",
    "# ax_map.zorder=0\n",
    "# ax_map.outline_patch.set_visible(False)\n",
    "# ax_map.add_feature(cartopy.feature.LAND, \\\n",
    "#                    facecolor='0', \\\n",
    "#                    edgecolor='None', \\\n",
    "#                    alpha=0.2)\n",
    "\n",
    "fig.savefig('figures/manuscript_fig4_precip_change_latmean_plots.png', dpi=600, bbox_inches='tight', transparent=True)\n"
   ]
  },
  {
   "cell_type": "code",
   "execution_count": null,
   "metadata": {
    "ExecuteTime": {
     "end_time": "2018-06-21T22:22:18.182511Z",
     "start_time": "2018-06-21T22:22:18.171192Z"
    }
   },
   "outputs": [],
   "source": [
    "hgt_2km_latmean.max()"
   ]
  },
  {
   "cell_type": "code",
   "execution_count": null,
   "metadata": {},
   "outputs": [],
   "source": []
  },
  {
   "cell_type": "code",
   "execution_count": null,
   "metadata": {
    "ExecuteTime": {
     "end_time": "2018-06-21T15:24:08.673840Z",
     "start_time": "2018-06-21T15:24:05.644512Z"
    }
   },
   "outputs": [],
   "source": [
    "colors = [cmocean.cm.thermal(0.3),\\\n",
    "          cmocean.cm.thermal(0.4),\\\n",
    "          cmocean.cm.thermal(0.5),\\\n",
    "          cmocean.cm.thermal(0.6),\\\n",
    "          cmocean.cm.thermal(0.7)]\n",
    "\n",
    "fontsize = 18\n",
    "\n",
    "fig = mp.figure(figsize=(3.5,5.5))\n",
    "\n",
    "##################################################\n",
    "# xvals = xlong[0,:]+360.\n",
    "# yvals = raintot_diffs_latmean_smooth*24.\n",
    "# f = scipy.interpolate.interp1d(xvals, pandas.Series(yvals).interpolate().values, kind='cubic')\n",
    "# xvals_interp = numpy.linspace(277.5, xvals.max(), 1000)\n",
    "# yvals_interp = f(xvals_interp)\n",
    "ax1 = fig.add_subplot(511)\n",
    "ax1.plot(xlong[0,:]+360.,\\\n",
    "        raintot_diffs_latmean_smooth*24., \\\n",
    "        color=colors[0],\\\n",
    "        label='WRF 50-km 10d')\n",
    "# ax1.fill_between(xlong[0,:]+360., \\\n",
    "#                 (raintot_diffs_latmean_smooth-raintot_diffs_latstd_smooth)*24.,\\\n",
    "#                 (raintot_diffs_latmean_smooth+raintot_diffs_latstd_smooth)*24.,\\\n",
    "#                 facecolor=colors[0], alpha=0.333)\n",
    "\n",
    "\n",
    "##################################################\n",
    "xvals = xlong_2km[0,:]+360.\n",
    "yvals = raintot_diffs_2km_latmean_smooth*24.\n",
    "f = scipy.interpolate.interp1d(xvals, yvals, kind='cubic')\n",
    "xvals_interp = numpy.linspace(xvals.min(), xvals.max(), 1000)\n",
    "yvals_interp = f(xvals_interp)\n",
    "ax2 = fig.add_subplot(512)\n",
    "ax2.plot(xvals_interp,\\\n",
    "        yvals_interp, \\\n",
    "        color=colors[1],\\\n",
    "        label='WRF 2-km 10d')\n",
    "# yvals = PRECT_diffs_10day_latstderr\n",
    "# yvals_interp_error = f(xvals_interp)\n",
    "# f = scipy.interpolate.interp1d(xvals, pandas.Series(yvals).interpolate().values, kind='cubic')\n",
    "# ax2.fill_between(xlong_2km[0,:]+360., \\\n",
    "#                 (raintot_diffs_2km_latmean_smooth-raintot_diffs_2km_latstd_smooth)*24.,\\\n",
    "#                 (raintot_diffs_2km_latmean_smooth+raintot_diffs_2km_latstd_smooth)*24.,\\\n",
    "#                 facecolor=colors[1], alpha=0.333)\n",
    "\n",
    "##################################################\n",
    "xvals = lon_subset\n",
    "yvals = PRECT_diffs_10day_latmean\n",
    "f = scipy.interpolate.interp1d(xvals, pandas.Series(yvals).interpolate().values, kind='cubic')\n",
    "xvals_interp = numpy.linspace(277.5, 325., 100)\n",
    "yvals_interp = f(xvals_interp)\n",
    "ax3 = fig.add_subplot(513)\n",
    "ax3.plot(xvals_interp,\\\n",
    "        yvals_interp*86400.*1000., \\\n",
    "        color=colors[2],\\\n",
    "        label='CESM 2$\\degree$ 10d')\n",
    "# yvals = PRECT_diffs_10day_latstderr\n",
    "# f = scipy.interpolate.interp1d(xvals, yvals, kind='cubic')\n",
    "# yvals_interp_error = f(xvals_interp)\n",
    "# ax3.fill_between(xvals_interp, \\\n",
    "#                 (yvals_interp+yvals_interp_error)*86400.*1000.,\\\n",
    "#                 (yvals_interp-yvals_interp_error)*86400.*1000.,\\\n",
    "#                 facecolor=colors[1], alpha=0.333)\n",
    "\n",
    "\n",
    "##################################################\n",
    "xvals = lon_subset\n",
    "yvals = PRECT_diffs_30day_latmean\n",
    "f = scipy.interpolate.interp1d(xvals, pandas.Series(yvals).interpolate().values, kind='cubic')\n",
    "xvals_interp = numpy.linspace(277.5, 325., 100)\n",
    "yvals_interp = f(xvals_interp)\n",
    "ax4 = fig.add_subplot(514)\n",
    "ax4.plot(xvals_interp,\\\n",
    "        yvals_interp*86400.*1000., \\\n",
    "        color=colors[3],\\\n",
    "        label='CESM 2$\\degree$ 30d')\n",
    "\n",
    "\n",
    "##################################################\n",
    "xvals = lon_subset\n",
    "yvals = PRECT_diffs_10year_latmean\n",
    "f = scipy.interpolate.interp1d(xvals, pandas.Series(yvals).interpolate().values, kind='cubic')\n",
    "xvals_interp = numpy.linspace(277.5, 325., 100)\n",
    "yvals_interp = f(xvals_interp)\n",
    "ax5 = fig.add_subplot(515)\n",
    "ax5.plot(xvals_interp,\\\n",
    "       yvals_interp*86400.*1000., \\\n",
    "       color=colors[4],\\\n",
    "       label='CESM 2$\\degree$ 10yr')\n",
    "\n",
    "##################################################\n",
    "\n",
    "ax_list = [ax1,ax2,ax3,ax4,ax5]\n",
    "label_list = ['WRF 50-km 10d',\\\n",
    "              'WRF 2-km 10d', \\\n",
    "              'CESM 2$\\degree$ 10d', \\\n",
    "              'CESM 2$\\degree$ 30d', \\\n",
    "              'CESM 2$\\degree$ 10y']\n",
    "\n",
    "fig.tight_layout()#h_pad=0)\n",
    "fig.subplots_adjust(wspace=0, hspace=0)\n",
    "\n",
    "map_lat_lo = -10.\n",
    "map_lat_hi = 10.\n",
    "map_lon_lo = 278\n",
    "map_lon_hi = 325.5\n",
    "\n",
    "ax1.zorder=1\n",
    "ax2.zorder=1\n",
    "ax3.zorder=1\n",
    "ax4.zorder=1\n",
    "ax5.zorder=1\n",
    "\n",
    "ax1.set_facecolor('None')\n",
    "ax2.set_facecolor('None')\n",
    "ax3.set_facecolor('None')\n",
    "ax4.set_facecolor('None')\n",
    "ax5.set_facecolor('None')\n",
    "\n",
    "[ax.tick_params(labelsize=fontsize) for ax in ax_list]\n",
    "[ax.set_xticklabels(['','','']) for ax in ax_list]\n",
    "[ax.axhline(0, lw=1, ls='--', c='0.1') for ax in ax_list]\n",
    "#[ax.set_ylim(-1.8,1.8) for ax in ax_list]\n",
    "[ax.set_yticks([-1.,0,1.]) for ax in ax_list]\n",
    "[ax_list[i].yaxis.tick_right() for i in [1,3]]\n",
    "[ax.set_xlim(map_lon_lo, map_lon_hi) for ax in ax_list]\n",
    "[ax.xaxis.grid() for ax in ax_list]\n",
    "[ax.set_xticks([280,290,300.,310,320.]) for ax in ax_list]\n",
    "\n",
    "[ax_list[i].text(s=label_list[i], x=0.98, y=0.87,\\\n",
    "                 ha='right', va='top', \\\n",
    "                 fontsize=fontsize, \\\n",
    "                 color=colors[i], \\\n",
    "                 transform=ax_list[i].transAxes) for i in range(5)]\n",
    "\n",
    "ax1pos = ax1.get_position()\n",
    "ax4pos = ax4.get_position()\n",
    "ax5pos = ax5.get_position()\n",
    "fig.text(s='mm day$^{\\,-1}$', \\\n",
    "         x=0, y=ax5pos.y0+0.5*(ax1pos.y1-ax5pos.y0), \\\n",
    "         rotation=90, \\\n",
    "         transform=fig.transFigure, \\\n",
    "         va='center', \\\n",
    "         ha='right', \\\n",
    "         fontsize=fontsize)\n",
    "\n",
    "ax5.set_xlabel('longitude', fontsize=fontsize)\n",
    "ax5.set_xticklabels(['280$\\degree$E','','300$\\degree$E','','320$\\degree$E'])\n",
    "\n",
    "ax_orog = fig.add_axes([ax1pos.x0,ax1pos.y1,ax1pos.width,ax1pos.height])\n",
    "ax_orog.axis('off')\n",
    "ax_orog.plot(xlong[0,:]+360., HGT_M_lat_subset_mean, \\\n",
    "             ls='--', \\\n",
    "             c=cmocean.cm.thermal(0.2))\n",
    "ax_orog.set_xlim(ax1.get_xlim())\n",
    "\n",
    "# width_to_height = (map_lon_hi-map_lon_lo)/(map_lat_hi-map_lat_lo)\n",
    "# map_height = ax5pos.width/width_to_height\n",
    "\n",
    "# ax_map = fig.add_axes([ax5pos.x0, 0.5*((ax1pos.y1-ax5pos.y0)-map_height), ax5pos.width, map_height], projection=map_proj)\n",
    "# ax_map.set_extent([map_lon_lo,map_lon_hi,map_lat_lo,map_lat_hi], crs=map_proj)\n",
    "# ax_map.background_patch.set_facecolor('None')\n",
    "# ax_map.zorder=0\n",
    "# ax_map.outline_patch.set_visible(False)\n",
    "# ax_map.add_feature(cartopy.feature.LAND, \\\n",
    "#                    facecolor='0', \\\n",
    "#                    edgecolor='None', \\\n",
    "#                    alpha=0.2)\n",
    "\n",
    "fig.savefig('figures/cesm_workshop_latmean_plots.png', dpi=600, bbox_inches='tight', transparent=True)\n"
   ]
  },
  {
   "cell_type": "code",
   "execution_count": null,
   "metadata": {},
   "outputs": [],
   "source": []
  },
  {
   "cell_type": "code",
   "execution_count": 50,
   "metadata": {
    "ExecuteTime": {
     "end_time": "2018-06-19T06:18:48.308285Z",
     "start_time": "2018-06-19T06:18:48.302770Z"
    }
   },
   "outputs": [],
   "source": [
    "ax_list_for_ylim = numpy.copy(ax_list)"
   ]
  },
  {
   "cell_type": "code",
   "execution_count": 51,
   "metadata": {
    "ExecuteTime": {
     "end_time": "2018-06-19T06:18:56.136074Z",
     "start_time": "2018-06-19T06:18:50.459635Z"
    }
   },
   "outputs": [
    {
     "data": {
      "image/png": "[encoded data removed]",
      "text/plain": [
       "<Figure size 504x396 with 6 Axes>"
      ]
     },
     "metadata": {},
     "output_type": "display_data"
    }
   ],
   "source": [
    "num = 1\n",
    "\n",
    "colors = [cmocean.cm.thermal(0.3),\\\n",
    "          cmocean.cm.thermal(0.4),\\\n",
    "          cmocean.cm.thermal(0.5),\\\n",
    "          cmocean.cm.thermal(0.6),\\\n",
    "          cmocean.cm.thermal(0.7)]\n",
    "\n",
    "fontsize = 18\n",
    "fig = mp.figure(figsize=(7,5.5))\n",
    "\n",
    "##################################################\n",
    "ax1 = fig.add_subplot(511)\n",
    "ax1.plot(xlong[0,:]+360.,\\\n",
    "        raintot_diffs_latmean_smooth*24., \\\n",
    "        color=colors[0],\\\n",
    "        label='WRF 50-km 10d')\n",
    "\n",
    "##################################################\n",
    "xvals = xlong_2km[0,:]+360.\n",
    "yvals = raintot_diffs_2km_latmean_smooth*24.\n",
    "f = scipy.interpolate.interp1d(xvals, yvals, kind='cubic')\n",
    "xvals_interp = numpy.linspace(xvals.min(), xvals.max(), 1000)\n",
    "yvals_interp = f(xvals_interp)\n",
    "ax2 = fig.add_subplot(512)\n",
    "# ax2.plot(xvals_interp,\\\n",
    "#         yvals_interp, \\\n",
    "#         color=colors[1],\\\n",
    "#         label='WRF 2-km 10d')\n",
    "ax2.plot(xvals_interp,\\\n",
    "        yvals_interp, \\\n",
    "        color='None')\n",
    "\n",
    "##################################################\n",
    "xvals = lon_subset\n",
    "yvals = PRECT_diffs_10day_latmean\n",
    "f = scipy.interpolate.interp1d(xvals, pandas.Series(yvals).interpolate().values, kind='cubic')\n",
    "xvals_interp = numpy.linspace(277.5, 325., 100)\n",
    "yvals_interp = f(xvals_interp)\n",
    "ax3 = fig.add_subplot(513)\n",
    "# ax3.plot(xvals_interp,\\\n",
    "#         yvals_interp*86400.*1000., \\\n",
    "#         color=colors[2],\\\n",
    "#         label='CESM 2$\\degree$ 10d')\n",
    "ax3.plot(xvals_interp,\\\n",
    "        yvals_interp*86400.*1000., \\\n",
    "        color='None')\n",
    "\n",
    "# #################################################\n",
    "xvals = lon_subset\n",
    "yvals = PRECT_diffs_30day_latmean\n",
    "f = scipy.interpolate.interp1d(xvals, pandas.Series(yvals).interpolate().values, kind='cubic')\n",
    "xvals_interp = numpy.linspace(277.5, 325., 100)\n",
    "yvals_interp = f(xvals_interp)\n",
    "ax4 = fig.add_subplot(514)\n",
    "# ax4.plot(xvals_interp,\\\n",
    "#         yvals_interp*86400.*1000., \\\n",
    "#         color=colors[3],\\\n",
    "#         label='CESM 2$\\degree$ 30d')\n",
    "ax4.plot(xvals_interp,\\\n",
    "        yvals_interp*86400.*1000., \\\n",
    "        color='None')\n",
    "\n",
    "# #################################################\n",
    "xvals = lon_subset\n",
    "yvals = PRECT_diffs_10year_latmean\n",
    "f = scipy.interpolate.interp1d(xvals, pandas.Series(yvals).interpolate().values, kind='cubic')\n",
    "xvals_interp = numpy.linspace(277.5, 325., 100)\n",
    "yvals_interp = f(xvals_interp)\n",
    "ax5 = fig.add_subplot(515)\n",
    "# ax5.plot(xvals_interp,\\\n",
    "#        yvals_interp*86400.*1000., \\\n",
    "#        color=colors[4],\\\n",
    "#        label='CESM 2$\\degree$ 10yr')\n",
    "ax5.plot(xvals_interp,\\\n",
    "       yvals_interp*86400.*1000., \\\n",
    "       color='None')\n",
    "\n",
    "##################################################\n",
    "\n",
    "ax_list = [ax1,ax2,ax3,ax4,ax5]\n",
    "label_list = ['WRF 50-km 10d',\\\n",
    "              'WRF 2-km 10d', \\\n",
    "              'CESM 2$\\degree$ 10d', \\\n",
    "              'CESM 2$\\degree$ 30d', \\\n",
    "              'CESM 2$\\degree$ 10y']\n",
    "\n",
    "fig.tight_layout()#h_pad=0)\n",
    "fig.subplots_adjust(wspace=0, hspace=0)\n",
    "\n",
    "map_lat_lo = -10.\n",
    "map_lat_hi = 10.\n",
    "map_lon_lo = 278\n",
    "map_lon_hi = 325.5\n",
    "\n",
    "ax1.zorder=1\n",
    "ax2.zorder=1\n",
    "ax3.zorder=1\n",
    "ax4.zorder=1\n",
    "ax5.zorder=1\n",
    "\n",
    "ax1.set_facecolor('None')\n",
    "ax2.set_facecolor('None')\n",
    "ax3.set_facecolor('None')\n",
    "ax4.set_facecolor('None')\n",
    "ax5.set_facecolor('None')\n",
    "\n",
    "[ax.tick_params(labelsize=fontsize) for ax in ax_list]\n",
    "[ax.set_xticklabels(['','','']) for ax in ax_list]\n",
    "[ax.axhline(0, lw=1, ls='--', c='0.1') for ax in ax_list]\n",
    "[ax.set_yticks([-1.,0,1.]) for ax in ax_list]\n",
    "[ax_list[i].yaxis.tick_right() for i in [1,3]]\n",
    "[ax.set_xlim(map_lon_lo, map_lon_hi) for ax in ax_list]\n",
    "[ax.xaxis.grid() for ax in ax_list]\n",
    "[ax.set_xticks([280,290,300.,310,320.]) for ax in ax_list]\n",
    "[ax_list[i].set_ylim(ax_list_for_ylim[i].get_ylim()) \\\n",
    " for i in range(ax_list.__len__())]\n",
    "\n",
    "[ax_list[i].text(s=label_list[i], x=0.98, y=0.87,\\\n",
    "                 ha='right', va='top', \\\n",
    "                 fontsize=fontsize, \\\n",
    "                 color=colors[i], \\\n",
    "                 transform=ax_list[i].transAxes) for i in range(num)]\n",
    "\n",
    "ax1pos = ax1.get_position()\n",
    "ax4pos = ax4.get_position()\n",
    "ax5pos = ax5.get_position()\n",
    "fig.text(s='mm day$^{\\,-1}$', \\\n",
    "         x=0, y=ax5pos.y0+0.5*(ax1pos.y1-ax5pos.y0), \\\n",
    "         rotation=90, \\\n",
    "         transform=fig.transFigure, \\\n",
    "         va='center', \\\n",
    "         ha='right', \\\n",
    "         fontsize=fontsize)\n",
    "\n",
    "ax5.set_xlabel('longitude', fontsize=fontsize)\n",
    "ax5.set_xticklabels(['280$\\degree$E','','300$\\degree$E','','320$\\degree$E'])\n",
    "\n",
    "ax_orog = fig.add_axes([ax1pos.x0,\\\n",
    "                        ax1pos.y1,\\\n",
    "                        ax1pos.width,\\\n",
    "                        ax1pos.height])\n",
    "ax_orog.axis('off')\n",
    "ax_orog.plot(xlong[0,:]+360., HGT_M_lat_subset_mean, \\\n",
    "             ls='--', \\\n",
    "             c=cmocean.cm.thermal(0.2))\n",
    "ax_orog.set_xlim(ax1.get_xlim())\n",
    "\n",
    "fig.savefig('figures/cesm_workshop_latmean_plots_'+str(num)+'.png', \\\n",
    "            dpi=600, bbox_inches='tight', transparent=True)\n"
   ]
  },
  {
   "cell_type": "code",
   "execution_count": 52,
   "metadata": {
    "ExecuteTime": {
     "end_time": "2018-06-19T06:19:07.959195Z",
     "start_time": "2018-06-19T06:19:07.708697Z"
    }
   },
   "outputs": [
    {
     "data": {
      "text/plain": [
       "[<matplotlib.lines.Line2D at 0x2b9aa10bc908>]"
      ]
     },
     "execution_count": 52,
     "metadata": {},
     "output_type": "execute_result"
    },
    {
     "data": {
      "image/png": "[encoded data removed]",
      "text/plain": [
       "<Figure size 432x288 with 1 Axes>"
      ]
     },
     "metadata": {},
     "output_type": "display_data"
    }
   ],
   "source": [
    "fontsize = 18\n",
    "\n",
    "fig = mp.figure()\n",
    "\n",
    "ax = fig.add_subplot(111)\n",
    "\n",
    "ax.plot(xlong[0,:]+360.,\\\n",
    "        raintot_diffs_latmean_smooth*24., \\\n",
    "        color=colors[0],\\\n",
    "        label='WRF 50-km 10d')\n",
    "ax.fill_between(xlong[0,:]+360., \\\n",
    "                (raintot_diffs_latmean_smooth-raintot_diffs_latstd_smooth)*24.,\\\n",
    "                (raintot_diffs_latmean_smooth+raintot_diffs_latstd_smooth)*24.,\\\n",
    "                facecolor=colors[0], alpha=0.333)\n",
    "\n",
    "\n",
    "ax.plot(xlong_2km[0,:]+360.,\\\n",
    "        raintot_diffs_2km_latmean_smooth*24., \\\n",
    "        color=colors[1],\\\n",
    "        label='WRF 2-km 10d')\n",
    "\n",
    "\n",
    "ax.plot(lon_subset,\\\n",
    "        PRECT_diffs_10day_latmean*86400.*1000., \\\n",
    "        color=colors[2],\\\n",
    "        label='CESM 2$\\degree$ 10d')\n",
    "\n",
    "\n",
    "ax.plot(lon_subset,\\\n",
    "        PRECT_diffs_30day_latmean*86400.*1000., \\\n",
    "        color=colors[3],\\\n",
    "        label='CESM 2$\\degree$ 30d')\n",
    "\n",
    "\n",
    "ax.plot(lon_subset,\\\n",
    "        PRECT_diffs_10year_latmean*86400.*1000., \\\n",
    "        color=colors[4],\\\n",
    "        label='CESM 2$\\degree$ 10yr')\n",
    "\n",
    "#ax.tick_params(labelsize=fontsize)\n",
    "#ax.legend()"
   ]
  },
  {
   "cell_type": "raw",
   "metadata": {
    "ExecuteTime": {
     "end_time": "2018-06-12T16:34:15.894499Z",
     "start_time": "2018-06-12T16:34:15.827520Z"
    }
   },
   "source": [
    "cmap_custom = matplotlib.colors.ListedColormap([matplotlib.cm.RdBu(0.1), \\\n",
    "                                                matplotlib.cm.RdBu(0.25), \\\n",
    "                                                #matplotlib.cm.RdBu(0.3), \\\n",
    "                                                #matplotlib.cm.RdBu(0.6), \\\n",
    "                                                matplotlib.cm.RdBu(0.6), \\\n",
    "                                                matplotlib.cm.RdBu(0.7)])\n",
    "                                                \n",
    "cmap_custom.set_over(matplotlib.cm.RdBu(.8))\n",
    "cmap_custom.set_under(matplotlib.cm.RdBu(0))\n",
    "\n",
    "bounds = numpy.array([-10,-5,0,5,10])\n",
    "norm = matplotlib.colors.BoundaryNorm(bounds, cmap_custom.N)"
   ]
  },
  {
   "cell_type": "raw",
   "metadata": {
    "ExecuteTime": {
     "end_time": "2018-06-12T16:40:57.207294Z",
     "start_time": "2018-06-12T16:40:40.990434Z"
    }
   },
   "source": [
    "mp.contourf(xlong_2km,\\\n",
    "            xlat_2km,\\\n",
    "            raintot_diffs_2km_time_mean_landmask*24.,\\\n",
    "            levels=bounds,\\\n",
    "            cmap=cmap_custom,\\\n",
    "            extend='both',\\\n",
    "            norm=norm)\n",
    "mp.colorbar()\n",
    "ax = mp.axes()\n",
    "ax.set_aspect('equal')"
   ]
  },
  {
   "cell_type": "markdown",
   "metadata": {},
   "source": [
    "# Plot WRF 50km and 2km map plus meridional mean precip decrease below"
   ]
  },
  {
   "cell_type": "code",
   "execution_count": 53,
   "metadata": {
    "ExecuteTime": {
     "end_time": "2018-06-19T06:19:17.826998Z",
     "start_time": "2018-06-19T06:19:17.818174Z"
    }
   },
   "outputs": [],
   "source": [
    "xlat_indices = (xlat[:,0]>=-10.) & (xlat[:,0]<=10.)\n",
    "xlong_indices = (xlong[0,:]>=280-360.)&(xlong[0,:]<=320-260.)"
   ]
  },
  {
   "cell_type": "code",
   "execution_count": 54,
   "metadata": {
    "ExecuteTime": {
     "end_time": "2018-06-19T06:19:21.457449Z",
     "start_time": "2018-06-19T06:19:19.875447Z"
    }
   },
   "outputs": [
    {
     "name": "stderr",
     "output_type": "stream",
     "text": [
      "/export/home/blangenb/anaconda3/lib/python3.6/site-packages/ipykernel_launcher.py:3: RuntimeWarning: Mean of empty slice\n",
      "  This is separate from the ipykernel package so we can avoid doing imports until\n"
     ]
    }
   ],
   "source": [
    "raintot_diffs_landmask = raintot_1000_diff-raintot_400_diff\n",
    "raintot_diffs_landmask[:,landmask==0] = numpy.nan\n",
    "raintot_diffs_latmean = numpy.nanmean(raintot_diffs_landmask[:,xlat_indices,:], axis=1)"
   ]
  },
  {
   "cell_type": "code",
   "execution_count": 55,
   "metadata": {
    "ExecuteTime": {
     "end_time": "2018-06-19T06:19:23.387733Z",
     "start_time": "2018-06-19T06:19:23.376664Z"
    }
   },
   "outputs": [
    {
     "name": "stderr",
     "output_type": "stream",
     "text": [
      "/export/home/blangenb/anaconda3/lib/python3.6/site-packages/ipykernel_launcher.py:1: RuntimeWarning: Mean of empty slice\n",
      "  \"\"\"Entry point for launching an IPython kernel.\n",
      "/export/home/blangenb/anaconda3/lib/python3.6/site-packages/ipykernel_launcher.py:2: RuntimeWarning: Mean of empty slice\n",
      "  \n"
     ]
    }
   ],
   "source": [
    "raintot_diffs_latmean_day1 = numpy.nanmean(raintot_diffs_latmean[:24,:], axis=0)\n",
    "raintot_diffs_latmean_days2to10 = numpy.nanmean(raintot_diffs_latmean[24:,:], axis=0)"
   ]
  },
  {
   "cell_type": "code",
   "execution_count": 56,
   "metadata": {
    "ExecuteTime": {
     "end_time": "2018-06-19T06:19:25.343746Z",
     "start_time": "2018-06-19T06:19:25.330133Z"
    }
   },
   "outputs": [],
   "source": [
    "raintot_diffs_latmean_day1 = pandas.Series(raintot_diffs_latmean_day1).rolling(window=3, \\\n",
    "                                                                               center=True, \\\n",
    "                                                                               min_periods=1).mean()\n",
    "\n",
    "raintot_diffs_latmean_days2to10 = pandas.Series(raintot_diffs_latmean_days2to10).rolling(window=3, \\\n",
    "                                                                               center=True, \\\n",
    "                                                                               min_periods=1).mean()\n",
    "\n",
    "raintot_diffs_latmean_std_day1 = pandas.Series(raintot_diffs_latmean_day1).rolling(window=10, \\\n",
    "                                                                                   center=True, \\\n",
    "                                                                                   min_periods=1).std(ddof=1)\n",
    "\n",
    "raintot_diffs_latmean_std_days2to10 = pandas.Series(raintot_diffs_latmean_days2to10).rolling(window=10, \\\n",
    "                                                                                   center=True, \\\n",
    "                                                                                   min_periods=1).std(ddof=1)"
   ]
  },
  {
   "cell_type": "code",
   "execution_count": 62,
   "metadata": {
    "ExecuteTime": {
     "end_time": "2018-06-19T06:26:33.418614Z",
     "start_time": "2018-06-19T06:26:26.459781Z"
    }
   },
   "outputs": [
    {
     "data": {
      "image/png": "[encoded data removed]",
      "text/plain": [
       "<Figure size 360x468 with 3 Axes>"
      ]
     },
     "metadata": {},
     "output_type": "display_data"
    }
   ],
   "source": [
    "fontsize=18\n",
    "\n",
    "fig = mp.figure(figsize=(5,6.5))\n",
    "gs = matplotlib.gridspec.GridSpec(2, 1, width_ratios=[1], height_ratios=[3, 1])\n",
    "\n",
    "map_proj = cartopy.crs.PlateCarree()\n",
    "levels1 = numpy.arange(-2,2.1,0.25)\n",
    "\n",
    "ax1 = fig.add_subplot(gs[0], projection=map_proj)\n",
    "contour1 = ax1.contourf(xlong[0,:], xlat[:,0], \\\n",
    "                        raintot_diffs_time_mean_landmask*24., \\\n",
    "                        levels=levels1, cmap=cmocean.cm.balance_r, extend='both')\n",
    "ax1.set_extent([276,327.5,-30,15], crs=map_proj)\n",
    "ax1.coastlines()\n",
    "ax1.set_xticks([280-360.,300-360.,320-360.])\n",
    "ax1.set_xticklabels(['','',''])\n",
    "ax1.set_yticks([-20,-10,0,10])\n",
    "ax1.set_yticklabels(['$20\\degree$S','$10\\degree$S', '$0\\degree$', '$10\\degree$N'])\n",
    "ax1.tick_params(labelsize=fontsize)\n",
    "ax1.axhline(0, c='0.1', lw=1)\n",
    "\n",
    "ax1.fill_between(numpy.linspace(276,327.5,2), y1=-10, y2=-40, \\\n",
    "                 alpha=0.333, edgecolor='None', \\\n",
    "                 facecolor='0.1', transform=map_proj)\n",
    "ax1.fill_between(numpy.linspace(276,327.5,2), y1=10, y2=40, \\\n",
    "                 alpha=0.333, edgecolor='None', \\\n",
    "                 facecolor='0.1', transform=map_proj)\n",
    "\n",
    "ax1.text(s='WRF 50-km 10d precip. change', x=0, y=1.02, \\\n",
    "         transform=ax1.transAxes, \\\n",
    "         fontsize=fontsize, ha='left', va='bottom')\n",
    "\n",
    "ax2 = fig.add_subplot(gs[1])\n",
    "ax2.set_xlim(276,327.5)\n",
    "ax2.tick_params(labelsize=fontsize)\n",
    "ax2.set_xticks([280,300,320])\n",
    "ax2.set_xticklabels(['$280\\degree$E','$290\\degree$E','$300\\degree$E','$310\\degree$E'])\n",
    "ax2.set_xlabel('longitude', fontsize=fontsize)\n",
    "ax2.set_ylabel('mm day$^{\\,-1}$', fontsize=fontsize)\n",
    "ax2.axhline(0, c='0.1', lw=1)\n",
    "\n",
    "ax2.plot(xlong[0,xlong_indices]+360.,\\\n",
    "        raintot_diffs_latmean_days2to10[xlong_indices]*24., \\\n",
    "        c='firebrick', label='days 2–10')\n",
    "\n",
    "ax2.fill_between(xlong[0,xlong_indices]+360., \\\n",
    "                (raintot_diffs_latmean_days2to10[xlong_indices]-raintot_diffs_latmean_std_days2to10[xlong_indices])*24.,\\\n",
    "                (raintot_diffs_latmean_days2to10[xlong_indices]+raintot_diffs_latmean_std_days2to10[xlong_indices])*24.,\\\n",
    "                facecolor='firebrick', alpha=0.333)\n",
    "\n",
    "ax2.plot(xlong[0,xlong_indices]+360.,\\\n",
    "        raintot_diffs_latmean_day1[xlong_indices]*24., \\\n",
    "        c='coral', label='day 1', zorder=5)\n",
    "\n",
    "ax2.fill_between(xlong[0,xlong_indices]+360., \\\n",
    "                (raintot_diffs_latmean_day1[xlong_indices]-raintot_diffs_latmean_std_day1[xlong_indices])*24.,\\\n",
    "                (raintot_diffs_latmean_day1[xlong_indices]+raintot_diffs_latmean_std_day1[xlong_indices])*24.,\\\n",
    "                facecolor='coral', alpha=0.333, zorder=5)\n",
    "\n",
    "ax2.set_ylim(-1.4835328969152064, 1.1870771995510045)\n",
    "\n",
    "fig.tight_layout()\n",
    "h, l=ax2.get_legend_handles_labels()\n",
    "ax2.legend(h, l, fontsize=fontsize, scatterpoints=1, bbox_to_anchor=(1.025,1.), \\\n",
    "            bbox_transform=ax2.transAxes, loc='upper left', borderaxespad=0, labelspacing=0.25, \\\n",
    "            fancybox=False, edgecolor='0', framealpha=0, borderpad=0.25, \\\n",
    "            handletextpad=0.5, markerscale=1, handlelength=1.25)\n",
    "\n",
    "scale = .85\n",
    "ax1pos = ax1.get_position()\n",
    "cbar_ax = fig.add_axes([ax1pos.x1+0.05, ax1pos.y0+.5*(1-scale)*ax1pos.height, 0.04, ax1pos.height*scale])\n",
    "cbar = mp.colorbar(contour1, cax=cbar_ax)\n",
    "cbar.set_label('mm day$^{\\,-1}$', fontsize=fontsize)\n",
    "cbar_ax.tick_params(labelsize=fontsize)\n",
    "cbar.set_ticks([-2,-1,0,1,2])\n",
    "\n",
    "fig.savefig('figures/WRF_map_and_meridional_means_2lines.png', dpi=600, bbox_inches='tight', transparent=True)\n"
   ]
  },
  {
   "cell_type": "markdown",
   "metadata": {},
   "source": [
    "# maps of change"
   ]
  },
  {
   "cell_type": "raw",
   "metadata": {},
   "source": [
    "latmin_d03 = -2.243599\n",
    "latmax_d03 = 12.03965\n",
    "lonmin_d03 = 313.6654510498047\n",
    "lonmax_d03 = 277.7049255371094\n",
    "\n",
    "ax.add_patch(matplotlib.patches.Rectangle(xy=[lonmin_d03, latmin_d03], width=d03_width, height=d03_height,\n",
    "                                facecolor='none',\n",
    "                                edgecolor='gold',\\\n",
    "                                linewidth=3,\\\n",
    "                                transform=map_proj, zorder=2) )"
   ]
  },
  {
   "cell_type": "code",
   "execution_count": 95,
   "metadata": {
    "ExecuteTime": {
     "end_time": "2018-06-12T17:24:37.284327Z",
     "start_time": "2018-06-12T17:24:37.218591Z"
    }
   },
   "outputs": [],
   "source": [
    "cmap_custom = matplotlib.colors.ListedColormap([cmocean.cm.balance_r(0.1), \\\n",
    "                                                cmocean.cm.balance_r(0.25), \\\n",
    "                                                cmocean.cm.balance_r(0.4), \\\n",
    "                                                cmocean.cm.balance_r(0.55), \\\n",
    "                                                cmocean.cm.balance_r(0.6), \\\n",
    "                                                cmocean.cm.balance_r(0.65)])\n",
    "                                                \n",
    "cmap_custom.set_over(cmocean.cm.balance_r(.8))\n",
    "cmap_custom.set_under(cmocean.cm.balance_r(0))\n",
    "\n",
    "levels_2km = numpy.array([-10,-5,-0.5,0,0.5,5,10])\n",
    "norm = matplotlib.colors.BoundaryNorm(levels_2km, cmap_custom.N)"
   ]
  },
  {
   "cell_type": "code",
   "execution_count": 169,
   "metadata": {
    "ExecuteTime": {
     "end_time": "2018-06-12T23:41:25.026395Z",
     "start_time": "2018-06-12T23:40:49.034108Z"
    }
   },
   "outputs": [
    {
     "data": {
      "image/png": "[encoded data removed]",
      "text/plain": [
       "<Figure size 612x432 with 5 Axes>"
      ]
     },
     "metadata": {},
     "output_type": "display_data"
    }
   ],
   "source": [
    "fontsize=18\n",
    "\n",
    "fig = mp.figure(figsize=(8.5,6))\n",
    "\n",
    "map_proj = cartopy.crs.PlateCarree()\n",
    "\n",
    "ax1 = fig.add_subplot(231, projection=map_proj)\n",
    "ax1.set_extent([273,329,-30,15], crs=map_proj)\n",
    "\n",
    "# ax2 = fig.add_subplot(232, projection=map_proj)\n",
    "# ax2.set_extent([273,329,-30,15], crs=map_proj)\n",
    "\n",
    "ax3 = fig.add_subplot(234, projection=map_proj)\n",
    "ax3.set_extent([273,329,-30,15], crs=map_proj)\n",
    "\n",
    "ax4 = fig.add_subplot(235, projection=map_proj)\n",
    "ax4.set_extent([273,329,-30,15], crs=map_proj)\n",
    "\n",
    "ax5 = fig.add_subplot(236, projection=map_proj)\n",
    "ax5.set_extent([273,329,-30,15], crs=map_proj)\n",
    "\n",
    "levels1 = numpy.arange(-2,2.1,0.25)\n",
    "\n",
    "contour1 = ax1.contourf(xlong[0,:], xlat[:,0], raintot_diffs_time_mean_landmask*24., levels=levels1, cmap='RdBu', extend='both')\n",
    "\n",
    "# contour2 = ax2.contourf(xlong_2km[0,:], xlat_2km[:,0], raintot_diffs_2km_time_mean_landmask*24., \\\n",
    "#                         levels=levels_2km, cmap=cmap_custom, extend='both', norm=norm)\n",
    "\n",
    "# #ax1.contour(xlong[0,:], xlat[:,0], raintot_diffs_2km_time_mean_landmask, levels=[0], colors='0.1')\n",
    "# ax2.set_extent([273,329,-30,15], crs=map_proj)\n",
    "# latmin_d03 = -2.243599\n",
    "# latmax_d03 = 12.03965\n",
    "# lonmin_d03 = 313.6654510498047\n",
    "# lonmax_d03 = 277.7049255371094\n",
    "# d03_width = lonmax_d03-lonmin_d03\n",
    "# d03_height = latmax_d03-latmin_d03\n",
    "# ax2.add_patch(matplotlib.patches.Rectangle(xy=[lonmin_d03, latmin_d03], width=d03_width, height=d03_height,\n",
    "#                                 facecolor='none',\n",
    "#                                 edgecolor='0.1',\\\n",
    "#                                 linewidth=2,\\\n",
    "#                                 transform=map_proj, zorder=2) )\n",
    "\n",
    "contour3 = ax3.contourf(lon_subset, lat_subset, PRECT_diffs_10day*86400.*1000, levels=levels1, cmap='RdBu', extend='both')\n",
    "ax3.contour(lon_subset, lat_subset, PRECT_diffs_10day, levels=[0], colors='0.1')\n",
    "\n",
    "contour4 = ax4.contourf(lon_subset, lat_subset, PRECT_diffs_30day*86400.*1000, levels=levels1, cmap='RdBu', extend='both')\n",
    "ax4.contour(lon_subset, lat_subset, PRECT_diffs_30day, levels=[0], colors='0.1')\n",
    "\n",
    "contour5 = ax5.contourf(lon_subset, lat_subset, PRECT_diffs_10year*86400.*1000, levels=levels1, cmap='RdBu', extend='both')\n",
    "ax5.contour(lon_subset, lat_subset, PRECT_diffs_10year, levels=[0], colors='0.1')\n",
    "\n",
    "ax1.coastlines()\n",
    "#ax2.coastlines()\n",
    "ax3.coastlines()\n",
    "ax4.coastlines()\n",
    "ax5.coastlines()\n",
    "\n",
    "ax1.text(s='WRF 50km 10d mean', x=0, y=1.02, transform=ax1.transAxes, fontsize=fontsize, ha='left', va='bottom')\n",
    "#ax2.text(s='WRF 2km 10d mean', x=0, y=1.02, transform=ax2.transAxes, fontsize=fontsize, ha='left', va='bottom')\n",
    "ax3.text(s='CESM 2$\\degree$ 10d mean', x=0, y=1.02, transform=ax3.transAxes, fontsize=fontsize, ha='left', va='bottom')\n",
    "ax4.text(s='CESM 2$\\degree$ 30d mean', x=0, y=1.02, transform=ax4.transAxes, fontsize=fontsize, ha='left', va='bottom')\n",
    "ax5.text(s='CESM 2$\\degree$ 10y mean', x=0, y=1.02, transform=ax5.transAxes, fontsize=fontsize, ha='left', va='bottom')\n",
    "\n",
    "fig.tight_layout()#h_pad=2)\n",
    "\n",
    "axlpos = ax3.get_position()\n",
    "axrpos = ax5.get_position()\n",
    "\n",
    "cbar_ax = fig.add_axes([axlpos.x0,axlpos.y0-0.065,axrpos.x1-axlpos.x0,0.05])\n",
    "cbar = fig.colorbar(contour4, cax=cbar_ax, orientation='horizontal')\n",
    "cbar_ax.tick_params(labelsize=fontsize)\n",
    "cbar.set_label('mm day$^{\\,-1}$', fontsize=fontsize)\n",
    "\n",
    "# scale = 0.88\n",
    "# axpos_2km = ax2.get_position()\n",
    "# cbar_ax2 = fig.add_axes([axpos_2km.x1+0.03, axpos_2km.y0+.5*(1-scale)*axpos_2km.height, 0.025, axpos_2km.height*scale])\n",
    "# cbar2 = fig.colorbar(contour2, cax=cbar_ax2, orientation='vertical')\n",
    "# cbar_ax2.tick_params(labelsize=fontsize)\n",
    "# cbar2.set_label('mm day$^{\\,-1}$', fontsize=fontsize)\n",
    "\n",
    "\n",
    "fig.savefig('figures/cesm_10day_30day_10year_mean_precip_change_WITH_WRF.png', dpi=600, bbox_inches='tight', transparent=True)\n"
   ]
  }
 ],
 "metadata": {
  "kernelspec": {
   "display_name": "Python 3",
   "language": "python",
   "name": "python3"
  },
  "language_info": {
   "codemirror_mode": {
    "name": "ipython",
    "version": 3
   },
   "file_extension": ".py",
   "mimetype": "text/x-python",
   "name": "python",
   "nbconvert_exporter": "python",
   "pygments_lexer": "ipython3",
   "version": "3.6.5"
  },
  "varInspector": {
   "cols": {
    "lenName": 16,
    "lenType": 16,
    "lenVar": 40
   },
   "kernels_config": {
    "python": {
     "delete_cmd_postfix": "",
     "delete_cmd_prefix": "del ",
     "library": "var_list.py",
     "varRefreshCmd": "print(var_dic_list())"
    },
    "r": {
     "delete_cmd_postfix": ") ",
     "delete_cmd_prefix": "rm(",
     "library": "var_list.r",
     "varRefreshCmd": "cat(var_dic_list()) "
    }
   },
   "types_to_exclude": [
    "module",
    "function",
    "builtin_function_or_method",
    "instance",
    "_Feature"
   ],
   "window_display": false
  }
 },
 "nbformat": 4,
 "nbformat_minor": 2
}
