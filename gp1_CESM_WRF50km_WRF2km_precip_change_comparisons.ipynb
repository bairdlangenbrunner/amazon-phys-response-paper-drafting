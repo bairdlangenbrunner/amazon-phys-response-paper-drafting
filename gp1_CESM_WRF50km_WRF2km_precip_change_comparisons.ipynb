{
 "cells": [
  {
   "cell_type": "code",
   "execution_count": 67,
   "metadata": {
    "ExecuteTime": {
     "end_time": "2018-06-21T15:21:49.224962Z",
     "start_time": "2018-06-21T15:21:49.166506Z"
    }
   },
   "outputs": [],
   "source": [
    "import numpy\n",
    "import xarray\n",
    "import matplotlib\n",
    "import matplotlib.pyplot as mp\n",
    "import datetime\n",
    "import matplotlib.colors\n",
    "import scipy.stats\n",
    "import itertools\n",
    "import string\n",
    "import matplotlib.patches\n",
    "import netCDF4\n",
    "import cftime\n",
    "import seaborn\n",
    "import cmocean\n",
    "import matplotlib.gridspec\n",
    "import scipy.interpolate\n",
    "\n",
    "import glob\n",
    "import pandas\n",
    "\n",
    "import mpl_toolkits\n",
    "import cartopy\n",
    "\n",
    "DEGREE_SIGN = u'\\u00B0'\n",
    "mp.rcParams.update({'mathtext.default': 'regular'})\n",
    "\n",
    "% matplotlib inline"
   ]
  },
  {
   "cell_type": "raw",
   "metadata": {
    "ExecuteTime": {
     "end_time": "2018-06-18T20:10:54.341537Z",
     "start_time": "2018-06-18T20:10:54.029323Z"
    }
   },
   "source": [
    "geo_em_ncfile = xarray.open_dataset('/beegfs/DATA/pritchard/blangenb/WRF_ARCHIVE/CHEYENNE/FMAASO/geo_em.d01_amazon_50km.nc')\n",
    "hgt = geo_em_ncfile.variables['HGT'].data[0,:,:]"
   ]
  },
  {
   "cell_type": "markdown",
   "metadata": {},
   "source": [
    "# 30day runs"
   ]
  },
  {
   "cell_type": "markdown",
   "metadata": {},
   "source": [
    "import cam 400 data"
   ]
  },
  {
   "cell_type": "code",
   "execution_count": 3,
   "metadata": {
    "ExecuteTime": {
     "end_time": "2018-06-18T20:11:13.607817Z",
     "start_time": "2018-06-18T20:10:54.383242Z"
    }
   },
   "outputs": [],
   "source": [
    "cont_fileroot = '/beegfs/DATA/pritchard/blangenb/CESM_ARCHIVE/B_1850_CAM5.30days.cam0400.clm0400.ens_10members/ens_mean_cesm_files/'\n",
    "cont_filename = 'B_1850_CAM5.30days.cam0400.clm0400.ens.cam.h0.0011-03-20-0000_0011-04-20-0000_ens_mean.nc'\n",
    "cont_cam_ds = xarray.open_dataset(cont_fileroot+cont_filename, decode_times=False)"
   ]
  },
  {
   "cell_type": "code",
   "execution_count": 99,
   "metadata": {
    "ExecuteTime": {
     "end_time": "2018-06-21T16:27:34.936921Z",
     "start_time": "2018-06-21T16:27:34.918004Z"
    }
   },
   "outputs": [],
   "source": [
    "topo_filename = 'USGS-gtopo30_1.9x2.5_remap_c050602.nc'\n",
    "topo_fileroot = '/beegfs/DATA/pritchard/blangenb/CESM_ARCHIVE/B_1850_CAM5.30days.cam0400.clm0400.ens_10members/'\n",
    "topo_ds = xarray.open_dataset(topo_fileroot+topo_filename, decode_times=False)"
   ]
  },
  {
   "cell_type": "markdown",
   "metadata": {},
   "source": [
    "calculate latitude information"
   ]
  },
  {
   "cell_type": "code",
   "execution_count": 123,
   "metadata": {
    "ExecuteTime": {
     "end_time": "2018-06-21T18:28:30.998919Z",
     "start_time": "2018-06-21T18:28:30.990701Z"
    }
   },
   "outputs": [],
   "source": [
    "lat_lo = -10.\n",
    "lat_hi = 10.\n",
    "lon_lo = 270.\n",
    "lon_hi = 330."
   ]
  },
  {
   "cell_type": "code",
   "execution_count": 124,
   "metadata": {
    "ExecuteTime": {
     "end_time": "2018-06-21T18:28:33.327548Z",
     "start_time": "2018-06-21T18:28:33.319447Z"
    }
   },
   "outputs": [],
   "source": [
    "lat = cont_cam_ds['lat'].values\n",
    "lon = cont_cam_ds['lon'].values\n",
    "\n",
    "lat_indices = (lat>=lat_lo)&(lat<=lat_hi)\n",
    "lon_indices = (lon>=lon_lo)&(lon<=lon_hi)\n",
    "\n",
    "lat_subset = lat[lat_indices]\n",
    "lon_subset = lon[lon_indices]"
   ]
  },
  {
   "cell_type": "markdown",
   "metadata": {},
   "source": [
    "get land fraction info"
   ]
  },
  {
   "cell_type": "code",
   "execution_count": 125,
   "metadata": {
    "ExecuteTime": {
     "end_time": "2018-06-21T18:28:58.780956Z",
     "start_time": "2018-06-21T18:28:35.402240Z"
    }
   },
   "outputs": [],
   "source": [
    "LANDFRAC = cont_cam_ds['LANDFRAC'].sel(lat=slice(lat_lo,lat_hi),lon=slice(lon_lo,lon_hi)).values[0,:,:]"
   ]
  },
  {
   "cell_type": "markdown",
   "metadata": {},
   "source": [
    "get 400 fields for cam"
   ]
  },
  {
   "cell_type": "code",
   "execution_count": 126,
   "metadata": {
    "ExecuteTime": {
     "end_time": "2018-06-21T18:29:31.041312Z",
     "start_time": "2018-06-21T18:29:00.851474Z"
    }
   },
   "outputs": [],
   "source": [
    "PRECC_400_30d = cont_cam_ds['PRECC'].sel(lat=slice(lat_lo,lat_hi),lon=slice(lon_lo,lon_hi)).values\n",
    "PRECL_400_30d = cont_cam_ds['PRECL'].sel(lat=slice(lat_lo,lat_hi),lon=slice(lon_lo,lon_hi)).values"
   ]
  },
  {
   "cell_type": "markdown",
   "metadata": {},
   "source": [
    "import cam 1000 data"
   ]
  },
  {
   "cell_type": "code",
   "execution_count": 127,
   "metadata": {
    "ExecuteTime": {
     "end_time": "2018-06-21T18:29:33.282632Z",
     "start_time": "2018-06-21T18:29:33.102164Z"
    }
   },
   "outputs": [],
   "source": [
    "phys_fileroot = '/beegfs/DATA/pritchard/blangenb/CESM_ARCHIVE/B_1850_CAM5.30days.cam0400.clm1000.ens_10members/ens_mean_cesm_files/'\n",
    "phys_filename = 'B_1850_CAM5.30days.cam0400.clm1000.ens.cam.h0.0011-03-20-0000_0011-04-20-0000_ens_mean.nc'\n",
    "phys_cam_ds = xarray.open_dataset(phys_fileroot+phys_filename, decode_times=False)"
   ]
  },
  {
   "cell_type": "markdown",
   "metadata": {},
   "source": [
    "get 1000 fields for cam"
   ]
  },
  {
   "cell_type": "code",
   "execution_count": 128,
   "metadata": {
    "ExecuteTime": {
     "end_time": "2018-06-21T18:30:03.844495Z",
     "start_time": "2018-06-21T18:29:35.330567Z"
    }
   },
   "outputs": [],
   "source": [
    "PRECC_1000_30d = phys_cam_ds['PRECC'].sel(lat=slice(lat_lo,lat_hi),lon=slice(lon_lo,lon_hi)).values\n",
    "PRECL_1000_30d = phys_cam_ds['PRECL'].sel(lat=slice(lat_lo,lat_hi),lon=slice(lon_lo,lon_hi)).values"
   ]
  },
  {
   "cell_type": "markdown",
   "metadata": {},
   "source": [
    "convert time information"
   ]
  },
  {
   "cell_type": "code",
   "execution_count": 129,
   "metadata": {
    "ExecuteTime": {
     "end_time": "2018-06-21T18:30:05.930423Z",
     "start_time": "2018-06-21T18:30:05.908257Z"
    }
   },
   "outputs": [],
   "source": [
    "time_400 = cont_cam_ds['time']\n",
    "time_converted = netCDF4.num2date(time_400.values, time_400.units, time_400.calendar)\n",
    "\n",
    "time_manual = []\n",
    "for t_idx in range(time_converted.size):\n",
    "    year=time_converted[t_idx].year\n",
    "    month=time_converted[t_idx].month\n",
    "    day=time_converted[t_idx].day\n",
    "    hour=time_converted[t_idx].hour\n",
    "    minute=time_converted[t_idx].minute\n",
    "    hour_round = round(hour+minute/60)\n",
    "    time_manual.append(cftime.DatetimeNoLeap(year,month,day,hour_round))"
   ]
  },
  {
   "cell_type": "markdown",
   "metadata": {},
   "source": [
    "specify timing"
   ]
  },
  {
   "cell_type": "code",
   "execution_count": 130,
   "metadata": {
    "ExecuteTime": {
     "end_time": "2018-06-21T18:30:07.986953Z",
     "start_time": "2018-06-21T18:30:07.981660Z"
    }
   },
   "outputs": [],
   "source": [
    "skip_time = 24\n",
    "#end_time = 745"
   ]
  },
  {
   "cell_type": "markdown",
   "metadata": {},
   "source": [
    "calculate PRECT diffs"
   ]
  },
  {
   "cell_type": "code",
   "execution_count": 131,
   "metadata": {
    "ExecuteTime": {
     "end_time": "2018-06-21T18:30:10.070905Z",
     "start_time": "2018-06-21T18:30:10.063449Z"
    }
   },
   "outputs": [],
   "source": [
    "PRECT_400_30d = PRECC_400_30d+PRECL_400_30d\n",
    "PRECT_1000_30d = PRECC_1000_30d+PRECL_1000_30d"
   ]
  },
  {
   "cell_type": "code",
   "execution_count": 132,
   "metadata": {
    "ExecuteTime": {
     "end_time": "2018-06-21T18:30:12.134069Z",
     "start_time": "2018-06-21T18:30:12.125060Z"
    }
   },
   "outputs": [],
   "source": [
    "PRECT_1000_timemean_10day = numpy.mean(PRECT_1000_30d[skip_time:240,:,:], axis=0)\n",
    "PRECT_1000_timemean_10day_landmask = numpy.copy(PRECT_1000_timemean_10day)\n",
    "PRECT_1000_timemean_10day_landmask[LANDFRAC==0] = numpy.nan\n",
    "\n",
    "PRECT_400_timemean_10day = numpy.nanmean(PRECT_400_30d[skip_time:240,:,:], axis=0)\n",
    "PRECT_400_timemean_10day_landmask = numpy.copy(PRECT_400_timemean_10day)\n",
    "PRECT_400_timemean_10day_landmask[LANDFRAC==0] = numpy.nan"
   ]
  },
  {
   "cell_type": "code",
   "execution_count": 133,
   "metadata": {
    "ExecuteTime": {
     "end_time": "2018-06-21T18:30:12.249169Z",
     "start_time": "2018-06-21T18:30:12.142347Z"
    }
   },
   "outputs": [],
   "source": [
    "PRECT_1000_timemean_30day = numpy.mean(PRECT_1000_30d[skip_time:,:,:], axis=0)\n",
    "PRECT_1000_timemean_30day_landmask = numpy.copy(PRECT_1000_timemean_30day)\n",
    "PRECT_1000_timemean_30day_landmask[LANDFRAC==0] = numpy.nan\n",
    "\n",
    "PRECT_400_timemean_30day = numpy.nanmean(PRECT_400_30d[skip_time:,:,:], axis=0)\n",
    "PRECT_400_timemean_30day_landmask = numpy.copy(PRECT_400_timemean_30day)\n",
    "PRECT_400_timemean_30day_landmask[LANDFRAC==0] = numpy.nan"
   ]
  },
  {
   "cell_type": "markdown",
   "metadata": {},
   "source": [
    "get topography info"
   ]
  },
  {
   "cell_type": "code",
   "execution_count": 135,
   "metadata": {
    "ExecuteTime": {
     "end_time": "2018-06-21T18:30:16.264139Z",
     "start_time": "2018-06-21T18:30:16.157085Z"
    }
   },
   "outputs": [],
   "source": [
    "topo_data = topo_ds['PHIS'].sel(lat=slice(lat_lo,lat_hi),lon=slice(lon_lo,lon_hi)).values/9.80665"
   ]
  },
  {
   "cell_type": "code",
   "execution_count": 136,
   "metadata": {
    "ExecuteTime": {
     "end_time": "2018-06-21T18:30:18.207667Z",
     "start_time": "2018-06-21T18:30:18.197856Z"
    }
   },
   "outputs": [
    {
     "name": "stderr",
     "output_type": "stream",
     "text": [
      "/export/home/blangenb/anaconda3/lib/python3.6/site-packages/ipykernel_launcher.py:3: RuntimeWarning: Mean of empty slice\n",
      "  This is separate from the ipykernel package so we can avoid doing imports until\n"
     ]
    }
   ],
   "source": [
    "topo_data_landmask = numpy.copy(topo_data)\n",
    "topo_data_landmask[LANDFRAC==0] = numpy.nan\n",
    "topo_data_latmean = numpy.nanmean(topo_data_landmask, axis=0)"
   ]
  },
  {
   "cell_type": "markdown",
   "metadata": {},
   "source": [
    "# 10year simulations"
   ]
  },
  {
   "cell_type": "markdown",
   "metadata": {},
   "source": [
    "400 clm runs"
   ]
  },
  {
   "cell_type": "code",
   "execution_count": 144,
   "metadata": {
    "ExecuteTime": {
     "end_time": "2018-06-21T21:57:15.856591Z",
     "start_time": "2018-06-21T21:56:50.009430Z"
    }
   },
   "outputs": [],
   "source": [
    "data_dir = '/beegfs/DATA/pritchard/blangenb/CESM_ARCHIVE/B_1850_CAM5.10years.cam0400.clm0400/'\n",
    "cont_cam_mfds = xarray.open_mfdataset(data_dir + 'atm/hist/*.nc', decode_times=False)"
   ]
  },
  {
   "cell_type": "code",
   "execution_count": 138,
   "metadata": {
    "ExecuteTime": {
     "end_time": "2018-06-21T18:35:11.745303Z",
     "start_time": "2018-06-21T18:32:45.256254Z"
    }
   },
   "outputs": [],
   "source": [
    "PRECC_400_10y = cont_cam_mfds['PRECC'].sel(lat=slice(lat_lo,lat_hi),lon=slice(lon_lo,lon_hi)).values\n",
    "PRECL_400_10y = cont_cam_mfds['PRECL'].sel(lat=slice(lat_lo,lat_hi),lon=slice(lon_lo,lon_hi)).values\n",
    "PRECT_400_10y = PRECC_400_10y+PRECL_400_10y"
   ]
  },
  {
   "cell_type": "markdown",
   "metadata": {},
   "source": [
    "1000 clm runs"
   ]
  },
  {
   "cell_type": "code",
   "execution_count": 139,
   "metadata": {
    "ExecuteTime": {
     "end_time": "2018-06-21T18:37:59.498237Z",
     "start_time": "2018-06-21T18:35:13.647509Z"
    }
   },
   "outputs": [
    {
     "name": "stderr",
     "output_type": "stream",
     "text": [
      "/export/home/blangenb/anaconda3/lib/python3.6/site-packages/xarray/coding/times.py:132: SerializationWarning: Unable to decode time axis into full numpy.datetime64 objects, continuing using dummy cftime.datetime objects instead, reason: dates out of range\n",
      "  enable_cftimeindex)\n",
      "/export/home/blangenb/anaconda3/lib/python3.6/site-packages/xarray/coding/variables.py:66: SerializationWarning: Unable to decode time axis into full numpy.datetime64 objects, continuing using dummy cftime.datetime objects instead, reason: dates out of range\n",
      "  return self.func(self.array[key])\n"
     ]
    }
   ],
   "source": [
    "data_dir = '/beegfs/DATA/pritchard/blangenb/CESM_ARCHIVE/B_1850_CAM5.10years.cam0400.clm1000/'\n",
    "phys_cam_mfds = xarray.open_mfdataset(data_dir + 'atm/hist/*.nc')#, decode_times=False)"
   ]
  },
  {
   "cell_type": "code",
   "execution_count": 140,
   "metadata": {
    "ExecuteTime": {
     "end_time": "2018-06-21T18:40:09.576474Z",
     "start_time": "2018-06-21T18:38:01.403467Z"
    }
   },
   "outputs": [],
   "source": [
    "PRECC_1000_10y = phys_cam_mfds['PRECC'].sel(lat=slice(lat_lo,lat_hi),lon=slice(lon_lo,lon_hi)).values\n",
    "PRECL_1000_10y = phys_cam_mfds['PRECL'].sel(lat=slice(lat_lo,lat_hi),lon=slice(lon_lo,lon_hi)).values\n",
    "PRECT_1000_10y = PRECC_1000_10y+PRECL_1000_10y"
   ]
  },
  {
   "cell_type": "markdown",
   "metadata": {},
   "source": [
    "take time averages"
   ]
  },
  {
   "cell_type": "code",
   "execution_count": 141,
   "metadata": {
    "ExecuteTime": {
     "end_time": "2018-06-21T18:40:11.498373Z",
     "start_time": "2018-06-21T18:40:11.489013Z"
    }
   },
   "outputs": [],
   "source": [
    "PRECT_400_timemean_10year = numpy.mean(PRECT_400_10y, axis=0)\n",
    "PRECT_1000_timemean_10year = numpy.mean(PRECT_1000_10y, axis=0)"
   ]
  },
  {
   "cell_type": "code",
   "execution_count": 142,
   "metadata": {
    "ExecuteTime": {
     "end_time": "2018-06-21T18:40:13.377432Z",
     "start_time": "2018-06-21T18:40:13.371416Z"
    }
   },
   "outputs": [],
   "source": [
    "PRECT_400_timemean_10year_landmask = numpy.copy(PRECT_400_timemean_10year)\n",
    "PRECT_1000_timemean_10year_landmask = numpy.copy(PRECT_1000_timemean_10year)\n",
    "\n",
    "PRECT_400_timemean_10year_landmask[LANDFRAC==0] = numpy.nan\n",
    "PRECT_1000_timemean_10year_landmask[LANDFRAC==0] = numpy.nan"
   ]
  },
  {
   "cell_type": "markdown",
   "metadata": {},
   "source": [
    "# calculate all differences"
   ]
  },
  {
   "cell_type": "code",
   "execution_count": 143,
   "metadata": {
    "ExecuteTime": {
     "end_time": "2018-06-21T18:40:15.222096Z",
     "start_time": "2018-06-21T18:40:15.216587Z"
    }
   },
   "outputs": [],
   "source": [
    "PRECT_diffs_10day = PRECT_1000_timemean_10day_landmask-PRECT_400_timemean_10day_landmask\n",
    "PRECT_diffs_30day = PRECT_1000_timemean_30day_landmask-PRECT_400_timemean_30day_landmask\n",
    "PRECT_diffs_10year = PRECT_1000_timemean_10year_landmask-PRECT_400_timemean_10year_landmask"
   ]
  },
  {
   "cell_type": "markdown",
   "metadata": {},
   "source": [
    "# wrf 50km runs"
   ]
  },
  {
   "cell_type": "markdown",
   "metadata": {},
   "source": [
    "## 400 data"
   ]
  },
  {
   "cell_type": "code",
   "execution_count": 22,
   "metadata": {
    "ExecuteTime": {
     "end_time": "2018-06-18T20:21:30.035744Z",
     "start_time": "2018-06-18T20:21:28.574037Z"
    }
   },
   "outputs": [],
   "source": [
    "root_dir = '/beegfs/DATA/pritchard/blangenb/WRF_ARCHIVE/CHEYENNE/FMAASO/400/ens_mean_wrfout_files'\n",
    "file_list = glob.glob(root_dir+'/'+'wrfout*.nc')\n",
    "ds_list = [netCDF4.Dataset(file) for file in file_list]"
   ]
  },
  {
   "cell_type": "code",
   "execution_count": 23,
   "metadata": {
    "ExecuteTime": {
     "end_time": "2018-06-18T20:21:38.074070Z",
     "start_time": "2018-06-18T20:21:30.951350Z"
    }
   },
   "outputs": [],
   "source": [
    "cont_mfds = xarray.open_mfdataset(root_dir + '/' + 'wrfout*.nc')"
   ]
  },
  {
   "cell_type": "code",
   "execution_count": 24,
   "metadata": {
    "ExecuteTime": {
     "end_time": "2018-06-18T20:22:01.825958Z",
     "start_time": "2018-06-18T20:21:39.194974Z"
    }
   },
   "outputs": [],
   "source": [
    "rainc_400 = cont_mfds['RAINC'].values\n",
    "rainnc_400 = cont_mfds['RAINNC'].values"
   ]
  },
  {
   "cell_type": "code",
   "execution_count": 25,
   "metadata": {
    "ExecuteTime": {
     "end_time": "2018-06-18T20:22:44.585181Z",
     "start_time": "2018-06-18T20:22:02.955958Z"
    }
   },
   "outputs": [],
   "source": [
    "xlat = cont_mfds['XLAT'].values[0,:,:]\n",
    "xlong = cont_mfds['XLONG'].values[0,:,:]\n",
    "landmask = cont_mfds['LANDMASK'].values[0,:,:]\n",
    "landmask_midpoints = landmask[1:,1:]"
   ]
  },
  {
   "cell_type": "code",
   "execution_count": 26,
   "metadata": {
    "ExecuteTime": {
     "end_time": "2018-06-18T20:22:45.730254Z",
     "start_time": "2018-06-18T20:22:45.724489Z"
    }
   },
   "outputs": [],
   "source": [
    "xlat_indices = (xlat>=-10)&(xlat<=10.)"
   ]
  },
  {
   "cell_type": "code",
   "execution_count": 146,
   "metadata": {
    "ExecuteTime": {
     "end_time": "2018-06-21T22:02:59.299908Z",
     "start_time": "2018-06-21T22:02:59.145960Z"
    }
   },
   "outputs": [],
   "source": [
    "hgt_50km = cont_mfds['HGT'].sel(Time=0).values"
   ]
  },
  {
   "cell_type": "code",
   "execution_count": 164,
   "metadata": {
    "ExecuteTime": {
     "end_time": "2018-06-21T22:10:07.435982Z",
     "start_time": "2018-06-21T22:10:07.425068Z"
    }
   },
   "outputs": [
    {
     "name": "stderr",
     "output_type": "stream",
     "text": [
      "/export/home/blangenb/anaconda3/lib/python3.6/site-packages/ipykernel_launcher.py:5: RuntimeWarning: Mean of empty slice\n",
      "  \"\"\"\n"
     ]
    }
   ],
   "source": [
    "hgt_50km_landmask = numpy.copy(hgt_50km)\n",
    "hgt_50km_landmask[landmask==0] = numpy.nan\n",
    "\n",
    "hgt_50km_landmask_lat_subset = hgt_50km_landmask[xlat_indices,:]\n",
    "hgt_50km_latmean = numpy.nanmean(hgt_50km_landmask_lat_subset, axis=0)"
   ]
  },
  {
   "cell_type": "markdown",
   "metadata": {},
   "source": [
    "## 1000 data"
   ]
  },
  {
   "cell_type": "code",
   "execution_count": 28,
   "metadata": {
    "ExecuteTime": {
     "end_time": "2018-06-18T20:22:49.600736Z",
     "start_time": "2018-06-18T20:22:48.027684Z"
    }
   },
   "outputs": [],
   "source": [
    "root_dir = '/beegfs/DATA/pritchard/blangenb/WRF_ARCHIVE/CHEYENNE/FMAASO/1000/ens_mean_wrfout_files'\n",
    "file_list = glob.glob(root_dir+'/'+'wrfout*.nc')\n",
    "ds_list = [netCDF4.Dataset(file) for file in file_list]"
   ]
  },
  {
   "cell_type": "code",
   "execution_count": 29,
   "metadata": {
    "ExecuteTime": {
     "end_time": "2018-06-18T20:22:58.706410Z",
     "start_time": "2018-06-18T20:22:50.750286Z"
    }
   },
   "outputs": [],
   "source": [
    "phys_mfds = xarray.open_mfdataset(root_dir + '/' + 'wrfout*.nc')"
   ]
  },
  {
   "cell_type": "code",
   "execution_count": 30,
   "metadata": {
    "ExecuteTime": {
     "end_time": "2018-06-18T20:23:22.172138Z",
     "start_time": "2018-06-18T20:23:00.074269Z"
    }
   },
   "outputs": [],
   "source": [
    "rainc_1000 = phys_mfds['RAINC'].values\n",
    "rainnc_1000 = phys_mfds['RAINNC'].values"
   ]
  },
  {
   "cell_type": "markdown",
   "metadata": {},
   "source": [
    "## calculate WRF differences"
   ]
  },
  {
   "cell_type": "code",
   "execution_count": 31,
   "metadata": {
    "ExecuteTime": {
     "end_time": "2018-06-18T20:23:30.089013Z",
     "start_time": "2018-06-18T20:23:23.545516Z"
    }
   },
   "outputs": [],
   "source": [
    "raintot_400 = rainc_400+rainnc_400\n",
    "raintot_1000 = rainc_1000+rainnc_1000\n",
    "\n",
    "raintot_400_diff = numpy.zeros((raintot_400.shape))*numpy.nan\n",
    "raintot_400_diff[:-1,:,:] = numpy.diff(raintot_400, axis=0)#*(24./3) # convert to mm/day\n",
    "\n",
    "raintot_1000_diff = numpy.zeros((raintot_1000.shape))*numpy.nan\n",
    "raintot_1000_diff[:-1,:,:] = numpy.diff(raintot_1000, axis=0)#*(24./3) # convert to mm/day\n",
    "\n",
    "# monthly mean\n",
    "raintot_diffs_time_mean = numpy.nanmean(raintot_1000_diff[skip_time:,:,:] - raintot_400_diff[skip_time:,:,:], axis=0)\n",
    "raintot_diffs_time_mean_landmask = numpy.copy(raintot_diffs_time_mean)\n",
    "raintot_diffs_time_mean_landmask[landmask==0] = numpy.nan\n",
    "\n",
    "raintot_400_time_mean = numpy.nanmean(raintot_400_diff[skip_time:,:,:], axis=0)\n",
    "raintot_400_time_mean_landmask = numpy.copy(raintot_400_time_mean)\n",
    "raintot_400_time_mean_landmask[landmask==0] = numpy.nan\n"
   ]
  },
  {
   "cell_type": "markdown",
   "metadata": {},
   "source": [
    "# import WRF 2km days 2-10"
   ]
  },
  {
   "cell_type": "code",
   "execution_count": 32,
   "metadata": {
    "ExecuteTime": {
     "end_time": "2018-06-18T20:23:43.106571Z",
     "start_time": "2018-06-18T20:23:31.495987Z"
    }
   },
   "outputs": [],
   "source": [
    "data_dir = '/beegfs/DATA/pritchard/blangenb/WRF_ARCHIVE/CHEYENNE/nested_FMAASO_10days/400/001/'\n",
    "cont_mfds_2km = xarray.open_mfdataset(data_dir + 'wrfout_d03_1979-01-0[2,3,4,5,6,7,8,9]*')"
   ]
  },
  {
   "cell_type": "code",
   "execution_count": 33,
   "metadata": {
    "ExecuteTime": {
     "end_time": "2018-06-18T20:23:58.276338Z",
     "start_time": "2018-06-18T20:23:44.714772Z"
    }
   },
   "outputs": [],
   "source": [
    "data_dir = '/beegfs/DATA/pritchard/blangenb/WRF_ARCHIVE/CHEYENNE/nested_FMAASO_10days/1000/001/'\n",
    "phys_mfds_2km = xarray.open_mfdataset(data_dir + 'wrfout_d03_1979-01-0[2,3,4,5,6,7,8,9]*')"
   ]
  },
  {
   "cell_type": "code",
   "execution_count": 34,
   "metadata": {
    "ExecuteTime": {
     "end_time": "2018-06-18T20:24:00.118839Z",
     "start_time": "2018-06-18T20:24:00.111759Z"
    }
   },
   "outputs": [],
   "source": [
    "raintot_400_2km = cont_mfds_2km['RAINNC']\n",
    "raintot_1000_2km = phys_mfds_2km['RAINNC']"
   ]
  },
  {
   "cell_type": "code",
   "execution_count": 35,
   "metadata": {
    "ExecuteTime": {
     "end_time": "2018-06-18T20:29:22.833669Z",
     "start_time": "2018-06-18T20:24:01.951400Z"
    }
   },
   "outputs": [],
   "source": [
    "raintot_400_2km_diffs = raintot_400_2km.diff(dim='Time').values\n",
    "raintot_1000_2km_diffs = raintot_1000_2km.diff(dim='Time').values"
   ]
  },
  {
   "cell_type": "code",
   "execution_count": 36,
   "metadata": {
    "ExecuteTime": {
     "end_time": "2018-06-18T20:29:57.393120Z",
     "start_time": "2018-06-18T20:29:24.683312Z"
    }
   },
   "outputs": [],
   "source": [
    "raintot_400_2km_time_mean = numpy.nanmean(raintot_400_2km_diffs[skip_time:,:,:], axis=0)\n",
    "raintot_1000_2km_time_mean = numpy.nanmean(raintot_1000_2km_diffs[skip_time:,:,:], axis=0)\n",
    "\n",
    "raintot_diffs_2km_time_mean = raintot_1000_2km_time_mean-raintot_400_2km_time_mean"
   ]
  },
  {
   "cell_type": "code",
   "execution_count": 37,
   "metadata": {
    "ExecuteTime": {
     "end_time": "2018-06-18T20:31:38.242229Z",
     "start_time": "2018-06-18T20:29:59.247505Z"
    }
   },
   "outputs": [],
   "source": [
    "landmask_2km = cont_mfds_2km['LANDMASK'].values[0,:,:]"
   ]
  },
  {
   "cell_type": "code",
   "execution_count": 38,
   "metadata": {
    "ExecuteTime": {
     "end_time": "2018-06-18T20:31:40.117649Z",
     "start_time": "2018-06-18T20:31:40.101081Z"
    }
   },
   "outputs": [],
   "source": [
    "raintot_diffs_2km_time_mean_landmask = numpy.copy(raintot_diffs_2km_time_mean)\n",
    "raintot_diffs_2km_time_mean_landmask[landmask_2km==0] = numpy.nan"
   ]
  },
  {
   "cell_type": "code",
   "execution_count": 40,
   "metadata": {
    "ExecuteTime": {
     "end_time": "2018-06-19T06:08:42.413185Z",
     "start_time": "2018-06-19T06:07:42.797464Z"
    }
   },
   "outputs": [],
   "source": [
    "xlat_2km = cont_mfds_2km['XLAT'].values[0,:,:]\n",
    "xlong_2km = cont_mfds_2km['XLONG'].values[0,:,:]"
   ]
  },
  {
   "cell_type": "code",
   "execution_count": 86,
   "metadata": {
    "ExecuteTime": {
     "end_time": "2018-06-21T15:32:11.690769Z",
     "start_time": "2018-06-21T15:32:11.271385Z"
    }
   },
   "outputs": [],
   "source": [
    "hgt_2km = cont_mfds_2km['HGT'].sel(Time=0).values"
   ]
  },
  {
   "cell_type": "code",
   "execution_count": 87,
   "metadata": {
    "ExecuteTime": {
     "end_time": "2018-06-21T15:33:05.055949Z",
     "start_time": "2018-06-21T15:33:05.024929Z"
    }
   },
   "outputs": [],
   "source": [
    "hgt_2km_landmask = numpy.copy(hgt_2km)\n",
    "hgt_2km_landmask[landmask_2km==0] = numpy.nan\n",
    "hgt_2km_latmean = numpy.nanmean(hgt_2km_landmask, axis=0)"
   ]
  },
  {
   "cell_type": "markdown",
   "metadata": {},
   "source": [
    "# import WRF 2km day 1"
   ]
  },
  {
   "cell_type": "raw",
   "metadata": {
    "ExecuteTime": {
     "end_time": "2018-06-12T17:13:30.990430Z",
     "start_time": "2018-06-12T17:13:23.169426Z"
    }
   },
   "source": [
    "data_dir = '/beegfs/DATA/pritchard/blangenb/WRF_ARCHIVE/CHEYENNE/nested_FMAASO_10days/400/001/'\n",
    "cont_mfds_2km_day1 = xarray.open_mfdataset(data_dir + 'wrfout_d03_1979-01-01*')"
   ]
  },
  {
   "cell_type": "raw",
   "metadata": {
    "ExecuteTime": {
     "end_time": "2018-06-12T17:14:01.431700Z",
     "start_time": "2018-06-12T17:13:53.705612Z"
    }
   },
   "source": [
    "data_dir = '/beegfs/DATA/pritchard/blangenb/WRF_ARCHIVE/CHEYENNE/nested_FMAASO_10days/1000/001/'\n",
    "phys_mfds_2km_day1 = xarray.open_mfdataset(data_dir + 'wrfout_d03_1979-01-01*')"
   ]
  },
  {
   "cell_type": "raw",
   "metadata": {
    "ExecuteTime": {
     "end_time": "2018-06-12T17:14:26.476781Z",
     "start_time": "2018-06-12T17:14:26.434436Z"
    }
   },
   "source": [
    "raintot_400_2km_day1 = cont_mfds_2km_day1['RAINNC']\n",
    "raintot_1000_2km_day1 = phys_mfds_2km_day1['RAINNC']"
   ]
  },
  {
   "cell_type": "raw",
   "metadata": {
    "ExecuteTime": {
     "end_time": "2018-06-12T17:14:52.558781Z",
     "start_time": "2018-06-12T17:14:52.439418Z"
    }
   },
   "source": [
    "raintot_400_2km_day1_diffs = raintot_400_2km_day1.diff(dim='Time')#.values\n",
    "raintot_1000_2km_day1_diffs = raintot_400_2km_day1.diff(dim='Time')#.values"
   ]
  },
  {
   "cell_type": "raw",
   "metadata": {
    "ExecuteTime": {
     "end_time": "2018-06-12T17:20:51.926434Z",
     "start_time": "2018-06-12T17:20:51.868990Z"
    }
   },
   "source": [
    "raintot_400_2km_day1_diffs_time_mean = raintot_400_2km_day1_diffs.mean(dim='Time')\n",
    "raintot_1000_2km_day1_diffs_time_mean = raintot_400_2km_day1_diffs.mean(dim='Time')"
   ]
  },
  {
   "cell_type": "markdown",
   "metadata": {},
   "source": [
    "# create plots"
   ]
  },
  {
   "cell_type": "markdown",
   "metadata": {},
   "source": [
    "# calculate lat means"
   ]
  },
  {
   "cell_type": "code",
   "execution_count": 41,
   "metadata": {
    "ExecuteTime": {
     "end_time": "2018-06-19T06:18:23.195860Z",
     "start_time": "2018-06-19T06:18:23.170484Z"
    }
   },
   "outputs": [],
   "source": [
    "raintot_diffs_2km_latmean = numpy.nanmean(raintot_diffs_2km_time_mean, axis=0)"
   ]
  },
  {
   "cell_type": "code",
   "execution_count": 73,
   "metadata": {
    "ExecuteTime": {
     "end_time": "2018-06-21T15:22:54.976644Z",
     "start_time": "2018-06-21T15:22:54.966691Z"
    }
   },
   "outputs": [
    {
     "data": {
      "text/plain": [
       "(179, 289)"
      ]
     },
     "execution_count": 73,
     "metadata": {},
     "output_type": "execute_result"
    }
   ],
   "source": [
    "raintot_diffs_time_mean_landmask.shape"
   ]
  },
  {
   "cell_type": "code",
   "execution_count": 74,
   "metadata": {
    "ExecuteTime": {
     "end_time": "2018-06-21T15:23:10.782364Z",
     "start_time": "2018-06-21T15:23:10.748995Z"
    }
   },
   "outputs": [
    {
     "name": "stderr",
     "output_type": "stream",
     "text": [
      "/export/home/blangenb/anaconda3/lib/python3.6/site-packages/ipykernel_launcher.py:1: RuntimeWarning: Mean of empty slice\n",
      "  \"\"\"Entry point for launching an IPython kernel.\n",
      "/export/home/blangenb/anaconda3/lib/python3.6/site-packages/ipykernel_launcher.py:3: RuntimeWarning: Mean of empty slice\n",
      "  This is separate from the ipykernel package so we can avoid doing imports until\n",
      "/export/home/blangenb/anaconda3/lib/python3.6/site-packages/ipykernel_launcher.py:4: RuntimeWarning: Mean of empty slice\n",
      "  after removing the cwd from sys.path.\n",
      "/export/home/blangenb/anaconda3/lib/python3.6/site-packages/ipykernel_launcher.py:5: RuntimeWarning: Mean of empty slice\n",
      "  \"\"\"\n"
     ]
    }
   ],
   "source": [
    "raintot_diffs_latmean = numpy.nanmean(raintot_diffs_time_mean_landmask[(xlat[:,0]>=-10)&(xlat[:,0]<=10),:], axis=0)\n",
    "raintot_diffs_2km_latmean = numpy.nanmean(raintot_diffs_2km_time_mean, axis=0)\n",
    "PRECT_diffs_10day_latmean = numpy.nanmean(PRECT_diffs_10day[(lat_subset>=-10)&(lat_subset<=10),:], axis=0)\n",
    "PRECT_diffs_30day_latmean = numpy.nanmean(PRECT_diffs_30day[(lat_subset>=-10)&(lat_subset<=10),:], axis=0)\n",
    "PRECT_diffs_10year_latmean = numpy.nanmean(PRECT_diffs_10year[(lat_subset>=-10)&(lat_subset<=10),:], axis=0)"
   ]
  },
  {
   "cell_type": "code",
   "execution_count": 43,
   "metadata": {
    "ExecuteTime": {
     "end_time": "2018-06-19T06:18:27.313316Z",
     "start_time": "2018-06-19T06:18:27.227292Z"
    }
   },
   "outputs": [
    {
     "name": "stderr",
     "output_type": "stream",
     "text": [
      "/export/home/blangenb/anaconda3/lib/python3.6/site-packages/numpy/lib/nanfunctions.py:1434: RuntimeWarning: Degrees of freedom <= 0 for slice.\n",
      "  keepdims=keepdims)\n"
     ]
    }
   ],
   "source": [
    "raintot_diffs_latstd = numpy.nanstd(raintot_diffs_time_mean_landmask[(xlat[:,0]>=-10)&(xlat[:,0]<=10),:], axis=0, ddof=1)\n",
    "raintot_diffs_2km_latstd = numpy.nanstd(raintot_diffs_2km_time_mean, axis=0, ddof=1)\n",
    "PRECT_diffs_10day_latstd = numpy.nanstd(PRECT_diffs_10day[(lat_subset>=-10)&(lat_subset<=10),:], axis=0, ddof=1)\n",
    "PRECT_diffs_30day_latstd = numpy.nanstd(PRECT_diffs_30day[(lat_subset>=-10)&(lat_subset<=10),:], axis=0, ddof=1)\n",
    "PRECT_diffs_10year_latstd = numpy.nanstd(PRECT_diffs_10year[(lat_subset>=-10)&(lat_subset<=10),:], axis=0, ddof=1)\n",
    "\n"
   ]
  },
  {
   "cell_type": "code",
   "execution_count": 46,
   "metadata": {
    "ExecuteTime": {
     "end_time": "2018-06-19T06:18:33.207432Z",
     "start_time": "2018-06-19T06:18:33.199373Z"
    }
   },
   "outputs": [],
   "source": [
    "raintot_diffs_latstderr = raintot_diffs_latstd/numpy.sqrt(xlat[:,0].size)\n",
    "raintot_diffs_2km_latstderr = raintot_diffs_2km_latstd/numpy.sqrt(xlat_2km[:,0].size)\n",
    "PRECT_diffs_10day_latstderr = PRECT_diffs_10day_latstd/numpy.sqrt(lat_subset.size)\n",
    "PRECT_diffs_30day_latstderr = PRECT_diffs_30day_latstd/numpy.sqrt(lat_subset.size)\n",
    "PRECT_diffs_10year_latstderr = PRECT_diffs_10year_latstd/numpy.sqrt(lat_subset.size)\n",
    "\n"
   ]
  },
  {
   "cell_type": "code",
   "execution_count": 47,
   "metadata": {
    "ExecuteTime": {
     "end_time": "2018-06-19T06:18:35.128726Z",
     "start_time": "2018-06-19T06:18:35.115315Z"
    }
   },
   "outputs": [],
   "source": [
    "raintot_diffs_latmean_smooth = pandas.Series(raintot_diffs_latmean).rolling(window=3, center=True, min_periods=0).mean()\n",
    "raintot_diffs_2km_latmean_smooth = pandas.Series(raintot_diffs_2km_latmean).rolling(window=75, center=True, min_periods=0).mean()\n",
    "PRECT_diffs_10day_latmean_smooth = pandas.Series(PRECT_diffs_10day_latmean).rolling(window=3, center=True, min_periods=0).mean()\n",
    "\n"
   ]
  },
  {
   "cell_type": "code",
   "execution_count": 48,
   "metadata": {
    "ExecuteTime": {
     "end_time": "2018-06-19T06:18:37.047500Z",
     "start_time": "2018-06-19T06:18:37.038338Z"
    }
   },
   "outputs": [],
   "source": [
    "raintot_diffs_latstd_smooth = pandas.Series(raintot_diffs_latstd).rolling(window=3, center=True, min_periods=0).std(ddof=1)\n",
    "raintot_diffs_2km_latstd_smooth = pandas.Series(raintot_diffs_2km_latstd).rolling(window=75, center=True, min_periods=0).std(ddof=1)\n",
    "\n"
   ]
  },
  {
   "cell_type": "code",
   "execution_count": 171,
   "metadata": {
    "ExecuteTime": {
     "end_time": "2018-06-21T22:14:14.440850Z",
     "start_time": "2018-06-21T22:14:11.129378Z"
    }
   },
   "outputs": [
    {
     "data": {
      "image/png": "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\n",
      "text/plain": [
       "<Figure size 306x396 with 10 Axes>"
      ]
     },
     "metadata": {},
     "output_type": "display_data"
    }
   ],
   "source": [
    "colors = [cmocean.cm.thermal(0.3),\\\n",
    "          cmocean.cm.thermal(0.4),\\\n",
    "          cmocean.cm.thermal(0.5),\\\n",
    "          cmocean.cm.thermal(0.6),\\\n",
    "          cmocean.cm.thermal(0.7)]\n",
    "\n",
    "fontsize = 12\n",
    "\n",
    "fig = mp.figure(figsize=(4.25,5.5))\n",
    "\n",
    "ymax = 1920.6472595214843\n",
    "#ax2topo.get_ylim()\n",
    "##################################################\n",
    "# xvals = xlong[0,:]+360.\n",
    "# yvals = raintot_diffs_latmean_smooth*24.\n",
    "# f = scipy.interpolate.interp1d(xvals, pandas.Series(yvals).interpolate().values, kind='cubic')\n",
    "# xvals_interp = numpy.linspace(277.5, xvals.max(), 1000)\n",
    "# yvals_interp = f(xvals_interp)\n",
    "ax1 = fig.add_subplot(511)\n",
    "ax1.plot(xlong[0,:]+360.,\\\n",
    "         raintot_diffs_latmean_smooth*24., \\\n",
    "         color=colors[0],\\\n",
    "         label='WRF 50-km 10d')\n",
    "\n",
    "ax1topo = ax1.twinx()\n",
    "ax1topo.fill_between(xlong[0,:]+360., \\\n",
    "                     numpy.zeros(hgt_50km_latmean.size), \\\n",
    "                     hgt_50km_latmean, \\\n",
    "                     facecolor='0', alpha=0.25)\n",
    "y0,y1 = ax1topo.get_ylim()\n",
    "ax1topo.set_ylim(0,ymax)\n",
    "ax1topo.axis('off')\n",
    "\n",
    "# ax1.fill_between(xlong[0,:]+360., \\\n",
    "#                 (raintot_diffs_latmean_smooth-raintot_diffs_latstd_smooth)*24.,\\\n",
    "#                 (raintot_diffs_latmean_smooth+raintot_diffs_latstd_smooth)*24.,\\\n",
    "#                 facecolor=colors[0], alpha=0.333)\n",
    "\n",
    "\n",
    "##################################################\n",
    "xvals = xlong_2km[0,:]+360.\n",
    "yvals = raintot_diffs_2km_latmean_smooth*24.\n",
    "f = scipy.interpolate.interp1d(xvals, yvals, kind='cubic')\n",
    "xvals_interp = numpy.linspace(xvals.min(), xvals.max(), 1000)\n",
    "yvals_interp = f(xvals_interp)\n",
    "ax2 = fig.add_subplot(512)\n",
    "ax2.plot(xvals_interp,\\\n",
    "        yvals_interp, \\\n",
    "        color=colors[1],\\\n",
    "        label='WRF 2-km 10d')\n",
    "\n",
    "ax2topo = ax2.twinx()\n",
    "ax2topo.fill_between(xlong_2km[0,:]+360., \\\n",
    "                     numpy.zeros(hgt_2km_latmean.size), \\\n",
    "                     hgt_2km_latmean, \\\n",
    "                     facecolor='0', alpha=0.25)\n",
    "ax2topo.set_ylim(0,ymax)\n",
    "ax2topo.axis('off')\n",
    "\n",
    "# yvals = PRECT_diffs_10day_latstderr\n",
    "# yvals_interp_error = f(xvals_interp)\n",
    "# f = scipy.interpolate.interp1d(xvals, pandas.Series(yvals).interpolate().values, kind='cubic')\n",
    "# ax2.fill_between(xlong_2km[0,:]+360., \\\n",
    "#                 (raintot_diffs_2km_latmean_smooth-raintot_diffs_2km_latstd_smooth)*24.,\\\n",
    "#                 (raintot_diffs_2km_latmean_smooth+raintot_diffs_2km_latstd_smooth)*24.,\\\n",
    "#                 facecolor=colors[1], alpha=0.333)\n",
    "\n",
    "##################################################\n",
    "xvals = lon_subset\n",
    "yvals = PRECT_diffs_10day_latmean\n",
    "f = scipy.interpolate.interp1d(xvals, pandas.Series(yvals).interpolate().values, kind='cubic')\n",
    "xvals_interp = numpy.linspace(277.5, 325., 100)\n",
    "yvals_interp = f(xvals_interp)\n",
    "ax3 = fig.add_subplot(513)\n",
    "ax3.plot(xvals_interp,\\\n",
    "        yvals_interp*86400.*1000., \\\n",
    "        color=colors[2],\\\n",
    "        label='CESM 2$\\degree$ 10d')\n",
    "\n",
    "ax3topo = ax3.twinx()\n",
    "yvals = topo_data_latmean\n",
    "f = scipy.interpolate.interp1d(xvals, pandas.Series(yvals).interpolate().values, kind='cubic')\n",
    "yvals_interp = f(xvals_interp)\n",
    "ax3topo.fill_between(xvals_interp, \\\n",
    "                     numpy.zeros(yvals_interp.size), \\\n",
    "                     yvals_interp, \\\n",
    "                     facecolor='0', alpha=0.25)\n",
    "ax3topo.set_ylim(0,ymax)\n",
    "ax3topo.axis('off')\n",
    "\n",
    "# ax3topo.fill_between(lon_subset, \\\n",
    "#                      numpy.zeros(topo_data_latmean.size), \\\n",
    "#                      topo_data_latmean, \\\n",
    "#                      facecolor='0', alpha=0.25)\n",
    "\n",
    "# yvals = PRECT_diffs_10day_latstderr\n",
    "# f = scipy.interpolate.interp1d(xvals, yvals, kind='cubic')\n",
    "# yvals_interp_error = f(xvals_interp)\n",
    "# ax3.fill_between(xvals_interp, \\\n",
    "#                 (yvals_interp+yvals_interp_error)*86400.*1000.,\\\n",
    "#                 (yvals_interp-yvals_interp_error)*86400.*1000.,\\\n",
    "#                 facecolor=colors[1], alpha=0.333)\n",
    "\n",
    "\n",
    "##################################################\n",
    "xvals = lon_subset\n",
    "yvals = PRECT_diffs_30day_latmean\n",
    "f = scipy.interpolate.interp1d(xvals, pandas.Series(yvals).interpolate().values, kind='cubic')\n",
    "xvals_interp = numpy.linspace(277.5, 325., 100)\n",
    "yvals_interp = f(xvals_interp)\n",
    "ax4 = fig.add_subplot(514)\n",
    "ax4.plot(xvals_interp,\\\n",
    "        yvals_interp*86400.*1000., \\\n",
    "        color=colors[3],\\\n",
    "        label='CESM 2$\\degree$ 30d')\n",
    "\n",
    "ax4topo = ax4.twinx()\n",
    "yvals = topo_data_latmean\n",
    "f = scipy.interpolate.interp1d(xvals, pandas.Series(yvals).interpolate().values, kind='cubic')\n",
    "yvals_interp = f(xvals_interp)\n",
    "ax4topo.fill_between(xvals_interp, \\\n",
    "                     numpy.zeros(yvals_interp.size), \\\n",
    "                     yvals_interp, \\\n",
    "                     facecolor='0', alpha=0.25)\n",
    "ax4topo.set_ylim(0,ymax)\n",
    "ax4topo.axis('off')\n",
    "\n",
    "##################################################\n",
    "xvals = lon_subset\n",
    "yvals = PRECT_diffs_10year_latmean\n",
    "f = scipy.interpolate.interp1d(xvals, pandas.Series(yvals).interpolate().values, kind='cubic')\n",
    "xvals_interp = numpy.linspace(277.5, 325., 100)\n",
    "yvals_interp = f(xvals_interp)\n",
    "ax5 = fig.add_subplot(515)\n",
    "ax5.plot(xvals_interp,\\\n",
    "       yvals_interp*86400.*1000., \\\n",
    "       color=colors[4],\\\n",
    "       label='CESM 2$\\degree$ 10yr')\n",
    "\n",
    "ax5topo = ax5.twinx()\n",
    "yvals = topo_data_latmean\n",
    "f = scipy.interpolate.interp1d(xvals, pandas.Series(yvals).interpolate().values, kind='cubic')\n",
    "yvals_interp = f(xvals_interp)\n",
    "ax5topo.fill_between(xvals_interp, \\\n",
    "                     numpy.zeros(yvals_interp.size), \\\n",
    "                     yvals_interp, \\\n",
    "                     facecolor='0', alpha=0.25)\n",
    "ax5topo.set_ylim(0,ymax)\n",
    "ax5topo.axis('off')\n",
    "\n",
    "##################################################\n",
    "\n",
    "ax_list = [ax1,ax2,ax3,ax4,ax5]\n",
    "label_list = ['(a) WRF 50-km 10d',\\\n",
    "              '(b) WRF 2-km 10d', \\\n",
    "              '(c) CESM 2$\\degree$ 10d', \\\n",
    "              '(d) CESM 2$\\degree$ 30d', \\\n",
    "              '(e) CESM 2$\\degree$ 10y']\n",
    "\n",
    "fig.tight_layout()#h_pad=0)\n",
    "fig.subplots_adjust(wspace=0, hspace=0)\n",
    "\n",
    "map_lat_lo = -10.\n",
    "map_lat_hi = 10.\n",
    "map_lon_lo = 278\n",
    "map_lon_hi = 325.5\n",
    "\n",
    "ax1.zorder=1\n",
    "ax2.zorder=1\n",
    "ax3.zorder=1\n",
    "ax4.zorder=1\n",
    "ax5.zorder=1\n",
    "\n",
    "ax1.set_facecolor('None')\n",
    "ax2.set_facecolor('None')\n",
    "ax3.set_facecolor('None')\n",
    "ax4.set_facecolor('None')\n",
    "ax5.set_facecolor('None')\n",
    "\n",
    "[ax.tick_params(labelsize=fontsize) for ax in ax_list]\n",
    "[ax.set_xticklabels(['','','']) for ax in ax_list]\n",
    "[ax.axhline(0, lw=1, ls='--', c='0.1') for ax in ax_list]\n",
    "#[ax.set_ylim(-1.8,1.8) for ax in ax_list]\n",
    "[ax.set_yticks([-1.,0,1.]) for ax in ax_list]\n",
    "[ax_list[i].yaxis.tick_right() for i in [1,3]]\n",
    "[ax.set_xlim(map_lon_lo, map_lon_hi) for ax in ax_list]\n",
    "[ax.xaxis.grid() for ax in ax_list]\n",
    "[ax.set_xticks([280,290,300.,310,320.]) for ax in ax_list]\n",
    "\n",
    "[ax_list[i].text(s=label_list[i], x=0.98, y=0.87,\\\n",
    "                 ha='right', va='top', \\\n",
    "                 fontsize=fontsize, \\\n",
    "                 color=colors[i], \\\n",
    "                 transform=ax_list[i].transAxes) for i in range(5)]\n",
    "\n",
    "ax1pos = ax1.get_position()\n",
    "ax4pos = ax4.get_position()\n",
    "ax5pos = ax5.get_position()\n",
    "fig.text(s='mm day$^{\\,-1}$', \\\n",
    "         x=0, y=ax5pos.y0+0.5*(ax1pos.y1-ax5pos.y0), \\\n",
    "         rotation=90, \\\n",
    "         transform=fig.transFigure, \\\n",
    "         va='center', \\\n",
    "         ha='right', \\\n",
    "         fontsize=fontsize)\n",
    "\n",
    "ax5.set_xlabel('longitude', fontsize=fontsize)\n",
    "ax5.set_xticklabels(['280$\\degree$E','','300$\\degree$E','','320$\\degree$E'])\n",
    "\n",
    "# ax_orog = fig.add_axes([ax1pos.x0,ax1pos.y1,ax1pos.width,ax1pos.height])\n",
    "# ax_orog.axis('off')\n",
    "# ax_orog.plot(xlong[0,:]+360., HGT_M_lat_subset_mean, \\\n",
    "#              ls='--', \\\n",
    "#              c=cmocean.cm.thermal(0.2))\n",
    "# ax_orog.set_xlim(ax1.get_xlim())\n",
    "\n",
    "# width_to_height = (map_lon_hi-map_lon_lo)/(map_lat_hi-map_lat_lo)\n",
    "# map_height = ax5pos.width/width_to_height\n",
    "\n",
    "# ax_map = fig.add_axes([ax5pos.x0, 0.5*((ax1pos.y1-ax5pos.y0)-map_height), ax5pos.width, map_height], projection=map_proj)\n",
    "# ax_map.set_extent([map_lon_lo,map_lon_hi,map_lat_lo,map_lat_hi], crs=map_proj)\n",
    "# ax_map.background_patch.set_facecolor('None')\n",
    "# ax_map.zorder=0\n",
    "# ax_map.outline_patch.set_visible(False)\n",
    "# ax_map.add_feature(cartopy.feature.LAND, \\\n",
    "#                    facecolor='0', \\\n",
    "#                    edgecolor='None', \\\n",
    "#                    alpha=0.2)\n",
    "\n",
    "fig.savefig('manuscript_fig10_precip_change_latmean_plots.png', dpi=600, bbox_inches='tight', transparent=True)\n"
   ]
  },
  {
   "cell_type": "code",
   "execution_count": 172,
   "metadata": {
    "ExecuteTime": {
     "end_time": "2018-06-21T22:22:18.182511Z",
     "start_time": "2018-06-21T22:22:18.171192Z"
    }
   },
   "outputs": [
    {
     "data": {
      "text/plain": [
       "1829.1879"
      ]
     },
     "execution_count": 172,
     "metadata": {},
     "output_type": "execute_result"
    }
   ],
   "source": [
    "hgt_2km_latmean.max()"
   ]
  },
  {
   "cell_type": "code",
   "execution_count": null,
   "metadata": {},
   "outputs": [],
   "source": []
  },
  {
   "cell_type": "code",
   "execution_count": 77,
   "metadata": {
    "ExecuteTime": {
     "end_time": "2018-06-21T15:24:08.673840Z",
     "start_time": "2018-06-21T15:24:05.644512Z"
    }
   },
   "outputs": [
    {
     "data": {
      "image/png": "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\n",
      "text/plain": [
       "<Figure size 252x396 with 6 Axes>"
      ]
     },
     "metadata": {},
     "output_type": "display_data"
    }
   ],
   "source": [
    "colors = [cmocean.cm.thermal(0.3),\\\n",
    "          cmocean.cm.thermal(0.4),\\\n",
    "          cmocean.cm.thermal(0.5),\\\n",
    "          cmocean.cm.thermal(0.6),\\\n",
    "          cmocean.cm.thermal(0.7)]\n",
    "\n",
    "fontsize = 18\n",
    "\n",
    "fig = mp.figure(figsize=(3.5,5.5))\n",
    "\n",
    "##################################################\n",
    "# xvals = xlong[0,:]+360.\n",
    "# yvals = raintot_diffs_latmean_smooth*24.\n",
    "# f = scipy.interpolate.interp1d(xvals, pandas.Series(yvals).interpolate().values, kind='cubic')\n",
    "# xvals_interp = numpy.linspace(277.5, xvals.max(), 1000)\n",
    "# yvals_interp = f(xvals_interp)\n",
    "ax1 = fig.add_subplot(511)\n",
    "ax1.plot(xlong[0,:]+360.,\\\n",
    "        raintot_diffs_latmean_smooth*24., \\\n",
    "        color=colors[0],\\\n",
    "        label='WRF 50-km 10d')\n",
    "# ax1.fill_between(xlong[0,:]+360., \\\n",
    "#                 (raintot_diffs_latmean_smooth-raintot_diffs_latstd_smooth)*24.,\\\n",
    "#                 (raintot_diffs_latmean_smooth+raintot_diffs_latstd_smooth)*24.,\\\n",
    "#                 facecolor=colors[0], alpha=0.333)\n",
    "\n",
    "\n",
    "##################################################\n",
    "xvals = xlong_2km[0,:]+360.\n",
    "yvals = raintot_diffs_2km_latmean_smooth*24.\n",
    "f = scipy.interpolate.interp1d(xvals, yvals, kind='cubic')\n",
    "xvals_interp = numpy.linspace(xvals.min(), xvals.max(), 1000)\n",
    "yvals_interp = f(xvals_interp)\n",
    "ax2 = fig.add_subplot(512)\n",
    "ax2.plot(xvals_interp,\\\n",
    "        yvals_interp, \\\n",
    "        color=colors[1],\\\n",
    "        label='WRF 2-km 10d')\n",
    "# yvals = PRECT_diffs_10day_latstderr\n",
    "# yvals_interp_error = f(xvals_interp)\n",
    "# f = scipy.interpolate.interp1d(xvals, pandas.Series(yvals).interpolate().values, kind='cubic')\n",
    "# ax2.fill_between(xlong_2km[0,:]+360., \\\n",
    "#                 (raintot_diffs_2km_latmean_smooth-raintot_diffs_2km_latstd_smooth)*24.,\\\n",
    "#                 (raintot_diffs_2km_latmean_smooth+raintot_diffs_2km_latstd_smooth)*24.,\\\n",
    "#                 facecolor=colors[1], alpha=0.333)\n",
    "\n",
    "##################################################\n",
    "xvals = lon_subset\n",
    "yvals = PRECT_diffs_10day_latmean\n",
    "f = scipy.interpolate.interp1d(xvals, pandas.Series(yvals).interpolate().values, kind='cubic')\n",
    "xvals_interp = numpy.linspace(277.5, 325., 100)\n",
    "yvals_interp = f(xvals_interp)\n",
    "ax3 = fig.add_subplot(513)\n",
    "ax3.plot(xvals_interp,\\\n",
    "        yvals_interp*86400.*1000., \\\n",
    "        color=colors[2],\\\n",
    "        label='CESM 2$\\degree$ 10d')\n",
    "# yvals = PRECT_diffs_10day_latstderr\n",
    "# f = scipy.interpolate.interp1d(xvals, yvals, kind='cubic')\n",
    "# yvals_interp_error = f(xvals_interp)\n",
    "# ax3.fill_between(xvals_interp, \\\n",
    "#                 (yvals_interp+yvals_interp_error)*86400.*1000.,\\\n",
    "#                 (yvals_interp-yvals_interp_error)*86400.*1000.,\\\n",
    "#                 facecolor=colors[1], alpha=0.333)\n",
    "\n",
    "\n",
    "##################################################\n",
    "xvals = lon_subset\n",
    "yvals = PRECT_diffs_30day_latmean\n",
    "f = scipy.interpolate.interp1d(xvals, pandas.Series(yvals).interpolate().values, kind='cubic')\n",
    "xvals_interp = numpy.linspace(277.5, 325., 100)\n",
    "yvals_interp = f(xvals_interp)\n",
    "ax4 = fig.add_subplot(514)\n",
    "ax4.plot(xvals_interp,\\\n",
    "        yvals_interp*86400.*1000., \\\n",
    "        color=colors[3],\\\n",
    "        label='CESM 2$\\degree$ 30d')\n",
    "\n",
    "\n",
    "##################################################\n",
    "xvals = lon_subset\n",
    "yvals = PRECT_diffs_10year_latmean\n",
    "f = scipy.interpolate.interp1d(xvals, pandas.Series(yvals).interpolate().values, kind='cubic')\n",
    "xvals_interp = numpy.linspace(277.5, 325., 100)\n",
    "yvals_interp = f(xvals_interp)\n",
    "ax5 = fig.add_subplot(515)\n",
    "ax5.plot(xvals_interp,\\\n",
    "       yvals_interp*86400.*1000., \\\n",
    "       color=colors[4],\\\n",
    "       label='CESM 2$\\degree$ 10yr')\n",
    "\n",
    "##################################################\n",
    "\n",
    "ax_list = [ax1,ax2,ax3,ax4,ax5]\n",
    "label_list = ['WRF 50-km 10d',\\\n",
    "              'WRF 2-km 10d', \\\n",
    "              'CESM 2$\\degree$ 10d', \\\n",
    "              'CESM 2$\\degree$ 30d', \\\n",
    "              'CESM 2$\\degree$ 10y']\n",
    "\n",
    "fig.tight_layout()#h_pad=0)\n",
    "fig.subplots_adjust(wspace=0, hspace=0)\n",
    "\n",
    "map_lat_lo = -10.\n",
    "map_lat_hi = 10.\n",
    "map_lon_lo = 278\n",
    "map_lon_hi = 325.5\n",
    "\n",
    "ax1.zorder=1\n",
    "ax2.zorder=1\n",
    "ax3.zorder=1\n",
    "ax4.zorder=1\n",
    "ax5.zorder=1\n",
    "\n",
    "ax1.set_facecolor('None')\n",
    "ax2.set_facecolor('None')\n",
    "ax3.set_facecolor('None')\n",
    "ax4.set_facecolor('None')\n",
    "ax5.set_facecolor('None')\n",
    "\n",
    "[ax.tick_params(labelsize=fontsize) for ax in ax_list]\n",
    "[ax.set_xticklabels(['','','']) for ax in ax_list]\n",
    "[ax.axhline(0, lw=1, ls='--', c='0.1') for ax in ax_list]\n",
    "#[ax.set_ylim(-1.8,1.8) for ax in ax_list]\n",
    "[ax.set_yticks([-1.,0,1.]) for ax in ax_list]\n",
    "[ax_list[i].yaxis.tick_right() for i in [1,3]]\n",
    "[ax.set_xlim(map_lon_lo, map_lon_hi) for ax in ax_list]\n",
    "[ax.xaxis.grid() for ax in ax_list]\n",
    "[ax.set_xticks([280,290,300.,310,320.]) for ax in ax_list]\n",
    "\n",
    "[ax_list[i].text(s=label_list[i], x=0.98, y=0.87,\\\n",
    "                 ha='right', va='top', \\\n",
    "                 fontsize=fontsize, \\\n",
    "                 color=colors[i], \\\n",
    "                 transform=ax_list[i].transAxes) for i in range(5)]\n",
    "\n",
    "ax1pos = ax1.get_position()\n",
    "ax4pos = ax4.get_position()\n",
    "ax5pos = ax5.get_position()\n",
    "fig.text(s='mm day$^{\\,-1}$', \\\n",
    "         x=0, y=ax5pos.y0+0.5*(ax1pos.y1-ax5pos.y0), \\\n",
    "         rotation=90, \\\n",
    "         transform=fig.transFigure, \\\n",
    "         va='center', \\\n",
    "         ha='right', \\\n",
    "         fontsize=fontsize)\n",
    "\n",
    "ax5.set_xlabel('longitude', fontsize=fontsize)\n",
    "ax5.set_xticklabels(['280$\\degree$E','','300$\\degree$E','','320$\\degree$E'])\n",
    "\n",
    "ax_orog = fig.add_axes([ax1pos.x0,ax1pos.y1,ax1pos.width,ax1pos.height])\n",
    "ax_orog.axis('off')\n",
    "ax_orog.plot(xlong[0,:]+360., HGT_M_lat_subset_mean, \\\n",
    "             ls='--', \\\n",
    "             c=cmocean.cm.thermal(0.2))\n",
    "ax_orog.set_xlim(ax1.get_xlim())\n",
    "\n",
    "# width_to_height = (map_lon_hi-map_lon_lo)/(map_lat_hi-map_lat_lo)\n",
    "# map_height = ax5pos.width/width_to_height\n",
    "\n",
    "# ax_map = fig.add_axes([ax5pos.x0, 0.5*((ax1pos.y1-ax5pos.y0)-map_height), ax5pos.width, map_height], projection=map_proj)\n",
    "# ax_map.set_extent([map_lon_lo,map_lon_hi,map_lat_lo,map_lat_hi], crs=map_proj)\n",
    "# ax_map.background_patch.set_facecolor('None')\n",
    "# ax_map.zorder=0\n",
    "# ax_map.outline_patch.set_visible(False)\n",
    "# ax_map.add_feature(cartopy.feature.LAND, \\\n",
    "#                    facecolor='0', \\\n",
    "#                    edgecolor='None', \\\n",
    "#                    alpha=0.2)\n",
    "\n",
    "fig.savefig('cesm_workshop_latmean_plots.png', dpi=600, bbox_inches='tight', transparent=True)\n"
   ]
  },
  {
   "cell_type": "code",
   "execution_count": null,
   "metadata": {},
   "outputs": [],
   "source": []
  },
  {
   "cell_type": "code",
   "execution_count": 50,
   "metadata": {
    "ExecuteTime": {
     "end_time": "2018-06-19T06:18:48.308285Z",
     "start_time": "2018-06-19T06:18:48.302770Z"
    }
   },
   "outputs": [],
   "source": [
    "ax_list_for_ylim = numpy.copy(ax_list)"
   ]
  },
  {
   "cell_type": "code",
   "execution_count": 51,
   "metadata": {
    "ExecuteTime": {
     "end_time": "2018-06-19T06:18:56.136074Z",
     "start_time": "2018-06-19T06:18:50.459635Z"
    }
   },
   "outputs": [
    {
     "data": {
      "image/png": "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\n",
      "text/plain": [
       "<Figure size 504x396 with 6 Axes>"
      ]
     },
     "metadata": {},
     "output_type": "display_data"
    }
   ],
   "source": [
    "num = 1\n",
    "\n",
    "colors = [cmocean.cm.thermal(0.3),\\\n",
    "          cmocean.cm.thermal(0.4),\\\n",
    "          cmocean.cm.thermal(0.5),\\\n",
    "          cmocean.cm.thermal(0.6),\\\n",
    "          cmocean.cm.thermal(0.7)]\n",
    "\n",
    "fontsize = 18\n",
    "fig = mp.figure(figsize=(7,5.5))\n",
    "\n",
    "##################################################\n",
    "ax1 = fig.add_subplot(511)\n",
    "ax1.plot(xlong[0,:]+360.,\\\n",
    "        raintot_diffs_latmean_smooth*24., \\\n",
    "        color=colors[0],\\\n",
    "        label='WRF 50-km 10d')\n",
    "\n",
    "##################################################\n",
    "xvals = xlong_2km[0,:]+360.\n",
    "yvals = raintot_diffs_2km_latmean_smooth*24.\n",
    "f = scipy.interpolate.interp1d(xvals, yvals, kind='cubic')\n",
    "xvals_interp = numpy.linspace(xvals.min(), xvals.max(), 1000)\n",
    "yvals_interp = f(xvals_interp)\n",
    "ax2 = fig.add_subplot(512)\n",
    "# ax2.plot(xvals_interp,\\\n",
    "#         yvals_interp, \\\n",
    "#         color=colors[1],\\\n",
    "#         label='WRF 2-km 10d')\n",
    "ax2.plot(xvals_interp,\\\n",
    "        yvals_interp, \\\n",
    "        color='None')\n",
    "\n",
    "##################################################\n",
    "xvals = lon_subset\n",
    "yvals = PRECT_diffs_10day_latmean\n",
    "f = scipy.interpolate.interp1d(xvals, pandas.Series(yvals).interpolate().values, kind='cubic')\n",
    "xvals_interp = numpy.linspace(277.5, 325., 100)\n",
    "yvals_interp = f(xvals_interp)\n",
    "ax3 = fig.add_subplot(513)\n",
    "# ax3.plot(xvals_interp,\\\n",
    "#         yvals_interp*86400.*1000., \\\n",
    "#         color=colors[2],\\\n",
    "#         label='CESM 2$\\degree$ 10d')\n",
    "ax3.plot(xvals_interp,\\\n",
    "        yvals_interp*86400.*1000., \\\n",
    "        color='None')\n",
    "\n",
    "# #################################################\n",
    "xvals = lon_subset\n",
    "yvals = PRECT_diffs_30day_latmean\n",
    "f = scipy.interpolate.interp1d(xvals, pandas.Series(yvals).interpolate().values, kind='cubic')\n",
    "xvals_interp = numpy.linspace(277.5, 325., 100)\n",
    "yvals_interp = f(xvals_interp)\n",
    "ax4 = fig.add_subplot(514)\n",
    "# ax4.plot(xvals_interp,\\\n",
    "#         yvals_interp*86400.*1000., \\\n",
    "#         color=colors[3],\\\n",
    "#         label='CESM 2$\\degree$ 30d')\n",
    "ax4.plot(xvals_interp,\\\n",
    "        yvals_interp*86400.*1000., \\\n",
    "        color='None')\n",
    "\n",
    "# #################################################\n",
    "xvals = lon_subset\n",
    "yvals = PRECT_diffs_10year_latmean\n",
    "f = scipy.interpolate.interp1d(xvals, pandas.Series(yvals).interpolate().values, kind='cubic')\n",
    "xvals_interp = numpy.linspace(277.5, 325., 100)\n",
    "yvals_interp = f(xvals_interp)\n",
    "ax5 = fig.add_subplot(515)\n",
    "# ax5.plot(xvals_interp,\\\n",
    "#        yvals_interp*86400.*1000., \\\n",
    "#        color=colors[4],\\\n",
    "#        label='CESM 2$\\degree$ 10yr')\n",
    "ax5.plot(xvals_interp,\\\n",
    "       yvals_interp*86400.*1000., \\\n",
    "       color='None')\n",
    "\n",
    "##################################################\n",
    "\n",
    "ax_list = [ax1,ax2,ax3,ax4,ax5]\n",
    "label_list = ['WRF 50-km 10d',\\\n",
    "              'WRF 2-km 10d', \\\n",
    "              'CESM 2$\\degree$ 10d', \\\n",
    "              'CESM 2$\\degree$ 30d', \\\n",
    "              'CESM 2$\\degree$ 10y']\n",
    "\n",
    "fig.tight_layout()#h_pad=0)\n",
    "fig.subplots_adjust(wspace=0, hspace=0)\n",
    "\n",
    "map_lat_lo = -10.\n",
    "map_lat_hi = 10.\n",
    "map_lon_lo = 278\n",
    "map_lon_hi = 325.5\n",
    "\n",
    "ax1.zorder=1\n",
    "ax2.zorder=1\n",
    "ax3.zorder=1\n",
    "ax4.zorder=1\n",
    "ax5.zorder=1\n",
    "\n",
    "ax1.set_facecolor('None')\n",
    "ax2.set_facecolor('None')\n",
    "ax3.set_facecolor('None')\n",
    "ax4.set_facecolor('None')\n",
    "ax5.set_facecolor('None')\n",
    "\n",
    "[ax.tick_params(labelsize=fontsize) for ax in ax_list]\n",
    "[ax.set_xticklabels(['','','']) for ax in ax_list]\n",
    "[ax.axhline(0, lw=1, ls='--', c='0.1') for ax in ax_list]\n",
    "[ax.set_yticks([-1.,0,1.]) for ax in ax_list]\n",
    "[ax_list[i].yaxis.tick_right() for i in [1,3]]\n",
    "[ax.set_xlim(map_lon_lo, map_lon_hi) for ax in ax_list]\n",
    "[ax.xaxis.grid() for ax in ax_list]\n",
    "[ax.set_xticks([280,290,300.,310,320.]) for ax in ax_list]\n",
    "[ax_list[i].set_ylim(ax_list_for_ylim[i].get_ylim()) \\\n",
    " for i in range(ax_list.__len__())]\n",
    "\n",
    "[ax_list[i].text(s=label_list[i], x=0.98, y=0.87,\\\n",
    "                 ha='right', va='top', \\\n",
    "                 fontsize=fontsize, \\\n",
    "                 color=colors[i], \\\n",
    "                 transform=ax_list[i].transAxes) for i in range(num)]\n",
    "\n",
    "ax1pos = ax1.get_position()\n",
    "ax4pos = ax4.get_position()\n",
    "ax5pos = ax5.get_position()\n",
    "fig.text(s='mm day$^{\\,-1}$', \\\n",
    "         x=0, y=ax5pos.y0+0.5*(ax1pos.y1-ax5pos.y0), \\\n",
    "         rotation=90, \\\n",
    "         transform=fig.transFigure, \\\n",
    "         va='center', \\\n",
    "         ha='right', \\\n",
    "         fontsize=fontsize)\n",
    "\n",
    "ax5.set_xlabel('longitude', fontsize=fontsize)\n",
    "ax5.set_xticklabels(['280$\\degree$E','','300$\\degree$E','','320$\\degree$E'])\n",
    "\n",
    "ax_orog = fig.add_axes([ax1pos.x0,\\\n",
    "                        ax1pos.y1,\\\n",
    "                        ax1pos.width,\\\n",
    "                        ax1pos.height])\n",
    "ax_orog.axis('off')\n",
    "ax_orog.plot(xlong[0,:]+360., HGT_M_lat_subset_mean, \\\n",
    "             ls='--', \\\n",
    "             c=cmocean.cm.thermal(0.2))\n",
    "ax_orog.set_xlim(ax1.get_xlim())\n",
    "\n",
    "fig.savefig('cesm_workshop_latmean_plots_'+str(num)+'.png', \\\n",
    "            dpi=600, bbox_inches='tight', transparent=True)\n"
   ]
  },
  {
   "cell_type": "code",
   "execution_count": 52,
   "metadata": {
    "ExecuteTime": {
     "end_time": "2018-06-19T06:19:07.959195Z",
     "start_time": "2018-06-19T06:19:07.708697Z"
    }
   },
   "outputs": [
    {
     "data": {
      "text/plain": [
       "[<matplotlib.lines.Line2D at 0x2b9aa10bc908>]"
      ]
     },
     "execution_count": 52,
     "metadata": {},
     "output_type": "execute_result"
    },
    {
     "data": {
      "image/png": "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\n",
      "text/plain": [
       "<Figure size 432x288 with 1 Axes>"
      ]
     },
     "metadata": {},
     "output_type": "display_data"
    }
   ],
   "source": [
    "fontsize = 18\n",
    "\n",
    "fig = mp.figure()\n",
    "\n",
    "ax = fig.add_subplot(111)\n",
    "\n",
    "ax.plot(xlong[0,:]+360.,\\\n",
    "        raintot_diffs_latmean_smooth*24., \\\n",
    "        color=colors[0],\\\n",
    "        label='WRF 50-km 10d')\n",
    "ax.fill_between(xlong[0,:]+360., \\\n",
    "                (raintot_diffs_latmean_smooth-raintot_diffs_latstd_smooth)*24.,\\\n",
    "                (raintot_diffs_latmean_smooth+raintot_diffs_latstd_smooth)*24.,\\\n",
    "                facecolor=colors[0], alpha=0.333)\n",
    "\n",
    "\n",
    "ax.plot(xlong_2km[0,:]+360.,\\\n",
    "        raintot_diffs_2km_latmean_smooth*24., \\\n",
    "        color=colors[1],\\\n",
    "        label='WRF 2-km 10d')\n",
    "\n",
    "\n",
    "ax.plot(lon_subset,\\\n",
    "        PRECT_diffs_10day_latmean*86400.*1000., \\\n",
    "        color=colors[2],\\\n",
    "        label='CESM 2$\\degree$ 10d')\n",
    "\n",
    "\n",
    "ax.plot(lon_subset,\\\n",
    "        PRECT_diffs_30day_latmean*86400.*1000., \\\n",
    "        color=colors[3],\\\n",
    "        label='CESM 2$\\degree$ 30d')\n",
    "\n",
    "\n",
    "ax.plot(lon_subset,\\\n",
    "        PRECT_diffs_10year_latmean*86400.*1000., \\\n",
    "        color=colors[4],\\\n",
    "        label='CESM 2$\\degree$ 10yr')\n",
    "\n",
    "\n",
    "\n",
    "#ax.tick_params(labelsize=fontsize)\n",
    "#ax.legend()"
   ]
  },
  {
   "cell_type": "raw",
   "metadata": {
    "ExecuteTime": {
     "end_time": "2018-06-12T16:34:15.894499Z",
     "start_time": "2018-06-12T16:34:15.827520Z"
    }
   },
   "source": [
    "cmap_custom = matplotlib.colors.ListedColormap([matplotlib.cm.RdBu(0.1), \\\n",
    "                                                matplotlib.cm.RdBu(0.25), \\\n",
    "                                                #matplotlib.cm.RdBu(0.3), \\\n",
    "                                                #matplotlib.cm.RdBu(0.6), \\\n",
    "                                                matplotlib.cm.RdBu(0.6), \\\n",
    "                                                matplotlib.cm.RdBu(0.7)])\n",
    "                                                \n",
    "cmap_custom.set_over(matplotlib.cm.RdBu(.8))\n",
    "cmap_custom.set_under(matplotlib.cm.RdBu(0))\n",
    "\n",
    "bounds = numpy.array([-10,-5,0,5,10])\n",
    "norm = matplotlib.colors.BoundaryNorm(bounds, cmap_custom.N)"
   ]
  },
  {
   "cell_type": "raw",
   "metadata": {
    "ExecuteTime": {
     "end_time": "2018-06-12T16:40:57.207294Z",
     "start_time": "2018-06-12T16:40:40.990434Z"
    }
   },
   "source": [
    "mp.contourf(xlong_2km,\\\n",
    "            xlat_2km,\\\n",
    "            raintot_diffs_2km_time_mean_landmask*24.,\\\n",
    "            levels=bounds,\\\n",
    "            cmap=cmap_custom,\\\n",
    "            extend='both',\\\n",
    "            norm=norm)\n",
    "mp.colorbar()\n",
    "ax = mp.axes()\n",
    "ax.set_aspect('equal')"
   ]
  },
  {
   "cell_type": "markdown",
   "metadata": {},
   "source": [
    "# Plot WRF 50km and 2km map plus meridional mean precip decrease below"
   ]
  },
  {
   "cell_type": "code",
   "execution_count": 53,
   "metadata": {
    "ExecuteTime": {
     "end_time": "2018-06-19T06:19:17.826998Z",
     "start_time": "2018-06-19T06:19:17.818174Z"
    }
   },
   "outputs": [],
   "source": [
    "xlat_indices = (xlat[:,0]>=-10.) & (xlat[:,0]<=10.)\n",
    "xlong_indices = (xlong[0,:]>=280-360.)&(xlong[0,:]<=320-260.)"
   ]
  },
  {
   "cell_type": "code",
   "execution_count": 54,
   "metadata": {
    "ExecuteTime": {
     "end_time": "2018-06-19T06:19:21.457449Z",
     "start_time": "2018-06-19T06:19:19.875447Z"
    }
   },
   "outputs": [
    {
     "name": "stderr",
     "output_type": "stream",
     "text": [
      "/export/home/blangenb/anaconda3/lib/python3.6/site-packages/ipykernel_launcher.py:3: RuntimeWarning: Mean of empty slice\n",
      "  This is separate from the ipykernel package so we can avoid doing imports until\n"
     ]
    }
   ],
   "source": [
    "raintot_diffs_landmask = raintot_1000_diff-raintot_400_diff\n",
    "raintot_diffs_landmask[:,landmask==0] = numpy.nan\n",
    "raintot_diffs_latmean = numpy.nanmean(raintot_diffs_landmask[:,xlat_indices,:], axis=1)"
   ]
  },
  {
   "cell_type": "code",
   "execution_count": 55,
   "metadata": {
    "ExecuteTime": {
     "end_time": "2018-06-19T06:19:23.387733Z",
     "start_time": "2018-06-19T06:19:23.376664Z"
    }
   },
   "outputs": [
    {
     "name": "stderr",
     "output_type": "stream",
     "text": [
      "/export/home/blangenb/anaconda3/lib/python3.6/site-packages/ipykernel_launcher.py:1: RuntimeWarning: Mean of empty slice\n",
      "  \"\"\"Entry point for launching an IPython kernel.\n",
      "/export/home/blangenb/anaconda3/lib/python3.6/site-packages/ipykernel_launcher.py:2: RuntimeWarning: Mean of empty slice\n",
      "  \n"
     ]
    }
   ],
   "source": [
    "raintot_diffs_latmean_day1 = numpy.nanmean(raintot_diffs_latmean[:24,:], axis=0)\n",
    "raintot_diffs_latmean_days2to10 = numpy.nanmean(raintot_diffs_latmean[24:,:], axis=0)"
   ]
  },
  {
   "cell_type": "code",
   "execution_count": 56,
   "metadata": {
    "ExecuteTime": {
     "end_time": "2018-06-19T06:19:25.343746Z",
     "start_time": "2018-06-19T06:19:25.330133Z"
    }
   },
   "outputs": [],
   "source": [
    "raintot_diffs_latmean_day1 = pandas.Series(raintot_diffs_latmean_day1).rolling(window=3, \\\n",
    "                                                                               center=True, \\\n",
    "                                                                               min_periods=1).mean()\n",
    "\n",
    "raintot_diffs_latmean_days2to10 = pandas.Series(raintot_diffs_latmean_days2to10).rolling(window=3, \\\n",
    "                                                                               center=True, \\\n",
    "                                                                               min_periods=1).mean()\n",
    "\n",
    "raintot_diffs_latmean_std_day1 = pandas.Series(raintot_diffs_latmean_day1).rolling(window=10, \\\n",
    "                                                                                   center=True, \\\n",
    "                                                                                   min_periods=1).std(ddof=1)\n",
    "\n",
    "raintot_diffs_latmean_std_days2to10 = pandas.Series(raintot_diffs_latmean_days2to10).rolling(window=10, \\\n",
    "                                                                                   center=True, \\\n",
    "                                                                                   min_periods=1).std(ddof=1)"
   ]
  },
  {
   "cell_type": "code",
   "execution_count": 62,
   "metadata": {
    "ExecuteTime": {
     "end_time": "2018-06-19T06:26:33.418614Z",
     "start_time": "2018-06-19T06:26:26.459781Z"
    }
   },
   "outputs": [
    {
     "data": {
      "image/png": "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\n",
      "text/plain": [
       "<Figure size 360x468 with 3 Axes>"
      ]
     },
     "metadata": {},
     "output_type": "display_data"
    }
   ],
   "source": [
    "fontsize=18\n",
    "\n",
    "fig = mp.figure(figsize=(5,6.5))\n",
    "gs = matplotlib.gridspec.GridSpec(2, 1, width_ratios=[1], height_ratios=[3, 1])\n",
    "\n",
    "map_proj = cartopy.crs.PlateCarree()\n",
    "levels1 = numpy.arange(-2,2.1,0.25)\n",
    "\n",
    "ax1 = fig.add_subplot(gs[0], projection=map_proj)\n",
    "contour1 = ax1.contourf(xlong[0,:], xlat[:,0], \\\n",
    "                        raintot_diffs_time_mean_landmask*24., \\\n",
    "                        levels=levels1, cmap=cmocean.cm.balance_r, extend='both')\n",
    "ax1.set_extent([276,327.5,-30,15], crs=map_proj)\n",
    "ax1.coastlines()\n",
    "ax1.set_xticks([280-360.,300-360.,320-360.])\n",
    "ax1.set_xticklabels(['','',''])\n",
    "ax1.set_yticks([-20,-10,0,10])\n",
    "ax1.set_yticklabels(['$20\\degree$S','$10\\degree$S', '$0\\degree$', '$10\\degree$N'])\n",
    "ax1.tick_params(labelsize=fontsize)\n",
    "ax1.axhline(0, c='0.1', lw=1)\n",
    "\n",
    "ax1.fill_between(numpy.linspace(276,327.5,2), y1=-10, y2=-40, \\\n",
    "                 alpha=0.333, edgecolor='None', \\\n",
    "                 facecolor='0.1', transform=map_proj)\n",
    "ax1.fill_between(numpy.linspace(276,327.5,2), y1=10, y2=40, \\\n",
    "                 alpha=0.333, edgecolor='None', \\\n",
    "                 facecolor='0.1', transform=map_proj)\n",
    "\n",
    "ax1.text(s='WRF 50-km 10d precip. change', x=0, y=1.02, \\\n",
    "         transform=ax1.transAxes, \\\n",
    "         fontsize=fontsize, ha='left', va='bottom')\n",
    "\n",
    "ax2 = fig.add_subplot(gs[1])\n",
    "ax2.set_xlim(276,327.5)\n",
    "ax2.tick_params(labelsize=fontsize)\n",
    "ax2.set_xticks([280,300,320])\n",
    "ax2.set_xticklabels(['$280\\degree$E','$290\\degree$E','$300\\degree$E','$310\\degree$E'])\n",
    "ax2.set_xlabel('longitude', fontsize=fontsize)\n",
    "ax2.set_ylabel('mm day$^{\\,-1}$', fontsize=fontsize)\n",
    "ax2.axhline(0, c='0.1', lw=1)\n",
    "\n",
    "ax2.plot(xlong[0,xlong_indices]+360.,\\\n",
    "        raintot_diffs_latmean_days2to10[xlong_indices]*24., \\\n",
    "        c='firebrick', label='days 2–10')\n",
    "\n",
    "ax2.fill_between(xlong[0,xlong_indices]+360., \\\n",
    "                (raintot_diffs_latmean_days2to10[xlong_indices]-raintot_diffs_latmean_std_days2to10[xlong_indices])*24.,\\\n",
    "                (raintot_diffs_latmean_days2to10[xlong_indices]+raintot_diffs_latmean_std_days2to10[xlong_indices])*24.,\\\n",
    "                facecolor='firebrick', alpha=0.333)\n",
    "\n",
    "ax2.plot(xlong[0,xlong_indices]+360.,\\\n",
    "        raintot_diffs_latmean_day1[xlong_indices]*24., \\\n",
    "        c='coral', label='day 1', zorder=5)\n",
    "\n",
    "ax2.fill_between(xlong[0,xlong_indices]+360., \\\n",
    "                (raintot_diffs_latmean_day1[xlong_indices]-raintot_diffs_latmean_std_day1[xlong_indices])*24.,\\\n",
    "                (raintot_diffs_latmean_day1[xlong_indices]+raintot_diffs_latmean_std_day1[xlong_indices])*24.,\\\n",
    "                facecolor='coral', alpha=0.333, zorder=5)\n",
    "\n",
    "ax2.set_ylim(-1.4835328969152064, 1.1870771995510045)\n",
    "\n",
    "fig.tight_layout()\n",
    "h, l=ax2.get_legend_handles_labels()\n",
    "ax2.legend(h, l, fontsize=fontsize, scatterpoints=1, bbox_to_anchor=(1.025,1.), \\\n",
    "            bbox_transform=ax2.transAxes, loc='upper left', borderaxespad=0, labelspacing=0.25, \\\n",
    "            fancybox=False, edgecolor='0', framealpha=0, borderpad=0.25, \\\n",
    "            handletextpad=0.5, markerscale=1, handlelength=1.25)\n",
    "\n",
    "scale = .85\n",
    "ax1pos = ax1.get_position()\n",
    "cbar_ax = fig.add_axes([ax1pos.x1+0.05, ax1pos.y0+.5*(1-scale)*ax1pos.height, 0.04, ax1pos.height*scale])\n",
    "cbar = mp.colorbar(contour1, cax=cbar_ax)\n",
    "cbar.set_label('mm day$^{\\,-1}$', fontsize=fontsize)\n",
    "cbar_ax.tick_params(labelsize=fontsize)\n",
    "cbar.set_ticks([-2,-1,0,1,2])\n",
    "\n",
    "fig.savefig('WRF_map_and_meridional_means_2lines.png', dpi=600, bbox_inches='tight', transparent=True)\n"
   ]
  },
  {
   "cell_type": "markdown",
   "metadata": {},
   "source": [
    "# maps of change"
   ]
  },
  {
   "cell_type": "raw",
   "metadata": {},
   "source": [
    "latmin_d03 = -2.243599\n",
    "latmax_d03 = 12.03965\n",
    "lonmin_d03 = 313.6654510498047\n",
    "lonmax_d03 = 277.7049255371094\n",
    "\n",
    "ax.add_patch(matplotlib.patches.Rectangle(xy=[lonmin_d03, latmin_d03], width=d03_width, height=d03_height,\n",
    "                                facecolor='none',\n",
    "                                edgecolor='gold',\\\n",
    "                                linewidth=3,\\\n",
    "                                transform=map_proj, zorder=2) )"
   ]
  },
  {
   "cell_type": "code",
   "execution_count": 95,
   "metadata": {
    "ExecuteTime": {
     "end_time": "2018-06-12T17:24:37.284327Z",
     "start_time": "2018-06-12T17:24:37.218591Z"
    }
   },
   "outputs": [],
   "source": [
    "cmap_custom = matplotlib.colors.ListedColormap([cmocean.cm.balance_r(0.1), \\\n",
    "                                                cmocean.cm.balance_r(0.25), \\\n",
    "                                                cmocean.cm.balance_r(0.4), \\\n",
    "                                                cmocean.cm.balance_r(0.55), \\\n",
    "                                                cmocean.cm.balance_r(0.6), \\\n",
    "                                                cmocean.cm.balance_r(0.65)])\n",
    "                                                \n",
    "cmap_custom.set_over(cmocean.cm.balance_r(.8))\n",
    "cmap_custom.set_under(cmocean.cm.balance_r(0))\n",
    "\n",
    "levels_2km = numpy.array([-10,-5,-0.5,0,0.5,5,10])\n",
    "norm = matplotlib.colors.BoundaryNorm(levels_2km, cmap_custom.N)"
   ]
  },
  {
   "cell_type": "code",
   "execution_count": 169,
   "metadata": {
    "ExecuteTime": {
     "end_time": "2018-06-12T23:41:25.026395Z",
     "start_time": "2018-06-12T23:40:49.034108Z"
    }
   },
   "outputs": [
    {
     "data": {
      "image/png": "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\n",
      "text/plain": [
       "<Figure size 612x432 with 5 Axes>"
      ]
     },
     "metadata": {},
     "output_type": "display_data"
    }
   ],
   "source": [
    "fontsize=18\n",
    "\n",
    "fig = mp.figure(figsize=(8.5,6))\n",
    "\n",
    "map_proj = cartopy.crs.PlateCarree()\n",
    "\n",
    "ax1 = fig.add_subplot(231, projection=map_proj)\n",
    "ax1.set_extent([273,329,-30,15], crs=map_proj)\n",
    "\n",
    "# ax2 = fig.add_subplot(232, projection=map_proj)\n",
    "# ax2.set_extent([273,329,-30,15], crs=map_proj)\n",
    "\n",
    "ax3 = fig.add_subplot(234, projection=map_proj)\n",
    "ax3.set_extent([273,329,-30,15], crs=map_proj)\n",
    "\n",
    "ax4 = fig.add_subplot(235, projection=map_proj)\n",
    "ax4.set_extent([273,329,-30,15], crs=map_proj)\n",
    "\n",
    "ax5 = fig.add_subplot(236, projection=map_proj)\n",
    "ax5.set_extent([273,329,-30,15], crs=map_proj)\n",
    "\n",
    "levels1 = numpy.arange(-2,2.1,0.25)\n",
    "\n",
    "contour1 = ax1.contourf(xlong[0,:], xlat[:,0], raintot_diffs_time_mean_landmask*24., levels=levels1, cmap='RdBu', extend='both')\n",
    "\n",
    "# contour2 = ax2.contourf(xlong_2km[0,:], xlat_2km[:,0], raintot_diffs_2km_time_mean_landmask*24., \\\n",
    "#                         levels=levels_2km, cmap=cmap_custom, extend='both', norm=norm)\n",
    "\n",
    "# #ax1.contour(xlong[0,:], xlat[:,0], raintot_diffs_2km_time_mean_landmask, levels=[0], colors='0.1')\n",
    "# ax2.set_extent([273,329,-30,15], crs=map_proj)\n",
    "# latmin_d03 = -2.243599\n",
    "# latmax_d03 = 12.03965\n",
    "# lonmin_d03 = 313.6654510498047\n",
    "# lonmax_d03 = 277.7049255371094\n",
    "# d03_width = lonmax_d03-lonmin_d03\n",
    "# d03_height = latmax_d03-latmin_d03\n",
    "# ax2.add_patch(matplotlib.patches.Rectangle(xy=[lonmin_d03, latmin_d03], width=d03_width, height=d03_height,\n",
    "#                                 facecolor='none',\n",
    "#                                 edgecolor='0.1',\\\n",
    "#                                 linewidth=2,\\\n",
    "#                                 transform=map_proj, zorder=2) )\n",
    "\n",
    "contour3 = ax3.contourf(lon_subset, lat_subset, PRECT_diffs_10day*86400.*1000, levels=levels1, cmap='RdBu', extend='both')\n",
    "ax3.contour(lon_subset, lat_subset, PRECT_diffs_10day, levels=[0], colors='0.1')\n",
    "\n",
    "contour4 = ax4.contourf(lon_subset, lat_subset, PRECT_diffs_30day*86400.*1000, levels=levels1, cmap='RdBu', extend='both')\n",
    "ax4.contour(lon_subset, lat_subset, PRECT_diffs_30day, levels=[0], colors='0.1')\n",
    "\n",
    "contour5 = ax5.contourf(lon_subset, lat_subset, PRECT_diffs_10year*86400.*1000, levels=levels1, cmap='RdBu', extend='both')\n",
    "ax5.contour(lon_subset, lat_subset, PRECT_diffs_10year, levels=[0], colors='0.1')\n",
    "\n",
    "ax1.coastlines()\n",
    "#ax2.coastlines()\n",
    "ax3.coastlines()\n",
    "ax4.coastlines()\n",
    "ax5.coastlines()\n",
    "\n",
    "ax1.text(s='WRF 50km 10d mean', x=0, y=1.02, transform=ax1.transAxes, fontsize=fontsize, ha='left', va='bottom')\n",
    "#ax2.text(s='WRF 2km 10d mean', x=0, y=1.02, transform=ax2.transAxes, fontsize=fontsize, ha='left', va='bottom')\n",
    "ax3.text(s='CESM 2$\\degree$ 10d mean', x=0, y=1.02, transform=ax3.transAxes, fontsize=fontsize, ha='left', va='bottom')\n",
    "ax4.text(s='CESM 2$\\degree$ 30d mean', x=0, y=1.02, transform=ax4.transAxes, fontsize=fontsize, ha='left', va='bottom')\n",
    "ax5.text(s='CESM 2$\\degree$ 10y mean', x=0, y=1.02, transform=ax5.transAxes, fontsize=fontsize, ha='left', va='bottom')\n",
    "\n",
    "fig.tight_layout()#h_pad=2)\n",
    "\n",
    "axlpos = ax3.get_position()\n",
    "axrpos = ax5.get_position()\n",
    "\n",
    "cbar_ax = fig.add_axes([axlpos.x0,axlpos.y0-0.065,axrpos.x1-axlpos.x0,0.05])\n",
    "cbar = fig.colorbar(contour4, cax=cbar_ax, orientation='horizontal')\n",
    "cbar_ax.tick_params(labelsize=fontsize)\n",
    "cbar.set_label('mm day$^{\\,-1}$', fontsize=fontsize)\n",
    "\n",
    "# scale = 0.88\n",
    "# axpos_2km = ax2.get_position()\n",
    "# cbar_ax2 = fig.add_axes([axpos_2km.x1+0.03, axpos_2km.y0+.5*(1-scale)*axpos_2km.height, 0.025, axpos_2km.height*scale])\n",
    "# cbar2 = fig.colorbar(contour2, cax=cbar_ax2, orientation='vertical')\n",
    "# cbar_ax2.tick_params(labelsize=fontsize)\n",
    "# cbar2.set_label('mm day$^{\\,-1}$', fontsize=fontsize)\n",
    "\n",
    "\n",
    "fig.savefig('cesm_10day_30day_10year_mean_precip_change_WITH_WRF.png', dpi=600, bbox_inches='tight', transparent=True)\n"
   ]
  }
 ],
 "metadata": {
  "kernelspec": {
   "display_name": "Python 3",
   "language": "python",
   "name": "python3"
  },
  "language_info": {
   "codemirror_mode": {
    "name": "ipython",
    "version": 3
   },
   "file_extension": ".py",
   "mimetype": "text/x-python",
   "name": "python",
   "nbconvert_exporter": "python",
   "pygments_lexer": "ipython3",
   "version": "3.6.4"
  },
  "varInspector": {
   "cols": {
    "lenName": 16,
    "lenType": 16,
    "lenVar": 40
   },
   "kernels_config": {
    "python": {
     "delete_cmd_postfix": "",
     "delete_cmd_prefix": "del ",
     "library": "var_list.py",
     "varRefreshCmd": "print(var_dic_list())"
    },
    "r": {
     "delete_cmd_postfix": ") ",
     "delete_cmd_prefix": "rm(",
     "library": "var_list.r",
     "varRefreshCmd": "cat(var_dic_list()) "
    }
   },
   "types_to_exclude": [
    "module",
    "function",
    "builtin_function_or_method",
    "instance",
    "_Feature"
   ],
   "window_display": false
  }
 },
 "nbformat": 4,
 "nbformat_minor": 2
}
                                                                                                                                                                                                                                                                                                                                                                                                                                                                                                                                                                                                                                                                                                                                                                                                                                                                                                                                                                                                                                                                                                                                                                                                                                                                                                                                                                                                                                                                                                                                                                                                                                                                                                                                                                                                                                                                                                                                                                                                                                                                                                                                                                                                                                                                                                                                                                                                                                                                                                                                                                                                                                                                                                                                                                                                                                                                                       h 5 Axes>"
      ]
     },
     "metadata": {},
     "output_type": "display_data"
    }
   ],
   "source": [
    "fontsize=18\n",
    "\n",
    "fig = mp.figure(figsize=(8.5,6))\n",
    "\n",
    "map_proj = cartopy.crs.PlateCarree()\n",
    "\n",
    "ax1 = fig.add_subplot(231, projection=map_proj)\n",
    "ax1.set_extent([273,329,-30,15], crs=map_proj)\n",
    "\n",
    "# ax2 = fig.add_subplot(232, projection=map_proj)\n",
    "# ax2.set_extent([273,329,-30,15], crs=map_proj)\n",
    "\n",
    "ax3 = fig.add_subplot(234, projection=map_proj)\n",
    "ax3.set_extent([273,329,-30,15], crs=map_proj)\n",
    "\n",
    "ax4 = fig.add_subplot(235, projection=map_proj)\n",
    "ax4.set_extent([273,329,-30,15], crs=map_proj)\n",
    "\n",
    "ax5 = fig.add_subplot(236, projection=map_proj)\n",
    "ax5.set_extent([273,329,-30,15], crs=map_proj)\n",
    "\n",
    "levels1 = numpy.arange(-2,2.1,0.25)\n",
    "\n",
    "contour1 = ax1.contourf(xlong[0,:], xlat[:,0], raintot_diffs_time_mean_landmask*24., levels=levels1, cmap='RdBu', extend='both')\n",
    "\n",
    "# contour2 = ax2.contourf(xlong_2km[0,:], xlat_2km[:,0], raintot_diffs_2km_time_mean_landmask*24., \\\n",
    "#                         levels=levels_2km, cmap=cmap_custom, extend='both', norm=norm)\n",
    "\n",
    "# #ax1.contour(xlong[0,:], xlat[:,0], raintot_diffs_2km_time_mean_landmask, levels=[0], colors='0.1')\n",
    "# ax2.set_extent([273,329,-30,15], crs=map_proj)\n",
    "# latmin_d03 = -2.243599\n",
    "# latmax_d03 = 12.03965\n",
    "# lonmin_d03 = 313.6654510498047\n",
    "# lonmax_d03 = 277.7049255371094\n",
    "# d03_width = lonmax_d03-lonmin_d03\n",
    "# d03_height = latmax_d03-latmin_d03\n",
    "# ax2.add_patch(matplotlib.patches.Rectangle(xy=[lonmin_d03, latmin_d03], width=d03_width, height=d03_height,\n",
    "#                                 facecolor='none',\n",
    "#                                 edgecolor='0.1',\\\n",
    "#                                 linewidth=2,\\\n",
    "#                                 transform=map_proj, zorder=2) )\n",
    "\n",
    "contour3 = ax3.contourf(lon_subset, lat_subset, PRECT_diffs_10day*86400.*1000, levels=levels1, cmap='RdBu', extend='both')\n",
    "ax3.contour(lon_subset, lat_subset, PRECT_diffs_10day, levels=[0], colors='0.1')\n",
    "\n",
    "contour4 = ax4.contourf(lon_subset, lat_subset, PRECT_diffs_30day*86400.*1000, levels=levels1, cmap='RdBu', extend='both')\n",
    "ax4.contour(lon_subset, lat_subset, PRECT_diffs_30day, levels=[0], colors='0.1')\n",
    "\n",
    "contour5 = ax5.contourf(lon_subset, lat_subset, PRECT_diffs_10year*86400.*1000, levels=levels1, cmap='RdBu', extend='both')\n",
    "ax5.contour(lon_subset, lat_subset, PRECT_diffs_10year, levels=[0], colors='0.1')\n",
    "\n",
    "ax1.coastlines()\n",
    "#ax2.coastlines()\n",
    "ax3.coastlines()\n",
    "ax4.coastlines()\n",
    "ax5.coastlines()\n",
    "\n",
    "ax1.text(s='WRF 50km 10d mean', x=0, y=1.02, transform=ax1.transAxes, fontsize=fontsize, ha='left', va='bottom')\n",
    "#ax2.text(s='WRF 2km 10d mean', x=0, y=1.02, transform=ax2.transAxes, fontsize=fontsize, ha='left', va='bottom')\n",
    "ax3.text(s='CESM 2$\\degree$ 10d mean', x=0, y=1.02, transform=ax3.transAxes, fontsize=fontsize, ha='left', va='bottom')\n",
    "ax4.text(s='CESM 2$\\degree$ 30d mean', x=0, y=1.02, transform=ax4.transAxes, fontsize=fontsize, ha='left', va='bottom')\n",
    "ax5.text(s='CESM 2$\\degree$ 10y mean', x=0, y=1.02, transform=ax5.transAxes, fontsize=fontsize, ha='left', va='bottom')\n",
    "\n",
    "fig.tight_layout()#h_pad=2)\n",
    "\n",
    "axlpos = ax3.get_position()\n",
    "axrpos = ax5.get_position()\n",
    "\n",
    "cbar_ax = fig.add_axes([axlpos.x0,axlpos.y0-0.065,axrpos.x1-axlpos.x0,0.05])\n",
    "cbar = fig.colorbar(contour4, cax=cbar_ax, orientation='horizontal')\n",
    "cbar_ax.tick_params(labelsize=fontsize)\n",
    "cbar.set_label('mm day$^{\\,-1}$', fontsize=fontsize)\n",
    "\n",
    "# scale = 0.88\n",
    "# axpos_2km = ax2.get_position()\n",
    "# cbar_ax2 = fig.add_axes([axpos_2km.x1+0.03, axpos_2km.y0+.5*(1-scale)*axpos_2km.height, 0.025, axpos_2km.height*scale])\n",
    "# cbar2 = fig.colorbar(contour2, cax=cbar_ax2, orientation='vertical')\n",
    "# cbar_ax2.tick_params(labelsize=fontsize)\n",
    "# cbar2.set_label('mm day$^{\\,-1}$', fontsize=fontsize)\n",
    "\n",
    "\n",
    "fig.savefig('cesm_10day_30day_10year_mean_precip_change_WITH_WRF.png', dpi=600, bbox_inches='tight', transparent=True)\n"
   ]
  }
 ],
 "metadata": {
  "kernelspec": {
   "display_name": "Python 3",
   "language": "python",
   "name": "python3"
  },
  "language_info": {
   "codemirror_mode": {
    "name": "ipython",
    "version": 3
   },
   "file_extension": ".py",
   "mimetype": "text/x-python",
   "name": "python",
   "nbconvert_exporter": "python",
   "pygments_lexer": "ipython3",
   "version": "3.6.4"
  },
  "varInspector": {
   "cols": {
    "lenName": 16,
    "lenType": 16,
    "lenVar": 40
   },
   "kernels_config": {
    "python": {
     "delete_cmd_postfix": "",
     "delete_cmd_prefix": "del ",
     "library": "var_list.py",
     "varRefreshCmd": "print(var_dic_list())"
    },
    "r": {
     "delete_cmd_postfix": ") ",
     "delete_cmd_prefix": "rm(",
     "library": "var_list.r",
     "varRefreshCmd": "cat(var_dic_list()) "
    }
   },
   "types_to_exclude": [
    "module",
    "function",
    "builtin_function_or_method",
    "instance",
    "_Feature"
   ],
   "window_display": false
  }
 },
 "nbformat": 4,
 "nbformat_minor": 2
}
