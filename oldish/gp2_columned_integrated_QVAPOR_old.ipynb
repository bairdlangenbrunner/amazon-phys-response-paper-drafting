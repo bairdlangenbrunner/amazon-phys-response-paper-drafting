{
 "cells": [
  {
   "cell_type": "code",
   "execution_count": 69,
   "metadata": {
    "ExecuteTime": {
     "end_time": "2018-04-14T00:29:01.216951Z",
     "start_time": "2018-04-14T00:29:00.283975Z"
    }
   },
   "outputs": [],
   "source": [
    "import numpy\n",
    "import xarray\n",
    "import matplotlib\n",
    "import matplotlib.pyplot as mp\n",
    "import datetime\n",
    "import matplotlib.colors\n",
    "import scipy.stats\n",
    "import itertools\n",
    "import string\n",
    "import matplotlib.patches\n",
    "\n",
    "import netCDF4\n",
    "import wrf\n",
    "\n",
    "import pandas\n",
    "\n",
    "import matplotlib.ticker\n",
    "import cartopy.mpl.gridliner #import LONGITUDE_FORMATTER, LATITUDE_FORMATTER\n",
    "\n",
    "import mpl_toolkits\n",
    "import cartopy\n",
    "\n",
    "DEGREE_SIGN = u'\\u00B0'\n",
    "mp.rcParams.update({'mathtext.default': 'regular'})\n",
    "\n",
    "% matplotlib inline"
   ]
  },
  {
   "cell_type": "code",
   "execution_count": 2,
   "metadata": {
    "ExecuteTime": {
     "end_time": "2018-04-09T04:49:21.794647Z",
     "start_time": "2018-04-09T04:49:21.791398Z"
    }
   },
   "outputs": [],
   "source": [
    "run_info = 'FMAASO'\n",
    "skip_time=0"
   ]
  },
  {
   "cell_type": "markdown",
   "metadata": {},
   "source": [
    "# GEO EM FILE"
   ]
  },
  {
   "cell_type": "code",
   "execution_count": 3,
   "metadata": {
    "ExecuteTime": {
     "end_time": "2018-04-09T04:49:22.232966Z",
     "start_time": "2018-04-09T04:49:21.797035Z"
    }
   },
   "outputs": [],
   "source": [
    "geo_em_ncfile = xarray.open_dataset('/beegfs/DATA/pritchard/blangenb/WRF_ARCHIVE/CHEYENNE/FMAASO/geo_em.d01_amazon_50km.nc')\n",
    "HGT_M = geo_em_ncfile['HGT_M'].data[0,:,:]"
   ]
  },
  {
   "cell_type": "markdown",
   "metadata": {},
   "source": [
    "# time, LAT, LON ncfiles"
   ]
  },
  {
   "cell_type": "code",
   "execution_count": 4,
   "metadata": {
    "ExecuteTime": {
     "end_time": "2018-04-09T04:49:23.088271Z",
     "start_time": "2018-04-09T04:49:23.082551Z"
    }
   },
   "outputs": [],
   "source": [
    "xlat_ncfile_name = '/beegfs/DATA/pritchard/blangenb/WRF_ARCHIVE/CHEYENNE/FMAASO/1000/concat_nc_files/wrfout_d01_1979-01-01_00:00:00_XLAT.nc'\n",
    "xlong_ncfile_name = '/beegfs/DATA/pritchard/blangenb/WRF_ARCHIVE/CHEYENNE/FMAASO/1000/concat_nc_files/wrfout_d01_1979-01-01_00:00:00_XLONG.nc'\n",
    "landmask_ncfile_name = '/beegfs/DATA/pritchard/blangenb/WRF_ARCHIVE/CHEYENNE/FMAASO/1000/concat_nc_files/wrfout_d01_1979-01-01_00:00:00_LANDMASK.nc'\n",
    "times_ncfile_name = '/beegfs/DATA/pritchard/blangenb/WRF_ARCHIVE/CHEYENNE/FMAASO/1000/concat_nc_files/wrfout_d01_1979-01-01_00:00:00_1979-01-11_00:00:00_Times_ens_mean.nc'"
   ]
  },
  {
   "cell_type": "markdown",
   "metadata": {},
   "source": [
    "# import FMAASO 400 data"
   ]
  },
  {
   "cell_type": "code",
   "execution_count": 5,
   "metadata": {
    "ExecuteTime": {
     "end_time": "2018-04-09T04:49:24.356832Z",
     "start_time": "2018-04-09T04:49:23.787800Z"
    }
   },
   "outputs": [],
   "source": [
    "data_dir = '/beegfs/DATA/pritchard/blangenb/WRF_ARCHIVE/CHEYENNE/FMAASO/400/concat_nc_files/'\n",
    "filename_prefix = 'wrfout_d01_1979-01-01_00:00:00_1979-01-11_00:00:00_'\n",
    "filename_suffix = '_ens_mean.nc'\n",
    "\n",
    "time_ncfile = xarray.open_dataset(times_ncfile_name)\n",
    "xlat_ncfile = xarray.open_dataset(xlat_ncfile_name)\n",
    "xlong_ncfile = xarray.open_dataset(xlong_ncfile_name)\n",
    "landmask_ncfile = xarray.open_dataset(landmask_ncfile_name)\n",
    "\n",
    "qvapor_ncfile = xarray.open_dataset(data_dir + filename_prefix + 'QVAPOR' + '_ens_mean.nc')\n",
    "\n",
    "p_ncfile = xarray.open_dataset(data_dir + filename_prefix + 'P' + '_ens_mean.nc')\n",
    "pb_ncfile = xarray.open_dataset(data_dir + filename_prefix + 'PB' + '_ens_mean.nc')\n",
    "\n",
    "w_ncfile = xarray.open_dataset(data_dir + filename_prefix + 'W' + '_ens_mean.nc')"
   ]
  },
  {
   "cell_type": "code",
   "execution_count": 6,
   "metadata": {
    "ExecuteTime": {
     "end_time": "2018-04-09T04:49:25.569110Z",
     "start_time": "2018-04-09T04:49:24.978935Z"
    }
   },
   "outputs": [],
   "source": [
    "time_var = time_ncfile['Times']\n",
    "time = time_ncfile['Times'].data\n",
    "xlat = xlat_ncfile['XLAT'].data[0,:,:]\n",
    "xlong = xlong_ncfile['XLONG'].data[0,:,:]\n",
    "landmask = landmask_ncfile['LANDMASK'].data[0,:,:]"
   ]
  },
  {
   "cell_type": "code",
   "execution_count": 7,
   "metadata": {
    "ExecuteTime": {
     "end_time": "2018-04-09T04:49:25.577625Z",
     "start_time": "2018-04-09T04:49:25.572282Z"
    }
   },
   "outputs": [
    {
     "name": "stdout",
     "output_type": "stream",
     "text": [
      "37.118828 -37.11884 -25.238678 -154.76132\n"
     ]
    }
   ],
   "source": [
    "print(xlat.max(),xlat.min(),xlong.max(),xlong.min())\n"
   ]
  },
  {
   "cell_type": "code",
   "execution_count": 8,
   "metadata": {
    "ExecuteTime": {
     "end_time": "2018-04-09T04:49:25.705927Z",
     "start_time": "2018-04-09T04:49:25.700927Z"
    }
   },
   "outputs": [],
   "source": [
    "qvapor_400 = qvapor_ncfile['QVAPOR']\n",
    "p_400 = p_ncfile['P']\n",
    "pb_400 = pb_ncfile['PB']"
   ]
  },
  {
   "cell_type": "code",
   "execution_count": 9,
   "metadata": {
    "ExecuteTime": {
     "end_time": "2018-04-09T04:49:26.164237Z",
     "start_time": "2018-04-09T04:49:26.160503Z"
    }
   },
   "outputs": [],
   "source": [
    "w_400 = w_ncfile['W']"
   ]
  },
  {
   "cell_type": "markdown",
   "metadata": {},
   "source": [
    "# import FMAASO 1000 data"
   ]
  },
  {
   "cell_type": "code",
   "execution_count": 10,
   "metadata": {
    "ExecuteTime": {
     "end_time": "2018-04-09T04:49:27.110170Z",
     "start_time": "2018-04-09T04:49:26.814028Z"
    }
   },
   "outputs": [],
   "source": [
    "data_dir = '/beegfs/DATA/pritchard/blangenb/WRF_ARCHIVE/CHEYENNE/FMAASO/1000/concat_nc_files/'\n",
    "filename_prefix = 'wrfout_d01_1979-01-01_00:00:00_1979-01-11_00:00:00_'\n",
    "filename_suffix = '_ens_mean.nc'\n",
    "\n",
    "time_ncfile = xarray.open_dataset(times_ncfile_name)\n",
    "xlat_ncfile = xarray.open_dataset(xlat_ncfile_name)\n",
    "xlong_ncfile = xarray.open_dataset(xlong_ncfile_name)\n",
    "landmask_ncfile = xarray.open_dataset(landmask_ncfile_name)\n",
    "\n",
    "qvapor_ncfile = xarray.open_dataset(data_dir + filename_prefix + 'QVAPOR' + '_ens_mean.nc')\n",
    "\n",
    "p_ncfile = xarray.open_dataset(data_dir + filename_prefix + 'P' + '_ens_mean.nc')\n",
    "pb_ncfile = xarray.open_dataset(data_dir + filename_prefix + 'PB' + '_ens_mean.nc')\n",
    "\n",
    "w_ncfile = xarray.open_dataset(data_dir + filename_prefix + 'W' + '_ens_mean.nc')"
   ]
  },
  {
   "cell_type": "code",
   "execution_count": 11,
   "metadata": {
    "ExecuteTime": {
     "end_time": "2018-04-09T04:49:27.369595Z",
     "start_time": "2018-04-09T04:49:27.229108Z"
    }
   },
   "outputs": [],
   "source": [
    "time_var_1000 = time_ncfile['Times']\n",
    "time_1000 = time_ncfile['Times'].data\n",
    "xlat = xlat_ncfile['XLAT'].data[0,:,:]\n",
    "xlong = xlong_ncfile['XLONG'].data[0,:,:]\n",
    "landmask = landmask_ncfile['LANDMASK'].data[0,:,:]"
   ]
  },
  {
   "cell_type": "code",
   "execution_count": 12,
   "metadata": {
    "ExecuteTime": {
     "end_time": "2018-04-09T04:49:27.519048Z",
     "start_time": "2018-04-09T04:49:27.514273Z"
    }
   },
   "outputs": [],
   "source": [
    "qvapor_1000 = qvapor_ncfile['QVAPOR']\n",
    "p_1000 = p_ncfile['P']\n",
    "pb_1000 = pb_ncfile['PB']"
   ]
  },
  {
   "cell_type": "code",
   "execution_count": 13,
   "metadata": {
    "ExecuteTime": {
     "end_time": "2018-04-09T04:49:27.715681Z",
     "start_time": "2018-04-09T04:49:27.712161Z"
    }
   },
   "outputs": [],
   "source": [
    "w_1000 = w_ncfile['W']"
   ]
  },
  {
   "cell_type": "code",
   "execution_count": 14,
   "metadata": {
    "ExecuteTime": {
     "end_time": "2018-04-09T04:51:29.157957Z",
     "start_time": "2018-04-09T04:49:27.997993Z"
    }
   },
   "outputs": [],
   "source": [
    "ptot_400 = p_400 + pb_400"
   ]
  },
  {
   "cell_type": "code",
   "execution_count": 15,
   "metadata": {
    "ExecuteTime": {
     "end_time": "2018-04-09T04:53:32.740189Z",
     "start_time": "2018-04-09T04:51:29.161009Z"
    }
   },
   "outputs": [],
   "source": [
    "ptot_1000 = p_1000 + pb_1000"
   ]
  },
  {
   "cell_type": "markdown",
   "metadata": {},
   "source": [
    "# calculate column-integrated qvapor"
   ]
  },
  {
   "cell_type": "code",
   "execution_count": 20,
   "metadata": {
    "ExecuteTime": {
     "end_time": "2018-04-11T21:32:04.821201Z",
     "start_time": "2018-04-11T21:32:04.817123Z"
    }
   },
   "outputs": [],
   "source": [
    "g = 9.807 # m/s2\n",
    "rho_w = 1000 # kg/m3"
   ]
  },
  {
   "cell_type": "code",
   "execution_count": 21,
   "metadata": {
    "ExecuteTime": {
     "end_time": "2018-04-11T21:32:05.071142Z",
     "start_time": "2018-04-11T21:32:05.065643Z"
    }
   },
   "outputs": [
    {
     "data": {
      "text/plain": [
       "(241, 29, 179, 289)"
      ]
     },
     "execution_count": 21,
     "metadata": {},
     "output_type": "execute_result"
    }
   ],
   "source": [
    "qvapor_400.shape"
   ]
  },
  {
   "cell_type": "code",
   "execution_count": 22,
   "metadata": {
    "ExecuteTime": {
     "end_time": "2018-04-11T21:32:08.001625Z",
     "start_time": "2018-04-11T21:32:05.384225Z"
    }
   },
   "outputs": [],
   "source": [
    "ptot_400_diff = -numpy.diff(ptot_400, axis=1)\n",
    "ptot_1000_diff = -numpy.diff(ptot_1000, axis=1)"
   ]
  },
  {
   "cell_type": "code",
   "execution_count": 23,
   "metadata": {
    "ExecuteTime": {
     "end_time": "2018-04-11T21:34:08.357830Z",
     "start_time": "2018-04-11T21:32:08.003557Z"
    }
   },
   "outputs": [],
   "source": [
    "qvapor_400_centered = 0.5*(qvapor_400[:,1:,:,:]+qvapor_400[:,:-1,:,:])\n",
    "qvapor_1000_centered = 0.5*(qvapor_1000[:,1:,:,:]+qvapor_1000[:,:-1,:,:])"
   ]
  },
  {
   "cell_type": "code",
   "execution_count": 24,
   "metadata": {
    "ExecuteTime": {
     "end_time": "2018-04-11T21:34:12.053627Z",
     "start_time": "2018-04-11T21:34:08.360566Z"
    }
   },
   "outputs": [],
   "source": [
    "qvapor_400_vint = (1000./(rho_w*g))*numpy.sum(qvapor_400_centered*ptot_400_diff, axis=1).values\n",
    "qvapor_1000_vint = (1000./(rho_w*g))*numpy.sum(qvapor_1000_centered*ptot_1000_diff, axis=1).values"
   ]
  },
  {
   "cell_type": "markdown",
   "metadata": {},
   "source": [
    "### check if this is the same as the wrf var version"
   ]
  },
  {
   "cell_type": "code",
   "execution_count": 81,
   "metadata": {
    "ExecuteTime": {
     "end_time": "2018-04-14T00:43:00.295575Z",
     "start_time": "2018-04-14T00:43:00.267065Z"
    }
   },
   "outputs": [],
   "source": [
    "ds1 = netCDF4.Dataset('/beegfs/DATA/pritchard/blangenb/WRF_ARCHIVE/CHEYENNE/FMAASO/400/001/wrfout_d01_1979-01-01_00:00:00')"
   ]
  },
  {
   "cell_type": "code",
   "execution_count": 82,
   "metadata": {
    "ExecuteTime": {
     "end_time": "2018-04-14T00:43:36.178325Z",
     "start_time": "2018-04-14T00:43:00.665060Z"
    }
   },
   "outputs": [],
   "source": [
    "cont_omega_alternative = wrf.getvar(ds1, 'pw', timeidx=wrf.ALL_TIMES)"
   ]
  },
  {
   "cell_type": "code",
   "execution_count": 83,
   "metadata": {
    "ExecuteTime": {
     "end_time": "2018-04-14T00:43:36.186584Z",
     "start_time": "2018-04-14T00:43:36.181285Z"
    }
   },
   "outputs": [
    {
     "data": {
      "text/plain": [
       "(24, 179, 289)"
      ]
     },
     "execution_count": 83,
     "metadata": {},
     "output_type": "execute_result"
    }
   ],
   "source": [
    "cont_omega_alternative.shape"
   ]
  },
  {
   "cell_type": "code",
   "execution_count": 84,
   "metadata": {
    "ExecuteTime": {
     "end_time": "2018-04-14T00:47:19.335733Z",
     "start_time": "2018-04-14T00:47:19.330536Z"
    }
   },
   "outputs": [
    {
     "data": {
      "text/plain": [
       "(241, 179, 289)"
      ]
     },
     "execution_count": 84,
     "metadata": {},
     "output_type": "execute_result"
    }
   ],
   "source": [
    "qvapor_400_vint.shape"
   ]
  },
  {
   "cell_type": "code",
   "execution_count": 87,
   "metadata": {
    "ExecuteTime": {
     "end_time": "2018-04-14T00:48:06.906252Z",
     "start_time": "2018-04-14T00:48:06.899669Z"
    }
   },
   "outputs": [
    {
     "data": {
      "text/plain": [
       "33.809273"
      ]
     },
     "execution_count": 87,
     "metadata": {},
     "output_type": "execute_result"
    }
   ],
   "source": [
    "qvapor_400_vint[:23,:,:].mean()"
   ]
  },
  {
   "cell_type": "code",
   "execution_count": 88,
   "metadata": {
    "ExecuteTime": {
     "end_time": "2018-04-14T00:48:07.183676Z",
     "start_time": "2018-04-14T00:48:07.164794Z"
    }
   },
   "outputs": [
    {
     "data": {
      "text/plain": [
       "34.77092"
      ]
     },
     "execution_count": 88,
     "metadata": {},
     "output_type": "execute_result"
    }
   ],
   "source": [
    "qvapor_400_vint.mean()"
   ]
  },
  {
   "cell_type": "markdown",
   "metadata": {},
   "source": [
    "# get time stamps"
   ]
  },
  {
   "cell_type": "code",
   "execution_count": 25,
   "metadata": {
    "ExecuteTime": {
     "end_time": "2018-04-11T21:34:12.061680Z",
     "start_time": "2018-04-11T21:34:12.055861Z"
    }
   },
   "outputs": [],
   "source": [
    "time_datetimes = pandas.to_datetime([i.decode('utf-8') for i in time], format = '%Y-%m-%d_%H:%M:%S')"
   ]
  },
  {
   "cell_type": "code",
   "execution_count": 26,
   "metadata": {
    "ExecuteTime": {
     "end_time": "2018-04-11T21:34:12.226092Z",
     "start_time": "2018-04-11T21:34:12.063479Z"
    }
   },
   "outputs": [],
   "source": [
    "skip_time = 24\n",
    "n_intervals = 8\n",
    "hour_strings = ['00','03','06','09','12','15','18','21']\n",
    "\n",
    "times_00 = [t.hour in [23,0,1] for t in time_datetimes[skip_time:]]\n",
    "times_03 = [t.hour in [2,3,4] for t in time_datetimes[skip_time:]]\n",
    "times_06 = [t.hour in [5,6,7] for t in time_datetimes[skip_time:]]\n",
    "times_09 = [t.hour in [8,9,10] for t in time_datetimes[skip_time:]]\n",
    "times_12 = [t.hour in [11,12,13] for t in time_datetimes[skip_time:]]\n",
    "times_15 = [t.hour in [14,15,16] for t in time_datetimes[skip_time:]]\n",
    "times_18 = [t.hour in [17,18,19] for t in time_datetimes[skip_time:]]\n",
    "times_21 = [t.hour in [20,21,22] for t in time_datetimes[skip_time:]]"
   ]
  },
  {
   "cell_type": "markdown",
   "metadata": {},
   "source": [
    "# lat indices subset"
   ]
  },
  {
   "cell_type": "code",
   "execution_count": 27,
   "metadata": {
    "ExecuteTime": {
     "end_time": "2018-04-11T21:34:12.337180Z",
     "start_time": "2018-04-11T21:34:12.229107Z"
    }
   },
   "outputs": [],
   "source": [
    "lat_hi = 10.\n",
    "lat_lo = -10.\n",
    "# subset between lat_hi and lat_lo\n",
    "lat_indices = (xlat<=lat_hi)&(xlat>=lat_lo)"
   ]
  },
  {
   "cell_type": "markdown",
   "metadata": {},
   "source": [
    " # calculate 3hr mean differences"
   ]
  },
  {
   "cell_type": "code",
   "execution_count": 28,
   "metadata": {
    "ExecuteTime": {
     "end_time": "2018-04-11T21:34:12.603412Z",
     "start_time": "2018-04-11T21:34:12.340183Z"
    }
   },
   "outputs": [],
   "source": [
    "# calculate 3 hourly means for 400\n",
    "qvapor_400_vint_t00mean = numpy.mean(qvapor_400_vint[skip_time:,:,:][times_00,:,:], axis=0)\n",
    "qvapor_400_vint_t03mean = numpy.mean(qvapor_400_vint[skip_time:,:,:][times_03,:,:], axis=0)\n",
    "qvapor_400_vint_t06mean = numpy.mean(qvapor_400_vint[skip_time:,:,:][times_06,:,:], axis=0)\n",
    "qvapor_400_vint_t09mean = numpy.mean(qvapor_400_vint[skip_time:,:,:][times_09,:,:], axis=0)\n",
    "qvapor_400_vint_t12mean = numpy.mean(qvapor_400_vint[skip_time:,:,:][times_12,:,:], axis=0)\n",
    "qvapor_400_vint_t15mean = numpy.mean(qvapor_400_vint[skip_time:,:,:][times_15,:,:], axis=0)\n",
    "qvapor_400_vint_t18mean = numpy.mean(qvapor_400_vint[skip_time:,:,:][times_18,:,:], axis=0)\n",
    "qvapor_400_vint_t21mean = numpy.mean(qvapor_400_vint[skip_time:,:,:][times_21,:,:], axis=0)\n",
    "\n",
    "qvapor_1000_vint_t00mean = numpy.mean(qvapor_1000_vint[skip_time:,:,:][times_00,:,:], axis=0)\n",
    "qvapor_1000_vint_t03mean = numpy.mean(qvapor_1000_vint[skip_time:,:,:][times_03,:,:], axis=0)\n",
    "qvapor_1000_vint_t06mean = numpy.mean(qvapor_1000_vint[skip_time:,:,:][times_06,:,:], axis=0)\n",
    "qvapor_1000_vint_t09mean = numpy.mean(qvapor_1000_vint[skip_time:,:,:][times_09,:,:], axis=0)\n",
    "qvapor_1000_vint_t12mean = numpy.mean(qvapor_1000_vint[skip_time:,:,:][times_12,:,:], axis=0)\n",
    "qvapor_1000_vint_t15mean = numpy.mean(qvapor_1000_vint[skip_time:,:,:][times_15,:,:], axis=0)\n",
    "qvapor_1000_vint_t18mean = numpy.mean(qvapor_1000_vint[skip_time:,:,:][times_18,:,:], axis=0)\n",
    "qvapor_1000_vint_t21mean = numpy.mean(qvapor_1000_vint[skip_time:,:,:][times_21,:,:], axis=0)\n",
    "\n",
    "qvapor_400_vint_array = numpy.array([qvapor_400_vint_t00mean, qvapor_400_vint_t03mean, qvapor_400_vint_t06mean, qvapor_400_vint_t09mean, qvapor_400_vint_t12mean, qvapor_400_vint_t15mean, qvapor_400_vint_t18mean, qvapor_400_vint_t21mean])\n",
    "qvapor_1000_vint_array = numpy.array([qvapor_1000_vint_t00mean, qvapor_1000_vint_t03mean, qvapor_1000_vint_t06mean, qvapor_1000_vint_t09mean, qvapor_1000_vint_t12mean, qvapor_1000_vint_t15mean, qvapor_1000_vint_t18mean, qvapor_1000_vint_t21mean])\n",
    "\n",
    "qvapor_vint_diffs = qvapor_1000_vint_array - qvapor_400_vint_array\n",
    "#qvapor_vint_diffs_landmask = numpy.copy(qvapor_vint_diffs)\n",
    "#qvapor_vint_diffs_landmask[:,landmask==0] = numpy.nan\n",
    "\n",
    "qvapor_vint_diffs_time_mean = numpy.mean(qvapor_1000_vint[skip_time:,:,:] - qvapor_400_vint[skip_time:,:,:], axis=0)\n",
    "#qvapor_vint_diffs_time_mean_landmask = numpy.copy(qvapor_vint_diffs_time_mean)\n",
    "#qvapor_vint_diffs_time_mean_landmask[landmask==0] = numpy.nan\n",
    "\n",
    "qvapor_400_vint_time_mean = numpy.mean(qvapor_400_vint[skip_time:,:,:], axis=0)\n",
    "#qvapor_400_vint_time_mean_landmask = numpy.copy(qvapor_400_vint_time_mean)\n",
    "#qvapor_400_vint_time_mean_landmask[landmask==0] = numpy.nan"
   ]
  },
  {
   "cell_type": "code",
   "execution_count": 48,
   "metadata": {
    "ExecuteTime": {
     "end_time": "2018-04-11T21:38:45.117743Z",
     "start_time": "2018-04-11T21:38:45.025005Z"
    }
   },
   "outputs": [],
   "source": [
    "qvapor_diffs_vint_alltime = qvapor_1000_vint-qvapor_400_vint"
   ]
  },
  {
   "cell_type": "code",
   "execution_count": 29,
   "metadata": {
    "ExecuteTime": {
     "end_time": "2018-04-11T21:36:01.212574Z",
     "start_time": "2018-04-11T21:34:12.605466Z"
    }
   },
   "outputs": [],
   "source": [
    "w_400_lat_subset = w_400.values[:,:,lat_indices[:,0],:]\n",
    "w_1000_lat_subset = w_1000.values[:,:,lat_indices[:,0],:]\n",
    "w_diffs_lat_subset = w_1000_lat_subset-w_400_lat_subset"
   ]
  },
  {
   "cell_type": "code",
   "execution_count": 30,
   "metadata": {
    "ExecuteTime": {
     "end_time": "2018-04-11T21:36:02.180784Z",
     "start_time": "2018-04-11T21:36:01.214643Z"
    }
   },
   "outputs": [],
   "source": [
    "# calculate 3 hourly means for 400\n",
    "w_400_t00mean = numpy.mean(w_400_lat_subset[skip_time:,:,:,:][times_00,:,:,:], axis=0)\n",
    "w_400_t03mean = numpy.mean(w_400_lat_subset[skip_time:,:,:,:][times_03,:,:,:], axis=0)\n",
    "w_400_t06mean = numpy.mean(w_400_lat_subset[skip_time:,:,:,:][times_06,:,:,:], axis=0)\n",
    "w_400_t09mean = numpy.mean(w_400_lat_subset[skip_time:,:,:,:][times_09,:,:,:], axis=0)\n",
    "w_400_t12mean = numpy.mean(w_400_lat_subset[skip_time:,:,:,:][times_12,:,:,:], axis=0)\n",
    "w_400_t15mean = numpy.mean(w_400_lat_subset[skip_time:,:,:,:][times_15,:,:,:], axis=0)\n",
    "w_400_t18mean = numpy.mean(w_400_lat_subset[skip_time:,:,:,:][times_18,:,:,:], axis=0)\n",
    "w_400_t21mean = numpy.mean(w_400_lat_subset[skip_time:,:,:,:][times_21,:,:,:], axis=0)\n",
    "\n",
    "w_1000_t00mean = numpy.mean(w_1000_lat_subset[skip_time:,:,:,:][times_00,:,:,:], axis=0)\n",
    "w_1000_t03mean = numpy.mean(w_1000_lat_subset[skip_time:,:,:,:][times_03,:,:,:], axis=0)\n",
    "w_1000_t06mean = numpy.mean(w_1000_lat_subset[skip_time:,:,:,:][times_06,:,:,:], axis=0)\n",
    "w_1000_t09mean = numpy.mean(w_1000_lat_subset[skip_time:,:,:,:][times_09,:,:,:], axis=0)\n",
    "w_1000_t12mean = numpy.mean(w_1000_lat_subset[skip_time:,:,:,:][times_12,:,:,:], axis=0)\n",
    "w_1000_t15mean = numpy.mean(w_1000_lat_subset[skip_time:,:,:,:][times_15,:,:,:], axis=0)\n",
    "w_1000_t18mean = numpy.mean(w_1000_lat_subset[skip_time:,:,:,:][times_18,:,:,:], axis=0)\n",
    "w_1000_t21mean = numpy.mean(w_1000_lat_subset[skip_time:,:,:,:][times_21,:,:,:], axis=0)\n",
    "\n",
    "w_400_array = numpy.array([w_400_t00mean, w_400_t03mean, w_400_t06mean, w_400_t09mean, w_400_t12mean, w_400_t15mean, w_400_t18mean, w_400_t21mean])\n",
    "w_1000_array = numpy.array([w_1000_t00mean, w_1000_t03mean, w_1000_t06mean, w_1000_t09mean, w_1000_t12mean, w_1000_t15mean, w_1000_t18mean, w_1000_t21mean])\n",
    "\n",
    "w_diffs = w_1000_array - w_400_array\n",
    "\n",
    "w_diffs_time_mean = numpy.mean(w_diffs_lat_subset[skip_time:,:,:], axis=0)\n",
    "w_diffs_time_lat_mean = numpy.mean(w_diffs_time_mean, axis=1)\n",
    "w_diffs_lat_mean = numpy.mean(w_diffs_lat_subset, axis=2)\n",
    "\n",
    "w_400_time_mean = numpy.mean(w_400_lat_subset[skip_time:,:,:], axis=0)\n",
    "w_400_time_lat_mean = numpy.mean(w_400_time_mean, axis=1)\n",
    "w_400_lat_mean = numpy.mean(w_400_lat_subset, axis=2)"
   ]
  },
  {
   "cell_type": "code",
   "execution_count": 31,
   "metadata": {
    "ExecuteTime": {
     "end_time": "2018-04-11T21:36:02.199368Z",
     "start_time": "2018-04-11T21:36:02.184114Z"
    }
   },
   "outputs": [],
   "source": [
    "w_diffs_time_lat_mean_destagger = 0.5*(w_diffs_time_lat_mean[:-1,:]+w_diffs_time_lat_mean[1:,:])\n",
    "w_diffs_lat_mean_destagger = 0.5*(w_diffs_lat_mean[:,:-1,:]+w_diffs_lat_mean[:,1:,:])"
   ]
  },
  {
   "cell_type": "code",
   "execution_count": 32,
   "metadata": {
    "ExecuteTime": {
     "end_time": "2018-04-11T21:36:03.458819Z",
     "start_time": "2018-04-11T21:36:02.202012Z"
    }
   },
   "outputs": [],
   "source": [
    "ptot_400_lat_subset = ptot_400.values[:,:,lat_indices[:,0],:]\n",
    "ptot_1000_lat_subset = ptot_1000.values[:,:,lat_indices[:,0],:]\n",
    "ptot_diffs_lat_subset = ptot_1000_lat_subset-ptot_400_lat_subset"
   ]
  },
  {
   "cell_type": "code",
   "execution_count": 33,
   "metadata": {
    "ExecuteTime": {
     "end_time": "2018-04-11T21:36:04.449868Z",
     "start_time": "2018-04-11T21:36:03.460987Z"
    }
   },
   "outputs": [],
   "source": [
    "# calculate 3 hourly means for 400\n",
    "ptot_400_t00mean = numpy.mean(ptot_400_lat_subset[skip_time:,:,:,:][times_00,:,:,:], axis=0)\n",
    "ptot_400_t03mean = numpy.mean(ptot_400_lat_subset[skip_time:,:,:,:][times_03,:,:,:], axis=0)\n",
    "ptot_400_t06mean = numpy.mean(ptot_400_lat_subset[skip_time:,:,:,:][times_06,:,:,:], axis=0)\n",
    "ptot_400_t09mean = numpy.mean(ptot_400_lat_subset[skip_time:,:,:,:][times_09,:,:,:], axis=0)\n",
    "ptot_400_t12mean = numpy.mean(ptot_400_lat_subset[skip_time:,:,:,:][times_12,:,:,:], axis=0)\n",
    "ptot_400_t15mean = numpy.mean(ptot_400_lat_subset[skip_time:,:,:,:][times_15,:,:,:], axis=0)\n",
    "ptot_400_t18mean = numpy.mean(ptot_400_lat_subset[skip_time:,:,:,:][times_18,:,:,:], axis=0)\n",
    "ptot_400_t21mean = numpy.mean(ptot_400_lat_subset[skip_time:,:,:,:][times_21,:,:,:], axis=0)\n",
    "\n",
    "ptot_1000_t00mean = numpy.mean(ptot_1000_lat_subset[skip_time:,:,:,:][times_00,:,:,:], axis=0)\n",
    "ptot_1000_t03mean = numpy.mean(ptot_1000_lat_subset[skip_time:,:,:,:][times_03,:,:,:], axis=0)\n",
    "ptot_1000_t06mean = numpy.mean(ptot_1000_lat_subset[skip_time:,:,:,:][times_06,:,:,:], axis=0)\n",
    "ptot_1000_t09mean = numpy.mean(ptot_1000_lat_subset[skip_time:,:,:,:][times_09,:,:,:], axis=0)\n",
    "ptot_1000_t12mean = numpy.mean(ptot_1000_lat_subset[skip_time:,:,:,:][times_12,:,:,:], axis=0)\n",
    "ptot_1000_t15mean = numpy.mean(ptot_1000_lat_subset[skip_time:,:,:,:][times_15,:,:,:], axis=0)\n",
    "ptot_1000_t18mean = numpy.mean(ptot_1000_lat_subset[skip_time:,:,:,:][times_18,:,:,:], axis=0)\n",
    "ptot_1000_t21mean = numpy.mean(ptot_1000_lat_subset[skip_time:,:,:,:][times_21,:,:,:], axis=0)\n",
    "\n",
    "ptot_400_array = numpy.array([ptot_400_t00mean, ptot_400_t03mean, ptot_400_t06mean, ptot_400_t09mean, ptot_400_t12mean, ptot_400_t15mean, ptot_400_t18mean, ptot_400_t21mean])\n",
    "ptot_1000_array = numpy.array([ptot_1000_t00mean, ptot_1000_t03mean, ptot_1000_t06mean, ptot_1000_t09mean, ptot_1000_t12mean, ptot_1000_t15mean, ptot_1000_t18mean, ptot_1000_t21mean])\n",
    "\n",
    "ptot_diffs = ptot_1000_array - ptot_400_array\n",
    "\n",
    "ptot_diffs_time_mean = numpy.mean(ptot_diffs_lat_subset[skip_time:,:,:], axis=0)\n",
    "ptot_diffs_time_lat_mean = numpy.mean(ptot_diffs_time_mean, axis=1)\n",
    "ptot_diffs_lat_mean = numpy.mean(ptot_diffs_lat_subset, axis=2)\n",
    "\n",
    "ptot_400_time_mean = numpy.mean(ptot_400_lat_subset[skip_time:,:,:], axis=0)\n",
    "ptot_400_time_lat_mean = numpy.mean(ptot_400_time_mean, axis=1)\n",
    "ptot_400_lat_mean = numpy.mean(ptot_400_lat_subset, axis=2)"
   ]
  },
  {
   "cell_type": "code",
   "execution_count": 34,
   "metadata": {
    "ExecuteTime": {
     "end_time": "2018-04-11T21:36:04.457841Z",
     "start_time": "2018-04-11T21:36:04.452962Z"
    }
   },
   "outputs": [],
   "source": [
    "xx,zz=numpy.meshgrid(xlong[0,:],ptot_400_time_lat_mean[:,:].mean(axis=1))"
   ]
  },
  {
   "cell_type": "code",
   "execution_count": 35,
   "metadata": {
    "ExecuteTime": {
     "end_time": "2018-04-11T21:36:09.240777Z",
     "start_time": "2018-04-11T21:36:08.024496Z"
    }
   },
   "outputs": [
    {
     "data": {
      "image/png": "[encoded data removed]",
      "text/plain": [
       "<Figure size 288x180 with 2 Axes>"
      ]
     },
     "metadata": {},
     "output_type": "display_data"
    }
   ],
   "source": [
    "fontsize = 12\n",
    "\n",
    "fig = mp.figure(figsize=(4,2.5))\n",
    "\n",
    "xticks_deg_E=numpy.array((280,300,320))\n",
    "xticks = -(360-xticks_deg_E)\n",
    "xticks_format=[str(tick)+DEGREE_SIGN+'E' for tick in xticks_deg_E]\n",
    "\n",
    "ax = fig.add_subplot(111)\n",
    "\n",
    "levels = numpy.arange(-1.25,1.26,0.25)\n",
    "\n",
    "contour_plot = ax.contourf(xx+360., ptot_400_time_lat_mean/100., w_diffs_time_lat_mean_destagger*1000., \\\n",
    "                           levels=levels, \\\n",
    "                           cmap='RdBu', \\\n",
    "                           extend='both')\n",
    "ax.tick_params(labelsize=fontsize)\n",
    "ax.set_ylim(1000,100)\n",
    "ax.set_xlim(xlong.min()+65.+360.,xlong.max()-2+360.)\n",
    "\n",
    "ax.text(s='Mean $\\Delta$ vertical velocity',\\\n",
    "       x=0, y=1.02, \\\n",
    "       ha='left', va='bottom', \\\n",
    "       fontsize=fontsize, \\\n",
    "       transform=ax.transAxes)\n",
    "\n",
    "ax.set_xticks([280,300,320])\n",
    "ax.set_xticklabels(xticks_format)\n",
    "ax.set_ylabel('hPa', fontsize=fontsize)\n",
    "ax.set_facecolor('0.1')\n",
    "ax.axhline(y=860.,lw=1,ls='--',c='0.1')\n",
    "\n",
    "fig.tight_layout()\n",
    "\n",
    "ax_pos = ax.get_position()\n",
    "cbar_ax = fig.add_axes([ax_pos.x1+0.05, ax_pos.y0, 0.03, ax_pos.height])\n",
    "cbar = fig.colorbar(contour_plot, cax=cbar_ax)\n",
    "cbar_ax.tick_params(labelsize=fontsize)\n",
    "cbar.set_ticks(levels[1::2])\n",
    "cbar.set_label('mm s$^{\\,-1}$', fontsize=fontsize)\n",
    "\n",
    "fig.savefig('mean_vertical_velocity_change.png', dpi=600, bbox_inches='tight')"
   ]
  },
  {
   "cell_type": "code",
   "execution_count": 36,
   "metadata": {
    "ExecuteTime": {
     "end_time": "2018-04-11T21:36:13.382586Z",
     "start_time": "2018-04-11T21:36:13.361337Z"
    }
   },
   "outputs": [],
   "source": [
    "ptot_400_time_mean_h12to18 = numpy.mean(ptot_400_lat_subset[12:18,:,:], axis=0)\n",
    "ptot_400_time_lat_mean_h12to18 = numpy.mean(ptot_400_time_mean_h12to18, axis=1)\n",
    "\n",
    "w_diffs_time_mean_h12to18 = numpy.mean(w_diffs_lat_subset[12:18,:,:], axis=0)\n",
    "w_diffs_time_lat_mean_h12to18 = numpy.mean(w_diffs_time_mean_h12to18, axis=1)\n",
    "w_diffs_time_lat_mean_h12to18_destagger = 0.5*(w_diffs_time_lat_mean_h12to18[:-1,:]+w_diffs_time_lat_mean_h12to18[1:,:])"
   ]
  },
  {
   "cell_type": "code",
   "execution_count": 37,
   "metadata": {
    "ExecuteTime": {
     "end_time": "2018-04-11T21:36:13.753698Z",
     "start_time": "2018-04-11T21:36:13.731471Z"
    }
   },
   "outputs": [],
   "source": [
    "ptot_400_time_mean_h18to24 = numpy.mean(ptot_400_lat_subset[24:30,:,:], axis=0)\n",
    "ptot_400_time_lat_mean_h18to24 = numpy.mean(ptot_400_time_mean_h18to24, axis=1)\n",
    "\n",
    "w_diffs_time_mean_h18to24 = numpy.mean(w_diffs_lat_subset[24:30,:,:], axis=0)\n",
    "w_diffs_time_lat_mean_h18to24 = numpy.mean(w_diffs_time_mean_h18to24, axis=1)\n",
    "w_diffs_time_lat_mean_h18to24_destagger = 0.5*(w_diffs_time_lat_mean_h18to24[:-1,:]+w_diffs_time_lat_mean_h18to24[1:,:])"
   ]
  },
  {
   "cell_type": "code",
   "execution_count": 38,
   "metadata": {
    "ExecuteTime": {
     "end_time": "2018-04-11T21:36:15.131255Z",
     "start_time": "2018-04-11T21:36:14.129530Z"
    }
   },
   "outputs": [
    {
     "data": {
      "image/png": "[encoded data removed]",
      "text/plain": [
       "<Figure size 288x180 with 2 Axes>"
      ]
     },
     "metadata": {},
     "output_type": "display_data"
    }
   ],
   "source": [
    "fig = mp.figure(figsize=(4,2.5))\n",
    "\n",
    "xticks_deg_E=numpy.array((280,300,320))\n",
    "xticks = -(360-xticks_deg_E)\n",
    "xticks_format=[str(tick)+DEGREE_SIGN+'E' for tick in xticks_deg_E]\n",
    "\n",
    "ax = fig.add_subplot(111)\n",
    "\n",
    "levels = numpy.arange(-1.25,1.26,0.25)\n",
    "\n",
    "contour_plot = ax.contourf(xx+360., ptot_400_time_lat_mean_h12to18/100., w_diffs_time_lat_mean_h12to18_destagger*1000., \\\n",
    "                           levels=levels, \\\n",
    "                           cmap='RdBu', \\\n",
    "                           extend='both')\n",
    "ax.tick_params(labelsize=fontsize)\n",
    "ax.set_ylim(1000,100)\n",
    "ax.set_xlim(xlong.min()+65.+360.,xlong.max()-2+360.)\n",
    "\n",
    "ax.text(s='Mean $\\Delta$ vertical velocity (hours 12-18)',\\\n",
    "       x=0, y=1.02, \\\n",
    "       ha='left', va='bottom', \\\n",
    "       fontsize=fontsize, \\\n",
    "       transform=ax.transAxes)\n",
    "\n",
    "ax.set_xticks([280,300,320])\n",
    "ax.set_xticklabels(xticks_format)\n",
    "ax.set_ylabel('hPa', fontsize=fontsize)\n",
    "ax.set_facecolor('0.1')\n",
    "ax.axhline(y=860.,lw=1,ls='--',c='0.1')\n",
    "\n",
    "fig.tight_layout()\n",
    "\n",
    "ax_pos = ax.get_position()\n",
    "cbar_ax = fig.add_axes([ax_pos.x1+0.05, ax_pos.y0, 0.03, ax_pos.height])\n",
    "cbar = fig.colorbar(contour_plot, cax=cbar_ax)\n",
    "cbar_ax.tick_params(labelsize=fontsize)\n",
    "cbar.set_ticks(levels[1::2])\n",
    "cbar.set_label('mm s$^{\\,-1}$', fontsize=fontsize)\n",
    "\n",
    "fig.savefig('mean_vertical_velocity_change_hours12to18.png', dpi=600, bbox_inches='tight')"
   ]
  },
  {
   "cell_type": "code",
   "execution_count": 39,
   "metadata": {
    "ExecuteTime": {
     "end_time": "2018-04-11T21:36:19.303957Z",
     "start_time": "2018-04-11T21:36:18.363530Z"
    }
   },
   "outputs": [
    {
     "data": {
      "image/png": "[encoded data removed]",
      "text/plain": [
       "<Figure size 288x180 with 2 Axes>"
      ]
     },
     "metadata": {},
     "output_type": "display_data"
    }
   ],
   "source": [
    "fig = mp.figure(figsize=(4,2.5))\n",
    "\n",
    "xticks_deg_E=numpy.array((280,300,320))\n",
    "xticks = -(360-xticks_deg_E)\n",
    "xticks_format=[str(tick)+DEGREE_SIGN+'E' for tick in xticks_deg_E]\n",
    "\n",
    "ax = fig.add_subplot(111)\n",
    "\n",
    "levels = numpy.arange(-1.25,1.26,0.25)\n",
    "\n",
    "contour_plot = ax.contourf(xx+360., ptot_400_time_lat_mean_h18to24/100., w_diffs_time_lat_mean_h18to24_destagger*1000., \\\n",
    "                           levels=levels, \\\n",
    "                           cmap='RdBu', \\\n",
    "                           extend='both')\n",
    "ax.tick_params(labelsize=fontsize)\n",
    "ax.set_ylim(1000,100)\n",
    "ax.set_xlim(xlong.min()+65.+360.,xlong.max()-2+360.)\n",
    "\n",
    "ax.text(s='Mean $\\Delta$ vertical velocity (hours 18-24)',\\\n",
    "       x=0, y=1.02, \\\n",
    "       ha='left', va='bottom', \\\n",
    "       fontsize=fontsize, \\\n",
    "       transform=ax.transAxes)\n",
    "\n",
    "ax.set_xticks([280,300,320])\n",
    "ax.set_xticklabels(xticks_format)\n",
    "ax.set_ylabel('hPa', fontsize=fontsize)\n",
    "ax.set_facecolor('0.1')\n",
    "ax.axhline(y=860.,lw=1,ls='--',c='0.1')\n",
    "\n",
    "fig.tight_layout()\n",
    "\n",
    "ax_pos = ax.get_position()\n",
    "cbar_ax = fig.add_axes([ax_pos.x1+0.05, ax_pos.y0, 0.03, ax_pos.height])\n",
    "cbar = fig.colorbar(contour_plot, cax=cbar_ax)\n",
    "cbar_ax.tick_params(labelsize=fontsize)\n",
    "cbar.set_ticks(levels[1::2])\n",
    "cbar.set_label('mm s$^{\\,-1}$', fontsize=fontsize)\n",
    "\n",
    "fig.savefig('mean_vertical_velocity_change_hours18to24.png', dpi=600, bbox_inches='tight')"
   ]
  },
  {
   "cell_type": "markdown",
   "metadata": {},
   "source": [
    "# movie of w velocity"
   ]
  },
  {
   "cell_type": "code",
   "execution_count": 40,
   "metadata": {
    "ExecuteTime": {
     "end_time": "2018-04-11T21:36:19.922275Z",
     "start_time": "2018-04-11T21:36:19.647834Z"
    }
   },
   "outputs": [
    {
     "data": {
      "image/png": "[encoded data removed]",
      "text/plain": [
       "<Figure size 288x180 with 2 Axes>"
      ]
     },
     "metadata": {},
     "output_type": "display_data"
    }
   ],
   "source": [
    "xticks_deg_E=numpy.array((280,300,320))\n",
    "xticks = -(360-xticks_deg_E)\n",
    "xticks_format=[str(tick)+DEGREE_SIGN+'E' for tick in xticks_deg_E]\n",
    "\n",
    "\n",
    "\n",
    "levels = numpy.arange(-1.25,1.26,0.25)\n",
    "\n",
    "for t in [8]:#18range(72):\n",
    "    \n",
    "    fig = mp.figure(figsize=(4,2.5))\n",
    "    ax = fig.add_subplot(111)\n",
    "\n",
    "    contour_plot = ax.contourf(xx+360., ptot_400_lat_mean[t,:,:]/100., w_diffs_lat_mean_destagger[t,:,:]*1000., \\\n",
    "                               levels=levels, \\\n",
    "                               cmap='RdBu', \\\n",
    "                               extend='both')\n",
    "    ax.tick_params(labelsize=fontsize)\n",
    "    ax.set_ylim(1000,100)\n",
    "    ax.set_xlim(xlong.min()+65.+360.,xlong.max()-2+360.)\n",
    "\n",
    "    ax.text(s='$\\Delta$ vertical velocity (hour '+'{:02d}'.format(t+1)+')',\\\n",
    "           x=0, y=1.02, \\\n",
    "           ha='left', va='bottom', \\\n",
    "           fontsize=fontsize, \\\n",
    "           transform=ax.transAxes)\n",
    "\n",
    "    ax.set_xticks([280,300,320])\n",
    "    ax.set_xticklabels(xticks_format)\n",
    "    ax.set_ylabel('hPa', fontsize=fontsize)\n",
    "    ax.set_facecolor('0.1')\n",
    "    ax.axhline(y=860.,lw=1,ls='--',c='0.1')\n",
    "\n",
    "    fig.tight_layout()\n",
    "\n",
    "    ax_pos = ax.get_position()\n",
    "    cbar_ax = fig.add_axes([ax_pos.x1+0.05, ax_pos.y0, 0.03, ax_pos.height])\n",
    "    cbar = fig.colorbar(contour_plot, cax=cbar_ax)\n",
    "    cbar_ax.tick_params(labelsize=fontsize)\n",
    "    cbar.set_ticks(levels[1::2])\n",
    "    cbar.set_label('mm s$^{\\,-1}$', fontsize=fontsize)\n",
    "\n",
    "    #fig.savefig('mean_vertical_velocity_change_hours18to24.png', dpi=600, bbox_inches='tight')"
   ]
  },
  {
   "cell_type": "markdown",
   "metadata": {},
   "source": [
    "# time mean climatology and differences"
   ]
  },
  {
   "cell_type": "code",
   "execution_count": 41,
   "metadata": {
    "ExecuteTime": {
     "end_time": "2018-04-11T21:36:25.958342Z",
     "start_time": "2018-04-11T21:36:25.797223Z"
    }
   },
   "outputs": [],
   "source": [
    "fontsize = 12\n",
    "lon_offset = 25.\n",
    "\n",
    "# RAINTOT\n",
    "\n",
    "levels = numpy.arange(-1,1.1,0.25)\n",
    "ax1 = fig.add_subplot(231, projection=cartopy.crs.PlateCarree())\n",
    "ax1.gridlines(ylocs=[0], color='0.25')\n",
    "ax1.coastlines(resolution='110m')\n",
    "ax1.set_extent([xlong.min()+lon_offset, xlong.max(), xlat.min(), xlat.max()], crs=cartopy.crs.PlateCarree())"
   ]
  },
  {
   "cell_type": "code",
   "execution_count": null,
   "metadata": {},
   "outputs": [],
   "source": []
  },
  {
   "cell_type": "code",
   "execution_count": null,
   "metadata": {},
   "outputs": [],
   "source": [
    "qvapor_diffs_"
   ]
  },
  {
   "cell_type": "code",
   "execution_count": 67,
   "metadata": {
    "ExecuteTime": {
     "end_time": "2018-04-11T21:47:20.683505Z",
     "start_time": "2018-04-11T21:46:21.769871Z"
    }
   },
   "outputs": [],
   "source": [
    "fontsize=12\n",
    "lon_offset = 25.\n",
    "\n",
    "diff_levels = numpy.arange(-1,1.1,0.2)\n",
    "\n",
    "t = 10\n",
    "for t in range(48):#\n",
    "    \n",
    "    fig = mp.figure(figsize=(5,3))\n",
    "    ax1 = fig.add_subplot(111, projection=cartopy.crs.PlateCarree())\n",
    "    ax1.set_extent([xlong.min()+lon_offset, xlong.max(), xlat.min(), xlat.max()], crs=cartopy.crs.PlateCarree())\n",
    "    ax1.coastlines(color='0.1')\n",
    "    contour_plot1 = ax1.contourf(xlong,xlat,qvapor_diffs_vint_alltime[t,:,:], \\\n",
    "                                 levels=diff_levels, \\\n",
    "                                 cmap='RdBu',extend='both')\n",
    "    \n",
    "    ax1.text(s=\"$\\Delta$ column-int. water vapor\", x=0, y=1.01,\\\n",
    "             ha='left', va='bottom', \\\n",
    "             transform=ax1.transAxes, fontsize=fontsize)\n",
    "    ax1.text(s='hour '+'{:02d}'.format(t), x=1, y=1.01, \\\n",
    "             ha='right', va='bottom', transform=ax1.transAxes, \\\n",
    "             fontsize=fontsize)\n",
    "    #ax1.contour(xlong,xlat,qvapor_diffs_vint_alltime[t,:,:],levels=[10,20,30,40,50],colors='1',linewidths=0.25)\n",
    "    \n",
    "    fig.tight_layout()\n",
    "\n",
    "    ax1_pos = ax1.get_position()\n",
    "    cbar1 = mp.colorbar(contour_plot1)\n",
    "    cbar1.ax.tick_params(labelsize=fontsize)\n",
    "    cbar1.set_label('mm', fontsize=fontsize)\n",
    "\n",
    "    fig.savefig('hourly_vint_cwv_change_hour'+ '{:02d}'.format(t)+'.png', dpi=600, bbox_inches='tight', transparent=True)\n",
    "    mp.close()"
   ]
  },
  {
   "cell_type": "code",
   "execution_count": null,
   "metadata": {},
   "outputs": [],
   "source": []
  },
  {
   "cell_type": "code",
   "execution_count": 42,
   "metadata": {
    "ExecuteTime": {
     "end_time": "2018-04-11T21:36:27.836190Z",
     "start_time": "2018-04-11T21:36:26.316801Z"
    }
   },
   "outputs": [
    {
     "data": {
      "image/png": "[encoded data removed]",
      "text/plain": [
       "<Figure size 234x324 with 4 Axes>"
      ]
     },
     "metadata": {},
     "output_type": "display_data"
    }
   ],
   "source": [
    "fontsize=12\n",
    "lon_offset = 25.\n",
    "\n",
    "fig = mp.figure(figsize=(3.25,4.5))\n",
    "\n",
    "clim_levels = numpy.arange(0,56,5)\n",
    "diff_levels = numpy.arange(-1,1.1,0.2)\n",
    "\n",
    "ax1 = fig.add_subplot(211, projection=cartopy.crs.PlateCarree())\n",
    "ax1.set_extent([xlong.min()+lon_offset, xlong.max(), xlat.min(), xlat.max()], crs=cartopy.crs.PlateCarree())\n",
    "ax1.coastlines(color='0.1')\n",
    "contour_plot1 = ax1.contourf(xlong,xlat,qvapor_400_vint_time_mean, levels=clim_levels, cmap='YlGnBu',extend='max')\n",
    "ax1.text(s='Climatological column water vapor', x=0, y=1.02,\\\n",
    "         ha='left', va='bottom', \\\n",
    "         transform=ax1.transAxes, fontsize=fontsize)\n",
    "ax1.contour(xlong,xlat,qvapor_400_vint_time_mean,levels=[10,20,30,40,50],colors='1',linewidths=0.25)\n",
    "         \n",
    "ax2 = fig.add_subplot(212, projection=cartopy.crs.PlateCarree())\n",
    "ax2.set_extent([xlong.min()+lon_offset, xlong.max(), xlat.min(), xlat.max()], crs=cartopy.crs.PlateCarree())\n",
    "ax2.coastlines(color='0.1')\n",
    "contour_plot2 = ax2.contourf(xlong,xlat,qvapor_vint_diffs_time_mean,levels=diff_levels, cmap='RdBu',extend='both')\n",
    "ax2.text(s='Column water vapor anomalies', x=0, y=1.02,\\\n",
    "         ha='left', va='bottom', \\\n",
    "         transform=ax2.transAxes, fontsize=fontsize)\n",
    "\n",
    "\n",
    "fig.tight_layout(h_pad=2)\n",
    "\n",
    "ax1_pos = ax1.get_position()\n",
    "cbar1_ax = fig.add_axes([ax1_pos.x1+0.01,ax1_pos.y0,0.05,ax1_pos.height])\n",
    "cbar1 = mp.colorbar(contour_plot1, cax=cbar1_ax)\n",
    "cbar1.ax.tick_params(labelsize=fontsize)\n",
    "cbar1.set_label('mm', fontsize=fontsize)\n",
    "\n",
    "ax2_pos = ax2.get_position()\n",
    "cbar2_ax = fig.add_axes([ax2_pos.x1+0.01,ax2_pos.y0,0.05,ax2_pos.height])\n",
    "cbar2 = mp.colorbar(contour_plot2, cax=cbar2_ax)\n",
    "cbar2.ax.tick_params(labelsize=fontsize)\n",
    "cbar2.set_label('mm', fontsize=fontsize)\n",
    "\n",
    "fig.savefig('vint_cwv_clim_and_anomalies_time_mean.png', dpi=600, bbox_inches='tight', transparent=True)"
   ]
  },
  {
   "cell_type": "code",
   "execution_count": 45,
   "metadata": {
    "ExecuteTime": {
     "end_time": "2018-04-11T21:36:47.147096Z",
     "start_time": "2018-04-11T21:36:45.448843Z"
    }
   },
   "outputs": [
    {
     "data": {
      "image/png": "[encoded data removed]",
      "text/plain": [
       "<Figure size 234x324 with 4 Axes>"
      ]
     },
     "metadata": {},
     "output_type": "display_data"
    }
   ],
   "source": [
    "fontsize=12\n",
    "lon_offset = 25.\n",
    "\n",
    "fig = mp.figure(figsize=(3.25,4.5))\n",
    "\n",
    "clim_levels = numpy.arange(0,56,5)\n",
    "diff_levels = numpy.arange(-2,2.1,0.25)\n",
    "\n",
    "ax1 = fig.add_subplot(211, projection=cartopy.crs.PlateCarree())\n",
    "ax1.set_extent([xlong.min()+lon_offset, xlong.max(), xlat.min(), xlat.max()], crs=cartopy.crs.PlateCarree())\n",
    "ax1.coastlines(color='0.1')\n",
    "contour_plot1 = ax1.contourf(xlong,xlat,qvapor_400_vint_time_mean, levels=clim_levels, cmap='YlGnBu',extend='max')\n",
    "ax1.text(s='Climatological column water vapor', x=0, y=1.02,\\\n",
    "         ha='left', va='bottom', \\\n",
    "         transform=ax1.transAxes, fontsize=fontsize)\n",
    "ax1.contour(xlong,xlat,qvapor_400_vint_time_mean,levels=[10,20,30,40,50],colors='1',linewidths=0.25)\n",
    "         \n",
    "ax2 = fig.add_subplot(212, projection=cartopy.crs.PlateCarree())\n",
    "ax2.set_extent([xlong.min()+lon_offset, xlong.max(), xlat.min(), xlat.max()], crs=cartopy.crs.PlateCarree())\n",
    "ax2.coastlines(color='0.1')\n",
    "contour_plot2 = ax2.contourf(xlong,xlat,(qvapor_vint_diffs_time_mean/qvapor_400_vint_time_mean)*100.,\\\n",
    "                             levels=diff_levels, \\\n",
    "                             cmap='RdBu',extend='both')\n",
    "ax2.text(s='Column water vapor anomalies', x=0, y=1.02,\\\n",
    "         ha='left', va='bottom', \\\n",
    "         transform=ax2.transAxes, fontsize=fontsize)\n",
    "\n",
    "\n",
    "fig.tight_layout(h_pad=2)\n",
    "\n",
    "ax1_pos = ax1.get_position()\n",
    "cbar1_ax = fig.add_axes([ax1_pos.x1+0.01,ax1_pos.y0,0.05,ax1_pos.height])\n",
    "cbar1 = mp.colorbar(contour_plot1, cax=cbar1_ax)\n",
    "cbar1.ax.tick_params(labelsize=fontsize)\n",
    "cbar1.set_label('mm', fontsize=fontsize)\n",
    "\n",
    "ax2_pos = ax2.get_position()\n",
    "cbar2_ax = fig.add_axes([ax2_pos.x1+0.01,ax2_pos.y0,0.05,ax2_pos.height])\n",
    "cbar2 = mp.colorbar(contour_plot2, cax=cbar2_ax)\n",
    "cbar2.ax.tick_params(labelsize=fontsize)\n",
    "cbar2.set_label('% change', fontsize=fontsize)\n",
    "cbar2.set_ticks([-2,-1,0,1,2])\n",
    "\n",
    "fig.savefig('vint_cwv_clim_and_anomalies_PERCENT_CHANGE_time_mean.png', dpi=600, bbox_inches='tight', transparent=True)"
   ]
  },
  {
   "cell_type": "markdown",
   "metadata": {},
   "source": [
    "# plot water vapor climatology and differences"
   ]
  },
  {
   "cell_type": "code",
   "execution_count": 46,
   "metadata": {
    "ExecuteTime": {
     "end_time": "2018-04-11T21:36:50.402928Z",
     "start_time": "2018-04-11T21:36:50.372256Z"
    }
   },
   "outputs": [
    {
     "ename": "SyntaxError",
     "evalue": "invalid syntax (<ipython-input-46-23931549a86b>, line 5)",
     "output_type": "error",
     "traceback": [
      "\u001b[0;36m  File \u001b[0;32m\"<ipython-input-46-23931549a86b>\"\u001b[0;36m, line \u001b[0;32m5\u001b[0m\n\u001b[0;31m    levels=\u001b[0m\n\u001b[0m           ^\u001b[0m\n\u001b[0;31mSyntaxError\u001b[0m\u001b[0;31m:\u001b[0m invalid syntax\n"
     ]
    }
   ],
   "source": [
    "fontsize=12\n",
    "\n",
    "fig = mp.figure(figsize=(3,4))\n",
    "\n",
    "levels=\n",
    "contour_levels_left = numpy.arange(-50,51,10)\n",
    "plot_locations = [1,2,6,7,11,12,16,17]\n",
    "ax_list_left = []\n",
    "for i in range(plot_locations.__len__()):\n",
    "    ax = fig.add_subplot(4,5,plot_locations[i], projection=cartopy.crs.PlateCarree())\n",
    "    contour_plot_left = ax.contourf(xlong,xlat,lh_diffs_landmask[i,:,:], levels=contour_levels_left, \\\n",
    "                                    cmap='RdBu', extend='both')\n",
    "    ax.text(s='h '+hour_strings[i], x=0.05, y=0.05, transform=ax.transAxes, ha='left', va='bottom', fontsize=fontsize)\n",
    "    ax.tick_params(labelsize=fontsize)\n",
    "    ax.coastlines(resolution='110m')\n",
    "    ax_list_left.append(ax)\n",
    "ax_list_left[0].text(s='(a) $\\Delta$ latent cooling (3-hr means)', x=0, y=1.02, ha='left', va='bottom', fontsize=fontsize, transform=ax_list_left[0].transAxes)\n",
    "\n"
   ]
  },
  {
   "cell_type": "code",
   "execution_count": null,
   "metadata": {},
   "outputs": [],
   "source": []
  }
 ],
 "metadata": {
  "kernelspec": {
   "display_name": "Python 3",
   "language": "python",
   "name": "python3"
  },
  "language_info": {
   "codemirror_mode": {
    "name": "ipython",
    "version": 3
   },
   "file_extension": ".py",
   "mimetype": "text/x-python",
   "name": "python",
   "nbconvert_exporter": "python",
   "pygments_lexer": "ipython3",
   "version": "3.6.4"
  }
 },
 "nbformat": 4,
 "nbformat_minor": 2
}
