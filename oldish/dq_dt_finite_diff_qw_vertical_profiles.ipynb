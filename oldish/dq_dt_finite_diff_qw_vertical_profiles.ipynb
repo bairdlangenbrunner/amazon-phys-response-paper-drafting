{
 "cells": [
  {
   "cell_type": "code",
   "execution_count": 1,
   "metadata": {},
   "outputs": [],
   "source": [
    "import numpy\n",
    "import netCDF4\n",
    "import matplotlib\n",
    "import matplotlib.pyplot as mp\n",
    "import datetime\n",
    "import matplotlib.colors\n",
    "import scipy.stats\n",
    "\n",
    "import matplotlib.ticker\n",
    "import cartopy.mpl.gridliner #import LONGITUDE_FORMATTER, LATITUDE_FORMATTER\n",
    "\n",
    "import mpl_toolkits\n",
    "import cartopy\n",
    "\n",
    "DEGREE_SIGN = u'\\u00B0'\n",
    "mp.rcParams.update({'mathtext.default': 'regular'})\n",
    "\n",
    "% matplotlib inline"
   ]
  },
  {
   "cell_type": "code",
   "execution_count": 2,
   "metadata": {},
   "outputs": [],
   "source": [
    "run_info = 'FMAASO'\n",
    "skip_time=0"
   ]
  },
  {
   "cell_type": "markdown",
   "metadata": {},
   "source": [
    "# GEO EM FILE"
   ]
  },
  {
   "cell_type": "code",
   "execution_count": 3,
   "metadata": {},
   "outputs": [],
   "source": [
    "geo_em_ncfile = netCDF4.Dataset('/Users/baird/Dropbox/_data_WRF/geo_em.d01_amazon_50km.nc')\n",
    "HGT_M = geo_em_ncfile.variables['HGT_M'][0,:,:]"
   ]
  },
  {
   "cell_type": "markdown",
   "metadata": {},
   "source": [
    "# time, LAT, LON ncfiles"
   ]
  },
  {
   "cell_type": "code",
   "execution_count": 4,
   "metadata": {},
   "outputs": [],
   "source": [
    "xlat_ncfile_name = '/Users/baird/Dropbox/_data_WRF/CHEYENNE/FMAASO/1000/concat_nc_files/wrfout_d01_1979-01-01_00:00:00_XLAT.nc'\n",
    "xlong_ncfile_name = '/Users/baird/Dropbox/_data_WRF/CHEYENNE/FMAASO/1000/concat_nc_files/wrfout_d01_1979-01-01_00:00:00_XLONG.nc'\n",
    "landmask_ncfile_name = '/Users/baird/Dropbox/_data_WRF/CHEYENNE/FMAASO/1000/concat_nc_files/wrfout_d01_1979-01-01_00:00:00_LANDMASK.nc'\n",
    "times_ncfile_name = '/Users/baird/Dropbox/_data_WRF/CHEYENNE/FMAASO/1000/concat_nc_files/wrfout_d01_1979-01-01_00:00:00_1979-01-11_00:00:00_Times_ens_mean.nc'"
   ]
  },
  {
   "cell_type": "markdown",
   "metadata": {},
   "source": [
    "# import FMAASO 400 data"
   ]
  },
  {
   "cell_type": "code",
   "execution_count": 5,
   "metadata": {},
   "outputs": [],
   "source": [
    "data_dir = '/Users/baird/Dropbox/_data_WRF/CHEYENNE/FMAASO/400/concat_nc_files/'\n",
    "filename_prefix = 'wrfout_d01_1979-01-01_00:00:00_1979-01-11_00:00:00_'\n",
    "filename_suffix = '_ens_mean.nc'\n",
    "\n",
    "time_ncfile = netCDF4.Dataset(times_ncfile_name)\n",
    "xlat_ncfile = netCDF4.Dataset(xlat_ncfile_name)\n",
    "xlong_ncfile = netCDF4.Dataset(xlong_ncfile_name)\n",
    "landmask_ncfile = netCDF4.Dataset(landmask_ncfile_name)\n",
    "\n",
    "qvapor_ncfile = netCDF4.Dataset(data_dir + filename_prefix + 'QVAPOR' + '_ens_mean_vinterp_zcoords.nc')\n",
    "u_ncfile = netCDF4.Dataset(data_dir + filename_prefix + 'U' + '_ens_mean_vinterp_zcoords.nc')\n",
    "v_ncfile = netCDF4.Dataset(data_dir + filename_prefix + 'V' + '_ens_mean_vinterp_zcoords.nc')\n",
    "w_ncfile = netCDF4.Dataset(data_dir + filename_prefix + 'W' + '_ens_mean_vinterp_zcoords.nc')\n",
    "\n",
    "# qvapor_ncfile = netCDF4.Dataset(data_dir + filename_prefix + 'QVAPOR' + '_ens_mean_vinterp.nc')\n",
    "# u_ncfile = netCDF4.Dataset(data_dir + filename_prefix + 'U' + '_ens_mean_vinterp.nc')\n",
    "# v_ncfile = netCDF4.Dataset(data_dir + filename_prefix + 'V' + '_ens_mean_vinterp.nc')\n",
    "# w_ncfile = netCDF4.Dataset(data_dir + filename_prefix + 'W' + '_ens_mean_vinterp.nc')"
   ]
  },
  {
   "cell_type": "code",
   "execution_count": 7,
   "metadata": {},
   "outputs": [
    {
     "name": "stderr",
     "output_type": "stream",
     "text": [
      "/Users/baird/anaconda/lib/python3.6/site-packages/numpy/ma/core.py:1016: RuntimeWarning: overflow encountered in multiply\n",
      "  result = self.f(da, db, *args, **kwargs)\n"
     ]
    }
   ],
   "source": [
    "time_var = time_ncfile.variables['Times']\n",
    "time = time_ncfile.variables['Times'][:]\n",
    "xlat = xlat_ncfile.variables['XLAT'][0,:,:]\n",
    "xlong = xlong_ncfile.variables['XLONG'][0,:,:]\n",
    "landmask = landmask_ncfile.variables['LANDMASK'][0,:,:]\n",
    "\n",
    "z = qvapor_ncfile.variables['z'][:]\n",
    "qvapor_400 = qvapor_ncfile.variables['QVAPOR'][:] * 1000.\n",
    "u_400 = u_ncfile.variables['U'][:]\n",
    "v_400 = v_ncfile.variables['V'][:]\n",
    "w_400 = w_ncfile.variables['W'][:]\n"
   ]
  },
  {
   "cell_type": "markdown",
   "metadata": {},
   "source": [
    "# import FMAASO 1000 data"
   ]
  },
  {
   "cell_type": "code",
   "execution_count": 8,
   "metadata": {},
   "outputs": [],
   "source": [
    "data_dir = '/Users/baird/Dropbox/_data_WRF/CHEYENNE/FMAASO/1000/concat_nc_files/'\n",
    "filename_prefix = 'wrfout_d01_1979-01-01_00:00:00_1979-01-11_00:00:00_'\n",
    "filename_suffix = '_ens_mean.nc'\n",
    "\n",
    "time_ncfile = netCDF4.Dataset(times_ncfile_name)\n",
    "xlat_ncfile = netCDF4.Dataset(xlat_ncfile_name)\n",
    "xlong_ncfile = netCDF4.Dataset(xlong_ncfile_name)\n",
    "landmask_ncfile = netCDF4.Dataset(landmask_ncfile_name)\n",
    "\n",
    "qvapor_ncfile = netCDF4.Dataset(data_dir + filename_prefix + 'QVAPOR' + '_ens_mean_vinterp_zcoords.nc')\n",
    "u_ncfile = netCDF4.Dataset(data_dir + filename_prefix + 'U' + '_ens_mean_vinterp_zcoords.nc')\n",
    "v_ncfile = netCDF4.Dataset(data_dir + filename_prefix + 'V' + '_ens_mean_vinterp_zcoords.nc')\n",
    "w_ncfile = netCDF4.Dataset(data_dir + filename_prefix + 'W' + '_ens_mean_vinterp_zcoords.nc')"
   ]
  },
  {
   "cell_type": "code",
   "execution_count": 9,
   "metadata": {},
   "outputs": [
    {
     "name": "stderr",
     "output_type": "stream",
     "text": [
      "/Users/baird/anaconda/lib/python3.6/site-packages/numpy/ma/core.py:1016: RuntimeWarning: overflow encountered in multiply\n",
      "  result = self.f(da, db, *args, **kwargs)\n"
     ]
    }
   ],
   "source": [
    "time_var_1000 = time_ncfile.variables['Times']\n",
    "time_1000 = time_ncfile.variables['Times'][:]\n",
    "xlat = xlat_ncfile.variables['XLAT'][0,:,:]\n",
    "xlong = xlong_ncfile.variables['XLONG'][0,:,:]\n",
    "landmask = landmask_ncfile.variables['LANDMASK'][0,:,:]\n",
    "\n",
    "qvapor_1000 = qvapor_ncfile.variables['QVAPOR'][:] * 1000.\n",
    "u_1000 = u_ncfile.variables['U'][:]\n",
    "v_1000 = v_ncfile.variables['V'][:]\n",
    "w_1000 = w_ncfile.variables['W'][:]"
   ]
  },
  {
   "cell_type": "markdown",
   "metadata": {},
   "source": [
    "# get time stamps"
   ]
  },
  {
   "cell_type": "code",
   "execution_count": 10,
   "metadata": {},
   "outputs": [],
   "source": [
    "skip_time = 24\n",
    "\n",
    "time_datetimes = numpy.zeros(time.shape[0], dtype=object)\n",
    "for t in range(time.shape[0]):\n",
    "    time_string = ''.join([i.decode('utf-8') for i in time[t,:]])\n",
    "    year,month,day = time_string.split('_')[0].split('-')\n",
    "    hour,minute,second = time_string.split('_')[1].split(':')\n",
    "    time_datetimes[t] = datetime.datetime(int(year),int(month),int(day),int(hour),int(second),int(minute))"
   ]
  },
  {
   "cell_type": "raw",
   "metadata": {},
   "source": [
    "# SET ALL OCEAN GRID POINTS EQUAL TO NAN\n",
    "# qvapor_400_landmask = numpy.copy(qvapor_400)\n",
    "# qvapor_400_landmask[:,:,landmask==0] = numpy.nan\n",
    "\n",
    "# qvapor_1000_landmask = numpy.copy(qvapor_1000)\n",
    "# qvapor_1000_landmask[:,:,landmask==0] = numpy.nan\n",
    "\n",
    "# w_400_landmask = numpy.copy(w_400)\n",
    "# w_400_landmask[:,:,landmask==0] = numpy.nan\n",
    "\n",
    "# w_1000_landmask = numpy.copy(w_1000)\n",
    "# w_1000_landmask[:,:,landmask==0] = numpy.nan\n",
    "\n",
    "# threshold = 9.96921e+36\n",
    "\n",
    "w_400_landmask[w_400_landmask==threshold] = numpy.nan\n",
    "w_1000_landmask[w_1000_landmask==threshold] = numpy.nan\n",
    "qvapor_400_landmask[qvapor_400_landmask==threshold] = numpy.nan\n",
    "qvapor_1000_landmask[qvapor_1000_landmask==threshold] = numpy.nan\n"
   ]
  },
  {
   "cell_type": "raw",
   "metadata": {},
   "source": [
    "u_400[u_400==threshold] = numpy.nan\n",
    "u_1000[u_1000==threshold] = numpy.nan\n",
    "\n",
    "v_400[v_400==threshold] = numpy.nan\n",
    "v_1000[v_1000==threshold] = numpy.nan\n",
    "\n",
    "w_400[w_400==threshold] = numpy.nan\n",
    "w_1000[w_1000==threshold] = numpy.nan\n",
    "\n",
    "qvapor_400[qvapor_400==threshold] = numpy.nan\n",
    "qvapor_1000[qvapor_1000==threshold] = numpy.nan"
   ]
  },
  {
   "cell_type": "markdown",
   "metadata": {},
   "source": [
    "$ \\frac{\\partial q}{\\partial t} + \\nabla{\\cdot(q \\vec{v})} = 0$"
   ]
  },
  {
   "cell_type": "code",
   "execution_count": 11,
   "metadata": {},
   "outputs": [
    {
     "name": "stderr",
     "output_type": "stream",
     "text": [
      "/Users/baird/anaconda/lib/python3.6/site-packages/numpy/ma/core.py:1016: RuntimeWarning: overflow encountered in multiply\n",
      "  result = self.f(da, db, *args, **kwargs)\n"
     ]
    }
   ],
   "source": [
    "qu_400 = u_400*qvapor_400\n",
    "qu_1000 = u_1000*qvapor_1000\n",
    "\n",
    "qv_400 = v_400*qvapor_400\n",
    "qv_1000 = v_1000*qvapor_1000\n",
    "\n",
    "qw_400 = w_400*qvapor_400\n",
    "qw_1000 = w_1000*qvapor_1000"
   ]
  },
  {
   "cell_type": "code",
   "execution_count": null,
   "metadata": {},
   "outputs": [],
   "source": []
  },
  {
   "cell_type": "code",
   "execution_count": 12,
   "metadata": {},
   "outputs": [],
   "source": [
    "delta_z = numpy.diff(z)\n",
    "z_midpoints = 0.5*(z[0:-1]+z[1:])"
   ]
  },
  {
   "cell_type": "markdown",
   "metadata": {},
   "source": [
    "$\\frac{\\partial q}{\\partial t} = \\frac{\\partial}{\\partial z}(\\overline{w} \\, \\overline{q} + w'q') + \\cdots$"
   ]
  },
  {
   "cell_type": "raw",
   "metadata": {},
   "source": [
    "qvapor_400_landmask_midpoints = 0.5*(qvapor_400_landmask[:,0:-1,:,:]+qvapor_400_landmask[:,1:,:,:])\n",
    "qvapor_1000_landmask_midpoints = 0.5*(qvapor_1000_landmask[:,0:-1,:,:]+qvapor_1000_landmask[:,1:,:,:])\n",
    "w_400_landmask_midpoints = 0.5*(w_400_landmask[:,0:-1,:,:]+w_400_landmask[:,1:,:,:])\n",
    "w_1000_landmask_midpoints = 0.5*(w_1000_landmask[:,0:-1,:,:]+w_1000_landmask[:,1:,:,:])"
   ]
  },
  {
   "cell_type": "raw",
   "metadata": {},
   "source": [
    "qvapor_400_landmask_midpoints_tdiff = numpy.diff(qvapor_400_landmask_midpoints, axis=0)\n",
    "qvapor_1000_landmask_midpoints_tdiff = numpy.diff(qvapor_1000_landmask_midpoints, axis=0)"
   ]
  },
  {
   "cell_type": "raw",
   "metadata": {},
   "source": [
    "qvapor_400_landmask_midpoints_tmean = numpy.nanmean(qvapor_400_landmask_midpoints, axis=0)\n",
    "qvapor_1000_landmask_midpoints_tmean = numpy.nanmean(qvapor_1000_landmask_midpoints, axis=0)\n",
    "\n",
    "qprime_400_landmask_midpoints = qvapor_400_landmask_midpoints - qvapor_400_landmask_midpoints_tmean\n",
    "qprime_1000_landmask_midpoints = qvapor_1000_landmask_midpoints - qvapor_1000_landmask_midpoints_tmean"
   ]
  },
  {
   "cell_type": "markdown",
   "metadata": {},
   "source": [
    "# lat indices subset"
   ]
  },
  {
   "cell_type": "code",
   "execution_count": 13,
   "metadata": {},
   "outputs": [],
   "source": [
    "lat_hi = 10.\n",
    "lat_lo = -10.\n",
    "# subset between lat_hi and lat_lo\n",
    "lat_indices = (xlat<=lat_hi)&(xlat>=lat_lo)"
   ]
  },
  {
   "cell_type": "code",
   "execution_count": null,
   "metadata": {},
   "outputs": [],
   "source": []
  },
  {
   "cell_type": "markdown",
   "metadata": {},
   "source": [
    "# calculate d(qvel)/d(dist)"
   ]
  },
  {
   "cell_type": "code",
   "execution_count": 14,
   "metadata": {},
   "outputs": [],
   "source": [
    "dqdt_400 = numpy.gradient(qvapor_400, 3600., axis=0)\n",
    "dqdt_1000 = numpy.gradient(qvapor_1000, 3600., axis=0)"
   ]
  },
  {
   "cell_type": "code",
   "execution_count": 15,
   "metadata": {},
   "outputs": [],
   "source": [
    "dqudx_400 = numpy.gradient(qu_400, 50000., axis=3)\n",
    "dqudx_1000 = numpy.gradient(qu_1000, 50000., axis=3)"
   ]
  },
  {
   "cell_type": "code",
   "execution_count": 16,
   "metadata": {},
   "outputs": [],
   "source": [
    "dqvdy_400 = numpy.gradient(qv_400, 50000., axis=2)\n",
    "dqvdy_1000 = numpy.gradient(qv_1000, 50000., axis=2)"
   ]
  },
  {
   "cell_type": "code",
   "execution_count": 22,
   "metadata": {},
   "outputs": [],
   "source": [
    "z_diff_m = numpy.diff(z)*1000\n",
    "qw_400_diff = numpy.diff(qw_400, axis=1)\n",
    "qw_1000_diff = numpy.diff(qw_1000, axis=1)"
   ]
  },
  {
   "cell_type": "code",
   "execution_count": 23,
   "metadata": {},
   "outputs": [],
   "source": [
    "dqwdz_400 = numpy.transpose( (numpy.transpose(qw_400_diff, (0,2,3,1))/z_diff_m), (0,3,1,2))\n",
    "dqwdz_1000 = numpy.transpose( (numpy.transpose(qw_1000_diff, (0,2,3,1))/z_diff_m), (0,3,1,2))"
   ]
  },
  {
   "cell_type": "markdown",
   "metadata": {},
   "source": [
    "# lat subsets and lat means"
   ]
  },
  {
   "cell_type": "code",
   "execution_count": 17,
   "metadata": {},
   "outputs": [],
   "source": [
    "dqdt_400_lat_subset = dqdt_400[:,:,lat_indices[:,0],:]\n",
    "dqdt_400_lat_mean = numpy.nanmean(dqdt_400_lat_subset, axis=2)\n",
    "#dqdt_400_lat_time_mean = numpy.nanmean(dqdt_400_lat_mean, axis=0)"
   ]
  },
  {
   "cell_type": "code",
   "execution_count": 18,
   "metadata": {},
   "outputs": [],
   "source": [
    "dqdt_1000_lat_subset = dqdt_1000[:,:,lat_indices[:,0],:]\n",
    "dqdt_1000_lat_mean = numpy.nanmean(dqdt_1000_lat_subset, axis=2)\n",
    "#dqdt_1000_lat_time_mean = numpy.nanmean(dqdt_1000_lat_mean, axis=0)"
   ]
  },
  {
   "cell_type": "code",
   "execution_count": 19,
   "metadata": {},
   "outputs": [],
   "source": [
    "dqudx_400_lat_subset = dqudx_400[:,:,lat_indices[:,0],:]\n",
    "dqudx_400_lat_mean = numpy.nanmean(dqudx_400_lat_subset, axis=2)\n",
    "#dqudx_400_lat_time_mean = numpy.nanmean(dqudx_400_lat_mean, axis=0)"
   ]
  },
  {
   "cell_type": "code",
   "execution_count": 20,
   "metadata": {},
   "outputs": [],
   "source": [
    "dqudx_1000_lat_subset = dqudx_1000[:,:,lat_indices[:,0],:]\n",
    "dqudx_1000_lat_mean = numpy.nanmean(dqudx_1000_lat_subset, axis=2)\n",
    "#dqudx_1000_lat_time_mean = numpy.nanmean(dqudx_1000_lat_mean, axis=0)"
   ]
  },
  {
   "cell_type": "code",
   "execution_count": 24,
   "metadata": {},
   "outputs": [],
   "source": [
    "dqvdy_400_lat_subset = dqvdy_400[:,:,lat_indices[:,0],:]\n",
    "dqvdy_400_lat_mean = numpy.nanmean(dqvdy_400_lat_subset, axis=2)\n",
    "#dqvdy_400_lat_time_mean = numpy.nanmean(dqvdy_400_lat_mean, axis=0)"
   ]
  },
  {
   "cell_type": "code",
   "execution_count": 25,
   "metadata": {},
   "outputs": [],
   "source": [
    "dqvdy_1000_lat_subset = dqvdy_1000[:,:,lat_indices[:,0],:]\n",
    "dqvdy_1000_lat_mean = numpy.nanmean(dqvdy_1000_lat_subset, axis=2)\n",
    "#dqvdy_1000_lat_time_mean = numpy.nanmean(dqvdy_1000_lat_mean, axis=0)"
   ]
  },
  {
   "cell_type": "code",
   "execution_count": 26,
   "metadata": {},
   "outputs": [],
   "source": [
    "dqwdz_400_lat_subset = dqwdz_400[:,:,lat_indices[:,0],:]\n",
    "dqwdz_400_lat_mean = numpy.nanmean(dqwdz_400_lat_subset, axis=2)\n",
    "#dqwdz_400_lat_time_mean = numpy.nanmean(dqwdz_400_lat_mean, axis=0)"
   ]
  },
  {
   "cell_type": "code",
   "execution_count": 27,
   "metadata": {},
   "outputs": [],
   "source": [
    "dqwdz_1000_lat_subset = dqwdz_1000[:,:,lat_indices[:,0],:]\n",
    "dqwdz_1000_lat_mean = numpy.nanmean(dqwdz_1000_lat_subset, axis=2)\n",
    "#dqwdz_1000_lat_time_mean = numpy.nanmean(dqwdz_1000_lat_mean, axis=0)"
   ]
  },
  {
   "cell_type": "code",
   "execution_count": 28,
   "metadata": {},
   "outputs": [
    {
     "data": {
      "text/plain": [
       "(241, 25, 289)"
      ]
     },
     "execution_count": 28,
     "metadata": {},
     "output_type": "execute_result"
    }
   ],
   "source": [
    "dqwdz_1000_lat_mean.shape"
   ]
  },
  {
   "cell_type": "code",
   "execution_count": 51,
   "metadata": {},
   "outputs": [
    {
     "data": {
      "text/plain": [
       "<matplotlib.colorbar.Colorbar at 0x1a1d2edd68>"
      ]
     },
     "execution_count": 51,
     "metadata": {},
     "output_type": "execute_result"
    },
    {
     "data": {
      "image/png": "[encoded data removed]",
      "text/plain": [
       "<matplotlib.figure.Figure at 0x1a1a427550>"
      ]
     },
     "metadata": {},
     "output_type": "display_data"
    }
   ],
   "source": [
    "cf=mp.contourf(dqdt_400_lat_mean[100,:,:], levels=numpy.arange(-0.00005,0.000051,0.000005), cmap='RdBu',extend='both');mp.colorbar(cf)"
   ]
  },
  {
   "cell_type": "code",
   "execution_count": 52,
   "metadata": {},
   "outputs": [
    {
     "data": {
      "text/plain": [
       "(241, 25, 289)"
      ]
     },
     "execution_count": 52,
     "metadata": {},
     "output_type": "execute_result"
    }
   ],
   "source": [
    "dqudx_400_lat_mean[:,0:-1,:].shape"
   ]
  },
  {
   "cell_type": "code",
   "execution_count": 53,
   "metadata": {},
   "outputs": [],
   "source": [
    "dqudx_400_lat_mean_zctr = 0.5*(dqudx_400_lat_mean[:,0:-1,:] + dqudx_400_lat_mean[:,1:,:])\n",
    "dqvdy_400_lat_mean_zctr = 0.5*(dqvdy_400_lat_mean[:,0:-1,:] + dqvdy_400_lat_mean[:,1:,:])"
   ]
  },
  {
   "cell_type": "code",
   "execution_count": 54,
   "metadata": {},
   "outputs": [],
   "source": [
    "rhs_sum_lat_mean = -(dqudx_400_lat_mean_zctr+dqvdy_400_lat_mean_zctr+dqwdz_400_lat_mean)"
   ]
  },
  {
   "cell_type": "code",
   "execution_count": 55,
   "metadata": {},
   "outputs": [
    {
     "data": {
      "text/plain": [
       "<matplotlib.colorbar.Colorbar at 0x1a1decf8d0>"
      ]
     },
     "execution_count": 55,
     "metadata": {},
     "output_type": "execute_result"
    },
    {
     "data": {
      "image/png": "[encoded data removed]",
      "text/plain": [
       "<matplotlib.figure.Figure at 0x1a1a559e80>"
      ]
     },
     "metadata": {},
     "output_type": "display_data"
    }
   ],
   "source": [
    "cf=mp.contourf(rhs_sum_lat_mean[100,:,:], levels=numpy.arange(-0.00005,0.000051,0.000005), cmap='RdBu',extend='both');mp.colorbar(cf)"
   ]
  },
  {
   "cell_type": "raw",
   "metadata": {},
   "source": [
    "qvapor_400_landmask_tmean = numpy.nanmean(qvapor_400_landmask[skip_time:,:,:,:], axis=0)\n",
    "qvapor_1000_landmask_tmean = numpy.nanmean(qvapor_1000_landmask[skip_time:,:,:,:], axis=0)\n",
    "\n",
    "qprime_400_landmask = qvapor_400_landmask[skip_time:,:,:,:] - qvapor_400_landmask_tmean\n",
    "qprime_1000_landmask = qvapor_1000_landmask[skip_time:,:,:,:] - qvapor_1000_landmask_tmean"
   ]
  },
  {
   "cell_type": "raw",
   "metadata": {},
   "source": [
    "w_400_landmask_tmean = numpy.nanmean(w_400_landmask[skip_time:,:,:,:], axis=0)\n",
    "w_1000_landmask_tmean = numpy.nanmean(w_1000_landmask[skip_time:,:,:,:], axis=0)\n",
    "\n",
    "wprime_400_landmask = w_400_landmask[skip_time:,:,:,:] - w_400_landmask_tmean\n",
    "wprime_1000_landmask = w_1000_landmask[skip_time:,:,:,:] - w_1000_landmask_tmean"
   ]
  },
  {
   "cell_type": "raw",
   "metadata": {},
   "source": [
    "qbar_wbar_400 = qvapor_400_landmask_tmean * w_400_landmask_tmean\n",
    "qbar_wbar_1000 = qvapor_1000_landmask_tmean * w_1000_landmask_tmean"
   ]
  },
  {
   "cell_type": "raw",
   "metadata": {},
   "source": [
    "qprime_wprime_400 = qprime_400_landmask*wprime_400_landmask\n",
    "qprime_wprime_1000 = qprime_1000_landmask*wprime_1000_landmask"
   ]
  },
  {
   "cell_type": "raw",
   "metadata": {},
   "source": [
    "dqdt_400 = qvapor_400_landmask_tdiff/3600"
   ]
  },
  {
   "cell_type": "raw",
   "metadata": {},
   "source": [
    "dqdt_1000 = qvapor_1000_landmask_tdiff/3600."
   ]
  },
  {
   "cell_type": "raw",
   "metadata": {},
   "source": [
    "delta_qprime_wprime_400 = numpy.diff(qprime_wprime_400, axis=1)\n",
    "delta_qprime_wprime_1000 = numpy.diff(qprime_wprime_1000, axis=1)\n",
    "\n",
    "delta_qbar_wbar_400 = numpy.diff(qbar_wbar_400, axis=0)\n",
    "delta_qbar_wbar_1000 = numpy.diff(qbar_wbar_1000, axis=0)"
   ]
  },
  {
   "cell_type": "raw",
   "metadata": {},
   "source": [
    "ddz_delta_qbar_wbar_400 = numpy.transpose(delta_qbar_wbar_400, axes=(1,2,0))/delta_z\n",
    "ddz_delta_qbar_wbar_400 = numpy.transpose(ddz_delta_qbar_wbar_400, axes=(2,0,1))\n",
    "\n",
    "ddz_delta_qbar_wbar_1000 = numpy.transpose(delta_qbar_wbar_1000, axes=(1,2,0))/delta_z\n",
    "ddz_delta_qbar_wbar_1000 = numpy.transpose(ddz_delta_qbar_wbar_1000, axes=(2,0,1))"
   ]
  },
  {
   "cell_type": "raw",
   "metadata": {},
   "source": [
    "ddz_delta_qprime_wprime_400 = numpy.transpose(delta_qprime_wprime_400, axes=(0,2,3,1))/(delta_z*1000.)\n",
    "ddz_delta_qprime_wprime_400 = numpy.transpose(ddz_delta_qprime_wprime_400, axes=(0,3,1,2))\n",
    "\n",
    "ddz_delta_qprime_wprime_1000 = numpy.transpose(delta_qprime_wprime_1000, axes=(0,2,3,1))/(delta_z*1000.)\n",
    "ddz_delta_qprime_wprime_1000 = numpy.transpose(ddz_delta_qprime_wprime_1000, axes=(0,3,1,2))"
   ]
  },
  {
   "cell_type": "code",
   "execution_count": null,
   "metadata": {},
   "outputs": [],
   "source": []
  },
  {
   "cell_type": "code",
   "execution_count": 59,
   "metadata": {},
   "outputs": [],
   "source": [
    "################################################################################\n",
    "################################################################################\n",
    "# CALCULATE DIFFERENCES, FORCE TO BE LAND ONLY GRID POINTS\n",
    "\n",
    "# PULL OUT LONGITUDINAL AND LATITUDINAL RANGE\n",
    "lon_hi = -35.\n",
    "lon_lo = -75.\n",
    "lat_lo = -10.\n",
    "lat_hi = 10.\n",
    "\n",
    "xlat_indices = numpy.array((xlat>=lat_lo) & (xlat<=lat_hi), dtype=bool)\n",
    "xlong_indices = numpy.array((xlong>=lon_lo) & (xlong<=lon_hi), dtype=bool)\n",
    "xlat_subset = xlat[xlat_indices[:,0],:]\n",
    "xlat_subset = xlat_subset[:,xlong_indices[0,:]]\n",
    "xlong_subset = xlong[xlat_indices[:,0],:]\n",
    "xlong_subset = xlong_subset[:,xlong_indices[0,:]]"
   ]
  },
  {
   "cell_type": "code",
   "execution_count": null,
   "metadata": {},
   "outputs": [],
   "source": []
  },
  {
   "cell_type": "code",
   "execution_count": null,
   "metadata": {},
   "outputs": [],
   "source": []
  },
  {
   "cell_type": "code",
   "execution_count": 60,
   "metadata": {},
   "outputs": [],
   "source": [
    "ddz_delta_qprime_wprime_400_region = ddz_delta_qprime_wprime_400[:,:,xlat_indices[:,0],:]\n",
    "ddz_delta_qprime_wprime_400_region = ddz_delta_qprime_wprime_400_region[:,:,:,xlong_indices[0,:]]\n",
    "\n",
    "ddz_delta_qprime_wprime_1000_region = ddz_delta_qprime_wprime_1000[:,:,xlat_indices[:,0],:]\n",
    "ddz_delta_qprime_wprime_1000_region = ddz_delta_qprime_wprime_1000_region[:,:,:,xlong_indices[0,:]]"
   ]
  },
  {
   "cell_type": "code",
   "execution_count": 61,
   "metadata": {},
   "outputs": [],
   "source": [
    "ddz_delta_qbar_wbar_400_region = ddz_delta_qbar_wbar_400[:,xlat_indices[:,0],:]\n",
    "ddz_delta_qbar_wbar_400_region = ddz_delta_qbar_wbar_400_region[:,:,xlong_indices[0,:]]\n",
    "\n",
    "ddz_delta_qbar_wbar_1000_region = ddz_delta_qbar_wbar_1000[:,xlat_indices[:,0],:]\n",
    "ddz_delta_qbar_wbar_1000_region = ddz_delta_qbar_wbar_1000_region[:,:,xlong_indices[0,:]]"
   ]
  },
  {
   "cell_type": "code",
   "execution_count": 62,
   "metadata": {},
   "outputs": [],
   "source": [
    "dqdt_400_region = dqdt_400[:,:,xlat_indices[:,0],:]\n",
    "dqdt_400_region = dqdt_400_region[:,:,:,xlong_indices[0,:]]\n",
    "\n",
    "dqdt_1000_region = dqdt_1000[:,:,xlat_indices[:,0],:]\n",
    "dqdt_1000_region = dqdt_1000_region[:,:,:,xlong_indices[0,:]]"
   ]
  },
  {
   "cell_type": "code",
   "execution_count": 69,
   "metadata": {},
   "outputs": [
    {
     "data": {
      "text/plain": [
       "(240, 26, 45, 89)"
      ]
     },
     "execution_count": 69,
     "metadata": {},
     "output_type": "execute_result"
    }
   ],
   "source": [
    "dqdt_400_region.shape"
   ]
  },
  {
   "cell_type": "code",
   "execution_count": 71,
   "metadata": {},
   "outputs": [
    {
     "name": "stderr",
     "output_type": "stream",
     "text": [
      "/Users/baird/anaconda/lib/python3.6/site-packages/ipykernel_launcher.py:1: RuntimeWarning: Mean of empty slice\n",
      "  \"\"\"Entry point for launching an IPython kernel.\n",
      "/Users/baird/anaconda/lib/python3.6/site-packages/ipykernel_launcher.py:2: RuntimeWarning: Mean of empty slice\n",
      "  \n",
      "/Users/baird/anaconda/lib/python3.6/site-packages/ipykernel_launcher.py:4: RuntimeWarning: Mean of empty slice\n",
      "  after removing the cwd from sys.path.\n",
      "/Users/baird/anaconda/lib/python3.6/site-packages/ipykernel_launcher.py:5: RuntimeWarning: Mean of empty slice\n",
      "  \"\"\"\n"
     ]
    }
   ],
   "source": [
    "dqdt_400_region_time_mean = numpy.nanmean(dqdt_400_region, axis=0)\n",
    "dqdt_400_region_time_space_mean = numpy.nanmean(dqdt_400_region_time_mean, axis=(1,2))\n",
    "\n",
    "dqdt_1000_region_time_mean = numpy.nanmean(dqdt_1000_region, axis=0)\n",
    "dqdt_1000_region_time_space_mean = numpy.nanmean(dqdt_1000_region_time_mean, axis=(1,2))"
   ]
  },
  {
   "cell_type": "code",
   "execution_count": 74,
   "metadata": {},
   "outputs": [
    {
     "name": "stderr",
     "output_type": "stream",
     "text": [
      "/Users/baird/anaconda/lib/python3.6/site-packages/ipykernel_launcher.py:1: RuntimeWarning: Mean of empty slice\n",
      "  \"\"\"Entry point for launching an IPython kernel.\n",
      "/Users/baird/anaconda/lib/python3.6/site-packages/ipykernel_launcher.py:2: RuntimeWarning: Mean of empty slice\n",
      "  \n",
      "/Users/baird/anaconda/lib/python3.6/site-packages/ipykernel_launcher.py:4: RuntimeWarning: Mean of empty slice\n",
      "  after removing the cwd from sys.path.\n",
      "/Users/baird/anaconda/lib/python3.6/site-packages/ipykernel_launcher.py:5: RuntimeWarning: Mean of empty slice\n",
      "  \"\"\"\n"
     ]
    }
   ],
   "source": [
    "ddz_delta_qprime_wprime_400_region_time_mean = numpy.nanmean(ddz_delta_qprime_wprime_400_region, axis=0)\n",
    "ddz_delta_qprime_wprime_400_region_time_space_mean = numpy.nanmean(ddz_delta_qprime_wprime_400_region_time_mean, axis=(1,2))\n",
    "\n",
    "ddz_delta_qprime_wprime_1000_region_time_mean = numpy.nanmean(ddz_delta_qprime_wprime_1000_region, axis=0)\n",
    "ddz_delta_qprime_wprime_1000_region_time_space_mean = numpy.nanmean(ddz_delta_qprime_wprime_1000_region_time_mean, axis=(1,2))"
   ]
  },
  {
   "cell_type": "code",
   "execution_count": 76,
   "metadata": {},
   "outputs": [
    {
     "data": {
      "text/plain": [
       "(25, 45, 89)"
      ]
     },
     "execution_count": 76,
     "metadata": {},
     "output_type": "execute_result"
    }
   ],
   "source": [
    "ddz_delta_qbar_wbar_1000_region.shape"
   ]
  },
  {
   "cell_type": "code",
   "execution_count": 77,
   "metadata": {},
   "outputs": [
    {
     "name": "stderr",
     "output_type": "stream",
     "text": [
      "/Users/baird/anaconda/lib/python3.6/site-packages/ipykernel_launcher.py:1: RuntimeWarning: Mean of empty slice\n",
      "  \"\"\"Entry point for launching an IPython kernel.\n",
      "/Users/baird/anaconda/lib/python3.6/site-packages/ipykernel_launcher.py:3: RuntimeWarning: Mean of empty slice\n",
      "  This is separate from the ipykernel package so we can avoid doing imports until\n"
     ]
    }
   ],
   "source": [
    "ddz_delta_qbar_wbar_400_region_space_mean = numpy.nanmean(ddz_delta_qbar_wbar_400_region,\\\n",
    "                                                          axis=(1,2))\n",
    "\n",
    "ddz_delta_qbar_wbar_1000_region_space_mean = numpy.nanmean(ddz_delta_qbar_wbar_1000_region,\\\n",
    "                                                           axis=(1,2))"
   ]
  },
  {
   "cell_type": "code",
   "execution_count": 63,
   "metadata": {},
   "outputs": [
    {
     "data": {
      "text/plain": [
       "(217, 25, 45, 89)"
      ]
     },
     "execution_count": 63,
     "metadata": {},
     "output_type": "execute_result"
    }
   ],
   "source": [
    "ddz_delta_qprime_wprime_400_region.shape"
   ]
  },
  {
   "cell_type": "code",
   "execution_count": null,
   "metadata": {},
   "outputs": [],
   "source": []
  },
  {
   "cell_type": "code",
   "execution_count": 89,
   "metadata": {},
   "outputs": [
    {
     "data": {
      "image/png": "[encoded data removed]",
      "text/plain": [
       "<matplotlib.figure.Figure at 0x1a85c5b3c8>"
      ]
     },
     "metadata": {},
     "output_type": "display_data"
    }
   ],
   "source": [
    "fontsize=12\n",
    "fig,ax=mp.subplots(ncols=3,nrows=2)\n",
    "fig.set_size_inches(6.5,6)\n",
    "\n",
    "ax[0,0].plot(dqdt_400_region_time_space_mean, z, c='0.1', label='low CO$_2$')\n",
    "ax[0,0].plot(dqdt_1000_region_time_space_mean, z, c='firebrick', ls='--', label='high CO$_2$')\n",
    "ax[0,0].tick_params(labelsize=fontsize)\n",
    "\n",
    "ax[1,0].axvline(x=0, c='0.1', ls='--')\n",
    "ax[1,0].plot(dqdt_1000_region_time_space_mean-dqdt_400_region_time_space_mean, z, c='firebrick', label='diffs')\n",
    "ax[1,0].tick_params(labelsize=fontsize)\n",
    "\n",
    "# =====\n",
    "ax[0,2].plot(ddz_delta_qprime_wprime_400_region_time_space_mean, z_midpoints, c='0.1', label='low\\nCO$_2$')\n",
    "ax[0,2].plot(ddz_delta_qprime_wprime_1000_region_time_space_mean, z_midpoints, c='firebrick', ls='--', label='high\\nCO$_2$')\n",
    "ax[0,2].tick_params(labelsize=fontsize)\n",
    "handles, labels = ax[0,2].get_legend_handles_labels()\n",
    "ax[0,2].legend(handles, labels, fontsize=fontsize, scatterpoints=1, ncol=1, bbox_to_anchor=(0.02,0.98), \\\n",
    "               bbox_transform=ax[0,2].transAxes, loc='upper left', borderaxespad=0, \\\n",
    "               labelspacing=1, fancybox=False, edgecolor='0', framealpha=0, handlelength=1.25, \\\n",
    "               borderpad=0.25, columnspacing=0.5, handletextpad=0.25, markerscale=1)\n",
    "\n",
    "ax[1,2].axvline(x=0, c='0.1', ls='--')\n",
    "ax[1,2].plot(ddz_delta_qprime_wprime_1000_region_time_space_mean-\\\n",
    "             ddz_delta_qprime_wprime_400_region_time_space_mean, z_midpoints, \\\n",
    "             c='firebrick', label='diffs')\n",
    "ax[1,2].tick_params(labelsize=fontsize)\n",
    "\n",
    "# =====\n",
    "ax[0,1].plot(ddz_delta_qbar_wbar_400_region_space_mean, z_midpoints, c='0.1', label='low CO$_2$')\n",
    "ax[0,1].plot(ddz_delta_qbar_wbar_1000_region_space_mean, z_midpoints, c='firebrick', ls='--', label='high CO$_2$')\n",
    "ax[0,1].tick_params(labelsize=fontsize)\n",
    "\n",
    "ax[1,1].axvline(x=0, c='0.1', ls='--')\n",
    "ax[1,1].plot(ddz_delta_qbar_wbar_1000_region_space_mean-ddz_delta_qbar_wbar_400_region_space_mean, \\\n",
    "             z_midpoints, c='firebrick', label='diffs')\n",
    "ax[1,1].tick_params(labelsize=fontsize)\n",
    "\n",
    "# ax[0,0].text(s='(a) '+r\"$\\overline{wT}$\", x=0, y=1.01, fontsize=fontsize, ha='left', va='bottom', transform=ax[0,0].transAxes)\n",
    "# ax[0,1].text(s='(b) '+r\"$\\overline{w} \\,\\, \\overline{T}$\", x=0, y=1.01, fontsize=fontsize, ha='left', va='bottom', transform=ax[0,1].transAxes)\n",
    "# ax[0,2].text(s='(c) '+r\"$\\overline{w \\prime T \\prime}$\", x=0, y=1.01, fontsize=fontsize, ha='left', va='bottom', transform=ax[0,2].transAxes)\n",
    "# ax[1,0].text(s='(d) '+r\"$\\overline{wT}$\"+' diff.', x=0, y=1.01, fontsize=fontsize, ha='left', va='bottom', transform=ax[1,0].transAxes)\n",
    "# ax[1,1].text(s='(e) '+r\"$\\overline{w} \\,\\, \\overline{T}$\"+' diff.', x=0, y=1.01, fontsize=fontsize, ha='left', va='bottom', transform=ax[1,1].transAxes)\n",
    "# ax[1,2].text(s='(f) '+r\"$\\overline{w \\prime T \\prime}$\"+' diff.', x=0, y=1.01, fontsize=fontsize, ha='left', va='bottom', transform=ax[1,2].transAxes)\n",
    "\n",
    "# ax[0,0].set_xlim(0,1.25)\n",
    "# ax[0,1].set_xlim(0,1.25)\n",
    "# ax[0,2].set_xlim(-0.002,0.002)\n",
    "\n",
    "# ax[1,0].set_xlim(-0.06,0.06)\n",
    "# ax[1,1].set_xlim(-0.06,0.06)\n",
    "# ax[1,2].set_xlim(-0.0006,0.0006)\n",
    "\n",
    "# ax[0,0].set_ylabel('km', fontsize=fontsize)\n",
    "# ax[1,0].set_ylabel('km', fontsize=fontsize)\n",
    "# ax[0,1].set_ylabel('km', fontsize=fontsize)\n",
    "# ax[1,1].set_ylabel('km', fontsize=fontsize)\n",
    "# ax[0,2].set_ylabel('km', fontsize=fontsize)\n",
    "# ax[1,2].set_ylabel('km', fontsize=fontsize)\n",
    "\n",
    "# ax[0,0].set_xlabel(DEGREE_SIGN+'C'+'$\\,\\cdot\\,$'+'m s$^{\\,-1}$', fontsize=fontsize)\n",
    "# ax[0,1].set_xlabel(DEGREE_SIGN+'C'+'$\\,\\cdot\\,$'+'m s$^{\\,-1}$', fontsize=fontsize)\n",
    "# ax[0,2].set_xlabel(DEGREE_SIGN+'C'+'$\\,\\cdot\\,$'+'m s$^{\\,-1}$', fontsize=fontsize)\n",
    "# ax[1,0].set_xlabel(DEGREE_SIGN+'C'+'$\\,\\cdot\\,$'+'m s$^{\\,-1}$', fontsize=fontsize)\n",
    "# ax[1,1].set_xlabel(DEGREE_SIGN+'C'+'$\\,\\cdot\\,$'+'m s$^{\\,-1}$', fontsize=fontsize)\n",
    "# ax[1,2].set_xlabel(DEGREE_SIGN+'C'+'$\\,\\cdot\\,$'+'m s$^{\\,-1}$', fontsize=fontsize)\n",
    "\n",
    "fig.tight_layout(h_pad=2.5, w_pad=0)\n",
    "fig.subplots_adjust(left=0.1, top=0.95)\n",
    "# mp.show()\n",
    "\n",
    "# fig.savefig('figureXX_qT_decomposition.png', dpi=600, bbox_inches='tight', transparent=True)"
   ]
  },
  {
   "cell_type": "code",
   "execution_count": null,
   "metadata": {},
   "outputs": [],
   "source": []
  },
  {
   "cell_type": "code",
   "execution_count": null,
   "metadata": {},
   "outputs": [],
   "source": [
    "qbar_wbar_400_region_mean = numpy.nanmean(qbar_wbar_400_region, axis=(1,2))\n",
    "qbar_wbar_1000_region_mean = numpy.nanmean(qbar_wbar_1000_region, axis=(1,2))"
   ]
  },
  {
   "cell_type": "code",
   "execution_count": null,
   "metadata": {},
   "outputs": [],
   "source": [
    "dqdt_400_region_time_mean = numpy.nanmean(dqdt_400_region, axis=0)\n",
    "dqdt_400_region_time_space_mean = numpy.nanmean(dqdt_400_region_time_mean, axis=(1,2))\n",
    "\n",
    "dqdt_1000_region_time_mean = numpy.nanmean(dqdt_1000_region, axis=0)\n",
    "dqdt_1000_region_time_space_mean = numpy.nanmean(dqdt_1000_region_time_mean, axis=(1,2))"
   ]
  },
  {
   "cell_type": "code",
   "execution_count": null,
   "metadata": {},
   "outputs": [],
   "source": []
  },
  {
   "cell_type": "code",
   "execution_count": null,
   "metadata": {},
   "outputs": [],
   "source": [
    "################################################################################\n",
    "################################################################################\n",
    "# CALCULATE DIFFERENCES, FORCE TO BE LAND ONLY GRID POINTS\n",
    "\n",
    "# PULL OUT LONGITUDINAL AND LATITUDINAL RANGE\n",
    "lon_hi = -35.\n",
    "lon_lo = -75.\n",
    "lat_lo = -10.\n",
    "lat_hi = 10.\n",
    "\n",
    "xlat_indices = numpy.array((xlat>=lat_lo) & (xlat<=lat_hi), dtype=bool)\n",
    "xlong_indices = numpy.array((xlong>=lon_lo) & (xlong<=lon_hi), dtype=bool)\n",
    "xlat_subset = xlat[xlat_indices[:,0],:]\n",
    "xlat_subset = xlat_subset[:,xlong_indices[0,:]]\n",
    "xlong_subset = xlong[xlat_indices[:,0],:]\n",
    "xlong_subset = xlong_subset[:,xlong_indices[0,:]]\n",
    "\n",
    "# QVAPOR DIFFERENCES\n",
    "print(\"differences\")\n",
    "qvapor_landmask_diffs = qvapor_1000_landmask[:,:,:,:] - qvapor_400_landmask[:,:,:,:]\n",
    "w_landmask_diffs = w_1000[:,:,:,:] - w_400[:,:,:,:]\n",
    "time = time[:]\n",
    "\n",
    "# QVAPOR SUBSET LATITUDES\n",
    "print(\"latitude and longitude subset\")\n",
    "qvapor_landmask_diffs = qvapor_landmask_diffs[:,:,xlat_indices[:,0],:]\n",
    "qvapor_landmask_diffs = qvapor_landmask_diffs[:,:,:,xlong_indices[0,:]]\n",
    "\n",
    "w_landmask_diffs = w_landmask_diffs[:,:,xlat_indices[:,0],:]\n",
    "w_landmask_diffs = w_landmask_diffs[:,:,:,xlong_indices[0,:]]\n",
    "\n",
    "# TAKE REGIONAL SUBSETS\n",
    "w_400_landmask_region = w_400_landmask[:,:,xlat_indices[:,0],:]\n",
    "w_400_landmask_region = w_400_landmask_region[:,:,:,xlong_indices[0,:]]\n",
    "w_1000_landmask_region = w_1000_landmask[:,:,xlat_indices[:,0],:]\n",
    "w_1000_landmask_region = w_1000_landmask_region[:,:,:,xlong_indices[0,:]]\n",
    "qvapor_400_landmask_region = qvapor_400_landmask[:,:,xlat_indices[:,0],:]\n",
    "qvapor_400_landmask_region = qvapor_400_landmask_region[:,:,:,xlong_indices[0,:]]\n",
    "qvapor_1000_landmask_region = qvapor_1000_landmask[:,:,xlat_indices[:,0],:]\n",
    "qvapor_1000_landmask_region = qvapor_1000_landmask_region[:,:,:,xlong_indices[0,:]]"
   ]
  },
  {
   "cell_type": "markdown",
   "metadata": {},
   "source": [
    "# decomposition:\n",
    "\n",
    "$\\overline{qw} = \\overline{q}\\,\\overline{w} + \\overline{q' w'}$\n",
    "\n",
    "* See, e.g., Hartmann's text (new version, section 4.6, pages 115-116)"
   ]
  },
  {
   "cell_type": "markdown",
   "metadata": {},
   "source": [
    "# overbar (left-hand side)"
   ]
  },
  {
   "cell_type": "code",
   "execution_count": null,
   "metadata": {},
   "outputs": [],
   "source": [
    "# ============================================================================ #\n",
    "\n",
    "# overbar(qw) = overbar(overbar(q)*overbar(w)) + overbar(qprime*wprime)\n",
    "\n",
    "### overbar(qw)\n",
    "qw_400_landmask = w_400_landmask_region*qvapor_400_landmask_region\n",
    "qw_1000_landmask = w_1000_landmask_region*qvapor_1000_landmask_region\n",
    "\n",
    "qw_400_time_mean = numpy.nanmean(qw_400_landmask, axis=0)\n",
    "qw_1000_time_mean = numpy.nanmean(qw_1000_landmask, axis=0)\n",
    "\n",
    "qw_400_time_space_mean = numpy.nanmean(qw_400_time_mean, axis=(1,2))\n",
    "qw_1000_time_space_mean = numpy.nanmean(qw_1000_time_mean, axis=(1,2))\n",
    "\n",
    "qw_diffs_overbar = qw_1000_time_space_mean - qw_400_time_space_mean"
   ]
  },
  {
   "cell_type": "code",
   "execution_count": null,
   "metadata": {},
   "outputs": [],
   "source": [
    "skip_time = 24"
   ]
  },
  {
   "cell_type": "code",
   "execution_count": null,
   "metadata": {},
   "outputs": [],
   "source": [
    "# ================================================================================\n",
    "### overbar(q)*overbar(w)\n",
    "qvapor_400_time_mean = numpy.nanmean(qvapor_400_landmask_region[skip_time:,:,:,:], axis=0)\n",
    "qvapor_1000_time_mean = numpy.nanmean(qvapor_1000_landmask_region[skip_time:,:,:,:], axis=0)\n",
    "\n",
    "w_400_time_mean = numpy.nanmean(w_400_landmask_region[skip_time:,:,:,:], axis=0)\n",
    "w_1000_time_mean = numpy.nanmean(w_1000_landmask_region[skip_time:,:,:,:], axis=0)\n",
    "\n",
    "qbar_wbar_400 = qvapor_400_time_mean*w_400_time_mean\n",
    "qbar_wbar_1000 = qvapor_1000_time_mean*w_1000_time_mean\n",
    "qbar_wbar_400_space_mean = numpy.nanmean(qbar_wbar_400, axis=(1,2))\n",
    "qbar_wbar_1000_space_mean = numpy.nanmean(qbar_wbar_1000, axis=(1,2))\n",
    "\n",
    "qbar_wbar_diffs = qbar_wbar_1000-qbar_wbar_400\n",
    "qbar_wbar_diffs_space_mean = numpy.nanmean(qbar_wbar_diffs, axis=(1,2))"
   ]
  },
  {
   "cell_type": "code",
   "execution_count": null,
   "metadata": {},
   "outputs": [],
   "source": [
    "# ================================================================================\n",
    "### overbar(qprime*wprime)\n",
    "qprime_400 = qvapor_400_landmask_region - qvapor_400_time_mean\n",
    "qprime_1000 = qvapor_1000_landmask_region - qvapor_1000_time_mean\n",
    "\n",
    "wprime_400 = w_400_landmask_region - w_400_time_mean\n",
    "wprime_1000 = w_1000_landmask_region - w_1000_time_mean\n",
    "\n",
    "qprime_wprime_400 = qprime_400*wprime_400\n",
    "qprime_wprime_1000 = qprime_1000*wprime_1000\n",
    "\n",
    "qprime_wprime_400_time_mean = numpy.nanmean(qprime_wprime_400[skip_time:,:,:,:], axis=0)\n",
    "qprime_wprime_1000_time_mean = numpy.nanmean(qprime_wprime_1000[skip_time:,:,:,:], axis=0)\n",
    "qprime_wprime_400_space_mean = numpy.nanmean(qprime_wprime_400_time_mean, axis=(1,2))\n",
    "qprime_wprime_1000_space_mean = numpy.nanmean(qprime_wprime_1000_time_mean, axis=(1,2))\n",
    "\n",
    "qprime_wprime_diffs = qprime_wprime_1000_time_mean - qprime_wprime_400_time_mean\n",
    "qprime_wprime_diffs_space_mean = numpy.nanmean(qprime_wprime_diffs, axis=(1,2))"
   ]
  },
  {
   "cell_type": "code",
   "execution_count": null,
   "metadata": {},
   "outputs": [],
   "source": [
    "fontsize=12\n",
    "fig,ax=mp.subplots(ncols=3,nrows=2)\n",
    "fig.set_size_inches(6.5,6)\n",
    "\n",
    "ax[0,0].plot(qw_400_time_space_mean, z, c='0.1', label='low CO$_2$')\n",
    "ax[0,0].plot(qw_1000_time_space_mean, z, c='firebrick', ls='--', label='high CO$_2$')\n",
    "ax[0,0].tick_params(labelsize=fontsize)\n",
    "#handles, labels = ax[0,0].get_legend_handles_labels()\n",
    "#ax[0,0].legend(handles, labels, fontsize=fontsize, scatterpoints=1, ncol=1, bbox_to_anchor=(0.99,0.99), bbox_transform=ax[0,0].transAxes, loc='upper right', borderaxespad=0, labelspacing=0.25, fancybox=False, edgecolor='0', framealpha=0, borderpad=0.25, columnspacing=0.5, handletextpad=0.25, markerscale=1)\n",
    "\n",
    "ax[1,0].axvline(x=0, c='0.1', ls='--')\n",
    "ax[1,0].plot(qw_diffs_overbar, z, c='firebrick', label='diffs')\n",
    "ax[1,0].tick_params(labelsize=fontsize)\n",
    "\n",
    "# =====\n",
    "ax[0,2].plot(qprime_wprime_400_space_mean, z, c='0.1', label='low\\nCO$_2$')\n",
    "ax[0,2].plot(qprime_wprime_1000_space_mean, z, c='firebrick', ls='--', label='high\\nCO$_2$')\n",
    "ax[0,2].tick_params(labelsize=fontsize)\n",
    "handles, labels = ax[0,2].get_legend_handles_labels()\n",
    "ax[0,2].legend(handles, labels, fontsize=fontsize, scatterpoints=1, ncol=1, bbox_to_anchor=(0.98,0.98), \\\n",
    "               bbox_transform=ax[0,2].transAxes, loc='upper right', borderaxespad=0, \\\n",
    "               labelspacing=1, fancybox=False, edgecolor='0', framealpha=0, handlelength=1.25, \\\n",
    "               borderpad=0.25, columnspacing=0.5, handletextpad=0.25, markerscale=1)\n",
    "\n",
    "ax[1,2].axvline(x=0, c='0.1', ls='--')\n",
    "ax[1,2].plot(qprime_wprime_diffs_space_mean, z, c='firebrick', label='diffs')\n",
    "ax[1,2].tick_params(labelsize=fontsize)\n",
    "\n",
    "# =====\n",
    "ax[0,1].plot(qbar_wbar_400_space_mean, z, c='0.1', label='low CO$_2$')\n",
    "ax[0,1].plot(qbar_wbar_1000_space_mean, z, c='firebrick', ls='--', label='high CO$_2$')\n",
    "ax[0,1].tick_params(labelsize=fontsize)\n",
    "#handles, labels = ax[0,1].get_legend_handles_labels()\n",
    "#ax[0,1].legend(handles, labels, fontsize=fontsize, scatterpoints=2, ncol=1, bbox_to_anchor=(0.99,0.99), bbox_transform=ax[0,1].transAxes, loc='upper right', borderaxespad=0, labelspacing=0.25, fancybox=False, edgecolor='0', framealpha=0, borderpad=0.25, columnspacing=0.5, handletextpad=0.25, markerscale=1)\n",
    "\n",
    "\n",
    "ax[1,1].axvline(x=0, c='0.1', ls='--')\n",
    "ax[1,1].plot(qbar_wbar_diffs_space_mean, z, c='firebrick', label='diffs')\n",
    "ax[1,1].tick_params(labelsize=fontsize)\n",
    "\n",
    "ax[0,0].text(s='(a) '+r\"$\\overline{qw}$\", x=0, y=1.01, fontsize=fontsize, ha='left', va='bottom', transform=ax[0,0].transAxes)\n",
    "ax[0,1].text(s='(b) '+r\"$\\overline{q} \\,\\, \\overline{w}$\", x=0, y=1.01, fontsize=fontsize, ha='left', va='bottom', transform=ax[0,1].transAxes)\n",
    "ax[0,2].text(s='(c) '+r\"$\\overline{q \\prime w \\prime}$\", x=0, y=1.01, fontsize=fontsize, ha='left', va='bottom', transform=ax[0,2].transAxes)\n",
    "ax[1,0].text(s='(d) '+r\"$\\overline{qw}$\"+' diff.', x=0, y=1.01, fontsize=fontsize, ha='left', va='bottom', transform=ax[1,0].transAxes)\n",
    "ax[1,1].text(s='(e) '+r\"$\\overline{q} \\,\\, \\overline{w}$\"+' diff.', x=0, y=1.01, fontsize=fontsize, ha='left', va='bottom', transform=ax[1,1].transAxes)\n",
    "ax[1,2].text(s='(f) '+r\"$\\overline{q \\prime w \\prime}$\"+' diff.', x=0, y=1.01, fontsize=fontsize, ha='left', va='bottom', transform=ax[1,2].transAxes)\n",
    "\n",
    "ax[0,0].set_xlim(-0.01,0.05)\n",
    "ax[0,1].set_xlim(-0.01,0.05)\n",
    "ax[0,2].set_xlim(-0.001,0.005)\n",
    "\n",
    "ax[1,0].set_xlim(-0.0035,0.0035)\n",
    "ax[1,1].set_xlim(-0.0035,0.0035)\n",
    "ax[1,2].set_xlim(-0.00035,0.00035)\n",
    "\n",
    "ax[1,0].set_xticks([-0.0035,0,0.0035])\n",
    "ax[1,1].set_xticks([-0.0035,0,0.0035])\n",
    "ax[1,2].set_xticks([-0.00035,0,0.00035])\n",
    "\n",
    "ax[1,0].set_xticklabels(['-0.0035','0','0.0035'])\n",
    "ax[1,1].set_xticklabels(['-0.0035','0','0.0035'])\n",
    "ax[1,2].set_xticklabels(['-0.00035','0','0.00035'])\n",
    "\n",
    "# ax[1,0].set_xlabel('diffs in '+r\"$\\overline{q w}$\", fontsize=fontsize)\n",
    "# ax[1,2].set_xlabel('diffs in '+r\"$\\overline{q \\prime w \\prime}$\", fontsize=fontsize)\n",
    "# ax[0,1].set_xlabel(r\"$\\overline{q \\prime w \\prime}$\", fontsize=fontsize)\n",
    "# ax[1,1].set_xlabel('diffs in '+r\"$\\overline{\\overline{q} \\, \\overline{w}}$\", fontsize=fontsize)\n",
    "# ax[0,0].set_xlabel(r\"$\\overline{q w}$\", fontsize=fontsize)\n",
    "# ax[0,2].set_xlabel(r\"$\\overline{q \\prime w \\prime}$\", fontsize=fontsize)\n",
    "\n",
    "ax[0,0].set_ylabel('km', fontsize=fontsize)\n",
    "ax[1,0].set_ylabel('km', fontsize=fontsize)\n",
    "ax[0,1].set_ylabel('km', fontsize=fontsize)\n",
    "ax[1,1].set_ylabel('km', fontsize=fontsize)\n",
    "ax[0,2].set_ylabel('km', fontsize=fontsize)\n",
    "ax[1,2].set_ylabel('km', fontsize=fontsize)\n",
    "\n",
    "ax[0,0].set_xlabel('g kg$^{\\,-1}$'+'$\\cdot$'+'m s$^{\\,-1}$', fontsize=fontsize)\n",
    "ax[1,0].set_xlabel('g kg$^{\\,-1}$'+'$\\cdot$'+'m s$^{\\,-1}$', fontsize=fontsize)\n",
    "ax[0,1].set_xlabel('g kg$^{\\,-1}$'+'$\\cdot$'+'m s$^{\\,-1}$', fontsize=fontsize)\n",
    "ax[1,1].set_xlabel('g kg$^{\\,-1}$'+'$\\cdot$'+'m s$^{\\,-1}$', fontsize=fontsize)\n",
    "ax[0,2].set_xlabel('g kg$^{\\,-1}$'+'$\\cdot$'+'m s$^{\\,-1}$', fontsize=fontsize)\n",
    "ax[1,2].set_xlabel('g kg$^{\\,-1}$'+'$\\cdot$'+'m s$^{\\,-1}$', fontsize=fontsize)\n",
    "\n",
    "#ax[0,0].text(s='km', x=-0.25, y=0.5, transform=ax[0,0].transAxes, ha='center', va='center', rotation=90, fontsize=fontsize)\n",
    "#ax[1,0].text(s='km', x=-0.25, y=0.5, transform=ax[1,0].transAxes, ha='center', va='center', rotation=90, fontsize=fontsize)\n",
    "\n",
    "fig.tight_layout(h_pad=2.5, w_pad=0)\n",
    "fig.subplots_adjust(left=0.1, top=0.95)\n",
    "mp.show()\n",
    "\n",
    "fig.savefig('figure8_qw_decomposition.png', dpi=600, bbox_inches='tight', transparent=True)"
   ]
  },
  {
   "cell_type": "markdown",
   "metadata": {},
   "source": [
    "# now do same calculations for 3hour means"
   ]
  },
  {
   "cell_type": "code",
   "execution_count": null,
   "metadata": {},
   "outputs": [],
   "source": [
    "#skip_time = 24\n",
    "n_intervals = 8\n",
    "hour_strings = ['00','03','06','09','12','15','18','21']\n",
    "\n",
    "times_00 = [t.hour in [23,0,1] for t in time_datetimes[skip_time:]]\n",
    "times_03 = [t.hour in [2,3,4] for t in time_datetimes[skip_time:]]\n",
    "times_06 = [t.hour in [5,6,7] for t in time_datetimes[skip_time:]]\n",
    "times_09 = [t.hour in [8,9,10] for t in time_datetimes[skip_time:]]\n",
    "times_12 = [t.hour in [11,12,13] for t in time_datetimes[skip_time:]]\n",
    "times_15 = [t.hour in [14,15,16] for t in time_datetimes[skip_time:]]\n",
    "times_18 = [t.hour in [17,18,19] for t in time_datetimes[skip_time:]]\n",
    "times_21 = [t.hour in [20,21,22] for t in time_datetimes[skip_time:]]\n",
    "\n",
    "times_indices_list = [times_00,times_03,times_06,times_09,times_12,times_15,times_18,times_21]"
   ]
  },
  {
   "cell_type": "markdown",
   "metadata": {},
   "source": [
    "# overbar(qw):  left-hand side"
   ]
  },
  {
   "cell_type": "code",
   "execution_count": null,
   "metadata": {},
   "outputs": [],
   "source": [
    "w_400_landmask_region.shape"
   ]
  },
  {
   "cell_type": "code",
   "execution_count": null,
   "metadata": {},
   "outputs": [],
   "source": [
    "# ============================================================================ #\n",
    "\n",
    "# overbar(qw) = overbar(overbar(q)*overbar(w)) + overbar(qprime*wprime)\n",
    "\n",
    "### overbar(qw)\n",
    "qw_400_landmask_3hr_list = [w_400_landmask_region[skip_time:,:,:,:][indices,:,:,:]*\\\n",
    "                            qvapor_400_landmask_region[indices,:,:,:] \\\n",
    "                            for indices in times_indices_list]\n",
    "\n",
    "qw_1000_landmask_3hr_list = [w_1000_landmask_region[skip_time:,:,:,:][indices,:,:,:]*\\\n",
    "                            qvapor_1000_landmask_region[indices,:,:,:] \\\n",
    "                            for indices in times_indices_list]\n",
    "\n",
    "qw_400_time_mean_list = [numpy.nanmean(data, axis=0) for data in qw_400_landmask_3hr_list]\n",
    "qw_1000_time_mean_list = [numpy.nanmean(data, axis=0) for data in qw_1000_landmask_3hr_list]\n",
    "\n",
    "qw_400_time_space_mean_list = [numpy.nanmean(data, axis=(1,2)) for data in qw_400_time_mean_list]\n",
    "qw_1000_time_space_mean_list = [numpy.nanmean(data, axis=(1,2)) for data in qw_1000_time_mean_list]\n",
    "\n",
    "# qw_diffs_overbar = qw_1000_time_space_mean - qw_400_time_space_mean"
   ]
  },
  {
   "cell_type": "code",
   "execution_count": null,
   "metadata": {},
   "outputs": [],
   "source": [
    "# ================================================================================\n",
    "### overbar(q)*overbar(w)\n",
    "qvapor_400_time_mean_list = [numpy.nanmean(qvapor_400_landmask_region[skip_time:,:,:,:][indices,:,:,:], axis=0) \\\n",
    "                             for indices in times_indices_list]\n",
    "qvapor_1000_time_mean_list = [numpy.nanmean(qvapor_1000_landmask_region[skip_time:,:,:,:][indices,:,:,:], axis=0) \\\n",
    "                             for indices in times_indices_list]\n",
    "\n",
    "w_400_time_mean_list = [numpy.nanmean(w_400_landmask_region[skip_time:,:,:,:][indices,:,:,:], axis=0) \\\n",
    "                             for indices in times_indices_list]\n",
    "w_1000_time_mean_list = [numpy.nanmean(w_1000_landmask_region[skip_time:,:,:,:][indices,:,:,:], axis=0) \\\n",
    "                             for indices in times_indices_list]\n",
    "\n",
    "qbar_wbar_400_list = [qvapor_400_time_mean_list[i]*w_400_time_mean_list[i] for i in range(n_intervals)]\n",
    "qbar_wbar_1000_list = [qvapor_1000_time_mean_list[i]*w_1000_time_mean_list[i] for i in range(n_intervals)]\n",
    "\n",
    "qbar_wbar_400_space_mean_list = [numpy.nanmean(qbar_wbar_400_list[i],axis=(1,2)) for i in range(n_intervals)]\n",
    "qbar_wbar_1000_space_mean_list = [numpy.nanmean(qbar_wbar_1000_list[i],axis=(1,2)) for i in range(n_intervals)]\n",
    "\n",
    "qbar_wbar_diffs_list = [qbar_wbar_1000_list[i]-qbar_wbar_400_list[i] for i in range(n_intervals)]\n",
    "qbar_wbar_diffs_space_mean_list = [numpy.nanmean(qbar_wbar_diffs_list[i],axis=(1,2)) for i in range(n_intervals)]"
   ]
  },
  {
   "cell_type": "code",
   "execution_count": null,
   "metadata": {},
   "outputs": [],
   "source": [
    "# ================================================================================\n",
    "### overbar(qprime*wprime)\n",
    "qprime_400_list = [qvapor_400_landmask_region[skip_time:,:,:,:][times_indices_list[i],:,:,:]-\\\n",
    "                   qvapor_400_time_mean_list[i] for i in range(8)]\n",
    "qprime_1000_list = [qvapor_1000_landmask_region[skip_time:,:,:,:][times_indices_list[i],:,:,:]-\\\n",
    "                   qvapor_1000_time_mean_list[i] for i in range(8)]\n",
    "\n",
    "wprime_400_list = [w_400_landmask_region[skip_time:,:,:,:][times_indices_list[i],:,:,:]-\\\n",
    "                   w_400_time_mean_list[i] for i in range(8)]\n",
    "wprime_1000_list = [w_1000_landmask_region[skip_time:,:,:,:][times_indices_list[i],:,:,:]-\\\n",
    "                   w_1000_time_mean_list[i] for i in range(8)]\n",
    "\n",
    "qprime_wprime_400_list = [qprime_400_list[i]*wprime_400_list[i] for i in range(8)]\n",
    "qprime_wprime_1000_list = [qprime_1000_list[i]*wprime_1000_list[i] for i in range(8)]\n",
    "\n",
    "qprime_wprime_400_time_mean_list = [numpy.nanmean(qprime_wprime_400_list[i], axis=0) for i in range(8)]\n",
    "qprime_wprime_1000_time_mean_list = [numpy.nanmean(qprime_wprime_1000_list[i], axis=0) for i in range(8)]\n",
    "qprime_wprime_400_space_mean_list = [numpy.nanmean(qprime_wprime_400_time_mean_list[i], axis=(1,2)) for i in range(8)]\n",
    "qprime_wprime_1000_space_mean_list = [numpy.nanmean(qprime_wprime_1000_time_mean_list[i], axis=(1,2)) for i in range(8)]\n",
    "\n",
    "qprime_wprime_diffs_list = [qprime_wprime_1000_time_mean_list[i] - qprime_wprime_400_time_mean_list[i] for i in range(8)]\n",
    "qprime_wprime_diffs_space_mean_list = [numpy.nanmean(qprime_wprime_diffs_list[i], axis=(1,2)) for i in range(8)]"
   ]
  },
  {
   "cell_type": "code",
   "execution_count": null,
   "metadata": {},
   "outputs": [],
   "source": [
    "fontsize = 12\n",
    "\n",
    "fig = mp.figure(figsize=(3,6))\n",
    "\n",
    "ax_list = []\n",
    "for i in range(8):\n",
    "    ax = fig.add_subplot(4,2,i+1)\n",
    "    ax.plot(qw_400_time_space_mean_list[i],z,color='0.1',label='control')\n",
    "    ax.plot(qw_1000_time_space_mean_list[i],z,color='firebrick',ls='--',label='high CO$_2$')\n",
    "    ax.tick_params(labelsize=fontsize)\n",
    "\n",
    "    ax.set_xlim(-0.01,0.06)\n",
    "    ax.text(s='h '+hour_strings[i],x=0.97,y=0.7,ha='right',va='top',transform=ax.transAxes,fontsize=fontsize)\n",
    "    ax.text(s='$\\overline{qw}$',x=0.97,y=0.97,ha='right',va='top',transform=ax.transAxes,fontsize=fontsize)\n",
    "    ax_list.append(ax)\n",
    "    \n",
    "handles, labels = ax_list[1].get_legend_handles_labels()\n",
    "ax_list[1].legend(handles, labels, fontsize=fontsize, scatterpoints=1, ncol=1, bbox_to_anchor=(1.1,1), \\\n",
    "               bbox_transform=ax_list[1].transAxes, loc='upper left', borderaxespad=0, \\\n",
    "               labelspacing=1, fancybox=False, edgecolor='0', framealpha=0, handlelength=1.25, \\\n",
    "               borderpad=0.25, columnspacing=0.5, handletextpad=0.25, markerscale=1)\n",
    "\n",
    "# units\n",
    "fig.tight_layout()\n",
    "\n",
    "ax_pos_left=ax_list[-2].get_position()\n",
    "ax_pos_right=ax_list[-1].get_position()\n",
    "xhalf=0.5*(ax_pos_right.x1-ax_pos_left.x0)+ax_pos_left.x0\n",
    "fig.text(s='g kg$^{\\,-1}$'+'$\\cdot$'+'m s$^{\\,-1}$', x=xhalf, y=0, ha='center', va='top', fontsize=fontsize)\n",
    "\n",
    "for ax_idx in [0,2,4,6]:\n",
    "    ax_list[ax_idx].set_ylabel('km', fontsize=fontsize)"
   ]
  },
  {
   "cell_type": "code",
   "execution_count": null,
   "metadata": {},
   "outputs": [],
   "source": [
    "fontsize = 12\n",
    "\n",
    "fig = mp.figure(figsize=(3,6))\n",
    "\n",
    "ax_list = []\n",
    "for i in range(8):\n",
    "    ax = fig.add_subplot(4,2,i+1)\n",
    "    ax.plot(qbar_wbar_400_space_mean_list[i],z,color='0.1',label='control')\n",
    "    ax.plot(qbar_wbar_1000_space_mean_list[i],z,color='firebrick',ls='--',label='high CO$_2$')\n",
    "    ax.tick_params(labelsize=fontsize)\n",
    "\n",
    "    ax.set_xlim(-0.01,0.06)\n",
    "    ax.text(s='h '+hour_strings[i],x=0.97,y=0.7,ha='right',va='top',transform=ax.transAxes,fontsize=fontsize)\n",
    "    ax.text(s='$\\overline{q}\\,\\,\\overline{w}$',x=0.97,y=0.97,ha='right',va='top',transform=ax.transAxes,fontsize=fontsize)\n",
    "    ax_list.append(ax)\n",
    "    \n",
    "handles, labels = ax_list[1].get_legend_handles_labels()\n",
    "ax_list[1].legend(handles, labels, fontsize=fontsize, scatterpoints=1, ncol=1, bbox_to_anchor=(1.1,1), \\\n",
    "               bbox_transform=ax_list[1].transAxes, loc='upper left', borderaxespad=0, \\\n",
    "               labelspacing=1, fancybox=False, edgecolor='0', framealpha=0, handlelength=1.25, \\\n",
    "               borderpad=0.25, columnspacing=0.5, handletextpad=0.25, markerscale=1)\n",
    "\n",
    "# units\n",
    "fig.tight_layout()\n",
    "\n",
    "ax_pos_left=ax_list[-2].get_position()\n",
    "ax_pos_right=ax_list[-1].get_position()\n",
    "xhalf=0.5*(ax_pos_right.x1-ax_pos_left.x0)+ax_pos_left.x0\n",
    "fig.text(s='g kg$^{\\,-1}$'+'$\\cdot$'+'m s$^{\\,-1}$', x=xhalf, y=0, ha='center', va='top', fontsize=fontsize)\n",
    "\n",
    "for ax_idx in [0,2,4,6]:\n",
    "    ax_list[ax_idx].set_ylabel('km', fontsize=fontsize)"
   ]
  },
  {
   "cell_type": "code",
   "execution_count": null,
   "metadata": {},
   "outputs": [],
   "source": [
    "fontsize = 12\n",
    "\n",
    "fig = mp.figure(figsize=(3,6))\n",
    "\n",
    "ax_list = []\n",
    "for i in range(8):\n",
    "    ax = fig.add_subplot(4,2,i+1)\n",
    "    ax.plot(qbar_wbar_diffs_space_mean_list[i],z,color='firebrick',label='diff.')\n",
    "    ax.axvline(x=0,ls='--',color='0.1')\n",
    "    #ax.plot(qbar_wbar_1000_space_mean_list[i],z,color='firebrick',ls='--',label='high CO$_2$')\n",
    "    ax.tick_params(labelsize=fontsize)\n",
    "\n",
    "    ax.set_xlim(-0.004,0.01)\n",
    "    ax.text(s='h '+hour_strings[i],x=0.97,y=0.7,ha='right',va='top',transform=ax.transAxes,fontsize=fontsize)\n",
    "    ax.text(s='$\\overline{q}\\,\\,\\overline{w}$',x=0.97,y=0.97,ha='right',va='top',transform=ax.transAxes,fontsize=fontsize)\n",
    "    ax_list.append(ax)\n",
    "    ax.set_xticks([-0.004,0.01])\n",
    "    \n",
    "handles, labels = ax_list[1].get_legend_handles_labels()\n",
    "ax_list[1].legend(handles, labels, fontsize=fontsize, scatterpoints=1, ncol=1, bbox_to_anchor=(1.1,1), \\\n",
    "               bbox_transform=ax_list[1].transAxes, loc='upper left', borderaxespad=0, \\\n",
    "               labelspacing=1, fancybox=False, edgecolor='0', framealpha=0, handlelength=1.25, \\\n",
    "               borderpad=0.25, columnspacing=0.5, handletextpad=0.25, markerscale=1)\n",
    "\n",
    "# units\n",
    "fig.tight_layout()\n",
    "\n",
    "ax_pos_left=ax_list[-2].get_position()\n",
    "ax_pos_right=ax_list[-1].get_position()\n",
    "xhalf=0.5*(ax_pos_right.x1-ax_pos_left.x0)+ax_pos_left.x0\n",
    "fig.text(s='g kg$^{\\,-1}$'+'$\\cdot$'+'m s$^{\\,-1}$', x=xhalf, y=0, ha='center', va='top', fontsize=fontsize)\n",
    "\n",
    "for ax_idx in [0,2,4,6]:\n",
    "    ax_list[ax_idx].set_ylabel('km', fontsize=fontsize)"
   ]
  },
  {
   "cell_type": "code",
   "execution_count": null,
   "metadata": {},
   "outputs": [],
   "source": [
    "fontsize = 12\n",
    "\n",
    "fig = mp.figure(figsize=(3,6))\n",
    "\n",
    "ax_list = []\n",
    "for i in range(8):\n",
    "    ax = fig.add_subplot(4,2,i+1)\n",
    "    ax.plot(qprime_wprime_400_space_mean_list[i],z,color='0.1',label='control')\n",
    "    ax.plot(qprime_wprime_1000_space_mean_list[i],z,color='firebrick',ls='--',label='high CO$_2$')\n",
    "    ax.tick_params(labelsize=fontsize)\n",
    "\n",
    "    ax.set_xlim(-0.0003,0.002)\n",
    "    ax.text(s='h '+hour_strings[i],x=0.97,y=0.7,ha='right',va='top',transform=ax.transAxes,fontsize=fontsize)\n",
    "    ax.text(s=\"$\\overline{q'w'}$\",x=0.97,y=0.97,ha='right',va='top',transform=ax.transAxes,fontsize=fontsize)\n",
    "    ax_list.append(ax)\n",
    "    \n",
    "handles, labels = ax_list[1].get_legend_handles_labels()\n",
    "ax_list[1].legend(handles, labels, fontsize=fontsize, scatterpoints=1, ncol=1, bbox_to_anchor=(1.1,1), \\\n",
    "               bbox_transform=ax_list[1].transAxes, loc='upper left', borderaxespad=0, \\\n",
    "               labelspacing=1, fancybox=False, edgecolor='0', framealpha=0, handlelength=1.25, \\\n",
    "               borderpad=0.25, columnspacing=0.5, handletextpad=0.25, markerscale=1)\n",
    "\n",
    "# units\n",
    "fig.tight_layout()\n",
    "\n",
    "ax_pos_left=ax_list[-2].get_position()\n",
    "ax_pos_right=ax_list[-1].get_position()\n",
    "xhalf=0.5*(ax_pos_right.x1-ax_pos_left.x0)+ax_pos_left.x0\n",
    "fig.text(s='g kg$^{\\,-1}$'+'$\\cdot$'+'m s$^{\\,-1}$', x=xhalf, y=0, ha='center', va='top', fontsize=fontsize)\n",
    "\n",
    "for ax_idx in [0,2,4,6]:\n",
    "    ax_list[ax_idx].set_ylabel('km', fontsize=fontsize)"
   ]
  },
  {
   "cell_type": "code",
   "execution_count": null,
   "metadata": {},
   "outputs": [],
   "source": [
    "fontsize = 12\n",
    "\n",
    "fig = mp.figure(figsize=(3,6))\n",
    "\n",
    "ax_list = []\n",
    "for i in range(8):\n",
    "    ax = fig.add_subplot(4,2,i+1)\n",
    "    ax.plot(qprime_wprime_diffs_space_mean_list[i],z,color='firebrick',label='diff.')\n",
    "    ax.axvline(x=0,ls='--',color='0.1')\n",
    "    #ax.plot(qbar_wbar_1000_space_mean_list[i],z,color='firebrick',ls='--',label='high CO$_2$')\n",
    "    ax.tick_params(labelsize=fontsize)\n",
    "\n",
    "    ax.set_xlim(-0.0003,0.00035)\n",
    "    ax.text(s='h '+hour_strings[i],x=0.97,y=0.7,ha='right',va='top',transform=ax.transAxes,fontsize=fontsize,zorder=0)\n",
    "    ax.text(s='$\\overline{q\\prime w\\prime}$',x=0.97,y=0.97,ha='right',va='top',transform=ax.transAxes,fontsize=fontsize,zorder=0)\n",
    "    ax_list.append(ax)\n",
    "    ax.set_xticks([-0.0003,0.0003])\n",
    "    \n",
    "handles, labels = ax_list[1].get_legend_handles_labels()\n",
    "ax_list[1].legend(handles, labels, fontsize=fontsize, scatterpoints=1, ncol=1, bbox_to_anchor=(1.1,1), \\\n",
    "               bbox_transform=ax_list[1].transAxes, loc='upper left', borderaxespad=0, \\\n",
    "               labelspacing=1, fancybox=False, edgecolor='0', framealpha=0, handlelength=1.25, \\\n",
    "               borderpad=0.25, columnspacing=0.5, handletextpad=0.25, markerscale=1)\n",
    "\n",
    "# units\n",
    "fig.tight_layout()\n",
    "\n",
    "ax_pos_left=ax_list[-2].get_position()\n",
    "ax_pos_right=ax_list[-1].get_position()\n",
    "xhalf=0.5*(ax_pos_right.x1-ax_pos_left.x0)+ax_pos_left.x0\n",
    "fig.text(s='g kg$^{\\,-1}$'+'$\\cdot$'+'m s$^{\\,-1}$', x=xhalf, y=-0.001, ha='center', va='top', fontsize=fontsize)\n",
    "\n",
    "for ax_idx in [0,2,4,6]:\n",
    "    ax_list[ax_idx].set_ylabel('km', fontsize=fontsize)"
   ]
  },
  {
   "cell_type": "code",
   "execution_count": null,
   "metadata": {},
   "outputs": [],
   "source": []
  }
 ],
 "metadata": {
  "kernelspec": {
   "display_name": "Python 3",
   "language": "python",
   "name": "python3"
  },
  "language_info": {
   "codemirror_mode": {
    "name": "ipython",
    "version": 3
   },
   "file_extension": ".py",
   "mimetype": "text/x-python",
   "name": "python",
   "nbconvert_exporter": "python",
   "pygments_lexer": "ipython3",
   "version": "3.6.4"
  }
 },
 "nbformat": 4,
 "nbformat_minor": 2
}
