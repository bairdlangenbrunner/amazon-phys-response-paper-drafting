{
 "cells": [
  {
   "cell_type": "code",
   "execution_count": 137,
   "metadata": {
    "ExecuteTime": {
     "end_time": "2018-04-06T16:14:44.568294Z",
     "start_time": "2018-04-06T16:14:44.560358Z"
    }
   },
   "outputs": [],
   "source": [
    "import xarray\n",
    "import numpy\n",
    "import matplotlib.pyplot as mp\n",
    "import cartopy\n",
    "\n",
    "import glob"
   ]
  },
  {
   "cell_type": "code",
   "execution_count": 108,
   "metadata": {
    "ExecuteTime": {
     "end_time": "2018-04-06T16:07:55.596759Z",
     "start_time": "2018-04-06T16:07:54.938988Z"
    }
   },
   "outputs": [],
   "source": [
    "root_dir = '/beegfs/DATA/pritchard/blangenb/CESM_ARCHIVE/'"
   ]
  },
  {
   "cell_type": "markdown",
   "metadata": {},
   "source": [
    "# approx lat lon ranges from WRF"
   ]
  },
  {
   "cell_type": "code",
   "execution_count": 146,
   "metadata": {
    "ExecuteTime": {
     "end_time": "2018-04-06T16:18:22.874622Z",
     "start_time": "2018-04-06T16:18:22.866788Z"
    }
   },
   "outputs": [],
   "source": [
    "lat_lo = -37.\n",
    "lat_hi = 37.\n",
    "lon_lo = -155\n",
    "lon_hi = -25\n",
    "\n",
    "lon_lo_360 = lon_lo+360.\n",
    "lon_hi_360 = lon_hi+360."
   ]
  },
  {
   "cell_type": "markdown",
   "metadata": {},
   "source": [
    "# import control run (mar 16 10 days)"
   ]
  },
  {
   "cell_type": "code",
   "execution_count": 158,
   "metadata": {
    "ExecuteTime": {
     "end_time": "2018-04-06T16:26:02.503999Z",
     "start_time": "2018-04-06T16:26:01.604765Z"
    }
   },
   "outputs": [
    {
     "name": "stderr",
     "output_type": "stream",
     "text": [
      "/export/home/blangenb/anaconda3/lib/python3.6/site-packages/xarray/coding/times.py:111: SerializationWarning: Unable to decode time axis into full numpy.datetime64 objects, continuing using dummy netcdftime.datetime objects instead, reason: dates out of range\n",
      "  result = decode_cf_datetime(example_value, units, calendar)\n",
      "/export/home/blangenb/anaconda3/lib/python3.6/site-packages/xarray/coding/variables.py:66: SerializationWarning: Unable to decode time axis into full numpy.datetime64 objects, continuing using dummy netcdftime.datetime objects instead, reason: dates out of range\n",
      "  return self.func(self.array[key])\n"
     ]
    }
   ],
   "source": [
    "data_dir = root_dir + 'B_1850_CAM5.cam0400.clm0400_mar16/atm/hist/'\n",
    "cont_ds = xarray.open_mfdataset(data_dir + '*.nc')\n",
    "cont_ds_amazon = control_ds.sel(lat=slice(lat_lo,lat_hi),lon=slice(lon_lo_360,lon_hi_360))"
   ]
  },
  {
   "cell_type": "markdown",
   "metadata": {},
   "source": [
    "# import phys run (mar 16 10 days)"
   ]
  },
  {
   "cell_type": "code",
   "execution_count": 159,
   "metadata": {
    "ExecuteTime": {
     "end_time": "2018-04-06T16:26:03.886678Z",
     "start_time": "2018-04-06T16:26:02.820863Z"
    }
   },
   "outputs": [
    {
     "name": "stderr",
     "output_type": "stream",
     "text": [
      "/export/home/blangenb/anaconda3/lib/python3.6/site-packages/xarray/coding/times.py:111: SerializationWarning: Unable to decode time axis into full numpy.datetime64 objects, continuing using dummy netcdftime.datetime objects instead, reason: dates out of range\n",
      "  result = decode_cf_datetime(example_value, units, calendar)\n",
      "/export/home/blangenb/anaconda3/lib/python3.6/site-packages/xarray/coding/variables.py:66: SerializationWarning: Unable to decode time axis into full numpy.datetime64 objects, continuing using dummy netcdftime.datetime objects instead, reason: dates out of range\n",
      "  return self.func(self.array[key])\n"
     ]
    }
   ],
   "source": [
    "data_dir = root_dir + 'B_1850_CAM5.cam0400.clm1000_mar16/atm/hist/'\n",
    "phys_ds = xarray.open_mfdataset(data_dir + '*.nc')\n",
    "phys_ds_amazon = phys_ds.sel(lat=slice(lat_lo,lat_hi),lon=slice(lon_lo_360,lon_hi_360))"
   ]
  },
  {
   "cell_type": "code",
   "execution_count": 213,
   "metadata": {
    "ExecuteTime": {
     "end_time": "2018-04-06T17:20:42.361156Z",
     "start_time": "2018-04-06T17:20:42.350322Z"
    }
   },
   "outputs": [],
   "source": [
    "landfrac_amazon = cont_ds_amazon['LANDFRAC'][0,:,:].values"
   ]
  },
  {
   "cell_type": "markdown",
   "metadata": {},
   "source": [
    "# extract precip, tmq and difference them"
   ]
  },
  {
   "cell_type": "code",
   "execution_count": 160,
   "metadata": {
    "ExecuteTime": {
     "end_time": "2018-04-06T16:26:09.997555Z",
     "start_time": "2018-04-06T16:26:09.985748Z"
    }
   },
   "outputs": [],
   "source": [
    "cont_prect = cont_ds_amazon['PRECC']+cont_ds_amazon['PRECL']\n",
    "phys_prect = phys_ds_amazon['PRECC']+phys_ds_amazon['PRECL']"
   ]
  },
  {
   "cell_type": "code",
   "execution_count": 161,
   "metadata": {
    "ExecuteTime": {
     "end_time": "2018-04-06T16:26:10.482593Z",
     "start_time": "2018-04-06T16:26:10.477492Z"
    }
   },
   "outputs": [],
   "source": [
    "lon_data = cont_ds_amazon['lon'].values\n",
    "lat_data = cont_ds_amazon['lat'].values"
   ]
  },
  {
   "cell_type": "code",
   "execution_count": 188,
   "metadata": {
    "ExecuteTime": {
     "end_time": "2018-04-06T16:34:35.778689Z",
     "start_time": "2018-04-06T16:34:00.444069Z"
    }
   },
   "outputs": [],
   "source": [
    "diff_prect = phys_prect.values-cont_prect.values\n",
    "diff_tmq = phys_ds_amazon['TMQ'].values-cont_ds_amazon['TMQ'].values"
   ]
  },
  {
   "cell_type": "code",
   "execution_count": 189,
   "metadata": {
    "ExecuteTime": {
     "end_time": "2018-04-06T16:34:35.787233Z",
     "start_time": "2018-04-06T16:34:35.781076Z"
    }
   },
   "outputs": [],
   "source": [
    "diff_prect_time_mean = diff_prect.mean(axis=0)\n",
    "diff_tmq_time_mean = diff_tmq.mean(axis=0)"
   ]
  },
  {
   "cell_type": "code",
   "execution_count": 197,
   "metadata": {
    "ExecuteTime": {
     "end_time": "2018-04-06T16:39:16.020608Z",
     "start_time": "2018-04-06T16:39:16.014635Z"
    }
   },
   "outputs": [],
   "source": [
    "diff_prect_time_mean_day1 = numpy.mean(diff_prect[:24,:,:], axis=0)\n",
    "diff_tmq_time_mean_day1 = numpy.mean(diff_tmq[:24,:,:], axis=0)"
   ]
  },
  {
   "cell_type": "markdown",
   "metadata": {},
   "source": [
    "# extract pressure, u and omega winds, 3d moisture"
   ]
  },
  {
   "cell_type": "markdown",
   "metadata": {},
   "source": [
    "pressure is defined as:\n",
    "\n",
    "p $ _{(i,j,k) }$= A$ _{k}$P$ _{0}$+ B$ _{k}$P$ _{s}$(i,j)\n",
    "\n",
    "where p is the pressure at a given level and latitude, longitude grid point. The coefficients A, B and P$ _{0}$are constants. P$ _{s}$ is the model's current surface pressure. P$ _{0}$ is set in the model code. The input model initial conditions dataset sets A and B through the variables hyam, hyai, hybm, and hybi. The subscript \"i\" refers to interface levels, and \"m\" refers to the mid-point levels. \"hyam\" then refers to Hybrid level \"A\" coefficient on the interfaces.\n",
    "\n",
    "for my application:\n",
    "\n",
    "p = hyam * P0 + "
   ]
  },
  {
   "cell_type": "code",
   "execution_count": 217,
   "metadata": {
    "ExecuteTime": {
     "end_time": "2018-04-06T17:32:20.153484Z",
     "start_time": "2018-04-06T17:32:20.143993Z"
    }
   },
   "outputs": [
    {
     "name": "stdout",
     "output_type": "stream",
     "text": [
      "(265,)\n",
      "(265, 30)\n",
      "(265, 30)\n",
      "(265, 78, 105)\n"
     ]
    }
   ],
   "source": [
    "print(cont_ds_amazon['P0'].shape)\n",
    "print(cont_ds_amazon['hyam'].shape)\n",
    "print(cont_ds_amazon['hybm'].shape)\n",
    "print(cont_ds_amazon['PS'].shape)"
   ]
  },
  {
   "cell_type": "code",
   "execution_count": 223,
   "metadata": {
    "ExecuteTime": {
     "end_time": "2018-04-06T17:37:00.260098Z",
     "start_time": "2018-04-06T17:37:00.256015Z"
    }
   },
   "outputs": [],
   "source": [
    "cont_p = numpy.zeros((cont_ds_amazon['Q'].shape))"
   ]
  },
  {
   "cell_type": "code",
   "execution_count": 224,
   "metadata": {
    "ExecuteTime": {
     "end_time": "2018-04-06T17:37:19.436165Z",
     "start_time": "2018-04-06T17:37:19.431066Z"
    }
   },
   "outputs": [
    {
     "data": {
      "text/plain": [
       "(265, 30, 78, 105)"
      ]
     },
     "execution_count": 224,
     "metadata": {},
     "output_type": "execute_result"
    }
   ],
   "source": [
    "cont_p.shape"
   ]
  },
  {
   "cell_type": "code",
   "execution_count": 260,
   "metadata": {
    "ExecuteTime": {
     "end_time": "2018-04-06T18:03:41.310578Z",
     "start_time": "2018-04-06T18:03:25.245336Z"
    }
   },
   "outputs": [],
   "source": [
    "cont_hyam = cont_ds_amazon['hyam'].values\n",
    "cont_hybm = cont_ds_amazon['hybm'].values\n",
    "cont_p0 = cont_ds_amazon['P0'].values\n",
    "cont_ps = cont_ds_amazon['PS'].values"
   ]
  },
  {
   "cell_type": "code",
   "execution_count": 262,
   "metadata": {
    "ExecuteTime": {
     "end_time": "2018-04-06T18:05:48.908799Z",
     "start_time": "2018-04-06T18:04:34.830159Z"
    }
   },
   "outputs": [],
   "source": [
    "nt, nlev, nlat, nlon = cont_p.shape\n",
    "for t in range(nt):\n",
    "    for lev in range(nlev):\n",
    "        for i in range(nlat):\n",
    "            for j in range(nlon):\n",
    "                cont_p[t,lev,i,j] = cont_hyam[t,lev]*cont_p0[0] + \\\n",
    "                                    cont_hybm[t,lev]*cont_ps[t,i,j]"
   ]
  },
  {
   "cell_type": "code",
   "execution_count": 263,
   "metadata": {
    "ExecuteTime": {
     "end_time": "2018-04-06T18:06:00.469024Z",
     "start_time": "2018-04-06T18:06:00.463163Z"
    }
   },
   "outputs": [
    {
     "data": {
      "text/plain": [
       "(265, 30, 78, 105)"
      ]
     },
     "execution_count": 263,
     "metadata": {},
     "output_type": "execute_result"
    }
   ],
   "source": [
    "cont_p.shape"
   ]
  },
  {
   "cell_type": "code",
   "execution_count": 266,
   "metadata": {
    "ExecuteTime": {
     "end_time": "2018-04-06T18:06:50.636954Z",
     "start_time": "2018-04-06T18:06:50.436582Z"
    }
   },
   "outputs": [
    {
     "data": {
      "text/plain": [
       "<matplotlib.colorbar.Colorbar at 0x7f1c628161d0>"
      ]
     },
     "execution_count": 266,
     "metadata": {},
     "output_type": "execute_result"
    },
    {
     "data": {
      "image/png": "[encoded data removed]",
      "text/plain": [
       "<Figure size 432x288 with 2 Axes>"
      ]
     },
     "metadata": {},
     "output_type": "display_data"
    }
   ],
   "source": [
    "cf=mp.contourf(cont_p[0,::-1,:,:].mean(axis=2));mp.colorbar(cf)"
   ]
  },
  {
   "cell_type": "code",
   "execution_count": 255,
   "metadata": {
    "ExecuteTime": {
     "end_time": "2018-04-06T18:00:13.326334Z",
     "start_time": "2018-04-06T18:00:13.315321Z"
    }
   },
   "outputs": [
    {
     "data": {
      "text/plain": [
       "6650.169566273689"
      ]
     },
     "execution_count": 255,
     "metadata": {},
     "output_type": "execute_result"
    }
   ],
   "source": [
    "cont_ds_amazon['hyam'][t,lev].values*cont_ds_amazon['P0'].values[0]"
   ]
  },
  {
   "cell_type": "code",
   "execution_count": 256,
   "metadata": {
    "ExecuteTime": {
     "end_time": "2018-04-06T18:00:13.570715Z",
     "start_time": "2018-04-06T18:00:13.557646Z"
    }
   },
   "outputs": [
    {
     "data": {
      "text/plain": [
       "64112.92991654738"
      ]
     },
     "execution_count": 256,
     "metadata": {},
     "output_type": "execute_result"
    }
   ],
   "source": [
    "cont_ds_amazon['hybm'][t,lev].values*cont_ds_amazon['PS'][t,i,j].values"
   ]
  },
  {
   "cell_type": "code",
   "execution_count": 250,
   "metadata": {
    "ExecuteTime": {
     "end_time": "2018-04-06T17:59:58.611524Z",
     "start_time": "2018-04-06T17:59:58.308024Z"
    }
   },
   "outputs": [
    {
     "data": {
      "text/plain": [
       "array([[0.        , 0.        , 0.        , ..., 0.95123053, 0.974336  ,\n",
       "        0.9925561 ],\n",
       "       [0.        , 0.        , 0.        , ..., 0.95123053, 0.974336  ,\n",
       "        0.9925561 ],\n",
       "       [0.        , 0.        , 0.        , ..., 0.95123053, 0.974336  ,\n",
       "        0.9925561 ],\n",
       "       ...,\n",
       "       [0.        , 0.        , 0.        , ..., 0.95123053, 0.974336  ,\n",
       "        0.9925561 ],\n",
       "       [0.        , 0.        , 0.        , ..., 0.95123053, 0.974336  ,\n",
       "        0.9925561 ],\n",
       "       [0.        , 0.        , 0.        , ..., 0.95123053, 0.974336  ,\n",
       "        0.9925561 ]])"
      ]
     },
     "execution_count": 250,
     "metadata": {},
     "output_type": "execute_result"
    }
   ],
   "source": [
    "cont_ds_amazon['hybm'].values"
   ]
  },
  {
   "cell_type": "code",
   "execution_count": 210,
   "metadata": {
    "ExecuteTime": {
     "end_time": "2018-04-06T17:04:19.520563Z",
     "start_time": "2018-04-06T17:04:17.631212Z"
    }
   },
   "outputs": [
    {
     "data": {
      "image/png": "[encoded data removed]",
      "text/plain": [
       "<Figure size 432x288 with 2 Axes>"
      ]
     },
     "metadata": {},
     "output_type": "display_data"
    }
   ],
   "source": [
    "fontsize=12\n",
    "fig, ax = mp.subplots(1,1,subplot_kw={'projection':cartopy.crs.PlateCarree()})\n",
    "\n",
    "ax.coastlines()\n",
    "ax.set_extent([lon_lo+23.,lon_hi-2.,lat_lo,lat_hi], crs=cartopy.crs.PlateCarree())\n",
    "\n",
    "contour_plot = ax.contourf(lon_data,lat_data,diff_prect[12,:,:]*1000.*86400., \\\n",
    "            levels=numpy.arange(-3,3.1,0.5), \\\n",
    "            cmap='RdBu', \\\n",
    "            extend='both')\n",
    "\n",
    "cbar = mp.colorbar(contour_plot)\n",
    "cbar.ax.tick_params(labelsize=fontsize)"
   ]
  },
  {
   "cell_type": "code",
   "execution_count": 199,
   "metadata": {
    "ExecuteTime": {
     "end_time": "2018-04-06T16:39:45.097120Z",
     "start_time": "2018-04-06T16:39:44.764035Z"
    }
   },
   "outputs": [
    {
     "data": {
      "image/png": "[encoded data removed]",
      "text/plain": [
       "<Figure size 432x288 with 2 Axes>"
      ]
     },
     "metadata": {},
     "output_type": "display_data"
    }
   ],
   "source": [
    "fig, ax = mp.subplots(1,1,subplot_kw={'projection':cartopy.crs.PlateCarree()})\n",
    "\n",
    "ax.coastlines()\n",
    "ax.set_extent([lon_lo+23.,lon_hi-2.,lat_lo,lat_hi], crs=cartopy.crs.PlateCarree())\n",
    "\n",
    "contour_plot = ax.contourf(lon_data,lat_data,diff_tmq_time_mean_day1, \\\n",
    "            #levels=numpy.arange(-1,1.1,0.2), \\\n",
    "            cmap='RdBu', \\\n",
    "            extend='both')\n",
    "\n",
    "cbar = mp.colorbar(contour_plot)\n",
    "cbar.ax.tick_params(labelsize=fontsize)\n"
   ]
  },
  {
   "cell_type": "code",
   "execution_count": null,
   "metadata": {},
   "outputs": [],
   "source": []
  },
  {
   "cell_type": "code",
   "execution_count": null,
   "metadata": {},
   "outputs": [],
   "source": []
  }
 ],
 "metadata": {
  "kernelspec": {
   "display_name": "Python 3",
   "language": "python",
   "name": "python3"
  },
  "language_info": {
   "codemirror_mode": {
    "name": "ipython",
    "version": 3
   },
   "file_extension": ".py",
   "mimetype": "text/x-python",
   "name": "python",
   "nbconvert_exporter": "python",
   "pygments_lexer": "ipython3",
   "version": "3.6.4"
  }
 },
 "nbformat": 4,
 "nbformat_minor": 2
}
