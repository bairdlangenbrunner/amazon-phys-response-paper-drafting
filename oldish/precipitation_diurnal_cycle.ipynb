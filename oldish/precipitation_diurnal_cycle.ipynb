{
 "cells": [
  {
   "cell_type": "code",
   "execution_count": 1,
   "metadata": {},
   "outputs": [],
   "source": [
    "import numpy\n",
    "import netCDF4\n",
    "import matplotlib\n",
    "import matplotlib.pyplot as mp\n",
    "import datetime\n",
    "\n",
    "import mpl_toolkits\n",
    "import cartopy\n",
    "\n",
    "degree_sign = u'\\u00B0'\n",
    "\n",
    "% matplotlib inline"
   ]
  },
  {
   "cell_type": "code",
   "execution_count": 2,
   "metadata": {},
   "outputs": [],
   "source": [
    "run_info = 'FMAASO'"
   ]
  },
  {
   "cell_type": "code",
   "execution_count": 2,
   "metadata": {},
   "outputs": [],
   "source": [
    "xlat_ncfile_name = '/Users/baird/Dropbox/_data_WRF/CHEYENNE/FMAASO/1000/concat_nc_files/wrfout_d01_1979-01-01_00:00:00_XLAT.nc'\n",
    "xlong_ncfile_name = '/Users/baird/Dropbox/_data_WRF/CHEYENNE/FMAASO/1000/concat_nc_files/wrfout_d01_1979-01-01_00:00:00_XLONG.nc'\n",
    "landmask_ncfile_name = '/Users/baird/Dropbox/_data_WRF/CHEYENNE/FMAASO/1000/concat_nc_files/wrfout_d01_1979-01-01_00:00:00_LANDMASK.nc'\n",
    "times_ncfile_name = '/Users/baird/Dropbox/_data_WRF/CHEYENNE/FMAASO/1000/concat_nc_files/wrfout_d01_1979-01-01_00:00:00_1979-01-11_00:00:00_Times_ens_mean.nc'"
   ]
  },
  {
   "cell_type": "markdown",
   "metadata": {},
   "source": [
    "# FMAASO 400 DATA"
   ]
  },
  {
   "cell_type": "code",
   "execution_count": 3,
   "metadata": {},
   "outputs": [],
   "source": [
    "data_dir = '/Users/baird/Dropbox/_data_WRF/CHEYENNE/FMAASO/400/concat_nc_files/'\n",
    "filename_prefix = 'wrfout_d01_1979-01-01_00:00:00_1979-01-11_00:00:00_'\n",
    "filename_suffix = '_ens_mean.nc'\n",
    "\n",
    "time_ncfile = netCDF4.Dataset(times_ncfile_name)\n",
    "xlat_ncfile = netCDF4.Dataset(xlat_ncfile_name)\n",
    "xlong_ncfile = netCDF4.Dataset(xlong_ncfile_name)\n",
    "landmask_ncfile = netCDF4.Dataset(landmask_ncfile_name)\n",
    "\n",
    "lh_ncfile = netCDF4.Dataset(data_dir + filename_prefix + 'LH' + filename_suffix)\n",
    "rainc_ncfile = netCDF4.Dataset(data_dir + filename_prefix + 'RAINC' + filename_suffix)\n",
    "rainnc_ncfile = netCDF4.Dataset(data_dir + filename_prefix + 'RAINNC' + filename_suffix)\n",
    "t2_ncfile = netCDF4.Dataset(data_dir + filename_prefix + 'T2' + filename_suffix)\n",
    "qfx_ncfile = netCDF4.Dataset(data_dir + filename_prefix + 'QFX' + filename_suffix)\n",
    "\n",
    "ecan_ncfile = netCDF4.Dataset(data_dir + filename_prefix + 'ECAN' + filename_suffix)\n",
    "edir_ncfile = netCDF4.Dataset(data_dir + filename_prefix + 'EDIR' + filename_suffix)\n",
    "etran_ncfile = netCDF4.Dataset(data_dir + filename_prefix + 'ETRAN' + filename_suffix)"
   ]
  },
  {
   "cell_type": "code",
   "execution_count": 4,
   "metadata": {},
   "outputs": [],
   "source": [
    "time_var = time_ncfile.variables['Times']\n",
    "time = time_ncfile.variables['Times'][:]\n",
    "xlat = xlat_ncfile.variables['XLAT'][0,:,:]\n",
    "xlong = xlong_ncfile.variables['XLONG'][0,:,:]\n",
    "landmask = landmask_ncfile.variables['LANDMASK'][0,:,:]\n",
    "\n",
    "# lh_400 = lh_ncfile.variables['LH'][:]\n",
    "rainc_400 = rainc_ncfile.variables['RAINC'][:]\n",
    "rainnc_400 = rainnc_ncfile.variables['RAINNC'][:]\n",
    "# qfx_400 = qfx_ncfile.variables['QFX'][:]*86400.\n",
    "# t2_400 = t2_ncfile.variables['T2'][:]\n",
    "\n",
    "# ecan_400 = ecan_ncfile.variables['ECAN'][:]*86400.\n",
    "# edir_400 = edir_ncfile.variables['EDIR'][:]*86400.\n",
    "# etran_400 = etran_ncfile.variables['ETRAN'][:]*86400."
   ]
  },
  {
   "cell_type": "markdown",
   "metadata": {},
   "source": [
    "# FMAASO 1000 data"
   ]
  },
  {
   "cell_type": "code",
   "execution_count": 5,
   "metadata": {},
   "outputs": [],
   "source": [
    "data_dir = '/Users/baird/Dropbox/_data_WRF/CHEYENNE/FMAASO/1000/concat_nc_files/'\n",
    "filename_prefix = 'wrfout_d01_1979-01-01_00:00:00_1979-01-11_00:00:00_'\n",
    "filename_suffix = '_ens_mean.nc'\n",
    "\n",
    "time_ncfile = netCDF4.Dataset(times_ncfile_name)\n",
    "xlat_ncfile = netCDF4.Dataset(xlat_ncfile_name)\n",
    "xlong_ncfile = netCDF4.Dataset(xlong_ncfile_name)\n",
    "landmask_ncfile = netCDF4.Dataset(landmask_ncfile_name)\n",
    "\n",
    "lh_ncfile = netCDF4.Dataset(data_dir + filename_prefix + 'LH' + filename_suffix)\n",
    "rainc_ncfile = netCDF4.Dataset(data_dir + filename_prefix + 'RAINC' + filename_suffix)\n",
    "rainnc_ncfile = netCDF4.Dataset(data_dir + filename_prefix + 'RAINNC' + filename_suffix)\n",
    "t2_ncfile = netCDF4.Dataset(data_dir + filename_prefix + 'T2' + filename_suffix)\n",
    "qfx_ncfile = netCDF4.Dataset(data_dir + filename_prefix + 'QFX' + filename_suffix)\n",
    "\n",
    "ecan_ncfile = netCDF4.Dataset(data_dir + filename_prefix + 'ECAN' + filename_suffix)\n",
    "edir_ncfile = netCDF4.Dataset(data_dir + filename_prefix + 'EDIR' + filename_suffix)\n",
    "etran_ncfile = netCDF4.Dataset(data_dir + filename_prefix + 'ETRAN' + filename_suffix)"
   ]
  },
  {
   "cell_type": "code",
   "execution_count": 6,
   "metadata": {},
   "outputs": [],
   "source": [
    "time_var_1000 = time_ncfile.variables['Times']\n",
    "time_1000 = time_ncfile.variables['Times'][:]\n",
    "xlat = xlat_ncfile.variables['XLAT'][0,:,:]\n",
    "xlong = xlong_ncfile.variables['XLONG'][0,:,:]\n",
    "landmask = landmask_ncfile.variables['LANDMASK'][0,:,:]\n",
    "\n",
    "# lh_1000 = lh_ncfile.variables['LH'][:]\n",
    "rainc_1000 = rainc_ncfile.variables['RAINC'][:]\n",
    "rainnc_1000 = rainnc_ncfile.variables['RAINNC'][:]\n",
    "# qfx_1000 = qfx_ncfile.variables['QFX'][:]*86400.\n",
    "# t2_1000 = t2_ncfile.variables['T2'][:]\n",
    "\n",
    "# ecan_1000 = ecan_ncfile.variables['ECAN'][:]*86400.\n",
    "# edir_1000 = edir_ncfile.variables['EDIR'][:]*86400.\n",
    "# etran_1000 = etran_ncfile.variables['ETRAN'][:]*86400."
   ]
  },
  {
   "cell_type": "code",
   "execution_count": 77,
   "metadata": {},
   "outputs": [],
   "source": [
    "geo_em_ncfile = netCDF4.Dataset('/Users/baird/Dropbox/_data_WRF/geo_em.d01_amazon_50km.nc')\n",
    "lu_index = geo_em_ncfile.variables['LU_INDEX'][0,:,:]"
   ]
  },
  {
   "cell_type": "code",
   "execution_count": 79,
   "metadata": {},
   "outputs": [
    {
     "data": {
      "text/plain": [
       "<matplotlib.contour.QuadContourSet at 0x1684ae390>"
      ]
     },
     "execution_count": 79,
     "metadata": {},
     "output_type": "execute_result"
    },
    {
     "data": {
      "image/png": "[encoded data removed]",
      "text/plain": [
       "<matplotlib.figure.Figure at 0x16856c400>"
      ]
     },
     "metadata": {},
     "output_type": "display_data"
    }
   ],
   "source": [
    "mp.contourf(lu_index==2)"
   ]
  },
  {
   "cell_type": "code",
   "execution_count": 4,
   "metadata": {},
   "outputs": [],
   "source": [
    "time_var = time_ncfile.variables['Times']\n",
    "time = time_ncfile.variables['Times'][:]\n",
    "xlat = xlat_ncfile.variables['XLAT'][0,:,:]\n",
    "xlong = xlong_ncfile.variables['XLONG'][0,:,:]\n",
    "landmask = landmask_ncfile.variables['LANDMASK'][0,:,:]\n",
    "\n",
    "rainc_400 = rainc_ncfile.variables['RAINC'][:]\n",
    "rainnc_400 = rainnc_ncfile.variables['RAINNC'][:]"
   ]
  },
  {
   "cell_type": "markdown",
   "metadata": {},
   "source": [
    "# import 031 data"
   ]
  },
  {
   "cell_type": "code",
   "execution_count": 5,
   "metadata": {},
   "outputs": [],
   "source": [
    "data_dir = '/Users/baird/Dropbox/_data_WRF/031.co2_1000.idealized.50km.noahmp.1hr.stoch.ensemble/concat_nc_files/'\n",
    "filename_prefix = 'wrfout_d01_ens_mean_001_010'\n",
    "\n",
    "time_ncfile = netCDF4.Dataset(data_dir + filename_prefix + '_' + 'Times' + '.nc')\n",
    "rainc_ncfile = netCDF4.Dataset(data_dir + filename_prefix + '_' + 'RAINC' + '.nc')\n",
    "rainnc_ncfile = netCDF4.Dataset(data_dir + filename_prefix + '_' + 'RAINNC' + '.nc')"
   ]
  },
  {
   "cell_type": "code",
   "execution_count": 6,
   "metadata": {},
   "outputs": [],
   "source": [
    "time_var_1000 = time_ncfile.variables['Times']\n",
    "time_1000 = time_ncfile.variables['Times'][:]\n",
    "xlat = xlat_ncfile.variables['XLAT'][0,:,:]\n",
    "xlong = xlong_ncfile.variables['XLONG'][0,:,:]\n",
    "landmask = landmask_ncfile.variables['LANDMASK'][0,:,:]\n",
    "rainc_1000 = rainc_ncfile.variables['RAINC'][:]\n",
    "rainnc_1000 = rainnc_ncfile.variables['RAINNC'][:]"
   ]
  },
  {
   "cell_type": "markdown",
   "metadata": {},
   "source": [
    "# get time stamps"
   ]
  },
  {
   "cell_type": "code",
   "execution_count": 7,
   "metadata": {},
   "outputs": [],
   "source": [
    "time_datetimes = numpy.zeros(time.shape[0], dtype=object)\n",
    "for t in range(time.shape[0]):\n",
    "    time_string = ''.join([i.decode('utf-8') for i in time[t,:]])\n",
    "    year,month,day = time_string.split('_')[0].split('-')\n",
    "    hour,minute,second = time_string.split('_')[1].split(':')\n",
    "    time_datetimes[t] = datetime.datetime(int(year),int(month),int(day),int(hour),int(second),int(minute))"
   ]
  },
  {
   "cell_type": "code",
   "execution_count": 8,
   "metadata": {},
   "outputs": [],
   "source": [
    "skip_time = 24\n",
    "n_intervals = 8\n",
    "hour_strings = ['00','03','06','09','12','15','18','21']\n",
    "\n",
    "times_00 = [t.hour in [22,23,0] for t in time_datetimes[skip_time:]]\n",
    "times_03 = [t.hour in [1,2,3] for t in time_datetimes[skip_time:]]\n",
    "times_06 = [t.hour in [4,5,6] for t in time_datetimes[skip_time:]]\n",
    "times_09 = [t.hour in [7,8,9] for t in time_datetimes[skip_time:]]\n",
    "times_12 = [t.hour in [10,11,12] for t in time_datetimes[skip_time:]]\n",
    "times_15 = [t.hour in [13,14,15] for t in time_datetimes[skip_time:]]\n",
    "times_18 = [t.hour in [16,17,18] for t in time_datetimes[skip_time:]]\n",
    "times_21 = [t.hour in [19,20,21] for t in time_datetimes[skip_time:]]"
   ]
  },
  {
   "cell_type": "code",
   "execution_count": 48,
   "metadata": {},
   "outputs": [],
   "source": [
    "# SET ALL OCEAN GRID POINTS EQUAL TO NAN\n",
    "rainc_400_landmask = numpy.copy(rainc_400)\n",
    "rainc_400_landmask[:,landmask==0] = numpy.nan\n",
    "\n",
    "rainc_1000_landmask = numpy.copy(rainc_1000)\n",
    "rainc_1000_landmask[:,landmask==0] = numpy.nan\n",
    "\n",
    "rainnc_400_landmask = numpy.copy(rainnc_400)\n",
    "rainnc_400_landmask[:,landmask==0] = numpy.nan\n",
    "\n",
    "rainnc_1000_landmask = numpy.copy(rainnc_1000)\n",
    "rainnc_1000_landmask[:,landmask==0] = numpy.nan"
   ]
  },
  {
   "cell_type": "markdown",
   "metadata": {},
   "source": [
    "# RAINC differences"
   ]
  },
  {
   "cell_type": "code",
   "execution_count": 49,
   "metadata": {},
   "outputs": [],
   "source": [
    "rainc_400_diff = numpy.zeros((rainc_400_landmask.shape))*numpy.nan\n",
    "rainc_400_diff[:-1,:,:] = numpy.diff(rainc_400_landmask, axis=0)#*(24./3) # convert to mm/day\n",
    "\n",
    "rainc_1000_diff = numpy.zeros((rainc_1000_landmask.shape))*numpy.nan\n",
    "rainc_1000_diff[:-1,:,:] = numpy.diff(rainc_1000_landmask, axis=0)#*(24./3) # convert to mm/day"
   ]
  },
  {
   "cell_type": "markdown",
   "metadata": {},
   "source": [
    "# RAINNC differences"
   ]
  },
  {
   "cell_type": "code",
   "execution_count": 51,
   "metadata": {},
   "outputs": [],
   "source": [
    "rainnc_400_diff = numpy.zeros((rainnc_400_landmask.shape))*numpy.nan\n",
    "rainnc_400_diff[:-1,:,:] = numpy.diff(rainnc_400_landmask, axis=0)#*(24.) # convert to mm/day\n",
    "\n",
    "rainnc_1000_diff = numpy.zeros((rainnc_1000_landmask.shape))*numpy.nan\n",
    "rainnc_1000_diff[:-1,:,:] = numpy.diff(rainnc_1000_landmask, axis=0)#*(24.) # convert to mm/day"
   ]
  },
  {
   "cell_type": "markdown",
   "metadata": {},
   "source": [
    "# RAINTOT differences"
   ]
  },
  {
   "cell_type": "code",
   "execution_count": 52,
   "metadata": {},
   "outputs": [],
   "source": [
    "raintot_400 = (rainc_400_diff+rainnc_400_diff) * 24.\n",
    "raintot_1000 = (rainc_1000_diff+rainnc_1000_diff) * 24."
   ]
  },
  {
   "cell_type": "markdown",
   "metadata": {},
   "source": [
    "# lat lon range"
   ]
  },
  {
   "cell_type": "code",
   "execution_count": 62,
   "metadata": {},
   "outputs": [],
   "source": [
    "# PULL OUT LONGITUDINAL AND LATITUDINAL RANGE\n",
    "lon_hi = -35.\n",
    "lon_lo = -60.\n",
    "lat_lo = -10.\n",
    "lat_hi = 10.\n",
    "\n",
    "xlat_indices = numpy.array((xlat>=lat_lo) & (xlat<=lat_hi), dtype=bool)\n",
    "xlong_indices = numpy.array((xlong>=lon_lo) & (xlong<=lon_hi), dtype=bool)\n",
    "xlat_subset = xlat[xlat_indices[:,0],:]\n",
    "xlat_subset = xlat_subset[:,xlong_indices[0,:]]\n",
    "xlong_subset = xlong[xlat_indices[:,0],:]\n",
    "xlong_subset = xlong_subset[:,xlong_indices[0,:]]"
   ]
  },
  {
   "cell_type": "code",
   "execution_count": 63,
   "metadata": {},
   "outputs": [],
   "source": [
    "raintot_400_region = raintot_400[:,xlat_indices[:,0],:]\n",
    "raintot_400_region = raintot_400_region[:,:,xlong_indices[0,:]]\n",
    "\n",
    "raintot_1000_region = raintot_1000[:,xlat_indices[:,0],:]\n",
    "raintot_1000_region = raintot_1000_region[:,:,xlong_indices[0,:]]"
   ]
  },
  {
   "cell_type": "code",
   "execution_count": 64,
   "metadata": {},
   "outputs": [
    {
     "name": "stderr",
     "output_type": "stream",
     "text": [
      "/Users/baird/anaconda/lib/python3.6/site-packages/ipykernel_launcher.py:1: RuntimeWarning: Mean of empty slice\n",
      "  \"\"\"Entry point for launching an IPython kernel.\n",
      "/Users/baird/anaconda/lib/python3.6/site-packages/ipykernel_launcher.py:2: RuntimeWarning: Mean of empty slice\n",
      "  \n"
     ]
    }
   ],
   "source": [
    "raintot_400_space_mean = numpy.nanmean(raintot_400_region, axis=(1,2))\n",
    "raintot_1000_space_mean = numpy.nanmean(raintot_1000_region, axis=(1,2))"
   ]
  },
  {
   "cell_type": "markdown",
   "metadata": {},
   "source": [
    "# calculate hourly means"
   ]
  },
  {
   "cell_type": "code",
   "execution_count": 65,
   "metadata": {},
   "outputs": [
    {
     "name": "stdout",
     "output_type": "stream",
     "text": [
      "(241,)\n"
     ]
    }
   ],
   "source": [
    "print(time_datetimes.shape)"
   ]
  },
  {
   "cell_type": "code",
   "execution_count": null,
   "metadata": {},
   "outputs": [],
   "source": []
  },
  {
   "cell_type": "code",
   "execution_count": 66,
   "metadata": {},
   "outputs": [],
   "source": [
    "raintot_hourly_means_400 = []\n",
    "raintot_hourly_means_1000 = []\n",
    "for hour in range(0,24):\n",
    "    hour_indices = [t.hour==hour for t in time_datetimes]\n",
    "    raintot_hourly_means_400.append(numpy.nanmean(raintot_400_space_mean[hour_indices]))\n",
    "    raintot_hourly_means_1000.append(numpy.nanmean(raintot_1000_space_mean[hour_indices]))"
   ]
  },
  {
   "cell_type": "code",
   "execution_count": 67,
   "metadata": {},
   "outputs": [
    {
     "data": {
      "text/plain": [
       "<matplotlib.legend.Legend at 0x16875cda0>"
      ]
     },
     "execution_count": 67,
     "metadata": {},
     "output_type": "execute_result"
    },
    {
     "data": {
      "image/png": "[encoded data removed]",
      "text/plain": [
       "<matplotlib.figure.Figure at 0x168992208>"
      ]
     },
     "metadata": {},
     "output_type": "display_data"
    }
   ],
   "source": [
    "fontsize=12\n",
    "fig,ax = mp.subplots()\n",
    "fig.set_size_inches(5,4)\n",
    "\n",
    "ax.plot(raintot_hourly_means_400, label='400 ppm', c='0.1')\n",
    "ax.plot(raintot_hourly_means_1000, label='1000 ppm', c='firebrick')\n",
    "\n",
    "ax.set_xlabel('hour of day (UTC)', fontsize=fontsize)\n",
    "ax.set_ylabel('precipitation (mm/day)', fontsize=fontsize)\n",
    "ax.tick_params(labelsize=fontsize)\n",
    "\n",
    "handles, labels = ax.get_legend_handles_labels()\n",
    "ax.legend(handles, labels, fontsize=fontsize, scatterpoints=1, ncol=1, bbox_to_anchor=(0.01,0.99), bbox_transform=ax.transAxes, loc='upper left', borderaxespad=0, labelspacing=0.25, fancybox=False, edgecolor='0', framealpha=0, borderpad=0.25, columnspacing=0.5, handletextpad=0.25, markerscale=1)"
   ]
  },
  {
   "cell_type": "code",
   "execution_count": 71,
   "metadata": {},
   "outputs": [],
   "source": [
    "fractional_diff = (numpy.array((raintot_hourly_means_1000))-numpy.array((raintot_hourly_means_400)))/numpy.array((raintot_hourly_means_400))"
   ]
  },
  {
   "cell_type": "code",
   "execution_count": 73,
   "metadata": {},
   "outputs": [
    {
     "data": {
      "text/plain": [
       "-0.12209161031371302"
      ]
     },
     "execution_count": 73,
     "metadata": {},
     "output_type": "execute_result"
    }
   ],
   "source": [
    "fractional_diff.mean()"
   ]
  },
  {
   "cell_type": "code",
   "execution_count": null,
   "metadata": {},
   "outputs": [],
   "source": []
  }
 ],
 "metadata": {
  "kernelspec": {
   "display_name": "Python 3",
   "language": "python",
   "name": "python3"
  },
  "language_info": {
   "codemirror_mode": {
    "name": "ipython",
    "version": 3
   },
   "file_extension": ".py",
   "mimetype": "text/x-python",
   "name": "python",
   "nbconvert_exporter": "python",
   "pygments_lexer": "ipython3",
   "version": "3.6.3"
  }
 },
 "nbformat": 4,
 "nbformat_minor": 2
}
