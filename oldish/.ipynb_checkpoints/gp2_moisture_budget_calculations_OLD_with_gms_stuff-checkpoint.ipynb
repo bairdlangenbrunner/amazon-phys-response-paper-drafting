{
 "cells": [
  {
   "cell_type": "code",
   "execution_count": 2,
   "metadata": {
    "ExecuteTime": {
     "end_time": "2018-04-19T00:36:53.918487Z",
     "start_time": "2018-04-19T00:36:50.087668Z"
    }
   },
   "outputs": [],
   "source": [
    "import numpy\n",
    "import xarray\n",
    "import matplotlib\n",
    "import matplotlib.pyplot as mp\n",
    "import datetime\n",
    "import matplotlib.colors\n",
    "import scipy.stats\n",
    "import itertools\n",
    "import string\n",
    "import matplotlib.patches\n",
    "import glob\n",
    "\n",
    "import wrf\n",
    "import netCDF4\n",
    "\n",
    "import pandas\n",
    "\n",
    "import matplotlib.ticker\n",
    "import cartopy.mpl.gridliner #import LONGITUDE_FORMATTER, LATITUDE_FORMATTER\n",
    "\n",
    "import mpl_toolkits\n",
    "import cartopy\n",
    "\n",
    "DEGREE_SIGN = u'\\u00B0'\n",
    "mp.rcParams.update({'mathtext.default': 'regular'})\n",
    "\n",
    "% matplotlib inline"
   ]
  },
  {
   "cell_type": "code",
   "execution_count": 3,
   "metadata": {
    "ExecuteTime": {
     "end_time": "2018-04-19T00:36:53.926137Z",
     "start_time": "2018-04-19T00:36:53.922350Z"
    }
   },
   "outputs": [],
   "source": [
    "run_info = 'FMAASO'\n",
    "skip_time=0"
   ]
  },
  {
   "cell_type": "markdown",
   "metadata": {},
   "source": [
    "# opening mean fields"
   ]
  },
  {
   "cell_type": "markdown",
   "metadata": {},
   "source": [
    "## control data"
   ]
  },
  {
   "cell_type": "code",
   "execution_count": 4,
   "metadata": {
    "ExecuteTime": {
     "end_time": "2018-04-19T00:36:59.585638Z",
     "start_time": "2018-04-19T00:36:53.928879Z"
    }
   },
   "outputs": [],
   "source": [
    "root_dir = '/beegfs/DATA/pritchard/blangenb/WRF_ARCHIVE/CHEYENNE/FMAASO/400/ens_mean_wrfout_files'\n",
    "cont_mfds = xarray.open_mfdataset(root_dir + '/' + 'wrfout*.nc')"
   ]
  },
  {
   "cell_type": "code",
   "execution_count": 5,
   "metadata": {
    "ExecuteTime": {
     "end_time": "2018-04-19T00:37:19.178037Z",
     "start_time": "2018-04-19T00:36:59.588005Z"
    }
   },
   "outputs": [],
   "source": [
    "cont_p = cont_mfds['P']\n",
    "cont_pb = cont_mfds['PB']\n",
    "cont_ptot = cont_p + cont_pb"
   ]
  },
  {
   "cell_type": "code",
   "execution_count": 6,
   "metadata": {
    "ExecuteTime": {
     "end_time": "2018-04-19T00:37:19.188004Z",
     "start_time": "2018-04-19T00:37:19.181107Z"
    }
   },
   "outputs": [],
   "source": [
    "cont_qvapor = cont_mfds['QVAPOR']\n",
    "cont_u = cont_mfds['U']\n",
    "cont_v = cont_mfds['V']\n",
    "cont_w = cont_mfds['W']"
   ]
  },
  {
   "cell_type": "code",
   "execution_count": 7,
   "metadata": {
    "ExecuteTime": {
     "end_time": "2018-04-19T00:37:19.365006Z",
     "start_time": "2018-04-19T00:37:19.190767Z"
    }
   },
   "outputs": [],
   "source": [
    "file_list = glob.glob(root_dir+'/'+'wrfout*.nc')\n",
    "ds_list = [netCDF4.Dataset(file) for file in file_list]"
   ]
  },
  {
   "cell_type": "code",
   "execution_count": 8,
   "metadata": {
    "ExecuteTime": {
     "end_time": "2018-04-19T00:41:06.445806Z",
     "start_time": "2018-04-19T00:37:19.367000Z"
    }
   },
   "outputs": [],
   "source": [
    "cont_ua = wrf.getvar(ds_list, 'ua', timeidx=wrf.ALL_TIMES)"
   ]
  },
  {
   "cell_type": "code",
   "execution_count": 9,
   "metadata": {
    "ExecuteTime": {
     "end_time": "2018-04-19T00:43:08.395810Z",
     "start_time": "2018-04-19T00:41:06.448044Z"
    }
   },
   "outputs": [],
   "source": [
    "cont_va = wrf.getvar(ds_list, 'va', timeidx=wrf.ALL_TIMES)"
   ]
  },
  {
   "cell_type": "code",
   "execution_count": 10,
   "metadata": {
    "ExecuteTime": {
     "end_time": "2018-04-19T00:43:08.401959Z",
     "start_time": "2018-04-19T00:43:08.398364Z"
    }
   },
   "outputs": [],
   "source": [
    "cont_qcloud = cont_mfds['QCLOUD']"
   ]
  },
  {
   "cell_type": "code",
   "execution_count": 11,
   "metadata": {
    "ExecuteTime": {
     "end_time": "2018-04-19T00:43:08.501761Z",
     "start_time": "2018-04-19T00:43:08.403676Z"
    }
   },
   "outputs": [],
   "source": [
    "cont_qrain = cont_mfds['QRAIN']"
   ]
  },
  {
   "cell_type": "code",
   "execution_count": 12,
   "metadata": {
    "ExecuteTime": {
     "end_time": "2018-04-19T00:43:09.474467Z",
     "start_time": "2018-04-19T00:43:08.504656Z"
    }
   },
   "outputs": [],
   "source": [
    "xlong = cont_mfds['XLONG'].values[0,:,:]\n",
    "xlat = cont_mfds['XLAT'].values[0,:,:]"
   ]
  },
  {
   "cell_type": "markdown",
   "metadata": {},
   "source": [
    "## phys data"
   ]
  },
  {
   "cell_type": "code",
   "execution_count": 13,
   "metadata": {
    "ExecuteTime": {
     "end_time": "2018-04-19T00:43:15.808340Z",
     "start_time": "2018-04-19T00:43:09.477349Z"
    }
   },
   "outputs": [],
   "source": [
    "root_dir = '/beegfs/DATA/pritchard/blangenb/WRF_ARCHIVE/CHEYENNE/FMAASO/1000/ens_mean_wrfout_files'\n",
    "phys_mfds = xarray.open_mfdataset(root_dir + '/' + 'wrfout*.nc')"
   ]
  },
  {
   "cell_type": "code",
   "execution_count": 14,
   "metadata": {
    "ExecuteTime": {
     "end_time": "2018-04-19T00:43:37.640789Z",
     "start_time": "2018-04-19T00:43:15.810474Z"
    }
   },
   "outputs": [],
   "source": [
    "phys_p = phys_mfds['P']\n",
    "phys_pb = phys_mfds['PB']\n",
    "phys_ptot = phys_p + phys_pb"
   ]
  },
  {
   "cell_type": "code",
   "execution_count": 15,
   "metadata": {
    "ExecuteTime": {
     "end_time": "2018-04-19T00:45:41.835580Z",
     "start_time": "2018-04-19T00:43:37.643818Z"
    }
   },
   "outputs": [],
   "source": [
    "phys_p = phys_p.values"
   ]
  },
  {
   "cell_type": "code",
   "execution_count": 16,
   "metadata": {
    "ExecuteTime": {
     "end_time": "2018-04-19T00:45:41.841750Z",
     "start_time": "2018-04-19T00:45:41.837485Z"
    }
   },
   "outputs": [],
   "source": [
    "phys_qvapor = phys_mfds['QVAPOR']\n",
    "phys_u = phys_mfds['U']\n",
    "phys_v = phys_mfds['V']\n",
    "phys_w = phys_mfds['W']"
   ]
  },
  {
   "cell_type": "code",
   "execution_count": 17,
   "metadata": {
    "ExecuteTime": {
     "end_time": "2018-04-19T00:45:41.989646Z",
     "start_time": "2018-04-19T00:45:41.844631Z"
    }
   },
   "outputs": [],
   "source": [
    "file_list = glob.glob(root_dir+'/'+'wrfout*.nc')\n",
    "ds_list = [netCDF4.Dataset(file) for file in file_list]"
   ]
  },
  {
   "cell_type": "code",
   "execution_count": 18,
   "metadata": {
    "ExecuteTime": {
     "end_time": "2018-04-19T00:47:49.822705Z",
     "start_time": "2018-04-19T00:45:41.991403Z"
    }
   },
   "outputs": [],
   "source": [
    "phys_ua = wrf.getvar(ds_list, 'ua', timeidx=wrf.ALL_TIMES)"
   ]
  },
  {
   "cell_type": "code",
   "execution_count": 19,
   "metadata": {
    "ExecuteTime": {
     "end_time": "2018-04-19T00:49:44.571616Z",
     "start_time": "2018-04-19T00:47:49.824754Z"
    }
   },
   "outputs": [],
   "source": [
    "phys_va = wrf.getvar(ds_list, 'va', timeidx=wrf.ALL_TIMES)"
   ]
  },
  {
   "cell_type": "code",
   "execution_count": 20,
   "metadata": {
    "ExecuteTime": {
     "end_time": "2018-04-19T00:49:44.576742Z",
     "start_time": "2018-04-19T00:49:44.573862Z"
    }
   },
   "outputs": [],
   "source": [
    "phys_qcloud = phys_mfds['QCLOUD']"
   ]
  },
  {
   "cell_type": "code",
   "execution_count": 21,
   "metadata": {
    "ExecuteTime": {
     "end_time": "2018-04-19T00:49:44.666298Z",
     "start_time": "2018-04-19T00:49:44.578422Z"
    }
   },
   "outputs": [],
   "source": [
    "phys_qrain = phys_mfds['QRAIN']"
   ]
  },
  {
   "cell_type": "markdown",
   "metadata": {},
   "source": [
    "## example of longwave upward radiation at model top, converted to J/kg"
   ]
  },
  {
   "cell_type": "raw",
   "metadata": {
    "ExecuteTime": {
     "end_time": "2018-04-11T02:33:18.475157Z",
     "start_time": "2018-04-11T02:33:08.628Z"
    }
   },
   "source": [
    "phys_aclwupt_diff = phys_aclwupt.diff(dim='Time')/3600."
   ]
  },
  {
   "cell_type": "markdown",
   "metadata": {},
   "source": [
    "## calculate omega at midpoints"
   ]
  },
  {
   "cell_type": "raw",
   "metadata": {
    "ExecuteTime": {
     "end_time": "2018-04-16T21:12:38.822097Z",
     "start_time": "2018-04-16T21:12:37.718783Z"
    }
   },
   "source": [
    "root_dir = '/beegfs/DATA/pritchard/blangenb/WRF_ARCHIVE/CHEYENNE/FMAASO/400/ens_mean_wrfout_files'\n",
    "file_list = [root_dir+'/wrfout_d01_1979-01-'+'{:02d}'.format(day)+'_00:00:00_ens_mean.nc' for day in range(1,12)]\n",
    "dataset_list = [netCDF4.Dataset(file) for file in file_list]"
   ]
  },
  {
   "cell_type": "raw",
   "metadata": {
    "ExecuteTime": {
     "end_time": "2018-04-16T21:17:44.369972Z",
     "start_time": "2018-04-16T21:13:06.767301Z"
    }
   },
   "source": [
    "cont_omega = wrf.getvar(dataset_list, 'omega', timeidx=wrf.ALL_TIMES)"
   ]
  },
  {
   "cell_type": "raw",
   "metadata": {
    "ExecuteTime": {
     "end_time": "2018-04-16T21:18:29.729907Z",
     "start_time": "2018-04-16T21:18:28.834486Z"
    }
   },
   "source": [
    "root_dir = '/beegfs/DATA/pritchard/blangenb/WRF_ARCHIVE/CHEYENNE/FMAASO/1000/ens_mean_wrfout_files'\n",
    "file_list = [root_dir+'/wrfout_d01_1979-01-'+'{:02d}'.format(day)+'_00:00:00_ens_mean.nc' for day in range(1,12)]\n",
    "dataset_list = [netCDF4.Dataset(file) for file in file_list]"
   ]
  },
  {
   "cell_type": "raw",
   "metadata": {
    "ExecuteTime": {
     "end_time": "2018-04-16T21:23:22.307982Z",
     "start_time": "2018-04-16T21:18:45.834677Z"
    }
   },
   "source": [
    "phys_omega = wrf.getvar(dataset_list, 'omega', timeidx=wrf.ALL_TIMES)"
   ]
  },
  {
   "cell_type": "raw",
   "metadata": {
    "ExecuteTime": {
     "end_time": "2018-04-16T21:25:15.545224Z",
     "start_time": "2018-04-16T21:25:09.744320Z"
    }
   },
   "source": [
    "numpy.save('DATA_omega_400.npy', cont_omega)\n",
    "numpy.save('DATA_omega_1000.npy', phys_omega)"
   ]
  },
  {
   "cell_type": "markdown",
   "metadata": {},
   "source": [
    "# take means of pressure and winds below 860 hPa..."
   ]
  },
  {
   "cell_type": "code",
   "execution_count": 22,
   "metadata": {
    "ExecuteTime": {
     "end_time": "2018-04-19T00:49:50.312930Z",
     "start_time": "2018-04-19T00:49:44.668491Z"
    }
   },
   "outputs": [],
   "source": [
    "diff_ptot = phys_ptot-cont_ptot"
   ]
  },
  {
   "cell_type": "code",
   "execution_count": 23,
   "metadata": {
    "ExecuteTime": {
     "end_time": "2018-04-19T00:51:31.303999Z",
     "start_time": "2018-04-19T00:49:50.316084Z"
    }
   },
   "outputs": [],
   "source": [
    "cont_ptot = cont_ptot.values"
   ]
  },
  {
   "cell_type": "code",
   "execution_count": 24,
   "metadata": {
    "ExecuteTime": {
     "end_time": "2018-04-19T00:53:37.983767Z",
     "start_time": "2018-04-19T00:51:31.305928Z"
    }
   },
   "outputs": [],
   "source": [
    "diff_ptot_below860 = numpy.copy(diff_ptot)"
   ]
  },
  {
   "cell_type": "code",
   "execution_count": 25,
   "metadata": {
    "ExecuteTime": {
     "end_time": "2018-04-19T00:53:43.223853Z",
     "start_time": "2018-04-19T00:53:37.985987Z"
    }
   },
   "outputs": [],
   "source": [
    "diff_ua = phys_ua - cont_ua\n",
    "diff_va = phys_va - cont_va"
   ]
  },
  {
   "cell_type": "code",
   "execution_count": 26,
   "metadata": {
    "ExecuteTime": {
     "end_time": "2018-04-19T00:53:45.062248Z",
     "start_time": "2018-04-19T00:53:43.228296Z"
    }
   },
   "outputs": [],
   "source": [
    "diff_ua_below860 = numpy.copy(diff_ua)"
   ]
  },
  {
   "cell_type": "code",
   "execution_count": 27,
   "metadata": {
    "ExecuteTime": {
     "end_time": "2018-04-19T00:53:46.292445Z",
     "start_time": "2018-04-19T00:53:45.064169Z"
    }
   },
   "outputs": [],
   "source": [
    "diff_ua_below900 = numpy.copy(diff_ua)"
   ]
  },
  {
   "cell_type": "code",
   "execution_count": 28,
   "metadata": {
    "ExecuteTime": {
     "end_time": "2018-04-19T00:53:47.633604Z",
     "start_time": "2018-04-19T00:53:46.294440Z"
    }
   },
   "outputs": [],
   "source": [
    "diff_va_below860 = numpy.copy(diff_va)"
   ]
  },
  {
   "cell_type": "code",
   "execution_count": 29,
   "metadata": {
    "ExecuteTime": {
     "end_time": "2018-04-19T00:53:48.683688Z",
     "start_time": "2018-04-19T00:53:47.635642Z"
    }
   },
   "outputs": [],
   "source": [
    "diff_va_below900 = numpy.copy(diff_va)"
   ]
  },
  {
   "cell_type": "code",
   "execution_count": 30,
   "metadata": {
    "ExecuteTime": {
     "end_time": "2018-04-19T00:53:50.209838Z",
     "start_time": "2018-04-19T00:53:48.686063Z"
    }
   },
   "outputs": [],
   "source": [
    "diff_ptot_below860[cont_ptot<86000.] = numpy.nan"
   ]
  },
  {
   "cell_type": "code",
   "execution_count": 31,
   "metadata": {
    "ExecuteTime": {
     "end_time": "2018-04-19T00:53:52.625944Z",
     "start_time": "2018-04-19T00:53:50.212413Z"
    }
   },
   "outputs": [],
   "source": [
    "diff_ua_below860[cont_ptot<86000.] = numpy.nan\n",
    "diff_va_below860[cont_ptot<86000.] = numpy.nan"
   ]
  },
  {
   "cell_type": "code",
   "execution_count": 32,
   "metadata": {
    "ExecuteTime": {
     "end_time": "2018-04-19T00:53:54.778240Z",
     "start_time": "2018-04-19T00:53:52.628029Z"
    }
   },
   "outputs": [],
   "source": [
    "diff_ua_below900[cont_ptot<86000.] = numpy.nan\n",
    "diff_va_below900[cont_ptot<86000.] = numpy.nan"
   ]
  },
  {
   "cell_type": "code",
   "execution_count": 33,
   "metadata": {
    "ExecuteTime": {
     "end_time": "2018-04-19T00:53:58.674724Z",
     "start_time": "2018-04-19T00:53:54.780473Z"
    }
   },
   "outputs": [
    {
     "name": "stderr",
     "output_type": "stream",
     "text": [
      "/export/home/blangenb/anaconda3/lib/python3.6/site-packages/ipykernel_launcher.py:1: RuntimeWarning: Mean of empty slice\n",
      "  \"\"\"Entry point for launching an IPython kernel.\n"
     ]
    }
   ],
   "source": [
    "diff_ptot_below860_vertmean = numpy.nanmean(diff_ptot_below860, axis=1)"
   ]
  },
  {
   "cell_type": "code",
   "execution_count": 34,
   "metadata": {
    "ExecuteTime": {
     "end_time": "2018-04-19T00:54:05.537245Z",
     "start_time": "2018-04-19T00:53:58.676532Z"
    }
   },
   "outputs": [
    {
     "name": "stderr",
     "output_type": "stream",
     "text": [
      "/export/home/blangenb/anaconda3/lib/python3.6/site-packages/ipykernel_launcher.py:1: RuntimeWarning: Mean of empty slice\n",
      "  \"\"\"Entry point for launching an IPython kernel.\n",
      "/export/home/blangenb/anaconda3/lib/python3.6/site-packages/ipykernel_launcher.py:2: RuntimeWarning: Mean of empty slice\n",
      "  \n"
     ]
    }
   ],
   "source": [
    "diff_ua_below860_vertmean = numpy.nanmean(diff_ua_below860, axis=1)\n",
    "diff_va_below860_vertmean = numpy.nanmean(diff_va_below860, axis=1)"
   ]
  },
  {
   "cell_type": "code",
   "execution_count": 35,
   "metadata": {
    "ExecuteTime": {
     "end_time": "2018-04-19T00:54:11.808486Z",
     "start_time": "2018-04-19T00:54:05.539383Z"
    }
   },
   "outputs": [
    {
     "name": "stderr",
     "output_type": "stream",
     "text": [
      "/export/home/blangenb/anaconda3/lib/python3.6/site-packages/ipykernel_launcher.py:1: RuntimeWarning: Mean of empty slice\n",
      "  \"\"\"Entry point for launching an IPython kernel.\n",
      "/export/home/blangenb/anaconda3/lib/python3.6/site-packages/ipykernel_launcher.py:2: RuntimeWarning: Mean of empty slice\n",
      "  \n"
     ]
    }
   ],
   "source": [
    "diff_ua_below900_vertmean = numpy.nanmean(diff_ua_below900, axis=1)\n",
    "diff_va_below900_vertmean = numpy.nanmean(diff_va_below900, axis=1)"
   ]
  },
  {
   "cell_type": "code",
   "execution_count": 37,
   "metadata": {
    "ExecuteTime": {
     "end_time": "2018-04-19T01:05:27.127649Z",
     "start_time": "2018-04-19T01:05:26.778824Z"
    }
   },
   "outputs": [
    {
     "data": {
      "image/png": "[encoded data removed]",
      "text/plain": [
       "<Figure size 360x216 with 1 Axes>"
      ]
     },
     "metadata": {},
     "output_type": "display_data"
    }
   ],
   "source": [
    "fontsize=12\n",
    "lon_offset = 25.\n",
    "\n",
    "diff_levels = numpy.arange(-.15,.151,0.025)\n",
    "\n",
    "every_nth_lat=3\n",
    "every_nth_lon=3\n",
    "quiver_scale = 0.5 # 0.05 for 850-600, 0.1 for below 850\n",
    "quiver_shaft_width = 0.2\n",
    "quiver_key_scale = 3\n",
    "quiver_color = '0.1'\n",
    "quiver_head_length = 3\n",
    "quiver_head_axis_length = quiver_head_length\n",
    "\n",
    "for t in [15]:#range(48):#\n",
    "    \n",
    "    fig = mp.figure(figsize=(5,3))\n",
    "    ax = fig.add_subplot(111, projection=cartopy.crs.PlateCarree())\n",
    "    ax.set_extent([273,329,-30,15], crs=cartopy.crs.PlateCarree())\n",
    "    ax.coastlines(color='0.1')\n",
    "#     contour_plot = ax.pcolormesh(xlong,xlat,diff_ptot_below860_vertmean[t,:,:]/100., \\\n",
    "#                                  #levels=diff_levels, extend='both', \\\n",
    "#                                  vmin=diff_levels.min(),vmax=diff_levels.max(),\\\n",
    "#                                  cmap='RdBu')\n",
    "\n",
    "    quiver_plot = ax.quiver(xlong[::every_nth_lat,::every_nth_lon], \\\n",
    "                            xlat[::every_nth_lat,::every_nth_lon], \\\n",
    "#                             diff_ua_below860_vertmean[t,::every_nth_lat,::every_nth_lon], \\\n",
    "#                             diff_va_below860_vertmean[t,::every_nth_lat,::every_nth_lon], \\\n",
    "                            diff_ua_below900_vertmean[t,::every_nth_lat,::every_nth_lon], \\\n",
    "                            diff_va_below900_vertmean[t,::every_nth_lat,::every_nth_lon], \\\n",
    "                            units='xy', scale=quiver_scale, width=quiver_shaft_width, \\\n",
    "                            color=quiver_color,\\\n",
    "                            headlength=quiver_head_length, \\\n",
    "                            headaxislength=quiver_head_axis_length, \\\n",
    "                            zorder=2)    \n",
    "\n",
    "    ax.text(s=\"$\\Delta$ pressure below 860 hPa\", x=0, y=1.01,\\\n",
    "             ha='left', va='bottom', \\\n",
    "             transform=ax.transAxes, fontsize=fontsize)\n",
    "    ax.text(s='hour '+'{:02d}'.format(t), x=1, y=1.01, \\\n",
    "             ha='right', va='bottom', transform=ax.transAxes, \\\n",
    "             fontsize=fontsize)\n",
    "    \n",
    "    fig.tight_layout()\n",
    "    \n",
    "    #ax.background_patch.set_facecolor('0.5')\n",
    "    \n",
    "    ax_pos = ax.get_position()\n",
    "#     cbar = mp.colorbar(contour_plot)\n",
    "#     cbar.ax.tick_params(labelsize=fontsize)\n",
    "#     cbar.set_label('hPa', fontsize=fontsize)\n",
    "\n",
    "    #fig.savefig('hourly_ptot_below860_change_hour'+ '{:02d}'.format(t)+'.png', dpi=600, bbox_inches='tight', transparent=True)\n",
    "    #mp.close()"
   ]
  },
  {
   "cell_type": "markdown",
   "metadata": {},
   "source": [
    "# calculate wind divergence"
   ]
  },
  {
   "cell_type": "code",
   "execution_count": null,
   "metadata": {
    "ExecuteTime": {
     "start_time": "2018-04-19T01:05:29.041Z"
    }
   },
   "outputs": [],
   "source": [
    "cont_dudx = numpy.diff(cont_u, axis=3)/50000.\n",
    "cont_dvdy = numpy.diff(cont_v, axis=2)/50000."
   ]
  },
  {
   "cell_type": "code",
   "execution_count": null,
   "metadata": {
    "ExecuteTime": {
     "start_time": "2018-04-19T01:05:30.180Z"
    }
   },
   "outputs": [],
   "source": [
    "phys_dudx = numpy.diff(phys_u, axis=3)/50000.\n",
    "phys_dvdy = numpy.diff(phys_v, axis=2)/50000."
   ]
  },
  {
   "cell_type": "code",
   "execution_count": null,
   "metadata": {
    "ExecuteTime": {
     "start_time": "2018-04-19T01:05:32.649Z"
    }
   },
   "outputs": [],
   "source": [
    "diff_dudx = phys_dudx-cont_dudx\n",
    "diff_dvdy = phys_dvdy-cont_dvdy"
   ]
  },
  {
   "cell_type": "code",
   "execution_count": null,
   "metadata": {
    "ExecuteTime": {
     "start_time": "2018-04-19T01:05:32.863Z"
    }
   },
   "outputs": [],
   "source": [
    "diff_dudx_below860 = numpy.copy(diff_dudx)\n",
    "diff_dvdy_below860 = numpy.copy(diff_dvdy)"
   ]
  },
  {
   "cell_type": "code",
   "execution_count": null,
   "metadata": {
    "ExecuteTime": {
     "start_time": "2018-04-19T01:05:33.154Z"
    }
   },
   "outputs": [],
   "source": [
    "diff_dudx_below860[cont_ptot<86000.] = numpy.nan\n",
    "diff_dvdy_below860[cont_ptot<86000.] = numpy.nan"
   ]
  },
  {
   "cell_type": "code",
   "execution_count": null,
   "metadata": {
    "ExecuteTime": {
     "start_time": "2018-04-19T01:05:33.416Z"
    }
   },
   "outputs": [],
   "source": [
    "diff_dudx_below860.shape"
   ]
  },
  {
   "cell_type": "code",
   "execution_count": null,
   "metadata": {
    "ExecuteTime": {
     "start_time": "2018-04-19T01:05:33.652Z"
    }
   },
   "outputs": [],
   "source": [
    "diff_dudx_below860_vertmean = numpy.nanmean(diff_dudx_below860, axis=1)\n",
    "diff_dvdy_below860_vertmean = numpy.nanmean(diff_dvdy_below860, axis=1)"
   ]
  },
  {
   "cell_type": "code",
   "execution_count": null,
   "metadata": {
    "ExecuteTime": {
     "start_time": "2018-04-19T01:05:33.919Z"
    }
   },
   "outputs": [],
   "source": [
    "diff_conv_below860_vertmean = -(diff_dudx_below860_vertmean+diff_dvdy_below860_vertmean)"
   ]
  },
  {
   "cell_type": "code",
   "execution_count": null,
   "metadata": {
    "ExecuteTime": {
     "start_time": "2018-04-19T01:05:34.070Z"
    }
   },
   "outputs": [],
   "source": [
    "fontsize=12\n",
    "lon_offset = 25.\n",
    "\n",
    "diff_levels = numpy.arange(-.15,.151,0.025)\n",
    "\n",
    "every_nth_lat=3\n",
    "every_nth_lon=3\n",
    "quiver_scale = 0.5 # 0.05 for 850-600, 0.1 for below 850\n",
    "quiver_shaft_width = 0.2\n",
    "quiver_key_scale = 3\n",
    "quiver_color = '0.1'\n",
    "quiver_head_length = 3\n",
    "quiver_head_axis_length = quiver_head_length\n",
    "\n",
    "for t in [18]:#range(48):#\n",
    "    \n",
    "    fig = mp.figure(figsize=(5,3))\n",
    "    ax = fig.add_subplot(111, projection=cartopy.crs.PlateCarree())\n",
    "    ax.set_extent([273,329,-30,15], crs=cartopy.crs.PlateCarree())\n",
    "    ax.coastlines(color='0.1')\n",
    "    contour_plot = ax.contourf(xlong,xlat,diff_conv_below860_vertmean[t,:,:], \\\n",
    "                                 #levels=diff_levels, extend='both', \\\n",
    "                                 #vmin=diff_levels.min(),vmax=diff_levels.max(),\\\n",
    "                                 cmap='RdBu')\n",
    "\n",
    "    ax.text(s=\"$\\Delta$ pressure below 860 hPa\", x=0, y=1.01,\\\n",
    "             ha='left', va='bottom', \\\n",
    "             transform=ax.transAxes, fontsize=fontsize)\n",
    "    ax.text(s='hour '+'{:02d}'.format(t), x=1, y=1.01, \\\n",
    "             ha='right', va='bottom', transform=ax.transAxes, \\\n",
    "             fontsize=fontsize)\n",
    "    \n",
    "    fig.tight_layout()\n",
    "    \n",
    "    #ax.background_patch.set_facecolor('0.5')\n",
    "    \n",
    "    ax_pos = ax1.get_position()\n",
    "    cbar = mp.colorbar(contour_plot)\n",
    "    cbar.ax.tick_params(labelsize=fontsize)\n",
    "    cbar.set_label('hPa', fontsize=fontsize)\n",
    "\n",
    "    #fig.savefig('hourly_ptot_below860_change_hour'+ '{:02d}'.format(t)+'.png', dpi=600, bbox_inches='tight', transparent=True)\n",
    "    #mp.close()"
   ]
  },
  {
   "cell_type": "markdown",
   "metadata": {},
   "source": [
    "## open omega (calculated from wrf-python)"
   ]
  },
  {
   "cell_type": "code",
   "execution_count": null,
   "metadata": {
    "ExecuteTime": {
     "start_time": "2018-04-19T01:05:34.987Z"
    }
   },
   "outputs": [],
   "source": [
    "cont_omega = numpy.load('DATA_omega_400.npy')\n",
    "phys_omega = numpy.load('DATA_omega_1000.npy')"
   ]
  },
  {
   "cell_type": "markdown",
   "metadata": {},
   "source": [
    "## calculate finite differences for MSE, pressure"
   ]
  },
  {
   "cell_type": "raw",
   "metadata": {
    "ExecuteTime": {
     "end_time": "2018-04-11T02:33:54.603771Z",
     "start_time": "2018-04-11T02:33:47.665Z"
    }
   },
   "source": [
    "cont_mse_diff = numpy.diff(cont_mse, axis=1)\n",
    "phys_mse_diff = numpy.diff(phys_mse, axis=1)"
   ]
  },
  {
   "cell_type": "markdown",
   "metadata": {},
   "source": [
    "## take vertical integral by summing"
   ]
  },
  {
   "cell_type": "raw",
   "metadata": {
    "ExecuteTime": {
     "end_time": "2018-04-09T04:57:04.192601Z",
     "start_time": "2018-04-09T04:56:59.357284Z"
    }
   },
   "source": [
    "cont_gms = numpy.sum( -(1./g)*cont_omega_vert_midpoints*(cont_mse_diff/cont_ptot_diff)*cont_ptot_diff, axis=1 )\n",
    "phys_gms = numpy.sum( -(1./g)*phys_omega_vert_midpoints*(phys_mse_diff/phys_ptot_diff)*phys_ptot_diff, axis=1 )"
   ]
  },
  {
   "cell_type": "raw",
   "metadata": {
    "ExecuteTime": {
     "end_time": "2018-04-09T04:53:34.130850Z",
     "start_time": "2018-04-09T04:53:33.435380Z"
    }
   },
   "source": [
    "cont_omega_time_mean = numpy.mean(cont_omega_vert_midpoints, axis=(0,1))\n",
    "phys_omega_time_mean = numpy.mean(phys_omega_vert_midpoints, axis=(0,1))"
   ]
  },
  {
   "cell_type": "raw",
   "metadata": {
    "ExecuteTime": {
     "end_time": "2018-04-09T04:54:45.011533Z",
     "start_time": "2018-04-09T04:53:35.220384Z"
    }
   },
   "source": [
    "cont_w_time_mean = numpy.mean(cont_w.values, axis=(0,1))"
   ]
  },
  {
   "cell_type": "raw",
   "metadata": {
    "ExecuteTime": {
     "end_time": "2018-04-09T04:55:43.614111Z",
     "start_time": "2018-04-09T04:54:45.013776Z"
    }
   },
   "source": [
    "phys_w_time_mean = numpy.mean(phys_w.values, axis=(0,1))"
   ]
  },
  {
   "cell_type": "raw",
   "metadata": {
    "ExecuteTime": {
     "end_time": "2018-04-09T04:55:52.568899Z",
     "start_time": "2018-04-09T04:55:51.927756Z"
    }
   },
   "source": [
    "#cf=mp.pcolormesh((phys_omega_time_mean-cont_omega_time_mean)*1000., vmin=-0.1,vmax=0.1,cmap='RdBu');mp.colorbar(cf)\n",
    "cf=mp.pcolormesh((phys_w_time_mean-cont_w_time_mean), vmin=-0.0025, vmax=0.0025, cmap='RdBu');mp.colorbar(cf)"
   ]
  },
  {
   "cell_type": "raw",
   "metadata": {
    "ExecuteTime": {
     "end_time": "2018-04-09T04:56:31.547005Z",
     "start_time": "2018-04-09T04:56:31.049050Z"
    }
   },
   "source": [
    "phys_gms_norm = phys_gms/phys_ptot[:,:,:]"
   ]
  },
  {
   "cell_type": "raw",
   "metadata": {
    "ExecuteTime": {
     "end_time": "2018-04-08T07:06:05.009784Z",
     "start_time": "2018-04-08T07:06:05.003966Z"
    }
   },
   "source": [
    "phys_gms.shape"
   ]
  },
  {
   "cell_type": "raw",
   "metadata": {
    "ExecuteTime": {
     "end_time": "2018-04-09T04:57:23.623582Z",
     "start_time": "2018-04-09T04:57:23.583047Z"
    }
   },
   "source": [
    "gms_diff_time_mean = numpy.mean(phys_gms[:,:,:]-cont_gms[:,:,:], axis=0)"
   ]
  },
  {
   "cell_type": "raw",
   "metadata": {
    "ExecuteTime": {
     "end_time": "2018-04-09T05:27:39.388539Z",
     "start_time": "2018-04-09T05:27:39.089364Z"
    }
   },
   "source": [
    "cf=mp.pcolormesh(gms_diff_time_mean, vmin=-0.25,vmax=0.25,cmap='RdBu_r');mp.colorbar(cf)"
   ]
  },
  {
   "cell_type": "markdown",
   "metadata": {},
   "source": [
    "# get landmask"
   ]
  },
  {
   "cell_type": "code",
   "execution_count": 146,
   "metadata": {
    "ExecuteTime": {
     "end_time": "2018-04-16T23:18:04.162659Z",
     "start_time": "2018-04-16T23:18:04.107440Z"
    }
   },
   "outputs": [],
   "source": [
    "landmask = cont_mfds['LANDMASK'].sel(Time=0).values\n",
    "landmask_midpoints = landmask[1:,1:]"
   ]
  },
  {
   "cell_type": "code",
   "execution_count": 147,
   "metadata": {
    "ExecuteTime": {
     "end_time": "2018-04-16T23:18:04.542845Z",
     "start_time": "2018-04-16T23:18:04.164139Z"
    }
   },
   "outputs": [
    {
     "data": {
      "text/plain": [
       "<matplotlib.colorbar.Colorbar at 0x7f73286c2198>"
      ]
     },
     "execution_count": 147,
     "metadata": {},
     "output_type": "execute_result"
    },
    {
     "data": {
      "image/png": "[encoded data removed]",
      "text/plain": [
       "<Figure size 432x288 with 2 Axes>"
      ]
     },
     "metadata": {},
     "output_type": "display_data"
    }
   ],
   "source": [
    "cf=mp.pcolormesh(landmask_midpoints);mp.colorbar(cf)"
   ]
  },
  {
   "cell_type": "markdown",
   "metadata": {},
   "source": [
    "# calculate midpoints so that fields are 28x178x288"
   ]
  },
  {
   "cell_type": "raw",
   "metadata": {
    "ExecuteTime": {
     "end_time": "2018-04-09T05:50:59.787386Z",
     "start_time": "2018-04-09T05:50:53.813681Z"
    }
   },
   "source": [
    "cont_dqdt = numpy.diff(cont_qvapor.values, axis=0)/3600.\n",
    "cont_dqdt = 0.5*(cont_dqdt[:,:,1:,1:]+cont_dqdt[:,:,:-1,:-1])"
   ]
  },
  {
   "cell_type": "raw",
   "metadata": {
    "ExecuteTime": {
     "end_time": "2018-04-09T05:52:33.144309Z",
     "start_time": "2018-04-09T05:51:05.449120Z"
    }
   },
   "source": [
    "phys_dqdt = numpy.diff(phys_qvapor.values, axis=0)/3600.\n",
    "phys_dqdt = 0.5*(phys_dqdt[:,:,1:,1:]+phys_dqdt[:,:,:-1,:-1])"
   ]
  },
  {
   "cell_type": "code",
   "execution_count": 148,
   "metadata": {
    "ExecuteTime": {
     "end_time": "2018-04-16T23:19:46.781777Z",
     "start_time": "2018-04-16T23:18:04.544473Z"
    }
   },
   "outputs": [],
   "source": [
    "cont_u_midpoints = 0.5*(cont_u[:,:,:,1:]+cont_u[:,:,:,:-1])\n",
    "cont_u_midpoints = 0.5*(cont_u_midpoints[:,1:,1:,1:]+cont_u_midpoints[:,:-1,:-1,:-1]).values"
   ]
  },
  {
   "cell_type": "code",
   "execution_count": 149,
   "metadata": {
    "ExecuteTime": {
     "end_time": "2018-04-16T23:21:27.157534Z",
     "start_time": "2018-04-16T23:19:46.784145Z"
    }
   },
   "outputs": [],
   "source": [
    "phys_u_midpoints = 0.5*(phys_u[:,:,:,1:]+phys_u[:,:,:,:-1])\n",
    "phys_u_midpoints = 0.5*(phys_u_midpoints[:,1:,1:,1:]+phys_u_midpoints[:,:-1,:-1,:-1]).values"
   ]
  },
  {
   "cell_type": "code",
   "execution_count": 150,
   "metadata": {
    "ExecuteTime": {
     "end_time": "2018-04-16T23:22:59.870442Z",
     "start_time": "2018-04-16T23:21:27.160504Z"
    }
   },
   "outputs": [],
   "source": [
    "cont_v_midpoints = 0.5*(cont_v[:,:,1:,:]+cont_v[:,:,:-1,:])\n",
    "cont_v_midpoints = 0.5*(cont_v_midpoints[:,1:,1:,1:]+cont_v_midpoints[:,:-1,:-1,:-1]).values"
   ]
  },
  {
   "cell_type": "code",
   "execution_count": 151,
   "metadata": {
    "ExecuteTime": {
     "end_time": "2018-04-16T23:24:29.062052Z",
     "start_time": "2018-04-16T23:22:59.872321Z"
    }
   },
   "outputs": [],
   "source": [
    "phys_v_midpoints = 0.5*(phys_v[:,:,1:,:]+phys_v[:,:,:-1,:])\n",
    "phys_v_midpoints = 0.5*(phys_v_midpoints[:,1:,1:,1:]+phys_v_midpoints[:,:-1,:-1,:-1]).values"
   ]
  },
  {
   "cell_type": "code",
   "execution_count": 152,
   "metadata": {
    "ExecuteTime": {
     "end_time": "2018-04-16T23:24:31.659472Z",
     "start_time": "2018-04-16T23:24:29.065858Z"
    }
   },
   "outputs": [],
   "source": [
    "cont_p_midpoints = 0.5*(cont_p[:,1:,1:,1:]+cont_p[:,:-1,:-1,:-1])\n",
    "phys_p_midpoints = 0.5*(phys_p[:,1:,1:,1:]+phys_p[:,:-1,:-1,:-1])"
   ]
  },
  {
   "cell_type": "code",
   "execution_count": 153,
   "metadata": {
    "ExecuteTime": {
     "end_time": "2018-04-16T23:24:53.612432Z",
     "start_time": "2018-04-16T23:24:31.662415Z"
    }
   },
   "outputs": [],
   "source": [
    "cont_qvapor_midpoints = 0.5*(cont_qvapor[:,1:,1:,1:]+cont_qvapor[:,:-1,:-1,:-1]).values\n",
    "phys_qvapor_midpoints = 0.5*(phys_qvapor[:,1:,1:,1:]+phys_qvapor[:,:-1,:-1,:-1]).values"
   ]
  },
  {
   "cell_type": "code",
   "execution_count": 154,
   "metadata": {
    "ExecuteTime": {
     "end_time": "2018-04-16T23:27:05.928348Z",
     "start_time": "2018-04-16T23:24:53.614671Z"
    }
   },
   "outputs": [],
   "source": [
    "cont_qcloud_midpoints = 0.5*(cont_qcloud[:,1:,1:,1:]+cont_qcloud[:,:-1,:-1,:-1]).values\n",
    "phys_qcloud_midpoints = 0.5*(phys_qcloud[:,1:,1:,1:]+phys_qcloud[:,:-1,:-1,:-1]).values"
   ]
  },
  {
   "cell_type": "code",
   "execution_count": 155,
   "metadata": {
    "ExecuteTime": {
     "end_time": "2018-04-16T23:29:41.152841Z",
     "start_time": "2018-04-16T23:27:05.930890Z"
    }
   },
   "outputs": [],
   "source": [
    "cont_qrain_midpoints = 0.5*(cont_qrain[:,1:,1:,1:]+cont_qrain[:,:-1,:-1,:-1]).values\n",
    "phys_qrain_midpoints = 0.5*(phys_qrain[:,1:,1:,1:]+phys_qrain[:,:-1,:-1,:-1]).values"
   ]
  },
  {
   "cell_type": "code",
   "execution_count": 156,
   "metadata": {
    "ExecuteTime": {
     "end_time": "2018-04-16T23:30:23.788082Z",
     "start_time": "2018-04-16T23:29:41.156852Z"
    }
   },
   "outputs": [],
   "source": [
    "phys_ptot_midpoints = 0.5*(phys_ptot[:,1:,1:,1:]+phys_ptot[:,:-1,:-1,:-1]).values\n",
    "cont_ptot_midpoints = 0.5*(cont_ptot[:,1:,1:,1:]+cont_ptot[:,:-1,:-1,:-1]).values"
   ]
  },
  {
   "cell_type": "code",
   "execution_count": 157,
   "metadata": {
    "ExecuteTime": {
     "end_time": "2018-04-16T23:31:05.925380Z",
     "start_time": "2018-04-16T23:30:23.790834Z"
    }
   },
   "outputs": [],
   "source": [
    "phys_ptot_diff = numpy.diff(phys_ptot.values, axis=1)\n",
    "cont_ptot_diff = numpy.diff(cont_ptot.values, axis=1)"
   ]
  },
  {
   "cell_type": "code",
   "execution_count": 158,
   "metadata": {
    "ExecuteTime": {
     "end_time": "2018-04-16T23:31:09.461859Z",
     "start_time": "2018-04-16T23:31:05.928145Z"
    }
   },
   "outputs": [],
   "source": [
    "cont_omega_midpoints = (0.5*(cont_omega[:,1:,1:,1:]+cont_omega[:,:-1,:-1,:-1]))\n",
    "phys_omega_midpoints = (0.5*(phys_omega[:,1:,1:,1:]+phys_omega[:,:-1,:-1,:-1]))"
   ]
  },
  {
   "cell_type": "code",
   "execution_count": 159,
   "metadata": {
    "ExecuteTime": {
     "end_time": "2018-04-16T23:31:09.467035Z",
     "start_time": "2018-04-16T23:31:09.464240Z"
    }
   },
   "outputs": [],
   "source": [
    "dx = 50000. # 50,000 m or 50 km\n",
    "dy = 50000."
   ]
  },
  {
   "cell_type": "markdown",
   "metadata": {},
   "source": [
    "# calculate dqdt"
   ]
  },
  {
   "cell_type": "code",
   "execution_count": 160,
   "metadata": {
    "ExecuteTime": {
     "end_time": "2018-04-16T23:31:09.623802Z",
     "start_time": "2018-04-16T23:31:09.469011Z"
    }
   },
   "outputs": [],
   "source": [
    "ntime = 241\n",
    "nlev = 28"
   ]
  },
  {
   "cell_type": "code",
   "execution_count": 161,
   "metadata": {
    "ExecuteTime": {
     "end_time": "2018-04-16T23:31:16.772364Z",
     "start_time": "2018-04-16T23:31:09.626830Z"
    }
   },
   "outputs": [],
   "source": [
    "cont_dqdt = numpy.zeros((ntime,nlev,xlat.shape[0]-1,xlat.shape[1]-1))*numpy.nan\n",
    "phys_dqdt = numpy.zeros((ntime,nlev,xlat.shape[0]-1,xlat.shape[1]-1))*numpy.nan"
   ]
  },
  {
   "cell_type": "code",
   "execution_count": 162,
   "metadata": {
    "ExecuteTime": {
     "end_time": "2018-04-16T23:31:18.837603Z",
     "start_time": "2018-04-16T23:31:16.774460Z"
    }
   },
   "outputs": [],
   "source": [
    "for t in range(1,ntime-1):\n",
    "    cont_dqdt[t,:,:,:] = (cont_qvapor_midpoints[t+1,:,:,:]-cont_qvapor_midpoints[t-1,:,:,:])/7200.\n",
    "for t in range(1,ntime-1):\n",
    "    phys_dqdt[t,:,:,:] = (phys_qvapor_midpoints[t+1,:,:,:]-phys_qvapor_midpoints[t-1,:,:,:])/7200."
   ]
  },
  {
   "cell_type": "markdown",
   "metadata": {},
   "source": [
    "# calculate dqcloud dt"
   ]
  },
  {
   "cell_type": "code",
   "execution_count": 163,
   "metadata": {
    "ExecuteTime": {
     "end_time": "2018-04-16T23:31:22.674125Z",
     "start_time": "2018-04-16T23:31:18.839576Z"
    }
   },
   "outputs": [],
   "source": [
    "cont_dqclouddt = numpy.zeros((ntime,nlev,xlat.shape[0]-1,xlat.shape[1]-1))*numpy.nan\n",
    "phys_dqclouddt = numpy.zeros((ntime,nlev,xlat.shape[0]-1,xlat.shape[1]-1))*numpy.nan"
   ]
  },
  {
   "cell_type": "code",
   "execution_count": 164,
   "metadata": {
    "ExecuteTime": {
     "end_time": "2018-04-16T23:31:24.727233Z",
     "start_time": "2018-04-16T23:31:22.676195Z"
    }
   },
   "outputs": [],
   "source": [
    "for t in range(1,ntime-1):\n",
    "    cont_dqclouddt[t,:,:,:] = (cont_qcloud_midpoints[t+1,:,:,:]-cont_qcloud_midpoints[t-1,:,:,:])/7200.\n",
    "for t in range(1,ntime-1):\n",
    "    phys_dqclouddt[t,:,:,:] = (phys_qcloud_midpoints[t+1,:,:,:]-phys_qcloud_midpoints[t-1,:,:,:])/7200."
   ]
  },
  {
   "cell_type": "markdown",
   "metadata": {},
   "source": [
    "# calculate dqraindt"
   ]
  },
  {
   "cell_type": "code",
   "execution_count": 165,
   "metadata": {
    "ExecuteTime": {
     "end_time": "2018-04-16T23:31:28.120942Z",
     "start_time": "2018-04-16T23:31:24.729292Z"
    }
   },
   "outputs": [],
   "source": [
    "cont_dqraindt = numpy.zeros((ntime,nlev,xlat.shape[0]-1,xlat.shape[1]-1))*numpy.nan\n",
    "phys_dqraindt = numpy.zeros((ntime,nlev,xlat.shape[0]-1,xlat.shape[1]-1))*numpy.nan"
   ]
  },
  {
   "cell_type": "code",
   "execution_count": 166,
   "metadata": {
    "ExecuteTime": {
     "end_time": "2018-04-16T23:31:36.329586Z",
     "start_time": "2018-04-16T23:31:28.123247Z"
    }
   },
   "outputs": [],
   "source": [
    "for t in range(1,ntime-1):\n",
    "    cont_dqraindt[t,:,:,:] = (cont_qrain_midpoints[t+1,:,:,:]-cont_qrain_midpoints[t-1,:,:,:])/7200.\n",
    "for t in range(1,ntime-1):\n",
    "    phys_dqraindt[t,:,:,:] = (phys_qrain_midpoints[t+1,:,:,:]-phys_qrain_midpoints[t-1,:,:,:])/7200."
   ]
  },
  {
   "cell_type": "markdown",
   "metadata": {},
   "source": [
    "# calculate convergence"
   ]
  },
  {
   "cell_type": "code",
   "execution_count": 167,
   "metadata": {
    "ExecuteTime": {
     "end_time": "2018-04-16T23:31:49.166353Z",
     "start_time": "2018-04-16T23:31:36.331622Z"
    }
   },
   "outputs": [],
   "source": [
    "cont_dudx = numpy.diff(cont_u.values, axis=3)/dx\n",
    "cont_dudx = 0.5*(cont_dudx[:,1:,1:,1:]+cont_dudx[:,:-1,:-1,:-1])"
   ]
  },
  {
   "cell_type": "code",
   "execution_count": 168,
   "metadata": {
    "ExecuteTime": {
     "end_time": "2018-04-16T23:32:01.791935Z",
     "start_time": "2018-04-16T23:31:49.168428Z"
    }
   },
   "outputs": [],
   "source": [
    "phys_dudx = numpy.diff(phys_u.values, axis=3)/dx\n",
    "phys_dudx = 0.5*(phys_dudx[:,1:,1:,1:]+phys_dudx[:,:-1,:-1,:-1])"
   ]
  },
  {
   "cell_type": "code",
   "execution_count": 169,
   "metadata": {
    "ExecuteTime": {
     "end_time": "2018-04-16T23:32:14.518586Z",
     "start_time": "2018-04-16T23:32:01.794273Z"
    }
   },
   "outputs": [],
   "source": [
    "cont_dvdy = numpy.diff(cont_v.values, axis=2)/dy\n",
    "cont_dvdy = 0.5*(cont_dvdy[:,1:,1:,1:]+cont_dvdy[:,:-1,:-1,:-1])"
   ]
  },
  {
   "cell_type": "code",
   "execution_count": 170,
   "metadata": {
    "ExecuteTime": {
     "end_time": "2018-04-16T23:32:27.233539Z",
     "start_time": "2018-04-16T23:32:14.521820Z"
    }
   },
   "outputs": [],
   "source": [
    "phys_dvdy = numpy.diff(phys_v.values, axis=2)/dy\n",
    "phys_dvdy = 0.5*(phys_dvdy[:,1:,1:,1:]+phys_dvdy[:,:-1,:-1,:-1])"
   ]
  },
  {
   "cell_type": "code",
   "execution_count": 171,
   "metadata": {
    "ExecuteTime": {
     "end_time": "2018-04-16T23:32:30.341068Z",
     "start_time": "2018-04-16T23:32:27.235605Z"
    }
   },
   "outputs": [],
   "source": [
    "cont_domegadp = numpy.diff(cont_omega, axis=1)/cont_ptot_diff\n",
    "cont_domegadp = 0.5*(cont_domegadp[:,:,1:,1:]+cont_domegadp[:,:,:-1,:-1])"
   ]
  },
  {
   "cell_type": "code",
   "execution_count": 172,
   "metadata": {
    "ExecuteTime": {
     "end_time": "2018-04-16T23:32:33.482003Z",
     "start_time": "2018-04-16T23:32:30.343560Z"
    }
   },
   "outputs": [],
   "source": [
    "phys_domegadp = numpy.diff(phys_omega, axis=1)/phys_ptot_diff\n",
    "phys_domegadp = 0.5*(phys_domegadp[:,:,1:,1:]+phys_domegadp[:,:,:-1,:-1])"
   ]
  },
  {
   "cell_type": "code",
   "execution_count": 173,
   "metadata": {
    "ExecuteTime": {
     "end_time": "2018-04-16T23:32:36.153252Z",
     "start_time": "2018-04-16T23:32:33.484479Z"
    }
   },
   "outputs": [],
   "source": [
    "cont_convergence = -cont_qvapor_midpoints*(cont_dudx + cont_dvdy + cont_domegadp)"
   ]
  },
  {
   "cell_type": "code",
   "execution_count": 174,
   "metadata": {
    "ExecuteTime": {
     "end_time": "2018-04-16T23:32:39.436379Z",
     "start_time": "2018-04-16T23:32:36.155533Z"
    }
   },
   "outputs": [],
   "source": [
    "phys_convergence = -phys_qvapor_midpoints*(phys_dudx + phys_dvdy + phys_domegadp)"
   ]
  },
  {
   "cell_type": "code",
   "execution_count": 175,
   "metadata": {
    "ExecuteTime": {
     "end_time": "2018-04-16T23:32:40.765600Z",
     "start_time": "2018-04-16T23:32:39.438889Z"
    }
   },
   "outputs": [],
   "source": [
    "cont_vert_convergence = -cont_qvapor_midpoints*cont_domegadp"
   ]
  },
  {
   "cell_type": "code",
   "execution_count": 176,
   "metadata": {
    "ExecuteTime": {
     "end_time": "2018-04-16T23:32:42.053046Z",
     "start_time": "2018-04-16T23:32:40.767995Z"
    }
   },
   "outputs": [],
   "source": [
    "phys_vert_convergence = -phys_qvapor_midpoints*phys_domegadp"
   ]
  },
  {
   "cell_type": "markdown",
   "metadata": {},
   "source": [
    "# calculate advection"
   ]
  },
  {
   "cell_type": "code",
   "execution_count": 177,
   "metadata": {
    "ExecuteTime": {
     "end_time": "2018-04-16T23:32:54.891413Z",
     "start_time": "2018-04-16T23:32:42.055459Z"
    }
   },
   "outputs": [],
   "source": [
    "cont_dqdx = numpy.diff(cont_qvapor.values, axis=3)/dx # diff in y, then take mean \n",
    "cont_dqdx = 0.5*(cont_dqdx[:,1:,1:,:]+cont_dqdx[:,:-1,:-1,:])"
   ]
  },
  {
   "cell_type": "code",
   "execution_count": 178,
   "metadata": {
    "ExecuteTime": {
     "end_time": "2018-04-16T23:33:08.082617Z",
     "start_time": "2018-04-16T23:32:54.903321Z"
    }
   },
   "outputs": [],
   "source": [
    "phys_dqdx = numpy.diff(phys_qvapor.values, axis=3)/dx # diff in y, then take mean \n",
    "phys_dqdx = 0.5*(phys_dqdx[:,1:,1:,:]+phys_dqdx[:,:-1,:-1,:])"
   ]
  },
  {
   "cell_type": "code",
   "execution_count": 179,
   "metadata": {
    "ExecuteTime": {
     "end_time": "2018-04-16T23:33:21.383552Z",
     "start_time": "2018-04-16T23:33:08.085460Z"
    }
   },
   "outputs": [],
   "source": [
    "cont_dqdy = numpy.diff(cont_qvapor.values, axis=2)/dy # diff in y, then take mean \n",
    "cont_dqdy = 0.5*(cont_dqdy[:,1:,:,1:]+cont_dqdy[:,:-1,:,:-1])"
   ]
  },
  {
   "cell_type": "code",
   "execution_count": 180,
   "metadata": {
    "ExecuteTime": {
     "end_time": "2018-04-16T23:33:34.684862Z",
     "start_time": "2018-04-16T23:33:21.385698Z"
    }
   },
   "outputs": [],
   "source": [
    "phys_dqdy = numpy.diff(phys_qvapor.values, axis=2)/dy # diff in y, then take mean \n",
    "phys_dqdy = 0.5*(phys_dqdy[:,1:,:,1:]+phys_dqdy[:,:-1,:,:-1])"
   ]
  },
  {
   "cell_type": "code",
   "execution_count": 181,
   "metadata": {
    "ExecuteTime": {
     "end_time": "2018-04-16T23:33:47.766365Z",
     "start_time": "2018-04-16T23:33:34.687291Z"
    }
   },
   "outputs": [],
   "source": [
    "cont_dqdp = numpy.diff(cont_qvapor.values, axis=1)/cont_ptot_diff\n",
    "cont_dqdp = 0.5*(cont_dqdp[:,:,1:,1:]+cont_dqdp[:,:,:-1,:-1])"
   ]
  },
  {
   "cell_type": "code",
   "execution_count": 182,
   "metadata": {
    "ExecuteTime": {
     "end_time": "2018-04-16T23:34:00.817048Z",
     "start_time": "2018-04-16T23:33:47.768459Z"
    }
   },
   "outputs": [],
   "source": [
    "phys_dqdp = numpy.diff(phys_qvapor.values, axis=1)/phys_ptot_diff\n",
    "phys_dqdp = 0.5*(phys_dqdp[:,:,1:,1:]+phys_dqdp[:,:,:-1,:-1])"
   ]
  },
  {
   "cell_type": "code",
   "execution_count": 183,
   "metadata": {
    "ExecuteTime": {
     "end_time": "2018-04-16T23:34:10.985850Z",
     "start_time": "2018-04-16T23:34:00.819216Z"
    }
   },
   "outputs": [],
   "source": [
    "cont_advection = -(cont_u_midpoints*cont_dqdx + cont_v_midpoints*cont_dqdy + cont_omega_midpoints*cont_dqdp)\n",
    "phys_advection = -(phys_u_midpoints*phys_dqdx + phys_v_midpoints*phys_dqdy + phys_omega_midpoints*phys_dqdp)"
   ]
  },
  {
   "cell_type": "code",
   "execution_count": 184,
   "metadata": {
    "ExecuteTime": {
     "end_time": "2018-04-16T23:34:13.508053Z",
     "start_time": "2018-04-16T23:34:10.989221Z"
    }
   },
   "outputs": [],
   "source": [
    "cont_vert_advection = -(cont_omega_midpoints*cont_dqdp)\n",
    "phys_vert_advection = -(phys_omega_midpoints*phys_dqdp)"
   ]
  },
  {
   "cell_type": "markdown",
   "metadata": {},
   "source": [
    "# set ocean points to nan"
   ]
  },
  {
   "cell_type": "raw",
   "metadata": {
    "ExecuteTime": {
     "end_time": "2018-04-16T21:39:39.064002Z",
     "start_time": "2018-04-16T21:27:22.948Z"
    }
   },
   "source": [
    "cont_convergence[:,:,landmask_midpoints==0]=numpy.nan\n",
    "phys_convergence[:,:,landmask_midpoints==0]=numpy.nan"
   ]
  },
  {
   "cell_type": "raw",
   "metadata": {
    "ExecuteTime": {
     "end_time": "2018-04-16T21:39:39.065193Z",
     "start_time": "2018-04-16T21:27:23.171Z"
    }
   },
   "source": [
    "cont_vert_convergence[:,:,landmask_midpoints==0]=numpy.nan\n",
    "phys_vert_convergence[:,:,landmask_midpoints==0]=numpy.nan"
   ]
  },
  {
   "cell_type": "raw",
   "metadata": {
    "ExecuteTime": {
     "end_time": "2018-04-16T21:39:39.066424Z",
     "start_time": "2018-04-16T21:27:23.340Z"
    }
   },
   "source": [
    "cont_advection[:,:,landmask_midpoints==0]=numpy.nan\n",
    "phys_advection[:,:,landmask_midpoints==0]=numpy.nan"
   ]
  },
  {
   "cell_type": "raw",
   "metadata": {
    "ExecuteTime": {
     "end_time": "2018-04-16T21:39:39.067596Z",
     "start_time": "2018-04-16T21:27:23.505Z"
    }
   },
   "source": [
    "cont_vert_advection[:,:,landmask_midpoints==0]=numpy.nan\n",
    "phys_vert_advection[:,:,landmask_midpoints==0]=numpy.nan"
   ]
  },
  {
   "cell_type": "raw",
   "metadata": {
    "ExecuteTime": {
     "end_time": "2018-04-16T21:39:39.068866Z",
     "start_time": "2018-04-16T21:27:23.668Z"
    }
   },
   "source": [
    "cont_omega_midpoints[:,:,landmask_midpoints==0]=numpy.nan\n",
    "phys_omega_midpoints[:,:,landmask_midpoints==0]=numpy.nan"
   ]
  },
  {
   "cell_type": "raw",
   "metadata": {
    "ExecuteTime": {
     "end_time": "2018-04-16T21:39:39.070183Z",
     "start_time": "2018-04-16T21:27:23.838Z"
    }
   },
   "source": [
    "cont_dqdt[:,:,landmask_midpoints==0]=numpy.nan\n",
    "phys_dqdt[:,:,landmask_midpoints==0]=numpy.nan"
   ]
  },
  {
   "cell_type": "raw",
   "metadata": {
    "ExecuteTime": {
     "end_time": "2018-04-16T21:39:39.071377Z",
     "start_time": "2018-04-16T21:27:24.006Z"
    }
   },
   "source": [
    "cont_dqclouddt[:,:,landmask_midpoints==0]=numpy.nan\n",
    "phys_dqclouddt[:,:,landmask_midpoints==0]=numpy.nan"
   ]
  },
  {
   "cell_type": "raw",
   "metadata": {
    "ExecuteTime": {
     "end_time": "2018-04-16T21:39:39.072567Z",
     "start_time": "2018-04-16T21:27:25.139Z"
    }
   },
   "source": [
    "cont_dqraindt[:,:,landmask_midpoints==0]=numpy.nan\n",
    "phys_dqraindt[:,:,landmask_midpoints==0]=numpy.nan"
   ]
  },
  {
   "cell_type": "raw",
   "metadata": {
    "ExecuteTime": {
     "end_time": "2018-04-16T21:39:39.073880Z",
     "start_time": "2018-04-16T21:27:25.421Z"
    }
   },
   "source": [
    "cont_p[:,:,landmask==0]=numpy.nan\n",
    "phys_p[:,:,landmask==0]=numpy.nan"
   ]
  },
  {
   "cell_type": "markdown",
   "metadata": {},
   "source": [
    "# calculate time means"
   ]
  },
  {
   "cell_type": "code",
   "execution_count": 185,
   "metadata": {
    "ExecuteTime": {
     "end_time": "2018-04-16T23:34:18.856280Z",
     "start_time": "2018-04-16T23:34:13.510379Z"
    }
   },
   "outputs": [],
   "source": [
    "cont_p_tm = numpy.nanmean(cont_p, axis=0)\n",
    "phys_p_tm = numpy.nanmean(phys_p, axis=0)"
   ]
  },
  {
   "cell_type": "code",
   "execution_count": 186,
   "metadata": {
    "ExecuteTime": {
     "end_time": "2018-04-16T23:34:27.285780Z",
     "start_time": "2018-04-16T23:34:18.858665Z"
    }
   },
   "outputs": [],
   "source": [
    "cont_dqdt_tm = numpy.nanmean(cont_dqdt, axis=0)\n",
    "phys_dqdt_tm = numpy.nanmean(phys_dqdt, axis=0)"
   ]
  },
  {
   "cell_type": "code",
   "execution_count": 187,
   "metadata": {
    "ExecuteTime": {
     "end_time": "2018-04-16T23:34:35.406190Z",
     "start_time": "2018-04-16T23:34:27.288208Z"
    }
   },
   "outputs": [],
   "source": [
    "cont_dqclouddt_tm = numpy.nanmean(cont_dqclouddt, axis=0)\n",
    "phys_dqclouddt_tm = numpy.nanmean(phys_dqclouddt, axis=0)"
   ]
  },
  {
   "cell_type": "code",
   "execution_count": 188,
   "metadata": {
    "ExecuteTime": {
     "end_time": "2018-04-16T23:34:43.951129Z",
     "start_time": "2018-04-16T23:34:35.409150Z"
    }
   },
   "outputs": [],
   "source": [
    "cont_dqraindt_tm = numpy.nanmean(cont_dqraindt, axis=0)\n",
    "phys_dqraindt_tm = numpy.nanmean(phys_dqraindt, axis=0)"
   ]
  },
  {
   "cell_type": "code",
   "execution_count": 189,
   "metadata": {
    "ExecuteTime": {
     "end_time": "2018-04-16T23:34:53.369088Z",
     "start_time": "2018-04-16T23:34:43.953433Z"
    }
   },
   "outputs": [],
   "source": [
    "cont_advection_tm = numpy.nanmean(cont_advection, axis=0)\n",
    "phys_advection_tm = numpy.nanmean(phys_advection, axis=0)\n",
    "\n",
    "cont_vert_advection_tm = numpy.nanmean(cont_vert_advection, axis=0)\n",
    "phys_vert_advection_tm = numpy.nanmean(phys_vert_advection, axis=0)"
   ]
  },
  {
   "cell_type": "code",
   "execution_count": 190,
   "metadata": {
    "ExecuteTime": {
     "end_time": "2018-04-16T23:35:03.698619Z",
     "start_time": "2018-04-16T23:34:53.371581Z"
    }
   },
   "outputs": [],
   "source": [
    "cont_convergence_tm = numpy.nanmean(cont_convergence, axis=0)\n",
    "phys_convergence_tm = numpy.nanmean(phys_convergence, axis=0)\n",
    "\n",
    "cont_vert_convergence_tm = numpy.nanmean(cont_vert_convergence, axis=0)\n",
    "phys_vert_convergence_tm = numpy.nanmean(phys_vert_convergence, axis=0)"
   ]
  },
  {
   "cell_type": "code",
   "execution_count": 191,
   "metadata": {
    "ExecuteTime": {
     "end_time": "2018-04-16T23:35:09.420929Z",
     "start_time": "2018-04-16T23:35:03.701120Z"
    }
   },
   "outputs": [],
   "source": [
    "cont_omega_tm = numpy.nanmean(cont_omega_midpoints, axis=0)\n",
    "phys_omega_tm = numpy.nanmean(phys_omega_midpoints, axis=0)\n",
    "\n",
    "cont_omega_tm_day1 = numpy.nanmean(cont_omega_midpoints[:24,:,:,:], axis=0)\n",
    "phys_omega_tm_day1 = numpy.nanmean(phys_omega_midpoints[:24,:,:,:], axis=0)"
   ]
  },
  {
   "cell_type": "code",
   "execution_count": 192,
   "metadata": {
    "ExecuteTime": {
     "end_time": "2018-04-16T23:35:10.241346Z",
     "start_time": "2018-04-16T23:35:09.423305Z"
    }
   },
   "outputs": [],
   "source": [
    "cont_advection_tm_day1 = numpy.nanmean(cont_advection[:24,:,:,:], axis=0)\n",
    "phys_advection_tm_day1 = numpy.nanmean(phys_advection[:24,:,:,:], axis=0)\n",
    "\n",
    "cont_vert_advection_tm_day1 = numpy.nanmean(cont_vert_advection[:24,:,:,:], axis=0)\n",
    "phys_vert_advection_tm_day1 = numpy.nanmean(phys_vert_advection[:24,:,:,:], axis=0)"
   ]
  },
  {
   "cell_type": "markdown",
   "metadata": {},
   "source": [
    "## selecting dry area lat/lon"
   ]
  },
  {
   "cell_type": "code",
   "execution_count": 193,
   "metadata": {
    "ExecuteTime": {
     "end_time": "2018-04-16T23:35:10.299329Z",
     "start_time": "2018-04-16T23:35:10.244376Z"
    }
   },
   "outputs": [
    {
     "data": {
      "text/plain": [
       "<cartopy.mpl.feature_artist.FeatureArtist at 0x7f73288d1f60>"
      ]
     },
     "execution_count": 193,
     "metadata": {},
     "output_type": "execute_result"
    },
    {
     "data": {
      "image/png": "[encoded data removed]",
      "text/plain": [
       "<Figure size 432x288 with 1 Axes>"
      ]
     },
     "metadata": {},
     "output_type": "display_data"
    }
   ],
   "source": [
    "fig, ax = mp.subplots(1,1,subplot_kw={'projection':cartopy.crs.PlateCarree()})\n",
    "\n",
    "ax.set_extent([xlong.min(),xlong.max(),xlat.min(),xlat.max()], crs=cartopy.crs.PlateCarree())\n",
    "ax.set_extent([-70,-40,-10,10], crs=cartopy.crs.PlateCarree())\n",
    "ax.coastlines()"
   ]
  },
  {
   "cell_type": "markdown",
   "metadata": {},
   "source": [
    "## selecting wet area lat/lon"
   ]
  },
  {
   "cell_type": "code",
   "execution_count": 194,
   "metadata": {
    "ExecuteTime": {
     "end_time": "2018-04-16T23:35:10.590779Z",
     "start_time": "2018-04-16T23:35:10.301380Z"
    }
   },
   "outputs": [
    {
     "data": {
      "text/plain": [
       "<cartopy.mpl.feature_artist.FeatureArtist at 0x7f7328afaeb8>"
      ]
     },
     "execution_count": 194,
     "metadata": {},
     "output_type": "execute_result"
    },
    {
     "data": {
      "image/png": "[encoded data removed]",
      "text/plain": [
       "<Figure size 432x288 with 1 Axes>"
      ]
     },
     "metadata": {},
     "output_type": "display_data"
    }
   ],
   "source": [
    "fig, ax = mp.subplots(1,1,subplot_kw={'projection':cartopy.crs.PlateCarree()})\n",
    "\n",
    "ax.set_extent([xlong.min(),xlong.max(),xlat.min(),xlat.max()], crs=cartopy.crs.PlateCarree())\n",
    "ax.set_extent([-82,-70,-10,10], crs=cartopy.crs.PlateCarree())\n",
    "ax.coastlines()"
   ]
  },
  {
   "cell_type": "code",
   "execution_count": 195,
   "metadata": {
    "ExecuteTime": {
     "end_time": "2018-04-16T23:35:10.879012Z",
     "start_time": "2018-04-16T23:35:10.592576Z"
    }
   },
   "outputs": [],
   "source": [
    "dry_lon_lo, dry_lon_hi, dry_lat_lo, dry_lat_hi = -70,-40,-10,10\n",
    "wet_lon_lo, wet_lon_hi, wet_lat_lo, wet_lat_hi = -82,-70,-10,10"
   ]
  },
  {
   "cell_type": "code",
   "execution_count": 196,
   "metadata": {
    "ExecuteTime": {
     "end_time": "2018-04-16T23:35:11.173689Z",
     "start_time": "2018-04-16T23:35:10.882008Z"
    }
   },
   "outputs": [],
   "source": [
    "xlat_midpoints = 0.5*(xlat[1:,1:]+xlat[:-1,:-1])\n",
    "xlong_midpoints = 0.5*(xlong[1:,1:]+xlong[:-1,:-1])"
   ]
  },
  {
   "cell_type": "code",
   "execution_count": 197,
   "metadata": {
    "ExecuteTime": {
     "end_time": "2018-04-16T23:35:11.407295Z",
     "start_time": "2018-04-16T23:35:11.176578Z"
    }
   },
   "outputs": [],
   "source": [
    "wet_latlon_subset = ((xlat_midpoints<=wet_lat_hi) & (xlat_midpoints>=wet_lat_lo) \\\n",
    "                  & (xlong_midpoints<=wet_lon_hi) & (xlong_midpoints>=wet_lon_lo))\n",
    "\n",
    "dry_latlon_subset = ((xlat_midpoints<=dry_lat_hi) & (xlat_midpoints>=dry_lat_lo) \\\n",
    "                  & (xlong_midpoints<=dry_lon_hi) & (xlong_midpoints>=dry_lon_lo))\n",
    "\n",
    "lat_indices = ((xlat_midpoints<=10)&(xlat_midpoints>=-10))"
   ]
  },
  {
   "cell_type": "code",
   "execution_count": 198,
   "metadata": {
    "ExecuteTime": {
     "end_time": "2018-04-16T23:35:11.615927Z",
     "start_time": "2018-04-16T23:35:11.410507Z"
    }
   },
   "outputs": [],
   "source": [
    "cont_dqdt_wet_region = numpy.nanmean(cont_dqdt_tm[:,wet_latlon_subset], axis=1)\n",
    "cont_dqdt_dry_region = numpy.nanmean(cont_dqdt_tm[:,dry_latlon_subset], axis=1)\n",
    "\n",
    "phys_dqdt_wet_region = numpy.nanmean(phys_dqdt_tm[:,wet_latlon_subset], axis=1)\n",
    "phys_dqdt_dry_region = numpy.nanmean(phys_dqdt_tm[:,dry_latlon_subset], axis=1)"
   ]
  },
  {
   "cell_type": "code",
   "execution_count": 199,
   "metadata": {
    "ExecuteTime": {
     "end_time": "2018-04-16T23:35:11.993032Z",
     "start_time": "2018-04-16T23:35:11.618928Z"
    }
   },
   "outputs": [],
   "source": [
    "cont_convergence_wet_region = numpy.nanmean(cont_convergence_tm[:,wet_latlon_subset], axis=1)\n",
    "cont_convergence_dry_region = numpy.nanmean(cont_convergence_tm[:,dry_latlon_subset], axis=1)\n",
    "\n",
    "phys_convergence_wet_region = numpy.nanmean(phys_convergence_tm[:,wet_latlon_subset], axis=1)\n",
    "phys_convergence_dry_region = numpy.nanmean(phys_convergence_tm[:,dry_latlon_subset], axis=1)\n",
    "\n",
    "cont_vert_convergence_wet_region = numpy.nanmean(cont_vert_convergence_tm[:,wet_latlon_subset], axis=1)\n",
    "cont_vert_convergence_dry_region = numpy.nanmean(cont_vert_convergence_tm[:,dry_latlon_subset], axis=1)\n",
    "\n",
    "phys_vert_convergence_wet_region = numpy.nanmean(phys_vert_convergence_tm[:,wet_latlon_subset], axis=1)\n",
    "phys_vert_convergence_dry_region = numpy.nanmean(phys_vert_convergence_tm[:,dry_latlon_subset], axis=1)"
   ]
  },
  {
   "cell_type": "code",
   "execution_count": 200,
   "metadata": {
    "ExecuteTime": {
     "end_time": "2018-04-16T23:35:12.283254Z",
     "start_time": "2018-04-16T23:35:11.995553Z"
    }
   },
   "outputs": [],
   "source": [
    "cont_advection_wet_region = numpy.nanmean(cont_advection_tm[:,wet_latlon_subset], axis=1)\n",
    "cont_advection_dry_region = numpy.nanmean(cont_advection_tm[:,dry_latlon_subset], axis=1)\n",
    "\n",
    "phys_advection_wet_region = numpy.nanmean(phys_advection_tm[:,wet_latlon_subset], axis=1)\n",
    "phys_advection_dry_region = numpy.nanmean(phys_advection_tm[:,dry_latlon_subset], axis=1)\n",
    "\n",
    "cont_vert_advection_wet_region = numpy.nanmean(cont_vert_advection_tm[:,wet_latlon_subset], axis=1)\n",
    "cont_vert_advection_dry_region = numpy.nanmean(cont_vert_advection_tm[:,dry_latlon_subset], axis=1)\n",
    "\n",
    "phys_vert_advection_wet_region = numpy.nanmean(phys_vert_advection_tm[:,wet_latlon_subset], axis=1)\n",
    "phys_vert_advection_dry_region = numpy.nanmean(phys_vert_advection_tm[:,dry_latlon_subset], axis=1)"
   ]
  },
  {
   "cell_type": "code",
   "execution_count": 201,
   "metadata": {
    "ExecuteTime": {
     "end_time": "2018-04-16T23:35:12.412072Z",
     "start_time": "2018-04-16T23:35:12.286232Z"
    }
   },
   "outputs": [],
   "source": [
    "cont_advection_wet_day1 = numpy.nanmean(cont_advection_tm_day1[:,wet_latlon_subset], axis=1)\n",
    "cont_advection_dry_day1 = numpy.nanmean(cont_advection_tm_day1[:,dry_latlon_subset], axis=1)\n",
    "\n",
    "phys_advection_wet_day1 = numpy.nanmean(phys_advection_tm_day1[:,wet_latlon_subset], axis=1)\n",
    "phys_advection_dry_day1 = numpy.nanmean(phys_advection_tm_day1[:,dry_latlon_subset], axis=1)\n",
    "\n",
    "cont_vert_advection_wet_day1 = numpy.nanmean(cont_vert_advection_tm_day1[:,wet_latlon_subset], axis=1)\n",
    "cont_vert_advection_dry_day1 = numpy.nanmean(cont_vert_advection_tm_day1[:,dry_latlon_subset], axis=1)\n",
    "\n",
    "phys_vert_advection_wet_day1 = numpy.nanmean(phys_vert_advection_tm_day1[:,wet_latlon_subset], axis=1)\n",
    "phys_vert_advection_dry_day1 = numpy.nanmean(phys_vert_advection_tm_day1[:,dry_latlon_subset], axis=1)"
   ]
  },
  {
   "cell_type": "code",
   "execution_count": 202,
   "metadata": {
    "ExecuteTime": {
     "end_time": "2018-04-16T23:35:12.865018Z",
     "start_time": "2018-04-16T23:35:12.415026Z"
    }
   },
   "outputs": [],
   "source": [
    "cont_omega_wet = numpy.nanmean(cont_omega_tm[:,wet_latlon_subset],axis=1)\n",
    "cont_omega_dry = numpy.nanmean(cont_omega_tm[:,dry_latlon_subset],axis=1)\n",
    "\n",
    "phys_omega_wet = numpy.nanmean(phys_omega_tm[:,wet_latlon_subset],axis=1)\n",
    "phys_omega_dry = numpy.nanmean(phys_omega_tm[:,dry_latlon_subset],axis=1)"
   ]
  },
  {
   "cell_type": "code",
   "execution_count": 203,
   "metadata": {
    "ExecuteTime": {
     "end_time": "2018-04-16T23:35:13.200085Z",
     "start_time": "2018-04-16T23:35:12.868064Z"
    }
   },
   "outputs": [],
   "source": [
    "cont_omega_wet_day1 = numpy.nanmean(cont_omega_tm_day1[:,wet_latlon_subset],axis=1)\n",
    "cont_omega_dry_day1 = numpy.nanmean(cont_omega_tm_day1[:,dry_latlon_subset],axis=1)\n",
    "\n",
    "phys_omega_wet_day1 = numpy.nanmean(phys_omega_tm_day1[:,wet_latlon_subset],axis=1)\n",
    "phys_omega_dry_day1 = numpy.nanmean(phys_omega_tm_day1[:,dry_latlon_subset],axis=1)"
   ]
  },
  {
   "cell_type": "markdown",
   "metadata": {},
   "source": [
    "# plot vertical changes using ptot change"
   ]
  },
  {
   "cell_type": "code",
   "execution_count": 204,
   "metadata": {
    "ExecuteTime": {
     "end_time": "2018-04-16T23:35:14.139744Z",
     "start_time": "2018-04-16T23:35:13.203184Z"
    }
   },
   "outputs": [],
   "source": [
    "cont_ptot_dry_region = numpy.nanmean(cont_ptot_midpoints[:,:,dry_latlon_subset], axis=(0,2))\n",
    "cont_ptot_wet_region = numpy.nanmean(cont_ptot_midpoints[:,:,wet_latlon_subset], axis=(0,2))"
   ]
  },
  {
   "cell_type": "code",
   "execution_count": 205,
   "metadata": {
    "ExecuteTime": {
     "end_time": "2018-04-16T23:35:14.144803Z",
     "start_time": "2018-04-16T23:35:14.141875Z"
    }
   },
   "outputs": [],
   "source": [
    "diff_wet_region_dqdt = phys_dqdt_wet_region-cont_dqdt_wet_region\n",
    "diff_dry_region_dqdt = phys_dqdt_dry_region-cont_dqdt_dry_region"
   ]
  },
  {
   "cell_type": "code",
   "execution_count": 206,
   "metadata": {
    "ExecuteTime": {
     "end_time": "2018-04-16T23:35:14.494710Z",
     "start_time": "2018-04-16T23:35:14.146575Z"
    }
   },
   "outputs": [],
   "source": [
    "diff_wet_region_conv = phys_convergence_wet_region-cont_convergence_wet_region\n",
    "diff_dry_region_conv = phys_convergence_dry_region-cont_convergence_dry_region"
   ]
  },
  {
   "cell_type": "code",
   "execution_count": 207,
   "metadata": {
    "ExecuteTime": {
     "end_time": "2018-04-16T23:35:14.731229Z",
     "start_time": "2018-04-16T23:35:14.497579Z"
    }
   },
   "outputs": [],
   "source": [
    "diff_wet_region_adv = phys_advection_wet_region-cont_advection_wet_region\n",
    "diff_dry_region_adv = phys_advection_dry_region-cont_advection_dry_region"
   ]
  },
  {
   "cell_type": "markdown",
   "metadata": {},
   "source": [
    "## climatology"
   ]
  },
  {
   "cell_type": "code",
   "execution_count": 208,
   "metadata": {
    "ExecuteTime": {
     "end_time": "2018-04-16T23:35:17.182124Z",
     "start_time": "2018-04-16T23:35:14.734366Z"
    }
   },
   "outputs": [
    {
     "data": {
      "image/png": "[encoded data removed]",
      "text/plain": [
       "<Figure size 432x288 with 2 Axes>"
      ]
     },
     "metadata": {},
     "output_type": "display_data"
    }
   ],
   "source": [
    "fontsize=12\n",
    "\n",
    "fig = mp.figure(figsize=(6,4))\n",
    "\n",
    "ax = fig.add_subplot(121)\n",
    "\n",
    "ax.plot(cont_advection_wet_region*1000.*86400.,cont_ptot_wet_region/100., c='firebrick')\n",
    "ax.axvline(0, ls='--', c='0.1')\n",
    "ax.axhline(860, ls='--', c='0.1')\n",
    "ax.set_ylim(1000,50)\n",
    "\n",
    "ax.tick_params(labelsize=fontsize)\n",
    "ax.set_xlabel('g kg$^{\\,-1}$ day$^{\\,-1}$', fontsize=fontsize)\n",
    "ax.set_ylabel('hPa', fontsize=fontsize)\n",
    "\n",
    "ax.text(s='Andes (10d mean)', x=0, y=1.02, ha='left', va='bottom', transform=ax.transAxes, fontsize=fontsize)\n",
    "\n",
    "\n",
    "\n",
    "\n",
    "\n",
    "\n",
    "ax = fig.add_subplot(122)\n",
    "\n",
    "ax.plot(cont_advection_dry_region*1000.*86400.,cont_ptot_dry_region/100., c='firebrick')\n",
    "ax.axvline(0, ls='--', c='0.1')\n",
    "ax.axhline(860, ls='--', c='0.1')\n",
    "ax.set_ylim(1000,50)\n",
    "\n",
    "ax.tick_params(labelsize=fontsize)\n",
    "ax.set_xlabel('g kg$^{\\,-1}$ day$^{\\,-1}$', fontsize=fontsize)\n",
    "ax.set_ylabel('hPa', fontsize=fontsize)\n",
    "\n",
    "ax.text(s='Amazon (10d mean)', x=0, y=1.0, ha='left', va='bottom', transform=ax.transAxes, fontsize=fontsize)\n",
    "\n",
    "#ax.text(s='860\\nhPa', x=0.0175, y=860, ha='left', va='center', fontsize=fontsize)\n",
    "\n",
    "ax.text(s='MOISTURE\\nADVECTION', x=1.25,y=1., ha='left', va='top', rotation=-90, transform=ax.transAxes,  fontsize=60)\n",
    "fig.tight_layout()\n",
    "\n",
    "fig.savefig('climatological_moisture_advection.png', dpi=600, transparent=True, bbox_inches='tight')"
   ]
  },
  {
   "cell_type": "markdown",
   "metadata": {},
   "source": [
    "## add vertical advection only"
   ]
  },
  {
   "cell_type": "code",
   "execution_count": 209,
   "metadata": {
    "ExecuteTime": {
     "end_time": "2018-04-16T23:35:17.189496Z",
     "start_time": "2018-04-16T23:35:17.185383Z"
    }
   },
   "outputs": [],
   "source": [
    "diff_vert_wet_region_conv = phys_vert_convergence_wet_region-cont_vert_convergence_wet_region\n",
    "diff_vert_dry_region_conv = phys_vert_convergence_dry_region-cont_vert_convergence_dry_region"
   ]
  },
  {
   "cell_type": "code",
   "execution_count": 210,
   "metadata": {
    "ExecuteTime": {
     "end_time": "2018-04-16T23:35:18.324605Z",
     "start_time": "2018-04-16T23:35:17.192165Z"
    }
   },
   "outputs": [],
   "source": [
    "diff_vert_wet_region_adv = phys_vert_advection_wet_region-cont_vert_advection_wet_region\n",
    "diff_vert_dry_region_adv = phys_vert_advection_dry_region-cont_vert_advection_dry_region"
   ]
  },
  {
   "cell_type": "code",
   "execution_count": 211,
   "metadata": {
    "ExecuteTime": {
     "end_time": "2018-04-16T23:35:18.615529Z",
     "start_time": "2018-04-16T23:35:18.327507Z"
    }
   },
   "outputs": [],
   "source": [
    "diff_vert_wet_region_day1 = phys_vert_advection_wet_day1-cont_vert_advection_wet_day1\n",
    "diff_vert_dry_region_day1 = phys_vert_advection_dry_day1-cont_vert_advection_dry_day1\n",
    "\n",
    "diff_dry_region_day1 = phys_advection_dry_day1-cont_advection_dry_day1\n",
    "diff_wet_region_day1 = phys_advection_wet_day1-cont_advection_wet_day1"
   ]
  },
  {
   "cell_type": "code",
   "execution_count": 212,
   "metadata": {
    "ExecuteTime": {
     "end_time": "2018-04-16T23:35:18.821500Z",
     "start_time": "2018-04-16T23:35:18.618415Z"
    }
   },
   "outputs": [],
   "source": [
    "omega_diff_wet_region = phys_omega_wet-cont_omega_wet\n",
    "omega_diff_dry_region = phys_omega_dry-cont_omega_dry\n",
    "\n",
    "omega_diff_wet_region_day1 = phys_omega_wet_day1-cont_omega_wet_day1\n",
    "omega_diff_dry_region_day1 = phys_omega_dry_day1-cont_omega_dry_day1"
   ]
  },
  {
   "cell_type": "code",
   "execution_count": 213,
   "metadata": {
    "ExecuteTime": {
     "end_time": "2018-04-16T23:35:22.077844Z",
     "start_time": "2018-04-16T23:35:18.824484Z"
    }
   },
   "outputs": [
    {
     "data": {
      "image/png": "[encoded data removed]",
      "text/plain": [
       "<Figure size 432x576 with 4 Axes>"
      ]
     },
     "metadata": {},
     "output_type": "display_data"
    }
   ],
   "source": [
    "fontsize=12\n",
    "\n",
    "fig = mp.figure(figsize=(6,8))\n",
    "\n",
    "ax = fig.add_subplot(221)\n",
    "\n",
    "ax.plot(diff_wet_region_adv*1000.*86400.,cont_ptot_wet_region/100., c='firebrick', label='full adv.')\n",
    "ax.plot(diff_vert_wet_region_adv*1000.*86400.,cont_ptot_wet_region/100., c='dodgerblue', label='vertical adv.')\n",
    "\n",
    "ax.plot(diff_wet_region_conv*1000.*86400.,cont_ptot_wet_region/100.,c='firebrick',ls='--')\n",
    "ax.plot(diff_vert_wet_region_conv*1000.*86400.,cont_ptot_wet_region/100.,c='dodgerblue',ls='--')\n",
    "\n",
    "ax.plot(diff_wet_region_dqdt*1000.*86400.,cont_ptot_wet_region/100.,c='0.5', label='dqdt')\n",
    "\n",
    "ax.axvline(0, ls='--', c='0.1')\n",
    "ax.axhline(860, ls='--', c='0.1')\n",
    "ax.set_ylim(1000,50)\n",
    "\n",
    "ax.tick_params(labelsize=fontsize)\n",
    "ax.set_xlabel('g kg$^{\\,-1}$ day$^{\\,-1}$', fontsize=fontsize)\n",
    "ax.set_ylabel('hPa', fontsize=fontsize)\n",
    "\n",
    "ax.text(s='Andes (10d mean)', x=0, y=1.02, ha='left', va='bottom', transform=ax.transAxes, fontsize=fontsize)\n",
    "\n",
    "handles, labels = ax.get_legend_handles_labels()\n",
    "legend = ax.legend(handles, labels, fontsize=fontsize, bbox_to_anchor=(0.99,0.99), edgecolor='None', \\\n",
    "                   facecolor='None', fancybox=False, bbox_transform=ax.transAxes, loc='upper right', \\\n",
    "                   borderaxespad=0, borderpad=0.25, handlelength=1.0, handletextpad=0.5, \\\n",
    "                   columnspacing=0.5, markerscale=1)\n",
    "\n",
    "\n",
    "ax = fig.add_subplot(222)\n",
    "\n",
    "ax.plot(diff_dry_region_adv*1000.*86400.,cont_ptot_dry_region/100., c='firebrick')\n",
    "ax.plot(diff_vert_dry_region_adv*1000.*86400.,cont_ptot_dry_region/100., c='dodgerblue')\n",
    "\n",
    "ax.plot(diff_dry_region_conv*1000.*86400.,cont_ptot_dry_region/100.,c='firebrick',ls='--', label='full conv.')\n",
    "ax.plot(diff_vert_dry_region_conv*1000.*86400.,cont_ptot_dry_region/100.,c='dodgerblue',ls='--', label='vert conv.')\n",
    "\n",
    "ax.plot(diff_dry_region_dqdt*1000.*86400.,cont_ptot_dry_region/100.,c='0.5',label='dqdt')\n",
    "ax.axvline(0, ls='--', c='0.1')\n",
    "ax.axhline(860, ls='--', c='0.1')\n",
    "ax.set_ylim(1000,50)\n",
    "\n",
    "ax.tick_params(labelsize=fontsize)\n",
    "ax.set_xlabel('g kg$^{\\,-1}$ day$^{\\,-1}$', fontsize=fontsize)\n",
    "ax.set_ylabel('hPa', fontsize=fontsize)\n",
    "\n",
    "ax.text(s='Amazon (10d mean)', x=0, y=1.02, ha='left', va='bottom', transform=ax.transAxes, fontsize=fontsize)\n",
    "ax.text(s='860\\nhPa', x=0.023, y=860, ha='left', va='center', fontsize=fontsize)\n",
    "\n",
    "handles, labels = ax.get_legend_handles_labels()\n",
    "legend = ax.legend(handles, labels, fontsize=fontsize, bbox_to_anchor=(0.01,0.99), edgecolor='None', \\\n",
    "                   facecolor='None', fancybox=False, bbox_transform=ax.transAxes, loc='upper left', \\\n",
    "                   borderaxespad=0, borderpad=0.25, handlelength=1.0, handletextpad=0.5, \\\n",
    "                   columnspacing=0.5, markerscale=1)\n",
    "\n",
    "\n",
    "\n",
    "ax = fig.add_subplot(223)\n",
    "\n",
    "ax.plot(diff_wet_region_day1*1000.*86400.,cont_ptot_wet_region/100., c='firebrick', label='full')\n",
    "ax.plot(diff_vert_wet_region_day1*1000.*86400.,cont_ptot_wet_region/100., c='dodgerblue', label='vertical')\n",
    "ax.axvline(0, ls='--', c='0.1')\n",
    "ax.axhline(860, ls='--', c='0.1')\n",
    "ax.set_ylim(1000,50)\n",
    "\n",
    "ax.tick_params(labelsize=fontsize)\n",
    "ax.set_xlabel('g kg$^{\\,-1}$ day$^{\\,-1}$', fontsize=fontsize)\n",
    "ax.set_ylabel('hPa', fontsize=fontsize)\n",
    "\n",
    "ax.text(s='Andes (day 1)', x=0, y=1.02, ha='left', va='bottom', transform=ax.transAxes, fontsize=fontsize)\n",
    "\n",
    "\n",
    "\n",
    "\n",
    "\n",
    "ax = fig.add_subplot(224)\n",
    "\n",
    "ax.plot(diff_dry_region_day1*1000.*86400.,cont_ptot_dry_region/100., c='firebrick')\n",
    "ax.plot(diff_vert_dry_region_day1*1000.*86400.,cont_ptot_dry_region/100., c='dodgerblue')\n",
    "ax.axvline(0, ls='--', c='0.1')\n",
    "ax.axhline(860, ls='--', c='0.1')\n",
    "ax.set_ylim(1000,50)\n",
    "\n",
    "ax.tick_params(labelsize=fontsize)\n",
    "ax.set_xlabel('g kg$^{\\,-1}$ day$^{\\,-1}$', fontsize=fontsize)\n",
    "ax.set_ylabel('hPa', fontsize=fontsize)\n",
    "\n",
    "ax.text(s='Amazon (day 1)', x=0, y=1.02, ha='left', va='bottom', transform=ax.transAxes, fontsize=fontsize)\n",
    "\n",
    "\n",
    "fig.tight_layout()\n",
    "\n",
    "fig.savefig('mean_moisture_advection_10d_and_day1.png', dpi=600, transparent=True, bbox_inches='tight')"
   ]
  },
  {
   "cell_type": "markdown",
   "metadata": {},
   "source": [
    "## plot omega vertical structure change"
   ]
  },
  {
   "cell_type": "code",
   "execution_count": 214,
   "metadata": {
    "ExecuteTime": {
     "end_time": "2018-04-16T23:35:25.014116Z",
     "start_time": "2018-04-16T23:35:22.081238Z"
    }
   },
   "outputs": [
    {
     "data": {
      "image/png": "[encoded data removed]",
      "text/plain": [
       "<Figure size 432x576 with 4 Axes>"
      ]
     },
     "metadata": {},
     "output_type": "display_data"
    }
   ],
   "source": [
    "fontsize=12\n",
    "\n",
    "fig = mp.figure(figsize=(6,8))\n",
    "\n",
    "ax = fig.add_subplot(221)\n",
    "\n",
    "ax.plot(omega_diff_wet_region*86400./100.,cont_ptot_wet_region/100., c='firebrick', label='10d mean')\n",
    "ax.plot(omega_diff_wet_region_day1*86400./100.,cont_ptot_wet_region/100., c='dodgerblue', label='day 1')\n",
    "ax.axvline(0, ls='--', c='0.1')\n",
    "ax.axhline(860, ls='--', c='0.1')\n",
    "ax.set_ylim(1000,50)\n",
    "\n",
    "ax.tick_params(labelsize=fontsize)\n",
    "ax.set_xlabel('$\\Delta\\omega$ (hPa day$^{\\,-1}$)', fontsize=fontsize)\n",
    "ax.set_ylabel('hPa', fontsize=fontsize)\n",
    "\n",
    "ax.text(s='Andes', x=0, y=1.02, ha='left', va='bottom', transform=ax.transAxes, fontsize=fontsize)\n",
    "\n",
    "handles, labels = ax.get_legend_handles_labels()\n",
    "handles = handles[::-1]; labels=labels[::-1] # to reverse\n",
    "legend = ax.legend(handles, labels, fontsize=fontsize, bbox_to_anchor=(0.03,0.99), edgecolor='None', \\\n",
    "                   facecolor='None', fancybox=False, bbox_transform=ax.transAxes, loc='upper left', \\\n",
    "                   borderaxespad=0, borderpad=0.25, handlelength=1.0, handletextpad=0.5, \\\n",
    "                   columnspacing=0.5, markerscale=1)\n",
    "\n",
    "\n",
    "\n",
    "\n",
    "\n",
    "\n",
    "ax = fig.add_subplot(222)\n",
    "\n",
    "ax.plot(omega_diff_dry_region*86400./100.,cont_ptot_dry_region/100., c='firebrick')\n",
    "ax.plot(omega_diff_dry_region_day1*86400./100.,cont_ptot_dry_region/100., c='dodgerblue')\n",
    "ax.axvline(0, ls='--', c='0.1')\n",
    "ax.axhline(860, ls='--', c='0.1')\n",
    "ax.set_ylim(1000,50)\n",
    "\n",
    "ax.tick_params(labelsize=fontsize)\n",
    "ax.set_xlabel('$\\Delta\\omega$ (hPa day$^{\\,-1}$)', fontsize=fontsize)\n",
    "ax.set_ylabel('hPa', fontsize=fontsize)\n",
    "\n",
    "ax.text(s='Amazon', x=0, y=1.02, ha='left', va='bottom', transform=ax.transAxes, fontsize=fontsize)\n",
    "\n",
    "\n",
    "\n",
    "\n",
    "\n",
    "ax = fig.add_subplot(223)\n",
    "\n",
    "ax.plot(cont_omega_wet*86400./100.,cont_ptot_wet_region/100., c='firebrick', label='10d mean')\n",
    "ax.axvline(0, ls='--', c='0.1')\n",
    "ax.axhline(860, ls='--', c='0.1')\n",
    "ax.set_ylim(1000,50)\n",
    "\n",
    "ax.tick_params(labelsize=fontsize)\n",
    "ax.set_xlabel('$\\omega$ (hPa day$^{\\,-1}$)', fontsize=fontsize)\n",
    "ax.set_ylabel('hPa', fontsize=fontsize)\n",
    "\n",
    "ax.text(s='Andes', x=0, y=1.02, ha='left', va='bottom', transform=ax.transAxes, fontsize=fontsize)\n",
    "\n",
    "handles, labels = ax.get_legend_handles_labels()\n",
    "handles = handles[::-1]; labels=labels[::-1] # to reverse\n",
    "legend = ax.legend(handles, labels, fontsize=fontsize, bbox_to_anchor=(0.03,0.99), edgecolor='None', \\\n",
    "                   facecolor='None', fancybox=False, bbox_transform=ax.transAxes, loc='upper left', \\\n",
    "                   borderaxespad=0, borderpad=0.25, handlelength=1.0, handletextpad=0.5, \\\n",
    "                   columnspacing=0.5, markerscale=1)\n",
    "\n",
    "\n",
    "\n",
    "\n",
    "\n",
    "\n",
    "ax = fig.add_subplot(224)\n",
    "\n",
    "ax.plot(cont_omega_dry*86400./100.,cont_ptot_dry_region/100., c='firebrick')\n",
    "ax.axvline(0, ls='--', c='0.1')\n",
    "ax.axhline(860, ls='--', c='0.1')\n",
    "ax.set_ylim(1000,50)\n",
    "\n",
    "ax.tick_params(labelsize=fontsize)\n",
    "ax.set_xlabel('$\\omega$ (hPa day$^{\\,-1}$)', fontsize=fontsize)\n",
    "ax.set_ylabel('hPa', fontsize=fontsize)\n",
    "\n",
    "ax.text(s='Amazon', x=0, y=1.02, ha='left', va='bottom', transform=ax.transAxes, fontsize=fontsize)\n",
    "\n",
    "\n",
    "fig.tight_layout()\n",
    "\n",
    "fig.savefig('vertical_velocity_andes_amazon.png', dpi=600, transparent=True, bbox_inches='tight')"
   ]
  },
  {
   "cell_type": "code",
   "execution_count": null,
   "metadata": {},
   "outputs": [],
   "source": []
  },
  {
   "cell_type": "code",
   "execution_count": null,
   "metadata": {},
   "outputs": [],
   "source": []
  },
  {
   "cell_type": "markdown",
   "metadata": {},
   "source": [
    "# hourly vertical profile plots"
   ]
  },
  {
   "cell_type": "code",
   "execution_count": 215,
   "metadata": {
    "ExecuteTime": {
     "end_time": "2018-04-16T23:35:25.592443Z",
     "start_time": "2018-04-16T23:35:25.015836Z"
    }
   },
   "outputs": [],
   "source": [
    "cont_p_lat_subset = cont_p_midpoints[:,:,lat_indices[:,0],:]\n",
    "phys_p_lat_subset = phys_p_midpoints[:,:,lat_indices[:,0],:]"
   ]
  },
  {
   "cell_type": "code",
   "execution_count": 216,
   "metadata": {
    "ExecuteTime": {
     "end_time": "2018-04-16T23:35:26.735494Z",
     "start_time": "2018-04-16T23:35:25.594535Z"
    }
   },
   "outputs": [],
   "source": [
    "cont_advection_lat_subset = cont_advection[:,:,lat_indices[:,0],:]\n",
    "phys_advection_lat_subset = phys_advection[:,:,lat_indices[:,0],:]\n",
    "\n",
    "cont_convergence_lat_subset = cont_convergence[:,:,lat_indices[:,0],:]\n",
    "phys_convergence_lat_subset = phys_convergence[:,:,lat_indices[:,0],:]"
   ]
  },
  {
   "cell_type": "code",
   "execution_count": 217,
   "metadata": {
    "ExecuteTime": {
     "end_time": "2018-04-16T23:35:28.839170Z",
     "start_time": "2018-04-16T23:35:26.737603Z"
    }
   },
   "outputs": [],
   "source": [
    "cont_adv_latmean = numpy.nanmean(cont_advection_lat_subset, axis=2)\n",
    "phys_adv_latmean = numpy.nanmean(phys_advection_lat_subset, axis=2)\n",
    "\n",
    "cont_conv_latmean = numpy.nanmean(cont_convergence_lat_subset, axis=2)\n",
    "phys_conv_latmean = numpy.nanmean(phys_convergence_lat_subset, axis=2)"
   ]
  },
  {
   "cell_type": "code",
   "execution_count": 218,
   "metadata": {
    "ExecuteTime": {
     "end_time": "2018-04-16T23:35:30.707580Z",
     "start_time": "2018-04-16T23:35:28.841573Z"
    }
   },
   "outputs": [],
   "source": [
    "cont_dqdt_lat_subset = cont_dqdt[:,:,lat_indices[:,0],:]\n",
    "phys_dqdt_lat_subset = phys_dqdt[:,:,lat_indices[:,0],:]"
   ]
  },
  {
   "cell_type": "code",
   "execution_count": 219,
   "metadata": {
    "ExecuteTime": {
     "end_time": "2018-04-16T23:35:32.112976Z",
     "start_time": "2018-04-16T23:35:30.709929Z"
    }
   },
   "outputs": [],
   "source": [
    "cont_dqclouddt_lat_subset = cont_dqclouddt[:,:,lat_indices[:,0],:]\n",
    "phys_dqclouddt_lat_subset = phys_dqclouddt[:,:,lat_indices[:,0],:]"
   ]
  },
  {
   "cell_type": "code",
   "execution_count": 220,
   "metadata": {
    "ExecuteTime": {
     "end_time": "2018-04-16T23:35:33.358114Z",
     "start_time": "2018-04-16T23:35:32.115367Z"
    }
   },
   "outputs": [],
   "source": [
    "cont_dqraindt_lat_subset = cont_dqraindt[:,:,lat_indices[:,0],:]\n",
    "phys_dqraindt_lat_subset = phys_dqraindt[:,:,lat_indices[:,0],:]"
   ]
  },
  {
   "cell_type": "markdown",
   "metadata": {},
   "source": [
    "# lat means"
   ]
  },
  {
   "cell_type": "code",
   "execution_count": 221,
   "metadata": {
    "ExecuteTime": {
     "end_time": "2018-04-16T23:35:34.479995Z",
     "start_time": "2018-04-16T23:35:33.361079Z"
    }
   },
   "outputs": [],
   "source": [
    "cont_p_latmean = numpy.nanmean(cont_p_lat_subset, axis=2)\n",
    "phys_p_latmean = numpy.nanmean(phys_p_lat_subset, axis=2)"
   ]
  },
  {
   "cell_type": "code",
   "execution_count": 222,
   "metadata": {
    "ExecuteTime": {
     "end_time": "2018-04-16T23:35:36.297770Z",
     "start_time": "2018-04-16T23:35:34.482195Z"
    }
   },
   "outputs": [
    {
     "name": "stderr",
     "output_type": "stream",
     "text": [
      "/export/home/blangenb/anaconda3/lib/python3.6/site-packages/ipykernel_launcher.py:1: RuntimeWarning: Mean of empty slice\n",
      "  \"\"\"Entry point for launching an IPython kernel.\n",
      "/export/home/blangenb/anaconda3/lib/python3.6/site-packages/ipykernel_launcher.py:2: RuntimeWarning: Mean of empty slice\n",
      "  \n"
     ]
    }
   ],
   "source": [
    "cont_dqdt_latmean = numpy.nanmean(cont_dqdt_lat_subset, axis=2)\n",
    "phys_dqdt_latmean = numpy.nanmean(phys_dqdt_lat_subset, axis=2)"
   ]
  },
  {
   "cell_type": "code",
   "execution_count": 223,
   "metadata": {
    "ExecuteTime": {
     "end_time": "2018-04-16T23:35:38.122411Z",
     "start_time": "2018-04-16T23:35:36.300243Z"
    }
   },
   "outputs": [
    {
     "name": "stderr",
     "output_type": "stream",
     "text": [
      "/export/home/blangenb/anaconda3/lib/python3.6/site-packages/ipykernel_launcher.py:1: RuntimeWarning: Mean of empty slice\n",
      "  \"\"\"Entry point for launching an IPython kernel.\n",
      "/export/home/blangenb/anaconda3/lib/python3.6/site-packages/ipykernel_launcher.py:2: RuntimeWarning: Mean of empty slice\n",
      "  \n"
     ]
    }
   ],
   "source": [
    "cont_dqclouddt_latmean = numpy.nanmean(cont_dqclouddt_lat_subset, axis=2)\n",
    "phys_dqclouddt_latmean = numpy.nanmean(phys_dqclouddt_lat_subset, axis=2)"
   ]
  },
  {
   "cell_type": "code",
   "execution_count": 224,
   "metadata": {
    "ExecuteTime": {
     "end_time": "2018-04-16T23:35:39.922155Z",
     "start_time": "2018-04-16T23:35:38.124635Z"
    }
   },
   "outputs": [
    {
     "name": "stderr",
     "output_type": "stream",
     "text": [
      "/export/home/blangenb/anaconda3/lib/python3.6/site-packages/ipykernel_launcher.py:1: RuntimeWarning: Mean of empty slice\n",
      "  \"\"\"Entry point for launching an IPython kernel.\n",
      "/export/home/blangenb/anaconda3/lib/python3.6/site-packages/ipykernel_launcher.py:2: RuntimeWarning: Mean of empty slice\n",
      "  \n"
     ]
    }
   ],
   "source": [
    "cont_dqraindt_latmean = numpy.nanmean(cont_dqraindt_lat_subset, axis=2)\n",
    "phys_dqraindt_latmean = numpy.nanmean(phys_dqraindt_lat_subset, axis=2)"
   ]
  },
  {
   "cell_type": "code",
   "execution_count": 225,
   "metadata": {
    "ExecuteTime": {
     "end_time": "2018-04-16T23:35:40.763776Z",
     "start_time": "2018-04-16T23:35:39.924240Z"
    }
   },
   "outputs": [],
   "source": [
    "cont_ptot_midpoints_lat_subset = cont_ptot_midpoints[:,:,lat_indices[:,0],:]\n",
    "cont_ptot_midpoints_latmean = numpy.nanmean(cont_ptot_midpoints_lat_subset, axis=2)"
   ]
  },
  {
   "cell_type": "code",
   "execution_count": 226,
   "metadata": {
    "ExecuteTime": {
     "end_time": "2018-04-16T23:35:40.770165Z",
     "start_time": "2018-04-16T23:35:40.765966Z"
    }
   },
   "outputs": [],
   "source": [
    "xx,zz=numpy.meshgrid(xlong_midpoints[0,:],cont_ptot_midpoints[0,:,:,0].mean(axis=1))"
   ]
  },
  {
   "cell_type": "code",
   "execution_count": 227,
   "metadata": {
    "ExecuteTime": {
     "end_time": "2018-04-16T23:35:41.636787Z",
     "start_time": "2018-04-16T23:35:40.772089Z"
    }
   },
   "outputs": [],
   "source": [
    "diff_adv_latmean = phys_adv_latmean-cont_adv_latmean\n",
    "diff_conv_latmean = phys_conv_latmean-cont_conv_latmean\n",
    "diff_dqdt_latmean = phys_dqdt_latmean-cont_dqdt_latmean\n",
    "diff_dqclouddt_latmean = phys_dqclouddt_latmean-cont_dqclouddt_latmean\n",
    "diff_dqraindt_latmean = phys_dqraindt_latmean-cont_dqraindt_latmean"
   ]
  },
  {
   "cell_type": "markdown",
   "metadata": {},
   "source": [
    "## with residuals and qcloud and qrain"
   ]
  },
  {
   "cell_type": "code",
   "execution_count": 229,
   "metadata": {
    "ExecuteTime": {
     "end_time": "2018-04-17T00:31:12.715256Z",
     "start_time": "2018-04-17T00:28:10.190398Z"
    }
   },
   "outputs": [
    {
     "name": "stderr",
     "output_type": "stream",
     "text": [
      "/export/home/blangenb/anaconda3/lib/python3.6/site-packages/matplotlib/contour.py:1480: UserWarning: Warning: converting a masked element to nan.\n",
      "  self.zmax = float(z.max())\n",
      "/export/home/blangenb/anaconda3/lib/python3.6/site-packages/matplotlib/contour.py:1481: UserWarning: Warning: converting a masked element to nan.\n",
      "  self.zmin = float(z.min())\n"
     ]
    }
   ],
   "source": [
    "#cf=mp.contourf(xx+360.,cont_ptot_midpoints_latmean[10,:,:]/100.,cont_adv_latmean[10,:,:]*86400.*1000., cmap='RdBu', levels=numpy.arange(-10,11,2));mp.colorbar(cf)\n",
    "\n",
    "fontsize = 12\n",
    "\n",
    "xticks_deg_E=numpy.array((280,300,320))\n",
    "xticks = -(360-xticks_deg_E)\n",
    "xticks_format=[str(tick)+DEGREE_SIGN+'E' for tick in xticks_deg_E]\n",
    "\n",
    "t = 24\n",
    "\n",
    "for t in range(48):\n",
    "    \n",
    "    fig = mp.figure(figsize=(8.5,7.5))\n",
    "    \n",
    "    ax = fig.add_subplot(321)\n",
    "    ax.set_ylim(1000,700)\n",
    "\n",
    "    ax.set_facecolor('0.1')\n",
    "    contour1 = ax.contourf(xx+360.,cont_ptot_midpoints_latmean[t,:,:]/100.,\\\n",
    "                diff_dqdt_latmean[t,:,:]*86400.*1000., \\\n",
    "                levels=numpy.arange(-3,3.1,0.5), \\\n",
    "                cmap='RdBu', \\\n",
    "                extend='both')\n",
    "    ax.tick_params(labelsize=fontsize)\n",
    "    ax.set_ylim(1000,700)\n",
    "    ax.set_yticks([700,800,900,1000])\n",
    "    ax.set_xlim(xlong.min()+55.+360.,xlong.max()+360.)\n",
    "    ax.set_xticks([280,300,320])\n",
    "    ax.set_xticklabels(xticks_format)\n",
    "    ax.set_ylabel('hPa', fontsize=fontsize)\n",
    "    cbar = mp.colorbar(contour1)\n",
    "    cbar.ax.tick_params(labelsize=fontsize)\n",
    "    cbar.set_label('g $kg^{\\,-1}$ day$^{\\,-1}$', fontsize=fontsize)\n",
    "    ax.set_title('dqdt', fontsize=fontsize)\n",
    "    \n",
    "    \n",
    "    ax = fig.add_subplot(322)\n",
    "    ax.set_ylim(1000,700)\n",
    "    ax.set_facecolor('0.1')\n",
    "\n",
    "    contour2 = ax.contourf(xx+360.,cont_ptot_midpoints_latmean[t,:,:]/100.,\\\n",
    "                diff_conv_latmean[t,:,:]*86400.*1000., \\\n",
    "                levels=numpy.arange(-3,4,0.5),\\\n",
    "                cmap='RdBu', \\\n",
    "                extend='both')\n",
    "    ax.tick_params(labelsize=fontsize)\n",
    "    ax.set_ylim(1000,700)\n",
    "    ax.set_yticks([700,800,900,1000])\n",
    "    ax.set_xlim(xlong.min()+55.+360.,xlong.max()+360.)\n",
    "    cbar = mp.colorbar(contour2)\n",
    "    cbar.ax.tick_params(labelsize=fontsize)\n",
    "    cbar.set_label('g $kg^{\\,-1}$ day$^{\\,-1}$', fontsize=fontsize)\n",
    "    ax.set_xticks([280,300,320])\n",
    "    ax.set_xticklabels(xticks_format)\n",
    "    ax.set_ylabel('hPa', fontsize=fontsize)\n",
    "    ax.set_title('convergence', fontsize=fontsize)\n",
    "\n",
    "\n",
    "\n",
    "    ax = fig.add_subplot(323)\n",
    "    ax.set_ylim(1000,700)\n",
    "    ax.set_facecolor('0.1')\n",
    "\n",
    "    contour3 = ax.contourf(xx+360.,cont_ptot_midpoints_latmean[t,:,:]/100.,\\\n",
    "                diff_adv_latmean[t,:,:]*86400.*1000., \\\n",
    "                levels=numpy.arange(-3,3.1,0.5), \\\n",
    "                cmap='RdBu', \\\n",
    "                extend='both')\n",
    "    ax.tick_params(labelsize=fontsize)\n",
    "    ax.set_ylim(1000,700)\n",
    "    ax.set_yticks([700,800,900,1000])\n",
    "    ax.set_xlim(xlong.min()+55.+360.,xlong.max()+360.)\n",
    "    cbar = mp.colorbar(contour3)\n",
    "    cbar.ax.tick_params(labelsize=fontsize)\n",
    "    cbar.set_label('g $kg^{\\,-1}$ day$^{\\,-1}$', fontsize=fontsize)\n",
    "    ax.set_xticks([280,300,320])\n",
    "    ax.set_xticklabels(xticks_format)\n",
    "    ax.set_ylabel('hPa', fontsize=fontsize)\n",
    "    ax.set_title('advection', fontsize=fontsize)\n",
    "\n",
    "\n",
    "\n",
    "    ax = fig.add_subplot(324)\n",
    "    ax.set_ylim(1000,700)\n",
    "    ax.set_facecolor('0.1')\n",
    "\n",
    "    contour4 = ax.contourf(xx+360.,cont_ptot_midpoints_latmean[t,:,:]/100.,\\\n",
    "                diff_dqclouddt_latmean[t,:,:]*86400.*1000., \\\n",
    "                levels=numpy.arange(-3,3.1,0.5), \\\n",
    "                cmap='RdBu', \\\n",
    "                extend='both')\n",
    "    ax.tick_params(labelsize=fontsize)\n",
    "    ax.set_ylim(1000,700)\n",
    "    ax.set_yticks([700,800,900,1000])\n",
    "    ax.set_xlim(xlong.min()+55.+360.,xlong.max()+360.)\n",
    "    cbar = mp.colorbar(contour4)\n",
    "    cbar.ax.tick_params(labelsize=fontsize)\n",
    "    cbar.set_label('g $kg^{\\,-1}$ day$^{\\,-1}$', fontsize=fontsize)\n",
    "    ax.set_xticks([280,300,320])\n",
    "    ax.set_xticklabels(xticks_format)\n",
    "    ax.set_ylabel('hPa', fontsize=fontsize)\n",
    "    ax.set_title('dqdt for clouds', fontsize=fontsize)\n",
    "\n",
    "\n",
    "    ax = fig.add_subplot(325)\n",
    "    ax.set_ylim(1000,700)\n",
    "    ax.set_facecolor('0.1')\n",
    "\n",
    "    contour5 = ax.contourf(xx+360.,cont_ptot_midpoints_latmean[t,:,:]/100.,\\\n",
    "                diff_dqraindt_latmean[t,:,:]*86400.*1000., \\\n",
    "                levels=numpy.arange(-3,3.1,0.5), \\\n",
    "                cmap='RdBu', \\\n",
    "                extend='both')\n",
    "    ax.tick_params(labelsize=fontsize)\n",
    "    ax.set_ylim(1000,700)\n",
    "    ax.set_yticks([700,800,900,1000])\n",
    "    ax.set_xlim(xlong.min()+55.+360.,xlong.max()+360.)\n",
    "    cbar = mp.colorbar(contour5)\n",
    "    cbar.ax.tick_params(labelsize=fontsize)\n",
    "    cbar.set_label('g $kg^{\\,-1}$ day$^{\\,-1}$', fontsize=fontsize)\n",
    "    ax.set_xticks([280,300,320])\n",
    "    ax.set_xticklabels(xticks_format)\n",
    "    ax.set_ylabel('hPa', fontsize=fontsize)\n",
    "    ax.set_title('dqdt for rain', fontsize=fontsize)\n",
    "    \n",
    "    ax = fig.add_subplot(326)\n",
    "    ax.set_ylim(1000,700)\n",
    "    ax.set_facecolor('0.1')\n",
    "\n",
    "    contour6 = ax.contourf(xx+360.,cont_ptot_midpoints_latmean[t,:,:]/100.,\\\n",
    "                (diff_dqdt_latmean[t,:,:]-(diff_adv_latmean[t,:,:]+\\\n",
    "                                           diff_conv_latmean[t,:,:]+\\\n",
    "                                           diff_dqclouddt_latmean[t,:,:]+\\\n",
    "                                           diff_dqraindt_latmean[t,:,:]))*86400.*1000., \\\n",
    "                levels=numpy.arange(-3,3.1,0.5), \\\n",
    "                cmap='RdBu', \\\n",
    "                extend='both')\n",
    "    ax.tick_params(labelsize=fontsize)\n",
    "    ax.set_ylim(1000,700)\n",
    "    ax.set_yticks([700,800,900,1000])\n",
    "    ax.set_xlim(xlong.min()+55.+360.,xlong.max()+360.)\n",
    "    cbar = mp.colorbar(contour4)\n",
    "    cbar.ax.tick_params(labelsize=fontsize)\n",
    "    cbar.set_label('g $kg^{\\,-1}$ day$^{\\,-1}$', fontsize=fontsize)\n",
    "    ax.set_xticks([280,300,320])\n",
    "    ax.set_xticklabels(xticks_format)\n",
    "    ax.set_ylabel('hPa', fontsize=fontsize)\n",
    "    ax.set_title('residual', fontsize=fontsize)\n",
    "\n",
    "    \n",
    "    \n",
    "    fig.text(s='hour '+'{:02d}'.format(t+1), x=0.5, y=1., weight='bold', ha='center', transform=fig.transFigure, fontsize=fontsize)\n",
    "    \n",
    "    fig.tight_layout()\n",
    "    fig.savefig('dqdt_convergence_advection_hour'+'{:03d}'.format(t+1)+'.png', dpi=600, bbox_inches='tight')\n",
    "    \n",
    "    mp.close()\n",
    "    \n",
    "    "
   ]
  },
  {
   "cell_type": "markdown",
   "metadata": {},
   "source": [
    "# what about perturbation pressure?"
   ]
  },
  {
   "cell_type": "code",
   "execution_count": null,
   "metadata": {
    "ExecuteTime": {
     "end_time": "2018-04-16T23:17:07.747331Z",
     "start_time": "2018-04-16T23:16:57.836Z"
    }
   },
   "outputs": [],
   "source": [
    "diff_p_latmean = phys_p_latmean - cont_p_latmean"
   ]
  },
  {
   "cell_type": "code",
   "execution_count": null,
   "metadata": {
    "ExecuteTime": {
     "end_time": "2018-04-16T23:17:07.748380Z",
     "start_time": "2018-04-16T23:16:57.840Z"
    }
   },
   "outputs": [],
   "source": [
    "fontsize = 12\n",
    "\n",
    "xticks_deg_E=numpy.array((280,300,320))\n",
    "xticks = -(360-xticks_deg_E)\n",
    "xticks_format=[str(tick)+DEGREE_SIGN+'E' for tick in xticks_deg_E]\n",
    "\n",
    "for t in range(48):\n",
    "    \n",
    "    fig = mp.figure(figsize=(4.25,2.5))\n",
    "    \n",
    "    ax = fig.add_subplot(111)\n",
    "    ax.set_ylim(1000,500)\n",
    "\n",
    "    ax.set_facecolor('0.1')\n",
    "    contour1 = ax.contourf(xx+360.,cont_ptot_midpoints_latmean[t,:,:]/100.,\\\n",
    "                diff_p_latmean[t,:,:]/100., \\\n",
    "                levels=numpy.arange(-0.4,0.41,0.05), \\\n",
    "                cmap='RdBu', \\\n",
    "                extend='both')\n",
    "    ax.tick_params(labelsize=fontsize)\n",
    "    ax.set_ylim(1000,700)\n",
    "    ax.set_yticks([500,600,700,800,900,1000])\n",
    "    ax.set_xlim(xlong.min()+55.+360.,xlong.max()+360.)\n",
    "    ax.set_xticks([280,300,320])\n",
    "    ax.set_xticklabels(xticks_format)\n",
    "    ax.set_ylabel('hPa', fontsize=fontsize)\n",
    "    cbar = mp.colorbar(contour1)\n",
    "    cbar.ax.tick_params(labelsize=fontsize)\n",
    "    cbar.set_label('hPa', fontsize=fontsize)\n",
    "    ax.set_title('pert. pressure', fontsize=fontsize)\n",
    "    \n",
    "    fig.text(s='hour '+'{:02d}'.format(t+1), x=0.5, y=1., weight='bold', ha='center', transform=fig.transFigure, fontsize=fontsize)\n",
    "    \n",
    "    fig.tight_layout()\n",
    "    fig.savefig('p_pert_hour'+'{:03d}'.format(t+1)+'.png', dpi=600, bbox_inches='tight')\n",
    "    \n",
    "    mp.close()"
   ]
  },
  {
   "cell_type": "code",
   "execution_count": null,
   "metadata": {},
   "outputs": [],
   "source": []
  }
 ],
 "metadata": {
  "kernelspec": {
   "display_name": "Python 3",
   "language": "python",
   "name": "python3"
  },
  "language_info": {
   "codemirror_mode": {
    "name": "ipython",
    "version": 3
   },
   "file_extension": ".py",
   "mimetype": "text/x-python",
   "name": "python",
   "nbconvert_exporter": "python",
   "pygments_lexer": "ipython3",
   "version": "3.6.5"
  },
  "varInspector": {
   "cols": {
    "lenName": 16,
    "lenType": 16,
    "lenVar": 40
   },
   "kernels_config": {
    "python": {
     "delete_cmd_postfix": "",
     "delete_cmd_prefix": "del ",
     "library": "var_list.py",
     "varRefreshCmd": "print(var_dic_list())"
    },
    "r": {
     "delete_cmd_postfix": ") ",
     "delete_cmd_prefix": "rm(",
     "library": "var_list.r",
     "varRefreshCmd": "cat(var_dic_list()) "
    }
   },
   "types_to_exclude": [
    "module",
    "function",
    "builtin_function_or_method",
    "instance",
    "_Feature"
   ],
   "window_display": false
  }
 },
 "nbformat": 4,
 "nbformat_minor": 2
}
