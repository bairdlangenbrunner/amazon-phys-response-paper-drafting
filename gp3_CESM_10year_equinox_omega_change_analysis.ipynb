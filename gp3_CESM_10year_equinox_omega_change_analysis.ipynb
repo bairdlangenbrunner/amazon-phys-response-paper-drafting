{
 "cells": [
  {
   "cell_type": "code",
   "execution_count": 1,
   "metadata": {
    "ExecuteTime": {
     "end_time": "2018-05-10T23:07:11.978825Z",
     "start_time": "2018-05-10T23:06:57.248314Z"
    }
   },
   "outputs": [],
   "source": [
    "import numpy\n",
    "import xarray\n",
    "import matplotlib\n",
    "import matplotlib.pyplot as mp\n",
    "import datetime\n",
    "import matplotlib.colors\n",
    "import scipy.stats\n",
    "import itertools\n",
    "import string\n",
    "import matplotlib.patches\n",
    "\n",
    "import glob\n",
    "import pandas\n",
    "\n",
    "import mpl_toolkits\n",
    "import cartopy\n",
    "\n",
    "DEGREE_SIGN = u'\\u00B0'\n",
    "mp.rcParams.update({'mathtext.default': 'regular'})\n",
    "\n",
    "% matplotlib inline"
   ]
  },
  {
   "cell_type": "markdown",
   "metadata": {},
   "source": [
    "# import clm400 data"
   ]
  },
  {
   "cell_type": "code",
   "execution_count": 2,
   "metadata": {
    "ExecuteTime": {
     "end_time": "2018-05-10T23:07:12.025342Z",
     "start_time": "2018-05-10T23:07:12.016908Z"
    }
   },
   "outputs": [],
   "source": [
    "data_dir = '/beegfs/DATA/pritchard/blangenb/CESM_ARCHIVE/B_1850_CAM5.10years.cam0400.clm0400/'"
   ]
  },
  {
   "cell_type": "code",
   "execution_count": 3,
   "metadata": {
    "ExecuteTime": {
     "end_time": "2018-05-10T23:10:16.634720Z",
     "start_time": "2018-05-10T23:07:12.049574Z"
    }
   },
   "outputs": [
    {
     "name": "stderr",
     "output_type": "stream",
     "text": [
      "/export/home/blangenb/anaconda3/lib/python3.6/site-packages/xarray/coding/times.py:111: SerializationWarning: Unable to decode time axis into full numpy.datetime64 objects, continuing using dummy netcdftime.datetime objects instead, reason: dates out of range\n",
      "  result = decode_cf_datetime(example_value, units, calendar)\n",
      "/export/home/blangenb/anaconda3/lib/python3.6/site-packages/xarray/coding/variables.py:66: SerializationWarning: Unable to decode time axis into full numpy.datetime64 objects, continuing using dummy netcdftime.datetime objects instead, reason: dates out of range\n",
      "  return self.func(self.array[key])\n"
     ]
    }
   ],
   "source": [
    "cont_cam_mfds = xarray.open_mfdataset(data_dir + 'atm/hist/*.nc')#, decode_times=False)"
   ]
  },
  {
   "cell_type": "code",
   "execution_count": 4,
   "metadata": {
    "ExecuteTime": {
     "end_time": "2018-05-10T23:10:16.864440Z",
     "start_time": "2018-05-10T23:10:16.858747Z"
    }
   },
   "outputs": [],
   "source": [
    "OMEGA_400 = cont_cam_mfds['OMEGA']"
   ]
  },
  {
   "cell_type": "code",
   "execution_count": 5,
   "metadata": {
    "ExecuteTime": {
     "end_time": "2018-05-10T23:11:05.034066Z",
     "start_time": "2018-05-10T23:11:05.026008Z"
    }
   },
   "outputs": [],
   "source": [
    "time_400 = cont_cam_mfds['time'].values"
   ]
  },
  {
   "cell_type": "markdown",
   "metadata": {},
   "source": [
    "# import clm1000 data"
   ]
  },
  {
   "cell_type": "code",
   "execution_count": 6,
   "metadata": {
    "ExecuteTime": {
     "end_time": "2018-05-10T23:11:07.971385Z",
     "start_time": "2018-05-10T23:11:07.966279Z"
    }
   },
   "outputs": [],
   "source": [
    "data_dir = '/beegfs/DATA/pritchard/blangenb/CESM_ARCHIVE/B_1850_CAM5.10years.cam0400.clm1000/'"
   ]
  },
  {
   "cell_type": "code",
   "execution_count": 7,
   "metadata": {
    "ExecuteTime": {
     "end_time": "2018-05-10T23:14:14.873358Z",
     "start_time": "2018-05-10T23:11:08.676321Z"
    }
   },
   "outputs": [
    {
     "name": "stderr",
     "output_type": "stream",
     "text": [
      "/export/home/blangenb/anaconda3/lib/python3.6/site-packages/xarray/coding/times.py:111: SerializationWarning: Unable to decode time axis into full numpy.datetime64 objects, continuing using dummy netcdftime.datetime objects instead, reason: dates out of range\n",
      "  result = decode_cf_datetime(example_value, units, calendar)\n",
      "/export/home/blangenb/anaconda3/lib/python3.6/site-packages/xarray/coding/variables.py:66: SerializationWarning: Unable to decode time axis into full numpy.datetime64 objects, continuing using dummy netcdftime.datetime objects instead, reason: dates out of range\n",
      "  return self.func(self.array[key])\n"
     ]
    }
   ],
   "source": [
    "phys_cam_mfds = xarray.open_mfdataset(data_dir + 'atm/hist/*.nc')#, decode_times=False)"
   ]
  },
  {
   "cell_type": "code",
   "execution_count": 8,
   "metadata": {
    "ExecuteTime": {
     "end_time": "2018-05-10T23:14:15.461462Z",
     "start_time": "2018-05-10T23:14:15.455753Z"
    }
   },
   "outputs": [],
   "source": [
    "OMEGA_1000 = phys_cam_mfds['OMEGA']"
   ]
  },
  {
   "cell_type": "code",
   "execution_count": 9,
   "metadata": {
    "ExecuteTime": {
     "end_time": "2018-05-10T23:14:15.890192Z",
     "start_time": "2018-05-10T23:14:15.884507Z"
    }
   },
   "outputs": [],
   "source": [
    "time_1000 = phys_cam_mfds['time'].values"
   ]
  },
  {
   "cell_type": "markdown",
   "metadata": {},
   "source": [
    "# Slice xarray data to pull out proper lats/lons, take diffs, etc."
   ]
  },
  {
   "cell_type": "code",
   "execution_count": 10,
   "metadata": {
    "ExecuteTime": {
     "end_time": "2018-05-10T23:14:16.324585Z",
     "start_time": "2018-05-10T23:14:16.312721Z"
    }
   },
   "outputs": [],
   "source": [
    "OMEGA_1000_sa = OMEGA_1000.sel(lat=slice(-30.,30.),lon=slice(270.,330.))\n",
    "OMEGA_400_sa = OMEGA_400.sel(lat=slice(-30.,30.),lon=slice(270.,330.))"
   ]
  },
  {
   "cell_type": "code",
   "execution_count": 11,
   "metadata": {
    "ExecuteTime": {
     "end_time": "2018-05-10T23:14:16.784416Z",
     "start_time": "2018-05-10T23:14:16.764428Z"
    }
   },
   "outputs": [],
   "source": [
    "OMEGA_400_sa_tm = OMEGA_400_sa.mean(dim='time')\n",
    "OMEGA_1000_sa_tm = OMEGA_1000_sa.mean(dim='time')"
   ]
  },
  {
   "cell_type": "code",
   "execution_count": 12,
   "metadata": {
    "ExecuteTime": {
     "end_time": "2018-05-10T23:30:02.039204Z",
     "start_time": "2018-05-10T23:14:17.230288Z"
    }
   },
   "outputs": [],
   "source": [
    "OMEGA_sa_tm_diffs = OMEGA_1000_sa_tm.values - OMEGA_400_sa_tm.values"
   ]
  },
  {
   "cell_type": "code",
   "execution_count": 16,
   "metadata": {
    "ExecuteTime": {
     "end_time": "2018-05-10T23:41:40.354026Z",
     "start_time": "2018-05-10T23:41:40.333139Z"
    }
   },
   "outputs": [
    {
     "data": {
      "text/plain": [
       "<xarray.DataArray 'OMEGA' (lev: 30, lat: 32, lon: 25)>\n",
       "dask.array<shape=(30, 32, 25), dtype=float32, chunksize=(30, 32, 25)>\n",
       "Coordinates:\n",
       "  * lev      (lev) float64 3.643 7.595 14.36 24.61 38.27 54.6 72.01 87.82 ...\n",
       "  * lat      (lat) float64 -29.37 -27.47 -25.58 -23.68 -21.79 -19.89 -18.0 ...\n",
       "  * lon      (lon) float64 270.0 272.5 275.0 277.5 280.0 282.5 285.0 287.5 ..."
      ]
     },
     "execution_count": 16,
     "metadata": {},
     "output_type": "execute_result"
    }
   ],
   "source": [
    "OMEGA_1000_sa_tm"
   ]
  },
  {
   "cell_type": "code",
   "execution_count": 42,
   "metadata": {
    "ExecuteTime": {
     "end_time": "2018-05-10T23:48:44.062379Z",
     "start_time": "2018-05-10T23:48:44.045684Z"
    }
   },
   "outputs": [
    {
     "data": {
      "text/plain": [
       "<xarray.DataArray 'lev' (lev: 30)>\n",
       "array([  3.643466,   7.59482 ,  14.356632,  24.61222 ,  38.2683  ,  54.59548 ,\n",
       "        72.012451,  87.82123 , 103.317127, 121.547241, 142.994039, 168.22508 ,\n",
       "       197.908087, 232.828619, 273.910817, 322.241902, 379.100904, 445.992574,\n",
       "       524.687175, 609.778695, 691.38943 , 763.404481, 820.858369, 859.534767,\n",
       "       887.020249, 912.644547, 936.198398, 957.48548 , 976.325407, 992.556095])\n",
       "Coordinates:\n",
       "  * lev      (lev) float64 3.643 7.595 14.36 24.61 38.27 54.6 72.01 87.82 ...\n",
       "Attributes:\n",
       "    long_name:      hybrid level at midpoints (1000*(A+B))\n",
       "    units:          level\n",
       "    positive:       down\n",
       "    standard_name:  atmosphere_hybrid_sigma_pressure_coordinate\n",
       "    formula_terms:  a: hyam b: hybm p0: P0 ps: PS"
      ]
     },
     "execution_count": 42,
     "metadata": {},
     "output_type": "execute_result"
    }
   ],
   "source": [
    "OMEGA_400_sa_tm['lev']"
   ]
  },
  {
   "cell_type": "code",
   "execution_count": 45,
   "metadata": {
    "ExecuteTime": {
     "end_time": "2018-05-10T23:49:20.599587Z",
     "start_time": "2018-05-10T23:49:20.171040Z"
    }
   },
   "outputs": [
    {
     "name": "stderr",
     "output_type": "stream",
     "text": [
      "/export/home/blangenb/anaconda3/lib/python3.6/site-packages/matplotlib/cbook/deprecation.py:107: MatplotlibDeprecationWarning: Adding an axes using the same arguments as a previous axes currently reuses the earlier instance.  In a future version, a new instance will always be created and returned.  Meanwhile, this warning can be suppressed, and the future behavior ensured, by passing a unique label to each axes instance.\n",
      "  warnings.warn(message, mplDeprecation, stacklevel=1)\n"
     ]
    },
    {
     "data": {
      "text/plain": [
       "Text(0,1.02,'$\\\\Delta$ omega (10 year mean)')"
      ]
     },
     "execution_count": 45,
     "metadata": {},
     "output_type": "execute_result"
    },
    {
     "data": {
      "image/png": "[encoded data removed]",
      "text/plain": [
       "<Figure size 432x288 with 2 Axes>"
      ]
     },
     "metadata": {},
     "output_type": "display_data"
    }
   ],
   "source": [
    "OMEGA_sa_tm_diffs_lat_mean = numpy.mean(OMEGA_sa_tm_diffs[:,10:22,:], axis=1)\n",
    "mp.contourf(OMEGA_400_sa_tm['lon'],OMEGA_400_sa_tm['lev'],OMEGA_sa_tm_diffs_lat_mean, levels=numpy.arange(-.01,.011,.001), extend='both', cmap='RdBu_r')\n",
    "cbar = mp.colorbar()\n",
    "cbar.ax.tick_params(labelsize=12)\n",
    "cbar.set_label('hPa s$^{\\,-1}$', fontsize=12)\n",
    "ax = mp.axes()\n",
    "ax.set_ylim(1000,100)\n",
    "ax.tick_params(labelsize=12)\n",
    "mp.text(s='$\\Delta$ omega (10 year mean)', x=0, y=1.02, ha='left', va='bottom', transform=ax.transAxes, fontsize=12)\n",
    "\n",
    "\n"
   ]
  },
  {
   "cell_type": "code",
   "execution_count": 73,
   "metadata": {
    "ExecuteTime": {
     "end_time": "2018-04-27T04:59:43.231140Z",
     "start_time": "2018-04-27T04:59:43.049261Z"
    }
   },
   "outputs": [
    {
     "data": {
      "text/plain": [
       "(3651, 32, 25)"
      ]
     },
     "execution_count": 73,
     "metadata": {},
     "output_type": "execute_result"
    },
    {
     "data": {
      "image/png": "[encoded data removed]",
      "text/plain": [
       "<Figure size 432x288 with 2 Axes>"
      ]
     },
     "metadata": {},
     "output_type": "display_data"
    }
   ],
   "source": [
    "mp.contourf(PRECT_sa_tm_diffs*84600.*1000.)\n",
    "mp.colorbar()\n",
    "PRECT_400_sa.shape"
   ]
  },
  {
   "cell_type": "code",
   "execution_count": 100,
   "metadata": {
    "ExecuteTime": {
     "end_time": "2018-04-27T05:23:52.357701Z",
     "start_time": "2018-04-27T05:23:51.978521Z"
    }
   },
   "outputs": [
    {
     "data": {
      "text/plain": [
       "Text(0,1.02,'10-year mean $\\\\Delta$ precip.')"
      ]
     },
     "execution_count": 100,
     "metadata": {},
     "output_type": "execute_result"
    },
    {
     "data": {
      "image/png": "[encoded data removed]",
      "text/plain": [
       "<Figure size 432x216 with 2 Axes>"
      ]
     },
     "metadata": {},
     "output_type": "display_data"
    }
   ],
   "source": [
    "fontsize=12\n",
    "\n",
    "map_crs = cartopy.crs.PlateCarree()\n",
    "data_crs = cartopy.crs.PlateCarree()\n",
    "\n",
    "fig = mp.figure(figsize=(6,3))\n",
    "ax = fig.add_subplot(111, projection=map_crs)\n",
    "ax.coastlines()\n",
    "\n",
    "ax.set_extent([270,330,-27,20])\n",
    "\n",
    "levels = numpy.arange(-2.5,2.6,0.25)\n",
    "contour_map = ax.contourf(PRECT_400_sa['lon'].values, \\\n",
    "                          PRECT_400_sa['lat'].values, \\\n",
    "                          PRECT_sa_tm_diffs*86400*1000, \\\n",
    "                          cmap='RdBu', \\\n",
    "                          levels=levels, \\\n",
    "                          transform=data_crs, \\\n",
    "                          extend='both')\n",
    "\n",
    "cbar = mp.colorbar(contour_map)\n",
    "cbar.set_ticks(levels[2::4])\n",
    "cbar.ax.tick_params(labelsize=fontsize)\n",
    "\n",
    "ax.text(s='10-year mean $\\Delta$ precip.', \\\n",
    "        x=0, y=1.02, \\\n",
    "        ha='left', va='bottom', \\\n",
    "        transform=ax.transAxes, \\\n",
    "        fontsize=fontsize)"
   ]
  },
  {
   "cell_type": "code",
   "execution_count": null,
   "metadata": {},
   "outputs": [],
   "source": []
  }
 ],
 "metadata": {
  "kernelspec": {
   "display_name": "Python 3",
   "language": "python",
   "name": "python3"
  },
  "language_info": {
   "codemirror_mode": {
    "name": "ipython",
    "version": 3
   },
   "file_extension": ".py",
   "mimetype": "text/x-python",
   "name": "python",
   "nbconvert_exporter": "python",
   "pygments_lexer": "ipython3",
   "version": "3.6.5"
  },
  "varInspector": {
   "cols": {
    "lenName": 16,
    "lenType": 16,
    "lenVar": 40
   },
   "kernels_config": {
    "python": {
     "delete_cmd_postfix": "",
     "delete_cmd_prefix": "del ",
     "library": "var_list.py",
     "varRefreshCmd": "print(var_dic_list())"
    },
    "r": {
     "delete_cmd_postfix": ") ",
     "delete_cmd_prefix": "rm(",
     "library": "var_list.r",
     "varRefreshCmd": "cat(var_dic_list()) "
    }
   },
   "types_to_exclude": [
    "module",
    "function",
    "builtin_function_or_method",
    "instance",
    "_Feature"
   ],
   "window_display": false
  }
 },
 "nbformat": 4,
 "nbformat_minor": 2
}
