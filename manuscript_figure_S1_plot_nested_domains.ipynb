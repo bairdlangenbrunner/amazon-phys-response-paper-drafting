{
 "cells": [
  {
   "cell_type": "code",
   "execution_count": 79,
   "metadata": {
    "ExecuteTime": {
     "end_time": "2018-06-07T01:26:50.676315Z",
     "start_time": "2018-06-07T01:26:50.594129Z"
    }
   },
   "outputs": [],
   "source": [
    "import xarray\n",
    "import matplotlib.pyplot as mp\n",
    "import cartopy\n",
    "import matplotlib.patches\n",
    "import matplotlib.patheffects"
   ]
  },
  {
   "cell_type": "code",
   "execution_count": 8,
   "metadata": {
    "ExecuteTime": {
     "end_time": "2018-06-07T00:59:56.777111Z",
     "start_time": "2018-06-07T00:59:56.751928Z"
    }
   },
   "outputs": [],
   "source": [
    "root = '/beegfs/DATA/pritchard/blangenb/WRF_ARCHIVE/CHEYENNE/nested_FMAASO_10days/400/001/'"
   ]
  },
  {
   "cell_type": "markdown",
   "metadata": {},
   "source": [
    "open example files for d01, d02, d03"
   ]
  },
  {
   "cell_type": "code",
   "execution_count": 31,
   "metadata": {
    "ExecuteTime": {
     "end_time": "2018-06-07T01:07:35.443569Z",
     "start_time": "2018-06-07T01:07:35.407905Z"
    }
   },
   "outputs": [],
   "source": [
    "d01_filename = 'wrfout_d01_1979-01-01_00:00:00'\n",
    "d02_filename = 'wrfout_d02_1979-01-01_00:00:00'\n",
    "d03_filename = 'wrfout_d03_1979-01-01_00:00:00'"
   ]
  },
  {
   "cell_type": "code",
   "execution_count": 32,
   "metadata": {
    "ExecuteTime": {
     "end_time": "2018-06-07T01:07:50.591809Z",
     "start_time": "2018-06-07T01:07:47.160977Z"
    }
   },
   "outputs": [],
   "source": [
    "d01_ds = xarray.open_dataset(root+d01_filename)\n",
    "d02_ds = xarray.open_dataset(root+d02_filename)\n",
    "d03_ds = xarray.open_dataset(root+d03_filename)"
   ]
  },
  {
   "cell_type": "code",
   "execution_count": 33,
   "metadata": {
    "ExecuteTime": {
     "end_time": "2018-06-07T01:08:09.062429Z",
     "start_time": "2018-06-07T01:08:01.936979Z"
    }
   },
   "outputs": [],
   "source": [
    "XLAT_d01 = d01_ds['XLAT'].values\n",
    "XLONG_d01 = d01_ds['XLONG'].values\n",
    "\n",
    "XLAT_d02 = d02_ds['XLAT'].values\n",
    "XLONG_d02 = d02_ds['XLONG'].values\n",
    "\n",
    "XLAT_d03 = d03_ds['XLAT'].values\n",
    "XLONG_d03 = d03_ds['XLONG'].values"
   ]
  },
  {
   "cell_type": "code",
   "execution_count": 34,
   "metadata": {
    "ExecuteTime": {
     "end_time": "2018-06-07T01:08:20.764895Z",
     "start_time": "2018-06-07T01:08:20.544058Z"
    }
   },
   "outputs": [],
   "source": [
    "latmin_d01 = XLAT_d01.min()\n",
    "latmax_d01 = XLAT_d01.max()\n",
    "\n",
    "latmin_d02 = XLAT_d02.min()\n",
    "latmax_d02 = XLAT_d02.max()\n",
    "\n",
    "latmin_d03 = XLAT_d03.min()\n",
    "latmax_d03 = XLAT_d03.max()"
   ]
  },
  {
   "cell_type": "code",
   "execution_count": 40,
   "metadata": {
    "ExecuteTime": {
     "end_time": "2018-06-07T01:10:02.875590Z",
     "start_time": "2018-06-07T01:10:02.649709Z"
    }
   },
   "outputs": [],
   "source": [
    "lonmin_d01 = XLONG_d01.min()+360.\n",
    "lonmax_d01 = XLONG_d01.max()+360.\n",
    "\n",
    "lonmin_d02 = XLONG_d02.min()+360.\n",
    "lonmax_d02 = XLONG_d02.max()+360.\n",
    "\n",
    "lonmin_d03 = XLONG_d03.min()+360.\n",
    "lonmax_d03 = XLONG_d03.max()+360."
   ]
  },
  {
   "cell_type": "code",
   "execution_count": 36,
   "metadata": {
    "ExecuteTime": {
     "end_time": "2018-06-07T01:08:43.813750Z",
     "start_time": "2018-06-07T01:08:43.781716Z"
    }
   },
   "outputs": [],
   "source": [
    "d01_height = latmax_d01-latmin_d01\n",
    "d02_height = latmax_d02-latmin_d02\n",
    "d03_height = latmax_d03-latmin_d03"
   ]
  },
  {
   "cell_type": "code",
   "execution_count": 43,
   "metadata": {
    "ExecuteTime": {
     "end_time": "2018-06-07T01:10:42.337716Z",
     "start_time": "2018-06-07T01:10:42.302622Z"
    }
   },
   "outputs": [],
   "source": [
    "d01_width = lonmax_d01-lonmin_d01\n",
    "d02_width = lonmax_d02-lonmin_d02\n",
    "d03_width = lonmax_d03-lonmin_d03"
   ]
  },
  {
   "cell_type": "code",
   "execution_count": 90,
   "metadata": {
    "ExecuteTime": {
     "end_time": "2018-06-12T16:19:28.015089Z",
     "start_time": "2018-06-12T16:19:27.494726Z"
    }
   },
   "outputs": [
    {
     "data": {
      "text/plain": [
       "-2.243599"
      ]
     },
     "execution_count": 90,
     "metadata": {},
     "output_type": "execute_result"
    }
   ],
   "source": [
    "latmin_d03"
   ]
  },
  {
   "cell_type": "code",
   "execution_count": 91,
   "metadata": {
    "ExecuteTime": {
     "end_time": "2018-06-12T16:19:36.742477Z",
     "start_time": "2018-06-12T16:19:36.689260Z"
    }
   },
   "outputs": [
    {
     "data": {
      "text/plain": [
       "12.03965"
      ]
     },
     "execution_count": 91,
     "metadata": {},
     "output_type": "execute_result"
    }
   ],
   "source": [
    "latmax_d03"
   ]
  },
  {
   "cell_type": "code",
   "execution_count": 41,
   "metadata": {
    "ExecuteTime": {
     "end_time": "2018-06-07T01:10:14.367482Z",
     "start_time": "2018-06-07T01:10:14.318924Z"
    }
   },
   "outputs": [
    {
     "data": {
      "text/plain": [
       "277.7049255371094"
      ]
     },
     "execution_count": 41,
     "metadata": {},
     "output_type": "execute_result"
    }
   ],
   "source": [
    "lonmin_d03"
   ]
  },
  {
   "cell_type": "code",
   "execution_count": 42,
   "metadata": {
    "ExecuteTime": {
     "end_time": "2018-06-07T01:10:25.843791Z",
     "start_time": "2018-06-07T01:10:25.799454Z"
    }
   },
   "outputs": [
    {
     "data": {
      "text/plain": [
       "313.6654510498047"
      ]
     },
     "execution_count": 42,
     "metadata": {},
     "output_type": "execute_result"
    }
   ],
   "source": [
    "lonmax_d03"
   ]
  },
  {
   "cell_type": "code",
   "execution_count": 89,
   "metadata": {
    "ExecuteTime": {
     "end_time": "2018-06-07T01:36:08.456386Z",
     "start_time": "2018-06-07T01:35:50.209545Z"
    }
   },
   "outputs": [
    {
     "data": {
      "image/png": "[encoded data removed]",
      "text/plain": [
       "<Figure size 468x360 with 1 Axes>"
      ]
     },
     "metadata": {},
     "output_type": "display_data"
    }
   ],
   "source": [
    "fontsize = 24\n",
    "\n",
    "fig = mp.figure(figsize=(6.5,5))\n",
    "\n",
    "map_proj = cartopy.crs.PlateCarree()\n",
    "#map_proj = cartopy.crs.Mercator(central_longitude=-64.0, min_latitude=latmin_d01, max_latitude=latmax_d01, globe=None, latitude_true_scale=5.25)\n",
    "#data_proj = cartopy.crs.Mercator(central_longitude=0.0, min_latitude=-80.0, max_latitude=84.0, globe=None, latitude_true_scale=0.0)\n",
    "\n",
    "ax = fig.add_subplot(111, projection=map_proj)\n",
    "ax.set_extent([lonmin_d01-20,lonmax_d01+20,latmin_d01-20,latmax_d01+20], crs=map_proj)\n",
    "\n",
    "\n",
    "ax.add_feature(cartopy.feature.LAND, color='forestgreen', alpha=0.75)\n",
    "ax.add_feature(cartopy.feature.OCEAN, color='dodgerblue', alpha=0.75)\n",
    "\n",
    "\n",
    "ax.add_patch(matplotlib.patches.Rectangle(xy=[lonmin_d01, latmin_d01], width=d01_width, height=d01_height,\n",
    "                                facecolor='none',\n",
    "                                edgecolor='firebrick',\\\n",
    "                                linewidth=3,\\\n",
    "                                transform=map_proj, zorder=2) )\n",
    "\n",
    "\n",
    "ax.add_patch(matplotlib.patches.Rectangle(xy=[lonmin_d02, latmin_d02], width=d02_width, height=d02_height,\n",
    "                                facecolor='none',\n",
    "                                edgecolor='orange',\\\n",
    "                                linewidth=3,\\\n",
    "                                transform=map_proj, zorder=2) )\n",
    "\n",
    "\n",
    "ax.add_patch(matplotlib.patches.Rectangle(xy=[lonmin_d03, latmin_d03], width=d03_width, height=d03_height,\n",
    "                                facecolor='none',\n",
    "                                edgecolor='gold',\\\n",
    "                                linewidth=3,\\\n",
    "                                transform=map_proj, zorder=2) )\n",
    "\n",
    "text1 = ax.text(s='50 km', x=lonmin_d01+2.5, y=latmax_d01-2.5, ha='left', va='top', color='firebrick', fontsize=fontsize, transform=map_proj)\n",
    "text2 = ax.text(s='10 km', x=lonmin_d02+2.5, y=latmax_d02-2.5, ha='left', va='top', color='orange', fontsize=fontsize, transform=map_proj)\n",
    "text3 = ax.text(s='2 km', x=lonmin_d03+2.5, y=latmax_d03-2.5, ha='left', va='top', color='gold', fontsize=fontsize, transform=map_proj)\n",
    "\n",
    "text1.set_path_effects([matplotlib.patheffects.Stroke(linewidth=2, foreground='0.1'), matplotlib.patheffects.Normal()])\n",
    "text2.set_path_effects([matplotlib.patheffects.Stroke(linewidth=2, foreground='0.1'), matplotlib.patheffects.Normal()])\n",
    "text3.set_path_effects([matplotlib.patheffects.Stroke(linewidth=2, foreground='0.1'), matplotlib.patheffects.Normal()])\n",
    "\n",
    "ax.coastlines()\n",
    "\n",
    "fig.tight_layout()\n",
    "fig.savefig('manuscript_fig_S1_nested_domains.png', dpi=600, bbox_inches='tight')"
   ]
  },
  {
   "cell_type": "code",
   "execution_count": null,
   "metadata": {},
   "outputs": [],
   "source": []
  }
 ],
 "metadata": {
  "kernelspec": {
   "display_name": "Python 3",
   "language": "python",
   "name": "python3"
  },
  "language_info": {
   "codemirror_mode": {
    "name": "ipython",
    "version": 3
   },
   "file_extension": ".py",
   "mimetype": "text/x-python",
   "name": "python",
   "nbconvert_exporter": "python",
   "pygments_lexer": "ipython3",
   "version": "3.6.5"
  },
  "varInspector": {
   "cols": {
    "lenName": 16,
    "lenType": 16,
    "lenVar": 40
   },
   "kernels_config": {
    "python": {
     "delete_cmd_postfix": "",
     "delete_cmd_prefix": "del ",
     "library": "var_list.py",
     "varRefreshCmd": "print(var_dic_list())"
    },
    "r": {
     "delete_cmd_postfix": ") ",
     "delete_cmd_prefix": "rm(",
     "library": "var_list.r",
     "varRefreshCmd": "cat(var_dic_list()) "
    }
   },
   "types_to_exclude": [
    "module",
    "function",
    "builtin_function_or_method",
    "instance",
    "_Feature"
   ],
   "window_display": false
  }
 },
 "nbformat": 4,
 "nbformat_minor": 2
}
