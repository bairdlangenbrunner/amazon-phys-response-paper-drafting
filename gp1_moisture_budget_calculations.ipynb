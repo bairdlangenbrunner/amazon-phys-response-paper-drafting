{
 "cells": [
  {
   "cell_type": "markdown",
   "metadata": {},
   "source": [
    "# import libraries"
   ]
  },
  {
   "cell_type": "code",
   "execution_count": 2,
   "metadata": {
    "ExecuteTime": {
     "end_time": "2018-06-29T23:36:35.531862Z",
     "start_time": "2018-06-29T23:36:35.098941Z"
    }
   },
   "outputs": [
    {
     "name": "stderr",
     "output_type": "stream",
     "text": [
      "/export/home/blangenb/anaconda3/lib/python3.6/site-packages/cmocean/tools.py:76: MatplotlibDeprecationWarning: The is_string_like function was deprecated in version 2.1.\n",
      "  if not mpl.cbook.is_string_like(rgbin[0]):\n"
     ]
    }
   ],
   "source": [
    "import numpy\n",
    "import xarray\n",
    "import matplotlib\n",
    "import matplotlib.pyplot as mp\n",
    "import datetime\n",
    "import matplotlib.colors\n",
    "import scipy.stats\n",
    "import itertools\n",
    "import string\n",
    "import matplotlib.patches\n",
    "import glob\n",
    "import matplotlib.gridspec\n",
    "import cmocean\n",
    "\n",
    "import wrf\n",
    "import netCDF4\n",
    "\n",
    "import pandas\n",
    "\n",
    "import matplotlib.ticker\n",
    "import cartopy.mpl.gridliner #import LONGITUDE_FORMATTER, LATITUDE_FORMATTER\n",
    "\n",
    "import mpl_toolkits\n",
    "import cartopy\n",
    "import cartopy.io.shapereader\n",
    "\n",
    "DEGREE_SIGN = u'\\u00B0'\n",
    "mp.rcParams.update({'mathtext.default': 'regular'})\n",
    "\n",
    "% matplotlib inline"
   ]
  },
  {
   "cell_type": "code",
   "execution_count": 3,
   "metadata": {
    "ExecuteTime": {
     "end_time": "2018-06-29T23:36:38.118416Z",
     "start_time": "2018-06-29T23:36:38.112926Z"
    }
   },
   "outputs": [],
   "source": [
    "run_info = 'FMAASO'\n",
    "skip_time=0"
   ]
  },
  {
   "cell_type": "markdown",
   "metadata": {},
   "source": [
    "# opening mean fields"
   ]
  },
  {
   "cell_type": "markdown",
   "metadata": {},
   "source": [
    "## control data"
   ]
  },
  {
   "cell_type": "code",
   "execution_count": 4,
   "metadata": {
    "ExecuteTime": {
     "end_time": "2018-06-29T23:36:42.306733Z",
     "start_time": "2018-06-29T23:36:40.162433Z"
    }
   },
   "outputs": [],
   "source": [
    "root_dir = '/beegfs/DATA/pritchard/blangenb/WRF_ARCHIVE/CHEYENNE/FMAASO/400/ens_mean_wrfout_files'\n",
    "file_list = sorted(glob.glob(root_dir+'/'+'wrfout*.nc'))\n",
    "ds_list = [netCDF4.Dataset(file) for file in file_list]"
   ]
  },
  {
   "cell_type": "raw",
   "metadata": {
    "ExecuteTime": {
     "end_time": "2018-05-29T22:57:04.205195Z",
     "start_time": "2018-05-29T22:53:48.268834Z"
    }
   },
   "source": [
    "geopot_stag_400 = wrf.getvar(ds_list, 'geopt_stag', timeidx=wrf.ALL_TIMES).values\n",
    "numpy.save('DATA_geopot_stag_400.npy', geopot_stag_400)"
   ]
  },
  {
   "cell_type": "raw",
   "metadata": {
    "ExecuteTime": {
     "end_time": "2018-04-20T20:37:06.170072Z",
     "start_time": "2018-04-20T20:36:46.200664Z"
    }
   },
   "source": [
    "ptot_400 = wrf.getvar(ds_list, 'p', timeidx=wrf.ALL_TIMES).values\n",
    "wa_400 = wrf.getvar(ds_list, 'wa', timeidx=wrf.ALL_TIMES).values\n",
    "ua_400 = wrf.getvar(ds_list, 'ua', timeidx=wrf.ALL_TIMES).values\n",
    "va_400 = wrf.getvar(ds_list, 'va', timeidx=wrf.ALL_TIMES).values\n",
    "tk_400 = wrf.getvar(ds_list, 'tk', timeidx=wrf.ALL_TIMES).values\n",
    "prw_400 = wrf.getvar(ds_list, 'prw', timeidx=wrf.ALL_TIMES).values\n",
    "\n",
    "geopot_400 = wrf.getvar(ds_list, 'geopotential', timeidx=wrf.ALL_TIMES).values\n",
    "\n",
    "numpy.save('DATA_ptot_400.npy', ptot_400)\n",
    "numpy.save('DATA_wa_400.npy', wa_400)\n",
    "numpy.save('DATA_ua_400.npy', ua_400)\n",
    "numpy.save('DATA_va_400.npy', va_400)\n",
    "numpy.save('DATA_tk_400.npy', tk_400)\n",
    "numpy.save('DATA_prw_400.npy', prw_400)\n"
   ]
  },
  {
   "cell_type": "code",
   "execution_count": 9,
   "metadata": {
    "ExecuteTime": {
     "end_time": "2018-05-29T19:03:02.114473Z",
     "start_time": "2018-05-29T19:01:12.754138Z"
    }
   },
   "outputs": [],
   "source": [
    "ptot_400 = numpy.load('DATA_ptot_400.npy')\n",
    "wa_400 = numpy.load('DATA_wa_400.npy')\n",
    "#ua_400 = numpy.load('DATA_ua_400.npy')\n",
    "#va_400 = numpy.load('DATA_va_400.npy')\n",
    "#tk_400 = numpy.load('DATA_tk_400.npy')\n",
    "#prw_400 = numpy.load('DATA_prw_400.npy')\n",
    "\n",
    "geopot_400 = numpy.load('DATA_geopot_400.npy')"
   ]
  },
  {
   "cell_type": "code",
   "execution_count": 10,
   "metadata": {
    "ExecuteTime": {
     "end_time": "2018-05-29T19:03:10.576659Z",
     "start_time": "2018-05-29T19:03:02.645711Z"
    }
   },
   "outputs": [],
   "source": [
    "cont_mfds = xarray.open_mfdataset(root_dir + '/' + 'wrfout*.nc')"
   ]
  },
  {
   "cell_type": "code",
   "execution_count": 11,
   "metadata": {
    "ExecuteTime": {
     "end_time": "2018-05-29T19:03:42.408763Z",
     "start_time": "2018-05-29T19:03:11.855155Z"
    }
   },
   "outputs": [],
   "source": [
    "time = cont_mfds['Times'].values\n",
    "xlat = cont_mfds['XLAT'].values[0,:,:]\n",
    "xlong = cont_mfds['XLONG'].values[0,:,:]\n",
    "landmask = cont_mfds['LANDMASK'].values[0,:,:]\n",
    "landmask_midpoints = landmask[1:,1:]"
   ]
  },
  {
   "cell_type": "code",
   "execution_count": 12,
   "metadata": {
    "ExecuteTime": {
     "end_time": "2018-05-29T19:03:43.629000Z",
     "start_time": "2018-05-29T19:03:43.618611Z"
    }
   },
   "outputs": [],
   "source": [
    "qvapor_400 = cont_mfds['QVAPOR']\n",
    "u_400 = cont_mfds['U']\n",
    "v_400 = cont_mfds['V']\n",
    "w_400 = cont_mfds['W']\n",
    "qcloud_400 = cont_mfds['QCLOUD']\n",
    "qrain_400 = cont_mfds['QRAIN']"
   ]
  },
  {
   "cell_type": "code",
   "execution_count": 13,
   "metadata": {
    "ExecuteTime": {
     "end_time": "2018-05-29T19:03:44.866763Z",
     "start_time": "2018-05-29T19:03:44.859932Z"
    }
   },
   "outputs": [],
   "source": [
    "rainc_400 = cont_mfds['RAINC']\n",
    "rainnc_400 = cont_mfds['RAINNC']"
   ]
  },
  {
   "cell_type": "markdown",
   "metadata": {},
   "source": [
    "## phys data"
   ]
  },
  {
   "cell_type": "code",
   "execution_count": 85,
   "metadata": {
    "ExecuteTime": {
     "end_time": "2018-05-29T23:39:05.934492Z",
     "start_time": "2018-05-29T23:39:05.816436Z"
    }
   },
   "outputs": [],
   "source": [
    "root_dir = '/beegfs/DATA/pritchard/blangenb/WRF_ARCHIVE/CHEYENNE/FMAASO/1000/ens_mean_wrfout_files'\n",
    "file_list = sorted(glob.glob(root_dir+'/'+'wrfout*.nc'))\n",
    "ds_list = [netCDF4.Dataset(file) for file in file_list]"
   ]
  },
  {
   "cell_type": "raw",
   "metadata": {
    "ExecuteTime": {
     "end_time": "2018-05-29T23:00:32.501004Z",
     "start_time": "2018-05-29T22:57:19.578559Z"
    }
   },
   "source": [
    "geopot_stag_1000 = wrf.getvar(ds_list, 'geopt_stag', timeidx=wrf.ALL_TIMES).values\n",
    "numpy.save('DATA_geopot_stag_1000.npy', geopot_stag_400)"
   ]
  },
  {
   "cell_type": "raw",
   "metadata": {
    "ExecuteTime": {
     "end_time": "2018-05-29T23:44:27.036767Z",
     "start_time": "2018-05-29T23:39:11.162774Z"
    }
   },
   "source": [
    "geopot_1000 = wrf.getvar(ds_list, 'geopotential', timeidx=wrf.ALL_TIMES).values\n",
    "numpy.save('DATA_geopot_1000.npy', geopot_1000)"
   ]
  },
  {
   "cell_type": "raw",
   "metadata": {
    "ExecuteTime": {
     "end_time": "2018-04-19T00:43:37.640789Z",
     "start_time": "2018-04-19T00:43:15.810474Z"
    }
   },
   "source": [
    "ptot_1000 = wrf.getvar(ds_list, 'p', timeidx=wrf.ALL_TIMES).values\n",
    "wa_1000 = wrf.getvar(ds_list, 'wa', timeidx=wrf.ALL_TIMES).values\n",
    "ua_1000 = wrf.getvar(ds_list, 'ua', timeidx=wrf.ALL_TIMES).values\n",
    "va_1000 = wrf.getvar(ds_list, 'va', timeidx=wrf.ALL_TIMES).values\n",
    "tk_1000 = wrf.getvar(ds_list, 'tk', timeidx=wrf.ALL_TIMES).values\n",
    "prw_1000 = wrf.getvar(ds_list, 'prw', timeidx=wrf.ALL_TIMES).values\n",
    "geopot_1000 = wrf.getvar(ds_list, 'geopotential', timeidx=wrf.ALL_TIMES).values\n",
    "\n",
    "numpy.save('DATA_ptot_1000.npy', ptot_1000)\n",
    "numpy.save('DATA_wa_1000.npy', wa_1000)\n",
    "numpy.save('DATA_ua_1000.npy', ua_1000)\n",
    "numpy.save('DATA_va_1000.npy', va_1000)\n",
    "numpy.save('DATA_tk_1000.npy', tk_1000)\n",
    "numpy.save('DATA_prw_1000.npy', prw_1000)\n",
    "numpy.save('DATA_geopot_1000.npy', geopot_1000)"
   ]
  },
  {
   "cell_type": "code",
   "execution_count": null,
   "metadata": {
    "ExecuteTime": {
     "end_time": "2018-05-29T19:05:32.962339Z",
     "start_time": "2018-05-29T19:03:48.390997Z"
    }
   },
   "outputs": [],
   "source": [
    "ptot_1000 = numpy.load('DATA_ptot_1000.npy')\n",
    "wa_1000 = numpy.load('DATA_wa_1000.npy')\n",
    "#ua_1000 = numpy.load('DATA_ua_1000.npy')\n",
    "#va_1000 = numpy.load('DATA_va_1000.npy')\n",
    "#tk_1000 = numpy.load('DATA_tk_1000.npy')\n",
    "#prw_1000 = numpy.load('DATA_prw_1000.npy')\n",
    "\n"
   ]
  },
  {
   "cell_type": "code",
   "execution_count": 79,
   "metadata": {
    "ExecuteTime": {
     "end_time": "2018-05-29T23:37:06.287256Z",
     "start_time": "2018-05-29T23:36:30.526592Z"
    }
   },
   "outputs": [],
   "source": [
    "geopot_1000 = numpy.load('DATA_geopot_1000.npy')"
   ]
  },
  {
   "cell_type": "code",
   "execution_count": 16,
   "metadata": {
    "ExecuteTime": {
     "end_time": "2018-05-29T19:15:47.509322Z",
     "start_time": "2018-05-29T19:15:39.601728Z"
    }
   },
   "outputs": [],
   "source": [
    "phys_mfds = xarray.open_mfdataset(root_dir + '/' + 'wrfout*.nc')"
   ]
  },
  {
   "cell_type": "code",
   "execution_count": 17,
   "metadata": {
    "ExecuteTime": {
     "end_time": "2018-05-29T19:15:49.684136Z",
     "start_time": "2018-05-29T19:15:49.673673Z"
    }
   },
   "outputs": [],
   "source": [
    "qvapor_1000 = phys_mfds['QVAPOR']\n",
    "u_1000 = phys_mfds['U']\n",
    "v_1000 = phys_mfds['V']\n",
    "w_1000 = phys_mfds['W']\n",
    "qcloud_1000 = phys_mfds['QCLOUD']\n",
    "qrain_1000 = phys_mfds['QRAIN']"
   ]
  },
  {
   "cell_type": "code",
   "execution_count": 18,
   "metadata": {
    "ExecuteTime": {
     "end_time": "2018-05-29T19:15:51.870278Z",
     "start_time": "2018-05-29T19:15:51.863390Z"
    }
   },
   "outputs": [],
   "source": [
    "rainc_1000 = phys_mfds['RAINC']\n",
    "rainnc_1000 = phys_mfds['RAINNC']"
   ]
  },
  {
   "cell_type": "markdown",
   "metadata": {},
   "source": [
    "## define dx, dy"
   ]
  },
  {
   "cell_type": "code",
   "execution_count": 19,
   "metadata": {
    "ExecuteTime": {
     "end_time": "2018-05-29T19:16:05.113822Z",
     "start_time": "2018-05-29T19:16:05.106278Z"
    }
   },
   "outputs": [],
   "source": [
    "dx = 50000. # 50,000 m or 50 km\n",
    "dy = 50000."
   ]
  },
  {
   "cell_type": "markdown",
   "metadata": {},
   "source": [
    "# gravitational constant for geopotential height calculations"
   ]
  },
  {
   "cell_type": "code",
   "execution_count": 20,
   "metadata": {
    "ExecuteTime": {
     "end_time": "2018-05-29T19:16:08.041379Z",
     "start_time": "2018-05-29T19:16:08.036243Z"
    }
   },
   "outputs": [],
   "source": [
    "g = 9.80665"
   ]
  },
  {
   "cell_type": "markdown",
   "metadata": {},
   "source": [
    "## get landmask"
   ]
  },
  {
   "cell_type": "code",
   "execution_count": 21,
   "metadata": {
    "ExecuteTime": {
     "end_time": "2018-05-29T19:16:10.261164Z",
     "start_time": "2018-05-29T19:16:10.226145Z"
    }
   },
   "outputs": [],
   "source": [
    "landmask = cont_mfds['LANDMASK'].sel(Time=0).values"
   ]
  },
  {
   "cell_type": "code",
   "execution_count": 22,
   "metadata": {
    "ExecuteTime": {
     "end_time": "2018-05-29T19:16:12.453505Z",
     "start_time": "2018-05-29T19:16:12.447853Z"
    }
   },
   "outputs": [],
   "source": [
    "lat_indices = ((xlat<=10)&(xlat>=-5))"
   ]
  },
  {
   "cell_type": "markdown",
   "metadata": {},
   "source": [
    "# calculate raintot and rain diffs"
   ]
  },
  {
   "cell_type": "code",
   "execution_count": 23,
   "metadata": {
    "ExecuteTime": {
     "end_time": "2018-05-29T19:17:28.902910Z",
     "start_time": "2018-05-29T19:16:14.631538Z"
    }
   },
   "outputs": [],
   "source": [
    "raintot_accum_1000 = rainnc_1000+rainc_1000\n",
    "\n",
    "raintot_accum_400 = rainnc_400+rainc_400\n",
    "\n",
    "raintot_1000 = numpy.diff(raintot_accum_1000, axis=0)\n",
    "raintot_400 = numpy.diff(raintot_accum_400, axis=0)"
   ]
  },
  {
   "cell_type": "code",
   "execution_count": 24,
   "metadata": {
    "ExecuteTime": {
     "end_time": "2018-05-29T19:17:31.340907Z",
     "start_time": "2018-05-29T19:17:31.142884Z"
    }
   },
   "outputs": [
    {
     "name": "stderr",
     "output_type": "stream",
     "text": [
      "/export/home/blangenb/anaconda3/lib/python3.6/site-packages/ipykernel_launcher.py:6: RuntimeWarning: Mean of empty slice\n",
      "  \n"
     ]
    }
   ],
   "source": [
    "raintot_diffs = raintot_1000-raintot_400\n",
    "\n",
    "raintot_diffs_landmask = numpy.copy(raintot_diffs)\n",
    "raintot_diffs_landmask[:,landmask==0]=numpy.nan\n",
    "raintot_diffs_lat_subset = raintot_diffs_landmask[:,lat_indices[:,0],:]\n",
    "raintot_diffs_latmean = numpy.nanmean(raintot_diffs_lat_subset, axis=1)"
   ]
  },
  {
   "cell_type": "code",
   "execution_count": 25,
   "metadata": {
    "ExecuteTime": {
     "end_time": "2018-05-29T19:17:33.986740Z",
     "start_time": "2018-05-29T19:17:33.976193Z"
    }
   },
   "outputs": [
    {
     "name": "stderr",
     "output_type": "stream",
     "text": [
      "/export/home/blangenb/anaconda3/lib/python3.6/site-packages/ipykernel_launcher.py:1: RuntimeWarning: Mean of empty slice\n",
      "  \"\"\"Entry point for launching an IPython kernel.\n",
      "/export/home/blangenb/anaconda3/lib/python3.6/site-packages/ipykernel_launcher.py:2: RuntimeWarning: Mean of empty slice\n",
      "  \n"
     ]
    }
   ],
   "source": [
    "raintot_diffs_latmean_day1 = numpy.nanmean(raintot_diffs_latmean[:24,:], axis=0)\n",
    "raintot_diffs_latmean_day2_10 = numpy.nanmean(raintot_diffs_latmean[24:,:], axis=0)"
   ]
  },
  {
   "cell_type": "markdown",
   "metadata": {},
   "source": [
    "# calculate w diffs for height-longitude plot"
   ]
  },
  {
   "cell_type": "code",
   "execution_count": 28,
   "metadata": {
    "ExecuteTime": {
     "end_time": "2018-05-29T19:17:44.939861Z",
     "start_time": "2018-05-29T19:17:41.668383Z"
    }
   },
   "outputs": [],
   "source": [
    "wa_diffs = wa_1000-wa_400\n",
    "\n",
    "wa_diffs_landmask = numpy.copy(wa_diffs)\n",
    "wa_diffs_landmask[:,:,landmask==0]=numpy.nan"
   ]
  },
  {
   "cell_type": "code",
   "execution_count": 29,
   "metadata": {
    "ExecuteTime": {
     "end_time": "2018-05-29T19:17:47.778661Z",
     "start_time": "2018-05-29T19:17:47.663298Z"
    }
   },
   "outputs": [],
   "source": [
    "shapefile_name = cartopy.io.shapereader.natural_earth(resolution='110m',\n",
    "                                                      category='cultural',\n",
    "                                                      name='admin_0_countries')\n",
    "\n",
    "reader = cartopy.io.shapereader.Reader(shapefile_name)\n",
    "countries = reader.records()\n",
    "country = next(countries)"
   ]
  },
  {
   "cell_type": "code",
   "execution_count": 30,
   "metadata": {
    "ExecuteTime": {
     "end_time": "2018-05-29T19:17:50.608149Z",
     "start_time": "2018-05-29T19:17:50.380811Z"
    }
   },
   "outputs": [
    {
     "data": {
      "image/png": "[encoded data removed]",
      "text/plain": [
       "<Figure size 432x288 with 1 Axes>"
      ]
     },
     "metadata": {},
     "output_type": "display_data"
    }
   ],
   "source": [
    "fig, ax = mp.subplots(1,1,subplot_kw={'projection':cartopy.crs.PlateCarree()})\n",
    "ax.set_extent([270,330,-30,20])\n",
    "ax.coastlines()\n",
    "fig.tight_layout()"
   ]
  },
  {
   "cell_type": "markdown",
   "metadata": {},
   "source": [
    "# calculate midpoints so that fields are 28x178x288"
   ]
  },
  {
   "cell_type": "code",
   "execution_count": 31,
   "metadata": {
    "ExecuteTime": {
     "end_time": "2018-05-29T19:18:55.799328Z",
     "start_time": "2018-05-29T19:17:53.201271Z"
    }
   },
   "outputs": [],
   "source": [
    "u_400_midpoints = 0.5*(u_400[:,:,:,1:]+u_400[:,:,:,:-1])\n",
    "u_400_midpoints = 0.5*(u_400_midpoints[:,1:,1:,1:]+u_400_midpoints[:,:-1,:-1,:-1]).values"
   ]
  },
  {
   "cell_type": "code",
   "execution_count": 32,
   "metadata": {
    "ExecuteTime": {
     "end_time": "2018-05-29T19:20:34.588322Z",
     "start_time": "2018-05-29T19:18:55.807592Z"
    }
   },
   "outputs": [],
   "source": [
    "u_1000_midpoints = 0.5*(u_1000[:,:,:,1:]+u_1000[:,:,:,:-1])\n",
    "u_1000_midpoints = 0.5*(u_1000_midpoints[:,1:,1:,1:]+u_1000_midpoints[:,:-1,:-1,:-1]).values"
   ]
  },
  {
   "cell_type": "code",
   "execution_count": 33,
   "metadata": {
    "ExecuteTime": {
     "end_time": "2018-05-29T19:21:25.421815Z",
     "start_time": "2018-05-29T19:20:34.596600Z"
    }
   },
   "outputs": [],
   "source": [
    "v_400_midpoints = 0.5*(v_400[:,:,1:,:]+v_400[:,:,:-1,:])\n",
    "v_400_midpoints = 0.5*(v_400_midpoints[:,1:,1:,1:]+v_400_midpoints[:,:-1,:-1,:-1]).values"
   ]
  },
  {
   "cell_type": "code",
   "execution_count": 34,
   "metadata": {
    "ExecuteTime": {
     "end_time": "2018-05-29T19:22:56.505419Z",
     "start_time": "2018-05-29T19:21:25.430115Z"
    }
   },
   "outputs": [],
   "source": [
    "v_1000_midpoints = 0.5*(v_1000[:,:,1:,:]+v_1000[:,:,:-1,:])\n",
    "v_1000_midpoints = 0.5*(v_1000_midpoints[:,1:,1:,1:]+v_1000_midpoints[:,:-1,:-1,:-1]).values"
   ]
  },
  {
   "cell_type": "raw",
   "metadata": {
    "ExecuteTime": {
     "end_time": "2018-05-29T19:22:56.540160Z",
     "start_time": "2018-05-29T19:22:56.513713Z"
    }
   },
   "source": [
    "omega_400_midpoints = (0.5*(omega_400[:,1:,1:,1:]+omega_400[:,:-1,:-1,:-1]))\n",
    "omega_1000_midpoints = (0.5*(omega_1000[:,1:,1:,1:]+omega_1000[:,:-1,:-1,:-1]))"
   ]
  },
  {
   "cell_type": "code",
   "execution_count": 36,
   "metadata": {
    "ExecuteTime": {
     "end_time": "2018-05-29T20:32:02.689651Z",
     "start_time": "2018-05-29T20:31:59.371187Z"
    }
   },
   "outputs": [],
   "source": [
    "wa_400_midpoints = (0.5*(wa_400[:,1:,1:,1:]+wa_400[:,:-1,:-1,:-1]))\n",
    "wa_1000_midpoints = (0.5*(wa_1000[:,1:,1:,1:]+wa_1000[:,:-1,:-1,:-1]))"
   ]
  },
  {
   "cell_type": "code",
   "execution_count": 37,
   "metadata": {
    "ExecuteTime": {
     "end_time": "2018-05-29T20:32:06.064952Z",
     "start_time": "2018-05-29T20:32:02.698074Z"
    }
   },
   "outputs": [],
   "source": [
    "ptot_400_midpoints = 0.5*(ptot_400[:,1:,1:,1:]+ptot_400[:,:-1,:-1,:-1])\n",
    "ptot_1000_midpoints = 0.5*(ptot_1000[:,1:,1:,1:]+ptot_1000[:,:-1,:-1,:-1])"
   ]
  },
  {
   "cell_type": "code",
   "execution_count": 38,
   "metadata": {
    "ExecuteTime": {
     "end_time": "2018-05-29T20:32:12.016522Z",
     "start_time": "2018-05-29T20:32:08.304408Z"
    }
   },
   "outputs": [],
   "source": [
    "geopot_400_midpoints = 0.5*(geopot_400[:,1:,1:,1:]+geopot_400[:,:-1,:-1,:-1])\n",
    "geopot_1000_midpoints = 0.5*(geopot_1000[:,1:,1:,1:]+geopot_1000[:,:-1,:-1,:-1])"
   ]
  },
  {
   "cell_type": "raw",
   "metadata": {
    "ExecuteTime": {
     "end_time": "2018-05-14T18:54:06.624284Z",
     "start_time": "2018-05-14T18:54:05.364040Z"
    }
   },
   "source": [
    "geopot_400_midpoints = 0.5*(geopot_400[:,1:,1:,1:]+geopot_400[:,:-1,:-1,:-1])\n",
    "geopot_1000_midpoints = 0.5*(geopot_1000[:,1:,1:,1:]+geopot_1000[:,:-1,:-1,:-1])"
   ]
  },
  {
   "cell_type": "code",
   "execution_count": 39,
   "metadata": {
    "ExecuteTime": {
     "end_time": "2018-05-29T20:34:55.716338Z",
     "start_time": "2018-05-29T20:32:20.348596Z"
    }
   },
   "outputs": [],
   "source": [
    "qvapor_400_midpoints = 0.5*(qvapor_400[:,1:,1:,1:]+qvapor_400[:,:-1,:-1,:-1]).values\n",
    "qvapor_1000_midpoints = 0.5*(qvapor_1000[:,1:,1:,1:]+qvapor_1000[:,:-1,:-1,:-1]).values"
   ]
  },
  {
   "cell_type": "code",
   "execution_count": 40,
   "metadata": {
    "ExecuteTime": {
     "end_time": "2018-05-29T20:36:35.891978Z",
     "start_time": "2018-05-29T20:34:55.724640Z"
    }
   },
   "outputs": [],
   "source": [
    "qcloud_400_midpoints = 0.5*(qcloud_400[:,1:,1:,1:]+qcloud_400[:,:-1,:-1,:-1]).values\n",
    "qcloud_1000_midpoints = 0.5*(qcloud_1000[:,1:,1:,1:]+qcloud_1000[:,:-1,:-1,:-1]).values"
   ]
  },
  {
   "cell_type": "code",
   "execution_count": 41,
   "metadata": {
    "ExecuteTime": {
     "end_time": "2018-05-29T20:38:38.906991Z",
     "start_time": "2018-05-29T20:36:35.900255Z"
    }
   },
   "outputs": [],
   "source": [
    "qrain_400_midpoints = 0.5*(qrain_400[:,1:,1:,1:]+qrain_400[:,:-1,:-1,:-1]).values\n",
    "qrain_1000_midpoints = 0.5*(qrain_1000[:,1:,1:,1:]+qrain_1000[:,:-1,:-1,:-1]).values"
   ]
  },
  {
   "cell_type": "code",
   "execution_count": 42,
   "metadata": {
    "ExecuteTime": {
     "end_time": "2018-05-29T20:38:54.766075Z",
     "start_time": "2018-05-29T20:38:51.236332Z"
    }
   },
   "outputs": [],
   "source": [
    "ptot_1000_midpoints = 0.5*(ptot_1000[:,1:,1:,1:]+ptot_1000[:,:-1,:-1,:-1])\n",
    "ptot_400_midpoints = 0.5*(ptot_400[:,1:,1:,1:]+ptot_400[:,:-1,:-1,:-1])"
   ]
  },
  {
   "cell_type": "markdown",
   "metadata": {},
   "source": [
    "# calculate dqdt terms"
   ]
  },
  {
   "cell_type": "code",
   "execution_count": 43,
   "metadata": {
    "ExecuteTime": {
     "end_time": "2018-05-29T20:38:58.826105Z",
     "start_time": "2018-05-29T20:38:58.820436Z"
    }
   },
   "outputs": [],
   "source": [
    "ntime = 241\n",
    "nlev = 28"
   ]
  },
  {
   "cell_type": "markdown",
   "metadata": {},
   "source": [
    "dqdt will be automatically placed on midpoints"
   ]
  },
  {
   "cell_type": "code",
   "execution_count": 44,
   "metadata": {
    "ExecuteTime": {
     "end_time": "2018-05-29T22:42:11.561876Z",
     "start_time": "2018-05-29T22:42:08.998508Z"
    }
   },
   "outputs": [],
   "source": [
    "dqdt_400 = numpy.zeros((ntime,nlev,xlat.shape[0]-1,xlat.shape[1]-1))*numpy.nan\n",
    "dqdt_1000 = numpy.zeros((ntime,nlev,xlat.shape[0]-1,xlat.shape[1]-1))*numpy.nan"
   ]
  },
  {
   "cell_type": "code",
   "execution_count": 45,
   "metadata": {
    "ExecuteTime": {
     "end_time": "2018-05-29T22:42:22.136107Z",
     "start_time": "2018-05-29T22:42:15.919571Z"
    }
   },
   "outputs": [],
   "source": [
    "for t in range(1,ntime-1):\n",
    "    dqdt_400[t,:,:,:] = (qvapor_400_midpoints[t+1,:,:,:]-qvapor_400_midpoints[t-1,:,:,:])/7200.\n",
    "for t in range(1,ntime-1):\n",
    "    dqdt_1000[t,:,:,:] = (qvapor_1000_midpoints[t+1,:,:,:]-qvapor_1000_midpoints[t-1,:,:,:])/7200."
   ]
  },
  {
   "cell_type": "markdown",
   "metadata": {},
   "source": [
    "## calculate dqcloud dt"
   ]
  },
  {
   "cell_type": "code",
   "execution_count": 46,
   "metadata": {
    "ExecuteTime": {
     "end_time": "2018-05-29T22:42:29.365443Z",
     "start_time": "2018-05-29T22:42:26.587603Z"
    }
   },
   "outputs": [],
   "source": [
    "dqclouddt_400 = numpy.zeros((ntime,nlev,xlat.shape[0]-1,xlat.shape[1]-1))*numpy.nan\n",
    "dqclouddt_1000 = numpy.zeros((ntime,nlev,xlat.shape[0]-1,xlat.shape[1]-1))*numpy.nan"
   ]
  },
  {
   "cell_type": "code",
   "execution_count": 47,
   "metadata": {
    "ExecuteTime": {
     "end_time": "2018-05-29T22:42:39.369913Z",
     "start_time": "2018-05-29T22:42:33.972295Z"
    }
   },
   "outputs": [],
   "source": [
    "for t in range(1,ntime-1):\n",
    "    dqclouddt_400[t,:,:,:] = (qcloud_400_midpoints[t+1,:,:,:]-qcloud_400_midpoints[t-1,:,:,:])/7200.\n",
    "for t in range(1,ntime-1):\n",
    "    dqclouddt_1000[t,:,:,:] = (qcloud_1000_midpoints[t+1,:,:,:]-qcloud_1000_midpoints[t-1,:,:,:])/7200."
   ]
  },
  {
   "cell_type": "markdown",
   "metadata": {},
   "source": [
    "## calculate dqraindt"
   ]
  },
  {
   "cell_type": "code",
   "execution_count": 48,
   "metadata": {
    "ExecuteTime": {
     "end_time": "2018-05-29T22:42:46.610226Z",
     "start_time": "2018-05-29T22:42:43.877943Z"
    }
   },
   "outputs": [],
   "source": [
    "dqraindt_400 = numpy.zeros((ntime,nlev,xlat.shape[0]-1,xlat.shape[1]-1))*numpy.nan\n",
    "dqraindt_1000 = numpy.zeros((ntime,nlev,xlat.shape[0]-1,xlat.shape[1]-1))*numpy.nan"
   ]
  },
  {
   "cell_type": "code",
   "execution_count": 49,
   "metadata": {
    "ExecuteTime": {
     "end_time": "2018-05-29T22:43:28.229380Z",
     "start_time": "2018-05-29T22:42:51.589190Z"
    }
   },
   "outputs": [],
   "source": [
    "for t in range(1,ntime-1):\n",
    "    dqraindt_400[t,:,:,:] = (qrain_400_midpoints[t+1,:,:,:]-qrain_400_midpoints[t-1,:,:,:])/7200.\n",
    "for t in range(1,ntime-1):\n",
    "    dqraindt_1000[t,:,:,:] = (qrain_1000_midpoints[t+1,:,:,:]-qrain_1000_midpoints[t-1,:,:,:])/7200."
   ]
  },
  {
   "cell_type": "markdown",
   "metadata": {},
   "source": [
    "# calculate convergence terms"
   ]
  },
  {
   "cell_type": "code",
   "execution_count": 50,
   "metadata": {
    "ExecuteTime": {
     "end_time": "2018-05-29T22:44:13.959337Z",
     "start_time": "2018-05-29T22:43:32.990515Z"
    }
   },
   "outputs": [],
   "source": [
    "dudx_400 = numpy.diff(u_400.values, axis=3)/dx\n",
    "dudx_400 = 0.5*(dudx_400[:,1:,1:,1:]+dudx_400[:,:-1,:-1,:-1])"
   ]
  },
  {
   "cell_type": "code",
   "execution_count": 51,
   "metadata": {
    "ExecuteTime": {
     "end_time": "2018-05-29T22:45:36.207987Z",
     "start_time": "2018-05-29T22:44:18.915393Z"
    }
   },
   "outputs": [],
   "source": [
    "dudx_1000 = numpy.diff(u_1000.values, axis=3)/dx\n",
    "dudx_1000 = 0.5*(dudx_1000[:,1:,1:,1:]+dudx_1000[:,:-1,:-1,:-1])"
   ]
  },
  {
   "cell_type": "code",
   "execution_count": 52,
   "metadata": {
    "ExecuteTime": {
     "end_time": "2018-05-29T22:46:20.860866Z",
     "start_time": "2018-05-29T22:45:41.126040Z"
    }
   },
   "outputs": [],
   "source": [
    "dvdy_400 = numpy.diff(v_400.values, axis=2)/dy\n",
    "dvdy_400 = 0.5*(dvdy_400[:,1:,1:,1:]+dvdy_400[:,:-1,:-1,:-1])"
   ]
  },
  {
   "cell_type": "code",
   "execution_count": 53,
   "metadata": {
    "ExecuteTime": {
     "end_time": "2018-05-29T22:47:41.251813Z",
     "start_time": "2018-05-29T22:46:26.007534Z"
    }
   },
   "outputs": [],
   "source": [
    "dvdy_1000 = numpy.diff(v_1000.values, axis=2)/dy\n",
    "dvdy_1000 = 0.5*(dvdy_1000[:,1:,1:,1:]+dvdy_1000[:,:-1,:-1,:-1])"
   ]
  },
  {
   "cell_type": "code",
   "execution_count": 54,
   "metadata": {
    "ExecuteTime": {
     "end_time": "2018-05-29T22:47:48.137692Z",
     "start_time": "2018-05-29T22:47:46.355295Z"
    }
   },
   "outputs": [],
   "source": [
    "ptot_400_diff = numpy.diff(ptot_400, axis=1)\n",
    "ptot_1000_diff = numpy.diff(ptot_1000, axis=1)"
   ]
  },
  {
   "cell_type": "code",
   "execution_count": 88,
   "metadata": {
    "ExecuteTime": {
     "end_time": "2018-05-30T00:45:28.903370Z",
     "start_time": "2018-05-30T00:45:27.548918Z"
    }
   },
   "outputs": [],
   "source": [
    "geopot_400_diff = numpy.diff(geopot_400, axis=1) # needed for convergence calculation\n",
    "geopot_1000_diff = numpy.diff(geopot_1000, axis=1)"
   ]
  },
  {
   "cell_type": "code",
   "execution_count": 89,
   "metadata": {
    "ExecuteTime": {
     "end_time": "2018-05-30T00:45:43.645229Z",
     "start_time": "2018-05-30T00:45:41.270604Z"
    }
   },
   "outputs": [],
   "source": [
    "geopot_stag_400_diff = numpy.diff(geopot_stag_400, axis=1) # needed for advection calculation\n",
    "geopot_stag_1000_diff = numpy.diff(geopot_stag_1000, axis=1)"
   ]
  },
  {
   "cell_type": "code",
   "execution_count": 90,
   "metadata": {
    "ExecuteTime": {
     "end_time": "2018-05-30T00:48:24.328484Z",
     "start_time": "2018-05-30T00:45:48.561582Z"
    }
   },
   "outputs": [],
   "source": [
    "dwdz_400 = numpy.diff(w_400, axis=1)/(geopot_stag_400_diff/g)\n",
    "dwdz_400 = 0.5*(dwdz_400[:,1:,1:,1:]+dwdz_400[:,:-1,:-1,:-1])\n",
    "\n",
    "dwdz_1000 = numpy.diff(w_1000, axis=1)/(geopot_stag_1000_diff/g)\n",
    "dwdz_1000 = 0.5*(dwdz_1000[:,1:,1:,1:]+dwdz_1000[:,:-1,:-1,:-1])"
   ]
  },
  {
   "cell_type": "markdown",
   "metadata": {},
   "source": [
    "pressure coords"
   ]
  },
  {
   "cell_type": "raw",
   "metadata": {
    "ExecuteTime": {
     "end_time": "2018-05-11T17:03:52.126315Z",
     "start_time": "2018-05-11T17:01:32.598242Z"
    }
   },
   "source": [
    "cont_domegadp = numpy.diff(omega_400, axis=1)/ptot_400_diff\n",
    "cont_domegadp = 0.5*(cont_domegadp[:,:,1:,1:]+cont_domegadp[:,:,:-1,:-1])\n",
    "\n",
    "phys_domegadp = numpy.diff(omega_1000, axis=1)/ptot_1000_diff\n",
    "phys_domegadp = 0.5*(phys_domegadp[:,:,1:,1:]+phys_domegadp[:,:,:-1,:-1])\n",
    "\n",
    "convergence_400 = -qvapor_400_midpoints*(dudx_400 + dvdy_400 + cont_domegadp)\n",
    "convergence_1000 = -qvapor_1000_midpoints*(dudx_1000 + dvdy_1000 + phys_domegadp)"
   ]
  },
  {
   "cell_type": "code",
   "execution_count": 65,
   "metadata": {
    "ExecuteTime": {
     "end_time": "2018-05-29T23:25:22.563461Z",
     "start_time": "2018-05-29T23:25:14.226860Z"
    }
   },
   "outputs": [],
   "source": [
    "convergence_400 = -qvapor_400_midpoints*(dudx_400 + dvdy_400 + dwdz_400)\n",
    "convergence_1000 = -qvapor_1000_midpoints*(dudx_1000 + dvdy_1000 + dwdz_1000)"
   ]
  },
  {
   "cell_type": "markdown",
   "metadata": {},
   "source": [
    "calculate vertical and horizontal terms separately"
   ]
  },
  {
   "cell_type": "code",
   "execution_count": 66,
   "metadata": {
    "ExecuteTime": {
     "end_time": "2018-05-29T23:25:41.752767Z",
     "start_time": "2018-05-29T23:25:31.053498Z"
    }
   },
   "outputs": [],
   "source": [
    "convergence_400_vert = -qvapor_400_midpoints*dwdz_400 #cont_domegadp\n",
    "convergence_400_horiz = -qvapor_400_midpoints*(dudx_400 + dvdy_400)\n",
    "\n",
    "convergence_1000_vert = -qvapor_1000_midpoints*dwdz_1000 #phys_domegadp\n",
    "convergence_1000_horiz = -qvapor_1000_midpoints*(dudx_1000 + dvdy_1000)"
   ]
  },
  {
   "cell_type": "markdown",
   "metadata": {},
   "source": [
    "# calculate advection terms"
   ]
  },
  {
   "cell_type": "code",
   "execution_count": 67,
   "metadata": {
    "ExecuteTime": {
     "end_time": "2018-05-29T23:26:37.483883Z",
     "start_time": "2018-05-29T23:25:50.731603Z"
    }
   },
   "outputs": [],
   "source": [
    "cont_dqdx = numpy.diff(qvapor_400.values, axis=3)/dx # diff in y, then take mean \n",
    "cont_dqdx = 0.5*(cont_dqdx[:,1:,1:,:]+cont_dqdx[:,:-1,:-1,:])"
   ]
  },
  {
   "cell_type": "code",
   "execution_count": 68,
   "metadata": {
    "ExecuteTime": {
     "end_time": "2018-05-29T23:28:10.412385Z",
     "start_time": "2018-05-29T23:26:46.767014Z"
    }
   },
   "outputs": [],
   "source": [
    "phys_dqdx = numpy.diff(qvapor_1000.values, axis=3)/dx # diff in y, then take mean \n",
    "phys_dqdx = 0.5*(phys_dqdx[:,1:,1:,:]+phys_dqdx[:,:-1,:-1,:])"
   ]
  },
  {
   "cell_type": "code",
   "execution_count": 69,
   "metadata": {
    "ExecuteTime": {
     "end_time": "2018-05-29T23:28:40.786324Z",
     "start_time": "2018-05-29T23:28:19.850435Z"
    }
   },
   "outputs": [],
   "source": [
    "cont_dqdy = numpy.diff(qvapor_400.values, axis=2)/dy # diff in y, then take mean \n",
    "cont_dqdy = 0.5*(cont_dqdy[:,1:,:,1:]+cont_dqdy[:,:-1,:,:-1])"
   ]
  },
  {
   "cell_type": "code",
   "execution_count": 70,
   "metadata": {
    "ExecuteTime": {
     "end_time": "2018-05-29T23:29:12.618845Z",
     "start_time": "2018-05-29T23:28:50.157315Z"
    }
   },
   "outputs": [],
   "source": [
    "phys_dqdy = numpy.diff(qvapor_1000.values, axis=2)/dy # diff in y, then take mean \n",
    "phys_dqdy = 0.5*(phys_dqdy[:,1:,:,1:]+phys_dqdy[:,:-1,:,:-1])"
   ]
  },
  {
   "cell_type": "raw",
   "metadata": {
    "ExecuteTime": {
     "end_time": "2018-05-11T17:16:32.188486Z",
     "start_time": "2018-05-11T17:15:26.104325Z"
    }
   },
   "source": [
    "cont_dqdp = numpy.diff(qvapor_400.values, axis=1)/ptot_400_diff\n",
    "cont_dqdp = 0.5*(cont_dqdp[:,:,1:,1:]+cont_dqdp[:,:,:-1,:-1])"
   ]
  },
  {
   "cell_type": "raw",
   "metadata": {
    "ExecuteTime": {
     "end_time": "2018-05-11T17:18:16.660511Z",
     "start_time": "2018-05-11T17:16:32.190859Z"
    }
   },
   "source": [
    "phys_dqdp = numpy.diff(qvapor_1000.values, axis=1)/ptot_1000_diff\n",
    "phys_dqdp = 0.5*(phys_dqdp[:,:,1:,1:]+phys_dqdp[:,:,:-1,:-1])"
   ]
  },
  {
   "cell_type": "code",
   "execution_count": 71,
   "metadata": {
    "ExecuteTime": {
     "end_time": "2018-05-29T23:29:47.253150Z",
     "start_time": "2018-05-29T23:29:22.657459Z"
    }
   },
   "outputs": [],
   "source": [
    "cont_dqdz = numpy.diff(qvapor_400.values, axis=1)/(geopot_400_diff/g)\n",
    "cont_dqdz = 0.5*(cont_dqdz[:,:,1:,1:]+cont_dqdz[:,:,:-1,:-1])"
   ]
  },
  {
   "cell_type": "code",
   "execution_count": 91,
   "metadata": {
    "ExecuteTime": {
     "end_time": "2018-05-30T00:48:50.139057Z",
     "start_time": "2018-05-30T00:48:29.063571Z"
    }
   },
   "outputs": [],
   "source": [
    "phys_dqdz = numpy.diff(qvapor_1000.values, axis=1)/(geopot_1000_diff/g)\n",
    "phys_dqdz = 0.5*(phys_dqdz[:,:,1:,1:]+phys_dqdz[:,:,:-1,:-1])"
   ]
  },
  {
   "cell_type": "code",
   "execution_count": 92,
   "metadata": {
    "ExecuteTime": {
     "end_time": "2018-05-30T00:49:07.948768Z",
     "start_time": "2018-05-30T00:48:55.111571Z"
    }
   },
   "outputs": [],
   "source": [
    "advection_400 = -(u_400_midpoints*cont_dqdx + v_400_midpoints*cont_dqdy + wa_400_midpoints*cont_dqdz)\n",
    "advection_1000 = -(u_1000_midpoints*phys_dqdx + v_1000_midpoints*phys_dqdy + wa_1000_midpoints*phys_dqdz)"
   ]
  },
  {
   "cell_type": "markdown",
   "metadata": {},
   "source": [
    "for pressure terms"
   ]
  },
  {
   "cell_type": "raw",
   "metadata": {
    "ExecuteTime": {
     "end_time": "2018-05-11T17:19:30.735177Z",
     "start_time": "2018-05-11T17:18:16.668679Z"
    }
   },
   "source": [
    "advection_400 = -(u_400_midpoints*cont_dqdx + v_400_midpoints*cont_dqdy + omega_400_midpoints*cont_dqdp)\n",
    "advection_1000 = -(u_1000_midpoints*phys_dqdx + v_1000_midpoints*phys_dqdy + omega_1000_midpoints*phys_dqdp)"
   ]
  },
  {
   "cell_type": "markdown",
   "metadata": {},
   "source": [
    "calculate vertical and horizontal terms separately"
   ]
  },
  {
   "cell_type": "raw",
   "metadata": {
    "ExecuteTime": {
     "end_time": "2018-05-11T17:21:45.917603Z",
     "start_time": "2018-05-11T17:19:30.743351Z"
    }
   },
   "source": [
    "advection_400_vert = -w_400_midpoints*cont_dqdp\n",
    "advection_400_horiz = -(u_400_midpoints*cont_dqdx + v_400_midpoints*cont_dqdy)\n",
    "\n",
    "advection_1000_vert = -omega_1000_midpoints*phys_dqdp\n",
    "advection_1000_horiz = -(u_1000_midpoints*phys_dqdx + v_1000_midpoints*phys_dqdy)"
   ]
  },
  {
   "cell_type": "code",
   "execution_count": 93,
   "metadata": {
    "ExecuteTime": {
     "end_time": "2018-05-30T00:49:58.491878Z",
     "start_time": "2018-05-30T00:49:12.887418Z"
    }
   },
   "outputs": [],
   "source": [
    "advection_400_vert = -wa_400_midpoints*cont_dqdz\n",
    "advection_400_horiz = -(u_400_midpoints*cont_dqdx + v_400_midpoints*cont_dqdy)\n",
    "\n",
    "advection_1000_vert = -wa_1000_midpoints*phys_dqdz\n",
    "advection_1000_horiz = -(u_1000_midpoints*phys_dqdx + v_1000_midpoints*phys_dqdy)"
   ]
  },
  {
   "cell_type": "markdown",
   "metadata": {},
   "source": [
    "# set ocean points to nan"
   ]
  },
  {
   "cell_type": "raw",
   "metadata": {
    "ExecuteTime": {
     "end_time": "2018-04-16T21:39:39.064002Z",
     "start_time": "2018-04-16T21:27:22.948Z"
    }
   },
   "source": [
    "convergence_400[:,:,landmask_midpoints==0]=numpy.nan\n",
    "convergence_1000[:,:,landmask_midpoints==0]=numpy.nan"
   ]
  },
  {
   "cell_type": "raw",
   "metadata": {
    "ExecuteTime": {
     "end_time": "2018-04-16T21:39:39.066424Z",
     "start_time": "2018-04-16T21:27:23.340Z"
    }
   },
   "source": [
    "advection_400[:,:,landmask_midpoints==0]=numpy.nan\n",
    "advection_1000[:,:,landmask_midpoints==0]=numpy.nan"
   ]
  },
  {
   "cell_type": "raw",
   "metadata": {
    "ExecuteTime": {
     "end_time": "2018-04-16T21:39:39.068866Z",
     "start_time": "2018-04-16T21:27:23.668Z"
    }
   },
   "source": [
    "omega_400_midpoints[:,:,landmask_midpoints==0]=numpy.nan\n",
    "omega_1000_midpoints[:,:,landmask_midpoints==0]=numpy.nan"
   ]
  },
  {
   "cell_type": "raw",
   "metadata": {
    "ExecuteTime": {
     "end_time": "2018-04-16T21:39:39.070183Z",
     "start_time": "2018-04-16T21:27:23.838Z"
    }
   },
   "source": [
    "dqdt_400[:,:,landmask_midpoints==0]=numpy.nan\n",
    "dqdt_1000[:,:,landmask_midpoints==0]=numpy.nan"
   ]
  },
  {
   "cell_type": "raw",
   "metadata": {
    "ExecuteTime": {
     "end_time": "2018-04-16T21:39:39.071377Z",
     "start_time": "2018-04-16T21:27:24.006Z"
    }
   },
   "source": [
    "dqclouddt_400[:,:,landmask_midpoints==0]=numpy.nan\n",
    "dqclouddt_1000[:,:,landmask_midpoints==0]=numpy.nan"
   ]
  },
  {
   "cell_type": "raw",
   "metadata": {
    "ExecuteTime": {
     "end_time": "2018-04-16T21:39:39.072567Z",
     "start_time": "2018-04-16T21:27:25.139Z"
    }
   },
   "source": [
    "dqraindt_400[:,:,landmask_midpoints==0]=numpy.nan\n",
    "dqraindt_1000[:,:,landmask_midpoints==0]=numpy.nan"
   ]
  },
  {
   "cell_type": "raw",
   "metadata": {
    "ExecuteTime": {
     "end_time": "2018-04-16T21:39:39.073880Z",
     "start_time": "2018-04-16T21:27:25.421Z"
    }
   },
   "source": [
    "ptot_400[:,:,landmask==0]=numpy.nan\n",
    "ptot_1000[:,:,landmask==0]=numpy.nan"
   ]
  },
  {
   "cell_type": "markdown",
   "metadata": {},
   "source": [
    "# calculate time means"
   ]
  },
  {
   "cell_type": "markdown",
   "metadata": {},
   "source": [
    "Only time mean for qcloud, qrain, ptot\n",
    "\n",
    "Rest have day1 mean as well"
   ]
  },
  {
   "cell_type": "code",
   "execution_count": 94,
   "metadata": {
    "ExecuteTime": {
     "end_time": "2018-05-30T00:52:33.605919Z",
     "start_time": "2018-05-30T00:50:03.858713Z"
    }
   },
   "outputs": [],
   "source": [
    "dqclouddt_400_tm = numpy.nanmean(dqclouddt_400[24:,:,:,:], axis=0)\n",
    "dqclouddt_1000_tm = numpy.nanmean(dqclouddt_1000[24:,:,:,:], axis=0)\n",
    "\n",
    "dqraindt_400_tm = numpy.nanmean(dqraindt_400[24:,:,:,:], axis=0)\n",
    "dqraindt_1000_tm = numpy.nanmean(dqraindt_1000[24:,:,:,:], axis=0)\n",
    "\n",
    "ptot_400_tm = numpy.nanmean(ptot_400[24:,:,:,:], axis=0)\n",
    "ptot_1000_tm = numpy.nanmean(ptot_1000[24:,:,:,:], axis=0)"
   ]
  },
  {
   "cell_type": "code",
   "execution_count": 95,
   "metadata": {
    "ExecuteTime": {
     "end_time": "2018-05-30T00:53:44.193859Z",
     "start_time": "2018-05-30T00:52:39.045284Z"
    }
   },
   "outputs": [],
   "source": [
    "dqdt_400_tm = numpy.nanmean(dqdt_400[24:,:,:,:], axis=0)\n",
    "dqdt_1000_tm = numpy.nanmean(dqdt_1000[24:,:,:,:], axis=0)\n",
    "\n",
    "dqdt_400_tm_day1 = numpy.nanmean(dqdt_400[:24,:,:,:], axis=0)\n",
    "dqdt_1000_tm_day1 = numpy.nanmean(dqdt_1000[:24,:,:,:], axis=0)"
   ]
  },
  {
   "cell_type": "code",
   "execution_count": 96,
   "metadata": {
    "ExecuteTime": {
     "end_time": "2018-05-30T00:54:27.419455Z",
     "start_time": "2018-05-30T00:53:49.478441Z"
    }
   },
   "outputs": [],
   "source": [
    "advection_400_tm = numpy.nanmean(advection_400[24:,:,:,:], axis=0)\n",
    "advection_1000_tm = numpy.nanmean(advection_1000[24:,:,:,:], axis=0)\n",
    "\n",
    "advection_400_tm_day1 = numpy.nanmean(advection_400[:24,:,:,:], axis=0)\n",
    "advection_1000_tm_day1 = numpy.nanmean(advection_1000[:24,:,:,:], axis=0)"
   ]
  },
  {
   "cell_type": "code",
   "execution_count": 97,
   "metadata": {
    "ExecuteTime": {
     "end_time": "2018-05-30T00:55:06.855207Z",
     "start_time": "2018-05-30T00:54:33.158138Z"
    }
   },
   "outputs": [],
   "source": [
    "convergence_400_tm = numpy.nanmean(convergence_400[24:,:,:,:], axis=0)\n",
    "convergence_1000_tm = numpy.nanmean(convergence_1000[24:,:,:,:], axis=0)\n",
    "\n",
    "convergence_400_tm_day1 = numpy.nanmean(convergence_400[:24,:,:,:], axis=0)\n",
    "convergence_1000_tm_day1 = numpy.nanmean(convergence_1000[:24,:,:,:], axis=0)"
   ]
  },
  {
   "cell_type": "raw",
   "metadata": {
    "ExecuteTime": {
     "end_time": "2018-05-30T00:55:12.461837Z",
     "start_time": "2018-05-30T00:55:12.432674Z"
    }
   },
   "source": [
    "omega_400_tm = numpy.nanmean(omega_400_midpoints[24:,:,:,:], axis=0)\n",
    "omega_1000_tm = numpy.nanmean(omega_1000_midpoints[24:,:,:,:], axis=0)\n",
    "\n",
    "omega_400_tm_day1 = numpy.nanmean(omega_400_midpoints[:24,:,:,:], axis=0)\n",
    "omega_1000_tm_day1 = numpy.nanmean(omega_1000_midpoints[:24,:,:,:], axis=0)"
   ]
  },
  {
   "cell_type": "code",
   "execution_count": 99,
   "metadata": {
    "ExecuteTime": {
     "end_time": "2018-05-30T00:57:17.329540Z",
     "start_time": "2018-05-30T00:56:36.215562Z"
    }
   },
   "outputs": [],
   "source": [
    "convergence_400_tm = numpy.nanmean(convergence_400[24:,:,:,:], axis=0)\n",
    "convergence_1000_tm = numpy.nanmean(convergence_1000[24:,:,:,:], axis=0)\n",
    "\n",
    "convergence_400_tm_day1 = numpy.nanmean(convergence_400[:24,:,:,:], axis=0)\n",
    "convergence_1000_tm_day1 = numpy.nanmean(convergence_1000[:24,:,:,:], axis=0)"
   ]
  },
  {
   "cell_type": "markdown",
   "metadata": {},
   "source": [
    "calculate vertical and horizontal advection terms"
   ]
  },
  {
   "cell_type": "code",
   "execution_count": 100,
   "metadata": {
    "ExecuteTime": {
     "end_time": "2018-05-30T00:58:39.650427Z",
     "start_time": "2018-05-30T00:57:22.905369Z"
    }
   },
   "outputs": [],
   "source": [
    "advection_400_vert_tm = numpy.nanmean(advection_400_vert[24:,:,:,:], axis=0)\n",
    "advection_1000_vert_tm = numpy.nanmean(advection_1000_vert[24:,:,:,:], axis=0)\n",
    "advection_400_vert_tm_day1 = numpy.nanmean(advection_400_vert[:24,:,:,:], axis=0)\n",
    "advection_1000_vert_tm_day1 = numpy.nanmean(advection_1000_vert[:24,:,:,:], axis=0)\n",
    "\n",
    "advection_400_horiz_tm = numpy.nanmean(advection_400_horiz[24:,:,:,:], axis=0)\n",
    "advection_1000_horiz_tm = numpy.nanmean(advection_1000_horiz[24:,:,:,:], axis=0)\n",
    "advection_400_horiz_tm_day1 = numpy.nanmean(advection_400_horiz[:24,:,:,:], axis=0)\n",
    "advection_1000_horiz_tm_day1 = numpy.nanmean(advection_1000_horiz[:24,:,:,:], axis=0)"
   ]
  },
  {
   "cell_type": "code",
   "execution_count": 101,
   "metadata": {
    "ExecuteTime": {
     "end_time": "2018-05-30T00:59:53.710818Z",
     "start_time": "2018-05-30T00:58:45.128421Z"
    }
   },
   "outputs": [],
   "source": [
    "convergence_400_vert_tm = numpy.nanmean(convergence_400_vert[24:,:,:,:], axis=0)\n",
    "convergence_1000_vert_tm = numpy.nanmean(convergence_1000_vert[24:,:,:,:], axis=0)\n",
    "convergence_400_vert_tm_day1 = numpy.nanmean(convergence_400_vert[:24,:,:,:], axis=0)\n",
    "convergence_1000_vert_tm_day1 = numpy.nanmean(convergence_1000_vert[:24,:,:,:], axis=0)\n",
    "\n",
    "convergence_400_horiz_tm = numpy.nanmean(convergence_400_horiz[24:,:,:,:], axis=0)\n",
    "convergence_1000_horiz_tm = numpy.nanmean(convergence_1000_horiz[24:,:,:,:], axis=0)\n",
    "convergence_400_horiz_tm_day1 = numpy.nanmean(convergence_400_horiz[:24,:,:,:], axis=0)\n",
    "convergence_1000_horiz_tm_day1 = numpy.nanmean(convergence_1000_horiz[:24,:,:,:], axis=0)"
   ]
  },
  {
   "cell_type": "code",
   "execution_count": 102,
   "metadata": {
    "ExecuteTime": {
     "end_time": "2018-05-30T00:59:59.445153Z",
     "start_time": "2018-05-30T00:59:59.439658Z"
    }
   },
   "outputs": [],
   "source": [
    "#dry_lon_lo, dry_lon_hi, dry_lat_lo, dry_lat_hi = -60,-50,-10,10\n",
    "#wet_lon_lo, wet_lon_hi, wet_lat_lo, wet_lat_hi = -80,-75,-10,10\n",
    "\n",
    "dry_lon_lo, dry_lon_hi, dry_lat_lo, dry_lat_hi = -60,-50,-5,10\n",
    "wet_lon_lo, wet_lon_hi, wet_lat_lo, wet_lat_hi = -80,-70,-5,10\n",
    "\n",
    "#dry_lon_lo, dry_lon_hi, dry_lat_lo, dry_lat_hi = -65,-50,-10,10\n",
    "#wet_lon_lo, wet_lon_hi, wet_lat_lo, wet_lat_hi = -80,-75,-10,10\n",
    "\n",
    "dry_lon_lo_degE = 360+dry_lon_lo\n",
    "dry_lon_hi_degE = 360+dry_lon_hi\n",
    "\n",
    "wet_lon_lo_degE = 360+wet_lon_lo\n",
    "wet_lon_hi_degE = 360+wet_lon_hi"
   ]
  },
  {
   "cell_type": "code",
   "execution_count": 103,
   "metadata": {
    "ExecuteTime": {
     "end_time": "2018-05-30T01:00:05.199412Z",
     "start_time": "2018-05-30T01:00:05.194217Z"
    }
   },
   "outputs": [],
   "source": [
    "xlat_midpoints = 0.5*(xlat[1:,1:]+xlat[:-1,:-1])\n",
    "xlong_midpoints = 0.5*(xlong[1:,1:]+xlong[:-1,:-1])"
   ]
  },
  {
   "cell_type": "code",
   "execution_count": 104,
   "metadata": {
    "ExecuteTime": {
     "end_time": "2018-05-30T01:00:10.953279Z",
     "start_time": "2018-05-30T01:00:10.945045Z"
    }
   },
   "outputs": [],
   "source": [
    "wet_latlon_subset_midpoints = ((xlat_midpoints<=wet_lat_hi) & (xlat_midpoints>=wet_lat_lo) \\\n",
    "                               & (xlong_midpoints<=wet_lon_hi) & (xlong_midpoints>=wet_lon_lo))\n",
    "\n",
    "dry_latlon_subset_midpoints = ((xlat_midpoints<=dry_lat_hi) & (xlat_midpoints>=dry_lat_lo) \\\n",
    "                               & (xlong_midpoints<=dry_lon_hi) & (xlong_midpoints>=dry_lon_lo))\n",
    "\n",
    "lat_indices_midpoints = ((xlat_midpoints<=10)&(xlat_midpoints>=-10))"
   ]
  },
  {
   "cell_type": "code",
   "execution_count": 105,
   "metadata": {
    "ExecuteTime": {
     "end_time": "2018-05-30T01:00:16.520431Z",
     "start_time": "2018-05-30T01:00:16.512416Z"
    }
   },
   "outputs": [],
   "source": [
    "wet_latlon_subset = ((xlat<=wet_lat_hi) & (xlat>=wet_lat_lo) \\\n",
    "                               & (xlong<=wet_lon_hi) & (xlong>=wet_lon_lo))\n",
    "\n",
    "dry_latlon_subset = ((xlat<=dry_lat_hi) & (xlat>=dry_lat_lo) \\\n",
    "                               & (xlong<=dry_lon_hi) & (xlong>=dry_lon_lo))\n",
    "\n",
    "lat_indices = ((xlat<=10)&(xlat>=-10))"
   ]
  },
  {
   "cell_type": "markdown",
   "metadata": {},
   "source": [
    "# pulling out wet and dry regions"
   ]
  },
  {
   "cell_type": "code",
   "execution_count": 106,
   "metadata": {
    "ExecuteTime": {
     "end_time": "2018-05-30T01:00:22.287034Z",
     "start_time": "2018-05-30T01:00:22.271326Z"
    }
   },
   "outputs": [],
   "source": [
    "dqdt_400_wet_region = numpy.nanmean(dqdt_400_tm[:,wet_latlon_subset_midpoints], axis=1)\n",
    "dqdt_400_dry_region = numpy.nanmean(dqdt_400_tm[:,dry_latlon_subset_midpoints], axis=1)\n",
    "\n",
    "dqdt_1000_wet_region = numpy.nanmean(dqdt_1000_tm[:,wet_latlon_subset_midpoints], axis=1)\n",
    "dqdt_1000_dry_region = numpy.nanmean(dqdt_1000_tm[:,dry_latlon_subset_midpoints], axis=1)\n",
    "\n",
    "dqdt_400_wet_region_day1 = numpy.nanmean(dqdt_400_tm_day1[:,wet_latlon_subset_midpoints], axis=1)\n",
    "dqdt_400_dry_region_day1 = numpy.nanmean(dqdt_400_tm_day1[:,dry_latlon_subset_midpoints], axis=1)\n",
    "\n",
    "dqdt_1000_wet_region_day1 = numpy.nanmean(dqdt_1000_tm_day1[:,wet_latlon_subset_midpoints], axis=1)\n",
    "dqdt_1000_dry_region_day1 = numpy.nanmean(dqdt_1000_tm_day1[:,dry_latlon_subset_midpoints], axis=1)"
   ]
  },
  {
   "cell_type": "code",
   "execution_count": 107,
   "metadata": {
    "ExecuteTime": {
     "end_time": "2018-05-30T01:00:28.058739Z",
     "start_time": "2018-05-30T01:00:28.042916Z"
    }
   },
   "outputs": [],
   "source": [
    "convergence_400_wet_region = numpy.nanmean(convergence_400_tm[:,wet_latlon_subset_midpoints], axis=1)\n",
    "convergence_400_dry_region = numpy.nanmean(convergence_400_tm[:,dry_latlon_subset_midpoints], axis=1)\n",
    "\n",
    "convergence_1000_wet_region = numpy.nanmean(convergence_1000_tm[:,wet_latlon_subset_midpoints], axis=1)\n",
    "convergence_1000_dry_region = numpy.nanmean(convergence_1000_tm[:,dry_latlon_subset_midpoints], axis=1)\n",
    "\n",
    "convergence_400_wet_region_day1 = numpy.nanmean(convergence_400_tm_day1[:,wet_latlon_subset_midpoints], axis=1)\n",
    "convergence_400_dry_region_day1 = numpy.nanmean(convergence_400_tm_day1[:,dry_latlon_subset_midpoints], axis=1)\n",
    "\n",
    "convergence_1000_wet_region_day1 = numpy.nanmean(convergence_1000_tm_day1[:,wet_latlon_subset_midpoints], axis=1)\n",
    "convergence_1000_dry_region_day1 = numpy.nanmean(convergence_1000_tm_day1[:,dry_latlon_subset_midpoints], axis=1)"
   ]
  },
  {
   "cell_type": "code",
   "execution_count": 108,
   "metadata": {
    "ExecuteTime": {
     "end_time": "2018-05-30T01:00:34.036259Z",
     "start_time": "2018-05-30T01:00:34.021208Z"
    }
   },
   "outputs": [],
   "source": [
    "advection_400_wet_region = numpy.nanmean(advection_400_tm[:,wet_latlon_subset_midpoints], axis=1)\n",
    "advection_400_dry_region = numpy.nanmean(advection_400_tm[:,dry_latlon_subset_midpoints], axis=1)\n",
    "\n",
    "advection_1000_wet_region = numpy.nanmean(advection_1000_tm[:,wet_latlon_subset_midpoints], axis=1)\n",
    "advection_1000_dry_region = numpy.nanmean(advection_1000_tm[:,dry_latlon_subset_midpoints], axis=1)\n",
    "\n",
    "advection_400_wet_region_day1 = numpy.nanmean(advection_400_tm_day1[:,wet_latlon_subset_midpoints], axis=1)\n",
    "advection_400_dry_region_day1 = numpy.nanmean(advection_400_tm_day1[:,dry_latlon_subset_midpoints], axis=1)\n",
    "\n",
    "advection_1000_wet_region_day1 = numpy.nanmean(advection_1000_tm_day1[:,wet_latlon_subset_midpoints], axis=1)\n",
    "advection_1000_dry_region_day1 = numpy.nanmean(advection_1000_tm_day1[:,dry_latlon_subset_midpoints], axis=1)"
   ]
  },
  {
   "cell_type": "code",
   "execution_count": 109,
   "metadata": {
    "ExecuteTime": {
     "end_time": "2018-05-30T01:01:25.143884Z",
     "start_time": "2018-05-30T01:00:39.827654Z"
    }
   },
   "outputs": [],
   "source": [
    "wa_400_tm = numpy.nanmean(wa_400[24:,:,:,:], axis=0)\n",
    "wa_1000_tm = numpy.nanmean(wa_1000[24:,:,:,:], axis=0)\n",
    "\n",
    "wa_400_tm_day1 = numpy.nanmean(wa_400[:24,:,:,:], axis=0)\n",
    "wa_1000_tm_day1 = numpy.nanmean(wa_1000[:24,:,:,:], axis=0)"
   ]
  },
  {
   "cell_type": "code",
   "execution_count": 110,
   "metadata": {
    "ExecuteTime": {
     "end_time": "2018-05-30T01:01:31.006595Z",
     "start_time": "2018-05-30T01:01:30.991291Z"
    }
   },
   "outputs": [],
   "source": [
    "wa_400_wet = numpy.nanmean(wa_400_tm[:,wet_latlon_subset],axis=1)\n",
    "wa_400_dry = numpy.nanmean(wa_400_tm[:,dry_latlon_subset],axis=1)\n",
    "\n",
    "wa_1000_wet = numpy.nanmean(wa_1000_tm[:,wet_latlon_subset],axis=1)\n",
    "wa_1000_dry = numpy.nanmean(wa_1000_tm[:,dry_latlon_subset],axis=1)\n",
    "\n",
    "wa_400_wet_day1 = numpy.nanmean(wa_400_tm_day1[:,wet_latlon_subset],axis=1)\n",
    "wa_400_dry_day1 = numpy.nanmean(wa_400_tm_day1[:,dry_latlon_subset],axis=1)\n",
    "\n",
    "wa_1000_wet_day1 = numpy.nanmean(wa_1000_tm_day1[:,wet_latlon_subset],axis=1)\n",
    "wa_1000_dry_day1 = numpy.nanmean(wa_1000_tm_day1[:,dry_latlon_subset],axis=1)"
   ]
  },
  {
   "cell_type": "raw",
   "metadata": {
    "ExecuteTime": {
     "end_time": "2018-05-30T01:01:36.713314Z",
     "start_time": "2018-05-30T01:01:36.687296Z"
    }
   },
   "source": [
    "omega_400_wet = numpy.nanmean(omega_400_tm[:,wet_latlon_subset_midpoints],axis=1)\n",
    "omega_400_dry = numpy.nanmean(omega_400_tm[:,dry_latlon_subset_midpoints],axis=1)\n",
    "\n",
    "omega_1000_wet = numpy.nanmean(omega_1000_tm[:,wet_latlon_subset_midpoints],axis=1)\n",
    "omega_1000_dry = numpy.nanmean(omega_1000_tm[:,dry_latlon_subset_midpoints],axis=1)\n",
    "\n",
    "omega_400_wet_day1 = numpy.nanmean(omega_400_tm_day1[:,wet_latlon_subset_midpoints],axis=1)\n",
    "omega_400_dry_day1 = numpy.nanmean(omega_400_tm_day1[:,dry_latlon_subset_midpoints],axis=1)\n",
    "\n",
    "omega_1000_wet_day1 = numpy.nanmean(omega_1000_tm_day1[:,wet_latlon_subset_midpoints],axis=1)\n",
    "omega_1000_dry_day1 = numpy.nanmean(omega_1000_tm_day1[:,dry_latlon_subset_midpoints],axis=1)"
   ]
  },
  {
   "cell_type": "code",
   "execution_count": 112,
   "metadata": {
    "ExecuteTime": {
     "end_time": "2018-05-30T01:01:49.314124Z",
     "start_time": "2018-05-30T01:01:49.295791Z"
    }
   },
   "outputs": [],
   "source": [
    "convergence_400_vert_wet_region = numpy.nanmean(convergence_400_vert_tm[:,wet_latlon_subset_midpoints], axis=1)\n",
    "convergence_400_vert_dry_region = numpy.nanmean(convergence_400_vert_tm[:,dry_latlon_subset_midpoints], axis=1)\n",
    "\n",
    "convergence_1000_vert_wet_region = numpy.nanmean(convergence_1000_vert_tm[:,wet_latlon_subset_midpoints], axis=1)\n",
    "convergence_1000_vert_dry_region = numpy.nanmean(convergence_1000_vert_tm[:,dry_latlon_subset_midpoints], axis=1)\n",
    "\n",
    "convergence_400_vert_wet_region_day1 = numpy.nanmean(convergence_400_vert_tm_day1[:,wet_latlon_subset_midpoints], axis=1)\n",
    "convergence_400_vert_dry_region_day1 = numpy.nanmean(convergence_400_vert_tm_day1[:,dry_latlon_subset_midpoints], axis=1)\n",
    "\n",
    "convergence_1000_vert_wet_region_day1 = numpy.nanmean(convergence_1000_vert_tm_day1[:,wet_latlon_subset_midpoints], axis=1)\n",
    "convergence_1000_vert_dry_region_day1 = numpy.nanmean(convergence_1000_vert_tm_day1[:,dry_latlon_subset_midpoints], axis=1)\n",
    "\n"
   ]
  },
  {
   "cell_type": "code",
   "execution_count": 113,
   "metadata": {
    "ExecuteTime": {
     "end_time": "2018-05-30T01:01:55.532943Z",
     "start_time": "2018-05-30T01:01:55.517069Z"
    }
   },
   "outputs": [],
   "source": [
    "convergence_400_horiz_wet_region = numpy.nanmean(convergence_400_horiz_tm[:,wet_latlon_subset_midpoints], axis=1)\n",
    "convergence_400_horiz_dry_region = numpy.nanmean(convergence_400_horiz_tm[:,dry_latlon_subset_midpoints], axis=1)\n",
    "\n",
    "convergence_1000_horiz_wet_region = numpy.nanmean(convergence_1000_horiz_tm[:,wet_latlon_subset_midpoints], axis=1)\n",
    "convergence_1000_horiz_dry_region = numpy.nanmean(convergence_1000_horiz_tm[:,dry_latlon_subset_midpoints], axis=1)\n",
    "\n",
    "convergence_400_horiz_wet_region_day1 = numpy.nanmean(convergence_400_horiz_tm_day1[:,wet_latlon_subset_midpoints], axis=1)\n",
    "convergence_400_horiz_dry_region_day1 = numpy.nanmean(convergence_400_horiz_tm_day1[:,dry_latlon_subset_midpoints], axis=1)\n",
    "\n",
    "convergence_1000_horiz_wet_region_day1 = numpy.nanmean(convergence_1000_horiz_tm_day1[:,wet_latlon_subset_midpoints], axis=1)\n",
    "convergence_1000_horiz_dry_region_day1 = numpy.nanmean(convergence_1000_horiz_tm_day1[:,dry_latlon_subset_midpoints], axis=1)\n",
    "\n"
   ]
  },
  {
   "cell_type": "code",
   "execution_count": 114,
   "metadata": {
    "ExecuteTime": {
     "end_time": "2018-05-30T01:02:01.427186Z",
     "start_time": "2018-05-30T01:02:01.411435Z"
    }
   },
   "outputs": [],
   "source": [
    "advection_400_vert_wet_region = numpy.nanmean(advection_400_vert_tm[:,wet_latlon_subset_midpoints], axis=1)\n",
    "advection_400_vert_dry_region = numpy.nanmean(advection_400_vert_tm[:,dry_latlon_subset_midpoints], axis=1)\n",
    "\n",
    "advection_1000_vert_wet_region = numpy.nanmean(advection_1000_vert_tm[:,wet_latlon_subset_midpoints], axis=1)\n",
    "advection_1000_vert_dry_region = numpy.nanmean(advection_1000_vert_tm[:,dry_latlon_subset_midpoints], axis=1)\n",
    "\n",
    "advection_400_vert_wet_region_day1 = numpy.nanmean(advection_400_vert_tm_day1[:,wet_latlon_subset_midpoints], axis=1)\n",
    "advection_400_vert_dry_region_day1 = numpy.nanmean(advection_400_vert_tm_day1[:,dry_latlon_subset_midpoints], axis=1)\n",
    "\n",
    "advection_1000_vert_wet_region_day1 = numpy.nanmean(advection_1000_vert_tm_day1[:,wet_latlon_subset_midpoints], axis=1)\n",
    "advection_1000_vert_dry_region_day1 = numpy.nanmean(advection_1000_vert_tm_day1[:,dry_latlon_subset_midpoints], axis=1)"
   ]
  },
  {
   "cell_type": "code",
   "execution_count": 115,
   "metadata": {
    "ExecuteTime": {
     "end_time": "2018-05-30T01:02:07.152079Z",
     "start_time": "2018-05-30T01:02:07.136391Z"
    }
   },
   "outputs": [],
   "source": [
    "advection_400_horiz_wet_region = numpy.nanmean(advection_400_horiz_tm[:,wet_latlon_subset_midpoints], axis=1)\n",
    "advection_400_horiz_dry_region = numpy.nanmean(advection_400_horiz_tm[:,dry_latlon_subset_midpoints], axis=1)\n",
    "\n",
    "advection_1000_horiz_wet_region = numpy.nanmean(advection_1000_horiz_tm[:,wet_latlon_subset_midpoints], axis=1)\n",
    "advection_1000_horiz_dry_region = numpy.nanmean(advection_1000_horiz_tm[:,dry_latlon_subset_midpoints], axis=1)\n",
    "\n",
    "advection_400_horiz_wet_region_day1 = numpy.nanmean(advection_400_horiz_tm_day1[:,wet_latlon_subset_midpoints], axis=1)\n",
    "advection_400_horiz_dry_region_day1 = numpy.nanmean(advection_400_horiz_tm_day1[:,dry_latlon_subset_midpoints], axis=1)\n",
    "\n",
    "advection_1000_horiz_wet_region_day1 = numpy.nanmean(advection_1000_horiz_tm_day1[:,wet_latlon_subset_midpoints], axis=1)\n",
    "advection_1000_horiz_dry_region_day1 = numpy.nanmean(advection_1000_horiz_tm_day1[:,dry_latlon_subset_midpoints], axis=1)"
   ]
  },
  {
   "cell_type": "markdown",
   "metadata": {},
   "source": [
    "# plot vertical changes using ptot change"
   ]
  },
  {
   "cell_type": "code",
   "execution_count": 116,
   "metadata": {
    "ExecuteTime": {
     "end_time": "2018-05-30T01:02:13.257209Z",
     "start_time": "2018-05-30T01:02:13.093195Z"
    }
   },
   "outputs": [],
   "source": [
    "ptot_400_dry_region_midpoints = numpy.nanmean(ptot_400_midpoints[:,:,dry_latlon_subset_midpoints], axis=(0,2))\n",
    "ptot_400_wet_region_midpoints = numpy.nanmean(ptot_400_midpoints[:,:,wet_latlon_subset_midpoints], axis=(0,2))"
   ]
  },
  {
   "cell_type": "code",
   "execution_count": 117,
   "metadata": {
    "ExecuteTime": {
     "end_time": "2018-05-30T01:02:19.366095Z",
     "start_time": "2018-05-30T01:02:19.179540Z"
    }
   },
   "outputs": [],
   "source": [
    "ptot_400_dry_region = numpy.nanmean(ptot_400[:,:,dry_latlon_subset], axis=(0,2))\n",
    "ptot_400_wet_region = numpy.nanmean(ptot_400[:,:,wet_latlon_subset], axis=(0,2))"
   ]
  },
  {
   "cell_type": "code",
   "execution_count": 118,
   "metadata": {
    "ExecuteTime": {
     "end_time": "2018-05-30T01:02:25.129935Z",
     "start_time": "2018-05-30T01:02:25.123696Z"
    }
   },
   "outputs": [],
   "source": [
    "diff_wet_region_dqdt = dqdt_1000_wet_region-dqdt_400_wet_region\n",
    "diff_dry_region_dqdt = dqdt_1000_dry_region-dqdt_400_dry_region\n",
    "\n",
    "diff_wet_region_dqdt_day1 = dqdt_1000_wet_region_day1-dqdt_400_wet_region_day1\n",
    "diff_dry_region_dqdt_day1 = dqdt_1000_dry_region_day1-dqdt_400_dry_region_day1"
   ]
  },
  {
   "cell_type": "code",
   "execution_count": 119,
   "metadata": {
    "ExecuteTime": {
     "end_time": "2018-05-30T01:02:31.069514Z",
     "start_time": "2018-05-30T01:02:31.062939Z"
    }
   },
   "outputs": [],
   "source": [
    "diff_wet_region_conv = convergence_1000_wet_region-convergence_400_wet_region\n",
    "diff_dry_region_conv = convergence_1000_dry_region-convergence_400_dry_region\n",
    "\n",
    "diff_wet_region_conv_day1 = convergence_1000_wet_region_day1-convergence_400_wet_region_day1\n",
    "diff_dry_region_conv_day1 = convergence_1000_dry_region_day1-convergence_400_dry_region_day1"
   ]
  },
  {
   "cell_type": "code",
   "execution_count": 120,
   "metadata": {
    "ExecuteTime": {
     "end_time": "2018-05-30T01:02:37.433672Z",
     "start_time": "2018-05-30T01:02:37.427009Z"
    }
   },
   "outputs": [],
   "source": [
    "diff_wet_region_adv = advection_1000_wet_region-advection_400_wet_region\n",
    "diff_dry_region_adv = advection_1000_dry_region-advection_400_dry_region\n",
    "\n",
    "diff_wet_region_adv_day1 = advection_1000_wet_region_day1-advection_400_wet_region_day1\n",
    "diff_dry_region_adv_day1 = advection_1000_dry_region_day1-advection_400_dry_region_day1"
   ]
  },
  {
   "cell_type": "code",
   "execution_count": 121,
   "metadata": {
    "ExecuteTime": {
     "end_time": "2018-05-30T01:02:43.210393Z",
     "start_time": "2018-05-30T01:02:43.204233Z"
    }
   },
   "outputs": [],
   "source": [
    "wa_diff_wet_region = wa_1000_wet-wa_400_wet\n",
    "wa_diff_dry_region = wa_1000_dry-wa_400_dry\n",
    "\n",
    "wa_diff_wet_region_day1 = wa_1000_wet_day1-wa_400_wet_day1\n",
    "wa_diff_dry_region_day1 = wa_1000_dry_day1-wa_400_dry_day1"
   ]
  },
  {
   "cell_type": "raw",
   "metadata": {
    "ExecuteTime": {
     "end_time": "2018-05-07T18:32:43.351942Z",
     "start_time": "2018-05-07T18:32:43.345957Z"
    }
   },
   "source": [
    "omega_diff_wet_region = omega_1000_wet-omega_400_wet\n",
    "omega_diff_dry_region = omega_1000_dry-omega_400_dry\n",
    "\n",
    "omega_diff_wet_region_day1 = omega_1000_wet_day1-omega_400_wet_day1\n",
    "omega_diff_dry_region_day1 = omega_1000_dry_day1-omega_400_dry_day1"
   ]
  },
  {
   "cell_type": "markdown",
   "metadata": {},
   "source": [
    "same but for vert and horiz split up"
   ]
  },
  {
   "cell_type": "code",
   "execution_count": 122,
   "metadata": {
    "ExecuteTime": {
     "end_time": "2018-05-30T01:02:49.176023Z",
     "start_time": "2018-05-30T01:02:49.167404Z"
    }
   },
   "outputs": [],
   "source": [
    "diff_wet_region_vert_conv = convergence_1000_vert_wet_region-convergence_400_vert_wet_region\n",
    "diff_dry_region_vert_conv = convergence_1000_vert_dry_region-convergence_400_vert_dry_region\n",
    "\n",
    "diff_wet_region_vert_conv_day1 = convergence_1000_vert_wet_region_day1-convergence_400_vert_wet_region_day1\n",
    "diff_dry_region_vert_conv_day1 = convergence_1000_vert_dry_region_day1-convergence_400_vert_dry_region_day1\n",
    "\n",
    "diff_wet_region_vert_adv = advection_1000_vert_wet_region-advection_400_vert_wet_region\n",
    "diff_dry_region_vert_adv = advection_1000_vert_dry_region-advection_400_vert_dry_region\n",
    "\n",
    "diff_wet_region_vert_adv_day1 = advection_1000_vert_wet_region_day1-advection_400_vert_wet_region_day1\n",
    "diff_dry_region_vert_adv_day1 = advection_1000_vert_dry_region_day1-advection_400_vert_dry_region_day1"
   ]
  },
  {
   "cell_type": "code",
   "execution_count": 123,
   "metadata": {
    "ExecuteTime": {
     "end_time": "2018-05-30T01:02:55.160237Z",
     "start_time": "2018-05-30T01:02:55.151199Z"
    }
   },
   "outputs": [],
   "source": [
    "diff_wet_region_horiz_conv = convergence_1000_horiz_wet_region-convergence_400_horiz_wet_region\n",
    "diff_dry_region_horiz_conv = convergence_1000_horiz_dry_region-convergence_400_horiz_dry_region\n",
    "\n",
    "diff_wet_region_horiz_conv_day1 = convergence_1000_horiz_wet_region_day1-convergence_400_horiz_wet_region_day1\n",
    "diff_dry_region_horiz_conv_day1 = convergence_1000_horiz_dry_region_day1-convergence_400_horiz_dry_region_day1\n",
    "\n",
    "diff_wet_region_horiz_adv = advection_1000_horiz_wet_region-advection_400_horiz_wet_region\n",
    "diff_dry_region_horiz_adv = advection_1000_horiz_dry_region-advection_400_horiz_dry_region\n",
    "\n",
    "diff_wet_region_horiz_adv_day1 = advection_1000_horiz_wet_region_day1-advection_400_horiz_wet_region_day1\n",
    "diff_dry_region_horiz_adv_day1 = advection_1000_horiz_dry_region_day1-advection_400_horiz_dry_region_day1"
   ]
  },
  {
   "cell_type": "markdown",
   "metadata": {},
   "source": [
    "# plot vertical profiles of changes in moisture advection (total)"
   ]
  },
  {
   "cell_type": "raw",
   "metadata": {
    "ExecuteTime": {
     "end_time": "2018-05-11T00:34:24.982838Z",
     "start_time": "2018-05-11T00:34:20.247815Z"
    }
   },
   "source": [
    "fontsize=12\n",
    "\n",
    "fig = mp.figure(figsize=(4.25,6))\n",
    "\n",
    "ax_list = []\n",
    "\n",
    "#####\n",
    "ax = fig.add_subplot(221)\n",
    "\n",
    "ax.plot(diff_wet_region_adv*1000.*86400.,ptot_400_wet_region_midpoints/100., c='green', label='moist. adv.')\n",
    "ax.plot(diff_wet_region_conv*1000.*86400.,ptot_400_wet_region_midpoints/100.,c='dodgerblue', label='moist. conv.')\n",
    "ax.plot(diff_wet_region_dqdt*1000.*86400.,ptot_400_wet_region_midpoints/100.,c='0.5', label='dq/dt')\n",
    "ax.axvline(0, ls='--', c='0.1')\n",
    "ax.axhline(860, ls='--', c='0.1')\n",
    "ax.set_ylim(1000,200)\n",
    "ax.set_xlim(-0.9,0.55)\n",
    "ax.tick_params(labelsize=fontsize)\n",
    "ax.set_xlabel('g kg$^{\\,-1}$ day$^{\\,-1}$', fontsize=fontsize)\n",
    "ax.set_ylabel('hPa', fontsize=fontsize)\n",
    "ax.text(s='Andes\\n10d mean', x=0.07, y=0.95, ha='left', va='top', transform=ax.transAxes, fontsize=fontsize)\n",
    "ax_list.append(ax)\n",
    "\n",
    "#####\n",
    "ax = fig.add_subplot(222)\n",
    "\n",
    "ax.plot(diff_dry_region_adv*1000.*86400.,ptot_400_dry_region_midpoints/100., c='green', label='moist. adv.')\n",
    "ax.plot(diff_dry_region_conv*1000.*86400.,ptot_400_dry_region_midpoints/100.,c='dodgerblue', label='moist. conv.')\n",
    "ax.plot(diff_dry_region_dqdt*1000.*86400.,ptot_400_dry_region_midpoints/100.,c='0.5',label='dq/dt')\n",
    "ax.axvline(0, ls='--', c='0.1')\n",
    "ax.axhline(860, ls='--', c='0.1')\n",
    "ax.set_ylim(1000,200)\n",
    "ax.set_xlim(-0.5,0.25)\n",
    "ax.tick_params(labelsize=fontsize)\n",
    "ax.set_xlabel('g kg$^{\\,-1}$ day$^{\\,-1}$', fontsize=fontsize)\n",
    "ax.set_yticklabels([])\n",
    "#ax.set_ylabel('hPa', fontsize=fontsize)\n",
    "ax.text(s='Amazon\\n10d mean', x=0.07, y=0.95, ha='left', va='top', transform=ax.transAxes, fontsize=fontsize)\n",
    "ax.text(s='860\\nhPa', x=0.3, y=860, ha='left', va='center', fontsize=fontsize)\n",
    "ax_list.append(ax)\n",
    "\n",
    "#####\n",
    "ax = fig.add_subplot(223)\n",
    "\n",
    "ax.plot(diff_wet_region_adv_day1*1000.*86400.,ptot_400_wet_region_midpoints/100., c='green', label='moist. adv.')\n",
    "ax.plot(diff_wet_region_conv_day1*1000.*86400.,ptot_400_wet_region_midpoints/100., c='dodgerblue', label='moist. conv.')\n",
    "ax.plot(diff_wet_region_dqdt_day1*1000.*86400.,ptot_400_wet_region_midpoints/100., c='0.5', label='dq/dt')\n",
    "ax.axvline(0, ls='--', c='0.1')\n",
    "ax.axhline(860, ls='--', c='0.1')\n",
    "ax.set_ylim(1000,200)\n",
    "ax.set_xlim(-0.9,0.55)\n",
    "ax.tick_params(labelsize=fontsize)\n",
    "ax.set_xlabel('g kg$^{\\,-1}$ day$^{\\,-1}$', fontsize=fontsize)\n",
    "ax.set_ylabel('hPa', fontsize=fontsize)\n",
    "ax.text(s='Andes\\nday 1', x=0.07, y=0.95, ha='left', va='top', transform=ax.transAxes, fontsize=fontsize)\n",
    "ax_list.append(ax)\n",
    "\n",
    "#####\n",
    "ax = fig.add_subplot(224)\n",
    "\n",
    "ax.plot(diff_dry_region_adv_day1*1000.*86400.,ptot_400_wet_region_midpoints/100., c='green', label='moist. adv.')\n",
    "ax.plot(diff_dry_region_conv_day1*1000.*86400.,ptot_400_wet_region_midpoints/100., c='dodgerblue', label='moist. conv.')\n",
    "ax.plot(diff_dry_region_dqdt_day1*1000.*86400.,ptot_400_wet_region_midpoints/100., c='0.5', label='dq/dt')\n",
    "ax.axvline(0, ls='--', c='0.1')\n",
    "ax.axhline(860, ls='--', c='0.1')\n",
    "ax.set_ylim(1000,200)\n",
    "ax.set_xlim(-0.5,0.25)\n",
    "ax.tick_params(labelsize=fontsize)\n",
    "ax.set_xlabel('g kg$^{\\,-1}$ day$^{\\,-1}$', fontsize=fontsize)\n",
    "ax.set_yticklabels([])\n",
    "ax_list.append(ax)\n",
    "ax.text(s='860\\nhPa', x=0.3, y=860, ha='left', va='center', fontsize=fontsize)\n",
    "ax.text(s='Amazon\\nday 1', x=0.07, y=0.95, ha='left', va='top', transform=ax.transAxes, fontsize=fontsize)\n",
    "\n",
    "fig.tight_layout()\n",
    "\n",
    "handles, labels = ax.get_legend_handles_labels()\n",
    "legend = ax_list[1].legend(handles, labels, fontsize=fontsize, bbox_to_anchor=(1.05,1), edgecolor='None', \\\n",
    "                   facecolor='None', fancybox=False, bbox_transform=ax_list[1].transAxes, loc='upper left', \\\n",
    "                   borderaxespad=0., borderpad=0.25, handlelength=1.0, handletextpad=0.5, \\\n",
    "                   columnspacing=0.5, markerscale=1)\n",
    "\n",
    "fig.savefig('mean_moisture_TOTAL_advection_10d_and_day1.png', dpi=600, transparent=True, bbox_inches='tight')"
   ]
  },
  {
   "cell_type": "markdown",
   "metadata": {},
   "source": [
    "# plot climatological moisture advection/convergence"
   ]
  },
  {
   "cell_type": "code",
   "execution_count": 124,
   "metadata": {
    "ExecuteTime": {
     "end_time": "2018-05-30T01:03:07.710131Z",
     "start_time": "2018-05-30T01:03:04.022780Z"
    }
   },
   "outputs": [
    {
     "data": {
      "image/png": "[encoded data removed]",
      "text/plain": [
       "<Figure size 324x432 with 4 Axes>"
      ]
     },
     "metadata": {},
     "output_type": "display_data"
    }
   ],
   "source": [
    "fontsize=12\n",
    "\n",
    "fig = mp.figure(figsize=(4.5,6))\n",
    "\n",
    "ax_list = []\n",
    "\n",
    "#####\n",
    "ax = fig.add_subplot(221)\n",
    "\n",
    "ax.plot(advection_400_wet_region_day1*1000.*86400.,ptot_400_wet_region_midpoints/100., c='green', label='moist. adv.')\n",
    "ax.plot(convergence_400_wet_region_day1*1000.*86400.,ptot_400_wet_region_midpoints/100., c='dodgerblue', label='moist. conv.')\n",
    "#ax.plot(diff_wet_region_dqdt_day1*1000.*86400.,ptot_400_wet_region_midpoints/100., c='0.5', label='dq/dt')\n",
    "ax.axvline(0, ls='--', c='0.1', zorder=1)\n",
    "#ax.axhline(860, ls='--', c='0.1')\n",
    "ax.set_ylim(1000,200)\n",
    "ax.set_xlim(-10,10)\n",
    "ax.tick_params(labelsize=fontsize)\n",
    "ax.set_xlabel('g kg$^{\\,-1}$ day$^{\\,-1}$', fontsize=fontsize)\n",
    "ax.set_ylabel('hPa', fontsize=fontsize)\n",
    "ax.text(s='Andes\\nday 1', x=0.05, y=0.95, ha='left', va='top', transform=ax.transAxes, fontsize=fontsize)\n",
    "ax.text(s='(a)', x=0, y=1.02, ha='left', va='bottom', transform=ax.transAxes, fontsize=fontsize)\n",
    "ax.yaxis.grid()\n",
    "ax_list.append(ax)\n",
    "\n",
    "#####\n",
    "ax = fig.add_subplot(222)\n",
    "\n",
    "ax.plot(advection_400_dry_region_day1*1000.*86400.,ptot_400_wet_region_midpoints/100., c='green', label='moisture\\nadvection')\n",
    "ax.plot(convergence_400_dry_region_day1*1000.*86400.,ptot_400_wet_region_midpoints/100., c='dodgerblue', label='moisture\\nconvergence')\n",
    "#ax.plot(diff_dry_region_dqdt_day1*1000.*86400.,ptot_400_wet_region_midpoints/100., c='0.5', label='dq/dt')\n",
    "ax.axvline(0, ls='--', c='0.1', zorder=1)\n",
    "#ax.axhline(860, ls='--', c='0.1')\n",
    "ax.set_ylim(1000,200)\n",
    "ax.set_xlim(-5,5)\n",
    "ax.tick_params(labelsize=fontsize)\n",
    "ax.set_xlabel('g kg$^{\\,-1}$ day$^{\\,-1}$', fontsize=fontsize)\n",
    "ax.set_yticklabels([])\n",
    "ax_list.append(ax)\n",
    "#ax.text(s='860\\nhPa', x=0.3, y=860, ha='left', va='center', fontsize=fontsize)\n",
    "ax.text(s='Amazon\\nday 1', x=0.05, y=0.95, ha='left', va='top', transform=ax.transAxes, fontsize=fontsize)\n",
    "ax.text(s='(b)', x=0, y=1.02, ha='left', va='bottom', transform=ax.transAxes, fontsize=fontsize)\n",
    "ax.yaxis.grid()\n",
    "\n",
    "#####\n",
    "ax = fig.add_subplot(223)\n",
    "\n",
    "ax.plot(advection_400_wet_region*1000.*86400.,ptot_400_wet_region_midpoints/100., c='green', label='moisture\\nadvection')\n",
    "ax.plot(convergence_400_wet_region*1000.*86400.,ptot_400_wet_region_midpoints/100.,c='dodgerblue', label='moisture\\nconvergence')\n",
    "#ax.plot(diff_wet_region_dqdt*1000.*86400.,ptot_400_wet_region_midpoints/100.,c='0.5', label='dq/dt')\n",
    "ax.axvline(0, ls='--', c='0.1', zorder=1)\n",
    "#ax.axhline(860, ls='--', c='0.1')\n",
    "ax.set_ylim(1000,200)\n",
    "ax.set_xlim(-10,10)\n",
    "ax.tick_params(labelsize=fontsize)\n",
    "ax.set_xlabel('g kg$^{\\,-1}$ day$^{\\,-1}$', fontsize=fontsize)\n",
    "ax.set_ylabel('hPa', fontsize=fontsize)\n",
    "ax.text(s='Andes\\ndays 2–10', x=0.05, y=0.95, ha='left', va='top', transform=ax.transAxes, fontsize=fontsize)\n",
    "ax.text(s='(c)', x=0, y=1.02, ha='left', va='bottom', transform=ax.transAxes, fontsize=fontsize)\n",
    "ax.yaxis.grid()\n",
    "ax_list.append(ax)\n",
    "\n",
    "#####\n",
    "ax = fig.add_subplot(224)\n",
    "\n",
    "ax.plot(advection_400_dry_region*1000.*86400.,ptot_400_dry_region_midpoints/100., c='green', label='moisture\\nadvection')\n",
    "ax.plot(convergence_400_dry_region*1000.*86400.,ptot_400_dry_region_midpoints/100.,c='dodgerblue', label='moisture\\nconvergence')\n",
    "#ax.plot(diff_dry_region_dqdt*1000.*86400.,ptot_400_dry_region_midpoints/100.,c='0.5',label='dq/dt')\n",
    "ax.axvline(0, ls='--', c='0.1', zorder=1)\n",
    "#ax.axhline(860, ls='--', c='0.1')\n",
    "ax.set_ylim(1000,200)\n",
    "ax.set_xlim(-5,5)\n",
    "ax.tick_params(labelsize=fontsize)\n",
    "ax.set_xlabel('g kg$^{\\,-1}$ day$^{\\,-1}$', fontsize=fontsize)\n",
    "ax.set_yticklabels([])\n",
    "#ax.set_ylabel('hPa', fontsize=fontsize)\n",
    "ax.text(s='Amazon\\ndays 2–10', x=0.05, y=0.95, ha='left', va='top', transform=ax.transAxes, fontsize=fontsize)\n",
    "#ax.text(s='860\\nhPa', x=0.3, y=860, ha='left', va='center', fontsize=fontsize)\n",
    "ax.text(s='(d)', x=0, y=1.02, ha='left', va='bottom', transform=ax.transAxes, fontsize=fontsize)\n",
    "ax.yaxis.grid()\n",
    "ax_list.append(ax)\n",
    "\n",
    "fig.tight_layout(h_pad=1)\n",
    "\n",
    "handles, labels = ax_list[1].get_legend_handles_labels()\n",
    "legend = ax_list[1].legend(handles, labels, fontsize=fontsize, bbox_to_anchor=(1.05,1), edgecolor='None', \\\n",
    "                   facecolor='None', fancybox=False, bbox_transform=ax_list[1].transAxes, loc='upper left', \\\n",
    "                   borderaxespad=0., borderpad=0.25, handlelength=1.0, handletextpad=0.5, \\\n",
    "                   columnspacing=0.5, markerscale=1)\n",
    "\n",
    "fig.savefig('manuscript_figXX_climatological_moisture_budget_TOTAL_10d_and_day1.png', dpi=600, \\\n",
    "            transparent=True, bbox_inches='tight')\n"
   ]
  },
  {
   "cell_type": "markdown",
   "metadata": {},
   "source": [
    "# plot individual conv, div, dqdt terms"
   ]
  },
  {
   "cell_type": "code",
   "execution_count": 125,
   "metadata": {
    "ExecuteTime": {
     "end_time": "2018-05-30T01:03:16.858782Z",
     "start_time": "2018-05-30T01:03:13.548573Z"
    }
   },
   "outputs": [
    {
     "data": {
      "image/png": "[encoded data removed]",
      "text/plain": [
       "<Figure size 324x432 with 4 Axes>"
      ]
     },
     "metadata": {},
     "output_type": "display_data"
    }
   ],
   "source": [
    "fontsize=12\n",
    "\n",
    "fig = mp.figure(figsize=(4.5,6))\n",
    "\n",
    "ax_list = []\n",
    "\n",
    "#####\n",
    "ax = fig.add_subplot(221)\n",
    "\n",
    "ax.plot(diff_wet_region_adv_day1*1000.*86400.,ptot_400_wet_region_midpoints/100., c='green', label='moist. adv.')\n",
    "ax.plot(diff_wet_region_conv_day1*1000.*86400.,ptot_400_wet_region_midpoints/100., c='dodgerblue', label='moist. conv.')\n",
    "ax.plot(diff_wet_region_dqdt_day1*1000.*86400.,ptot_400_wet_region_midpoints/100., c='0.5', label='dq/dt')\n",
    "ax.axvline(0, ls='--', c='0.1', zorder=1)\n",
    "#ax.axhline(860, ls='--', c='0.1')\n",
    "ax.set_ylim(1000,200)\n",
    "ax.set_xlim(-1.5,1)\n",
    "ax.tick_params(labelsize=fontsize)\n",
    "ax.set_xlabel('g kg$^{\\,-1}$ day$^{\\,-1}$', fontsize=fontsize)\n",
    "ax.set_ylabel('hPa', fontsize=fontsize)\n",
    "ax.text(s='Andes\\nday 1', x=0.05, y=0.95, ha='left', va='top', transform=ax.transAxes, fontsize=fontsize)\n",
    "ax.text(s='(a)', x=0, y=1.02, ha='left', va='bottom', transform=ax.transAxes, fontsize=fontsize)\n",
    "ax.yaxis.grid()\n",
    "ax_list.append(ax)\n",
    "\n",
    "#####\n",
    "ax = fig.add_subplot(222)\n",
    "\n",
    "ax.plot(diff_dry_region_adv_day1*1000.*86400.,ptot_400_wet_region_midpoints/100., c='green', label='moisture\\nadvection')\n",
    "ax.plot(diff_dry_region_conv_day1*1000.*86400.,ptot_400_wet_region_midpoints/100., c='dodgerblue', label='moisture\\nconvergence')\n",
    "ax.plot(diff_dry_region_dqdt_day1*1000.*86400.,ptot_400_wet_region_midpoints/100., c='0.5', label='dq/dt')\n",
    "ax.axvline(0, ls='--', c='0.1', zorder=1)\n",
    "#ax.axhline(860, ls='--', c='0.1')\n",
    "ax.set_ylim(1000,200)\n",
    "ax.set_xlim(-0.75,0.5)\n",
    "ax.tick_params(labelsize=fontsize)\n",
    "ax.set_xlabel('g kg$^{\\,-1}$ day$^{\\,-1}$', fontsize=fontsize)\n",
    "ax.set_yticklabels([])\n",
    "ax_list.append(ax)\n",
    "#ax.text(s='860\\nhPa', x=0.3, y=860, ha='left', va='center', fontsize=fontsize)\n",
    "ax.text(s='Amazon\\nday 1', x=0.05, y=0.95, ha='left', va='top', transform=ax.transAxes, fontsize=fontsize)\n",
    "ax.text(s='(b)', x=0, y=1.02, ha='left', va='bottom', transform=ax.transAxes, fontsize=fontsize)\n",
    "ax.yaxis.grid()\n",
    "\n",
    "#####\n",
    "ax = fig.add_subplot(223)\n",
    "\n",
    "ax.plot(diff_wet_region_adv*1000.*86400.,ptot_400_wet_region_midpoints/100., c='green', label='moisture\\nadvection')\n",
    "ax.plot(diff_wet_region_conv*1000.*86400.,ptot_400_wet_region_midpoints/100.,c='dodgerblue', label='moisture\\nconvergence')\n",
    "ax.plot(diff_wet_region_dqdt*1000.*86400.,ptot_400_wet_region_midpoints/100.,c='0.5', label='dq/dt')\n",
    "ax.axvline(0, ls='--', c='0.1', zorder=1)\n",
    "#ax.axhline(860, ls='--', c='0.1')\n",
    "ax.set_ylim(1000,200)\n",
    "ax.set_xlim(-1.5,1)\n",
    "ax.tick_params(labelsize=fontsize)\n",
    "ax.set_xlabel('g kg$^{\\,-1}$ day$^{\\,-1}$', fontsize=fontsize)\n",
    "ax.set_ylabel('hPa', fontsize=fontsize)\n",
    "ax.text(s='Andes\\ndays 2–10', x=0.05, y=0.95, ha='left', va='top', transform=ax.transAxes, fontsize=fontsize)\n",
    "ax.text(s='(c)', x=0, y=1.02, ha='left', va='bottom', transform=ax.transAxes, fontsize=fontsize)\n",
    "ax.yaxis.grid()\n",
    "ax_list.append(ax)\n",
    "\n",
    "#####\n",
    "ax = fig.add_subplot(224)\n",
    "\n",
    "ax.plot(diff_dry_region_adv*1000.*86400.,ptot_400_dry_region_midpoints/100., c='green', label='moisture\\nadvection')\n",
    "ax.plot(diff_dry_region_conv*1000.*86400.,ptot_400_dry_region_midpoints/100.,c='dodgerblue', label='moisture\\nconvergence')\n",
    "ax.plot(diff_dry_region_dqdt*1000.*86400.,ptot_400_dry_region_midpoints/100.,c='0.5',label='dq/dt')\n",
    "ax.axvline(0, ls='--', c='0.1', zorder=1)\n",
    "#ax.axhline(860, ls='--', c='0.1')\n",
    "ax.set_ylim(1000,200)\n",
    "ax.set_xlim(-0.75,0.5)\n",
    "ax.tick_params(labelsize=fontsize)\n",
    "ax.set_xlabel('g kg$^{\\,-1}$ day$^{\\,-1}$', fontsize=fontsize)\n",
    "ax.set_yticklabels([])\n",
    "#ax.set_ylabel('hPa', fontsize=fontsize)\n",
    "ax.text(s='Amazon\\ndays 2–10', x=0.05, y=0.95, ha='left', va='top', transform=ax.transAxes, fontsize=fontsize)\n",
    "#ax.text(s='860\\nhPa', x=0.3, y=860, ha='left', va='center', fontsize=fontsize)\n",
    "ax.text(s='(d)', x=0, y=1.02, ha='left', va='bottom', transform=ax.transAxes, fontsize=fontsize)\n",
    "ax.yaxis.grid()\n",
    "ax_list.append(ax)\n",
    "\n",
    "fig.tight_layout(h_pad=1)\n",
    "\n",
    "handles, labels = ax_list[1].get_legend_handles_labels()\n",
    "legend = ax_list[1].legend(handles, labels, fontsize=fontsize, bbox_to_anchor=(1.05,1), edgecolor='None', \\\n",
    "                   facecolor='None', fancybox=False, bbox_transform=ax_list[1].transAxes, loc='upper left', \\\n",
    "                   borderaxespad=0., borderpad=0.25, handlelength=1.0, handletextpad=0.5, \\\n",
    "                   columnspacing=0.5, markerscale=1)\n",
    "\n",
    "fig.savefig('manuscript_figXX_mean_moisture_budget_TOTAL_10d_and_day1.png', dpi=600, \\\n",
    "            transparent=True, bbox_inches='tight')"
   ]
  },
  {
   "cell_type": "code",
   "execution_count": 126,
   "metadata": {
    "ExecuteTime": {
     "end_time": "2018-05-30T01:03:26.481258Z",
     "start_time": "2018-05-30T01:03:24.648894Z"
    }
   },
   "outputs": [
    {
     "data": {
      "image/png": "[encoded data removed]",
      "text/plain": [
       "<Figure size 324x216 with 2 Axes>"
      ]
     },
     "metadata": {},
     "output_type": "display_data"
    }
   ],
   "source": [
    "fontsize=12\n",
    "\n",
    "fig = mp.figure(figsize=(4.5,3))\n",
    "\n",
    "ax_list = []\n",
    "\n",
    "#####\n",
    "ax = fig.add_subplot(121)\n",
    "\n",
    "ax.plot(diff_wet_region_adv*1000.*86400.,ptot_400_wet_region_midpoints/100., c='green', label='moisture\\nadvection')\n",
    "ax.plot(diff_wet_region_conv*1000.*86400.,ptot_400_wet_region_midpoints/100.,c='dodgerblue', label='moisture\\nconvergence')\n",
    "ax.plot(diff_wet_region_dqdt*1000.*86400.,ptot_400_wet_region_midpoints/100.,c='0.5', label='dq/dt')\n",
    "ax.axvline(0, ls='--', c='0.1', zorder=1)\n",
    "#ax.axhline(860, ls='--', c='0.1')\n",
    "ax.set_ylim(1000,200)\n",
    "ax.set_xlim(-1.5,1)\n",
    "ax.tick_params(labelsize=fontsize)\n",
    "ax.set_xlabel('g kg$^{\\,-1}$ day$^{\\,-1}$', fontsize=fontsize)\n",
    "ax.set_ylabel('hPa', fontsize=fontsize)\n",
    "ax.text(s='Andes\\ndays 2–10', x=0.05, y=0.95, ha='left', va='top', transform=ax.transAxes, fontsize=fontsize)\n",
    "ax.text(s='(a)', x=0, y=1.02, ha='left', va='bottom', transform=ax.transAxes, fontsize=fontsize)\n",
    "ax.yaxis.grid()\n",
    "ax_list.append(ax)\n",
    "\n",
    "#####\n",
    "ax = fig.add_subplot(122)\n",
    "\n",
    "ax.plot(diff_dry_region_adv*1000.*86400.,ptot_400_dry_region_midpoints/100., c='green', label='moisture\\nadvection')\n",
    "ax.plot(diff_dry_region_conv*1000.*86400.,ptot_400_dry_region_midpoints/100.,c='dodgerblue', label='moisture\\nconvergence')\n",
    "ax.plot(diff_dry_region_dqdt*1000.*86400.,ptot_400_dry_region_midpoints/100.,c='0.5',label='dq/dt')\n",
    "ax.axvline(0, ls='--', c='0.1', zorder=1)\n",
    "#ax.axhline(860, ls='--', c='0.1')\n",
    "ax.set_ylim(1000,200)\n",
    "ax.set_xlim(-0.75,0.5)\n",
    "ax.tick_params(labelsize=fontsize)\n",
    "ax.set_xlabel('g kg$^{\\,-1}$ day$^{\\,-1}$', fontsize=fontsize)\n",
    "ax.set_yticklabels([])\n",
    "#ax.set_ylabel('hPa', fontsize=fontsize)\n",
    "ax.text(s='Amazon\\ndays 2–10', x=0.05, y=0.95, ha='left', va='top', transform=ax.transAxes, fontsize=fontsize)\n",
    "#ax.text(s='860\\nhPa', x=0.3, y=860, ha='left', va='center', fontsize=fontsize)\n",
    "ax.text(s='(b)', x=0, y=1.02, ha='left', va='bottom', transform=ax.transAxes, fontsize=fontsize)\n",
    "ax.yaxis.grid()\n",
    "ax_list.append(ax)\n",
    "\n",
    "fig.tight_layout(h_pad=1)\n",
    "\n",
    "handles, labels = ax_list[1].get_legend_handles_labels()\n",
    "legend = ax_list[1].legend(handles, labels, fontsize=fontsize, bbox_to_anchor=(1.05,1), edgecolor='None', \\\n",
    "                   facecolor='None', fancybox=False, bbox_transform=ax_list[1].transAxes, loc='upper left', \\\n",
    "                   borderaxespad=0., borderpad=0.25, handlelength=1.0, handletextpad=0.5, \\\n",
    "                   columnspacing=0.5, markerscale=1)\n",
    "\n",
    "fig.savefig('manuscript_figXX_mean_moisture_budget_TOTAL_10d_ONLY.png', dpi=600, \\\n",
    "            transparent=True, bbox_inches='tight')"
   ]
  },
  {
   "cell_type": "markdown",
   "metadata": {},
   "source": [
    "# Do same for vertical terms"
   ]
  },
  {
   "cell_type": "code",
   "execution_count": 127,
   "metadata": {
    "ExecuteTime": {
     "end_time": "2018-05-30T01:03:44.606794Z",
     "start_time": "2018-05-30T01:03:41.189858Z"
    }
   },
   "outputs": [
    {
     "data": {
      "image/png": "[encoded data removed]",
      "text/plain": [
       "<Figure size 324x432 with 4 Axes>"
      ]
     },
     "metadata": {},
     "output_type": "display_data"
    }
   ],
   "source": [
    "fontsize=12\n",
    "\n",
    "fig = mp.figure(figsize=(4.5,6))\n",
    "\n",
    "ax_list = []\n",
    "\n",
    "#####\n",
    "ax = fig.add_subplot(221)\n",
    "\n",
    "ax.plot(diff_wet_region_vert_adv_day1*1000.*86400.,ptot_400_wet_region_midpoints/100., c='green', label='moist. adv.')\n",
    "ax.plot(diff_wet_region_vert_conv_day1*1000.*86400.,ptot_400_wet_region_midpoints/100., c='dodgerblue', label='moist. conv.')\n",
    "ax.plot(diff_wet_region_dqdt_day1*1000.*86400.,ptot_400_wet_region_midpoints/100., c='0.5', label='dq/dt')\n",
    "ax.axvline(0, ls='--', c='0.1', zorder=1)\n",
    "#ax.axhline(860, ls='--', c='0.1')\n",
    "ax.set_ylim(1000,200)\n",
    "ax.set_xlim(-1.5,1)\n",
    "ax.tick_params(labelsize=fontsize)\n",
    "ax.set_xlabel('g kg$^{\\,-1}$ day$^{\\,-1}$', fontsize=fontsize)\n",
    "ax.set_ylabel('hPa', fontsize=fontsize)\n",
    "ax.text(s='Andes\\nday 1', x=0.05, y=0.95, ha='left', va='top', transform=ax.transAxes, fontsize=fontsize)\n",
    "ax.text(s='(a)', x=0, y=1.02, ha='left', va='bottom', transform=ax.transAxes, fontsize=fontsize)\n",
    "ax.yaxis.grid()\n",
    "ax_list.append(ax)\n",
    "\n",
    "#####\n",
    "ax = fig.add_subplot(222)\n",
    "\n",
    "ax.plot(diff_dry_region_vert_adv_day1*1000.*86400.,ptot_400_wet_region_midpoints/100., c='green', label='moisture\\nadvection')\n",
    "ax.plot(diff_dry_region_vert_conv_day1*1000.*86400.,ptot_400_wet_region_midpoints/100., c='dodgerblue', label='moisture\\nconvergence')\n",
    "ax.plot(diff_dry_region_dqdt_day1*1000.*86400.,ptot_400_wet_region_midpoints/100., c='0.5', label='dq/dt')\n",
    "ax.axvline(0, ls='--', c='0.1', zorder=1)\n",
    "#ax.axhline(860, ls='--', c='0.1')\n",
    "ax.set_ylim(1000,200)\n",
    "ax.set_xlim(-0.75,0.5)\n",
    "ax.tick_params(labelsize=fontsize)\n",
    "ax.set_xlabel('g kg$^{\\,-1}$ day$^{\\,-1}$', fontsize=fontsize)\n",
    "ax.set_yticklabels([])\n",
    "ax_list.append(ax)\n",
    "#ax.text(s='860\\nhPa', x=0.3, y=860, ha='left', va='center', fontsize=fontsize)\n",
    "ax.text(s='Amazon\\nday 1', x=0.05, y=0.95, ha='left', va='top', transform=ax.transAxes, fontsize=fontsize)\n",
    "ax.text(s='(b)', x=0, y=1.02, ha='left', va='bottom', transform=ax.transAxes, fontsize=fontsize)\n",
    "ax.yaxis.grid()\n",
    "\n",
    "#####\n",
    "ax = fig.add_subplot(223)\n",
    "\n",
    "ax.plot(diff_wet_region_vert_adv*1000.*86400.,ptot_400_wet_region_midpoints/100., c='green', label='moisture\\nadvection')\n",
    "ax.plot(diff_wet_region_vert_conv*1000.*86400.,ptot_400_wet_region_midpoints/100.,c='dodgerblue', label='moisture\\nconvergence')\n",
    "ax.plot(diff_wet_region_dqdt*1000.*86400.,ptot_400_wet_region_midpoints/100.,c='0.5', label='dq/dt')\n",
    "ax.axvline(0, ls='--', c='0.1', zorder=1)\n",
    "#ax.axhline(860, ls='--', c='0.1')\n",
    "ax.set_ylim(1000,200)\n",
    "ax.set_xlim(-1.5,1)\n",
    "ax.tick_params(labelsize=fontsize)\n",
    "ax.set_xlabel('g kg$^{\\,-1}$ day$^{\\,-1}$', fontsize=fontsize)\n",
    "ax.set_ylabel('hPa', fontsize=fontsize)\n",
    "ax.text(s='Andes\\ndays 2–10', x=0.05, y=0.95, ha='left', va='top', transform=ax.transAxes, fontsize=fontsize)\n",
    "ax.text(s='(c)', x=0, y=1.02, ha='left', va='bottom', transform=ax.transAxes, fontsize=fontsize)\n",
    "ax.yaxis.grid()\n",
    "ax_list.append(ax)\n",
    "\n",
    "#####\n",
    "ax = fig.add_subplot(224)\n",
    "\n",
    "ax.plot(diff_dry_region_vert_adv*1000.*86400.,ptot_400_dry_region_midpoints/100., c='green', label='moisture\\nadvection')\n",
    "ax.plot(diff_dry_region_vert_conv*1000.*86400.,ptot_400_dry_region_midpoints/100.,c='dodgerblue', label='moisture\\nconvergence')\n",
    "ax.plot(diff_dry_region_dqdt*1000.*86400.,ptot_400_dry_region_midpoints/100.,c='0.5',label='dq/dt')\n",
    "ax.axvline(0, ls='--', c='0.1', zorder=1)\n",
    "#ax.axhline(860, ls='--', c='0.1')\n",
    "ax.set_ylim(1000,200)\n",
    "ax.set_xlim(-0.75,0.5)\n",
    "ax.tick_params(labelsize=fontsize)\n",
    "ax.set_xlabel('g kg$^{\\,-1}$ day$^{\\,-1}$', fontsize=fontsize)\n",
    "ax.set_yticklabels([])\n",
    "#ax.set_ylabel('hPa', fontsize=fontsize)\n",
    "ax.text(s='Amazon\\ndays 2–10', x=0.05, y=0.95, ha='left', va='top', transform=ax.transAxes, fontsize=fontsize)\n",
    "#ax.text(s='860\\nhPa', x=0.3, y=860, ha='left', va='center', fontsize=fontsize)\n",
    "ax.text(s='(d)', x=0, y=1.02, ha='left', va='bottom', transform=ax.transAxes, fontsize=fontsize)\n",
    "ax.yaxis.grid()\n",
    "ax_list.append(ax)\n",
    "\n",
    "fig.tight_layout(h_pad=1)\n",
    "\n",
    "handles, labels = ax_list[1].get_legend_handles_labels()\n",
    "legend = ax_list[1].legend(handles, labels, fontsize=fontsize, bbox_to_anchor=(1.05,1), edgecolor='None', \\\n",
    "                   facecolor='None', fancybox=False, bbox_transform=ax_list[1].transAxes, loc='upper left', \\\n",
    "                   borderaxespad=0., borderpad=0.25, handlelength=1.0, handletextpad=0.5, \\\n",
    "                   columnspacing=0.5, markerscale=1)\n",
    "\n",
    "axpos1 = ax_list[0].get_position()\n",
    "axpos2 = ax_list[1].get_position()\n",
    "\n",
    "fig.text(s='vertical terms', x=0.5*(axpos1.x0+axpos2.x1), y=1.02, transform=fig.transFigure, ha='center', va='bottom', fontsize=fontsize)\n",
    "\n",
    "fig.savefig('manuscript_figXX_mean_moisture_budget_VERTICAL_10d_and_day1.png', dpi=600, \\\n",
    "            transparent=True, bbox_inches='tight')"
   ]
  },
  {
   "cell_type": "markdown",
   "metadata": {},
   "source": [
    "# horizontal terms"
   ]
  },
  {
   "cell_type": "code",
   "execution_count": 128,
   "metadata": {
    "ExecuteTime": {
     "end_time": "2018-05-30T01:03:53.991269Z",
     "start_time": "2018-05-30T01:03:50.637934Z"
    }
   },
   "outputs": [
    {
     "data": {
      "image/png": "[encoded data removed]",
      "text/plain": [
       "<Figure size 324x432 with 4 Axes>"
      ]
     },
     "metadata": {},
     "output_type": "display_data"
    }
   ],
   "source": [
    "fontsize=12\n",
    "\n",
    "fig = mp.figure(figsize=(4.5,6))\n",
    "\n",
    "ax_list = []\n",
    "\n",
    "#####\n",
    "ax = fig.add_subplot(221)\n",
    "\n",
    "ax.plot(diff_wet_region_horiz_adv_day1*1000.*86400.,ptot_400_wet_region_midpoints/100., c='green', label='moist. adv.')\n",
    "ax.plot(diff_wet_region_horiz_conv_day1*1000.*86400.,ptot_400_wet_region_midpoints/100., c='dodgerblue', label='moist. conv.')\n",
    "ax.plot(diff_wet_region_dqdt_day1*1000.*86400.,ptot_400_wet_region_midpoints/100., c='0.5', label='dq/dt')\n",
    "ax.axvline(0, ls='--', c='0.1', zorder=1)\n",
    "#ax.axhline(860, ls='--', c='0.1')\n",
    "ax.set_ylim(1000,200)\n",
    "ax.set_xlim(-1.5,1)\n",
    "ax.tick_params(labelsize=fontsize)\n",
    "ax.set_xlabel('g kg$^{\\,-1}$ day$^{\\,-1}$', fontsize=fontsize)\n",
    "ax.set_ylabel('hPa', fontsize=fontsize)\n",
    "ax.text(s='Andes\\nday 1', x=0.05, y=0.95, ha='left', va='top', transform=ax.transAxes, fontsize=fontsize)\n",
    "ax.text(s='(a)', x=0, y=1.02, ha='left', va='bottom', transform=ax.transAxes, fontsize=fontsize)\n",
    "ax.yaxis.grid()\n",
    "ax_list.append(ax)\n",
    "\n",
    "#####\n",
    "ax = fig.add_subplot(222)\n",
    "\n",
    "ax.plot(diff_dry_region_horiz_adv_day1*1000.*86400.,ptot_400_wet_region_midpoints/100., c='green', label='moisture\\nadvection')\n",
    "ax.plot(diff_dry_region_horiz_conv_day1*1000.*86400.,ptot_400_wet_region_midpoints/100., c='dodgerblue', label='moisture\\nconvergence')\n",
    "ax.plot(diff_dry_region_dqdt_day1*1000.*86400.,ptot_400_wet_region_midpoints/100., c='0.5', label='dq/dt')\n",
    "ax.axvline(0, ls='--', c='0.1', zorder=1)\n",
    "#ax.axhline(860, ls='--', c='0.1')\n",
    "ax.set_ylim(1000,200)\n",
    "ax.set_xlim(-0.75,0.5)\n",
    "ax.tick_params(labelsize=fontsize)\n",
    "ax.set_xlabel('g kg$^{\\,-1}$ day$^{\\,-1}$', fontsize=fontsize)\n",
    "ax.set_yticklabels([])\n",
    "ax_list.append(ax)\n",
    "#ax.text(s='860\\nhPa', x=0.3, y=860, ha='left', va='center', fontsize=fontsize)\n",
    "ax.text(s='Amazon\\nday 1', x=0.05, y=0.95, ha='left', va='top', transform=ax.transAxes, fontsize=fontsize)\n",
    "ax.text(s='(b)', x=0, y=1.02, ha='left', va='bottom', transform=ax.transAxes, fontsize=fontsize)\n",
    "ax.yaxis.grid()\n",
    "\n",
    "#####\n",
    "ax = fig.add_subplot(223)\n",
    "\n",
    "ax.plot(diff_wet_region_horiz_adv*1000.*86400.,ptot_400_wet_region_midpoints/100., c='green', label='moisture\\nadvection')\n",
    "ax.plot(diff_wet_region_horiz_conv*1000.*86400.,ptot_400_wet_region_midpoints/100.,c='dodgerblue', label='moisture\\nconvergence')\n",
    "ax.plot(diff_wet_region_dqdt*1000.*86400.,ptot_400_wet_region_midpoints/100.,c='0.5', label='dq/dt')\n",
    "ax.axvline(0, ls='--', c='0.1', zorder=1)\n",
    "#ax.axhline(860, ls='--', c='0.1')\n",
    "ax.set_ylim(1000,200)\n",
    "ax.set_xlim(-1.5,1)\n",
    "ax.tick_params(labelsize=fontsize)\n",
    "ax.set_xlabel('g kg$^{\\,-1}$ day$^{\\,-1}$', fontsize=fontsize)\n",
    "ax.set_ylabel('hPa', fontsize=fontsize)\n",
    "ax.text(s='Andes\\ndays 2–10', x=0.05, y=0.95, ha='left', va='top', transform=ax.transAxes, fontsize=fontsize)\n",
    "ax.text(s='(c)', x=0, y=1.02, ha='left', va='bottom', transform=ax.transAxes, fontsize=fontsize)\n",
    "ax.yaxis.grid()\n",
    "ax_list.append(ax)\n",
    "\n",
    "#####\n",
    "ax = fig.add_subplot(224)\n",
    "\n",
    "ax.plot(diff_dry_region_horiz_adv*1000.*86400.,ptot_400_dry_region_midpoints/100., c='green', label='moisture\\nadvection')\n",
    "ax.plot(diff_dry_region_horiz_conv*1000.*86400.,ptot_400_dry_region_midpoints/100.,c='dodgerblue', label='moisture\\nconvergence')\n",
    "ax.plot(diff_dry_region_dqdt*1000.*86400.,ptot_400_dry_region_midpoints/100.,c='0.5',label='dq/dt')\n",
    "ax.axvline(0, ls='--', c='0.1', zorder=1)\n",
    "#ax.axhline(860, ls='--', c='0.1')\n",
    "ax.set_ylim(1000,200)\n",
    "ax.set_xlim(-0.75,0.5)\n",
    "ax.tick_params(labelsize=fontsize)\n",
    "ax.set_xlabel('g kg$^{\\,-1}$ day$^{\\,-1}$', fontsize=fontsize)\n",
    "ax.set_yticklabels([])\n",
    "#ax.set_ylabel('hPa', fontsize=fontsize)\n",
    "ax.text(s='Amazon\\ndays 2–10', x=0.05, y=0.95, ha='left', va='top', transform=ax.transAxes, fontsize=fontsize)\n",
    "#ax.text(s='860\\nhPa', x=0.3, y=860, ha='left', va='center', fontsize=fontsize)\n",
    "ax.text(s='(d)', x=0, y=1.02, ha='left', va='bottom', transform=ax.transAxes, fontsize=fontsize)\n",
    "ax.yaxis.grid()\n",
    "ax_list.append(ax)\n",
    "\n",
    "fig.tight_layout(h_pad=1)\n",
    "\n",
    "handles, labels = ax_list[1].get_legend_handles_labels()\n",
    "legend = ax_list[1].legend(handles, labels, fontsize=fontsize, bbox_to_anchor=(1.05,1), edgecolor='None', \\\n",
    "                   facecolor='None', fancybox=False, bbox_transform=ax_list[1].transAxes, loc='upper left', \\\n",
    "                   borderaxespad=0., borderpad=0.25, handlelength=1.0, handletextpad=0.5, \\\n",
    "                   columnspacing=0.5, markerscale=1)\n",
    "\n",
    "axpos1 = ax_list[0].get_position()\n",
    "axpos2 = ax_list[1].get_position()\n",
    "\n",
    "fig.text(s='horizontal terms', x=0.5*(axpos1.x0+axpos2.x1), y=1.02, transform=fig.transFigure, ha='center', va='bottom', fontsize=fontsize)\n",
    "\n",
    "fig.savefig('manuscript_figXX_mean_moisture_budget_HORIZONTAL_10d_and_day1.png', dpi=600, \\\n",
    "            transparent=True, bbox_inches='tight')"
   ]
  },
  {
   "cell_type": "markdown",
   "metadata": {},
   "source": [
    "## plot omega vertical structure change"
   ]
  },
  {
   "cell_type": "raw",
   "metadata": {
    "ExecuteTime": {
     "end_time": "2018-05-08T15:54:26.975822Z",
     "start_time": "2018-05-08T15:54:26.460405Z"
    }
   },
   "source": [
    "fontsize=12\n",
    "\n",
    "fig = mp.figure(figsize=(6,8))\n",
    "\n",
    "ax = fig.add_subplot(221)\n",
    "\n",
    "ax.plot(omega_diff_wet_region*86400./100.,ptot_400_wet_region_midpoints/100., c='firebrick', label='10d mean')\n",
    "ax.plot(omega_diff_wet_region_day1*86400./100.,ptot_400_wet_region_midpoints/100., c='dodgerblue', label='day 1')\n",
    "ax.axvline(0, ls='--', c='0.1')\n",
    "ax.axhline(860, ls='--', c='0.1')\n",
    "ax.set_ylim(1000,50)\n",
    "\n",
    "ax.tick_params(labelsize=fontsize)\n",
    "ax.set_xlabel('$\\Delta\\omega$ (hPa day$^{\\,-1}$)', fontsize=fontsize)\n",
    "ax.set_ylabel('hPa', fontsize=fontsize)\n",
    "\n",
    "ax.text(s='Andes', x=0, y=1.02, ha='left', va='bottom', transform=ax.transAxes, fontsize=fontsize)\n",
    "\n",
    "handles, labels = ax.get_legend_handles_labels()\n",
    "handles = handles[::-1]; labels=labels[::-1] # to reverse\n",
    "legend = ax.legend(handles, labels, fontsize=fontsize, bbox_to_anchor=(0.03,0.99), edgecolor='None', \\\n",
    "                   facecolor='None', fancybox=False, bbox_transform=ax.transAxes, loc='upper left', \\\n",
    "                   borderaxespad=0, borderpad=0.25, handlelength=1.0, handletextpad=0.5, \\\n",
    "                   columnspacing=0.5, markerscale=1)\n",
    "\n",
    "\n",
    "\n",
    "\n",
    "\n",
    "\n",
    "ax = fig.add_subplot(222)\n",
    "\n",
    "ax.plot(omega_diff_dry_region*86400./100.,ptot_400_dry_region_midpoints/100., c='firebrick')\n",
    "ax.plot(omega_diff_dry_region_day1*86400./100.,ptot_400_dry_region_midpoints/100., c='dodgerblue')\n",
    "ax.axvline(0, ls='--', c='0.1')\n",
    "ax.axhline(860, ls='--', c='0.1')\n",
    "ax.set_ylim(1000,50)\n",
    "\n",
    "ax.tick_params(labelsize=fontsize)\n",
    "ax.set_xlabel('$\\Delta\\omega$ (hPa day$^{\\,-1}$)', fontsize=fontsize)\n",
    "ax.set_ylabel('hPa', fontsize=fontsize)\n",
    "\n",
    "ax.text(s='Amazon', x=0, y=1.02, ha='left', va='bottom', transform=ax.transAxes, fontsize=fontsize)\n",
    "\n",
    "\n",
    "\n",
    "\n",
    "\n",
    "ax = fig.add_subplot(223)\n",
    "\n",
    "ax.plot(omega_400_wet*86400./100.,ptot_400_wet_region_midpoints/100., c='firebrick', label='10d mean')\n",
    "ax.axvline(0, ls='--', c='0.1')\n",
    "ax.axhline(860, ls='--', c='0.1')\n",
    "ax.set_ylim(1000,50)\n",
    "\n",
    "ax.tick_params(labelsize=fontsize)\n",
    "ax.set_xlabel('$\\omega$ (hPa day$^{\\,-1}$)', fontsize=fontsize)\n",
    "ax.set_ylabel('hPa', fontsize=fontsize)\n",
    "\n",
    "ax.text(s='Andes', x=0, y=1.02, ha='left', va='bottom', transform=ax.transAxes, fontsize=fontsize)\n",
    "\n",
    "handles, labels = ax.get_legend_handles_labels()\n",
    "handles = handles[::-1]; labels=labels[::-1] # to reverse\n",
    "legend = ax.legend(handles, labels, fontsize=fontsize, bbox_to_anchor=(0.03,0.99), edgecolor='None', \\\n",
    "                   facecolor='None', fancybox=False, bbox_transform=ax.transAxes, loc='upper left', \\\n",
    "                   borderaxespad=0, borderpad=0.25, handlelength=1.0, handletextpad=0.5, \\\n",
    "                   columnspacing=0.5, markerscale=1)\n",
    "\n",
    "\n",
    "\n",
    "\n",
    "\n",
    "\n",
    "ax = fig.add_subplot(224)\n",
    "\n",
    "ax.plot(omega_400_dry*86400./100.,ptot_400_dry_region_midpoints/100., c='firebrick')\n",
    "ax.axvline(0, ls='--', c='0.1')\n",
    "ax.axhline(860, ls='--', c='0.1')\n",
    "ax.set_ylim(1000,50)\n",
    "\n",
    "ax.tick_params(labelsize=fontsize)\n",
    "ax.set_xlabel('$\\omega$ (hPa day$^{\\,-1}$)', fontsize=fontsize)\n",
    "ax.set_ylabel('hPa', fontsize=fontsize)\n",
    "\n",
    "ax.text(s='Amazon', x=0, y=1.02, ha='left', va='bottom', transform=ax.transAxes, fontsize=fontsize)\n",
    "\n",
    "\n",
    "fig.tight_layout()\n",
    "\n",
    "fig.savefig('vertical_velocity_andes_amazon.png', dpi=600, transparent=True, bbox_inches='tight')"
   ]
  },
  {
   "cell_type": "markdown",
   "metadata": {},
   "source": [
    "# lat subsets and latmeans"
   ]
  },
  {
   "cell_type": "code",
   "execution_count": 129,
   "metadata": {
    "ExecuteTime": {
     "end_time": "2018-05-30T01:04:05.229415Z",
     "start_time": "2018-05-30T01:04:00.016111Z"
    }
   },
   "outputs": [],
   "source": [
    "ptot_400_midpoints_lat_subset = ptot_400_midpoints[:,:,lat_indices_midpoints[:,0],:]\n",
    "ptot_1000_midpoints_lat_subset = ptot_1000_midpoints[:,:,lat_indices_midpoints[:,0],:]"
   ]
  },
  {
   "cell_type": "code",
   "execution_count": 130,
   "metadata": {
    "ExecuteTime": {
     "end_time": "2018-05-30T01:04:15.991121Z",
     "start_time": "2018-05-30T01:04:11.214257Z"
    }
   },
   "outputs": [],
   "source": [
    "ptot_400_lat_subset = ptot_400[:,:,lat_indices[:,0],:]\n",
    "ptot_1000_lat_subset = ptot_1000[:,:,lat_indices[:,0],:]"
   ]
  },
  {
   "cell_type": "code",
   "execution_count": 131,
   "metadata": {
    "ExecuteTime": {
     "end_time": "2018-05-30T01:04:32.139934Z",
     "start_time": "2018-05-30T01:04:22.270719Z"
    }
   },
   "outputs": [],
   "source": [
    "advection_400_lat_subset = advection_400[:,:,lat_indices_midpoints[:,0],:]\n",
    "advection_1000_lat_subset = advection_1000[:,:,lat_indices_midpoints[:,0],:]\n",
    "\n",
    "convergence_400_lat_subset = convergence_400[:,:,lat_indices_midpoints[:,0],:]\n",
    "convergence_1000_lat_subset = convergence_1000[:,:,lat_indices_midpoints[:,0],:]"
   ]
  },
  {
   "cell_type": "code",
   "execution_count": 132,
   "metadata": {
    "ExecuteTime": {
     "end_time": "2018-05-30T01:05:01.820388Z",
     "start_time": "2018-05-30T01:04:39.002280Z"
    }
   },
   "outputs": [],
   "source": [
    "cont_adv_latmean = numpy.nanmean(advection_400_lat_subset, axis=2)\n",
    "phys_adv_latmean = numpy.nanmean(advection_1000_lat_subset, axis=2)\n",
    "\n",
    "cont_conv_latmean = numpy.nanmean(convergence_400_lat_subset, axis=2)\n",
    "phys_conv_latmean = numpy.nanmean(convergence_1000_lat_subset, axis=2)"
   ]
  },
  {
   "cell_type": "code",
   "execution_count": 133,
   "metadata": {
    "ExecuteTime": {
     "end_time": "2018-05-30T01:05:17.561943Z",
     "start_time": "2018-05-30T01:05:08.205927Z"
    }
   },
   "outputs": [],
   "source": [
    "dqdt_400_lat_subset = dqdt_400[:,:,lat_indices_midpoints[:,0],:]\n",
    "dqdt_1000_lat_subset = dqdt_1000[:,:,lat_indices_midpoints[:,0],:]"
   ]
  },
  {
   "cell_type": "code",
   "execution_count": 134,
   "metadata": {
    "ExecuteTime": {
     "end_time": "2018-05-30T01:06:17.576426Z",
     "start_time": "2018-05-30T01:05:24.291228Z"
    }
   },
   "outputs": [],
   "source": [
    "dqclouddt_400_lat_subset = dqclouddt_400[:,:,lat_indices_midpoints[:,0],:]\n",
    "dqclouddt_1000_lat_subset = dqclouddt_1000[:,:,lat_indices_midpoints[:,0],:]"
   ]
  },
  {
   "cell_type": "code",
   "execution_count": 135,
   "metadata": {
    "ExecuteTime": {
     "end_time": "2018-05-30T01:09:56.575433Z",
     "start_time": "2018-05-30T01:06:25.344011Z"
    }
   },
   "outputs": [],
   "source": [
    "dqraindt_400_lat_subset = dqraindt_400[:,:,lat_indices_midpoints[:,0],:]\n",
    "dqraindt_1000_lat_subset = dqraindt_1000[:,:,lat_indices_midpoints[:,0],:]"
   ]
  },
  {
   "cell_type": "code",
   "execution_count": 136,
   "metadata": {
    "ExecuteTime": {
     "end_time": "2018-05-30T01:11:30.159059Z",
     "start_time": "2018-05-30T01:10:03.599689Z"
    }
   },
   "outputs": [],
   "source": [
    "ptot_400_latmean = numpy.nanmean(ptot_400_lat_subset, axis=2)\n",
    "ptot_1000_latmean = numpy.nanmean(ptot_1000_lat_subset, axis=2)"
   ]
  },
  {
   "cell_type": "code",
   "execution_count": 137,
   "metadata": {
    "ExecuteTime": {
     "end_time": "2018-05-30T01:11:45.796414Z",
     "start_time": "2018-05-30T01:11:37.367022Z"
    }
   },
   "outputs": [],
   "source": [
    "ptot_400_midpoints_latmean = numpy.nanmean(ptot_400_midpoints_lat_subset, axis=2)\n",
    "ptot_1000_midpoints_latmean = numpy.nanmean(ptot_1000_midpoints_lat_subset, axis=2)"
   ]
  },
  {
   "cell_type": "code",
   "execution_count": 138,
   "metadata": {
    "ExecuteTime": {
     "end_time": "2018-05-30T01:12:58.212365Z",
     "start_time": "2018-05-30T01:11:52.852504Z"
    }
   },
   "outputs": [
    {
     "name": "stderr",
     "output_type": "stream",
     "text": [
      "/export/home/blangenb/anaconda3/lib/python3.6/site-packages/ipykernel_launcher.py:1: RuntimeWarning: Mean of empty slice\n",
      "  \"\"\"Entry point for launching an IPython kernel.\n",
      "/export/home/blangenb/anaconda3/lib/python3.6/site-packages/ipykernel_launcher.py:2: RuntimeWarning: Mean of empty slice\n",
      "  \n"
     ]
    }
   ],
   "source": [
    "dqdt_400_latmean = numpy.nanmean(dqdt_400_lat_subset, axis=2)\n",
    "dqdt_1000_latmean = numpy.nanmean(dqdt_1000_lat_subset, axis=2)"
   ]
  },
  {
   "cell_type": "code",
   "execution_count": 139,
   "metadata": {
    "ExecuteTime": {
     "end_time": "2018-05-30T01:13:45.826614Z",
     "start_time": "2018-05-30T01:13:05.301234Z"
    }
   },
   "outputs": [
    {
     "name": "stderr",
     "output_type": "stream",
     "text": [
      "/export/home/blangenb/anaconda3/lib/python3.6/site-packages/ipykernel_launcher.py:1: RuntimeWarning: Mean of empty slice\n",
      "  \"\"\"Entry point for launching an IPython kernel.\n",
      "/export/home/blangenb/anaconda3/lib/python3.6/site-packages/ipykernel_launcher.py:2: RuntimeWarning: Mean of empty slice\n",
      "  \n"
     ]
    }
   ],
   "source": [
    "dqclouddt_400_latmean = numpy.nanmean(dqclouddt_400_lat_subset, axis=2)\n",
    "dqclouddt_1000_latmean = numpy.nanmean(dqclouddt_1000_lat_subset, axis=2)"
   ]
  },
  {
   "cell_type": "code",
   "execution_count": 140,
   "metadata": {
    "ExecuteTime": {
     "end_time": "2018-05-30T01:14:05.152677Z",
     "start_time": "2018-05-30T01:13:52.778787Z"
    }
   },
   "outputs": [
    {
     "name": "stderr",
     "output_type": "stream",
     "text": [
      "/export/home/blangenb/anaconda3/lib/python3.6/site-packages/ipykernel_launcher.py:1: RuntimeWarning: Mean of empty slice\n",
      "  \"\"\"Entry point for launching an IPython kernel.\n",
      "/export/home/blangenb/anaconda3/lib/python3.6/site-packages/ipykernel_launcher.py:2: RuntimeWarning: Mean of empty slice\n",
      "  \n"
     ]
    }
   ],
   "source": [
    "dqraindt_400_latmean = numpy.nanmean(dqraindt_400_lat_subset, axis=2)\n",
    "dqraindt_1000_latmean = numpy.nanmean(dqraindt_1000_lat_subset, axis=2)"
   ]
  },
  {
   "cell_type": "code",
   "execution_count": 141,
   "metadata": {
    "ExecuteTime": {
     "end_time": "2018-05-30T01:14:14.293068Z",
     "start_time": "2018-05-30T01:14:12.293538Z"
    }
   },
   "outputs": [],
   "source": [
    "ptot_400_midpoints_lat_subset = ptot_400_midpoints[:,:,lat_indices_midpoints[:,0],:]\n",
    "ptot_400_midpoints_latmean = numpy.nanmean(ptot_400_midpoints_lat_subset, axis=2)"
   ]
  },
  {
   "cell_type": "code",
   "execution_count": 142,
   "metadata": {
    "ExecuteTime": {
     "end_time": "2018-05-30T01:14:21.433250Z",
     "start_time": "2018-05-30T01:14:21.425945Z"
    }
   },
   "outputs": [],
   "source": [
    "xx,zz=numpy.meshgrid(xlong[0,:],ptot_400[0,:,:,0].mean(axis=1))"
   ]
  },
  {
   "cell_type": "code",
   "execution_count": 143,
   "metadata": {
    "ExecuteTime": {
     "end_time": "2018-05-30T01:14:28.655587Z",
     "start_time": "2018-05-30T01:14:28.572955Z"
    }
   },
   "outputs": [],
   "source": [
    "diff_adv_latmean = phys_adv_latmean-cont_adv_latmean\n",
    "diff_conv_latmean = phys_conv_latmean-cont_conv_latmean\n",
    "diff_dqdt_latmean = dqdt_1000_latmean-dqdt_400_latmean\n",
    "diff_dqclouddt_latmean = dqclouddt_1000_latmean-dqclouddt_400_latmean\n",
    "diff_dqraindt_latmean = dqraindt_1000_latmean-dqraindt_400_latmean"
   ]
  },
  {
   "cell_type": "code",
   "execution_count": 144,
   "metadata": {
    "ExecuteTime": {
     "end_time": "2018-05-30T01:14:55.375933Z",
     "start_time": "2018-05-30T01:14:36.031361Z"
    }
   },
   "outputs": [
    {
     "name": "stderr",
     "output_type": "stream",
     "text": [
      "/export/home/blangenb/anaconda3/lib/python3.6/site-packages/ipykernel_launcher.py:2: RuntimeWarning: Mean of empty slice\n",
      "  \n",
      "/export/home/blangenb/anaconda3/lib/python3.6/site-packages/ipykernel_launcher.py:3: RuntimeWarning: Mean of empty slice\n",
      "  This is separate from the ipykernel package so we can avoid doing imports until\n"
     ]
    }
   ],
   "source": [
    "wa_diffs_lat_subset = wa_diffs_landmask[:,:,lat_indices[:,0],:]\n",
    "wa_diffs_latmean = numpy.nanmean(wa_diffs_lat_subset, axis=2)\n",
    "wa_diffs_time_latmean = numpy.nanmean(wa_diffs_latmean[24:,:,:], axis=0)"
   ]
  },
  {
   "cell_type": "code",
   "execution_count": 145,
   "metadata": {
    "ExecuteTime": {
     "end_time": "2018-05-30T01:15:02.719857Z",
     "start_time": "2018-05-30T01:15:02.695028Z"
    }
   },
   "outputs": [],
   "source": [
    "ptot_400_time_latmean = numpy.nanmean(ptot_400_latmean, axis=0)"
   ]
  },
  {
   "cell_type": "markdown",
   "metadata": {},
   "source": [
    "# gridspec version of plot"
   ]
  },
  {
   "cell_type": "code",
   "execution_count": 172,
   "metadata": {
    "ExecuteTime": {
     "end_time": "2018-05-30T01:37:22.265691Z",
     "start_time": "2018-05-30T01:37:16.518525Z"
    }
   },
   "outputs": [
    {
     "data": {
      "image/png": "[encoded data removed]",
      "text/plain": [
       "<Figure size 468x504 with 7 Axes>"
      ]
     },
     "metadata": {},
     "output_type": "display_data"
    }
   ],
   "source": [
    "fontsize=12\n",
    "\n",
    "fig = mp.figure(figsize=(6.5,7))\n",
    "gs = matplotlib.gridspec.GridSpec(3,2,height_ratios=[2,1,3])\n",
    "\n",
    "xticks_deg_E=numpy.array((280,290,300,310,320))\n",
    "xticks = -(360-xticks_deg_E)\n",
    "xticks_format=[str(tick)+DEGREE_SIGN+'E' for tick in xticks_deg_E]\n",
    "\n",
    "ax_a = mp.subplot(gs[0,:])\n",
    "ax_b = mp.subplot(gs[1,:])\n",
    "ax_c = mp.subplot(gs[2,0])\n",
    "ax_d = mp.subplot(gs[2,1])\n",
    "#ax_e = mp.subplot(gs[3,0])\n",
    "#ax_f = mp.subplot(gs[3,1])\n",
    "\n",
    "ax_list = [ax_a,ax_b,ax_c,ax_d]#,ax_e,ax_f]\n",
    "\n",
    "\n",
    "levels = numpy.arange(-.2,.21,0.025)\n",
    "contour_plot = ax_a.contourf(xx+360., ptot_400_time_latmean/100., \\\n",
    "                           wa_diffs_time_latmean*86400./1000., \\\n",
    "                           levels=levels, \\\n",
    "                           cmap='RdBu', \\\n",
    "                           extend='both')\n",
    "ax_a.tick_params(labelsize=fontsize)\n",
    "ax_a.set_ylim(1013.25,100)\n",
    "ax_a.set_xlim(279,321)\n",
    "ax_a.text(s='(a) Mean $\\Delta w$ (days 2–10)',\\\n",
    "       x=0, y=1.01, \\\n",
    "       ha='left', va='bottom', \\\n",
    "       fontsize=fontsize, \\\n",
    "       transform=ax_a.transAxes)\n",
    "ax_a.set_xticks(xticks_deg_E)\n",
    "ax_a.set_xticklabels(xticks_format)\n",
    "ax_a.set_ylabel('hPa', fontsize=fontsize)\n",
    "ax_a.set_facecolor('0.1')\n",
    "ax_a.fill_between(x=[wet_lon_lo_degE,wet_lon_hi_degE], y1=ax_a.get_ylim()[0], y2=ax_a.get_ylim()[1],\\\n",
    "                  facecolor='None', edgecolor='0.1',\n",
    "                  hatch='/', alpha=0.5)\n",
    "ax_a.fill_between(x=[dry_lon_lo_degE,dry_lon_hi_degE], y1=ax_a.get_ylim()[0], y2=ax_a.get_ylim()[1],\\\n",
    "                  facecolor='None', edgecolor='0.1',\n",
    "                  hatch='\\\\', alpha=0.5)\n",
    "ax_a.text(s='Andes\\nregion',x=wet_lon_hi_degE+0.5, y=600, ha='left',va='top',fontsize=fontsize,color='0.1')\n",
    "ax_a.text(s='Amazon\\nregion',x=dry_lon_hi_degE+0.5, y=400, ha='left',va='top',fontsize=fontsize,color='0.1')\n",
    "\n",
    "\n",
    "ax_b.plot(360+xlong[0,:],pandas.Series(raintot_diffs_latmean_day1*24).rolling(window=3, center=True).mean().values, c='coral', label='day 1')\n",
    "ax_b.plot(360+xlong[0,:],pandas.Series(raintot_diffs_latmean_day2_10*24).rolling(window=3, center=True).mean().values, c='firebrick', label='days 2–10')\n",
    "ax_b.axhline(0, c='0.1', ls='--')\n",
    "ax_b.set_xlim(279,321)\n",
    "ax_b.set_ylim(-1.6,1.1)\n",
    "ax_b.set_yticks([-1,0,1])\n",
    "ax_b.set_xticks(xticks_deg_E)\n",
    "ax_b.set_xticklabels(xticks_format)\n",
    "ax_b.tick_params(labelsize=fontsize)\n",
    "ax_b.text(s='(b) $\\Delta$ precipitation',\\\n",
    "       x=0, y=1.01, \\\n",
    "       ha='left', va='bottom', \\\n",
    "       fontsize=fontsize, \\\n",
    "       transform=ax_b.transAxes)\n",
    "ax_b.set_ylabel('mm day$^{\\,-1}$', fontsize=fontsize)\n",
    "\n",
    "ax=ax_c\n",
    "ax.plot(wa_diff_wet_region*86400./1000.,ptot_400_wet_region/100., c='firebrick')\n",
    "ax.plot(wa_diff_wet_region_day1*86400./1000.,ptot_400_wet_region/100., c='coral')\n",
    "ax.axvline(0, ls='--', c='0.1')\n",
    "ax.set_ylim(1000,100)\n",
    "ax.set_xlim(-.25,.15)\n",
    "ax.tick_params(labelsize=fontsize)\n",
    "ax.set_xlabel('km day$^{\\,-1}$', fontsize=fontsize)\n",
    "ax.set_ylabel('hPa', fontsize=fontsize)\n",
    "ax.text(s='(c) Andes region', x=0., y=1.01, ha='left', va='bottom', transform=ax.transAxes, fontsize=fontsize)\n",
    "#ax.text(s='Andes', x=0.97, y=0.97, ha='right', va='top', transform=ax.transAxes, fontsize=fontsize)\n",
    "ax.set_yticks(numpy.arange(1000,99,-200))\n",
    "ax.set_xticks([-.1,0,.1])\n",
    "\n",
    "ax=ax_d\n",
    "ax.plot(wa_diff_dry_region_day1*86400/1000.,ptot_400_dry_region/100., c='coral', label='$\\Delta w$ (day 1)')\n",
    "ax.plot(wa_diff_dry_region*86400/1000.,ptot_400_dry_region/100., c='firebrick', label='$\\Delta w$ (days 2–10)')\n",
    "ax.axvline(0, ls='--', c='0.1')\n",
    "#ax.axhline(860, ls='--', c='0.1')\n",
    "ax.set_ylim(1000,100)\n",
    "ax.set_xlim(-.15,.25)\n",
    "ax.tick_params(labelsize=fontsize)\n",
    "ax.set_xlabel('km day$^{\\,-1}$', fontsize=fontsize)\n",
    "#ax.set_ylabel('hPa', fontsize=fontsize)\n",
    "ax.text(s='(d) Amazon region', x=0., y=1.01, ha='left', va='bottom', transform=ax.transAxes, fontsize=fontsize)\n",
    "#ax.text(s='Amazon', x=0.97, y=0.97, ha='right', va='top', transform=ax.transAxes, fontsize=fontsize)\n",
    "ax.set_yticks(numpy.arange(1000,99,-200))\n",
    "ax.set_xticks([-.1,0,.1])\n",
    "\n",
    "fig.tight_layout(h_pad=2)\n",
    "\n",
    "ax_pos = ax_a.get_position()\n",
    "cbar_ax = fig.add_axes([ax_pos.x1+0.025, ax_pos.y0, 0.02, ax_pos.height])\n",
    "cbar = fig.colorbar(contour_plot, cax=cbar_ax)\n",
    "cbar_ax.tick_params(labelsize=fontsize)\n",
    "cbar.set_label('km day$^{\\,-1}$', fontsize=fontsize)\n",
    "cbar.set_ticks(levels[0::4])\n",
    "\n",
    "handles, labels = ax_b.get_legend_handles_labels()\n",
    "ax_b.legend(handles, labels, fontsize=fontsize, scatterpoints=1, bbox_to_anchor=(1.025,1.), \\\n",
    "            bbox_transform=ax_b.transAxes, loc='upper left', borderaxespad=0, labelspacing=0.25, \\\n",
    "            fancybox=False, edgecolor='0', framealpha=0, borderpad=0.25, \\\n",
    "            handletextpad=0.5, markerscale=1, handlelength=1.25)\n",
    "\n",
    "ax_pos = ax_c.get_position()\n",
    "ax_c_in = fig.add_axes([ax_pos.x0,ax_pos.y0+0.2*ax_pos.height,0.35*ax_pos.width,0.7*ax_pos.height])#, frameon=False)\n",
    "ax_c_in.plot(wa_400_dry*86400./1000.,ptot_400_wet_region/100., c='0.25', label='10d mean')\n",
    "ax_c_in.tick_params(labelsize=fontsize)\n",
    "ax_c_in.tick_params(axis='x', pad=0)\n",
    "ax_c_in.set_ylim(1000,100)\n",
    "ax_c_in.yaxis.tick_right()\n",
    "ax_c_in.axvline(0, lw=0.5, color='0.25', ls='-')\n",
    "ax_c_in.set_xticks([0.,.2])\n",
    "ax_c_in.set_xticklabels(['0','0.2'])\n",
    "#ax_c_in.set_xlabel('mm day$^{\\,-1}$', fontsize=fontsize)\n",
    "#ax_c_in.text(s='$w$ clim.', x=1., y=1.02, ha='right', va='bottom', transform=ax_c_in.transAxes, fontsize=fontsize)\n",
    "\n",
    "ax_pos = ax_d.get_position()\n",
    "ax_d_in = fig.add_axes([ax_pos.x0+ax_pos.width*0.65,ax_pos.y0+0.2*ax_pos.height,0.35*ax_pos.width,0.7*ax_pos.height])#, frameon=False)\n",
    "ax_d_in.plot(wa_400_wet*86400./1000.,ptot_400_wet_region/100., c='0.25', label='$w$ climatology')\n",
    "ax_d_in.tick_params(labelsize=fontsize)\n",
    "ax_d_in.tick_params(axis='x', pad=0)\n",
    "ax_d_in.set_ylim(1000,100)\n",
    "#ax_d_in.set_xlabel('mm day$^{\\,-1}$', fontsize=fontsize)\n",
    "#ax_d_in.text(s='$w$ clim.', x=0, y=1.02, ha='left', va='bottom', transform=ax_d_in.transAxes, fontsize=fontsize, label='$w$ clim.\\n(days 2–10)')\n",
    "ax_d_in.axvline(0, lw=0.5, color='0.25', ls='-')\n",
    "\n",
    "\n",
    "h_out, l_out=ax_d.get_legend_handles_labels()\n",
    "h_in, l_in = ax_d_in.get_legend_handles_labels()\n",
    "ax_d.legend(h_out+h_in, l_out+l_in, fontsize=fontsize, scatterpoints=1, bbox_to_anchor=(1.05,1.), \\\n",
    "            bbox_transform=ax_d.transAxes, loc='upper left', borderaxespad=0, labelspacing=0.25, \\\n",
    "            fancybox=False, edgecolor='0', framealpha=0, borderpad=0.25, \\\n",
    "            handletextpad=0.5, markerscale=1, handlelength=1.25)\n",
    "\n",
    "fig.savefig('manuscript_fig4_winds_precip.png', dpi=600, bbox_inches='tight')\n"
   ]
  },
  {
   "cell_type": "markdown",
   "metadata": {},
   "source": [
    "# Plot dqdt and moisture convergence in lat means"
   ]
  },
  {
   "cell_type": "code",
   "execution_count": 173,
   "metadata": {
    "ExecuteTime": {
     "end_time": "2018-05-30T01:37:49.991908Z",
     "start_time": "2018-05-30T01:37:49.967479Z"
    }
   },
   "outputs": [],
   "source": [
    "dqdt_diff_latmean = dqdt_1000_latmean - dqdt_400_latmean"
   ]
  },
  {
   "cell_type": "code",
   "execution_count": 174,
   "metadata": {
    "ExecuteTime": {
     "end_time": "2018-05-30T01:37:57.549075Z",
     "start_time": "2018-05-30T01:37:57.542174Z"
    }
   },
   "outputs": [],
   "source": [
    "xx_midpoints = 0.5*(xx[1:,1:]+xx[:-1,:-1])\n",
    "\n",
    "ptot_400_time_latmean_midpoints = 0.5*(ptot_400_time_latmean[1:,1:]+\\\n",
    "                                       ptot_400_time_latmean[:-1,:-1])"
   ]
  },
  {
   "cell_type": "markdown",
   "metadata": {},
   "source": [
    "# dqdt and convergence terms on day 1"
   ]
  },
  {
   "cell_type": "code",
   "execution_count": 175,
   "metadata": {
    "ExecuteTime": {
     "end_time": "2018-05-30T01:38:08.211410Z",
     "start_time": "2018-05-30T01:38:04.797025Z"
    }
   },
   "outputs": [
    {
     "data": {
      "image/png": "[encoded data removed]",
      "text/plain": [
       "<Figure size 468x252 with 5 Axes>"
      ]
     },
     "metadata": {},
     "output_type": "display_data"
    }
   ],
   "source": [
    "fontsize=12\n",
    "\n",
    "xlong_min = -154.76123\n",
    "xlong_max = -25.238678\n",
    "\n",
    "levels = numpy.arange(-3,3.1,0.5)\n",
    "\n",
    "fig = mp.figure(figsize=(6.5,3.5))\n",
    "\n",
    "xticks_deg_E=numpy.array((280,300,320))\n",
    "xticks = -(360-xticks_deg_E)\n",
    "xticks_format=[str(tick)+DEGREE_SIGN+'E' for tick in xticks_deg_E]\n",
    "\n",
    "ax_list = []\n",
    "\n",
    "hour1 = 13\n",
    "hour1_string = hour1-4+1\n",
    "\n",
    "hour2 = 14\n",
    "hour2_string = hour2-4+1\n",
    "\n",
    "ax = fig.add_subplot(221)\n",
    "contour_plot = ax.contourf(xx_midpoints+360., \\\n",
    "                           ptot_400_time_latmean_midpoints/100., \\\n",
    "                           dqdt_diff_latmean[hour1,:,:]*86400.*1000., cmap='RdBu',\\\n",
    "                           levels=levels, extend='both')\n",
    "\n",
    "ax.set_ylim(1013.25,700)\n",
    "ax.set_xticks([280,300,320])\n",
    "ax.set_xlim(xlong_min+67.+360.,xlong_max+360.-7)\n",
    "ax.set_xticklabels(xticks_format)\n",
    "ax.set_facecolor('0.1')\n",
    "ax.tick_params(labelsize=fontsize)\n",
    "ax.set_yticks([700,800,900,1000])\n",
    "ax.text(s='(a) dq/dt for hour '+'{:02d}'.format(hour1_string), x=0, y=1.02, \\\n",
    "        ha='left', va='bottom', \\\n",
    "        transform=ax.transAxes, fontsize=fontsize)\n",
    "#mp.colorbar(contour_plot)\n",
    "ax_list.append(ax)\n",
    "\n",
    "ax = fig.add_subplot(222)\n",
    "contour_plot = ax.contourf(xx_midpoints+360., \\\n",
    "                           ptot_400_time_latmean_midpoints/100., \\\n",
    "                           diff_conv_latmean[hour1,:,:]*86400.*1000., cmap='RdBu', \\\n",
    "                           levels=levels, extend='both')\n",
    "\n",
    "ax.set_ylim(1013.25,700)\n",
    "ax.set_xticks([280,300,320])\n",
    "ax.set_xlim(xlong_min+67.+360.,xlong_max+360.-7)\n",
    "ax.set_xticklabels(xticks_format)\n",
    "ax.set_facecolor('0.1')\n",
    "ax.tick_params(labelsize=fontsize)\n",
    "ax.set_yticks([700,800,900,1000])\n",
    "ax.text(s='(b) moist. converg. for hour '+'{:02d}'.format(hour1_string), x=0, y=1.02, \\\n",
    "        ha='left', va='bottom', \\\n",
    "        transform=ax.transAxes, fontsize=fontsize)\n",
    "#mp.colorbar(contour_plot)\n",
    "ax_list.append(ax)\n",
    "\n",
    "ax = fig.add_subplot(223)\n",
    "contour_plot = ax.contourf(xx_midpoints+360., \\\n",
    "                           ptot_400_time_latmean_midpoints/100., \\\n",
    "                           dqdt_diff_latmean[hour2,:,:]*86400.*1000., cmap='RdBu', \\\n",
    "                           levels=levels, extend='both')\n",
    "\n",
    "ax.set_ylim(1013.25,700)\n",
    "ax.set_xticks([280,300,320])\n",
    "ax.set_xlim(xlong_min+67.+360.,xlong_max+360.-7)\n",
    "ax.set_xticklabels(xticks_format)\n",
    "ax.set_facecolor('0.1')\n",
    "ax.tick_params(labelsize=fontsize)\n",
    "ax.set_yticks([700,800,900,1000])\n",
    "ax.text(s='(c) dq/dt for hour '+'{:02d}'.format(hour2_string), x=0, y=1.02, \\\n",
    "        ha='left', va='bottom', \\\n",
    "        transform=ax.transAxes, fontsize=fontsize)\n",
    "ax_list.append(ax)\n",
    "\n",
    "ax = fig.add_subplot(224)\n",
    "contour_plot = ax.contourf(xx_midpoints+360., \\\n",
    "                           ptot_400_time_latmean_midpoints/100., \\\n",
    "                           diff_conv_latmean[hour2,:,:]*86400.*1000., cmap='RdBu', \\\n",
    "                           levels=levels, extend='both')\n",
    "\n",
    "ax.set_ylim(1013.25,700)\n",
    "ax.set_xticks([280,300,320])\n",
    "ax.set_xlim(xlong_min+67.+360.,xlong_max+360.-7)\n",
    "ax.set_xticklabels(xticks_format)\n",
    "ax.set_facecolor('0.1')\n",
    "ax.tick_params(labelsize=fontsize)\n",
    "ax.set_yticks([700,800,900,1000])\n",
    "ax.text(s='(d) moist. converg. for hour '+'{:02d}'.format(hour2_string), x=0, y=1.02, \\\n",
    "        ha='left', va='bottom', \\\n",
    "        transform=ax.transAxes, fontsize=fontsize)\n",
    "#mp.colorbar(contour_plot)\n",
    "ax_list.append(ax)\n",
    "\n",
    "fig.tight_layout(h_pad=2)\n",
    "\n",
    "axpos_bl = ax_list[2].get_position()\n",
    "axpos_br = ax_list[3].get_position()\n",
    "\n",
    "cbar_ax = fig.add_axes([axpos_bl.x0, axpos_bl.y0-0.175, axpos_br.x1-axpos_bl.x0, 0.045])\n",
    "cbar = fig.colorbar(contour_plot, cax=cbar_ax, orientation='horizontal')\n",
    "cbar_ax.tick_params(labelsize=fontsize)\n",
    "cbar.set_label('g kg$^{\\,-1}$ day$^{\\,-1}$', fontsize=fontsize)\n",
    "\n",
    "fig.savefig('dqdt_and_q_convergence_hours_'+\\\n",
    "            '{:02d}'.format(hour1_string)+\\\n",
    "            'and'+'{:02d}'.format(hour2_string)+'.png',\\\n",
    "            dpi=600, bbox_inches='tight')"
   ]
  },
  {
   "cell_type": "code",
   "execution_count": 176,
   "metadata": {
    "ExecuteTime": {
     "end_time": "2018-05-30T01:38:18.841781Z",
     "start_time": "2018-05-30T01:38:15.707923Z"
    }
   },
   "outputs": [
    {
     "data": {
      "image/png": "[encoded data removed]",
      "text/plain": [
       "<Figure size 468x252 with 5 Axes>"
      ]
     },
     "metadata": {},
     "output_type": "display_data"
    }
   ],
   "source": [
    "fontsize=12\n",
    "\n",
    "xlong_min = -154.76123\n",
    "xlong_max = -25.238678\n",
    "\n",
    "levels = numpy.arange(-3,3.1,0.5)\n",
    "\n",
    "fig = mp.figure(figsize=(6.5,3.5))\n",
    "\n",
    "xticks_deg_E=numpy.array((280,300,320))\n",
    "xticks = -(360-xticks_deg_E)\n",
    "xticks_format=[str(tick)+DEGREE_SIGN+'E' for tick in xticks_deg_E]\n",
    "\n",
    "ax_list = []\n",
    "\n",
    "hour1 = 13\n",
    "hour1_string = hour1-4+1\n",
    "\n",
    "hour2 = 14\n",
    "hour2_string = hour2-4+1\n",
    "\n",
    "ax = fig.add_subplot(221)\n",
    "contour_plot = ax.contourf(xx_midpoints+360., \\\n",
    "                           ptot_400_time_latmean_midpoints/100., \\\n",
    "                           dqdt_diff_latmean[hour1,:,:]*86400.*1000., cmap='RdBu',\\\n",
    "                           levels=levels, extend='both')\n",
    "\n",
    "ax.set_ylim(1013.25,700)\n",
    "ax.set_xticks([280,300,320])\n",
    "ax.set_xlim(xlong_min+67.+360.,xlong_max+360.-7)\n",
    "ax.set_xticklabels(xticks_format)\n",
    "ax.set_facecolor('0.1')\n",
    "ax.tick_params(labelsize=fontsize)\n",
    "ax.set_yticks([700,800,900,1000])\n",
    "ax.text(s='(a) dq/dt for hour '+'{:02d}'.format(hour1_string), x=0, y=1.02, \\\n",
    "        ha='left', va='bottom', \\\n",
    "        transform=ax.transAxes, fontsize=fontsize)\n",
    "#mp.colorbar(contour_plot)\n",
    "ax_list.append(ax)\n",
    "\n",
    "ax = fig.add_subplot(222)\n",
    "contour_plot = ax.contourf(xx_midpoints+360., \\\n",
    "                           ptot_400_time_latmean_midpoints/100., \\\n",
    "                           diff_adv_latmean[hour1,:,:]*86400.*1000., cmap='RdBu', \\\n",
    "                           levels=levels, extend='both')\n",
    "\n",
    "ax.set_ylim(1013.25,700)\n",
    "ax.set_xticks([280,300,320])\n",
    "ax.set_xlim(xlong_min+67.+360.,xlong_max+360.-7)\n",
    "ax.set_xticklabels(xticks_format)\n",
    "ax.set_facecolor('0.1')\n",
    "ax.tick_params(labelsize=fontsize)\n",
    "ax.set_yticks([700,800,900,1000])\n",
    "ax.text(s='(b) moist. converg. for hour '+'{:02d}'.format(hour1_string), x=0, y=1.02, \\\n",
    "        ha='left', va='bottom', \\\n",
    "        transform=ax.transAxes, fontsize=fontsize)\n",
    "#mp.colorbar(contour_plot)\n",
    "ax_list.append(ax)\n",
    "\n",
    "ax = fig.add_subplot(223)\n",
    "contour_plot = ax.contourf(xx_midpoints+360., \\\n",
    "                           ptot_400_time_latmean_midpoints/100., \\\n",
    "                           dqdt_diff_latmean[hour2,:,:]*86400.*1000., cmap='RdBu', \\\n",
    "                           levels=levels, extend='both')\n",
    "\n",
    "ax.set_ylim(1013.25,700)\n",
    "ax.set_xticks([280,300,320])\n",
    "ax.set_xlim(xlong_min+67.+360.,xlong_max+360.-7)\n",
    "ax.set_xticklabels(xticks_format)\n",
    "ax.set_facecolor('0.1')\n",
    "ax.tick_params(labelsize=fontsize)\n",
    "ax.set_yticks([700,800,900,1000])\n",
    "ax.text(s='(c) dq/dt for hour '+'{:02d}'.format(hour2_string), x=0, y=1.02, \\\n",
    "        ha='left', va='bottom', \\\n",
    "        transform=ax.transAxes, fontsize=fontsize)\n",
    "ax_list.append(ax)\n",
    "\n",
    "ax = fig.add_subplot(224)\n",
    "contour_plot = ax.contourf(xx_midpoints+360., \\\n",
    "                           ptot_400_time_latmean_midpoints/100., \\\n",
    "                           diff_adv_latmean[hour2,:,:]*86400.*1000., cmap='RdBu', \\\n",
    "                           levels=levels, extend='both')\n",
    "\n",
    "ax.set_ylim(1013.25,700)\n",
    "ax.set_xticks([280,300,320])\n",
    "ax.set_xlim(xlong_min+67.+360.,xlong_max+360.-7)\n",
    "ax.set_xticklabels(xticks_format)\n",
    "ax.set_facecolor('0.1')\n",
    "ax.tick_params(labelsize=fontsize)\n",
    "ax.set_yticks([700,800,900,1000])\n",
    "ax.text(s='(d) moist. converg. for hour '+'{:02d}'.format(hour2_string), x=0, y=1.02, \\\n",
    "        ha='left', va='bottom', \\\n",
    "        transform=ax.transAxes, fontsize=fontsize)\n",
    "#mp.colorbar(contour_plot)\n",
    "ax_list.append(ax)\n",
    "\n",
    "fig.tight_layout(h_pad=2)\n",
    "\n",
    "axpos_bl = ax_list[2].get_position()\n",
    "axpos_br = ax_list[3].get_position()\n",
    "\n",
    "cbar_ax = fig.add_axes([axpos_bl.x0, axpos_bl.y0-0.175, axpos_br.x1-axpos_bl.x0, 0.045])\n",
    "cbar = fig.colorbar(contour_plot, cax=cbar_ax, orientation='horizontal')\n",
    "cbar_ax.tick_params(labelsize=fontsize)\n",
    "cbar.set_label('g kg$^{\\,-1}$ day$^{\\,-1}$', fontsize=fontsize)\n",
    "\n",
    "fig.savefig('dqdt_and_q_advection_hours_'+\\\n",
    "            '{:02d}'.format(hour1_string)+\\\n",
    "            'and'+'{:02d}'.format(hour2_string)+'.png',\\\n",
    "            dpi=600, bbox_inches='tight')"
   ]
  },
  {
   "cell_type": "code",
   "execution_count": 177,
   "metadata": {
    "ExecuteTime": {
     "end_time": "2018-05-30T01:38:32.419264Z",
     "start_time": "2018-05-30T01:38:28.070092Z"
    }
   },
   "outputs": [
    {
     "data": {
      "image/png": "[encoded data removed]",
      "text/plain": [
       "<Figure size 576x252 with 7 Axes>"
      ]
     },
     "metadata": {},
     "output_type": "display_data"
    }
   ],
   "source": [
    "fontsize=12\n",
    "\n",
    "xlong_min = -154.76123\n",
    "xlong_max = -25.238678\n",
    "\n",
    "levels = numpy.arange(-3,3.1,0.5)\n",
    "\n",
    "fig = mp.figure(figsize=(8,3.5))\n",
    "\n",
    "xticks_deg_E=numpy.array((280,300,320))\n",
    "xticks = -(360-xticks_deg_E)\n",
    "xticks_format=[str(tick)+DEGREE_SIGN+'E' for tick in xticks_deg_E]\n",
    "\n",
    "ax_list = []\n",
    "\n",
    "hour1 = 13\n",
    "hour1_string = hour1-4+1\n",
    "\n",
    "hour2 = 14\n",
    "hour2_string = hour2-4+1\n",
    "\n",
    "ax = fig.add_subplot(231)\n",
    "contour_plot = ax.contourf(xx_midpoints+360., \\\n",
    "                           ptot_400_time_latmean_midpoints/100., \\\n",
    "                           dqdt_diff_latmean[hour1,:,:]*86400.*1000., cmap='RdBu',\\\n",
    "                           levels=levels, extend='both')\n",
    "\n",
    "ax.set_ylim(1013.25,700)\n",
    "ax.set_xticks([280,300,320])\n",
    "ax.set_xlim(xlong_min+67.+360.,xlong_max+360.-7)\n",
    "ax.set_xticklabels(xticks_format)\n",
    "ax.set_facecolor('0.1')\n",
    "ax.tick_params(labelsize=fontsize)\n",
    "ax.set_yticks([700,800,900,1000])\n",
    "ax.text(s='(a) dq/dt', x=0, y=1.02, \\\n",
    "        ha='left', va='bottom', \\\n",
    "        transform=ax.transAxes, fontsize=fontsize)\n",
    "ax.text(s='hour '+'{:02d}'.format(hour1_string), x=0.95, y=0.91, \\\n",
    "        ha='right', va='top', \\\n",
    "        transform=ax.transAxes, fontsize=fontsize)\n",
    "#mp.colorbar(contour_plot)\n",
    "ax_list.append(ax)\n",
    "\n",
    "ax = fig.add_subplot(232)\n",
    "contour_plot = ax.contourf(xx_midpoints+360., \\\n",
    "                           ptot_400_time_latmean_midpoints/100., \\\n",
    "                           diff_conv_latmean[hour1,:,:]*86400.*1000., cmap='RdBu', \\\n",
    "                           levels=levels, extend='both')\n",
    "\n",
    "ax.set_ylim(1013.25,700)\n",
    "ax.set_xticks([280,300,320])\n",
    "ax.set_xlim(xlong_min+67.+360.,xlong_max+360.-7)\n",
    "ax.set_xticklabels(xticks_format)\n",
    "ax.set_facecolor('0.1')\n",
    "ax.tick_params(labelsize=fontsize)\n",
    "ax.set_yticks([700,800,900,1000])\n",
    "ax.text(s='(b) moisture convergence', x=0, y=1.02, \\\n",
    "        ha='left', va='bottom', \\\n",
    "        transform=ax.transAxes, fontsize=fontsize)\n",
    "ax.text(s='hour '+'{:02d}'.format(hour1_string), x=0.95, y=0.91, \\\n",
    "        ha='right', va='top', \\\n",
    "        transform=ax.transAxes, fontsize=fontsize)\n",
    "#mp.colorbar(contour_plot)\n",
    "ax_list.append(ax)\n",
    "\n",
    "\n",
    "\n",
    "ax = fig.add_subplot(233)\n",
    "contour_plot = ax.contourf(xx_midpoints+360., \\\n",
    "                           ptot_400_time_latmean_midpoints/100., \\\n",
    "                           diff_adv_latmean[hour1,:,:]*86400.*1000., cmap='RdBu', \\\n",
    "                           levels=levels, extend='both')\n",
    "\n",
    "ax.set_ylim(1013.25,700)\n",
    "ax.set_xticks([280,300,320])\n",
    "ax.set_xlim(xlong_min+67.+360.,xlong_max+360.-7)\n",
    "ax.set_xticklabels(xticks_format)\n",
    "ax.set_facecolor('0.1')\n",
    "ax.tick_params(labelsize=fontsize)\n",
    "ax.set_yticks([700,800,900,1000])\n",
    "ax.text(s='(c) moisture advection', x=0, y=1.02, \\\n",
    "        ha='left', va='bottom', \\\n",
    "        transform=ax.transAxes, fontsize=fontsize)\n",
    "ax.text(s='hour '+'{:02d}'.format(hour1_string), x=0.95, y=0.91, \\\n",
    "        ha='right', va='top', \\\n",
    "        transform=ax.transAxes, fontsize=fontsize)\n",
    "#mp.colorbar(contour_plot)\n",
    "ax_list.append(ax)\n",
    "\n",
    "\n",
    "\n",
    "\n",
    "\n",
    "ax = fig.add_subplot(234)\n",
    "contour_plot = ax.contourf(xx_midpoints+360., \\\n",
    "                           ptot_400_time_latmean_midpoints/100., \\\n",
    "                           dqdt_diff_latmean[hour2,:,:]*86400.*1000., cmap='RdBu', \\\n",
    "                           levels=levels, extend='both')\n",
    "\n",
    "ax.set_ylim(1013.25,700)\n",
    "ax.set_xticks([280,300,320])\n",
    "ax.set_xlim(xlong_min+67.+360.,xlong_max+360.-7)\n",
    "ax.set_xticklabels(xticks_format)\n",
    "ax.set_facecolor('0.1')\n",
    "ax.tick_params(labelsize=fontsize)\n",
    "ax.set_yticks([700,800,900,1000])\n",
    "ax.text(s='(d) dq/dt', x=0, y=1.02, \\\n",
    "        ha='left', va='bottom', \\\n",
    "        transform=ax.transAxes, fontsize=fontsize)\n",
    "ax.text(s='hour '+'{:02d}'.format(hour2_string), x=0.95, y=0.91, \\\n",
    "        ha='right', va='top', \\\n",
    "        transform=ax.transAxes, fontsize=fontsize)\n",
    "ax_list.append(ax)\n",
    "\n",
    "\n",
    "ax = fig.add_subplot(235)\n",
    "contour_plot = ax.contourf(xx_midpoints+360., \\\n",
    "                           ptot_400_time_latmean_midpoints/100., \\\n",
    "                           diff_conv_latmean[hour2,:,:]*86400.*1000., cmap='RdBu', \\\n",
    "                           levels=levels, extend='both')\n",
    "\n",
    "ax.set_ylim(1013.25,700)\n",
    "ax.set_xticks([280,300,320])\n",
    "ax.set_xlim(xlong_min+67.+360.,xlong_max+360.-7)\n",
    "ax.set_xticklabels(xticks_format)\n",
    "ax.set_facecolor('0.1')\n",
    "ax.tick_params(labelsize=fontsize)\n",
    "ax.set_yticks([700,800,900,1000])\n",
    "ax.text(s='(e) moisture convergence', x=0, y=1.02, \\\n",
    "        ha='left', va='bottom', \\\n",
    "        transform=ax.transAxes, fontsize=fontsize)\n",
    "ax.text(s='hour '+'{:02d}'.format(hour2_string), x=0.95, y=0.91, \\\n",
    "        ha='right', va='top', \\\n",
    "        transform=ax.transAxes, fontsize=fontsize)\n",
    "#mp.colorbar(contour_plot)\n",
    "ax_list.append(ax)\n",
    "\n",
    "\n",
    "ax = fig.add_subplot(236)\n",
    "contour_plot = ax.contourf(xx_midpoints+360., \\\n",
    "                           ptot_400_time_latmean_midpoints/100., \\\n",
    "                           diff_adv_latmean[hour2,:,:]*86400.*1000., cmap='RdBu', \\\n",
    "                           levels=levels, extend='both')\n",
    "\n",
    "ax.set_ylim(1013.25,700)\n",
    "ax.set_xticks([280,300,320])\n",
    "ax.set_xlim(xlong_min+67.+360.,xlong_max+360.-7)\n",
    "ax.set_xticklabels(xticks_format)\n",
    "ax.set_facecolor('0.1')\n",
    "ax.tick_params(labelsize=fontsize)\n",
    "ax.set_yticks([700,800,900,1000])\n",
    "ax.text(s='(f) moisture advection', x=0, y=1.02, \\\n",
    "        ha='left', va='bottom', \\\n",
    "        transform=ax.transAxes, fontsize=fontsize)\n",
    "ax.text(s='hour '+'{:02d}'.format(hour2_string), x=0.95, y=0.91, \\\n",
    "        ha='right', va='top', \\\n",
    "        transform=ax.transAxes, fontsize=fontsize)\n",
    "#mp.colorbar(contour_plot)\n",
    "ax_list.append(ax)\n",
    "\n",
    "\n",
    "fig.tight_layout(h_pad=2)\n",
    "\n",
    "axpos_bl = ax_list[3].get_position()\n",
    "axpos_br = ax_list[5].get_position()\n",
    "\n",
    "cbar_ax = fig.add_axes([axpos_bl.x0, axpos_bl.y0-0.175, axpos_br.x1-axpos_bl.x0, 0.045])\n",
    "cbar = fig.colorbar(contour_plot, cax=cbar_ax, orientation='horizontal')\n",
    "cbar_ax.tick_params(labelsize=fontsize)\n",
    "cbar.set_label('g kg$^{\\,-1}$ day$^{\\,-1}$', fontsize=fontsize)\n",
    "\n",
    "fig.savefig('dqdt_and_q_convergence_and_advection_hours_'+\\\n",
    "            '{:02d}'.format(hour1_string)+\\\n",
    "            'and'+'{:02d}'.format(hour2_string)+'.png',\\\n",
    "            dpi=600, bbox_inches='tight')"
   ]
  }
 ],
 "metadata": {
  "kernelspec": {
   "display_name": "Python 3",
   "language": "python",
   "name": "python3"
  },
  "language_info": {
   "codemirror_mode": {
    "name": "ipython",
    "version": 3
   },
   "file_extension": ".py",
   "mimetype": "text/x-python",
   "name": "python",
   "nbconvert_exporter": "python",
   "pygments_lexer": "ipython3",
   "version": "3.6.4"
  },
  "varInspector": {
   "cols": {
    "lenName": 16,
    "lenType": 16,
    "lenVar": 40
   },
   "kernels_config": {
    "python": {
     "delete_cmd_postfix": "",
     "delete_cmd_prefix": "del ",
     "library": "var_list.py",
     "varRefreshCmd": "print(var_dic_list())"
    },
    "r": {
     "delete_cmd_postfix": ") ",
     "delete_cmd_prefix": "rm(",
     "library": "var_list.r",
     "varRefreshCmd": "cat(var_dic_list()) "
    }
   },
   "types_to_exclude": [
    "module",
    "function",
    "builtin_function_or_method",
    "instance",
    "_Feature"
   ],
   "window_display": false
  }
 },
 "nbformat": 4,
 "nbformat_minor": 2
}
