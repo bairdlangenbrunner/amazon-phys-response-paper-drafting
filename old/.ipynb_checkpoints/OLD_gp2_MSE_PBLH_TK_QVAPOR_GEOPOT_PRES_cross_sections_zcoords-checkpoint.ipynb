{
 "cells": [
  {
   "cell_type": "code",
   "execution_count": 2,
   "metadata": {
    "ExecuteTime": {
     "end_time": "2018-03-09T16:47:03.822084Z",
     "start_time": "2018-03-09T16:47:00.882846Z"
    }
   },
   "outputs": [],
   "source": [
    "import numpy\n",
    "import xarray\n",
    "import matplotlib\n",
    "import matplotlib.pyplot as mp\n",
    "import datetime\n",
    "import matplotlib.colors\n",
    "import scipy.stats\n",
    "import itertools\n",
    "import string\n",
    "import matplotlib.patches\n",
    "\n",
    "import matplotlib.ticker\n",
    "import cartopy.mpl.gridliner #import LONGITUDE_FORMATTER, LATITUDE_FORMATTER\n",
    "\n",
    "import mpl_toolkits\n",
    "import cartopy\n",
    "\n",
    "DEGREE_SIGN = u'\\u00B0'\n",
    "mp.rcParams.update({'mathtext.default': 'regular'})\n",
    "\n",
    "% matplotlib inline"
   ]
  },
  {
   "cell_type": "code",
   "execution_count": 3,
   "metadata": {
    "ExecuteTime": {
     "end_time": "2018-03-09T16:47:03.834915Z",
     "start_time": "2018-03-09T16:47:03.827866Z"
    }
   },
   "outputs": [],
   "source": [
    "run_info = 'FMAASO'\n",
    "skip_time=0"
   ]
  },
  {
   "cell_type": "markdown",
   "metadata": {},
   "source": [
    "# GEO EM FILE"
   ]
  },
  {
   "cell_type": "code",
   "execution_count": 4,
   "metadata": {
    "ExecuteTime": {
     "end_time": "2018-03-09T16:47:04.249691Z",
     "start_time": "2018-03-09T16:47:03.838566Z"
    }
   },
   "outputs": [],
   "source": [
    "geo_em_ncfile = xarray.open_dataset('/beegfs/DATA/pritchard/blangenb/WRF_ARCHIVE/CHEYENNE/FMAASO/geo_em.d01_amazon_50km.nc')\n",
    "HGT_M = geo_em_ncfile.variables['HGT_M'].data[0,:,:]"
   ]
  },
  {
   "cell_type": "markdown",
   "metadata": {},
   "source": [
    "# time, LAT, LON ncfiles"
   ]
  },
  {
   "cell_type": "code",
   "execution_count": 5,
   "metadata": {
    "ExecuteTime": {
     "end_time": "2018-03-09T16:47:04.260432Z",
     "start_time": "2018-03-09T16:47:04.253508Z"
    }
   },
   "outputs": [],
   "source": [
    "xlat_ncfile_name = '/beegfs/DATA/pritchard/blangenb/WRF_ARCHIVE/CHEYENNE/FMAASO/1000/concat_nc_files/wrfout_d01_1979-01-01_00:00:00_XLAT.nc'\n",
    "xlong_ncfile_name = '/beegfs/DATA/pritchard/blangenb/WRF_ARCHIVE/CHEYENNE/FMAASO/1000/concat_nc_files/wrfout_d01_1979-01-01_00:00:00_XLONG.nc'\n",
    "landmask_ncfile_name = '/beegfs/DATA/pritchard/blangenb/WRF_ARCHIVE/CHEYENNE/FMAASO/1000/concat_nc_files/wrfout_d01_1979-01-01_00:00:00_LANDMASK.nc'\n",
    "times_ncfile_name = '/beegfs/DATA/pritchard/blangenb/WRF_ARCHIVE/CHEYENNE/FMAASO/1000/concat_nc_files/wrfout_d01_1979-01-01_00:00:00_1979-01-11_00:00:00_Times_ens_mean.nc'"
   ]
  },
  {
   "cell_type": "markdown",
   "metadata": {},
   "source": [
    "# import FMAASO 400 data"
   ]
  },
  {
   "cell_type": "code",
   "execution_count": 6,
   "metadata": {
    "ExecuteTime": {
     "end_time": "2018-03-09T16:47:07.199493Z",
     "start_time": "2018-03-09T16:47:04.264023Z"
    }
   },
   "outputs": [],
   "source": [
    "data_dir = '/beegfs/DATA/pritchard/blangenb/WRF_ARCHIVE/CHEYENNE/FMAASO/400/concat_nc_files/'\n",
    "filename_prefix = 'wrfout_d01_1979-01-01_00:00:00_1979-01-11_00:00:00_'\n",
    "filename_suffix = '_ens_mean.nc'\n",
    "\n",
    "time_ncfile = xarray.open_dataset(times_ncfile_name)\n",
    "xlat_ncfile = xarray.open_dataset(xlat_ncfile_name)\n",
    "xlong_ncfile = xarray.open_dataset(xlong_ncfile_name)\n",
    "landmask_ncfile = xarray.open_dataset(landmask_ncfile_name)\n",
    "\n",
    "qvapor_ncfile = xarray.open_dataset(data_dir + filename_prefix + 'QVAPOR' + '_ens_mean_vinterp_zcoords.nc')\n",
    "\n",
    "pblh_ncfile = xarray.open_dataset(data_dir + filename_prefix + 'PBLH' + filename_suffix)\n",
    "tk_ncfile = xarray.open_dataset(data_dir + filename_prefix + 'TK' + '_ens_mean_vinterp_zcoords.nc')\n",
    "\n",
    "ph_ncfile = xarray.open_dataset(data_dir + filename_prefix + 'PH' + '_ens_mean_vinterp_zcoords.nc')\n",
    "phb_ncfile = xarray.open_dataset(data_dir + filename_prefix + 'PHB' + '_ens_mean_vinterp_zcoords.nc')\n",
    "\n",
    "p_ncfile = xarray.open_dataset(data_dir + filename_prefix + 'P' + '_ens_mean_vinterp_zcoords.nc')\n",
    "pb_ncfile = xarray.open_dataset(data_dir + filename_prefix + 'PB' + '_ens_mean_vinterp_zcoords.nc')\n",
    "\n",
    "u_ncfile = xarray.open_dataset(data_dir + filename_prefix + 'U' + '_ens_mean_vinterp_zcoords.nc')\n",
    "w_ncfile = xarray.open_dataset(data_dir + filename_prefix + 'W' + '_ens_mean_vinterp_zcoords.nc')\n",
    "#v_ncfile = xarray.open_dataset(data_dir + filename_prefix + 'V' + '_ens_mean_vinterp_zcoords.nc')\n",
    "\n",
    "# qvapor_ncfile.set_auto_mask(False)\n",
    "# tk_ncfile.set_auto_mask(False)\n",
    "# ph_ncfile.set_auto_mask(False)\n",
    "# phb_ncfile.set_auto_mask(False)\n",
    "# u_ncfile.set_auto_mask(False)\n",
    "# #v_ncfile.set_auto_mask(False)\n",
    "# w_ncfile.set_auto_mask(False)"
   ]
  },
  {
   "cell_type": "code",
   "execution_count": 7,
   "metadata": {
    "ExecuteTime": {
     "end_time": "2018-03-09T16:47:07.342433Z",
     "start_time": "2018-03-09T16:47:07.201202Z"
    }
   },
   "outputs": [],
   "source": [
    "rainc_ncfile = xarray.open_dataset(data_dir + filename_prefix + 'RAINC' + filename_suffix)\n",
    "rainnc_ncfile = xarray.open_dataset(data_dir + filename_prefix + 'RAINNC' + filename_suffix)"
   ]
  },
  {
   "cell_type": "code",
   "execution_count": 8,
   "metadata": {
    "ExecuteTime": {
     "end_time": "2018-03-09T16:47:08.689868Z",
     "start_time": "2018-03-09T16:47:07.344259Z"
    }
   },
   "outputs": [],
   "source": [
    "time_var = time_ncfile.variables['Times']\n",
    "time = time_ncfile.variables['Times'].data\n",
    "xlat = xlat_ncfile.variables['XLAT'].data[0,:,:]\n",
    "xlong = xlong_ncfile.variables['XLONG'].data[0,:,:]\n",
    "landmask = landmask_ncfile.variables['LANDMASK'].data[0,:,:]"
   ]
  },
  {
   "cell_type": "code",
   "execution_count": 9,
   "metadata": {
    "ExecuteTime": {
     "end_time": "2018-03-09T16:51:02.694732Z",
     "start_time": "2018-03-09T16:47:08.694207Z"
    }
   },
   "outputs": [],
   "source": [
    "z = qvapor_ncfile.variables['z'].data\n",
    "qvapor_400 = qvapor_ncfile.variables['QVAPOR'].data\n",
    "tk_400 = tk_ncfile.variables['TK'].data\n",
    "ph_400 = ph_ncfile.variables['PH'].data\n",
    "phb_400 = phb_ncfile.variables['PHB'].data"
   ]
  },
  {
   "cell_type": "code",
   "execution_count": 10,
   "metadata": {
    "ExecuteTime": {
     "end_time": "2018-03-09T16:53:18.130766Z",
     "start_time": "2018-03-09T16:51:02.706701Z"
    }
   },
   "outputs": [],
   "source": [
    "pblh_400 = pblh_ncfile.variables['PBLH'].data\n",
    "u_400 = u_ncfile.variables['U'].data\n",
    "#v_400 = v_ncfile.variables['V'].data\n",
    "w_400 = w_ncfile.variables['W'].data"
   ]
  },
  {
   "cell_type": "code",
   "execution_count": 11,
   "metadata": {
    "ExecuteTime": {
     "end_time": "2018-03-09T16:55:29.886400Z",
     "start_time": "2018-03-09T16:53:18.141451Z"
    }
   },
   "outputs": [],
   "source": [
    "p_400 = p_ncfile.variables['P'].data\n",
    "pb_400 = pb_ncfile.variables['PB'].data"
   ]
  },
  {
   "cell_type": "code",
   "execution_count": 12,
   "metadata": {
    "ExecuteTime": {
     "end_time": "2018-03-09T16:55:38.469595Z",
     "start_time": "2018-03-09T16:55:29.899556Z"
    }
   },
   "outputs": [],
   "source": [
    "rainc_400 = rainc_ncfile.variables['RAINC'].data\n",
    "rainnc_400 = rainnc_ncfile.variables['RAINNC'].data"
   ]
  },
  {
   "cell_type": "code",
   "execution_count": 13,
   "metadata": {
    "ExecuteTime": {
     "end_time": "2018-03-09T16:55:51.541191Z",
     "start_time": "2018-03-09T16:55:38.473883Z"
    }
   },
   "outputs": [
    {
     "name": "stderr",
     "output_type": "stream",
     "text": [
      "/export/home/blangenb/anaconda3/lib/python3.6/site-packages/ipykernel_launcher.py:1: RuntimeWarning: invalid value encountered in greater\n",
      "  \"\"\"Entry point for launching an IPython kernel.\n",
      "/export/home/blangenb/anaconda3/lib/python3.6/site-packages/ipykernel_launcher.py:2: RuntimeWarning: invalid value encountered in greater\n",
      "  \n",
      "/export/home/blangenb/anaconda3/lib/python3.6/site-packages/ipykernel_launcher.py:3: RuntimeWarning: invalid value encountered in greater\n",
      "  This is separate from the ipykernel package so we can avoid doing imports until\n",
      "/export/home/blangenb/anaconda3/lib/python3.6/site-packages/ipykernel_launcher.py:4: RuntimeWarning: invalid value encountered in greater\n",
      "  after removing the cwd from sys.path.\n",
      "/export/home/blangenb/anaconda3/lib/python3.6/site-packages/ipykernel_launcher.py:5: RuntimeWarning: invalid value encountered in greater\n",
      "  \"\"\"\n",
      "/export/home/blangenb/anaconda3/lib/python3.6/site-packages/ipykernel_launcher.py:7: RuntimeWarning: invalid value encountered in greater\n",
      "  import sys\n",
      "/export/home/blangenb/anaconda3/lib/python3.6/site-packages/ipykernel_launcher.py:8: RuntimeWarning: invalid value encountered in greater\n",
      "  \n",
      "/export/home/blangenb/anaconda3/lib/python3.6/site-packages/ipykernel_launcher.py:9: RuntimeWarning: invalid value encountered in greater\n",
      "  if __name__ == '__main__':\n"
     ]
    }
   ],
   "source": [
    "qvapor_400[qvapor_400>1e10]=numpy.nan\n",
    "tk_400[tk_400>1e10]=numpy.nan\n",
    "ph_400[ph_400>1e10]=numpy.nan\n",
    "phb_400[phb_400>1e10]=numpy.nan\n",
    "u_400[u_400>1e10]=numpy.nan\n",
    "#v_400[v_400>1e10]=numpy.nan\n",
    "w_400[w_400>1e10]=numpy.nan\n",
    "p_400[p_400>1e10]=numpy.nan\n",
    "pb_400[pb_400>1e10]=numpy.nan"
   ]
  },
  {
   "cell_type": "markdown",
   "metadata": {},
   "source": [
    "# import FMAASO 1000 data"
   ]
  },
  {
   "cell_type": "code",
   "execution_count": 14,
   "metadata": {
    "ExecuteTime": {
     "end_time": "2018-03-09T16:55:53.252673Z",
     "start_time": "2018-03-09T16:55:51.543680Z"
    }
   },
   "outputs": [],
   "source": [
    "data_dir = '/beegfs/DATA/pritchard/blangenb/WRF_ARCHIVE/CHEYENNE/FMAASO/1000/concat_nc_files/'\n",
    "filename_prefix = 'wrfout_d01_1979-01-01_00:00:00_1979-01-11_00:00:00_'\n",
    "filename_suffix = '_ens_mean.nc'\n",
    "\n",
    "time_ncfile = xarray.open_dataset(times_ncfile_name)\n",
    "xlat_ncfile = xarray.open_dataset(xlat_ncfile_name)\n",
    "xlong_ncfile = xarray.open_dataset(xlong_ncfile_name)\n",
    "landmask_ncfile = xarray.open_dataset(landmask_ncfile_name)\n",
    "\n",
    "qvapor_ncfile = xarray.open_dataset(data_dir + filename_prefix + 'QVAPOR' + '_ens_mean_vinterp_zcoords.nc')\n",
    "\n",
    "pblh_ncfile = xarray.open_dataset(data_dir + filename_prefix + 'PBLH' + filename_suffix)\n",
    "tk_ncfile = xarray.open_dataset(data_dir + filename_prefix + 'TK' + '_ens_mean_vinterp_zcoords.nc')\n",
    "ph_ncfile = xarray.open_dataset(data_dir + filename_prefix + 'PH' + '_ens_mean_vinterp_zcoords.nc')\n",
    "phb_ncfile = xarray.open_dataset(data_dir + filename_prefix + 'PHB' + '_ens_mean_vinterp_zcoords.nc')\n",
    "\n",
    "p_ncfile = xarray.open_dataset(data_dir + filename_prefix + 'P' + '_ens_mean_vinterp_zcoords.nc')\n",
    "pb_ncfile = xarray.open_dataset(data_dir + filename_prefix + 'PB' + '_ens_mean_vinterp_zcoords.nc')\n",
    "\n",
    "w_ncfile = xarray.open_dataset(data_dir + filename_prefix + 'W' + '_ens_mean_vinterp_zcoords.nc')\n",
    "u_ncfile = xarray.open_dataset(data_dir + filename_prefix + 'U' + '_ens_mean_vinterp_zcoords.nc')\n",
    "\n",
    "rainc_ncfile = xarray.open_dataset(data_dir + filename_prefix + 'RAINC' + filename_suffix)\n",
    "rainnc_ncfile = xarray.open_dataset(data_dir + filename_prefix + 'RAINNC' + filename_suffix)\n",
    "\n",
    "#v_ncfile = xarray.open_dataset(data_dir + filename_prefix + 'V' + '_ens_mean_vinterp_zcoords.nc')\n",
    "\n",
    "# qvapor_ncfile.set_auto_mask(False)\n",
    "# tk_ncfile.set_auto_mask(False)\n",
    "# ph_ncfile.set_auto_mask(False)\n",
    "# phb_ncfile.set_auto_mask(False)\n",
    "# u_ncfile.set_auto_mask(False)\n",
    "# w_ncfile.set_auto_mask(False)\n",
    "# #v_ncfile.set_auto_mask(False)"
   ]
  },
  {
   "cell_type": "code",
   "execution_count": 15,
   "metadata": {
    "ExecuteTime": {
     "end_time": "2018-03-09T16:55:53.271968Z",
     "start_time": "2018-03-09T16:55:53.256532Z"
    }
   },
   "outputs": [],
   "source": [
    "time_var_1000 = time_ncfile.variables['Times']\n",
    "time_1000 = time_ncfile.variables['Times'].data\n",
    "xlat = xlat_ncfile.variables['XLAT'][0,:,:]\n",
    "xlong = xlong_ncfile.variables['XLONG'][0,:,:]\n",
    "landmask = landmask_ncfile.variables['LANDMASK'][0,:,:]"
   ]
  },
  {
   "cell_type": "code",
   "execution_count": 16,
   "metadata": {
    "ExecuteTime": {
     "end_time": "2018-03-09T16:57:52.510858Z",
     "start_time": "2018-03-09T16:55:53.275314Z"
    }
   },
   "outputs": [],
   "source": [
    "qvapor_1000 = qvapor_ncfile.variables['QVAPOR'].data\n",
    "tk_1000 = tk_ncfile.variables['TK'].data"
   ]
  },
  {
   "cell_type": "code",
   "execution_count": 17,
   "metadata": {
    "ExecuteTime": {
     "end_time": "2018-03-09T16:59:12.434737Z",
     "start_time": "2018-03-09T16:57:52.521033Z"
    }
   },
   "outputs": [],
   "source": [
    "pblh_1000 = pblh_ncfile.variables['PBLH'].data\n",
    "ph_1000 = ph_ncfile.variables['PH'].data\n",
    "phb_1000 = phb_ncfile.variables['PHB'].data"
   ]
  },
  {
   "cell_type": "code",
   "execution_count": 18,
   "metadata": {
    "ExecuteTime": {
     "end_time": "2018-03-09T17:00:39.934832Z",
     "start_time": "2018-03-09T16:59:12.437319Z"
    }
   },
   "outputs": [],
   "source": [
    "p_1000 = p_ncfile.variables['P'].data\n",
    "pb_1000 = pb_ncfile.variables['PB'].data"
   ]
  },
  {
   "cell_type": "code",
   "execution_count": 19,
   "metadata": {
    "ExecuteTime": {
     "end_time": "2018-03-09T17:02:34.413174Z",
     "start_time": "2018-03-09T17:00:39.936519Z"
    }
   },
   "outputs": [],
   "source": [
    "u_1000 = u_ncfile.variables['U'].data\n",
    "#v_1000 = v_ncfile.variables['V'].data\n",
    "w_1000 = w_ncfile.variables['W'].data"
   ]
  },
  {
   "cell_type": "code",
   "execution_count": 20,
   "metadata": {
    "ExecuteTime": {
     "end_time": "2018-03-09T17:02:39.715435Z",
     "start_time": "2018-03-09T17:02:34.414824Z"
    }
   },
   "outputs": [],
   "source": [
    "rainc_1000 = rainc_ncfile.variables['RAINC'].data\n",
    "rainnc_1000 = rainnc_ncfile.variables['RAINNC'].data"
   ]
  },
  {
   "cell_type": "code",
   "execution_count": 21,
   "metadata": {
    "ExecuteTime": {
     "end_time": "2018-03-09T17:02:42.322921Z",
     "start_time": "2018-03-09T17:02:39.719605Z"
    }
   },
   "outputs": [
    {
     "name": "stderr",
     "output_type": "stream",
     "text": [
      "/export/home/blangenb/anaconda3/lib/python3.6/site-packages/ipykernel_launcher.py:1: RuntimeWarning: invalid value encountered in greater\n",
      "  \"\"\"Entry point for launching an IPython kernel.\n",
      "/export/home/blangenb/anaconda3/lib/python3.6/site-packages/ipykernel_launcher.py:2: RuntimeWarning: invalid value encountered in greater\n",
      "  \n",
      "/export/home/blangenb/anaconda3/lib/python3.6/site-packages/ipykernel_launcher.py:3: RuntimeWarning: invalid value encountered in greater\n",
      "  This is separate from the ipykernel package so we can avoid doing imports until\n",
      "/export/home/blangenb/anaconda3/lib/python3.6/site-packages/ipykernel_launcher.py:4: RuntimeWarning: invalid value encountered in greater\n",
      "  after removing the cwd from sys.path.\n",
      "/export/home/blangenb/anaconda3/lib/python3.6/site-packages/ipykernel_launcher.py:5: RuntimeWarning: invalid value encountered in greater\n",
      "  \"\"\"\n",
      "/export/home/blangenb/anaconda3/lib/python3.6/site-packages/ipykernel_launcher.py:7: RuntimeWarning: invalid value encountered in greater\n",
      "  import sys\n",
      "/export/home/blangenb/anaconda3/lib/python3.6/site-packages/ipykernel_launcher.py:9: RuntimeWarning: invalid value encountered in greater\n",
      "  if __name__ == '__main__':\n",
      "/export/home/blangenb/anaconda3/lib/python3.6/site-packages/ipykernel_launcher.py:10: RuntimeWarning: invalid value encountered in greater\n",
      "  # Remove the CWD from sys.path while we load stuff.\n"
     ]
    }
   ],
   "source": [
    "qvapor_1000[qvapor_1000>1e10]=numpy.nan\n",
    "tk_1000[tk_1000>1e10]=numpy.nan\n",
    "ph_1000[ph_1000>1e10]=numpy.nan\n",
    "phb_1000[phb_1000>1e10]=numpy.nan\n",
    "u_1000[u_1000>1e10] = numpy.nan\n",
    "#v_1000[v_1000>1e10] = numpy.nan\n",
    "w_1000[w_1000>1e10] = numpy.nan\n",
    "\n",
    "p_1000[p_1000>1e10]=numpy.nan\n",
    "pb_1000[pb_1000>1e10]=numpy.nan"
   ]
  },
  {
   "cell_type": "code",
   "execution_count": 22,
   "metadata": {
    "ExecuteTime": {
     "end_time": "2018-03-09T17:02:59.540188Z",
     "start_time": "2018-03-09T17:02:42.324554Z"
    }
   },
   "outputs": [],
   "source": [
    "ph_tot_400 = ph_400+phb_400\n",
    "ph_tot_1000 = ph_400+phb_1000"
   ]
  },
  {
   "cell_type": "code",
   "execution_count": 23,
   "metadata": {
    "ExecuteTime": {
     "end_time": "2018-03-09T17:03:07.334857Z",
     "start_time": "2018-03-09T17:02:59.541701Z"
    }
   },
   "outputs": [],
   "source": [
    "p_tot_400 = p_400+pb_400\n",
    "p_tot_1000 = p_1000+pb_1000\n",
    "#ph_tot_400[ph_tot_400>1e10]=numpy.nan\n",
    "#ph_tot_1000[ph_tot_1000>1e10]=numpy.nan"
   ]
  },
  {
   "cell_type": "code",
   "execution_count": 24,
   "metadata": {
    "ExecuteTime": {
     "end_time": "2018-03-09T17:03:07.824670Z",
     "start_time": "2018-03-09T17:03:07.336597Z"
    }
   },
   "outputs": [],
   "source": [
    "ph_400 = None\n",
    "phb_400 = None\n",
    "ph_1000 = None\n",
    "phb_1000 = None\n",
    "\n",
    "p_400 = None\n",
    "pb_400 = None\n",
    "p_1000 = None\n",
    "pb_1000 = None"
   ]
  },
  {
   "cell_type": "markdown",
   "metadata": {},
   "source": [
    "# get time stamps"
   ]
  },
  {
   "cell_type": "code",
   "execution_count": 25,
   "metadata": {
    "ExecuteTime": {
     "end_time": "2018-03-09T17:03:08.083542Z",
     "start_time": "2018-03-09T17:03:07.826247Z"
    }
   },
   "outputs": [
    {
     "ename": "IndexError",
     "evalue": "too many indices for array",
     "output_type": "error",
     "traceback": [
      "\u001b[0;31m---------------------------------------------------------------------------\u001b[0m",
      "\u001b[0;31mIndexError\u001b[0m                                Traceback (most recent call last)",
      "\u001b[0;32m<ipython-input-25-ff1d203a16f0>\u001b[0m in \u001b[0;36m<module>\u001b[0;34m()\u001b[0m\n\u001b[1;32m      1\u001b[0m \u001b[0mtime_datetimes\u001b[0m \u001b[0;34m=\u001b[0m \u001b[0mnumpy\u001b[0m\u001b[0;34m.\u001b[0m\u001b[0mzeros\u001b[0m\u001b[0;34m(\u001b[0m\u001b[0mtime\u001b[0m\u001b[0;34m.\u001b[0m\u001b[0mshape\u001b[0m\u001b[0;34m[\u001b[0m\u001b[0;36m0\u001b[0m\u001b[0;34m]\u001b[0m\u001b[0;34m,\u001b[0m \u001b[0mdtype\u001b[0m\u001b[0;34m=\u001b[0m\u001b[0mobject\u001b[0m\u001b[0;34m)\u001b[0m\u001b[0;34m\u001b[0m\u001b[0m\n\u001b[1;32m      2\u001b[0m \u001b[0;32mfor\u001b[0m \u001b[0mt\u001b[0m \u001b[0;32min\u001b[0m \u001b[0mrange\u001b[0m\u001b[0;34m(\u001b[0m\u001b[0mtime\u001b[0m\u001b[0;34m.\u001b[0m\u001b[0mshape\u001b[0m\u001b[0;34m[\u001b[0m\u001b[0;36m0\u001b[0m\u001b[0;34m]\u001b[0m\u001b[0;34m)\u001b[0m\u001b[0;34m:\u001b[0m\u001b[0;34m\u001b[0m\u001b[0m\n\u001b[0;32m----> 3\u001b[0;31m     \u001b[0mtime_string\u001b[0m \u001b[0;34m=\u001b[0m \u001b[0;34m''\u001b[0m\u001b[0;34m.\u001b[0m\u001b[0mjoin\u001b[0m\u001b[0;34m(\u001b[0m\u001b[0;34m[\u001b[0m\u001b[0mi\u001b[0m\u001b[0;34m.\u001b[0m\u001b[0mdecode\u001b[0m\u001b[0;34m(\u001b[0m\u001b[0;34m'utf-8'\u001b[0m\u001b[0;34m)\u001b[0m \u001b[0;32mfor\u001b[0m \u001b[0mi\u001b[0m \u001b[0;32min\u001b[0m \u001b[0mtime\u001b[0m\u001b[0;34m[\u001b[0m\u001b[0mt\u001b[0m\u001b[0;34m,\u001b[0m\u001b[0;34m:\u001b[0m\u001b[0;34m]\u001b[0m\u001b[0;34m]\u001b[0m\u001b[0;34m)\u001b[0m\u001b[0;34m\u001b[0m\u001b[0m\n\u001b[0m\u001b[1;32m      4\u001b[0m     \u001b[0myear\u001b[0m\u001b[0;34m,\u001b[0m\u001b[0mmonth\u001b[0m\u001b[0;34m,\u001b[0m\u001b[0mday\u001b[0m \u001b[0;34m=\u001b[0m \u001b[0mtime_string\u001b[0m\u001b[0;34m.\u001b[0m\u001b[0msplit\u001b[0m\u001b[0;34m(\u001b[0m\u001b[0;34m'_'\u001b[0m\u001b[0;34m)\u001b[0m\u001b[0;34m[\u001b[0m\u001b[0;36m0\u001b[0m\u001b[0;34m]\u001b[0m\u001b[0;34m.\u001b[0m\u001b[0msplit\u001b[0m\u001b[0;34m(\u001b[0m\u001b[0;34m'-'\u001b[0m\u001b[0;34m)\u001b[0m\u001b[0;34m\u001b[0m\u001b[0m\n\u001b[1;32m      5\u001b[0m     \u001b[0mhour\u001b[0m\u001b[0;34m,\u001b[0m\u001b[0mminute\u001b[0m\u001b[0;34m,\u001b[0m\u001b[0msecond\u001b[0m \u001b[0;34m=\u001b[0m \u001b[0mtime_string\u001b[0m\u001b[0;34m.\u001b[0m\u001b[0msplit\u001b[0m\u001b[0;34m(\u001b[0m\u001b[0;34m'_'\u001b[0m\u001b[0;34m)\u001b[0m\u001b[0;34m[\u001b[0m\u001b[0;36m1\u001b[0m\u001b[0;34m]\u001b[0m\u001b[0;34m.\u001b[0m\u001b[0msplit\u001b[0m\u001b[0;34m(\u001b[0m\u001b[0;34m':'\u001b[0m\u001b[0;34m)\u001b[0m\u001b[0;34m\u001b[0m\u001b[0m\n",
      "\u001b[0;31mIndexError\u001b[0m: too many indices for array"
     ]
    }
   ],
   "source": [
    "time_datetimes = numpy.zeros(time.shape[0], dtype=object)\n",
    "for t in range(time.shape[0]):\n",
    "    time_string = ''.join([i.decode('utf-8') for i in time[t,:]])\n",
    "    year,month,day = time_string.split('_')[0].split('-')\n",
    "    hour,minute,second = time_string.split('_')[1].split(':')\n",
    "    time_datetimes[t] = datetime.datetime(int(year),int(month),int(day),int(hour),int(second),int(minute))"
   ]
  },
  {
   "cell_type": "code",
   "execution_count": null,
   "metadata": {
    "ExecuteTime": {
     "end_time": "2018-03-09T17:03:08.084324Z",
     "start_time": "2018-03-09T16:47:01.033Z"
    }
   },
   "outputs": [],
   "source": [
    "skip_time = 24\n",
    "n_intervals = 8\n",
    "hour_strings = ['00','03','06','09','12','15','18','21']\n",
    "\n",
    "times_00 = [t.hour in [23,0,1] for t in time_datetimes[skip_time:]]\n",
    "times_03 = [t.hour in [2,3,4] for t in time_datetimes[skip_time:]]\n",
    "times_06 = [t.hour in [5,6,7] for t in time_datetimes[skip_time:]]\n",
    "times_09 = [t.hour in [8,9,10] for t in time_datetimes[skip_time:]]\n",
    "times_12 = [t.hour in [11,12,13] for t in time_datetimes[skip_time:]]\n",
    "times_15 = [t.hour in [14,15,16] for t in time_datetimes[skip_time:]]\n",
    "times_18 = [t.hour in [17,18,19] for t in time_datetimes[skip_time:]]\n",
    "times_21 = [t.hour in [20,21,22] for t in time_datetimes[skip_time:]]"
   ]
  },
  {
   "cell_type": "markdown",
   "metadata": {},
   "source": [
    "# constants"
   ]
  },
  {
   "cell_type": "code",
   "execution_count": null,
   "metadata": {
    "ExecuteTime": {
     "end_time": "2018-03-09T17:03:08.085213Z",
     "start_time": "2018-03-09T16:47:01.043Z"
    }
   },
   "outputs": [],
   "source": [
    "L_v = 2264705.0 # J/kg\n",
    "c_p = 1005.7 # J/kgK\n",
    "g = 9.80665 # m/s2"
   ]
  },
  {
   "cell_type": "markdown",
   "metadata": {},
   "source": [
    "# lat indices subset"
   ]
  },
  {
   "cell_type": "code",
   "execution_count": null,
   "metadata": {
    "ExecuteTime": {
     "end_time": "2018-03-09T17:03:08.086059Z",
     "start_time": "2018-03-09T16:47:01.052Z"
    }
   },
   "outputs": [],
   "source": [
    "lat_hi = 10.\n",
    "lat_lo = -10.\n",
    "# subset between lat_hi and lat_lo\n",
    "lat_indices = (xlat<=lat_hi)&(xlat>=lat_lo)"
   ]
  },
  {
   "cell_type": "markdown",
   "metadata": {},
   "source": [
    "# qvapor diffs"
   ]
  },
  {
   "cell_type": "code",
   "execution_count": null,
   "metadata": {
    "ExecuteTime": {
     "end_time": "2018-03-09T17:03:08.086906Z",
     "start_time": "2018-03-09T16:47:01.061Z"
    }
   },
   "outputs": [],
   "source": [
    "qvapor_diffs = qvapor_1000 - qvapor_400"
   ]
  },
  {
   "cell_type": "raw",
   "metadata": {},
   "source": [
    "qvapor_diffs_landmask = numpy.copy(qvapor_diffs)\n",
    "qvapor_diffs_landmask[:,:,landmask==0]=numpy.nan\n",
    "\n",
    "qvapor_400_landmask = numpy.copy(qvapor_400)\n",
    "qvapor_400_landmask[:,:,landmask==0]=numpy.nan"
   ]
  },
  {
   "cell_type": "code",
   "execution_count": null,
   "metadata": {
    "ExecuteTime": {
     "end_time": "2018-03-09T17:03:08.087769Z",
     "start_time": "2018-03-09T16:47:01.179Z"
    }
   },
   "outputs": [],
   "source": [
    "qvapor_diffs_lat_subset = qvapor_diffs[:,:,lat_indices[:,0],:]\n",
    "qvapor_400_lat_subset = qvapor_400[:,:,lat_indices[:,0],:]"
   ]
  },
  {
   "cell_type": "code",
   "execution_count": null,
   "metadata": {
    "ExecuteTime": {
     "end_time": "2018-03-09T17:03:08.088573Z",
     "start_time": "2018-03-09T16:47:01.184Z"
    }
   },
   "outputs": [],
   "source": [
    "qvapor_diffs_lat_mean = numpy.nanmean(qvapor_diffs_lat_subset, axis=2)\n",
    "qvapor_400_lat_mean = numpy.nanmean(qvapor_400_lat_subset, axis=2)"
   ]
  },
  {
   "cell_type": "markdown",
   "metadata": {},
   "source": [
    "# raintot diffs"
   ]
  },
  {
   "cell_type": "code",
   "execution_count": null,
   "metadata": {
    "ExecuteTime": {
     "end_time": "2018-03-09T17:03:08.089382Z",
     "start_time": "2018-03-09T16:47:01.193Z"
    }
   },
   "outputs": [],
   "source": [
    "raintot_400 = rainc_400+rainnc_400\n",
    "raintot_1000 = rainc_1000+rainnc_1000\n",
    "\n",
    "raintot_diffs = raintot_1000-raintot_400\n",
    "\n",
    "raintot_diffs_lat_subset = raintot_diffs[:,lat_indices[:,0],:]\n",
    "raintot_400_lat_subset = raintot_400[:,lat_indices[:,0],:]"
   ]
  },
  {
   "cell_type": "code",
   "execution_count": null,
   "metadata": {
    "ExecuteTime": {
     "end_time": "2018-03-09T17:03:08.090199Z",
     "start_time": "2018-03-09T16:47:01.198Z"
    }
   },
   "outputs": [],
   "source": [
    "# calculate 3 hourly means for 400\n",
    "raintot_400_t00mean = numpy.nanmean(raintot_400_lat_subset[skip_time:,:,:][times_00,:,:], axis=0)\n",
    "raintot_400_t03mean = numpy.nanmean(raintot_400_lat_subset[skip_time:,:,:][times_03,:,:], axis=0)\n",
    "raintot_400_t06mean = numpy.nanmean(raintot_400_lat_subset[skip_time:,:,:][times_06,:,:], axis=0)\n",
    "raintot_400_t09mean = numpy.nanmean(raintot_400_lat_subset[skip_time:,:,:][times_09,:,:], axis=0)\n",
    "raintot_400_t12mean = numpy.nanmean(raintot_400_lat_subset[skip_time:,:,:][times_12,:,:], axis=0)\n",
    "raintot_400_t15mean = numpy.nanmean(raintot_400_lat_subset[skip_time:,:,:][times_15,:,:], axis=0)\n",
    "raintot_400_t18mean = numpy.nanmean(raintot_400_lat_subset[skip_time:,:,:][times_18,:,:], axis=0)\n",
    "raintot_400_t21mean = numpy.nanmean(raintot_400_lat_subset[skip_time:,:,:][times_21,:,:], axis=0)\n",
    "\n",
    "raintot_1000_t00mean = numpy.nanmean(raintot_diffs_lat_subset[skip_time:,:,:][times_00,:,:], axis=0)\n",
    "raintot_1000_t03mean = numpy.nanmean(raintot_diffs_lat_subset[skip_time:,:,:][times_03,:,:], axis=0)\n",
    "raintot_1000_t06mean = numpy.nanmean(raintot_diffs_lat_subset[skip_time:,:,:][times_06,:,:], axis=0)\n",
    "raintot_1000_t09mean = numpy.nanmean(raintot_diffs_lat_subset[skip_time:,:,:][times_09,:,:], axis=0)\n",
    "raintot_1000_t12mean = numpy.nanmean(raintot_diffs_lat_subset[skip_time:,:,:][times_12,:,:], axis=0)\n",
    "raintot_1000_t15mean = numpy.nanmean(raintot_diffs_lat_subset[skip_time:,:,:][times_15,:,:], axis=0)\n",
    "raintot_1000_t18mean = numpy.nanmean(raintot_diffs_lat_subset[skip_time:,:,:][times_18,:,:], axis=0)\n",
    "raintot_1000_t21mean = numpy.nanmean(raintot_diffs_lat_subset[skip_time:,:,:][times_21,:,:], axis=0)\n",
    "\n",
    "raintot_400_array = numpy.array([raintot_400_t00mean, raintot_400_t03mean, raintot_400_t06mean, raintot_400_t09mean, raintot_400_t12mean, raintot_400_t15mean, raintot_400_t18mean, raintot_400_t21mean])\n",
    "raintot_diffs_array = numpy.array([raintot_1000_t00mean, raintot_1000_t03mean, raintot_1000_t06mean, raintot_1000_t09mean, raintot_1000_t12mean, raintot_1000_t15mean, raintot_1000_t18mean, raintot_1000_t21mean])\n",
    "\n",
    "#raintot_diffs = raintot_1000_array - raintot_400_array\n",
    "#raintot_diffs_landmask = numpy.copy(raintot_diffs)\n",
    "#raintot_diffs_landmask[:,landmask==0] = numpy.nan"
   ]
  },
  {
   "cell_type": "code",
   "execution_count": null,
   "metadata": {},
   "outputs": [],
   "source": []
  },
  {
   "cell_type": "code",
   "execution_count": null,
   "metadata": {
    "ExecuteTime": {
     "end_time": "2018-03-09T17:03:08.091036Z",
     "start_time": "2018-03-09T16:47:01.210Z"
    }
   },
   "outputs": [],
   "source": [
    "raintot_hourly_400_diff = numpy.zeros((raintot_400.shape))*numpy.nan\n",
    "raintot_hourly_400_diff[:-1,:,:] = numpy.diff(raintot_400, axis=0)#*(24./3) # convert to mm/day\n",
    "\n",
    "raintot_hourly_1000_diff = numpy.zeros((raintot_1000.shape))*numpy.nan\n",
    "raintot_hourly_1000_diff[:-1,:,:] = numpy.diff(raintot_1000, axis=0)#*(24./3) # convert to mm/day\n",
    "\n",
    "raintot_hourly_diffs = raintot_hourly_1000_diff-raintot_hourly_400_diff\n",
    "raintot_hourly_diffs_lat_subset = raintot_hourly_diffs[:,lat_indices[:,0],:]\n",
    "# raintot_400_t00mean = numpy.nanmean(raintot_hourly_400_lat_subset[skip_time:,:,:][times_00,:,:], axis=0)\n",
    "# raintot_400_t03mean = numpy.nanmean(raintot_hourly_400_lat_subset[skip_time:,:,:][times_03,:,:], axis=0)\n",
    "# raintot_400_t06mean = numpy.nanmean(raintot_hourly_400_lat_subset[skip_time:,:,:][times_06,:,:], axis=0)\n",
    "# raintot_400_t09mean = numpy.nanmean(raintot_hourly_400_lat_subset[skip_time:,:,:][times_09,:,:], axis=0)\n",
    "# raintot_400_t12mean = numpy.nanmean(raintot_hourly_400_lat_subset[skip_time:,:,:][times_12,:,:], axis=0)\n",
    "# raintot_400_t15mean = numpy.nanmean(raintot_hourly_400_lat_subset[skip_time:,:,:][times_15,:,:], axis=0)\n",
    "# raintot_400_t18mean = numpy.nanmean(raintot_hourly_400_lat_subset[skip_time:,:,:][times_18,:,:], axis=0)\n",
    "# raintot_400_t21mean = numpy.nanmean(raintot_hourly_400_lat_subset[skip_time:,:,:][times_21,:,:], axis=0)\n",
    "\n",
    "# raintot_1000_t00mean = numpy.nanmean(raintot_hourly_1000_lat_subset[skip_time:,:,:][times_00,:,:], axis=0)\n",
    "# raintot_1000_t03mean = numpy.nanmean(raintot_hourly_1000_lat_subset[skip_time:,:,:][times_03,:,:], axis=0)\n",
    "# raintot_1000_t06mean = numpy.nanmean(raintot_hourly_1000_lat_subset[skip_time:,:,:][times_06,:,:], axis=0)\n",
    "# raintot_1000_t09mean = numpy.nanmean(raintot_hourly_1000_lat_subset[skip_time:,:,:][times_09,:,:], axis=0)\n",
    "# raintot_1000_t12mean = numpy.nanmean(raintot_hourly_1000_lat_subset[skip_time:,:,:][times_12,:,:], axis=0)\n",
    "# raintot_1000_t15mean = numpy.nanmean(raintot_hourly_1000_lat_subset[skip_time:,:,:][times_15,:,:], axis=0)\n",
    "# raintot_1000_t18mean = numpy.nanmean(raintot_hourly_1000_lat_subset[skip_time:,:,:][times_18,:,:], axis=0)\n",
    "# raintot_1000_t21mean = numpy.nanmean(raintot_hourly_1000_lat_subset[skip_time:,:,:][times_21,:,:], axis=0)\n",
    "\n",
    "# raintot_400_array = numpy.array([raintot_400_t00mean, raintot_400_t03mean, raintot_400_t06mean, raintot_400_t09mean, raintot_400_t12mean, raintot_400_t15mean, raintot_400_t18mean, raintot_400_t21mean])\n",
    "# raintot_diffs_array = numpy.array([raintot_1000_t00mean, raintot_1000_t03mean, raintot_1000_t06mean, raintot_1000_t09mean, raintot_1000_t12mean, raintot_1000_t15mean, raintot_1000_t18mean, raintot_1000_t21mean])"
   ]
  },
  {
   "cell_type": "markdown",
   "metadata": {},
   "source": [
    "# tk diffs"
   ]
  },
  {
   "cell_type": "code",
   "execution_count": null,
   "metadata": {
    "ExecuteTime": {
     "end_time": "2018-03-09T17:03:08.091882Z",
     "start_time": "2018-03-09T16:47:01.220Z"
    }
   },
   "outputs": [],
   "source": [
    "tk_diffs = tk_1000 - tk_400"
   ]
  },
  {
   "cell_type": "raw",
   "metadata": {},
   "source": [
    "tk_diffs_landmask = numpy.copy(tk_diffs)\n",
    "tk_diffs_landmask[:,:,landmask==0]=numpy.nan\n",
    "\n",
    "tk_400_landmask = numpy.copy(tk_400)\n",
    "tk_400_landmask[:,:,landmask==0]=numpy.nan"
   ]
  },
  {
   "cell_type": "code",
   "execution_count": null,
   "metadata": {
    "ExecuteTime": {
     "end_time": "2018-03-09T17:03:08.092757Z",
     "start_time": "2018-03-09T16:47:01.326Z"
    }
   },
   "outputs": [],
   "source": [
    "tk_diffs_lat_subset = tk_diffs[:,:,lat_indices[:,0],:]\n",
    "tk_400_lat_subset = tk_400[:,:,lat_indices[:,0],:]"
   ]
  },
  {
   "cell_type": "code",
   "execution_count": null,
   "metadata": {
    "ExecuteTime": {
     "end_time": "2018-03-09T17:03:08.093538Z",
     "start_time": "2018-03-09T16:47:01.331Z"
    }
   },
   "outputs": [],
   "source": [
    "tk_diffs_lat_mean = numpy.nanmean(tk_diffs_lat_subset, axis=2)\n",
    "tk_400_lat_mean = numpy.nanmean(tk_400_lat_subset, axis=2)"
   ]
  },
  {
   "cell_type": "markdown",
   "metadata": {},
   "source": [
    "# ph_tot differences"
   ]
  },
  {
   "cell_type": "code",
   "execution_count": null,
   "metadata": {
    "ExecuteTime": {
     "end_time": "2018-03-09T17:03:08.094337Z",
     "start_time": "2018-03-09T16:47:01.340Z"
    }
   },
   "outputs": [],
   "source": [
    "ph_tot_diffs = ph_tot_1000 - ph_tot_400"
   ]
  },
  {
   "cell_type": "raw",
   "metadata": {},
   "source": [
    "ph_tot_diffs_landmask = numpy.copy(ph_tot_diffs)\n",
    "ph_tot_diffs_landmask[:,:,landmask==0]=numpy.nan\n",
    "\n",
    "ph_tot_400_landmask = numpy.copy(ph_tot_400)\n",
    "ph_tot_400_landmask[:,:,landmask==0]=numpy.nan"
   ]
  },
  {
   "cell_type": "code",
   "execution_count": null,
   "metadata": {
    "ExecuteTime": {
     "end_time": "2018-03-09T17:03:08.095072Z",
     "start_time": "2018-03-09T16:47:01.445Z"
    }
   },
   "outputs": [],
   "source": [
    "ph_tot_diffs_lat_subset = ph_tot_diffs[:,:,lat_indices[:,0],:]"
   ]
  },
  {
   "cell_type": "code",
   "execution_count": null,
   "metadata": {
    "ExecuteTime": {
     "end_time": "2018-03-09T17:03:08.095869Z",
     "start_time": "2018-03-09T16:47:01.450Z"
    }
   },
   "outputs": [],
   "source": [
    "ph_tot_diffs_lat_mean = numpy.nanmean(ph_tot_diffs_lat_subset, axis=2)"
   ]
  },
  {
   "cell_type": "markdown",
   "metadata": {},
   "source": [
    "# p_tot differences"
   ]
  },
  {
   "cell_type": "code",
   "execution_count": null,
   "metadata": {
    "ExecuteTime": {
     "end_time": "2018-03-09T17:03:08.096679Z",
     "start_time": "2018-03-09T16:47:01.462Z"
    }
   },
   "outputs": [],
   "source": [
    "p_tot_diffs = p_tot_1000 - p_tot_400"
   ]
  },
  {
   "cell_type": "code",
   "execution_count": null,
   "metadata": {
    "ExecuteTime": {
     "end_time": "2018-03-09T17:03:08.097475Z",
     "start_time": "2018-03-09T16:47:01.468Z"
    }
   },
   "outputs": [],
   "source": [
    "p_tot_diffs_lat_subset = p_tot_diffs[:,:,lat_indices[:,0],:]"
   ]
  },
  {
   "cell_type": "code",
   "execution_count": null,
   "metadata": {
    "ExecuteTime": {
     "end_time": "2018-03-09T17:03:08.098282Z",
     "start_time": "2018-03-09T16:47:01.473Z"
    }
   },
   "outputs": [],
   "source": [
    "p_tot_diffs_lat_mean = numpy.nanmean(p_tot_diffs_lat_subset, axis=2)"
   ]
  },
  {
   "cell_type": "markdown",
   "metadata": {},
   "source": [
    "# calculate MSE on pressure levels"
   ]
  },
  {
   "cell_type": "raw",
   "metadata": {
    "ExecuteTime": {
     "end_time": "2018-03-03T00:41:13.244231Z",
     "start_time": "2018-03-03T00:41:07.871662Z"
    }
   },
   "source": [
    "mse_400 = c_p*tk_400 + ph_tot_400 + L_v*qvapor_400\n",
    "mse_1000 = c_p*tk_1000 + ph_tot_1000 + L_v*qvapor_1000"
   ]
  },
  {
   "cell_type": "markdown",
   "metadata": {},
   "source": [
    "# save mse as npy file"
   ]
  },
  {
   "cell_type": "raw",
   "metadata": {
    "ExecuteTime": {
     "end_time": "2018-03-03T00:41:17.417884Z",
     "start_time": "2018-03-03T00:41:13.245851Z"
    }
   },
   "source": [
    "numpy.save('DATA_mse_400.npy', mse_400)\n",
    "numpy.save('DATA_mse_1000.npy', mse_1000)"
   ]
  },
  {
   "cell_type": "markdown",
   "metadata": {},
   "source": [
    "# open mse from npy files"
   ]
  },
  {
   "cell_type": "code",
   "execution_count": null,
   "metadata": {
    "ExecuteTime": {
     "end_time": "2018-03-09T17:03:08.099058Z",
     "start_time": "2018-03-09T16:47:01.686Z"
    }
   },
   "outputs": [],
   "source": [
    "mse_400 = numpy.load('./DATA_mse_400.npy')\n",
    "mse_1000 = numpy.load('./DATA_mse_1000.npy')"
   ]
  },
  {
   "cell_type": "code",
   "execution_count": null,
   "metadata": {
    "ExecuteTime": {
     "end_time": "2018-03-09T17:03:08.099877Z",
     "start_time": "2018-03-09T16:47:01.693Z"
    }
   },
   "outputs": [],
   "source": [
    "mse_diffs = mse_1000 - mse_400"
   ]
  },
  {
   "cell_type": "raw",
   "metadata": {},
   "source": [
    "mse_diffs_landmask = numpy.copy(mse_diffs)\n",
    "mse_diffs_landmask[:,:,landmask==0]=numpy.nan\n",
    "\n",
    "mse_400_landmask = numpy.copy(mse_400)\n",
    "mse_400_landmask[:,:,landmask==0]=numpy.nan\n",
    "\n",
    "mse_1000_landmask = numpy.copy(mse_1000)\n",
    "mse_1000_landmask[:,:,landmask==0]=numpy.nan"
   ]
  },
  {
   "cell_type": "code",
   "execution_count": null,
   "metadata": {
    "ExecuteTime": {
     "end_time": "2018-03-09T17:03:08.100678Z",
     "start_time": "2018-03-09T16:47:01.818Z"
    }
   },
   "outputs": [],
   "source": [
    "#mse_diffs_lat_subset = mse_diffs_landmask[:,:,lat_indices[:,0],:]\n",
    "#mse_400_lat_subset = mse_400_landmask[:,:,lat_indices[:,0],:]\n",
    "#mse_1000_lat_subset = mse_1000_landmask[:,:,lat_indices[:,0],:]\n",
    "\n",
    "mse_diffs_lat_subset = mse_diffs[:,:,lat_indices[:,0],:]\n",
    "mse_400_lat_subset = mse_400[:,:,lat_indices[:,0],:]\n",
    "mse_1000_lat_subset = mse_1000[:,:,lat_indices[:,0],:]"
   ]
  },
  {
   "cell_type": "code",
   "execution_count": null,
   "metadata": {
    "ExecuteTime": {
     "end_time": "2018-03-09T17:03:08.101467Z",
     "start_time": "2018-03-09T16:47:01.823Z"
    }
   },
   "outputs": [],
   "source": [
    "mse_diffs_lat_mean = numpy.nanmean(mse_diffs_lat_subset, axis=2)\n",
    "mse_400_lat_mean = numpy.nanmean(mse_400_lat_subset, axis=2)"
   ]
  },
  {
   "cell_type": "markdown",
   "metadata": {},
   "source": [
    "# u and w differences"
   ]
  },
  {
   "cell_type": "code",
   "execution_count": null,
   "metadata": {
    "ExecuteTime": {
     "end_time": "2018-03-09T17:03:08.102239Z",
     "start_time": "2018-03-09T16:47:01.832Z"
    }
   },
   "outputs": [],
   "source": [
    "u_diffs = u_1000-u_400\n",
    "w_diffs = w_1000-w_400"
   ]
  },
  {
   "cell_type": "code",
   "execution_count": null,
   "metadata": {
    "ExecuteTime": {
     "end_time": "2018-03-09T17:03:08.103005Z",
     "start_time": "2018-03-09T16:47:01.839Z"
    }
   },
   "outputs": [],
   "source": [
    "u_diffs_lat_subset = u_diffs[:,:,lat_indices[:,0],:]\n",
    "u_400_lat_subset = u_400[:,:,lat_indices[:,0],:]\n",
    "\n",
    "w_diffs_lat_subset = w_diffs[:,:,lat_indices[:,0],:]\n",
    "w_400_lat_subset = w_400[:,:,lat_indices[:,0],:]"
   ]
  },
  {
   "cell_type": "code",
   "execution_count": null,
   "metadata": {
    "ExecuteTime": {
     "end_time": "2018-03-09T17:03:08.103734Z",
     "start_time": "2018-03-09T16:47:01.845Z"
    }
   },
   "outputs": [],
   "source": [
    "u_diffs_lat_mean = numpy.nanmean(u_diffs_lat_subset, axis=2)\n",
    "w_diffs_lat_mean = numpy.nanmean(w_diffs_lat_subset, axis=2)\n",
    "\n",
    "u_400_lat_mean = numpy.nanmean(u_400_lat_subset, axis=2)\n",
    "w_400_lat_mean = numpy.nanmean(w_400_lat_subset, axis=2)"
   ]
  },
  {
   "cell_type": "markdown",
   "metadata": {},
   "source": [
    "# PBLH differences"
   ]
  },
  {
   "cell_type": "code",
   "execution_count": null,
   "metadata": {
    "ExecuteTime": {
     "end_time": "2018-03-09T17:03:08.104515Z",
     "start_time": "2018-03-09T16:47:01.855Z"
    }
   },
   "outputs": [],
   "source": [
    "pblh_diffs = pblh_1000 - pblh_400"
   ]
  },
  {
   "cell_type": "code",
   "execution_count": null,
   "metadata": {
    "ExecuteTime": {
     "end_time": "2018-03-09T17:03:08.105288Z",
     "start_time": "2018-03-09T16:47:01.862Z"
    }
   },
   "outputs": [],
   "source": [
    "pblh_diffs_landmask = numpy.copy(pblh_diffs)\n",
    "pblh_diffs_landmask[:,landmask==0]=numpy.nan\n",
    "pblh_diffs_landmask[pblh_diffs_landmask==9.96921e36]=numpy.nan"
   ]
  },
  {
   "cell_type": "code",
   "execution_count": null,
   "metadata": {
    "ExecuteTime": {
     "end_time": "2018-03-09T17:03:08.106039Z",
     "start_time": "2018-03-09T16:47:01.869Z"
    }
   },
   "outputs": [],
   "source": [
    "pblh_400_landmask = numpy.copy(pblh_400)\n",
    "pblh_400_landmask[:,landmask==0]=numpy.nan\n",
    "#pblh_400_landmask[pblh_400_landmask==9.96921e36]=numpy.nan"
   ]
  },
  {
   "cell_type": "code",
   "execution_count": null,
   "metadata": {
    "ExecuteTime": {
     "end_time": "2018-03-09T17:03:08.106828Z",
     "start_time": "2018-03-09T16:47:01.874Z"
    }
   },
   "outputs": [],
   "source": [
    "pblh_1000_landmask = numpy.copy(pblh_1000)\n",
    "pblh_1000_landmask[:,landmask==0]=numpy.nan\n",
    "#pblh_1000_landmask[pblh_1000_landmask==9.96921e36]=numpy.nan"
   ]
  },
  {
   "cell_type": "code",
   "execution_count": null,
   "metadata": {
    "ExecuteTime": {
     "end_time": "2018-03-09T17:03:08.107569Z",
     "start_time": "2018-03-09T16:47:01.880Z"
    }
   },
   "outputs": [],
   "source": [
    "pblh_diffs_lat_subset = pblh_diffs_landmask[:,lat_indices[:,0],:]\n",
    "pblh_400_lat_subset = pblh_400_landmask[:,lat_indices[:,0],:]\n",
    "pblh_1000_lat_subset = pblh_1000_landmask[:,lat_indices[:,0],:]"
   ]
  },
  {
   "cell_type": "code",
   "execution_count": null,
   "metadata": {
    "ExecuteTime": {
     "end_time": "2018-03-09T17:03:08.108374Z",
     "start_time": "2018-03-09T16:47:01.887Z"
    }
   },
   "outputs": [],
   "source": [
    "pblh_diffs_lat_mean = numpy.nanmean(pblh_diffs_lat_subset, axis=1)\n",
    "pblh_400_lat_mean = numpy.nanmean(pblh_400_lat_subset, axis=1)\n",
    "pblh_1000_lat_mean = numpy.nanmean(pblh_1000_lat_subset, axis=1)"
   ]
  },
  {
   "cell_type": "markdown",
   "metadata": {},
   "source": [
    "# 3 hourly u and w means"
   ]
  },
  {
   "cell_type": "code",
   "execution_count": null,
   "metadata": {
    "ExecuteTime": {
     "end_time": "2018-03-09T17:03:08.109158Z",
     "start_time": "2018-03-09T16:47:01.896Z"
    }
   },
   "outputs": [],
   "source": [
    "u_400_t00mean = numpy.nanmean(u_400_lat_mean[skip_time:,:,:][times_00,:,:], axis=0)\n",
    "u_400_t03mean = numpy.nanmean(u_400_lat_mean[skip_time:,:,:][times_03,:,:], axis=0)\n",
    "u_400_t06mean = numpy.nanmean(u_400_lat_mean[skip_time:,:,:][times_06,:,:], axis=0)\n",
    "u_400_t09mean = numpy.nanmean(u_400_lat_mean[skip_time:,:,:][times_09,:,:], axis=0)\n",
    "u_400_t12mean = numpy.nanmean(u_400_lat_mean[skip_time:,:,:][times_12,:,:], axis=0)\n",
    "u_400_t15mean = numpy.nanmean(u_400_lat_mean[skip_time:,:,:][times_15,:,:], axis=0)\n",
    "u_400_t18mean = numpy.nanmean(u_400_lat_mean[skip_time:,:,:][times_18,:,:], axis=0)\n",
    "u_400_t21mean = numpy.nanmean(u_400_lat_mean[skip_time:,:,:][times_21,:,:], axis=0)\n",
    "\n",
    "u_400_array = numpy.array([u_400_t00mean, u_400_t03mean, u_400_t06mean, u_400_t09mean, u_400_t12mean, u_400_t15mean, u_400_t18mean, u_400_t21mean])"
   ]
  },
  {
   "cell_type": "code",
   "execution_count": null,
   "metadata": {
    "ExecuteTime": {
     "end_time": "2018-03-09T17:03:08.109884Z",
     "start_time": "2018-03-09T16:47:01.902Z"
    }
   },
   "outputs": [],
   "source": [
    "w_400_t00mean = numpy.nanmean(w_400_lat_mean[skip_time:,:,:][times_00,:,:], axis=0)\n",
    "w_400_t03mean = numpy.nanmean(w_400_lat_mean[skip_time:,:,:][times_03,:,:], axis=0)\n",
    "w_400_t06mean = numpy.nanmean(w_400_lat_mean[skip_time:,:,:][times_06,:,:], axis=0)\n",
    "w_400_t09mean = numpy.nanmean(w_400_lat_mean[skip_time:,:,:][times_09,:,:], axis=0)\n",
    "w_400_t12mean = numpy.nanmean(w_400_lat_mean[skip_time:,:,:][times_12,:,:], axis=0)\n",
    "w_400_t15mean = numpy.nanmean(w_400_lat_mean[skip_time:,:,:][times_15,:,:], axis=0)\n",
    "w_400_t18mean = numpy.nanmean(w_400_lat_mean[skip_time:,:,:][times_18,:,:], axis=0)\n",
    "w_400_t21mean = numpy.nanmean(w_400_lat_mean[skip_time:,:,:][times_21,:,:], axis=0)\n",
    "\n",
    "w_400_array = numpy.array([w_400_t00mean, w_400_t03mean, w_400_t06mean, w_400_t09mean, w_400_t12mean, w_400_t15mean, w_400_t18mean, w_400_t21mean])"
   ]
  },
  {
   "cell_type": "code",
   "execution_count": null,
   "metadata": {
    "ExecuteTime": {
     "end_time": "2018-03-09T17:03:08.110733Z",
     "start_time": "2018-03-09T16:47:01.909Z"
    }
   },
   "outputs": [],
   "source": [
    "u_diffs_t00mean = numpy.nanmean(u_diffs_lat_mean[skip_time:,:,:][times_00,:,:], axis=0)\n",
    "u_diffs_t03mean = numpy.nanmean(u_diffs_lat_mean[skip_time:,:,:][times_03,:,:], axis=0)\n",
    "u_diffs_t06mean = numpy.nanmean(u_diffs_lat_mean[skip_time:,:,:][times_06,:,:], axis=0)\n",
    "u_diffs_t09mean = numpy.nanmean(u_diffs_lat_mean[skip_time:,:,:][times_09,:,:], axis=0)\n",
    "u_diffs_t12mean = numpy.nanmean(u_diffs_lat_mean[skip_time:,:,:][times_12,:,:], axis=0)\n",
    "u_diffs_t15mean = numpy.nanmean(u_diffs_lat_mean[skip_time:,:,:][times_15,:,:], axis=0)\n",
    "u_diffs_t18mean = numpy.nanmean(u_diffs_lat_mean[skip_time:,:,:][times_18,:,:], axis=0)\n",
    "u_diffs_t21mean = numpy.nanmean(u_diffs_lat_mean[skip_time:,:,:][times_21,:,:], axis=0)\n",
    "\n",
    "u_diffs_array = numpy.array([u_diffs_t00mean, u_diffs_t03mean, u_diffs_t06mean, u_diffs_t09mean, u_diffs_t12mean, u_diffs_t15mean, u_diffs_t18mean, u_diffs_t21mean])"
   ]
  },
  {
   "cell_type": "code",
   "execution_count": null,
   "metadata": {
    "ExecuteTime": {
     "end_time": "2018-03-09T17:03:08.111513Z",
     "start_time": "2018-03-09T16:47:01.915Z"
    }
   },
   "outputs": [],
   "source": [
    "w_diffs_t00mean = numpy.nanmean(w_diffs_lat_mean[skip_time:,:,:][times_00,:,:], axis=0)\n",
    "w_diffs_t03mean = numpy.nanmean(w_diffs_lat_mean[skip_time:,:,:][times_03,:,:], axis=0)\n",
    "w_diffs_t06mean = numpy.nanmean(w_diffs_lat_mean[skip_time:,:,:][times_06,:,:], axis=0)\n",
    "w_diffs_t09mean = numpy.nanmean(w_diffs_lat_mean[skip_time:,:,:][times_09,:,:], axis=0)\n",
    "w_diffs_t12mean = numpy.nanmean(w_diffs_lat_mean[skip_time:,:,:][times_12,:,:], axis=0)\n",
    "w_diffs_t15mean = numpy.nanmean(w_diffs_lat_mean[skip_time:,:,:][times_15,:,:], axis=0)\n",
    "w_diffs_t18mean = numpy.nanmean(w_diffs_lat_mean[skip_time:,:,:][times_18,:,:], axis=0)\n",
    "w_diffs_t21mean = numpy.nanmean(w_diffs_lat_mean[skip_time:,:,:][times_21,:,:], axis=0)\n",
    "\n",
    "w_diffs_array = numpy.array([w_diffs_t00mean, w_diffs_t03mean, w_diffs_t06mean, w_diffs_t09mean, w_diffs_t12mean, w_diffs_t15mean, w_diffs_t18mean, w_diffs_t21mean])"
   ]
  },
  {
   "cell_type": "markdown",
   "metadata": {},
   "source": [
    "# 3 hourly means of PBLH and QVAPOR lat means"
   ]
  },
  {
   "cell_type": "code",
   "execution_count": null,
   "metadata": {
    "ExecuteTime": {
     "end_time": "2018-03-09T17:03:08.112282Z",
     "start_time": "2018-03-09T16:47:01.925Z"
    }
   },
   "outputs": [],
   "source": [
    "mse_400_t00mean = numpy.nanmean(mse_400_lat_mean[skip_time:,:,:][times_00,:,:], axis=0)\n",
    "mse_400_t03mean = numpy.nanmean(mse_400_lat_mean[skip_time:,:,:][times_03,:,:], axis=0)\n",
    "mse_400_t06mean = numpy.nanmean(mse_400_lat_mean[skip_time:,:,:][times_06,:,:], axis=0)\n",
    "mse_400_t09mean = numpy.nanmean(mse_400_lat_mean[skip_time:,:,:][times_09,:,:], axis=0)\n",
    "mse_400_t12mean = numpy.nanmean(mse_400_lat_mean[skip_time:,:,:][times_12,:,:], axis=0)\n",
    "mse_400_t15mean = numpy.nanmean(mse_400_lat_mean[skip_time:,:,:][times_15,:,:], axis=0)\n",
    "mse_400_t18mean = numpy.nanmean(mse_400_lat_mean[skip_time:,:,:][times_18,:,:], axis=0)\n",
    "mse_400_t21mean = numpy.nanmean(mse_400_lat_mean[skip_time:,:,:][times_21,:,:], axis=0)\n",
    "\n",
    "mse_400_array = numpy.array([mse_400_t00mean, mse_400_t03mean, mse_400_t06mean, mse_400_t09mean, mse_400_t12mean, mse_400_t15mean, mse_400_t18mean, mse_400_t21mean])\n"
   ]
  },
  {
   "cell_type": "code",
   "execution_count": null,
   "metadata": {
    "ExecuteTime": {
     "end_time": "2018-03-09T17:03:08.113042Z",
     "start_time": "2018-03-09T16:47:01.931Z"
    }
   },
   "outputs": [],
   "source": [
    "# calculate 3 hourly means for 400\n",
    "mse_diffs_t00mean = numpy.nanmean(mse_diffs_lat_mean[skip_time:,:,:][times_00,:,:], axis=0)\n",
    "mse_diffs_t03mean = numpy.nanmean(mse_diffs_lat_mean[skip_time:,:,:][times_03,:,:], axis=0)\n",
    "mse_diffs_t06mean = numpy.nanmean(mse_diffs_lat_mean[skip_time:,:,:][times_06,:,:], axis=0)\n",
    "mse_diffs_t09mean = numpy.nanmean(mse_diffs_lat_mean[skip_time:,:,:][times_09,:,:], axis=0)\n",
    "mse_diffs_t12mean = numpy.nanmean(mse_diffs_lat_mean[skip_time:,:,:][times_12,:,:], axis=0)\n",
    "mse_diffs_t15mean = numpy.nanmean(mse_diffs_lat_mean[skip_time:,:,:][times_15,:,:], axis=0)\n",
    "mse_diffs_t18mean = numpy.nanmean(mse_diffs_lat_mean[skip_time:,:,:][times_18,:,:], axis=0)\n",
    "mse_diffs_t21mean = numpy.nanmean(mse_diffs_lat_mean[skip_time:,:,:][times_21,:,:], axis=0)\n",
    "\n",
    "mse_diffs_array = numpy.array([mse_diffs_t00mean, mse_diffs_t03mean, mse_diffs_t06mean, mse_diffs_t09mean, mse_diffs_t12mean, mse_diffs_t15mean, mse_diffs_t18mean, mse_diffs_t21mean])\n",
    "\n",
    "# monthly mean\n",
    "#mse_diffs_time_mean = numpy.mean(mse_1000[skip_time:,:,:] - mse_diffs[skip_time:,:,:], axis=0)\n",
    "#mse_diffs_time_mean_landmask = numpy.copy(mse_diffs_time_mean)\n",
    "#mse_diffs_time_mean_landmask[landmask==0] = numpy.nan"
   ]
  },
  {
   "cell_type": "markdown",
   "metadata": {},
   "source": [
    "# qvapor"
   ]
  },
  {
   "cell_type": "code",
   "execution_count": null,
   "metadata": {
    "ExecuteTime": {
     "end_time": "2018-03-09T17:03:08.113789Z",
     "start_time": "2018-03-09T16:47:01.942Z"
    }
   },
   "outputs": [],
   "source": [
    "qvapor_400_t00mean = numpy.nanmean(qvapor_400_lat_mean[skip_time:,:,:][times_00,:,:], axis=0)\n",
    "qvapor_400_t03mean = numpy.nanmean(qvapor_400_lat_mean[skip_time:,:,:][times_03,:,:], axis=0)\n",
    "qvapor_400_t06mean = numpy.nanmean(qvapor_400_lat_mean[skip_time:,:,:][times_06,:,:], axis=0)\n",
    "qvapor_400_t09mean = numpy.nanmean(qvapor_400_lat_mean[skip_time:,:,:][times_09,:,:], axis=0)\n",
    "qvapor_400_t12mean = numpy.nanmean(qvapor_400_lat_mean[skip_time:,:,:][times_12,:,:], axis=0)\n",
    "qvapor_400_t15mean = numpy.nanmean(qvapor_400_lat_mean[skip_time:,:,:][times_15,:,:], axis=0)\n",
    "qvapor_400_t18mean = numpy.nanmean(qvapor_400_lat_mean[skip_time:,:,:][times_18,:,:], axis=0)\n",
    "qvapor_400_t21mean = numpy.nanmean(qvapor_400_lat_mean[skip_time:,:,:][times_21,:,:], axis=0)\n",
    "\n",
    "qvapor_400_array = numpy.array([qvapor_400_t00mean, qvapor_400_t03mean, qvapor_400_t06mean, qvapor_400_t09mean, qvapor_400_t12mean, qvapor_400_t15mean, qvapor_400_t18mean, qvapor_400_t21mean])\n"
   ]
  },
  {
   "cell_type": "code",
   "execution_count": null,
   "metadata": {
    "ExecuteTime": {
     "end_time": "2018-03-09T17:03:08.114552Z",
     "start_time": "2018-03-09T16:47:01.948Z"
    }
   },
   "outputs": [],
   "source": [
    "# calculate 3 hourly means for 400\n",
    "qvapor_diffs_t00mean = numpy.nanmean(qvapor_diffs_lat_mean[skip_time:,:,:][times_00,:,:], axis=0)\n",
    "qvapor_diffs_t03mean = numpy.nanmean(qvapor_diffs_lat_mean[skip_time:,:,:][times_03,:,:], axis=0)\n",
    "qvapor_diffs_t06mean = numpy.nanmean(qvapor_diffs_lat_mean[skip_time:,:,:][times_06,:,:], axis=0)\n",
    "qvapor_diffs_t09mean = numpy.nanmean(qvapor_diffs_lat_mean[skip_time:,:,:][times_09,:,:], axis=0)\n",
    "qvapor_diffs_t12mean = numpy.nanmean(qvapor_diffs_lat_mean[skip_time:,:,:][times_12,:,:], axis=0)\n",
    "qvapor_diffs_t15mean = numpy.nanmean(qvapor_diffs_lat_mean[skip_time:,:,:][times_15,:,:], axis=0)\n",
    "qvapor_diffs_t18mean = numpy.nanmean(qvapor_diffs_lat_mean[skip_time:,:,:][times_18,:,:], axis=0)\n",
    "qvapor_diffs_t21mean = numpy.nanmean(qvapor_diffs_lat_mean[skip_time:,:,:][times_21,:,:], axis=0)\n",
    "\n",
    "qvapor_diffs_array = numpy.array([qvapor_diffs_t00mean, qvapor_diffs_t03mean, qvapor_diffs_t06mean, qvapor_diffs_t09mean, qvapor_diffs_t12mean, qvapor_diffs_t15mean, qvapor_diffs_t18mean, qvapor_diffs_t21mean])\n",
    "\n",
    "# monthly mean\n",
    "#qvapor_diffs_time_mean = numpy.mean(qvapor_1000[skip_time:,:,:] - qvapor_diffs[skip_time:,:,:], axis=0)\n",
    "#qvapor_diffs_time_mean_landmask = numpy.copy(qvapor_diffs_time_mean)\n",
    "#qvapor_diffs_time_mean_landmask[landmask==0] = numpy.nan"
   ]
  },
  {
   "cell_type": "markdown",
   "metadata": {},
   "source": [
    "# tk 3hr means"
   ]
  },
  {
   "cell_type": "code",
   "execution_count": null,
   "metadata": {
    "ExecuteTime": {
     "end_time": "2018-03-09T17:03:08.115343Z",
     "start_time": "2018-03-09T16:47:01.960Z"
    }
   },
   "outputs": [],
   "source": [
    "tk_400_t00mean = numpy.nanmean(tk_400_lat_mean[skip_time:,:,:][times_00,:,:], axis=0)\n",
    "tk_400_t03mean = numpy.nanmean(tk_400_lat_mean[skip_time:,:,:][times_03,:,:], axis=0)\n",
    "tk_400_t06mean = numpy.nanmean(tk_400_lat_mean[skip_time:,:,:][times_06,:,:], axis=0)\n",
    "tk_400_t09mean = numpy.nanmean(tk_400_lat_mean[skip_time:,:,:][times_09,:,:], axis=0)\n",
    "tk_400_t12mean = numpy.nanmean(tk_400_lat_mean[skip_time:,:,:][times_12,:,:], axis=0)\n",
    "tk_400_t15mean = numpy.nanmean(tk_400_lat_mean[skip_time:,:,:][times_15,:,:], axis=0)\n",
    "tk_400_t18mean = numpy.nanmean(tk_400_lat_mean[skip_time:,:,:][times_18,:,:], axis=0)\n",
    "tk_400_t21mean = numpy.nanmean(tk_400_lat_mean[skip_time:,:,:][times_21,:,:], axis=0)\n",
    "\n",
    "tk_400_array = numpy.array([tk_400_t00mean, tk_400_t03mean, tk_400_t06mean, tk_400_t09mean, tk_400_t12mean, tk_400_t15mean, tk_400_t18mean, tk_400_t21mean])"
   ]
  },
  {
   "cell_type": "code",
   "execution_count": null,
   "metadata": {
    "ExecuteTime": {
     "end_time": "2018-03-09T17:03:08.116234Z",
     "start_time": "2018-03-09T16:47:01.967Z"
    }
   },
   "outputs": [],
   "source": [
    "# calculate 3 hourly means for 400\n",
    "tk_diffs_t00mean = numpy.nanmean(tk_diffs_lat_mean[skip_time:,:,:][times_00,:,:], axis=0)\n",
    "tk_diffs_t03mean = numpy.nanmean(tk_diffs_lat_mean[skip_time:,:,:][times_03,:,:], axis=0)\n",
    "tk_diffs_t06mean = numpy.nanmean(tk_diffs_lat_mean[skip_time:,:,:][times_06,:,:], axis=0)\n",
    "tk_diffs_t09mean = numpy.nanmean(tk_diffs_lat_mean[skip_time:,:,:][times_09,:,:], axis=0)\n",
    "tk_diffs_t12mean = numpy.nanmean(tk_diffs_lat_mean[skip_time:,:,:][times_12,:,:], axis=0)\n",
    "tk_diffs_t15mean = numpy.nanmean(tk_diffs_lat_mean[skip_time:,:,:][times_15,:,:], axis=0)\n",
    "tk_diffs_t18mean = numpy.nanmean(tk_diffs_lat_mean[skip_time:,:,:][times_18,:,:], axis=0)\n",
    "tk_diffs_t21mean = numpy.nanmean(tk_diffs_lat_mean[skip_time:,:,:][times_21,:,:], axis=0)\n",
    "\n",
    "tk_diffs_array = numpy.array([tk_diffs_t00mean, tk_diffs_t03mean, tk_diffs_t06mean, tk_diffs_t09mean, tk_diffs_t12mean, tk_diffs_t15mean, tk_diffs_t18mean, tk_diffs_t21mean])\n",
    "\n",
    "# monthly mean\n",
    "#tk_diffs_time_mean = numpy.mean(tk_1000[skip_time:,:,:] - tk_diffs[skip_time:,:,:], axis=0)\n",
    "#tk_diffs_time_mean_landmask = numpy.copy(tk_diffs_time_mean)\n",
    "#tk_diffs_time_mean_landmask[landmask==0] = numpy.nan"
   ]
  },
  {
   "cell_type": "markdown",
   "metadata": {},
   "source": [
    "# p_tot means"
   ]
  },
  {
   "cell_type": "code",
   "execution_count": null,
   "metadata": {
    "ExecuteTime": {
     "end_time": "2018-03-09T17:03:08.117025Z",
     "start_time": "2018-03-09T16:47:01.976Z"
    }
   },
   "outputs": [],
   "source": [
    "# calculate 3 hourly means for 400\n",
    "p_tot_diffs_t00mean = numpy.nanmean(p_tot_diffs_lat_mean[skip_time:,:,:][times_00,:,:], axis=0)\n",
    "p_tot_diffs_t03mean = numpy.nanmean(p_tot_diffs_lat_mean[skip_time:,:,:][times_03,:,:], axis=0)\n",
    "p_tot_diffs_t06mean = numpy.nanmean(p_tot_diffs_lat_mean[skip_time:,:,:][times_06,:,:], axis=0)\n",
    "p_tot_diffs_t09mean = numpy.nanmean(p_tot_diffs_lat_mean[skip_time:,:,:][times_09,:,:], axis=0)\n",
    "p_tot_diffs_t12mean = numpy.nanmean(p_tot_diffs_lat_mean[skip_time:,:,:][times_12,:,:], axis=0)\n",
    "p_tot_diffs_t15mean = numpy.nanmean(p_tot_diffs_lat_mean[skip_time:,:,:][times_15,:,:], axis=0)\n",
    "p_tot_diffs_t18mean = numpy.nanmean(p_tot_diffs_lat_mean[skip_time:,:,:][times_18,:,:], axis=0)\n",
    "p_tot_diffs_t21mean = numpy.nanmean(p_tot_diffs_lat_mean[skip_time:,:,:][times_21,:,:], axis=0)\n",
    "\n",
    "p_tot_diffs_array = numpy.array([p_tot_diffs_t00mean, p_tot_diffs_t03mean, p_tot_diffs_t06mean, p_tot_diffs_t09mean, p_tot_diffs_t12mean, p_tot_diffs_t15mean, p_tot_diffs_t18mean, p_tot_diffs_t21mean])\n",
    "\n",
    "# monthly mean\n",
    "#p_tot_diffs_time_mean = numpy.mean(p_tot_1000[skip_time:,:,:] - p_tot_diffs[skip_time:,:,:], axis=0)\n",
    "#p_tot_diffs_time_mean_landmask = numpy.copy(p_tot_diffs_time_mean)\n",
    "#p_tot_diffs_time_mean_landmask[landmask==0] = numpy.nan"
   ]
  },
  {
   "cell_type": "markdown",
   "metadata": {},
   "source": [
    "# ph_tot means"
   ]
  },
  {
   "cell_type": "code",
   "execution_count": null,
   "metadata": {
    "ExecuteTime": {
     "end_time": "2018-03-09T17:03:08.117844Z",
     "start_time": "2018-03-09T16:47:01.986Z"
    }
   },
   "outputs": [],
   "source": [
    "# calculate 3 hourly means for 400\n",
    "ph_tot_diffs_t00mean = numpy.nanmean(ph_tot_diffs_lat_mean[skip_time:,:,:][times_00,:,:], axis=0)\n",
    "ph_tot_diffs_t03mean = numpy.nanmean(ph_tot_diffs_lat_mean[skip_time:,:,:][times_03,:,:], axis=0)\n",
    "ph_tot_diffs_t06mean = numpy.nanmean(ph_tot_diffs_lat_mean[skip_time:,:,:][times_06,:,:], axis=0)\n",
    "ph_tot_diffs_t09mean = numpy.nanmean(ph_tot_diffs_lat_mean[skip_time:,:,:][times_09,:,:], axis=0)\n",
    "ph_tot_diffs_t12mean = numpy.nanmean(ph_tot_diffs_lat_mean[skip_time:,:,:][times_12,:,:], axis=0)\n",
    "ph_tot_diffs_t15mean = numpy.nanmean(ph_tot_diffs_lat_mean[skip_time:,:,:][times_15,:,:], axis=0)\n",
    "ph_tot_diffs_t18mean = numpy.nanmean(ph_tot_diffs_lat_mean[skip_time:,:,:][times_18,:,:], axis=0)\n",
    "ph_tot_diffs_t21mean = numpy.nanmean(ph_tot_diffs_lat_mean[skip_time:,:,:][times_21,:,:], axis=0)\n",
    "\n",
    "ph_tot_diffs_array = numpy.array([ph_tot_diffs_t00mean, ph_tot_diffs_t03mean, ph_tot_diffs_t06mean, ph_tot_diffs_t09mean, ph_tot_diffs_t12mean, ph_tot_diffs_t15mean, ph_tot_diffs_t18mean, ph_tot_diffs_t21mean])\n",
    "\n",
    "# monthly mean\n",
    "#ph_tot_diffs_time_mean = numpy.mean(ph_tot_1000[skip_time:,:,:] - ph_tot_diffs[skip_time:,:,:], axis=0)\n",
    "#ph_tot_diffs_time_mean_landmask = numpy.copy(ph_tot_diffs_time_mean)\n",
    "#ph_tot_diffs_time_mean_landmask[landmask==0] = numpy.nan"
   ]
  },
  {
   "cell_type": "markdown",
   "metadata": {},
   "source": [
    "# PBLH means"
   ]
  },
  {
   "cell_type": "code",
   "execution_count": null,
   "metadata": {
    "ExecuteTime": {
     "end_time": "2018-03-09T17:03:08.118643Z",
     "start_time": "2018-03-09T16:47:01.997Z"
    }
   },
   "outputs": [],
   "source": [
    "# calculate 3 hourly means for 400\n",
    "pblh_400_t00mean = numpy.mean(pblh_400_lat_mean[skip_time:][times_00,:], axis=0)\n",
    "pblh_400_t03mean = numpy.mean(pblh_400_lat_mean[skip_time:][times_03,:], axis=0)\n",
    "pblh_400_t06mean = numpy.mean(pblh_400_lat_mean[skip_time:][times_06,:], axis=0)\n",
    "pblh_400_t09mean = numpy.mean(pblh_400_lat_mean[skip_time:][times_09,:], axis=0)\n",
    "pblh_400_t12mean = numpy.mean(pblh_400_lat_mean[skip_time:][times_12,:], axis=0)\n",
    "pblh_400_t15mean = numpy.mean(pblh_400_lat_mean[skip_time:][times_15,:], axis=0)\n",
    "pblh_400_t18mean = numpy.mean(pblh_400_lat_mean[skip_time:][times_18,:], axis=0)\n",
    "pblh_400_t21mean = numpy.mean(pblh_400_lat_mean[skip_time:][times_21,:], axis=0)\n",
    "\n",
    "pblh_1000_t00mean = numpy.mean(pblh_1000_lat_mean[skip_time:][times_00,:], axis=0)\n",
    "pblh_1000_t03mean = numpy.mean(pblh_1000_lat_mean[skip_time:][times_03,:], axis=0)\n",
    "pblh_1000_t06mean = numpy.mean(pblh_1000_lat_mean[skip_time:][times_06,:], axis=0)\n",
    "pblh_1000_t09mean = numpy.mean(pblh_1000_lat_mean[skip_time:][times_09,:], axis=0)\n",
    "pblh_1000_t12mean = numpy.mean(pblh_1000_lat_mean[skip_time:][times_12,:], axis=0)\n",
    "pblh_1000_t15mean = numpy.mean(pblh_1000_lat_mean[skip_time:][times_15,:], axis=0)\n",
    "pblh_1000_t18mean = numpy.mean(pblh_1000_lat_mean[skip_time:][times_18,:], axis=0)\n",
    "pblh_1000_t21mean = numpy.mean(pblh_1000_lat_mean[skip_time:][times_21,:], axis=0)\n",
    "\n",
    "pblh_400_array = numpy.array([pblh_400_t00mean, pblh_400_t03mean, pblh_400_t06mean, pblh_400_t09mean, pblh_400_t12mean, pblh_400_t15mean, pblh_400_t18mean, pblh_400_t21mean])\n",
    "pblh_1000_array = numpy.array([pblh_1000_t00mean, pblh_1000_t03mean, pblh_1000_t06mean, pblh_1000_t09mean, pblh_1000_t12mean, pblh_1000_t15mean, pblh_1000_t18mean, pblh_1000_t21mean])\n",
    "\n",
    "# monthly mean\n",
    "#pblh_diffs_time_mean = numpy.mean(pblh_1000[skip_time:,:,:] - pblh_400[skip_time:,:,:], axis=0)\n",
    "#pblh_diffs_time_mean_landmask = numpy.copy(pblh_diffs_time_mean)\n",
    "#pblh_diffs_time_mean_landmask[landmask==0] = numpy.nan"
   ]
  },
  {
   "cell_type": "markdown",
   "metadata": {},
   "source": [
    "# HGT_M subset"
   ]
  },
  {
   "cell_type": "code",
   "execution_count": null,
   "metadata": {
    "ExecuteTime": {
     "end_time": "2018-03-09T17:03:08.119428Z",
     "start_time": "2018-03-09T16:47:02.008Z"
    }
   },
   "outputs": [],
   "source": [
    "round(HGT_M.shape[0]/2)"
   ]
  },
  {
   "cell_type": "code",
   "execution_count": null,
   "metadata": {
    "ExecuteTime": {
     "end_time": "2018-03-09T17:03:08.120207Z",
     "start_time": "2018-03-09T16:47:02.016Z"
    }
   },
   "outputs": [],
   "source": [
    "HGT_M_lat_subset = HGT_M[lat_indices[:,0],:]\n",
    "HGT_M_lat_subset_maxvals = numpy.max(HGT_M_lat_subset, axis=0)\n",
    "HGT_M_lat_subset_equator = HGT_M[round(HGT_M_lat_subset.shape[0]/2),:]\n",
    "HGT_M_lat_subset_minvals = numpy.min(HGT_M_lat_subset, axis=0)\n",
    "HGT_M_lat_subset_mean = numpy.mean(HGT_M_lat_subset, axis=0)\n",
    "HGT_M_lat_subset_median = numpy.median(HGT_M_lat_subset, axis=0)"
   ]
  },
  {
   "cell_type": "markdown",
   "metadata": {},
   "source": [
    "# SET UP PLOT"
   ]
  },
  {
   "cell_type": "markdown",
   "metadata": {},
   "source": [
    "# background mse"
   ]
  },
  {
   "cell_type": "code",
   "execution_count": null,
   "metadata": {
    "ExecuteTime": {
     "end_time": "2018-03-09T17:03:08.121001Z",
     "start_time": "2018-03-09T16:47:02.032Z"
    }
   },
   "outputs": [],
   "source": [
    "minval=0.1 # for inferno:  0.18\n",
    "maxval=0.75 # for inferno: 1.0\n",
    "n=256\n",
    "full_cmap = mp.get_cmap('Blues_r')\n",
    "cmap_partial = matplotlib.colors.LinearSegmentedColormap.from_list('trunc({n},{a:.2f},{b:.2f})'.format(\\\n",
    "                                                                    n=full_cmap.name, \\\n",
    "                                                                    a=minval, b=maxval), \\\n",
    "                                                                    full_cmap(numpy.linspace(minval, maxval, n)))"
   ]
  },
  {
   "cell_type": "code",
   "execution_count": null,
   "metadata": {
    "ExecuteTime": {
     "end_time": "2018-03-09T17:03:08.121853Z",
     "start_time": "2018-03-09T16:47:02.039Z"
    },
    "scrolled": true
   },
   "outputs": [],
   "source": [
    "fontsize=12\n",
    "\n",
    "#nrows=4;ncols=2\n",
    "#fig,axes = mp.subplots(nrows=nrows,ncols=ncols,subplot_kw={'projection': cartopy.crs.PlateCarree()})\n",
    "#fig.set_size_inches(3.25,4)\n",
    "\n",
    "fig = mp.figure(figsize=(6.5,6))\n",
    "\n",
    "y_zero = numpy.zeros(xlong.shape[1])\n",
    "levels = numpy.arange(325,346,2.5)\n",
    "levels_qvapor = numpy.arange(7.5,17.6,2.5)\n",
    "\n",
    "xticks_deg_E=numpy.array((280,300,320))\n",
    "xticks = -(360-xticks_deg_E)\n",
    "xticks_format=[str(tick)+DEGREE_SIGN+'E' for tick in xticks_deg_E]\n",
    "\n",
    "nrows=4;ncols=2\n",
    "ax_list = []\n",
    "\n",
    "for t in range(8):\n",
    "    ax = fig.add_subplot(nrows,ncols,t+1)#, projection=cartopy.crs.PlateCarree())\n",
    "    \n",
    "    contour_plot = ax.contourf(xlong[0,:]+360.,z,mse_400_array[t]/1000.,\\\n",
    "                               levels=levels,\\\n",
    "                               cmap='Reds',extend='max')\n",
    "    #ax.plot(xlong[0,:]+360.,pblh_1000_array[t]/1000.,c='red',ls='--', label='ABLH high CO$_2$')\n",
    "    \n",
    "    contour_lines = ax.contour(xlong[0,:]+360.,z,qvapor_400_array[t]*1000.,\\\n",
    "                               levels=levels_qvapor,\\\n",
    "                               cmap=cmap_partial, extend='both')\n",
    "\n",
    "    ax.plot(xlong[0,:]+360.,pblh_400_array[t]/1000.,c='dodgerblue', label='control ABLH', lw=2)\n",
    "    \n",
    "    ax.tick_params(labelsize=fontsize)\n",
    "    ax.set_ylim(0,3)\n",
    "    ax.set_xlim(xlong.min()+55.+360.,xlong.max()+360.)\n",
    "    \n",
    "    ax.fill_between(xlong[0,:]+360., y_zero, HGT_M_lat_subset_mean/1000., facecolor='0.1', interpolate=True,zorder=2)\n",
    "    \n",
    "    ax.set_yticks([0,1,2,3])\n",
    "    ax.set_xticks([280,300,320])\n",
    "    ax.set_xticklabels(xticks_format)\n",
    "    ax.set_ylabel('km', fontsize=fontsize)\n",
    "    \n",
    "    ax.text(s='('+string.ascii_lowercase[t]+') hour '+hour_strings[t], x=0, y=1.02,\\\n",
    "            transform=ax.transAxes,fontsize=fontsize,ha='left',va='bottom')\n",
    "    \n",
    "    ax_list.append(ax)\n",
    "\n",
    "fig.tight_layout()\n",
    "\n",
    "top_pos = ax_list[1].get_position()\n",
    "bottom_pos = ax_list[7].get_position()\n",
    "\n",
    "ax_height = top_pos.y1-bottom_pos.y0\n",
    "\n",
    "cbar_axes = fig.add_axes([bottom_pos.x1+0.05, bottom_pos.y0, 0.03, ax_height*0.675])\n",
    "cbar = mp.colorbar(contour_plot, orientation='vertical', cax=cbar_axes)\n",
    "cbar_axes.tick_params(labelsize=fontsize)\n",
    "#cbar_axes.text(s='g kg$^{\\,-1}$', x=0.5, y=1.00666, transform=cbar_axes.transAxes, fontsize=fontsize, ha='center', va='bottom')\n",
    "cbar.set_label('moist static energy (kJ kg$^{\\,-1}$)', fontsize=fontsize)\n",
    "cbar.set_ticks(numpy.arange(325,346,5))\n",
    "\n",
    "cbar_lines_ax = fig.add_axes([bottom_pos.x1+0.05, bottom_pos.y0+ax_height*0.725, 0.03, ax_height*0.275])\n",
    "cbar_lines = fig.colorbar(contour_lines, cax=cbar_lines_ax)\n",
    "cbar_lines_ax.tick_params(labelsize=fontsize)#, length=0)\n",
    "cbar_lines.set_label('spec. hum. (g kg$^{\\,-1}$)', fontsize=fontsize)\n",
    "#cbar_lines_ax.get_children().set_linewidths([2]*7)\n",
    "#cbar_lines_ax.text(s='water\\nvapor', x=0, y=1.05, ha='left', va='bottom', \\\n",
    "#                  transform=cbar_lines_ax.transAxes, fontsize=fontsize)\n",
    "cbar_lines.outline.set_visible(False)\n",
    "cbar_lines_ax.tick_params(axis='y', which='both', right='off')\n",
    "cbar_lines_ax.get_children()[0].set_linewidths(2)\n",
    "cbar_lines_ax.get_children()[1].set_facecolor('None')\n",
    "cbar_lines_ax.get_children()[2].set_facecolor('None')\n",
    "\n",
    "\n",
    "#cbar_qvapor = mp.colorbar(contour_lines)\n",
    "\n",
    "handles, labels = ax_list[0].get_legend_handles_labels()\n",
    "legend = ax_list[0].legend(handles, labels, fontsize=fontsize, ncol=1, bbox_to_anchor=(.997,.993), \\\n",
    "                   edgecolor='None', facecolor='1', fancybox=False, bbox_transform=ax_list[0].transAxes, \\\n",
    "                   loc='upper right', labelspacing=0, \\\n",
    "                   borderaxespad=0, borderpad=0.25, handlelength=1.75, \\\n",
    "                   handletextpad=0.5, framealpha=0.666)\n",
    "\n",
    "fig.savefig('mse_400_cross_sections_zcoords.png', dpi=600, bbox_inches='tight', transparent=True)"
   ]
  },
  {
   "cell_type": "markdown",
   "metadata": {},
   "source": [
    "# background mse with q in energy units"
   ]
  },
  {
   "cell_type": "code",
   "execution_count": null,
   "metadata": {
    "ExecuteTime": {
     "end_time": "2018-03-09T17:03:08.122671Z",
     "start_time": "2018-03-09T16:47:02.049Z"
    }
   },
   "outputs": [],
   "source": [
    "fontsize=12\n",
    "\n",
    "#nrows=4;ncols=2\n",
    "#fig,axes = mp.subplots(nrows=nrows,ncols=ncols,subplot_kw={'projection': cartopy.crs.PlateCarree()})\n",
    "#fig.set_size_inches(3.25,4)\n",
    "\n",
    "fig = mp.figure(figsize=(6.5,6))\n",
    "\n",
    "y_zero = numpy.zeros(xlong.shape[1])\n",
    "levels = numpy.arange(325,346,2.5)\n",
    "levels_qvapor = numpy.arange(5,41,5) # kJ/kg\n",
    "\n",
    "xticks_deg_E=numpy.array((280,300,320))\n",
    "xticks = -(360-xticks_deg_E)\n",
    "xticks_format=[str(tick)+DEGREE_SIGN+'E' for tick in xticks_deg_E]\n",
    "\n",
    "z_indices=[2,6,7,8,9,10,11,12,13]\n",
    "every_nth_lon=10\n",
    "quiver_scale = 2.5 # 0.05 for 850-600, 0.1 for below 850\n",
    "quiver_shaft_width = 1.#.75\n",
    "quiver_key_scale = 5\n",
    "quiver_color = '0.1'\n",
    "quiver_head_length = 3\n",
    "quiver_head_axis_length = quiver_head_length\n",
    "\n",
    "nrows=4;ncols=2\n",
    "ax_list = []\n",
    "\n",
    "for t in range(8):\n",
    "    ax = fig.add_subplot(nrows,ncols,t+1)#, projection=cartopy.crs.PlateCarree())\n",
    "    \n",
    "    contour_plot = ax.contourf(xlong[0,:]+360.,z,mse_400_array[t]/1000.,\\\n",
    "                               levels=levels,\\\n",
    "                               cmap='Reds',extend='max')\n",
    "    #ax.plot(xlong[0,:]+360.,pblh_1000_array[t]/1000.,c='red',ls='--', label='ABLH high CO$_2$')\n",
    "    \n",
    "    contour_lines = ax.contour(xlong[0,:]+360.,z,qvapor_400_array[t]*L_v/1000.,\\\n",
    "                               levels=levels_qvapor,\\\n",
    "                               cmap=cmap_partial, extend='both')\n",
    "\n",
    "    ax.quiver(xlong[0,:][::every_nth_lon]+360.,z[z_indices],\\\n",
    "              u_400_array[t][z_indices,::every_nth_lon],\\\n",
    "              w_400_array[t][z_indices,::every_nth_lon]*1000.,\\\n",
    "              units='xy', scale=quiver_scale, \\\n",
    "              color=quiver_color, zorder=3)\n",
    "    \n",
    "    ax.plot(xlong[0,:]+360.,pblh_400_array[t]/1000.,c='dodgerblue', label='control ABLH', lw=2)\n",
    "    \n",
    "    ax.tick_params(labelsize=fontsize)\n",
    "    ax.set_ylim(0,3)\n",
    "    ax.set_xlim(xlong.min()+55.+360.,xlong.max()+360.)\n",
    "    \n",
    "    ax.fill_between(xlong[0,:]+360., y_zero, HGT_M_lat_subset_mean/1000., facecolor='0.1', interpolate=True,zorder=2)\n",
    "    \n",
    "    ax.set_yticks([0,1,2,3])\n",
    "    ax.set_xticks([280,300,320])\n",
    "    ax.set_xticklabels(xticks_format)\n",
    "    ax.set_ylabel('km', fontsize=fontsize)\n",
    "    \n",
    "    ax.text(s='('+string.ascii_lowercase[t]+') hour '+hour_strings[t], x=0, y=1.02,\\\n",
    "            transform=ax.transAxes,fontsize=fontsize,ha='left',va='bottom')\n",
    "    \n",
    "    ax_list.append(ax)\n",
    "\n",
    "fig.tight_layout()\n",
    "\n",
    "top_pos = ax_list[1].get_position()\n",
    "bottom_pos = ax_list[7].get_position()\n",
    "\n",
    "ax_height = top_pos.y1-bottom_pos.y0\n",
    "\n",
    "cbar_axes = fig.add_axes([bottom_pos.x1+0.05, bottom_pos.y0, 0.03, ax_height*0.675])\n",
    "cbar = mp.colorbar(contour_plot, orientation='vertical', cax=cbar_axes)\n",
    "cbar_axes.tick_params(labelsize=fontsize)\n",
    "cbar.set_label('moist static energy (kJ kg$^{\\,-1}$)', fontsize=fontsize)\n",
    "cbar.set_ticks(numpy.arange(325,346,5))\n",
    "\n",
    "cbar_lines_ax = fig.add_axes([bottom_pos.x1+0.05, bottom_pos.y0+ax_height*0.725, 0.03, ax_height*0.275])\n",
    "cbar_lines = fig.colorbar(contour_lines, cax=cbar_lines_ax)\n",
    "cbar_lines_ax.tick_params(labelsize=fontsize)#, length=0)\n",
    "cbar_lines.set_label('spec. hum. (kJ kg$^{\\,-1}$)', fontsize=fontsize)\n",
    "cbar_lines.outline.set_visible(False)\n",
    "cbar_lines_ax.tick_params(axis='y', which='both', right='off')\n",
    "cbar_lines_ax.get_children()[0].set_linewidths(2)\n",
    "cbar_lines_ax.get_children()[1].set_facecolor('None')\n",
    "cbar_lines_ax.get_children()[2].set_facecolor('None')\n",
    "\n",
    "\n",
    "#cbar_qvapor = mp.colorbar(contour_lines)\n",
    "#ax_pos = ax_list[0].get_position()\n",
    "handles, labels = ax_list[0].get_legend_handles_labels()\n",
    "legend = ax_list[0].legend(handles, labels, fontsize=fontsize, ncol=1, bbox_to_anchor=(.997,.993), \\\n",
    "                  edgecolor='None', facecolor='1', fancybox=False, bbox_transform=ax_list[0].transAxes, \\\n",
    "                  loc='upper right', labelspacing=0, \\\n",
    "                  borderaxespad=0, borderpad=0.25, handlelength=1.75, \\\n",
    "                  handletextpad=0.5, framealpha=0.666)\n",
    "\n",
    "fig.savefig('mse_400_cross_sections_zcoords_energy_units.png', dpi=600, bbox_inches='tight', transparent=True)"
   ]
  },
  {
   "cell_type": "code",
   "execution_count": null,
   "metadata": {
    "ExecuteTime": {
     "end_time": "2018-03-09T17:03:08.123455Z",
     "start_time": "2018-03-09T16:47:02.055Z"
    }
   },
   "outputs": [],
   "source": [
    "z[[2,6,7,8,9,10,11,12,13]]"
   ]
  },
  {
   "cell_type": "code",
   "execution_count": null,
   "metadata": {
    "ExecuteTime": {
     "end_time": "2018-03-09T17:03:08.124346Z",
     "start_time": "2018-03-09T16:47:02.061Z"
    }
   },
   "outputs": [],
   "source": [
    "fontsize=12\n",
    "\n",
    "fig = mp.figure(figsize=(6.5,6))\n",
    "\n",
    "y_zero = numpy.zeros(xlong.shape[1])\n",
    "levels = numpy.arange(-1.25,1.26,0.25)\n",
    "levels_qvapor = numpy.arange(-1,1.1,0.5)\n",
    "#colors_qvapor = ['coral']*2+['0.1']+['paleturquoise']*2\n",
    "colors_qvapor = ['orangered','coral','0.1','paleturquoise','deepskyblue']\n",
    "linestyles_qvapor = ['-']*2+[':']+['-']*2\n",
    "\n",
    "xticks_deg_E=numpy.array((280,300,320))\n",
    "xticks = -(360-xticks_deg_E)\n",
    "xticks_format=[str(tick)+DEGREE_SIGN+'E' for tick in xticks_deg_E]\n",
    "\n",
    "nrows=4;ncols=2\n",
    "ax_list = []\n",
    "\n",
    "#every_nth_z=3\n",
    "z_indices=[2,6,7,8,9,10,11,12,13]\n",
    "every_nth_lon=10\n",
    "quiver_scale = 0.2 # 0.05 for 850-600, 0.1 for below 850\n",
    "quiver_shaft_width = 1.#.75\n",
    "quiver_key_scale = 5\n",
    "quiver_color = '0.1'\n",
    "quiver_head_length = 3\n",
    "quiver_head_axis_length = quiver_head_length\n",
    "\n",
    "contour_lines_list = []\n",
    "\n",
    "for t in range(8):\n",
    "    ax = fig.add_subplot(nrows,ncols,t+1)#, projection=cartopy.crs.PlateCarree())\n",
    "    \n",
    "    contour_plot = ax.contourf(xlong[0,:]+360.,z,\\\n",
    "                               mse_diffs_array[t]/1000.,\\\n",
    "                               levels=levels,\\\n",
    "                               cmap='PuOr_r',extend='both')\n",
    "    ax.plot(xlong[0,:]+360.,pblh_400_array[t]/1000.,c='dodgerblue', label='control ABLH', lw=2)\n",
    "    ax.plot(xlong[0,:]+360.,pblh_1000_array[t]/1000.,c='darkturquoise',ls='--', label='high CO$_2$ ABLH', lw=2)\n",
    " \n",
    "    ax.quiver(xlong[0,:][::every_nth_lon]+360.,z[z_indices],\\\n",
    "              u_diffs_array[t][z_indices,::every_nth_lon],\\\n",
    "              w_diffs_array[t][z_indices,::every_nth_lon]*1000.,\\\n",
    "              units='xy', scale=quiver_scale, \\\n",
    "              color=quiver_color, zorder=3)\n",
    "    if t in [6,7]:\n",
    "        contour_lines = ax.contour(xlong[0,:]+360.,z,\\\n",
    "                                   qvapor_diffs_array[t]*L_v/1000.,\\\n",
    "                                   levels=levels_qvapor,\\\n",
    "                                   linewidths=1,\\\n",
    "                                   colors=colors_qvapor,\\\n",
    "                                   linestyles=linestyles_qvapor, extend='both')\n",
    "        contour_lines_list.append(contour_lines)\n",
    "\n",
    "    else:\n",
    "        for line in range(levels_qvapor.__len__()):        \n",
    "            ax.contour(xlong[0,:]+360.,z,\\\n",
    "                                       qvapor_diffs_array[t]*L_v/1000.,\\\n",
    "                                       levels=levels_qvapor[line],\\\n",
    "                                       linewidths=1,\\\n",
    "                                       colors=colors_qvapor[line],\\\n",
    "                                       linestyles=linestyles_qvapor[line], extend='both')\n",
    "    \n",
    "    ax.tick_params(labelsize=fontsize)\n",
    "    ax.set_ylim(0,3)\n",
    "    ax.set_xlim(xlong.min()+55.+360.,xlong.max()+360.)\n",
    "    \n",
    "    ax.fill_between(xlong[0,:]+360., y_zero, HGT_M_lat_subset_mean/1000., facecolor='0.1', interpolate=True, zorder=2)\n",
    "    \n",
    "    ax.set_yticks([0,1,2,3])\n",
    "    ax.set_xticks([280,300,320])\n",
    "    ax.set_xticklabels(xticks_format)\n",
    "    ax.set_ylabel('km', fontsize=fontsize)\n",
    "    \n",
    "    ax.text(s='('+string.ascii_lowercase[t]+') hour '+hour_strings[t], x=0, y=1.02,\\\n",
    "            transform=ax.transAxes,fontsize=fontsize,ha='left',va='bottom')\n",
    "    \n",
    "    ax_list.append(ax)\n",
    "\n",
    "fig.tight_layout()\n",
    "\n",
    "ax_height = top_pos.y1-bottom_pos.y0\n",
    "\n",
    "top_pos = ax_list[1].get_position()\n",
    "bottom_pos = ax_list[7].get_position()\n",
    "cbar_axes = fig.add_axes([bottom_pos.x1+0.05, bottom_pos.y0, 0.03, ax_height*0.675])\n",
    "cbar = mp.colorbar(contour_plot, orientation='vertical', cax=cbar_axes)\n",
    "cbar_axes.tick_params(labelsize=fontsize)\n",
    "#cbar_axes.text(s='g kg$^{\\,-1}$', x=0.5, y=1.00666, transform=cbar_axes.transAxes, fontsize=fontsize, ha='center', va='bottom')\n",
    "cbar.set_label('$\\Delta$ moist static energy (kJ kg$^{\\,-1}$)', fontsize=fontsize)\n",
    "#cbar.set_ticks(numpy.arange(-0.8,0.81,0.2))\n",
    "\n",
    "cbar_lines_ax = fig.add_axes([bottom_pos.x1+0.05, bottom_pos.y0+ax_height*0.725, 0.03, ax_height*0.275])\n",
    "cbar_lines = fig.colorbar(contour_lines_list[0], cax=cbar_lines_ax)\n",
    "cbar_lines_ax.tick_params(labelsize=fontsize)#, length=0)\n",
    "cbar_lines.set_label('$\\Delta$ spec. hum. (kJ kg$^{\\,-1}$)', fontsize=fontsize)\n",
    "cbar_lines.outline.set_visible(False)\n",
    "cbar_lines_ax.tick_params(axis='y', which='both', right='off')\n",
    "cbar_lines_ax.get_children()[0].set_linewidths(2)\n",
    "cbar_lines_ax.get_children()[0].set_linestyles(['-','-',':','-','-'])\n",
    "cbar_lines_ax.get_children()[1].set_facecolor('None')\n",
    "cbar_lines_ax.get_children()[2].set_facecolor('None')\n",
    "cbar_lines_ax.set_yticklabels(['$-1$','$-0.5$','0','0.5','1.0'])\n",
    "\n",
    "handles, labels = ax_list[0].get_legend_handles_labels()\n",
    "legend = ax_list[0].legend(handles, labels, fontsize=fontsize, ncol=1, bbox_to_anchor=(.997,.993), \\\n",
    "                   edgecolor='None', facecolor='1', fancybox=False, bbox_transform=ax_list[0].transAxes, \\\n",
    "                   loc='upper right', labelspacing=0, framealpha=0.666, \\\n",
    "                   borderaxespad=0, borderpad=0.25, handlelength=1.75, \\\n",
    "                   handletextpad=0.5)\n",
    "\n",
    "fig.savefig('mse_diffs_cross_sections.png', dpi=600, bbox_inches='tight', transparent=True)"
   ]
  },
  {
   "cell_type": "code",
   "execution_count": null,
   "metadata": {},
   "outputs": [],
   "source": []
  },
  {
   "cell_type": "code",
   "execution_count": null,
   "metadata": {},
   "outputs": [],
   "source": []
  },
  {
   "cell_type": "code",
   "execution_count": null,
   "metadata": {},
   "outputs": [],
   "source": []
  },
  {
   "cell_type": "markdown",
   "metadata": {},
   "source": [
    "# temperature changes"
   ]
  },
  {
   "cell_type": "code",
   "execution_count": null,
   "metadata": {
    "ExecuteTime": {
     "end_time": "2018-03-09T17:03:08.125244Z",
     "start_time": "2018-03-09T16:47:02.088Z"
    }
   },
   "outputs": [],
   "source": [
    "fontsize=12\n",
    "\n",
    "fig = mp.figure(figsize=(6.5,6))\n",
    "\n",
    "y_zero = numpy.zeros(xlong.shape[1])\n",
    "levels = numpy.arange(-1.5,1.51,0.25)\n",
    "levels_qvapor = numpy.arange(-1,1.1,0.5)\n",
    "#colors_qvapor = ['coral']*2+['0.1']+['paleturquoise']*2\n",
    "colors_qvapor = ['orangered','coral','0.1','paleturquoise','deepskyblue']\n",
    "linestyles_qvapor = ['-']*2+[':']+['-']*2\n",
    "\n",
    "xticks_deg_E=numpy.array((280,300,320))\n",
    "xticks = -(360-xticks_deg_E)\n",
    "xticks_format=[str(tick)+DEGREE_SIGN+'E' for tick in xticks_deg_E]\n",
    "\n",
    "nrows=4;ncols=2\n",
    "ax_list = []\n",
    "\n",
    "contour_lines_list = []\n",
    "\n",
    "for t in range(8):\n",
    "    ax = fig.add_subplot(nrows,ncols,t+1)#, projection=cartopy.crs.PlateCarree())\n",
    "    \n",
    "    contour_plot = ax.contourf(xlong[0,:]+360.,z,\\\n",
    "                               tk_diffs_array[t]*c_p/1000.,\\\n",
    "                               levels=levels,\\\n",
    "                               cmap='RdGy_r',extend='both')\n",
    "    ax.plot(xlong[0,:]+360.,pblh_400_array[t]/1000.,c='dodgerblue', label='control ABLH', lw=2)\n",
    "    ax.plot(xlong[0,:]+360.,pblh_1000_array[t]/1000.,c='darkturquoise',ls='--', label='high CO$_2$ ABLH', lw=2)\n",
    " \n",
    "#     if t in [6,7]:\n",
    "#         contour_lines = ax.contour(xlong[0,:]+360.,z,\\\n",
    "#                                    qvapor_diffs_array[t]*L_v/1000.,\\\n",
    "#                                    levels=levels_qvapor,\\\n",
    "#                                    linewidths=1,\\\n",
    "#                                    colors=colors_qvapor,\\\n",
    "#                                    linestyles=linestyles_qvapor, extend='both')\n",
    "#         contour_lines_list.append(contour_lines)\n",
    "\n",
    "#     else:\n",
    "#         for line in range(levels_qvapor.__len__()):        \n",
    "#             ax.contour(xlong[0,:]+360.,z,\\\n",
    "#                                        qvapor_diffs_array[t]*L_v/1000.,\\\n",
    "#                                        levels=levels_qvapor[line],\\\n",
    "#                                        linewidths=1,\\\n",
    "#                                        colors=colors_qvapor[line],\\\n",
    "#                                        linestyles=linestyles_qvapor[line], extend='both')\n",
    "    \n",
    "    ax.tick_params(labelsize=fontsize)\n",
    "    ax.set_ylim(0,3)\n",
    "    ax.set_xlim(xlong.min()+55.+360.,xlong.max()+360.)\n",
    "    \n",
    "    ax.fill_between(xlong[0,:]+360., y_zero, HGT_M_lat_subset_mean/1000., facecolor='0.1', interpolate=True, zorder=2)\n",
    "    \n",
    "    ax.set_yticks([0,1,2,3])\n",
    "    ax.set_xticks([280,300,320])\n",
    "    ax.set_xticklabels(xticks_format)\n",
    "    ax.set_ylabel('km', fontsize=fontsize)\n",
    "    \n",
    "    ax.text(s='('+string.ascii_lowercase[t]+') hour '+hour_strings[t], x=0, y=1.02,\\\n",
    "            transform=ax.transAxes,fontsize=fontsize,ha='left',va='bottom')\n",
    "    \n",
    "    ax_list.append(ax)\n",
    "\n",
    "fig.tight_layout()\n",
    "\n",
    "ax_height = top_pos.y1-bottom_pos.y0\n",
    "\n",
    "top_pos = ax_list[1].get_position()\n",
    "bottom_pos = ax_list[7].get_position()\n",
    "cbar_axes = fig.add_axes([bottom_pos.x1+0.05, bottom_pos.y0, 0.03, ax_height*0.675])\n",
    "cbar = mp.colorbar(contour_plot, orientation='vertical', cax=cbar_axes)\n",
    "cbar_axes.tick_params(labelsize=fontsize)\n",
    "#cbar_axes.text(s='g kg$^{\\,-1}$', x=0.5, y=1.00666, transform=cbar_axes.transAxes, fontsize=fontsize, ha='center', va='bottom')\n",
    "cbar.set_label('$\\Delta$ temperature (kJ kg$^{\\,-1}$)', fontsize=fontsize)\n",
    "#cbar.set_ticks(numpy.arange(-1,1.1,0.2))\n",
    "\n",
    "# cbar_lines_ax = fig.add_axes([bottom_pos.x1+0.05, bottom_pos.y0+ax_height*0.725, 0.03, ax_height*0.275])\n",
    "# cbar_lines = fig.colorbar(contour_lines_list[0], cax=cbar_lines_ax)\n",
    "# cbar_lines_ax.tick_params(labelsize=fontsize)#, length=0)\n",
    "# cbar_lines.set_label('$\\Delta$ spec. hum. (kJ kg$^{\\,-1}$)', fontsize=fontsize)\n",
    "# cbar_lines.outline.set_visible(False)\n",
    "# cbar_lines_ax.tick_params(axis='y', which='both', right='off')\n",
    "# cbar_lines_ax.get_children()[0].set_linewidths(2)\n",
    "# cbar_lines_ax.get_children()[0].set_linestyles(['-','-',':','-','-'])\n",
    "# cbar_lines_ax.get_children()[1].set_facecolor('None')\n",
    "# cbar_lines_ax.get_children()[2].set_facecolor('None')\n",
    "# cbar_lines_ax.set_yticklabels(['$-1$','$-0.5$','0','0.5','1.0'])\n",
    "\n",
    "handles, labels = ax_list[0].get_legend_handles_labels()\n",
    "legend = ax_list[0].legend(handles, labels, fontsize=fontsize, ncol=1, bbox_to_anchor=(.997,.993), \\\n",
    "                   edgecolor='None', facecolor='1', fancybox=False, bbox_transform=ax_list[0].transAxes, \\\n",
    "                   loc='upper right', labelspacing=0, framealpha=0.666, \\\n",
    "                   borderaxespad=0, borderpad=0.25, handlelength=1.75, \\\n",
    "                   handletextpad=0.5)\n",
    "\n",
    "fig.savefig('temp_diffs_cross_sections.png', dpi=600, bbox_inches='tight', transparent=True)"
   ]
  },
  {
   "cell_type": "markdown",
   "metadata": {},
   "source": [
    "# qvapor diffs"
   ]
  },
  {
   "cell_type": "code",
   "execution_count": null,
   "metadata": {
    "ExecuteTime": {
     "end_time": "2018-03-09T17:03:08.126156Z",
     "start_time": "2018-03-09T16:47:02.098Z"
    }
   },
   "outputs": [],
   "source": [
    "fontsize=12\n",
    "\n",
    "fig = mp.figure(figsize=(6.5,6))\n",
    "\n",
    "y_zero = numpy.zeros(xlong.shape[1])\n",
    "levels = numpy.arange(-1.5,1.51,0.25)\n",
    "levels_qvapor = numpy.arange(-1,1.1,0.5)\n",
    "#colors_qvapor = ['coral']*2+['0.1']+['paleturquoise']*2\n",
    "colors_qvapor = ['orangered','coral','0.1','paleturquoise','deepskyblue']\n",
    "linestyles_qvapor = ['-']*2+[':']+['-']*2\n",
    "\n",
    "xticks_deg_E=numpy.array((280,300,320))\n",
    "xticks = -(360-xticks_deg_E)\n",
    "xticks_format=[str(tick)+DEGREE_SIGN+'E' for tick in xticks_deg_E]\n",
    "\n",
    "nrows=4;ncols=2\n",
    "ax_list = []\n",
    "\n",
    "contour_lines_list = []\n",
    "\n",
    "for t in range(8):\n",
    "    ax = fig.add_subplot(nrows,ncols,t+1)#, projection=cartopy.crs.PlateCarree())\n",
    "    \n",
    "    contour_plot = ax.contourf(xlong[0,:]+360.,z,\\\n",
    "                               qvapor_diffs_array[t]*L_v/1000.,\\\n",
    "                               levels=levels,\\\n",
    "                               cmap='RdBu',extend='both')\n",
    "    ax.plot(xlong[0,:]+360.,pblh_400_array[t]/1000.,c='dodgerblue', label='control ABLH', lw=2)\n",
    "    ax.plot(xlong[0,:]+360.,pblh_1000_array[t]/1000.,c='darkturquoise',ls='--', label='high CO$_2$ ABLH', lw=2)\n",
    " \n",
    "#     if t in [6,7]:\n",
    "#         contour_lines = ax.contour(xlong[0,:]+360.,z,\\\n",
    "#                                    qvapor_diffs_array[t]*L_v/1000.,\\\n",
    "#                                    levels=levels_qvapor,\\\n",
    "#                                    linewidths=1,\\\n",
    "#                                    colors=colors_qvapor,\\\n",
    "#                                    linestyles=linestyles_qvapor, extend='both')\n",
    "#         contour_lines_list.append(contour_lines)\n",
    "\n",
    "#     else:\n",
    "#         for line in range(levels_qvapor.__len__()):        \n",
    "#             ax.contour(xlong[0,:]+360.,z,\\\n",
    "#                                        qvapor_diffs_array[t]*L_v/1000.,\\\n",
    "#                                        levels=levels_qvapor[line],\\\n",
    "#                                        linewidths=1,\\\n",
    "#                                        colors=colors_qvapor[line],\\\n",
    "#                                        linestyles=linestyles_qvapor[line], extend='both')\n",
    "    \n",
    "    ax.tick_params(labelsize=fontsize)\n",
    "    ax.set_ylim(0,3)\n",
    "    ax.set_xlim(xlong.min()+55.+360.,xlong.max()+360.)\n",
    "    \n",
    "    ax.fill_between(xlong[0,:]+360., y_zero, HGT_M_lat_subset_mean/1000., facecolor='0.1', interpolate=True, zorder=2)\n",
    "    \n",
    "    ax.set_yticks([0,1,2,3])\n",
    "    ax.set_xticks([280,300,320])\n",
    "    ax.set_xticklabels(xticks_format)\n",
    "    ax.set_ylabel('km', fontsize=fontsize)\n",
    "    \n",
    "    ax.text(s='('+string.ascii_lowercase[t]+') hour '+hour_strings[t], x=0, y=1.02,\\\n",
    "            transform=ax.transAxes,fontsize=fontsize,ha='left',va='bottom')\n",
    "    \n",
    "    ax_list.append(ax)\n",
    "\n",
    "fig.tight_layout()\n",
    "\n",
    "ax_height = top_pos.y1-bottom_pos.y0\n",
    "\n",
    "top_pos = ax_list[1].get_position()\n",
    "bottom_pos = ax_list[7].get_position()\n",
    "cbar_axes = fig.add_axes([bottom_pos.x1+0.05, bottom_pos.y0, 0.03, ax_height*0.675])\n",
    "cbar = mp.colorbar(contour_plot, orientation='vertical', cax=cbar_axes)\n",
    "cbar_axes.tick_params(labelsize=fontsize)\n",
    "#cbar_axes.text(s='g kg$^{\\,-1}$', x=0.5, y=1.00666, transform=cbar_axes.transAxes, fontsize=fontsize, ha='center', va='bottom')\n",
    "cbar.set_label('$\\Delta$ spec. humidity (kJ kg$^{\\,-1}$)', fontsize=fontsize)\n",
    "#cbar.set_ticks(numpy.arange(-1,1.1,0.2))\n",
    "\n",
    "# cbar_lines_ax = fig.add_axes([bottom_pos.x1+0.05, bottom_pos.y0+ax_height*0.725, 0.03, ax_height*0.275])\n",
    "# cbar_lines = fig.colorbar(contour_lines_list[0], cax=cbar_lines_ax)\n",
    "# cbar_lines_ax.tick_params(labelsize=fontsize)#, length=0)\n",
    "# cbar_lines.set_label('$\\Delta$ spec. hum. (kJ kg$^{\\,-1}$)', fontsize=fontsize)\n",
    "# cbar_lines.outline.set_visible(False)\n",
    "# cbar_lines_ax.tick_params(axis='y', which='both', right='off')\n",
    "# cbar_lines_ax.get_children()[0].set_linewidths(2)\n",
    "# cbar_lines_ax.get_children()[0].set_linestyles(['-','-',':','-','-'])\n",
    "# cbar_lines_ax.get_children()[1].set_facecolor('None')\n",
    "# cbar_lines_ax.get_children()[2].set_facecolor('None')\n",
    "# cbar_lines_ax.set_ytickllabels(['$-1$','$-0.5$','0','0.5','1.0'])\n",
    "\n",
    "handles, labels = ax_list[0].get_legend_handles_labels()\n",
    "legend = ax_list[0].legend(handles, labels, fontsize=fontsize, ncol=1, bbox_to_anchor=(.997,.993), \\\n",
    "                   edgecolor='None', facecolor='1', fancybox=False, bbox_transform=ax_list[0].transAxes, \\\n",
    "                   loc='upper right', labelspacing=0, framealpha=0.666, \\\n",
    "                   borderaxespad=0, borderpad=0.25, handlelength=1.75, \\\n",
    "                   handletextpad=0.5)\n",
    "\n",
    "fig.savefig('qvapor_diffs_cross_sections.png', dpi=600, bbox_inches='tight', transparent=True)"
   ]
  },
  {
   "cell_type": "markdown",
   "metadata": {},
   "source": [
    "# ptot changes"
   ]
  },
  {
   "cell_type": "code",
   "execution_count": null,
   "metadata": {
    "ExecuteTime": {
     "end_time": "2018-03-09T17:03:08.127005Z",
     "start_time": "2018-03-09T16:47:02.108Z"
    }
   },
   "outputs": [],
   "source": [
    "fontsize=12\n",
    "\n",
    "fig = mp.figure(figsize=(6.5,6))\n",
    "\n",
    "y_zero = numpy.zeros(xlong.shape[1])\n",
    "levels = numpy.arange(-0.5,0.51,0.125)\n",
    "levels_qvapor = numpy.arange(-1,1.1,0.5)\n",
    "#colors_qvapor = ['coral']*2+['0.1']+['paleturquoise']*2\n",
    "colors_qvapor = ['orangered','coral','0.1','paleturquoise','deepskyblue']\n",
    "linestyles_qvapor = ['-']*2+[':']+['-']*2\n",
    "\n",
    "xticks_deg_E=numpy.array((280,300,320))\n",
    "xticks = -(360-xticks_deg_E)\n",
    "xticks_format=[str(tick)+DEGREE_SIGN+'E' for tick in xticks_deg_E]\n",
    "\n",
    "nrows=4;ncols=2\n",
    "ax_list = []\n",
    "\n",
    "contour_lines_list = []\n",
    "\n",
    "for t in range(8):\n",
    "    ax = fig.add_subplot(nrows,ncols,t+1)#, projection=cartopy.crs.PlateCarree())\n",
    "    \n",
    "    contour_plot = ax.contourf(xlong[0,:]+360.,z,\\\n",
    "                               p_tot_diffs_array[t]/100.,\\\n",
    "                               levels=levels,\\\n",
    "                               cmap='RdBu_r',extend='both')\n",
    "    ax.plot(xlong[0,:]+360.,pblh_400_array[t]/1000.,c='dodgerblue', label='control ABLH', lw=2)\n",
    "    ax.plot(xlong[0,:]+360.,pblh_1000_array[t]/1000.,c='darkturquoise',ls='--', label='high CO$_2$ ABLH', lw=2)\n",
    " \n",
    "    ax.tick_params(labelsize=fontsize)\n",
    "    ax.set_ylim(0,3)\n",
    "    ax.set_xlim(xlong.min()+55.+360.,xlong.max()+360.)\n",
    "    \n",
    "    ax.fill_between(xlong[0,:]+360., y_zero, HGT_M_lat_subset_mean/1000., facecolor='0.1', interpolate=True, zorder=2)\n",
    "    \n",
    "    ax.set_yticks([0,1,2,3])\n",
    "    ax.set_xticks([280,300,320])\n",
    "    ax.set_xticklabels(xticks_format)\n",
    "    ax.set_ylabel('km', fontsize=fontsize)\n",
    "    \n",
    "    ax.text(s='('+string.ascii_lowercase[t]+') hour '+hour_strings[t], x=0, y=1.02,\\\n",
    "            transform=ax.transAxes,fontsize=fontsize,ha='left',va='bottom')\n",
    "    \n",
    "    ax_list.append(ax)\n",
    "\n",
    "fig.tight_layout()\n",
    "\n",
    "ax_height = top_pos.y1-bottom_pos.y0\n",
    "\n",
    "top_pos = ax_list[1].get_position()\n",
    "bottom_pos = ax_list[7].get_position()\n",
    "cbar_axes = fig.add_axes([bottom_pos.x1+0.05, bottom_pos.y0, 0.03, ax_height*0.675])\n",
    "cbar = mp.colorbar(contour_plot, orientation='vertical', cax=cbar_axes)\n",
    "cbar_axes.tick_params(labelsize=fontsize)\n",
    "#cbar_axes.text(s='g kg$^{\\,-1}$', x=0.5, y=1.00666, transform=cbar_axes.transAxes, fontsize=fontsize, ha='center', va='bottom')\n",
    "cbar.set_label('$\\Delta$ pressure (hPa)', fontsize=fontsize)\n",
    "#cbar.set_ticks(numpy.arange(-1,1.1,0.2))\n",
    "\n",
    "# cbar_lines_ax = fig.add_axes([bottom_pos.x1+0.05, bottom_pos.y0+ax_height*0.725, 0.03, ax_height*0.275])\n",
    "# cbar_lines = fig.colorbar(contour_lines_list[0], cax=cbar_lines_ax)\n",
    "# cbar_lines_ax.tick_params(labelsize=fontsize)#, length=0)\n",
    "# cbar_lines.set_label('$\\Delta$ spec. hum. (kJ kg$^{\\,-1}$)', fontsize=fontsize)\n",
    "# cbar_lines.outline.set_visible(False)\n",
    "# cbar_lines_ax.tick_params(axis='y', which='both', right='off')\n",
    "# cbar_lines_ax.get_children()[0].set_linewidths(2)\n",
    "# cbar_lines_ax.get_children()[0].set_linestyles(['-','-',':','-','-'])\n",
    "# cbar_lines_ax.get_children()[1].set_facecolor('None')\n",
    "# cbar_lines_ax.get_children()[2].set_facecolor('None')\n",
    "# cbar_lines_ax.set_ytickllabels(['$-1$','$-0.5$','0','0.5','1.0'])\n",
    "\n",
    "handles, labels = ax_list[0].get_legend_handles_labels()\n",
    "legend = ax_list[0].legend(handles, labels, fontsize=fontsize, ncol=1, bbox_to_anchor=(.997,.993), \\\n",
    "                   edgecolor='None', facecolor='1', fancybox=False, bbox_transform=ax_list[0].transAxes, \\\n",
    "                   loc='upper right', labelspacing=0, framealpha=0.666, \\\n",
    "                   borderaxespad=0, borderpad=0.25, handlelength=1.75, \\\n",
    "                   handletextpad=0.5)\n",
    "\n",
    "fig.savefig('ptotal_diffs_cross_sections.png', dpi=600, bbox_inches='tight', transparent=True)"
   ]
  },
  {
   "cell_type": "markdown",
   "metadata": {},
   "source": [
    "# geopotential height diffs"
   ]
  },
  {
   "cell_type": "code",
   "execution_count": null,
   "metadata": {
    "ExecuteTime": {
     "end_time": "2018-03-09T17:03:08.127865Z",
     "start_time": "2018-03-09T16:47:02.120Z"
    }
   },
   "outputs": [],
   "source": [
    "fontsize=12\n",
    "\n",
    "fig = mp.figure(figsize=(6.5,6))\n",
    "\n",
    "y_zero = numpy.zeros(xlong.shape[1])\n",
    "levels = numpy.arange(-0.05,0.051,0.01)\n",
    "levels_qvapor = numpy.arange(-1,1.1,0.5)\n",
    "#colors_qvapor = ['coral']*2+['0.1']+['paleturquoise']*2\n",
    "colors_qvapor = ['orangered','coral','0.1','paleturquoise','deepskyblue']\n",
    "linestyles_qvapor = ['-']*2+[':']+['-']*2\n",
    "\n",
    "xticks_deg_E=numpy.array((280,300,320))\n",
    "xticks = -(360-xticks_deg_E)\n",
    "xticks_format=[str(tick)+DEGREE_SIGN+'E' for tick in xticks_deg_E]\n",
    "\n",
    "nrows=4;ncols=2\n",
    "ax_list = []\n",
    "\n",
    "contour_lines_list = []\n",
    "\n",
    "for t in range(8):\n",
    "    ax = fig.add_subplot(nrows,ncols,t+1)#, projection=cartopy.crs.PlateCarree())\n",
    "    \n",
    "    contour_plot = ax.contourf(xlong[0,:]+360.,z,\\\n",
    "                               ph_tot_diffs_array[t]/1000.,\\\n",
    "                               levels=levels,\\\n",
    "                               cmap='RdGy_r',extend='both')\n",
    "    ax.plot(xlong[0,:]+360.,pblh_400_array[t]/1000.,c='dodgerblue', label='control ABLH', lw=2)\n",
    "    ax.plot(xlong[0,:]+360.,pblh_1000_array[t]/1000.,c='darkturquoise',ls='--', label='high CO$_2$ ABLH', lw=2)\n",
    " \n",
    "    if t in [6,7]:\n",
    "        contour_lines = ax.contour(xlong[0,:]+360.,z,\\\n",
    "                                   qvapor_diffs_array[t]*L_v/1000.,\\\n",
    "                                   levels=levels_qvapor,\\\n",
    "                                   linewidths=1,\\\n",
    "                                   colors=colors_qvapor,\\\n",
    "                                   linestyles=linestyles_qvapor, extend='both')\n",
    "        contour_lines_list.append(contour_lines)\n",
    "\n",
    "    else:\n",
    "        for line in range(levels_qvapor.__len__()):        \n",
    "            ax.contour(xlong[0,:]+360.,z,\\\n",
    "                                       qvapor_diffs_array[t]*L_v/1000.,\\\n",
    "                                       levels=levels_qvapor[line],\\\n",
    "                                       linewidths=1,\\\n",
    "                                       colors=colors_qvapor[line],\\\n",
    "                                       linestyles=linestyles_qvapor[line], extend='both')\n",
    "    \n",
    "    ax.tick_params(labelsize=fontsize)\n",
    "    ax.set_ylim(0,3)\n",
    "    ax.set_xlim(xlong.min()+55.+360.,xlong.max()+360.)\n",
    "    \n",
    "    ax.fill_between(xlong[0,:]+360., y_zero, HGT_M_lat_subset_mean/1000., facecolor='0.1', interpolate=True, zorder=2)\n",
    "    \n",
    "    ax.set_yticks([0,1,2,3])\n",
    "    ax.set_xticks([280,300,320])\n",
    "    ax.set_xticklabels(xticks_format)\n",
    "    ax.set_ylabel('km', fontsize=fontsize)\n",
    "    \n",
    "    ax.text(s='('+string.ascii_lowercase[t]+') hour '+hour_strings[t], x=0, y=1.02,\\\n",
    "            transform=ax.transAxes,fontsize=fontsize,ha='left',va='bottom')\n",
    "    \n",
    "    ax_list.append(ax)\n",
    "\n",
    "fig.tight_layout()\n",
    "\n",
    "ax_height = top_pos.y1-bottom_pos.y0\n",
    "\n",
    "top_pos = ax_list[1].get_position()\n",
    "bottom_pos = ax_list[7].get_position()\n",
    "cbar_axes = fig.add_axes([bottom_pos.x1+0.05, bottom_pos.y0, 0.03, ax_height*0.675])\n",
    "cbar = mp.colorbar(contour_plot, orientation='vertical', cax=cbar_axes)\n",
    "cbar_axes.tick_params(labelsize=fontsize)\n",
    "#cbar_axes.text(s='g kg$^{\\,-1}$', x=0.5, y=1.00666, transform=cbar_axes.transAxes, fontsize=fontsize, ha='center', va='bottom')\n",
    "cbar.set_label('$\\Delta$ geopotential (kJ kg$^{\\,-1}$)', fontsize=fontsize)\n",
    "#cbar.set_ticks(numpy.arange(-1,1.1,0.2))\n",
    "\n",
    "cbar_lines_ax = fig.add_axes([bottom_pos.x1+0.05, bottom_pos.y0+ax_height*0.725, 0.03, ax_height*0.275])\n",
    "cbar_lines = fig.colorbar(contour_lines_list[0], cax=cbar_lines_ax)\n",
    "cbar_lines_ax.tick_params(labelsize=fontsize)#, length=0)\n",
    "cbar_lines.set_label('$\\Delta$ spec. hum. (kJ kg$^{\\,-1}$)', fontsize=fontsize)\n",
    "cbar_lines.outline.set_visible(False)\n",
    "cbar_lines_ax.tick_params(axis='y', which='both', right='off')\n",
    "cbar_lines_ax.get_children()[0].set_linewidths(2)\n",
    "cbar_lines_ax.get_children()[0].set_linestyles(['-','-',':','-','-'])\n",
    "cbar_lines_ax.get_children()[1].set_facecolor('None')\n",
    "cbar_lines_ax.get_children()[2].set_facecolor('None')\n",
    "cbar_lines_ax.set_yticklabels(['$-1$','$-0.5$','0','0.5','1.0'])\n",
    "\n",
    "handles, labels = ax_list[0].get_legend_handles_labels()\n",
    "legend = ax_list[0].legend(handles, labels, fontsize=fontsize, ncol=1, bbox_to_anchor=(.997,.993), \\\n",
    "                   edgecolor='None', facecolor='1', fancybox=False, bbox_transform=ax_list[0].transAxes, \\\n",
    "                   loc='upper right', labelspacing=0, framealpha=0.666, \\\n",
    "                   borderaxespad=0, borderpad=0.25, handlelength=1.75, \\\n",
    "                   handletextpad=0.5)\n",
    "\n",
    "fig.savefig('geopot_diffs_cross_sections.png', dpi=600, bbox_inches='tight', transparent=True)"
   ]
  },
  {
   "cell_type": "code",
   "execution_count": null,
   "metadata": {},
   "outputs": [],
   "source": []
  },
  {
   "cell_type": "markdown",
   "metadata": {},
   "source": [
    "# 1st day 3hr means"
   ]
  },
  {
   "cell_type": "code",
   "execution_count": null,
   "metadata": {
    "ExecuteTime": {
     "end_time": "2018-03-09T17:03:08.128653Z",
     "start_time": "2018-03-09T16:47:02.135Z"
    }
   },
   "outputs": [],
   "source": [
    "skip_time = 24\n",
    "n_intervals = 8\n",
    "hour_strings = ['00','03','06','09','12','15','18','21']\n",
    "\n",
    "times_day1_00 = [t.hour in [0,1] and t.day==1 for t in time_datetimes]\n",
    "times_day1_03 = [t.hour in [2,3,4] and t.day==1 for t in time_datetimes]\n",
    "times_day1_06 = [t.hour in [5,6,7] and t.day==1 for t in time_datetimes]\n",
    "times_day1_09 = [t.hour in [8,9,10] and t.day==1 for t in time_datetimes]\n",
    "times_day1_12 = [t.hour in [11,12,13] and t.day==1 for t in time_datetimes]\n",
    "times_day1_15 = [t.hour in [14,15,16] and t.day==1 for t in time_datetimes]\n",
    "times_day1_18 = [t.hour in [17,18,19] and t.day==1 for t in time_datetimes]\n",
    "times_day1_21 = [t.hour in [20,21,22] and t.day==1 for t in time_datetimes]"
   ]
  },
  {
   "cell_type": "code",
   "execution_count": null,
   "metadata": {
    "ExecuteTime": {
     "end_time": "2018-03-09T17:03:08.129492Z",
     "start_time": "2018-03-09T16:47:02.141Z"
    }
   },
   "outputs": [],
   "source": [
    "# calculate 3 hourly means for 400\n",
    "p_tot_diffs_t00mean = numpy.nanmean(p_tot_diffs_lat_mean[:,:,:][times_day1_00,:,:], axis=0)\n",
    "p_tot_diffs_t03mean = numpy.nanmean(p_tot_diffs_lat_mean[:,:,:][times_day1_03,:,:], axis=0)\n",
    "p_tot_diffs_t06mean = numpy.nanmean(p_tot_diffs_lat_mean[:,:,:][times_day1_06,:,:], axis=0)\n",
    "p_tot_diffs_t09mean = numpy.nanmean(p_tot_diffs_lat_mean[:,:,:][times_day1_09,:,:], axis=0)\n",
    "p_tot_diffs_t12mean = numpy.nanmean(p_tot_diffs_lat_mean[:,:,:][times_day1_12,:,:], axis=0)\n",
    "p_tot_diffs_t15mean = numpy.nanmean(p_tot_diffs_lat_mean[:,:,:][times_day1_15,:,:], axis=0)\n",
    "p_tot_diffs_t18mean = numpy.nanmean(p_tot_diffs_lat_mean[:,:,:][times_day1_18,:,:], axis=0)\n",
    "p_tot_diffs_t21mean = numpy.nanmean(p_tot_diffs_lat_mean[:,:,:][times_day1_21,:,:], axis=0)\n",
    "\n",
    "p_tot_diffs_array_day1 = numpy.array([p_tot_diffs_t00mean, p_tot_diffs_t03mean, p_tot_diffs_t06mean, p_tot_diffs_t09mean, p_tot_diffs_t12mean, p_tot_diffs_t15mean, p_tot_diffs_t18mean, p_tot_diffs_t21mean])\n",
    "\n",
    "# monthly mean\n",
    "#p_tot_diffs_time_mean = numpy.mean(u1000[skip_time:,:,:] - p_tot_diffs[skip_time:,:,:], axis=0)\n",
    "#p_tot_diffs_time_mean_landmask = numpy.copy(p_tot_diffs_time_mean)\n",
    "#p_tot_diffs_time_mean_landmask[landmask==0] = numpy.nan"
   ]
  },
  {
   "cell_type": "code",
   "execution_count": null,
   "metadata": {
    "ExecuteTime": {
     "end_time": "2018-03-09T17:03:08.130292Z",
     "start_time": "2018-03-09T16:47:02.145Z"
    }
   },
   "outputs": [],
   "source": [
    "# calculate 3 hourly means for 400\n",
    "mse_diffs_t00mean = numpy.nanmean(mse_diffs_lat_mean[:,:,:][times_day1_00,:,:], axis=0)\n",
    "mse_diffs_t03mean = numpy.nanmean(mse_diffs_lat_mean[:,:,:][times_day1_03,:,:], axis=0)\n",
    "mse_diffs_t06mean = numpy.nanmean(mse_diffs_lat_mean[:,:,:][times_day1_06,:,:], axis=0)\n",
    "mse_diffs_t09mean = numpy.nanmean(mse_diffs_lat_mean[:,:,:][times_day1_09,:,:], axis=0)\n",
    "mse_diffs_t12mean = numpy.nanmean(mse_diffs_lat_mean[:,:,:][times_day1_12,:,:], axis=0)\n",
    "mse_diffs_t15mean = numpy.nanmean(mse_diffs_lat_mean[:,:,:][times_day1_15,:,:], axis=0)\n",
    "mse_diffs_t18mean = numpy.nanmean(mse_diffs_lat_mean[:,:,:][times_day1_18,:,:], axis=0)\n",
    "mse_diffs_t21mean = numpy.nanmean(mse_diffs_lat_mean[:,:,:][times_day1_21,:,:], axis=0)\n",
    "\n",
    "mse_diffs_array_day1 = numpy.array([mse_diffs_t00mean, mse_diffs_t03mean, mse_diffs_t06mean, mse_diffs_t09mean, mse_diffs_t12mean, mse_diffs_t15mean, mse_diffs_t18mean, mse_diffs_t21mean])\n",
    "\n",
    "# monthly mean\n",
    "#mse_diffs_time_mean = numpy.mean(mse_1000[skip_time:,:,:] - mse_diffs[skip_time:,:,:], axis=0)\n",
    "#mse_diffs_time_mean_landmask = numpy.copy(mse_diffs_time_mean)\n",
    "#mse_diffs_time_mean_landmask[landmask==0] = numpy.nan"
   ]
  },
  {
   "cell_type": "code",
   "execution_count": null,
   "metadata": {
    "ExecuteTime": {
     "end_time": "2018-03-09T17:03:08.131081Z",
     "start_time": "2018-03-09T16:47:02.151Z"
    }
   },
   "outputs": [],
   "source": [
    "# calculate 3 hourly means for 400\n",
    "qvapor_diffs_t00mean = numpy.nanmean(qvapor_diffs_lat_mean[:,:,:][times_day1_00,:,:], axis=0)\n",
    "qvapor_diffs_t03mean = numpy.nanmean(qvapor_diffs_lat_mean[:,:,:][times_day1_03,:,:], axis=0)\n",
    "qvapor_diffs_t06mean = numpy.nanmean(qvapor_diffs_lat_mean[:,:,:][times_day1_06,:,:], axis=0)\n",
    "qvapor_diffs_t09mean = numpy.nanmean(qvapor_diffs_lat_mean[:,:,:][times_day1_09,:,:], axis=0)\n",
    "qvapor_diffs_t12mean = numpy.nanmean(qvapor_diffs_lat_mean[:,:,:][times_day1_12,:,:], axis=0)\n",
    "qvapor_diffs_t15mean = numpy.nanmean(qvapor_diffs_lat_mean[:,:,:][times_day1_15,:,:], axis=0)\n",
    "qvapor_diffs_t18mean = numpy.nanmean(qvapor_diffs_lat_mean[:,:,:][times_day1_18,:,:], axis=0)\n",
    "qvapor_diffs_t21mean = numpy.nanmean(qvapor_diffs_lat_mean[:,:,:][times_day1_21,:,:], axis=0)\n",
    "\n",
    "qvapor_diffs_array_day1 = numpy.array([qvapor_diffs_t00mean, qvapor_diffs_t03mean, qvapor_diffs_t06mean, qvapor_diffs_t09mean, qvapor_diffs_t12mean, qvapor_diffs_t15mean, qvapor_diffs_t18mean, qvapor_diffs_t21mean])\n",
    "\n",
    "# monthly mean\n",
    "#qvapor_diffs_time_mean = numpy.mean(qvapor_1000[skip_time:,:,:] - qvapor_diffs[skip_time:,:,:], axis=0)\n",
    "#qvapor_diffs_time_mean_landmask = numpy.copy(qvapor_diffs_time_mean)\n",
    "#qvapor_diffs_time_mean_landmask[landmask==0] = numpy.nan"
   ]
  },
  {
   "cell_type": "code",
   "execution_count": null,
   "metadata": {
    "ExecuteTime": {
     "end_time": "2018-03-09T17:03:08.131878Z",
     "start_time": "2018-03-09T16:47:02.158Z"
    }
   },
   "outputs": [],
   "source": [
    "# calculate 3 hourly means for 400\n",
    "qvapor_400_t00mean = numpy.nanmean(qvapor_400_lat_mean[:,:,:][times_day1_00,:,:], axis=0)\n",
    "qvapor_400_t03mean = numpy.nanmean(qvapor_400_lat_mean[:,:,:][times_day1_03,:,:], axis=0)\n",
    "qvapor_400_t06mean = numpy.nanmean(qvapor_400_lat_mean[:,:,:][times_day1_06,:,:], axis=0)\n",
    "qvapor_400_t09mean = numpy.nanmean(qvapor_400_lat_mean[:,:,:][times_day1_09,:,:], axis=0)\n",
    "qvapor_400_t12mean = numpy.nanmean(qvapor_400_lat_mean[:,:,:][times_day1_12,:,:], axis=0)\n",
    "qvapor_400_t15mean = numpy.nanmean(qvapor_400_lat_mean[:,:,:][times_day1_15,:,:], axis=0)\n",
    "qvapor_400_t18mean = numpy.nanmean(qvapor_400_lat_mean[:,:,:][times_day1_18,:,:], axis=0)\n",
    "qvapor_400_t21mean = numpy.nanmean(qvapor_400_lat_mean[:,:,:][times_day1_21,:,:], axis=0)\n",
    "\n",
    "qvapor_400_array_day1 = numpy.array([qvapor_400_t00mean, qvapor_400_t03mean, qvapor_400_t06mean, qvapor_400_t09mean, qvapor_400_t12mean, qvapor_400_t15mean, qvapor_400_t18mean, qvapor_400_t21mean])\n",
    "\n",
    "# monthly mean\n",
    "#qvapor_400_time_mean = numpy.mean(qvapor_1000[skip_time:,:,:] - qvapor_400[skip_time:,:,:], axis=0)\n",
    "#qvapor_400_time_mean_landmask = numpy.copy(qvapor_400_time_mean)\n",
    "#qvapor_400_time_mean_landmask[landmask==0] = numpy.nan"
   ]
  },
  {
   "cell_type": "code",
   "execution_count": null,
   "metadata": {
    "ExecuteTime": {
     "end_time": "2018-03-09T17:03:08.132651Z",
     "start_time": "2018-03-09T16:47:02.165Z"
    }
   },
   "outputs": [],
   "source": [
    "# calculate 3 hourly means for 400\n",
    "tk_diffs_t00mean = numpy.nanmean(tk_diffs_lat_mean[:,:,:][times_day1_00,:,:], axis=0)\n",
    "tk_diffs_t03mean = numpy.nanmean(tk_diffs_lat_mean[:,:,:][times_day1_03,:,:], axis=0)\n",
    "tk_diffs_t06mean = numpy.nanmean(tk_diffs_lat_mean[:,:,:][times_day1_06,:,:], axis=0)\n",
    "tk_diffs_t09mean = numpy.nanmean(tk_diffs_lat_mean[:,:,:][times_day1_09,:,:], axis=0)\n",
    "tk_diffs_t12mean = numpy.nanmean(tk_diffs_lat_mean[:,:,:][times_day1_12,:,:], axis=0)\n",
    "tk_diffs_t15mean = numpy.nanmean(tk_diffs_lat_mean[:,:,:][times_day1_15,:,:], axis=0)\n",
    "tk_diffs_t18mean = numpy.nanmean(tk_diffs_lat_mean[:,:,:][times_day1_18,:,:], axis=0)\n",
    "tk_diffs_t21mean = numpy.nanmean(tk_diffs_lat_mean[:,:,:][times_day1_21,:,:], axis=0)\n",
    "\n",
    "tk_diffs_array_day1 = numpy.array([tk_diffs_t00mean, tk_diffs_t03mean, tk_diffs_t06mean, tk_diffs_t09mean, tk_diffs_t12mean, tk_diffs_t15mean, tk_diffs_t18mean, tk_diffs_t21mean])\n",
    "\n",
    "# monthly mean\n",
    "#tk_diffs_time_mean = numpy.mean(tk_1000[skip_time:,:,:] - tk_diffs[skip_time:,:,:], axis=0)\n",
    "#tk_diffs_time_mean_landmask = numpy.copy(tk_diffs_time_mean)\n",
    "#tk_diffs_time_mean_landmask[landmask==0] = numpy.nan"
   ]
  },
  {
   "cell_type": "code",
   "execution_count": null,
   "metadata": {
    "ExecuteTime": {
     "end_time": "2018-03-09T17:03:08.133466Z",
     "start_time": "2018-03-09T16:47:02.170Z"
    }
   },
   "outputs": [],
   "source": [
    "# calculate 3 hourly means for 400\n",
    "u_400_t00mean = numpy.nanmean(u_400_lat_mean[:,:,:][times_day1_00,:,:], axis=0)\n",
    "u_400_t03mean = numpy.nanmean(u_400_lat_mean[:,:,:][times_day1_03,:,:], axis=0)\n",
    "u_400_t06mean = numpy.nanmean(u_400_lat_mean[:,:,:][times_day1_06,:,:], axis=0)\n",
    "u_400_t09mean = numpy.nanmean(u_400_lat_mean[:,:,:][times_day1_09,:,:], axis=0)\n",
    "u_400_t12mean = numpy.nanmean(u_400_lat_mean[:,:,:][times_day1_12,:,:], axis=0)\n",
    "u_400_t15mean = numpy.nanmean(u_400_lat_mean[:,:,:][times_day1_15,:,:], axis=0)\n",
    "u_400_t18mean = numpy.nanmean(u_400_lat_mean[:,:,:][times_day1_18,:,:], axis=0)\n",
    "u_400_t21mean = numpy.nanmean(u_400_lat_mean[:,:,:][times_day1_21,:,:], axis=0)\n",
    "\n",
    "u_400_array_day1 = numpy.array([u_400_t00mean, u_400_t03mean, u_400_t06mean, u_400_t09mean, u_400_t12mean, u_400_t15mean, u_400_t18mean, u_400_t21mean])\n",
    "\n",
    "# monthly mean\n",
    "#u_400_time_mean = numpy.mean(u1000[skip_time:,:,:] - u_400[skip_time:,:,:], axis=0)\n",
    "#u_400_time_mean_landmask = numpy.copy(u_400_time_mean)\n",
    "#u_400_time_mean_landmask[landmask==0] = numpy.nan"
   ]
  },
  {
   "cell_type": "code",
   "execution_count": null,
   "metadata": {
    "ExecuteTime": {
     "end_time": "2018-03-09T17:03:08.134188Z",
     "start_time": "2018-03-09T16:47:02.177Z"
    }
   },
   "outputs": [],
   "source": [
    "# calculate 3 hourly means for 400\n",
    "u_diffs_t00mean = numpy.nanmean(u_diffs_lat_mean[:,:,:][times_day1_00,:,:], axis=0)\n",
    "u_diffs_t03mean = numpy.nanmean(u_diffs_lat_mean[:,:,:][times_day1_03,:,:], axis=0)\n",
    "u_diffs_t06mean = numpy.nanmean(u_diffs_lat_mean[:,:,:][times_day1_06,:,:], axis=0)\n",
    "u_diffs_t09mean = numpy.nanmean(u_diffs_lat_mean[:,:,:][times_day1_09,:,:], axis=0)\n",
    "u_diffs_t12mean = numpy.nanmean(u_diffs_lat_mean[:,:,:][times_day1_12,:,:], axis=0)\n",
    "u_diffs_t15mean = numpy.nanmean(u_diffs_lat_mean[:,:,:][times_day1_15,:,:], axis=0)\n",
    "u_diffs_t18mean = numpy.nanmean(u_diffs_lat_mean[:,:,:][times_day1_18,:,:], axis=0)\n",
    "u_diffs_t21mean = numpy.nanmean(u_diffs_lat_mean[:,:,:][times_day1_21,:,:], axis=0)\n",
    "\n",
    "u_diffs_array_day1 = numpy.array([u_diffs_t00mean, u_diffs_t03mean, u_diffs_t06mean, u_diffs_t09mean, u_diffs_t12mean, u_diffs_t15mean, u_diffs_t18mean, u_diffs_t21mean])\n",
    "\n",
    "# monthly mean\n",
    "#u_diffs_time_mean = numpy.mean(u1000[skip_time:,:,:] - u_diffs[skip_time:,:,:], axis=0)\n",
    "#u_diffs_time_mean_landmask = numpy.copy(u_diffs_time_mean)\n",
    "#u_diffs_time_mean_landmask[landmask==0] = numpy.nan"
   ]
  },
  {
   "cell_type": "code",
   "execution_count": null,
   "metadata": {
    "ExecuteTime": {
     "end_time": "2018-03-09T17:03:08.135012Z",
     "start_time": "2018-03-09T16:47:02.183Z"
    }
   },
   "outputs": [],
   "source": [
    "# calculate 3 hourly means for 400\n",
    "w_400_t00mean = numpy.nanmean(w_400_lat_mean[:,:,:][times_day1_00,:,:], axis=0)\n",
    "w_400_t03mean = numpy.nanmean(w_400_lat_mean[:,:,:][times_day1_03,:,:], axis=0)\n",
    "w_400_t06mean = numpy.nanmean(w_400_lat_mean[:,:,:][times_day1_06,:,:], axis=0)\n",
    "w_400_t09mean = numpy.nanmean(w_400_lat_mean[:,:,:][times_day1_09,:,:], axis=0)\n",
    "w_400_t12mean = numpy.nanmean(w_400_lat_mean[:,:,:][times_day1_12,:,:], axis=0)\n",
    "w_400_t15mean = numpy.nanmean(w_400_lat_mean[:,:,:][times_day1_15,:,:], axis=0)\n",
    "w_400_t18mean = numpy.nanmean(w_400_lat_mean[:,:,:][times_day1_18,:,:], axis=0)\n",
    "w_400_t21mean = numpy.nanmean(w_400_lat_mean[:,:,:][times_day1_21,:,:], axis=0)\n",
    "\n",
    "w_400_array_day1 = numpy.array([w_400_t00mean, w_400_t03mean, w_400_t06mean, w_400_t09mean, w_400_t12mean, w_400_t15mean, w_400_t18mean, w_400_t21mean])\n",
    "\n",
    "# monthly mean\n",
    "#w_400_time_mean = numpy.mean(w_1000[skip_time:,:,:] - w_400[skip_time:,:,:], axis=0)\n",
    "#w_400_time_mean_landmask = numpy.copy(w_400_time_mean)\n",
    "#w_400_time_mean_landmask[landmask==0] = numpy.nan"
   ]
  },
  {
   "cell_type": "code",
   "execution_count": null,
   "metadata": {
    "ExecuteTime": {
     "end_time": "2018-03-09T17:03:08.135785Z",
     "start_time": "2018-03-09T16:47:02.190Z"
    }
   },
   "outputs": [],
   "source": [
    "# calculate 3 hourly means for 400\n",
    "w_diffs_t00mean = numpy.nanmean(w_diffs_lat_mean[:,:,:][times_day1_00,:,:], axis=0)\n",
    "w_diffs_t03mean = numpy.nanmean(w_diffs_lat_mean[:,:,:][times_day1_03,:,:], axis=0)\n",
    "w_diffs_t06mean = numpy.nanmean(w_diffs_lat_mean[:,:,:][times_day1_06,:,:], axis=0)\n",
    "w_diffs_t09mean = numpy.nanmean(w_diffs_lat_mean[:,:,:][times_day1_09,:,:], axis=0)\n",
    "w_diffs_t12mean = numpy.nanmean(w_diffs_lat_mean[:,:,:][times_day1_12,:,:], axis=0)\n",
    "w_diffs_t15mean = numpy.nanmean(w_diffs_lat_mean[:,:,:][times_day1_15,:,:], axis=0)\n",
    "w_diffs_t18mean = numpy.nanmean(w_diffs_lat_mean[:,:,:][times_day1_18,:,:], axis=0)\n",
    "w_diffs_t21mean = numpy.nanmean(w_diffs_lat_mean[:,:,:][times_day1_21,:,:], axis=0)\n",
    "\n",
    "w_diffs_array_day1 = numpy.array([w_diffs_t00mean, w_diffs_t03mean, w_diffs_t06mean, w_diffs_t09mean, w_diffs_t12mean, w_diffs_t15mean, w_diffs_t18mean, w_diffs_t21mean])\n",
    "\n",
    "# monthly mean\n",
    "#w_diffs_time_mean = numpy.mean(w_1000[skip_time:,:,:] - w_diffs[skip_time:,:,:], axis=0)\n",
    "#w_diffs_time_mean_landmask = numpy.copy(w_diffs_time_mean)\n",
    "#w_diffs_time_mean_landmask[landmask==0] = numpy.nan"
   ]
  },
  {
   "cell_type": "code",
   "execution_count": null,
   "metadata": {
    "ExecuteTime": {
     "end_time": "2018-03-09T17:03:08.136571Z",
     "start_time": "2018-03-09T16:47:02.196Z"
    }
   },
   "outputs": [],
   "source": [
    "# calculate 3 hourly means for 400\n",
    "pblh_400_t00mean = numpy.mean(pblh_400_lat_mean[:][times_day1_00,:], axis=0)\n",
    "pblh_400_t03mean = numpy.mean(pblh_400_lat_mean[:][times_day1_03,:], axis=0)\n",
    "pblh_400_t06mean = numpy.mean(pblh_400_lat_mean[:][times_day1_06,:], axis=0)\n",
    "pblh_400_t09mean = numpy.mean(pblh_400_lat_mean[:][times_day1_09,:], axis=0)\n",
    "pblh_400_t12mean = numpy.mean(pblh_400_lat_mean[:][times_day1_12,:], axis=0)\n",
    "pblh_400_t15mean = numpy.mean(pblh_400_lat_mean[:][times_day1_15,:], axis=0)\n",
    "pblh_400_t18mean = numpy.mean(pblh_400_lat_mean[:][times_day1_18,:], axis=0)\n",
    "pblh_400_t21mean = numpy.mean(pblh_400_lat_mean[:][times_day1_21,:], axis=0)\n",
    "\n",
    "pblh_1000_t00mean = numpy.mean(pblh_1000_lat_mean[:][times_day1_00,:], axis=0)\n",
    "pblh_1000_t03mean = numpy.mean(pblh_1000_lat_mean[:][times_day1_03,:], axis=0)\n",
    "pblh_1000_t06mean = numpy.mean(pblh_1000_lat_mean[:][times_day1_06,:], axis=0)\n",
    "pblh_1000_t09mean = numpy.mean(pblh_1000_lat_mean[:][times_day1_09,:], axis=0)\n",
    "pblh_1000_t12mean = numpy.mean(pblh_1000_lat_mean[:][times_day1_12,:], axis=0)\n",
    "pblh_1000_t15mean = numpy.mean(pblh_1000_lat_mean[:][times_day1_15,:], axis=0)\n",
    "pblh_1000_t18mean = numpy.mean(pblh_1000_lat_mean[:][times_day1_18,:], axis=0)\n",
    "pblh_1000_t21mean = numpy.mean(pblh_1000_lat_mean[:][times_day1_21,:], axis=0)\n",
    "\n",
    "pblh_400_array_day1 = numpy.array([pblh_400_t00mean, pblh_400_t03mean, pblh_400_t06mean, pblh_400_t09mean, pblh_400_t12mean, pblh_400_t15mean, pblh_400_t18mean, pblh_400_t21mean])\n",
    "pblh_1000_array_day1 = numpy.array([pblh_1000_t00mean, pblh_1000_t03mean, pblh_1000_t06mean, pblh_1000_t09mean, pblh_1000_t12mean, pblh_1000_t15mean, pblh_1000_t18mean, pblh_1000_t21mean])\n",
    "\n",
    "# monthly mean\n",
    "#pblh_diffs_time_mean = numpy.mean(pblh_1000[skip_time:,:,:] - pblh_400[skip_time:,:,:], axis=0)\n",
    "#pblh_diffs_time_mean_landmask = numpy.copy(pblh_diffs_time_mean)\n",
    "#pblh_diffs_time_mean_landmask[landmask==0] = numpy.nan"
   ]
  },
  {
   "cell_type": "code",
   "execution_count": null,
   "metadata": {
    "ExecuteTime": {
     "end_time": "2018-03-09T17:03:08.137347Z",
     "start_time": "2018-03-09T16:47:02.202Z"
    }
   },
   "outputs": [],
   "source": [
    "mse_400_lat_mean.shape"
   ]
  },
  {
   "cell_type": "code",
   "execution_count": null,
   "metadata": {
    "ExecuteTime": {
     "end_time": "2018-03-09T17:03:08.138132Z",
     "start_time": "2018-03-09T16:47:02.211Z"
    }
   },
   "outputs": [],
   "source": [
    "# calculate 3 hourly means for 400\n",
    "mse_400_t00mean = numpy.mean(mse_400_lat_mean[:][times_day1_00,:,:], axis=0)\n",
    "mse_400_t03mean = numpy.mean(mse_400_lat_mean[:][times_day1_03,:,:], axis=0)\n",
    "mse_400_t06mean = numpy.mean(mse_400_lat_mean[:][times_day1_06,:,:], axis=0)\n",
    "mse_400_t09mean = numpy.mean(mse_400_lat_mean[:][times_day1_09,:,:], axis=0)\n",
    "mse_400_t12mean = numpy.mean(mse_400_lat_mean[:][times_day1_12,:,:], axis=0)\n",
    "mse_400_t15mean = numpy.mean(mse_400_lat_mean[:][times_day1_15,:,:], axis=0)\n",
    "mse_400_t18mean = numpy.mean(mse_400_lat_mean[:][times_day1_18,:,:], axis=0)\n",
    "mse_400_t21mean = numpy.mean(mse_400_lat_mean[:][times_day1_21,:,:], axis=0)\n",
    "\n",
    "mse_400_array_day1 = numpy.array([mse_400_t00mean, mse_400_t03mean, mse_400_t06mean, mse_400_t09mean, mse_400_t12mean, mse_400_t15mean, mse_400_t18mean, mse_400_t21mean])\n",
    "\n",
    "# monthly mean\n",
    "#mse_diffs_time_mean = numpy.mean(mse_1000[skip_time:,:,:] - mse_400[skip_time:,:,:], axis=0)\n",
    "#mse_diffs_time_mean_landmask = numpy.copy(mse_diffs_time_mean)\n",
    "#mse_diffs_time_mean_landmask[landmask==0] = numpy.nan"
   ]
  },
  {
   "cell_type": "code",
   "execution_count": null,
   "metadata": {
    "ExecuteTime": {
     "end_time": "2018-03-09T17:03:08.139000Z",
     "start_time": "2018-03-09T16:47:02.218Z"
    }
   },
   "outputs": [],
   "source": [
    "fontsize=12\n",
    "\n",
    "fig = mp.figure(figsize=(6.5,6))\n",
    "\n",
    "y_zero = numpy.zeros(xlong.shape[1])\n",
    "levels = numpy.arange(-1.25,1.26,0.25)\n",
    "levels_qvapor = numpy.arange(-1,1.1,0.5)\n",
    "colors_qvapor = ['orangered','coral','0.1','paleturquoise','deepskyblue']\n",
    "linestyles_qvapor = ['-']*2+[':']+['-']*2\n",
    "\n",
    "xticks_deg_E=numpy.array((280,300,320))\n",
    "xticks = -(360-xticks_deg_E)\n",
    "xticks_format=[str(tick)+DEGREE_SIGN+'E' for tick in xticks_deg_E]\n",
    "\n",
    "nrows=4;ncols=2\n",
    "ax_list = []\n",
    "\n",
    "#every_nth_z=3\n",
    "z_indices=[2,6,7,8,9,10,11,12,13]\n",
    "every_nth_lon=10\n",
    "quiver_scale = 0.25 # 0.05 for 850-600, 0.1 for below 850\n",
    "quiver_shaft_width = 1.#.75\n",
    "quiver_key_scale = 5\n",
    "quiver_color = '0.1'\n",
    "quiver_head_length = 3\n",
    "quiver_head_axis_length = quiver_head_length\n",
    "\n",
    "contour_lines_list = []\n",
    "\n",
    "for t in range(8):\n",
    "    ax = fig.add_subplot(nrows,ncols,t+1)#, projection=cartopy.crs.PlateCarree())\n",
    "    \n",
    "    contour_plot = ax.contourf(xlong[0,:]+360.,z,\\\n",
    "                               mse_diffs_array_day1[t]/1000.,\\\n",
    "                               levels=levels,\\\n",
    "                               cmap='PuOr_r',extend='both')\n",
    "    ax.plot(xlong[0,:]+360.,pblh_400_array_day1[t]/1000.,c='dodgerblue', label='control ABLH', lw=2)\n",
    "    ax.plot(xlong[0,:]+360.,pblh_1000_array_day1[t]/1000.,c='darkturquoise',ls='--', label='high CO$_2$ ABLH', lw=2)\n",
    "\n",
    "    ax.quiver(xlong[0,:][::every_nth_lon]+360.,z[z_indices],\\\n",
    "              u_diffs_array_day1[t][z_indices,::every_nth_lon],\\\n",
    "              w_diffs_array_day1[t][z_indices,::every_nth_lon]*1000.,\\\n",
    "              units='xy', scale=quiver_scale, \\\n",
    "              color=quiver_color, zorder=3)\n",
    "    \n",
    "    if t in [6,7]:\n",
    "        contour_lines = ax.contour(xlong[0,:]+360.,z,\\\n",
    "                                   qvapor_diffs_array_day1[t]*L_v/1000.,\\\n",
    "                                   levels=levels_qvapor,\\\n",
    "                                   linewidths=1,\\\n",
    "                                   colors=colors_qvapor,\\\n",
    "                                   linestyles=linestyles_qvapor, extend='both')\n",
    "        contour_lines_list.append(contour_lines)\n",
    "\n",
    "    else:\n",
    "        for line in range(levels_qvapor.__len__()):        \n",
    "            ax.contour(xlong[0,:]+360.,z,\\\n",
    "                                       qvapor_diffs_array_day1[t]*L_v/1000.,\\\n",
    "                                       levels=levels_qvapor[line],\\\n",
    "                                       linewidths=1,\\\n",
    "                                       colors=colors_qvapor[line],\\\n",
    "                                       linestyles=linestyles_qvapor[line], extend='both')\n",
    "    \n",
    "    ax.tick_params(labelsize=fontsize)\n",
    "    ax.set_ylim(0,3)\n",
    "    ax.set_xlim(xlong.min()+55.+360.,xlong.max()+360.)\n",
    "    \n",
    "    ax.fill_between(xlong[0,:]+360., y_zero, HGT_M_lat_subset_mean/1000., facecolor='0.1', interpolate=True, zorder=2)\n",
    "    \n",
    "    ax.set_yticks([0,1,2,3])\n",
    "    ax.set_xticks([280,300,320])\n",
    "    ax.set_xticklabels(xticks_format)\n",
    "    ax.set_ylabel('km', fontsize=fontsize)\n",
    "    \n",
    "    ax.text(s='('+string.ascii_lowercase[t]+') hour '+hour_strings[t], x=0, y=1.02,\\\n",
    "            transform=ax.transAxes,fontsize=fontsize,ha='left',va='bottom')\n",
    "    \n",
    "    ax_list.append(ax)\n",
    "\n",
    "fig.tight_layout()\n",
    "\n",
    "ax_height = top_pos.y1-bottom_pos.y0\n",
    "\n",
    "top_pos = ax_list[1].get_position()\n",
    "bottom_pos = ax_list[7].get_position()\n",
    "cbar_axes = fig.add_axes([bottom_pos.x1+0.05, bottom_pos.y0, 0.03, ax_height*0.675])\n",
    "cbar = mp.colorbar(contour_plot, orientation='vertical', cax=cbar_axes)\n",
    "cbar_axes.tick_params(labelsize=fontsize)\n",
    "#cbar_axes.text(s='g kg$^{\\,-1}$', x=0.5, y=1.00666, transform=cbar_axes.transAxes, fontsize=fontsize, ha='center', va='bottom')\n",
    "cbar.set_label('$\\Delta$ moist static energy (kJ kg$^{\\,-1}$)', fontsize=fontsize)\n",
    "#cbar.set_ticks(numpy.arange(-0.8,0.81,0.2))\n",
    "\n",
    "cbar_lines_ax = fig.add_axes([bottom_pos.x1+0.05, bottom_pos.y0+ax_height*0.725, 0.03, ax_height*0.275])\n",
    "cbar_lines = fig.colorbar(contour_lines_list[0], cax=cbar_lines_ax)\n",
    "cbar_lines_ax.tick_params(labelsize=fontsize)#, length=0)\n",
    "cbar_lines.set_label('$\\Delta$ spec. hum. (kJ kg$^{\\,-1}$)', fontsize=fontsize)\n",
    "cbar_lines.outline.set_visible(False)\n",
    "cbar_lines_ax.tick_params(axis='y', which='both', right='off')\n",
    "cbar_lines_ax.get_children()[0].set_linewidths(2)\n",
    "cbar_lines_ax.get_children()[0].set_linestyles(['-','-',':','-','-'])\n",
    "cbar_lines_ax.get_children()[1].set_facecolor('None')\n",
    "cbar_lines_ax.get_children()[2].set_facecolor('None')\n",
    "cbar_lines_ax.set_yticklabels(['$-1$','$-0.5$','0','0.5','1'])\n",
    "\n",
    "handles, labels = ax_list[0].get_legend_handles_labels()\n",
    "legend = ax_list[0].legend(handles, labels, fontsize=fontsize, ncol=1, bbox_to_anchor=(.997,.993), \\\n",
    "                   edgecolor='None', facecolor='1', fancybox=False, bbox_transform=ax_list[0].transAxes, \\\n",
    "                   loc='upper right', labelspacing=0, framealpha=0.666, \\\n",
    "                   borderaxespad=0, borderpad=0.25, handlelength=1.75, \\\n",
    "                   handletextpad=0.5)\n",
    "\n",
    "fig.savefig('mse_diffs_cross_sections_day1.png', dpi=600, bbox_inches='tight', transparent=True)"
   ]
  },
  {
   "cell_type": "markdown",
   "metadata": {},
   "source": [
    "## hourly snapshots"
   ]
  },
  {
   "cell_type": "code",
   "execution_count": null,
   "metadata": {
    "ExecuteTime": {
     "end_time": "2018-03-09T17:03:08.139761Z",
     "start_time": "2018-03-09T16:47:02.229Z"
    }
   },
   "outputs": [],
   "source": [
    "hour_string_list = ['{:02d}'.format(i) for i in range(1,25)]"
   ]
  },
  {
   "cell_type": "code",
   "execution_count": null,
   "metadata": {
    "ExecuteTime": {
     "end_time": "2018-03-09T17:03:08.140559Z",
     "start_time": "2018-03-09T16:47:02.237Z"
    }
   },
   "outputs": [],
   "source": [
    "fontsize=12\n",
    "\n",
    "fig = mp.figure(figsize=(8.5,11))\n",
    "\n",
    "y_zero = numpy.zeros(xlong.shape[1])\n",
    "levels = numpy.arange(-1.25,1.26,0.25)\n",
    "levels_qvapor = numpy.arange(-1,1.1,0.5)\n",
    "colors_qvapor = ['orangered','coral','0.1','paleturquoise','deepskyblue']\n",
    "linestyles_qvapor = ['-']*2+[':']+['-']*2\n",
    "\n",
    "xticks_deg_E=numpy.array((280,300,320))\n",
    "xticks = -(360-xticks_deg_E)\n",
    "xticks_format=[str(tick)+DEGREE_SIGN+'E' for tick in xticks_deg_E]\n",
    "\n",
    "nrows=6;ncols=4\n",
    "ax_list = []\n",
    "\n",
    "#every_nth_z=3\n",
    "z_indices=[2,6,7,8,9,10,11,12,13]\n",
    "every_nth_lon=10\n",
    "quiver_scale = 0.25 # 0.05 for 850-600, 0.1 for below 850\n",
    "quiver_shaft_width = 1.#.75\n",
    "quiver_key_scale = 5\n",
    "quiver_color = '0.1'\n",
    "quiver_head_length = 3\n",
    "quiver_head_axis_length = quiver_head_length\n",
    "\n",
    "contour_lines_list = []\n",
    "\n",
    "for t in range(24):\n",
    "    ax = fig.add_subplot(nrows,ncols,t+1)#, projection=cartopy.crs.PlateCarree())\n",
    "    \n",
    "    contour_plot = ax.contourf(xlong[0,:]+360.,z,\\\n",
    "                               mse_diffs_lat_mean[t,:,:]/1000.,\\\n",
    "                               levels=levels,\\\n",
    "                               cmap='PuOr_r',extend='both')\n",
    "    ax.plot(xlong[0,:]+360.,pblh_400_lat_mean[t,:]/1000.,c='dodgerblue', label='control ABLH', lw=2)\n",
    "    ax.plot(xlong[0,:]+360.,pblh_1000_lat_mean[t,:]/1000.,c='darkturquoise',ls='--', label='high CO$_2$ ABLH', lw=2)\n",
    "\n",
    "    ax.quiver(xlong[0,:][::every_nth_lon]+360.,z[z_indices],\\\n",
    "              u_diffs_lat_mean[t,:,:][z_indices,::every_nth_lon],\\\n",
    "              w_diffs_lat_mean[t,:,:][z_indices,::every_nth_lon]*1000.,\\\n",
    "              units='xy', scale=quiver_scale, \\\n",
    "              color=quiver_color, zorder=3)\n",
    "    \n",
    "#     if t in [6,7]:\n",
    "#         contour_lines = ax.contour(xlong[0,:]+360.,z,\\\n",
    "#                                    qvapor_diffs_lat_mean[t,:,:]*L_v/1000.,\\\n",
    "#                                    levels=levels_qvapor,\\\n",
    "#                                    linewidths=1,\\\n",
    "#                                    colors=colors_qvapor,\\\n",
    "#                                    linestyles=linestyles_qvapor, extend='both')\n",
    "#         contour_lines_list.append(contour_lines)\n",
    "\n",
    "#     else:\n",
    "#         for line in range(levels_qvapor.__len__()):        \n",
    "#             ax.contour(xlong[0,:]+360.,z,\\\n",
    "#                                        qvapor_diffs_lat_mean[t,:,:]*L_v/1000.,\\\n",
    "#                                        levels=levels_qvapor[line],\\\n",
    "#                                        linewidths=1,\\\n",
    "#                                        colors=colors_qvapor[line],\\\n",
    "#                                        linestyles=linestyles_qvapor[line], extend='both')\n",
    "    \n",
    "    ax.tick_params(labelsize=fontsize)\n",
    "    ax.set_ylim(0,3)\n",
    "    ax.set_xlim(xlong.min()+55.+360.,xlong.max()+360.)\n",
    "    \n",
    "    ax.fill_between(xlong[0,:]+360., y_zero, HGT_M_lat_subset_mean/1000., facecolor='0.1', interpolate=True, zorder=2)\n",
    "    \n",
    "    ax.set_yticks([0,1,2,3])\n",
    "    ax.set_xticks([280,300,320])\n",
    "    ax.set_xticklabels(xticks_format)\n",
    "    ax.set_ylabel('km', fontsize=fontsize)\n",
    "    \n",
    "    ax.text(s='('+string.ascii_lowercase[t]+') hour '+hour_string_list[t], x=0, y=1.02,\\\n",
    "            transform=ax.transAxes,fontsize=fontsize,ha='left',va='bottom')\n",
    "    \n",
    "    ax_list.append(ax)\n",
    "\n",
    "fig.tight_layout()\n",
    "\n",
    "ax_height = top_pos.y1-bottom_pos.y0\n",
    "\n",
    "top_pos = ax_list[1].get_position()\n",
    "bottom_pos = ax_list[-1].get_position()\n",
    "cbar_axes = fig.add_axes([bottom_pos.x1+0.05, bottom_pos.y0, 0.03, ax_height*0.675])\n",
    "cbar = mp.colorbar(contour_plot, orientation='vertical', cax=cbar_axes)\n",
    "cbar_axes.tick_params(labelsize=fontsize)\n",
    "#cbar_axes.text(s='g kg$^{\\,-1}$', x=0.5, y=1.00666, transform=cbar_axes.transAxes, fontsize=fontsize, ha='center', va='bottom')\n",
    "cbar.set_label('$\\Delta$ moist static energy (kJ kg$^{\\,-1}$)', fontsize=fontsize)\n",
    "#cbar.set_ticks(numpy.arange(-0.8,0.81,0.2))\n",
    "\n",
    "# cbar_lines_ax = fig.add_axes([bottom_pos.x1+0.05, bottom_pos.y0+ax_height*0.725, 0.03, ax_height*0.275])\n",
    "# cbar_lines = fig.colorbar(contour_lines_list[-1], cax=cbar_lines_ax)\n",
    "# cbar_lines_ax.tick_params(labelsize=fontsize)#, length=0)\n",
    "# cbar_lines.set_label('$\\Delta$ spec. hum. (kJ kg$^{\\,-1}$)', fontsize=fontsize)\n",
    "# cbar_lines.outline.set_visible(False)\n",
    "# cbar_lines_ax.tick_params(axis='y', which='both', right='off')\n",
    "# cbar_lines_ax.get_children()[0].set_linewidths(2)\n",
    "# cbar_lines_ax.get_children()[0].set_linestyles(['-','-',':','-','-'])\n",
    "# cbar_lines_ax.get_children()[1].set_facecolor('None')\n",
    "# cbar_lines_ax.get_children()[2].set_facecolor('None')\n",
    "# cbar_lines_ax.set_yticklabels(['$-1$','$-0.5$','0','0.5','1'])\n",
    "\n",
    "# handles, labels = ax_list[0].get_legend_handles_labels()\n",
    "# legend = ax_list[0].legend(handles, labels, fontsize=fontsize, ncol=1, bbox_to_anchor=(.997,.993), \\\n",
    "#                    edgecolor='None', facecolor='1', fancybox=False, bbox_transform=ax_list[0].transAxes, \\\n",
    "#                    loc='upper right', labelspacing=0, framealpha=0.666, \\\n",
    "#                    borderaxespad=0, borderpad=0.25, handlelength=1.75, \\\n",
    "#                    handletextpad=0.5)\n",
    "\n",
    "fig.savefig('mse_diffs_cross_sections_day1_HOURLY.png', dpi=600, bbox_inches='tight', transparent=True)"
   ]
  },
  {
   "cell_type": "markdown",
   "metadata": {},
   "source": [
    "## create figs for a movie"
   ]
  },
  {
   "cell_type": "code",
   "execution_count": null,
   "metadata": {
    "ExecuteTime": {
     "end_time": "2018-03-09T17:03:08.141404Z",
     "start_time": "2018-03-09T16:47:02.245Z"
    }
   },
   "outputs": [],
   "source": [
    "fontsize=12\n",
    "\n",
    "y_zero = numpy.zeros(xlong.shape[1])\n",
    "levels = numpy.arange(-1.25,1.26,0.25)\n",
    "levels_qvapor = numpy.arange(-1,1.1,0.5)\n",
    "colors_qvapor = ['orangered','coral','0.1','paleturquoise','deepskyblue']\n",
    "linestyles_qvapor = ['-']*2+[':']+['-']*2\n",
    "\n",
    "xticks_deg_E=numpy.array((280,300,320))\n",
    "xticks = -(360-xticks_deg_E)\n",
    "xticks_format=[str(tick)+DEGREE_SIGN+'E' for tick in xticks_deg_E]\n",
    "\n",
    "ax_list = []\n",
    "\n",
    "#every_nth_z=3\n",
    "z_indices=[2,6,7,8,9,10,11,12,13]\n",
    "every_nth_lon=10\n",
    "quiver_scale = 0.25 # 0.05 for 850-600, 0.1 for below 850\n",
    "quiver_shaft_width = 1.#.75\n",
    "quiver_key_scale = 5\n",
    "quiver_color = '0.1'\n",
    "quiver_head_length = 3\n",
    "quiver_head_axis_length = quiver_head_length\n",
    "\n",
    "contour_lines_list = []\n",
    "\n",
    "for t in range(24,48):\n",
    "    fig = mp.figure(figsize=(5,3))\n",
    "    ax = fig.add_subplot(111)#, projection=cartopy.crs.PlateCarree())\n",
    "    \n",
    "    contour_plot = ax.contourf(xlong[0,:]+360.,z,\\\n",
    "                               mse_diffs_lat_mean[t,:,:]/1000.,\\\n",
    "                               levels=levels,\\\n",
    "                               cmap='PuOr_r',extend='both')\n",
    "    ax.plot(xlong[0,:]+360.,pblh_400_lat_mean[t,:]/1000.,c='dodgerblue', label='control ABLH', lw=2)\n",
    "    ax.plot(xlong[0,:]+360.,pblh_1000_lat_mean[t,:]/1000.,c='darkturquoise',ls='--', label='high CO$_2$ ABLH', lw=2)\n",
    "\n",
    "    ax.quiver(xlong[0,:][::every_nth_lon]+360.,z[z_indices],\\\n",
    "              u_diffs_lat_mean[t,:,:][z_indices,::every_nth_lon],\\\n",
    "              w_diffs_lat_mean[t,:,:][z_indices,::every_nth_lon]*1000.,\\\n",
    "              units='xy', scale=quiver_scale, \\\n",
    "              color=quiver_color, zorder=3)\n",
    "\n",
    "    ax.tick_params(labelsize=fontsize)\n",
    "    ax.set_ylim(0,3)\n",
    "    ax.set_xlim(xlong.min()+55.+360.,xlong.max()+360.)\n",
    "    \n",
    "    ax.fill_between(xlong[0,:]+360., y_zero, HGT_M_lat_subset_mean/1000., facecolor='0.1', interpolate=True, zorder=2)\n",
    "    \n",
    "    ax.set_yticks([0,1,2,3])\n",
    "    ax.set_xticks([280,300,320])\n",
    "    ax.set_xticklabels(xticks_format)\n",
    "    ax.set_ylabel('km', fontsize=fontsize)\n",
    "    \n",
    "    ax.text(s='hour '+'{:02d}'.format(t+1), x=0, y=1.02,\\\n",
    "            transform=ax.transAxes,fontsize=fontsize,ha='left',va='bottom')\n",
    "    \n",
    "    ax_list.append(ax)\n",
    "\n",
    "    fig.tight_layout()\n",
    "    fig.savefig('mse_diffs_cross_sections_day1_HOURLY.png', dpi=600, bbox_inches='tight', transparent=True)\n",
    "\n",
    "    ax_height = top_pos.y1-bottom_pos.y0\n",
    "\n",
    "    ax_pos = ax.get_position()\n",
    "    cbar_axes = fig.add_axes([ax_pos.x1+0.05, ax_pos.y0, 0.03, ax_pos.height])\n",
    "    cbar = mp.colorbar(contour_plot, orientation='vertical', cax=cbar_axes)\n",
    "    cbar_axes.tick_params(labelsize=fontsize)\n",
    "    #cbar_axes.text(s='g kg$^{\\,-1}$', x=0.5, y=1.00666, transform=cbar_axes.transAxes, fontsize=fontsize, ha='center', va='bottom')\n",
    "    cbar.set_label('$\\Delta$ moist static energy (kJ kg$^{\\,-1}$)', fontsize=fontsize)\n",
    "    #cbar.set_ticks(numpy.arange(-0.8,0.81,0.2))\n",
    "\n",
    "    fig.savefig('mse_diffs_cross_sections_day1_HOUR'+'{:02d}'.format(t+1)+'.png', dpi=600, bbox_inches='tight', transparent=True)\n",
    "    \n",
    "    mp.close(fig)\n"
   ]
  },
  {
   "cell_type": "code",
   "execution_count": null,
   "metadata": {},
   "outputs": [],
   "source": []
  },
  {
   "cell_type": "code",
   "execution_count": null,
   "metadata": {
    "ExecuteTime": {
     "end_time": "2018-03-09T17:03:08.142228Z",
     "start_time": "2018-03-09T16:47:02.260Z"
    }
   },
   "outputs": [],
   "source": [
    "fontsize=12\n",
    "\n",
    "fig = mp.figure(figsize=(6.5,6))\n",
    "\n",
    "y_zero = numpy.zeros(xlong.shape[1])\n",
    "levels = numpy.arange(-0.5,0.51,0.125)\n",
    "levels_qvapor = numpy.arange(-1,1.1,0.5)\n",
    "colors_qvapor = ['orangered','coral','0.1','paleturquoise','deepskyblue']\n",
    "linestyles_qvapor = ['-']*2+[':']+['-']*2\n",
    "\n",
    "xticks_deg_E=numpy.array((280,300,320))\n",
    "xticks = -(360-xticks_deg_E)\n",
    "xticks_format=[str(tick)+DEGREE_SIGN+'E' for tick in xticks_deg_E]\n",
    "\n",
    "nrows=4;ncols=2\n",
    "ax_list = []\n",
    "\n",
    "#every_nth_z=3\n",
    "z_indices=[2,6,7,8,9,10,11,12,13]\n",
    "every_nth_lon=10\n",
    "quiver_scale = 0.25 # 0.05 for 850-600, 0.1 for below 850\n",
    "quiver_shaft_width = 1.#.75\n",
    "quiver_key_scale = 5\n",
    "quiver_color = '0.1'\n",
    "quiver_head_length = 3\n",
    "quiver_head_axis_length = quiver_head_length\n",
    "\n",
    "contour_lines_list = []\n",
    "\n",
    "for t in range(8):\n",
    "    ax = fig.add_subplot(nrows,ncols,t+1)#, projection=cartopy.crs.PlateCarree())\n",
    "    \n",
    "    contour_plot = ax.contourf(xlong[0,:]+360.,z,\\\n",
    "                               p_tot_diffs_array_day1[t]/100.,\\\n",
    "                               levels=levels,\\\n",
    "                               cmap='RdBu_r',extend='both')\n",
    "    ax.plot(xlong[0,:]+360.,pblh_400_array_day1[t]/1000.,c='dodgerblue', label='control ABLH', lw=2)\n",
    "    ax.plot(xlong[0,:]+360.,pblh_1000_array_day1[t]/1000.,c='darkturquoise',ls='--', label='high CO$_2$ ABLH', lw=2)\n",
    "\n",
    "    ax.quiver(xlong[0,:][::every_nth_lon]+360.,z[z_indices],\\\n",
    "              u_diffs_array_day1[t][z_indices,::every_nth_lon],\\\n",
    "              w_diffs_array_day1[t][z_indices,::every_nth_lon]*1000.,\\\n",
    "              units='xy', scale=quiver_scale, \\\n",
    "              color=quiver_color, zorder=3)\n",
    "    \n",
    "    if t in [6,7]:\n",
    "        contour_lines = ax.contour(xlong[0,:]+360.,z,\\\n",
    "                                   qvapor_diffs_array_day1[t]*L_v/1000.,\\\n",
    "                                   levels=levels_qvapor,\\\n",
    "                                   linewidths=1,\\\n",
    "                                   colors=colors_qvapor,\\\n",
    "                                   linestyles=linestyles_qvapor, extend='both')\n",
    "        contour_lines_list.append(contour_lines)\n",
    "\n",
    "    else:\n",
    "        for line in range(levels_qvapor.__len__()):        \n",
    "            ax.contour(xlong[0,:]+360.,z,\\\n",
    "                                       qvapor_diffs_array_day1[t]*L_v/1000.,\\\n",
    "                                       levels=levels_qvapor[line],\\\n",
    "                                       linewidths=1,\\\n",
    "                                       colors=colors_qvapor[line],\\\n",
    "                                       linestyles=linestyles_qvapor[line], extend='both')\n",
    "    \n",
    "    ax.tick_params(labelsize=fontsize)\n",
    "    ax.set_ylim(0,3)\n",
    "    ax.set_xlim(xlong.min()+55.+360.,xlong.max()+360.)\n",
    "    \n",
    "    ax.fill_between(xlong[0,:]+360., y_zero, HGT_M_lat_subset_mean/1000., facecolor='0.1', interpolate=True, zorder=2)\n",
    "    \n",
    "    ax.set_yticks([0,1,2,3])\n",
    "    ax.set_xticks([280,300,320])\n",
    "    ax.set_xticklabels(xticks_format)\n",
    "    ax.set_ylabel('km', fontsize=fontsize)\n",
    "    \n",
    "    ax.text(s='('+string.ascii_lowercase[t]+') hour '+hour_strings[t], x=0, y=1.02,\\\n",
    "            transform=ax.transAxes,fontsize=fontsize,ha='left',va='bottom')\n",
    "    \n",
    "    ax_list.append(ax)\n",
    "\n",
    "fig.tight_layout()\n",
    "\n",
    "ax_height = top_pos.y1-bottom_pos.y0\n",
    "\n",
    "top_pos = ax_list[1].get_position()\n",
    "bottom_pos = ax_list[7].get_position()\n",
    "cbar_axes = fig.add_axes([bottom_pos.x1+0.05, bottom_pos.y0, 0.03, ax_height*0.675])\n",
    "cbar = mp.colorbar(contour_plot, orientation='vertical', cax=cbar_axes)\n",
    "cbar_axes.tick_params(labelsize=fontsize)\n",
    "#cbar_axes.text(s='g kg$^{\\,-1}$', x=0.5, y=1.00666, transform=cbar_axes.transAxes, fontsize=fontsize, ha='center', va='bottom')\n",
    "cbar.set_label('$\\Delta$ pressure (hPa)', fontsize=fontsize)\n",
    "cbar.set_ticks(numpy.arange(-0.5,0.51,0.25))\n",
    "\n",
    "cbar_lines_ax = fig.add_axes([bottom_pos.x1+0.05, bottom_pos.y0+ax_height*0.725, 0.03, ax_height*0.275])\n",
    "cbar_lines = fig.colorbar(contour_lines_list[0], cax=cbar_lines_ax)\n",
    "cbar_lines_ax.tick_params(labelsize=fontsize)#, length=0)\n",
    "cbar_lines.set_label('$\\Delta$ spec. hum. (kJ kg$^{\\,-1}$)', fontsize=fontsize)\n",
    "cbar_lines.outline.set_visible(False)\n",
    "cbar_lines_ax.tick_params(axis='y', which='both', right='off')\n",
    "cbar_lines_ax.get_children()[0].set_linewidths(2)\n",
    "cbar_lines_ax.get_children()[0].set_linestyles(['-','-',':','-','-'])\n",
    "cbar_lines_ax.get_children()[1].set_facecolor('None')\n",
    "cbar_lines_ax.get_children()[2].set_facecolor('None')\n",
    "cbar_lines_ax.set_yticklabels(['$-1$','$-0.5$','0','0.5','1'])\n",
    "\n",
    "handles, labels = ax_list[0].get_legend_handles_labels()\n",
    "legend = ax_list[0].legend(handles, labels, fontsize=fontsize, ncol=1, bbox_to_anchor=(.997,.993), \\\n",
    "                   edgecolor='None', facecolor='1', fancybox=False, bbox_transform=ax_list[0].transAxes, \\\n",
    "                   loc='upper right', labelspacing=0, framealpha=0.666, \\\n",
    "                   borderaxespad=0, borderpad=0.25, handlelength=1.75, \\\n",
    "                   handletextpad=0.5)\n",
    "\n",
    "fig.savefig('p_tot_diffs_cross_sections_day1.png', dpi=600, bbox_inches='tight', transparent=True)"
   ]
  },
  {
   "cell_type": "code",
   "execution_count": null,
   "metadata": {
    "ExecuteTime": {
     "end_time": "2018-03-09T17:03:08.143181Z",
     "start_time": "2018-03-09T16:47:02.266Z"
    }
   },
   "outputs": [],
   "source": [
    "fontsize=12\n",
    "\n",
    "fig = mp.figure(figsize=(6.5,6))\n",
    "\n",
    "y_zero = numpy.zeros(xlong.shape[1])\n",
    "levels = numpy.arange(-1.5,1.51,0.25)\n",
    "levels_qvapor = numpy.arange(-1,1.1,0.5)\n",
    "colors_qvapor = ['orangered','coral','0.1','paleturquoise','deepskyblue']\n",
    "linestyles_qvapor = ['-']*2+[':']+['-']*2\n",
    "\n",
    "xticks_deg_E=numpy.array((280,300,320))\n",
    "xticks = -(360-xticks_deg_E)\n",
    "xticks_format=[str(tick)+DEGREE_SIGN+'E' for tick in xticks_deg_E]\n",
    "\n",
    "nrows=4;ncols=2\n",
    "ax_list = []\n",
    "\n",
    "contour_lines_list = []\n",
    "\n",
    "for t in range(8):\n",
    "    ax = fig.add_subplot(nrows,ncols,t+1)#, projection=cartopy.crs.PlateCarree())\n",
    "    \n",
    "    contour_plot = ax.contourf(xlong[0,:]+360.,z,\\\n",
    "                               tk_diffs_array_day1[t]*c_p/1000.,\\\n",
    "                               levels=levels,\\\n",
    "                               cmap='RdGy_r',extend='both')\n",
    "    ax.plot(xlong[0,:]+360.,pblh_400_array_day1[t]/1000.,c='dodgerblue', label='control ABLH', lw=2)\n",
    "    ax.plot(xlong[0,:]+360.,pblh_1000_array_day1[t]/1000.,c='darkturquoise',ls='--', label='high CO$_2$ ABLH', lw=2)\n",
    " \n",
    "    if t in [6,7]:\n",
    "        contour_lines = ax.contour(xlong[0,:]+360.,z,\\\n",
    "                                   qvapor_diffs_array_day1[t]*L_v/1000.,\\\n",
    "                                   levels=levels_qvapor,\\\n",
    "                                   linewidths=1,\\\n",
    "                                   colors=colors_qvapor,\\\n",
    "                                   linestyles=linestyles_qvapor, extend='both')\n",
    "        contour_lines_list.append(contour_lines)\n",
    "\n",
    "    else:\n",
    "        for line in range(levels_qvapor.__len__()):        \n",
    "            ax.contour(xlong[0,:]+360.,z,\\\n",
    "                                       qvapor_diffs_array_day1[t]*L_v/1000.,\\\n",
    "                                       levels=levels_qvapor[line],\\\n",
    "                                       linewidths=1,\\\n",
    "                                       colors=colors_qvapor[line],\\\n",
    "                                       linestyles=linestyles_qvapor[line], extend='both')\n",
    "    \n",
    "    ax.tick_params(labelsize=fontsize)\n",
    "    ax.set_ylim(0,3)\n",
    "    ax.set_xlim(xlong.min()+55.+360.,xlong.max()+360.)\n",
    "    \n",
    "    ax.fill_between(xlong[0,:]+360., y_zero, HGT_M_lat_subset_mean/1000., facecolor='0.1', interpolate=True, zorder=2)\n",
    "    \n",
    "    ax.set_yticks([0,1,2,3])\n",
    "    ax.set_xticks([280,300,320])\n",
    "    ax.set_xticklabels(xticks_format)\n",
    "    ax.set_ylabel('km', fontsize=fontsize)\n",
    "    \n",
    "    ax.text(s='('+string.ascii_lowercase[t]+') hour '+hour_strings[t], x=0, y=1.02,\\\n",
    "            transform=ax.transAxes,fontsize=fontsize,ha='left',va='bottom')\n",
    "    \n",
    "    ax_list.append(ax)\n",
    "\n",
    "fig.tight_layout()\n",
    "\n",
    "ax_height = top_pos.y1-bottom_pos.y0\n",
    "\n",
    "top_pos = ax_list[1].get_position()\n",
    "bottom_pos = ax_list[7].get_position()\n",
    "cbar_axes = fig.add_axes([bottom_pos.x1+0.05, bottom_pos.y0, 0.03, ax_height*0.675])\n",
    "cbar = mp.colorbar(contour_plot, orientation='vertical', cax=cbar_axes)\n",
    "cbar_axes.tick_params(labelsize=fontsize)\n",
    "#cbar_axes.text(s='g kg$^{\\,-1}$', x=0.5, y=1.00666, transform=cbar_axes.transAxes, fontsize=fontsize, ha='center', va='bottom')\n",
    "cbar.set_label('$\\Delta$ temperature (kJ kg$^{\\,-1}$)', fontsize=fontsize)\n",
    "cbar.set_ticks(numpy.arange(-1.5,1.51,0.5))\n",
    "\n",
    "cbar_lines_ax = fig.add_axes([bottom_pos.x1+0.05, bottom_pos.y0+ax_height*0.725, 0.03, ax_height*0.275])\n",
    "cbar_lines = fig.colorbar(contour_lines_list[0], cax=cbar_lines_ax)\n",
    "cbar_lines_ax.tick_params(labelsize=fontsize)#, length=0)\n",
    "cbar_lines.set_label('$\\Delta$ spec. hum. (kJ kg$^{\\,-1}$)', fontsize=fontsize)\n",
    "cbar_lines.outline.set_visible(False)\n",
    "cbar_lines_ax.tick_params(axis='y', which='both', right='off')\n",
    "cbar_lines_ax.get_children()[0].set_linewidths(2)\n",
    "cbar_lines_ax.get_children()[0].set_linestyles(['-','-',':','-','-'])\n",
    "cbar_lines_ax.get_children()[1].set_facecolor('None')\n",
    "cbar_lines_ax.get_children()[2].set_facecolor('None')\n",
    "cbar_lines_ax.set_yticklabels(['$-1$','$-0.5$','0','0.5','1'])\n",
    "\n",
    "handles, labels = ax_list[0].get_legend_handles_labels()\n",
    "legend = ax_list[0].legend(handles, labels, fontsize=fontsize, ncol=1, bbox_to_anchor=(.997,.993), \\\n",
    "                   edgecolor='None', facecolor='1', fancybox=False, bbox_transform=ax_list[0].transAxes, \\\n",
    "                   loc='upper right', labelspacing=0, framealpha=0.666, \\\n",
    "                   borderaxespad=0, borderpad=0.25, handlelength=1.75, \\\n",
    "                   handletextpad=0.5)\n",
    "\n",
    "fig.savefig('temp_diffs_cross_sections_day1.png', dpi=600, bbox_inches='tight', transparent=True)"
   ]
  },
  {
   "cell_type": "code",
   "execution_count": null,
   "metadata": {
    "ExecuteTime": {
     "end_time": "2018-03-09T17:03:08.144136Z",
     "start_time": "2018-03-09T16:47:02.272Z"
    }
   },
   "outputs": [],
   "source": [
    "fontsize=12\n",
    "\n",
    "#nrows=4;ncols=2\n",
    "#fig,axes = mp.subplots(nrows=nrows,ncols=ncols,subplot_kw={'projection': cartopy.crs.PlateCarree()})\n",
    "#fig.set_size_inches(3.25,4)\n",
    "\n",
    "fig = mp.figure(figsize=(6.5,6))\n",
    "\n",
    "y_zero = numpy.zeros(xlong.shape[1])\n",
    "levels = numpy.arange(325,346,2.5)\n",
    "levels_qvapor = numpy.arange(5,41,5) # kJ/kg\n",
    "\n",
    "xticks_deg_E=numpy.array((280,300,320))\n",
    "xticks = -(360-xticks_deg_E)\n",
    "xticks_format=[str(tick)+DEGREE_SIGN+'E' for tick in xticks_deg_E]\n",
    "\n",
    "#every_nth_z=3\n",
    "z_indices=[2,6,7,8,9,10,11,12,13]\n",
    "every_nth_lon=10\n",
    "quiver_scale = 2.5 # 0.05 for 850-600, 0.1 for below 850\n",
    "quiver_shaft_width = 1.#.75\n",
    "quiver_key_scale = 5\n",
    "quiver_color = '0.1'\n",
    "quiver_head_length = 3\n",
    "quiver_head_axis_length = quiver_head_length\n",
    "\n",
    "nrows=4;ncols=2\n",
    "ax_list = []\n",
    "\n",
    "for t in range(8):\n",
    "    ax = fig.add_subplot(nrows,ncols,t+1)#, projection=cartopy.crs.PlateCarree())\n",
    "    \n",
    "    contour_plot = ax.contourf(xlong[0,:]+360.,z,mse_400_array_day1[t]/1000.,\\\n",
    "                               levels=levels,\\\n",
    "                               cmap='Reds',extend='max')\n",
    "    #ax.plot(xlong[0,:]+360.,pblh_1000_array[t]/1000.,c='red',ls='--', label='ABLH high CO$_2$')\n",
    "    \n",
    "    contour_lines = ax.contour(xlong[0,:]+360.,z,qvapor_400_array_day1[t]*L_v/1000.,\\\n",
    "                               levels=levels_qvapor,\\\n",
    "                               cmap=cmap_partial, extend='both')\n",
    "\n",
    "    ax.plot(xlong[0,:]+360.,pblh_400_array_day1[t]/1000.,c='dodgerblue', label='control ABLH', lw=2)\n",
    "\n",
    "    ax.quiver(xlong[0,:][::every_nth_lon]+360.,z[z_indices],\\\n",
    "              u_400_array_day1[t][z_indices,::every_nth_lon],\\\n",
    "              w_400_array_day1[t][z_indices,::every_nth_lon]*1000.,\\\n",
    "              units='xy', scale=quiver_scale, \\\n",
    "              color=quiver_color, zorder=3)\n",
    "\n",
    "    ax.tick_params(labelsize=fontsize)\n",
    "    ax.set_ylim(0,3)\n",
    "    ax.set_xlim(xlong.min()+55.+360.,xlong.max()+360.)\n",
    "    \n",
    "    ax.fill_between(xlong[0,:]+360., y_zero, HGT_M_lat_subset_mean/1000., facecolor='0.1', interpolate=True,zorder=2)\n",
    "    \n",
    "    ax.set_yticks([0,1,2,3])\n",
    "    ax.set_xticks([280,300,320])\n",
    "    ax.set_xticklabels(xticks_format)\n",
    "    ax.set_ylabel('km', fontsize=fontsize)\n",
    "    \n",
    "    ax.text(s='('+string.ascii_lowercase[t]+') hour '+hour_strings[t], x=0, y=1.02,\\\n",
    "            transform=ax.transAxes,fontsize=fontsize,ha='left',va='bottom')\n",
    "    \n",
    "    ax_list.append(ax)\n",
    "\n",
    "fig.tight_layout()\n",
    "\n",
    "top_pos = ax_list[1].get_position()\n",
    "bottom_pos = ax_list[7].get_position()\n",
    "\n",
    "ax_height = top_pos.y1-bottom_pos.y0\n",
    "\n",
    "cbar_axes = fig.add_axes([bottom_pos.x1+0.05, bottom_pos.y0, 0.03, ax_height*0.675])\n",
    "cbar = mp.colorbar(contour_plot, orientation='vertical', cax=cbar_axes)\n",
    "cbar_axes.tick_params(labelsize=fontsize)\n",
    "#cbar_axes.text(s='g kg$^{\\,-1}$', x=0.5, y=1.00666, transform=cbar_axes.transAxes, fontsize=fontsize, ha='center', va='bottom')\n",
    "cbar.set_label('moist static energy (kJ kg$^{\\,-1}$)', fontsize=fontsize)\n",
    "cbar.set_ticks(numpy.arange(325,346,5))\n",
    "\n",
    "cbar_lines_ax = fig.add_axes([bottom_pos.x1+0.05, bottom_pos.y0+ax_height*0.725, 0.03, ax_height*0.275])\n",
    "cbar_lines = fig.colorbar(contour_lines, cax=cbar_lines_ax)\n",
    "cbar_lines_ax.tick_params(labelsize=fontsize)#, length=0)\n",
    "cbar_lines.set_label('spec. hum. (kJ kg$^{\\,-1}$)', fontsize=fontsize)\n",
    "#cbar_lines_ax.get_children().set_linewidths([2]*7)\n",
    "#cbar_lines_ax.text(s='water\\nvapor', x=0, y=1.05, ha='left', va='bottom', \\\n",
    "#                  transform=cbar_lines_ax.transAxes, fontsize=fontsize)\n",
    "cbar_lines.outline.set_visible(False)\n",
    "cbar_lines_ax.tick_params(axis='y', which='both', right='off')\n",
    "cbar_lines_ax.get_children()[0].set_linewidths(2)\n",
    "cbar_lines_ax.get_children()[1].set_facecolor('None')\n",
    "cbar_lines_ax.get_children()[2].set_facecolor('None')\n",
    "\n",
    "\n",
    "#cbar_qvapor = mp.colorbar(contour_lines)\n",
    "\n",
    "handles, labels = ax_list[0].get_legend_handles_labels()\n",
    "legend = ax_list[0].legend(handles, labels, fontsize=fontsize, ncol=1, bbox_to_anchor=(.997,.993), \\\n",
    "                   edgecolor='None', facecolor='1', fancybox=False, bbox_transform=ax_list[0].transAxes, \\\n",
    "                   loc='upper right', labelspacing=0, \\\n",
    "                   borderaxespad=0, borderpad=0.25, handlelength=1.75, \\\n",
    "                   handletextpad=0.5, framealpha=0.666)\n",
    "\n",
    "fig.savefig('mse_400_cross_sections_zcoords_day1.png', dpi=600, bbox_inches='tight', transparent=True)"
   ]
  },
  {
   "cell_type": "markdown",
   "metadata": {},
   "source": [
    "# First day hourly snapshots"
   ]
  },
  {
   "cell_type": "markdown",
   "metadata": {},
   "source": []
  },
  {
   "cell_type": "code",
   "execution_count": null,
   "metadata": {},
   "outputs": [],
   "source": []
  },
  {
   "cell_type": "code",
   "execution_count": null,
   "metadata": {},
   "outputs": [],
   "source": []
  },
  {
   "cell_type": "code",
   "execution_count": null,
   "metadata": {},
   "outputs": [],
   "source": []
  },
  {
   "cell_type": "markdown",
   "metadata": {
    "heading_collapsed": true
   },
   "source": [
    "# Hövmoller"
   ]
  },
  {
   "cell_type": "code",
   "execution_count": null,
   "metadata": {
    "ExecuteTime": {
     "end_time": "2018-03-09T17:03:08.161981Z",
     "start_time": "2018-03-09T16:47:02.304Z"
    },
    "hidden": true
   },
   "outputs": [],
   "source": [
    "weights_0_1km = numpy.hstack((numpy.array(z[0]), numpy.diff(z[[0,1,2,3,4,5,6,7]])))"
   ]
  },
  {
   "cell_type": "markdown",
   "metadata": {
    "hidden": true
   },
   "source": [
    "## mse layer means for Hovmoller"
   ]
  },
  {
   "cell_type": "code",
   "execution_count": null,
   "metadata": {
    "ExecuteTime": {
     "end_time": "2018-03-09T17:03:08.162862Z",
     "start_time": "2018-03-09T16:47:02.315Z"
    },
    "hidden": true
   },
   "outputs": [],
   "source": [
    "mse_diffs_lat_subset.shape\n",
    "mse_diffs_lat_subset_1_3km = numpy.nanmean(mse_diffs_lat_subset[:,[7,8,9,10,11],:,:], axis=1)\n",
    "mse_diffs_lat_subset_1_3km_latmean = numpy.nanmean(mse_diffs_lat_subset_1_3km, axis=1)\n",
    "\n",
    "mse_diffs_lat_subset_0_1km = numpy.nanmean(mse_diffs_lat_subset[:,[0,1,2,3,4,5],:,:], axis=1)\n",
    "mse_diffs_lat_subset_0_1km_latmean = numpy.nanmean(mse_diffs_lat_subset_0_1km, axis=1)"
   ]
  },
  {
   "cell_type": "markdown",
   "metadata": {
    "hidden": true
   },
   "source": [
    "## raintot latmean for Hovmoller"
   ]
  },
  {
   "cell_type": "code",
   "execution_count": null,
   "metadata": {
    "ExecuteTime": {
     "end_time": "2018-03-09T17:03:08.164753Z",
     "start_time": "2018-03-09T16:47:02.325Z"
    },
    "hidden": true
   },
   "outputs": [],
   "source": [
    "#raintot_diffs_lat_subset.shape\n",
    "raintot_diffs_lat_subset_latmean = numpy.mean(raintot_diffs_lat_subset, axis=1)"
   ]
  },
  {
   "cell_type": "markdown",
   "metadata": {
    "hidden": true
   },
   "source": [
    "## raintot hourly latmean for Hovmoller"
   ]
  },
  {
   "cell_type": "code",
   "execution_count": null,
   "metadata": {
    "ExecuteTime": {
     "end_time": "2018-03-09T17:03:08.166910Z",
     "start_time": "2018-03-09T16:47:02.333Z"
    },
    "hidden": true
   },
   "outputs": [],
   "source": [
    "raintot_hourly_diffs_lat_subset_latmean = numpy.mean(raintot_hourly_diffs_lat_subset, axis=1)"
   ]
  },
  {
   "cell_type": "code",
   "execution_count": null,
   "metadata": {
    "ExecuteTime": {
     "end_time": "2018-03-09T17:03:08.168966Z",
     "start_time": "2018-03-09T16:47:02.339Z"
    },
    "hidden": true
   },
   "outputs": [],
   "source": [
    "import matplotlib.dates\n",
    "import matplotlib.gridspec"
   ]
  },
  {
   "cell_type": "code",
   "execution_count": null,
   "metadata": {
    "ExecuteTime": {
     "end_time": "2018-03-09T17:03:08.171356Z",
     "start_time": "2018-03-09T16:47:02.346Z"
    },
    "hidden": true
   },
   "outputs": [],
   "source": [
    "fontsize=12\n",
    "fig = mp.figure(figsize=(6.5,4.5))\n",
    "ax1=fig.add_subplot(121)\n",
    "\n",
    "levels=numpy.arange(-1,1.1,0.125)\n",
    "\n",
    "contour_plot = ax1.contourf(xlong[0,:]+360.,time_datetimes,\\\n",
    "                           mse_diffs_lat_subset_0_1km_latmean/1000.,\\\n",
    "                           cmap='PuOr_r',\\\n",
    "                           levels=levels,\\\n",
    "                           extend='both')\n",
    "contour_line = ax1.contour(xlong[0,:]+360.,time_datetimes,\\\n",
    "                           mse_diffs_lat_subset_0_1km_latmean/1000.,\\\n",
    "                           levels=[-0.25,0.25],\\\n",
    "                           colors='0.1',\\\n",
    "                           linestyles=['--'],\\\n",
    "                           linewidths=[0.5])\n",
    "ax1.set_ylabel('day', fontsize=fontsize)\n",
    "ax1.text(s='(a) $\\Delta$ MSE in $0-1$ km layer', x=0, y=1.02,\\\n",
    "         fontsize=fontsize, transform=ax1.transAxes)\n",
    "\n",
    "ax1.set_xticks([280,300,320])\n",
    "ax1.set_xticklabels(xticks_format)\n",
    "ax1.set_xlim(275.,325.)\n",
    "ax1.set_ylim(datetime.datetime(1979,1,1),datetime.datetime(1979,1,11))\n",
    "ax1.set_yticks(time_datetimes[[t.hour==0 for t in time_datetimes]])\n",
    "ax1.yaxis.set_major_formatter(matplotlib.dates.DateFormatter('%d'))\n",
    "ax1.tick_params(labelsize=fontsize)\n",
    "ax1.yaxis.grid(True,linestyle='--')\n",
    "\n",
    "\n",
    "\n",
    "\n",
    "ax2=fig.add_subplot(122)\n",
    "contour_plot = ax2.contourf(xlong[0,:]+360.,time_datetimes,\\\n",
    "                           mse_diffs_lat_subset_1_3km_latmean/1000.,\\\n",
    "                           cmap='PuOr_r',\\\n",
    "                           levels=levels,\\\n",
    "                           extend='both')\n",
    "contour_line = ax2.contour(xlong[0,:]+360.,time_datetimes,\\\n",
    "                           mse_diffs_lat_subset_1_3km_latmean/1000.,\\\n",
    "                           levels=[-0.25,0.25],\\\n",
    "                           colors='0.1',\\\n",
    "                           linestyles=['--'],\\\n",
    "                           linewidths=[0.5])\n",
    "ax2.text(s='(b) $\\Delta$ MSE in $1-3$ km layer', x=0, y=1.02,\\\n",
    "         fontsize=fontsize, transform=ax2.transAxes)\n",
    "ax2.set_xticks([280,300,320])\n",
    "ax2.set_xticklabels(xticks_format)\n",
    "ax2.set_xlim(275.,325.)\n",
    "ax2.set_ylim(datetime.datetime(1979,1,1),datetime.datetime(1979,1,11))\n",
    "ax2.set_yticks(time_datetimes[[t.hour==0 for t in time_datetimes]])\n",
    "ax2.yaxis.set_major_formatter(matplotlib.dates.DateFormatter('%d'))\n",
    "ax2.tick_params(labelsize=fontsize)\n",
    "\n",
    "fig.tight_layout()\n",
    "\n",
    "\n",
    "\n",
    "\n",
    "\n",
    "ax1_pos = ax1.get_position()\n",
    "ax2_pos = ax2.get_position()\n",
    "cbar_ax = fig.add_axes([ax1_pos.x0,ax1_pos.y0-0.12,ax2_pos.x1-ax1_pos.x0,0.04])\n",
    "cbar = mp.colorbar(contour_plot, cax=cbar_ax, orientation='horizontal')\n",
    "cbar_ax.tick_params(labelsize=fontsize)\n",
    "cbar.set_ticks([-1.,-.5,-0.25,0,0.25,.5,1])\n",
    "cbar_ax.axvline(cbar_ax.get_xticks()[2],lw=0.5,c='0.1',ls='--')\n",
    "cbar_ax.axvline(cbar_ax.get_xticks()[4],lw=0.5,c='0.1',ls='--')\n",
    "cbar.set_label('kJ kg$^{\\,-1}$', fontsize=fontsize)\n",
    "\n",
    "ax1_orog = fig.add_axes([ax1_pos.x0,ax1_pos.y0,ax1_pos.width,ax1_pos.height*0.2])\n",
    "ax1_orog.axis('off')\n",
    "ax1_orog.plot(xlong[0,:]+360., HGT_M_lat_subset_mean/1000., lw=1.5, ls='--', c='0.1')#, alpha=0.5)\n",
    "ax1_orog.set_xlim(ax1.get_xlim())\n",
    "\n",
    "ax2_orog = fig.add_axes([ax2_pos.x0,ax2_pos.y0,ax2_pos.width,ax2_pos.height*0.2])\n",
    "ax2_orog.axis('off')\n",
    "ax2_orog.plot(xlong[0,:]+360., HGT_M_lat_subset_mean/1000., lw=1.5, ls='--', c='0.1')#, alpha=0.5)\n",
    "ax2_orog.set_xlim(ax2.get_xlim())#xlong.min()+55.+360.,xlong.max()+360.)\n",
    "\n",
    "ax2.yaxis.grid(True,linestyle='--')\n",
    "\n",
    "speed1 = 2.3 #6.3 # m/s\n",
    "dt = 86400. # seconds\n",
    "dx = dt*speed1\n",
    "slope1 = dt/-dx # sec/meter\n",
    "intercept1 = 10*dt\n",
    "xvals1 = numpy.linspace(ax1.get_xlim()[0],ax1.get_xlim()[1],100)\n",
    "xvals1_m = xvals1*50000.\n",
    "yvals1 = slope1*(xvals1_m-ax2.get_xlim()[0]*50000) + intercept1\n",
    "start_date = datetime.datetime(1979,1,1,0)\n",
    "yvals1_datetime = [start_date + datetime.timedelta(seconds=int(t)) for t in yvals1]\n",
    "\n",
    "speed2 = 5.1 #6.3 # m/s\n",
    "dt = 86400. # seconds\n",
    "dx = dt*speed2\n",
    "slope2 = dt/-dx # sec/meter\n",
    "intercept2 = 7.*dt\n",
    "xvals2 = numpy.linspace(ax2.get_xlim()[0],ax2.get_xlim()[1],100)\n",
    "xvals2_m = xvals2*50000.\n",
    "yvals2 = slope2*(xvals2_m-ax2.get_xlim()[0]*50000) + intercept2\n",
    "start_date = datetime.datetime(1979,1,1,0)\n",
    "yvals2_datetime = [start_date + datetime.timedelta(seconds=int(t)) for t in yvals2]\n",
    "\n",
    "\n",
    "ax1.plot(xvals1,yvals1_datetime,lw=0.75,ls='--',c='0.1')\n",
    "ax1.plot(xvals2,yvals2_datetime,lw=0.75,ls='--',c='0.1')\n",
    "\n",
    "ax2.plot(xvals1,yvals1_datetime,lw=0.75,ls='--',c='0.1')\n",
    "ax2.plot(xvals2,yvals2_datetime,lw=0.75,ls='--',c='0.1')\n",
    "\n",
    "plot_ratio = ax2.get_data_ratio()\n",
    "\n",
    "slope_rotation1 = numpy.degrees(numpy.arctan(slope1/plot_ratio))\n",
    "ax2.text(s='$-\\,$'+str(speed1)+' m s$^{\\,-1}$',x=0.715,y=0.16,transform=ax2.transAxes,\\\n",
    "         ha='center',\\\n",
    "         va='center',\\\n",
    "         fontsize=fontsize,\\\n",
    "         rotation=slope_rotation1+4)\n",
    "\n",
    "slope_rotation2 = numpy.degrees(numpy.arctan(slope2/plot_ratio))\n",
    "ax2.text(s='$-\\,$'+str(speed2)+' m s$^{\\,-1}$',x=0.82,y=0.27,transform=ax2.transAxes,\\\n",
    "         ha='center',\\\n",
    "         va='center',\\\n",
    "         fontsize=fontsize,\\\n",
    "         rotation=slope_rotation2+4)\n",
    "\n",
    "fig.savefig('figureXX_hovmoller.png',dpi=600,bbox_inches='tight',transparent=True)"
   ]
  },
  {
   "cell_type": "code",
   "execution_count": null,
   "metadata": {
    "ExecuteTime": {
     "end_time": "2018-03-09T17:03:08.173371Z",
     "start_time": "2018-03-09T16:47:02.352Z"
    },
    "hidden": true
   },
   "outputs": [],
   "source": [
    "cf=mp.contourf(raintot_diffs_lat_subset_latmean,levels=numpy.arange(-5,5.1,0.25),extend='both',cmap='RdBu');mp.colorbar(cf)"
   ]
  },
  {
   "cell_type": "code",
   "execution_count": null,
   "metadata": {
    "ExecuteTime": {
     "end_time": "2018-03-09T17:03:08.175420Z",
     "start_time": "2018-03-09T16:47:02.359Z"
    },
    "hidden": true
   },
   "outputs": [],
   "source": [
    "cf=mp.contourf(raintot_hourly_diffs_lat_subset_latmean*24.,levels=numpy.arange(-2.5,2.51,0.25),extend='both',cmap='RdBu');mp.colorbar(cf)"
   ]
  },
  {
   "cell_type": "code",
   "execution_count": null,
   "metadata": {
    "ExecuteTime": {
     "end_time": "2018-03-09T17:03:08.177940Z",
     "start_time": "2018-03-09T16:47:02.366Z"
    },
    "hidden": true
   },
   "outputs": [],
   "source": [
    "fontsize=12\n",
    "fig = mp.figure(figsize=(7.5,4))\n",
    "\n",
    "ax1=fig.add_subplot(131)\n",
    "\n",
    "levels=numpy.arange(-1,1.1,0.125)\n",
    "levels_precip = numpy.arange(-3,3.1,0.5)\n",
    "\n",
    "contour_plot = ax1.contourf(xlong[0,:]+360.,time_datetimes,\\\n",
    "                           mse_diffs_lat_subset_0_1km_latmean/1000.,\\\n",
    "                           cmap='PuOr_r',\\\n",
    "                           levels=levels,\\\n",
    "                           extend='both')\n",
    "contour_line = ax1.contour(xlong[0,:]+360.,time_datetimes,\\\n",
    "                           mse_diffs_lat_subset_0_1km_latmean/1000.,\\\n",
    "                           levels=[-0.25,0.25],\\\n",
    "                           colors='0.1',\\\n",
    "                           linestyles=['--'],\\\n",
    "                           linewidths=[0.5])\n",
    "ax1.set_ylabel('day', fontsize=fontsize)\n",
    "ax1.text(s='(a) $\\Delta$ MSE in $0-1$ km', x=0, y=1.02,\\\n",
    "         fontsize=fontsize, transform=ax1.transAxes)\n",
    "\n",
    "ax1.set_xticks([280,300,320])\n",
    "ax1.set_xticklabels(xticks_format)\n",
    "ax1.set_xlim(275.,325.)\n",
    "ax1.set_ylim(datetime.datetime(1979,1,1),datetime.datetime(1979,1,11))\n",
    "ax1.set_yticks(time_datetimes[[t.hour==0 for t in time_datetimes]])\n",
    "ax1.yaxis.set_major_formatter(matplotlib.dates.DateFormatter('%d'))\n",
    "ax1.tick_params(labelsize=fontsize)\n",
    "\n",
    "\n",
    "\n",
    "\n",
    "ax2=fig.add_subplot(132)\n",
    "contour_plot = ax2.contourf(xlong[0,:]+360.,time_datetimes,\\\n",
    "                           mse_diffs_lat_subset_1_3km_latmean/1000.,\\\n",
    "                           cmap='PuOr_r',\\\n",
    "                           levels=levels,\\\n",
    "                           extend='both')\n",
    "contour_line = ax2.contour(xlong[0,:]+360.,time_datetimes,\\\n",
    "                           mse_diffs_lat_subset_1_3km_latmean/1000.,\\\n",
    "                           levels=[-0.25,0.25],\\\n",
    "                           colors='0.1',\\\n",
    "                           linestyles=['--'],\\\n",
    "                           linewidths=[0.5])\n",
    "\n",
    "ax2.text(s='(b) $\\Delta$ MSE in $1-3$ km', x=0, y=1.02,\\\n",
    "         fontsize=fontsize, transform=ax2.transAxes)\n",
    "ax2.set_xticks([280,300,320])\n",
    "ax2.set_xticklabels(xticks_format)\n",
    "ax2.set_xlim(275.,325.)\n",
    "ax2.set_ylim(datetime.datetime(1979,1,1),datetime.datetime(1979,1,11))\n",
    "ax2.set_yticks(time_datetimes[[t.hour==0 for t in time_datetimes]])\n",
    "ax2.yaxis.set_major_formatter(matplotlib.dates.DateFormatter('%d'))\n",
    "ax2.tick_params(labelsize=fontsize)\n",
    "\n",
    "ax3 = fig.add_subplot(133)\n",
    "contour_rain = ax3.contourf(xlong[0,:]+360.,time_datetimes,\\\n",
    "                           raintot_hourly_diffs_lat_subset_latmean*24.,\\\n",
    "                           levels=levels_precip,\\\n",
    "                           cmap='BrBG', extend='both')\n",
    "# contour_rain = ax3.pcolor(xlong[0,:]+360.,time_datetimes,\\\n",
    "#                            raintot_hourly_diffs_lat_subset_latmean*24.,\\\n",
    "#                            vmin=levels_precip.min(),vmax=levels_precip.max(),\\\n",
    "#                            cmap='BrBG',snap=True)\n",
    "ax3.text(s='(c) $\\Delta$ hourly precip.', x=0, y=1.02,\\\n",
    "         fontsize=fontsize, transform=ax3.transAxes)\n",
    "ax3.set_xticks([280,300,320])\n",
    "ax3.set_xticklabels(xticks_format)\n",
    "ax3.set_xlim(275.,325.)\n",
    "ax3.set_ylim(datetime.datetime(1979,1,1),datetime.datetime(1979,1,11))\n",
    "ax3.set_yticks(time_datetimes[[t.hour==0 for t in time_datetimes]])\n",
    "ax3.yaxis.set_major_formatter(matplotlib.dates.DateFormatter('%d'))\n",
    "ax3.tick_params(labelsize=fontsize)\n",
    "\n",
    "fig.tight_layout()\n",
    "\n",
    "ax1_pos = ax1.get_position()\n",
    "ax2_pos = ax2.get_position()\n",
    "ax3_pos = ax3.get_position()\n",
    "\n",
    "cbar1_ax = fig.add_axes([ax1_pos.x0,ax1_pos.y0-0.12,ax2_pos.x1-ax1_pos.x0,0.03])\n",
    "cbar1 = mp.colorbar(contour_plot, cax=cbar1_ax, orientation='horizontal')\n",
    "cbar1_ax.tick_params(labelsize=fontsize)\n",
    "cbar1.set_ticks([-1.,-.5,-0.25,0,0.25,.5,1])\n",
    "cbar1_ax.axvline(cbar1_ax.get_xticks()[2],lw=0.5,c='0.1',ls='--')\n",
    "cbar1_ax.axvline(cbar1_ax.get_xticks()[4],lw=0.5,c='0.1',ls='--')\n",
    "cbar1.set_label('kJ kg$^{\\,-1}$', fontsize=fontsize)\n",
    "\n",
    "\n",
    "\n",
    "cbar2_ax = fig.add_axes([ax3_pos.x0,ax3_pos.y0-0.12,ax3_pos.width,0.03])\n",
    "cbar2 = mp.colorbar(contour_rain, cax=cbar2_ax, orientation='horizontal')\n",
    "cbar2_ax.tick_params(labelsize=fontsize)\n",
    "cbar2.set_ticks([-3,-2,-1,0,1,2,3])\n",
    "#cbar2_ax.axvline(cbar2_ax.get_xticks()[2],lw=0.5,c='0.1',ls='--')\n",
    "#cbar2_ax.axvline(cbar2_ax.get_xticks()[4],lw=0.5,c='0.1',ls='--')\n",
    "cbar2.set_label('mm day$^{\\,-1}$', fontsize=fontsize)\n",
    "\n",
    "\n",
    "\n",
    "ax1_orog = fig.add_axes([ax1_pos.x0,ax1_pos.y0,ax1_pos.width,ax1_pos.height*0.2])\n",
    "ax1_orog.axis('off')\n",
    "ax1_orog.plot(xlong[0,:]+360., HGT_M_lat_subset_mean/1000., lw=1.5, ls='--', c='0.1')#, alpha=0.5)\n",
    "ax1_orog.set_xlim(ax1.get_xlim())\n",
    "\n",
    "ax2_orog = fig.add_axes([ax2_pos.x0,ax2_pos.y0,ax2_pos.width,ax2_pos.height*0.2])\n",
    "ax2_orog.axis('off')\n",
    "ax2_orog.plot(xlong[0,:]+360., HGT_M_lat_subset_mean/1000., lw=1.5, ls='--', c='0.1')#, alpha=0.5)\n",
    "ax2_orog.set_xlim(ax2.get_xlim())#xlong.min()+55.+360.,xlong.max()+360.)\n",
    "\n",
    "ax3_orog = fig.add_axes([ax3_pos.x0,ax3_pos.y0,ax3_pos.width,ax3_pos.height*0.2])\n",
    "ax3_orog.axis('off')\n",
    "ax3_orog.plot(xlong[0,:]+360., HGT_M_lat_subset_mean/1000., lw=1.5, ls='--', c='0.1')#, alpha=0.5)\n",
    "ax3_orog.set_xlim(ax1.get_xlim())\n",
    "\n",
    "ax1.yaxis.grid(True,linestyle='-',c='0.25',lw=0.5)\n",
    "ax2.yaxis.grid(True,linestyle='-',c='0.25',lw=0.5)\n",
    "ax3.yaxis.grid(True,linestyle='-',c='0.25',lw=0.5)\n",
    "ax1.xaxis.grid(True,linestyle='-',c='0.25',lw=0.5)\n",
    "ax2.xaxis.grid(True,linestyle='-',c='0.25',lw=0.5)\n",
    "ax3.xaxis.grid(True,linestyle='-',c='0.25',lw=0.5)\n",
    "\n",
    "speed1 = 2.3 #6.3 # m/s\n",
    "dt = 86400. # seconds\n",
    "dx = dt*speed1\n",
    "slope1 = dt/-dx # sec/meter\n",
    "intercept1 = 10*dt\n",
    "xvals1 = numpy.linspace(ax1.get_xlim()[0],ax1.get_xlim()[1],100)\n",
    "xvals1_m = xvals1*50000.\n",
    "yvals1 = slope1*(xvals1_m-ax2.get_xlim()[0]*50000) + intercept1\n",
    "start_date = datetime.datetime(1979,1,1,0)\n",
    "yvals1_datetime = [start_date + datetime.timedelta(seconds=int(t)) for t in yvals1]\n",
    "\n",
    "speed2 = 5.1 #6.3 # m/s\n",
    "dt = 86400. # seconds\n",
    "dx = dt*speed2\n",
    "slope2 = dt/-dx # sec/meter\n",
    "intercept2 = 7.*dt\n",
    "xvals2 = numpy.linspace(ax2.get_xlim()[0],ax2.get_xlim()[1],100)\n",
    "xvals2_m = xvals2*50000.\n",
    "yvals2 = slope2*(xvals2_m-ax2.get_xlim()[0]*50000) + intercept2\n",
    "start_date = datetime.datetime(1979,1,1,0)\n",
    "yvals2_datetime = [start_date + datetime.timedelta(seconds=int(t)) for t in yvals2]\n",
    "\n",
    "\n",
    "ax1.plot(xvals1,yvals1_datetime,lw=0.75,ls='--',c='0.1')\n",
    "ax1.plot(xvals2,yvals2_datetime,lw=0.75,ls='--',c='0.1')\n",
    "\n",
    "ax2.plot(xvals1,yvals1_datetime,lw=0.75,ls='--',c='0.1')\n",
    "ax2.plot(xvals2,yvals2_datetime,lw=0.75,ls='--',c='0.1')\n",
    "\n",
    "ax3.plot(xvals1,yvals1_datetime,lw=0.75,ls='--',c='0.1')\n",
    "ax3.plot(xvals2,yvals2_datetime,lw=0.75,ls='--',c='0.1')\n",
    "\n",
    "plot_ratio = ax2.get_data_ratio()\n",
    "\n",
    "slope_rotation1 = numpy.degrees(numpy.arctan(slope1/plot_ratio))\n",
    "ax2.text(s='$-\\,$'+str(speed1)+' m s$^{\\,-1}$',x=0.69,y=0.2,transform=ax2.transAxes,\\\n",
    "         ha='center',\\\n",
    "         va='center',\\\n",
    "         fontsize=fontsize,\\\n",
    "         rotation=slope_rotation1+4)\n",
    "\n",
    "slope_rotation2 = numpy.degrees(numpy.arctan(slope2/plot_ratio))\n",
    "ax2.text(s='$-\\,$'+str(speed2)+' m s$^{\\,-1}$',x=0.755,y=0.31,transform=ax2.transAxes,\\\n",
    "         ha='center',\\\n",
    "         va='center',\\\n",
    "         fontsize=fontsize,\\\n",
    "         rotation=slope_rotation2+4)\n",
    "\n",
    "fig.savefig('figureXX_hovmoller_with_rain_diffs.png',dpi=600,bbox_inches='tight',transparent=True)"
   ]
  },
  {
   "cell_type": "code",
   "execution_count": null,
   "metadata": {
    "ExecuteTime": {
     "end_time": "2018-03-09T17:03:08.179983Z",
     "start_time": "2018-03-09T16:47:02.371Z"
    },
    "hidden": true
   },
   "outputs": [],
   "source": [
    "first5days_indices = [t.day in range(1,6) for t in time_datetimes]"
   ]
  },
  {
   "cell_type": "code",
   "execution_count": null,
   "metadata": {
    "ExecuteTime": {
     "end_time": "2018-03-09T17:03:08.182208Z",
     "start_time": "2018-03-09T16:47:02.377Z"
    },
    "hidden": true
   },
   "outputs": [],
   "source": [
    "fontsize=12\n",
    "fig = mp.figure(figsize=(7.5,4))\n",
    "\n",
    "ax1=fig.add_subplot(131)\n",
    "\n",
    "levels=numpy.arange(-1,1.1,0.125)\n",
    "levels_precip = numpy.arange(-3,3.1,0.5)\n",
    "\n",
    "contour_plot = ax1.contourf(xlong[0,:]+360.,time_datetimes,\\\n",
    "                           mse_diffs_lat_subset_0_1km_latmean/1000.,\\\n",
    "                           cmap='PuOr_r',\\\n",
    "                           levels=levels,\\\n",
    "                           extend='both')\n",
    "contour_line = ax1.contour(xlong[0,:]+360.,time_datetimes,\\\n",
    "                           mse_diffs_lat_subset_0_1km_latmean/1000.,\\\n",
    "                           levels=[-0.25,0.25],\\\n",
    "                           colors='0.1',\\\n",
    "                           linestyles=['--'],\\\n",
    "                           linewidths=[0.5])\n",
    "ax1.set_ylabel('day', fontsize=fontsize)\n",
    "ax1.text(s='(a) $\\Delta$ MSE in $0-1$ km', x=0, y=1.02,\\\n",
    "         fontsize=fontsize, transform=ax1.transAxes)\n",
    "\n",
    "ax1.set_xticks([280,300,320])\n",
    "ax1.set_xticklabels(xticks_format)\n",
    "ax1.set_xlim(275.,325.)\n",
    "ax1.set_ylim(datetime.datetime(1979,1,1),datetime.datetime(1979,1,6))\n",
    "ax1.set_yticks(time_datetimes[first5days_indices][[t.hour==0 for t in time_datetimes[first5days_indices]]])\n",
    "ax1.yaxis.set_major_formatter(matplotlib.dates.DateFormatter('%d'))\n",
    "ax1.tick_params(labelsize=fontsize)\n",
    "\n",
    "\n",
    "\n",
    "\n",
    "ax2=fig.add_subplot(132)\n",
    "contour_plot = ax2.contourf(xlong[0,:]+360.,time_datetimes,\\\n",
    "                           mse_diffs_lat_subset_1_3km_latmean/1000.,\\\n",
    "                           cmap='PuOr_r',\\\n",
    "                           levels=levels,\\\n",
    "                           extend='both')\n",
    "contour_line = ax2.contour(xlong[0,:]+360.,time_datetimes,\\\n",
    "                           mse_diffs_lat_subset_1_3km_latmean/1000.,\\\n",
    "                           levels=[-0.25,0.25],\\\n",
    "                           colors='0.1',\\\n",
    "                           linestyles=['--'],\\\n",
    "                           linewidths=[0.5])\n",
    "\n",
    "ax2.text(s='(b) $\\Delta$ MSE in $1-3$ km', x=0, y=1.02,\\\n",
    "         fontsize=fontsize, transform=ax2.transAxes)\n",
    "ax2.set_xticks([280,300,320])\n",
    "ax2.set_xticklabels(xticks_format)\n",
    "ax2.set_xlim(275.,325.)\n",
    "ax2.set_ylim(datetime.datetime(1979,1,1),datetime.datetime(1979,1,6))\n",
    "ax2.set_yticks(time_datetimes[first5days_indices][[t.hour==0 for t in time_datetimes[first5days_indices]]])\n",
    "ax2.yaxis.set_major_formatter(matplotlib.dates.DateFormatter('%d'))\n",
    "ax2.tick_params(labelsize=fontsize)\n",
    "\n",
    "ax3 = fig.add_subplot(133)\n",
    "contour_rain = ax3.contourf(xlong[0,:]+360.,time_datetimes,\\\n",
    "                           raintot_hourly_diffs_lat_subset_latmean*24.,\\\n",
    "                           levels=levels_precip,\\\n",
    "                           cmap='BrBG', extend='both')\n",
    "# contour_rain = ax3.pcolor(xlong[0,:]+360.,time_datetimes,\\\n",
    "#                            raintot_hourly_diffs_lat_subset_latmean*24.,\\\n",
    "#                            vmin=levels_precip.min(),vmax=levels_precip.max(),\\\n",
    "#                            cmap='BrBG',snap=True)\n",
    "ax3.text(s='(c) $\\Delta$ precipitation', x=0, y=1.02,\\\n",
    "         fontsize=fontsize, transform=ax3.transAxes)\n",
    "ax3.set_xticks([280,300,320])\n",
    "ax3.set_xticklabels(xticks_format)\n",
    "ax3.set_xlim(275.,325.)\n",
    "ax3.set_ylim(datetime.datetime(1979,1,1),datetime.datetime(1979,1,6))\n",
    "ax3.set_yticks(time_datetimes[first5days_indices][[t.hour==0 for t in time_datetimes[first5days_indices]]])\n",
    "ax3.yaxis.set_major_formatter(matplotlib.dates.DateFormatter('%d'))\n",
    "ax3.tick_params(labelsize=fontsize)\n",
    "\n",
    "fig.tight_layout()\n",
    "\n",
    "ax1_pos = ax1.get_position()\n",
    "ax2_pos = ax2.get_position()\n",
    "ax3_pos = ax3.get_position()\n",
    "\n",
    "cbar1_ax = fig.add_axes([ax1_pos.x0,ax1_pos.y0-0.12,ax2_pos.x1-ax1_pos.x0,0.03])\n",
    "cbar1 = mp.colorbar(contour_plot, cax=cbar1_ax, orientation='horizontal')\n",
    "cbar1_ax.tick_params(labelsize=fontsize)\n",
    "cbar1.set_ticks([-1.,-.5,-0.25,0,0.25,.5,1])\n",
    "cbar1_ax.axvline(cbar1_ax.get_xticks()[2],lw=0.5,c='0.1',ls='--')\n",
    "cbar1_ax.axvline(cbar1_ax.get_xticks()[4],lw=0.5,c='0.1',ls='--')\n",
    "cbar1.set_label('kJ kg$^{\\,-1}$', fontsize=fontsize)\n",
    "\n",
    "\n",
    "\n",
    "cbar2_ax = fig.add_axes([ax3_pos.x0,ax3_pos.y0-0.12,ax3_pos.width,0.03])\n",
    "cbar2 = mp.colorbar(contour_rain, cax=cbar2_ax, orientation='horizontal')\n",
    "cbar2_ax.tick_params(labelsize=fontsize)\n",
    "cbar2.set_ticks([-3,-2,-1,0,1,2,3])\n",
    "#cbar2_ax.axvline(cbar2_ax.get_xticks()[2],lw=0.5,c='0.1',ls='--')\n",
    "#cbar2_ax.axvline(cbar2_ax.get_xticks()[4],lw=0.5,c='0.1',ls='--')\n",
    "cbar2.set_label('mm day$^{\\,-1}$', fontsize=fontsize)\n",
    "\n",
    "\n",
    "\n",
    "ax1_orog = fig.add_axes([ax1_pos.x0,ax1_pos.y0,ax1_pos.width,ax1_pos.height*0.2])\n",
    "ax1_orog.axis('off')\n",
    "ax1_orog.plot(xlong[0,:]+360., HGT_M_lat_subset_mean/1000., lw=1.5, ls='--', c='0.1')#, alpha=0.5)\n",
    "ax1_orog.set_xlim(ax1.get_xlim())\n",
    "\n",
    "ax2_orog = fig.add_axes([ax2_pos.x0,ax2_pos.y0,ax2_pos.width,ax2_pos.height*0.2])\n",
    "ax2_orog.axis('off')\n",
    "ax2_orog.plot(xlong[0,:]+360., HGT_M_lat_subset_mean/1000., lw=1.5, ls='--', c='0.1')#, alpha=0.5)\n",
    "ax2_orog.set_xlim(ax2.get_xlim())#xlong.min()+55.+360.,xlong.max()+360.)\n",
    "\n",
    "ax3_orog = fig.add_axes([ax3_pos.x0,ax3_pos.y0,ax3_pos.width,ax3_pos.height*0.2])\n",
    "ax3_orog.axis('off')\n",
    "ax3_orog.plot(xlong[0,:]+360., HGT_M_lat_subset_mean/1000., lw=1.5, ls='--', c='0.1')#, alpha=0.5)\n",
    "ax3_orog.set_xlim(ax1.get_xlim())\n",
    "\n",
    "ax1.yaxis.grid(True,linestyle='-',c='0.25',lw=0.5)\n",
    "ax2.yaxis.grid(True,linestyle='-',c='0.25',lw=0.5)\n",
    "ax3.yaxis.grid(True,linestyle='-',c='0.25',lw=0.5)\n",
    "ax1.xaxis.grid(True,linestyle='-',c='0.25',lw=0.5)\n",
    "ax2.xaxis.grid(True,linestyle='-',c='0.25',lw=0.5)\n",
    "ax3.xaxis.grid(True,linestyle='-',c='0.25',lw=0.5)\n",
    "\n",
    "speed1 = 2.3 #6.3 # m/s\n",
    "dt = 86400. # seconds\n",
    "dx = dt*speed1\n",
    "slope1 = dt/-dx # sec/meter\n",
    "intercept1 = 10*dt\n",
    "xvals1 = numpy.linspace(ax1.get_xlim()[0],ax1.get_xlim()[1],100)\n",
    "xvals1_m = xvals1*50000.\n",
    "yvals1 = slope1*(xvals1_m-ax2.get_xlim()[0]*50000) + intercept1\n",
    "start_date = datetime.datetime(1979,1,1,0)\n",
    "yvals1_datetime = [start_date + datetime.timedelta(seconds=int(t)) for t in yvals1]\n",
    "\n",
    "speed2 = 5.1 #6.3 # m/s\n",
    "dt = 86400. # seconds\n",
    "dx = dt*speed2\n",
    "slope2 = dt/-dx # sec/meter\n",
    "intercept2 = 7.*dt\n",
    "xvals2 = numpy.linspace(ax2.get_xlim()[0],ax2.get_xlim()[1],100)\n",
    "xvals2_m = xvals2*50000.\n",
    "yvals2 = slope2*(xvals2_m-ax2.get_xlim()[0]*50000) + intercept2\n",
    "start_date = datetime.datetime(1979,1,1,0)\n",
    "yvals2_datetime = [start_date + datetime.timedelta(seconds=int(t)) for t in yvals2]\n",
    "\n",
    "\n",
    "# ax1.plot(xvals1,yvals1_datetime,lw=0.75,ls='--',c='0.1')\n",
    "# ax1.plot(xvals2,yvals2_datetime,lw=0.75,ls='--',c='0.1')\n",
    "\n",
    "# ax2.plot(xvals1,yvals1_datetime,lw=0.75,ls='--',c='0.1')\n",
    "# ax2.plot(xvals2,yvals2_datetime,lw=0.75,ls='--',c='0.1')\n",
    "\n",
    "# ax3.plot(xvals1,yvals1_datetime,lw=0.75,ls='--',c='0.1')\n",
    "# ax3.plot(xvals2,yvals2_datetime,lw=0.75,ls='--',c='0.1')\n",
    "\n",
    "# plot_ratio = ax2.get_data_ratio()\n",
    "\n",
    "# slope_rotation1 = numpy.degrees(numpy.arctan(slope1/plot_ratio))\n",
    "# ax2.text(s='$-\\,$'+str(speed1)+' m s$^{\\,-1}$',x=0.69,y=0.2,transform=ax2.transAxes,\\\n",
    "#          ha='center',\\\n",
    "#          va='center',\\\n",
    "#          fontsize=fontsize,\\\n",
    "#          rotation=slope_rotation1+4)\n",
    "\n",
    "# slope_rotation2 = numpy.degrees(numpy.arctan(slope2/plot_ratio))\n",
    "# ax2.text(s='$-\\,$'+str(speed2)+' m s$^{\\,-1}$',x=0.755,y=0.31,transform=ax2.transAxes,\\\n",
    "#          ha='center',\\\n",
    "#          va='center',\\\n",
    "#          fontsize=fontsize,\\\n",
    "#          rotation=slope_rotation2+4)\n",
    "\n",
    "fig.savefig('figureXX_hovmoller_with_rain_diffs_first5days.png',dpi=600,bbox_inches='tight',transparent=True)"
   ]
  },
  {
   "cell_type": "code",
   "execution_count": null,
   "metadata": {
    "ExecuteTime": {
     "end_time": "2018-03-09T17:03:08.184849Z",
     "start_time": "2018-03-09T16:47:02.383Z"
    },
    "hidden": true
   },
   "outputs": [],
   "source": [
    "fontsize=12\n",
    "fig = mp.figure(figsize=(7.5,4))\n",
    "\n",
    "ax1=fig.add_subplot(131)\n",
    "\n",
    "levels=numpy.arange(-1,1.1,0.125)\n",
    "levels_precip = numpy.arange(-5,5.1,0.5)\n",
    "\n",
    "contour_plot = ax1.contourf(xlong[0,:]+360.,time_datetimes,\\\n",
    "                           mse_diffs_lat_subset_0_1km_latmean/1000.,\\\n",
    "                           cmap='PuOr_r',\\\n",
    "                           levels=levels,\\\n",
    "                           extend='both')\n",
    "contour_line = ax1.contour(xlong[0,:]+360.,time_datetimes,\\\n",
    "                           mse_diffs_lat_subset_0_1km_latmean/1000.,\\\n",
    "                           levels=[-0.25,0.25],\\\n",
    "                           colors='0.1',\\\n",
    "                           linestyles=['--'],\\\n",
    "                           linewidths=[0.5])\n",
    "ax1.set_ylabel('day', fontsize=fontsize)\n",
    "ax1.text(s='(a) $\\Delta$ MSE in $0-1$ km', x=0, y=1.02,\\\n",
    "         fontsize=fontsize, transform=ax1.transAxes)\n",
    "\n",
    "ax1.set_xticks([280,300,320])\n",
    "ax1.set_xticklabels(xticks_format)\n",
    "ax1.set_xlim(275.,325.)\n",
    "ax1.set_ylim(datetime.datetime(1979,1,1),datetime.datetime(1979,1,11))\n",
    "ax1.set_yticks(time_datetimes[[t.hour==0 for t in time_datetimes]])\n",
    "ax1.yaxis.set_major_formatter(matplotlib.dates.DateFormatter('%d'))\n",
    "ax1.tick_params(labelsize=fontsize)\n",
    "\n",
    "\n",
    "\n",
    "\n",
    "ax2=fig.add_subplot(132)\n",
    "contour_plot = ax2.contourf(xlong[0,:]+360.,time_datetimes,\\\n",
    "                           mse_diffs_lat_subset_1_3km_latmean/1000.,\\\n",
    "                           cmap='PuOr_r',\\\n",
    "                           levels=levels,\\\n",
    "                           extend='both')\n",
    "contour_line = ax2.contour(xlong[0,:]+360.,time_datetimes,\\\n",
    "                           mse_diffs_lat_subset_1_3km_latmean/1000.,\\\n",
    "                           levels=[-0.25,0.25],\\\n",
    "                           colors='0.1',\\\n",
    "                           linestyles=['--'],\\\n",
    "                           linewidths=[0.5])\n",
    "\n",
    "ax2.text(s='(b) $\\Delta$ MSE in $1-3$ km', x=0, y=1.02,\\\n",
    "         fontsize=fontsize, transform=ax2.transAxes)\n",
    "ax2.set_xticks([280,300,320])\n",
    "ax2.set_xticklabels(xticks_format)\n",
    "ax2.set_xlim(275.,325.)\n",
    "ax2.set_ylim(datetime.datetime(1979,1,1),datetime.datetime(1979,1,11))\n",
    "ax2.set_yticks(time_datetimes[[t.hour==0 for t in time_datetimes]])\n",
    "ax2.yaxis.set_major_formatter(matplotlib.dates.DateFormatter('%d'))\n",
    "ax2.tick_params(labelsize=fontsize)\n",
    "\n",
    "ax3 = fig.add_subplot(133)\n",
    "contour_rain = ax3.contourf(xlong[0,:]+360.,time_datetimes,\\\n",
    "                           raintot_diffs_lat_subset_latmean,\\\n",
    "                           levels=levels_precip,\\\n",
    "                           cmap='BrBG', extend='both')\n",
    "# contour_rain = ax3.pcolor(xlong[0,:]+360.,time_datetimes,\\\n",
    "#                            raintot_hourly_diffs_lat_subset_latmean*24.,\\\n",
    "#                            vmin=levels_precip.min(),vmax=levels_precip.max(),\\\n",
    "#                            cmap='BrBG',snap=True)\n",
    "ax3.text(s='(c) $\\Delta$ accum. precip.', x=0, y=1.02,\\\n",
    "         fontsize=fontsize, transform=ax3.transAxes)\n",
    "ax3.set_xticks([280,300,320])\n",
    "ax3.set_xticklabels(xticks_format)\n",
    "ax3.set_xlim(275.,325.)\n",
    "ax3.set_ylim(datetime.datetime(1979,1,1),datetime.datetime(1979,1,11))\n",
    "ax3.set_yticks(time_datetimes[[t.hour==0 for t in time_datetimes]])\n",
    "ax3.yaxis.set_major_formatter(matplotlib.dates.DateFormatter('%d'))\n",
    "ax3.tick_params(labelsize=fontsize)\n",
    "\n",
    "fig.tight_layout()\n",
    "\n",
    "ax1_pos = ax1.get_position()\n",
    "ax2_pos = ax2.get_position()\n",
    "ax3_pos = ax3.get_position()\n",
    "\n",
    "cbar1_ax = fig.add_axes([ax1_pos.x0,ax1_pos.y0-0.12,ax2_pos.x1-ax1_pos.x0,0.03])\n",
    "cbar1 = mp.colorbar(contour_plot, cax=cbar1_ax, orientation='horizontal')\n",
    "cbar1_ax.tick_params(labelsize=fontsize)\n",
    "cbar1.set_ticks([-1.,-.5,-0.25,0,0.25,.5,1])\n",
    "cbar1_ax.axvline(cbar1_ax.get_xticks()[2],lw=0.5,c='0.1',ls='--')\n",
    "cbar1_ax.axvline(cbar1_ax.get_xticks()[4],lw=0.5,c='0.1',ls='--')\n",
    "cbar1.set_label('kJ kg$^{\\,-1}$', fontsize=fontsize)\n",
    "\n",
    "\n",
    "\n",
    "cbar2_ax = fig.add_axes([ax3_pos.x0,ax3_pos.y0-0.12,ax3_pos.width,0.03])\n",
    "cbar2 = mp.colorbar(contour_rain, cax=cbar2_ax, orientation='horizontal')\n",
    "cbar2_ax.tick_params(labelsize=fontsize)\n",
    "cbar2.set_ticks([-5,-2.5,0,2.5,5])\n",
    "#cbar2_ax.axvline(cbar2_ax.get_xticks()[2],lw=0.5,c='0.1',ls='--')\n",
    "#cbar2_ax.axvline(cbar2_ax.get_xticks()[4],lw=0.5,c='0.1',ls='--')\n",
    "cbar2.set_label('mm', fontsize=fontsize)\n",
    "\n",
    "\n",
    "\n",
    "ax1_orog = fig.add_axes([ax1_pos.x0,ax1_pos.y0,ax1_pos.width,ax1_pos.height*0.2])\n",
    "ax1_orog.axis('off')\n",
    "ax1_orog.plot(xlong[0,:]+360., HGT_M_lat_subset_mean/1000., lw=1.5, ls='--', c='0.1')#, alpha=0.5)\n",
    "ax1_orog.set_xlim(ax1.get_xlim())\n",
    "\n",
    "ax2_orog = fig.add_axes([ax2_pos.x0,ax2_pos.y0,ax2_pos.width,ax2_pos.height*0.2])\n",
    "ax2_orog.axis('off')\n",
    "ax2_orog.plot(xlong[0,:]+360., HGT_M_lat_subset_mean/1000., lw=1.5, ls='--', c='0.1')#, alpha=0.5)\n",
    "ax2_orog.set_xlim(ax2.get_xlim())#xlong.min()+55.+360.,xlong.max()+360.)\n",
    "\n",
    "ax3_orog = fig.add_axes([ax3_pos.x0,ax3_pos.y0,ax3_pos.width,ax3_pos.height*0.2])\n",
    "ax3_orog.axis('off')\n",
    "ax3_orog.plot(xlong[0,:]+360., HGT_M_lat_subset_mean/1000., lw=1.5, ls='--', c='0.1')#, alpha=0.5)\n",
    "ax3_orog.set_xlim(ax1.get_xlim())\n",
    "\n",
    "ax1.yaxis.grid(True,linestyle='-',c='0.25',lw=0.5)\n",
    "ax2.yaxis.grid(True,linestyle='-',c='0.25',lw=0.5)\n",
    "ax3.yaxis.grid(True,linestyle='-',c='0.25',lw=0.5)\n",
    "ax1.xaxis.grid(True,linestyle='-',c='0.25',lw=0.5)\n",
    "ax2.xaxis.grid(True,linestyle='-',c='0.25',lw=0.5)\n",
    "ax3.xaxis.grid(True,linestyle='-',c='0.25',lw=0.5)\n",
    "\n",
    "speed1 = 2.3 #6.3 # m/s\n",
    "dt = 86400. # seconds\n",
    "dx = dt*speed1\n",
    "slope1 = dt/-dx # sec/meter\n",
    "intercept1 = 10*dt\n",
    "xvals1 = numpy.linspace(ax1.get_xlim()[0],ax1.get_xlim()[1],100)\n",
    "xvals1_m = xvals1*50000.\n",
    "yvals1 = slope1*(xvals1_m-ax2.get_xlim()[0]*50000) + intercept1\n",
    "start_date = datetime.datetime(1979,1,1,0)\n",
    "yvals1_datetime = [start_date + datetime.timedelta(seconds=int(t)) for t in yvals1]\n",
    "\n",
    "speed2 = 5.1 #6.3 # m/s\n",
    "dt = 86400. # seconds\n",
    "dx = dt*speed2\n",
    "slope2 = dt/-dx # sec/meter\n",
    "intercept2 = 7.*dt\n",
    "xvals2 = numpy.linspace(ax2.get_xlim()[0],ax2.get_xlim()[1],100)\n",
    "xvals2_m = xvals2*50000.\n",
    "yvals2 = slope2*(xvals2_m-ax2.get_xlim()[0]*50000) + intercept2\n",
    "start_date = datetime.datetime(1979,1,1,0)\n",
    "yvals2_datetime = [start_date + datetime.timedelta(seconds=int(t)) for t in yvals2]\n",
    "\n",
    "\n",
    "ax1.plot(xvals1,yvals1_datetime,lw=0.75,ls='--',c='0.1')\n",
    "ax1.plot(xvals2,yvals2_datetime,lw=0.75,ls='--',c='0.1')\n",
    "\n",
    "ax2.plot(xvals1,yvals1_datetime,lw=0.75,ls='--',c='0.1')\n",
    "ax2.plot(xvals2,yvals2_datetime,lw=0.75,ls='--',c='0.1')\n",
    "\n",
    "ax3.plot(xvals1,yvals1_datetime,lw=0.75,ls='--',c='0.1')\n",
    "ax3.plot(xvals2,yvals2_datetime,lw=0.75,ls='--',c='0.1')\n",
    "\n",
    "plot_ratio = ax2.get_data_ratio()\n",
    "\n",
    "slope_rotation1 = numpy.degrees(numpy.arctan(slope1/plot_ratio))\n",
    "ax2.text(s='$-\\,$'+str(speed1)+' m s$^{\\,-1}$',x=0.69,y=0.2,transform=ax2.transAxes,\\\n",
    "         ha='center',\\\n",
    "         va='center',\\\n",
    "         fontsize=fontsize,\\\n",
    "         rotation=slope_rotation1+4)\n",
    "\n",
    "slope_rotation2 = numpy.degrees(numpy.arctan(slope2/plot_ratio))\n",
    "ax2.text(s='$-\\,$'+str(speed2)+' m s$^{\\,-1}$',x=0.755,y=0.31,transform=ax2.transAxes,\\\n",
    "         ha='center',\\\n",
    "         va='center',\\\n",
    "         fontsize=fontsize,\\\n",
    "         rotation=slope_rotation2+4)\n",
    "\n",
    "fig.savefig('figureXX_hovmoller_with_SUMMED_rain_diffs.png',dpi=600,bbox_inches='tight',transparent=True)"
   ]
  },
  {
   "cell_type": "code",
   "execution_count": null,
   "metadata": {
    "hidden": true
   },
   "outputs": [],
   "source": []
  },
  {
   "cell_type": "code",
   "execution_count": null,
   "metadata": {
    "hidden": true
   },
   "outputs": [],
   "source": []
  },
  {
   "cell_type": "code",
   "execution_count": null,
   "metadata": {
    "hidden": true
   },
   "outputs": [],
   "source": []
  },
  {
   "cell_type": "code",
   "execution_count": null,
   "metadata": {
    "ExecuteTime": {
     "end_time": "2018-03-09T17:03:08.186844Z",
     "start_time": "2018-03-09T16:47:02.406Z"
    },
    "hidden": true
   },
   "outputs": [],
   "source": [
    "xlong_indices_280_310 = (xlong[0,:]+360. >= 280.) & (xlong[0,:]+360 <= 310.)"
   ]
  },
  {
   "cell_type": "code",
   "execution_count": null,
   "metadata": {
    "ExecuteTime": {
     "end_time": "2018-03-09T17:03:08.189063Z",
     "start_time": "2018-03-09T16:47:02.412Z"
    },
    "hidden": true
   },
   "outputs": [],
   "source": [
    "uwind_mean = u_400_lat_mean[:,[0,1,2,3,4,5],:]\n",
    "uwind_mean = numpy.nanmean(uwind_mean[:,:,xlong_indices_280_310])\n",
    "print(uwind_mean)"
   ]
  },
  {
   "cell_type": "code",
   "execution_count": null,
   "metadata": {
    "ExecuteTime": {
     "end_time": "2018-03-09T17:03:08.191077Z",
     "start_time": "2018-03-09T16:47:02.418Z"
    },
    "hidden": true
   },
   "outputs": [],
   "source": [
    "uwind_mean = u_400_lat_mean[:,[7,8,9,10,11],:]\n",
    "uwind_mean = numpy.nanmean(uwind_mean[:,:,xlong_indices_280_310])\n",
    "print(uwind_mean)"
   ]
  },
  {
   "cell_type": "code",
   "execution_count": null,
   "metadata": {
    "hidden": true
   },
   "outputs": [],
   "source": []
  }
 ],
 "metadata": {
  "kernelspec": {
   "display_name": "Python 3",
   "language": "python",
   "name": "python3"
  },
  "language_info": {
   "codemirror_mode": {
    "name": "ipython",
    "version": 3
   },
   "file_extension": ".py",
   "mimetype": "text/x-python",
   "name": "python",
   "nbconvert_exporter": "python",
   "pygments_lexer": "ipython3",
   "version": "3.6.5"
  },
  "varInspector": {
   "cols": {
    "lenName": 16,
    "lenType": 16,
    "lenVar": 40
   },
   "kernels_config": {
    "python": {
     "delete_cmd_postfix": "",
     "delete_cmd_prefix": "del ",
     "library": "var_list.py",
     "varRefreshCmd": "print(var_dic_list())"
    },
    "r": {
     "delete_cmd_postfix": ") ",
     "delete_cmd_prefix": "rm(",
     "library": "var_list.r",
     "varRefreshCmd": "cat(var_dic_list()) "
    }
   },
   "types_to_exclude": [
    "module",
    "function",
    "builtin_function_or_method",
    "instance",
    "_Feature"
   ],
   "window_display": false
  }
 },
 "nbformat": 4,
 "nbformat_minor": 2
}
